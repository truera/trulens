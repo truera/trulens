{
 "cells": [
  {
   "attachments": {},
   "cell_type": "markdown",
   "metadata": {},
   "source": [
    "# 📓 Answer Relevance Feedback Evaluation\n",
    "In many ways, feedbacks can be thought of as LLM apps themselves. Given text,\n",
    "they return some result. Thinking in this way, we can use _TruLens_ to evaluate\n",
    "and track our feedback quality. We can even do this for different models (e.g.\n",
    "gpt-3.5 and gpt-4) or prompting schemes (such as chain-of-thought reasoning).\n",
    "\n",
    "This notebook follows an evaluation of a set of test cases. You are encouraged\n",
    "to run this on your own and even expand the test cases to evaluate performance\n",
    "on test cases applicable to your scenario or domain."
   ]
  },
  {
   "cell_type": "code",
   "execution_count": null,
   "metadata": {},
   "outputs": [],
   "source": [
    "# Import relevance feedback function\n",
    "from test_cases import answer_relevance_golden_set\n",
    "from trulens.apps.basic import TruBasicApp\n",
    "from trulens.core import Feedback\n",
    "from trulens.core import Select\n",
    "from trulens.core import TruSession\n",
    "from trulens.feedback import GroundTruthAgreement\n",
    "from trulens.providers.litellm import LiteLLM\n",
    "from trulens.providers.openai import OpenAI\n",
    "\n",
    "TruSession().reset_database()"
   ]
  },
  {
   "cell_type": "code",
   "execution_count": null,
   "metadata": {},
   "outputs": [],
   "source": [
    "import os\n",
    "\n",
    "os.environ[\"OPENAI_API_KEY\"] = \"...\"\n",
    "os.environ[\"COHERE_API_KEY\"] = \"...\"\n",
    "os.environ[\"HUGGINGFACE_API_KEY\"] = \"...\"\n",
    "os.environ[\"ANTHROPIC_API_KEY\"] = \"...\"\n",
    "os.environ[\"TOGETHERAI_API_KEY\"] = \"...\""
   ]
  },
  {
   "cell_type": "code",
   "execution_count": null,
   "metadata": {},
   "outputs": [],
   "source": [
    "# GPT 3.5\n",
    "turbo = OpenAI(model_engine=\"gpt-3.5-turbo\")\n",
    "\n",
    "\n",
    "def wrapped_relevance_turbo(input, output):\n",
    "    return turbo.relevance(input, output)\n",
    "\n",
    "\n",
    "# GPT 4\n",
    "gpt4 = OpenAI(model_engine=\"gpt-4\")\n",
    "\n",
    "\n",
    "def wrapped_relevance_gpt4(input, output):\n",
    "    return gpt4.relevance(input, output)\n",
    "\n",
    "\n",
    "# Cohere\n",
    "command_nightly = LiteLLM(model_engine=\"cohere/command-nightly\")\n",
    "\n",
    "\n",
    "def wrapped_relevance_command_nightly(input, output):\n",
    "    return command_nightly.relevance(input, output)\n",
    "\n",
    "\n",
    "# Anthropic\n",
    "claude_1 = LiteLLM(model_engine=\"claude-instant-1\")\n",
    "\n",
    "\n",
    "def wrapped_relevance_claude1(input, output):\n",
    "    return claude_1.relevance(input, output)\n",
    "\n",
    "\n",
    "claude_2 = LiteLLM(model_engine=\"claude-2\")\n",
    "\n",
    "\n",
    "def wrapped_relevance_claude2(input, output):\n",
    "    return claude_2.relevance(input, output)\n",
    "\n",
    "\n",
    "# Meta\n",
    "llama_2_13b = LiteLLM(\n",
    "    model_engine=\"together_ai/togethercomputer/Llama-2-7B-32K-Instruct\"\n",
    ")\n",
    "\n",
    "\n",
    "def wrapped_relevance_llama2(input, output):\n",
    "    return llama_2_13b.relevance(input, output)"
   ]
  },
  {
   "attachments": {},
   "cell_type": "markdown",
   "metadata": {},
   "source": [
    "Here we'll set up our golden set as a set of prompts, responses and expected\n",
    "scores stored in `test_cases.py`. Then, our numeric_difference method will look\n",
    "up the expected score for each prompt/response pair by **exact match**. After\n",
    "looking up the expected score, we will then take the L1 difference between the\n",
    "actual score and expected score."
   ]
  },
  {
   "cell_type": "code",
   "execution_count": null,
   "metadata": {},
   "outputs": [],
   "source": [
    "# Create a Feedback object using the numeric_difference method of the\n",
    "# ground_truth object\n",
    "ground_truth = GroundTruthAgreement(\n",
    "    answer_relevance_golden_set, provider=OpenAI()\n",
    ")\n",
    "\n",
    "# Call the numeric_difference method with app and record and aggregate to get\n",
    "# the mean absolute error\n",
    "f_mae = (\n",
    "    Feedback(ground_truth.absolute_error, name=\"Mean Absolute Error\")\n",
    "    .on(Select.Record.calls[0].args.args[0])\n",
    "    .on(Select.Record.calls[0].args.args[1])\n",
    "    .on_output()\n",
    ")"
   ]
  },
  {
   "cell_type": "code",
   "execution_count": null,
   "metadata": {},
   "outputs": [],
   "source": [
    "tru_wrapped_relevance_turbo = TruBasicApp(\n",
    "    wrapped_relevance_turbo,\n",
    "    app_name=\"answer relevance\",\n",
    "    app_version=\"gpt-3.5-turbo\",\n",
    "    feedbacks=[f_mae],\n",
    ")\n",
    "\n",
    "tru_wrapped_relevance_gpt4 = TruBasicApp(\n",
    "    wrapped_relevance_gpt4,\n",
    "    app_name=\"answer relevance\",\n",
    "    app_version=\"gpt-4\",\n",
    "    feedbacks=[f_mae],\n",
    ")\n",
    "\n",
    "tru_wrapped_relevance_commandnightly = TruBasicApp(\n",
    "    wrapped_relevance_command_nightly,\n",
    "    app_name=\"answer relevance\",\n",
    "    app_version=\"Command-Nightly\",\n",
    "    feedbacks=[f_mae],\n",
    ")\n",
    "\n",
    "tru_wrapped_relevance_claude1 = TruBasicApp(\n",
    "    wrapped_relevance_claude1,\n",
    "    app_name=\"answer relevance\",\n",
    "    app_version=\"Claude 1\",\n",
    "    feedbacks=[f_mae],\n",
    ")\n",
    "\n",
    "tru_wrapped_relevance_claude2 = TruBasicApp(\n",
    "    wrapped_relevance_claude2,\n",
    "    app_name=\"answer relevance\",\n",
    "    app_version=\"Claude 2\",\n",
    "    feedbacks=[f_mae],\n",
    ")\n",
    "\n",
    "tru_wrapped_relevance_llama2 = TruBasicApp(\n",
    "    wrapped_relevance_llama2,\n",
    "    app_name=\"answer relevance\",\n",
    "    app_version=\"Llama-2-13b\",\n",
    "    feedbacks=[f_mae],\n",
    ")"
   ]
  },
  {
   "cell_type": "code",
   "execution_count": null,
   "metadata": {},
   "outputs": [],
   "source": [
    "for i in range(len(answer_relevance_golden_set)):\n",
    "    prompt = answer_relevance_golden_set[i][\"query\"]\n",
    "    response = answer_relevance_golden_set[i][\"response\"]\n",
    "\n",
    "    with tru_wrapped_relevance_turbo as recording:\n",
    "        tru_wrapped_relevance_turbo.app(prompt, response)\n",
    "\n",
    "    with tru_wrapped_relevance_gpt4 as recording:\n",
    "        tru_wrapped_relevance_gpt4.app(prompt, response)\n",
    "\n",
    "    with tru_wrapped_relevance_commandnightly as recording:\n",
    "        tru_wrapped_relevance_commandnightly.app(prompt, response)\n",
    "\n",
    "    with tru_wrapped_relevance_claude1 as recording:\n",
    "        tru_wrapped_relevance_claude1.app(prompt, response)\n",
    "\n",
    "    with tru_wrapped_relevance_claude2 as recording:\n",
    "        tru_wrapped_relevance_claude2.app(prompt, response)\n",
    "\n",
    "    with tru_wrapped_relevance_llama2 as recording:\n",
    "        tru_wrapped_relevance_llama2.app(prompt, response)"
   ]
  },
  {
   "cell_type": "code",
   "execution_count": null,
   "metadata": {},
   "outputs": [],
   "source": [
    "TruSession().get_leaderboard().sort_values(by=\"Mean Absolute Error\")"
   ]
  }
 ],
 "metadata": {
  "kernelspec": {
   "display_name": "Python 3.11.4 ('agents')",
   "language": "python",
   "name": "python3"
  },
  "language_info": {
   "codemirror_mode": {
    "name": "ipython",
    "version": 3
   },
   "file_extension": ".py",
   "mimetype": "text/x-python",
   "name": "python",
   "nbconvert_exporter": "python",
   "pygments_lexer": "ipython3"
  },
  "vscode": {
   "interpreter": {
    "hash": "7d153714b979d5e6d08dd8ec90712dd93bff2c9b6c1f0c118169738af3430cd4"
   }
  }
 },
 "nbformat": 4,
 "nbformat_minor": 2
}
