{
 "cells": [
  {
   "cell_type": "code",
   "execution_count": null,
   "metadata": {},
   "outputs": [],
   "source": [
    "# !pip install ragas"
   ]
  },
  {
   "cell_type": "code",
   "execution_count": null,
   "metadata": {},
   "outputs": [],
   "source": [
    "from datasets import Dataset\n",
    "from ragas import evaluate\n",
    "from ragas.metrics import faithfulness\n",
    "\n",
    "# os.environ[\"OPENAI_API_KEY\"] = ''\n",
    "\n",
    "data_samples = {\n",
    "    \"question\": [\n",
    "        \"When was the first super bowl?\",\n",
    "        \"Who won the most super bowls?\",\n",
    "    ],\n",
    "    \"answer\": [\n",
    "        \"The first superbowl was held on Jan 15, 1967\",\n",
    "        \"The most super bowls have been won by The New England Patriots\",\n",
    "    ],\n",
    "    \"contexts\": [\n",
    "        [\n",
    "            \"The First AFL–NFL World Championship Game was an American football game played on January 15, 1967, at the Los Angeles Memorial Coliseum in Los Angeles,\"\n",
    "        ],\n",
    "        [\n",
    "            \"The Green Bay Packers...Green Bay, Wisconsin.\",\n",
    "            \"The Packers compete...Football Conference\",\n",
    "        ],\n",
    "    ],\n",
    "    \"ground_truth\": [\n",
    "        \"The first superbowl was held on January 15, 1967\",\n",
    "        \"The New England Patriots have won the Super Bowl a record six times\",\n",
    "    ],\n",
    "}\n",
    "\n",
    "dataset = Dataset.from_dict(data_samples)\n",
    "\n",
    "score = evaluate(dataset, metrics=[faithfulness])"
   ]
  },
  {
   "cell_type": "code",
   "execution_count": null,
   "metadata": {},
   "outputs": [],
   "source": [
    "score"
   ]
  }
 ],
 "metadata": {
  "kernelspec": {
   "display_name": "trulens",
   "language": "python",
   "name": "python3"
  },
  "language_info": {
   "codemirror_mode": {
    "name": "ipython",
    "version": 3
   },
   "file_extension": ".py",
   "mimetype": "text/x-python",
   "name": "python",
   "nbconvert_exporter": "python",
   "pygments_lexer": "ipython3"
  }
 },
 "nbformat": 4,
 "nbformat_minor": 2
}
