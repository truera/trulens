{
 "cells": [
  {
   "cell_type": "code",
   "execution_count": null,
   "metadata": {},
   "outputs": [],
   "source": [
    "from trulens.core import TruSession\n",
    "\n",
    "session = TruSession()\n",
    "session.reset_database()"
   ]
  },
  {
   "cell_type": "markdown",
   "metadata": {},
   "source": [
    "### Datasets preprocessing:\n",
    "\n",
    "Datasets that need some preprocessing before they can be used in `TruBenchmarkExperiment` class:\n",
    "1. Snowflake IT (internal): both rephrased and regular?, this should be used for all 3 in the triad\n",
    "2. SummEval (CNN and DailyMail summarizations with annotation) for groundedness\n",
    "3. QAGS (CNN and DailyMail with Turkers' annotation) for groundedness\n",
    "4. QAGS (XSUM with Turkers' annotation) for groundedness\n",
    "5. MSMARCO V2 for context relevance\n",
    "6. HotPot QA for answer relevance \n",
    "\n"
   ]
  },
  {
   "cell_type": "code",
   "execution_count": null,
   "metadata": {},
   "outputs": [],
   "source": [
    "import json\n",
    "\n",
    "\n",
    "# SummEval\n",
    "def generate_summeval_groundedness_golden_set(file_path):\n",
    "    def calculate_expected_score(normalized_metrics_lst, weights_lst):\n",
    "        assert len(normalized_metrics_lst) == len(weights_lst)\n",
    "        return round(\n",
    "            sum(\n",
    "                normalized_metrics_lst[i] * weights_lst[i]\n",
    "                for i in range(len(normalized_metrics_lst))\n",
    "            )\n",
    "            / sum(weights_lst),\n",
    "            2,\n",
    "        )\n",
    "\n",
    "    with open(file_path) as f:\n",
    "        data = json.load(f)\n",
    "\n",
    "    for item in data[\"rows\"]:\n",
    "        row = item[\"row\"]\n",
    "\n",
    "        assert len(row[\"machine_summaries\"]) == len(row[\"consistency\"])\n",
    "\n",
    "        for i in range(len(row[\"machine_summaries\"])):\n",
    "            yield {\n",
    "                \"query\": row[\"text\"],\n",
    "                \"expected_response\": row[\"machine_summaries\"][i],\n",
    "                \"expected_score\": calculate_expected_score(\n",
    "                    [\n",
    "                        (row[\"consistency\"][i] - 1)\n",
    "                        / 4,  # normalize from [1, 5] to [0, 1]\n",
    "                    ],\n",
    "                    [1.0],\n",
    "                ),\n",
    "                \"human_score\": row[\"consistency\"][i],\n",
    "            }"
   ]
  }
 ],
 "metadata": {
  "kernelspec": {
   "display_name": "trulens",
   "language": "python",
   "name": "python3"
  },
  "language_info": {
   "codemirror_mode": {
    "name": "ipython",
    "version": 3
   },
   "file_extension": ".py",
   "mimetype": "text/x-python",
   "name": "python",
   "nbconvert_exporter": "python",
   "pygments_lexer": "ipython3"
  }
 },
 "nbformat": 4,
 "nbformat_minor": 2
}
