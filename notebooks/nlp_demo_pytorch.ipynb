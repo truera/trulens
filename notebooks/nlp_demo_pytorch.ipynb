{
 "cells": [
  {
   "cell_type": "code",
   "execution_count": 1,
   "metadata": {},
   "outputs": [
    {
     "name": "stdout",
     "output_type": "stream",
     "text": [
      "Requirement already satisfied: trulens in /home/piotrm/repos/trulens (0.0.3)\n",
      "\u001b[33mWARNING: You are using pip version 22.0.3; however, version 22.0.4 is available.\n",
      "You should consider upgrading via the '/home/piotrm/anaconda3/envs/demo3/bin/python -m pip install --upgrade pip' command.\u001b[0m\u001b[33m\n",
      "\u001b[0mRequirement already satisfied: transformers in /home/piotrm/anaconda3/envs/demo3/lib/python3.7/site-packages (4.16.2)\n",
      "Requirement already satisfied: packaging>=20.0 in /home/piotrm/anaconda3/envs/demo3/lib/python3.7/site-packages (from transformers) (21.3)\n",
      "Requirement already satisfied: filelock in /home/piotrm/anaconda3/envs/demo3/lib/python3.7/site-packages (from transformers) (3.4.2)\n",
      "Requirement already satisfied: numpy>=1.17 in /home/piotrm/anaconda3/envs/demo3/lib/python3.7/site-packages (from transformers) (1.21.5)\n",
      "Requirement already satisfied: tokenizers!=0.11.3,>=0.10.1 in /home/piotrm/anaconda3/envs/demo3/lib/python3.7/site-packages (from transformers) (0.11.4)\n",
      "Requirement already satisfied: requests in /home/piotrm/anaconda3/envs/demo3/lib/python3.7/site-packages (from transformers) (2.27.1)\n",
      "Requirement already satisfied: pyyaml>=5.1 in /home/piotrm/anaconda3/envs/demo3/lib/python3.7/site-packages (from transformers) (5.4.1)\n",
      "Requirement already satisfied: regex!=2019.12.17 in /home/piotrm/anaconda3/envs/demo3/lib/python3.7/site-packages (from transformers) (2020.11.13)\n",
      "Requirement already satisfied: sacremoses in /home/piotrm/anaconda3/envs/demo3/lib/python3.7/site-packages (from transformers) (0.0.47)\n",
      "Requirement already satisfied: tqdm>=4.27 in /home/piotrm/anaconda3/envs/demo3/lib/python3.7/site-packages (from transformers) (4.62.3)\n",
      "Requirement already satisfied: importlib-metadata in /home/piotrm/anaconda3/envs/demo3/lib/python3.7/site-packages (from transformers) (3.10.0)\n",
      "Requirement already satisfied: huggingface-hub<1.0,>=0.1.0 in /home/piotrm/anaconda3/envs/demo3/lib/python3.7/site-packages (from transformers) (0.4.0)\n",
      "Requirement already satisfied: typing-extensions>=3.7.4.3 in /home/piotrm/anaconda3/envs/demo3/lib/python3.7/site-packages (from huggingface-hub<1.0,>=0.1.0->transformers) (4.0.1)\n",
      "Requirement already satisfied: pyparsing!=3.0.5,>=2.0.2 in /home/piotrm/anaconda3/envs/demo3/lib/python3.7/site-packages (from packaging>=20.0->transformers) (2.4.0)\n",
      "Requirement already satisfied: zipp>=0.5 in /home/piotrm/anaconda3/envs/demo3/lib/python3.7/site-packages (from importlib-metadata->transformers) (0.6.0)\n",
      "Requirement already satisfied: certifi>=2017.4.17 in /home/piotrm/anaconda3/envs/demo3/lib/python3.7/site-packages (from requests->transformers) (2021.10.8)\n",
      "Requirement already satisfied: urllib3<1.27,>=1.21.1 in /home/piotrm/anaconda3/envs/demo3/lib/python3.7/site-packages (from requests->transformers) (1.25.11)\n",
      "Requirement already satisfied: charset-normalizer~=2.0.0 in /home/piotrm/anaconda3/envs/demo3/lib/python3.7/site-packages (from requests->transformers) (2.0.10)\n",
      "Requirement already satisfied: idna<4,>=2.5 in /home/piotrm/anaconda3/envs/demo3/lib/python3.7/site-packages (from requests->transformers) (2.8)\n",
      "Requirement already satisfied: click in /home/piotrm/anaconda3/envs/demo3/lib/python3.7/site-packages (from sacremoses->transformers) (8.0.0)\n",
      "Requirement already satisfied: six in /home/piotrm/anaconda3/envs/demo3/lib/python3.7/site-packages (from sacremoses->transformers) (1.16.0)\n",
      "Requirement already satisfied: joblib in /home/piotrm/anaconda3/envs/demo3/lib/python3.7/site-packages (from sacremoses->transformers) (0.17.0)\n",
      "Requirement already satisfied: more-itertools in /home/piotrm/anaconda3/envs/demo3/lib/python3.7/site-packages (from zipp>=0.5->importlib-metadata->transformers) (7.2.0)\n",
      "\u001b[33mWARNING: You are using pip version 22.0.3; however, version 22.0.4 is available.\n",
      "You should consider upgrading via the '/home/piotrm/anaconda3/envs/demo3/bin/python -m pip install --upgrade pip' command.\u001b[0m\u001b[33m\n",
      "\u001b[0m"
     ]
    }
   ],
   "source": [
    "import sys\n",
    "!{sys.executable} -m pip install trulens\n",
    "!{sys.executable} -m pip install transformers\n",
    "\n",
    "import os\n",
    "os.environ['TRULENS_BACKEND']=\"pytorch\"\n",
    "device = 'cpu'\n",
    "\n",
    "from IPython.display import display\n",
    "import torch"
   ]
  },
  {
   "cell_type": "markdown",
   "metadata": {},
   "source": [
    "# Twitter Sentiment Model\n",
    "\n",
    "[Huggingface](https://huggingface.co/models) offers a variety of pre-trained NLP models to explore. We exemplify in this notebook a [transformer-based twitter sentiment classification model](https://huggingface.co/cardiffnlp/twitter-roberta-base-sentiment). Before getting started, familiarize yourself with the general Truera API as demonstrated in the [intro notebook using pytorch](intro_demo_pytorch.ipynb)."
   ]
  },
  {
   "cell_type": "code",
   "execution_count": 2,
   "metadata": {},
   "outputs": [],
   "source": [
    "from transformers import AutoModelForSequenceClassification\n",
    "from transformers import AutoTokenizer\n",
    "\n",
    "# Wrap all of the necessary components.\n",
    "class TwitterSentiment:\n",
    "    MODEL = f\"cardiffnlp/twitter-roberta-base-sentiment\"\n",
    "\n",
    "    model = AutoModelForSequenceClassification.from_pretrained(MODEL).to(device)\n",
    "    tokenizer = AutoTokenizer.from_pretrained(MODEL)\n",
    "    labels = ['negative', 'neutral', 'positive']\n",
    "\n",
    "    NEGATIVE = labels.index('negative')\n",
    "    NEUTRAL = labels.index('neutral')\n",
    "    POSITIVE = labels.index('positive')\n",
    "\n",
    "task = TwitterSentiment()"
   ]
  },
  {
   "cell_type": "markdown",
   "metadata": {},
   "source": [
    "This model quantifies tweets (or really any text you give it) according to its sentiment: positive, negative, or neutral. Lets try it out on some examples."
   ]
  },
  {
   "cell_type": "code",
   "execution_count": 3,
   "metadata": {},
   "outputs": [
    {
     "name": "stdout",
     "output_type": "stream",
     "text": [
      "{'input_ids': tensor([[   0,  100,  437,   98, 1372,  328,    2,    1,    1,    1,    1,    1,\n",
      "            1],\n",
      "        [   0,  100,  437,   98, 5074,  328,    2,    1,    1,    1,    1,    1,\n",
      "            1],\n",
      "        [   0,  100, 1395, 1137,  549,   38,  197,   28, 1372,   50, 5074,  328,\n",
      "            2],\n",
      "        [   0, 1794,  298,    2,    1,    1,    1,    1,    1,    1,    1,    1,\n",
      "            1]]), 'attention_mask': tensor([[1, 1, 1, 1, 1, 1, 1, 0, 0, 0, 0, 0, 0],\n",
      "        [1, 1, 1, 1, 1, 1, 1, 0, 0, 0, 0, 0, 0],\n",
      "        [1, 1, 1, 1, 1, 1, 1, 1, 1, 1, 1, 1, 1],\n",
      "        [1, 1, 1, 1, 0, 0, 0, 0, 0, 0, 0, 0, 0]])}\n",
      "['<s>', 'I', \"'m\", ' so', ' happy', '!', '</s>', '<pad>', '<pad>', '<pad>', '<pad>', '<pad>', '<pad>', '<s>', 'I', \"'m\", ' so', ' sad', '!', '</s>', '<pad>', '<pad>', '<pad>', '<pad>', '<pad>', '<pad>', '<s>', 'I', ' cannot', ' tell', ' whether', ' I', ' should', ' be', ' happy', ' or', ' sad', '!', '</s>', '<s>', 'me', 'h', '</s>', '<pad>', '<pad>', '<pad>', '<pad>', '<pad>', '<pad>', '<pad>', '<pad>', '<pad>']\n"
     ]
    }
   ],
   "source": [
    "sentences = [\"I'm so happy!\", \"I'm so sad!\", \"I cannot tell whether I should be happy or sad!\", \"meh\"]\n",
    "\n",
    "# Input sentences need to be tokenized first.\n",
    "\n",
    "inputs = task.tokenizer(sentences, padding=True, return_tensors=\"pt\") # pt refers to pytorch tensor\n",
    "\n",
    "# The tokenizer gives us vocabulary indexes for each input token (in this case,\n",
    "# words and some word parts like the \"'m\" part of \"I'm\" are tokens).\n",
    "\n",
    "print(inputs)\n",
    "\n",
    "# Decode helps inspecting the tokenization produced:\n",
    "\n",
    "print(task.tokenizer.batch_decode(torch.flatten(inputs['input_ids'])))\n",
    "# Normally decode would give us a single string for each sentence but we would\n",
    "# not be able to see some of the non-word tokens there. Flattening first gives\n",
    "# us a string for each input_id."
   ]
  },
  {
   "cell_type": "markdown",
   "metadata": {},
   "source": [
    "Evaluating huggingface models is straight-forward if we use the structure produced by the tokenizer."
   ]
  },
  {
   "cell_type": "code",
   "execution_count": 4,
   "metadata": {},
   "outputs": [
    {
     "name": "stdout",
     "output_type": "stream",
     "text": [
      "SequenceClassifierOutput(loss=None, logits=tensor([[-2.3217, -0.8764,  4.0706],\n",
      "        [ 2.5737, -0.4016, -2.1465],\n",
      "        [ 0.5973,  0.3778, -0.7691],\n",
      "        [-0.2267,  0.6011, -0.2009]], grad_fn=<AddmmBackward0>), hidden_states=None, attentions=None)\n",
      "[-2.3217378 -0.8763628  4.0705967] positive I'm so happy!\n",
      "[ 2.5736785  -0.40158105 -2.1465425 ] negative I'm so sad!\n",
      "[ 0.59733623  0.37779403 -0.7691068 ] negative I cannot tell whether I should be happy or sad!\n",
      "[-0.22674142  0.601109   -0.20089385] neutral meh\n"
     ]
    }
   ],
   "source": [
    "outputs = task.model(**inputs)\n",
    "\n",
    "print(outputs)\n",
    "\n",
    "# From logits we can extract the most likely class for each sentence and its readable label.\n",
    "\n",
    "predictions = [task.labels[i] for i in outputs.logits.argmax(axis=1)]\n",
    "\n",
    "for sentence, logits, prediction in zip(sentences, outputs.logits, predictions):\n",
    "    print(logits.detach().numpy(), prediction, sentence)"
   ]
  },
  {
   "cell_type": "markdown",
   "metadata": {},
   "source": [
    "# Model Wrapper\n",
    "\n",
    "As in the prior notebooks, we need to wrap the pytorch model with the appropriate Trulens functionality. Here we specify the maximum input size (in terms of tokens) each tweet may have."
   ]
  },
  {
   "cell_type": "code",
   "execution_count": 5,
   "metadata": {},
   "outputs": [
    {
     "name": "stderr",
     "output_type": "stream",
     "text": [
      "INFO: lib level=1\n",
      "INFO: root level=30\n",
      "INFO: Detected pytorch backend for <class 'transformers.models.roberta.modeling_roberta.RobertaForSequenceClassification'>.\n",
      "INFO: Using backend Backend.PYTORCH.\n",
      "INFO: If this seems incorrect, you can force the correct backend by passing the `backend` parameter directly into your get_model_wrapper call.\n",
      "DEBUG: Input dtype was not passed in. Defaulting to `torch.float32`.\n"
     ]
    }
   ],
   "source": [
    "from trulens.nn.models import get_model_wrapper\n",
    "from trulens.nn.quantities import ClassQoI\n",
    "from trulens.nn.attribution import IntegratedGradients\n",
    "from trulens.nn.attribution import Cut, OutputCut\n",
    "from trulens.utils.typing import ModelInputs\n",
    "\n",
    "task.wrapper = get_model_wrapper(task.model, input_shape=(None, task.tokenizer.model_max_length), device=device)"
   ]
  },
  {
   "cell_type": "markdown",
   "metadata": {
    "nbpresent": {
     "id": "4ed9c783-b745-4c6a-b674-d8b6935dd62d"
    }
   },
   "source": [
    "# Attributions\n",
    "\n",
    "Applying integrated gradents to the sentiment model is similar as in the prior notebooks except special considerations need to be made for the cuts used as the targets of the attribution (i.e. what do we want to assign importance to). As you may have noted above, the model takes as input integer indexes associated with tokens. As we cannot take gradient with respect to these, we use an alternative: the embedding representation of those same inputs. To instantiate trulens with this regard, we need to find inspect the layer names inside our model:"
   ]
  },
  {
   "cell_type": "code",
   "execution_count": 6,
   "metadata": {},
   "outputs": [
    {
     "name": "stdout",
     "output_type": "stream",
     "text": [
      "'roberta_embeddings_word_embeddings':\tEmbedding(50265, 768, padding_idx=1)\n",
      "'roberta_embeddings_position_embeddings':\tEmbedding(514, 768, padding_idx=1)\n",
      "'roberta_embeddings_token_type_embeddings':\tEmbedding(1, 768)\n",
      "'roberta_embeddings_LayerNorm':\tLayerNorm((768,), eps=1e-05, elementwise_affine=True)\n",
      "'roberta_embeddings_dropout':\tDropout(p=0.1, inplace=False)\n",
      "'roberta_encoder_layer_0_attention_self_query':\tLinear(in_features=768, out_features=768, bias=True)\n",
      "'roberta_encoder_layer_0_attention_self_key':\tLinear(in_features=768, out_features=768, bias=True)\n",
      "'roberta_encoder_layer_0_attention_self_value':\tLinear(in_features=768, out_features=768, bias=True)\n",
      "'roberta_encoder_layer_0_attention_self_dropout':\tDropout(p=0.1, inplace=False)\n",
      "'roberta_encoder_layer_0_attention_output_dense':\tLinear(in_features=768, out_features=768, bias=True)\n",
      "'roberta_encoder_layer_0_attention_output_LayerNorm':\tLayerNorm((768,), eps=1e-05, elementwise_affine=True)\n",
      "'roberta_encoder_layer_0_attention_output_dropout':\tDropout(p=0.1, inplace=False)\n",
      "'roberta_encoder_layer_0_intermediate_dense':\tLinear(in_features=768, out_features=3072, bias=True)\n",
      "'roberta_encoder_layer_0_output_dense':\tLinear(in_features=3072, out_features=768, bias=True)\n",
      "'roberta_encoder_layer_0_output_LayerNorm':\tLayerNorm((768,), eps=1e-05, elementwise_affine=True)\n",
      "'roberta_encoder_layer_0_output_dropout':\tDropout(p=0.1, inplace=False)\n",
      "'roberta_encoder_layer_1_attention_self_query':\tLinear(in_features=768, out_features=768, bias=True)\n",
      "'roberta_encoder_layer_1_attention_self_key':\tLinear(in_features=768, out_features=768, bias=True)\n",
      "'roberta_encoder_layer_1_attention_self_value':\tLinear(in_features=768, out_features=768, bias=True)\n",
      "'roberta_encoder_layer_1_attention_self_dropout':\tDropout(p=0.1, inplace=False)\n",
      "'roberta_encoder_layer_1_attention_output_dense':\tLinear(in_features=768, out_features=768, bias=True)\n",
      "'roberta_encoder_layer_1_attention_output_LayerNorm':\tLayerNorm((768,), eps=1e-05, elementwise_affine=True)\n",
      "'roberta_encoder_layer_1_attention_output_dropout':\tDropout(p=0.1, inplace=False)\n",
      "'roberta_encoder_layer_1_intermediate_dense':\tLinear(in_features=768, out_features=3072, bias=True)\n",
      "'roberta_encoder_layer_1_output_dense':\tLinear(in_features=3072, out_features=768, bias=True)\n",
      "'roberta_encoder_layer_1_output_LayerNorm':\tLayerNorm((768,), eps=1e-05, elementwise_affine=True)\n",
      "'roberta_encoder_layer_1_output_dropout':\tDropout(p=0.1, inplace=False)\n",
      "'roberta_encoder_layer_2_attention_self_query':\tLinear(in_features=768, out_features=768, bias=True)\n",
      "'roberta_encoder_layer_2_attention_self_key':\tLinear(in_features=768, out_features=768, bias=True)\n",
      "'roberta_encoder_layer_2_attention_self_value':\tLinear(in_features=768, out_features=768, bias=True)\n",
      "'roberta_encoder_layer_2_attention_self_dropout':\tDropout(p=0.1, inplace=False)\n",
      "'roberta_encoder_layer_2_attention_output_dense':\tLinear(in_features=768, out_features=768, bias=True)\n",
      "'roberta_encoder_layer_2_attention_output_LayerNorm':\tLayerNorm((768,), eps=1e-05, elementwise_affine=True)\n",
      "'roberta_encoder_layer_2_attention_output_dropout':\tDropout(p=0.1, inplace=False)\n",
      "'roberta_encoder_layer_2_intermediate_dense':\tLinear(in_features=768, out_features=3072, bias=True)\n",
      "'roberta_encoder_layer_2_output_dense':\tLinear(in_features=3072, out_features=768, bias=True)\n",
      "'roberta_encoder_layer_2_output_LayerNorm':\tLayerNorm((768,), eps=1e-05, elementwise_affine=True)\n",
      "'roberta_encoder_layer_2_output_dropout':\tDropout(p=0.1, inplace=False)\n",
      "'roberta_encoder_layer_3_attention_self_query':\tLinear(in_features=768, out_features=768, bias=True)\n",
      "'roberta_encoder_layer_3_attention_self_key':\tLinear(in_features=768, out_features=768, bias=True)\n",
      "'roberta_encoder_layer_3_attention_self_value':\tLinear(in_features=768, out_features=768, bias=True)\n",
      "'roberta_encoder_layer_3_attention_self_dropout':\tDropout(p=0.1, inplace=False)\n",
      "'roberta_encoder_layer_3_attention_output_dense':\tLinear(in_features=768, out_features=768, bias=True)\n",
      "'roberta_encoder_layer_3_attention_output_LayerNorm':\tLayerNorm((768,), eps=1e-05, elementwise_affine=True)\n",
      "'roberta_encoder_layer_3_attention_output_dropout':\tDropout(p=0.1, inplace=False)\n",
      "'roberta_encoder_layer_3_intermediate_dense':\tLinear(in_features=768, out_features=3072, bias=True)\n",
      "'roberta_encoder_layer_3_output_dense':\tLinear(in_features=3072, out_features=768, bias=True)\n",
      "'roberta_encoder_layer_3_output_LayerNorm':\tLayerNorm((768,), eps=1e-05, elementwise_affine=True)\n",
      "'roberta_encoder_layer_3_output_dropout':\tDropout(p=0.1, inplace=False)\n",
      "'roberta_encoder_layer_4_attention_self_query':\tLinear(in_features=768, out_features=768, bias=True)\n",
      "'roberta_encoder_layer_4_attention_self_key':\tLinear(in_features=768, out_features=768, bias=True)\n",
      "'roberta_encoder_layer_4_attention_self_value':\tLinear(in_features=768, out_features=768, bias=True)\n",
      "'roberta_encoder_layer_4_attention_self_dropout':\tDropout(p=0.1, inplace=False)\n",
      "'roberta_encoder_layer_4_attention_output_dense':\tLinear(in_features=768, out_features=768, bias=True)\n",
      "'roberta_encoder_layer_4_attention_output_LayerNorm':\tLayerNorm((768,), eps=1e-05, elementwise_affine=True)\n",
      "'roberta_encoder_layer_4_attention_output_dropout':\tDropout(p=0.1, inplace=False)\n",
      "'roberta_encoder_layer_4_intermediate_dense':\tLinear(in_features=768, out_features=3072, bias=True)\n",
      "'roberta_encoder_layer_4_output_dense':\tLinear(in_features=3072, out_features=768, bias=True)\n",
      "'roberta_encoder_layer_4_output_LayerNorm':\tLayerNorm((768,), eps=1e-05, elementwise_affine=True)\n",
      "'roberta_encoder_layer_4_output_dropout':\tDropout(p=0.1, inplace=False)\n",
      "'roberta_encoder_layer_5_attention_self_query':\tLinear(in_features=768, out_features=768, bias=True)\n",
      "'roberta_encoder_layer_5_attention_self_key':\tLinear(in_features=768, out_features=768, bias=True)\n",
      "'roberta_encoder_layer_5_attention_self_value':\tLinear(in_features=768, out_features=768, bias=True)\n",
      "'roberta_encoder_layer_5_attention_self_dropout':\tDropout(p=0.1, inplace=False)\n",
      "'roberta_encoder_layer_5_attention_output_dense':\tLinear(in_features=768, out_features=768, bias=True)\n",
      "'roberta_encoder_layer_5_attention_output_LayerNorm':\tLayerNorm((768,), eps=1e-05, elementwise_affine=True)\n",
      "'roberta_encoder_layer_5_attention_output_dropout':\tDropout(p=0.1, inplace=False)\n",
      "'roberta_encoder_layer_5_intermediate_dense':\tLinear(in_features=768, out_features=3072, bias=True)\n",
      "'roberta_encoder_layer_5_output_dense':\tLinear(in_features=3072, out_features=768, bias=True)\n",
      "'roberta_encoder_layer_5_output_LayerNorm':\tLayerNorm((768,), eps=1e-05, elementwise_affine=True)\n",
      "'roberta_encoder_layer_5_output_dropout':\tDropout(p=0.1, inplace=False)\n",
      "'roberta_encoder_layer_6_attention_self_query':\tLinear(in_features=768, out_features=768, bias=True)\n",
      "'roberta_encoder_layer_6_attention_self_key':\tLinear(in_features=768, out_features=768, bias=True)\n",
      "'roberta_encoder_layer_6_attention_self_value':\tLinear(in_features=768, out_features=768, bias=True)\n",
      "'roberta_encoder_layer_6_attention_self_dropout':\tDropout(p=0.1, inplace=False)\n",
      "'roberta_encoder_layer_6_attention_output_dense':\tLinear(in_features=768, out_features=768, bias=True)\n",
      "'roberta_encoder_layer_6_attention_output_LayerNorm':\tLayerNorm((768,), eps=1e-05, elementwise_affine=True)\n",
      "'roberta_encoder_layer_6_attention_output_dropout':\tDropout(p=0.1, inplace=False)\n",
      "'roberta_encoder_layer_6_intermediate_dense':\tLinear(in_features=768, out_features=3072, bias=True)\n",
      "'roberta_encoder_layer_6_output_dense':\tLinear(in_features=3072, out_features=768, bias=True)\n",
      "'roberta_encoder_layer_6_output_LayerNorm':\tLayerNorm((768,), eps=1e-05, elementwise_affine=True)\n",
      "'roberta_encoder_layer_6_output_dropout':\tDropout(p=0.1, inplace=False)\n",
      "'roberta_encoder_layer_7_attention_self_query':\tLinear(in_features=768, out_features=768, bias=True)\n",
      "'roberta_encoder_layer_7_attention_self_key':\tLinear(in_features=768, out_features=768, bias=True)\n",
      "'roberta_encoder_layer_7_attention_self_value':\tLinear(in_features=768, out_features=768, bias=True)\n",
      "'roberta_encoder_layer_7_attention_self_dropout':\tDropout(p=0.1, inplace=False)\n",
      "'roberta_encoder_layer_7_attention_output_dense':\tLinear(in_features=768, out_features=768, bias=True)\n",
      "'roberta_encoder_layer_7_attention_output_LayerNorm':\tLayerNorm((768,), eps=1e-05, elementwise_affine=True)\n",
      "'roberta_encoder_layer_7_attention_output_dropout':\tDropout(p=0.1, inplace=False)\n",
      "'roberta_encoder_layer_7_intermediate_dense':\tLinear(in_features=768, out_features=3072, bias=True)\n",
      "'roberta_encoder_layer_7_output_dense':\tLinear(in_features=3072, out_features=768, bias=True)\n",
      "'roberta_encoder_layer_7_output_LayerNorm':\tLayerNorm((768,), eps=1e-05, elementwise_affine=True)\n",
      "'roberta_encoder_layer_7_output_dropout':\tDropout(p=0.1, inplace=False)\n",
      "'roberta_encoder_layer_8_attention_self_query':\tLinear(in_features=768, out_features=768, bias=True)\n",
      "'roberta_encoder_layer_8_attention_self_key':\tLinear(in_features=768, out_features=768, bias=True)\n",
      "'roberta_encoder_layer_8_attention_self_value':\tLinear(in_features=768, out_features=768, bias=True)\n",
      "'roberta_encoder_layer_8_attention_self_dropout':\tDropout(p=0.1, inplace=False)\n",
      "'roberta_encoder_layer_8_attention_output_dense':\tLinear(in_features=768, out_features=768, bias=True)\n",
      "'roberta_encoder_layer_8_attention_output_LayerNorm':\tLayerNorm((768,), eps=1e-05, elementwise_affine=True)\n",
      "'roberta_encoder_layer_8_attention_output_dropout':\tDropout(p=0.1, inplace=False)\n",
      "'roberta_encoder_layer_8_intermediate_dense':\tLinear(in_features=768, out_features=3072, bias=True)\n",
      "'roberta_encoder_layer_8_output_dense':\tLinear(in_features=3072, out_features=768, bias=True)\n",
      "'roberta_encoder_layer_8_output_LayerNorm':\tLayerNorm((768,), eps=1e-05, elementwise_affine=True)\n",
      "'roberta_encoder_layer_8_output_dropout':\tDropout(p=0.1, inplace=False)\n",
      "'roberta_encoder_layer_9_attention_self_query':\tLinear(in_features=768, out_features=768, bias=True)\n",
      "'roberta_encoder_layer_9_attention_self_key':\tLinear(in_features=768, out_features=768, bias=True)\n",
      "'roberta_encoder_layer_9_attention_self_value':\tLinear(in_features=768, out_features=768, bias=True)\n",
      "'roberta_encoder_layer_9_attention_self_dropout':\tDropout(p=0.1, inplace=False)\n",
      "'roberta_encoder_layer_9_attention_output_dense':\tLinear(in_features=768, out_features=768, bias=True)\n",
      "'roberta_encoder_layer_9_attention_output_LayerNorm':\tLayerNorm((768,), eps=1e-05, elementwise_affine=True)\n",
      "'roberta_encoder_layer_9_attention_output_dropout':\tDropout(p=0.1, inplace=False)\n",
      "'roberta_encoder_layer_9_intermediate_dense':\tLinear(in_features=768, out_features=3072, bias=True)\n",
      "'roberta_encoder_layer_9_output_dense':\tLinear(in_features=3072, out_features=768, bias=True)\n",
      "'roberta_encoder_layer_9_output_LayerNorm':\tLayerNorm((768,), eps=1e-05, elementwise_affine=True)\n",
      "'roberta_encoder_layer_9_output_dropout':\tDropout(p=0.1, inplace=False)\n",
      "'roberta_encoder_layer_10_attention_self_query':\tLinear(in_features=768, out_features=768, bias=True)\n",
      "'roberta_encoder_layer_10_attention_self_key':\tLinear(in_features=768, out_features=768, bias=True)\n",
      "'roberta_encoder_layer_10_attention_self_value':\tLinear(in_features=768, out_features=768, bias=True)\n",
      "'roberta_encoder_layer_10_attention_self_dropout':\tDropout(p=0.1, inplace=False)\n",
      "'roberta_encoder_layer_10_attention_output_dense':\tLinear(in_features=768, out_features=768, bias=True)\n",
      "'roberta_encoder_layer_10_attention_output_LayerNorm':\tLayerNorm((768,), eps=1e-05, elementwise_affine=True)\n",
      "'roberta_encoder_layer_10_attention_output_dropout':\tDropout(p=0.1, inplace=False)\n",
      "'roberta_encoder_layer_10_intermediate_dense':\tLinear(in_features=768, out_features=3072, bias=True)\n",
      "'roberta_encoder_layer_10_output_dense':\tLinear(in_features=3072, out_features=768, bias=True)\n",
      "'roberta_encoder_layer_10_output_LayerNorm':\tLayerNorm((768,), eps=1e-05, elementwise_affine=True)\n",
      "'roberta_encoder_layer_10_output_dropout':\tDropout(p=0.1, inplace=False)\n",
      "'roberta_encoder_layer_11_attention_self_query':\tLinear(in_features=768, out_features=768, bias=True)\n",
      "'roberta_encoder_layer_11_attention_self_key':\tLinear(in_features=768, out_features=768, bias=True)\n",
      "'roberta_encoder_layer_11_attention_self_value':\tLinear(in_features=768, out_features=768, bias=True)\n",
      "'roberta_encoder_layer_11_attention_self_dropout':\tDropout(p=0.1, inplace=False)\n",
      "'roberta_encoder_layer_11_attention_output_dense':\tLinear(in_features=768, out_features=768, bias=True)\n",
      "'roberta_encoder_layer_11_attention_output_LayerNorm':\tLayerNorm((768,), eps=1e-05, elementwise_affine=True)\n",
      "'roberta_encoder_layer_11_attention_output_dropout':\tDropout(p=0.1, inplace=False)\n",
      "'roberta_encoder_layer_11_intermediate_dense':\tLinear(in_features=768, out_features=3072, bias=True)\n",
      "'roberta_encoder_layer_11_output_dense':\tLinear(in_features=3072, out_features=768, bias=True)\n",
      "'roberta_encoder_layer_11_output_LayerNorm':\tLayerNorm((768,), eps=1e-05, elementwise_affine=True)\n",
      "'roberta_encoder_layer_11_output_dropout':\tDropout(p=0.1, inplace=False)\n",
      "'classifier_dense':\tLinear(in_features=768, out_features=768, bias=True)\n",
      "'classifier_dropout':\tDropout(p=0.1, inplace=False)\n",
      "'classifier_out_proj':\tLinear(in_features=768, out_features=3, bias=True)\n"
     ]
    }
   ],
   "source": [
    "task.wrapper.print_layer_names()"
   ]
  },
  {
   "cell_type": "markdown",
   "metadata": {},
   "source": [
    "## Parameters\n",
    "\n",
    "Above, `roberta_embeddings_word_embeddings` is the layer that produces a continuous representation of each input token so we will use that layer as the one defining the **distribution of interest**. While most neural NLP models contain a token embedding, the layer name will differ.\n",
    "\n",
    "The second thing to note is the form of model outputs. Specifically, outputs are structures which contain a 'logits' attribute that stores the model scores.\n",
    "\n",
    "Putting these things together, we instantiate `IntegratedGradients` to attribute each embedding dimension to the maximum class (i.e. the predicted class)."
   ]
  },
  {
   "cell_type": "code",
   "execution_count": 7,
   "metadata": {},
   "outputs": [],
   "source": [
    "infl_max = IntegratedGradients(\n",
    "    model = task.wrapper,\n",
    "    doi_cut=Cut('roberta_embeddings_word_embeddings'),\n",
    "    qoi_cut=OutputCut(accessor=lambda o: o['logits'])\n",
    ")"
   ]
  },
  {
   "cell_type": "code",
   "execution_count": 8,
   "metadata": {},
   "outputs": [],
   "source": [
    "# Alternatively we can look at a particular class:\n",
    "\n",
    "infl_positive = IntegratedGradients(\n",
    "    model = task.wrapper,\n",
    "    doi_cut=Cut('roberta_embeddings_word_embeddings'),\n",
    "    qoi=ClassQoI(task.POSITIVE),\n",
    "    qoi_cut=OutputCut(accessor=lambda o: o['logits'])\n",
    ")"
   ]
  },
  {
   "cell_type": "markdown",
   "metadata": {},
   "source": [
    "Getting attributions uses the same call as model evaluation."
   ]
  },
  {
   "cell_type": "code",
   "execution_count": 9,
   "metadata": {},
   "outputs": [
    {
     "name": "stderr",
     "output_type": "stream",
     "text": [
      "WARNING: Input tensor tensor([[   0,  100,  437,  ...,    1,    1,    1],\n",
      "        [   0,  100,  437,  ...,    1,    1,    1],\n",
      "        [   0,  100, 1395,  ..., 5074,  328,    2],\n",
      "        ...,\n",
      "        [   0,  100,  437,  ...,    1,    1,    1],\n",
      "        [   0,  100, 1395,  ..., 5074,  328,    2],\n",
      "        [   0, 1794,  298,  ...,    1,    1,    1]]) is not differentiable.\n",
      "WARNING: Input tensor tensor([[1, 1, 1,  ..., 0, 0, 0],\n",
      "        [1, 1, 1,  ..., 0, 0, 0],\n",
      "        [1, 1, 1,  ..., 1, 1, 1],\n",
      "        ...,\n",
      "        [1, 1, 1,  ..., 0, 0, 0],\n",
      "        [1, 1, 1,  ..., 1, 1, 1],\n",
      "        [1, 1, 1,  ..., 0, 0, 0]]) is not differentiable.\n"
     ]
    },
    {
     "name": "stdout",
     "output_type": "stream",
     "text": [
      "<s>(0.044) I(0.121) 'm(0.390)  so(0.823)  happy(1.447) !(0.396) </s>(0.104) <pad>(0.000) <pad>(0.000) <pad>(0.000) <pad>(0.000) <pad>(0.000) <pad>(0.000) \n",
      "<s>(0.058) I(0.000) 'm(0.095)  so(0.112)  sad(0.253) !(0.102) </s>(0.181) <pad>(0.000) <pad>(0.000) <pad>(0.000) <pad>(0.000) <pad>(0.000) <pad>(0.000) \n",
      "<s>(-0.030) I(0.004)  cannot(-0.146)  tell(-0.033)  whether(0.076)  I(-0.038)  should(0.009)  be(-0.074)  happy(-0.315)  or(-0.109)  sad(-0.354) !(-0.178) </s>(-0.028) \n",
      "<s>(-0.036) me(-0.220) h(-0.352) </s>(0.447) <pad>(0.000) <pad>(0.000) <pad>(0.000) <pad>(0.000) <pad>(0.000) <pad>(0.000) <pad>(0.000) <pad>(0.000) <pad>(0.000) \n"
     ]
    }
   ],
   "source": [
    "attrs = infl_max.attributions(**inputs)\n",
    "\n",
    "for token_ids, token_attr in zip(inputs['input_ids'], attrs):\n",
    "    for token_id, token_attr in zip(token_ids, token_attr):\n",
    "        # Not that each `word_attr` has a magnitude for each of the embedding\n",
    "        # dimensions, of which there are many. We aggregate them for easier\n",
    "        # interpretation and display.\n",
    "        attr = token_attr.sum()\n",
    "\n",
    "        word = task.tokenizer.decode(token_id)\n",
    "\n",
    "        print(f\"{word}({attr:0.3f})\", end=' ')\n",
    "\n",
    "    print()"
   ]
  },
  {
   "cell_type": "markdown",
   "metadata": {},
   "source": [
    "A listing as above is not very readable so Trulens comes with some utilities to present token influences a bit more concisely. First we need to set up a few parameters to make use of it:"
   ]
  },
  {
   "cell_type": "code",
   "execution_count": 10,
   "metadata": {},
   "outputs": [
    {
     "name": "stdout",
     "output_type": "stream",
     "text": [
      "QOI = MAX PREDICTION\n"
     ]
    },
    {
     "name": "stderr",
     "output_type": "stream",
     "text": [
      "WARNING: Input tensor tensor([[   0,  100,  437,  ...,    1,    1,    1],\n",
      "        [   0,  100,  437,  ...,    1,    1,    1],\n",
      "        [   0,  100, 1395,  ..., 5074,  328,    2],\n",
      "        ...,\n",
      "        [   0,  100,  437,  ...,    1,    1,    1],\n",
      "        [   0,  100, 1395,  ..., 5074,  328,    2],\n",
      "        [   0, 1794,  298,  ...,    1,    1,    1]]) is not differentiable.\n",
      "WARNING: Input tensor tensor([[1, 1, 1,  ..., 0, 0, 0],\n",
      "        [1, 1, 1,  ..., 0, 0, 0],\n",
      "        [1, 1, 1,  ..., 1, 1, 1],\n",
      "        ...,\n",
      "        [1, 1, 1,  ..., 0, 0, 0],\n",
      "        [1, 1, 1,  ..., 1, 1, 1],\n",
      "        [1, 1, 1,  ..., 0, 0, 0]]) is not differentiable.\n"
     ]
    },
    {
     "data": {
      "text/html": [
       "positive:&nbsp;<span title='0.031' style='color: rgb(251.10093992203474, 255.0, 251.10093992203474);'>&lt;s&gt;</span>&nbsp;<span title='0.124' style='color: rgb(239.23487110063434, 255.0, 239.23487110063434);'>I</span>&nbsp;<span title='0.290' style='color: rgb(217.99191623926163, 255.0, 217.99191623926163);'>&#x27;m</span>&nbsp;<span title='0.480' style='color: rgb(193.75491678714752, 255.0, 193.75491678714752);'> so</span>&nbsp;<span title='0.653' style='color: rgb(171.70983731746674, 255.0, 171.70983731746674);'> happy</span>&nbsp;<span title='0.130' style='color: rgb(238.47253035753965, 255.0, 238.47253035753965);'>!</span>&nbsp;<span title='-0.330' style='color: rgb(255.0, 212.9080930352211, 212.9080930352211);'>&lt;/s&gt;</span>&nbsp;<br/>negative:&nbsp;<span title='-0.003' style='color: rgb(255.0, 254.67171412194148, 254.67171412194148);'>&lt;s&gt;</span>&nbsp;<span title='0.017' style='color: rgb(252.8430455038324, 255.0, 252.8430455038324);'>I</span>&nbsp;<span title='-0.072' style='color: rgb(255.0, 245.8787376433611, 245.8787376433611);'>&#x27;m</span>&nbsp;<span title='0.273' style='color: rgb(220.15787601470947, 255.0, 220.15787601470947);'> so</span>&nbsp;<span title='0.543' style='color: rgb(185.71030765771866, 255.0, 185.71030765771866);'> sad</span>&nbsp;<span title='-0.013' style='color: rgb(255.0, 253.40543551370502, 253.40543551370502);'>!</span>&nbsp;<span title='0.603' style='color: rgb(178.14181298017502, 255.0, 178.14181298017502);'>&lt;/s&gt;</span>&nbsp;<br/>negative:&nbsp;<span title='0.007' style='color: rgb(254.05338766984642, 255.0, 254.05338766984642);'>&lt;s&gt;</span>&nbsp;<span title='-0.003' style='color: rgb(255.0, 254.65528297238052, 254.65528297238052);'>I</span>&nbsp;<span title='-0.145' style='color: rgb(255.0, 236.45825654268265, 236.45825654268265);'> cannot</span>&nbsp;<span title='0.055' style='color: rgb(247.94098673388362, 255.0, 247.94098673388362);'> tell</span>&nbsp;<span title='0.129' style='color: rgb(238.53913888335228, 255.0, 238.53913888335228);'> whether</span>&nbsp;<span title='-0.023' style='color: rgb(255.0, 252.00963978655636, 252.00963978655636);'> I</span>&nbsp;<span title='0.029' style='color: rgb(251.3404838182032, 255.0, 251.3404838182032);'> should</span>&nbsp;<span title='-0.062' style='color: rgb(255.0, 247.151741059497, 247.151741059497);'> be</span>&nbsp;<span title='-0.025' style='color: rgb(255.0, 251.7761017056182, 251.7761017056182);'> happy</span>&nbsp;<span title='-0.064' style='color: rgb(255.0, 246.89043525606394, 246.89043525606394);'> or</span>&nbsp;<span title='-0.263' style='color: rgb(255.0, 221.42449244856834, 221.42449244856834);'> sad</span>&nbsp;<span title='-0.094' style='color: rgb(255.0, 243.0354243144393, 243.0354243144393);'>!</span>&nbsp;<span title='0.189' style='color: rgb(230.9612587094307, 255.0, 230.9612587094307);'>&lt;/s&gt;</span>&nbsp;<br/>neutral:&nbsp;<span title='0.019' style='color: rgb(252.61640262790024, 255.0, 252.61640262790024);'>&lt;s&gt;</span>&nbsp;<span title='0.006' style='color: rgb(254.1868951683864, 255.0, 254.1868951683864);'>me</span>&nbsp;<span title='-0.329' style='color: rgb(255.0, 212.9935998469591, 212.9935998469591);'>h</span>&nbsp;<span title='-0.316' style='color: rgb(255.0, 214.77278217673302, 214.77278217673302);'>&lt;/s&gt;</span>&nbsp;<br/>"
      ],
      "text/plain": [
       "<IPython.core.display.HTML object>"
      ]
     },
     "metadata": {},
     "output_type": "display_data"
    },
    {
     "name": "stderr",
     "output_type": "stream",
     "text": [
      "WARNING: Input tensor tensor([[   0,  100,  437,  ...,    1,    1,    1],\n",
      "        [   0,  100,  437,  ...,    1,    1,    1],\n",
      "        [   0,  100, 1395,  ..., 5074,  328,    2],\n",
      "        ...,\n",
      "        [   0,  100,  437,  ...,    1,    1,    1],\n",
      "        [   0,  100, 1395,  ..., 5074,  328,    2],\n",
      "        [   0, 1794,  298,  ...,    1,    1,    1]]) is not differentiable.\n",
      "WARNING: Input tensor tensor([[1, 1, 1,  ..., 0, 0, 0],\n",
      "        [1, 1, 1,  ..., 0, 0, 0],\n",
      "        [1, 1, 1,  ..., 1, 1, 1],\n",
      "        ...,\n",
      "        [1, 1, 1,  ..., 0, 0, 0],\n",
      "        [1, 1, 1,  ..., 1, 1, 1],\n",
      "        [1, 1, 1,  ..., 0, 0, 0]]) is not differentiable.\n"
     ]
    },
    {
     "name": "stdout",
     "output_type": "stream",
     "text": [
      "QOI = POSITIVE\n"
     ]
    },
    {
     "data": {
      "text/html": [
       "positive:&nbsp;<span title='-0.048' style='color: rgb(255.0, 248.8220397569239, 248.8220397569239);'>&lt;s&gt;</span>&nbsp;<span title='0.166' style='color: rgb(233.77232126891613, 255.0, 233.77232126891613);'>I</span>&nbsp;<span title='0.436' style='color: rgb(199.4578369706869, 255.0, 199.4578369706869);'>&#x27;m</span>&nbsp;<span title='1.168' style='color: rgb(106.04062110185623, 255.0, 106.04062110185623);'> so</span>&nbsp;<span title='2.355' style='color: rgb(-45.29481589794159, 255.0, -45.29481589794159);'> happy</span>&nbsp;<span title='0.798' style='color: rgb(153.30360978841782, 255.0, 153.30360978841782);'>!</span>&nbsp;<span title='1.020' style='color: rgb(124.94177967309952, 255.0, 124.94177967309952);'>&lt;/s&gt;</span>&nbsp;<br/>negative:&nbsp;<span title='-0.081' style='color: rgb(255.0, 244.68529768288136, 244.68529768288136);'>&lt;s&gt;</span>&nbsp;<span title='-0.033' style='color: rgb(255.0, 250.820380076766, 250.820380076766);'>I</span>&nbsp;<span title='0.097' style='color: rgb(242.6625009253621, 255.0, 242.6625009253621);'>&#x27;m</span>&nbsp;<span title='-0.336' style='color: rgb(255.0, 212.18746170401573, 212.18746170401573);'> so</span>&nbsp;<span title='-0.891' style='color: rgb(255.0, 141.35203510522842, 141.35203510522842);'> sad</span>&nbsp;<span title='0.177' style='color: rgb(232.48890213668346, 255.0, 232.48890213668346);'>!</span>&nbsp;<span title='0.282' style='color: rgb(219.0086618810892, 255.0, 219.0086618810892);'>&lt;/s&gt;</span>&nbsp;<br/>negative:&nbsp;<span title='-0.077' style='color: rgb(255.0, 245.15647239983082, 245.15647239983082);'>&lt;s&gt;</span>&nbsp;<span title='-0.079' style='color: rgb(255.0, 244.97785728424788, 244.97785728424788);'>I</span>&nbsp;<span title='-0.713' style='color: rgb(255.0, 164.12965446710587, 164.12965446710587);'> cannot</span>&nbsp;<span title='-0.061' style='color: rgb(255.0, 247.197678219527, 247.197678219527);'> tell</span>&nbsp;<span title='-0.407' style='color: rgb(255.0, 203.06733548641205, 203.06733548641205);'> whether</span>&nbsp;<span title='0.130' style='color: rgb(238.4544262290001, 255.0, 238.4544262290001);'> I</span>&nbsp;<span title='0.229' style='color: rgb(225.86445540189743, 255.0, 225.86445540189743);'> should</span>&nbsp;<span title='0.393' style='color: rgb(204.8862598836422, 255.0, 204.8862598836422);'> be</span>&nbsp;<span title='1.398' style='color: rgb(76.76756948232651, 255.0, 76.76756948232651);'> happy</span>&nbsp;<span title='0.218' style='color: rgb(227.24925879389048, 255.0, 227.24925879389048);'> or</span>&nbsp;<span title='-0.358' style='color: rgb(255.0, 209.31738451123238, 209.31738451123238);'> sad</span>&nbsp;<span title='0.372' style='color: rgb(207.56314024329185, 255.0, 207.56314024329185);'>!</span>&nbsp;<span title='0.372' style='color: rgb(207.62608006596565, 255.0, 207.62608006596565);'>&lt;/s&gt;</span>&nbsp;<br/>neutral:&nbsp;<span title='-0.053' style='color: rgb(255.0, 248.30031397752464, 248.30031397752464);'>&lt;s&gt;</span>&nbsp;<span title='0.379' style='color: rgb(206.67638942599297, 255.0, 206.67638942599297);'>me</span>&nbsp;<span title='-0.057' style='color: rgb(255.0, 247.73791470564902, 247.73791470564902);'>h</span>&nbsp;<span title='0.392' style='color: rgb(205.0506504625082, 255.0, 205.0506504625082);'>&lt;/s&gt;</span>&nbsp;<br/>"
      ],
      "text/plain": [
       "<IPython.core.display.HTML object>"
      ]
     },
     "metadata": {},
     "output_type": "display_data"
    }
   ],
   "source": [
    "from trulens.visualizations import NLP\n",
    "\n",
    "V = NLP(\n",
    "    wrapper=task.wrapper,\n",
    "    labels=task.labels,\n",
    "    decode=lambda x: task.tokenizer.decode(x),\n",
    "    tokenize=lambda sentences: ModelInputs(kwargs=task.tokenizer(sentences, padding=True, return_tensors='pt')),\n",
    "    # huggingface models can take as input the keyword args as per produced by their tokenizers.\n",
    "\n",
    "    input_accessor=lambda x: x.kwargs['input_ids'],\n",
    "    # for huggingface models, input/token ids are under input_ids key in the input dictionary\n",
    "\n",
    "    output_accessor=lambda x: x['logits'],\n",
    "    # and logits under 'logits' key in the output dictionary\n",
    "\n",
    "    hidden_tokens=set([task.tokenizer.pad_token_id])\n",
    "    # do not display these tokens\n",
    ")\n",
    "\n",
    "print(\"QOI = MAX PREDICTION\")\n",
    "display(V.token_attribution(sentences, infl_max))\n",
    "\n",
    "print(\"QOI = POSITIVE\")\n",
    "display(V.token_attribution(sentences, infl_positive))"
   ]
  },
  {
   "cell_type": "markdown",
   "metadata": {},
   "source": [
    "# Baselines\n",
    "\n",
    "We see in the above results that special tokens such as the sentence end **&lt;/s&gt;** contributes are found to contribute a lot to the model outputs. While this may be useful in some contexts, we are more interested in the contributions of the actual words in these sentences. To focus on the words more, we need to adjust the **baseline** used in the integrated gradients computation. By default in the instantiation so far, the baseline for each token is a zero vector of the same shape as its embedding. By making the basaeline be identicaly to the explained instances on special tokens, we can rid their impact from our measurement. Trulens provides a utility for this purpose in terms of `token_baseline` which constructs for you the methods to compute the appropriate baseline. "
   ]
  },
  {
   "cell_type": "code",
   "execution_count": 11,
   "metadata": {},
   "outputs": [],
   "source": [
    "from trulens.utils.nlp import token_baseline\n",
    "\n",
    "inputs_baseline_ids, inputs_baseline_embeddings = token_baseline(\n",
    "    keep_tokens=set([task.tokenizer.cls_token_id, task.tokenizer.sep_token_id]),\n",
    "    # Which tokens to preserve.\n",
    "\n",
    "    replacement_token=task.tokenizer.pad_token_id,\n",
    "    # What to replace tokens with.\n",
    "\n",
    "    input_accessor=lambda x: x.kwargs['input_ids'],\n",
    "\n",
    "    ids_to_embeddings=task.model.get_input_embeddings()\n",
    "    # Callable to produce embeddings from token ids.\n",
    ")"
   ]
  },
  {
   "cell_type": "markdown",
   "metadata": {},
   "source": [
    "We can now inspect the baselines on some example sentences. The first method returned by `token_baseline` gives us token ids to inspect while the second gives us the embeddings of the baseline which we will pass to the attributions method."
   ]
  },
  {
   "cell_type": "code",
   "execution_count": 12,
   "metadata": {},
   "outputs": [
    {
     "name": "stdout",
     "output_type": "stream",
     "text": [
      "originals= [\"<s>I'm so happy!</s><pad><pad><pad><pad><pad><pad>\", \"<s>I'm so sad!</s><pad><pad><pad><pad><pad><pad>\", '<s>I cannot tell whether I should be happy or sad!</s>', '<s>meh</s><pad><pad><pad><pad><pad><pad><pad><pad><pad>']\n",
      "baselines= ['<s><pad><pad><pad><pad><pad></s><pad><pad><pad><pad><pad><pad>', '<s><pad><pad><pad><pad><pad></s><pad><pad><pad><pad><pad><pad>', '<s><pad><pad><pad><pad><pad><pad><pad><pad><pad><pad><pad></s>', '<s><pad><pad></s><pad><pad><pad><pad><pad><pad><pad><pad><pad>']\n"
     ]
    }
   ],
   "source": [
    "print(\"originals=\", task.tokenizer.batch_decode(inputs['input_ids']))\n",
    "\n",
    "baseline_word_ids = inputs_baseline_ids(model_inputs=ModelInputs(args=[], kwargs=inputs))\n",
    "print(\"baselines=\", task.tokenizer.batch_decode(baseline_word_ids))"
   ]
  },
  {
   "cell_type": "code",
   "execution_count": 13,
   "metadata": {},
   "outputs": [
    {
     "name": "stderr",
     "output_type": "stream",
     "text": [
      "WARNING: Input tensor tensor([[   0,  100,  437,  ...,    1,    1,    1],\n",
      "        [   0,  100,  437,  ...,    1,    1,    1],\n",
      "        [   0,  100, 1395,  ..., 5074,  328,    2],\n",
      "        ...,\n",
      "        [   0,  100,  437,  ...,    1,    1,    1],\n",
      "        [   0,  100, 1395,  ..., 5074,  328,    2],\n",
      "        [   0, 1794,  298,  ...,    1,    1,    1]]) is not differentiable.\n",
      "WARNING: Input tensor tensor([[1, 1, 1,  ..., 0, 0, 0],\n",
      "        [1, 1, 1,  ..., 0, 0, 0],\n",
      "        [1, 1, 1,  ..., 1, 1, 1],\n",
      "        ...,\n",
      "        [1, 1, 1,  ..., 0, 0, 0],\n",
      "        [1, 1, 1,  ..., 1, 1, 1],\n",
      "        [1, 1, 1,  ..., 0, 0, 0]]) is not differentiable.\n"
     ]
    },
    {
     "name": "stdout",
     "output_type": "stream",
     "text": [
      "QOI = POSITIVE WITH BASELINE\n"
     ]
    },
    {
     "data": {
      "text/html": [
       "positive:&nbsp;<span title='0.000' style='color: rgb(255.0, 255.0, 255.0);'>&lt;s&gt;</span>&nbsp;<span title='0.251' style='color: rgb(222.9746724665165, 255.0, 222.9746724665165);'>I</span>&nbsp;<span title='0.172' style='color: rgb(233.00806067883968, 255.0, 233.00806067883968);'>&#x27;m</span>&nbsp;<span title='1.255' style='color: rgb(95.03515005111694, 255.0, 95.03515005111694);'> so</span>&nbsp;<span title='2.087' style='color: rgb(-11.107898354530334, 255.0, -11.107898354530334);'> happy</span>&nbsp;<span title='1.101' style='color: rgb(114.56722676753998, 255.0, 114.56722676753998);'>!</span>&nbsp;<span title='0.000' style='color: rgb(255.0, 255.0, 255.0);'>&lt;/s&gt;</span>&nbsp;<br/>negative:&nbsp;<span title='0.000' style='color: rgb(255.0, 255.0, 255.0);'>&lt;s&gt;</span>&nbsp;<span title='-0.444' style='color: rgb(255.0, 198.44059735536575, 198.44059735536575);'>I</span>&nbsp;<span title='-0.232' style='color: rgb(255.0, 225.4557892307639, 225.4557892307639);'>&#x27;m</span>&nbsp;<span title='-0.381' style='color: rgb(255.0, 206.47314593195915, 206.47314593195915);'> so</span>&nbsp;<span title='-1.313' style='color: rgb(255.0, 87.63916611671448, 87.63916611671448);'> sad</span>&nbsp;<span title='0.123' style='color: rgb(239.33284789323807, 255.0, 239.33284789323807);'>!</span>&nbsp;<span title='0.000' style='color: rgb(255.0, 255.0, 255.0);'>&lt;/s&gt;</span>&nbsp;<br/>negative:&nbsp;<span title='0.000' style='color: rgb(255.0, 255.0, 255.0);'>&lt;s&gt;</span>&nbsp;<span title='-0.059' style='color: rgb(255.0, 247.45759092271328, 247.45759092271328);'>I</span>&nbsp;<span title='-0.638' style='color: rgb(255.0, 173.64271000027657, 173.64271000027657);'> cannot</span>&nbsp;<span title='-0.023' style='color: rgb(255.0, 252.1085195057094, 252.1085195057094);'> tell</span>&nbsp;<span title='-0.449' style='color: rgb(255.0, 197.7978314459324, 197.7978314459324);'> whether</span>&nbsp;<span title='0.123' style='color: rgb(239.36073744669557, 255.0, 239.36073744669557);'> I</span>&nbsp;<span title='-0.006' style='color: rgb(255.0, 254.24682673998177, 254.24682673998177);'> should</span>&nbsp;<span title='0.280' style='color: rgb(219.30413782596588, 255.0, 219.30413782596588);'> be</span>&nbsp;<span title='0.793' style='color: rgb(153.87208968400955, 255.0, 153.87208968400955);'> happy</span>&nbsp;<span title='0.112' style='color: rgb(240.76532922685146, 255.0, 240.76532922685146);'> or</span>&nbsp;<span title='-0.346' style='color: rgb(255.0, 210.86349114775658, 210.86349114775658);'> sad</span>&nbsp;<span title='-0.026' style='color: rgb(255.0, 251.68180097825825, 251.68180097825825);'>!</span>&nbsp;<span title='0.000' style='color: rgb(255.0, 255.0, 255.0);'>&lt;/s&gt;</span>&nbsp;<br/>neutral:&nbsp;<span title='0.000' style='color: rgb(255.0, 255.0, 255.0);'>&lt;s&gt;</span>&nbsp;<span title='0.754' style='color: rgb(158.81854265928268, 255.0, 158.81854265928268);'>me</span>&nbsp;<span title='-1.756' style='color: rgb(255.0, 31.06173723936081, 31.06173723936081);'>h</span>&nbsp;<span title='0.000' style='color: rgb(255.0, 255.0, 255.0);'>&lt;/s&gt;</span>&nbsp;<br/>"
      ],
      "text/plain": [
       "<IPython.core.display.HTML object>"
      ]
     },
     "metadata": {},
     "output_type": "display_data"
    }
   ],
   "source": [
    "infl_positive_baseline = IntegratedGradients(\n",
    "    model = task.wrapper,\n",
    "    resolution=50,\n",
    "    baseline = inputs_baseline_embeddings,\n",
    "    doi_cut=Cut('roberta_embeddings_word_embeddings'),\n",
    "    qoi=ClassQoI(task.POSITIVE),\n",
    "    qoi_cut=OutputCut(accessor=lambda o: o['logits'])\n",
    ")\n",
    "\n",
    "print(\"QOI = POSITIVE WITH BASELINE\")\n",
    "display(V.token_attribution(sentences, infl_positive_baseline))"
   ]
  },
  {
   "cell_type": "markdown",
   "metadata": {},
   "source": [
    "As we see, the baseline eliminated the measurement of contribution of the special tokens."
   ]
  }
 ],
 "metadata": {
  "anaconda-cloud": {},
  "interpreter": {
   "hash": "51eb71198507ab2c2a4108a27eda9d9658549732e67153fc0e371d8439827db7"
  },
  "kernelspec": {
   "display_name": "test-fresh-11-29",
   "language": "python",
   "name": "python3"
  },
  "language_info": {
   "codemirror_mode": {
    "name": "ipython",
    "version": 3
   },
   "file_extension": ".py",
   "mimetype": "text/x-python",
   "name": "python",
   "nbconvert_exporter": "python",
   "pygments_lexer": "ipython3",
   "version": "3.7.9"
  }
 },
 "nbformat": 4,
 "nbformat_minor": 2
}
