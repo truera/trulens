{
 "cells": [
  {
   "cell_type": "code",
   "execution_count": 15,
   "metadata": {},
   "outputs": [],
   "source": [
    "%load_ext autoreload\n",
    "%autoreload 2"
   ]
  },
  {
   "cell_type": "code",
   "execution_count": 16,
   "metadata": {},
   "outputs": [
    {
     "name": "stdout",
     "output_type": "stream",
     "text": [
      "huggingface/tokenizers: The current process just got forked, after parallelism has already been used. Disabling parallelism to avoid deadlocks...\n",
      "To disable this warning, you can either:\n",
      "\t- Avoid using `tokenizers` before the fork if possible\n",
      "\t- Explicitly set the environment variable TOKENIZERS_PARALLELISM=(true | false)\n",
      "Requirement already satisfied: torch in /home/piotrm/anaconda3/envs/python37_pytorch_cuda/lib/python3.7/site-packages (1.10.0+cu113)\n",
      "Requirement already satisfied: typing-extensions in /home/piotrm/anaconda3/envs/python37_pytorch_cuda/lib/python3.7/site-packages (from torch) (4.1.1)\n",
      "huggingface/tokenizers: The current process just got forked, after parallelism has already been used. Disabling parallelism to avoid deadlocks...\n",
      "To disable this warning, you can either:\n",
      "\t- Avoid using `tokenizers` before the fork if possible\n",
      "\t- Explicitly set the environment variable TOKENIZERS_PARALLELISM=(true | false)\n",
      "Requirement already satisfied: transformers in /home/piotrm/anaconda3/envs/python37_pytorch_cuda/lib/python3.7/site-packages (4.17.0)\n",
      "Requirement already satisfied: tokenizers!=0.11.3,>=0.11.1 in /home/piotrm/anaconda3/envs/python37_pytorch_cuda/lib/python3.7/site-packages (from transformers) (0.11.6)\n",
      "Requirement already satisfied: numpy>=1.17 in /home/piotrm/anaconda3/envs/python37_pytorch_cuda/lib/python3.7/site-packages (from transformers) (1.21.5)\n",
      "Requirement already satisfied: requests in /home/piotrm/anaconda3/envs/python37_pytorch_cuda/lib/python3.7/site-packages (from transformers) (2.27.1)\n",
      "Requirement already satisfied: packaging>=20.0 in /home/piotrm/anaconda3/envs/python37_pytorch_cuda/lib/python3.7/site-packages (from transformers) (21.3)\n",
      "Requirement already satisfied: regex!=2019.12.17 in /home/piotrm/anaconda3/envs/python37_pytorch_cuda/lib/python3.7/site-packages (from transformers) (2022.3.15)\n",
      "Requirement already satisfied: sacremoses in /home/piotrm/anaconda3/envs/python37_pytorch_cuda/lib/python3.7/site-packages (from transformers) (0.0.49)\n",
      "Requirement already satisfied: tqdm>=4.27 in /home/piotrm/anaconda3/envs/python37_pytorch_cuda/lib/python3.7/site-packages (from transformers) (4.63.0)\n",
      "Requirement already satisfied: filelock in /home/piotrm/anaconda3/envs/python37_pytorch_cuda/lib/python3.7/site-packages (from transformers) (3.6.0)\n",
      "Requirement already satisfied: huggingface-hub<1.0,>=0.1.0 in /home/piotrm/anaconda3/envs/python37_pytorch_cuda/lib/python3.7/site-packages (from transformers) (0.4.0)\n",
      "Requirement already satisfied: importlib-metadata in /home/piotrm/anaconda3/envs/python37_pytorch_cuda/lib/python3.7/site-packages (from transformers) (4.11.3)\n",
      "Requirement already satisfied: pyyaml>=5.1 in /home/piotrm/anaconda3/envs/python37_pytorch_cuda/lib/python3.7/site-packages (from transformers) (6.0)\n",
      "Requirement already satisfied: typing-extensions>=3.7.4.3 in /home/piotrm/anaconda3/envs/python37_pytorch_cuda/lib/python3.7/site-packages (from huggingface-hub<1.0,>=0.1.0->transformers) (4.1.1)\n",
      "Requirement already satisfied: pyparsing!=3.0.5,>=2.0.2 in /home/piotrm/anaconda3/envs/python37_pytorch_cuda/lib/python3.7/site-packages (from packaging>=20.0->transformers) (3.0.7)\n",
      "Requirement already satisfied: zipp>=0.5 in /home/piotrm/anaconda3/envs/python37_pytorch_cuda/lib/python3.7/site-packages (from importlib-metadata->transformers) (3.7.0)\n",
      "Requirement already satisfied: urllib3<1.27,>=1.21.1 in /home/piotrm/anaconda3/envs/python37_pytorch_cuda/lib/python3.7/site-packages (from requests->transformers) (1.26.9)\n",
      "Requirement already satisfied: idna<4,>=2.5 in /home/piotrm/anaconda3/envs/python37_pytorch_cuda/lib/python3.7/site-packages (from requests->transformers) (3.3)\n",
      "Requirement already satisfied: certifi>=2017.4.17 in /home/piotrm/anaconda3/envs/python37_pytorch_cuda/lib/python3.7/site-packages (from requests->transformers) (2021.10.8)\n",
      "Requirement already satisfied: charset-normalizer~=2.0.0 in /home/piotrm/anaconda3/envs/python37_pytorch_cuda/lib/python3.7/site-packages (from requests->transformers) (2.0.12)\n",
      "Requirement already satisfied: click in /home/piotrm/anaconda3/envs/python37_pytorch_cuda/lib/python3.7/site-packages (from sacremoses->transformers) (8.0.4)\n",
      "Requirement already satisfied: six in /home/piotrm/anaconda3/envs/python37_pytorch_cuda/lib/python3.7/site-packages (from sacremoses->transformers) (1.16.0)\n",
      "Requirement already satisfied: joblib in /home/piotrm/anaconda3/envs/python37_pytorch_cuda/lib/python3.7/site-packages (from sacremoses->transformers) (1.1.0)\n",
      "huggingface/tokenizers: The current process just got forked, after parallelism has already been used. Disabling parallelism to avoid deadlocks...\n",
      "To disable this warning, you can either:\n",
      "\t- Avoid using `tokenizers` before the fork if possible\n",
      "\t- Explicitly set the environment variable TOKENIZERS_PARALLELISM=(true | false)\n",
      "Collecting git+https://github.com/truera/trulens.git\n",
      "  Cloning https://github.com/truera/trulens.git to /tmp/pip-req-build-5u7y1dks\n",
      "  Running command git clone -q https://github.com/truera/trulens.git /tmp/pip-req-build-5u7y1dks\n",
      "  Resolved https://github.com/truera/trulens.git to commit d8c105c5018654490aaf958091122ab06d63aec8\n"
     ]
    }
   ],
   "source": [
    "import sys\n",
    "\n",
    "# Use this if running this notebook from within its place in the truera repository.\n",
    "sys.path.insert(0, \"..\")\n",
    "\n",
    "# Install transformers / huggingface.\n",
    "!{sys.executable} -m pip install torch\n",
    "!{sys.executable} -m pip install transformers\n",
    "\n",
    "# Or otherwise install trulens.\n",
    "!{sys.executable} -m pip install git+https://github.com/truera/trulens.git\n",
    "\n",
    "from IPython.display import display\n",
    "import torch"
   ]
  },
  {
   "cell_type": "markdown",
   "metadata": {},
   "source": [
    "# Twitter Sentiment Model\n",
    "\n",
    "[Huggingface](https://huggingface.co/models) offers a variety of pre-trained NLP models to explore. We exemplify in this notebook a [transformer-based twitter sentiment classification model](https://huggingface.co/cardiffnlp/twitter-roberta-base-sentiment). Before getting started, familiarize yourself with the general Truera API as demonstrated in the [intro notebook using pytorch](intro_demo_pytorch.ipynb)."
   ]
  },
  {
   "cell_type": "code",
   "execution_count": 17,
   "metadata": {},
   "outputs": [],
   "source": [
    "from transformers import AutoModelForSequenceClassification\n",
    "from transformers import AutoTokenizer\n",
    "\n",
    "# Wrap all of the necessary components.\n",
    "class TwitterSentiment:\n",
    "    MODEL = f\"cardiffnlp/twitter-roberta-base-sentiment\"\n",
    "\n",
    "    device = 'cpu'\n",
    "    # Can also use cuda if available:\n",
    "    # device = 'cuda:0'\n",
    "\n",
    "    model = AutoModelForSequenceClassification.from_pretrained(MODEL).to(device)\n",
    "    tokenizer = AutoTokenizer.from_pretrained(MODEL)\n",
    "    labels = ['negative', 'neutral', 'positive']\n",
    "\n",
    "    NEGATIVE = labels.index('negative')\n",
    "    NEUTRAL = labels.index('neutral')\n",
    "    POSITIVE = labels.index('positive')\n",
    "\n",
    "task = TwitterSentiment()"
   ]
  },
  {
   "cell_type": "markdown",
   "metadata": {},
   "source": [
    "This model quantifies tweets (or really any text you give it) according to its sentiment: positive, negative, or neutral. Lets try it out on some examples."
   ]
  },
  {
   "cell_type": "code",
   "execution_count": 18,
   "metadata": {},
   "outputs": [
    {
     "name": "stdout",
     "output_type": "stream",
     "text": [
      "{'input_ids': tensor([[   0,  100,  437,   98, 1372,  328,    2,    1,    1,    1,    1,    1,\n",
      "            1],\n",
      "        [   0,  100,  437,   98, 5074,  328,    2,    1,    1,    1,    1,    1,\n",
      "            1],\n",
      "        [   0,  100, 1395, 1137,  549,   38,  197,   28, 1372,   50, 5074,  328,\n",
      "            2],\n",
      "        [   0, 1794,  298,    2,    1,    1,    1,    1,    1,    1,    1,    1,\n",
      "            1]]), 'attention_mask': tensor([[1, 1, 1, 1, 1, 1, 1, 0, 0, 0, 0, 0, 0],\n",
      "        [1, 1, 1, 1, 1, 1, 1, 0, 0, 0, 0, 0, 0],\n",
      "        [1, 1, 1, 1, 1, 1, 1, 1, 1, 1, 1, 1, 1],\n",
      "        [1, 1, 1, 1, 0, 0, 0, 0, 0, 0, 0, 0, 0]])}\n",
      "['<s>', 'I', \"'m\", ' so', ' happy', '!', '</s>', '<pad>', '<pad>', '<pad>', '<pad>', '<pad>', '<pad>', '<s>', 'I', \"'m\", ' so', ' sad', '!', '</s>', '<pad>', '<pad>', '<pad>', '<pad>', '<pad>', '<pad>', '<s>', 'I', ' cannot', ' tell', ' whether', ' I', ' should', ' be', ' happy', ' or', ' sad', '!', '</s>', '<s>', 'me', 'h', '</s>', '<pad>', '<pad>', '<pad>', '<pad>', '<pad>', '<pad>', '<pad>', '<pad>', '<pad>']\n"
     ]
    }
   ],
   "source": [
    "sentences = [\"I'm so happy!\", \"I'm so sad!\", \"I cannot tell whether I should be happy or sad!\", \"meh\"]\n",
    "\n",
    "# Input sentences need to be tokenized first.\n",
    "\n",
    "inputs = task.tokenizer(sentences, padding=True, return_tensors=\"pt\").to(task.device) # pt refers to pytorch tensor\n",
    "\n",
    "# The tokenizer gives us vocabulary indexes for each input token (in this case,\n",
    "# words and some word parts like the \"'m\" part of \"I'm\" are tokens).\n",
    "\n",
    "print(inputs)\n",
    "\n",
    "# Decode helps inspecting the tokenization produced:\n",
    "\n",
    "print(task.tokenizer.batch_decode(torch.flatten(inputs['input_ids'])))\n",
    "# Normally decode would give us a single string for each sentence but we would\n",
    "# not be able to see some of the non-word tokens there. Flattening first gives\n",
    "# us a string for each input_id."
   ]
  },
  {
   "cell_type": "markdown",
   "metadata": {},
   "source": [
    "Evaluating huggingface models is straight-forward if we use the structure produced by the tokenizer."
   ]
  },
  {
   "cell_type": "code",
   "execution_count": 19,
   "metadata": {},
   "outputs": [
    {
     "name": "stdout",
     "output_type": "stream",
     "text": [
      "SequenceClassifierOutput(loss=None, logits=tensor([[-2.3217, -0.8764,  4.0706],\n",
      "        [ 2.5737, -0.4016, -2.1465],\n",
      "        [ 0.5973,  0.3778, -0.7691],\n",
      "        [-0.2267,  0.6011, -0.2009]], grad_fn=<AddmmBackward0>), hidden_states=None, attentions=None)\n",
      "[-2.3217378 -0.8763628  4.0705967] positive I'm so happy!\n",
      "[ 2.5736785  -0.40158105 -2.1465425 ] negative I'm so sad!\n",
      "[ 0.59733623  0.37779403 -0.7691068 ] negative I cannot tell whether I should be happy or sad!\n",
      "[-0.22674142  0.601109   -0.20089385] neutral meh\n"
     ]
    }
   ],
   "source": [
    "outputs = task.model(**inputs)\n",
    "\n",
    "print(outputs)\n",
    "\n",
    "# From logits we can extract the most likely class for each sentence and its readable label.\n",
    "\n",
    "predictions = [task.labels[i] for i in outputs.logits.argmax(axis=1)]\n",
    "\n",
    "for sentence, logits, prediction in zip(sentences, outputs.logits, predictions):\n",
    "    print(logits.to('cpu').detach().numpy(), prediction, sentence)"
   ]
  },
  {
   "cell_type": "markdown",
   "metadata": {},
   "source": [
    "# Model Wrapper\n",
    "\n",
    "As in the prior notebooks, we need to wrap the pytorch model with the appropriate Trulens functionality. Here we specify the maximum input size (in terms of tokens) each tweet may have."
   ]
  },
  {
   "cell_type": "code",
   "execution_count": 20,
   "metadata": {},
   "outputs": [
    {
     "name": "stderr",
     "output_type": "stream",
     "text": [
      "INFO: lib level=1\n",
      "INFO: root level=30\n",
      "INFO: Detected pytorch backend for <class 'transformers.models.roberta.modeling_roberta.RobertaForSequenceClassification'>.\n",
      "INFO: Changing backend from None to Backend.PYTORCH.\n",
      "INFO: If this seems incorrect, you can force the correct backend by passing the `backend` parameter directly into your get_model_wrapper call.\n",
      "DEBUG: Input dtype was not passed in. Defaulting to `torch.float32`.\n"
     ]
    }
   ],
   "source": [
    "from trulens.nn.models import get_model_wrapper\n",
    "from trulens.nn.quantities import ClassQoI\n",
    "from trulens.nn.attribution import IntegratedGradients\n",
    "from trulens.nn.attribution import Cut, OutputCut\n",
    "from trulens.utils.typing import ModelInputs\n",
    "\n",
    "task.wrapper = get_model_wrapper(task.model, input_shape=(None, task.tokenizer.model_max_length), device=task.device)"
   ]
  },
  {
   "cell_type": "markdown",
   "metadata": {
    "nbpresent": {
     "id": "4ed9c783-b745-4c6a-b674-d8b6935dd62d"
    }
   },
   "source": [
    "# Attributions\n",
    "\n",
    "Applying integrated gradents to the sentiment model is similar as in the prior notebooks except special considerations need to be made for the cuts used as the targets of the attribution (i.e. what do we want to assign importance to). As you may have noted above, the model takes as input integer indexes associated with tokens. As we cannot take gradient with respect to these, we use an alternative: the embedding representation of those same inputs. To instantiate trulens with this regard, we need to find inspect the layer names inside our model:"
   ]
  },
  {
   "cell_type": "code",
   "execution_count": 21,
   "metadata": {},
   "outputs": [
    {
     "name": "stdout",
     "output_type": "stream",
     "text": [
      "'roberta_embeddings_word_embeddings':\tEmbedding(50265, 768, padding_idx=1)\n",
      "'roberta_embeddings_position_embeddings':\tEmbedding(514, 768, padding_idx=1)\n",
      "'roberta_embeddings_token_type_embeddings':\tEmbedding(1, 768)\n",
      "'roberta_embeddings_LayerNorm':\tLayerNorm((768,), eps=1e-05, elementwise_affine=True)\n",
      "'roberta_embeddings_dropout':\tDropout(p=0.1, inplace=False)\n",
      "'roberta_encoder_layer_0_attention_self_query':\tLinear(in_features=768, out_features=768, bias=True)\n",
      "'roberta_encoder_layer_0_attention_self_key':\tLinear(in_features=768, out_features=768, bias=True)\n",
      "'roberta_encoder_layer_0_attention_self_value':\tLinear(in_features=768, out_features=768, bias=True)\n",
      "'roberta_encoder_layer_0_attention_self_dropout':\tDropout(p=0.1, inplace=False)\n",
      "'roberta_encoder_layer_0_attention_output_dense':\tLinear(in_features=768, out_features=768, bias=True)\n",
      "'roberta_encoder_layer_0_attention_output_LayerNorm':\tLayerNorm((768,), eps=1e-05, elementwise_affine=True)\n",
      "'roberta_encoder_layer_0_attention_output_dropout':\tDropout(p=0.1, inplace=False)\n",
      "'roberta_encoder_layer_0_intermediate_dense':\tLinear(in_features=768, out_features=3072, bias=True)\n",
      "'roberta_encoder_layer_0_intermediate_intermediate_act_fn':\tGELUActivation()\n",
      "'roberta_encoder_layer_0_output_dense':\tLinear(in_features=3072, out_features=768, bias=True)\n",
      "'roberta_encoder_layer_0_output_LayerNorm':\tLayerNorm((768,), eps=1e-05, elementwise_affine=True)\n",
      "'roberta_encoder_layer_0_output_dropout':\tDropout(p=0.1, inplace=False)\n",
      "'roberta_encoder_layer_1_attention_self_query':\tLinear(in_features=768, out_features=768, bias=True)\n",
      "'roberta_encoder_layer_1_attention_self_key':\tLinear(in_features=768, out_features=768, bias=True)\n",
      "'roberta_encoder_layer_1_attention_self_value':\tLinear(in_features=768, out_features=768, bias=True)\n",
      "'roberta_encoder_layer_1_attention_self_dropout':\tDropout(p=0.1, inplace=False)\n",
      "'roberta_encoder_layer_1_attention_output_dense':\tLinear(in_features=768, out_features=768, bias=True)\n",
      "'roberta_encoder_layer_1_attention_output_LayerNorm':\tLayerNorm((768,), eps=1e-05, elementwise_affine=True)\n",
      "'roberta_encoder_layer_1_attention_output_dropout':\tDropout(p=0.1, inplace=False)\n",
      "'roberta_encoder_layer_1_intermediate_dense':\tLinear(in_features=768, out_features=3072, bias=True)\n",
      "'roberta_encoder_layer_1_intermediate_intermediate_act_fn':\tGELUActivation()\n",
      "'roberta_encoder_layer_1_output_dense':\tLinear(in_features=3072, out_features=768, bias=True)\n",
      "'roberta_encoder_layer_1_output_LayerNorm':\tLayerNorm((768,), eps=1e-05, elementwise_affine=True)\n",
      "'roberta_encoder_layer_1_output_dropout':\tDropout(p=0.1, inplace=False)\n",
      "'roberta_encoder_layer_2_attention_self_query':\tLinear(in_features=768, out_features=768, bias=True)\n",
      "'roberta_encoder_layer_2_attention_self_key':\tLinear(in_features=768, out_features=768, bias=True)\n",
      "'roberta_encoder_layer_2_attention_self_value':\tLinear(in_features=768, out_features=768, bias=True)\n",
      "'roberta_encoder_layer_2_attention_self_dropout':\tDropout(p=0.1, inplace=False)\n",
      "'roberta_encoder_layer_2_attention_output_dense':\tLinear(in_features=768, out_features=768, bias=True)\n",
      "'roberta_encoder_layer_2_attention_output_LayerNorm':\tLayerNorm((768,), eps=1e-05, elementwise_affine=True)\n",
      "'roberta_encoder_layer_2_attention_output_dropout':\tDropout(p=0.1, inplace=False)\n",
      "'roberta_encoder_layer_2_intermediate_dense':\tLinear(in_features=768, out_features=3072, bias=True)\n",
      "'roberta_encoder_layer_2_intermediate_intermediate_act_fn':\tGELUActivation()\n",
      "'roberta_encoder_layer_2_output_dense':\tLinear(in_features=3072, out_features=768, bias=True)\n",
      "'roberta_encoder_layer_2_output_LayerNorm':\tLayerNorm((768,), eps=1e-05, elementwise_affine=True)\n",
      "'roberta_encoder_layer_2_output_dropout':\tDropout(p=0.1, inplace=False)\n",
      "'roberta_encoder_layer_3_attention_self_query':\tLinear(in_features=768, out_features=768, bias=True)\n",
      "'roberta_encoder_layer_3_attention_self_key':\tLinear(in_features=768, out_features=768, bias=True)\n",
      "'roberta_encoder_layer_3_attention_self_value':\tLinear(in_features=768, out_features=768, bias=True)\n",
      "'roberta_encoder_layer_3_attention_self_dropout':\tDropout(p=0.1, inplace=False)\n",
      "'roberta_encoder_layer_3_attention_output_dense':\tLinear(in_features=768, out_features=768, bias=True)\n",
      "'roberta_encoder_layer_3_attention_output_LayerNorm':\tLayerNorm((768,), eps=1e-05, elementwise_affine=True)\n",
      "'roberta_encoder_layer_3_attention_output_dropout':\tDropout(p=0.1, inplace=False)\n",
      "'roberta_encoder_layer_3_intermediate_dense':\tLinear(in_features=768, out_features=3072, bias=True)\n",
      "'roberta_encoder_layer_3_intermediate_intermediate_act_fn':\tGELUActivation()\n",
      "'roberta_encoder_layer_3_output_dense':\tLinear(in_features=3072, out_features=768, bias=True)\n",
      "'roberta_encoder_layer_3_output_LayerNorm':\tLayerNorm((768,), eps=1e-05, elementwise_affine=True)\n",
      "'roberta_encoder_layer_3_output_dropout':\tDropout(p=0.1, inplace=False)\n",
      "'roberta_encoder_layer_4_attention_self_query':\tLinear(in_features=768, out_features=768, bias=True)\n",
      "'roberta_encoder_layer_4_attention_self_key':\tLinear(in_features=768, out_features=768, bias=True)\n",
      "'roberta_encoder_layer_4_attention_self_value':\tLinear(in_features=768, out_features=768, bias=True)\n",
      "'roberta_encoder_layer_4_attention_self_dropout':\tDropout(p=0.1, inplace=False)\n",
      "'roberta_encoder_layer_4_attention_output_dense':\tLinear(in_features=768, out_features=768, bias=True)\n",
      "'roberta_encoder_layer_4_attention_output_LayerNorm':\tLayerNorm((768,), eps=1e-05, elementwise_affine=True)\n",
      "'roberta_encoder_layer_4_attention_output_dropout':\tDropout(p=0.1, inplace=False)\n",
      "'roberta_encoder_layer_4_intermediate_dense':\tLinear(in_features=768, out_features=3072, bias=True)\n",
      "'roberta_encoder_layer_4_intermediate_intermediate_act_fn':\tGELUActivation()\n",
      "'roberta_encoder_layer_4_output_dense':\tLinear(in_features=3072, out_features=768, bias=True)\n",
      "'roberta_encoder_layer_4_output_LayerNorm':\tLayerNorm((768,), eps=1e-05, elementwise_affine=True)\n",
      "'roberta_encoder_layer_4_output_dropout':\tDropout(p=0.1, inplace=False)\n",
      "'roberta_encoder_layer_5_attention_self_query':\tLinear(in_features=768, out_features=768, bias=True)\n",
      "'roberta_encoder_layer_5_attention_self_key':\tLinear(in_features=768, out_features=768, bias=True)\n",
      "'roberta_encoder_layer_5_attention_self_value':\tLinear(in_features=768, out_features=768, bias=True)\n",
      "'roberta_encoder_layer_5_attention_self_dropout':\tDropout(p=0.1, inplace=False)\n",
      "'roberta_encoder_layer_5_attention_output_dense':\tLinear(in_features=768, out_features=768, bias=True)\n",
      "'roberta_encoder_layer_5_attention_output_LayerNorm':\tLayerNorm((768,), eps=1e-05, elementwise_affine=True)\n",
      "'roberta_encoder_layer_5_attention_output_dropout':\tDropout(p=0.1, inplace=False)\n",
      "'roberta_encoder_layer_5_intermediate_dense':\tLinear(in_features=768, out_features=3072, bias=True)\n",
      "'roberta_encoder_layer_5_intermediate_intermediate_act_fn':\tGELUActivation()\n",
      "'roberta_encoder_layer_5_output_dense':\tLinear(in_features=3072, out_features=768, bias=True)\n",
      "'roberta_encoder_layer_5_output_LayerNorm':\tLayerNorm((768,), eps=1e-05, elementwise_affine=True)\n",
      "'roberta_encoder_layer_5_output_dropout':\tDropout(p=0.1, inplace=False)\n",
      "'roberta_encoder_layer_6_attention_self_query':\tLinear(in_features=768, out_features=768, bias=True)\n",
      "'roberta_encoder_layer_6_attention_self_key':\tLinear(in_features=768, out_features=768, bias=True)\n",
      "'roberta_encoder_layer_6_attention_self_value':\tLinear(in_features=768, out_features=768, bias=True)\n",
      "'roberta_encoder_layer_6_attention_self_dropout':\tDropout(p=0.1, inplace=False)\n",
      "'roberta_encoder_layer_6_attention_output_dense':\tLinear(in_features=768, out_features=768, bias=True)\n",
      "'roberta_encoder_layer_6_attention_output_LayerNorm':\tLayerNorm((768,), eps=1e-05, elementwise_affine=True)\n",
      "'roberta_encoder_layer_6_attention_output_dropout':\tDropout(p=0.1, inplace=False)\n",
      "'roberta_encoder_layer_6_intermediate_dense':\tLinear(in_features=768, out_features=3072, bias=True)\n",
      "'roberta_encoder_layer_6_intermediate_intermediate_act_fn':\tGELUActivation()\n",
      "'roberta_encoder_layer_6_output_dense':\tLinear(in_features=3072, out_features=768, bias=True)\n",
      "'roberta_encoder_layer_6_output_LayerNorm':\tLayerNorm((768,), eps=1e-05, elementwise_affine=True)\n",
      "'roberta_encoder_layer_6_output_dropout':\tDropout(p=0.1, inplace=False)\n",
      "'roberta_encoder_layer_7_attention_self_query':\tLinear(in_features=768, out_features=768, bias=True)\n",
      "'roberta_encoder_layer_7_attention_self_key':\tLinear(in_features=768, out_features=768, bias=True)\n",
      "'roberta_encoder_layer_7_attention_self_value':\tLinear(in_features=768, out_features=768, bias=True)\n",
      "'roberta_encoder_layer_7_attention_self_dropout':\tDropout(p=0.1, inplace=False)\n",
      "'roberta_encoder_layer_7_attention_output_dense':\tLinear(in_features=768, out_features=768, bias=True)\n",
      "'roberta_encoder_layer_7_attention_output_LayerNorm':\tLayerNorm((768,), eps=1e-05, elementwise_affine=True)\n",
      "'roberta_encoder_layer_7_attention_output_dropout':\tDropout(p=0.1, inplace=False)\n",
      "'roberta_encoder_layer_7_intermediate_dense':\tLinear(in_features=768, out_features=3072, bias=True)\n",
      "'roberta_encoder_layer_7_intermediate_intermediate_act_fn':\tGELUActivation()\n",
      "'roberta_encoder_layer_7_output_dense':\tLinear(in_features=3072, out_features=768, bias=True)\n",
      "'roberta_encoder_layer_7_output_LayerNorm':\tLayerNorm((768,), eps=1e-05, elementwise_affine=True)\n",
      "'roberta_encoder_layer_7_output_dropout':\tDropout(p=0.1, inplace=False)\n",
      "'roberta_encoder_layer_8_attention_self_query':\tLinear(in_features=768, out_features=768, bias=True)\n",
      "'roberta_encoder_layer_8_attention_self_key':\tLinear(in_features=768, out_features=768, bias=True)\n",
      "'roberta_encoder_layer_8_attention_self_value':\tLinear(in_features=768, out_features=768, bias=True)\n",
      "'roberta_encoder_layer_8_attention_self_dropout':\tDropout(p=0.1, inplace=False)\n",
      "'roberta_encoder_layer_8_attention_output_dense':\tLinear(in_features=768, out_features=768, bias=True)\n",
      "'roberta_encoder_layer_8_attention_output_LayerNorm':\tLayerNorm((768,), eps=1e-05, elementwise_affine=True)\n",
      "'roberta_encoder_layer_8_attention_output_dropout':\tDropout(p=0.1, inplace=False)\n",
      "'roberta_encoder_layer_8_intermediate_dense':\tLinear(in_features=768, out_features=3072, bias=True)\n",
      "'roberta_encoder_layer_8_intermediate_intermediate_act_fn':\tGELUActivation()\n",
      "'roberta_encoder_layer_8_output_dense':\tLinear(in_features=3072, out_features=768, bias=True)\n",
      "'roberta_encoder_layer_8_output_LayerNorm':\tLayerNorm((768,), eps=1e-05, elementwise_affine=True)\n",
      "'roberta_encoder_layer_8_output_dropout':\tDropout(p=0.1, inplace=False)\n",
      "'roberta_encoder_layer_9_attention_self_query':\tLinear(in_features=768, out_features=768, bias=True)\n",
      "'roberta_encoder_layer_9_attention_self_key':\tLinear(in_features=768, out_features=768, bias=True)\n",
      "'roberta_encoder_layer_9_attention_self_value':\tLinear(in_features=768, out_features=768, bias=True)\n",
      "'roberta_encoder_layer_9_attention_self_dropout':\tDropout(p=0.1, inplace=False)\n",
      "'roberta_encoder_layer_9_attention_output_dense':\tLinear(in_features=768, out_features=768, bias=True)\n",
      "'roberta_encoder_layer_9_attention_output_LayerNorm':\tLayerNorm((768,), eps=1e-05, elementwise_affine=True)\n",
      "'roberta_encoder_layer_9_attention_output_dropout':\tDropout(p=0.1, inplace=False)\n",
      "'roberta_encoder_layer_9_intermediate_dense':\tLinear(in_features=768, out_features=3072, bias=True)\n",
      "'roberta_encoder_layer_9_intermediate_intermediate_act_fn':\tGELUActivation()\n",
      "'roberta_encoder_layer_9_output_dense':\tLinear(in_features=3072, out_features=768, bias=True)\n",
      "'roberta_encoder_layer_9_output_LayerNorm':\tLayerNorm((768,), eps=1e-05, elementwise_affine=True)\n",
      "'roberta_encoder_layer_9_output_dropout':\tDropout(p=0.1, inplace=False)\n",
      "'roberta_encoder_layer_10_attention_self_query':\tLinear(in_features=768, out_features=768, bias=True)\n",
      "'roberta_encoder_layer_10_attention_self_key':\tLinear(in_features=768, out_features=768, bias=True)\n",
      "'roberta_encoder_layer_10_attention_self_value':\tLinear(in_features=768, out_features=768, bias=True)\n",
      "'roberta_encoder_layer_10_attention_self_dropout':\tDropout(p=0.1, inplace=False)\n",
      "'roberta_encoder_layer_10_attention_output_dense':\tLinear(in_features=768, out_features=768, bias=True)\n",
      "'roberta_encoder_layer_10_attention_output_LayerNorm':\tLayerNorm((768,), eps=1e-05, elementwise_affine=True)\n",
      "'roberta_encoder_layer_10_attention_output_dropout':\tDropout(p=0.1, inplace=False)\n",
      "'roberta_encoder_layer_10_intermediate_dense':\tLinear(in_features=768, out_features=3072, bias=True)\n",
      "'roberta_encoder_layer_10_intermediate_intermediate_act_fn':\tGELUActivation()\n",
      "'roberta_encoder_layer_10_output_dense':\tLinear(in_features=3072, out_features=768, bias=True)\n",
      "'roberta_encoder_layer_10_output_LayerNorm':\tLayerNorm((768,), eps=1e-05, elementwise_affine=True)\n",
      "'roberta_encoder_layer_10_output_dropout':\tDropout(p=0.1, inplace=False)\n",
      "'roberta_encoder_layer_11_attention_self_query':\tLinear(in_features=768, out_features=768, bias=True)\n",
      "'roberta_encoder_layer_11_attention_self_key':\tLinear(in_features=768, out_features=768, bias=True)\n",
      "'roberta_encoder_layer_11_attention_self_value':\tLinear(in_features=768, out_features=768, bias=True)\n",
      "'roberta_encoder_layer_11_attention_self_dropout':\tDropout(p=0.1, inplace=False)\n",
      "'roberta_encoder_layer_11_attention_output_dense':\tLinear(in_features=768, out_features=768, bias=True)\n",
      "'roberta_encoder_layer_11_attention_output_LayerNorm':\tLayerNorm((768,), eps=1e-05, elementwise_affine=True)\n",
      "'roberta_encoder_layer_11_attention_output_dropout':\tDropout(p=0.1, inplace=False)\n",
      "'roberta_encoder_layer_11_intermediate_dense':\tLinear(in_features=768, out_features=3072, bias=True)\n",
      "'roberta_encoder_layer_11_intermediate_intermediate_act_fn':\tGELUActivation()\n",
      "'roberta_encoder_layer_11_output_dense':\tLinear(in_features=3072, out_features=768, bias=True)\n",
      "'roberta_encoder_layer_11_output_LayerNorm':\tLayerNorm((768,), eps=1e-05, elementwise_affine=True)\n",
      "'roberta_encoder_layer_11_output_dropout':\tDropout(p=0.1, inplace=False)\n",
      "'classifier_dense':\tLinear(in_features=768, out_features=768, bias=True)\n",
      "'classifier_dropout':\tDropout(p=0.1, inplace=False)\n",
      "'classifier_out_proj':\tLinear(in_features=768, out_features=3, bias=True)\n"
     ]
    }
   ],
   "source": [
    "task.wrapper.print_layer_names()"
   ]
  },
  {
   "cell_type": "markdown",
   "metadata": {},
   "source": [
    "## Parameters\n",
    "\n",
    "Above, `roberta_embeddings_word_embeddings` is the layer that produces a continuous representation of each input token so we will use that layer as the one defining the **distribution of interest**. While most neural NLP models contain a token embedding, the layer name will differ.\n",
    "\n",
    "The second thing to note is the form of model outputs. Specifically, outputs are structures which contain a 'logits' attribute that stores the model scores.\n",
    "\n",
    "Putting these things together, we instantiate `IntegratedGradients` to attribute each embedding dimension to the maximum class (i.e. the predicted class)."
   ]
  },
  {
   "cell_type": "code",
   "execution_count": 22,
   "metadata": {},
   "outputs": [],
   "source": [
    "infl_max = IntegratedGradients(\n",
    "    model = task.wrapper,\n",
    "    doi_cut=Cut('roberta_embeddings_word_embeddings'),\n",
    "    qoi_cut=OutputCut(accessor=lambda o: o['logits'])\n",
    ")"
   ]
  },
  {
   "cell_type": "code",
   "execution_count": 23,
   "metadata": {},
   "outputs": [],
   "source": [
    "# Alternatively we can look at a particular class:\n",
    "\n",
    "infl_positive = IntegratedGradients(\n",
    "    model = task.wrapper,\n",
    "    doi_cut=Cut('roberta_embeddings_word_embeddings'),\n",
    "    qoi=ClassQoI(task.POSITIVE),\n",
    "    qoi_cut=OutputCut(accessor=lambda o: o['logits'])\n",
    ")"
   ]
  },
  {
   "cell_type": "markdown",
   "metadata": {},
   "source": [
    "Getting attributions uses the same call as model evaluation."
   ]
  },
  {
   "cell_type": "code",
   "execution_count": 24,
   "metadata": {},
   "outputs": [
    {
     "name": "stdout",
     "output_type": "stream",
     "text": [
      "<s>(0.029) I(0.240) 'm(0.317)  so(0.255)  happy(0.615) !(0.184) </s>(-0.095) <pad>(0.000) <pad>(0.000) <pad>(0.000) <pad>(0.000) <pad>(0.000) <pad>(0.000) \n",
      "<s>(0.107) I(0.067) 'm(0.155)  so(0.812)  sad(1.038) !(0.264) </s>(0.823) <pad>(0.000) <pad>(0.000) <pad>(0.000) <pad>(0.000) <pad>(0.000) <pad>(0.000) \n",
      "<s>(-0.018) I(-0.052)  cannot(-0.237)  tell(0.006)  whether(0.067)  I(-0.080)  should(0.002)  be(-0.095)  happy(-0.217)  or(-0.136)  sad(-0.319) !(-0.179) </s>(-0.060) \n",
      "<s>(0.011) me(-0.232) h(-0.281) </s>(-0.054) <pad>(0.000) <pad>(0.000) <pad>(0.000) <pad>(0.000) <pad>(0.000) <pad>(0.000) <pad>(0.000) <pad>(0.000) <pad>(0.000) \n"
     ]
    }
   ],
   "source": [
    "attrs = infl_max.attributions(**inputs)\n",
    "\n",
    "for token_ids, token_attr in zip(inputs['input_ids'], attrs):\n",
    "    for token_id, token_attr in zip(token_ids, token_attr):\n",
    "        # Not that each `word_attr` has a magnitude for each of the embedding\n",
    "        # dimensions, of which there are many. We aggregate them for easier\n",
    "        # interpretation and display.\n",
    "        attr = token_attr.sum()\n",
    "\n",
    "        word = task.tokenizer.decode(token_id)\n",
    "\n",
    "        print(f\"{word}({attr:0.3f})\", end=' ')\n",
    "\n",
    "    print()"
   ]
  },
  {
   "cell_type": "markdown",
   "metadata": {},
   "source": [
    "A listing as above is not very readable so Trulens comes with some utilities to present token influences a bit more concisely. First we need to set up a few parameters to make use of it:"
   ]
  },
  {
   "cell_type": "code",
   "execution_count": 25,
   "metadata": {},
   "outputs": [
    {
     "name": "stdout",
     "output_type": "stream",
     "text": [
      "QOI = MAX PREDICTION\n"
     ]
    },
    {
     "data": {
      "text/html": [
       "<span style='padding: 2px; margin: 2px; background: gray; border-radius: 4px;'>positive:&nbsp;<span title='0.014' style='margin: 1px; padding: 1px; border-radius: 4px; background: black; color: rgb(253.2165364874527, 255.0, 253.2165364874527);'>&lt;s&gt;</span><span title='0.198' style='margin: 1px; padding: 1px; border-radius: 4px; background: black; color: rgb(229.79250222444534, 255.0, 229.79250222444534);'>I</span><span title='0.169' style='margin: 1px; padding: 1px; border-radius: 4px; background: black; color: rgb(233.46077598631382, 255.0, 233.46077598631382);'>&#x27;m</span>&nbsp;<span title='0.044' style='margin: 1px; padding: 1px; border-radius: 4px; background: black; color: rgb(249.34657406061888, 255.0, 249.34657406061888);'>so</span>&nbsp;<span title='0.367' style='margin: 1px; padding: 1px; border-radius: 4px; background: black; color: rgb(208.23492899537086, 255.0, 208.23492899537086);'>happy</span><span title='-0.049' style='margin: 1px; padding: 1px; border-radius: 4px; background: black; color: rgb(255.0, 248.8096866197884, 248.8096866197884);'>!</span><span title='-0.211' style='margin: 1px; padding: 1px; border-radius: 4px; background: black; color: rgb(255.0, 228.15372236073017, 228.15372236073017);'>&lt;/s&gt;</span></span><br/><br/><span style='padding: 2px; margin: 2px; background: gray; border-radius: 4px;'>negative:&nbsp;<span title='0.006' style='margin: 1px; padding: 1px; border-radius: 4px; background: black; color: rgb(254.23715388402343, 255.0, 254.23715388402343);'>&lt;s&gt;</span><span title='0.040' style='margin: 1px; padding: 1px; border-radius: 4px; background: black; color: rgb(249.86209667287767, 255.0, 249.86209667287767);'>I</span><span title='-0.098' style='margin: 1px; padding: 1px; border-radius: 4px; background: black; color: rgb(255.0, 242.53307227045298, 242.53307227045298);'>&#x27;m</span>&nbsp;<span title='-0.360' style='margin: 1px; padding: 1px; border-radius: 4px; background: black; color: rgb(255.0, 209.07407596707344, 209.07407596707344);'>so</span>&nbsp;<span title='-0.550' style='margin: 1px; padding: 1px; border-radius: 4px; background: black; color: rgb(255.0, 184.92507219314575, 184.92507219314575);'>sad</span><span title='-0.170' style='margin: 1px; padding: 1px; border-radius: 4px; background: black; color: rgb(255.0, 233.3637272939086, 233.3637272939086);'>!</span><span title='0.195' style='margin: 1px; padding: 1px; border-radius: 4px; background: black; color: rgb(230.08076805621386, 255.0, 230.08076805621386);'>&lt;/s&gt;</span></span><br/><br/><span style='padding: 2px; margin: 2px; background: gray; border-radius: 4px;'>negative:&nbsp;<span title='-0.029' style='margin: 1px; padding: 1px; border-radius: 4px; background: black; color: rgb(255.0, 251.35724970605224, 251.35724970605224);'>&lt;s&gt;</span><span title='-0.072' style='margin: 1px; padding: 1px; border-radius: 4px; background: black; color: rgb(255.0, 245.7925620675087, 245.7925620675087);'>I</span>&nbsp;<span title='-0.426' style='margin: 1px; padding: 1px; border-radius: 4px; background: black; color: rgb(255.0, 200.65340861678123, 200.65340861678123);'>cannot</span>&nbsp;<span title='0.031' style='margin: 1px; padding: 1px; border-radius: 4px; background: black; color: rgb(250.9875967539847, 255.0, 250.9875967539847);'>tell</span>&nbsp;<span title='0.045' style='margin: 1px; padding: 1px; border-radius: 4px; background: black; color: rgb(249.2594855837524, 255.0, 249.2594855837524);'>whether</span>&nbsp;<span title='-0.004' style='margin: 1px; padding: 1px; border-radius: 4px; background: black; color: rgb(255.0, 254.4907411141321, 254.4907411141321);'>I</span>&nbsp;<span title='0.022' style='margin: 1px; padding: 1px; border-radius: 4px; background: black; color: rgb(252.25202379282564, 255.0, 252.25202379282564);'>should</span>&nbsp;<span title='-0.077' style='margin: 1px; padding: 1px; border-radius: 4px; background: black; color: rgb(255.0, 245.18173724412918, 245.18173724412918);'>be</span>&nbsp;<span title='-0.107' style='margin: 1px; padding: 1px; border-radius: 4px; background: black; color: rgb(255.0, 241.3983714580536, 241.3983714580536);'>happy</span>&nbsp;<span title='-0.095' style='margin: 1px; padding: 1px; border-radius: 4px; background: black; color: rgb(255.0, 242.93816663324833, 242.93816663324833);'>or</span>&nbsp;<span title='-0.307' style='margin: 1px; padding: 1px; border-radius: 4px; background: black; color: rgb(255.0, 215.88639982044697, 215.88639982044697);'>sad</span><span title='-0.179' style='margin: 1px; padding: 1px; border-radius: 4px; background: black; color: rgb(255.0, 232.1469907835126, 232.1469907835126);'>!</span><span title='-0.030' style='margin: 1px; padding: 1px; border-radius: 4px; background: black; color: rgb(255.0, 251.2301149405539, 251.2301149405539);'>&lt;/s&gt;</span></span><br/><br/><span style='padding: 2px; margin: 2px; background: gray; border-radius: 4px;'>neutral:&nbsp;<span title='0.440' style='margin: 1px; padding: 1px; border-radius: 4px; background: black; color: rgb(198.95921252667904, 255.0, 198.95921252667904);'>&lt;s&gt;</span><span title='1.153' style='margin: 1px; padding: 1px; border-radius: 4px; background: black; color: rgb(107.9343330860138, 255.0, 107.9343330860138);'>me</span><span title='-0.609' style='margin: 1px; padding: 1px; border-radius: 4px; background: black; color: rgb(255.0, 177.32513800263405, 177.32513800263405);'>h</span><span title='-7.745' style='margin: 1px; padding: 1px; border-radius: 4px; background: black; color: rgb(255.0, -732.5257873535156, -732.5257873535156);'>&lt;/s&gt;</span></span><br/><br/>"
      ],
      "text/plain": [
       "<IPython.core.display.HTML object>"
      ]
     },
     "metadata": {},
     "output_type": "display_data"
    },
    {
     "name": "stdout",
     "output_type": "stream",
     "text": [
      "QOI = POSITIVE\n"
     ]
    },
    {
     "data": {
      "text/html": [
       "<span style='padding: 2px; margin: 2px; background: gray; border-radius: 4px;'>positive:&nbsp;<span title='0.051' style='margin: 1px; padding: 1px; border-radius: 4px; background: black; color: rgb(248.47988426685333, 255.0, 248.47988426685333);'>&lt;s&gt;</span><span title='0.242' style='margin: 1px; padding: 1px; border-radius: 4px; background: black; color: rgb(224.15390878915787, 255.0, 224.15390878915787);'>I</span><span title='0.508' style='margin: 1px; padding: 1px; border-radius: 4px; background: black; color: rgb(190.2455922961235, 255.0, 190.2455922961235);'>&#x27;m</span>&nbsp;<span title='0.806' style='margin: 1px; padding: 1px; border-radius: 4px; background: black; color: rgb(152.21730887889862, 255.0, 152.21730887889862);'>so</span>&nbsp;<span title='1.634' style='margin: 1px; padding: 1px; border-radius: 4px; background: black; color: rgb(46.69703185558319, 255.0, 46.69703185558319);'>happy</span><span title='0.286' style='margin: 1px; padding: 1px; border-radius: 4px; background: black; color: rgb(218.52370530366898, 255.0, 218.52370530366898);'>!</span><span title='-0.230' style='margin: 1px; padding: 1px; border-radius: 4px; background: black; color: rgb(255.0, 225.70755422115326, 225.70755422115326);'>&lt;/s&gt;</span></span><br/><br/><span style='padding: 2px; margin: 2px; background: gray; border-radius: 4px;'>negative:&nbsp;<span title='-0.061' style='margin: 1px; padding: 1px; border-radius: 4px; background: black; color: rgb(255.0, 247.17355283908546, 247.17355283908546);'>&lt;s&gt;</span><span title='-0.032' style='margin: 1px; padding: 1px; border-radius: 4px; background: black; color: rgb(255.0, 250.8740488719195, 250.8740488719195);'>I</span><span title='0.120' style='margin: 1px; padding: 1px; border-radius: 4px; background: black; color: rgb(239.6820681542158, 255.0, 239.6820681542158);'>&#x27;m</span>&nbsp;<span title='-0.147' style='margin: 1px; padding: 1px; border-radius: 4px; background: black; color: rgb(255.0, 236.2927982211113, 236.2927982211113);'>so</span>&nbsp;<span title='-0.551' style='margin: 1px; padding: 1px; border-radius: 4px; background: black; color: rgb(255.0, 184.69801157712936, 184.69801157712936);'>sad</span><span title='0.249' style='margin: 1px; padding: 1px; border-radius: 4px; background: black; color: rgb(223.26719217002392, 255.0, 223.26719217002392);'>!</span><span title='0.273' style='margin: 1px; padding: 1px; border-radius: 4px; background: black; color: rgb(220.2345521003008, 255.0, 220.2345521003008);'>&lt;/s&gt;</span></span><br/><br/><span style='padding: 2px; margin: 2px; background: gray; border-radius: 4px;'>negative:&nbsp;<span title='-0.042' style='margin: 1px; padding: 1px; border-radius: 4px; background: black; color: rgb(255.0, 249.58637159317732, 249.58637159317732);'>&lt;s&gt;</span><span title='-0.085' style='margin: 1px; padding: 1px; border-radius: 4px; background: black; color: rgb(255.0, 244.14167795330286, 244.14167795330286);'>I</span>&nbsp;<span title='-0.626' style='margin: 1px; padding: 1px; border-radius: 4px; background: black; color: rgb(255.0, 175.1816350221634, 175.1816350221634);'>cannot</span>&nbsp;<span title='0.013' style='margin: 1px; padding: 1px; border-radius: 4px; background: black; color: rgb(253.37806783849373, 255.0, 253.37806783849373);'>tell</span>&nbsp;<span title='-0.323' style='margin: 1px; padding: 1px; border-radius: 4px; background: black; color: rgb(255.0, 213.8487173616886, 213.8487173616886);'>whether</span>&nbsp;<span title='0.088' style='margin: 1px; padding: 1px; border-radius: 4px; background: black; color: rgb(243.75158993527293, 255.0, 243.75158993527293);'>I</span>&nbsp;<span title='0.185' style='margin: 1px; padding: 1px; border-radius: 4px; background: black; color: rgb(231.4122299104929, 255.0, 231.4122299104929);'>should</span>&nbsp;<span title='0.226' style='margin: 1px; padding: 1px; border-radius: 4px; background: black; color: rgb(226.23097613453865, 255.0, 226.23097613453865);'>be</span>&nbsp;<span title='0.906' style='margin: 1px; padding: 1px; border-radius: 4px; background: black; color: rgb(139.45348218083382, 255.0, 139.45348218083382);'>happy</span>&nbsp;<span title='0.155' style='margin: 1px; padding: 1px; border-radius: 4px; background: black; color: rgb(235.23829970508814, 255.0, 235.23829970508814);'>or</span>&nbsp;<span title='-0.136' style='margin: 1px; padding: 1px; border-radius: 4px; background: black; color: rgb(255.0, 237.60766826570034, 237.60766826570034);'>sad</span><span title='0.320' style='margin: 1px; padding: 1px; border-radius: 4px; background: black; color: rgb(214.16952654719353, 255.0, 214.16952654719353);'>!</span><span title='0.242' style='margin: 1px; padding: 1px; border-radius: 4px; background: black; color: rgb(224.15229387581348, 255.0, 224.15229387581348);'>&lt;/s&gt;</span></span><br/><br/><span style='padding: 2px; margin: 2px; background: gray; border-radius: 4px;'>neutral:&nbsp;<span title='0.027' style='margin: 1px; padding: 1px; border-radius: 4px; background: black; color: rgb(251.53901604004204, 255.0, 251.53901604004204);'>&lt;s&gt;</span><span title='0.348' style='margin: 1px; padding: 1px; border-radius: 4px; background: black; color: rgb(210.6059067696333, 255.0, 210.6059067696333);'>me</span><span title='0.259' style='margin: 1px; padding: 1px; border-radius: 4px; background: black; color: rgb(221.94125331938267, 255.0, 221.94125331938267);'>h</span><span title='-0.185' style='margin: 1px; padding: 1px; border-radius: 4px; background: black; color: rgb(255.0, 231.4312668889761, 231.4312668889761);'>&lt;/s&gt;</span></span><br/><br/>"
      ],
      "text/plain": [
       "<IPython.core.display.HTML object>"
      ]
     },
     "metadata": {},
     "output_type": "display_data"
    }
   ],
   "source": [
    "from trulens.visualizations import NLP\n",
    "\n",
    "V = NLP(\n",
    "    wrapper=task.wrapper,\n",
    "    labels=task.labels,\n",
    "    decode=lambda x: task.tokenizer.decode(x),\n",
    "    tokenize=lambda sentences: ModelInputs(kwargs=task.tokenizer(sentences, padding=True, return_tensors='pt')).map(lambda t: t.to(task.device)),\n",
    "    # huggingface models can take as input the keyword args as per produced by their tokenizers.\n",
    "\n",
    "    input_accessor=lambda x: x.kwargs['input_ids'],\n",
    "    # for huggingface models, input/token ids are under input_ids key in the input dictionary\n",
    "\n",
    "    output_accessor=lambda x: x['logits'],\n",
    "    # and logits under 'logits' key in the output dictionary\n",
    "\n",
    "    hidden_tokens=set([task.tokenizer.pad_token_id])\n",
    "    # do not display these tokens\n",
    ")\n",
    "\n",
    "print(\"QOI = MAX PREDICTION\")\n",
    "display(V.token_attribution(sentences, infl_max))\n",
    "\n",
    "print(\"QOI = POSITIVE\")\n",
    "display(V.token_attribution(sentences, infl_positive))"
   ]
  },
  {
   "cell_type": "markdown",
   "metadata": {},
   "source": [
    "# Baselines\n",
    "\n",
    "We see in the above results that special tokens such as the sentence end **&lt;/s&gt;** contributes are found to contribute a lot to the model outputs. While this may be useful in some contexts, we are more interested in the contributions of the actual words in these sentences. To focus on the words more, we need to adjust the **baseline** used in the integrated gradients computation. By default in the instantiation so far, the baseline for each token is a zero vector of the same shape as its embedding. By making the basaeline be identicaly to the explained instances on special tokens, we can rid their impact from our measurement. Trulens provides a utility for this purpose in terms of `token_baseline` which constructs for you the methods to compute the appropriate baseline. "
   ]
  },
  {
   "cell_type": "code",
   "execution_count": 26,
   "metadata": {},
   "outputs": [],
   "source": [
    "from trulens.utils.nlp import token_baseline\n",
    "\n",
    "inputs_baseline_ids, inputs_baseline_embeddings = token_baseline(\n",
    "    keep_tokens=set([task.tokenizer.cls_token_id, task.tokenizer.sep_token_id]),\n",
    "    # Which tokens to preserve.\n",
    "\n",
    "    replacement_token=task.tokenizer.pad_token_id,\n",
    "    # What to replace tokens with.\n",
    "\n",
    "    input_accessor=lambda x: x.kwargs['input_ids'],\n",
    "\n",
    "    ids_to_embeddings=task.model.get_input_embeddings()\n",
    "    # Callable to produce embeddings from token ids.\n",
    ")"
   ]
  },
  {
   "cell_type": "markdown",
   "metadata": {},
   "source": [
    "We can now inspect the baselines on some example sentences. The first method returned by `token_baseline` gives us token ids to inspect while the second gives us the embeddings of the baseline which we will pass to the attributions method."
   ]
  },
  {
   "cell_type": "code",
   "execution_count": 27,
   "metadata": {},
   "outputs": [
    {
     "name": "stdout",
     "output_type": "stream",
     "text": [
      "originals= [\"<s>I'm so happy!</s><pad><pad><pad><pad><pad><pad>\", \"<s>I'm so sad!</s><pad><pad><pad><pad><pad><pad>\", '<s>I cannot tell whether I should be happy or sad!</s>', '<s>meh</s><pad><pad><pad><pad><pad><pad><pad><pad><pad>']\n",
      "baselines= ['<s><pad><pad><pad><pad><pad></s><pad><pad><pad><pad><pad><pad>', '<s><pad><pad><pad><pad><pad></s><pad><pad><pad><pad><pad><pad>', '<s><pad><pad><pad><pad><pad><pad><pad><pad><pad><pad><pad></s>', '<s><pad><pad></s><pad><pad><pad><pad><pad><pad><pad><pad><pad>']\n"
     ]
    }
   ],
   "source": [
    "print(\"originals=\", task.tokenizer.batch_decode(inputs['input_ids']))\n",
    "\n",
    "baseline_word_ids = inputs_baseline_ids(model_inputs=ModelInputs(args=[], kwargs=inputs))\n",
    "print(\"baselines=\", task.tokenizer.batch_decode(baseline_word_ids))"
   ]
  },
  {
   "cell_type": "code",
   "execution_count": 28,
   "metadata": {},
   "outputs": [
    {
     "name": "stdout",
     "output_type": "stream",
     "text": [
      "QOI = POSITIVE WITH BASELINE\n"
     ]
    },
    {
     "data": {
      "text/html": [
       "<span style='padding: 2px; margin: 2px; background: gray; border-radius: 4px;'>positive:&nbsp;<span title='0.000' style='margin: 1px; padding: 1px; border-radius: 4px; background: black; color: rgb(255.0, 255.0, 255.0);'>&lt;s&gt;</span><span title='-0.240' style='margin: 1px; padding: 1px; border-radius: 4px; background: black; color: rgb(255.0, 224.42057088017464, 224.42057088017464);'>I</span><span title='0.434' style='margin: 1px; padding: 1px; border-radius: 4px; background: black; color: rgb(199.6445019543171, 255.0, 199.6445019543171);'>&#x27;m</span>&nbsp;<span title='0.618' style='margin: 1px; padding: 1px; border-radius: 4px; background: black; color: rgb(176.1715579032898, 255.0, 176.1715579032898);'>so</span>&nbsp;<span title='1.579' style='margin: 1px; padding: 1px; border-radius: 4px; background: black; color: rgb(53.669384121894836, 255.0, 53.669384121894836);'>happy</span><span title='0.840' style='margin: 1px; padding: 1px; border-radius: 4px; background: black; color: rgb(147.88894593715668, 255.0, 147.88894593715668);'>!</span><span title='0.000' style='margin: 1px; padding: 1px; border-radius: 4px; background: black; color: rgb(255.0, 255.0, 255.0);'>&lt;/s&gt;</span></span><br/><br/><span style='padding: 2px; margin: 2px; background: gray; border-radius: 4px;'>negative:&nbsp;<span title='0.000' style='margin: 1px; padding: 1px; border-radius: 4px; background: black; color: rgb(255.0, 255.0, 255.0);'>&lt;s&gt;</span><span title='-0.035' style='margin: 1px; padding: 1px; border-radius: 4px; background: black; color: rgb(255.0, 250.56332149542868, 250.56332149542868);'>I</span><span title='0.065' style='margin: 1px; padding: 1px; border-radius: 4px; background: black; color: rgb(246.70541938394308, 255.0, 246.70541938394308);'>&#x27;m</span>&nbsp;<span title='-0.485' style='margin: 1px; padding: 1px; border-radius: 4px; background: black; color: rgb(255.0, 193.18346925079823, 193.18346925079823);'>so</span>&nbsp;<span title='-0.616' style='margin: 1px; padding: 1px; border-radius: 4px; background: black; color: rgb(255.0, 176.44549280405045, 176.44549280405045);'>sad</span><span title='-0.110' style='margin: 1px; padding: 1px; border-radius: 4px; background: black; color: rgb(255.0, 240.99574316293, 240.99574316293);'>!</span><span title='0.000' style='margin: 1px; padding: 1px; border-radius: 4px; background: black; color: rgb(255.0, 255.0, 255.0);'>&lt;/s&gt;</span></span><br/><br/><span style='padding: 2px; margin: 2px; background: gray; border-radius: 4px;'>negative:&nbsp;<span title='0.000' style='margin: 1px; padding: 1px; border-radius: 4px; background: black; color: rgb(255.0, 255.0, 255.0);'>&lt;s&gt;</span><span title='0.067' style='margin: 1px; padding: 1px; border-radius: 4px; background: black; color: rgb(246.46646920591593, 255.0, 246.46646920591593);'>I</span>&nbsp;<span title='-0.430' style='margin: 1px; padding: 1px; border-radius: 4px; background: black; color: rgb(255.0, 200.18906213343143, 200.18906213343143);'>cannot</span>&nbsp;<span title='-0.006' style='margin: 1px; padding: 1px; border-radius: 4px; background: black; color: rgb(255.0, 254.2727603483945, 254.2727603483945);'>tell</span>&nbsp;<span title='-0.550' style='margin: 1px; padding: 1px; border-radius: 4px; background: black; color: rgb(255.0, 184.9293127655983, 184.9293127655983);'>whether</span>&nbsp;<span title='0.189' style='margin: 1px; padding: 1px; border-radius: 4px; background: black; color: rgb(230.9577514976263, 255.0, 230.9577514976263);'>I</span>&nbsp;<span title='-0.083' style='margin: 1px; padding: 1px; border-radius: 4px; background: black; color: rgb(255.0, 244.3631547689438, 244.3631547689438);'>should</span>&nbsp;<span title='0.178' style='margin: 1px; padding: 1px; border-radius: 4px; background: black; color: rgb(232.29232158511877, 255.0, 232.29232158511877);'>be</span>&nbsp;<span title='0.583' style='margin: 1px; padding: 1px; border-radius: 4px; background: black; color: rgb(180.65993785858154, 255.0, 180.65993785858154);'>happy</span>&nbsp;<span title='0.063' style='margin: 1px; padding: 1px; border-radius: 4px; background: black; color: rgb(246.93817399442196, 255.0, 246.93817399442196);'>or</span>&nbsp;<span title='-0.186' style='margin: 1px; padding: 1px; border-radius: 4px; background: black; color: rgb(255.0, 231.2725418061018, 231.2725418061018);'>sad</span><span title='0.025' style='margin: 1px; padding: 1px; border-radius: 4px; background: black; color: rgb(251.85287967324257, 255.0, 251.85287967324257);'>!</span><span title='0.000' style='margin: 1px; padding: 1px; border-radius: 4px; background: black; color: rgb(255.0, 255.0, 255.0);'>&lt;/s&gt;</span></span><br/><br/><span style='padding: 2px; margin: 2px; background: gray; border-radius: 4px;'>neutral:&nbsp;<span title='0.000' style='margin: 1px; padding: 1px; border-radius: 4px; background: black; color: rgb(255.0, 255.0, 255.0);'>&lt;s&gt;</span><span title='0.478' style='margin: 1px; padding: 1px; border-radius: 4px; background: black; color: rgb(194.036413282156, 255.0, 194.036413282156);'>me</span><span title='-0.425' style='margin: 1px; padding: 1px; border-radius: 4px; background: black; color: rgb(255.0, 200.78842297196388, 200.78842297196388);'>h</span><span title='0.000' style='margin: 1px; padding: 1px; border-radius: 4px; background: black; color: rgb(255.0, 255.0, 255.0);'>&lt;/s&gt;</span></span><br/><br/>"
      ],
      "text/plain": [
       "<IPython.core.display.HTML object>"
      ]
     },
     "metadata": {},
     "output_type": "display_data"
    }
   ],
   "source": [
    "infl_positive_baseline = IntegratedGradients(\n",
    "    model = task.wrapper,\n",
    "    resolution=50,\n",
    "    baseline = inputs_baseline_embeddings,\n",
    "    doi_cut=Cut('roberta_embeddings_word_embeddings'),\n",
    "    qoi=ClassQoI(task.POSITIVE),\n",
    "    qoi_cut=OutputCut(accessor=lambda o: o['logits'])\n",
    ")\n",
    "\n",
    "print(\"QOI = POSITIVE WITH BASELINE\")\n",
    "display(V.token_attribution(sentences, infl_positive_baseline))"
   ]
  },
  {
   "cell_type": "markdown",
   "metadata": {},
   "source": [
    "As we see, the baseline eliminated the measurement of contribution of the special tokens."
   ]
  }
 ],
 "metadata": {
  "anaconda-cloud": {},
  "interpreter": {
   "hash": "51eb71198507ab2c2a4108a27eda9d9658549732e67153fc0e371d8439827db7"
  },
  "kernelspec": {
   "display_name": "test-fresh-11-29",
   "language": "python",
   "name": "python3"
  },
  "language_info": {
   "codemirror_mode": {
    "name": "ipython",
    "version": 3
   },
   "file_extension": ".py",
   "mimetype": "text/x-python",
   "name": "python",
   "nbconvert_exporter": "python",
   "pygments_lexer": "ipython3",
   "version": "3.7.0"
  }
 },
 "nbformat": 4,
 "nbformat_minor": 2
}
