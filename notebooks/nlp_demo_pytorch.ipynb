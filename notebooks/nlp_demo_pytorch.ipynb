{
 "cells": [
  {
   "cell_type": "code",
   "execution_count": 1,
   "metadata": {},
   "outputs": [
    {
     "name": "stdout",
     "output_type": "stream",
     "text": [
      "Requirement already satisfied: trulens in /home/piotrm/repos/trulens (0.0.3)\n",
      "Requirement already satisfied: matplotlib in /home/piotrm/anaconda3/envs/demo3/lib/python3.7/site-packages (3.1.0)\n",
      "Requirement already satisfied: python-dateutil>=2.1 in /home/piotrm/anaconda3/envs/demo3/lib/python3.7/site-packages (from matplotlib) (2.8.2)\n",
      "Requirement already satisfied: kiwisolver>=1.0.1 in /home/piotrm/anaconda3/envs/demo3/lib/python3.7/site-packages (from matplotlib) (1.1.0)\n",
      "Requirement already satisfied: cycler>=0.10 in /home/piotrm/anaconda3/envs/demo3/lib/python3.7/site-packages (from matplotlib) (0.10.0)\n",
      "Requirement already satisfied: numpy>=1.11 in /home/piotrm/anaconda3/envs/demo3/lib/python3.7/site-packages (from matplotlib) (1.21.5)\n",
      "Requirement already satisfied: pyparsing!=2.0.4,!=2.1.2,!=2.1.6,>=2.0.1 in /home/piotrm/anaconda3/envs/demo3/lib/python3.7/site-packages (from matplotlib) (2.4.0)\n",
      "Requirement already satisfied: six in /home/piotrm/anaconda3/envs/demo3/lib/python3.7/site-packages (from cycler>=0.10->matplotlib) (1.16.0)\n",
      "Requirement already satisfied: setuptools in /home/piotrm/anaconda3/envs/demo3/lib/python3.7/site-packages (from kiwisolver>=1.0.1->matplotlib) (51.0.0.post20201207)\n"
     ]
    }
   ],
   "source": [
    "import sys\n",
    "!{sys.executable} -m pip install trulens\n",
    "!{sys.executable} -m pip install matplotlib"
   ]
  },
  {
   "cell_type": "markdown",
   "metadata": {
    "nbpresent": {
     "id": "4ed9c783-b745-4c6a-b674-d8b6935dd62d"
    }
   },
   "source": [
    "# Attributions"
   ]
  },
  {
   "cell_type": "markdown",
   "metadata": {
    "nbpresent": {
     "id": "1cfd9f6d-1cb6-4fc1-a69b-0338d68ce62c"
    }
   },
   "source": [
    "## Model Wrappers\n",
    "\n",
    "In order to support a wide variety of backends with different interfaces for their respective models, TruLens uses its own `ModelWrapper` class which provides a general model interface to simplify the implementation of the API functions.\n",
    "To get the model wrapper, use the `get_model_wrapper` method in `trulens.nn.models`. A model wrapper class exists for each backend that converts a model in the respective backend's format to the general TruLens `ModelWrapper` interface. The wrappers are found in the `models` module, and any model defined using Keras, Pytorch, or Tensorflow should be wrapped before being used with the other API functions that require a model -- all other TruLens functionalities expect models to be an instance of `trulens.nn.models.ModelWrapper`.\n",
    "\n",
    "For more details on allowed parameters, see the [get_model_wrapper](https://truera.github.io/trulens/api/model_wrappers/) documentation.\n",
    "\n",
    "For this demo, we will be using a Pytorch model pre-trained on Imagenet. "
   ]
  },
  {
   "cell_type": "code",
   "execution_count": 1,
   "metadata": {
    "nbpresent": {
     "id": "6a7dd470-8385-4028-8b44-3f1e427af157"
    }
   },
   "outputs": [],
   "source": [
    "import torch\n",
    "# import torchvision.models as models\n",
    "# import torchvision.transforms as transforms\n",
    "import numpy as np\n",
    "\n",
    "from trulens.nn.models import get_model_wrapper\n",
    "\n",
    "import numpy as np\n",
    "import matplotlib.pyplot as plt\n",
    "import PIL\n",
    "\n",
    "%matplotlib inline"
   ]
  },
  {
   "cell_type": "code",
   "execution_count": 2,
   "metadata": {},
   "outputs": [],
   "source": [
    "import os\n",
    "from pathlib import Path\n",
    "import random\n",
    "import pandas as pd\n",
    "import json\n",
    "\n",
    "from typing import List\n",
    "\n",
    "from pathlib import Path\n",
    "import torch\n",
    "import torch.nn as nn\n",
    "from torchtext.data import get_tokenizer\n",
    "\n",
    "class ToySentiment(nn.Module):\n",
    "    @staticmethod\n",
    "    def from_pretrained(model_code_path: Path) -> 'ToySentiment':\n",
    "        # Not strictly necessary to load or save given fixed parameters can be populated, but \n",
    "        # implementing this for better integration testing.\n",
    "        model = ToySentiment()\n",
    "        model.load_state_dict(torch.load(model_code_path))\n",
    "\n",
    "    def to_pretrained(self, model_code_path: Path) -> None:\n",
    "        torch.save(self.state_dict(), model_code_path)\n",
    "\n",
    "    def set_parameters(self) -> None:\n",
    "        \"\"\"Set model parameters as per fixed specification.\"\"\"\n",
    "\n",
    "        Wi = torch.zeros_like(self.lstm.weight_ih_l0)\n",
    "        bi = torch.zeros_like(self.lstm.bias_ih_l0)\n",
    "        Wh = torch.zeros_like(self.lstm.weight_hh_l0)\n",
    "        bh = torch.zeros_like(self.lstm.bias_hh_l0)\n",
    "\n",
    "        big = 1000.0 # Multipliers to help dealing with LSTM sigmoids.\n",
    "        half = 400.0 # Intention here is that sigmoid((x*big) - half) is ~0 if x is ~0; and\n",
    "                     # ~1 when indicator is >~ 1.\n",
    "\n",
    "        hs = self.hidden_size\n",
    "\n",
    "        sneutral = 0\n",
    "        sgood = 1\n",
    "        sbad = 2\n",
    "        sconfused = 3\n",
    "\n",
    "        wneutral = self.vocab['neutral']\n",
    "        wgood = self.vocab['good']\n",
    "        wbad = self.vocab['bad']\n",
    "        \n",
    "        # make sure c gate is always big\n",
    "        bi[0:hs*3] = 50\n",
    "        bh[0:hs*3] = 50\n",
    "\n",
    "        # o gate weights:\n",
    "        Wi[3*hs,   wneutral] = big # read neutral word\n",
    "        Wi[3*hs+1, wgood] = big # read good word\n",
    "        Wi[3*hs+2, wbad] = big # read bad word\n",
    "        Wh[3*hs,   sneutral] = big # keep prior neutral, good, bad states\n",
    "        Wh[3*hs+1, sgood] = big # \n",
    "        Wh[3*hs+2, sbad] = big #\n",
    "        bi[3*hs:4*hs] = -half # sigmoid will be 0 unless one of the three words was read\n",
    "\n",
    "        # set \"good to bad\" confused if prior was good, and input was bad\n",
    "        Wh[3*hs+3, sgood] = big    # (prior state was good\n",
    "        Wi[3*hs+3, wbad] = big    #  and input was bad)\n",
    "        Wh[3*hs+3, sconfused] = 2*big  # or (was already in this confused state)\n",
    "        bh[3*hs+3] = -(half*2) # Want at least 2 of first two to fire, or just the last one to fire.\n",
    "\n",
    "        # set \"bad to good\" confused if prior was bad, and input was good\n",
    "        Wh[3*hs+4, sbad] = big     # (prior state was bad\n",
    "        Wi[3*hs+4, wgood] = big     #  and input was good)\n",
    "        Wh[3*hs+4, sconfused] = 2*big   # or (was already confused)\n",
    "        bh[3*hs+4] = -(half*2)  #\n",
    "\n",
    "        self.lstm.weight_hh_l0 = nn.Parameter(Wh)\n",
    "        self.lstm.bias_hh_l0 = nn.Parameter(bh)\n",
    "        self.lstm.weight_ih_l0 = nn.Parameter(Wi)\n",
    "        self.lstm.bias_ih_l0 = nn.Parameter(bi)\n",
    "\n",
    "        self.embedding.weight = nn.Parameter(torch.eye(self.emb_size))\n",
    "\n",
    "        self.lin.weight = nn.Parameter(torch.tensor(\n",
    "            [\n",
    "                [10.0, 0.0, 0.0, 0.0, 0.0],\n",
    "                [0.0, 20.0, 0.0, 0.0, 0.0],\n",
    "                [0.0, 0.0, 20.0, 0.0, 0.0],\n",
    "                [0.0, 0.0, 0.0, 30.0, 30.0]\n",
    "            ]\n",
    "        ))\n",
    "\n",
    "    def __init__(self):\n",
    "        super().__init__()\n",
    "        \n",
    "        self.tokenizer = get_tokenizer(\"basic_english\")\n",
    "\n",
    "        self.vocab = {\"[UNKNOWN]\": 0, \"neutral\": 1, \"good\": 2, \"bad\": 3}\n",
    "\n",
    "        self.emb_size = len(self.vocab)\n",
    "\n",
    "        self.hidden_size = 5\n",
    "        # 5 states, one for neutral, one for positive, one for negative, and two for confused. Requiring two\n",
    "        # confused states for simplicity of the model; it is easier to encode semantics of confusion based on \n",
    "        # which initial positive/negative state was set first.\n",
    "\n",
    "        # Identity embedding, each vocab word has its own dimension where its presence is encoded.\n",
    "        self.embedding = nn.Embedding(\n",
    "            padding_idx=0, \n",
    "            embedding_dim=self.emb_size, \n",
    "            num_embeddings=self.emb_size\n",
    "        )\n",
    "\n",
    "        self.lstm = nn.LSTM(\n",
    "            input_size=self.emb_size,\n",
    "            hidden_size=self.hidden_size,\n",
    "            num_layers=1,\n",
    "            batch_first=True\n",
    "        )\n",
    "\n",
    "        # Linear layer to combine the two types of confused state and weight things so that\n",
    "        # confused outweighs positive and negative, while positive and negative outweigh neutral \n",
    "        # if more than one of these states is set.\n",
    "        self.lin = torch.nn.Linear(\n",
    "            in_features=self.hidden_size,\n",
    "            out_features=4,\n",
    "            bias=False\n",
    "        )\n",
    "\n",
    "        # Finally add a softmax for classification.\n",
    "        self.softmax = torch.nn.Softmax(dim=2)\n",
    "\n",
    "        self.set_parameters()\n",
    "\n",
    "    def forward(self, word_ids: torch.Tensor) -> torch.Tensor:\n",
    "        batch_size = word_ids.shape[0]\n",
    "        h0 = torch.zeros(1, batch_size, self.hidden_size)\n",
    "        h0[0,0,0] = 1.0 # initial state is neutral\n",
    "        c0 = torch.zeros(1, batch_size, self.hidden_size)\n",
    "\n",
    "        embeds = self.embedding(word_ids)\n",
    "        _, (hn, _) = self.lstm(embeds, (h0, c0))\n",
    "\n",
    "        return self.softmax(self.lin(hn))\n",
    "\n",
    "    def input_of_text(self, texts: List[str]) -> torch.Tensor:\n",
    "        tokens = [self.tokenizer(text) for text in texts]\n",
    "\n",
    "        word_ids = [[(self.vocab[t] if t in self.vocab else 0) for token in tokens for t in token]]\n",
    "\n",
    "        return torch.Tensor(word_ids).int()\n",
    "\n",
    "\n",
    "def generate_dataset(n, l):\n",
    "    \"\"\"Generate random sentiment sentences and their labels.\"\"\"\n",
    "\n",
    "    ret = []\n",
    "    cls = []\n",
    "    for i in range(n):\n",
    "        sent = []\n",
    "        while len(sent) < l:\n",
    "            r = random.random()\n",
    "\n",
    "            word = \"neutral\"\n",
    "\n",
    "            if r > 0.9 and len(sent) > 0:\n",
    "                continue\n",
    "            elif r > 0.8:\n",
    "                word = \"good\"\n",
    "            elif r > 0.7:\n",
    "                word = \"bad\"\n",
    "\n",
    "            sent.append(word)\n",
    "\n",
    "        ret.append(\" \".join(sent))\n",
    "\n",
    "        gt = 0 # neutral\n",
    "        if \"good\" in sent and \"bad\" in sent:\n",
    "            gt = 3 # confused\n",
    "        elif \"good\" in sent:\n",
    "            gt = 1 # positive\n",
    "        elif \"bad\" in sent:\n",
    "            gt = 2 # negative\n",
    "\n",
    "        cls.append(gt)\n",
    "\n",
    "    return pd.DataFrame(dict(sentence=ret, sentiment=cls))"
   ]
  },
  {
   "cell_type": "code",
   "execution_count": 3,
   "metadata": {},
   "outputs": [
    {
     "data": {
      "text/html": [
       "<div>\n",
       "<style scoped>\n",
       "    .dataframe tbody tr th:only-of-type {\n",
       "        vertical-align: middle;\n",
       "    }\n",
       "\n",
       "    .dataframe tbody tr th {\n",
       "        vertical-align: top;\n",
       "    }\n",
       "\n",
       "    .dataframe thead th {\n",
       "        text-align: right;\n",
       "    }\n",
       "</style>\n",
       "<table border=\"1\" class=\"dataframe\">\n",
       "  <thead>\n",
       "    <tr style=\"text-align: right;\">\n",
       "      <th></th>\n",
       "      <th>sentence</th>\n",
       "      <th>sentiment</th>\n",
       "    </tr>\n",
       "  </thead>\n",
       "  <tbody>\n",
       "    <tr>\n",
       "      <th>0</th>\n",
       "      <td>neutral bad neutral neutral neutral neutral ne...</td>\n",
       "      <td>3</td>\n",
       "    </tr>\n",
       "    <tr>\n",
       "      <th>1</th>\n",
       "      <td>neutral neutral neutral neutral neutral neutra...</td>\n",
       "      <td>3</td>\n",
       "    </tr>\n",
       "    <tr>\n",
       "      <th>2</th>\n",
       "      <td>neutral neutral bad neutral neutral neutral ne...</td>\n",
       "      <td>3</td>\n",
       "    </tr>\n",
       "    <tr>\n",
       "      <th>3</th>\n",
       "      <td>neutral neutral neutral neutral neutral neutra...</td>\n",
       "      <td>2</td>\n",
       "    </tr>\n",
       "    <tr>\n",
       "      <th>4</th>\n",
       "      <td>bad bad neutral neutral neutral neutral neutra...</td>\n",
       "      <td>2</td>\n",
       "    </tr>\n",
       "    <tr>\n",
       "      <th>...</th>\n",
       "      <td>...</td>\n",
       "      <td>...</td>\n",
       "    </tr>\n",
       "    <tr>\n",
       "      <th>995</th>\n",
       "      <td>neutral neutral neutral neutral neutral neutra...</td>\n",
       "      <td>3</td>\n",
       "    </tr>\n",
       "    <tr>\n",
       "      <th>996</th>\n",
       "      <td>good neutral neutral neutral bad neutral neutr...</td>\n",
       "      <td>3</td>\n",
       "    </tr>\n",
       "    <tr>\n",
       "      <th>997</th>\n",
       "      <td>neutral neutral neutral bad bad bad neutral ne...</td>\n",
       "      <td>3</td>\n",
       "    </tr>\n",
       "    <tr>\n",
       "      <th>998</th>\n",
       "      <td>good neutral neutral neutral neutral neutral n...</td>\n",
       "      <td>3</td>\n",
       "    </tr>\n",
       "    <tr>\n",
       "      <th>999</th>\n",
       "      <td>neutral neutral neutral neutral neutral neutra...</td>\n",
       "      <td>3</td>\n",
       "    </tr>\n",
       "  </tbody>\n",
       "</table>\n",
       "<p>1000 rows × 2 columns</p>\n",
       "</div>"
      ],
      "text/plain": [
       "                                              sentence  sentiment\n",
       "0    neutral bad neutral neutral neutral neutral ne...          3\n",
       "1    neutral neutral neutral neutral neutral neutra...          3\n",
       "2    neutral neutral bad neutral neutral neutral ne...          3\n",
       "3    neutral neutral neutral neutral neutral neutra...          2\n",
       "4    bad bad neutral neutral neutral neutral neutra...          2\n",
       "..                                                 ...        ...\n",
       "995  neutral neutral neutral neutral neutral neutra...          3\n",
       "996  good neutral neutral neutral bad neutral neutr...          3\n",
       "997  neutral neutral neutral bad bad bad neutral ne...          3\n",
       "998  good neutral neutral neutral neutral neutral n...          3\n",
       "999  neutral neutral neutral neutral neutral neutra...          3\n",
       "\n",
       "[1000 rows x 2 columns]"
      ]
     },
     "execution_count": 3,
     "metadata": {},
     "output_type": "execute_result"
    }
   ],
   "source": [
    "test_data = generate_dataset(1000, 16)\n",
    "test_data"
   ]
  },
  {
   "cell_type": "code",
   "execution_count": 4,
   "metadata": {
    "nbpresent": {
     "id": "ee31d8b0-864d-4c7e-b3d2-d937e1d287ba"
    }
   },
   "outputs": [
    {
     "name": "stderr",
     "output_type": "stream",
     "text": [
      "INFO: lib level=1\n",
      "INFO: root level=30\n",
      "INFO: Detected pytorch backend for <class '__main__.ToySentiment'>.\n",
      "INFO: Changing backend from None to Backend.PYTORCH.\n",
      "INFO: If this seems incorrect, you can force the correct backend by passing the `backend` parameter directly into your get_model_wrapper call.\n"
     ]
    }
   ],
   "source": [
    "pytorch_model = ToySentiment()\n",
    "\n",
    "\n",
    "device = 'cpu'\n",
    "# Produce a wrapped model from the pytorch model.\n",
    "model = get_model_wrapper(pytorch_model, input_shape=(16), device=device, input_dtype=int)"
   ]
  },
  {
   "cell_type": "code",
   "execution_count": 5,
   "metadata": {},
   "outputs": [
    {
     "name": "stdout",
     "output_type": "stream",
     "text": [
      "'embedding':\tEmbedding(4, 4, padding_idx=0)\n",
      "'lstm':\tLSTM(4, 5, batch_first=True)\n",
      "'lin':\tLinear(in_features=5, out_features=4, bias=False)\n",
      "'softmax':\tSoftmax(dim=2)\n"
     ]
    }
   ],
   "source": [
    "model.print_layer_names()"
   ]
  },
  {
   "cell_type": "code",
   "execution_count": 9,
   "metadata": {},
   "outputs": [
    {
     "name": "stdout",
     "output_type": "stream",
     "text": [
      "neutral neutral neutral good neutral neutral good neutral neutral neutral good neutral neutral neutral neutral neutral \t tensor([[1, 1, 1, 2, 1, 1, 2, 1, 1, 1, 2, 1, 1, 1, 1, 1]], dtype=torch.int32) \t prediction= tensor(1) \t label= 1\n",
      "neutral neutral bad neutral neutral bad good neutral good neutral good neutral neutral bad neutral neutral \t tensor([[1, 1, 3, 1, 1, 3, 2, 1, 2, 1, 2, 1, 1, 3, 1, 1]], dtype=torch.int32) \t prediction= tensor(3) \t label= 3\n",
      "neutral neutral neutral neutral good neutral neutral neutral good neutral neutral bad bad neutral neutral bad \t tensor([[1, 1, 1, 1, 2, 1, 1, 1, 2, 1, 1, 3, 3, 1, 1, 3]], dtype=torch.int32) \t prediction= tensor(3) \t label= 3\n",
      "neutral neutral bad neutral neutral neutral neutral neutral neutral neutral neutral good neutral neutral neutral neutral \t tensor([[1, 1, 3, 1, 1, 1, 1, 1, 1, 1, 1, 2, 1, 1, 1, 1]], dtype=torch.int32) \t prediction= tensor(1) \t label= 3\n",
      "neutral bad neutral good good neutral neutral neutral neutral neutral bad good neutral neutral neutral neutral \t tensor([[1, 3, 1, 2, 2, 1, 1, 1, 1, 1, 3, 2, 1, 1, 1, 1]], dtype=torch.int32) \t prediction= tensor(3) \t label= 3\n",
      "good neutral neutral neutral neutral neutral neutral neutral neutral neutral neutral good neutral neutral neutral neutral \t tensor([[2, 1, 1, 1, 1, 1, 1, 1, 1, 1, 1, 2, 1, 1, 1, 1]], dtype=torch.int32) \t prediction= tensor(1) \t label= 1\n",
      "neutral neutral good neutral neutral neutral neutral bad neutral neutral neutral neutral good neutral neutral neutral \t tensor([[1, 1, 2, 1, 1, 1, 1, 3, 1, 1, 1, 1, 2, 1, 1, 1]], dtype=torch.int32) \t prediction= tensor(3) \t label= 3\n",
      "good neutral neutral neutral good neutral neutral neutral neutral neutral neutral neutral neutral neutral neutral neutral \t tensor([[2, 1, 1, 1, 2, 1, 1, 1, 1, 1, 1, 1, 1, 1, 1, 1]], dtype=torch.int32) \t prediction= tensor(1) \t label= 1\n",
      "neutral neutral neutral neutral neutral neutral neutral neutral neutral bad neutral good neutral neutral neutral neutral \t tensor([[1, 1, 1, 1, 1, 1, 1, 1, 1, 3, 1, 2, 1, 1, 1, 1]], dtype=torch.int32) \t prediction= tensor(1) \t label= 3\n",
      "neutral neutral neutral good bad neutral neutral good bad neutral neutral neutral neutral bad neutral neutral \t tensor([[1, 1, 1, 2, 3, 1, 1, 2, 3, 1, 1, 1, 1, 3, 1, 1]], dtype=torch.int32) \t prediction= tensor(3) \t label= 3\n"
     ]
    }
   ],
   "source": [
    "m = ToySentiment()\n",
    "\n",
    "test_data = generate_dataset(10, 16)\n",
    "\n",
    "for sentence, sentiment in zip(test_data['sentence'], test_data['sentiment']):\n",
    "    word_ids = m.input_of_text([sentence])\n",
    "    out = m(word_ids)\n",
    "    print(sentence, \"\\t\", word_ids, \"\\t\", \"prediction=\", torch.argmax(out), \"\\t\", \"label=\", sentiment)"
   ]
  },
  {
   "cell_type": "markdown",
   "metadata": {
    "nbpresent": {
     "id": "aced38b4-3bff-4159-a12b-ab22f83d5995"
    }
   },
   "source": [
    "Now that we've loaded our model, lets take a quick look at its predictions on the following record:"
   ]
  },
  {
   "cell_type": "markdown",
   "metadata": {
    "nbpresent": {
     "id": "4f5d1e90-3884-4f5a-ab33-e4b85867ad8e"
    }
   },
   "source": [
    "In the next section, we'll show how to use the TruLens API to further investigate the model's predictions on this record."
   ]
  },
  {
   "cell_type": "markdown",
   "metadata": {
    "nbpresent": {
     "id": "2db92483-0bb6-4bea-93c2-25eb3474c6fe"
    }
   },
   "source": [
    "## Attribution Methods\n",
    "\n",
    "*Attribution methods*, in the most general sense, allow us to quantify the contribution of particular variables in a model towards a particular behavior of the model. \n",
    "In many cases, for example, this may simply measure the effect each input variable has on the output of the network.\n",
    "\n",
    "Attribution methods extend the `AttributionMethod` class, and many concrete instances are found in the `attribution` module.\n",
    "\n",
    "Once an attribution method has been instantiated, its main function is its `attributions` method, which takes an `np.Array` of batched records, where each record matches the shape of the input to the model the attribution method was instantiated with.\n",
    "In this demo, we will mostly make use of the `InternalInfluence` attribution method, as it is the most general, though we will compare it briefly with the other methods."
   ]
  },
  {
   "cell_type": "markdown",
   "metadata": {},
   "source": [
    "### Getting started: Saliency Maps and Integrated Gradients\n",
    "\n",
    "The first methods that we will examine directly measure the importance of input features on the classification of the model. These are the most straightforward type of attributions to compute, as there are relatively few choices to make.\n",
    "\n",
    "* _Saliency maps_ take the gradient of the network's predicted class on a given input. See the reference by Simonyan et al. given below for more details and discussion of this method.\n",
    "* _Integrated gradients_ addresses some issues with saliency maps described by Sundararajan et al., and proposes a way of addressing them by aggregating the gradient on a linear subspace of the model's input features. Because this aggregation cannot be computed exactly in general, the implementation evaluates the gradient on a specified number of samples.\n",
    "\n",
    "We will see how to use each of these methods using the API, and how to visualize the results.\n",
    "\n",
    "---\n",
    "Karen Simonyan, Andrea Vedaldi, Andrew Zisserman. *Deep Inside Convolutional Networks: Visualising Image Classification Models and Saliency Maps*. ICLR 2014. [ArXiv](https://arxiv.org/pdf/1312.6034.pdf)\n",
    "\n",
    "Mukund Sundararajan, Ankur Taly, Qiqi Yan. *Axiomatic Attribution for Deep Networks* [PMLR](http://proceedings.mlr.press/v70/sundararajan17a/sundararajan17a.pdf)\n"
   ]
  },
  {
   "cell_type": "code",
   "execution_count": 8,
   "metadata": {},
   "outputs": [],
   "source": [
    "from trulens.nn.attribution import InputAttribution\n",
    "from trulens.nn.attribution import IntegratedGradients"
   ]
  },
  {
   "cell_type": "markdown",
   "metadata": {},
   "source": [
    "Saliency maps are implemented by the `InputAttribution` class. This takes several optional arguments, the meaning of which we will discuss later in this notebook. The provided defaults instantiate an `AttributionMethod` that is consistent with the method described in the reference above.\n",
    "\n",
    "The required argument to the constructor is a `ModelWrapper`. After constructing the attribution method, we call it on our data point, and receive an array containing the attributions."
   ]
  },
  {
   "cell_type": "code",
   "execution_count": 9,
   "metadata": {},
   "outputs": [],
   "source": [
    "infl = InputAttribution(model)\n",
    "attrs_input = infl.attributions(x_pp)"
   ]
  },
  {
   "cell_type": "markdown",
   "metadata": {},
   "source": [
    "To visualize the attributions, we can use `MaskVisualizer` from the `visualizations` module. This class takes a `blur` and `threshold` argument, and allows us to overlay a partially-opaque mask over a given image that reveals the top-threshold percentage of pixels by attribution, after applying a Gaussian blur of the given radius."
   ]
  },
  {
   "cell_type": "code",
   "execution_count": 10,
   "metadata": {},
   "outputs": [],
   "source": [
    "from trulens.visualizations import MaskVisualizer"
   ]
  },
  {
   "cell_type": "code",
   "execution_count": 11,
   "metadata": {},
   "outputs": [
    {
     "data": {
      "image/png": "[encoded data removed]",
      "text/plain": [
       "<Figure size 432x288 with 1 Axes>"
      ]
     },
     "metadata": {
      "needs_background": "light"
     },
     "output_type": "display_data"
    }
   ],
   "source": [
    "masked_image = MaskVisualizer(blur=5, threshold=0.95)(attrs_input, x)"
   ]
  },
  {
   "cell_type": "markdown",
   "metadata": {},
   "source": [
    "Turning to Integrated Gradients, the workflow for obtaining attributions is nearly identical. The only difference is that the `AttributionMethod` instance we construct is one of `IntegratedGradients` rather than `InputGradients`.\n",
    "\n",
    "The `resolution` argument, which is optional and defaults to 50, specifies the number of samples to take. Larger values approximate the true aggregate quantity more closely, and in practical terms, tend to be more stable.\n",
    "\n",
    "Another optional argument is the `baseline`, which specifies the linear subspace over which the quantity is aggregated. By default this is `None`, which is interpreted as an appropriately-sized zero tensor. In this case the linear subspace is the line between this zero tensor, and the point for which the attributions are computed."
   ]
  },
  {
   "cell_type": "code",
   "execution_count": 12,
   "metadata": {},
   "outputs": [
    {
     "name": "stderr",
     "output_type": "stream",
     "text": [
      "/home/piotrm/anaconda3/envs/python37_notebooks_latest/lib/python3.7/site-packages/torch/cuda/__init__.py:143: UserWarning: \n",
      "NVIDIA GeForce RTX 3090 with CUDA capability sm_86 is not compatible with the current PyTorch installation.\n",
      "The current PyTorch install supports CUDA capabilities sm_37 sm_50 sm_60 sm_70.\n",
      "If you want to use the NVIDIA GeForce RTX 3090 GPU with PyTorch, please check the instructions at https://pytorch.org/get-started/locally/\n",
      "\n",
      "  warnings.warn(incompatible_device_warn.format(device_name, capability, \" \".join(arch_list), device_name))\n"
     ]
    },
    {
     "ename": "RuntimeError",
     "evalue": "CUDA error: no kernel image is available for execution on the device\nCUDA kernel errors might be asynchronously reported at some other API call,so the stacktrace below might be incorrect.\nFor debugging consider passing CUDA_LAUNCH_BLOCKING=1.",
     "output_type": "error",
     "traceback": [
      "\u001b[0;31m---------------------------------------------------------------------------\u001b[0m",
      "\u001b[0;31mRuntimeError\u001b[0m                              Traceback (most recent call last)",
      "\u001b[0;32m/tmp/ipykernel_1575326/491571518.py\u001b[0m in \u001b[0;36m<module>\u001b[0;34m\u001b[0m\n\u001b[1;32m      1\u001b[0m \u001b[0minfl\u001b[0m \u001b[0;34m=\u001b[0m \u001b[0mIntegratedGradients\u001b[0m\u001b[0;34m(\u001b[0m\u001b[0mmodel\u001b[0m\u001b[0;34m,\u001b[0m \u001b[0mresolution\u001b[0m\u001b[0;34m=\u001b[0m\u001b[0;36m10\u001b[0m\u001b[0;34m)\u001b[0m\u001b[0;34m\u001b[0m\u001b[0;34m\u001b[0m\u001b[0m\n\u001b[0;32m----> 2\u001b[0;31m \u001b[0mattrs_input\u001b[0m \u001b[0;34m=\u001b[0m \u001b[0minfl\u001b[0m\u001b[0;34m.\u001b[0m\u001b[0mattributions\u001b[0m\u001b[0;34m(\u001b[0m\u001b[0mx_pp\u001b[0m\u001b[0;34m)\u001b[0m\u001b[0;34m\u001b[0m\u001b[0;34m\u001b[0m\u001b[0m\n\u001b[0m",
      "\u001b[0;32m~/anaconda3/envs/python37_notebooks_latest/lib/python3.7/site-packages/trulens/nn/attribution.py\u001b[0m in \u001b[0;36mattributions\u001b[0;34m(self, *model_args, **model_kwargs)\u001b[0m\n\u001b[1;32m    257\u001b[0m             \u001b[0mdoi_val\u001b[0m \u001b[0;34m=\u001b[0m \u001b[0mdoi_val\u001b[0m\u001b[0;34m[\u001b[0m\u001b[0;36m0\u001b[0m\u001b[0;34m]\u001b[0m\u001b[0;34m\u001b[0m\u001b[0;34m\u001b[0m\u001b[0m\n\u001b[1;32m    258\u001b[0m \u001b[0;34m\u001b[0m\u001b[0m\n\u001b[0;32m--> 259\u001b[0;31m         \u001b[0mD\u001b[0m \u001b[0;34m=\u001b[0m \u001b[0mself\u001b[0m\u001b[0;34m.\u001b[0m\u001b[0mdoi\u001b[0m\u001b[0;34m(\u001b[0m\u001b[0mdoi_val\u001b[0m\u001b[0;34m)\u001b[0m\u001b[0;34m\u001b[0m\u001b[0;34m\u001b[0m\u001b[0m\n\u001b[0m\u001b[1;32m    260\u001b[0m         \u001b[0mn_doi\u001b[0m \u001b[0;34m=\u001b[0m \u001b[0mlen\u001b[0m\u001b[0;34m(\u001b[0m\u001b[0mD\u001b[0m\u001b[0;34m)\u001b[0m\u001b[0;34m\u001b[0m\u001b[0;34m\u001b[0m\u001b[0m\n\u001b[1;32m    261\u001b[0m         \u001b[0mD\u001b[0m \u001b[0;34m=\u001b[0m \u001b[0mInternalInfluence\u001b[0m\u001b[0;34m.\u001b[0m\u001b[0m__concatenate_doi\u001b[0m\u001b[0;34m(\u001b[0m\u001b[0mD\u001b[0m\u001b[0;34m)\u001b[0m\u001b[0;34m\u001b[0m\u001b[0;34m\u001b[0m\u001b[0m\n",
      "\u001b[0;32m~/anaconda3/envs/python37_notebooks_latest/lib/python3.7/site-packages/trulens/nn/distributions.py\u001b[0m in \u001b[0;36m__call__\u001b[0;34m(self, z)\u001b[0m\n\u001b[1;32m    184\u001b[0m \u001b[0;34m\u001b[0m\u001b[0m\n\u001b[1;32m    185\u001b[0m         \u001b[0;32mif\u001b[0m \u001b[0mself\u001b[0m\u001b[0;34m.\u001b[0m\u001b[0m_baseline\u001b[0m \u001b[0;32mis\u001b[0m \u001b[0;32mNone\u001b[0m\u001b[0;34m:\u001b[0m\u001b[0;34m\u001b[0m\u001b[0;34m\u001b[0m\u001b[0m\n\u001b[0;32m--> 186\u001b[0;31m             \u001b[0mbaseline\u001b[0m \u001b[0;34m=\u001b[0m \u001b[0mB\u001b[0m\u001b[0;34m.\u001b[0m\u001b[0mzeros_like\u001b[0m\u001b[0;34m(\u001b[0m\u001b[0mz\u001b[0m\u001b[0;34m)\u001b[0m\u001b[0;34m\u001b[0m\u001b[0;34m\u001b[0m\u001b[0m\n\u001b[0m\u001b[1;32m    187\u001b[0m         \u001b[0;32melse\u001b[0m\u001b[0;34m:\u001b[0m\u001b[0;34m\u001b[0m\u001b[0;34m\u001b[0m\u001b[0m\n\u001b[1;32m    188\u001b[0m             \u001b[0mbaseline\u001b[0m \u001b[0;34m=\u001b[0m \u001b[0mself\u001b[0m\u001b[0;34m.\u001b[0m\u001b[0m_baseline\u001b[0m\u001b[0;34m\u001b[0m\u001b[0;34m\u001b[0m\u001b[0m\n",
      "\u001b[0;32m~/anaconda3/envs/python37_notebooks_latest/lib/python3.7/site-packages/trulens/nn/backend/pytorch_backend/pytorch.py\u001b[0m in \u001b[0;36mzeros_like\u001b[0;34m(t, dtype, requires_grad)\u001b[0m\n\u001b[1;32m    328\u001b[0m     \u001b[0;32mif\u001b[0m \u001b[0;32mnot\u001b[0m \u001b[0mis_tensor\u001b[0m\u001b[0;34m(\u001b[0m\u001b[0mt\u001b[0m\u001b[0;34m)\u001b[0m\u001b[0;34m:\u001b[0m\u001b[0;34m\u001b[0m\u001b[0;34m\u001b[0m\u001b[0m\n\u001b[1;32m    329\u001b[0m         \u001b[0mt\u001b[0m \u001b[0;34m=\u001b[0m \u001b[0mas_tensor\u001b[0m\u001b[0;34m(\u001b[0m\u001b[0mt\u001b[0m\u001b[0;34m)\u001b[0m\u001b[0;34m\u001b[0m\u001b[0;34m\u001b[0m\u001b[0m\n\u001b[0;32m--> 330\u001b[0;31m     \u001b[0;32mreturn\u001b[0m \u001b[0mtorch\u001b[0m\u001b[0;34m.\u001b[0m\u001b[0mzeros_like\u001b[0m\u001b[0;34m(\u001b[0m\u001b[0mt\u001b[0m\u001b[0;34m,\u001b[0m \u001b[0mdtype\u001b[0m\u001b[0;34m=\u001b[0m\u001b[0mdtype\u001b[0m\u001b[0;34m,\u001b[0m \u001b[0mrequires_grad\u001b[0m\u001b[0;34m=\u001b[0m\u001b[0mrequires_grad\u001b[0m\u001b[0;34m)\u001b[0m\u001b[0;34m\u001b[0m\u001b[0;34m\u001b[0m\u001b[0m\n\u001b[0m\u001b[1;32m    331\u001b[0m \u001b[0;34m\u001b[0m\u001b[0m\n\u001b[1;32m    332\u001b[0m \u001b[0;34m\u001b[0m\u001b[0m\n",
      "\u001b[0;31mRuntimeError\u001b[0m: CUDA error: no kernel image is available for execution on the device\nCUDA kernel errors might be asynchronously reported at some other API call,so the stacktrace below might be incorrect.\nFor debugging consider passing CUDA_LAUNCH_BLOCKING=1."
     ]
    }
   ],
   "source": [
    "infl = IntegratedGradients(model, resolution=10)\n",
    "attrs_input = infl.attributions(x_pp)"
   ]
  },
  {
   "cell_type": "markdown",
   "metadata": {},
   "source": [
    "Visualizing the results, it is apparent that Integrated Gradients in this case is better able to focus on the pixels corresponding to the beagle, which is consistent with the model's top predicted class."
   ]
  },
  {
   "cell_type": "code",
   "execution_count": null,
   "metadata": {},
   "outputs": [],
   "source": [
    "masked_image = MaskVisualizer(blur=5, threshold=0.95)(attrs_input, x)"
   ]
  },
  {
   "cell_type": "markdown",
   "metadata": {
    "nbpresent": {
     "id": "88aa57f0-b3be-47b7-a144-408300b135b7"
    }
   },
   "source": [
    "### Discovering Important Internal Neurons \n",
    "\n",
    "Now we'll examine is *Internal Influence* (Leino et al.), a powerful and general attribution method that can calculate attributions for internal neurons in a network as well as for the inputs to the network. Internal Influence is implemented by the `InternalInfluence` class in the `attribution` module.\n",
    "\n",
    "The `InternalInfluence` constructor takes a TruLens `ModelWrapper` and three special parameters: a *slice*, a *quantity of interest* (QoI), and a *distribution of interest* (DoI), which are instances of the `Slice` (in the `slices` module), `QoI` (in the `quantities` module), and `DoI` (in the `distributions` module) classes, respectively.\n",
    "\n",
    "The slice essentially defines a layer to use for internal attributions. A `Slice` object specifies two `Cut`s corresponding to two layers: (1) the layer of the variables that we are calculating attribution *for* (e.g., the input layer), and (2) the layer whose output defines our quantity of interest (e.g., the output layer; see below for more on quantities of interest).\n",
    "\n",
    "The shape of the attributions will always match the shape of the first cut. In the case of `InputAttribution`, it is the shape of the input. For neuron explanations, the attributions can take the shape of the output or input of a specific network layer. The default behavior is to create attributions for the output of a layer, but this can be specified via the `anchor` in the `Cut` class. See the [Slice](https://truera.github.io/trulens/api/slices/) documentation for more detail.\n",
    "\n",
    "The quantity of interest (QoI) essentially defines the model behavior we would like to explain using attributions. The QoI is a function of the model's output at some layer. For example, it may select the confidence score for a particular class. In its most general form, the QoI can be pecified by an implementation of the `QoI` class in the `quantities` module. Several common default implementations are provided in this module as well.\n",
    "\n",
    "The distribution of interest (DoI) essentially specifies points surrounding each record for which the calculated attribution should be faithful. The distribution can be specified via an implementation of the `DoI` class in the `distributions` module, which is a function taking an input record and producing a list of input points to aggregate attribution over. A few common default distributions implementing the `DoI` class can be found in the `distributions` module.\n",
    "\n",
    "---\n",
    "\n",
    "* Klas Leino, Shayak Sen, Anupam Datta, Matt Fredrikson, and Linyi Li. *Influence-Directed Explanations for Deep Convolutional Networks*. IEEE ITC 2018. [ArXiv](https://arxiv.org/pdf/1802.03788.pdf)"
   ]
  },
  {
   "cell_type": "code",
   "execution_count": null,
   "metadata": {
    "nbpresent": {
     "id": "96deed0e-c142-4477-b714-4162adead875"
    }
   },
   "outputs": [],
   "source": [
    "from trulens.nn.attribution import InternalInfluence\n",
    "from trulens.nn.distributions import PointDoi\n",
    "from trulens.nn.quantities import ClassQoI, InternalChannelQoI, MaxClassQoI\n",
    "from trulens.nn.slices import Cut, InputCut, OutputCut, Slice"
   ]
  },
  {
   "cell_type": "markdown",
   "metadata": {
    "nbpresent": {
     "id": "78dd231f-e9fc-45bb-b504-0fed08b15af1"
    }
   },
   "source": [
    "We will be calculating attributions for the feature maps in the layer labeled `'features_28'` (specified via the slice below). In our first example, we are interested in explaining the model's *predicted class* for our record. We specify this by using a `MaxClassQoI`, which sets the attributions to explain the model's output for its highest-confidence class. We will initially use the `PointDoI` which specifies that we are only concerned with the model's behavior on one particular point, i.e., we want a very *local* explanation."
   ]
  },
  {
   "cell_type": "code",
   "execution_count": null,
   "metadata": {
    "nbpresent": {
     "id": "115edae1-4b53-4201-8ceb-88bd50a88b49"
    }
   },
   "outputs": [],
   "source": [
    "# Define the influence measure.\n",
    "infl = InternalInfluence(\n",
    "    model, \n",
    "    Slice(Cut('features_28'), OutputCut()), \n",
    "    MaxClassQoI(),\n",
    "    PointDoi())\n",
    "\n",
    "# Get the attributions for the internal neurons at layer -10. Because layer -10\n",
    "# contains 2D feature maps, we take the sum over the width and height of the \n",
    "# feature maps to obtain a single attribution for each feature map.\n",
    "attrs_internal = infl.attributions(x_pp).sum(axis=(2,3))"
   ]
  },
  {
   "cell_type": "markdown",
   "metadata": {
    "nbpresent": {
     "id": "911e85a8-3a49-4a65-a8e9-3e58a084943e"
    }
   },
   "source": [
    "Note that above we used the `Slice`, `MaxClassQoI`, and `PointDoI` classes to define the slice, QoI, and DoI. The TruLens API also offers several simple shorthands for defining these parameters more simply. For example, the above code could be more succinctly written as"
   ]
  },
  {
   "cell_type": "code",
   "execution_count": null,
   "metadata": {
    "nbpresent": {
     "id": "f651628f-267a-4f03-9f71-8ad3ec4f9c5e"
    }
   },
   "outputs": [],
   "source": [
    "# Define the influence measure.\n",
    "infl = InternalInfluence(model, 'features_28', 'max', 'point')\n",
    "\n",
    "# Get the attributions for the internal neurons at layer 'features_28'. Because \n",
    "# layer 'features_28' contains 2D feature maps, we take the sum over the width \n",
    "# and height of the feature maps to obtain a single attribution for each feature \n",
    "# map.\n",
    "attrs_internal = infl.attributions(x_pp).sum(axis=(2,3))"
   ]
  },
  {
   "cell_type": "markdown",
   "metadata": {
    "nbpresent": {
     "id": "667e717b-c8c2-422d-aec2-d4804da9eae2"
    }
   },
   "source": [
    "Now we can calculate the most important feature map towards the model's top prediction, by taking the argmax over the internal attributions for this record. The most important feature map represents some type of *learned feature* that was the *most important* in the network's decision to label this point as `'beagle'`."
   ]
  },
  {
   "cell_type": "code",
   "execution_count": null,
   "metadata": {
    "nbpresent": {
     "id": "dbf80486-bb3e-4fce-929e-f41abbad0e3e"
    }
   },
   "outputs": [],
   "source": [
    "top_feature_map = int(attrs_internal[0].argmax())\n",
    "\n",
    "print('Top feature map:', top_feature_map)"
   ]
  },
  {
   "cell_type": "markdown",
   "metadata": {
    "nbpresent": {
     "id": "d4e40366-566f-414d-8a82-71df260f874d"
    }
   },
   "source": [
    "### Visualizing Important Internal Neurons\n",
    "\n",
    "We would now like to visualize our identified feature map in a meaningful way. Since the feature map represents a learned feature, which is not readily interpretable, we will use a second set of attributions to identify the input features that are most important in defining this particular feature map. We will then use a *visualizer*, found in the `visualizations` module, to visualize these input features that relate to our identified important feature map."
   ]
  },
  {
   "cell_type": "code",
   "execution_count": null,
   "metadata": {
    "nbpresent": {
     "id": "e63b4f03-3d87-4598-bd6c-fbc42bc64977"
    }
   },
   "outputs": [],
   "source": [
    "from trulens.visualizations import MaskVisualizer"
   ]
  },
  {
   "cell_type": "markdown",
   "metadata": {
    "nbpresent": {
     "id": "90fd4a5e-0541-484b-acf3-6b1dfc71bb4e"
    }
   },
   "source": [
    "First, we create another attributer, again using `InternalInfluence`. This time, we specify our slice to begin at the input of the model and end at layer `'features_28`, the layer of our identified feature map. We select our quantity of interest to be an `InternalChannelQoI` - this allows us to specify a particular channel that we want to calculate attributions towards (in our case we specify this channel to be our identified feature map). We will again use the `Point` DoI.\n",
    "\n",
    "Note that if we simply give the top feature map to `InternalInfluence`, it will automatically wrap it in an instance of `InternalChannelQoI` for us; additionally, the `Slice` object is inferred from the tuple of cuts."
   ]
  },
  {
   "cell_type": "code",
   "execution_count": null,
   "metadata": {
    "nbpresent": {
     "id": "37276a51-494e-49b1-ba60-23a4959aca54"
    }
   },
   "outputs": [],
   "source": [
    "infl_input = InternalInfluence(\n",
    "    model, \n",
    "    Slice(InputCut(), Cut('features_28')),\n",
    "    InternalChannelQoI(top_feature_map), \n",
    "    PointDoi())"
   ]
  },
  {
   "cell_type": "markdown",
   "metadata": {},
   "source": [
    "Again, the above code can be simplified to"
   ]
  },
  {
   "cell_type": "code",
   "execution_count": null,
   "metadata": {
    "nbpresent": {
     "id": "a19c0cbb-2eb2-4a10-b2d1-95d612a0d909"
    }
   },
   "outputs": [],
   "source": [
    "infl_input = InternalInfluence(\n",
    "    model, \n",
    "    (InputCut(), Cut('features_28')), \n",
    "    top_feature_map, \n",
    "    'point')"
   ]
  },
  {
   "cell_type": "markdown",
   "metadata": {
    "nbpresent": {
     "id": "789c1fc0-2a96-4aa3-9453-562fc2cc3deb"
    }
   },
   "source": [
    "Now we can calculate the input attributions and visualize the top feature map by using the input attributions as a mask over the original image, using the `MaskVisualizer` (found in the `visualizations` module).\n",
    "\n",
    "The `MaskVisualizer` takes two fine-tuning parameters, `blur` and `threshold`, that affect the quality of the visualization. The attributions are first blurred using a Gaussian blur with radius `blur`, and then only the pixels whose blurred attribution value are at or above the percentile given by `threshold` are highlighted. Depending on the particular record and application, different `blur` and `threshold` parameters may be appropriate.\n",
    "\n",
    "Increasing `blur` gives a more abstract, region-focused explanation, while a smaller blur gives a noisier, but more precise explanation.\n",
    "\n",
    "Increasing `threshold` selects a smaller portion of the image to highlight, showing only the most important regions, while a smaller threshold will highlight a larger portion of the image."
   ]
  },
  {
   "cell_type": "code",
   "execution_count": null,
   "metadata": {
    "nbpresent": {
     "id": "8b22e40f-0535-4cd1-93dc-b3a3a6a3b3b6"
    }
   },
   "outputs": [],
   "source": [
    "attrs_input = infl_input.attributions(x_pp)\n",
    "\n",
    "masked_image = MaskVisualizer(blur=10, threshold=0.95)(attrs_input, x)"
   ]
  },
  {
   "cell_type": "markdown",
   "metadata": {
    "nbpresent": {
     "id": "290b4e59-5107-4237-b665-b92f3ba7f3b2"
    }
   },
   "source": [
    "The above procedure &mdash; using a second set of attributions to identify the input features that are most important in defining a particular feature map, then using a visualizer on the resulting input attributions &mdash; is a common use case when dealing with internal attributions. This procedure can instead be done via a single step, using a `ChannelMaskVisualizer` also found in the `visualizations` module, demonstrated below."
   ]
  },
  {
   "cell_type": "code",
   "execution_count": null,
   "metadata": {
    "nbpresent": {
     "id": "ed603579-efc9-48e8-85a2-6f4a85653138"
    }
   },
   "outputs": [],
   "source": [
    "from trulens.visualizations import ChannelMaskVisualizer\n",
    "\n",
    "masked_image = ChannelMaskVisualizer(\n",
    "    model,\n",
    "    'features_28',\n",
    "    top_feature_map,\n",
    "    blur=10,\n",
    "    threshold=0.95)(x, x_pp)\n",
    "\n",
    "plt.axis('off')\n",
    "plt.imshow(masked_image[0].transpose((1,2,0)))"
   ]
  },
  {
   "cell_type": "markdown",
   "metadata": {
    "nbpresent": {
     "id": "3f7c812d-52a0-481b-acbf-5ff41f1e3041"
    }
   },
   "source": [
    "#### Other Quantities of Interest"
   ]
  },
  {
   "cell_type": "markdown",
   "metadata": {
    "nbpresent": {
     "id": "a08ca9a2-2d87-47b3-a409-52e7740b3d40"
    }
   },
   "source": [
    "We can also change the quantity that we want the attributions to explain. For example, our example image contains both a bike and a dog. Recall that while the top class predicted by our model was `'beagle'`, imagenet also contains bike-related classes, e.g., `'mountain bike, all-terrain bike, off-roader'`. We will use the `ClassQoI` to view the attributions towards the class `'mountain bike, all-terrain bike, off-roader'`."
   ]
  },
  {
   "cell_type": "code",
   "execution_count": null,
   "metadata": {
    "nbpresent": {
     "id": "e5fc2566-8e1c-4fc9-8c75-457320c11a42"
    }
   },
   "outputs": [],
   "source": [
    "# Define the influence measure.\n",
    "infl_bike = InternalInfluence(model, 'features_28', 671, 'point')\n",
    "\n",
    "# The above is shorthand for\n",
    "#\n",
    "# infl_bike = InternalInfluence(\n",
    "#     model, \n",
    "#     Slice(Cut('features_28', OutputCut()),\n",
    "#     ClassQoI(671), \n",
    "#     PointDoi())\n",
    "\n",
    "# Get the attributions for each feature map.\n",
    "attrs_bike_internal = infl_bike.attributions(x_pp).sum(axis=(2,3))\n",
    "\n",
    "# Find the index of the top feature map.\n",
    "top_feature_map_bike = int(attrs_bike_internal[0].argmax())\n",
    "\n",
    "print('Top feature map:', top_feature_map_bike)\n",
    "\n",
    "# Visualize the top feature map in the input space.\n",
    "masked_image = ChannelMaskVisualizer(\n",
    "    model,\n",
    "    'features_28',\n",
    "    top_feature_map_bike,\n",
    "    blur=10, \n",
    "    threshold=0.95)(x, x_pp)\n",
    "\n",
    "plt.axis('off')\n",
    "plt.imshow(masked_image[0].transpose((1,2,0)))"
   ]
  }
 ],
 "metadata": {
  "anaconda-cloud": {},
  "interpreter": {
   "hash": "51eb71198507ab2c2a4108a27eda9d9658549732e67153fc0e371d8439827db7"
  },
  "kernelspec": {
   "display_name": "test-fresh-11-29",
   "language": "python",
   "name": "python3"
  },
  "language_info": {
   "codemirror_mode": {
    "name": "ipython",
    "version": 3
   },
   "file_extension": ".py",
   "mimetype": "text/x-python",
   "name": "python",
   "nbconvert_exporter": "python",
   "pygments_lexer": "ipython3",
   "version": "3.7.9"
  }
 },
 "nbformat": 4,
 "nbformat_minor": 2
}
