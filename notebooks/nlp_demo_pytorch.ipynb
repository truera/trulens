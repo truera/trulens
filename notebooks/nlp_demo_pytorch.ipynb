{
 "cells": [
  {
   "cell_type": "code",
   "execution_count": 15,
   "metadata": {},
   "outputs": [],
   "source": [
    "%load_ext autoreload\n",
    "%autoreload 2"
   ]
  },
  {
   "cell_type": "code",
   "execution_count": 16,
   "metadata": {},
   "outputs": [
    {
     "name": "stdout",
     "output_type": "stream",
     "text": [
      "huggingface/tokenizers: The current process just got forked, after parallelism has already been used. Disabling parallelism to avoid deadlocks...\n",
      "To disable this warning, you can either:\n",
      "\t- Avoid using `tokenizers` before the fork if possible\n",
      "\t- Explicitly set the environment variable TOKENIZERS_PARALLELISM=(true | false)\n",
      "Requirement already satisfied: torch in /home/piotrm/anaconda3/envs/python37_pytorch_cuda/lib/python3.7/site-packages (1.10.0+cu113)\n",
      "Requirement already satisfied: typing-extensions in /home/piotrm/anaconda3/envs/python37_pytorch_cuda/lib/python3.7/site-packages (from torch) (4.1.1)\n",
      "huggingface/tokenizers: The current process just got forked, after parallelism has already been used. Disabling parallelism to avoid deadlocks...\n",
      "To disable this warning, you can either:\n",
      "\t- Avoid using `tokenizers` before the fork if possible\n",
      "\t- Explicitly set the environment variable TOKENIZERS_PARALLELISM=(true | false)\n",
      "Requirement already satisfied: transformers in /home/piotrm/anaconda3/envs/python37_pytorch_cuda/lib/python3.7/site-packages (4.17.0)\n",
      "Requirement already satisfied: tokenizers!=0.11.3,>=0.11.1 in /home/piotrm/anaconda3/envs/python37_pytorch_cuda/lib/python3.7/site-packages (from transformers) (0.11.6)\n",
      "Requirement already satisfied: numpy>=1.17 in /home/piotrm/anaconda3/envs/python37_pytorch_cuda/lib/python3.7/site-packages (from transformers) (1.21.5)\n",
      "Requirement already satisfied: requests in /home/piotrm/anaconda3/envs/python37_pytorch_cuda/lib/python3.7/site-packages (from transformers) (2.27.1)\n",
      "Requirement already satisfied: packaging>=20.0 in /home/piotrm/anaconda3/envs/python37_pytorch_cuda/lib/python3.7/site-packages (from transformers) (21.3)\n",
      "Requirement already satisfied: regex!=2019.12.17 in /home/piotrm/anaconda3/envs/python37_pytorch_cuda/lib/python3.7/site-packages (from transformers) (2022.3.15)\n",
      "Requirement already satisfied: sacremoses in /home/piotrm/anaconda3/envs/python37_pytorch_cuda/lib/python3.7/site-packages (from transformers) (0.0.49)\n",
      "Requirement already satisfied: tqdm>=4.27 in /home/piotrm/anaconda3/envs/python37_pytorch_cuda/lib/python3.7/site-packages (from transformers) (4.63.0)\n",
      "Requirement already satisfied: filelock in /home/piotrm/anaconda3/envs/python37_pytorch_cuda/lib/python3.7/site-packages (from transformers) (3.6.0)\n",
      "Requirement already satisfied: huggingface-hub<1.0,>=0.1.0 in /home/piotrm/anaconda3/envs/python37_pytorch_cuda/lib/python3.7/site-packages (from transformers) (0.4.0)\n",
      "Requirement already satisfied: importlib-metadata in /home/piotrm/anaconda3/envs/python37_pytorch_cuda/lib/python3.7/site-packages (from transformers) (4.11.3)\n",
      "Requirement already satisfied: pyyaml>=5.1 in /home/piotrm/anaconda3/envs/python37_pytorch_cuda/lib/python3.7/site-packages (from transformers) (6.0)\n",
      "Requirement already satisfied: typing-extensions>=3.7.4.3 in /home/piotrm/anaconda3/envs/python37_pytorch_cuda/lib/python3.7/site-packages (from huggingface-hub<1.0,>=0.1.0->transformers) (4.1.1)\n",
      "Requirement already satisfied: pyparsing!=3.0.5,>=2.0.2 in /home/piotrm/anaconda3/envs/python37_pytorch_cuda/lib/python3.7/site-packages (from packaging>=20.0->transformers) (3.0.7)\n",
      "Requirement already satisfied: zipp>=0.5 in /home/piotrm/anaconda3/envs/python37_pytorch_cuda/lib/python3.7/site-packages (from importlib-metadata->transformers) (3.7.0)\n",
      "Requirement already satisfied: urllib3<1.27,>=1.21.1 in /home/piotrm/anaconda3/envs/python37_pytorch_cuda/lib/python3.7/site-packages (from requests->transformers) (1.26.9)\n",
      "Requirement already satisfied: idna<4,>=2.5 in /home/piotrm/anaconda3/envs/python37_pytorch_cuda/lib/python3.7/site-packages (from requests->transformers) (3.3)\n",
      "Requirement already satisfied: certifi>=2017.4.17 in /home/piotrm/anaconda3/envs/python37_pytorch_cuda/lib/python3.7/site-packages (from requests->transformers) (2021.10.8)\n",
      "Requirement already satisfied: charset-normalizer~=2.0.0 in /home/piotrm/anaconda3/envs/python37_pytorch_cuda/lib/python3.7/site-packages (from requests->transformers) (2.0.12)\n",
      "Requirement already satisfied: click in /home/piotrm/anaconda3/envs/python37_pytorch_cuda/lib/python3.7/site-packages (from sacremoses->transformers) (8.0.4)\n",
      "Requirement already satisfied: six in /home/piotrm/anaconda3/envs/python37_pytorch_cuda/lib/python3.7/site-packages (from sacremoses->transformers) (1.16.0)\n",
      "Requirement already satisfied: joblib in /home/piotrm/anaconda3/envs/python37_pytorch_cuda/lib/python3.7/site-packages (from sacremoses->transformers) (1.1.0)\n",
      "huggingface/tokenizers: The current process just got forked, after parallelism has already been used. Disabling parallelism to avoid deadlocks...\n",
      "To disable this warning, you can either:\n",
      "\t- Avoid using `tokenizers` before the fork if possible\n",
      "\t- Explicitly set the environment variable TOKENIZERS_PARALLELISM=(true | false)\n",
      "Collecting git+https://github.com/truera/trulens.git\n",
      "  Cloning https://github.com/truera/trulens.git to /tmp/pip-req-build-5u7y1dks\n",
      "  Running command git clone -q https://github.com/truera/trulens.git /tmp/pip-req-build-5u7y1dks\n",
      "  Resolved https://github.com/truera/trulens.git to commit d8c105c5018654490aaf958091122ab06d63aec8\n"
     ]
    }
   ],
   "source": [
    "import sys\n",
    "\n",
    "# Use this if running this notebook from within its place in the truera repository.\n",
    "sys.path.insert(0, \"..\")\n",
    "\n",
    "# Install transformers / huggingface.\n",
    "!{sys.executable} -m pip install torch\n",
    "!{sys.executable} -m pip install transformers\n",
    "\n",
    "# Or otherwise install trulens.\n",
    "!{sys.executable} -m pip install git+https://github.com/truera/trulens.git\n",
    "\n",
    "from IPython.display import display\n",
    "import torch"
   ]
  },
  {
   "cell_type": "markdown",
   "metadata": {},
   "source": [
    "# Twitter Sentiment Model\n",
    "\n",
    "[Huggingface](https://huggingface.co/models) offers a variety of pre-trained NLP models to explore. We exemplify in this notebook a [transformer-based twitter sentiment classification model](https://huggingface.co/cardiffnlp/twitter-roberta-base-sentiment). Before getting started, familiarize yourself with the general Truera API as demonstrated in the [intro notebook using pytorch](intro_demo_pytorch.ipynb)."
   ]
  },
  {
   "cell_type": "code",
   "execution_count": 17,
   "metadata": {},
   "outputs": [],
   "source": [
    "from transformers import AutoModelForSequenceClassification\n",
    "from transformers import AutoTokenizer\n",
    "\n",
    "# Wrap all of the necessary components.\n",
    "class TwitterSentiment:\n",
    "    MODEL = f\"cardiffnlp/twitter-roberta-base-sentiment\"\n",
    "\n",
    "    device = 'cpu'\n",
    "    # Can also use cuda if available:\n",
    "    # device = 'cuda:0'\n",
    "\n",
    "    model = AutoModelForSequenceClassification.from_pretrained(MODEL).to(device)\n",
    "    tokenizer = AutoTokenizer.from_pretrained(MODEL)\n",
    "    labels = ['negative', 'neutral', 'positive']\n",
    "\n",
    "    NEGATIVE = labels.index('negative')\n",
    "    NEUTRAL = labels.index('neutral')\n",
    "    POSITIVE = labels.index('positive')\n",
    "\n",
    "task = TwitterSentiment()"
   ]
  },
  {
   "cell_type": "markdown",
   "metadata": {},
   "source": [
    "This model quantifies tweets (or really any text you give it) according to its sentiment: positive, negative, or neutral. Lets try it out on some examples."
   ]
  },
  {
   "cell_type": "code",
   "execution_count": 18,
   "metadata": {},
   "outputs": [
    {
     "name": "stdout",
     "output_type": "stream",
     "text": [
      "{'input_ids': tensor([[   0,  100,  437,   98, 1372,  328,    2,    1,    1,    1,    1,    1,\n",
      "            1],\n",
      "        [   0,  100,  437,   98, 5074,  328,    2,    1,    1,    1,    1,    1,\n",
      "            1],\n",
      "        [   0,  100, 1395, 1137,  549,   38,  197,   28, 1372,   50, 5074,  328,\n",
      "            2],\n",
      "        [   0, 1794,  298,    2,    1,    1,    1,    1,    1,    1,    1,    1,\n",
      "            1]]), 'attention_mask': tensor([[1, 1, 1, 1, 1, 1, 1, 0, 0, 0, 0, 0, 0],\n",
      "        [1, 1, 1, 1, 1, 1, 1, 0, 0, 0, 0, 0, 0],\n",
      "        [1, 1, 1, 1, 1, 1, 1, 1, 1, 1, 1, 1, 1],\n",
      "        [1, 1, 1, 1, 0, 0, 0, 0, 0, 0, 0, 0, 0]])}\n",
      "['<s>', 'I', \"'m\", ' so', ' happy', '!', '</s>', '<pad>', '<pad>', '<pad>', '<pad>', '<pad>', '<pad>', '<s>', 'I', \"'m\", ' so', ' sad', '!', '</s>', '<pad>', '<pad>', '<pad>', '<pad>', '<pad>', '<pad>', '<s>', 'I', ' cannot', ' tell', ' whether', ' I', ' should', ' be', ' happy', ' or', ' sad', '!', '</s>', '<s>', 'me', 'h', '</s>', '<pad>', '<pad>', '<pad>', '<pad>', '<pad>', '<pad>', '<pad>', '<pad>', '<pad>']\n"
     ]
    }
   ],
   "source": [
    "sentences = [\"I'm so happy!\", \"I'm so sad!\", \"I cannot tell whether I should be happy or sad!\", \"meh\"]\n",
    "\n",
    "# Input sentences need to be tokenized first.\n",
    "\n",
    "inputs = task.tokenizer(sentences, padding=True, return_tensors=\"pt\").to(task.device) # pt refers to pytorch tensor\n",
    "\n",
    "# The tokenizer gives us vocabulary indexes for each input token (in this case,\n",
    "# words and some word parts like the \"'m\" part of \"I'm\" are tokens).\n",
    "\n",
    "print(inputs)\n",
    "\n",
    "# Decode helps inspecting the tokenization produced:\n",
    "\n",
    "print(task.tokenizer.batch_decode(torch.flatten(inputs['input_ids'])))\n",
    "# Normally decode would give us a single string for each sentence but we would\n",
    "# not be able to see some of the non-word tokens there. Flattening first gives\n",
    "# us a string for each input_id."
   ]
  },
  {
   "cell_type": "markdown",
   "metadata": {},
   "source": [
    "Evaluating huggingface models is straight-forward if we use the structure produced by the tokenizer."
   ]
  },
  {
   "cell_type": "code",
   "execution_count": 19,
   "metadata": {},
   "outputs": [
    {
     "name": "stdout",
     "output_type": "stream",
     "text": [
      "SequenceClassifierOutput(loss=None, logits=tensor([[-2.3217, -0.8764,  4.0706],\n",
      "        [ 2.5737, -0.4016, -2.1465],\n",
      "        [ 0.5973,  0.3778, -0.7691],\n",
      "        [-0.2267,  0.6011, -0.2009]], grad_fn=<AddmmBackward0>), hidden_states=None, attentions=None)\n",
      "[-2.3217378 -0.8763628  4.0705967] positive I'm so happy!\n",
      "[ 2.5736785  -0.40158105 -2.1465425 ] negative I'm so sad!\n",
      "[ 0.59733623  0.37779403 -0.7691068 ] negative I cannot tell whether I should be happy or sad!\n",
      "[-0.22674142  0.601109   -0.20089385] neutral meh\n"
     ]
    }
   ],
   "source": [
    "outputs = task.model(**inputs)\n",
    "\n",
    "print(outputs)\n",
    "\n",
    "# From logits we can extract the most likely class for each sentence and its readable label.\n",
    "\n",
    "predictions = [task.labels[i] for i in outputs.logits.argmax(axis=1)]\n",
    "\n",
    "for sentence, logits, prediction in zip(sentences, outputs.logits, predictions):\n",
    "    print(logits.to('cpu').detach().numpy(), prediction, sentence)"
   ]
  },
  {
   "cell_type": "markdown",
   "metadata": {},
   "source": [
    "# Model Wrapper\n",
    "\n",
    "As in the prior notebooks, we need to wrap the pytorch model with the appropriate Trulens functionality. Here we specify the maximum input size (in terms of tokens) each tweet may have."
   ]
  },
  {
   "cell_type": "code",
   "execution_count": 20,
   "metadata": {},
   "outputs": [
    {
     "name": "stderr",
     "output_type": "stream",
     "text": [
      "INFO: lib level=1\n",
      "INFO: root level=30\n",
      "INFO: Detected pytorch backend for <class 'transformers.models.roberta.modeling_roberta.RobertaForSequenceClassification'>.\n",
      "INFO: Changing backend from None to Backend.PYTORCH.\n",
      "INFO: If this seems incorrect, you can force the correct backend by passing the `backend` parameter directly into your get_model_wrapper call.\n",
      "DEBUG: Input dtype was not passed in. Defaulting to `torch.float32`.\n"
     ]
    }
   ],
   "source": [
    "from trulens.nn.models import get_model_wrapper\n",
    "from trulens.nn.quantities import ClassQoI\n",
    "from trulens.nn.attribution import IntegratedGradients\n",
    "from trulens.nn.attribution import Cut, OutputCut\n",
    "from trulens.utils.typing import ModelInputs\n",
    "\n",
    "task.wrapper = get_model_wrapper(task.model, input_shape=(None, task.tokenizer.model_max_length), device=task.device)"
   ]
  },
  {
   "cell_type": "markdown",
   "metadata": {
    "nbpresent": {
     "id": "4ed9c783-b745-4c6a-b674-d8b6935dd62d"
    }
   },
   "source": [
    "# Attributions\n",
    "\n",
    "Applying integrated gradents to the sentiment model is similar as in the prior notebooks except special considerations need to be made for the cuts used as the targets of the attribution (i.e. what do we want to assign importance to). As you may have noted above, the model takes as input integer indexes associated with tokens. As we cannot take gradient with respect to these, we use an alternative: the embedding representation of those same inputs. To instantiate trulens with this regard, we need to find inspect the layer names inside our model:"
   ]
  },
  {
   "cell_type": "code",
   "execution_count": 21,
   "metadata": {},
   "outputs": [
    {
     "name": "stdout",
     "output_type": "stream",
     "text": [
      "'roberta_embeddings_word_embeddings':\tEmbedding(50265, 768, padding_idx=1)\n",
      "'roberta_embeddings_position_embeddings':\tEmbedding(514, 768, padding_idx=1)\n",
      "'roberta_embeddings_token_type_embeddings':\tEmbedding(1, 768)\n",
      "'roberta_embeddings_LayerNorm':\tLayerNorm((768,), eps=1e-05, elementwise_affine=True)\n",
      "'roberta_embeddings_dropout':\tDropout(p=0.1, inplace=False)\n",
      "'roberta_encoder_layer_0_attention_self_query':\tLinear(in_features=768, out_features=768, bias=True)\n",
      "'roberta_encoder_layer_0_attention_self_key':\tLinear(in_features=768, out_features=768, bias=True)\n",
      "'roberta_encoder_layer_0_attention_self_value':\tLinear(in_features=768, out_features=768, bias=True)\n",
      "'roberta_encoder_layer_0_attention_self_dropout':\tDropout(p=0.1, inplace=False)\n",
      "'roberta_encoder_layer_0_attention_output_dense':\tLinear(in_features=768, out_features=768, bias=True)\n",
      "'roberta_encoder_layer_0_attention_output_LayerNorm':\tLayerNorm((768,), eps=1e-05, elementwise_affine=True)\n",
      "'roberta_encoder_layer_0_attention_output_dropout':\tDropout(p=0.1, inplace=False)\n",
      "'roberta_encoder_layer_0_intermediate_dense':\tLinear(in_features=768, out_features=3072, bias=True)\n",
      "'roberta_encoder_layer_0_intermediate_intermediate_act_fn':\tGELUActivation()\n",
      "'roberta_encoder_layer_0_output_dense':\tLinear(in_features=3072, out_features=768, bias=True)\n",
      "'roberta_encoder_layer_0_output_LayerNorm':\tLayerNorm((768,), eps=1e-05, elementwise_affine=True)\n",
      "'roberta_encoder_layer_0_output_dropout':\tDropout(p=0.1, inplace=False)\n",
      "'roberta_encoder_layer_1_attention_self_query':\tLinear(in_features=768, out_features=768, bias=True)\n",
      "'roberta_encoder_layer_1_attention_self_key':\tLinear(in_features=768, out_features=768, bias=True)\n",
      "'roberta_encoder_layer_1_attention_self_value':\tLinear(in_features=768, out_features=768, bias=True)\n",
      "'roberta_encoder_layer_1_attention_self_dropout':\tDropout(p=0.1, inplace=False)\n",
      "'roberta_encoder_layer_1_attention_output_dense':\tLinear(in_features=768, out_features=768, bias=True)\n",
      "'roberta_encoder_layer_1_attention_output_LayerNorm':\tLayerNorm((768,), eps=1e-05, elementwise_affine=True)\n",
      "'roberta_encoder_layer_1_attention_output_dropout':\tDropout(p=0.1, inplace=False)\n",
      "'roberta_encoder_layer_1_intermediate_dense':\tLinear(in_features=768, out_features=3072, bias=True)\n",
      "'roberta_encoder_layer_1_intermediate_intermediate_act_fn':\tGELUActivation()\n",
      "'roberta_encoder_layer_1_output_dense':\tLinear(in_features=3072, out_features=768, bias=True)\n",
      "'roberta_encoder_layer_1_output_LayerNorm':\tLayerNorm((768,), eps=1e-05, elementwise_affine=True)\n",
      "'roberta_encoder_layer_1_output_dropout':\tDropout(p=0.1, inplace=False)\n",
      "'roberta_encoder_layer_2_attention_self_query':\tLinear(in_features=768, out_features=768, bias=True)\n",
      "'roberta_encoder_layer_2_attention_self_key':\tLinear(in_features=768, out_features=768, bias=True)\n",
      "'roberta_encoder_layer_2_attention_self_value':\tLinear(in_features=768, out_features=768, bias=True)\n",
      "'roberta_encoder_layer_2_attention_self_dropout':\tDropout(p=0.1, inplace=False)\n",
      "'roberta_encoder_layer_2_attention_output_dense':\tLinear(in_features=768, out_features=768, bias=True)\n",
      "'roberta_encoder_layer_2_attention_output_LayerNorm':\tLayerNorm((768,), eps=1e-05, elementwise_affine=True)\n",
      "'roberta_encoder_layer_2_attention_output_dropout':\tDropout(p=0.1, inplace=False)\n",
      "'roberta_encoder_layer_2_intermediate_dense':\tLinear(in_features=768, out_features=3072, bias=True)\n",
      "'roberta_encoder_layer_2_intermediate_intermediate_act_fn':\tGELUActivation()\n",
      "'roberta_encoder_layer_2_output_dense':\tLinear(in_features=3072, out_features=768, bias=True)\n",
      "'roberta_encoder_layer_2_output_LayerNorm':\tLayerNorm((768,), eps=1e-05, elementwise_affine=True)\n",
      "'roberta_encoder_layer_2_output_dropout':\tDropout(p=0.1, inplace=False)\n",
      "'roberta_encoder_layer_3_attention_self_query':\tLinear(in_features=768, out_features=768, bias=True)\n",
      "'roberta_encoder_layer_3_attention_self_key':\tLinear(in_features=768, out_features=768, bias=True)\n",
      "'roberta_encoder_layer_3_attention_self_value':\tLinear(in_features=768, out_features=768, bias=True)\n",
      "'roberta_encoder_layer_3_attention_self_dropout':\tDropout(p=0.1, inplace=False)\n",
      "'roberta_encoder_layer_3_attention_output_dense':\tLinear(in_features=768, out_features=768, bias=True)\n",
      "'roberta_encoder_layer_3_attention_output_LayerNorm':\tLayerNorm((768,), eps=1e-05, elementwise_affine=True)\n",
      "'roberta_encoder_layer_3_attention_output_dropout':\tDropout(p=0.1, inplace=False)\n",
      "'roberta_encoder_layer_3_intermediate_dense':\tLinear(in_features=768, out_features=3072, bias=True)\n",
      "'roberta_encoder_layer_3_intermediate_intermediate_act_fn':\tGELUActivation()\n",
      "'roberta_encoder_layer_3_output_dense':\tLinear(in_features=3072, out_features=768, bias=True)\n",
      "'roberta_encoder_layer_3_output_LayerNorm':\tLayerNorm((768,), eps=1e-05, elementwise_affine=True)\n",
      "'roberta_encoder_layer_3_output_dropout':\tDropout(p=0.1, inplace=False)\n",
      "'roberta_encoder_layer_4_attention_self_query':\tLinear(in_features=768, out_features=768, bias=True)\n",
      "'roberta_encoder_layer_4_attention_self_key':\tLinear(in_features=768, out_features=768, bias=True)\n",
      "'roberta_encoder_layer_4_attention_self_value':\tLinear(in_features=768, out_features=768, bias=True)\n",
      "'roberta_encoder_layer_4_attention_self_dropout':\tDropout(p=0.1, inplace=False)\n",
      "'roberta_encoder_layer_4_attention_output_dense':\tLinear(in_features=768, out_features=768, bias=True)\n",
      "'roberta_encoder_layer_4_attention_output_LayerNorm':\tLayerNorm((768,), eps=1e-05, elementwise_affine=True)\n",
      "'roberta_encoder_layer_4_attention_output_dropout':\tDropout(p=0.1, inplace=False)\n",
      "'roberta_encoder_layer_4_intermediate_dense':\tLinear(in_features=768, out_features=3072, bias=True)\n",
      "'roberta_encoder_layer_4_intermediate_intermediate_act_fn':\tGELUActivation()\n",
      "'roberta_encoder_layer_4_output_dense':\tLinear(in_features=3072, out_features=768, bias=True)\n",
      "'roberta_encoder_layer_4_output_LayerNorm':\tLayerNorm((768,), eps=1e-05, elementwise_affine=True)\n",
      "'roberta_encoder_layer_4_output_dropout':\tDropout(p=0.1, inplace=False)\n",
      "'roberta_encoder_layer_5_attention_self_query':\tLinear(in_features=768, out_features=768, bias=True)\n",
      "'roberta_encoder_layer_5_attention_self_key':\tLinear(in_features=768, out_features=768, bias=True)\n",
      "'roberta_encoder_layer_5_attention_self_value':\tLinear(in_features=768, out_features=768, bias=True)\n",
      "'roberta_encoder_layer_5_attention_self_dropout':\tDropout(p=0.1, inplace=False)\n",
      "'roberta_encoder_layer_5_attention_output_dense':\tLinear(in_features=768, out_features=768, bias=True)\n",
      "'roberta_encoder_layer_5_attention_output_LayerNorm':\tLayerNorm((768,), eps=1e-05, elementwise_affine=True)\n",
      "'roberta_encoder_layer_5_attention_output_dropout':\tDropout(p=0.1, inplace=False)\n",
      "'roberta_encoder_layer_5_intermediate_dense':\tLinear(in_features=768, out_features=3072, bias=True)\n",
      "'roberta_encoder_layer_5_intermediate_intermediate_act_fn':\tGELUActivation()\n",
      "'roberta_encoder_layer_5_output_dense':\tLinear(in_features=3072, out_features=768, bias=True)\n",
      "'roberta_encoder_layer_5_output_LayerNorm':\tLayerNorm((768,), eps=1e-05, elementwise_affine=True)\n",
      "'roberta_encoder_layer_5_output_dropout':\tDropout(p=0.1, inplace=False)\n",
      "'roberta_encoder_layer_6_attention_self_query':\tLinear(in_features=768, out_features=768, bias=True)\n",
      "'roberta_encoder_layer_6_attention_self_key':\tLinear(in_features=768, out_features=768, bias=True)\n",
      "'roberta_encoder_layer_6_attention_self_value':\tLinear(in_features=768, out_features=768, bias=True)\n",
      "'roberta_encoder_layer_6_attention_self_dropout':\tDropout(p=0.1, inplace=False)\n",
      "'roberta_encoder_layer_6_attention_output_dense':\tLinear(in_features=768, out_features=768, bias=True)\n",
      "'roberta_encoder_layer_6_attention_output_LayerNorm':\tLayerNorm((768,), eps=1e-05, elementwise_affine=True)\n",
      "'roberta_encoder_layer_6_attention_output_dropout':\tDropout(p=0.1, inplace=False)\n",
      "'roberta_encoder_layer_6_intermediate_dense':\tLinear(in_features=768, out_features=3072, bias=True)\n",
      "'roberta_encoder_layer_6_intermediate_intermediate_act_fn':\tGELUActivation()\n",
      "'roberta_encoder_layer_6_output_dense':\tLinear(in_features=3072, out_features=768, bias=True)\n",
      "'roberta_encoder_layer_6_output_LayerNorm':\tLayerNorm((768,), eps=1e-05, elementwise_affine=True)\n",
      "'roberta_encoder_layer_6_output_dropout':\tDropout(p=0.1, inplace=False)\n",
      "'roberta_encoder_layer_7_attention_self_query':\tLinear(in_features=768, out_features=768, bias=True)\n",
      "'roberta_encoder_layer_7_attention_self_key':\tLinear(in_features=768, out_features=768, bias=True)\n",
      "'roberta_encoder_layer_7_attention_self_value':\tLinear(in_features=768, out_features=768, bias=True)\n",
      "'roberta_encoder_layer_7_attention_self_dropout':\tDropout(p=0.1, inplace=False)\n",
      "'roberta_encoder_layer_7_attention_output_dense':\tLinear(in_features=768, out_features=768, bias=True)\n",
      "'roberta_encoder_layer_7_attention_output_LayerNorm':\tLayerNorm((768,), eps=1e-05, elementwise_affine=True)\n",
      "'roberta_encoder_layer_7_attention_output_dropout':\tDropout(p=0.1, inplace=False)\n",
      "'roberta_encoder_layer_7_intermediate_dense':\tLinear(in_features=768, out_features=3072, bias=True)\n",
      "'roberta_encoder_layer_7_intermediate_intermediate_act_fn':\tGELUActivation()\n",
      "'roberta_encoder_layer_7_output_dense':\tLinear(in_features=3072, out_features=768, bias=True)\n",
      "'roberta_encoder_layer_7_output_LayerNorm':\tLayerNorm((768,), eps=1e-05, elementwise_affine=True)\n",
      "'roberta_encoder_layer_7_output_dropout':\tDropout(p=0.1, inplace=False)\n",
      "'roberta_encoder_layer_8_attention_self_query':\tLinear(in_features=768, out_features=768, bias=True)\n",
      "'roberta_encoder_layer_8_attention_self_key':\tLinear(in_features=768, out_features=768, bias=True)\n",
      "'roberta_encoder_layer_8_attention_self_value':\tLinear(in_features=768, out_features=768, bias=True)\n",
      "'roberta_encoder_layer_8_attention_self_dropout':\tDropout(p=0.1, inplace=False)\n",
      "'roberta_encoder_layer_8_attention_output_dense':\tLinear(in_features=768, out_features=768, bias=True)\n",
      "'roberta_encoder_layer_8_attention_output_LayerNorm':\tLayerNorm((768,), eps=1e-05, elementwise_affine=True)\n",
      "'roberta_encoder_layer_8_attention_output_dropout':\tDropout(p=0.1, inplace=False)\n",
      "'roberta_encoder_layer_8_intermediate_dense':\tLinear(in_features=768, out_features=3072, bias=True)\n",
      "'roberta_encoder_layer_8_intermediate_intermediate_act_fn':\tGELUActivation()\n",
      "'roberta_encoder_layer_8_output_dense':\tLinear(in_features=3072, out_features=768, bias=True)\n",
      "'roberta_encoder_layer_8_output_LayerNorm':\tLayerNorm((768,), eps=1e-05, elementwise_affine=True)\n",
      "'roberta_encoder_layer_8_output_dropout':\tDropout(p=0.1, inplace=False)\n",
      "'roberta_encoder_layer_9_attention_self_query':\tLinear(in_features=768, out_features=768, bias=True)\n",
      "'roberta_encoder_layer_9_attention_self_key':\tLinear(in_features=768, out_features=768, bias=True)\n",
      "'roberta_encoder_layer_9_attention_self_value':\tLinear(in_features=768, out_features=768, bias=True)\n",
      "'roberta_encoder_layer_9_attention_self_dropout':\tDropout(p=0.1, inplace=False)\n",
      "'roberta_encoder_layer_9_attention_output_dense':\tLinear(in_features=768, out_features=768, bias=True)\n",
      "'roberta_encoder_layer_9_attention_output_LayerNorm':\tLayerNorm((768,), eps=1e-05, elementwise_affine=True)\n",
      "'roberta_encoder_layer_9_attention_output_dropout':\tDropout(p=0.1, inplace=False)\n",
      "'roberta_encoder_layer_9_intermediate_dense':\tLinear(in_features=768, out_features=3072, bias=True)\n",
      "'roberta_encoder_layer_9_intermediate_intermediate_act_fn':\tGELUActivation()\n",
      "'roberta_encoder_layer_9_output_dense':\tLinear(in_features=3072, out_features=768, bias=True)\n",
      "'roberta_encoder_layer_9_output_LayerNorm':\tLayerNorm((768,), eps=1e-05, elementwise_affine=True)\n",
      "'roberta_encoder_layer_9_output_dropout':\tDropout(p=0.1, inplace=False)\n",
      "'roberta_encoder_layer_10_attention_self_query':\tLinear(in_features=768, out_features=768, bias=True)\n",
      "'roberta_encoder_layer_10_attention_self_key':\tLinear(in_features=768, out_features=768, bias=True)\n",
      "'roberta_encoder_layer_10_attention_self_value':\tLinear(in_features=768, out_features=768, bias=True)\n",
      "'roberta_encoder_layer_10_attention_self_dropout':\tDropout(p=0.1, inplace=False)\n",
      "'roberta_encoder_layer_10_attention_output_dense':\tLinear(in_features=768, out_features=768, bias=True)\n",
      "'roberta_encoder_layer_10_attention_output_LayerNorm':\tLayerNorm((768,), eps=1e-05, elementwise_affine=True)\n",
      "'roberta_encoder_layer_10_attention_output_dropout':\tDropout(p=0.1, inplace=False)\n",
      "'roberta_encoder_layer_10_intermediate_dense':\tLinear(in_features=768, out_features=3072, bias=True)\n",
      "'roberta_encoder_layer_10_intermediate_intermediate_act_fn':\tGELUActivation()\n",
      "'roberta_encoder_layer_10_output_dense':\tLinear(in_features=3072, out_features=768, bias=True)\n",
      "'roberta_encoder_layer_10_output_LayerNorm':\tLayerNorm((768,), eps=1e-05, elementwise_affine=True)\n",
      "'roberta_encoder_layer_10_output_dropout':\tDropout(p=0.1, inplace=False)\n",
      "'roberta_encoder_layer_11_attention_self_query':\tLinear(in_features=768, out_features=768, bias=True)\n",
      "'roberta_encoder_layer_11_attention_self_key':\tLinear(in_features=768, out_features=768, bias=True)\n",
      "'roberta_encoder_layer_11_attention_self_value':\tLinear(in_features=768, out_features=768, bias=True)\n",
      "'roberta_encoder_layer_11_attention_self_dropout':\tDropout(p=0.1, inplace=False)\n",
      "'roberta_encoder_layer_11_attention_output_dense':\tLinear(in_features=768, out_features=768, bias=True)\n",
      "'roberta_encoder_layer_11_attention_output_LayerNorm':\tLayerNorm((768,), eps=1e-05, elementwise_affine=True)\n",
      "'roberta_encoder_layer_11_attention_output_dropout':\tDropout(p=0.1, inplace=False)\n",
      "'roberta_encoder_layer_11_intermediate_dense':\tLinear(in_features=768, out_features=3072, bias=True)\n",
      "'roberta_encoder_layer_11_intermediate_intermediate_act_fn':\tGELUActivation()\n",
      "'roberta_encoder_layer_11_output_dense':\tLinear(in_features=3072, out_features=768, bias=True)\n",
      "'roberta_encoder_layer_11_output_LayerNorm':\tLayerNorm((768,), eps=1e-05, elementwise_affine=True)\n",
      "'roberta_encoder_layer_11_output_dropout':\tDropout(p=0.1, inplace=False)\n",
      "'classifier_dense':\tLinear(in_features=768, out_features=768, bias=True)\n",
      "'classifier_dropout':\tDropout(p=0.1, inplace=False)\n",
      "'classifier_out_proj':\tLinear(in_features=768, out_features=3, bias=True)\n"
     ]
    }
   ],
   "source": [
    "task.wrapper.print_layer_names()"
   ]
  },
  {
   "cell_type": "markdown",
   "metadata": {},
   "source": [
    "## Parameters\n",
    "\n",
    "Above, `roberta_embeddings_word_embeddings` is the layer that produces a continuous representation of each input token so we will use that layer as the one defining the **distribution of interest**. While most neural NLP models contain a token embedding, the layer name will differ.\n",
    "\n",
    "The second thing to note is the form of model outputs. Specifically, outputs are structures which contain a 'logits' attribute that stores the model scores.\n",
    "\n",
    "Putting these things together, we instantiate `IntegratedGradients` to attribute each embedding dimension to the maximum class (i.e. the predicted class)."
   ]
  },
  {
   "cell_type": "code",
   "execution_count": 22,
   "metadata": {},
   "outputs": [],
   "source": [
    "infl_max = IntegratedGradients(\n",
    "    model = task.wrapper,\n",
    "    doi_cut=Cut('roberta_embeddings_word_embeddings'),\n",
    "    qoi_cut=OutputCut(accessor=lambda o: o['logits'])\n",
    ")"
   ]
  },
  {
   "cell_type": "code",
   "execution_count": 23,
   "metadata": {},
   "outputs": [],
   "source": [
    "# Alternatively we can look at a particular class:\n",
    "\n",
    "infl_positive = IntegratedGradients(\n",
    "    model = task.wrapper,\n",
    "    doi_cut=Cut('roberta_embeddings_word_embeddings'),\n",
    "    qoi=ClassQoI(task.POSITIVE),\n",
    "    qoi_cut=OutputCut(accessor=lambda o: o['logits'])\n",
    ")"
   ]
  },
  {
   "cell_type": "markdown",
   "metadata": {},
   "source": [
    "Getting attributions uses the same call as model evaluation."
   ]
  },
  {
   "cell_type": "code",
   "execution_count": 24,
   "metadata": {},
   "outputs": [
    {
     "name": "stdout",
     "output_type": "stream",
     "text": [
      "<s>(0.057) I(0.202) 'm(0.220)  so(0.279)  happy(0.506) !(0.106) </s>(-0.078) <pad>(0.000) <pad>(0.000) <pad>(0.000) <pad>(0.000) <pad>(0.000) <pad>(0.000) \n",
      "<s>(0.022) I(0.039) 'm(-0.143)  so(0.168)  sad(-0.019) !(-0.149) </s>(-0.044) <pad>(0.000) <pad>(0.000) <pad>(0.000) <pad>(0.000) <pad>(0.000) <pad>(0.000) \n",
      "<s>(-0.028) I(0.002)  cannot(-0.237)  tell(-0.018)  whether(0.125)  I(-0.065)  should(0.021)  be(-0.048)  happy(-0.133)  or(-0.156)  sad(-0.452) !(-0.161) </s>(0.001) \n",
      "<s>(0.041) me(-0.259) h(-0.384) </s>(-0.089) <pad>(0.000) <pad>(0.000) <pad>(0.000) <pad>(0.000) <pad>(0.000) <pad>(0.000) <pad>(0.000) <pad>(0.000) <pad>(0.000) \n"
     ]
    }
   ],
   "source": [
    "attrs = infl_max.attributions(**inputs)\n",
    "\n",
    "for token_ids, token_attr in zip(inputs['input_ids'], attrs):\n",
    "    for token_id, token_attr in zip(token_ids, token_attr):\n",
    "        # Not that each `word_attr` has a magnitude for each of the embedding\n",
    "        # dimensions, of which there are many. We aggregate them for easier\n",
    "        # interpretation and display.\n",
    "        attr = token_attr.sum()\n",
    "\n",
    "        word = task.tokenizer.decode(token_id)\n",
    "\n",
    "        print(f\"{word}({attr:0.3f})\", end=' ')\n",
    "\n",
    "    print()"
   ]
  },
  {
   "cell_type": "markdown",
   "metadata": {},
   "source": [
    "A listing as above is not very readable so Trulens comes with some utilities to present token influences a bit more concisely. First we need to set up a few parameters to make use of it:"
   ]
  },
  {
   "cell_type": "code",
   "execution_count": 25,
   "metadata": {},
   "outputs": [
    {
     "name": "stdout",
     "output_type": "stream",
     "text": [
      "QOI = MAX PREDICTION\n"
     ]
    },
    {
     "data": {
      "text/html": [
       "<html><body><div style=\"padding: 5px; maring: 0px; background: black;\">scale:&nbsp;<span title=\"-1.000\" style=\"border-top: 0px solid rgba(255.0, 0.0, 0.0, 255.0); border-bottom: 10px solid rgba(255.0, 0.0, 0.0, 255.0); margin-left 1px; margin-right: 1px; background: black; color: rgba(255.0, 0.0, 0.0, 255.0);\">-1.0</span><span title=\"-0.900\" style=\"border-top: 0px solid rgba(255.0, 25.499999999999993, 25.499999999999993, 255.0); border-bottom: 9px solid rgba(255.0, 25.499999999999993, 25.499999999999993, 255.0); margin-left 1px; margin-right: 1px; background: black; color: rgba(255.0, 25.499999999999993, 25.499999999999993, 255.0);\">-0.9</span><span title=\"-0.800\" style=\"border-top: 0px solid rgba(255.0, 50.999999999999986, 50.999999999999986, 255.0); border-bottom: 8px solid rgba(255.0, 50.999999999999986, 50.999999999999986, 255.0); margin-left 1px; margin-right: 1px; background: black; color: rgba(255.0, 50.999999999999986, 50.999999999999986, 255.0);\">-0.8</span><span title=\"-0.700\" style=\"border-top: 0px solid rgba(255.0, 76.50000000000001, 76.50000000000001, 255.0); border-bottom: 7px solid rgba(255.0, 76.50000000000001, 76.50000000000001, 255.0); margin-left 1px; margin-right: 1px; background: black; color: rgba(255.0, 76.50000000000001, 76.50000000000001, 255.0);\">-0.7</span><span title=\"-0.600\" style=\"border-top: 0px solid rgba(255.0, 102.0, 102.0, 255.0); border-bottom: 6px solid rgba(255.0, 102.0, 102.0, 255.0); margin-left 1px; margin-right: 1px; background: black; color: rgba(255.0, 102.0, 102.0, 255.0);\">-0.6</span><span title=\"-0.500\" style=\"border-top: 0px solid rgba(255.0, 127.5, 127.5, 255.0); border-bottom: 5px solid rgba(255.0, 127.5, 127.5, 255.0); margin-left 1px; margin-right: 1px; background: black; color: rgba(255.0, 127.5, 127.5, 255.0);\">-0.5</span><span title=\"-0.400\" style=\"border-top: 0px solid rgba(255.0, 153.0, 153.0, 255.0); border-bottom: 4px solid rgba(255.0, 153.0, 153.0, 255.0); margin-left 1px; margin-right: 1px; background: black; color: rgba(255.0, 153.0, 153.0, 255.0);\">-0.4</span><span title=\"-0.300\" style=\"border-top: 0px solid rgba(255.0, 178.5, 178.5, 255.0); border-bottom: 3px solid rgba(255.0, 178.5, 178.5, 255.0); margin-left 1px; margin-right: 1px; background: black; color: rgba(255.0, 178.5, 178.5, 255.0);\">-0.3</span><span title=\"-0.200\" style=\"border-top: 0px solid rgba(255.0, 204.0, 204.0, 255.0); border-bottom: 2px solid rgba(255.0, 204.0, 204.0, 255.0); margin-left 1px; margin-right: 1px; background: black; color: rgba(255.0, 204.0, 204.0, 255.0);\">-0.2</span><span title=\"-0.100\" style=\"border-top: 0px solid rgba(255.0, 229.5, 229.5, 255.0); border-bottom: 1px solid rgba(255.0, 229.5, 229.5, 255.0); margin-left 1px; margin-right: 1px; background: black; color: rgba(255.0, 229.5, 229.5, 255.0);\">-0.1</span><span title=\"0.000\" style=\"border-top: 0px solid rgba(255.0, 255.0, 255.0, 255.0); border-bottom: 0px solid rgba(255.0, 255.0, 255.0, 255.0); margin-left 1px; margin-right: 1px; background: black; color: rgba(255.0, 255.0, 255.0, 255.0);\">0.0</span><span title=\"0.100\" style=\"border-top: 1px solid rgba(229.5, 255.0, 229.5, 255.0); border-bottom: 0px solid rgba(229.5, 255.0, 229.5, 255.0); margin-left 1px; margin-right: 1px; background: black; color: rgba(229.5, 255.0, 229.5, 255.0);\">+0.1</span><span title=\"0.200\" style=\"border-top: 2px solid rgba(204.0, 255.0, 204.0, 255.0); border-bottom: 0px solid rgba(204.0, 255.0, 204.0, 255.0); margin-left 1px; margin-right: 1px; background: black; color: rgba(204.0, 255.0, 204.0, 255.0);\">+0.2</span><span title=\"0.300\" style=\"border-top: 3px solid rgba(178.5, 255.0, 178.5, 255.0); border-bottom: 0px solid rgba(178.5, 255.0, 178.5, 255.0); margin-left 1px; margin-right: 1px; background: black; color: rgba(178.5, 255.0, 178.5, 255.0);\">+0.3</span><span title=\"0.400\" style=\"border-top: 4px solid rgba(153.0, 255.0, 153.0, 255.0); border-bottom: 0px solid rgba(153.0, 255.0, 153.0, 255.0); margin-left 1px; margin-right: 1px; background: black; color: rgba(153.0, 255.0, 153.0, 255.0);\">+0.4</span><span title=\"0.500\" style=\"border-top: 5px solid rgba(127.5, 255.0, 127.5, 255.0); border-bottom: 0px solid rgba(127.5, 255.0, 127.5, 255.0); margin-left 1px; margin-right: 1px; background: black; color: rgba(127.5, 255.0, 127.5, 255.0);\">+0.5</span><span title=\"0.600\" style=\"border-top: 6px solid rgba(102.0, 255.0, 102.0, 255.0); border-bottom: 0px solid rgba(102.0, 255.0, 102.0, 255.0); margin-left 1px; margin-right: 1px; background: black; color: rgba(102.0, 255.0, 102.0, 255.0);\">+0.6</span><span title=\"0.700\" style=\"border-top: 7px solid rgba(76.50000000000001, 255.0, 76.50000000000001, 255.0); border-bottom: 0px solid rgba(76.50000000000001, 255.0, 76.50000000000001, 255.0); margin-left 1px; margin-right: 1px; background: black; color: rgba(76.50000000000001, 255.0, 76.50000000000001, 255.0);\">+0.7</span><span title=\"0.800\" style=\"border-top: 8px solid rgba(50.999999999999986, 255.0, 50.999999999999986, 255.0); border-bottom: 0px solid rgba(50.999999999999986, 255.0, 50.999999999999986, 255.0); margin-left 1px; margin-right: 1px; background: black; color: rgba(50.999999999999986, 255.0, 50.999999999999986, 255.0);\">+0.8</span><span title=\"0.900\" style=\"border-top: 9px solid rgba(25.499999999999993, 255.0, 25.499999999999993, 255.0); border-bottom: 0px solid rgba(25.499999999999993, 255.0, 25.499999999999993, 255.0); margin-left 1px; margin-right: 1px; background: black; color: rgba(25.499999999999993, 255.0, 25.499999999999993, 255.0);\">+0.9</span><span title=\"1.000\" style=\"border-top: 10px solid rgba(0.0, 255.0, 0.0, 255.0); border-bottom: 0px solid rgba(0.0, 255.0, 0.0, 255.0); margin-left 1px; margin-right: 1px; background: black; color: rgba(0.0, 255.0, 0.0, 255.0);\">+1.0</span></div><br/><br/><div style=\"padding: 5px; maring: 0px; background: black;\"><div style=\"padding: 5px; maring: 0px; background: black;\"><span title=\"0.002\" style=\"border-top: 0px solid rgba(254.5767583156703, 255.0, 254.5767583156703, 255.0); border-bottom: 0px solid rgba(254.5767583156703, 255.0, 254.5767583156703, 255.0); margin-left 1px; margin-right: 1px; background: black; color: rgba(254.5767583156703, 255.0, 254.5767583156703, 255.0);\">negative</span>-<span title=\"0.007\" style=\"border-top: 0px solid rgba(253.20399822900072, 255.0, 253.20399822900072, 255.0); border-bottom: 0px solid rgba(253.20399822900072, 255.0, 253.20399822900072, 255.0); margin-left 1px; margin-right: 1px; background: black; color: rgba(253.20399822900072, 255.0, 253.20399822900072, 255.0);\">neutral</span>-<span title=\"0.991\" style=\"border-top: 9px solid rgba(2.219248116016388, 255.0, 2.219248116016388, 255.0); border-bottom: 0px solid rgba(2.219248116016388, 255.0, 2.219248116016388, 255.0); margin-left 1px; margin-right: 1px; background: black; color: rgba(2.219248116016388, 255.0, 2.219248116016388, 255.0);\">positive</span>-<span title=\"0.057\" style=\"border-top: 0px solid rgba(240.36609414964914, 255.0, 240.36609414964914, 255.0); border-bottom: 0px solid rgba(240.36609414964914, 255.0, 240.36609414964914, 255.0); margin-left 1px; margin-right: 1px; background: black; color: rgba(240.36609414964914, 255.0, 240.36609414964914, 255.0);\">&lt;s&gt;</span><span title=\"0.202\" style=\"border-top: 2px solid rgba(203.55167269706726, 255.0, 203.55167269706726, 255.0); border-bottom: 0px solid rgba(203.55167269706726, 255.0, 203.55167269706726, 255.0); margin-left 1px; margin-right: 1px; background: black; color: rgba(203.55167269706726, 255.0, 203.55167269706726, 255.0);\">I</span><span title=\"0.220\" style=\"border-top: 2px solid rgba(198.78276139497757, 255.0, 198.78276139497757, 255.0); border-bottom: 0px solid rgba(198.78276139497757, 255.0, 198.78276139497757, 255.0); margin-left 1px; margin-right: 1px; background: black; color: rgba(198.78276139497757, 255.0, 198.78276139497757, 255.0);\">&#x27;m</span>&nbsp;<span title=\"0.279\" style=\"border-top: 2px solid rgba(183.72821241617203, 255.0, 183.72821241617203, 255.0); border-bottom: 0px solid rgba(183.72821241617203, 255.0, 183.72821241617203, 255.0); margin-left 1px; margin-right: 1px; background: black; color: rgba(183.72821241617203, 255.0, 183.72821241617203, 255.0);\">so</span>&nbsp;<span title=\"0.506\" style=\"border-top: 5px solid rgba(125.93428641557693, 255.0, 125.93428641557693, 255.0); border-bottom: 0px solid rgba(125.93428641557693, 255.0, 125.93428641557693, 255.0); margin-left 1px; margin-right: 1px; background: black; color: rgba(125.93428641557693, 255.0, 125.93428641557693, 255.0);\">happy</span><span title=\"0.106\" style=\"border-top: 1px solid rgba(227.8992386162281, 255.0, 227.8992386162281, 255.0); border-bottom: 0px solid rgba(227.8992386162281, 255.0, 227.8992386162281, 255.0); margin-left 1px; margin-right: 1px; background: black; color: rgba(227.8992386162281, 255.0, 227.8992386162281, 255.0);\">!</span><span title=\"-0.078\" style=\"border-top: 0px solid rgba(255.0, 235.22583067417145, 235.22583067417145, 255.0); border-bottom: 0px solid rgba(255.0, 235.22583067417145, 235.22583067417145, 255.0); margin-left 1px; margin-right: 1px; background: black; color: rgba(255.0, 235.22583067417145, 235.22583067417145, 255.0);\">&lt;/s&gt;</span></div></div><div style=\"padding: 5px; maring: 0px; background: black;\"><div style=\"padding: 5px; maring: 0px; background: black;\"><span title=\"0.943\" style=\"border-top: 9px solid rgba(14.422034919261932, 255.0, 14.422034919261932, 255.0); border-bottom: 0px solid rgba(14.422034919261932, 255.0, 14.422034919261932, 255.0); margin-left 1px; margin-right: 1px; background: black; color: rgba(14.422034919261932, 255.0, 14.422034919261932, 255.0);\">negative</span>-<span title=\"0.048\" style=\"border-top: 0px solid rgba(242.72229831665754, 255.0, 242.72229831665754, 255.0); border-bottom: 0px solid rgba(242.72229831665754, 255.0, 242.72229831665754, 255.0); margin-left 1px; margin-right: 1px; background: black; color: rgba(242.72229831665754, 255.0, 242.72229831665754, 255.0);\">neutral</span>-<span title=\"0.008\" style=\"border-top: 0px solid rgba(252.8556784009561, 255.0, 252.8556784009561, 255.0); border-bottom: 0px solid rgba(252.8556784009561, 255.0, 252.8556784009561, 255.0); margin-left 1px; margin-right: 1px; background: black; color: rgba(252.8556784009561, 255.0, 252.8556784009561, 255.0);\">positive</span>-<span title=\"0.022\" style=\"border-top: 0px solid rgba(249.283849876374, 255.0, 249.283849876374, 255.0); border-bottom: 0px solid rgba(249.283849876374, 255.0, 249.283849876374, 255.0); margin-left 1px; margin-right: 1px; background: black; color: rgba(249.283849876374, 255.0, 249.283849876374, 255.0);\">&lt;s&gt;</span><span title=\"0.039\" style=\"border-top: 0px solid rgba(244.96446300297976, 255.0, 244.96446300297976, 255.0); border-bottom: 0px solid rgba(244.96446300297976, 255.0, 244.96446300297976, 255.0); margin-left 1px; margin-right: 1px; background: black; color: rgba(244.96446300297976, 255.0, 244.96446300297976, 255.0);\">I</span><span title=\"-0.143\" style=\"border-top: 0px solid rgba(255.0, 218.60447376966476, 218.60447376966476, 255.0); border-bottom: 1px solid rgba(255.0, 218.60447376966476, 218.60447376966476, 255.0); margin-left 1px; margin-right: 1px; background: black; color: rgba(255.0, 218.60447376966476, 218.60447376966476, 255.0);\">&#x27;m</span>&nbsp;<span title=\"0.168\" style=\"border-top: 1px solid rgba(212.09982320666313, 255.0, 212.09982320666313, 255.0); border-bottom: 0px solid rgba(212.09982320666313, 255.0, 212.09982320666313, 255.0); margin-left 1px; margin-right: 1px; background: black; color: rgba(212.09982320666313, 255.0, 212.09982320666313, 255.0);\">so</span>&nbsp;<span title=\"-0.019\" style=\"border-top: 0px solid rgba(255.0, 250.16444217413664, 250.16444217413664, 255.0); border-bottom: 0px solid rgba(255.0, 250.16444217413664, 250.16444217413664, 255.0); margin-left 1px; margin-right: 1px; background: black; color: rgba(255.0, 250.16444217413664, 250.16444217413664, 255.0);\">sad</span><span title=\"-0.149\" style=\"border-top: 0px solid rgba(255.0, 217.12316505610943, 217.12316505610943, 255.0); border-bottom: 1px solid rgba(255.0, 217.12316505610943, 217.12316505610943, 255.0); margin-left 1px; margin-right: 1px; background: black; color: rgba(255.0, 217.12316505610943, 217.12316505610943, 255.0);\">!</span><span title=\"-0.044\" style=\"border-top: 0px solid rgba(255.0, 243.89270391315222, 243.89270391315222, 255.0); border-bottom: 0px solid rgba(255.0, 243.89270391315222, 243.89270391315222, 255.0); margin-left 1px; margin-right: 1px; background: black; color: rgba(255.0, 243.89270391315222, 243.89270391315222, 255.0);\">&lt;/s&gt;</span></div></div><div style=\"padding: 5px; maring: 0px; background: black;\"><div style=\"padding: 5px; maring: 0px; background: black;\"><span title=\"0.486\" style=\"border-top: 4px solid rgba(131.08719751238823, 255.0, 131.08719751238823, 255.0); border-bottom: 0px solid rgba(131.08719751238823, 255.0, 131.08719751238823, 255.0); margin-left 1px; margin-right: 1px; background: black; color: rgba(131.08719751238823, 255.0, 131.08719751238823, 255.0);\">negative</span>-<span title=\"0.390\" style=\"border-top: 3px solid rgba(155.51210448145866, 255.0, 155.51210448145866, 255.0); border-bottom: 0px solid rgba(155.51210448145866, 255.0, 155.51210448145866, 255.0); margin-left 1px; margin-right: 1px; background: black; color: rgba(155.51210448145866, 255.0, 155.51210448145866, 255.0);\">neutral</span>-<span title=\"0.124\" style=\"border-top: 1px solid rgba(223.4006980061531, 255.0, 223.4006980061531, 255.0); border-bottom: 0px solid rgba(223.4006980061531, 255.0, 223.4006980061531, 255.0); margin-left 1px; margin-right: 1px; background: black; color: rgba(223.4006980061531, 255.0, 223.4006980061531, 255.0);\">positive</span>-<span title=\"-0.028\" style=\"border-top: 0px solid rgba(255.0, 247.85715943202376, 247.85715943202376, 255.0); border-bottom: 0px solid rgba(255.0, 247.85715943202376, 247.85715943202376, 255.0); margin-left 1px; margin-right: 1px; background: black; color: rgba(255.0, 247.85715943202376, 247.85715943202376, 255.0);\">&lt;s&gt;</span><span title=\"0.002\" style=\"border-top: 0px solid rgba(254.49188366532326, 255.0, 254.49188366532326, 255.0); border-bottom: 0px solid rgba(254.49188366532326, 255.0, 254.49188366532326, 255.0); margin-left 1px; margin-right: 1px; background: black; color: rgba(254.49188366532326, 255.0, 254.49188366532326, 255.0);\">I</span>&nbsp;<span title=\"-0.237\" style=\"border-top: 0px solid rgba(255.0, 194.67362768948078, 194.67362768948078, 255.0); border-bottom: 2px solid rgba(255.0, 194.67362768948078, 194.67362768948078, 255.0); margin-left 1px; margin-right: 1px; background: black; color: rgba(255.0, 194.67362768948078, 194.67362768948078, 255.0);\">cannot</span>&nbsp;<span title=\"-0.018\" style=\"border-top: 0px solid rgba(255.0, 250.36796210333705, 250.36796210333705, 255.0); border-bottom: 0px solid rgba(255.0, 250.36796210333705, 250.36796210333705, 255.0); margin-left 1px; margin-right: 1px; background: black; color: rgba(255.0, 250.36796210333705, 250.36796210333705, 255.0);\">tell</span>&nbsp;<span title=\"0.125\" style=\"border-top: 1px solid rgba(223.14979746937752, 255.0, 223.14979746937752, 255.0); border-bottom: 0px solid rgba(223.14979746937752, 255.0, 223.14979746937752, 255.0); margin-left 1px; margin-right: 1px; background: black; color: rgba(223.14979746937752, 255.0, 223.14979746937752, 255.0);\">whether</span>&nbsp;<span title=\"-0.065\" style=\"border-top: 0px solid rgba(255.0, 238.44855554401875, 238.44855554401875, 255.0); border-bottom: 0px solid rgba(255.0, 238.44855554401875, 238.44855554401875, 255.0); margin-left 1px; margin-right: 1px; background: black; color: rgba(255.0, 238.44855554401875, 238.44855554401875, 255.0);\">I</span>&nbsp;<span title=\"0.021\" style=\"border-top: 0px solid rgba(249.7515838779509, 255.0, 249.7515838779509, 255.0); border-bottom: 0px solid rgba(249.7515838779509, 255.0, 249.7515838779509, 255.0); margin-left 1px; margin-right: 1px; background: black; color: rgba(249.7515838779509, 255.0, 249.7515838779509, 255.0);\">should</span>&nbsp;<span title=\"-0.048\" style=\"border-top: 0px solid rgba(255.0, 242.80591567978263, 242.80591567978263, 255.0); border-bottom: 0px solid rgba(255.0, 242.80591567978263, 242.80591567978263, 255.0); margin-left 1px; margin-right: 1px; background: black; color: rgba(255.0, 242.80591567978263, 242.80591567978263, 255.0);\">be</span>&nbsp;<span title=\"-0.133\" style=\"border-top: 0px solid rgba(255.0, 221.175784394145, 221.175784394145, 255.0); border-bottom: 1px solid rgba(255.0, 221.175784394145, 221.175784394145, 255.0); margin-left 1px; margin-right: 1px; background: black; color: rgba(255.0, 221.175784394145, 221.175784394145, 255.0);\">happy</span>&nbsp;<span title=\"-0.156\" style=\"border-top: 0px solid rgba(255.0, 215.2846147119999, 215.2846147119999, 255.0); border-bottom: 1px solid rgba(255.0, 215.2846147119999, 215.2846147119999, 255.0); margin-left 1px; margin-right: 1px; background: black; color: rgba(255.0, 215.2846147119999, 215.2846147119999, 255.0);\">or</span>&nbsp;<span title=\"-0.452\" style=\"border-top: 0px solid rgba(255.0, 139.79866325855255, 139.79866325855255, 255.0); border-bottom: 4px solid rgba(255.0, 139.79866325855255, 139.79866325855255, 255.0); margin-left 1px; margin-right: 1px; background: black; color: rgba(255.0, 139.79866325855255, 139.79866325855255, 255.0);\">sad</span><span title=\"-0.161\" style=\"border-top: 0px solid rgba(255.0, 213.90415638685226, 213.90415638685226, 255.0); border-bottom: 1px solid rgba(255.0, 213.90415638685226, 213.90415638685226, 255.0); margin-left 1px; margin-right: 1px; background: black; color: rgba(255.0, 213.90415638685226, 213.90415638685226, 255.0);\">!</span><span title=\"0.001\" style=\"border-top: 0px solid rgba(254.66564905364066, 255.0, 254.66564905364066, 255.0); border-bottom: 0px solid rgba(254.66564905364066, 255.0, 254.66564905364066, 255.0); margin-left 1px; margin-right: 1px; background: black; color: rgba(254.66564905364066, 255.0, 254.66564905364066, 255.0);\">&lt;/s&gt;</span></div></div><div style=\"padding: 5px; maring: 0px; background: black;\"><div style=\"padding: 5px; maring: 0px; background: black;\"><span title=\"0.232\" style=\"border-top: 2px solid rgba(195.89804738759995, 255.0, 195.89804738759995, 255.0); border-bottom: 0px solid rgba(195.89804738759995, 255.0, 195.89804738759995, 255.0); margin-left 1px; margin-right: 1px; background: black; color: rgba(195.89804738759995, 255.0, 195.89804738759995, 255.0);\">negative</span>-<span title=\"0.530\" style=\"border-top: 5px solid rgba(119.75144058465958, 255.0, 119.75144058465958, 255.0); border-bottom: 0px solid rgba(119.75144058465958, 255.0, 119.75144058465958, 255.0); margin-left 1px; margin-right: 1px; background: black; color: rgba(119.75144058465958, 255.0, 119.75144058465958, 255.0);\">neutral</span>-<span title=\"0.238\" style=\"border-top: 2px solid rgba(194.35050062835217, 255.0, 194.35050062835217, 255.0); border-bottom: 0px solid rgba(194.35050062835217, 255.0, 194.35050062835217, 255.0); margin-left 1px; margin-right: 1px; background: black; color: rgba(194.35050062835217, 255.0, 194.35050062835217, 255.0);\">positive</span>-<span title=\"0.041\" style=\"border-top: 0px solid rgba(244.57034435123205, 255.0, 244.57034435123205, 255.0); border-bottom: 0px solid rgba(244.57034435123205, 255.0, 244.57034435123205, 255.0); margin-left 1px; margin-right: 1px; background: black; color: rgba(244.57034435123205, 255.0, 244.57034435123205, 255.0);\">&lt;s&gt;</span><span title=\"-0.259\" style=\"border-top: 0px solid rgba(255.0, 189.02529537677765, 189.02529537677765, 255.0); border-bottom: 2px solid rgba(255.0, 189.02529537677765, 189.02529537677765, 255.0); margin-left 1px; margin-right: 1px; background: black; color: rgba(255.0, 189.02529537677765, 189.02529537677765, 255.0);\">me</span><span title=\"-0.384\" style=\"border-top: 0px solid rgba(255.0, 157.10690930485725, 157.10690930485725, 255.0); border-bottom: 3px solid rgba(255.0, 157.10690930485725, 157.10690930485725, 255.0); margin-left 1px; margin-right: 1px; background: black; color: rgba(255.0, 157.10690930485725, 157.10690930485725, 255.0);\">h</span><span title=\"-0.089\" style=\"border-top: 0px solid rgba(255.0, 232.27196607738733, 232.27196607738733, 255.0); border-bottom: 0px solid rgba(255.0, 232.27196607738733, 232.27196607738733, 255.0); margin-left 1px; margin-right: 1px; background: black; color: rgba(255.0, 232.27196607738733, 232.27196607738733, 255.0);\">&lt;/s&gt;</span></div></div></body></html>"
      ],
      "text/plain": [
       "<IPython.core.display.HTML object>"
      ]
     },
     "metadata": {},
     "output_type": "display_data"
    },
    {
     "name": "stdout",
     "output_type": "stream",
     "text": [
      "QOI = POSITIVE\n"
     ]
    },
    {
     "data": {
      "text/html": [
       "<html><body><div style=\"padding: 5px; maring: 0px; background: black;\">scale:&nbsp;<span title=\"-1.000\" style=\"border-top: 0px solid rgba(255.0, 0.0, 0.0, 255.0); border-bottom: 10px solid rgba(255.0, 0.0, 0.0, 255.0); margin-left 1px; margin-right: 1px; background: black; color: rgba(255.0, 0.0, 0.0, 255.0);\">-1.0</span><span title=\"-0.900\" style=\"border-top: 0px solid rgba(255.0, 25.499999999999993, 25.499999999999993, 255.0); border-bottom: 9px solid rgba(255.0, 25.499999999999993, 25.499999999999993, 255.0); margin-left 1px; margin-right: 1px; background: black; color: rgba(255.0, 25.499999999999993, 25.499999999999993, 255.0);\">-0.9</span><span title=\"-0.800\" style=\"border-top: 0px solid rgba(255.0, 50.999999999999986, 50.999999999999986, 255.0); border-bottom: 8px solid rgba(255.0, 50.999999999999986, 50.999999999999986, 255.0); margin-left 1px; margin-right: 1px; background: black; color: rgba(255.0, 50.999999999999986, 50.999999999999986, 255.0);\">-0.8</span><span title=\"-0.700\" style=\"border-top: 0px solid rgba(255.0, 76.50000000000001, 76.50000000000001, 255.0); border-bottom: 7px solid rgba(255.0, 76.50000000000001, 76.50000000000001, 255.0); margin-left 1px; margin-right: 1px; background: black; color: rgba(255.0, 76.50000000000001, 76.50000000000001, 255.0);\">-0.7</span><span title=\"-0.600\" style=\"border-top: 0px solid rgba(255.0, 102.0, 102.0, 255.0); border-bottom: 6px solid rgba(255.0, 102.0, 102.0, 255.0); margin-left 1px; margin-right: 1px; background: black; color: rgba(255.0, 102.0, 102.0, 255.0);\">-0.6</span><span title=\"-0.500\" style=\"border-top: 0px solid rgba(255.0, 127.5, 127.5, 255.0); border-bottom: 5px solid rgba(255.0, 127.5, 127.5, 255.0); margin-left 1px; margin-right: 1px; background: black; color: rgba(255.0, 127.5, 127.5, 255.0);\">-0.5</span><span title=\"-0.400\" style=\"border-top: 0px solid rgba(255.0, 153.0, 153.0, 255.0); border-bottom: 4px solid rgba(255.0, 153.0, 153.0, 255.0); margin-left 1px; margin-right: 1px; background: black; color: rgba(255.0, 153.0, 153.0, 255.0);\">-0.4</span><span title=\"-0.300\" style=\"border-top: 0px solid rgba(255.0, 178.5, 178.5, 255.0); border-bottom: 3px solid rgba(255.0, 178.5, 178.5, 255.0); margin-left 1px; margin-right: 1px; background: black; color: rgba(255.0, 178.5, 178.5, 255.0);\">-0.3</span><span title=\"-0.200\" style=\"border-top: 0px solid rgba(255.0, 204.0, 204.0, 255.0); border-bottom: 2px solid rgba(255.0, 204.0, 204.0, 255.0); margin-left 1px; margin-right: 1px; background: black; color: rgba(255.0, 204.0, 204.0, 255.0);\">-0.2</span><span title=\"-0.100\" style=\"border-top: 0px solid rgba(255.0, 229.5, 229.5, 255.0); border-bottom: 1px solid rgba(255.0, 229.5, 229.5, 255.0); margin-left 1px; margin-right: 1px; background: black; color: rgba(255.0, 229.5, 229.5, 255.0);\">-0.1</span><span title=\"0.000\" style=\"border-top: 0px solid rgba(255.0, 255.0, 255.0, 255.0); border-bottom: 0px solid rgba(255.0, 255.0, 255.0, 255.0); margin-left 1px; margin-right: 1px; background: black; color: rgba(255.0, 255.0, 255.0, 255.0);\">0.0</span><span title=\"0.100\" style=\"border-top: 1px solid rgba(229.5, 255.0, 229.5, 255.0); border-bottom: 0px solid rgba(229.5, 255.0, 229.5, 255.0); margin-left 1px; margin-right: 1px; background: black; color: rgba(229.5, 255.0, 229.5, 255.0);\">+0.1</span><span title=\"0.200\" style=\"border-top: 2px solid rgba(204.0, 255.0, 204.0, 255.0); border-bottom: 0px solid rgba(204.0, 255.0, 204.0, 255.0); margin-left 1px; margin-right: 1px; background: black; color: rgba(204.0, 255.0, 204.0, 255.0);\">+0.2</span><span title=\"0.300\" style=\"border-top: 3px solid rgba(178.5, 255.0, 178.5, 255.0); border-bottom: 0px solid rgba(178.5, 255.0, 178.5, 255.0); margin-left 1px; margin-right: 1px; background: black; color: rgba(178.5, 255.0, 178.5, 255.0);\">+0.3</span><span title=\"0.400\" style=\"border-top: 4px solid rgba(153.0, 255.0, 153.0, 255.0); border-bottom: 0px solid rgba(153.0, 255.0, 153.0, 255.0); margin-left 1px; margin-right: 1px; background: black; color: rgba(153.0, 255.0, 153.0, 255.0);\">+0.4</span><span title=\"0.500\" style=\"border-top: 5px solid rgba(127.5, 255.0, 127.5, 255.0); border-bottom: 0px solid rgba(127.5, 255.0, 127.5, 255.0); margin-left 1px; margin-right: 1px; background: black; color: rgba(127.5, 255.0, 127.5, 255.0);\">+0.5</span><span title=\"0.600\" style=\"border-top: 6px solid rgba(102.0, 255.0, 102.0, 255.0); border-bottom: 0px solid rgba(102.0, 255.0, 102.0, 255.0); margin-left 1px; margin-right: 1px; background: black; color: rgba(102.0, 255.0, 102.0, 255.0);\">+0.6</span><span title=\"0.700\" style=\"border-top: 7px solid rgba(76.50000000000001, 255.0, 76.50000000000001, 255.0); border-bottom: 0px solid rgba(76.50000000000001, 255.0, 76.50000000000001, 255.0); margin-left 1px; margin-right: 1px; background: black; color: rgba(76.50000000000001, 255.0, 76.50000000000001, 255.0);\">+0.7</span><span title=\"0.800\" style=\"border-top: 8px solid rgba(50.999999999999986, 255.0, 50.999999999999986, 255.0); border-bottom: 0px solid rgba(50.999999999999986, 255.0, 50.999999999999986, 255.0); margin-left 1px; margin-right: 1px; background: black; color: rgba(50.999999999999986, 255.0, 50.999999999999986, 255.0);\">+0.8</span><span title=\"0.900\" style=\"border-top: 9px solid rgba(25.499999999999993, 255.0, 25.499999999999993, 255.0); border-bottom: 0px solid rgba(25.499999999999993, 255.0, 25.499999999999993, 255.0); margin-left 1px; margin-right: 1px; background: black; color: rgba(25.499999999999993, 255.0, 25.499999999999993, 255.0);\">+0.9</span><span title=\"1.000\" style=\"border-top: 10px solid rgba(0.0, 255.0, 0.0, 255.0); border-bottom: 0px solid rgba(0.0, 255.0, 0.0, 255.0); margin-left 1px; margin-right: 1px; background: black; color: rgba(0.0, 255.0, 0.0, 255.0);\">+1.0</span></div><br/><br/><div style=\"padding: 5px; maring: 0px; background: black;\"><div style=\"padding: 5px; maring: 0px; background: black;\"><span title=\"0.002\" style=\"border-top: 0px solid rgba(254.5767583156703, 255.0, 254.5767583156703, 255.0); border-bottom: 0px solid rgba(254.5767583156703, 255.0, 254.5767583156703, 255.0); margin-left 1px; margin-right: 1px; background: black; color: rgba(254.5767583156703, 255.0, 254.5767583156703, 255.0);\">negative</span>-<span title=\"0.007\" style=\"border-top: 0px solid rgba(253.20399822900072, 255.0, 253.20399822900072, 255.0); border-bottom: 0px solid rgba(253.20399822900072, 255.0, 253.20399822900072, 255.0); margin-left 1px; margin-right: 1px; background: black; color: rgba(253.20399822900072, 255.0, 253.20399822900072, 255.0);\">neutral</span>-<span title=\"0.991\" style=\"border-top: 9px solid rgba(2.219248116016388, 255.0, 2.219248116016388, 255.0); border-bottom: 0px solid rgba(2.219248116016388, 255.0, 2.219248116016388, 255.0); margin-left 1px; margin-right: 1px; background: black; color: rgba(2.219248116016388, 255.0, 2.219248116016388, 255.0);\">positive</span>-<span title=\"-0.019\" style=\"border-top: 0px solid rgba(255.0, 250.12005960568786, 250.12005960568786, 255.0); border-bottom: 0px solid rgba(255.0, 250.12005960568786, 250.12005960568786, 255.0); margin-left 1px; margin-right: 1px; background: black; color: rgba(255.0, 250.12005960568786, 250.12005960568786, 255.0);\">&lt;s&gt;</span><span title=\"0.184\" style=\"border-top: 1px solid rgba(208.02087888121605, 255.0, 208.02087888121605, 255.0); border-bottom: 0px solid rgba(208.02087888121605, 255.0, 208.02087888121605, 255.0); margin-left 1px; margin-right: 1px; background: black; color: rgba(208.02087888121605, 255.0, 208.02087888121605, 255.0);\">I</span><span title=\"0.505\" style=\"border-top: 5px solid rgba(126.15896075963974, 255.0, 126.15896075963974, 255.0); border-bottom: 0px solid rgba(126.15896075963974, 255.0, 126.15896075963974, 255.0); margin-left 1px; margin-right: 1px; background: black; color: rgba(126.15896075963974, 255.0, 126.15896075963974, 255.0);\">&#x27;m</span>&nbsp;<span title=\"1.305\" style=\"border-top: 10px solid rgba(0.0, 255.0, 0.0, 255.0); border-bottom: 0px solid rgba(0.0, 255.0, 0.0, 255.0); margin-left 1px; margin-right: 1px; background: black; color: rgba(0.0, 255.0, 0.0, 255.0);\">so</span>&nbsp;<span title=\"2.129\" style=\"border-top: 10px solid rgba(0.0, 255.0, 0.0, 255.0); border-bottom: 0px solid rgba(0.0, 255.0, 0.0, 255.0); margin-left 1px; margin-right: 1px; background: black; color: rgba(0.0, 255.0, 0.0, 255.0);\">happy</span><span title=\"0.715\" style=\"border-top: 7px solid rgba(72.75785744190216, 255.0, 72.75785744190216, 255.0); border-bottom: 0px solid rgba(72.75785744190216, 255.0, 72.75785744190216, 255.0); margin-left 1px; margin-right: 1px; background: black; color: rgba(72.75785744190216, 255.0, 72.75785744190216, 255.0);\">!</span><span title=\"0.419\" style=\"border-top: 4px solid rgba(148.20177555084229, 255.0, 148.20177555084229, 255.0); border-bottom: 0px solid rgba(148.20177555084229, 255.0, 148.20177555084229, 255.0); margin-left 1px; margin-right: 1px; background: black; color: rgba(148.20177555084229, 255.0, 148.20177555084229, 255.0);\">&lt;/s&gt;</span></div></div><div style=\"padding: 5px; maring: 0px; background: black;\"><div style=\"padding: 5px; maring: 0px; background: black;\"><span title=\"0.943\" style=\"border-top: 9px solid rgba(14.422034919261932, 255.0, 14.422034919261932, 255.0); border-bottom: 0px solid rgba(14.422034919261932, 255.0, 14.422034919261932, 255.0); margin-left 1px; margin-right: 1px; background: black; color: rgba(14.422034919261932, 255.0, 14.422034919261932, 255.0);\">negative</span>-<span title=\"0.048\" style=\"border-top: 0px solid rgba(242.72229831665754, 255.0, 242.72229831665754, 255.0); border-bottom: 0px solid rgba(242.72229831665754, 255.0, 242.72229831665754, 255.0); margin-left 1px; margin-right: 1px; background: black; color: rgba(242.72229831665754, 255.0, 242.72229831665754, 255.0);\">neutral</span>-<span title=\"0.008\" style=\"border-top: 0px solid rgba(252.8556784009561, 255.0, 252.8556784009561, 255.0); border-bottom: 0px solid rgba(252.8556784009561, 255.0, 252.8556784009561, 255.0); margin-left 1px; margin-right: 1px; background: black; color: rgba(252.8556784009561, 255.0, 252.8556784009561, 255.0);\">positive</span>-<span title=\"-0.097\" style=\"border-top: 0px solid rgba(255.0, 230.19273854792118, 230.19273854792118, 255.0); border-bottom: 0px solid rgba(255.0, 230.19273854792118, 230.19273854792118, 255.0); margin-left 1px; margin-right: 1px; background: black; color: rgba(255.0, 230.19273854792118, 230.19273854792118, 255.0);\">&lt;s&gt;</span><span title=\"-0.001\" style=\"border-top: 0px solid rgba(255.0, 254.76838865317404, 254.76838865317404, 255.0); border-bottom: 0px solid rgba(255.0, 254.76838865317404, 254.76838865317404, 255.0); margin-left 1px; margin-right: 1px; background: black; color: rgba(255.0, 254.76838865317404, 254.76838865317404, 255.0);\">I</span><span title=\"0.179\" style=\"border-top: 1px solid rgba(209.38149087131023, 255.0, 209.38149087131023, 255.0); border-bottom: 0px solid rgba(209.38149087131023, 255.0, 209.38149087131023, 255.0); margin-left 1px; margin-right: 1px; background: black; color: rgba(209.38149087131023, 255.0, 209.38149087131023, 255.0);\">&#x27;m</span>&nbsp;<span title=\"-0.264\" style=\"border-top: 0px solid rgba(255.0, 187.58036971092224, 187.58036971092224, 255.0); border-bottom: 2px solid rgba(255.0, 187.58036971092224, 187.58036971092224, 255.0); margin-left 1px; margin-right: 1px; background: black; color: rgba(255.0, 187.58036971092224, 187.58036971092224, 255.0);\">so</span>&nbsp;<span title=\"-0.763\" style=\"border-top: 0px solid rgba(255.0, 60.390813052654266, 60.390813052654266, 255.0); border-bottom: 7px solid rgba(255.0, 60.390813052654266, 60.390813052654266, 255.0); margin-left 1px; margin-right: 1px; background: black; color: rgba(255.0, 60.390813052654266, 60.390813052654266, 255.0);\">sad</span><span title=\"0.127\" style=\"border-top: 1px solid rgba(222.62633755803108, 255.0, 222.62633755803108, 255.0); border-bottom: 0px solid rgba(222.62633755803108, 255.0, 222.62633755803108, 255.0); margin-left 1px; margin-right: 1px; background: black; color: rgba(222.62633755803108, 255.0, 222.62633755803108, 255.0);\">!</span><span title=\"0.285\" style=\"border-top: 2px solid rgba(182.38933145999908, 255.0, 182.38933145999908, 255.0); border-bottom: 0px solid rgba(182.38933145999908, 255.0, 182.38933145999908, 255.0); margin-left 1px; margin-right: 1px; background: black; color: rgba(182.38933145999908, 255.0, 182.38933145999908, 255.0);\">&lt;/s&gt;</span></div></div><div style=\"padding: 5px; maring: 0px; background: black;\"><div style=\"padding: 5px; maring: 0px; background: black;\"><span title=\"0.486\" style=\"border-top: 4px solid rgba(131.08719751238823, 255.0, 131.08719751238823, 255.0); border-bottom: 0px solid rgba(131.08719751238823, 255.0, 131.08719751238823, 255.0); margin-left 1px; margin-right: 1px; background: black; color: rgba(131.08719751238823, 255.0, 131.08719751238823, 255.0);\">negative</span>-<span title=\"0.390\" style=\"border-top: 3px solid rgba(155.51210448145866, 255.0, 155.51210448145866, 255.0); border-bottom: 0px solid rgba(155.51210448145866, 255.0, 155.51210448145866, 255.0); margin-left 1px; margin-right: 1px; background: black; color: rgba(155.51210448145866, 255.0, 155.51210448145866, 255.0);\">neutral</span>-<span title=\"0.124\" style=\"border-top: 1px solid rgba(223.4006980061531, 255.0, 223.4006980061531, 255.0); border-bottom: 0px solid rgba(223.4006980061531, 255.0, 223.4006980061531, 255.0); margin-left 1px; margin-right: 1px; background: black; color: rgba(223.4006980061531, 255.0, 223.4006980061531, 255.0);\">positive</span>-<span title=\"-0.031\" style=\"border-top: 0px solid rgba(255.0, 247.1711708419025, 247.1711708419025, 255.0); border-bottom: 0px solid rgba(255.0, 247.1711708419025, 247.1711708419025, 255.0); margin-left 1px; margin-right: 1px; background: black; color: rgba(255.0, 247.1711708419025, 247.1711708419025, 255.0);\">&lt;s&gt;</span><span title=\"-0.082\" style=\"border-top: 0px solid rgba(255.0, 233.96574418991804, 233.96574418991804, 255.0); border-bottom: 0px solid rgba(255.0, 233.96574418991804, 233.96574418991804, 255.0); margin-left 1px; margin-right: 1px; background: black; color: rgba(255.0, 233.96574418991804, 233.96574418991804, 255.0);\">I</span>&nbsp;<span title=\"-1.158\" style=\"border-top: 0px solid rgba(255.0, 0.0, 0.0, 255.0); border-bottom: 10px solid rgba(255.0, 0.0, 0.0, 255.0); margin-left 1px; margin-right: 1px; background: black; color: rgba(255.0, 0.0, 0.0, 255.0);\">cannot</span>&nbsp;<span title=\"-0.044\" style=\"border-top: 0px solid rgba(255.0, 243.83011937141418, 243.83011937141418, 255.0); border-bottom: 0px solid rgba(255.0, 243.83011937141418, 243.83011937141418, 255.0); margin-left 1px; margin-right: 1px; background: black; color: rgba(255.0, 243.83011937141418, 243.83011937141418, 255.0);\">tell</span>&nbsp;<span title=\"-0.706\" style=\"border-top: 0px solid rgba(255.0, 74.87475425004959, 74.87475425004959, 255.0); border-bottom: 7px solid rgba(255.0, 74.87475425004959, 74.87475425004959, 255.0); margin-left 1px; margin-right: 1px; background: black; color: rgba(255.0, 74.87475425004959, 74.87475425004959, 255.0);\">whether</span>&nbsp;<span title=\"0.095\" style=\"border-top: 0px solid rgba(230.87502993643284, 255.0, 230.87502993643284, 255.0); border-bottom: 0px solid rgba(230.87502993643284, 255.0, 230.87502993643284, 255.0); margin-left 1px; margin-right: 1px; background: black; color: rgba(230.87502993643284, 255.0, 230.87502993643284, 255.0);\">I</span>&nbsp;<span title=\"0.279\" style=\"border-top: 2px solid rgba(183.81929352879524, 255.0, 183.81929352879524, 255.0); border-bottom: 0px solid rgba(183.81929352879524, 255.0, 183.81929352879524, 255.0); margin-left 1px; margin-right: 1px; background: black; color: rgba(183.81929352879524, 255.0, 183.81929352879524, 255.0);\">should</span>&nbsp;<span title=\"0.391\" style=\"border-top: 3px solid rgba(155.29117673635483, 255.0, 155.29117673635483, 255.0); border-bottom: 0px solid rgba(155.29117673635483, 255.0, 155.29117673635483, 255.0); margin-left 1px; margin-right: 1px; background: black; color: rgba(155.29117673635483, 255.0, 155.29117673635483, 255.0);\">be</span>&nbsp;<span title=\"1.559\" style=\"border-top: 10px solid rgba(0.0, 255.0, 0.0, 255.0); border-bottom: 0px solid rgba(0.0, 255.0, 0.0, 255.0); margin-left 1px; margin-right: 1px; background: black; color: rgba(0.0, 255.0, 0.0, 255.0);\">happy</span>&nbsp;<span title=\"0.063\" style=\"border-top: 0px solid rgba(238.85726541280746, 255.0, 238.85726541280746, 255.0); border-bottom: 0px solid rgba(238.85726541280746, 255.0, 238.85726541280746, 255.0); margin-left 1px; margin-right: 1px; background: black; color: rgba(238.85726541280746, 255.0, 238.85726541280746, 255.0);\">or</span>&nbsp;<span title=\"-0.514\" style=\"border-top: 0px solid rgba(255.0, 123.88947933912277, 123.88947933912277, 255.0); border-bottom: 5px solid rgba(255.0, 123.88947933912277, 123.88947933912277, 255.0); margin-left 1px; margin-right: 1px; background: black; color: rgba(255.0, 123.88947933912277, 123.88947933912277, 255.0);\">sad</span><span title=\"0.309\" style=\"border-top: 3px solid rgba(176.28369748592377, 255.0, 176.28369748592377, 255.0); border-bottom: 0px solid rgba(176.28369748592377, 255.0, 176.28369748592377, 255.0); margin-left 1px; margin-right: 1px; background: black; color: rgba(176.28369748592377, 255.0, 176.28369748592377, 255.0);\">!</span><span title=\"-0.216\" style=\"border-top: 0px solid rgba(255.0, 200.02891972661018, 200.02891972661018, 255.0); border-bottom: 2px solid rgba(255.0, 200.02891972661018, 200.02891972661018, 255.0); margin-left 1px; margin-right: 1px; background: black; color: rgba(255.0, 200.02891972661018, 200.02891972661018, 255.0);\">&lt;/s&gt;</span></div></div><div style=\"padding: 5px; maring: 0px; background: black;\"><div style=\"padding: 5px; maring: 0px; background: black;\"><span title=\"0.232\" style=\"border-top: 2px solid rgba(195.89804738759995, 255.0, 195.89804738759995, 255.0); border-bottom: 0px solid rgba(195.89804738759995, 255.0, 195.89804738759995, 255.0); margin-left 1px; margin-right: 1px; background: black; color: rgba(195.89804738759995, 255.0, 195.89804738759995, 255.0);\">negative</span>-<span title=\"0.530\" style=\"border-top: 5px solid rgba(119.75144058465958, 255.0, 119.75144058465958, 255.0); border-bottom: 0px solid rgba(119.75144058465958, 255.0, 119.75144058465958, 255.0); margin-left 1px; margin-right: 1px; background: black; color: rgba(119.75144058465958, 255.0, 119.75144058465958, 255.0);\">neutral</span>-<span title=\"0.238\" style=\"border-top: 2px solid rgba(194.35050062835217, 255.0, 194.35050062835217, 255.0); border-bottom: 0px solid rgba(194.35050062835217, 255.0, 194.35050062835217, 255.0); margin-left 1px; margin-right: 1px; background: black; color: rgba(194.35050062835217, 255.0, 194.35050062835217, 255.0);\">positive</span>-<span title=\"-0.071\" style=\"border-top: 0px solid rgba(255.0, 236.9549848884344, 236.9549848884344, 255.0); border-bottom: 0px solid rgba(255.0, 236.9549848884344, 236.9549848884344, 255.0); margin-left 1px; margin-right: 1px; background: black; color: rgba(255.0, 236.9549848884344, 236.9549848884344, 255.0);\">&lt;s&gt;</span><span title=\"0.546\" style=\"border-top: 5px solid rgba(115.81932038068771, 255.0, 115.81932038068771, 255.0); border-bottom: 0px solid rgba(115.81932038068771, 255.0, 115.81932038068771, 255.0); margin-left 1px; margin-right: 1px; background: black; color: rgba(115.81932038068771, 255.0, 115.81932038068771, 255.0);\">me</span><span title=\"0.202\" style=\"border-top: 2px solid rgba(203.4650867432356, 255.0, 203.4650867432356, 255.0); border-bottom: 0px solid rgba(203.4650867432356, 255.0, 203.4650867432356, 255.0); margin-left 1px; margin-right: 1px; background: black; color: rgba(203.4650867432356, 255.0, 203.4650867432356, 255.0);\">h</span><span title=\"0.086\" style=\"border-top: 0px solid rgba(233.12682520598173, 255.0, 233.12682520598173, 255.0); border-bottom: 0px solid rgba(233.12682520598173, 255.0, 233.12682520598173, 255.0); margin-left 1px; margin-right: 1px; background: black; color: rgba(233.12682520598173, 255.0, 233.12682520598173, 255.0);\">&lt;/s&gt;</span></div></div></body></html>"
      ],
      "text/plain": [
       "<IPython.core.display.HTML object>"
      ]
     },
     "metadata": {},
     "output_type": "display_data"
    }
   ],
   "source": [
    "from trulens.visualizations import NLP\n",
    "\n",
    "V = NLP(\n",
    "    wrapper=task.wrapper,\n",
    "    labels=task.labels,\n",
    "    decode=lambda x: task.tokenizer.decode(x),\n",
    "    tokenize=lambda sentences: ModelInputs(kwargs=task.tokenizer(sentences, padding=True, return_tensors='pt')).map(lambda t: t.to(task.device)),\n",
    "    # huggingface models can take as input the keyword args as per produced by their tokenizers.\n",
    "\n",
    "    input_accessor=lambda x: x.kwargs['input_ids'],\n",
    "    # for huggingface models, input/token ids are under input_ids key in the input dictionary\n",
    "\n",
    "    output_accessor=lambda x: x['logits'],\n",
    "    # and logits under 'logits' key in the output dictionary\n",
    "\n",
    "    hidden_tokens=set([task.tokenizer.pad_token_id])\n",
    "    # do not display these tokens\n",
    ")\n",
    "\n",
    "print(\"QOI = MAX PREDICTION\")\n",
    "display(V.tokens(sentences, attributor=infl_max))\n",
    "\n",
    "print(\"QOI = POSITIVE\")\n",
    "display(V.tokens(sentences, attributor=infl_positive))"
   ]
  },
  {
   "cell_type": "markdown",
   "metadata": {},
   "source": [
    "# Baselines\n",
    "\n",
    "We see in the above results that special tokens such as the sentence end **&lt;/s&gt;** contributes are found to contribute a lot to the model outputs. While this may be useful in some contexts, we are more interested in the contributions of the actual words in these sentences. To focus on the words more, we need to adjust the **baseline** used in the integrated gradients computation. By default in the instantiation so far, the baseline for each token is a zero vector of the same shape as its embedding. By making the basaeline be identicaly to the explained instances on special tokens, we can rid their impact from our measurement. Trulens provides a utility for this purpose in terms of `token_baseline` which constructs for you the methods to compute the appropriate baseline. "
   ]
  },
  {
   "cell_type": "code",
   "execution_count": 26,
   "metadata": {},
   "outputs": [],
   "source": [
    "from trulens.utils.nlp import token_baseline\n",
    "\n",
    "inputs_baseline_ids, inputs_baseline_embeddings = token_baseline(\n",
    "    keep_tokens=set([task.tokenizer.cls_token_id, task.tokenizer.sep_token_id]),\n",
    "    # Which tokens to preserve.\n",
    "\n",
    "    replacement_token=task.tokenizer.pad_token_id,\n",
    "    # What to replace tokens with.\n",
    "\n",
    "    input_accessor=lambda x: x.kwargs['input_ids'],\n",
    "\n",
    "    ids_to_embeddings=task.model.get_input_embeddings()\n",
    "    # Callable to produce embeddings from token ids.\n",
    ")"
   ]
  },
  {
   "cell_type": "markdown",
   "metadata": {},
   "source": [
    "We can now inspect the baselines on some example sentences. The first method returned by `token_baseline` gives us token ids to inspect while the second gives us the embeddings of the baseline which we will pass to the attributions method."
   ]
  },
  {
   "cell_type": "code",
   "execution_count": 27,
   "metadata": {},
   "outputs": [
    {
     "name": "stdout",
     "output_type": "stream",
     "text": [
      "originals= [\"<s>I'm so happy!</s><pad><pad><pad><pad><pad><pad>\", \"<s>I'm so sad!</s><pad><pad><pad><pad><pad><pad>\", '<s>I cannot tell whether I should be happy or sad!</s>', '<s>meh</s><pad><pad><pad><pad><pad><pad><pad><pad><pad>']\n",
      "baselines= ['<s><pad><pad><pad><pad><pad></s><pad><pad><pad><pad><pad><pad>', '<s><pad><pad><pad><pad><pad></s><pad><pad><pad><pad><pad><pad>', '<s><pad><pad><pad><pad><pad><pad><pad><pad><pad><pad><pad></s>', '<s><pad><pad></s><pad><pad><pad><pad><pad><pad><pad><pad><pad>']\n"
     ]
    }
   ],
   "source": [
    "print(\"originals=\", task.tokenizer.batch_decode(inputs['input_ids']))\n",
    "\n",
    "baseline_word_ids = inputs_baseline_ids(model_inputs=ModelInputs(args=[], kwargs=inputs))\n",
    "print(\"baselines=\", task.tokenizer.batch_decode(baseline_word_ids))"
   ]
  },
  {
   "cell_type": "code",
   "execution_count": 28,
   "metadata": {},
   "outputs": [
    {
     "name": "stdout",
     "output_type": "stream",
     "text": [
      "QOI = POSITIVE WITH BASELINE\n"
     ]
    },
    {
     "data": {
      "text/html": [
       "<html><body><div style=\"padding: 5px; maring: 0px; background: black;\">scale:&nbsp;<span title=\"-1.000\" style=\"border-top: 0px solid rgba(255.0, 0.0, 0.0, 255.0); border-bottom: 10px solid rgba(255.0, 0.0, 0.0, 255.0); margin-left 1px; margin-right: 1px; background: black; color: rgba(255.0, 0.0, 0.0, 255.0);\">-1.0</span><span title=\"-0.900\" style=\"border-top: 0px solid rgba(255.0, 25.499999999999993, 25.499999999999993, 255.0); border-bottom: 9px solid rgba(255.0, 25.499999999999993, 25.499999999999993, 255.0); margin-left 1px; margin-right: 1px; background: black; color: rgba(255.0, 25.499999999999993, 25.499999999999993, 255.0);\">-0.9</span><span title=\"-0.800\" style=\"border-top: 0px solid rgba(255.0, 50.999999999999986, 50.999999999999986, 255.0); border-bottom: 8px solid rgba(255.0, 50.999999999999986, 50.999999999999986, 255.0); margin-left 1px; margin-right: 1px; background: black; color: rgba(255.0, 50.999999999999986, 50.999999999999986, 255.0);\">-0.8</span><span title=\"-0.700\" style=\"border-top: 0px solid rgba(255.0, 76.50000000000001, 76.50000000000001, 255.0); border-bottom: 7px solid rgba(255.0, 76.50000000000001, 76.50000000000001, 255.0); margin-left 1px; margin-right: 1px; background: black; color: rgba(255.0, 76.50000000000001, 76.50000000000001, 255.0);\">-0.7</span><span title=\"-0.600\" style=\"border-top: 0px solid rgba(255.0, 102.0, 102.0, 255.0); border-bottom: 6px solid rgba(255.0, 102.0, 102.0, 255.0); margin-left 1px; margin-right: 1px; background: black; color: rgba(255.0, 102.0, 102.0, 255.0);\">-0.6</span><span title=\"-0.500\" style=\"border-top: 0px solid rgba(255.0, 127.5, 127.5, 255.0); border-bottom: 5px solid rgba(255.0, 127.5, 127.5, 255.0); margin-left 1px; margin-right: 1px; background: black; color: rgba(255.0, 127.5, 127.5, 255.0);\">-0.5</span><span title=\"-0.400\" style=\"border-top: 0px solid rgba(255.0, 153.0, 153.0, 255.0); border-bottom: 4px solid rgba(255.0, 153.0, 153.0, 255.0); margin-left 1px; margin-right: 1px; background: black; color: rgba(255.0, 153.0, 153.0, 255.0);\">-0.4</span><span title=\"-0.300\" style=\"border-top: 0px solid rgba(255.0, 178.5, 178.5, 255.0); border-bottom: 3px solid rgba(255.0, 178.5, 178.5, 255.0); margin-left 1px; margin-right: 1px; background: black; color: rgba(255.0, 178.5, 178.5, 255.0);\">-0.3</span><span title=\"-0.200\" style=\"border-top: 0px solid rgba(255.0, 204.0, 204.0, 255.0); border-bottom: 2px solid rgba(255.0, 204.0, 204.0, 255.0); margin-left 1px; margin-right: 1px; background: black; color: rgba(255.0, 204.0, 204.0, 255.0);\">-0.2</span><span title=\"-0.100\" style=\"border-top: 0px solid rgba(255.0, 229.5, 229.5, 255.0); border-bottom: 1px solid rgba(255.0, 229.5, 229.5, 255.0); margin-left 1px; margin-right: 1px; background: black; color: rgba(255.0, 229.5, 229.5, 255.0);\">-0.1</span><span title=\"0.000\" style=\"border-top: 0px solid rgba(255.0, 255.0, 255.0, 255.0); border-bottom: 0px solid rgba(255.0, 255.0, 255.0, 255.0); margin-left 1px; margin-right: 1px; background: black; color: rgba(255.0, 255.0, 255.0, 255.0);\">0.0</span><span title=\"0.100\" style=\"border-top: 1px solid rgba(229.5, 255.0, 229.5, 255.0); border-bottom: 0px solid rgba(229.5, 255.0, 229.5, 255.0); margin-left 1px; margin-right: 1px; background: black; color: rgba(229.5, 255.0, 229.5, 255.0);\">+0.1</span><span title=\"0.200\" style=\"border-top: 2px solid rgba(204.0, 255.0, 204.0, 255.0); border-bottom: 0px solid rgba(204.0, 255.0, 204.0, 255.0); margin-left 1px; margin-right: 1px; background: black; color: rgba(204.0, 255.0, 204.0, 255.0);\">+0.2</span><span title=\"0.300\" style=\"border-top: 3px solid rgba(178.5, 255.0, 178.5, 255.0); border-bottom: 0px solid rgba(178.5, 255.0, 178.5, 255.0); margin-left 1px; margin-right: 1px; background: black; color: rgba(178.5, 255.0, 178.5, 255.0);\">+0.3</span><span title=\"0.400\" style=\"border-top: 4px solid rgba(153.0, 255.0, 153.0, 255.0); border-bottom: 0px solid rgba(153.0, 255.0, 153.0, 255.0); margin-left 1px; margin-right: 1px; background: black; color: rgba(153.0, 255.0, 153.0, 255.0);\">+0.4</span><span title=\"0.500\" style=\"border-top: 5px solid rgba(127.5, 255.0, 127.5, 255.0); border-bottom: 0px solid rgba(127.5, 255.0, 127.5, 255.0); margin-left 1px; margin-right: 1px; background: black; color: rgba(127.5, 255.0, 127.5, 255.0);\">+0.5</span><span title=\"0.600\" style=\"border-top: 6px solid rgba(102.0, 255.0, 102.0, 255.0); border-bottom: 0px solid rgba(102.0, 255.0, 102.0, 255.0); margin-left 1px; margin-right: 1px; background: black; color: rgba(102.0, 255.0, 102.0, 255.0);\">+0.6</span><span title=\"0.700\" style=\"border-top: 7px solid rgba(76.50000000000001, 255.0, 76.50000000000001, 255.0); border-bottom: 0px solid rgba(76.50000000000001, 255.0, 76.50000000000001, 255.0); margin-left 1px; margin-right: 1px; background: black; color: rgba(76.50000000000001, 255.0, 76.50000000000001, 255.0);\">+0.7</span><span title=\"0.800\" style=\"border-top: 8px solid rgba(50.999999999999986, 255.0, 50.999999999999986, 255.0); border-bottom: 0px solid rgba(50.999999999999986, 255.0, 50.999999999999986, 255.0); margin-left 1px; margin-right: 1px; background: black; color: rgba(50.999999999999986, 255.0, 50.999999999999986, 255.0);\">+0.8</span><span title=\"0.900\" style=\"border-top: 9px solid rgba(25.499999999999993, 255.0, 25.499999999999993, 255.0); border-bottom: 0px solid rgba(25.499999999999993, 255.0, 25.499999999999993, 255.0); margin-left 1px; margin-right: 1px; background: black; color: rgba(25.499999999999993, 255.0, 25.499999999999993, 255.0);\">+0.9</span><span title=\"1.000\" style=\"border-top: 10px solid rgba(0.0, 255.0, 0.0, 255.0); border-bottom: 0px solid rgba(0.0, 255.0, 0.0, 255.0); margin-left 1px; margin-right: 1px; background: black; color: rgba(0.0, 255.0, 0.0, 255.0);\">+1.0</span></div><br/><br/><div style=\"padding: 5px; maring: 0px; background: black;\"><div style=\"padding: 5px; maring: 0px; background: black;\"><span title=\"0.002\" style=\"border-top: 0px solid rgba(254.5767583156703, 255.0, 254.5767583156703, 255.0); border-bottom: 0px solid rgba(254.5767583156703, 255.0, 254.5767583156703, 255.0); margin-left 1px; margin-right: 1px; background: black; color: rgba(254.5767583156703, 255.0, 254.5767583156703, 255.0);\">negative</span>-<span title=\"0.007\" style=\"border-top: 0px solid rgba(253.20399822900072, 255.0, 253.20399822900072, 255.0); border-bottom: 0px solid rgba(253.20399822900072, 255.0, 253.20399822900072, 255.0); margin-left 1px; margin-right: 1px; background: black; color: rgba(253.20399822900072, 255.0, 253.20399822900072, 255.0);\">neutral</span>-<span title=\"0.991\" style=\"border-top: 9px solid rgba(2.219248116016388, 255.0, 2.219248116016388, 255.0); border-bottom: 0px solid rgba(2.219248116016388, 255.0, 2.219248116016388, 255.0); margin-left 1px; margin-right: 1px; background: black; color: rgba(2.219248116016388, 255.0, 2.219248116016388, 255.0);\">positive</span>-<span title=\"0.000\" style=\"border-top: 0px solid rgba(255.0, 255.0, 255.0, 255.0); border-bottom: 0px solid rgba(255.0, 255.0, 255.0, 255.0); margin-left 1px; margin-right: 1px; background: black; color: rgba(255.0, 255.0, 255.0, 255.0);\">&lt;s&gt;</span><span title=\"-0.297\" style=\"border-top: 0px solid rgba(255.0, 179.25130784511566, 179.25130784511566, 255.0); border-bottom: 2px solid rgba(255.0, 179.25130784511566, 179.25130784511566, 255.0); margin-left 1px; margin-right: 1px; background: black; color: rgba(255.0, 179.25130784511566, 179.25130784511566, 255.0);\">I</span><span title=\"0.708\" style=\"border-top: 7px solid rgba(74.52570497989655, 255.0, 74.52570497989655, 255.0); border-bottom: 0px solid rgba(74.52570497989655, 255.0, 74.52570497989655, 255.0); margin-left 1px; margin-right: 1px; background: black; color: rgba(74.52570497989655, 255.0, 74.52570497989655, 255.0);\">&#x27;m</span>&nbsp;<span title=\"1.267\" style=\"border-top: 10px solid rgba(0.0, 255.0, 0.0, 255.0); border-bottom: 0px solid rgba(0.0, 255.0, 0.0, 255.0); margin-left 1px; margin-right: 1px; background: black; color: rgba(0.0, 255.0, 0.0, 255.0);\">so</span>&nbsp;<span title=\"2.180\" style=\"border-top: 10px solid rgba(0.0, 255.0, 0.0, 255.0); border-bottom: 0px solid rgba(0.0, 255.0, 0.0, 255.0); margin-left 1px; margin-right: 1px; background: black; color: rgba(0.0, 255.0, 0.0, 255.0);\">happy</span><span title=\"0.422\" style=\"border-top: 4px solid rgba(147.31077656149864, 255.0, 147.31077656149864, 255.0); border-bottom: 0px solid rgba(147.31077656149864, 255.0, 147.31077656149864, 255.0); margin-left 1px; margin-right: 1px; background: black; color: rgba(147.31077656149864, 255.0, 147.31077656149864, 255.0);\">!</span><span title=\"0.000\" style=\"border-top: 0px solid rgba(255.0, 255.0, 255.0, 255.0); border-bottom: 0px solid rgba(255.0, 255.0, 255.0, 255.0); margin-left 1px; margin-right: 1px; background: black; color: rgba(255.0, 255.0, 255.0, 255.0);\">&lt;/s&gt;</span></div></div><div style=\"padding: 5px; maring: 0px; background: black;\"><div style=\"padding: 5px; maring: 0px; background: black;\"><span title=\"0.943\" style=\"border-top: 9px solid rgba(14.422034919261932, 255.0, 14.422034919261932, 255.0); border-bottom: 0px solid rgba(14.422034919261932, 255.0, 14.422034919261932, 255.0); margin-left 1px; margin-right: 1px; background: black; color: rgba(14.422034919261932, 255.0, 14.422034919261932, 255.0);\">negative</span>-<span title=\"0.048\" style=\"border-top: 0px solid rgba(242.72229831665754, 255.0, 242.72229831665754, 255.0); border-bottom: 0px solid rgba(242.72229831665754, 255.0, 242.72229831665754, 255.0); margin-left 1px; margin-right: 1px; background: black; color: rgba(242.72229831665754, 255.0, 242.72229831665754, 255.0);\">neutral</span>-<span title=\"0.008\" style=\"border-top: 0px solid rgba(252.8556784009561, 255.0, 252.8556784009561, 255.0); border-bottom: 0px solid rgba(252.8556784009561, 255.0, 252.8556784009561, 255.0); margin-left 1px; margin-right: 1px; background: black; color: rgba(252.8556784009561, 255.0, 252.8556784009561, 255.0);\">positive</span>-<span title=\"0.000\" style=\"border-top: 0px solid rgba(255.0, 255.0, 255.0, 255.0); border-bottom: 0px solid rgba(255.0, 255.0, 255.0, 255.0); margin-left 1px; margin-right: 1px; background: black; color: rgba(255.0, 255.0, 255.0, 255.0);\">&lt;s&gt;</span><span title=\"-0.033\" style=\"border-top: 0px solid rgba(255.0, 246.60136576741934, 246.60136576741934, 255.0); border-bottom: 0px solid rgba(255.0, 246.60136576741934, 246.60136576741934, 255.0); margin-left 1px; margin-right: 1px; background: black; color: rgba(255.0, 246.60136576741934, 246.60136576741934, 255.0);\">I</span><span title=\"-0.148\" style=\"border-top: 0px solid rgba(255.0, 217.27379277348518, 217.27379277348518, 255.0); border-bottom: 1px solid rgba(255.0, 217.27379277348518, 217.27379277348518, 255.0); margin-left 1px; margin-right: 1px; background: black; color: rgba(255.0, 217.27379277348518, 217.27379277348518, 255.0);\">&#x27;m</span>&nbsp;<span title=\"-0.616\" style=\"border-top: 0px solid rgba(255.0, 97.93880224227905, 97.93880224227905, 255.0); border-bottom: 6px solid rgba(255.0, 97.93880224227905, 97.93880224227905, 255.0); margin-left 1px; margin-right: 1px; background: black; color: rgba(255.0, 97.93880224227905, 97.93880224227905, 255.0);\">so</span>&nbsp;<span title=\"-0.755\" style=\"border-top: 0px solid rgba(255.0, 62.51944363117218, 62.51944363117218, 255.0); border-bottom: 7px solid rgba(255.0, 62.51944363117218, 62.51944363117218, 255.0); margin-left 1px; margin-right: 1px; background: black; color: rgba(255.0, 62.51944363117218, 62.51944363117218, 255.0);\">sad</span><span title=\"-0.418\" style=\"border-top: 0px solid rgba(255.0, 148.3409696817398, 148.3409696817398, 255.0); border-bottom: 4px solid rgba(255.0, 148.3409696817398, 148.3409696817398, 255.0); margin-left 1px; margin-right: 1px; background: black; color: rgba(255.0, 148.3409696817398, 148.3409696817398, 255.0);\">!</span><span title=\"0.000\" style=\"border-top: 0px solid rgba(255.0, 255.0, 255.0, 255.0); border-bottom: 0px solid rgba(255.0, 255.0, 255.0, 255.0); margin-left 1px; margin-right: 1px; background: black; color: rgba(255.0, 255.0, 255.0, 255.0);\">&lt;/s&gt;</span></div></div><div style=\"padding: 5px; maring: 0px; background: black;\"><div style=\"padding: 5px; maring: 0px; background: black;\"><span title=\"0.486\" style=\"border-top: 4px solid rgba(131.08719751238823, 255.0, 131.08719751238823, 255.0); border-bottom: 0px solid rgba(131.08719751238823, 255.0, 131.08719751238823, 255.0); margin-left 1px; margin-right: 1px; background: black; color: rgba(131.08719751238823, 255.0, 131.08719751238823, 255.0);\">negative</span>-<span title=\"0.390\" style=\"border-top: 3px solid rgba(155.51210448145866, 255.0, 155.51210448145866, 255.0); border-bottom: 0px solid rgba(155.51210448145866, 255.0, 155.51210448145866, 255.0); margin-left 1px; margin-right: 1px; background: black; color: rgba(155.51210448145866, 255.0, 155.51210448145866, 255.0);\">neutral</span>-<span title=\"0.124\" style=\"border-top: 1px solid rgba(223.4006980061531, 255.0, 223.4006980061531, 255.0); border-bottom: 0px solid rgba(223.4006980061531, 255.0, 223.4006980061531, 255.0); margin-left 1px; margin-right: 1px; background: black; color: rgba(223.4006980061531, 255.0, 223.4006980061531, 255.0);\">positive</span>-<span title=\"0.000\" style=\"border-top: 0px solid rgba(255.0, 255.0, 255.0, 255.0); border-bottom: 0px solid rgba(255.0, 255.0, 255.0, 255.0); margin-left 1px; margin-right: 1px; background: black; color: rgba(255.0, 255.0, 255.0, 255.0);\">&lt;s&gt;</span><span title=\"-0.082\" style=\"border-top: 0px solid rgba(255.0, 234.18761618435383, 234.18761618435383, 255.0); border-bottom: 0px solid rgba(255.0, 234.18761618435383, 234.18761618435383, 255.0); margin-left 1px; margin-right: 1px; background: black; color: rgba(255.0, 234.18761618435383, 234.18761618435383, 255.0);\">I</span>&nbsp;<span title=\"-0.568\" style=\"border-top: 0px solid rgba(255.0, 110.26783347129822, 110.26783347129822, 255.0); border-bottom: 5px solid rgba(255.0, 110.26783347129822, 110.26783347129822, 255.0); margin-left 1px; margin-right: 1px; background: black; color: rgba(255.0, 110.26783347129822, 110.26783347129822, 255.0);\">cannot</span>&nbsp;<span title=\"-0.053\" style=\"border-top: 0px solid rgba(255.0, 241.5924203954637, 241.5924203954637, 255.0); border-bottom: 0px solid rgba(255.0, 241.5924203954637, 241.5924203954637, 255.0); margin-left 1px; margin-right: 1px; background: black; color: rgba(255.0, 241.5924203954637, 241.5924203954637, 255.0);\">tell</span>&nbsp;<span title=\"-0.543\" style=\"border-top: 0px solid rgba(255.0, 116.64702236652374, 116.64702236652374, 255.0); border-bottom: 5px solid rgba(255.0, 116.64702236652374, 116.64702236652374, 255.0); margin-left 1px; margin-right: 1px; background: black; color: rgba(255.0, 116.64702236652374, 116.64702236652374, 255.0);\">whether</span>&nbsp;<span title=\"0.318\" style=\"border-top: 3px solid rgba(173.83103549480438, 255.0, 173.83103549480438, 255.0); border-bottom: 0px solid rgba(173.83103549480438, 255.0, 173.83103549480438, 255.0); margin-left 1px; margin-right: 1px; background: black; color: rgba(173.83103549480438, 255.0, 173.83103549480438, 255.0);\">I</span>&nbsp;<span title=\"0.100\" style=\"border-top: 1px solid rgba(229.48315512388945, 255.0, 229.48315512388945, 255.0); border-bottom: 0px solid rgba(229.48315512388945, 255.0, 229.48315512388945, 255.0); margin-left 1px; margin-right: 1px; background: black; color: rgba(229.48315512388945, 255.0, 229.48315512388945, 255.0);\">should</span>&nbsp;<span title=\"0.359\" style=\"border-top: 3px solid rgba(163.5352447628975, 255.0, 163.5352447628975, 255.0); border-bottom: 0px solid rgba(163.5352447628975, 255.0, 163.5352447628975, 255.0); margin-left 1px; margin-right: 1px; background: black; color: rgba(163.5352447628975, 255.0, 163.5352447628975, 255.0);\">be</span>&nbsp;<span title=\"0.842\" style=\"border-top: 8px solid rgba(40.33044308423996, 255.0, 40.33044308423996, 255.0); border-bottom: 0px solid rgba(40.33044308423996, 255.0, 40.33044308423996, 255.0); margin-left 1px; margin-right: 1px; background: black; color: rgba(40.33044308423996, 255.0, 40.33044308423996, 255.0);\">happy</span>&nbsp;<span title=\"0.117\" style=\"border-top: 1px solid rgba(225.27582328766584, 255.0, 225.27582328766584, 255.0); border-bottom: 0px solid rgba(225.27582328766584, 255.0, 225.27582328766584, 255.0); margin-left 1px; margin-right: 1px; background: black; color: rgba(225.27582328766584, 255.0, 225.27582328766584, 255.0);\">or</span>&nbsp;<span title=\"-0.523\" style=\"border-top: 0px solid rgba(255.0, 121.63489311933517, 121.63489311933517, 255.0); border-bottom: 5px solid rgba(255.0, 121.63489311933517, 121.63489311933517, 255.0); margin-left 1px; margin-right: 1px; background: black; color: rgba(255.0, 121.63489311933517, 121.63489311933517, 255.0);\">sad</span><span title=\"-0.188\" style=\"border-top: 0px solid rgba(255.0, 207.15117394924164, 207.15117394924164, 255.0); border-bottom: 1px solid rgba(255.0, 207.15117394924164, 207.15117394924164, 255.0); margin-left 1px; margin-right: 1px; background: black; color: rgba(255.0, 207.15117394924164, 207.15117394924164, 255.0);\">!</span><span title=\"0.000\" style=\"border-top: 0px solid rgba(255.0, 255.0, 255.0, 255.0); border-bottom: 0px solid rgba(255.0, 255.0, 255.0, 255.0); margin-left 1px; margin-right: 1px; background: black; color: rgba(255.0, 255.0, 255.0, 255.0);\">&lt;/s&gt;</span></div></div><div style=\"padding: 5px; maring: 0px; background: black;\"><div style=\"padding: 5px; maring: 0px; background: black;\"><span title=\"0.232\" style=\"border-top: 2px solid rgba(195.89804738759995, 255.0, 195.89804738759995, 255.0); border-bottom: 0px solid rgba(195.89804738759995, 255.0, 195.89804738759995, 255.0); margin-left 1px; margin-right: 1px; background: black; color: rgba(195.89804738759995, 255.0, 195.89804738759995, 255.0);\">negative</span>-<span title=\"0.530\" style=\"border-top: 5px solid rgba(119.75144058465958, 255.0, 119.75144058465958, 255.0); border-bottom: 0px solid rgba(119.75144058465958, 255.0, 119.75144058465958, 255.0); margin-left 1px; margin-right: 1px; background: black; color: rgba(119.75144058465958, 255.0, 119.75144058465958, 255.0);\">neutral</span>-<span title=\"0.238\" style=\"border-top: 2px solid rgba(194.35050062835217, 255.0, 194.35050062835217, 255.0); border-bottom: 0px solid rgba(194.35050062835217, 255.0, 194.35050062835217, 255.0); margin-left 1px; margin-right: 1px; background: black; color: rgba(194.35050062835217, 255.0, 194.35050062835217, 255.0);\">positive</span>-<span title=\"0.000\" style=\"border-top: 0px solid rgba(255.0, 255.0, 255.0, 255.0); border-bottom: 0px solid rgba(255.0, 255.0, 255.0, 255.0); margin-left 1px; margin-right: 1px; background: black; color: rgba(255.0, 255.0, 255.0, 255.0);\">&lt;s&gt;</span><span title=\"0.372\" style=\"border-top: 3px solid rgba(160.12196391820908, 255.0, 160.12196391820908, 255.0); border-bottom: 0px solid rgba(160.12196391820908, 255.0, 160.12196391820908, 255.0); margin-left 1px; margin-right: 1px; background: black; color: rgba(160.12196391820908, 255.0, 160.12196391820908, 255.0);\">me</span><span title=\"-0.778\" style=\"border-top: 0px solid rgba(255.0, 56.70101344585419, 56.70101344585419, 255.0); border-bottom: 7px solid rgba(255.0, 56.70101344585419, 56.70101344585419, 255.0); margin-left 1px; margin-right: 1px; background: black; color: rgba(255.0, 56.70101344585419, 56.70101344585419, 255.0);\">h</span><span title=\"0.000\" style=\"border-top: 0px solid rgba(255.0, 255.0, 255.0, 255.0); border-bottom: 0px solid rgba(255.0, 255.0, 255.0, 255.0); margin-left 1px; margin-right: 1px; background: black; color: rgba(255.0, 255.0, 255.0, 255.0);\">&lt;/s&gt;</span></div></div></body></html>"
      ],
      "text/plain": [
       "<IPython.core.display.HTML object>"
      ]
     },
     "metadata": {},
     "output_type": "display_data"
    }
   ],
   "source": [
    "infl_positive_baseline = IntegratedGradients(\n",
    "    model = task.wrapper,\n",
    "    resolution=50,\n",
    "    baseline = inputs_baseline_embeddings,\n",
    "    doi_cut=Cut('roberta_embeddings_word_embeddings'),\n",
    "    qoi=ClassQoI(task.POSITIVE),\n",
    "    qoi_cut=OutputCut(accessor=lambda o: o['logits'])\n",
    ")\n",
    "\n",
    "print(\"QOI = POSITIVE WITH BASELINE\")\n",
    "display(V.tokens(sentences, attributor=infl_positive_baseline))"
   ]
  },
  {
   "cell_type": "markdown",
   "metadata": {},
   "source": [
    "As we see, the baseline eliminated the measurement of contribution of the special tokens."
   ]
  }
 ],
 "metadata": {
  "anaconda-cloud": {},
  "interpreter": {
   "hash": "51eb71198507ab2c2a4108a27eda9d9658549732e67153fc0e371d8439827db7"
  },
  "kernelspec": {
   "display_name": "test-fresh-11-29",
   "language": "python",
   "name": "python3"
  },
  "language_info": {
   "codemirror_mode": {
    "name": "ipython",
    "version": 3
   },
   "file_extension": ".py",
   "mimetype": "text/x-python",
   "name": "python",
   "nbconvert_exporter": "python",
   "pygments_lexer": "ipython3",
   "version": "3.7.0"
  }
 },
 "nbformat": 4,
 "nbformat_minor": 2
}
