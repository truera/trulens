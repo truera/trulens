{
 "cells": [
  {
   "cell_type": "code",
   "execution_count": 1,
   "metadata": {},
   "outputs": [],
   "source": [
    "%load_ext autoreload\n",
    "%autoreload 2"
   ]
  },
  {
   "cell_type": "code",
   "execution_count": 2,
   "metadata": {},
   "outputs": [],
   "source": [
    "import sys\n",
    "import re\n",
    "\n",
    "# Use this if running this notebook from within its place in the truera repository.\n",
    "sys.path.insert(0, \"..\")\n",
    "from collections import defaultdict\n",
    "from IPython.display import display\n",
    "import tensorflow as tf\n",
    "import tensorflow_hub as hub\n",
    "import tensorflow_datasets as tfds\n",
    "import tensorflow_text as text \n",
    "import numpy as np\n",
    "import collections"
   ]
  },
  {
   "cell_type": "markdown",
   "metadata": {},
   "source": [
    "# Load as keras model"
   ]
  },
  {
   "cell_type": "code",
   "execution_count": 3,
   "metadata": {},
   "outputs": [],
   "source": [
    "# tf.compat.v1.disable_eager_execution()"
   ]
  },
  {
   "cell_type": "code",
   "execution_count": 4,
   "metadata": {},
   "outputs": [],
   "source": [
    "gpus = tf.config.experimental.list_physical_devices('GPU')\n",
    "if gpus:\n",
    "  tf.config.experimental.set_virtual_device_configuration(gpus[0], [tf.config.experimental.VirtualDeviceConfiguration(memory_limit=1024 * 7)])"
   ]
  },
  {
   "cell_type": "code",
   "execution_count": 5,
   "metadata": {},
   "outputs": [],
   "source": [
    "from tensorflow_hub.module_v2 import resolve\n",
    "import tensorflow_models as tfm"
   ]
  },
  {
   "cell_type": "code",
   "execution_count": 6,
   "metadata": {},
   "outputs": [],
   "source": [
    "def load_tfhub_as_keras(handle):\n",
    "    module_path = resolve(handle)\n",
    "    return tf.keras.models.load_model(module_path)\n"
   ]
  },
  {
   "cell_type": "code",
   "execution_count": 7,
   "metadata": {},
   "outputs": [
    {
     "name": "stderr",
     "output_type": "stream",
     "text": [
      "2022-06-09 00:05:10.525807: I tensorflow/core/platform/cpu_feature_guard.cc:193] This TensorFlow binary is optimized with oneAPI Deep Neural Network Library (oneDNN) to use the following CPU instructions in performance-critical operations:  AVX2 FMA\n",
      "To enable them in other operations, rebuild TensorFlow with the appropriate compiler flags.\n",
      "2022-06-09 00:05:11.770048: I tensorflow/core/common_runtime/gpu/gpu_device.cc:1532] Created device /job:localhost/replica:0/task:0/device:GPU:0 with 7168 MB memory:  -> device: 0, name: NVIDIA A10G, pci bus id: 0000:00:1e.0, compute capability: 8.6\n"
     ]
    },
    {
     "name": "stdout",
     "output_type": "stream",
     "text": [
      "WARNING:tensorflow:Inconsistent references when loading the checkpoint into this object graph. For example, in the saved checkpoint object, `model.layer.weight` and `model.layer_copy.weight` reference the same variable, while in the current object these are two different variables. The referenced variables are:(<keras.engine.functional.Functional object at 0x7f65d8b9bdc0> and <keras.engine.input_layer.InputLayer object at 0x7f65d8b9b400>).\n"
     ]
    },
    {
     "name": "stderr",
     "output_type": "stream",
     "text": [
      "WARNING:tensorflow:Inconsistent references when loading the checkpoint into this object graph. For example, in the saved checkpoint object, `model.layer.weight` and `model.layer_copy.weight` reference the same variable, while in the current object these are two different variables. The referenced variables are:(<keras.engine.functional.Functional object at 0x7f65d8b9bdc0> and <keras.engine.input_layer.InputLayer object at 0x7f65d8b9b400>).\n"
     ]
    },
    {
     "name": "stdout",
     "output_type": "stream",
     "text": [
      "WARNING:tensorflow:Inconsistent references when loading the checkpoint into this object graph. For example, in the saved checkpoint object, `model.layer.weight` and `model.layer_copy.weight` reference the same variable, while in the current object these are two different variables. The referenced variables are:(<keras.engine.functional.Functional object at 0x7f65d8b9bdc0> and <keras.engine.input_layer.InputLayer object at 0x7f65d8b9b400>).\n"
     ]
    },
    {
     "name": "stderr",
     "output_type": "stream",
     "text": [
      "WARNING:tensorflow:Inconsistent references when loading the checkpoint into this object graph. For example, in the saved checkpoint object, `model.layer.weight` and `model.layer_copy.weight` reference the same variable, while in the current object these are two different variables. The referenced variables are:(<keras.engine.functional.Functional object at 0x7f65d8b9bdc0> and <keras.engine.input_layer.InputLayer object at 0x7f65d8b9b400>).\n"
     ]
    },
    {
     "name": "stdout",
     "output_type": "stream",
     "text": [
      "WARNING:tensorflow:Inconsistent references when loading the checkpoint into this object graph. For example, in the saved checkpoint object, `model.layer.weight` and `model.layer_copy.weight` reference the same variable, while in the current object these are two different variables. The referenced variables are:(<keras.engine.functional.Functional object at 0x7f65d8b9bdc0> and <keras.engine.input_layer.InputLayer object at 0x7f65d8b9b400>).\n"
     ]
    },
    {
     "name": "stderr",
     "output_type": "stream",
     "text": [
      "WARNING:tensorflow:Inconsistent references when loading the checkpoint into this object graph. For example, in the saved checkpoint object, `model.layer.weight` and `model.layer_copy.weight` reference the same variable, while in the current object these are two different variables. The referenced variables are:(<keras.engine.functional.Functional object at 0x7f65d8b9bdc0> and <keras.engine.input_layer.InputLayer object at 0x7f65d8b9b400>).\n"
     ]
    },
    {
     "name": "stdout",
     "output_type": "stream",
     "text": [
      "WARNING:tensorflow:No training configuration found in save file, so the model was *not* compiled. Compile it manually.\n"
     ]
    },
    {
     "name": "stderr",
     "output_type": "stream",
     "text": [
      "WARNING:tensorflow:No training configuration found in save file, so the model was *not* compiled. Compile it manually.\n"
     ]
    },
    {
     "name": "stdout",
     "output_type": "stream",
     "text": [
      "WARNING:tensorflow:Looks like there is an object (perhaps variable or layer) that is shared between different layers/models. This may cause issues when restoring the variable values. Object: <keras.engine.input_layer.InputLayer object at 0x7f65d00f6a00>\n"
     ]
    },
    {
     "name": "stderr",
     "output_type": "stream",
     "text": [
      "WARNING:tensorflow:Looks like there is an object (perhaps variable or layer) that is shared between different layers/models. This may cause issues when restoring the variable values. Object: <keras.engine.input_layer.InputLayer object at 0x7f65d00f6a00>\n"
     ]
    },
    {
     "name": "stdout",
     "output_type": "stream",
     "text": [
      "WARNING:tensorflow:Looks like there is an object (perhaps variable or layer) that is shared between different layers/models. This may cause issues when restoring the variable values. Object: <keras.engine.input_layer.InputLayer object at 0x7f65d00f73d0>\n"
     ]
    },
    {
     "name": "stderr",
     "output_type": "stream",
     "text": [
      "WARNING:tensorflow:Looks like there is an object (perhaps variable or layer) that is shared between different layers/models. This may cause issues when restoring the variable values. Object: <keras.engine.input_layer.InputLayer object at 0x7f65d00f73d0>\n"
     ]
    },
    {
     "name": "stdout",
     "output_type": "stream",
     "text": [
      "WARNING:tensorflow:Looks like there is an object (perhaps variable or layer) that is shared between different layers/models. This may cause issues when restoring the variable values. Object: <keras.engine.input_layer.InputLayer object at 0x7f65d00f6e80>\n"
     ]
    },
    {
     "name": "stderr",
     "output_type": "stream",
     "text": [
      "WARNING:tensorflow:Looks like there is an object (perhaps variable or layer) that is shared between different layers/models. This may cause issues when restoring the variable values. Object: <keras.engine.input_layer.InputLayer object at 0x7f65d00f6e80>\n"
     ]
    },
    {
     "name": "stdout",
     "output_type": "stream",
     "text": [
      "WARNING:tensorflow:Inconsistent references when loading the checkpoint into this object graph. For example, in the saved checkpoint object, `model.layer.weight` and `model.layer_copy.weight` reference the same variable, while in the current object these are two different variables. The referenced variables are:(<keras.engine.input_layer.InputLayer object at 0x7f65d00e8730> and <keras.engine.input_layer.InputLayer object at 0x7f65d00f6a00>).\n"
     ]
    },
    {
     "name": "stderr",
     "output_type": "stream",
     "text": [
      "WARNING:tensorflow:Inconsistent references when loading the checkpoint into this object graph. For example, in the saved checkpoint object, `model.layer.weight` and `model.layer_copy.weight` reference the same variable, while in the current object these are two different variables. The referenced variables are:(<keras.engine.input_layer.InputLayer object at 0x7f65d00e8730> and <keras.engine.input_layer.InputLayer object at 0x7f65d00f6a00>).\n"
     ]
    },
    {
     "name": "stdout",
     "output_type": "stream",
     "text": [
      "WARNING:tensorflow:Inconsistent references when loading the checkpoint into this object graph. For example, in the saved checkpoint object, `model.layer.weight` and `model.layer_copy.weight` reference the same variable, while in the current object these are two different variables. The referenced variables are:(<keras.engine.input_layer.InputLayer object at 0x7f65d028c340> and <keras.engine.input_layer.InputLayer object at 0x7f65d00f73d0>).\n"
     ]
    },
    {
     "name": "stderr",
     "output_type": "stream",
     "text": [
      "WARNING:tensorflow:Inconsistent references when loading the checkpoint into this object graph. For example, in the saved checkpoint object, `model.layer.weight` and `model.layer_copy.weight` reference the same variable, while in the current object these are two different variables. The referenced variables are:(<keras.engine.input_layer.InputLayer object at 0x7f65d028c340> and <keras.engine.input_layer.InputLayer object at 0x7f65d00f73d0>).\n"
     ]
    },
    {
     "name": "stdout",
     "output_type": "stream",
     "text": [
      "WARNING:tensorflow:Inconsistent references when loading the checkpoint into this object graph. For example, in the saved checkpoint object, `model.layer.weight` and `model.layer_copy.weight` reference the same variable, while in the current object these are two different variables. The referenced variables are:(<keras.engine.functional.Functional object at 0x7f65a004d580> and <keras.engine.input_layer.InputLayer object at 0x7f65d00f6e80>).\n"
     ]
    },
    {
     "name": "stderr",
     "output_type": "stream",
     "text": [
      "WARNING:tensorflow:Inconsistent references when loading the checkpoint into this object graph. For example, in the saved checkpoint object, `model.layer.weight` and `model.layer_copy.weight` reference the same variable, while in the current object these are two different variables. The referenced variables are:(<keras.engine.functional.Functional object at 0x7f65a004d580> and <keras.engine.input_layer.InputLayer object at 0x7f65d00f6e80>).\n"
     ]
    },
    {
     "name": "stdout",
     "output_type": "stream",
     "text": [
      "WARNING:tensorflow:Inconsistent references when loading the checkpoint into this object graph. For example, in the saved checkpoint object, `model.layer.weight` and `model.layer_copy.weight` reference the same variable, while in the current object these are two different variables. The referenced variables are:(<keras.engine.functional.Functional object at 0x7f65a004d580> and <keras.engine.input_layer.InputLayer object at 0x7f664b8810a0>).\n"
     ]
    },
    {
     "name": "stderr",
     "output_type": "stream",
     "text": [
      "WARNING:tensorflow:Inconsistent references when loading the checkpoint into this object graph. For example, in the saved checkpoint object, `model.layer.weight` and `model.layer_copy.weight` reference the same variable, while in the current object these are two different variables. The referenced variables are:(<keras.engine.functional.Functional object at 0x7f65a004d580> and <keras.engine.input_layer.InputLayer object at 0x7f664b8810a0>).\n"
     ]
    },
    {
     "name": "stdout",
     "output_type": "stream",
     "text": [
      "WARNING:tensorflow:Inconsistent references when loading the checkpoint into this object graph. For example, in the saved checkpoint object, `model.layer.weight` and `model.layer_copy.weight` reference the same variable, while in the current object these are two different variables. The referenced variables are:(<keras.engine.functional.Functional object at 0x7f65a004d580> and <keras.engine.input_layer.InputLayer object at 0x7f664b8810a0>).\n"
     ]
    },
    {
     "name": "stderr",
     "output_type": "stream",
     "text": [
      "WARNING:tensorflow:Inconsistent references when loading the checkpoint into this object graph. For example, in the saved checkpoint object, `model.layer.weight` and `model.layer_copy.weight` reference the same variable, while in the current object these are two different variables. The referenced variables are:(<keras.engine.functional.Functional object at 0x7f65a004d580> and <keras.engine.input_layer.InputLayer object at 0x7f664b8810a0>).\n"
     ]
    },
    {
     "name": "stdout",
     "output_type": "stream",
     "text": [
      "WARNING:tensorflow:Inconsistent references when loading the checkpoint into this object graph. For example, in the saved checkpoint object, `model.layer.weight` and `model.layer_copy.weight` reference the same variable, while in the current object these are two different variables. The referenced variables are:(<keras.engine.functional.Functional object at 0x7f65a004d580> and <keras.engine.input_layer.InputLayer object at 0x7f664b8810a0>).\n"
     ]
    },
    {
     "name": "stderr",
     "output_type": "stream",
     "text": [
      "WARNING:tensorflow:Inconsistent references when loading the checkpoint into this object graph. For example, in the saved checkpoint object, `model.layer.weight` and `model.layer_copy.weight` reference the same variable, while in the current object these are two different variables. The referenced variables are:(<keras.engine.functional.Functional object at 0x7f65a004d580> and <keras.engine.input_layer.InputLayer object at 0x7f664b8810a0>).\n"
     ]
    },
    {
     "name": "stdout",
     "output_type": "stream",
     "text": [
      "WARNING:tensorflow:Inconsistent references when loading the checkpoint into this object graph. For example, in the saved checkpoint object, `model.layer.weight` and `model.layer_copy.weight` reference the same variable, while in the current object these are two different variables. The referenced variables are:(<keras.engine.functional.Functional object at 0x7f65a004d580> and <keras.engine.input_layer.InputLayer object at 0x7f664b8810a0>).\n"
     ]
    },
    {
     "name": "stderr",
     "output_type": "stream",
     "text": [
      "WARNING:tensorflow:Inconsistent references when loading the checkpoint into this object graph. For example, in the saved checkpoint object, `model.layer.weight` and `model.layer_copy.weight` reference the same variable, while in the current object these are two different variables. The referenced variables are:(<keras.engine.functional.Functional object at 0x7f65a004d580> and <keras.engine.input_layer.InputLayer object at 0x7f664b8810a0>).\n",
      "/data/anaconda/envs/demo3/lib/python3.9/site-packages/keras/engine/functional.py:566: UserWarning: Input dict contained keys ['masked_lm_positions'] which did not match any model input. They will be ignored by the model.\n",
      "  inputs = self._flatten_to_reference_inputs(inputs)\n"
     ]
    },
    {
     "name": "stdout",
     "output_type": "stream",
     "text": [
      "WARNING:tensorflow:No training configuration found in save file, so the model was *not* compiled. Compile it manually.\n"
     ]
    },
    {
     "name": "stderr",
     "output_type": "stream",
     "text": [
      "WARNING:tensorflow:No training configuration found in save file, so the model was *not* compiled. Compile it manually.\n"
     ]
    }
   ],
   "source": [
    "preprocessor_handle = \"https://tfhub.dev/tensorflow/bert_en_uncased_preprocess/3\"\n",
    "encoder_handle = \"https://tfhub.dev/tensorflow/small_bert/bert_en_uncased_L-4_H-512_A-8/2\"\n",
    "\n",
    "preprocessor = load_tfhub_as_keras(preprocessor_handle)\n",
    "encoder = load_tfhub_as_keras(encoder_handle).layers[-1]"
   ]
  },
  {
   "cell_type": "code",
   "execution_count": 8,
   "metadata": {},
   "outputs": [
    {
     "data": {
      "text/plain": [
       "([<keras.engine.input_layer.InputLayer at 0x7f65d8b9b400>,\n",
       "  <keras.saving.saved_model.load.BertTokenizer at 0x7f65d8b9bbb0>,\n",
       "  <keras.saving.saved_model.load.BertPackInputs at 0x7f65d8b9b3a0>,\n",
       "  <keras.engine.functional.Functional at 0x7f65d8b9bdc0>],\n",
       " [<keras.engine.input_layer.InputLayer at 0x7f65d00f6a00>,\n",
       "  <official.nlp.modeling.layers.on_device_embedding.OnDeviceEmbedding at 0x7f65a0264640>,\n",
       "  <keras.engine.input_layer.InputLayer at 0x7f65d00f73d0>,\n",
       "  <official.nlp.modeling.layers.position_embedding.PositionEmbedding at 0x7f65a0264820>,\n",
       "  <official.nlp.modeling.layers.on_device_embedding.OnDeviceEmbedding at 0x7f65a0264430>,\n",
       "  <keras.layers.merging.add.Add at 0x7f65d0404d30>,\n",
       "  <keras.layers.normalization.layer_normalization.LayerNormalization at 0x7f65a00ae490>,\n",
       "  <keras.layers.regularization.dropout.Dropout at 0x7f65a0118cd0>,\n",
       "  <keras.engine.input_layer.InputLayer at 0x7f65d00f6e80>,\n",
       "  <official.nlp.modeling.layers.self_attention_mask.SelfAttentionMask at 0x7f65a00ae190>,\n",
       "  <official.nlp.modeling.layers.transformer_encoder_block.TransformerEncoderBlock at 0x7f65a009fe80>,\n",
       "  <official.nlp.modeling.layers.transformer_encoder_block.TransformerEncoderBlock at 0x7f65a009f580>,\n",
       "  <official.nlp.modeling.layers.transformer_encoder_block.TransformerEncoderBlock at 0x7f65a0112280>,\n",
       "  <official.nlp.modeling.layers.transformer_encoder_block.TransformerEncoderBlock at 0x7f658a651fd0>,\n",
       "  <keras.layers.core.tf_op_layer.SlicingOpLambda at 0x7f658a694970>,\n",
       "  <keras.layers.core.dense.Dense at 0x7f658a656880>])"
      ]
     },
     "execution_count": 8,
     "metadata": {},
     "output_type": "execute_result"
    }
   ],
   "source": [
    "preprocessor.layers, encoder.layers"
   ]
  },
  {
   "cell_type": "markdown",
   "metadata": {},
   "source": [
    "## load existing checkpoint"
   ]
  },
  {
   "cell_type": "code",
   "execution_count": 9,
   "metadata": {},
   "outputs": [
    {
     "name": "stdout",
     "output_type": "stream",
     "text": [
      "WARNING:tensorflow:No training configuration found in save file, so the model was *not* compiled. Compile it manually.\n"
     ]
    },
    {
     "name": "stderr",
     "output_type": "stream",
     "text": [
      "WARNING:tensorflow:No training configuration found in save file, so the model was *not* compiled. Compile it manually.\n"
     ]
    },
    {
     "name": "stdout",
     "output_type": "stream",
     "text": [
      "Model: \"model\"\n",
      "__________________________________________________________________________________________________\n",
      " Layer (type)                   Output Shape         Param #     Connected to                     \n",
      "==================================================================================================\n",
      " text (InputLayer)              [(None,)]            0           []                               \n",
      "                                                                                                  \n",
      " preprocessing (KerasLayer)     {'input_word_ids':   0           ['text[0][0]']                   \n",
      "                                (None, 128),                                                      \n",
      "                                 'input_type_ids':                                                \n",
      "                                (None, 128),                                                      \n",
      "                                 'input_mask': (Non                                               \n",
      "                                e, 128)}                                                          \n",
      "                                                                                                  \n",
      " BERT_encoder (KerasLayer)      {'encoder_outputs':  28763649    ['preprocessing[0][0]',          \n",
      "                                 [(None, 128, 512),               'preprocessing[0][1]',          \n",
      "                                 (None, 128, 512),                'preprocessing[0][2]']          \n",
      "                                 (None, 128, 512),                                                \n",
      "                                 (None, 128, 512)],                                               \n",
      "                                 'default': (None,                                                \n",
      "                                512),                                                             \n",
      "                                 'pooled_output': (                                               \n",
      "                                None, 512),                                                       \n",
      "                                 'sequence_output':                                               \n",
      "                                 (None, 128, 512)}                                                \n",
      "                                                                                                  \n",
      " conv1d (Conv1D)                (None, 126, 32)      49184       ['BERT_encoder[0][6]']           \n",
      "                                                                                                  \n",
      " max_pooling1d (MaxPooling1D)   (None, 63, 32)       0           ['conv1d[0][0]']                 \n",
      "                                                                                                  \n",
      " conv1d_1 (Conv1D)              (None, 61, 16)       1552        ['max_pooling1d[0][0]']          \n",
      "                                                                                                  \n",
      " max_pooling1d_1 (MaxPooling1D)  (None, 30, 16)      0           ['conv1d_1[0][0]']               \n",
      "                                                                                                  \n",
      " conv1d_2 (Conv1D)              (None, 28, 8)        392         ['max_pooling1d_1[0][0]']        \n",
      "                                                                                                  \n",
      " flatten (Flatten)              (None, 224)          0           ['conv1d_2[0][0]']               \n",
      "                                                                                                  \n",
      " classifier (Dense)             (None, 5)            1125        ['flatten[0][0]']                \n",
      "                                                                                                  \n",
      "==================================================================================================\n",
      "Total params: 28,815,902\n",
      "Trainable params: 28,815,901\n",
      "Non-trainable params: 1\n",
      "__________________________________________________________________________________________________\n"
     ]
    }
   ],
   "source": [
    "model = tf.keras.models.load_model('/data/longterm/kaggle-covid-tweets/model/classifierbert-cnn')\n",
    "model.summary()"
   ]
  },
  {
   "cell_type": "code",
   "execution_count": 10,
   "metadata": {},
   "outputs": [],
   "source": [
    "def model_weight_transfer(from_model, to_model):\n",
    "    # ensure trainable_variables line up\n",
    "    assert False not in [w1.name == w2.name for w1, w2 in zip(from_model.trainable_variables, to_model.trainable_variables)]\n",
    "    from_weight_vals = {w.name: tf.keras.backend.get_value(w) for w in from_model.trainable_variables}\n",
    "    for to_weight in to_model.trainable_variables:\n",
    "        tf.keras.backend.set_value(to_weight, from_weight_vals[to_weight.name])\n",
    "    "
   ]
  },
  {
   "cell_type": "markdown",
   "metadata": {},
   "source": [
    "## Model Plots"
   ]
  },
  {
   "cell_type": "code",
   "execution_count": 11,
   "metadata": {},
   "outputs": [
    {
     "data": {
      "image/png": "[encoded data removed]",
      "text/plain": [
       "<IPython.core.display.Image object>"
      ]
     },
     "execution_count": 11,
     "metadata": {},
     "output_type": "execute_result"
    }
   ],
   "source": [
    "from keras.utils.vis_utils import plot_model\n",
    "plot_model(model, show_shapes=True, show_layer_names=True)"
   ]
  },
  {
   "cell_type": "code",
   "execution_count": 12,
   "metadata": {},
   "outputs": [
    {
     "data": {
      "image/png": "[encoded data removed]",
      "text/plain": [
       "<IPython.core.display.Image object>"
      ]
     },
     "execution_count": 12,
     "metadata": {},
     "output_type": "execute_result"
    }
   ],
   "source": [
    "plot_model(encoder, show_shapes=True, show_layer_names=True)"
   ]
  },
  {
   "cell_type": "markdown",
   "metadata": {},
   "source": [
    "## GradientTape on layer outputs"
   ]
  },
  {
   "cell_type": "code",
   "execution_count": 13,
   "metadata": {},
   "outputs": [
    {
     "data": {
      "text/plain": [
       "{'input_word_ids': <keras.engine.input_layer.InputLayer at 0x7f65d00f6a00>,\n",
       " 'word_embeddings': <official.nlp.modeling.layers.on_device_embedding.OnDeviceEmbedding at 0x7f65a0264640>,\n",
       " 'input_type_ids': <keras.engine.input_layer.InputLayer at 0x7f65d00f73d0>,\n",
       " 'position_embedding': <official.nlp.modeling.layers.position_embedding.PositionEmbedding at 0x7f65a0264820>,\n",
       " 'type_embeddings': <official.nlp.modeling.layers.on_device_embedding.OnDeviceEmbedding at 0x7f65a0264430>,\n",
       " 'add': <keras.layers.merging.add.Add at 0x7f65d0404d30>,\n",
       " 'embeddings/layer_norm': <keras.layers.normalization.layer_normalization.LayerNormalization at 0x7f65a00ae490>,\n",
       " 'dropout': <keras.layers.regularization.dropout.Dropout at 0x7f65a0118cd0>,\n",
       " 'input_mask': <keras.engine.input_layer.InputLayer at 0x7f65d00f6e80>,\n",
       " 'self_attention_mask': <official.nlp.modeling.layers.self_attention_mask.SelfAttentionMask at 0x7f65a00ae190>,\n",
       " 'transformer/layer_0': <official.nlp.modeling.layers.transformer_encoder_block.TransformerEncoderBlock at 0x7f65a009fe80>,\n",
       " 'transformer/layer_1': <official.nlp.modeling.layers.transformer_encoder_block.TransformerEncoderBlock at 0x7f65a009f580>,\n",
       " 'transformer/layer_2': <official.nlp.modeling.layers.transformer_encoder_block.TransformerEncoderBlock at 0x7f65a0112280>,\n",
       " 'transformer/layer_3': <official.nlp.modeling.layers.transformer_encoder_block.TransformerEncoderBlock at 0x7f658a651fd0>,\n",
       " 'tf.__operators__.getitem': <keras.layers.core.tf_op_layer.SlicingOpLambda at 0x7f658a694970>,\n",
       " 'pooler_transform': <keras.layers.core.dense.Dense at 0x7f658a656880>}"
      ]
     },
     "execution_count": 13,
     "metadata": {},
     "output_type": "execute_result"
    }
   ],
   "source": [
    "encoder_layer_names = {l.name: l for l in encoder.layers}\n",
    "encoder_layer_names"
   ]
  },
  {
   "cell_type": "code",
   "execution_count": 14,
   "metadata": {},
   "outputs": [
    {
     "data": {
      "text/plain": [
       "{'text': <keras.engine.input_layer.InputLayer at 0x7f6588e11ca0>,\n",
       " 'preprocessing': <keras.saving.saved_model.load.KerasLayer at 0x7f6588e2ecd0>,\n",
       " 'BERT_encoder': <keras.saving.saved_model.load.KerasLayer at 0x7f6588e2ed60>,\n",
       " 'conv1d': <keras.layers.convolutional.conv1d.Conv1D at 0x7f6588e2ef40>,\n",
       " 'max_pooling1d': <keras.layers.pooling.max_pooling1d.MaxPooling1D at 0x7f6588e2eee0>,\n",
       " 'conv1d_1': <keras.layers.convolutional.conv1d.Conv1D at 0x7f6588d2b760>,\n",
       " 'max_pooling1d_1': <keras.layers.pooling.max_pooling1d.MaxPooling1D at 0x7f664b881a30>,\n",
       " 'conv1d_2': <keras.layers.convolutional.conv1d.Conv1D at 0x7f664b8811c0>,\n",
       " 'flatten': <keras.layers.reshaping.flatten.Flatten at 0x7f6588d90040>,\n",
       " 'classifier': <keras.layers.core.dense.Dense at 0x7f6588d950a0>}"
      ]
     },
     "execution_count": 14,
     "metadata": {},
     "output_type": "execute_result"
    }
   ],
   "source": [
    "model_layer_names = {l.name: l for l in model.layers}\n",
    "model_layer_names"
   ]
  },
  {
   "cell_type": "code",
   "execution_count": 15,
   "metadata": {},
   "outputs": [
    {
     "data": {
      "text/plain": [
       "<KerasTensor: shape=(None, None, 512) dtype=float32 (created by layer 'word_embeddings')>"
      ]
     },
     "execution_count": 15,
     "metadata": {},
     "output_type": "execute_result"
    }
   ],
   "source": [
    "word_embedding_output_tensor = encoder.layers[1].output\n",
    "word_embedding_output_tensor"
   ]
  },
  {
   "cell_type": "code",
   "execution_count": 16,
   "metadata": {},
   "outputs": [
    {
     "data": {
      "text/plain": [
       "{'sequence_output': <KerasTensor: shape=(None, None, 512) dtype=float32 (created by layer 'transformer/layer_3')>,\n",
       " 'pooled_output': <KerasTensor: shape=(None, 512) dtype=float32 (created by layer 'pooler_transform')>,\n",
       " 'encoder_outputs': [<KerasTensor: shape=(None, None, 512) dtype=float32 (created by layer 'transformer/layer_0')>,\n",
       "  <KerasTensor: shape=(None, None, 512) dtype=float32 (created by layer 'transformer/layer_1')>,\n",
       "  <KerasTensor: shape=(None, None, 512) dtype=float32 (created by layer 'transformer/layer_2')>,\n",
       "  <KerasTensor: shape=(None, None, 512) dtype=float32 (created by layer 'transformer/layer_3')>]}"
      ]
     },
     "execution_count": 16,
     "metadata": {},
     "output_type": "execute_result"
    }
   ],
   "source": [
    "encoder.output"
   ]
  },
  {
   "cell_type": "code",
   "execution_count": 17,
   "metadata": {},
   "outputs": [],
   "source": [
    "post_embedding_model = tf.keras.Model(\n",
    "    inputs=[word_embedding_output_tensor, encoder_layer_names['input_type_ids'].input, encoder_layer_names['input_mask'].input], \n",
    "    outputs=encoder.output['sequence_output']\n",
    ")"
   ]
  },
  {
   "cell_type": "code",
   "execution_count": 18,
   "metadata": {},
   "outputs": [
    {
     "data": {
      "text/plain": [
       "<KerasTensor: shape=(None, 128, 512) dtype=float32 (created by layer 'BERT_encoder')>"
      ]
     },
     "execution_count": 18,
     "metadata": {},
     "output_type": "execute_result"
    }
   ],
   "source": [
    "model.layers[3].input"
   ]
  },
  {
   "cell_type": "code",
   "execution_count": 19,
   "metadata": {},
   "outputs": [],
   "source": [
    "outer_model = tf.keras.Model(\n",
    "    inputs=[model.layers[3].input], \n",
    "    outputs=model.output\n",
    ")"
   ]
  },
  {
   "cell_type": "code",
   "execution_count": 20,
   "metadata": {},
   "outputs": [],
   "source": [
    "model_weight_transfer(model.layers[2], encoder)"
   ]
  },
  {
   "cell_type": "code",
   "execution_count": 21,
   "metadata": {},
   "outputs": [
    {
     "name": "stderr",
     "output_type": "stream",
     "text": [
      "2022-06-09 00:05:35.240416: I tensorflow/stream_executor/cuda/cuda_blas.cc:1786] TensorFloat-32 will be used for the matrix multiplication. This will only be logged once.\n",
      "2022-06-09 00:05:35.394754: I tensorflow/stream_executor/cuda/cuda_dnn.cc:384] Loaded cuDNN version 8401\n"
     ]
    }
   ],
   "source": [
    "test_constant = tf.constant([\"word one word two\", \"another sentence to compare against\"])\n",
    "with tf.GradientTape(persistent=True) as tape:\n",
    "    enc_input = preprocessor(test_constant)\n",
    "    \n",
    "    word_embedding_tensor = encoder.layers[1](enc_input['input_word_ids'])\n",
    "    tape.watch(word_embedding_tensor)\n",
    "\n",
    "    enc_outputs = post_embedding_model([word_embedding_tensor, enc_input['input_type_ids'], enc_input['input_mask']])\n",
    "    tape.watch(enc_outputs)\n",
    "\n",
    "    outer_output = outer_model(enc_outputs)\n",
    "\n",
    "    # outputs = encoder(enc_input)\n",
    "    # output = tf.reduce_sum(outputs['sequence_output'])\n",
    "\n",
    "inner_gradients = tape.gradient(enc_outputs, word_embedding_tensor)\n",
    "outer_gradients = tape.gradient(outer_output, enc_outputs,)\n",
    "comb_gradients = tape.gradient(outer_output, word_embedding_tensor)"
   ]
  },
  {
   "cell_type": "code",
   "execution_count": 22,
   "metadata": {},
   "outputs": [
    {
     "data": {
      "text/plain": [
       "(<tf.Tensor: shape=(2, 5), dtype=float32, numpy=\n",
       " array([[0.02252408, 0.03340827, 0.12915492, 0.6150217 , 0.19989099],\n",
       "        [0.12427575, 0.12351469, 0.27191117, 0.3739182 , 0.10638017]],\n",
       "       dtype=float32)>,\n",
       " <tf.Tensor: shape=(2, 5), dtype=float32, numpy=\n",
       " array([[0.02252228, 0.03341732, 0.12913115, 0.6149948 , 0.19993445],\n",
       "        [0.12426497, 0.12349026, 0.27189323, 0.37397388, 0.10637773]],\n",
       "       dtype=float32)>)"
      ]
     },
     "execution_count": 22,
     "metadata": {},
     "output_type": "execute_result"
    }
   ],
   "source": [
    "outer_output, model(test_constant)"
   ]
  },
  {
   "cell_type": "code",
   "execution_count": 23,
   "metadata": {},
   "outputs": [
    {
     "data": {
      "text/plain": [
       "<tf.Tensor: shape=(2, 128, 512), dtype=float32, numpy=\n",
       "array([[[ 2.9704528e-10,  3.4421419e-09, -4.8914881e-09, ...,\n",
       "          5.6167155e-09,  4.7368336e-09, -2.2038762e-09],\n",
       "        [-8.9345153e-09,  1.1360383e-08, -1.4357865e-08, ...,\n",
       "          1.5219566e-08,  1.8343805e-08,  6.2584689e-09],\n",
       "        [ 4.6096922e-09,  7.8380173e-09,  8.6989154e-09, ...,\n",
       "          2.2932820e-09,  5.6999960e-09, -6.5894099e-09],\n",
       "        ...,\n",
       "        [ 9.4859632e-12,  4.2673094e-11, -1.1231307e-10, ...,\n",
       "          2.0621860e-11, -5.2341645e-11,  6.2655749e-11],\n",
       "        [ 0.0000000e+00,  0.0000000e+00,  0.0000000e+00, ...,\n",
       "          0.0000000e+00,  0.0000000e+00,  0.0000000e+00],\n",
       "        [ 0.0000000e+00,  0.0000000e+00,  0.0000000e+00, ...,\n",
       "          0.0000000e+00,  0.0000000e+00,  0.0000000e+00]],\n",
       "\n",
       "       [[ 0.0000000e+00,  0.0000000e+00,  0.0000000e+00, ...,\n",
       "          0.0000000e+00,  0.0000000e+00,  0.0000000e+00],\n",
       "        [ 0.0000000e+00,  0.0000000e+00,  0.0000000e+00, ...,\n",
       "          0.0000000e+00,  0.0000000e+00,  0.0000000e+00],\n",
       "        [ 0.0000000e+00,  0.0000000e+00,  0.0000000e+00, ...,\n",
       "          0.0000000e+00,  0.0000000e+00,  0.0000000e+00],\n",
       "        ...,\n",
       "        [ 0.0000000e+00,  0.0000000e+00,  0.0000000e+00, ...,\n",
       "          0.0000000e+00,  0.0000000e+00,  0.0000000e+00],\n",
       "        [ 0.0000000e+00,  0.0000000e+00,  0.0000000e+00, ...,\n",
       "          0.0000000e+00,  0.0000000e+00,  0.0000000e+00],\n",
       "        [ 0.0000000e+00,  0.0000000e+00,  0.0000000e+00, ...,\n",
       "          0.0000000e+00,  0.0000000e+00,  0.0000000e+00]]], dtype=float32)>"
      ]
     },
     "execution_count": 23,
     "metadata": {},
     "output_type": "execute_result"
    }
   ],
   "source": [
    "comb_gradients"
   ]
  },
  {
   "cell_type": "code",
   "execution_count": 24,
   "metadata": {},
   "outputs": [
    {
     "data": {
      "text/plain": [
       "<tf.Tensor: shape=(2, 128, 512), dtype=float32, numpy=\n",
       "array([[[-2.5379521e-11,  6.1289501e-11,  1.0793443e-11, ...,\n",
       "          1.9993224e-11, -7.1612140e-11,  4.4321154e-11],\n",
       "        [-5.6486264e-11,  2.5215739e-11, -6.9946139e-11, ...,\n",
       "         -5.1102338e-11, -8.0152669e-11, -1.4468863e-11],\n",
       "        [ 1.0537564e-10, -7.4031808e-11, -1.3461704e-11, ...,\n",
       "          1.7071759e-11, -2.2608212e-11, -1.1352618e-10],\n",
       "        ...,\n",
       "        [-1.2447671e-11,  3.5162604e-12, -1.8617906e-11, ...,\n",
       "          8.1794562e-12,  2.2775117e-12,  7.5311285e-12],\n",
       "        [ 0.0000000e+00,  0.0000000e+00,  0.0000000e+00, ...,\n",
       "          0.0000000e+00,  0.0000000e+00,  0.0000000e+00],\n",
       "        [ 0.0000000e+00,  0.0000000e+00,  0.0000000e+00, ...,\n",
       "          0.0000000e+00,  0.0000000e+00,  0.0000000e+00]],\n",
       "\n",
       "       [[ 0.0000000e+00,  0.0000000e+00,  0.0000000e+00, ...,\n",
       "          0.0000000e+00,  0.0000000e+00,  0.0000000e+00],\n",
       "        [ 0.0000000e+00,  0.0000000e+00,  0.0000000e+00, ...,\n",
       "          0.0000000e+00,  0.0000000e+00,  0.0000000e+00],\n",
       "        [ 0.0000000e+00,  0.0000000e+00,  0.0000000e+00, ...,\n",
       "          0.0000000e+00,  0.0000000e+00,  0.0000000e+00],\n",
       "        ...,\n",
       "        [ 0.0000000e+00,  0.0000000e+00,  0.0000000e+00, ...,\n",
       "          0.0000000e+00,  0.0000000e+00,  0.0000000e+00],\n",
       "        [ 0.0000000e+00,  0.0000000e+00,  0.0000000e+00, ...,\n",
       "          0.0000000e+00,  0.0000000e+00,  0.0000000e+00],\n",
       "        [ 0.0000000e+00,  0.0000000e+00,  0.0000000e+00, ...,\n",
       "          0.0000000e+00,  0.0000000e+00,  0.0000000e+00]]], dtype=float32)>"
      ]
     },
     "execution_count": 24,
     "metadata": {},
     "output_type": "execute_result"
    }
   ],
   "source": [
    "outer_gradients"
   ]
  },
  {
   "cell_type": "code",
   "execution_count": 25,
   "metadata": {},
   "outputs": [
    {
     "data": {
      "text/plain": [
       "<tf.Tensor: shape=(2, 128, 512), dtype=float32, numpy=\n",
       "array([[[-2.35302258e+01,  8.86870384e+00,  7.68673897e+00, ...,\n",
       "          2.74800563e+00, -8.71699429e+00,  2.45719004e+00],\n",
       "        [-2.14117947e+01,  4.09604607e+01, -4.24357452e+01, ...,\n",
       "          1.06120050e+00, -3.40362663e+01, -7.62129593e+00],\n",
       "        [-1.15976992e+01,  2.18188934e+01, -6.42701912e+00, ...,\n",
       "          7.39400959e+00, -1.13035030e+01, -1.64940929e+01],\n",
       "        ...,\n",
       "        [ 5.02356827e-01,  1.98667124e-01, -3.01021159e-01, ...,\n",
       "         -4.39087301e-03, -2.25818440e-01,  9.81237963e-02],\n",
       "        [ 4.15651113e-01, -4.85871360e-03, -1.09806314e-01, ...,\n",
       "          3.05328891e-03, -2.63953239e-01, -4.31704288e-03],\n",
       "        [ 5.95008016e-01, -9.65791196e-03, -3.47437263e-01, ...,\n",
       "          1.43042952e-02, -4.73970413e-01,  2.54449368e-01]],\n",
       "\n",
       "       [[-2.71109734e+01, -1.19902539e+00,  3.07619095e+00, ...,\n",
       "          1.29897442e+01, -2.06306152e+01,  2.45621910e+01],\n",
       "        [-3.87126274e+01,  7.52465820e+00, -1.28252344e+01, ...,\n",
       "          2.37998142e+01, -2.10011692e+01, -1.47190070e+00],\n",
       "        [-3.19557810e+00,  3.84105158e+00, -6.33729286e+01, ...,\n",
       "         -2.03257904e+01, -4.80133743e+01, -1.04382954e+01],\n",
       "        ...,\n",
       "        [-8.43228698e-01, -2.51815528e-01,  1.16119909e+00, ...,\n",
       "         -8.43545794e-02, -2.18332350e-01, -1.05453575e+00],\n",
       "        [ 2.81338632e-01, -2.41006672e-01,  3.09360623e-01, ...,\n",
       "          1.41410276e-01,  3.38081494e-02, -1.77506045e-01],\n",
       "        [-8.26145113e-02, -3.50606740e-01,  3.23514864e-02, ...,\n",
       "         -2.42041610e-02, -2.93885946e-01,  3.33783507e-01]]],\n",
       "      dtype=float32)>"
      ]
     },
     "execution_count": 25,
     "metadata": {},
     "output_type": "execute_result"
    }
   ],
   "source": [
    "inner_gradients"
   ]
  },
  {
   "cell_type": "code",
   "execution_count": 33,
   "metadata": {},
   "outputs": [
    {
     "ename": "ValueError",
     "evalue": "matmul: Input operand 1 has a mismatch in its core dimension 0, with gufunc signature (n?,k),(k,m?)->(n?,m?) (size 128 is different from 512)",
     "output_type": "error",
     "traceback": [
      "\u001b[0;31m---------------------------------------------------------------------------\u001b[0m",
      "\u001b[0;31mValueError\u001b[0m                                Traceback (most recent call last)",
      "\u001b[1;32m/data/ssd/corey/git/trulens/notebooks/nlp_demo_tf2_tfhub_partial_grad_eager.ipynb Cell 28'\u001b[0m in \u001b[0;36m<cell line: 1>\u001b[0;34m()\u001b[0m\n\u001b[0;32m----> <a href='vscode-notebook-cell://ssh-remote%2B54.245.141.180/data/ssd/corey/git/trulens/notebooks/nlp_demo_tf2_tfhub_partial_grad_eager.ipynb#ch0000069vscode-remote?line=0'>1</a>\u001b[0m np\u001b[39m.\u001b[39;49mmatmul(inner_gradients\u001b[39m.\u001b[39;49mnumpy(), outer_gradients\u001b[39m.\u001b[39;49mnumpy()\u001b[39m.\u001b[39;49mT)\n",
      "\u001b[0;31mValueError\u001b[0m: matmul: Input operand 1 has a mismatch in its core dimension 0, with gufunc signature (n?,k),(k,m?)->(n?,m?) (size 128 is different from 512)"
     ]
    }
   ],
   "source": [
    "np.matmul(inner_gradients.numpy(), outer_gradients.numpy().T)"
   ]
  },
  {
   "cell_type": "markdown",
   "metadata": {},
   "source": [
    "# Inject model layer"
   ]
  },
  {
   "cell_type": "code",
   "execution_count": 19,
   "metadata": {},
   "outputs": [],
   "source": [
    "def recurse_outputs(obj, prefix=[]):\n",
    "    ret = {}\n",
    "    if tf.is_tensor(obj):\n",
    "        return {obj.ref(): prefix}\n",
    "    elif isinstance(obj, collections.abc.Mapping):\n",
    "        for key, val in obj.items():\n",
    "            ret.update(recurse_outputs(val, prefix + [key]))\n",
    "    elif isinstance(obj, collections.abc.Iterable):\n",
    "        for i, elem in enumerate(obj):\n",
    "            ret.update(recurse_outputs(elem, prefix + [i]))\n",
    "    else:\n",
    "        print(type(obj))\n",
    "    return ret"
   ]
  },
  {
   "cell_type": "code",
   "execution_count": 20,
   "metadata": {},
   "outputs": [
    {
     "data": {
      "text/plain": [
       "{<Reference wrapping <KerasTensor: shape=(None, 512) dtype=float32 (created by layer 'BERT_encoder')>>: ['pooled_output'],\n",
       " <Reference wrapping <KerasTensor: shape=(None, 512) dtype=float32 (created by layer 'BERT_encoder')>>: ['default'],\n",
       " <Reference wrapping <KerasTensor: shape=(None, 128, 512) dtype=float32 (created by layer 'BERT_encoder')>>: ['sequence_output'],\n",
       " <Reference wrapping <KerasTensor: shape=(None, 128, 512) dtype=float32 (created by layer 'BERT_encoder')>>: ['encoder_outputs',\n",
       "  0],\n",
       " <Reference wrapping <KerasTensor: shape=(None, 128, 512) dtype=float32 (created by layer 'BERT_encoder')>>: ['encoder_outputs',\n",
       "  1],\n",
       " <Reference wrapping <KerasTensor: shape=(None, 128, 512) dtype=float32 (created by layer 'BERT_encoder')>>: ['encoder_outputs',\n",
       "  2],\n",
       " <Reference wrapping <KerasTensor: shape=(None, 128, 512) dtype=float32 (created by layer 'BERT_encoder')>>: ['encoder_outputs',\n",
       "  3]}"
      ]
     },
     "execution_count": 20,
     "metadata": {},
     "output_type": "execute_result"
    }
   ],
   "source": [
    "tensor_mapping = recurse_outputs(model.layers[2].inbound_nodes[0].outputs)\n",
    "tensor_mapping"
   ]
  },
  {
   "cell_type": "code",
   "execution_count": 21,
   "metadata": {},
   "outputs": [
    {
     "data": {
      "text/plain": [
       "<Reference wrapping <KerasTensor: shape=(None, 512) dtype=float32 (created by layer 'BERT_encoder')>>"
      ]
     },
     "execution_count": 21,
     "metadata": {},
     "output_type": "execute_result"
    }
   ],
   "source": [
    "list(tensor_mapping.keys())[0]"
   ]
  },
  {
   "cell_type": "code",
   "execution_count": 22,
   "metadata": {},
   "outputs": [
    {
     "data": {
      "text/plain": [
       "{'layer': <keras.layers.reshaping.flatten.Flatten at 0x7f9556279fa0>,\n",
       " 'is_input': False,\n",
       " 'outputs': <KerasTensor: shape=(None, 224) dtype=float32 (created by layer 'flatten')>,\n",
       " 'call_args': (<KerasTensor: shape=(None, 28, 8) dtype=float32 (created by layer 'conv1d_2')>,),\n",
       " 'call_kwargs': {},\n",
       " '_flat_arguments': [<KerasTensor: shape=(None, 28, 8) dtype=float32 (created by layer 'conv1d_2')>],\n",
       " '_single_positional_tensor_passed': True,\n",
       " '_keras_inputs': [<KerasTensor: shape=(None, 28, 8) dtype=float32 (created by layer 'conv1d_2')>],\n",
       " '_keras_inputs_ids_and_indices': [('140257701597632', 0)],\n",
       " 'flat_input_ids': ['140257701597632'],\n",
       " 'flat_output_ids': ['140257701391472']}"
      ]
     },
     "execution_count": 22,
     "metadata": {},
     "output_type": "execute_result"
    }
   ],
   "source": [
    "model.layers[-2].inbound_nodes[0].__dict__"
   ]
  },
  {
   "cell_type": "code",
   "execution_count": 23,
   "metadata": {},
   "outputs": [
    {
     "data": {
      "text/plain": [
       "{'layer': <keras.layers.core.dense.Dense at 0x7f955627d280>,\n",
       " 'is_input': False,\n",
       " 'outputs': <KerasTensor: shape=(None, 5) dtype=float32 (created by layer 'classifier')>,\n",
       " 'call_args': (<KerasTensor: shape=(None, 224) dtype=float32 (created by layer 'flatten')>,),\n",
       " 'call_kwargs': {},\n",
       " '_flat_arguments': [<KerasTensor: shape=(None, 224) dtype=float32 (created by layer 'flatten')>],\n",
       " '_single_positional_tensor_passed': True,\n",
       " '_keras_inputs': [<KerasTensor: shape=(None, 224) dtype=float32 (created by layer 'flatten')>],\n",
       " '_keras_inputs_ids_and_indices': [('140257701391472', 0)],\n",
       " 'flat_input_ids': ['140257701391472'],\n",
       " 'flat_output_ids': ['140257701391136']}"
      ]
     },
     "execution_count": 23,
     "metadata": {},
     "output_type": "execute_result"
    }
   ],
   "source": [
    "model.layers[-1].inbound_nodes[0].__dict__"
   ]
  },
  {
   "cell_type": "code",
   "execution_count": 24,
   "metadata": {},
   "outputs": [
    {
     "data": {
      "text/plain": [
       "{'preprocessing': {'args': [['text']], 'kwargs': {}},\n",
       " 'BERT_encoder': {'args': [{'input_word_ids': ['preprocessing',\n",
       "     'input_word_ids'],\n",
       "    'input_mask': ['preprocessing', 'input_mask'],\n",
       "    'input_type_ids': ['preprocessing', 'input_type_ids']}],\n",
       "  'kwargs': {}},\n",
       " 'conv1d': {'args': [['BERT_encoder', 'sequence_output']], 'kwargs': {}},\n",
       " 'max_pooling1d': {'args': [['conv1d']], 'kwargs': {}},\n",
       " 'conv1d_1': {'args': [['max_pooling1d']], 'kwargs': {}},\n",
       " 'max_pooling1d_1': {'args': [['conv1d_1']], 'kwargs': {}},\n",
       " 'conv1d_2': {'args': [['max_pooling1d_1']], 'kwargs': {}},\n",
       " 'flatten': {'args': [['conv1d_2']], 'kwargs': {}},\n",
       " 'classifier': {'args': [['flatten']], 'kwargs': {}}}"
      ]
     },
     "execution_count": 24,
     "metadata": {},
     "output_type": "execute_result"
    }
   ],
   "source": [
    "def get_layer_input_paths(model):\n",
    "    layer_outputs = {}\n",
    "    layer_input_paths = {}\n",
    "    \n",
    "    # Outputs of each layer\n",
    "    for layer in model.layers:\n",
    "        layer_outputs[layer.name] = recurse_outputs(layer.output, [layer.name])\n",
    "\n",
    "    # Path to inputs of each layer\n",
    "    for layer in model.layers:\n",
    "        out_nodes = set(layer.outbound_nodes)\n",
    "        for out_node in out_nodes:\n",
    "            next_layer = out_node.layer\n",
    "            args = out_node.call_args\n",
    "            kwargs = out_node.call_kwargs\n",
    "            \n",
    "            arg_paths = []\n",
    "            for i, arg in enumerate(args):\n",
    "                if tf.is_tensor(arg):\n",
    "                    arg_path = layer_outputs[layer.name][arg.ref()]\n",
    "                elif isinstance(arg, collections.abc.Mapping):\n",
    "                    arg_path = {key: layer_outputs[layer.name][arg.ref()] for key, arg in arg.items()}\n",
    "                elif isinstance(arg, collections.abc.Iterable):\n",
    "                    arg_path = [layer_outputs[layer.name][arg.ref()] for j, arg in enumerate(arg)]\n",
    "                arg_paths.append(arg_path)\n",
    "\n",
    "            kwarg_paths = {}\n",
    "            for key, arg in kwargs.items():\n",
    "                kwarg_paths[key] = {}\n",
    "                if tf.is_tensor(arg):\n",
    "                    kwarg_paths[key] = layer_outputs[layer.name][arg.ref()]\n",
    "                elif isinstance(arg, collections.abc.Mapping):\n",
    "                    kwarg_paths[key] = {key: layer_outputs[layer.name][arg.ref()] for key, arg in arg.items()}\n",
    "                elif isinstance(arg, collections.abc.Iterable):\n",
    "                    kwarg_paths[key] = [layer_outputs[layer.name][arg.ref()] for arg in arg]\n",
    "            \n",
    "            if next_layer.name not in layer_input_paths:\n",
    "                layer_input_paths[next_layer.name] = {\"args\": arg_paths, \"kwargs\": kwarg_paths}\n",
    "            else:\n",
    "                layer_input_paths[next_layer.name]['args'].extend(arg_paths) \n",
    "                layer_input_paths[next_layer.name]['kwargs'].update(kwarg_paths) \n",
    "        \n",
    "    return layer_input_paths\n",
    "\n",
    "layer_input_paths = get_layer_input_paths(model)\n",
    "layer_input_paths"
   ]
  },
  {
   "cell_type": "code",
   "execution_count": 25,
   "metadata": {},
   "outputs": [],
   "source": [
    "def lookup_arg_path(path, model, layer_subs=None):\n",
    "    layer_name = path[0]\n",
    "    \n",
    "    if layer_subs and layer_name in layer_subs:\n",
    "        out = layer_subs[layer_name]\n",
    "    else:\n",
    "        model_layer_names = {l.name: l for l in model.layers}\n",
    "        layer = model_layer_names[layer_name]\n",
    "        out = layer.output\n",
    "\n",
    "    for part in path[1:]:\n",
    "        if isinstance(out, collections.abc.Mapping):\n",
    "            out = out[part]\n",
    "        elif isinstance(part, int) and isinstance(out, collections.abc.Iterable):\n",
    "            out = out[part]\n",
    "        else:\n",
    "            raise ValueError(f\"Invalid part path {part} for object {out}\")\n",
    "    return out\n"
   ]
  },
  {
   "cell_type": "code",
   "execution_count": 26,
   "metadata": {},
   "outputs": [
    {
     "data": {
      "text/plain": [
       "{<keras.layers.reshaping.flatten.Flatten at 0x7f9556279fa0>: [<keras.layers.core.dense.Dense at 0x7f955627d280>],\n",
       " <keras.layers.convolutional.conv1d.Conv1D at 0x7f95562170a0>: [<keras.layers.reshaping.flatten.Flatten at 0x7f9556279fa0>,\n",
       "  <keras.layers.core.dense.Dense at 0x7f955627d280>],\n",
       " <keras.layers.pooling.max_pooling1d.MaxPooling1D at 0x7f962085d490>: [<keras.layers.convolutional.conv1d.Conv1D at 0x7f95562170a0>,\n",
       "  <keras.layers.reshaping.flatten.Flatten at 0x7f9556279fa0>,\n",
       "  <keras.layers.core.dense.Dense at 0x7f955627d280>],\n",
       " <keras.layers.convolutional.conv1d.Conv1D at 0x7f9556bc0cd0>: [<keras.layers.pooling.max_pooling1d.MaxPooling1D at 0x7f962085d490>,\n",
       "  <keras.layers.convolutional.conv1d.Conv1D at 0x7f95562170a0>,\n",
       "  <keras.layers.reshaping.flatten.Flatten at 0x7f9556279fa0>,\n",
       "  <keras.layers.core.dense.Dense at 0x7f955627d280>],\n",
       " <keras.layers.pooling.max_pooling1d.MaxPooling1D at 0x7f9556193520>: [<keras.layers.convolutional.conv1d.Conv1D at 0x7f9556bc0cd0>,\n",
       "  <keras.layers.pooling.max_pooling1d.MaxPooling1D at 0x7f962085d490>,\n",
       "  <keras.layers.convolutional.conv1d.Conv1D at 0x7f95562170a0>,\n",
       "  <keras.layers.reshaping.flatten.Flatten at 0x7f9556279fa0>,\n",
       "  <keras.layers.core.dense.Dense at 0x7f955627d280>],\n",
       " <keras.layers.convolutional.conv1d.Conv1D at 0x7f95562b0c70>: [<keras.layers.pooling.max_pooling1d.MaxPooling1D at 0x7f9556193520>,\n",
       "  <keras.layers.convolutional.conv1d.Conv1D at 0x7f9556bc0cd0>,\n",
       "  <keras.layers.pooling.max_pooling1d.MaxPooling1D at 0x7f962085d490>,\n",
       "  <keras.layers.convolutional.conv1d.Conv1D at 0x7f95562170a0>,\n",
       "  <keras.layers.reshaping.flatten.Flatten at 0x7f9556279fa0>,\n",
       "  <keras.layers.core.dense.Dense at 0x7f955627d280>],\n",
       " <keras.saving.saved_model.load.KerasLayer at 0x7f95562b0ee0>: [<keras.layers.convolutional.conv1d.Conv1D at 0x7f95562b0c70>,\n",
       "  <keras.layers.pooling.max_pooling1d.MaxPooling1D at 0x7f9556193520>,\n",
       "  <keras.layers.convolutional.conv1d.Conv1D at 0x7f9556bc0cd0>,\n",
       "  <keras.layers.pooling.max_pooling1d.MaxPooling1D at 0x7f962085d490>,\n",
       "  <keras.layers.convolutional.conv1d.Conv1D at 0x7f95562170a0>,\n",
       "  <keras.layers.reshaping.flatten.Flatten at 0x7f9556279fa0>,\n",
       "  <keras.layers.core.dense.Dense at 0x7f955627d280>],\n",
       " <keras.saving.saved_model.load.KerasLayer at 0x7f95562b09d0>: [<keras.saving.saved_model.load.KerasLayer at 0x7f95562b0ee0>,\n",
       "  <keras.layers.convolutional.conv1d.Conv1D at 0x7f95562b0c70>,\n",
       "  <keras.layers.pooling.max_pooling1d.MaxPooling1D at 0x7f9556193520>,\n",
       "  <keras.layers.convolutional.conv1d.Conv1D at 0x7f9556bc0cd0>,\n",
       "  <keras.layers.pooling.max_pooling1d.MaxPooling1D at 0x7f962085d490>,\n",
       "  <keras.layers.convolutional.conv1d.Conv1D at 0x7f95562170a0>,\n",
       "  <keras.layers.reshaping.flatten.Flatten at 0x7f9556279fa0>,\n",
       "  <keras.layers.core.dense.Dense at 0x7f955627d280>],\n",
       " <keras.engine.input_layer.InputLayer at 0x7f95562b0610>: [<keras.saving.saved_model.load.KerasLayer at 0x7f95562b09d0>,\n",
       "  <keras.saving.saved_model.load.KerasLayer at 0x7f95562b0ee0>,\n",
       "  <keras.layers.convolutional.conv1d.Conv1D at 0x7f95562b0c70>,\n",
       "  <keras.layers.pooling.max_pooling1d.MaxPooling1D at 0x7f9556193520>,\n",
       "  <keras.layers.convolutional.conv1d.Conv1D at 0x7f9556bc0cd0>,\n",
       "  <keras.layers.pooling.max_pooling1d.MaxPooling1D at 0x7f962085d490>,\n",
       "  <keras.layers.convolutional.conv1d.Conv1D at 0x7f95562170a0>,\n",
       "  <keras.layers.reshaping.flatten.Flatten at 0x7f9556279fa0>,\n",
       "  <keras.layers.core.dense.Dense at 0x7f955627d280>]}"
      ]
     },
     "execution_count": 26,
     "metadata": {},
     "output_type": "execute_result"
    }
   ],
   "source": [
    "def get_layer_exec_order(nodes_by_depth):\n",
    "    layer_paths = {}\n",
    "    def helper(depth=0):\n",
    "        if depth not in nodes_by_depth:\n",
    "            return\n",
    "        else:\n",
    "            for node in nodes_by_depth[depth]:\n",
    "                inbound_layers = node.inbound_layers\n",
    "\n",
    "                if isinstance(inbound_layers, list):\n",
    "                    inbound_layers = list(set(inbound_layers))\n",
    "                else:\n",
    "                    inbound_layers = [inbound_layers]\n",
    "\n",
    "                for layer in inbound_layers:\n",
    "                    if node.outbound_layer in layer_paths:\n",
    "                        layer_paths[layer] = [node.outbound_layer] + layer_paths[node.outbound_layer]\n",
    "                    else:\n",
    "                        layer_paths[layer] = [node.outbound_layer]\n",
    "            helper(depth=depth+1)\n",
    "    helper()\n",
    "    return layer_paths\n",
    "layer_exec_order = get_layer_exec_order(model._nodes_by_depth)\n",
    "layer_exec_order"
   ]
  },
  {
   "cell_type": "code",
   "execution_count": 27,
   "metadata": {},
   "outputs": [
    {
     "name": "stdout",
     "output_type": "stream",
     "text": [
      "Model: \"model_1\"\n",
      "__________________________________________________________________________________________________\n",
      " Layer (type)                   Output Shape         Param #     Connected to                     \n",
      "==================================================================================================\n",
      " text (InputLayer)              [(None,)]            0           []                               \n",
      "                                                                                                  \n",
      " preprocessing (KerasLayer)     {'input_word_ids':   0           ['text[0][0]']                   \n",
      "                                (None, 128),                                                      \n",
      "                                 'input_type_ids':                                                \n",
      "                                (None, 128),                                                      \n",
      "                                 'input_mask': (Non                                               \n",
      "                                e, 128)}                                                          \n",
      "                                                                                                  \n",
      " bert_encoder (BertEncoder)     {'sequence_output':  28763648    ['preprocessing[0][0]',          \n",
      "                                 (None, None, 512),               'preprocessing[0][1]',          \n",
      "                                 'pooled_output': (               'preprocessing[0][2]']          \n",
      "                                None, 512),                                                       \n",
      "                                 'encoder_outputs':                                               \n",
      "                                 [(None, None, 512)                                               \n",
      "                                , (None, None, 512)                                               \n",
      "                                , (None, None, 512)                                               \n",
      "                                , (None, None, 512)                                               \n",
      "                                ]}                                                                \n",
      "                                                                                                  \n",
      " conv1d (Conv1D)                (None, 126, 32)      49184       ['bert_encoder[2][5]']           \n",
      "                                                                                                  \n",
      " max_pooling1d (MaxPooling1D)   (None, 63, 32)       0           ['conv1d[1][0]']                 \n",
      "                                                                                                  \n",
      " conv1d_1 (Conv1D)              (None, 61, 16)       1552        ['max_pooling1d[1][0]']          \n",
      "                                                                                                  \n",
      " max_pooling1d_1 (MaxPooling1D)  (None, 30, 16)      0           ['conv1d_1[1][0]']               \n",
      "                                                                                                  \n",
      " conv1d_2 (Conv1D)              (None, 28, 8)        392         ['max_pooling1d_1[1][0]']        \n",
      "                                                                                                  \n"
     ]
    },
    {
     "name": "stderr",
     "output_type": "stream",
     "text": [
      "2022-06-08 22:04:34.036660: W tensorflow/core/framework/cpu_allocator_impl.cc:82] Allocation of 62509056 exceeds 10% of free system memory.\n",
      "2022-06-08 22:04:34.149321: W tensorflow/core/framework/cpu_allocator_impl.cc:82] Allocation of 62509056 exceeds 10% of free system memory.\n"
     ]
    },
    {
     "name": "stdout",
     "output_type": "stream",
     "text": [
      " flatten (Flatten)              (None, 224)          0           ['conv1d_2[1][0]']               \n",
      "                                                                                                  \n",
      " classifier (Dense)             (None, 5)            1125        ['flatten[1][0]']                \n",
      "                                                                                                  \n",
      "==================================================================================================\n",
      "Total params: 28,815,901\n",
      "Trainable params: 28,815,901\n",
      "Non-trainable params: 0\n",
      "__________________________________________________________________________________________________\n"
     ]
    }
   ],
   "source": [
    "def get_layer_input_tensors(layer, model, layer_subs=None):\n",
    "    layer_name = layer.name\n",
    "    input_paths = layer_input_paths[layer_name]\n",
    "    args = input_paths['args']\n",
    "    kwargs = input_paths['kwargs']\n",
    "\n",
    "\n",
    "    # fetch input args for this layer\n",
    "    input_args = []\n",
    "    for arg in args:\n",
    "        if isinstance(arg, collections.abc.Mapping):\n",
    "            input_args.append({k: lookup_arg_path(path, model, layer_subs) for k, path in arg.items()})\n",
    "        elif isinstance(arg, collections.abc.Iterable):\n",
    "            if len(arg) <= 0:\n",
    "                pass\n",
    "            elif isinstance(arg[0], str):\n",
    "                # one path\n",
    "                input_args.append(lookup_arg_path(arg, model, layer_subs))\n",
    "            elif isinstance(arg[0], collections.abc.Iterable):\n",
    "                 input_args.append([lookup_arg_path(path, model, layer_subs) for path in arg])\n",
    "    input_args = tuple(input_args)\n",
    "\n",
    "    input_kwargs = {}\n",
    "    for key, arg in kwargs.items():\n",
    "        if isinstance(arg, collections.abc.Mapping):\n",
    "            input_kwargs[key] = {k: lookup_arg_path(path, model, layer_subs) for k, path in arg.items()}\n",
    "        elif isinstance(arg, collections.abc.Iterable):\n",
    "            if len(arg) <= 0:\n",
    "                pass\n",
    "            elif isinstance(arg[0], str):\n",
    "                # one path\n",
    "                input_kwargs[key] = lookup_arg_path(arg, model, layer_subs)\n",
    "            elif isinstance(arg[0], collections.abc.Iterable):\n",
    "                 input_kwargs[key] = [lookup_arg_path(path, model, layer_subs) for path in arg]\n",
    "    \n",
    "    return input_args, input_kwargs\n",
    "\n",
    "\n",
    "def replace_layer(layer, model, replacement, flatten=False):\n",
    "    input_args, input_kwargs = get_layer_input_tensors(layer, model)\n",
    "    output = replacement(*input_args, **input_kwargs)\n",
    "    subs = {layer.name: output}\n",
    "\n",
    "    next_layers = layer_exec_order[layer]\n",
    "\n",
    "    for next_layer in next_layers:\n",
    "        input_args, input_kwargs = get_layer_input_tensors(next_layer, model, layer_subs=subs)\n",
    "        output = next_layer(*input_args, **input_kwargs)\n",
    "        subs = {next_layer.name: output}\n",
    "            \n",
    "    return tf.keras.Model(inputs=model.inputs, outputs=output)\n",
    "\n",
    "new_model = replace_layer(model.layers[2], model, encoder)\n",
    "model_weight_transfer(model, new_model)\n",
    "\n",
    "new_model.summary()"
   ]
  },
  {
   "cell_type": "code",
   "execution_count": 28,
   "metadata": {},
   "outputs": [],
   "source": [
    "# def layer_clone_function(layer):\n",
    "#     print(layer.name)\n",
    "#     if 'handle' in layer.get_config():\n",
    "#         handle = layer.get_config()['handle']\n",
    "#         return load_tfhub_as_keras(handle)\n",
    "#     else:\n",
    "#         return layer.__class__.from_config(layer.get_config())\n",
    "\n",
    "# cloned_model = tf.keras.models.clone_model(model, clone_function=layer_clone_function)\n",
    "# clonsed_model = model.__class__.from_config(model.get_config())"
   ]
  },
  {
   "cell_type": "code",
   "execution_count": 29,
   "metadata": {},
   "outputs": [
    {
     "name": "stderr",
     "output_type": "stream",
     "text": [
      "2022-06-08 22:04:34.996659: I tensorflow/stream_executor/cuda/cuda_dnn.cc:384] Loaded cuDNN version 8401\n"
     ]
    },
    {
     "data": {
      "text/plain": [
       "(<tf.Tensor: shape=(1, 5), dtype=float32, numpy=\n",
       " array([[0.01866247, 0.03380817, 0.09248857, 0.575172  , 0.27986875]],\n",
       "       dtype=float32)>,\n",
       " <tf.Tensor: shape=(1, 5), dtype=float32, numpy=\n",
       " array([[0.01867338, 0.03381346, 0.09251021, 0.5751604 , 0.2798426 ]],\n",
       "       dtype=float32)>)"
      ]
     },
     "execution_count": 29,
     "metadata": {},
     "output_type": "execute_result"
    }
   ],
   "source": [
    "test_input = tf.constant([\"this is a new word\"])\n",
    "model(test_input), new_model(test_input)"
   ]
  },
  {
   "cell_type": "code",
   "execution_count": 30,
   "metadata": {},
   "outputs": [
    {
     "name": "stderr",
     "output_type": "stream",
     "text": [
      "2022-06-08 22:04:37.852656: W tensorflow/core/framework/cpu_allocator_impl.cc:82] Allocation of 62509056 exceeds 10% of free system memory.\n"
     ]
    },
    {
     "data": {
      "text/plain": [
       "(<tf.Tensor: shape=(1, 128, 512), dtype=float32, numpy=\n",
       " array([[[-0.01783409,  0.5624505 ,  0.1815386 , ..., -1.1020133 ,\n",
       "           0.06424139,  0.2002483 ],\n",
       "         [-0.4837256 ,  0.9811252 , -0.17309827, ..., -0.4301881 ,\n",
       "          -0.2675475 ,  0.98330647],\n",
       "         [-0.46115863,  1.4171292 , -0.5399093 , ..., -0.74740034,\n",
       "          -0.31318116,  0.532528  ],\n",
       "         ...,\n",
       "         [ 0.06794655,  0.8265918 , -0.0640971 , ..., -0.58697337,\n",
       "          -0.03739796,  0.6674942 ],\n",
       "         [ 0.0544386 ,  0.6643322 , -0.09645768, ..., -0.75264543,\n",
       "           0.10507973,  0.48119366],\n",
       "         [ 0.10319887,  0.8411214 , -0.10416265, ..., -0.41189826,\n",
       "           0.42923623,  0.08971641]]], dtype=float32)>,\n",
       " <tf.Tensor: shape=(1, 128, 512), dtype=float32, numpy=\n",
       " array([[[-0.01753234,  0.562736  ,  0.18134502, ..., -1.102403  ,\n",
       "           0.06434195,  0.20007703],\n",
       "         [-0.48316184,  0.98108596, -0.17311603, ..., -0.43013665,\n",
       "          -0.26701272,  0.98289275],\n",
       "         [-0.46080756,  1.4167125 , -0.5396242 , ..., -0.74731797,\n",
       "          -0.3135636 ,  0.53131187],\n",
       "         ...,\n",
       "         [ 0.06829901,  0.8264726 , -0.06434621, ..., -0.5871945 ,\n",
       "          -0.03750317,  0.6673974 ],\n",
       "         [ 0.05430617,  0.6647593 , -0.09681877, ..., -0.75293225,\n",
       "           0.1053582 ,  0.4807587 ],\n",
       "         [ 0.10307378,  0.8411652 , -0.10443047, ..., -0.41221598,\n",
       "           0.42922705,  0.0894184 ]]], dtype=float32)>)"
      ]
     },
     "execution_count": 30,
     "metadata": {},
     "output_type": "execute_result"
    }
   ],
   "source": [
    "enc_input = preprocessor(test_input)\n",
    "model_weight_transfer(model.layers[2], encoder)\n",
    "model.layers[2](enc_input)['sequence_output'], encoder(enc_input)['sequence_output']"
   ]
  },
  {
   "cell_type": "code",
   "execution_count": 31,
   "metadata": {},
   "outputs": [
    {
     "data": {
      "text/plain": [
       "<KerasTensor: shape=(None, None, 512) dtype=float32 (created by layer 'word_embeddings')>"
      ]
     },
     "execution_count": 31,
     "metadata": {},
     "output_type": "execute_result"
    }
   ],
   "source": [
    "new_model.layers[2].layers[1].output"
   ]
  },
  {
   "cell_type": "code",
   "execution_count": 1,
   "metadata": {},
   "outputs": [
    {
     "ename": "NameError",
     "evalue": "name 'tf' is not defined",
     "output_type": "error",
     "traceback": [
      "\u001b[0;31m---------------------------------------------------------------------------\u001b[0m",
      "\u001b[0;31mNameError\u001b[0m                                 Traceback (most recent call last)",
      "\u001b[1;32m/data/ssd/corey/git/trulens/notebooks/nlp_demo_tf2_tfhub_partial_grad_eager.ipynb Cell 36'\u001b[0m in \u001b[0;36m<cell line: 1>\u001b[0;34m()\u001b[0m\n\u001b[0;32m----> <a href='vscode-notebook-cell://ssh-remote%2B54.245.141.180/data/ssd/corey/git/trulens/notebooks/nlp_demo_tf2_tfhub_partial_grad_eager.ipynb#ch0000035vscode-remote?line=0'>1</a>\u001b[0m pre_model \u001b[39m=\u001b[39m tf\u001b[39m.\u001b[39mkeras\u001b[39m.\u001b[39mModel(inputs\u001b[39m=\u001b[39mnew_model\u001b[39m.\u001b[39minputs, outputs\u001b[39m=\u001b[39mnew_model\u001b[39m.\u001b[39mlayers[\u001b[39m2\u001b[39m]\u001b[39m.\u001b[39moutput)\n",
      "\u001b[0;31mNameError\u001b[0m: name 'tf' is not defined"
     ]
    }
   ],
   "source": [
    "pre_model = tf.keras.Model(inputs=new_model.inputs, outputs=new_model.layers[2].output)"
   ]
  },
  {
   "cell_type": "code",
   "execution_count": null,
   "metadata": {},
   "outputs": [
    {
     "ename": "ValueError",
     "evalue": "Found input tensor cannot be reached given provided output tensors. Please make sure the tensor KerasTensor(type_spec=TensorSpec(shape=(None,), dtype=tf.string, name='text'), name='text', description=\"created by layer 'text'\") is included in the model inputs when building functional model.",
     "output_type": "error",
     "traceback": [
      "\u001b[0;31m---------------------------------------------------------------------------\u001b[0m",
      "\u001b[0;31mValueError\u001b[0m                                Traceback (most recent call last)",
      "\u001b[1;32m/data/ssd/corey/git/trulens/notebooks/nlp_demo_tf2_tfhub_partial_grad_eager.ipynb Cell 35'\u001b[0m in \u001b[0;36m<cell line: 1>\u001b[0;34m()\u001b[0m\n\u001b[0;32m----> <a href='vscode-notebook-cell://ssh-remote%2B54.245.141.180/data/ssd/corey/git/trulens/notebooks/nlp_demo_tf2_tfhub_partial_grad_eager.ipynb#ch0000123vscode-remote?line=0'>1</a>\u001b[0m post_model \u001b[39m=\u001b[39m tf\u001b[39m.\u001b[39;49mkeras\u001b[39m.\u001b[39;49mModel(\n\u001b[1;32m      <a href='vscode-notebook-cell://ssh-remote%2B54.245.141.180/data/ssd/corey/git/trulens/notebooks/nlp_demo_tf2_tfhub_partial_grad_eager.ipynb#ch0000123vscode-remote?line=1'>2</a>\u001b[0m     inputs\u001b[39m=\u001b[39;49m[new_model\u001b[39m.\u001b[39;49mlayers[\u001b[39m2\u001b[39;49m]\u001b[39m.\u001b[39;49mlayers[\u001b[39m1\u001b[39;49m]\u001b[39m.\u001b[39;49moutput, encoder_layer_names[\u001b[39m'\u001b[39;49m\u001b[39minput_type_ids\u001b[39;49m\u001b[39m'\u001b[39;49m]\u001b[39m.\u001b[39;49minput, encoder_layer_names[\u001b[39m'\u001b[39;49m\u001b[39minput_mask\u001b[39;49m\u001b[39m'\u001b[39;49m]\u001b[39m.\u001b[39;49minput], \n\u001b[1;32m      <a href='vscode-notebook-cell://ssh-remote%2B54.245.141.180/data/ssd/corey/git/trulens/notebooks/nlp_demo_tf2_tfhub_partial_grad_eager.ipynb#ch0000123vscode-remote?line=2'>3</a>\u001b[0m     outputs\u001b[39m=\u001b[39;49mnew_model\u001b[39m.\u001b[39;49moutput\n\u001b[1;32m      <a href='vscode-notebook-cell://ssh-remote%2B54.245.141.180/data/ssd/corey/git/trulens/notebooks/nlp_demo_tf2_tfhub_partial_grad_eager.ipynb#ch0000123vscode-remote?line=3'>4</a>\u001b[0m )\n",
      "File \u001b[0;32m/data/anaconda/envs/demo3/lib/python3.9/site-packages/tensorflow/python/training/tracking/base.py:587\u001b[0m, in \u001b[0;36mno_automatic_dependency_tracking.<locals>._method_wrapper\u001b[0;34m(self, *args, **kwargs)\u001b[0m\n\u001b[1;32m    <a href='file:///data/anaconda/envs/demo3/lib/python3.9/site-packages/tensorflow/python/training/tracking/base.py?line=584'>585</a>\u001b[0m \u001b[39mself\u001b[39m\u001b[39m.\u001b[39m_self_setattr_tracking \u001b[39m=\u001b[39m \u001b[39mFalse\u001b[39;00m  \u001b[39m# pylint: disable=protected-access\u001b[39;00m\n\u001b[1;32m    <a href='file:///data/anaconda/envs/demo3/lib/python3.9/site-packages/tensorflow/python/training/tracking/base.py?line=585'>586</a>\u001b[0m \u001b[39mtry\u001b[39;00m:\n\u001b[0;32m--> <a href='file:///data/anaconda/envs/demo3/lib/python3.9/site-packages/tensorflow/python/training/tracking/base.py?line=586'>587</a>\u001b[0m   result \u001b[39m=\u001b[39m method(\u001b[39mself\u001b[39;49m, \u001b[39m*\u001b[39;49margs, \u001b[39m*\u001b[39;49m\u001b[39m*\u001b[39;49mkwargs)\n\u001b[1;32m    <a href='file:///data/anaconda/envs/demo3/lib/python3.9/site-packages/tensorflow/python/training/tracking/base.py?line=587'>588</a>\u001b[0m \u001b[39mfinally\u001b[39;00m:\n\u001b[1;32m    <a href='file:///data/anaconda/envs/demo3/lib/python3.9/site-packages/tensorflow/python/training/tracking/base.py?line=588'>589</a>\u001b[0m   \u001b[39mself\u001b[39m\u001b[39m.\u001b[39m_self_setattr_tracking \u001b[39m=\u001b[39m previous_value  \u001b[39m# pylint: disable=protected-access\u001b[39;00m\n",
      "File \u001b[0;32m/data/anaconda/envs/demo3/lib/python3.9/site-packages/keras/engine/functional.py:147\u001b[0m, in \u001b[0;36mFunctional.__init__\u001b[0;34m(self, inputs, outputs, name, trainable, **kwargs)\u001b[0m\n\u001b[1;32m    <a href='file:///data/anaconda/envs/demo3/lib/python3.9/site-packages/keras/engine/functional.py?line=143'>144</a>\u001b[0m \u001b[39mif\u001b[39;00m tf\u001b[39m.\u001b[39mcompat\u001b[39m.\u001b[39mv1\u001b[39m.\u001b[39mexecuting_eagerly_outside_functions():\n\u001b[1;32m    <a href='file:///data/anaconda/envs/demo3/lib/python3.9/site-packages/keras/engine/functional.py?line=144'>145</a>\u001b[0m   \u001b[39mif\u001b[39;00m \u001b[39mnot\u001b[39;00m \u001b[39mall\u001b[39m([functional_utils\u001b[39m.\u001b[39mis_input_keras_tensor(t)\n\u001b[1;32m    <a href='file:///data/anaconda/envs/demo3/lib/python3.9/site-packages/keras/engine/functional.py?line=145'>146</a>\u001b[0m               \u001b[39mfor\u001b[39;00m t \u001b[39min\u001b[39;00m tf\u001b[39m.\u001b[39mnest\u001b[39m.\u001b[39mflatten(inputs)]):\n\u001b[0;32m--> <a href='file:///data/anaconda/envs/demo3/lib/python3.9/site-packages/keras/engine/functional.py?line=146'>147</a>\u001b[0m     inputs, outputs \u001b[39m=\u001b[39m functional_utils\u001b[39m.\u001b[39;49mclone_graph_nodes(inputs, outputs)\n\u001b[1;32m    <a href='file:///data/anaconda/envs/demo3/lib/python3.9/site-packages/keras/engine/functional.py?line=147'>148</a>\u001b[0m \u001b[39mself\u001b[39m\u001b[39m.\u001b[39m_init_graph_network(inputs, outputs)\n",
      "File \u001b[0;32m/data/anaconda/envs/demo3/lib/python3.9/site-packages/keras/engine/functional_utils.py:146\u001b[0m, in \u001b[0;36mclone_graph_nodes\u001b[0;34m(inputs, outputs)\u001b[0m\n\u001b[1;32m    <a href='file:///data/anaconda/envs/demo3/lib/python3.9/site-packages/keras/engine/functional_utils.py?line=127'>128</a>\u001b[0m \u001b[39mdef\u001b[39;00m \u001b[39mclone_graph_nodes\u001b[39m(inputs, outputs):\n\u001b[1;32m    <a href='file:///data/anaconda/envs/demo3/lib/python3.9/site-packages/keras/engine/functional_utils.py?line=128'>129</a>\u001b[0m   \u001b[39m\"\"\"Clone the `Node` between the inputs and output tensors.\u001b[39;00m\n\u001b[1;32m    <a href='file:///data/anaconda/envs/demo3/lib/python3.9/site-packages/keras/engine/functional_utils.py?line=129'>130</a>\u001b[0m \n\u001b[1;32m    <a href='file:///data/anaconda/envs/demo3/lib/python3.9/site-packages/keras/engine/functional_utils.py?line=130'>131</a>\u001b[0m \u001b[39m  This function is used to create a new functional model from any intermediate\u001b[39;00m\n\u001b[0;32m   (...)\u001b[0m\n\u001b[1;32m    <a href='file:///data/anaconda/envs/demo3/lib/python3.9/site-packages/keras/engine/functional_utils.py?line=143'>144</a>\u001b[0m \u001b[39m    create a new functional model.\u001b[39;00m\n\u001b[1;32m    <a href='file:///data/anaconda/envs/demo3/lib/python3.9/site-packages/keras/engine/functional_utils.py?line=144'>145</a>\u001b[0m \u001b[39m  \"\"\"\u001b[39;00m\n\u001b[0;32m--> <a href='file:///data/anaconda/envs/demo3/lib/python3.9/site-packages/keras/engine/functional_utils.py?line=145'>146</a>\u001b[0m   nodes_to_clone \u001b[39m=\u001b[39m find_nodes_by_inputs_and_outputs(inputs, outputs)\n\u001b[1;32m    <a href='file:///data/anaconda/envs/demo3/lib/python3.9/site-packages/keras/engine/functional_utils.py?line=146'>147</a>\u001b[0m   cloned_inputs \u001b[39m=\u001b[39m []\n\u001b[1;32m    <a href='file:///data/anaconda/envs/demo3/lib/python3.9/site-packages/keras/engine/functional_utils.py?line=147'>148</a>\u001b[0m   cloned_outputs \u001b[39m=\u001b[39m []\n",
      "File \u001b[0;32m/data/anaconda/envs/demo3/lib/python3.9/site-packages/keras/engine/functional_utils.py:113\u001b[0m, in \u001b[0;36mfind_nodes_by_inputs_and_outputs\u001b[0;34m(inputs, outputs)\u001b[0m\n\u001b[1;32m    <a href='file:///data/anaconda/envs/demo3/lib/python3.9/site-packages/keras/engine/functional_utils.py?line=107'>108</a>\u001b[0m     \u001b[39m# In case this is the tf.keras.Input node, we have reached the end of the\u001b[39;00m\n\u001b[1;32m    <a href='file:///data/anaconda/envs/demo3/lib/python3.9/site-packages/keras/engine/functional_utils.py?line=108'>109</a>\u001b[0m     \u001b[39m# tracing of upstream nodes. Any further tracing will just be an\u001b[39;00m\n\u001b[1;32m    <a href='file:///data/anaconda/envs/demo3/lib/python3.9/site-packages/keras/engine/functional_utils.py?line=109'>110</a>\u001b[0m     \u001b[39m# infinite loop. we should raise an error here since we didn't find the\u001b[39;00m\n\u001b[1;32m    <a href='file:///data/anaconda/envs/demo3/lib/python3.9/site-packages/keras/engine/functional_utils.py?line=110'>111</a>\u001b[0m     \u001b[39m# input in the user-specified inputs.\u001b[39;00m\n\u001b[1;32m    <a href='file:///data/anaconda/envs/demo3/lib/python3.9/site-packages/keras/engine/functional_utils.py?line=111'>112</a>\u001b[0m     \u001b[39mif\u001b[39;00m inbound_node\u001b[39m.\u001b[39mis_input:\n\u001b[0;32m--> <a href='file:///data/anaconda/envs/demo3/lib/python3.9/site-packages/keras/engine/functional_utils.py?line=112'>113</a>\u001b[0m       \u001b[39mraise\u001b[39;00m \u001b[39mValueError\u001b[39;00m(\u001b[39m'\u001b[39m\u001b[39mFound input tensor cannot be reached given provided \u001b[39m\u001b[39m'\u001b[39m\n\u001b[1;32m    <a href='file:///data/anaconda/envs/demo3/lib/python3.9/site-packages/keras/engine/functional_utils.py?line=113'>114</a>\u001b[0m                        \u001b[39m'\u001b[39m\u001b[39moutput tensors. Please make sure the tensor \u001b[39m\u001b[39m{}\u001b[39;00m\u001b[39m is \u001b[39m\u001b[39m'\u001b[39m\n\u001b[1;32m    <a href='file:///data/anaconda/envs/demo3/lib/python3.9/site-packages/keras/engine/functional_utils.py?line=114'>115</a>\u001b[0m                        \u001b[39m'\u001b[39m\u001b[39mincluded in the model inputs when building \u001b[39m\u001b[39m'\u001b[39m\n\u001b[1;32m    <a href='file:///data/anaconda/envs/demo3/lib/python3.9/site-packages/keras/engine/functional_utils.py?line=115'>116</a>\u001b[0m                        \u001b[39m'\u001b[39m\u001b[39mfunctional model.\u001b[39m\u001b[39m'\u001b[39m\u001b[39m.\u001b[39mformat(kt))\n\u001b[1;32m    <a href='file:///data/anaconda/envs/demo3/lib/python3.9/site-packages/keras/engine/functional_utils.py?line=116'>117</a>\u001b[0m     nodes_to_visit\u001b[39m.\u001b[39mappend(inbound_node)\n\u001b[1;32m    <a href='file:///data/anaconda/envs/demo3/lib/python3.9/site-packages/keras/engine/functional_utils.py?line=118'>119</a>\u001b[0m \u001b[39m# Do a final check and make sure we have reached all the user-specified inputs\u001b[39;00m\n",
      "\u001b[0;31mValueError\u001b[0m: Found input tensor cannot be reached given provided output tensors. Please make sure the tensor KerasTensor(type_spec=TensorSpec(shape=(None,), dtype=tf.string, name='text'), name='text', description=\"created by layer 'text'\") is included in the model inputs when building functional model."
     ]
    }
   ],
   "source": [
    "post_model = tf.keras.Model(\n",
    "    inputs=[new_model.layers[2].layers[1].output, encoder_layer_names['input_type_ids'].input, encoder_layer_names['input_mask'].input], \n",
    "    outputs=new_model.output\n",
    ")"
   ]
  },
  {
   "cell_type": "code",
   "execution_count": null,
   "metadata": {},
   "outputs": [
    {
     "ename": "ValueError",
     "evalue": "Graph disconnected: cannot obtain value for tensor KerasTensor(type_spec=TensorSpec(shape=(None, None), dtype=tf.int32, name='input_word_ids'), name='input_word_ids', description=\"created by layer 'input_word_ids'\") at layer \"word_embeddings\". The following previous layers were accessed without issue: []",
     "output_type": "error",
     "traceback": [
      "\u001b[0;31m---------------------------------------------------------------------------\u001b[0m",
      "\u001b[0;31mValueError\u001b[0m                                Traceback (most recent call last)",
      "\u001b[1;32m/data/ssd/corey/git/trulens/notebooks/nlp_demo_tf2_tfhub_partial_grad_eager.ipynb Cell 35'\u001b[0m in \u001b[0;36m<cell line: 3>\u001b[0;34m()\u001b[0m\n\u001b[1;32m      <a href='vscode-notebook-cell://ssh-remote%2B54.245.141.180/data/ssd/corey/git/trulens/notebooks/nlp_demo_tf2_tfhub_partial_grad_eager.ipynb#ch0000100vscode-remote?line=0'>1</a>\u001b[0m test_constant \u001b[39m=\u001b[39m tf\u001b[39m.\u001b[39mconstant([\u001b[39m\"\u001b[39m\u001b[39mword one word two\u001b[39m\u001b[39m\"\u001b[39m, \u001b[39m\"\u001b[39m\u001b[39manother sentence to compare against\u001b[39m\u001b[39m\"\u001b[39m])\n\u001b[0;32m----> <a href='vscode-notebook-cell://ssh-remote%2B54.245.141.180/data/ssd/corey/git/trulens/notebooks/nlp_demo_tf2_tfhub_partial_grad_eager.ipynb#ch0000100vscode-remote?line=2'>3</a>\u001b[0m pre_model \u001b[39m=\u001b[39m tf\u001b[39m.\u001b[39;49mkeras\u001b[39m.\u001b[39;49mModel(inputs\u001b[39m=\u001b[39;49mnew_model\u001b[39m.\u001b[39;49minputs, outputs\u001b[39m=\u001b[39;49mnew_model\u001b[39m.\u001b[39;49mlayers[\u001b[39m2\u001b[39;49m]\u001b[39m.\u001b[39;49mlayers[\u001b[39m1\u001b[39;49m]\u001b[39m.\u001b[39;49moutput)\n\u001b[1;32m      <a href='vscode-notebook-cell://ssh-remote%2B54.245.141.180/data/ssd/corey/git/trulens/notebooks/nlp_demo_tf2_tfhub_partial_grad_eager.ipynb#ch0000100vscode-remote?line=3'>4</a>\u001b[0m post_model \u001b[39m=\u001b[39m tf\u001b[39m.\u001b[39mkeras\u001b[39m.\u001b[39mModel(\n\u001b[1;32m      <a href='vscode-notebook-cell://ssh-remote%2B54.245.141.180/data/ssd/corey/git/trulens/notebooks/nlp_demo_tf2_tfhub_partial_grad_eager.ipynb#ch0000100vscode-remote?line=4'>5</a>\u001b[0m     inputs\u001b[39m=\u001b[39m[new_model\u001b[39m.\u001b[39mlayers[\u001b[39m2\u001b[39m]\u001b[39m.\u001b[39mlayers[\u001b[39m1\u001b[39m]\u001b[39m.\u001b[39moutput, encoder_layer_names[\u001b[39m'\u001b[39m\u001b[39minput_type_ids\u001b[39m\u001b[39m'\u001b[39m]\u001b[39m.\u001b[39minput, encoder_layer_names[\u001b[39m'\u001b[39m\u001b[39minput_mask\u001b[39m\u001b[39m'\u001b[39m]\u001b[39m.\u001b[39minput], \n\u001b[1;32m      <a href='vscode-notebook-cell://ssh-remote%2B54.245.141.180/data/ssd/corey/git/trulens/notebooks/nlp_demo_tf2_tfhub_partial_grad_eager.ipynb#ch0000100vscode-remote?line=5'>6</a>\u001b[0m     outputs\u001b[39m=\u001b[39mnew_model\u001b[39m.\u001b[39moutput\n\u001b[1;32m      <a href='vscode-notebook-cell://ssh-remote%2B54.245.141.180/data/ssd/corey/git/trulens/notebooks/nlp_demo_tf2_tfhub_partial_grad_eager.ipynb#ch0000100vscode-remote?line=6'>7</a>\u001b[0m )\n\u001b[1;32m      <a href='vscode-notebook-cell://ssh-remote%2B54.245.141.180/data/ssd/corey/git/trulens/notebooks/nlp_demo_tf2_tfhub_partial_grad_eager.ipynb#ch0000100vscode-remote?line=8'>9</a>\u001b[0m \u001b[39mwith\u001b[39;00m tf\u001b[39m.\u001b[39mGradientTape() \u001b[39mas\u001b[39;00m tape:\n",
      "File \u001b[0;32m/data/anaconda/envs/demo3/lib/python3.9/site-packages/tensorflow/python/training/tracking/base.py:587\u001b[0m, in \u001b[0;36mno_automatic_dependency_tracking.<locals>._method_wrapper\u001b[0;34m(self, *args, **kwargs)\u001b[0m\n\u001b[1;32m    <a href='file:///data/anaconda/envs/demo3/lib/python3.9/site-packages/tensorflow/python/training/tracking/base.py?line=584'>585</a>\u001b[0m \u001b[39mself\u001b[39m\u001b[39m.\u001b[39m_self_setattr_tracking \u001b[39m=\u001b[39m \u001b[39mFalse\u001b[39;00m  \u001b[39m# pylint: disable=protected-access\u001b[39;00m\n\u001b[1;32m    <a href='file:///data/anaconda/envs/demo3/lib/python3.9/site-packages/tensorflow/python/training/tracking/base.py?line=585'>586</a>\u001b[0m \u001b[39mtry\u001b[39;00m:\n\u001b[0;32m--> <a href='file:///data/anaconda/envs/demo3/lib/python3.9/site-packages/tensorflow/python/training/tracking/base.py?line=586'>587</a>\u001b[0m   result \u001b[39m=\u001b[39m method(\u001b[39mself\u001b[39;49m, \u001b[39m*\u001b[39;49margs, \u001b[39m*\u001b[39;49m\u001b[39m*\u001b[39;49mkwargs)\n\u001b[1;32m    <a href='file:///data/anaconda/envs/demo3/lib/python3.9/site-packages/tensorflow/python/training/tracking/base.py?line=587'>588</a>\u001b[0m \u001b[39mfinally\u001b[39;00m:\n\u001b[1;32m    <a href='file:///data/anaconda/envs/demo3/lib/python3.9/site-packages/tensorflow/python/training/tracking/base.py?line=588'>589</a>\u001b[0m   \u001b[39mself\u001b[39m\u001b[39m.\u001b[39m_self_setattr_tracking \u001b[39m=\u001b[39m previous_value  \u001b[39m# pylint: disable=protected-access\u001b[39;00m\n",
      "File \u001b[0;32m/data/anaconda/envs/demo3/lib/python3.9/site-packages/keras/engine/functional.py:148\u001b[0m, in \u001b[0;36mFunctional.__init__\u001b[0;34m(self, inputs, outputs, name, trainable, **kwargs)\u001b[0m\n\u001b[1;32m    <a href='file:///data/anaconda/envs/demo3/lib/python3.9/site-packages/keras/engine/functional.py?line=144'>145</a>\u001b[0m   \u001b[39mif\u001b[39;00m \u001b[39mnot\u001b[39;00m \u001b[39mall\u001b[39m([functional_utils\u001b[39m.\u001b[39mis_input_keras_tensor(t)\n\u001b[1;32m    <a href='file:///data/anaconda/envs/demo3/lib/python3.9/site-packages/keras/engine/functional.py?line=145'>146</a>\u001b[0m               \u001b[39mfor\u001b[39;00m t \u001b[39min\u001b[39;00m tf\u001b[39m.\u001b[39mnest\u001b[39m.\u001b[39mflatten(inputs)]):\n\u001b[1;32m    <a href='file:///data/anaconda/envs/demo3/lib/python3.9/site-packages/keras/engine/functional.py?line=146'>147</a>\u001b[0m     inputs, outputs \u001b[39m=\u001b[39m functional_utils\u001b[39m.\u001b[39mclone_graph_nodes(inputs, outputs)\n\u001b[0;32m--> <a href='file:///data/anaconda/envs/demo3/lib/python3.9/site-packages/keras/engine/functional.py?line=147'>148</a>\u001b[0m \u001b[39mself\u001b[39;49m\u001b[39m.\u001b[39;49m_init_graph_network(inputs, outputs)\n",
      "File \u001b[0;32m/data/anaconda/envs/demo3/lib/python3.9/site-packages/tensorflow/python/training/tracking/base.py:587\u001b[0m, in \u001b[0;36mno_automatic_dependency_tracking.<locals>._method_wrapper\u001b[0;34m(self, *args, **kwargs)\u001b[0m\n\u001b[1;32m    <a href='file:///data/anaconda/envs/demo3/lib/python3.9/site-packages/tensorflow/python/training/tracking/base.py?line=584'>585</a>\u001b[0m \u001b[39mself\u001b[39m\u001b[39m.\u001b[39m_self_setattr_tracking \u001b[39m=\u001b[39m \u001b[39mFalse\u001b[39;00m  \u001b[39m# pylint: disable=protected-access\u001b[39;00m\n\u001b[1;32m    <a href='file:///data/anaconda/envs/demo3/lib/python3.9/site-packages/tensorflow/python/training/tracking/base.py?line=585'>586</a>\u001b[0m \u001b[39mtry\u001b[39;00m:\n\u001b[0;32m--> <a href='file:///data/anaconda/envs/demo3/lib/python3.9/site-packages/tensorflow/python/training/tracking/base.py?line=586'>587</a>\u001b[0m   result \u001b[39m=\u001b[39m method(\u001b[39mself\u001b[39;49m, \u001b[39m*\u001b[39;49margs, \u001b[39m*\u001b[39;49m\u001b[39m*\u001b[39;49mkwargs)\n\u001b[1;32m    <a href='file:///data/anaconda/envs/demo3/lib/python3.9/site-packages/tensorflow/python/training/tracking/base.py?line=587'>588</a>\u001b[0m \u001b[39mfinally\u001b[39;00m:\n\u001b[1;32m    <a href='file:///data/anaconda/envs/demo3/lib/python3.9/site-packages/tensorflow/python/training/tracking/base.py?line=588'>589</a>\u001b[0m   \u001b[39mself\u001b[39m\u001b[39m.\u001b[39m_self_setattr_tracking \u001b[39m=\u001b[39m previous_value  \u001b[39m# pylint: disable=protected-access\u001b[39;00m\n",
      "File \u001b[0;32m/data/anaconda/envs/demo3/lib/python3.9/site-packages/keras/engine/functional.py:232\u001b[0m, in \u001b[0;36mFunctional._init_graph_network\u001b[0;34m(self, inputs, outputs)\u001b[0m\n\u001b[1;32m    <a href='file:///data/anaconda/envs/demo3/lib/python3.9/site-packages/keras/engine/functional.py?line=228'>229</a>\u001b[0m   \u001b[39mself\u001b[39m\u001b[39m.\u001b[39m_input_coordinates\u001b[39m.\u001b[39mappend((layer, node_index, tensor_index))\n\u001b[1;32m    <a href='file:///data/anaconda/envs/demo3/lib/python3.9/site-packages/keras/engine/functional.py?line=230'>231</a>\u001b[0m \u001b[39m# Keep track of the network's nodes and layers.\u001b[39;00m\n\u001b[0;32m--> <a href='file:///data/anaconda/envs/demo3/lib/python3.9/site-packages/keras/engine/functional.py?line=231'>232</a>\u001b[0m nodes, nodes_by_depth, layers, _ \u001b[39m=\u001b[39m _map_graph_network(\n\u001b[1;32m    <a href='file:///data/anaconda/envs/demo3/lib/python3.9/site-packages/keras/engine/functional.py?line=232'>233</a>\u001b[0m     \u001b[39mself\u001b[39;49m\u001b[39m.\u001b[39;49minputs, \u001b[39mself\u001b[39;49m\u001b[39m.\u001b[39;49moutputs)\n\u001b[1;32m    <a href='file:///data/anaconda/envs/demo3/lib/python3.9/site-packages/keras/engine/functional.py?line=233'>234</a>\u001b[0m \u001b[39mself\u001b[39m\u001b[39m.\u001b[39m_network_nodes \u001b[39m=\u001b[39m nodes\n\u001b[1;32m    <a href='file:///data/anaconda/envs/demo3/lib/python3.9/site-packages/keras/engine/functional.py?line=234'>235</a>\u001b[0m \u001b[39mself\u001b[39m\u001b[39m.\u001b[39m_nodes_by_depth \u001b[39m=\u001b[39m nodes_by_depth\n",
      "File \u001b[0;32m/data/anaconda/envs/demo3/lib/python3.9/site-packages/keras/engine/functional.py:998\u001b[0m, in \u001b[0;36m_map_graph_network\u001b[0;34m(inputs, outputs)\u001b[0m\n\u001b[1;32m    <a href='file:///data/anaconda/envs/demo3/lib/python3.9/site-packages/keras/engine/functional.py?line=995'>996</a>\u001b[0m \u001b[39mfor\u001b[39;00m x \u001b[39min\u001b[39;00m tf\u001b[39m.\u001b[39mnest\u001b[39m.\u001b[39mflatten(node\u001b[39m.\u001b[39mkeras_inputs):\n\u001b[1;32m    <a href='file:///data/anaconda/envs/demo3/lib/python3.9/site-packages/keras/engine/functional.py?line=996'>997</a>\u001b[0m   \u001b[39mif\u001b[39;00m \u001b[39mid\u001b[39m(x) \u001b[39mnot\u001b[39;00m \u001b[39min\u001b[39;00m computable_tensors:\n\u001b[0;32m--> <a href='file:///data/anaconda/envs/demo3/lib/python3.9/site-packages/keras/engine/functional.py?line=997'>998</a>\u001b[0m     \u001b[39mraise\u001b[39;00m \u001b[39mValueError\u001b[39;00m(\n\u001b[1;32m    <a href='file:///data/anaconda/envs/demo3/lib/python3.9/site-packages/keras/engine/functional.py?line=998'>999</a>\u001b[0m         \u001b[39mf\u001b[39m\u001b[39m'\u001b[39m\u001b[39mGraph disconnected: cannot obtain value for tensor \u001b[39m\u001b[39m{\u001b[39;00mx\u001b[39m}\u001b[39;00m\u001b[39m \u001b[39m\u001b[39m'\u001b[39m\n\u001b[1;32m   <a href='file:///data/anaconda/envs/demo3/lib/python3.9/site-packages/keras/engine/functional.py?line=999'>1000</a>\u001b[0m         \u001b[39mf\u001b[39m\u001b[39m'\u001b[39m\u001b[39mat layer \u001b[39m\u001b[39m\"\u001b[39m\u001b[39m{\u001b[39;00mlayer\u001b[39m.\u001b[39mname\u001b[39m}\u001b[39;00m\u001b[39m\"\u001b[39m\u001b[39m. The following previous layers \u001b[39m\u001b[39m'\u001b[39m\n\u001b[1;32m   <a href='file:///data/anaconda/envs/demo3/lib/python3.9/site-packages/keras/engine/functional.py?line=1000'>1001</a>\u001b[0m         \u001b[39mf\u001b[39m\u001b[39m'\u001b[39m\u001b[39mwere accessed without issue: \u001b[39m\u001b[39m{\u001b[39;00mlayers_with_complete_input\u001b[39m}\u001b[39;00m\u001b[39m'\u001b[39m)\n\u001b[1;32m   <a href='file:///data/anaconda/envs/demo3/lib/python3.9/site-packages/keras/engine/functional.py?line=1001'>1002</a>\u001b[0m \u001b[39mfor\u001b[39;00m x \u001b[39min\u001b[39;00m tf\u001b[39m.\u001b[39mnest\u001b[39m.\u001b[39mflatten(node\u001b[39m.\u001b[39moutputs):\n\u001b[1;32m   <a href='file:///data/anaconda/envs/demo3/lib/python3.9/site-packages/keras/engine/functional.py?line=1002'>1003</a>\u001b[0m   computable_tensors\u001b[39m.\u001b[39madd(\u001b[39mid\u001b[39m(x))\n",
      "\u001b[0;31mValueError\u001b[0m: Graph disconnected: cannot obtain value for tensor KerasTensor(type_spec=TensorSpec(shape=(None, None), dtype=tf.int32, name='input_word_ids'), name='input_word_ids', description=\"created by layer 'input_word_ids'\") at layer \"word_embeddings\". The following previous layers were accessed without issue: []"
     ]
    }
   ],
   "source": [
    "test_constant = tf.constant([\"word one word two\", \"another sentence to compare against\"])\n",
    "\n",
    "\n",
    "with tf.GradientTape() as tape:\n",
    "    enc_input = preprocessor(test_constant)\n",
    "    \n",
    "    word_embedding_tensor = encoder.layers[1](enc_input['input_word_ids'])\n",
    "    tape.watch(word_embedding_tensor)\n",
    "\n",
    "    outputs = post_embedding_model([word_embedding_tensor, enc_input['input_type_ids'], enc_input['input_mask']])\n",
    "\n",
    "    # outputs = encoder(enc_input)\n",
    "    # output = tf.reduce_sum(outputs['sequence_output'])\n",
    "\n",
    "gradients = tape.gradient(outputs, word_embedding_tensor)\n",
    "gradients"
   ]
  },
  {
   "cell_type": "markdown",
   "metadata": {},
   "source": [
    "# Load from checkpoint"
   ]
  },
  {
   "cell_type": "code",
   "execution_count": null,
   "metadata": {},
   "outputs": [],
   "source": [
    "tf.compat.v1.disable_eager_execution()"
   ]
  },
  {
   "cell_type": "code",
   "execution_count": null,
   "metadata": {},
   "outputs": [],
   "source": [
    "# gpus = tf.config.experimental.list_physical_devices('GPU')\n",
    "# if gpus:\n",
    "#   tf.config.experimental.set_virtual_device_configuration(gpus[0], [tf.config.experimental.VirtualDeviceConfiguration(memory_limit=5120)])\n"
   ]
  },
  {
   "cell_type": "code",
   "execution_count": null,
   "metadata": {},
   "outputs": [
    {
     "name": "stdout",
     "output_type": "stream",
     "text": [
      "WARNING:tensorflow:No training configuration found in save file, so the model was *not* compiled. Compile it manually.\n"
     ]
    },
    {
     "name": "stderr",
     "output_type": "stream",
     "text": [
      "2022-06-05 09:36:44.853260: I tensorflow/core/platform/cpu_feature_guard.cc:193] This TensorFlow binary is optimized with oneAPI Deep Neural Network Library (oneDNN) to use the following CPU instructions in performance-critical operations:  AVX2 FMA\n",
      "To enable them in other operations, rebuild TensorFlow with the appropriate compiler flags.\n",
      "2022-06-05 09:36:45.778340: I tensorflow/core/common_runtime/gpu/gpu_device.cc:1532] Created device /job:localhost/replica:0/task:0/device:GPU:0 with 20634 MB memory:  -> device: 0, name: NVIDIA A10G, pci bus id: 0000:00:1e.0, compute capability: 8.6\n",
      "2022-06-05 09:36:45.927385: I tensorflow/compiler/mlir/mlir_graph_optimization_pass.cc:354] MLIR V1 optimization pass is not enabled\n"
     ]
    }
   ],
   "source": [
    "model = tf.keras.models.load_model('/data/longterm/kaggle-covid-tweets/model/classifierbert-cnn')"
   ]
  },
  {
   "cell_type": "code",
   "execution_count": null,
   "metadata": {},
   "outputs": [
    {
     "data": {
      "text/plain": [
       "(<keras.saving.saved_model.load.KerasLayer at 0x7f4ff3364070>,\n",
       " <keras.saving.saved_model.load.KerasLayer at 0x7f4ff3364850>)"
      ]
     },
     "execution_count": 6,
     "metadata": {},
     "output_type": "execute_result"
    }
   ],
   "source": [
    "# preprocessor = hub.KerasLayer(\"https://tfhub.dev/tensorflow/bert_en_uncased_preprocess/3\")\n",
    "# encoder = hub.KerasLayer(\"https://tfhub.dev/tensorflow/bert_en_uncased_L-12_H-768_A-12/4\", trainable=True)\n",
    "preprocessor = model.layers[1]\n",
    "encoder = model.layers[2]\n",
    "preprocessor, encoder"
   ]
  },
  {
   "cell_type": "code",
   "execution_count": null,
   "metadata": {},
   "outputs": [
    {
     "data": {
      "text/plain": [
       "{'input_type_ids': <tf.Tensor 'preprocessing_1/cond/Identity_1:0' shape=(1, 128) dtype=int32>,\n",
       " 'input_word_ids': <tf.Tensor 'preprocessing_1/cond/Identity_2:0' shape=(1, 128) dtype=int32>,\n",
       " 'input_mask': <tf.Tensor 'preprocessing_1/cond/Identity:0' shape=(1, 128) dtype=int32>}"
      ]
     },
     "execution_count": 7,
     "metadata": {},
     "output_type": "execute_result"
    }
   ],
   "source": [
    "test_input = tf.constant([\"word one word two\"])\n",
    "encoder_input = preprocessor(test_input)\n",
    "encoder_input"
   ]
  },
  {
   "cell_type": "code",
   "execution_count": null,
   "metadata": {},
   "outputs": [
    {
     "data": {
      "text/plain": [
       "(<tf.Tensor 'word_embeddings/Reshape_1:0' shape=(None, None, 512) dtype=float32>,\n",
       " <tf.Tensor 'Identity_5:0' shape=(None, None, 512) dtype=float32>)"
      ]
     },
     "execution_count": 8,
     "metadata": {},
     "output_type": "execute_result"
    }
   ],
   "source": [
    "# node of interest\n",
    "# op_name = \"model/bert_encoder/word_embeddings/Gather\"\n",
    "# op_name = \"model/bert_encoder/word_embeddings/Reshape_1\"\n",
    "op_name = \"word_embeddings/Reshape_1\"\n",
    "tensor_name = f\"{op_name}:0\"\n",
    "op_name, tensor_name\n",
    "\n",
    "graph = model.signatures['serving_default'].graph\n",
    "\n",
    "func = [func for func in graph._functions.values() if func.graph.name == \"bert_encoder_layer_call_and_return_conditional_losses\"][0]\n",
    "func_graph = func.graph\n",
    "\n",
    "embedding_output_tensor = func_graph.get_tensor_by_name(tensor_name)\n",
    "seq_output_tensor = func_graph.outputs[-1]\n",
    "\n",
    "embedding_output_tensor, seq_output_tensor "
   ]
  },
  {
   "cell_type": "code",
   "execution_count": null,
   "metadata": {},
   "outputs": [],
   "source": [
    "# gradient op\n",
    "grad_op = tf.gradients(seq_output_tensor, embedding_output_tensor, [embedding_output_tensor])"
   ]
  },
  {
   "cell_type": "code",
   "execution_count": null,
   "metadata": {},
   "outputs": [
    {
     "data": {
      "text/plain": [
       "<keras.engine.functional.Functional at 0x7f4ff3364880>"
      ]
     },
     "execution_count": 10,
     "metadata": {},
     "output_type": "execute_result"
    }
   ],
   "source": [
    "model"
   ]
  },
  {
   "cell_type": "code",
   "execution_count": null,
   "metadata": {},
   "outputs": [],
   "source": [
    "# encoder_graph = model.layers[2]._autographed_call().trace_0.graph\n",
    "# with encoder_graph.as_default():\n",
    "#     writer = tf.compat.v1.summary.FileWriter(\"enc_output\", encoder_graph)"
   ]
  },
  {
   "cell_type": "code",
   "execution_count": null,
   "metadata": {},
   "outputs": [
    {
     "data": {
      "text/plain": [
       "TensorShape([30522, 512])"
      ]
     },
     "execution_count": 12,
     "metadata": {},
     "output_type": "execute_result"
    }
   ],
   "source": [
    "embedding_matrix = model.layers[2].trainable_weights[0]\n",
    "embedding_matrix.shape"
   ]
  },
  {
   "cell_type": "code",
   "execution_count": null,
   "metadata": {},
   "outputs": [
    {
     "data": {
      "text/plain": [
       "[<tf.Operation 'inputs' type=Placeholder>,\n",
       " <tf.Operation 'inputs_1' type=Placeholder>,\n",
       " <tf.Operation 'inputs_2' type=Placeholder>,\n",
       " <tf.Operation 'word_embeddings_gather_resource' type=Placeholder>,\n",
       " <tf.Operation 'position_embedding_readvariableop_resource' type=Placeholder>,\n",
       " <tf.Operation 'type_embeddings_matmul_readvariableop_resource' type=Placeholder>,\n",
       " <tf.Operation 'embeddings_layer_norm_batchnorm_mul_readvariableop_resource' type=Placeholder>,\n",
       " <tf.Operation 'embeddings_layer_norm_batchnorm_readvariableop_resource' type=Placeholder>,\n",
       " <tf.Operation 'transformer_layer_0_self_attention_query_einsum_einsum_readvariableop_resource' type=Placeholder>,\n",
       " <tf.Operation 'transformer_layer_0_self_attention_query_add_readvariableop_resource' type=Placeholder>,\n",
       " <tf.Operation 'transformer_layer_0_self_attention_key_einsum_einsum_readvariableop_resource' type=Placeholder>,\n",
       " <tf.Operation 'transformer_layer_0_self_attention_key_add_readvariableop_resource' type=Placeholder>,\n",
       " <tf.Operation 'transformer_layer_0_self_attention_value_einsum_einsum_readvariableop_resource' type=Placeholder>,\n",
       " <tf.Operation 'transformer_layer_0_self_attention_value_add_readvariableop_resource' type=Placeholder>,\n",
       " <tf.Operation 'transformer_layer_0_self_attention_attention_output_einsum_einsum_readvariableop_resource' type=Placeholder>,\n",
       " <tf.Operation 'transformer_layer_0_self_attention_attention_output_add_readvariableop_resource' type=Placeholder>,\n",
       " <tf.Operation 'transformer_layer_0_self_attention_layer_norm_batchnorm_mul_readvariableop_resource' type=Placeholder>,\n",
       " <tf.Operation 'transformer_layer_0_self_attention_layer_norm_batchnorm_readvariableop_resource' type=Placeholder>,\n",
       " <tf.Operation 'transformer_layer_0_intermediate_einsum_einsum_readvariableop_resource' type=Placeholder>,\n",
       " <tf.Operation 'transformer_layer_0_intermediate_add_readvariableop_resource' type=Placeholder>,\n",
       " <tf.Operation 'transformer_layer_0_output_einsum_einsum_readvariableop_resource' type=Placeholder>,\n",
       " <tf.Operation 'transformer_layer_0_output_add_readvariableop_resource' type=Placeholder>,\n",
       " <tf.Operation 'transformer_layer_0_output_layer_norm_batchnorm_mul_readvariableop_resource' type=Placeholder>,\n",
       " <tf.Operation 'transformer_layer_0_output_layer_norm_batchnorm_readvariableop_resource' type=Placeholder>,\n",
       " <tf.Operation 'transformer_layer_1_self_attention_query_einsum_einsum_readvariableop_resource' type=Placeholder>,\n",
       " <tf.Operation 'transformer_layer_1_self_attention_query_add_readvariableop_resource' type=Placeholder>,\n",
       " <tf.Operation 'transformer_layer_1_self_attention_key_einsum_einsum_readvariableop_resource' type=Placeholder>,\n",
       " <tf.Operation 'transformer_layer_1_self_attention_key_add_readvariableop_resource' type=Placeholder>,\n",
       " <tf.Operation 'transformer_layer_1_self_attention_value_einsum_einsum_readvariableop_resource' type=Placeholder>,\n",
       " <tf.Operation 'transformer_layer_1_self_attention_value_add_readvariableop_resource' type=Placeholder>,\n",
       " <tf.Operation 'transformer_layer_1_self_attention_attention_output_einsum_einsum_readvariableop_resource' type=Placeholder>,\n",
       " <tf.Operation 'transformer_layer_1_self_attention_attention_output_add_readvariableop_resource' type=Placeholder>,\n",
       " <tf.Operation 'transformer_layer_1_self_attention_layer_norm_batchnorm_mul_readvariableop_resource' type=Placeholder>,\n",
       " <tf.Operation 'transformer_layer_1_self_attention_layer_norm_batchnorm_readvariableop_resource' type=Placeholder>,\n",
       " <tf.Operation 'transformer_layer_1_intermediate_einsum_einsum_readvariableop_resource' type=Placeholder>,\n",
       " <tf.Operation 'transformer_layer_1_intermediate_add_readvariableop_resource' type=Placeholder>,\n",
       " <tf.Operation 'transformer_layer_1_output_einsum_einsum_readvariableop_resource' type=Placeholder>,\n",
       " <tf.Operation 'transformer_layer_1_output_add_readvariableop_resource' type=Placeholder>,\n",
       " <tf.Operation 'transformer_layer_1_output_layer_norm_batchnorm_mul_readvariableop_resource' type=Placeholder>,\n",
       " <tf.Operation 'transformer_layer_1_output_layer_norm_batchnorm_readvariableop_resource' type=Placeholder>,\n",
       " <tf.Operation 'transformer_layer_2_self_attention_query_einsum_einsum_readvariableop_resource' type=Placeholder>,\n",
       " <tf.Operation 'transformer_layer_2_self_attention_query_add_readvariableop_resource' type=Placeholder>,\n",
       " <tf.Operation 'transformer_layer_2_self_attention_key_einsum_einsum_readvariableop_resource' type=Placeholder>,\n",
       " <tf.Operation 'transformer_layer_2_self_attention_key_add_readvariableop_resource' type=Placeholder>,\n",
       " <tf.Operation 'transformer_layer_2_self_attention_value_einsum_einsum_readvariableop_resource' type=Placeholder>,\n",
       " <tf.Operation 'transformer_layer_2_self_attention_value_add_readvariableop_resource' type=Placeholder>,\n",
       " <tf.Operation 'transformer_layer_2_self_attention_attention_output_einsum_einsum_readvariableop_resource' type=Placeholder>,\n",
       " <tf.Operation 'transformer_layer_2_self_attention_attention_output_add_readvariableop_resource' type=Placeholder>,\n",
       " <tf.Operation 'transformer_layer_2_self_attention_layer_norm_batchnorm_mul_readvariableop_resource' type=Placeholder>,\n",
       " <tf.Operation 'transformer_layer_2_self_attention_layer_norm_batchnorm_readvariableop_resource' type=Placeholder>,\n",
       " <tf.Operation 'transformer_layer_2_intermediate_einsum_einsum_readvariableop_resource' type=Placeholder>,\n",
       " <tf.Operation 'transformer_layer_2_intermediate_add_readvariableop_resource' type=Placeholder>,\n",
       " <tf.Operation 'transformer_layer_2_output_einsum_einsum_readvariableop_resource' type=Placeholder>,\n",
       " <tf.Operation 'transformer_layer_2_output_add_readvariableop_resource' type=Placeholder>,\n",
       " <tf.Operation 'transformer_layer_2_output_layer_norm_batchnorm_mul_readvariableop_resource' type=Placeholder>,\n",
       " <tf.Operation 'transformer_layer_2_output_layer_norm_batchnorm_readvariableop_resource' type=Placeholder>,\n",
       " <tf.Operation 'transformer_layer_3_self_attention_query_einsum_einsum_readvariableop_resource' type=Placeholder>,\n",
       " <tf.Operation 'transformer_layer_3_self_attention_query_add_readvariableop_resource' type=Placeholder>,\n",
       " <tf.Operation 'transformer_layer_3_self_attention_key_einsum_einsum_readvariableop_resource' type=Placeholder>,\n",
       " <tf.Operation 'transformer_layer_3_self_attention_key_add_readvariableop_resource' type=Placeholder>,\n",
       " <tf.Operation 'transformer_layer_3_self_attention_value_einsum_einsum_readvariableop_resource' type=Placeholder>,\n",
       " <tf.Operation 'transformer_layer_3_self_attention_value_add_readvariableop_resource' type=Placeholder>,\n",
       " <tf.Operation 'transformer_layer_3_self_attention_attention_output_einsum_einsum_readvariableop_resource' type=Placeholder>,\n",
       " <tf.Operation 'transformer_layer_3_self_attention_attention_output_add_readvariableop_resource' type=Placeholder>,\n",
       " <tf.Operation 'transformer_layer_3_self_attention_layer_norm_batchnorm_mul_readvariableop_resource' type=Placeholder>,\n",
       " <tf.Operation 'transformer_layer_3_self_attention_layer_norm_batchnorm_readvariableop_resource' type=Placeholder>,\n",
       " <tf.Operation 'transformer_layer_3_intermediate_einsum_einsum_readvariableop_resource' type=Placeholder>,\n",
       " <tf.Operation 'transformer_layer_3_intermediate_add_readvariableop_resource' type=Placeholder>,\n",
       " <tf.Operation 'transformer_layer_3_output_einsum_einsum_readvariableop_resource' type=Placeholder>,\n",
       " <tf.Operation 'transformer_layer_3_output_add_readvariableop_resource' type=Placeholder>,\n",
       " <tf.Operation 'transformer_layer_3_output_layer_norm_batchnorm_mul_readvariableop_resource' type=Placeholder>,\n",
       " <tf.Operation 'transformer_layer_3_output_layer_norm_batchnorm_readvariableop_resource' type=Placeholder>,\n",
       " <tf.Operation 'pooler_transform_matmul_readvariableop_resource' type=Placeholder>,\n",
       " <tf.Operation 'pooler_transform_biasadd_readvariableop_resource' type=Placeholder>,\n",
       " <tf.Operation 'word_embeddings/Reshape/shape' type=Const>,\n",
       " <tf.Operation 'word_embeddings/Reshape' type=Reshape>,\n",
       " <tf.Operation 'word_embeddings/Gather' type=ResourceGather>,\n",
       " <tf.Operation 'word_embeddings/Identity' type=Identity>,\n",
       " <tf.Operation 'word_embeddings/Shape' type=Shape>,\n",
       " <tf.Operation 'word_embeddings/concat/values_1' type=Const>,\n",
       " <tf.Operation 'word_embeddings/concat/axis' type=Const>,\n",
       " <tf.Operation 'word_embeddings/concat' type=ConcatV2>,\n",
       " <tf.Operation 'word_embeddings/Reshape_1' type=Reshape>,\n",
       " <tf.Operation 'position_embedding/Shape' type=Shape>,\n",
       " <tf.Operation 'position_embedding/strided_slice/stack' type=Const>,\n",
       " <tf.Operation 'position_embedding/strided_slice/stack_1' type=Const>,\n",
       " <tf.Operation 'position_embedding/strided_slice/stack_2' type=Const>,\n",
       " <tf.Operation 'position_embedding/strided_slice' type=StridedSlice>,\n",
       " <tf.Operation 'position_embedding/ReadVariableOp' type=ReadVariableOp>,\n",
       " <tf.Operation 'position_embedding/strided_slice_1/stack' type=Const>,\n",
       " <tf.Operation 'position_embedding/strided_slice_1/stack_1/1' type=Const>,\n",
       " <tf.Operation 'position_embedding/strided_slice_1/stack_1' type=Pack>,\n",
       " <tf.Operation 'position_embedding/strided_slice_1/stack_2' type=Const>,\n",
       " <tf.Operation 'position_embedding/strided_slice_1' type=StridedSlice>,\n",
       " <tf.Operation 'position_embedding/BroadcastTo' type=BroadcastTo>,\n",
       " <tf.Operation 'type_embeddings/Reshape/shape' type=Const>,\n",
       " <tf.Operation 'type_embeddings/Reshape' type=Reshape>,\n",
       " <tf.Operation 'type_embeddings/one_hot/on_value' type=Const>,\n",
       " <tf.Operation 'type_embeddings/one_hot/off_value' type=Const>,\n",
       " <tf.Operation 'type_embeddings/one_hot/depth' type=Const>,\n",
       " <tf.Operation 'type_embeddings/one_hot' type=OneHot>,\n",
       " <tf.Operation 'type_embeddings/MatMul/ReadVariableOp' type=ReadVariableOp>,\n",
       " <tf.Operation 'type_embeddings/MatMul' type=MatMul>,\n",
       " <tf.Operation 'type_embeddings/Shape' type=Shape>,\n",
       " <tf.Operation 'type_embeddings/concat/values_1' type=Const>,\n",
       " <tf.Operation 'type_embeddings/concat/axis' type=Const>,\n",
       " <tf.Operation 'type_embeddings/concat' type=ConcatV2>,\n",
       " <tf.Operation 'type_embeddings/Reshape_1' type=Reshape>,\n",
       " <tf.Operation 'add/add' type=AddV2>,\n",
       " <tf.Operation 'add/add_1' type=AddV2>,\n",
       " <tf.Operation 'embeddings/layer_norm/moments/mean/reduction_indices' type=Const>,\n",
       " <tf.Operation 'embeddings/layer_norm/moments/mean' type=Mean>,\n",
       " <tf.Operation 'embeddings/layer_norm/moments/StopGradient' type=StopGradient>,\n",
       " <tf.Operation 'embeddings/layer_norm/moments/SquaredDifference' type=SquaredDifference>,\n",
       " <tf.Operation 'embeddings/layer_norm/moments/variance/reduction_indices' type=Const>,\n",
       " <tf.Operation 'embeddings/layer_norm/moments/variance' type=Mean>,\n",
       " <tf.Operation 'embeddings/layer_norm/batchnorm/add/y' type=Const>,\n",
       " <tf.Operation 'embeddings/layer_norm/batchnorm/add' type=AddV2>,\n",
       " <tf.Operation 'embeddings/layer_norm/batchnorm/Rsqrt' type=Rsqrt>,\n",
       " <tf.Operation 'embeddings/layer_norm/batchnorm/mul/ReadVariableOp' type=ReadVariableOp>,\n",
       " <tf.Operation 'embeddings/layer_norm/batchnorm/mul' type=Mul>,\n",
       " <tf.Operation 'embeddings/layer_norm/batchnorm/mul_1' type=Mul>,\n",
       " <tf.Operation 'embeddings/layer_norm/batchnorm/mul_2' type=Mul>,\n",
       " <tf.Operation 'embeddings/layer_norm/batchnorm/ReadVariableOp' type=ReadVariableOp>,\n",
       " <tf.Operation 'embeddings/layer_norm/batchnorm/sub' type=Sub>,\n",
       " <tf.Operation 'embeddings/layer_norm/batchnorm/add_1' type=AddV2>,\n",
       " <tf.Operation 'dropout/Identity' type=Identity>,\n",
       " <tf.Operation 'self_attention_mask/Shape' type=Shape>,\n",
       " <tf.Operation 'self_attention_mask/strided_slice/stack' type=Const>,\n",
       " <tf.Operation 'self_attention_mask/strided_slice/stack_1' type=Const>,\n",
       " <tf.Operation 'self_attention_mask/strided_slice/stack_2' type=Const>,\n",
       " <tf.Operation 'self_attention_mask/strided_slice' type=StridedSlice>,\n",
       " <tf.Operation 'self_attention_mask/strided_slice_1/stack' type=Const>,\n",
       " <tf.Operation 'self_attention_mask/strided_slice_1/stack_1' type=Const>,\n",
       " <tf.Operation 'self_attention_mask/strided_slice_1/stack_2' type=Const>,\n",
       " <tf.Operation 'self_attention_mask/strided_slice_1' type=StridedSlice>,\n",
       " <tf.Operation 'self_attention_mask/Shape_1' type=Shape>,\n",
       " <tf.Operation 'self_attention_mask/strided_slice_2/stack' type=Const>,\n",
       " <tf.Operation 'self_attention_mask/strided_slice_2/stack_1' type=Const>,\n",
       " <tf.Operation 'self_attention_mask/strided_slice_2/stack_2' type=Const>,\n",
       " <tf.Operation 'self_attention_mask/strided_slice_2' type=StridedSlice>,\n",
       " <tf.Operation 'self_attention_mask/Reshape/shape/1' type=Const>,\n",
       " <tf.Operation 'self_attention_mask/Reshape/shape' type=Pack>,\n",
       " <tf.Operation 'self_attention_mask/Reshape' type=Reshape>,\n",
       " <tf.Operation 'self_attention_mask/Cast' type=Cast>,\n",
       " <tf.Operation 'self_attention_mask/ones/mul' type=Mul>,\n",
       " <tf.Operation 'self_attention_mask/ones/mul_1/y' type=Const>,\n",
       " <tf.Operation 'self_attention_mask/ones/mul_1' type=Mul>,\n",
       " <tf.Operation 'self_attention_mask/ones/Less/y' type=Const>,\n",
       " <tf.Operation 'self_attention_mask/ones/Less' type=Less>,\n",
       " <tf.Operation 'self_attention_mask/ones/packed/2' type=Const>,\n",
       " <tf.Operation 'self_attention_mask/ones/packed' type=Pack>,\n",
       " <tf.Operation 'self_attention_mask/ones/Const' type=Const>,\n",
       " <tf.Operation 'self_attention_mask/ones' type=Fill>,\n",
       " <tf.Operation 'self_attention_mask/mul' type=Mul>,\n",
       " <tf.Operation 'transformer/layer_0/self_attention/query/einsum/Einsum/ReadVariableOp' type=ReadVariableOp>,\n",
       " <tf.Operation 'transformer/layer_0/self_attention/query/einsum/Einsum' type=Einsum>,\n",
       " <tf.Operation 'transformer/layer_0/self_attention/query/add/ReadVariableOp' type=ReadVariableOp>,\n",
       " <tf.Operation 'transformer/layer_0/self_attention/query/add' type=AddV2>,\n",
       " <tf.Operation 'transformer/layer_0/self_attention/key/einsum/Einsum/ReadVariableOp' type=ReadVariableOp>,\n",
       " <tf.Operation 'transformer/layer_0/self_attention/key/einsum/Einsum' type=Einsum>,\n",
       " <tf.Operation 'transformer/layer_0/self_attention/key/add/ReadVariableOp' type=ReadVariableOp>,\n",
       " <tf.Operation 'transformer/layer_0/self_attention/key/add' type=AddV2>,\n",
       " <tf.Operation 'transformer/layer_0/self_attention/value/einsum/Einsum/ReadVariableOp' type=ReadVariableOp>,\n",
       " <tf.Operation 'transformer/layer_0/self_attention/value/einsum/Einsum' type=Einsum>,\n",
       " <tf.Operation 'transformer/layer_0/self_attention/value/add/ReadVariableOp' type=ReadVariableOp>,\n",
       " <tf.Operation 'transformer/layer_0/self_attention/value/add' type=AddV2>,\n",
       " <tf.Operation 'transformer/layer_0/self_attention/Mul/y' type=Const>,\n",
       " <tf.Operation 'transformer/layer_0/self_attention/Mul' type=Mul>,\n",
       " <tf.Operation 'transformer/layer_0/self_attention/einsum/Einsum' type=Einsum>,\n",
       " <tf.Operation 'transformer/layer_0/self_attention/ExpandDims/dim' type=Const>,\n",
       " <tf.Operation 'transformer/layer_0/self_attention/ExpandDims' type=ExpandDims>,\n",
       " <tf.Operation 'transformer/layer_0/self_attention/softmax/sub/x' type=Const>,\n",
       " <tf.Operation 'transformer/layer_0/self_attention/softmax/sub' type=Sub>,\n",
       " <tf.Operation 'transformer/layer_0/self_attention/softmax/mul/y' type=Const>,\n",
       " <tf.Operation 'transformer/layer_0/self_attention/softmax/mul' type=Mul>,\n",
       " <tf.Operation 'transformer/layer_0/self_attention/softmax/add' type=AddV2>,\n",
       " <tf.Operation 'transformer/layer_0/self_attention/softmax/Softmax' type=Softmax>,\n",
       " <tf.Operation 'transformer/layer_0/self_attention/dropout_3/Identity' type=Identity>,\n",
       " <tf.Operation 'transformer/layer_0/self_attention/einsum_1/Einsum' type=Einsum>,\n",
       " <tf.Operation 'transformer/layer_0/self_attention/attention_output/einsum/Einsum/ReadVariableOp' type=ReadVariableOp>,\n",
       " <tf.Operation 'transformer/layer_0/self_attention/attention_output/einsum/Einsum' type=Einsum>,\n",
       " <tf.Operation 'transformer/layer_0/self_attention/attention_output/add/ReadVariableOp' type=ReadVariableOp>,\n",
       " <tf.Operation 'transformer/layer_0/self_attention/attention_output/add' type=AddV2>,\n",
       " <tf.Operation 'transformer/layer_0/dropout/Identity' type=Identity>,\n",
       " <tf.Operation 'transformer/layer_0/add' type=AddV2>,\n",
       " <tf.Operation 'transformer/layer_0/self_attention_layer_norm/moments/mean/reduction_indices' type=Const>,\n",
       " <tf.Operation 'transformer/layer_0/self_attention_layer_norm/moments/mean' type=Mean>,\n",
       " <tf.Operation 'transformer/layer_0/self_attention_layer_norm/moments/StopGradient' type=StopGradient>,\n",
       " <tf.Operation 'transformer/layer_0/self_attention_layer_norm/moments/SquaredDifference' type=SquaredDifference>,\n",
       " <tf.Operation 'transformer/layer_0/self_attention_layer_norm/moments/variance/reduction_indices' type=Const>,\n",
       " <tf.Operation 'transformer/layer_0/self_attention_layer_norm/moments/variance' type=Mean>,\n",
       " <tf.Operation 'transformer/layer_0/self_attention_layer_norm/batchnorm/add/y' type=Const>,\n",
       " <tf.Operation 'transformer/layer_0/self_attention_layer_norm/batchnorm/add' type=AddV2>,\n",
       " <tf.Operation 'transformer/layer_0/self_attention_layer_norm/batchnorm/Rsqrt' type=Rsqrt>,\n",
       " <tf.Operation 'transformer/layer_0/self_attention_layer_norm/batchnorm/mul/ReadVariableOp' type=ReadVariableOp>,\n",
       " <tf.Operation 'transformer/layer_0/self_attention_layer_norm/batchnorm/mul' type=Mul>,\n",
       " <tf.Operation 'transformer/layer_0/self_attention_layer_norm/batchnorm/mul_1' type=Mul>,\n",
       " <tf.Operation 'transformer/layer_0/self_attention_layer_norm/batchnorm/mul_2' type=Mul>,\n",
       " <tf.Operation 'transformer/layer_0/self_attention_layer_norm/batchnorm/ReadVariableOp' type=ReadVariableOp>,\n",
       " <tf.Operation 'transformer/layer_0/self_attention_layer_norm/batchnorm/sub' type=Sub>,\n",
       " <tf.Operation 'transformer/layer_0/self_attention_layer_norm/batchnorm/add_1' type=AddV2>,\n",
       " <tf.Operation 'transformer/layer_0/intermediate/einsum/Einsum/ReadVariableOp' type=ReadVariableOp>,\n",
       " <tf.Operation 'transformer/layer_0/intermediate/einsum/Einsum' type=Einsum>,\n",
       " <tf.Operation 'transformer/layer_0/intermediate/add/ReadVariableOp' type=ReadVariableOp>,\n",
       " <tf.Operation 'transformer/layer_0/intermediate/add' type=AddV2>,\n",
       " <tf.Operation 'transformer/layer_0/activation/Gelu/Cast/x' type=Const>,\n",
       " <tf.Operation 'transformer/layer_0/activation/Gelu/mul/x' type=Const>,\n",
       " <tf.Operation 'transformer/layer_0/activation/Gelu/mul' type=Mul>,\n",
       " <tf.Operation 'transformer/layer_0/activation/Gelu/Pow/y' type=Const>,\n",
       " <tf.Operation 'transformer/layer_0/activation/Gelu/Pow' type=Pow>,\n",
       " <tf.Operation 'transformer/layer_0/activation/Gelu/mul_1' type=Mul>,\n",
       " <tf.Operation 'transformer/layer_0/activation/Gelu/add' type=AddV2>,\n",
       " <tf.Operation 'transformer/layer_0/activation/Gelu/mul_2/x' type=Const>,\n",
       " <tf.Operation 'transformer/layer_0/activation/Gelu/mul_2' type=Mul>,\n",
       " <tf.Operation 'transformer/layer_0/activation/Gelu/Tanh' type=Tanh>,\n",
       " <tf.Operation 'transformer/layer_0/activation/Gelu/add_1/x' type=Const>,\n",
       " <tf.Operation 'transformer/layer_0/activation/Gelu/add_1' type=AddV2>,\n",
       " <tf.Operation 'transformer/layer_0/activation/Gelu/mul_3' type=Mul>,\n",
       " <tf.Operation 'transformer/layer_0/dropout_1/Identity' type=Identity>,\n",
       " <tf.Operation 'transformer/layer_0/output/einsum/Einsum/ReadVariableOp' type=ReadVariableOp>,\n",
       " <tf.Operation 'transformer/layer_0/output/einsum/Einsum' type=Einsum>,\n",
       " <tf.Operation 'transformer/layer_0/output/add/ReadVariableOp' type=ReadVariableOp>,\n",
       " <tf.Operation 'transformer/layer_0/output/add' type=AddV2>,\n",
       " <tf.Operation 'transformer/layer_0/dropout_2/Identity' type=Identity>,\n",
       " <tf.Operation 'transformer/layer_0/add_1' type=AddV2>,\n",
       " <tf.Operation 'transformer/layer_0/output_layer_norm/moments/mean/reduction_indices' type=Const>,\n",
       " <tf.Operation 'transformer/layer_0/output_layer_norm/moments/mean' type=Mean>,\n",
       " <tf.Operation 'transformer/layer_0/output_layer_norm/moments/StopGradient' type=StopGradient>,\n",
       " <tf.Operation 'transformer/layer_0/output_layer_norm/moments/SquaredDifference' type=SquaredDifference>,\n",
       " <tf.Operation 'transformer/layer_0/output_layer_norm/moments/variance/reduction_indices' type=Const>,\n",
       " <tf.Operation 'transformer/layer_0/output_layer_norm/moments/variance' type=Mean>,\n",
       " <tf.Operation 'transformer/layer_0/output_layer_norm/batchnorm/add/y' type=Const>,\n",
       " <tf.Operation 'transformer/layer_0/output_layer_norm/batchnorm/add' type=AddV2>,\n",
       " <tf.Operation 'transformer/layer_0/output_layer_norm/batchnorm/Rsqrt' type=Rsqrt>,\n",
       " <tf.Operation 'transformer/layer_0/output_layer_norm/batchnorm/mul/ReadVariableOp' type=ReadVariableOp>,\n",
       " <tf.Operation 'transformer/layer_0/output_layer_norm/batchnorm/mul' type=Mul>,\n",
       " <tf.Operation 'transformer/layer_0/output_layer_norm/batchnorm/mul_1' type=Mul>,\n",
       " <tf.Operation 'transformer/layer_0/output_layer_norm/batchnorm/mul_2' type=Mul>,\n",
       " <tf.Operation 'transformer/layer_0/output_layer_norm/batchnorm/ReadVariableOp' type=ReadVariableOp>,\n",
       " <tf.Operation 'transformer/layer_0/output_layer_norm/batchnorm/sub' type=Sub>,\n",
       " <tf.Operation 'transformer/layer_0/output_layer_norm/batchnorm/add_1' type=AddV2>,\n",
       " <tf.Operation 'transformer/layer_1/self_attention/query/einsum/Einsum/ReadVariableOp' type=ReadVariableOp>,\n",
       " <tf.Operation 'transformer/layer_1/self_attention/query/einsum/Einsum' type=Einsum>,\n",
       " <tf.Operation 'transformer/layer_1/self_attention/query/add/ReadVariableOp' type=ReadVariableOp>,\n",
       " <tf.Operation 'transformer/layer_1/self_attention/query/add' type=AddV2>,\n",
       " <tf.Operation 'transformer/layer_1/self_attention/key/einsum/Einsum/ReadVariableOp' type=ReadVariableOp>,\n",
       " <tf.Operation 'transformer/layer_1/self_attention/key/einsum/Einsum' type=Einsum>,\n",
       " <tf.Operation 'transformer/layer_1/self_attention/key/add/ReadVariableOp' type=ReadVariableOp>,\n",
       " <tf.Operation 'transformer/layer_1/self_attention/key/add' type=AddV2>,\n",
       " <tf.Operation 'transformer/layer_1/self_attention/value/einsum/Einsum/ReadVariableOp' type=ReadVariableOp>,\n",
       " <tf.Operation 'transformer/layer_1/self_attention/value/einsum/Einsum' type=Einsum>,\n",
       " <tf.Operation 'transformer/layer_1/self_attention/value/add/ReadVariableOp' type=ReadVariableOp>,\n",
       " <tf.Operation 'transformer/layer_1/self_attention/value/add' type=AddV2>,\n",
       " <tf.Operation 'transformer/layer_1/self_attention/Mul/y' type=Const>,\n",
       " <tf.Operation 'transformer/layer_1/self_attention/Mul' type=Mul>,\n",
       " <tf.Operation 'transformer/layer_1/self_attention/einsum/Einsum' type=Einsum>,\n",
       " <tf.Operation 'transformer/layer_1/self_attention/ExpandDims/dim' type=Const>,\n",
       " <tf.Operation 'transformer/layer_1/self_attention/ExpandDims' type=ExpandDims>,\n",
       " <tf.Operation 'transformer/layer_1/self_attention/softmax/sub/x' type=Const>,\n",
       " <tf.Operation 'transformer/layer_1/self_attention/softmax/sub' type=Sub>,\n",
       " <tf.Operation 'transformer/layer_1/self_attention/softmax/mul/y' type=Const>,\n",
       " <tf.Operation 'transformer/layer_1/self_attention/softmax/mul' type=Mul>,\n",
       " <tf.Operation 'transformer/layer_1/self_attention/softmax/add' type=AddV2>,\n",
       " <tf.Operation 'transformer/layer_1/self_attention/softmax/Softmax' type=Softmax>,\n",
       " <tf.Operation 'transformer/layer_1/self_attention/dropout_3/Identity' type=Identity>,\n",
       " <tf.Operation 'transformer/layer_1/self_attention/einsum_1/Einsum' type=Einsum>,\n",
       " <tf.Operation 'transformer/layer_1/self_attention/attention_output/einsum/Einsum/ReadVariableOp' type=ReadVariableOp>,\n",
       " <tf.Operation 'transformer/layer_1/self_attention/attention_output/einsum/Einsum' type=Einsum>,\n",
       " <tf.Operation 'transformer/layer_1/self_attention/attention_output/add/ReadVariableOp' type=ReadVariableOp>,\n",
       " <tf.Operation 'transformer/layer_1/self_attention/attention_output/add' type=AddV2>,\n",
       " <tf.Operation 'transformer/layer_1/dropout/Identity' type=Identity>,\n",
       " <tf.Operation 'transformer/layer_1/add' type=AddV2>,\n",
       " <tf.Operation 'transformer/layer_1/self_attention_layer_norm/moments/mean/reduction_indices' type=Const>,\n",
       " <tf.Operation 'transformer/layer_1/self_attention_layer_norm/moments/mean' type=Mean>,\n",
       " <tf.Operation 'transformer/layer_1/self_attention_layer_norm/moments/StopGradient' type=StopGradient>,\n",
       " <tf.Operation 'transformer/layer_1/self_attention_layer_norm/moments/SquaredDifference' type=SquaredDifference>,\n",
       " <tf.Operation 'transformer/layer_1/self_attention_layer_norm/moments/variance/reduction_indices' type=Const>,\n",
       " <tf.Operation 'transformer/layer_1/self_attention_layer_norm/moments/variance' type=Mean>,\n",
       " <tf.Operation 'transformer/layer_1/self_attention_layer_norm/batchnorm/add/y' type=Const>,\n",
       " <tf.Operation 'transformer/layer_1/self_attention_layer_norm/batchnorm/add' type=AddV2>,\n",
       " <tf.Operation 'transformer/layer_1/self_attention_layer_norm/batchnorm/Rsqrt' type=Rsqrt>,\n",
       " <tf.Operation 'transformer/layer_1/self_attention_layer_norm/batchnorm/mul/ReadVariableOp' type=ReadVariableOp>,\n",
       " <tf.Operation 'transformer/layer_1/self_attention_layer_norm/batchnorm/mul' type=Mul>,\n",
       " <tf.Operation 'transformer/layer_1/self_attention_layer_norm/batchnorm/mul_1' type=Mul>,\n",
       " <tf.Operation 'transformer/layer_1/self_attention_layer_norm/batchnorm/mul_2' type=Mul>,\n",
       " <tf.Operation 'transformer/layer_1/self_attention_layer_norm/batchnorm/ReadVariableOp' type=ReadVariableOp>,\n",
       " <tf.Operation 'transformer/layer_1/self_attention_layer_norm/batchnorm/sub' type=Sub>,\n",
       " <tf.Operation 'transformer/layer_1/self_attention_layer_norm/batchnorm/add_1' type=AddV2>,\n",
       " <tf.Operation 'transformer/layer_1/intermediate/einsum/Einsum/ReadVariableOp' type=ReadVariableOp>,\n",
       " <tf.Operation 'transformer/layer_1/intermediate/einsum/Einsum' type=Einsum>,\n",
       " <tf.Operation 'transformer/layer_1/intermediate/add/ReadVariableOp' type=ReadVariableOp>,\n",
       " <tf.Operation 'transformer/layer_1/intermediate/add' type=AddV2>,\n",
       " <tf.Operation 'transformer/layer_1/activation/Gelu/Cast/x' type=Const>,\n",
       " <tf.Operation 'transformer/layer_1/activation/Gelu/mul/x' type=Const>,\n",
       " <tf.Operation 'transformer/layer_1/activation/Gelu/mul' type=Mul>,\n",
       " <tf.Operation 'transformer/layer_1/activation/Gelu/Pow/y' type=Const>,\n",
       " <tf.Operation 'transformer/layer_1/activation/Gelu/Pow' type=Pow>,\n",
       " <tf.Operation 'transformer/layer_1/activation/Gelu/mul_1' type=Mul>,\n",
       " <tf.Operation 'transformer/layer_1/activation/Gelu/add' type=AddV2>,\n",
       " <tf.Operation 'transformer/layer_1/activation/Gelu/mul_2/x' type=Const>,\n",
       " <tf.Operation 'transformer/layer_1/activation/Gelu/mul_2' type=Mul>,\n",
       " <tf.Operation 'transformer/layer_1/activation/Gelu/Tanh' type=Tanh>,\n",
       " <tf.Operation 'transformer/layer_1/activation/Gelu/add_1/x' type=Const>,\n",
       " <tf.Operation 'transformer/layer_1/activation/Gelu/add_1' type=AddV2>,\n",
       " <tf.Operation 'transformer/layer_1/activation/Gelu/mul_3' type=Mul>,\n",
       " <tf.Operation 'transformer/layer_1/dropout_1/Identity' type=Identity>,\n",
       " <tf.Operation 'transformer/layer_1/output/einsum/Einsum/ReadVariableOp' type=ReadVariableOp>,\n",
       " <tf.Operation 'transformer/layer_1/output/einsum/Einsum' type=Einsum>,\n",
       " <tf.Operation 'transformer/layer_1/output/add/ReadVariableOp' type=ReadVariableOp>,\n",
       " <tf.Operation 'transformer/layer_1/output/add' type=AddV2>,\n",
       " <tf.Operation 'transformer/layer_1/dropout_2/Identity' type=Identity>,\n",
       " <tf.Operation 'transformer/layer_1/add_1' type=AddV2>,\n",
       " <tf.Operation 'transformer/layer_1/output_layer_norm/moments/mean/reduction_indices' type=Const>,\n",
       " <tf.Operation 'transformer/layer_1/output_layer_norm/moments/mean' type=Mean>,\n",
       " <tf.Operation 'transformer/layer_1/output_layer_norm/moments/StopGradient' type=StopGradient>,\n",
       " <tf.Operation 'transformer/layer_1/output_layer_norm/moments/SquaredDifference' type=SquaredDifference>,\n",
       " <tf.Operation 'transformer/layer_1/output_layer_norm/moments/variance/reduction_indices' type=Const>,\n",
       " <tf.Operation 'transformer/layer_1/output_layer_norm/moments/variance' type=Mean>,\n",
       " <tf.Operation 'transformer/layer_1/output_layer_norm/batchnorm/add/y' type=Const>,\n",
       " <tf.Operation 'transformer/layer_1/output_layer_norm/batchnorm/add' type=AddV2>,\n",
       " <tf.Operation 'transformer/layer_1/output_layer_norm/batchnorm/Rsqrt' type=Rsqrt>,\n",
       " <tf.Operation 'transformer/layer_1/output_layer_norm/batchnorm/mul/ReadVariableOp' type=ReadVariableOp>,\n",
       " <tf.Operation 'transformer/layer_1/output_layer_norm/batchnorm/mul' type=Mul>,\n",
       " <tf.Operation 'transformer/layer_1/output_layer_norm/batchnorm/mul_1' type=Mul>,\n",
       " <tf.Operation 'transformer/layer_1/output_layer_norm/batchnorm/mul_2' type=Mul>,\n",
       " <tf.Operation 'transformer/layer_1/output_layer_norm/batchnorm/ReadVariableOp' type=ReadVariableOp>,\n",
       " <tf.Operation 'transformer/layer_1/output_layer_norm/batchnorm/sub' type=Sub>,\n",
       " <tf.Operation 'transformer/layer_1/output_layer_norm/batchnorm/add_1' type=AddV2>,\n",
       " <tf.Operation 'transformer/layer_2/self_attention/query/einsum/Einsum/ReadVariableOp' type=ReadVariableOp>,\n",
       " <tf.Operation 'transformer/layer_2/self_attention/query/einsum/Einsum' type=Einsum>,\n",
       " <tf.Operation 'transformer/layer_2/self_attention/query/add/ReadVariableOp' type=ReadVariableOp>,\n",
       " <tf.Operation 'transformer/layer_2/self_attention/query/add' type=AddV2>,\n",
       " <tf.Operation 'transformer/layer_2/self_attention/key/einsum/Einsum/ReadVariableOp' type=ReadVariableOp>,\n",
       " <tf.Operation 'transformer/layer_2/self_attention/key/einsum/Einsum' type=Einsum>,\n",
       " <tf.Operation 'transformer/layer_2/self_attention/key/add/ReadVariableOp' type=ReadVariableOp>,\n",
       " <tf.Operation 'transformer/layer_2/self_attention/key/add' type=AddV2>,\n",
       " <tf.Operation 'transformer/layer_2/self_attention/value/einsum/Einsum/ReadVariableOp' type=ReadVariableOp>,\n",
       " <tf.Operation 'transformer/layer_2/self_attention/value/einsum/Einsum' type=Einsum>,\n",
       " <tf.Operation 'transformer/layer_2/self_attention/value/add/ReadVariableOp' type=ReadVariableOp>,\n",
       " <tf.Operation 'transformer/layer_2/self_attention/value/add' type=AddV2>,\n",
       " <tf.Operation 'transformer/layer_2/self_attention/Mul/y' type=Const>,\n",
       " <tf.Operation 'transformer/layer_2/self_attention/Mul' type=Mul>,\n",
       " <tf.Operation 'transformer/layer_2/self_attention/einsum/Einsum' type=Einsum>,\n",
       " <tf.Operation 'transformer/layer_2/self_attention/ExpandDims/dim' type=Const>,\n",
       " <tf.Operation 'transformer/layer_2/self_attention/ExpandDims' type=ExpandDims>,\n",
       " <tf.Operation 'transformer/layer_2/self_attention/softmax/sub/x' type=Const>,\n",
       " <tf.Operation 'transformer/layer_2/self_attention/softmax/sub' type=Sub>,\n",
       " <tf.Operation 'transformer/layer_2/self_attention/softmax/mul/y' type=Const>,\n",
       " <tf.Operation 'transformer/layer_2/self_attention/softmax/mul' type=Mul>,\n",
       " <tf.Operation 'transformer/layer_2/self_attention/softmax/add' type=AddV2>,\n",
       " <tf.Operation 'transformer/layer_2/self_attention/softmax/Softmax' type=Softmax>,\n",
       " <tf.Operation 'transformer/layer_2/self_attention/dropout_3/Identity' type=Identity>,\n",
       " <tf.Operation 'transformer/layer_2/self_attention/einsum_1/Einsum' type=Einsum>,\n",
       " <tf.Operation 'transformer/layer_2/self_attention/attention_output/einsum/Einsum/ReadVariableOp' type=ReadVariableOp>,\n",
       " <tf.Operation 'transformer/layer_2/self_attention/attention_output/einsum/Einsum' type=Einsum>,\n",
       " <tf.Operation 'transformer/layer_2/self_attention/attention_output/add/ReadVariableOp' type=ReadVariableOp>,\n",
       " <tf.Operation 'transformer/layer_2/self_attention/attention_output/add' type=AddV2>,\n",
       " <tf.Operation 'transformer/layer_2/dropout/Identity' type=Identity>,\n",
       " <tf.Operation 'transformer/layer_2/add' type=AddV2>,\n",
       " <tf.Operation 'transformer/layer_2/self_attention_layer_norm/moments/mean/reduction_indices' type=Const>,\n",
       " <tf.Operation 'transformer/layer_2/self_attention_layer_norm/moments/mean' type=Mean>,\n",
       " <tf.Operation 'transformer/layer_2/self_attention_layer_norm/moments/StopGradient' type=StopGradient>,\n",
       " <tf.Operation 'transformer/layer_2/self_attention_layer_norm/moments/SquaredDifference' type=SquaredDifference>,\n",
       " <tf.Operation 'transformer/layer_2/self_attention_layer_norm/moments/variance/reduction_indices' type=Const>,\n",
       " <tf.Operation 'transformer/layer_2/self_attention_layer_norm/moments/variance' type=Mean>,\n",
       " <tf.Operation 'transformer/layer_2/self_attention_layer_norm/batchnorm/add/y' type=Const>,\n",
       " <tf.Operation 'transformer/layer_2/self_attention_layer_norm/batchnorm/add' type=AddV2>,\n",
       " <tf.Operation 'transformer/layer_2/self_attention_layer_norm/batchnorm/Rsqrt' type=Rsqrt>,\n",
       " <tf.Operation 'transformer/layer_2/self_attention_layer_norm/batchnorm/mul/ReadVariableOp' type=ReadVariableOp>,\n",
       " <tf.Operation 'transformer/layer_2/self_attention_layer_norm/batchnorm/mul' type=Mul>,\n",
       " <tf.Operation 'transformer/layer_2/self_attention_layer_norm/batchnorm/mul_1' type=Mul>,\n",
       " <tf.Operation 'transformer/layer_2/self_attention_layer_norm/batchnorm/mul_2' type=Mul>,\n",
       " <tf.Operation 'transformer/layer_2/self_attention_layer_norm/batchnorm/ReadVariableOp' type=ReadVariableOp>,\n",
       " <tf.Operation 'transformer/layer_2/self_attention_layer_norm/batchnorm/sub' type=Sub>,\n",
       " <tf.Operation 'transformer/layer_2/self_attention_layer_norm/batchnorm/add_1' type=AddV2>,\n",
       " <tf.Operation 'transformer/layer_2/intermediate/einsum/Einsum/ReadVariableOp' type=ReadVariableOp>,\n",
       " <tf.Operation 'transformer/layer_2/intermediate/einsum/Einsum' type=Einsum>,\n",
       " <tf.Operation 'transformer/layer_2/intermediate/add/ReadVariableOp' type=ReadVariableOp>,\n",
       " <tf.Operation 'transformer/layer_2/intermediate/add' type=AddV2>,\n",
       " <tf.Operation 'transformer/layer_2/activation/Gelu/Cast/x' type=Const>,\n",
       " <tf.Operation 'transformer/layer_2/activation/Gelu/mul/x' type=Const>,\n",
       " <tf.Operation 'transformer/layer_2/activation/Gelu/mul' type=Mul>,\n",
       " <tf.Operation 'transformer/layer_2/activation/Gelu/Pow/y' type=Const>,\n",
       " <tf.Operation 'transformer/layer_2/activation/Gelu/Pow' type=Pow>,\n",
       " <tf.Operation 'transformer/layer_2/activation/Gelu/mul_1' type=Mul>,\n",
       " <tf.Operation 'transformer/layer_2/activation/Gelu/add' type=AddV2>,\n",
       " <tf.Operation 'transformer/layer_2/activation/Gelu/mul_2/x' type=Const>,\n",
       " <tf.Operation 'transformer/layer_2/activation/Gelu/mul_2' type=Mul>,\n",
       " <tf.Operation 'transformer/layer_2/activation/Gelu/Tanh' type=Tanh>,\n",
       " <tf.Operation 'transformer/layer_2/activation/Gelu/add_1/x' type=Const>,\n",
       " <tf.Operation 'transformer/layer_2/activation/Gelu/add_1' type=AddV2>,\n",
       " <tf.Operation 'transformer/layer_2/activation/Gelu/mul_3' type=Mul>,\n",
       " <tf.Operation 'transformer/layer_2/dropout_1/Identity' type=Identity>,\n",
       " <tf.Operation 'transformer/layer_2/output/einsum/Einsum/ReadVariableOp' type=ReadVariableOp>,\n",
       " <tf.Operation 'transformer/layer_2/output/einsum/Einsum' type=Einsum>,\n",
       " <tf.Operation 'transformer/layer_2/output/add/ReadVariableOp' type=ReadVariableOp>,\n",
       " <tf.Operation 'transformer/layer_2/output/add' type=AddV2>,\n",
       " <tf.Operation 'transformer/layer_2/dropout_2/Identity' type=Identity>,\n",
       " <tf.Operation 'transformer/layer_2/add_1' type=AddV2>,\n",
       " <tf.Operation 'transformer/layer_2/output_layer_norm/moments/mean/reduction_indices' type=Const>,\n",
       " <tf.Operation 'transformer/layer_2/output_layer_norm/moments/mean' type=Mean>,\n",
       " <tf.Operation 'transformer/layer_2/output_layer_norm/moments/StopGradient' type=StopGradient>,\n",
       " <tf.Operation 'transformer/layer_2/output_layer_norm/moments/SquaredDifference' type=SquaredDifference>,\n",
       " <tf.Operation 'transformer/layer_2/output_layer_norm/moments/variance/reduction_indices' type=Const>,\n",
       " <tf.Operation 'transformer/layer_2/output_layer_norm/moments/variance' type=Mean>,\n",
       " <tf.Operation 'transformer/layer_2/output_layer_norm/batchnorm/add/y' type=Const>,\n",
       " <tf.Operation 'transformer/layer_2/output_layer_norm/batchnorm/add' type=AddV2>,\n",
       " <tf.Operation 'transformer/layer_2/output_layer_norm/batchnorm/Rsqrt' type=Rsqrt>,\n",
       " <tf.Operation 'transformer/layer_2/output_layer_norm/batchnorm/mul/ReadVariableOp' type=ReadVariableOp>,\n",
       " <tf.Operation 'transformer/layer_2/output_layer_norm/batchnorm/mul' type=Mul>,\n",
       " <tf.Operation 'transformer/layer_2/output_layer_norm/batchnorm/mul_1' type=Mul>,\n",
       " <tf.Operation 'transformer/layer_2/output_layer_norm/batchnorm/mul_2' type=Mul>,\n",
       " <tf.Operation 'transformer/layer_2/output_layer_norm/batchnorm/ReadVariableOp' type=ReadVariableOp>,\n",
       " <tf.Operation 'transformer/layer_2/output_layer_norm/batchnorm/sub' type=Sub>,\n",
       " <tf.Operation 'transformer/layer_2/output_layer_norm/batchnorm/add_1' type=AddV2>,\n",
       " <tf.Operation 'transformer/layer_3/self_attention/query/einsum/Einsum/ReadVariableOp' type=ReadVariableOp>,\n",
       " <tf.Operation 'transformer/layer_3/self_attention/query/einsum/Einsum' type=Einsum>,\n",
       " <tf.Operation 'transformer/layer_3/self_attention/query/add/ReadVariableOp' type=ReadVariableOp>,\n",
       " <tf.Operation 'transformer/layer_3/self_attention/query/add' type=AddV2>,\n",
       " <tf.Operation 'transformer/layer_3/self_attention/key/einsum/Einsum/ReadVariableOp' type=ReadVariableOp>,\n",
       " <tf.Operation 'transformer/layer_3/self_attention/key/einsum/Einsum' type=Einsum>,\n",
       " <tf.Operation 'transformer/layer_3/self_attention/key/add/ReadVariableOp' type=ReadVariableOp>,\n",
       " <tf.Operation 'transformer/layer_3/self_attention/key/add' type=AddV2>,\n",
       " <tf.Operation 'transformer/layer_3/self_attention/value/einsum/Einsum/ReadVariableOp' type=ReadVariableOp>,\n",
       " <tf.Operation 'transformer/layer_3/self_attention/value/einsum/Einsum' type=Einsum>,\n",
       " <tf.Operation 'transformer/layer_3/self_attention/value/add/ReadVariableOp' type=ReadVariableOp>,\n",
       " <tf.Operation 'transformer/layer_3/self_attention/value/add' type=AddV2>,\n",
       " <tf.Operation 'transformer/layer_3/self_attention/Mul/y' type=Const>,\n",
       " <tf.Operation 'transformer/layer_3/self_attention/Mul' type=Mul>,\n",
       " <tf.Operation 'transformer/layer_3/self_attention/einsum/Einsum' type=Einsum>,\n",
       " <tf.Operation 'transformer/layer_3/self_attention/ExpandDims/dim' type=Const>,\n",
       " <tf.Operation 'transformer/layer_3/self_attention/ExpandDims' type=ExpandDims>,\n",
       " <tf.Operation 'transformer/layer_3/self_attention/softmax/sub/x' type=Const>,\n",
       " <tf.Operation 'transformer/layer_3/self_attention/softmax/sub' type=Sub>,\n",
       " <tf.Operation 'transformer/layer_3/self_attention/softmax/mul/y' type=Const>,\n",
       " <tf.Operation 'transformer/layer_3/self_attention/softmax/mul' type=Mul>,\n",
       " <tf.Operation 'transformer/layer_3/self_attention/softmax/add' type=AddV2>,\n",
       " <tf.Operation 'transformer/layer_3/self_attention/softmax/Softmax' type=Softmax>,\n",
       " <tf.Operation 'transformer/layer_3/self_attention/dropout_3/Identity' type=Identity>,\n",
       " <tf.Operation 'transformer/layer_3/self_attention/einsum_1/Einsum' type=Einsum>,\n",
       " <tf.Operation 'transformer/layer_3/self_attention/attention_output/einsum/Einsum/ReadVariableOp' type=ReadVariableOp>,\n",
       " <tf.Operation 'transformer/layer_3/self_attention/attention_output/einsum/Einsum' type=Einsum>,\n",
       " <tf.Operation 'transformer/layer_3/self_attention/attention_output/add/ReadVariableOp' type=ReadVariableOp>,\n",
       " <tf.Operation 'transformer/layer_3/self_attention/attention_output/add' type=AddV2>,\n",
       " <tf.Operation 'transformer/layer_3/dropout/Identity' type=Identity>,\n",
       " <tf.Operation 'transformer/layer_3/add' type=AddV2>,\n",
       " <tf.Operation 'transformer/layer_3/self_attention_layer_norm/moments/mean/reduction_indices' type=Const>,\n",
       " <tf.Operation 'transformer/layer_3/self_attention_layer_norm/moments/mean' type=Mean>,\n",
       " <tf.Operation 'transformer/layer_3/self_attention_layer_norm/moments/StopGradient' type=StopGradient>,\n",
       " <tf.Operation 'transformer/layer_3/self_attention_layer_norm/moments/SquaredDifference' type=SquaredDifference>,\n",
       " <tf.Operation 'transformer/layer_3/self_attention_layer_norm/moments/variance/reduction_indices' type=Const>,\n",
       " <tf.Operation 'transformer/layer_3/self_attention_layer_norm/moments/variance' type=Mean>,\n",
       " <tf.Operation 'transformer/layer_3/self_attention_layer_norm/batchnorm/add/y' type=Const>,\n",
       " <tf.Operation 'transformer/layer_3/self_attention_layer_norm/batchnorm/add' type=AddV2>,\n",
       " <tf.Operation 'transformer/layer_3/self_attention_layer_norm/batchnorm/Rsqrt' type=Rsqrt>,\n",
       " <tf.Operation 'transformer/layer_3/self_attention_layer_norm/batchnorm/mul/ReadVariableOp' type=ReadVariableOp>,\n",
       " <tf.Operation 'transformer/layer_3/self_attention_layer_norm/batchnorm/mul' type=Mul>,\n",
       " <tf.Operation 'transformer/layer_3/self_attention_layer_norm/batchnorm/mul_1' type=Mul>,\n",
       " <tf.Operation 'transformer/layer_3/self_attention_layer_norm/batchnorm/mul_2' type=Mul>,\n",
       " <tf.Operation 'transformer/layer_3/self_attention_layer_norm/batchnorm/ReadVariableOp' type=ReadVariableOp>,\n",
       " <tf.Operation 'transformer/layer_3/self_attention_layer_norm/batchnorm/sub' type=Sub>,\n",
       " <tf.Operation 'transformer/layer_3/self_attention_layer_norm/batchnorm/add_1' type=AddV2>,\n",
       " <tf.Operation 'transformer/layer_3/intermediate/einsum/Einsum/ReadVariableOp' type=ReadVariableOp>,\n",
       " <tf.Operation 'transformer/layer_3/intermediate/einsum/Einsum' type=Einsum>,\n",
       " <tf.Operation 'transformer/layer_3/intermediate/add/ReadVariableOp' type=ReadVariableOp>,\n",
       " <tf.Operation 'transformer/layer_3/intermediate/add' type=AddV2>,\n",
       " <tf.Operation 'transformer/layer_3/activation/Gelu/Cast/x' type=Const>,\n",
       " <tf.Operation 'transformer/layer_3/activation/Gelu/mul/x' type=Const>,\n",
       " <tf.Operation 'transformer/layer_3/activation/Gelu/mul' type=Mul>,\n",
       " <tf.Operation 'transformer/layer_3/activation/Gelu/Pow/y' type=Const>,\n",
       " <tf.Operation 'transformer/layer_3/activation/Gelu/Pow' type=Pow>,\n",
       " <tf.Operation 'transformer/layer_3/activation/Gelu/mul_1' type=Mul>,\n",
       " <tf.Operation 'transformer/layer_3/activation/Gelu/add' type=AddV2>,\n",
       " <tf.Operation 'transformer/layer_3/activation/Gelu/mul_2/x' type=Const>,\n",
       " <tf.Operation 'transformer/layer_3/activation/Gelu/mul_2' type=Mul>,\n",
       " <tf.Operation 'transformer/layer_3/activation/Gelu/Tanh' type=Tanh>,\n",
       " <tf.Operation 'transformer/layer_3/activation/Gelu/add_1/x' type=Const>,\n",
       " <tf.Operation 'transformer/layer_3/activation/Gelu/add_1' type=AddV2>,\n",
       " <tf.Operation 'transformer/layer_3/activation/Gelu/mul_3' type=Mul>,\n",
       " <tf.Operation 'transformer/layer_3/dropout_1/Identity' type=Identity>,\n",
       " <tf.Operation 'transformer/layer_3/output/einsum/Einsum/ReadVariableOp' type=ReadVariableOp>,\n",
       " <tf.Operation 'transformer/layer_3/output/einsum/Einsum' type=Einsum>,\n",
       " <tf.Operation 'transformer/layer_3/output/add/ReadVariableOp' type=ReadVariableOp>,\n",
       " <tf.Operation 'transformer/layer_3/output/add' type=AddV2>,\n",
       " <tf.Operation 'transformer/layer_3/dropout_2/Identity' type=Identity>,\n",
       " <tf.Operation 'transformer/layer_3/add_1' type=AddV2>,\n",
       " <tf.Operation 'transformer/layer_3/output_layer_norm/moments/mean/reduction_indices' type=Const>,\n",
       " <tf.Operation 'transformer/layer_3/output_layer_norm/moments/mean' type=Mean>,\n",
       " <tf.Operation 'transformer/layer_3/output_layer_norm/moments/StopGradient' type=StopGradient>,\n",
       " <tf.Operation 'transformer/layer_3/output_layer_norm/moments/SquaredDifference' type=SquaredDifference>,\n",
       " <tf.Operation 'transformer/layer_3/output_layer_norm/moments/variance/reduction_indices' type=Const>,\n",
       " <tf.Operation 'transformer/layer_3/output_layer_norm/moments/variance' type=Mean>,\n",
       " <tf.Operation 'transformer/layer_3/output_layer_norm/batchnorm/add/y' type=Const>,\n",
       " <tf.Operation 'transformer/layer_3/output_layer_norm/batchnorm/add' type=AddV2>,\n",
       " <tf.Operation 'transformer/layer_3/output_layer_norm/batchnorm/Rsqrt' type=Rsqrt>,\n",
       " <tf.Operation 'transformer/layer_3/output_layer_norm/batchnorm/mul/ReadVariableOp' type=ReadVariableOp>,\n",
       " <tf.Operation 'transformer/layer_3/output_layer_norm/batchnorm/mul' type=Mul>,\n",
       " <tf.Operation 'transformer/layer_3/output_layer_norm/batchnorm/mul_1' type=Mul>,\n",
       " <tf.Operation 'transformer/layer_3/output_layer_norm/batchnorm/mul_2' type=Mul>,\n",
       " <tf.Operation 'transformer/layer_3/output_layer_norm/batchnorm/ReadVariableOp' type=ReadVariableOp>,\n",
       " <tf.Operation 'transformer/layer_3/output_layer_norm/batchnorm/sub' type=Sub>,\n",
       " <tf.Operation 'transformer/layer_3/output_layer_norm/batchnorm/add_1' type=AddV2>,\n",
       " <tf.Operation 'tf.__operators__.getitem/strided_slice/stack' type=Const>,\n",
       " <tf.Operation 'tf.__operators__.getitem/strided_slice/stack_1' type=Const>,\n",
       " <tf.Operation 'tf.__operators__.getitem/strided_slice/stack_2' type=Const>,\n",
       " <tf.Operation 'tf.__operators__.getitem/strided_slice' type=StridedSlice>,\n",
       " <tf.Operation 'pooler_transform/MatMul/ReadVariableOp' type=ReadVariableOp>,\n",
       " <tf.Operation 'pooler_transform/MatMul' type=MatMul>,\n",
       " <tf.Operation 'pooler_transform/BiasAdd/ReadVariableOp' type=ReadVariableOp>,\n",
       " <tf.Operation 'pooler_transform/BiasAdd' type=BiasAdd>,\n",
       " <tf.Operation 'pooler_transform/Tanh' type=Tanh>,\n",
       " <tf.Operation 'NoOp' type=NoOp>,\n",
       " <tf.Operation 'Identity' type=Identity>,\n",
       " <tf.Operation 'Identity_1' type=Identity>,\n",
       " <tf.Operation 'Identity_2' type=Identity>,\n",
       " <tf.Operation 'Identity_3' type=Identity>,\n",
       " <tf.Operation 'Identity_4' type=Identity>,\n",
       " <tf.Operation 'Identity_5' type=Identity>,\n",
       " <tf.Operation 'gradients/grad_ys_0' type=Identity>,\n",
       " <tf.Operation 'gradients/transformer/layer_3/output_layer_norm/batchnorm/add_1_grad/Shape' type=Shape>,\n",
       " <tf.Operation 'gradients/transformer/layer_3/output_layer_norm/batchnorm/add_1_grad/Shape_1' type=Shape>,\n",
       " <tf.Operation 'gradients/transformer/layer_3/output_layer_norm/batchnorm/add_1_grad/BroadcastGradientArgs' type=BroadcastGradientArgs>,\n",
       " <tf.Operation 'gradients/transformer/layer_3/output_layer_norm/batchnorm/add_1_grad/Sum' type=Sum>,\n",
       " <tf.Operation 'gradients/transformer/layer_3/output_layer_norm/batchnorm/add_1_grad/Reshape' type=Reshape>,\n",
       " <tf.Operation 'gradients/transformer/layer_3/output_layer_norm/batchnorm/add_1_grad/Sum_1' type=Sum>,\n",
       " <tf.Operation 'gradients/transformer/layer_3/output_layer_norm/batchnorm/add_1_grad/Reshape_1' type=Reshape>,\n",
       " <tf.Operation 'gradients/transformer/layer_3/output_layer_norm/batchnorm/mul_1_grad/Shape' type=Shape>,\n",
       " <tf.Operation 'gradients/transformer/layer_3/output_layer_norm/batchnorm/mul_1_grad/Shape_1' type=Shape>,\n",
       " <tf.Operation 'gradients/transformer/layer_3/output_layer_norm/batchnorm/mul_1_grad/BroadcastGradientArgs' type=BroadcastGradientArgs>,\n",
       " <tf.Operation 'gradients/transformer/layer_3/output_layer_norm/batchnorm/mul_1_grad/Mul' type=Mul>,\n",
       " <tf.Operation 'gradients/transformer/layer_3/output_layer_norm/batchnorm/mul_1_grad/Sum' type=Sum>,\n",
       " <tf.Operation 'gradients/transformer/layer_3/output_layer_norm/batchnorm/mul_1_grad/Reshape' type=Reshape>,\n",
       " <tf.Operation 'gradients/transformer/layer_3/output_layer_norm/batchnorm/mul_1_grad/Mul_1' type=Mul>,\n",
       " <tf.Operation 'gradients/transformer/layer_3/output_layer_norm/batchnorm/mul_1_grad/Sum_1' type=Sum>,\n",
       " <tf.Operation 'gradients/transformer/layer_3/output_layer_norm/batchnorm/mul_1_grad/Reshape_1' type=Reshape>,\n",
       " <tf.Operation 'gradients/transformer/layer_3/output_layer_norm/batchnorm/sub_grad/Shape' type=Shape>,\n",
       " <tf.Operation 'gradients/transformer/layer_3/output_layer_norm/batchnorm/sub_grad/Shape_1' type=Shape>,\n",
       " <tf.Operation 'gradients/transformer/layer_3/output_layer_norm/batchnorm/sub_grad/BroadcastGradientArgs' type=BroadcastGradientArgs>,\n",
       " <tf.Operation 'gradients/transformer/layer_3/output_layer_norm/batchnorm/sub_grad/Sum' type=Sum>,\n",
       " <tf.Operation 'gradients/transformer/layer_3/output_layer_norm/batchnorm/sub_grad/Reshape' type=Reshape>,\n",
       " <tf.Operation 'gradients/transformer/layer_3/output_layer_norm/batchnorm/sub_grad/Neg' type=Neg>,\n",
       " <tf.Operation 'gradients/transformer/layer_3/output_layer_norm/batchnorm/sub_grad/Sum_1' type=Sum>,\n",
       " <tf.Operation 'gradients/transformer/layer_3/output_layer_norm/batchnorm/sub_grad/Reshape_1' type=Reshape>,\n",
       " <tf.Operation 'gradients/transformer/layer_3/output_layer_norm/batchnorm/mul_2_grad/Shape' type=Shape>,\n",
       " <tf.Operation 'gradients/transformer/layer_3/output_layer_norm/batchnorm/mul_2_grad/Shape_1' type=Shape>,\n",
       " <tf.Operation 'gradients/transformer/layer_3/output_layer_norm/batchnorm/mul_2_grad/BroadcastGradientArgs' type=BroadcastGradientArgs>,\n",
       " <tf.Operation 'gradients/transformer/layer_3/output_layer_norm/batchnorm/mul_2_grad/Mul' type=Mul>,\n",
       " <tf.Operation 'gradients/transformer/layer_3/output_layer_norm/batchnorm/mul_2_grad/Sum' type=Sum>,\n",
       " <tf.Operation 'gradients/transformer/layer_3/output_layer_norm/batchnorm/mul_2_grad/Reshape' type=Reshape>,\n",
       " <tf.Operation 'gradients/transformer/layer_3/output_layer_norm/batchnorm/mul_2_grad/Mul_1' type=Mul>,\n",
       " <tf.Operation 'gradients/transformer/layer_3/output_layer_norm/batchnorm/mul_2_grad/Sum_1' type=Sum>,\n",
       " <tf.Operation 'gradients/transformer/layer_3/output_layer_norm/batchnorm/mul_2_grad/Reshape_1' type=Reshape>,\n",
       " <tf.Operation 'gradients/AddN' type=AddN>,\n",
       " <tf.Operation 'gradients/transformer/layer_3/output_layer_norm/batchnorm/mul_grad/Shape' type=Shape>,\n",
       " <tf.Operation 'gradients/transformer/layer_3/output_layer_norm/batchnorm/mul_grad/Shape_1' type=Shape>,\n",
       " <tf.Operation 'gradients/transformer/layer_3/output_layer_norm/batchnorm/mul_grad/BroadcastGradientArgs' type=BroadcastGradientArgs>,\n",
       " <tf.Operation 'gradients/transformer/layer_3/output_layer_norm/batchnorm/mul_grad/Mul' type=Mul>,\n",
       " <tf.Operation 'gradients/transformer/layer_3/output_layer_norm/batchnorm/mul_grad/Sum' type=Sum>,\n",
       " <tf.Operation 'gradients/transformer/layer_3/output_layer_norm/batchnorm/mul_grad/Reshape' type=Reshape>,\n",
       " <tf.Operation 'gradients/transformer/layer_3/output_layer_norm/batchnorm/mul_grad/Mul_1' type=Mul>,\n",
       " <tf.Operation 'gradients/transformer/layer_3/output_layer_norm/batchnorm/mul_grad/Sum_1' type=Sum>,\n",
       " <tf.Operation 'gradients/transformer/layer_3/output_layer_norm/batchnorm/mul_grad/Reshape_1' type=Reshape>,\n",
       " <tf.Operation 'gradients/transformer/layer_3/output_layer_norm/batchnorm/Rsqrt_grad/RsqrtGrad' type=RsqrtGrad>,\n",
       " <tf.Operation 'gradients/transformer/layer_3/output_layer_norm/batchnorm/add_grad/Shape' type=Shape>,\n",
       " <tf.Operation 'gradients/transformer/layer_3/output_layer_norm/batchnorm/add_grad/Shape_1' type=Shape>,\n",
       " <tf.Operation 'gradients/transformer/layer_3/output_layer_norm/batchnorm/add_grad/BroadcastGradientArgs' type=BroadcastGradientArgs>,\n",
       " <tf.Operation 'gradients/transformer/layer_3/output_layer_norm/batchnorm/add_grad/Sum' type=Sum>,\n",
       " <tf.Operation 'gradients/transformer/layer_3/output_layer_norm/batchnorm/add_grad/Reshape' type=Reshape>,\n",
       " <tf.Operation 'gradients/transformer/layer_3/output_layer_norm/batchnorm/add_grad/Sum_1' type=Sum>,\n",
       " <tf.Operation 'gradients/transformer/layer_3/output_layer_norm/batchnorm/add_grad/Reshape_1' type=Reshape>,\n",
       " <tf.Operation 'gradients/transformer/layer_3/output_layer_norm/moments/variance_grad/Shape' type=Shape>,\n",
       " <tf.Operation 'gradients/transformer/layer_3/output_layer_norm/moments/variance_grad/BroadcastTo' type=BroadcastTo>,\n",
       " <tf.Operation 'gradients/transformer/layer_3/output_layer_norm/moments/variance_grad/Shape_1' type=Shape>,\n",
       " <tf.Operation 'gradients/transformer/layer_3/output_layer_norm/moments/variance_grad/Shape_2' type=Shape>,\n",
       " <tf.Operation 'gradients/transformer/layer_3/output_layer_norm/moments/variance_grad/Const' type=Const>,\n",
       " <tf.Operation 'gradients/transformer/layer_3/output_layer_norm/moments/variance_grad/Prod' type=Prod>,\n",
       " <tf.Operation 'gradients/transformer/layer_3/output_layer_norm/moments/variance_grad/Const_1' type=Const>,\n",
       " <tf.Operation 'gradients/transformer/layer_3/output_layer_norm/moments/variance_grad/Prod_1' type=Prod>,\n",
       " <tf.Operation 'gradients/transformer/layer_3/output_layer_norm/moments/variance_grad/Maximum/y' type=Const>,\n",
       " <tf.Operation 'gradients/transformer/layer_3/output_layer_norm/moments/variance_grad/Maximum' type=Maximum>,\n",
       " <tf.Operation 'gradients/transformer/layer_3/output_layer_norm/moments/variance_grad/floordiv' type=FloorDiv>,\n",
       " <tf.Operation 'gradients/transformer/layer_3/output_layer_norm/moments/variance_grad/Cast' type=Cast>,\n",
       " <tf.Operation 'gradients/transformer/layer_3/output_layer_norm/moments/variance_grad/truediv' type=RealDiv>,\n",
       " <tf.Operation 'gradients/transformer/layer_3/output_layer_norm/moments/SquaredDifference_grad/scalar' type=Const>,\n",
       " <tf.Operation 'gradients/transformer/layer_3/output_layer_norm/moments/SquaredDifference_grad/Mul' type=Mul>,\n",
       " <tf.Operation 'gradients/transformer/layer_3/output_layer_norm/moments/SquaredDifference_grad/sub' type=Sub>,\n",
       " <tf.Operation 'gradients/transformer/layer_3/output_layer_norm/moments/SquaredDifference_grad/mul_1' type=Mul>,\n",
       " <tf.Operation 'gradients/transformer/layer_3/output_layer_norm/moments/SquaredDifference_grad/Shape' type=Shape>,\n",
       " <tf.Operation 'gradients/transformer/layer_3/output_layer_norm/moments/SquaredDifference_grad/Shape_1' type=Shape>,\n",
       " <tf.Operation 'gradients/transformer/layer_3/output_layer_norm/moments/SquaredDifference_grad/BroadcastGradientArgs' type=BroadcastGradientArgs>,\n",
       " <tf.Operation 'gradients/transformer/layer_3/output_layer_norm/moments/SquaredDifference_grad/Sum' type=Sum>,\n",
       " <tf.Operation 'gradients/transformer/layer_3/output_layer_norm/moments/SquaredDifference_grad/Reshape' type=Reshape>,\n",
       " <tf.Operation 'gradients/transformer/layer_3/output_layer_norm/moments/SquaredDifference_grad/Sum_1' type=Sum>,\n",
       " <tf.Operation 'gradients/transformer/layer_3/output_layer_norm/moments/SquaredDifference_grad/Reshape_1' type=Reshape>,\n",
       " <tf.Operation 'gradients/transformer/layer_3/output_layer_norm/moments/SquaredDifference_grad/Neg' type=Neg>,\n",
       " <tf.Operation 'gradients/transformer/layer_3/output_layer_norm/moments/mean_grad/Shape' type=Shape>,\n",
       " <tf.Operation 'gradients/transformer/layer_3/output_layer_norm/moments/mean_grad/BroadcastTo' type=BroadcastTo>,\n",
       " <tf.Operation 'gradients/transformer/layer_3/output_layer_norm/moments/mean_grad/Shape_1' type=Shape>,\n",
       " <tf.Operation 'gradients/transformer/layer_3/output_layer_norm/moments/mean_grad/Shape_2' type=Shape>,\n",
       " <tf.Operation 'gradients/transformer/layer_3/output_layer_norm/moments/mean_grad/Const' type=Const>,\n",
       " <tf.Operation 'gradients/transformer/layer_3/output_layer_norm/moments/mean_grad/Prod' type=Prod>,\n",
       " <tf.Operation 'gradients/transformer/layer_3/output_layer_norm/moments/mean_grad/Const_1' type=Const>,\n",
       " <tf.Operation 'gradients/transformer/layer_3/output_layer_norm/moments/mean_grad/Prod_1' type=Prod>,\n",
       " <tf.Operation 'gradients/transformer/layer_3/output_layer_norm/moments/mean_grad/Maximum/y' type=Const>,\n",
       " <tf.Operation 'gradients/transformer/layer_3/output_layer_norm/moments/mean_grad/Maximum' type=Maximum>,\n",
       " <tf.Operation 'gradients/transformer/layer_3/output_layer_norm/moments/mean_grad/floordiv' type=FloorDiv>,\n",
       " <tf.Operation 'gradients/transformer/layer_3/output_layer_norm/moments/mean_grad/Cast' type=Cast>,\n",
       " <tf.Operation 'gradients/transformer/layer_3/output_layer_norm/moments/mean_grad/truediv' type=RealDiv>,\n",
       " <tf.Operation 'gradients/AddN_1' type=AddN>,\n",
       " <tf.Operation 'gradients/transformer/layer_3/add_1_grad/Shape' type=Shape>,\n",
       " <tf.Operation 'gradients/transformer/layer_3/add_1_grad/Shape_1' type=Shape>,\n",
       " <tf.Operation 'gradients/transformer/layer_3/add_1_grad/BroadcastGradientArgs' type=BroadcastGradientArgs>,\n",
       " <tf.Operation 'gradients/transformer/layer_3/add_1_grad/Sum' type=Sum>,\n",
       " <tf.Operation 'gradients/transformer/layer_3/add_1_grad/Reshape' type=Reshape>,\n",
       " <tf.Operation 'gradients/transformer/layer_3/add_1_grad/Sum_1' type=Sum>,\n",
       " <tf.Operation 'gradients/transformer/layer_3/add_1_grad/Reshape_1' type=Reshape>,\n",
       " <tf.Operation 'gradients/transformer/layer_3/output/add_grad/Shape' type=Shape>,\n",
       " <tf.Operation 'gradients/transformer/layer_3/output/add_grad/Shape_1' type=Shape>,\n",
       " <tf.Operation 'gradients/transformer/layer_3/output/add_grad/BroadcastGradientArgs' type=BroadcastGradientArgs>,\n",
       " <tf.Operation 'gradients/transformer/layer_3/output/add_grad/Sum' type=Sum>,\n",
       " <tf.Operation 'gradients/transformer/layer_3/output/add_grad/Reshape' type=Reshape>,\n",
       " <tf.Operation 'gradients/transformer/layer_3/output/add_grad/Sum_1' type=Sum>,\n",
       " <tf.Operation 'gradients/transformer/layer_3/output/add_grad/Reshape_1' type=Reshape>,\n",
       " <tf.Operation 'gradients/transformer/layer_3/output/einsum/Einsum_grad/Shape' type=Shape>,\n",
       " <tf.Operation 'gradients/transformer/layer_3/output/einsum/Einsum_grad/Shape_1' type=Const>,\n",
       " <tf.Operation 'gradients/transformer/layer_3/output/einsum/Einsum_grad/Einsum' type=Einsum>,\n",
       " <tf.Operation 'gradients/transformer/layer_3/output/einsum/Einsum_grad/Einsum_1' type=Einsum>,\n",
       " <tf.Operation 'gradients/transformer/layer_3/activation/Gelu/mul_3_grad/Shape' type=Shape>,\n",
       " <tf.Operation 'gradients/transformer/layer_3/activation/Gelu/mul_3_grad/Shape_1' type=Shape>,\n",
       " <tf.Operation 'gradients/transformer/layer_3/activation/Gelu/mul_3_grad/BroadcastGradientArgs' type=BroadcastGradientArgs>,\n",
       " <tf.Operation 'gradients/transformer/layer_3/activation/Gelu/mul_3_grad/Mul' type=Mul>,\n",
       " <tf.Operation 'gradients/transformer/layer_3/activation/Gelu/mul_3_grad/Sum' type=Sum>,\n",
       " <tf.Operation 'gradients/transformer/layer_3/activation/Gelu/mul_3_grad/Reshape' type=Reshape>,\n",
       " <tf.Operation 'gradients/transformer/layer_3/activation/Gelu/mul_3_grad/Mul_1' type=Mul>,\n",
       " <tf.Operation 'gradients/transformer/layer_3/activation/Gelu/mul_3_grad/Sum_1' type=Sum>,\n",
       " <tf.Operation 'gradients/transformer/layer_3/activation/Gelu/mul_3_grad/Reshape_1' type=Reshape>,\n",
       " <tf.Operation 'gradients/transformer/layer_3/activation/Gelu/mul_grad/Shape' type=Shape>,\n",
       " <tf.Operation 'gradients/transformer/layer_3/activation/Gelu/mul_grad/Shape_1' type=Shape>,\n",
       " <tf.Operation 'gradients/transformer/layer_3/activation/Gelu/mul_grad/BroadcastGradientArgs' type=BroadcastGradientArgs>,\n",
       " <tf.Operation 'gradients/transformer/layer_3/activation/Gelu/mul_grad/Mul' type=Mul>,\n",
       " <tf.Operation 'gradients/transformer/layer_3/activation/Gelu/mul_grad/Sum' type=Sum>,\n",
       " <tf.Operation 'gradients/transformer/layer_3/activation/Gelu/mul_grad/Reshape' type=Reshape>,\n",
       " <tf.Operation 'gradients/transformer/layer_3/activation/Gelu/mul_grad/Mul_1' type=Mul>,\n",
       " <tf.Operation 'gradients/transformer/layer_3/activation/Gelu/mul_grad/Sum_1' type=Sum>,\n",
       " <tf.Operation 'gradients/transformer/layer_3/activation/Gelu/mul_grad/Reshape_1' type=Reshape>,\n",
       " <tf.Operation 'gradients/transformer/layer_3/activation/Gelu/add_1_grad/Shape' type=Shape>,\n",
       " <tf.Operation 'gradients/transformer/layer_3/activation/Gelu/add_1_grad/Shape_1' type=Shape>,\n",
       " <tf.Operation 'gradients/transformer/layer_3/activation/Gelu/add_1_grad/BroadcastGradientArgs' type=BroadcastGradientArgs>,\n",
       " <tf.Operation 'gradients/transformer/layer_3/activation/Gelu/add_1_grad/Sum' type=Sum>,\n",
       " <tf.Operation 'gradients/transformer/layer_3/activation/Gelu/add_1_grad/Reshape' type=Reshape>,\n",
       " <tf.Operation 'gradients/transformer/layer_3/activation/Gelu/add_1_grad/Sum_1' type=Sum>,\n",
       " <tf.Operation 'gradients/transformer/layer_3/activation/Gelu/add_1_grad/Reshape_1' type=Reshape>,\n",
       " <tf.Operation 'gradients/transformer/layer_3/activation/Gelu/Tanh_grad/TanhGrad' type=TanhGrad>,\n",
       " <tf.Operation 'gradients/transformer/layer_3/activation/Gelu/mul_2_grad/Shape' type=Shape>,\n",
       " <tf.Operation 'gradients/transformer/layer_3/activation/Gelu/mul_2_grad/Shape_1' type=Shape>,\n",
       " <tf.Operation 'gradients/transformer/layer_3/activation/Gelu/mul_2_grad/BroadcastGradientArgs' type=BroadcastGradientArgs>,\n",
       " <tf.Operation 'gradients/transformer/layer_3/activation/Gelu/mul_2_grad/Mul' type=Mul>,\n",
       " <tf.Operation 'gradients/transformer/layer_3/activation/Gelu/mul_2_grad/Sum' type=Sum>,\n",
       " <tf.Operation 'gradients/transformer/layer_3/activation/Gelu/mul_2_grad/Reshape' type=Reshape>,\n",
       " <tf.Operation 'gradients/transformer/layer_3/activation/Gelu/mul_2_grad/Mul_1' type=Mul>,\n",
       " <tf.Operation 'gradients/transformer/layer_3/activation/Gelu/mul_2_grad/Sum_1' type=Sum>,\n",
       " <tf.Operation 'gradients/transformer/layer_3/activation/Gelu/mul_2_grad/Reshape_1' type=Reshape>,\n",
       " <tf.Operation 'gradients/transformer/layer_3/activation/Gelu/add_grad/Shape' type=Shape>,\n",
       " <tf.Operation 'gradients/transformer/layer_3/activation/Gelu/add_grad/Shape_1' type=Shape>,\n",
       " <tf.Operation 'gradients/transformer/layer_3/activation/Gelu/add_grad/BroadcastGradientArgs' type=BroadcastGradientArgs>,\n",
       " <tf.Operation 'gradients/transformer/layer_3/activation/Gelu/add_grad/Sum' type=Sum>,\n",
       " <tf.Operation 'gradients/transformer/layer_3/activation/Gelu/add_grad/Reshape' type=Reshape>,\n",
       " <tf.Operation 'gradients/transformer/layer_3/activation/Gelu/add_grad/Sum_1' type=Sum>,\n",
       " <tf.Operation 'gradients/transformer/layer_3/activation/Gelu/add_grad/Reshape_1' type=Reshape>,\n",
       " <tf.Operation 'gradients/transformer/layer_3/activation/Gelu/mul_1_grad/Shape' type=Shape>,\n",
       " <tf.Operation 'gradients/transformer/layer_3/activation/Gelu/mul_1_grad/Shape_1' type=Shape>,\n",
       " <tf.Operation 'gradients/transformer/layer_3/activation/Gelu/mul_1_grad/BroadcastGradientArgs' type=BroadcastGradientArgs>,\n",
       " <tf.Operation 'gradients/transformer/layer_3/activation/Gelu/mul_1_grad/Mul' type=Mul>,\n",
       " <tf.Operation 'gradients/transformer/layer_3/activation/Gelu/mul_1_grad/Sum' type=Sum>,\n",
       " <tf.Operation 'gradients/transformer/layer_3/activation/Gelu/mul_1_grad/Reshape' type=Reshape>,\n",
       " <tf.Operation 'gradients/transformer/layer_3/activation/Gelu/mul_1_grad/Mul_1' type=Mul>,\n",
       " <tf.Operation 'gradients/transformer/layer_3/activation/Gelu/mul_1_grad/Sum_1' type=Sum>,\n",
       " <tf.Operation 'gradients/transformer/layer_3/activation/Gelu/mul_1_grad/Reshape_1' type=Reshape>,\n",
       " <tf.Operation 'gradients/transformer/layer_3/activation/Gelu/Pow_grad/Shape' type=Shape>,\n",
       " <tf.Operation 'gradients/transformer/layer_3/activation/Gelu/Pow_grad/Shape_1' type=Shape>,\n",
       " <tf.Operation 'gradients/transformer/layer_3/activation/Gelu/Pow_grad/BroadcastGradientArgs' type=BroadcastGradientArgs>,\n",
       " <tf.Operation 'gradients/transformer/layer_3/activation/Gelu/Pow_grad/mul' type=Mul>,\n",
       " <tf.Operation 'gradients/transformer/layer_3/activation/Gelu/Pow_grad/sub/y' type=Const>,\n",
       " <tf.Operation 'gradients/transformer/layer_3/activation/Gelu/Pow_grad/sub' type=Sub>,\n",
       " <tf.Operation 'gradients/transformer/layer_3/activation/Gelu/Pow_grad/Pow' type=Pow>,\n",
       " <tf.Operation 'gradients/transformer/layer_3/activation/Gelu/Pow_grad/mul_1' type=Mul>,\n",
       " <tf.Operation 'gradients/transformer/layer_3/activation/Gelu/Pow_grad/Sum' type=Sum>,\n",
       " <tf.Operation 'gradients/transformer/layer_3/activation/Gelu/Pow_grad/Reshape' type=Reshape>,\n",
       " <tf.Operation 'gradients/transformer/layer_3/activation/Gelu/Pow_grad/Greater/y' type=Const>,\n",
       " <tf.Operation 'gradients/transformer/layer_3/activation/Gelu/Pow_grad/Greater' type=Greater>,\n",
       " <tf.Operation 'gradients/transformer/layer_3/activation/Gelu/Pow_grad/ones_like/Shape' type=Shape>,\n",
       " <tf.Operation 'gradients/transformer/layer_3/activation/Gelu/Pow_grad/ones_like/Const' type=Const>,\n",
       " <tf.Operation 'gradients/transformer/layer_3/activation/Gelu/Pow_grad/ones_like' type=Fill>,\n",
       " <tf.Operation 'gradients/transformer/layer_3/activation/Gelu/Pow_grad/Select' type=Select>,\n",
       " <tf.Operation 'gradients/transformer/layer_3/activation/Gelu/Pow_grad/Log' type=Log>,\n",
       " <tf.Operation 'gradients/transformer/layer_3/activation/Gelu/Pow_grad/zeros_like' type=ZerosLike>,\n",
       " <tf.Operation 'gradients/transformer/layer_3/activation/Gelu/Pow_grad/Select_1' type=Select>,\n",
       " <tf.Operation 'gradients/transformer/layer_3/activation/Gelu/Pow_grad/mul_2' type=Mul>,\n",
       " <tf.Operation 'gradients/transformer/layer_3/activation/Gelu/Pow_grad/mul_3' type=Mul>,\n",
       " <tf.Operation 'gradients/transformer/layer_3/activation/Gelu/Pow_grad/Sum_1' type=Sum>,\n",
       " <tf.Operation 'gradients/transformer/layer_3/activation/Gelu/Pow_grad/Reshape_1' type=Reshape>,\n",
       " <tf.Operation 'gradients/AddN_2' type=AddN>,\n",
       " <tf.Operation 'gradients/transformer/layer_3/intermediate/add_grad/Shape' type=Shape>,\n",
       " <tf.Operation 'gradients/transformer/layer_3/intermediate/add_grad/Shape_1' type=Shape>,\n",
       " <tf.Operation 'gradients/transformer/layer_3/intermediate/add_grad/BroadcastGradientArgs' type=BroadcastGradientArgs>,\n",
       " <tf.Operation 'gradients/transformer/layer_3/intermediate/add_grad/Sum' type=Sum>,\n",
       " <tf.Operation 'gradients/transformer/layer_3/intermediate/add_grad/Reshape' type=Reshape>,\n",
       " <tf.Operation 'gradients/transformer/layer_3/intermediate/add_grad/Sum_1' type=Sum>,\n",
       " <tf.Operation 'gradients/transformer/layer_3/intermediate/add_grad/Reshape_1' type=Reshape>,\n",
       " <tf.Operation 'gradients/transformer/layer_3/intermediate/einsum/Einsum_grad/Shape' type=Shape>,\n",
       " <tf.Operation 'gradients/transformer/layer_3/intermediate/einsum/Einsum_grad/Shape_1' type=Const>,\n",
       " <tf.Operation 'gradients/transformer/layer_3/intermediate/einsum/Einsum_grad/Einsum' type=Einsum>,\n",
       " <tf.Operation 'gradients/transformer/layer_3/intermediate/einsum/Einsum_grad/Einsum_1' type=Einsum>,\n",
       " <tf.Operation 'gradients/AddN_3' type=AddN>,\n",
       " <tf.Operation 'gradients/transformer/layer_3/self_attention_layer_norm/batchnorm/add_1_grad/Shape' type=Shape>,\n",
       " <tf.Operation 'gradients/transformer/layer_3/self_attention_layer_norm/batchnorm/add_1_grad/Shape_1' type=Shape>,\n",
       " <tf.Operation 'gradients/transformer/layer_3/self_attention_layer_norm/batchnorm/add_1_grad/BroadcastGradientArgs' type=BroadcastGradientArgs>,\n",
       " <tf.Operation 'gradients/transformer/layer_3/self_attention_layer_norm/batchnorm/add_1_grad/Sum' type=Sum>,\n",
       " <tf.Operation 'gradients/transformer/layer_3/self_attention_layer_norm/batchnorm/add_1_grad/Reshape' type=Reshape>,\n",
       " <tf.Operation 'gradients/transformer/layer_3/self_attention_layer_norm/batchnorm/add_1_grad/Sum_1' type=Sum>,\n",
       " <tf.Operation 'gradients/transformer/layer_3/self_attention_layer_norm/batchnorm/add_1_grad/Reshape_1' type=Reshape>,\n",
       " <tf.Operation 'gradients/transformer/layer_3/self_attention_layer_norm/batchnorm/mul_1_grad/Shape' type=Shape>,\n",
       " <tf.Operation 'gradients/transformer/layer_3/self_attention_layer_norm/batchnorm/mul_1_grad/Shape_1' type=Shape>,\n",
       " <tf.Operation 'gradients/transformer/layer_3/self_attention_layer_norm/batchnorm/mul_1_grad/BroadcastGradientArgs' type=BroadcastGradientArgs>,\n",
       " <tf.Operation 'gradients/transformer/layer_3/self_attention_layer_norm/batchnorm/mul_1_grad/Mul' type=Mul>,\n",
       " <tf.Operation 'gradients/transformer/layer_3/self_attention_layer_norm/batchnorm/mul_1_grad/Sum' type=Sum>,\n",
       " <tf.Operation 'gradients/transformer/layer_3/self_attention_layer_norm/batchnorm/mul_1_grad/Reshape' type=Reshape>,\n",
       " <tf.Operation 'gradients/transformer/layer_3/self_attention_layer_norm/batchnorm/mul_1_grad/Mul_1' type=Mul>,\n",
       " <tf.Operation 'gradients/transformer/layer_3/self_attention_layer_norm/batchnorm/mul_1_grad/Sum_1' type=Sum>,\n",
       " <tf.Operation 'gradients/transformer/layer_3/self_attention_layer_norm/batchnorm/mul_1_grad/Reshape_1' type=Reshape>,\n",
       " <tf.Operation 'gradients/transformer/layer_3/self_attention_layer_norm/batchnorm/sub_grad/Shape' type=Shape>,\n",
       " <tf.Operation 'gradients/transformer/layer_3/self_attention_layer_norm/batchnorm/sub_grad/Shape_1' type=Shape>,\n",
       " <tf.Operation 'gradients/transformer/layer_3/self_attention_layer_norm/batchnorm/sub_grad/BroadcastGradientArgs' type=BroadcastGradientArgs>,\n",
       " <tf.Operation 'gradients/transformer/layer_3/self_attention_layer_norm/batchnorm/sub_grad/Sum' type=Sum>,\n",
       " <tf.Operation 'gradients/transformer/layer_3/self_attention_layer_norm/batchnorm/sub_grad/Reshape' type=Reshape>,\n",
       " <tf.Operation 'gradients/transformer/layer_3/self_attention_layer_norm/batchnorm/sub_grad/Neg' type=Neg>,\n",
       " <tf.Operation 'gradients/transformer/layer_3/self_attention_layer_norm/batchnorm/sub_grad/Sum_1' type=Sum>,\n",
       " <tf.Operation 'gradients/transformer/layer_3/self_attention_layer_norm/batchnorm/sub_grad/Reshape_1' type=Reshape>,\n",
       " <tf.Operation 'gradients/transformer/layer_3/self_attention_layer_norm/batchnorm/mul_2_grad/Shape' type=Shape>,\n",
       " <tf.Operation 'gradients/transformer/layer_3/self_attention_layer_norm/batchnorm/mul_2_grad/Shape_1' type=Shape>,\n",
       " <tf.Operation 'gradients/transformer/layer_3/self_attention_layer_norm/batchnorm/mul_2_grad/BroadcastGradientArgs' type=BroadcastGradientArgs>,\n",
       " <tf.Operation 'gradients/transformer/layer_3/self_attention_layer_norm/batchnorm/mul_2_grad/Mul' type=Mul>,\n",
       " <tf.Operation 'gradients/transformer/layer_3/self_attention_layer_norm/batchnorm/mul_2_grad/Sum' type=Sum>,\n",
       " <tf.Operation 'gradients/transformer/layer_3/self_attention_layer_norm/batchnorm/mul_2_grad/Reshape' type=Reshape>,\n",
       " <tf.Operation 'gradients/transformer/layer_3/self_attention_layer_norm/batchnorm/mul_2_grad/Mul_1' type=Mul>,\n",
       " <tf.Operation 'gradients/transformer/layer_3/self_attention_layer_norm/batchnorm/mul_2_grad/Sum_1' type=Sum>,\n",
       " <tf.Operation 'gradients/transformer/layer_3/self_attention_layer_norm/batchnorm/mul_2_grad/Reshape_1' type=Reshape>,\n",
       " <tf.Operation 'gradients/AddN_4' type=AddN>,\n",
       " <tf.Operation 'gradients/transformer/layer_3/self_attention_layer_norm/batchnorm/mul_grad/Shape' type=Shape>,\n",
       " <tf.Operation 'gradients/transformer/layer_3/self_attention_layer_norm/batchnorm/mul_grad/Shape_1' type=Shape>,\n",
       " <tf.Operation 'gradients/transformer/layer_3/self_attention_layer_norm/batchnorm/mul_grad/BroadcastGradientArgs' type=BroadcastGradientArgs>,\n",
       " <tf.Operation 'gradients/transformer/layer_3/self_attention_layer_norm/batchnorm/mul_grad/Mul' type=Mul>,\n",
       " <tf.Operation 'gradients/transformer/layer_3/self_attention_layer_norm/batchnorm/mul_grad/Sum' type=Sum>,\n",
       " <tf.Operation 'gradients/transformer/layer_3/self_attention_layer_norm/batchnorm/mul_grad/Reshape' type=Reshape>,\n",
       " <tf.Operation 'gradients/transformer/layer_3/self_attention_layer_norm/batchnorm/mul_grad/Mul_1' type=Mul>,\n",
       " <tf.Operation 'gradients/transformer/layer_3/self_attention_layer_norm/batchnorm/mul_grad/Sum_1' type=Sum>,\n",
       " <tf.Operation 'gradients/transformer/layer_3/self_attention_layer_norm/batchnorm/mul_grad/Reshape_1' type=Reshape>,\n",
       " <tf.Operation 'gradients/transformer/layer_3/self_attention_layer_norm/batchnorm/Rsqrt_grad/RsqrtGrad' type=RsqrtGrad>,\n",
       " <tf.Operation 'gradients/transformer/layer_3/self_attention_layer_norm/batchnorm/add_grad/Shape' type=Shape>,\n",
       " <tf.Operation 'gradients/transformer/layer_3/self_attention_layer_norm/batchnorm/add_grad/Shape_1' type=Shape>,\n",
       " <tf.Operation 'gradients/transformer/layer_3/self_attention_layer_norm/batchnorm/add_grad/BroadcastGradientArgs' type=BroadcastGradientArgs>,\n",
       " <tf.Operation 'gradients/transformer/layer_3/self_attention_layer_norm/batchnorm/add_grad/Sum' type=Sum>,\n",
       " <tf.Operation 'gradients/transformer/layer_3/self_attention_layer_norm/batchnorm/add_grad/Reshape' type=Reshape>,\n",
       " <tf.Operation 'gradients/transformer/layer_3/self_attention_layer_norm/batchnorm/add_grad/Sum_1' type=Sum>,\n",
       " <tf.Operation 'gradients/transformer/layer_3/self_attention_layer_norm/batchnorm/add_grad/Reshape_1' type=Reshape>,\n",
       " <tf.Operation 'gradients/transformer/layer_3/self_attention_layer_norm/moments/variance_grad/Shape' type=Shape>,\n",
       " <tf.Operation 'gradients/transformer/layer_3/self_attention_layer_norm/moments/variance_grad/BroadcastTo' type=BroadcastTo>,\n",
       " <tf.Operation 'gradients/transformer/layer_3/self_attention_layer_norm/moments/variance_grad/Shape_1' type=Shape>,\n",
       " <tf.Operation 'gradients/transformer/layer_3/self_attention_layer_norm/moments/variance_grad/Shape_2' type=Shape>,\n",
       " <tf.Operation 'gradients/transformer/layer_3/self_attention_layer_norm/moments/variance_grad/Const' type=Const>,\n",
       " <tf.Operation 'gradients/transformer/layer_3/self_attention_layer_norm/moments/variance_grad/Prod' type=Prod>,\n",
       " <tf.Operation 'gradients/transformer/layer_3/self_attention_layer_norm/moments/variance_grad/Const_1' type=Const>,\n",
       " <tf.Operation 'gradients/transformer/layer_3/self_attention_layer_norm/moments/variance_grad/Prod_1' type=Prod>,\n",
       " <tf.Operation 'gradients/transformer/layer_3/self_attention_layer_norm/moments/variance_grad/Maximum/y' type=Const>,\n",
       " <tf.Operation 'gradients/transformer/layer_3/self_attention_layer_norm/moments/variance_grad/Maximum' type=Maximum>,\n",
       " <tf.Operation 'gradients/transformer/layer_3/self_attention_layer_norm/moments/variance_grad/floordiv' type=FloorDiv>,\n",
       " <tf.Operation 'gradients/transformer/layer_3/self_attention_layer_norm/moments/variance_grad/Cast' type=Cast>,\n",
       " <tf.Operation 'gradients/transformer/layer_3/self_attention_layer_norm/moments/variance_grad/truediv' type=RealDiv>,\n",
       " <tf.Operation 'gradients/transformer/layer_3/self_attention_layer_norm/moments/SquaredDifference_grad/scalar' type=Const>,\n",
       " <tf.Operation 'gradients/transformer/layer_3/self_attention_layer_norm/moments/SquaredDifference_grad/Mul' type=Mul>,\n",
       " <tf.Operation 'gradients/transformer/layer_3/self_attention_layer_norm/moments/SquaredDifference_grad/sub' type=Sub>,\n",
       " <tf.Operation 'gradients/transformer/layer_3/self_attention_layer_norm/moments/SquaredDifference_grad/mul_1' type=Mul>,\n",
       " <tf.Operation 'gradients/transformer/layer_3/self_attention_layer_norm/moments/SquaredDifference_grad/Shape' type=Shape>,\n",
       " <tf.Operation 'gradients/transformer/layer_3/self_attention_layer_norm/moments/SquaredDifference_grad/Shape_1' type=Shape>,\n",
       " <tf.Operation 'gradients/transformer/layer_3/self_attention_layer_norm/moments/SquaredDifference_grad/BroadcastGradientArgs' type=BroadcastGradientArgs>,\n",
       " <tf.Operation 'gradients/transformer/layer_3/self_attention_layer_norm/moments/SquaredDifference_grad/Sum' type=Sum>,\n",
       " <tf.Operation 'gradients/transformer/layer_3/self_attention_layer_norm/moments/SquaredDifference_grad/Reshape' type=Reshape>,\n",
       " <tf.Operation 'gradients/transformer/layer_3/self_attention_layer_norm/moments/SquaredDifference_grad/Sum_1' type=Sum>,\n",
       " <tf.Operation 'gradients/transformer/layer_3/self_attention_layer_norm/moments/SquaredDifference_grad/Reshape_1' type=Reshape>,\n",
       " <tf.Operation 'gradients/transformer/layer_3/self_attention_layer_norm/moments/SquaredDifference_grad/Neg' type=Neg>,\n",
       " <tf.Operation 'gradients/transformer/layer_3/self_attention_layer_norm/moments/mean_grad/Shape' type=Shape>,\n",
       " <tf.Operation 'gradients/transformer/layer_3/self_attention_layer_norm/moments/mean_grad/BroadcastTo' type=BroadcastTo>,\n",
       " <tf.Operation 'gradients/transformer/layer_3/self_attention_layer_norm/moments/mean_grad/Shape_1' type=Shape>,\n",
       " <tf.Operation 'gradients/transformer/layer_3/self_attention_layer_norm/moments/mean_grad/Shape_2' type=Shape>,\n",
       " <tf.Operation 'gradients/transformer/layer_3/self_attention_layer_norm/moments/mean_grad/Const' type=Const>,\n",
       " <tf.Operation 'gradients/transformer/layer_3/self_attention_layer_norm/moments/mean_grad/Prod' type=Prod>,\n",
       " <tf.Operation 'gradients/transformer/layer_3/self_attention_layer_norm/moments/mean_grad/Const_1' type=Const>,\n",
       " <tf.Operation 'gradients/transformer/layer_3/self_attention_layer_norm/moments/mean_grad/Prod_1' type=Prod>,\n",
       " <tf.Operation 'gradients/transformer/layer_3/self_attention_layer_norm/moments/mean_grad/Maximum/y' type=Const>,\n",
       " <tf.Operation 'gradients/transformer/layer_3/self_attention_layer_norm/moments/mean_grad/Maximum' type=Maximum>,\n",
       " <tf.Operation 'gradients/transformer/layer_3/self_attention_layer_norm/moments/mean_grad/floordiv' type=FloorDiv>,\n",
       " <tf.Operation 'gradients/transformer/layer_3/self_attention_layer_norm/moments/mean_grad/Cast' type=Cast>,\n",
       " <tf.Operation 'gradients/transformer/layer_3/self_attention_layer_norm/moments/mean_grad/truediv' type=RealDiv>,\n",
       " <tf.Operation 'gradients/AddN_5' type=AddN>,\n",
       " <tf.Operation 'gradients/transformer/layer_3/add_grad/Shape' type=Shape>,\n",
       " <tf.Operation 'gradients/transformer/layer_3/add_grad/Shape_1' type=Shape>,\n",
       " <tf.Operation 'gradients/transformer/layer_3/add_grad/BroadcastGradientArgs' type=BroadcastGradientArgs>,\n",
       " <tf.Operation 'gradients/transformer/layer_3/add_grad/Sum' type=Sum>,\n",
       " <tf.Operation 'gradients/transformer/layer_3/add_grad/Reshape' type=Reshape>,\n",
       " <tf.Operation 'gradients/transformer/layer_3/add_grad/Sum_1' type=Sum>,\n",
       " <tf.Operation 'gradients/transformer/layer_3/add_grad/Reshape_1' type=Reshape>,\n",
       " <tf.Operation 'gradients/transformer/layer_3/self_attention/attention_output/add_grad/Shape' type=Shape>,\n",
       " <tf.Operation 'gradients/transformer/layer_3/self_attention/attention_output/add_grad/Shape_1' type=Shape>,\n",
       " <tf.Operation 'gradients/transformer/layer_3/self_attention/attention_output/add_grad/BroadcastGradientArgs' type=BroadcastGradientArgs>,\n",
       " <tf.Operation 'gradients/transformer/layer_3/self_attention/attention_output/add_grad/Sum' type=Sum>,\n",
       " <tf.Operation 'gradients/transformer/layer_3/self_attention/attention_output/add_grad/Reshape' type=Reshape>,\n",
       " <tf.Operation 'gradients/transformer/layer_3/self_attention/attention_output/add_grad/Sum_1' type=Sum>,\n",
       " <tf.Operation 'gradients/transformer/layer_3/self_attention/attention_output/add_grad/Reshape_1' type=Reshape>,\n",
       " <tf.Operation 'gradients/transformer/layer_3/self_attention/attention_output/einsum/Einsum_grad/Shape' type=Shape>,\n",
       " <tf.Operation 'gradients/transformer/layer_3/self_attention/attention_output/einsum/Einsum_grad/Shape_1' type=Const>,\n",
       " <tf.Operation 'gradients/transformer/layer_3/self_attention/attention_output/einsum/Einsum_grad/Einsum' type=Einsum>,\n",
       " <tf.Operation 'gradients/transformer/layer_3/self_attention/attention_output/einsum/Einsum_grad/Einsum_1' type=Einsum>,\n",
       " <tf.Operation 'gradients/transformer/layer_3/self_attention/einsum_1/Einsum_grad/Shape' type=Shape>,\n",
       " <tf.Operation 'gradients/transformer/layer_3/self_attention/einsum_1/Einsum_grad/Shape_1' type=Shape>,\n",
       " <tf.Operation 'gradients/transformer/layer_3/self_attention/einsum_1/Einsum_grad/Einsum' type=Einsum>,\n",
       " <tf.Operation 'gradients/transformer/layer_3/self_attention/einsum_1/Einsum_grad/Einsum_1' type=Einsum>,\n",
       " <tf.Operation 'gradients/transformer/layer_3/self_attention/value/add_grad/Shape' type=Shape>,\n",
       " <tf.Operation 'gradients/transformer/layer_3/self_attention/value/add_grad/Shape_1' type=Shape>,\n",
       " <tf.Operation 'gradients/transformer/layer_3/self_attention/value/add_grad/BroadcastGradientArgs' type=BroadcastGradientArgs>,\n",
       " <tf.Operation 'gradients/transformer/layer_3/self_attention/value/add_grad/Sum' type=Sum>,\n",
       " <tf.Operation 'gradients/transformer/layer_3/self_attention/value/add_grad/Reshape' type=Reshape>,\n",
       " <tf.Operation 'gradients/transformer/layer_3/self_attention/value/add_grad/Sum_1' type=Sum>,\n",
       " <tf.Operation 'gradients/transformer/layer_3/self_attention/value/add_grad/Reshape_1' type=Reshape>,\n",
       " <tf.Operation 'gradients/transformer/layer_3/self_attention/softmax/Softmax_grad/mul' type=Mul>,\n",
       " <tf.Operation 'gradients/transformer/layer_3/self_attention/softmax/Softmax_grad/Sum/reduction_indices' type=Const>,\n",
       " <tf.Operation 'gradients/transformer/layer_3/self_attention/softmax/Softmax_grad/Sum' type=Sum>,\n",
       " <tf.Operation 'gradients/transformer/layer_3/self_attention/softmax/Softmax_grad/sub' type=Sub>,\n",
       " <tf.Operation 'gradients/transformer/layer_3/self_attention/softmax/Softmax_grad/mul_1' type=Mul>,\n",
       " <tf.Operation 'gradients/transformer/layer_3/self_attention/value/einsum/Einsum_grad/Shape' type=Shape>,\n",
       " <tf.Operation 'gradients/transformer/layer_3/self_attention/value/einsum/Einsum_grad/Shape_1' type=Const>,\n",
       " <tf.Operation 'gradients/transformer/layer_3/self_attention/value/einsum/Einsum_grad/Einsum' type=Einsum>,\n",
       " <tf.Operation 'gradients/transformer/layer_3/self_attention/value/einsum/Einsum_grad/Einsum_1' type=Einsum>,\n",
       " <tf.Operation 'gradients/transformer/layer_3/self_attention/softmax/add_grad/Shape' type=Shape>,\n",
       " <tf.Operation 'gradients/transformer/layer_3/self_attention/softmax/add_grad/Shape_1' type=Shape>,\n",
       " <tf.Operation 'gradients/transformer/layer_3/self_attention/softmax/add_grad/BroadcastGradientArgs' type=BroadcastGradientArgs>,\n",
       " <tf.Operation 'gradients/transformer/layer_3/self_attention/softmax/add_grad/Sum' type=Sum>,\n",
       " <tf.Operation 'gradients/transformer/layer_3/self_attention/softmax/add_grad/Reshape' type=Reshape>,\n",
       " <tf.Operation 'gradients/transformer/layer_3/self_attention/softmax/add_grad/Sum_1' type=Sum>,\n",
       " <tf.Operation 'gradients/transformer/layer_3/self_attention/softmax/add_grad/Reshape_1' type=Reshape>,\n",
       " <tf.Operation 'gradients/transformer/layer_3/self_attention/einsum/Einsum_grad/Shape' type=Shape>,\n",
       " <tf.Operation 'gradients/transformer/layer_3/self_attention/einsum/Einsum_grad/Shape_1' type=Shape>,\n",
       " <tf.Operation 'gradients/transformer/layer_3/self_attention/einsum/Einsum_grad/Einsum' type=Einsum>,\n",
       " <tf.Operation 'gradients/transformer/layer_3/self_attention/einsum/Einsum_grad/Einsum_1' type=Einsum>,\n",
       " <tf.Operation 'gradients/transformer/layer_3/self_attention/key/add_grad/Shape' type=Shape>,\n",
       " <tf.Operation 'gradients/transformer/layer_3/self_attention/key/add_grad/Shape_1' type=Shape>,\n",
       " <tf.Operation 'gradients/transformer/layer_3/self_attention/key/add_grad/BroadcastGradientArgs' type=BroadcastGradientArgs>,\n",
       " <tf.Operation 'gradients/transformer/layer_3/self_attention/key/add_grad/Sum' type=Sum>,\n",
       " <tf.Operation 'gradients/transformer/layer_3/self_attention/key/add_grad/Reshape' type=Reshape>,\n",
       " <tf.Operation 'gradients/transformer/layer_3/self_attention/key/add_grad/Sum_1' type=Sum>,\n",
       " <tf.Operation 'gradients/transformer/layer_3/self_attention/key/add_grad/Reshape_1' type=Reshape>,\n",
       " <tf.Operation 'gradients/transformer/layer_3/self_attention/Mul_grad/Shape' type=Shape>,\n",
       " <tf.Operation 'gradients/transformer/layer_3/self_attention/Mul_grad/Shape_1' type=Shape>,\n",
       " <tf.Operation 'gradients/transformer/layer_3/self_attention/Mul_grad/BroadcastGradientArgs' type=BroadcastGradientArgs>,\n",
       " <tf.Operation 'gradients/transformer/layer_3/self_attention/Mul_grad/Mul' type=Mul>,\n",
       " <tf.Operation 'gradients/transformer/layer_3/self_attention/Mul_grad/Sum' type=Sum>,\n",
       " <tf.Operation 'gradients/transformer/layer_3/self_attention/Mul_grad/Reshape' type=Reshape>,\n",
       " <tf.Operation 'gradients/transformer/layer_3/self_attention/Mul_grad/Mul_1' type=Mul>,\n",
       " <tf.Operation 'gradients/transformer/layer_3/self_attention/Mul_grad/Sum_1' type=Sum>,\n",
       " <tf.Operation 'gradients/transformer/layer_3/self_attention/Mul_grad/Reshape_1' type=Reshape>,\n",
       " <tf.Operation 'gradients/transformer/layer_3/self_attention/key/einsum/Einsum_grad/Shape' type=Shape>,\n",
       " <tf.Operation 'gradients/transformer/layer_3/self_attention/key/einsum/Einsum_grad/Shape_1' type=Const>,\n",
       " <tf.Operation 'gradients/transformer/layer_3/self_attention/key/einsum/Einsum_grad/Einsum' type=Einsum>,\n",
       " <tf.Operation 'gradients/transformer/layer_3/self_attention/key/einsum/Einsum_grad/Einsum_1' type=Einsum>,\n",
       " <tf.Operation 'gradients/transformer/layer_3/self_attention/query/add_grad/Shape' type=Shape>,\n",
       " <tf.Operation 'gradients/transformer/layer_3/self_attention/query/add_grad/Shape_1' type=Shape>,\n",
       " <tf.Operation 'gradients/transformer/layer_3/self_attention/query/add_grad/BroadcastGradientArgs' type=BroadcastGradientArgs>,\n",
       " <tf.Operation 'gradients/transformer/layer_3/self_attention/query/add_grad/Sum' type=Sum>,\n",
       " <tf.Operation 'gradients/transformer/layer_3/self_attention/query/add_grad/Reshape' type=Reshape>,\n",
       " <tf.Operation 'gradients/transformer/layer_3/self_attention/query/add_grad/Sum_1' type=Sum>,\n",
       " <tf.Operation 'gradients/transformer/layer_3/self_attention/query/add_grad/Reshape_1' type=Reshape>,\n",
       " <tf.Operation 'gradients/transformer/layer_3/self_attention/query/einsum/Einsum_grad/Shape' type=Shape>,\n",
       " <tf.Operation 'gradients/transformer/layer_3/self_attention/query/einsum/Einsum_grad/Shape_1' type=Const>,\n",
       " <tf.Operation 'gradients/transformer/layer_3/self_attention/query/einsum/Einsum_grad/Einsum' type=Einsum>,\n",
       " <tf.Operation 'gradients/transformer/layer_3/self_attention/query/einsum/Einsum_grad/Einsum_1' type=Einsum>,\n",
       " <tf.Operation 'gradients/AddN_6' type=AddN>,\n",
       " <tf.Operation 'gradients/transformer/layer_2/output_layer_norm/batchnorm/add_1_grad/Shape' type=Shape>,\n",
       " <tf.Operation 'gradients/transformer/layer_2/output_layer_norm/batchnorm/add_1_grad/Shape_1' type=Shape>,\n",
       " <tf.Operation 'gradients/transformer/layer_2/output_layer_norm/batchnorm/add_1_grad/BroadcastGradientArgs' type=BroadcastGradientArgs>,\n",
       " <tf.Operation 'gradients/transformer/layer_2/output_layer_norm/batchnorm/add_1_grad/Sum' type=Sum>,\n",
       " <tf.Operation 'gradients/transformer/layer_2/output_layer_norm/batchnorm/add_1_grad/Reshape' type=Reshape>,\n",
       " <tf.Operation 'gradients/transformer/layer_2/output_layer_norm/batchnorm/add_1_grad/Sum_1' type=Sum>,\n",
       " <tf.Operation 'gradients/transformer/layer_2/output_layer_norm/batchnorm/add_1_grad/Reshape_1' type=Reshape>,\n",
       " <tf.Operation 'gradients/transformer/layer_2/output_layer_norm/batchnorm/mul_1_grad/Shape' type=Shape>,\n",
       " <tf.Operation 'gradients/transformer/layer_2/output_layer_norm/batchnorm/mul_1_grad/Shape_1' type=Shape>,\n",
       " <tf.Operation 'gradients/transformer/layer_2/output_layer_norm/batchnorm/mul_1_grad/BroadcastGradientArgs' type=BroadcastGradientArgs>,\n",
       " <tf.Operation 'gradients/transformer/layer_2/output_layer_norm/batchnorm/mul_1_grad/Mul' type=Mul>,\n",
       " <tf.Operation 'gradients/transformer/layer_2/output_layer_norm/batchnorm/mul_1_grad/Sum' type=Sum>,\n",
       " <tf.Operation 'gradients/transformer/layer_2/output_layer_norm/batchnorm/mul_1_grad/Reshape' type=Reshape>,\n",
       " <tf.Operation 'gradients/transformer/layer_2/output_layer_norm/batchnorm/mul_1_grad/Mul_1' type=Mul>,\n",
       " <tf.Operation 'gradients/transformer/layer_2/output_layer_norm/batchnorm/mul_1_grad/Sum_1' type=Sum>,\n",
       " <tf.Operation 'gradients/transformer/layer_2/output_layer_norm/batchnorm/mul_1_grad/Reshape_1' type=Reshape>,\n",
       " <tf.Operation 'gradients/transformer/layer_2/output_layer_norm/batchnorm/sub_grad/Shape' type=Shape>,\n",
       " <tf.Operation 'gradients/transformer/layer_2/output_layer_norm/batchnorm/sub_grad/Shape_1' type=Shape>,\n",
       " <tf.Operation 'gradients/transformer/layer_2/output_layer_norm/batchnorm/sub_grad/BroadcastGradientArgs' type=BroadcastGradientArgs>,\n",
       " <tf.Operation 'gradients/transformer/layer_2/output_layer_norm/batchnorm/sub_grad/Sum' type=Sum>,\n",
       " <tf.Operation 'gradients/transformer/layer_2/output_layer_norm/batchnorm/sub_grad/Reshape' type=Reshape>,\n",
       " <tf.Operation 'gradients/transformer/layer_2/output_layer_norm/batchnorm/sub_grad/Neg' type=Neg>,\n",
       " <tf.Operation 'gradients/transformer/layer_2/output_layer_norm/batchnorm/sub_grad/Sum_1' type=Sum>,\n",
       " <tf.Operation 'gradients/transformer/layer_2/output_layer_norm/batchnorm/sub_grad/Reshape_1' type=Reshape>,\n",
       " <tf.Operation 'gradients/transformer/layer_2/output_layer_norm/batchnorm/mul_2_grad/Shape' type=Shape>,\n",
       " <tf.Operation 'gradients/transformer/layer_2/output_layer_norm/batchnorm/mul_2_grad/Shape_1' type=Shape>,\n",
       " <tf.Operation 'gradients/transformer/layer_2/output_layer_norm/batchnorm/mul_2_grad/BroadcastGradientArgs' type=BroadcastGradientArgs>,\n",
       " <tf.Operation 'gradients/transformer/layer_2/output_layer_norm/batchnorm/mul_2_grad/Mul' type=Mul>,\n",
       " <tf.Operation 'gradients/transformer/layer_2/output_layer_norm/batchnorm/mul_2_grad/Sum' type=Sum>,\n",
       " <tf.Operation 'gradients/transformer/layer_2/output_layer_norm/batchnorm/mul_2_grad/Reshape' type=Reshape>,\n",
       " <tf.Operation 'gradients/transformer/layer_2/output_layer_norm/batchnorm/mul_2_grad/Mul_1' type=Mul>,\n",
       " <tf.Operation 'gradients/transformer/layer_2/output_layer_norm/batchnorm/mul_2_grad/Sum_1' type=Sum>,\n",
       " <tf.Operation 'gradients/transformer/layer_2/output_layer_norm/batchnorm/mul_2_grad/Reshape_1' type=Reshape>,\n",
       " <tf.Operation 'gradients/AddN_7' type=AddN>,\n",
       " <tf.Operation 'gradients/transformer/layer_2/output_layer_norm/batchnorm/mul_grad/Shape' type=Shape>,\n",
       " <tf.Operation 'gradients/transformer/layer_2/output_layer_norm/batchnorm/mul_grad/Shape_1' type=Shape>,\n",
       " <tf.Operation 'gradients/transformer/layer_2/output_layer_norm/batchnorm/mul_grad/BroadcastGradientArgs' type=BroadcastGradientArgs>,\n",
       " <tf.Operation 'gradients/transformer/layer_2/output_layer_norm/batchnorm/mul_grad/Mul' type=Mul>,\n",
       " <tf.Operation 'gradients/transformer/layer_2/output_layer_norm/batchnorm/mul_grad/Sum' type=Sum>,\n",
       " <tf.Operation 'gradients/transformer/layer_2/output_layer_norm/batchnorm/mul_grad/Reshape' type=Reshape>,\n",
       " <tf.Operation 'gradients/transformer/layer_2/output_layer_norm/batchnorm/mul_grad/Mul_1' type=Mul>,\n",
       " <tf.Operation 'gradients/transformer/layer_2/output_layer_norm/batchnorm/mul_grad/Sum_1' type=Sum>,\n",
       " <tf.Operation 'gradients/transformer/layer_2/output_layer_norm/batchnorm/mul_grad/Reshape_1' type=Reshape>,\n",
       " <tf.Operation 'gradients/transformer/layer_2/output_layer_norm/batchnorm/Rsqrt_grad/RsqrtGrad' type=RsqrtGrad>,\n",
       " <tf.Operation 'gradients/transformer/layer_2/output_layer_norm/batchnorm/add_grad/Shape' type=Shape>,\n",
       " <tf.Operation 'gradients/transformer/layer_2/output_layer_norm/batchnorm/add_grad/Shape_1' type=Shape>,\n",
       " <tf.Operation 'gradients/transformer/layer_2/output_layer_norm/batchnorm/add_grad/BroadcastGradientArgs' type=BroadcastGradientArgs>,\n",
       " <tf.Operation 'gradients/transformer/layer_2/output_layer_norm/batchnorm/add_grad/Sum' type=Sum>,\n",
       " <tf.Operation 'gradients/transformer/layer_2/output_layer_norm/batchnorm/add_grad/Reshape' type=Reshape>,\n",
       " <tf.Operation 'gradients/transformer/layer_2/output_layer_norm/batchnorm/add_grad/Sum_1' type=Sum>,\n",
       " <tf.Operation 'gradients/transformer/layer_2/output_layer_norm/batchnorm/add_grad/Reshape_1' type=Reshape>,\n",
       " <tf.Operation 'gradients/transformer/layer_2/output_layer_norm/moments/variance_grad/Shape' type=Shape>,\n",
       " <tf.Operation 'gradients/transformer/layer_2/output_layer_norm/moments/variance_grad/BroadcastTo' type=BroadcastTo>,\n",
       " <tf.Operation 'gradients/transformer/layer_2/output_layer_norm/moments/variance_grad/Shape_1' type=Shape>,\n",
       " <tf.Operation 'gradients/transformer/layer_2/output_layer_norm/moments/variance_grad/Shape_2' type=Shape>,\n",
       " <tf.Operation 'gradients/transformer/layer_2/output_layer_norm/moments/variance_grad/Const' type=Const>,\n",
       " <tf.Operation 'gradients/transformer/layer_2/output_layer_norm/moments/variance_grad/Prod' type=Prod>,\n",
       " <tf.Operation 'gradients/transformer/layer_2/output_layer_norm/moments/variance_grad/Const_1' type=Const>,\n",
       " <tf.Operation 'gradients/transformer/layer_2/output_layer_norm/moments/variance_grad/Prod_1' type=Prod>,\n",
       " <tf.Operation 'gradients/transformer/layer_2/output_layer_norm/moments/variance_grad/Maximum/y' type=Const>,\n",
       " <tf.Operation 'gradients/transformer/layer_2/output_layer_norm/moments/variance_grad/Maximum' type=Maximum>,\n",
       " <tf.Operation 'gradients/transformer/layer_2/output_layer_norm/moments/variance_grad/floordiv' type=FloorDiv>,\n",
       " <tf.Operation 'gradients/transformer/layer_2/output_layer_norm/moments/variance_grad/Cast' type=Cast>,\n",
       " <tf.Operation 'gradients/transformer/layer_2/output_layer_norm/moments/variance_grad/truediv' type=RealDiv>,\n",
       " <tf.Operation 'gradients/transformer/layer_2/output_layer_norm/moments/SquaredDifference_grad/scalar' type=Const>,\n",
       " <tf.Operation 'gradients/transformer/layer_2/output_layer_norm/moments/SquaredDifference_grad/Mul' type=Mul>,\n",
       " <tf.Operation 'gradients/transformer/layer_2/output_layer_norm/moments/SquaredDifference_grad/sub' type=Sub>,\n",
       " <tf.Operation 'gradients/transformer/layer_2/output_layer_norm/moments/SquaredDifference_grad/mul_1' type=Mul>,\n",
       " <tf.Operation 'gradients/transformer/layer_2/output_layer_norm/moments/SquaredDifference_grad/Shape' type=Shape>,\n",
       " <tf.Operation 'gradients/transformer/layer_2/output_layer_norm/moments/SquaredDifference_grad/Shape_1' type=Shape>,\n",
       " <tf.Operation 'gradients/transformer/layer_2/output_layer_norm/moments/SquaredDifference_grad/BroadcastGradientArgs' type=BroadcastGradientArgs>,\n",
       " <tf.Operation 'gradients/transformer/layer_2/output_layer_norm/moments/SquaredDifference_grad/Sum' type=Sum>,\n",
       " <tf.Operation 'gradients/transformer/layer_2/output_layer_norm/moments/SquaredDifference_grad/Reshape' type=Reshape>,\n",
       " <tf.Operation 'gradients/transformer/layer_2/output_layer_norm/moments/SquaredDifference_grad/Sum_1' type=Sum>,\n",
       " <tf.Operation 'gradients/transformer/layer_2/output_layer_norm/moments/SquaredDifference_grad/Reshape_1' type=Reshape>,\n",
       " <tf.Operation 'gradients/transformer/layer_2/output_layer_norm/moments/SquaredDifference_grad/Neg' type=Neg>,\n",
       " <tf.Operation 'gradients/transformer/layer_2/output_layer_norm/moments/mean_grad/Shape' type=Shape>,\n",
       " <tf.Operation 'gradients/transformer/layer_2/output_layer_norm/moments/mean_grad/BroadcastTo' type=BroadcastTo>,\n",
       " <tf.Operation 'gradients/transformer/layer_2/output_layer_norm/moments/mean_grad/Shape_1' type=Shape>,\n",
       " <tf.Operation 'gradients/transformer/layer_2/output_layer_norm/moments/mean_grad/Shape_2' type=Shape>,\n",
       " <tf.Operation 'gradients/transformer/layer_2/output_layer_norm/moments/mean_grad/Const' type=Const>,\n",
       " <tf.Operation 'gradients/transformer/layer_2/output_layer_norm/moments/mean_grad/Prod' type=Prod>,\n",
       " <tf.Operation 'gradients/transformer/layer_2/output_layer_norm/moments/mean_grad/Const_1' type=Const>,\n",
       " <tf.Operation 'gradients/transformer/layer_2/output_layer_norm/moments/mean_grad/Prod_1' type=Prod>,\n",
       " <tf.Operation 'gradients/transformer/layer_2/output_layer_norm/moments/mean_grad/Maximum/y' type=Const>,\n",
       " <tf.Operation 'gradients/transformer/layer_2/output_layer_norm/moments/mean_grad/Maximum' type=Maximum>,\n",
       " <tf.Operation 'gradients/transformer/layer_2/output_layer_norm/moments/mean_grad/floordiv' type=FloorDiv>,\n",
       " <tf.Operation 'gradients/transformer/layer_2/output_layer_norm/moments/mean_grad/Cast' type=Cast>,\n",
       " <tf.Operation 'gradients/transformer/layer_2/output_layer_norm/moments/mean_grad/truediv' type=RealDiv>,\n",
       " <tf.Operation 'gradients/AddN_8' type=AddN>,\n",
       " <tf.Operation 'gradients/transformer/layer_2/add_1_grad/Shape' type=Shape>,\n",
       " <tf.Operation 'gradients/transformer/layer_2/add_1_grad/Shape_1' type=Shape>,\n",
       " <tf.Operation 'gradients/transformer/layer_2/add_1_grad/BroadcastGradientArgs' type=BroadcastGradientArgs>,\n",
       " <tf.Operation 'gradients/transformer/layer_2/add_1_grad/Sum' type=Sum>,\n",
       " <tf.Operation 'gradients/transformer/layer_2/add_1_grad/Reshape' type=Reshape>,\n",
       " <tf.Operation 'gradients/transformer/layer_2/add_1_grad/Sum_1' type=Sum>,\n",
       " <tf.Operation 'gradients/transformer/layer_2/add_1_grad/Reshape_1' type=Reshape>,\n",
       " <tf.Operation 'gradients/transformer/layer_2/output/add_grad/Shape' type=Shape>,\n",
       " <tf.Operation 'gradients/transformer/layer_2/output/add_grad/Shape_1' type=Shape>,\n",
       " <tf.Operation 'gradients/transformer/layer_2/output/add_grad/BroadcastGradientArgs' type=BroadcastGradientArgs>,\n",
       " <tf.Operation 'gradients/transformer/layer_2/output/add_grad/Sum' type=Sum>,\n",
       " <tf.Operation 'gradients/transformer/layer_2/output/add_grad/Reshape' type=Reshape>,\n",
       " <tf.Operation 'gradients/transformer/layer_2/output/add_grad/Sum_1' type=Sum>,\n",
       " <tf.Operation 'gradients/transformer/layer_2/output/add_grad/Reshape_1' type=Reshape>,\n",
       " <tf.Operation 'gradients/transformer/layer_2/output/einsum/Einsum_grad/Shape' type=Shape>,\n",
       " <tf.Operation 'gradients/transformer/layer_2/output/einsum/Einsum_grad/Shape_1' type=Const>,\n",
       " <tf.Operation 'gradients/transformer/layer_2/output/einsum/Einsum_grad/Einsum' type=Einsum>,\n",
       " <tf.Operation 'gradients/transformer/layer_2/output/einsum/Einsum_grad/Einsum_1' type=Einsum>,\n",
       " <tf.Operation 'gradients/transformer/layer_2/activation/Gelu/mul_3_grad/Shape' type=Shape>,\n",
       " <tf.Operation 'gradients/transformer/layer_2/activation/Gelu/mul_3_grad/Shape_1' type=Shape>,\n",
       " <tf.Operation 'gradients/transformer/layer_2/activation/Gelu/mul_3_grad/BroadcastGradientArgs' type=BroadcastGradientArgs>,\n",
       " <tf.Operation 'gradients/transformer/layer_2/activation/Gelu/mul_3_grad/Mul' type=Mul>,\n",
       " <tf.Operation 'gradients/transformer/layer_2/activation/Gelu/mul_3_grad/Sum' type=Sum>,\n",
       " <tf.Operation 'gradients/transformer/layer_2/activation/Gelu/mul_3_grad/Reshape' type=Reshape>,\n",
       " ...]"
      ]
     },
     "execution_count": 13,
     "metadata": {},
     "output_type": "execute_result"
    }
   ],
   "source": [
    "operations = func_graph.get_operations() \n",
    "operations"
   ]
  },
  {
   "cell_type": "markdown",
   "metadata": {},
   "source": [
    "# GradientTape on main graph tensors"
   ]
  },
  {
   "cell_type": "code",
   "execution_count": null,
   "metadata": {},
   "outputs": [],
   "source": [
    "with tf.GradientTape() as tape:\n",
    "    # Forward pass.\n",
    "    t = tf.compat.v1.get_default_graph().get_tensor_by_name(\"Identity_82:0\")\n",
    "    # embedding_output_tensor, seq_output_tensor\n",
    "    tape.watch(t)\n",
    "    \n",
    "    outputs = model(test_input)\n",
    "    output = tf.reduce_sum(outputs)\n",
    "\n",
    "# Get gradients of the loss wrt the weights.\n",
    "gradients = tape.gradient(output, t)\n"
   ]
  },
  {
   "cell_type": "code",
   "execution_count": null,
   "metadata": {},
   "outputs": [
    {
     "data": {
      "text/plain": [
       "True"
      ]
     },
     "execution_count": 30,
     "metadata": {},
     "output_type": "execute_result"
    }
   ],
   "source": [
    "gradients is None"
   ]
  },
  {
   "cell_type": "markdown",
   "metadata": {},
   "source": [
    "# GradientTape on local KerasLayer function graph tensors"
   ]
  },
  {
   "cell_type": "code",
   "execution_count": null,
   "metadata": {},
   "outputs": [],
   "source": [
    "with tf.GradientTape() as tape:\n",
    "    # Forward pass.\n",
    "    # embedding_output_tensor, seq_output_tensor\n",
    "    tape.watch(embedding_output_tensor)\n",
    "    \n",
    "    encoder(preprocessor(tf.constant([\"word one word two\"])))\n",
    "\n",
    "    outputs = model(test_input)\n",
    "    output = tf.reduce_sum(outputs)\n",
    "\n",
    "# Get gradients of the loss wrt the weights.\n",
    "gradients = tape.gradient(output, embedding_output_tensor)\n"
   ]
  },
  {
   "cell_type": "code",
   "execution_count": null,
   "metadata": {},
   "outputs": [],
   "source": [
    "gradients"
   ]
  },
  {
   "cell_type": "code",
   "execution_count": null,
   "metadata": {},
   "outputs": [
    {
     "name": "stdout",
     "output_type": "stream",
     "text": [
      "classifier_3/Softmax:0\n",
      "classifier_3/BiasAdd:0\n",
      "classifier_3/MatMul:0\n",
      "flatten_3/Reshape:0\n",
      "conv1d_2_3/Relu:0\n",
      "conv1d_2_3/BiasAdd:0\n",
      "conv1d_2_3/Conv1D/Squeeze:0\n",
      "conv1d_2_3/Conv1D:0\n",
      "conv1d_2_3/Conv1D/ExpandDims:0\n",
      "max_pooling1d_1_3/Squeeze:0\n",
      "max_pooling1d_1_3/MaxPool:0\n",
      "max_pooling1d_1_3/ExpandDims:0\n",
      "conv1d_1_3/Relu:0\n",
      "conv1d_1_3/BiasAdd:0\n",
      "conv1d_1_3/Conv1D/Squeeze:0\n",
      "conv1d_1_3/Conv1D:0\n",
      "conv1d_1_3/Conv1D/ExpandDims:0\n",
      "max_pooling1d_4/Squeeze:0\n",
      "max_pooling1d_4/MaxPool:0\n",
      "max_pooling1d_4/ExpandDims:0\n",
      "conv1d_5/Relu:0\n",
      "conv1d_5/BiasAdd:0\n",
      "conv1d_5/Conv1D/Squeeze:0\n",
      "conv1d_5/Conv1D:0\n",
      "conv1d_5/Conv1D/ExpandDims:0\n",
      "BERT_encoder_5/cond/Identity_6:0\n",
      "BERT_encoder_5/cond:6\n",
      "keras_learning_phase:0\n",
      "keras_learning_phase/input:0\n",
      "preprocessing_6/cond/Identity:0\n",
      "preprocessing_6/cond:0\n",
      "keras_learning_phase:0\n",
      "keras_learning_phase/input:0\n",
      "Const_12:0\n",
      "StatefulPartitionedCall:0\n",
      "Const:0\n",
      "preprocessing_6/cond/Identity_1:0\n",
      "preprocessing_6/cond:1\n",
      "keras_learning_phase:0\n",
      "keras_learning_phase/input:0\n",
      "Const_12:0\n",
      "StatefulPartitionedCall:0\n",
      "Const:0\n",
      "preprocessing_6/cond/Identity_2:0\n",
      "preprocessing_6/cond:2\n",
      "keras_learning_phase:0\n",
      "keras_learning_phase/input:0\n",
      "Const_12:0\n",
      "StatefulPartitionedCall:0\n",
      "Const:0\n",
      "word_embeddings/embeddings:0\n",
      "position_embedding/embeddings:0\n",
      "type_embeddings/embeddings:0\n",
      "embeddings/layer_norm/gamma:0\n",
      "embeddings/layer_norm/beta:0\n",
      "transformer/layer_0/self_attention/query/kernel:0\n",
      "transformer/layer_0/self_attention/query/bias:0\n",
      "transformer/layer_0/self_attention/key/kernel:0\n",
      "transformer/layer_0/self_attention/key/bias:0\n",
      "transformer/layer_0/self_attention/value/kernel:0\n",
      "transformer/layer_0/self_attention/value/bias:0\n",
      "transformer/layer_0/self_attention/attention_output/kernel:0\n",
      "transformer/layer_0/self_attention/attention_output/bias:0\n",
      "transformer/layer_0/self_attention_layer_norm/gamma:0\n",
      "transformer/layer_0/self_attention_layer_norm/beta:0\n",
      "transformer/layer_0/intermediate/kernel:0\n",
      "transformer/layer_0/intermediate/bias:0\n",
      "transformer/layer_0/output/kernel:0\n",
      "transformer/layer_0/output/bias:0\n",
      "transformer/layer_0/output_layer_norm/gamma:0\n",
      "transformer/layer_0/output_layer_norm/beta:0\n",
      "transformer/layer_1/self_attention/query/kernel:0\n",
      "transformer/layer_1/self_attention/query/bias:0\n",
      "transformer/layer_1/self_attention/key/kernel:0\n",
      "transformer/layer_1/self_attention/key/bias:0\n",
      "transformer/layer_1/self_attention/value/kernel:0\n",
      "transformer/layer_1/self_attention/value/bias:0\n",
      "transformer/layer_1/self_attention/attention_output/kernel:0\n",
      "transformer/layer_1/self_attention/attention_output/bias:0\n",
      "transformer/layer_1/self_attention_layer_norm/gamma:0\n",
      "transformer/layer_1/self_attention_layer_norm/beta:0\n",
      "transformer/layer_1/intermediate/kernel:0\n",
      "transformer/layer_1/intermediate/bias:0\n",
      "transformer/layer_1/output/kernel:0\n",
      "transformer/layer_1/output/bias:0\n",
      "transformer/layer_1/output_layer_norm/gamma:0\n",
      "transformer/layer_1/output_layer_norm/beta:0\n",
      "transformer/layer_2/self_attention/query/kernel:0\n",
      "transformer/layer_2/self_attention/query/bias:0\n",
      "transformer/layer_2/self_attention/key/kernel:0\n",
      "transformer/layer_2/self_attention/key/bias:0\n",
      "transformer/layer_2/self_attention/value/kernel:0\n",
      "transformer/layer_2/self_attention/value/bias:0\n",
      "transformer/layer_2/self_attention/attention_output/kernel:0\n",
      "transformer/layer_2/self_attention/attention_output/bias:0\n",
      "transformer/layer_2/self_attention_layer_norm/gamma:0\n",
      "transformer/layer_2/self_attention_layer_norm/beta:0\n",
      "transformer/layer_2/intermediate/kernel:0\n",
      "transformer/layer_2/intermediate/bias:0\n",
      "transformer/layer_2/output/kernel:0\n",
      "transformer/layer_2/output/bias:0\n",
      "transformer/layer_2/output_layer_norm/gamma:0\n",
      "transformer/layer_2/output_layer_norm/beta:0\n",
      "transformer/layer_3/self_attention/query/kernel:0\n",
      "transformer/layer_3/self_attention/query/bias:0\n",
      "transformer/layer_3/self_attention/key/kernel:0\n",
      "transformer/layer_3/self_attention/key/bias:0\n",
      "transformer/layer_3/self_attention/value/kernel:0\n",
      "transformer/layer_3/self_attention/value/bias:0\n",
      "transformer/layer_3/self_attention/attention_output/kernel:0\n",
      "transformer/layer_3/self_attention/attention_output/bias:0\n",
      "transformer/layer_3/self_attention_layer_norm/gamma:0\n",
      "transformer/layer_3/self_attention_layer_norm/beta:0\n",
      "transformer/layer_3/intermediate/kernel:0\n",
      "transformer/layer_3/intermediate/bias:0\n",
      "transformer/layer_3/output/kernel:0\n",
      "transformer/layer_3/output/bias:0\n",
      "transformer/layer_3/output_layer_norm/gamma:0\n",
      "transformer/layer_3/output_layer_norm/beta:0\n",
      "pooler_transform/kernel:0\n",
      "pooler_transform/bias:0\n",
      "conv1d_5/Conv1D/ExpandDims/dim:0\n",
      "conv1d_5/Conv1D/ExpandDims_1:0\n",
      "conv1d_5/Conv1D/ExpandDims_1/ReadVariableOp:0\n",
      "kernel:0\n",
      "conv1d_5/Conv1D/ExpandDims_1/dim:0\n",
      "conv1d_5/BiasAdd/ReadVariableOp:0\n",
      "bias:0\n",
      "max_pooling1d_4/ExpandDims/dim:0\n",
      "conv1d_1_3/Conv1D/ExpandDims/dim:0\n",
      "conv1d_1_3/Conv1D/ExpandDims_1:0\n",
      "conv1d_1_3/Conv1D/ExpandDims_1/ReadVariableOp:0\n",
      "kernel_1:0\n",
      "conv1d_1_3/Conv1D/ExpandDims_1/dim:0\n",
      "conv1d_1_3/BiasAdd/ReadVariableOp:0\n",
      "bias_1:0\n",
      "max_pooling1d_1_3/ExpandDims/dim:0\n",
      "conv1d_2_3/Conv1D/ExpandDims/dim:0\n",
      "conv1d_2_3/Conv1D/ExpandDims_1:0\n",
      "conv1d_2_3/Conv1D/ExpandDims_1/ReadVariableOp:0\n",
      "kernel_2:0\n",
      "conv1d_2_3/Conv1D/ExpandDims_1/dim:0\n",
      "conv1d_2_3/BiasAdd/ReadVariableOp:0\n",
      "bias_2:0\n",
      "flatten_3/Const:0\n",
      "classifier_3/MatMul/ReadVariableOp:0\n",
      "kernel_3:0\n",
      "classifier_3/BiasAdd/ReadVariableOp:0\n",
      "bias_3:0\n"
     ]
    }
   ],
   "source": [
    "out_tensor = model._run_internal_graph(tf.constant([\"number one\"]))\n",
    "def traverse(tensor):\n",
    "    print(tensor.name)\n",
    "    if not tensor.op:\n",
    "        return\n",
    "    elif tensor.op.inputs:\n",
    "        for i in tensor.op.inputs:\n",
    "            traverse(i)\n",
    "traverse(out_tensor)"
   ]
  },
  {
   "cell_type": "markdown",
   "metadata": {},
   "source": [
    "# Execution tf.gradients op"
   ]
  },
  {
   "cell_type": "code",
   "execution_count": null,
   "metadata": {},
   "outputs": [
    {
     "name": "stderr",
     "output_type": "stream",
     "text": [
      "2022-06-05 09:19:50.916670: I tensorflow/core/common_runtime/gpu/gpu_device.cc:1532] Created device /job:localhost/replica:0/task:0/device:GPU:0 with 20634 MB memory:  -> device: 0, name: NVIDIA A10G, pci bus id: 0000:00:1e.0, compute capability: 8.6\n",
      "2022-06-05 09:19:56.963227: I tensorflow/core/common_runtime/gpu/gpu_device.cc:1532] Created device /job:localhost/replica:0/task:0/device:GPU:0 with 20634 MB memory:  -> device: 0, name: NVIDIA A10G, pci bus id: 0000:00:1e.0, compute capability: 8.6\n"
     ]
    },
    {
     "ename": "TypeError",
     "evalue": "Cannot interpret feed_dict key as Tensor: The name 'word_embeddings/Reshape_1:0' refers to a Tensor which does not exist. The operation, 'word_embeddings/Reshape_1', does not exist in the graph.",
     "output_type": "error",
     "traceback": [
      "\u001b[0;31m---------------------------------------------------------------------------\u001b[0m",
      "\u001b[0;31mKeyError\u001b[0m                                  Traceback (most recent call last)",
      "File \u001b[0;32m/data/anaconda/envs/demo3/lib/python3.9/site-packages/tensorflow/python/client/session.py:1131\u001b[0m, in \u001b[0;36mBaseSession._run\u001b[0;34m(self, handle, fetches, feed_dict, options, run_metadata)\u001b[0m\n\u001b[1;32m   <a href='file:///data/anaconda/envs/demo3/lib/python3.9/site-packages/tensorflow/python/client/session.py?line=1129'>1130</a>\u001b[0m \u001b[39mtry\u001b[39;00m:\n\u001b[0;32m-> <a href='file:///data/anaconda/envs/demo3/lib/python3.9/site-packages/tensorflow/python/client/session.py?line=1130'>1131</a>\u001b[0m   subfeed_t \u001b[39m=\u001b[39m \u001b[39mself\u001b[39;49m\u001b[39m.\u001b[39;49mgraph\u001b[39m.\u001b[39;49mas_graph_element(\n\u001b[1;32m   <a href='file:///data/anaconda/envs/demo3/lib/python3.9/site-packages/tensorflow/python/client/session.py?line=1131'>1132</a>\u001b[0m       subfeed, allow_tensor\u001b[39m=\u001b[39;49m\u001b[39mTrue\u001b[39;49;00m, allow_operation\u001b[39m=\u001b[39;49m\u001b[39mFalse\u001b[39;49;00m)\n\u001b[1;32m   <a href='file:///data/anaconda/envs/demo3/lib/python3.9/site-packages/tensorflow/python/client/session.py?line=1132'>1133</a>\u001b[0m \u001b[39mexcept\u001b[39;00m \u001b[39mException\u001b[39;00m \u001b[39mas\u001b[39;00m e:\n",
      "File \u001b[0;32m/data/anaconda/envs/demo3/lib/python3.9/site-packages/tensorflow/python/framework/ops.py:3952\u001b[0m, in \u001b[0;36mGraph.as_graph_element\u001b[0;34m(self, obj, allow_tensor, allow_operation)\u001b[0m\n\u001b[1;32m   <a href='file:///data/anaconda/envs/demo3/lib/python3.9/site-packages/tensorflow/python/framework/ops.py?line=3950'>3951</a>\u001b[0m \u001b[39mwith\u001b[39;00m \u001b[39mself\u001b[39m\u001b[39m.\u001b[39m_lock:\n\u001b[0;32m-> <a href='file:///data/anaconda/envs/demo3/lib/python3.9/site-packages/tensorflow/python/framework/ops.py?line=3951'>3952</a>\u001b[0m   \u001b[39mreturn\u001b[39;00m \u001b[39mself\u001b[39;49m\u001b[39m.\u001b[39;49m_as_graph_element_locked(obj, allow_tensor, allow_operation)\n",
      "File \u001b[0;32m/data/anaconda/envs/demo3/lib/python3.9/site-packages/tensorflow/python/framework/ops.py:3992\u001b[0m, in \u001b[0;36mGraph._as_graph_element_locked\u001b[0;34m(self, obj, allow_tensor, allow_operation)\u001b[0m\n\u001b[1;32m   <a href='file:///data/anaconda/envs/demo3/lib/python3.9/site-packages/tensorflow/python/framework/ops.py?line=3990'>3991</a>\u001b[0m \u001b[39melse\u001b[39;00m:\n\u001b[0;32m-> <a href='file:///data/anaconda/envs/demo3/lib/python3.9/site-packages/tensorflow/python/framework/ops.py?line=3991'>3992</a>\u001b[0m   \u001b[39mraise\u001b[39;00m \u001b[39mKeyError\u001b[39;00m(\u001b[39m\"\u001b[39m\u001b[39mThe name \u001b[39m\u001b[39m%s\u001b[39;00m\u001b[39m refers to a Tensor which does not \u001b[39m\u001b[39m\"\u001b[39m\n\u001b[1;32m   <a href='file:///data/anaconda/envs/demo3/lib/python3.9/site-packages/tensorflow/python/framework/ops.py?line=3992'>3993</a>\u001b[0m                  \u001b[39m\"\u001b[39m\u001b[39mexist. The operation, \u001b[39m\u001b[39m%s\u001b[39;00m\u001b[39m, does not exist in the \u001b[39m\u001b[39m\"\u001b[39m\n\u001b[1;32m   <a href='file:///data/anaconda/envs/demo3/lib/python3.9/site-packages/tensorflow/python/framework/ops.py?line=3993'>3994</a>\u001b[0m                  \u001b[39m\"\u001b[39m\u001b[39mgraph.\u001b[39m\u001b[39m\"\u001b[39m \u001b[39m%\u001b[39m (\u001b[39mrepr\u001b[39m(name), \u001b[39mrepr\u001b[39m(op_name)))\n\u001b[1;32m   <a href='file:///data/anaconda/envs/demo3/lib/python3.9/site-packages/tensorflow/python/framework/ops.py?line=3994'>3995</a>\u001b[0m \u001b[39mtry\u001b[39;00m:\n",
      "\u001b[0;31mKeyError\u001b[0m: \"The name 'word_embeddings/Reshape_1:0' refers to a Tensor which does not exist. The operation, 'word_embeddings/Reshape_1', does not exist in the graph.\"",
      "\nDuring handling of the above exception, another exception occurred:\n",
      "\u001b[0;31mTypeError\u001b[0m                                 Traceback (most recent call last)",
      "\u001b[1;32m/data/ssd/corey/git/trulens/notebooks/nlp_demo_tf2_tfhub_partial_grad_eager.ipynb Cell 17'\u001b[0m in \u001b[0;36m<cell line: 11>\u001b[0;34m()\u001b[0m\n\u001b[1;32m     <a href='vscode-notebook-cell://ssh-remote%2B54.245.141.180/data/ssd/corey/git/trulens/notebooks/nlp_demo_tf2_tfhub_partial_grad_eager.ipynb#ch0000019vscode-remote?line=10'>11</a>\u001b[0m \u001b[39mwith\u001b[39;00m tf\u001b[39m.\u001b[39mcompat\u001b[39m.\u001b[39mv1\u001b[39m.\u001b[39mSession() \u001b[39mas\u001b[39;00m sess:\n\u001b[1;32m     <a href='vscode-notebook-cell://ssh-remote%2B54.245.141.180/data/ssd/corey/git/trulens/notebooks/nlp_demo_tf2_tfhub_partial_grad_eager.ipynb#ch0000019vscode-remote?line=11'>12</a>\u001b[0m     feed_dict \u001b[39m=\u001b[39m {embedding_output_tensor\u001b[39m.\u001b[39mname: word_embedding_vals}\n\u001b[0;32m---> <a href='vscode-notebook-cell://ssh-remote%2B54.245.141.180/data/ssd/corey/git/trulens/notebooks/nlp_demo_tf2_tfhub_partial_grad_eager.ipynb#ch0000019vscode-remote?line=12'>13</a>\u001b[0m     sess\u001b[39m.\u001b[39;49mrun(grad_op, feed_dict\u001b[39m=\u001b[39;49mfeed_dict)\n",
      "File \u001b[0;32m/data/anaconda/envs/demo3/lib/python3.9/site-packages/tensorflow/python/client/session.py:967\u001b[0m, in \u001b[0;36mBaseSession.run\u001b[0;34m(self, fetches, feed_dict, options, run_metadata)\u001b[0m\n\u001b[1;32m    <a href='file:///data/anaconda/envs/demo3/lib/python3.9/site-packages/tensorflow/python/client/session.py?line=963'>964</a>\u001b[0m run_metadata_ptr \u001b[39m=\u001b[39m tf_session\u001b[39m.\u001b[39mTF_NewBuffer() \u001b[39mif\u001b[39;00m run_metadata \u001b[39melse\u001b[39;00m \u001b[39mNone\u001b[39;00m\n\u001b[1;32m    <a href='file:///data/anaconda/envs/demo3/lib/python3.9/site-packages/tensorflow/python/client/session.py?line=965'>966</a>\u001b[0m \u001b[39mtry\u001b[39;00m:\n\u001b[0;32m--> <a href='file:///data/anaconda/envs/demo3/lib/python3.9/site-packages/tensorflow/python/client/session.py?line=966'>967</a>\u001b[0m   result \u001b[39m=\u001b[39m \u001b[39mself\u001b[39;49m\u001b[39m.\u001b[39;49m_run(\u001b[39mNone\u001b[39;49;00m, fetches, feed_dict, options_ptr,\n\u001b[1;32m    <a href='file:///data/anaconda/envs/demo3/lib/python3.9/site-packages/tensorflow/python/client/session.py?line=967'>968</a>\u001b[0m                      run_metadata_ptr)\n\u001b[1;32m    <a href='file:///data/anaconda/envs/demo3/lib/python3.9/site-packages/tensorflow/python/client/session.py?line=968'>969</a>\u001b[0m   \u001b[39mif\u001b[39;00m run_metadata:\n\u001b[1;32m    <a href='file:///data/anaconda/envs/demo3/lib/python3.9/site-packages/tensorflow/python/client/session.py?line=969'>970</a>\u001b[0m     proto_data \u001b[39m=\u001b[39m tf_session\u001b[39m.\u001b[39mTF_GetBuffer(run_metadata_ptr)\n",
      "File \u001b[0;32m/data/anaconda/envs/demo3/lib/python3.9/site-packages/tensorflow/python/client/session.py:1134\u001b[0m, in \u001b[0;36mBaseSession._run\u001b[0;34m(self, handle, fetches, feed_dict, options, run_metadata)\u001b[0m\n\u001b[1;32m   <a href='file:///data/anaconda/envs/demo3/lib/python3.9/site-packages/tensorflow/python/client/session.py?line=1130'>1131</a>\u001b[0m   subfeed_t \u001b[39m=\u001b[39m \u001b[39mself\u001b[39m\u001b[39m.\u001b[39mgraph\u001b[39m.\u001b[39mas_graph_element(\n\u001b[1;32m   <a href='file:///data/anaconda/envs/demo3/lib/python3.9/site-packages/tensorflow/python/client/session.py?line=1131'>1132</a>\u001b[0m       subfeed, allow_tensor\u001b[39m=\u001b[39m\u001b[39mTrue\u001b[39;00m, allow_operation\u001b[39m=\u001b[39m\u001b[39mFalse\u001b[39;00m)\n\u001b[1;32m   <a href='file:///data/anaconda/envs/demo3/lib/python3.9/site-packages/tensorflow/python/client/session.py?line=1132'>1133</a>\u001b[0m \u001b[39mexcept\u001b[39;00m \u001b[39mException\u001b[39;00m \u001b[39mas\u001b[39;00m e:\n\u001b[0;32m-> <a href='file:///data/anaconda/envs/demo3/lib/python3.9/site-packages/tensorflow/python/client/session.py?line=1133'>1134</a>\u001b[0m   \u001b[39mraise\u001b[39;00m \u001b[39mTypeError\u001b[39;00m(\n\u001b[1;32m   <a href='file:///data/anaconda/envs/demo3/lib/python3.9/site-packages/tensorflow/python/client/session.py?line=1134'>1135</a>\u001b[0m       \u001b[39mf\u001b[39m\u001b[39m'\u001b[39m\u001b[39mCannot interpret feed_dict key as Tensor: \u001b[39m\u001b[39m{\u001b[39;00me\u001b[39m.\u001b[39margs[\u001b[39m0\u001b[39m]\u001b[39m}\u001b[39;00m\u001b[39m'\u001b[39m)\n\u001b[1;32m   <a href='file:///data/anaconda/envs/demo3/lib/python3.9/site-packages/tensorflow/python/client/session.py?line=1136'>1137</a>\u001b[0m \u001b[39mif\u001b[39;00m \u001b[39misinstance\u001b[39m(subfeed_val, ops\u001b[39m.\u001b[39mTensor):\n\u001b[1;32m   <a href='file:///data/anaconda/envs/demo3/lib/python3.9/site-packages/tensorflow/python/client/session.py?line=1137'>1138</a>\u001b[0m   \u001b[39mraise\u001b[39;00m \u001b[39mTypeError\u001b[39;00m(\n\u001b[1;32m   <a href='file:///data/anaconda/envs/demo3/lib/python3.9/site-packages/tensorflow/python/client/session.py?line=1138'>1139</a>\u001b[0m       \u001b[39m'\u001b[39m\u001b[39mThe value of a feed cannot be a tf.Tensor object. Acceptable \u001b[39m\u001b[39m'\u001b[39m\n\u001b[1;32m   <a href='file:///data/anaconda/envs/demo3/lib/python3.9/site-packages/tensorflow/python/client/session.py?line=1139'>1140</a>\u001b[0m       \u001b[39m'\u001b[39m\u001b[39mfeed values include Python scalars, strings, lists, numpy \u001b[39m\u001b[39m'\u001b[39m\n\u001b[1;32m   <a href='file:///data/anaconda/envs/demo3/lib/python3.9/site-packages/tensorflow/python/client/session.py?line=1140'>1141</a>\u001b[0m       \u001b[39m'\u001b[39m\u001b[39mndarrays, or TensorHandles. For reference, the tensor object \u001b[39m\u001b[39m'\u001b[39m\n\u001b[1;32m   <a href='file:///data/anaconda/envs/demo3/lib/python3.9/site-packages/tensorflow/python/client/session.py?line=1141'>1142</a>\u001b[0m       \u001b[39mf\u001b[39m\u001b[39m'\u001b[39m\u001b[39mwas \u001b[39m\u001b[39m{\u001b[39;00m\u001b[39mstr\u001b[39m(feed_val)\u001b[39m}\u001b[39;00m\u001b[39m which was passed to the argument \u001b[39m\u001b[39m'\u001b[39m\n\u001b[1;32m   <a href='file:///data/anaconda/envs/demo3/lib/python3.9/site-packages/tensorflow/python/client/session.py?line=1142'>1143</a>\u001b[0m       \u001b[39mf\u001b[39m\u001b[39m'\u001b[39m\u001b[39m`feed_dict` with key \u001b[39m\u001b[39m{\u001b[39;00m\u001b[39mstr\u001b[39m(feed)\u001b[39m}\u001b[39;00m\u001b[39m.\u001b[39m\u001b[39m'\u001b[39m)\n",
      "\u001b[0;31mTypeError\u001b[0m: Cannot interpret feed_dict key as Tensor: The name 'word_embeddings/Reshape_1:0' refers to a Tensor which does not exist. The operation, 'word_embeddings/Reshape_1', does not exist in the graph."
     ]
    }
   ],
   "source": [
    "init = tf.compat.v1.global_variables_initializer()\n",
    "\n",
    "with tf.compat.v1.Session() as sess:\n",
    "    sess.run(init)\n",
    "    sess.run(tf.compat.v1.tables_initializer())\n",
    "\n",
    "    word_ids = encoder_input['input_word_ids'].eval()\n",
    "    embedding_matrix_vals = embedding_matrix.eval()\n",
    "    word_embedding_vals = tf.gather(embedding_matrix_vals, word_ids).eval()\n",
    "\n",
    "with tf.compat.v1.Session() as sess:\n",
    "    feed_dict = {embedding_output_tensor.name: word_embedding_vals}\n",
    "    sess.run(grad_op, feed_dict=feed_dict)\n",
    "    # model(tf.constant([\"word one word two\"]))\n",
    "    # indices = gradients.indices.eval()\n",
    "    # values = gradients.values.eval()"
   ]
  },
  {
   "cell_type": "code",
   "execution_count": null,
   "metadata": {},
   "outputs": [],
   "source": [
    "values = np.load(\"values.npy\")\n",
    "indices = np.load(\"indices.npy\")\n",
    "we_outputs = np.load(\"we_outputs.npy\")"
   ]
  },
  {
   "cell_type": "code",
   "execution_count": null,
   "metadata": {},
   "outputs": [
    {
     "data": {
      "text/plain": [
       "array([( 96,), (104,), (145,), ( 59,), (115,), ( 85,), (  0,), (  0,),\n",
       "       ( 44,), (  0,), (  0,), (  0,), (  0,), (  0,), (  0,), (  0,),\n",
       "       ( 44,), (  0,), (  0,), (  0,), (  0,), (  0,), (  0,), (  0,),\n",
       "       (  0,), (  0,), (  0,), (  0,), (  0,), (  0,), (  0,), (  0,),\n",
       "       ( 48,), (253,), (111,), ( 60,), (115,), ( 85,), (  0,), (  0,),\n",
       "       (  9,), (  0,), (  0,), (  0,), (  0,), (  0,), (  0,), (  0,),\n",
       "       (108,), (111,), ( 99,), ( 97,), (108,), (104,), (111,), (115,),\n",
       "       (116,), (  0,), (  0,), (  0,), (  0,), (  0,), (  0,), (  0,),\n",
       "       (208,), (201,), (243,), ( 12,), (115,), ( 85,), (  0,), (  0,),\n",
       "       ( 26,), (  0,), (  0,), (  0,), (  0,), (  0,), (  0,), (  0,),\n",
       "       ( 30,), (  0,), (  0,), (  0,), (  0,), (  0,), (  0,), (  0,),\n",
       "       (  0,), (  0,), (  0,), (  0,), (  0,), (  0,), (  0,), (  0,),\n",
       "       (229,), (121,), (  9,), (254,), ( 34,), ( 81,), ( 60,), (242,),\n",
       "       (192,), (197,), (252,), ( 12,), (115,), ( 85,), (  0,), (  0,),\n",
       "       ( 18,), (  0,), (  0,), (  0,), (  0,), (  0,), (  0,), (  0,),\n",
       "       ( 30,), (  0,), (  0,), (  0,), (  0,), (  0,), (  0,), (  0,),\n",
       "       ( 48,), (  0,), (111,), ( 60,), (115,), ( 85,), (  0,), (  0,),\n",
       "       (144,), ( 63,), (249,), ( 12,), (115,), ( 85,), (  0,), (  0,),\n",
       "       (176,), ( 63,), (249,), ( 12,), (115,), ( 85,), (  0,), (  0,),\n",
       "       (176,), ( 63,), (249,), ( 12,), (115,), ( 85,), (  0,), (  0,),\n",
       "       (  0,), (  0,), (  0,), (  0,), (  0,), (  0,), (  0,), (  0,),\n",
       "       (192,), (  3,), ( 84,), (116,), (255,), (127,), (  0,), (  0,),\n",
       "       (160,), (  3,), ( 84,), (116,), (255,), (127,), (  0,), (  0,),\n",
       "       (  0,), (  0,), (  0,), (  0,), (  0,), (  0,), (  0,), (  0,)],\n",
       "      dtype=[('resource', 'u1')])"
      ]
     },
     "execution_count": 5,
     "metadata": {},
     "output_type": "execute_result"
    }
   ],
   "source": [
    "we_outputs"
   ]
  },
  {
   "cell_type": "code",
   "execution_count": null,
   "metadata": {},
   "outputs": [
    {
     "data": {
      "text/plain": [
       "array([ 101, 2773, 2028, 2773, 2048,  102,    0,    0,    0,    0,    0,\n",
       "          0,    0,    0,    0,    0,    0,    0,    0,    0,    0,    0,\n",
       "          0,    0,    0,    0,    0,    0,    0,    0,    0,    0,    0,\n",
       "          0,    0,    0,    0,    0,    0,    0,    0,    0,    0,    0,\n",
       "          0,    0,    0,    0,    0,    0,    0,    0,    0,    0,    0,\n",
       "          0,    0,    0,    0,    0,    0,    0,    0,    0,    0,    0,\n",
       "          0,    0,    0,    0,    0,    0,    0,    0,    0,    0,    0,\n",
       "          0,    0,    0,    0,    0,    0,    0,    0,    0,    0,    0,\n",
       "          0,    0,    0,    0,    0,    0,    0,    0,    0,    0,    0,\n",
       "          0,    0,    0,    0,    0,    0,    0,    0,    0,    0,    0,\n",
       "          0,    0,    0,    0,    0,    0,    0,    0,    0,    0,    0,\n",
       "          0,    0,    0,    0,    0,    0,    0], dtype=int32)"
      ]
     },
     "execution_count": 6,
     "metadata": {},
     "output_type": "execute_result"
    }
   ],
   "source": [
    "indices"
   ]
  },
  {
   "cell_type": "code",
   "execution_count": null,
   "metadata": {},
   "outputs": [
    {
     "data": {
      "text/plain": [
       "((128, 512),\n",
       " array([[-3.8966417e-09, -5.2767932e-09,  4.3688053e-10, ...,\n",
       "         -6.0606237e-10, -1.4775993e-09,  7.6429298e-09],\n",
       "        [-1.2371629e-08, -1.3504893e-08,  2.2429301e-09, ...,\n",
       "          6.0763745e-09, -9.0240544e-09,  8.8282892e-09],\n",
       "        [-1.0507111e-09, -1.0066673e-08,  9.6981916e-09, ...,\n",
       "          1.4974298e-10,  2.6738209e-09, -3.0488343e-09],\n",
       "        ...,\n",
       "        [-3.3865962e-11,  2.2052631e-12,  3.9422710e-12, ...,\n",
       "          8.1435643e-11,  2.7550151e-11,  8.3780108e-11],\n",
       "        [ 0.0000000e+00,  0.0000000e+00,  0.0000000e+00, ...,\n",
       "          0.0000000e+00,  0.0000000e+00,  0.0000000e+00],\n",
       "        [ 0.0000000e+00,  0.0000000e+00,  0.0000000e+00, ...,\n",
       "          0.0000000e+00,  0.0000000e+00,  0.0000000e+00]], dtype=float32))"
      ]
     },
     "execution_count": 10,
     "metadata": {},
     "output_type": "execute_result"
    }
   ],
   "source": [
    "values.shape, values"
   ]
  },
  {
   "cell_type": "code",
   "execution_count": null,
   "metadata": {},
   "outputs": [],
   "source": [
    "values"
   ]
  }
 ],
 "metadata": {
  "anaconda-cloud": {},
  "interpreter": {
   "hash": "ce4e35a76a569399d57219f9877d3cff9bc99a439b1c8dd709c903be401418f7"
  },
  "kernelspec": {
   "display_name": "Python 3.9.12 ('demo3')",
   "language": "python",
   "name": "python3"
  },
  "language_info": {
   "codemirror_mode": {
    "name": "ipython",
    "version": 3
   },
   "file_extension": ".py",
   "mimetype": "text/x-python",
   "name": "python",
   "nbconvert_exporter": "python",
   "pygments_lexer": "ipython3",
   "version": "3.9.12"
  }
 },
 "nbformat": 4,
 "nbformat_minor": 2
}
