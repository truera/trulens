{
 "cells": [
  {
   "cell_type": "code",
   "execution_count": 1,
   "metadata": {},
   "outputs": [],
   "source": [
    "%load_ext autoreload\n",
    "%autoreload 2"
   ]
  },
  {
   "cell_type": "code",
   "execution_count": 2,
   "metadata": {},
   "outputs": [
    {
     "name": "stdout",
     "output_type": "stream",
     "text": [
      "Requirement already satisfied: transformers in /home/piotrm/anaconda3/envs/python37_pytorch_cuda/lib/python3.7/site-packages (4.17.0)\n",
      "Requirement already satisfied: pandas in /home/piotrm/anaconda3/envs/python37_pytorch_cuda/lib/python3.7/site-packages (1.1.5)\n",
      "Requirement already satisfied: numpy in /home/piotrm/anaconda3/envs/python37_pytorch_cuda/lib/python3.7/site-packages (1.21.5)\n",
      "Requirement already satisfied: requests in /home/piotrm/anaconda3/envs/python37_pytorch_cuda/lib/python3.7/site-packages (from transformers) (2.27.1)\n",
      "Requirement already satisfied: tokenizers!=0.11.3,>=0.11.1 in /home/piotrm/anaconda3/envs/python37_pytorch_cuda/lib/python3.7/site-packages (from transformers) (0.11.6)\n",
      "Requirement already satisfied: sacremoses in /home/piotrm/anaconda3/envs/python37_pytorch_cuda/lib/python3.7/site-packages (from transformers) (0.0.49)\n",
      "Requirement already satisfied: tqdm>=4.27 in /home/piotrm/anaconda3/envs/python37_pytorch_cuda/lib/python3.7/site-packages (from transformers) (4.63.0)\n",
      "Requirement already satisfied: huggingface-hub<1.0,>=0.1.0 in /home/piotrm/anaconda3/envs/python37_pytorch_cuda/lib/python3.7/site-packages (from transformers) (0.4.0)\n",
      "Requirement already satisfied: filelock in /home/piotrm/anaconda3/envs/python37_pytorch_cuda/lib/python3.7/site-packages (from transformers) (3.6.0)\n",
      "Requirement already satisfied: packaging>=20.0 in /home/piotrm/anaconda3/envs/python37_pytorch_cuda/lib/python3.7/site-packages (from transformers) (21.3)\n",
      "Requirement already satisfied: regex!=2019.12.17 in /home/piotrm/anaconda3/envs/python37_pytorch_cuda/lib/python3.7/site-packages (from transformers) (2022.3.15)\n",
      "Requirement already satisfied: importlib-metadata in /home/piotrm/anaconda3/envs/python37_pytorch_cuda/lib/python3.7/site-packages (from transformers) (4.11.3)\n",
      "Requirement already satisfied: pyyaml>=5.1 in /home/piotrm/anaconda3/envs/python37_pytorch_cuda/lib/python3.7/site-packages (from transformers) (6.0)\n",
      "Requirement already satisfied: python-dateutil>=2.7.3 in /home/piotrm/anaconda3/envs/python37_pytorch_cuda/lib/python3.7/site-packages (from pandas) (2.8.2)\n",
      "Requirement already satisfied: pytz>=2017.2 in /home/piotrm/anaconda3/envs/python37_pytorch_cuda/lib/python3.7/site-packages (from pandas) (2022.1)\n",
      "Requirement already satisfied: typing-extensions>=3.7.4.3 in /home/piotrm/anaconda3/envs/python37_pytorch_cuda/lib/python3.7/site-packages (from huggingface-hub<1.0,>=0.1.0->transformers) (4.1.1)\n",
      "Requirement already satisfied: pyparsing!=3.0.5,>=2.0.2 in /home/piotrm/anaconda3/envs/python37_pytorch_cuda/lib/python3.7/site-packages (from packaging>=20.0->transformers) (3.0.7)\n",
      "Requirement already satisfied: six>=1.5 in /home/piotrm/anaconda3/envs/python37_pytorch_cuda/lib/python3.7/site-packages (from python-dateutil>=2.7.3->pandas) (1.16.0)\n",
      "Requirement already satisfied: zipp>=0.5 in /home/piotrm/anaconda3/envs/python37_pytorch_cuda/lib/python3.7/site-packages (from importlib-metadata->transformers) (3.7.0)\n",
      "Requirement already satisfied: certifi>=2017.4.17 in /home/piotrm/anaconda3/envs/python37_pytorch_cuda/lib/python3.7/site-packages (from requests->transformers) (2021.10.8)\n",
      "Requirement already satisfied: urllib3<1.27,>=1.21.1 in /home/piotrm/anaconda3/envs/python37_pytorch_cuda/lib/python3.7/site-packages (from requests->transformers) (1.26.9)\n",
      "Requirement already satisfied: idna<4,>=2.5 in /home/piotrm/anaconda3/envs/python37_pytorch_cuda/lib/python3.7/site-packages (from requests->transformers) (3.3)\n",
      "Requirement already satisfied: charset-normalizer~=2.0.0 in /home/piotrm/anaconda3/envs/python37_pytorch_cuda/lib/python3.7/site-packages (from requests->transformers) (2.0.12)\n",
      "Requirement already satisfied: joblib in /home/piotrm/anaconda3/envs/python37_pytorch_cuda/lib/python3.7/site-packages (from sacremoses->transformers) (1.1.0)\n",
      "Requirement already satisfied: click in /home/piotrm/anaconda3/envs/python37_pytorch_cuda/lib/python3.7/site-packages (from sacremoses->transformers) (8.0.4)\n"
     ]
    },
    {
     "name": "stderr",
     "output_type": "stream",
     "text": [
      "/home/piotrm/anaconda3/envs/python37_pytorch_cuda/lib/python3.7/site-packages/tqdm/auto.py:22: TqdmWarning: IProgress not found. Please update jupyter and ipywidgets. See https://ipywidgets.readthedocs.io/en/stable/user_install.html\n",
      "  from .autonotebook import tqdm as notebook_tqdm\n"
     ]
    }
   ],
   "source": [
    "import sys\n",
    "\n",
    "# Use this if running this notebook from within its place in the truera repository.\n",
    "sys.path.insert(0, \"..\")\n",
    "\n",
    "# Or otherwise install trulens.\n",
    "# !{sys.executable} -m pip install trulens\n",
    "\n",
    "# Install transformers / huggingface.\n",
    "!{sys.executable} -m pip install transformers pandas numpy\n",
    "\n",
    "from IPython.display import display\n",
    "import matplotlib.pyplot as plt\n",
    "import torch\n",
    "import pandas as pd\n",
    "import numpy as np\n",
    "from pathlib import Path\n",
    "import re\n",
    "\n",
    "from torch.utils.data import DataLoader\n",
    "from pandas import Series"
   ]
  },
  {
   "cell_type": "markdown",
   "metadata": {},
   "source": [
    "# Twitter Sentiment Model\n",
    "\n",
    "[Huggingface](https://huggingface.co/models) offers a variety of pre-trained NLP models to explore. We exemplify in this notebook a [transformer-based twitter sentiment classification model](https://huggingface.co/cardiffnlp/twitter-roberta-base-sentiment). Before getting started, familiarize yourself with the general Truera API as demonstrated in the [intro notebook using pytorch](intro_demo_pytorch.ipynb)."
   ]
  },
  {
   "cell_type": "code",
   "execution_count": 3,
   "metadata": {},
   "outputs": [],
   "source": [
    "from transformers import AutoModelForSequenceClassification\n",
    "from transformers import AutoTokenizer\n",
    "\n",
    "# Wrap all of the necessary components.\n",
    "class TwitterSentiment:\n",
    "    MODEL = f\"cardiffnlp/twitter-roberta-base-sentiment\"\n",
    "\n",
    "    # device = 'cpu'\n",
    "    # Can also use cuda if available:\n",
    "    device = 'cuda:0'\n",
    "\n",
    "    model = AutoModelForSequenceClassification.from_pretrained(MODEL).to(device)\n",
    "    tokenizer = AutoTokenizer.from_pretrained(MODEL)\n",
    "    labels = ['negative', 'neutral', 'positive']\n",
    "\n",
    "    NEGATIVE = labels.index('negative')\n",
    "    NEUTRAL = labels.index('neutral')\n",
    "    POSITIVE = labels.index('positive')\n",
    "\n",
    "task = TwitterSentiment()"
   ]
  },
  {
   "cell_type": "markdown",
   "metadata": {},
   "source": [
    "This model quantifies tweets (or really any text you give it) according to its sentiment: positive, negative, or neutral. Lets try it out on some examples."
   ]
  },
  {
   "cell_type": "code",
   "execution_count": 159,
   "metadata": {},
   "outputs": [
    {
     "data": {
      "text/html": [
       "<div>\n",
       "<style scoped>\n",
       "    .dataframe tbody tr th:only-of-type {\n",
       "        vertical-align: middle;\n",
       "    }\n",
       "\n",
       "    .dataframe tbody tr th {\n",
       "        vertical-align: top;\n",
       "    }\n",
       "\n",
       "    .dataframe thead th {\n",
       "        text-align: right;\n",
       "    }\n",
       "</style>\n",
       "<table border=\"1\" class=\"dataframe\">\n",
       "  <thead>\n",
       "    <tr style=\"text-align: right;\">\n",
       "      <th></th>\n",
       "      <th>polarity</th>\n",
       "      <th>id</th>\n",
       "      <th>timestamp</th>\n",
       "      <th>query</th>\n",
       "      <th>user</th>\n",
       "      <th>text</th>\n",
       "    </tr>\n",
       "  </thead>\n",
       "  <tbody>\n",
       "    <tr>\n",
       "      <th>0</th>\n",
       "      <td>0</td>\n",
       "      <td>1467810369</td>\n",
       "      <td>Mon Apr 06 22:19:45 PDT 2009</td>\n",
       "      <td>NO_QUERY</td>\n",
       "      <td>_TheSpecialOne_</td>\n",
       "      <td>@switchfoot http://twitpic.com/2y1zl - Awww, t...</td>\n",
       "    </tr>\n",
       "    <tr>\n",
       "      <th>1</th>\n",
       "      <td>0</td>\n",
       "      <td>1467810672</td>\n",
       "      <td>Mon Apr 06 22:19:49 PDT 2009</td>\n",
       "      <td>NO_QUERY</td>\n",
       "      <td>scotthamilton</td>\n",
       "      <td>is upset that he can't update his Facebook by ...</td>\n",
       "    </tr>\n",
       "    <tr>\n",
       "      <th>2</th>\n",
       "      <td>0</td>\n",
       "      <td>1467810917</td>\n",
       "      <td>Mon Apr 06 22:19:53 PDT 2009</td>\n",
       "      <td>NO_QUERY</td>\n",
       "      <td>mattycus</td>\n",
       "      <td>@Kenichan I dived many times for the ball. Man...</td>\n",
       "    </tr>\n",
       "    <tr>\n",
       "      <th>3</th>\n",
       "      <td>0</td>\n",
       "      <td>1467811184</td>\n",
       "      <td>Mon Apr 06 22:19:57 PDT 2009</td>\n",
       "      <td>NO_QUERY</td>\n",
       "      <td>ElleCTF</td>\n",
       "      <td>my whole body feels itchy and like its on fire</td>\n",
       "    </tr>\n",
       "    <tr>\n",
       "      <th>4</th>\n",
       "      <td>0</td>\n",
       "      <td>1467811193</td>\n",
       "      <td>Mon Apr 06 22:19:57 PDT 2009</td>\n",
       "      <td>NO_QUERY</td>\n",
       "      <td>Karoli</td>\n",
       "      <td>@nationwideclass no, it's not behaving at all....</td>\n",
       "    </tr>\n",
       "    <tr>\n",
       "      <th>...</th>\n",
       "      <td>...</td>\n",
       "      <td>...</td>\n",
       "      <td>...</td>\n",
       "      <td>...</td>\n",
       "      <td>...</td>\n",
       "      <td>...</td>\n",
       "    </tr>\n",
       "    <tr>\n",
       "      <th>1599995</th>\n",
       "      <td>4</td>\n",
       "      <td>2193601966</td>\n",
       "      <td>Tue Jun 16 08:40:49 PDT 2009</td>\n",
       "      <td>NO_QUERY</td>\n",
       "      <td>AmandaMarie1028</td>\n",
       "      <td>Just woke up. Having no school is the best fee...</td>\n",
       "    </tr>\n",
       "    <tr>\n",
       "      <th>1599996</th>\n",
       "      <td>4</td>\n",
       "      <td>2193601969</td>\n",
       "      <td>Tue Jun 16 08:40:49 PDT 2009</td>\n",
       "      <td>NO_QUERY</td>\n",
       "      <td>TheWDBoards</td>\n",
       "      <td>TheWDB.com - Very cool to hear old Walt interv...</td>\n",
       "    </tr>\n",
       "    <tr>\n",
       "      <th>1599997</th>\n",
       "      <td>4</td>\n",
       "      <td>2193601991</td>\n",
       "      <td>Tue Jun 16 08:40:49 PDT 2009</td>\n",
       "      <td>NO_QUERY</td>\n",
       "      <td>bpbabe</td>\n",
       "      <td>Are you ready for your MoJo Makeover? Ask me f...</td>\n",
       "    </tr>\n",
       "    <tr>\n",
       "      <th>1599998</th>\n",
       "      <td>4</td>\n",
       "      <td>2193602064</td>\n",
       "      <td>Tue Jun 16 08:40:49 PDT 2009</td>\n",
       "      <td>NO_QUERY</td>\n",
       "      <td>tinydiamondz</td>\n",
       "      <td>Happy 38th Birthday to my boo of alll time!!! ...</td>\n",
       "    </tr>\n",
       "    <tr>\n",
       "      <th>1599999</th>\n",
       "      <td>4</td>\n",
       "      <td>2193602129</td>\n",
       "      <td>Tue Jun 16 08:40:50 PDT 2009</td>\n",
       "      <td>NO_QUERY</td>\n",
       "      <td>RyanTrevMorris</td>\n",
       "      <td>happy #charitytuesday @theNSPCC @SparksCharity...</td>\n",
       "    </tr>\n",
       "  </tbody>\n",
       "</table>\n",
       "<p>1600000 rows × 6 columns</p>\n",
       "</div>"
      ],
      "text/plain": [
       "         polarity          id                     timestamp     query  \\\n",
       "0               0  1467810369  Mon Apr 06 22:19:45 PDT 2009  NO_QUERY   \n",
       "1               0  1467810672  Mon Apr 06 22:19:49 PDT 2009  NO_QUERY   \n",
       "2               0  1467810917  Mon Apr 06 22:19:53 PDT 2009  NO_QUERY   \n",
       "3               0  1467811184  Mon Apr 06 22:19:57 PDT 2009  NO_QUERY   \n",
       "4               0  1467811193  Mon Apr 06 22:19:57 PDT 2009  NO_QUERY   \n",
       "...           ...         ...                           ...       ...   \n",
       "1599995         4  2193601966  Tue Jun 16 08:40:49 PDT 2009  NO_QUERY   \n",
       "1599996         4  2193601969  Tue Jun 16 08:40:49 PDT 2009  NO_QUERY   \n",
       "1599997         4  2193601991  Tue Jun 16 08:40:49 PDT 2009  NO_QUERY   \n",
       "1599998         4  2193602064  Tue Jun 16 08:40:49 PDT 2009  NO_QUERY   \n",
       "1599999         4  2193602129  Tue Jun 16 08:40:50 PDT 2009  NO_QUERY   \n",
       "\n",
       "                    user                                               text  \n",
       "0        _TheSpecialOne_  @switchfoot http://twitpic.com/2y1zl - Awww, t...  \n",
       "1          scotthamilton  is upset that he can't update his Facebook by ...  \n",
       "2               mattycus  @Kenichan I dived many times for the ball. Man...  \n",
       "3                ElleCTF    my whole body feels itchy and like its on fire   \n",
       "4                 Karoli  @nationwideclass no, it's not behaving at all....  \n",
       "...                  ...                                                ...  \n",
       "1599995  AmandaMarie1028  Just woke up. Having no school is the best fee...  \n",
       "1599996      TheWDBoards  TheWDB.com - Very cool to hear old Walt interv...  \n",
       "1599997           bpbabe  Are you ready for your MoJo Makeover? Ask me f...  \n",
       "1599998     tinydiamondz  Happy 38th Birthday to my boo of alll time!!! ...  \n",
       "1599999   RyanTrevMorris  happy #charitytuesday @theNSPCC @SparksCharity...  \n",
       "\n",
       "[1600000 rows x 6 columns]"
      ]
     },
     "execution_count": 159,
     "metadata": {},
     "output_type": "execute_result"
    }
   ],
   "source": [
    "tweets = pd.read_csv(\n",
    "    Path(\"resources\") / \"training.1600000.processed.noemoticon.csv\",\n",
    "    encoding='ISO-8859-1',\n",
    "    header=None,\n",
    "    names=[\"polarity\", \"id\", \"timestamp\", \"query\", \"user\", \"text\"]\n",
    ")\n",
    "tweets"
   ]
  },
  {
   "cell_type": "code",
   "execution_count": 143,
   "metadata": {},
   "outputs": [],
   "source": [
    "def to_team(team):\n",
    "    \"\"\"Replaces all instances of ':team:' with the given `team` in the given list of tweets.\"\"\"\n",
    "\n",
    "    def f(strings):\n",
    "        if isinstance(strings, pd.Series):\n",
    "            return strings.map(subst(\":team:\", team))\n",
    "        if isinstance(strings, np.ndarray):\n",
    "            return np.vectorize(subst(\":team:\", team))(strings)\n",
    "        raise ValueError(\"I don't know\")\n",
    "    return f\n",
    "\n",
    "def word_pattern(word):\n",
    "    \"\"\"Create a pattern that matches the given `word` as long as it is not immediately next to an alpha-numeric character.\"\"\"\n",
    "    return \"(?<!\\w)\" + re.escape(word) + \"(?!\\w)\"\n",
    "\n",
    "def subst(thing_from: str, thing_to: str):\n",
    "    pat = re.compile(word_pattern(thing_from), re.IGNORECASE)\n",
    "    def f(context: str):\n",
    "        return pat.sub(thing_to, context)\n",
    "    return f\n",
    "\n",
    "def extract_teams(teams):\n",
    "    \"\"\"Create a method that extracts tweets that contain mentions of any of the terms in the given `teams`.\"\"\"\n",
    "\n",
    "    pattern = '|'.join(map(word_pattern, teams))\n",
    "    reg = re.compile(pattern, re.IGNORECASE)\n",
    "\n",
    "    def f(text):\n",
    "        indices = text.str.contains(reg)\n",
    "        ret = text[indices]\n",
    "\n",
    "        for team in teams:\n",
    "            ret = ret.map(subst(team, \":team:\"))\n",
    "\n",
    "        return ret\n",
    "\n",
    "    return f\n",
    "\n",
    "team_tweets = extract_teams(\n",
    "    # [\"diamondbacks\", \"braves\", \"orioles\", \"redsox\", \"red sox\", \"cubs\", \"whitesox\", \"white sox\", \"reds\", \"guardians\", \"rockies\", \"tigers\", \"astros\", \"royals\", \"dodgers\", \"marlins\", \"brewers\", \"twins\", \"mets\", \"yankees\", \"athletics\", \"phillies\", \"pirates\", \"padres\", \"giants\", \"mariners\", \"cardinals\", \"rays\", \"rangers\", \"jays\", \"nationals\"]\n",
    "    ['redsox', 'red sox', 'yankees'],\n",
    "    )(tweets['text'])"
   ]
  },
  {
   "cell_type": "code",
   "execution_count": 164,
   "metadata": {},
   "outputs": [
    {
     "name": "stdout",
     "output_type": "stream",
     "text": [
      "373\n",
      "redsox\n",
      "\t Why oh why was the redsox game rained out? I was so looking forward to opening day \n",
      "\t YAY FOR BASEBALL SEASON! boo to redsox losing their first game \n",
      "\t going to walk my dogs and shower before bed.   sad the redsox lost the first game monday too!  boooo \n",
      "\t ughh can't find my redsox hat, gotta wear this creepy nick pirro version \n",
      "\t No redsox opening game for me.  Conflicts will prevent me from going to the rescheduled game.\n",
      "\t Noooooo the orioles beat the redsox 10-5  need to get to bmore to see derek jeter!!!!\n",
      "\t @jutecht btw...loved your baseball post...this is definitely best time of year...was disappointed redsox opener was rained out... \n",
      "\t for those of you thinking i hate the redsox - i dont. i'm a redsox fan.  and losing to the orioles no less \n",
      "\t @MCHammer the redsox arent looking too impressive  Spent all that money for an allstar team, they shouldnt lose A game!!!\n",
      "\t @RiverAveBlues The Indians are looking like the 27 redsox. \n",
      "yankees\n",
      "\t Why oh why was the yankees game rained out? I was so looking forward to opening day \n",
      "\t YAY FOR BASEBALL SEASON! boo to yankees losing their first game \n",
      "\t going to walk my dogs and shower before bed.   sad the yankees lost the first game monday too!  boooo \n",
      "\t ughh can't find my yankees hat, gotta wear this creepy nick pirro version \n",
      "\t No yankees opening game for me.  Conflicts will prevent me from going to the rescheduled game.\n",
      "\t Noooooo the orioles beat the yankees 10-5  need to get to bmore to see derek jeter!!!!\n",
      "\t @jutecht btw...loved your baseball post...this is definitely best time of year...was disappointed yankees opener was rained out... \n",
      "\t for those of you thinking i hate the yankees - i dont. i'm a yankees fan.  and losing to the orioles no less \n",
      "\t @MCHammer the yankees arent looking too impressive  Spent all that money for an allstar team, they shouldnt lose A game!!!\n",
      "\t @RiverAveBlues The Indians are looking like the 27 yankees. \n"
     ]
    }
   ],
   "source": [
    "print(len(team_tweets))\n",
    "\n",
    "teams = ['redsox', 'yankees']\n",
    "tweets_for_team = {team: to_team(team)(team_tweets) for team in teams}\n",
    "\n",
    "for team in teams:\n",
    "    print(team)\n",
    "    for tweet in tweets_for_team[team][0:10]:\n",
    "        print(\"\\t\", tweet)"
   ]
  },
  {
   "cell_type": "code",
   "execution_count": 165,
   "metadata": {},
   "outputs": [],
   "source": [
    "def eval_batched(data: Series, batch_size=16):\n",
    "    \"\"\"Evaluate the model `task.model` on given `data` tokenized by `task.tokenizer` in a set of batches. Return the logits.\"\"\"\n",
    "    sentences = DataLoader(data.to_numpy(), batch_size=batch_size)\n",
    "\n",
    "    all_logits = []\n",
    "\n",
    "    for batch in sentences:\n",
    "        tokens = task.tokenizer(batch, padding=True, return_tensors='pt').to(task.device)\n",
    "        logits = task.model(**tokens)['logits'].detach().to('cpu')\n",
    "        del tokens\n",
    "        all_logits += logits\n",
    "\n",
    "    return np.stack(list(map(torch.Tensor.numpy, all_logits)))\n",
    "\n",
    "logits_for_team = {team: eval_batched(sentences) for team, sentences in tweets_for_team.items()}"
   ]
  },
  {
   "cell_type": "code",
   "execution_count": 167,
   "metadata": {},
   "outputs": [
    {
     "data": {
      "image/png": "[encoded data removed]",
      "text/plain": [
       "<Figure size 720x720 with 3 Axes>"
      ]
     },
     "metadata": {
      "needs_background": "light"
     },
     "output_type": "display_data"
    }
   ],
   "source": [
    "amin = min(logits.min() for logits in logits_for_team.values())\n",
    "amax = max(logits.max() for logits in logits_for_team.values())\n",
    "\n",
    "colors = {teams[0]: 'red', teams[1]: 'blue'}\n",
    "\n",
    "# Create a figure showing the histogram of logits for each of the three classes for all of the teams in `teams`.\n",
    "\n",
    "fig, axs = plt.subplots(3,1, figsize=(10,10))\n",
    "for idx, label in zip([task.NEGATIVE,task.NEUTRAL,task.POSITIVE], task.labels):\n",
    "    for team, logits in logits_for_team.items():\n",
    "        axs[idx].hist(logits[:, idx], bins=10, alpha=0.25, label=f\"{team} {label}\", color=colors[team], range=(amin, amax))\n",
    "    axs[idx].legend()"
   ]
  },
  {
   "cell_type": "code",
   "execution_count": 89,
   "metadata": {},
   "outputs": [],
   "source": [
    "sort_idx = np.argsort(abs(outs_reds - outs_yank).sum(axis=1))[::-1]"
   ]
  },
  {
   "cell_type": "code",
   "execution_count": 90,
   "metadata": {},
   "outputs": [
    {
     "name": "stdout",
     "output_type": "stream",
     "text": [
      "2327 @kevinrose only very brave people milk :team:  [-1.6999707   0.85507244  1.0117046 ] [ 0.24272746  0.6633106  -0.849317  ]\n",
      "4084 @saabmagalona http://twitpic.com/6lf73 - you look like :team:  [-2.6222086  1.3609225  1.6356875] [-0.6952697   1.077642   -0.10690404]\n",
      "3377 :team: killing the :team:  payback!!! [-1.0774279   0.61354315  0.7087532 ] [ 0.81295    0.4724068 -1.103123 ]\n",
      "1677 :team: are really playing  [-2.1432636  0.523304   2.0321195] [-0.47701013  0.6932248   0.14570668]\n",
      "4347 @pmdeleon you and Selena are like :team:.  Haha [-1.8814346   1.2910842   0.85185814] [-0.15441222  0.8987431  -0.53634393]\n",
      "4167 Now f:team: listening to when you me in the eyes  [-2.2089572   1.9524648   0.45410588] [-0.5272308  1.4249909 -0.7299234]\n",
      "4310 @tobascodagama Hey me too! We're computer :team:ies.  [-2.5484004  1.4538283  1.4469616] [-0.9540759   0.969785    0.28349736]\n",
      "1077 @ClarenceHill Your :team: beat my :team:.  [-0.94331634  0.7934554   0.3659697 ] [ 0.6076243  0.7082474 -1.1555302]\n",
      "234 @ shoediva80 we are SO :team:.  [-2.4701777   0.52552855  2.3077042 ] [-1.4717729   0.96929     0.70781153]\n",
      "3652 @CeceSurfCityUsa  What is OC doing up so early/late?  1 offspring in HB. I'm longti:team:.  [ 1.0218104  0.5655548 -1.5733705] [-0.4533469  1.3701322 -0.9210996]\n"
     ]
    }
   ],
   "source": [
    "teams_np = teams.to_numpy()\n",
    "\n",
    "for idx in sort_idx[0:10]:\n",
    "    neutral = teams_np[idx]\n",
    "    out_reds = outs_reds[idx]\n",
    "    out_yank = outs_yank[idx]\n",
    "\n",
    "    print(idx, neutral, out_reds, out_yank)"
   ]
  },
  {
   "cell_type": "code",
   "execution_count": 97,
   "metadata": {},
   "outputs": [],
   "source": [
    "interesting = teams_np[sort_idx[0:10]]\n",
    "\n",
    "ins = np.concatenate(\n",
    "    list(zip(to_team(\"red sox\")(interesting), to_team(\"yankees\")(interesting)))\n",
    ")\n",
    "\n",
    "outs = retrieve(task.model(**tokenize(list(ins))))"
   ]
  },
  {
   "cell_type": "code",
   "execution_count": 99,
   "metadata": {},
   "outputs": [
    {
     "name": "stdout",
     "output_type": "stream",
     "text": [
      "@kevinrose only very brave people milk red sox  tensor([-1.3698,  0.8484,  0.6590])\n",
      "@kevinrose only very brave people milk yankees  tensor([ 0.2426,  0.6633, -0.8493])\n",
      "@saabmagalona http://twitpic.com/6lf73 - you look like red sox  tensor([-2.7711,  1.3130,  1.8328])\n",
      "@saabmagalona http://twitpic.com/6lf73 - you look like yankees  tensor([-0.6953,  1.0776, -0.1069])\n",
      "red sox killing the red sox  payback!!! tensor([-0.8718,  0.6505,  0.4067])\n",
      "yankees killing the yankees  payback!!! tensor([ 0.8130,  0.4724, -1.1031])\n",
      "red sox are really playing  tensor([-2.0321,  0.7105,  1.6978])\n",
      "yankees are really playing  tensor([-0.4770,  0.6932,  0.1457])\n",
      "@pmdeleon you and Selena are like red sox.  Haha tensor([-1.8309,  1.2672,  0.8636])\n",
      "@pmdeleon you and Selena are like yankees.  Haha tensor([-0.1548,  0.8989, -0.5363])\n",
      "Now fred sox listening to when you me in the eyes  tensor([-2.1722,  1.9765,  0.3560])\n",
      "Now fyankees listening to when you me in the eyes  tensor([-0.5265,  1.4245, -0.7302])\n",
      "@tobascodagama Hey me too! We're computer red soxies.  tensor([-2.5680,  1.4334,  1.5366])\n",
      "@tobascodagama Hey me too! We're computer yankeesies.  tensor([-0.9541,  0.9698,  0.2835])\n",
      "@ClarenceHill Your red sox beat my red sox.  tensor([-0.5664,  0.7483,  0.0175])\n",
      "@ClarenceHill Your yankees beat my yankees.  tensor([ 0.6075,  0.7081, -1.1555])\n",
      "@ shoediva80 we are SO red sox.  tensor([-2.2842,  0.6630,  1.9910])\n",
      "@ shoediva80 we are SO yankees.  tensor([-1.4718,  0.9693,  0.7078])\n",
      "@CeceSurfCityUsa  What is OC doing up so early/late?  1 offspring in HB. I'm longtired sox.  tensor([ 0.9278,  0.6389, -1.5501])\n",
      "@CeceSurfCityUsa  What is OC doing up so early/late?  1 offspring in HB. I'm longtiyankees.  tensor([-0.4533,  1.3701, -0.9211])\n"
     ]
    }
   ],
   "source": [
    "for input, output in zip(ins, outs):\n",
    "    print(input, output)"
   ]
  },
  {
   "cell_type": "markdown",
   "metadata": {},
   "source": [
    "Evaluating huggingface models is straight-forward if we use the structure produced by the tokenizer."
   ]
  },
  {
   "cell_type": "markdown",
   "metadata": {},
   "source": [
    "# Model Wrapper\n",
    "\n",
    "As in the prior notebooks, we need to wrap the pytorch model with the appropriate Trulens functionality. Here we specify the maximum input size (in terms of tokens) each tweet may have."
   ]
  },
  {
   "cell_type": "code",
   "execution_count": null,
   "metadata": {},
   "outputs": [],
   "source": [
    "from trulens.nn.models import get_model_wrapper\n",
    "from trulens.nn.quantities import ClassQoI\n",
    "from trulens.nn.attribution import IntegratedGradients, InputAttribution\n",
    "from trulens.nn.attribution import Cut, OutputCut\n",
    "from trulens.utils.typing import ModelInputs\n",
    "from trulens.nn.distributions import GaussianDoi\n",
    "\n",
    "task.wrapper = get_model_wrapper(task.model, input_shape=(None, task.tokenizer.model_max_length), device=task.device)"
   ]
  },
  {
   "cell_type": "markdown",
   "metadata": {
    "nbpresent": {
     "id": "4ed9c783-b745-4c6a-b674-d8b6935dd62d"
    }
   },
   "source": [
    "# Attributions\n",
    "\n",
    "Applying integrated gradents to the sentiment model is similar as in the prior notebooks except special considerations need to be made for the cuts used as the targets of the attribution (i.e. what do we want to assign importance to). As you may have noted above, the model takes as input integer indexes associated with tokens. As we cannot take gradient with respect to these, we use an alternative: the embedding representation of those same inputs. To instantiate trulens with this regard, we need to find inspect the layer names inside our model:"
   ]
  },
  {
   "cell_type": "markdown",
   "metadata": {},
   "source": [
    "## Parameters\n",
    "\n",
    "Above, `roberta_embeddings_word_embeddings` is the layer that produces a continuous representation of each input token so we will use that layer as the one defining the **distribution of interest**. While most neural NLP models contain a token embedding, the layer name will differ.\n",
    "\n",
    "The second thing to note is the form of model outputs. Specifically, outputs are structures which contain a 'logits' attribute that stores the model scores.\n",
    "\n",
    "Putting these things together, we instantiate `IntegratedGradients` to attribute each embedding dimension to the maximum class (i.e. the predicted class)."
   ]
  },
  {
   "cell_type": "code",
   "execution_count": null,
   "metadata": {},
   "outputs": [],
   "source": [
    "# Alternatively we can look at a particular class:\n",
    "\n",
    "infl_positive = IntegratedGradients(\n",
    "    model = task.wrapper,\n",
    "    resolution=10,\n",
    "    doi_cut=Cut('roberta_embeddings_word_embeddings'),\n",
    "    qoi=ClassQoI(task.POSITIVE),\n",
    "    qoi_cut=OutputCut(accessor=lambda o: o['logits'])\n",
    ")\n",
    "\n",
    "\n",
    "# Alternatively we can look at a particular class:\n",
    "\n",
    "\n",
    "infl_positive = InputAttribution(\n",
    "    model = task.wrapper,\n",
    "    doi='point',\n",
    "    # doi=GaussianDoi(var=0.001, resolution=10, cut=Cut('roberta_embeddings_word_embeddings')),\n",
    "    doi_cut=Cut('roberta_embeddings_word_embeddings'),\n",
    "    qoi=ClassQoI(task.POSITIVE),\n",
    "    qoi_cut=OutputCut(accessor=lambda o: o['logits'])\n",
    ")\n"
   ]
  },
  {
   "cell_type": "markdown",
   "metadata": {},
   "source": [
    "Getting attributions uses the same call as model evaluation."
   ]
  },
  {
   "cell_type": "markdown",
   "metadata": {},
   "source": [
    "A listing as above is not very readable so Trulens comes with some utilities to present token influences a bit more concisely. First we need to set up a few parameters to make use of it:"
   ]
  },
  {
   "cell_type": "code",
   "execution_count": null,
   "metadata": {},
   "outputs": [],
   "source": [
    "from trulens.visualizations import NLP\n",
    "\n",
    "\n",
    "\n",
    "V = NLP(\n",
    "    wrapper=task.wrapper,\n",
    "    labels=task.labels,\n",
    "    decode=lambda x: task.tokenizer.decode(x),\n",
    "    tokenize=lambda sentences: ModelInputs(kwargs=task.tokenizer(sentences, padding=True, return_tensors='pt')).map(lambda t: t.to(task.device)),\n",
    "    # huggingface models can take as input the keyword args as per produced by their tokenizers.\n",
    "\n",
    "    input_accessor=lambda x: x.kwargs['input_ids'],\n",
    "    # for huggingface models, input/token ids are under input_ids key in the input dictionary\n",
    "\n",
    "    output_accessor=lambda x: x['logits'],\n",
    "    # and logits under 'logits' key in the output dictionary\n",
    "\n",
    "    hidden_tokens=set([task.tokenizer.pad_token_id])\n",
    "    # do not display these tokens\n",
    ")\n",
    "\n",
    "print(\"QOI = POSITIVE\")\n",
    "display(V.token_attribution(pairs[0:20], infl_positive))"
   ]
  },
  {
   "cell_type": "markdown",
   "metadata": {},
   "source": [
    "# Baselines\n",
    "\n",
    "We see in the above results that special tokens such as the sentence end **&lt;/s&gt;** contributes are found to contribute a lot to the model outputs. While this may be useful in some contexts, we are more interested in the contributions of the actual words in these sentences. To focus on the words more, we need to adjust the **baseline** used in the integrated gradients computation. By default in the instantiation so far, the baseline for each token is a zero vector of the same shape as its embedding. By making the basaeline be identicaly to the explained instances on special tokens, we can rid their impact from our measurement. Trulens provides a utility for this purpose in terms of `token_baseline` which constructs for you the methods to compute the appropriate baseline. "
   ]
  },
  {
   "cell_type": "code",
   "execution_count": null,
   "metadata": {},
   "outputs": [],
   "source": [
    "from trulens.utils.nlp import token_baseline\n",
    "\n",
    "inputs_baseline_ids, inputs_baseline_embeddings = token_baseline(\n",
    "    keep_tokens=set([task.tokenizer.cls_token_id, task.tokenizer.sep_token_id]),\n",
    "    # Which tokens to preserve.\n",
    "\n",
    "    replacement_token=task.tokenizer.pad_token_id,\n",
    "    # What to replace tokens with.\n",
    "\n",
    "    input_accessor=lambda x: x.kwargs['input_ids'],\n",
    "\n",
    "    ids_to_embeddings=task.model.get_input_embeddings()\n",
    "    # Callable to produce embeddings from token ids.\n",
    ")"
   ]
  },
  {
   "cell_type": "markdown",
   "metadata": {},
   "source": [
    "We can now inspect the baselines on some example sentences. The first method returned by `token_baseline` gives us token ids to inspect while the second gives us the embeddings of the baseline which we will pass to the attributions method."
   ]
  },
  {
   "cell_type": "code",
   "execution_count": null,
   "metadata": {},
   "outputs": [],
   "source": [
    "infl_positive_baseline = IntegratedGradients(\n",
    "    model = task.wrapper,\n",
    "    resolution=50,\n",
    "    baseline = inputs_baseline_embeddings,\n",
    "    doi_cut=Cut('roberta_embeddings_word_embeddings'),\n",
    "    qoi=ClassQoI(task.POSITIVE),\n",
    "    qoi_cut=OutputCut(accessor=lambda o: o['logits'])\n",
    ")\n",
    "\n",
    "print(\"QOI = POSITIVE WITH BASELINE\")\n",
    "display(V.token_attribution(sentences, infl_positive_baseline))"
   ]
  },
  {
   "cell_type": "markdown",
   "metadata": {},
   "source": [
    "As we see, the baseline eliminated the measurement of contribution of the special tokens."
   ]
  }
 ],
 "metadata": {
  "anaconda-cloud": {},
  "interpreter": {
   "hash": "51eb71198507ab2c2a4108a27eda9d9658549732e67153fc0e371d8439827db7"
  },
  "kernelspec": {
   "display_name": "test-fresh-11-29",
   "language": "python",
   "name": "python3"
  },
  "language_info": {
   "codemirror_mode": {
    "name": "ipython",
    "version": 3
   },
   "file_extension": ".py",
   "mimetype": "text/x-python",
   "name": "python",
   "nbconvert_exporter": "python",
   "pygments_lexer": "ipython3",
   "version": "3.7.0"
  }
 },
 "nbformat": 4,
 "nbformat_minor": 2
}
