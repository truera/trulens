{
 "cells": [
  {
   "cell_type": "code",
   "execution_count": 2,
   "metadata": {},
   "outputs": [
    {
     "name": "stdout",
     "output_type": "stream",
     "text": [
      "got OPENAI_API_KEY\n",
      "got COHERE_API_KEY\n",
      "got KAGGLE_USERNAME\n",
      "got KAGGLE_KEY\n",
      "got HUGGINGFACE_API_KEY\n",
      "got HUGGINGFACE_HEADERS\n"
     ]
    }
   ],
   "source": [
    "import benchmark\n",
    "from keys import *\n",
    "import pandas as pd\n",
    "\n",
    "import openai\n",
    "\n",
    "openai.api_key = OPENAI_API_KEY"
   ]
  },
  {
   "cell_type": "code",
   "execution_count": 3,
   "metadata": {},
   "outputs": [
    {
     "name": "stderr",
     "output_type": "stream",
     "text": [
      "Found cached dataset imdb (/Users/jreini/.cache/huggingface/datasets/imdb/plain_text/1.0.0/d613c88cf8fa3bab83b4ded3713f1f74830d1100e171db75bbddb80b3345c9c0)\n",
      "100%|██████████| 3/3 [00:00<00:00, 304.66it/s]\n"
     ]
    }
   ],
   "source": [
    "imdb = benchmark.load_data('imdb (binary sentiment)')\n",
    "imdb100 = benchmark.sample_data(imdb,100)"
   ]
  },
  {
   "cell_type": "code",
   "execution_count": 4,
   "metadata": {},
   "outputs": [
    {
     "name": "stdout",
     "output_type": "stream",
     "text": [
      "sentiment-positive scored:  71.0% on the benchmark:  imdb\n"
     ]
    },
    {
     "data": {
      "text/html": [
       "<div>\n",
       "<style scoped>\n",
       "    .dataframe tbody tr th:only-of-type {\n",
       "        vertical-align: middle;\n",
       "    }\n",
       "\n",
       "    .dataframe tbody tr th {\n",
       "        vertical-align: top;\n",
       "    }\n",
       "\n",
       "    .dataframe thead th {\n",
       "        text-align: right;\n",
       "    }\n",
       "</style>\n",
       "<table border=\"1\" class=\"dataframe\">\n",
       "  <thead>\n",
       "    <tr style=\"text-align: right;\">\n",
       "      <th></th>\n",
       "      <th>text</th>\n",
       "      <th>label</th>\n",
       "      <th>feedback</th>\n",
       "      <th>correct</th>\n",
       "    </tr>\n",
       "  </thead>\n",
       "  <tbody>\n",
       "    <tr>\n",
       "      <th>4132</th>\n",
       "      <td>Well, shuck me sideways. I haven't seen a home...</td>\n",
       "      <td>0</td>\n",
       "      <td>0</td>\n",
       "      <td>True</td>\n",
       "    </tr>\n",
       "    <tr>\n",
       "      <th>20867</th>\n",
       "      <td>This miniseries is a reasonable sequel to the ...</td>\n",
       "      <td>1</td>\n",
       "      <td>1</td>\n",
       "      <td>True</td>\n",
       "    </tr>\n",
       "    <tr>\n",
       "      <th>17487</th>\n",
       "      <td>Chuck Jones's 'Beep Beep' (so called despite t...</td>\n",
       "      <td>1</td>\n",
       "      <td>0</td>\n",
       "      <td>False</td>\n",
       "    </tr>\n",
       "    <tr>\n",
       "      <th>3257</th>\n",
       "      <td>Every time I watch this movie blood comes gush...</td>\n",
       "      <td>0</td>\n",
       "      <td>0</td>\n",
       "      <td>True</td>\n",
       "    </tr>\n",
       "    <tr>\n",
       "      <th>16484</th>\n",
       "      <td>This searing drama based on a true incident co...</td>\n",
       "      <td>1</td>\n",
       "      <td>0</td>\n",
       "      <td>False</td>\n",
       "    </tr>\n",
       "    <tr>\n",
       "      <th>...</th>\n",
       "      <td>...</td>\n",
       "      <td>...</td>\n",
       "      <td>...</td>\n",
       "      <td>...</td>\n",
       "    </tr>\n",
       "    <tr>\n",
       "      <th>9153</th>\n",
       "      <td>I made the big mistake of actually watching th...</td>\n",
       "      <td>0</td>\n",
       "      <td>0</td>\n",
       "      <td>True</td>\n",
       "    </tr>\n",
       "    <tr>\n",
       "      <th>22788</th>\n",
       "      <td>For the record, I am a Curly fan through and t...</td>\n",
       "      <td>1</td>\n",
       "      <td>0</td>\n",
       "      <td>False</td>\n",
       "    </tr>\n",
       "    <tr>\n",
       "      <th>10960</th>\n",
       "      <td>Reviews for this film were lukewarm at best wh...</td>\n",
       "      <td>0</td>\n",
       "      <td>0</td>\n",
       "      <td>True</td>\n",
       "    </tr>\n",
       "    <tr>\n",
       "      <th>9360</th>\n",
       "      <td>Well I guess I know the answer to that questio...</td>\n",
       "      <td>0</td>\n",
       "      <td>0</td>\n",
       "      <td>True</td>\n",
       "    </tr>\n",
       "    <tr>\n",
       "      <th>23286</th>\n",
       "      <td>&gt; Contrary to most reviews I've read, I didn't...</td>\n",
       "      <td>1</td>\n",
       "      <td>1</td>\n",
       "      <td>True</td>\n",
       "    </tr>\n",
       "  </tbody>\n",
       "</table>\n",
       "<p>100 rows × 4 columns</p>\n",
       "</div>"
      ],
      "text/plain": [
       "                                                    text  label  feedback  \\\n",
       "4132   Well, shuck me sideways. I haven't seen a home...      0         0   \n",
       "20867  This miniseries is a reasonable sequel to the ...      1         1   \n",
       "17487  Chuck Jones's 'Beep Beep' (so called despite t...      1         0   \n",
       "3257   Every time I watch this movie blood comes gush...      0         0   \n",
       "16484  This searing drama based on a true incident co...      1         0   \n",
       "...                                                  ...    ...       ...   \n",
       "9153   I made the big mistake of actually watching th...      0         0   \n",
       "22788  For the record, I am a Curly fan through and t...      1         0   \n",
       "10960  Reviews for this film were lukewarm at best wh...      0         0   \n",
       "9360   Well I guess I know the answer to that questio...      0         0   \n",
       "23286  > Contrary to most reviews I've read, I didn't...      1         1   \n",
       "\n",
       "       correct  \n",
       "4132      True  \n",
       "20867     True  \n",
       "17487    False  \n",
       "3257      True  \n",
       "16484    False  \n",
       "...        ...  \n",
       "9153      True  \n",
       "22788    False  \n",
       "10960     True  \n",
       "9360      True  \n",
       "23286     True  \n",
       "\n",
       "[100 rows x 4 columns]"
      ]
     },
     "execution_count": 4,
     "metadata": {},
     "output_type": "execute_result"
    }
   ],
   "source": [
    "benchmark.benchmark_on_data(imdb100, 'sentiment-positive', evaluation_choice=\"response\", provider=\"cohere\", model_engine=\"large\")"
   ]
  },
  {
   "cell_type": "code",
   "execution_count": null,
   "metadata": {},
   "outputs": [],
   "source": []
  }
 ],
 "metadata": {
  "kernelspec": {
   "display_name": "Python 3.9.16 ('tru_llm')",
   "language": "python",
   "name": "python3"
  },
  "language_info": {
   "codemirror_mode": {
    "name": "ipython",
    "version": 3
   },
   "file_extension": ".py",
   "mimetype": "text/x-python",
   "name": "python",
   "nbconvert_exporter": "python",
   "pygments_lexer": "ipython3",
   "version": "3.9.16"
  },
  "orig_nbformat": 4,
  "vscode": {
   "interpreter": {
    "hash": "d21f7c0bcad57942e36e4792dcf2729b091974a5bb8779ce77766f08b1284f72"
   }
  }
 },
 "nbformat": 4,
 "nbformat_minor": 2
}
