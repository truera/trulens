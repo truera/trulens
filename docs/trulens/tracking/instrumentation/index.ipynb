{
 "cells": [
  {
   "attachments": {},
   "cell_type": "markdown",
   "metadata": {},
   "source": [
    "# 📓 Instrumentation Overview\n",
    "\n",
    "TruLens is a framework that helps you instrument and evaluate LLM apps including\n",
    "RAGs and agents.\n",
    "\n",
    "Because TruLens is tech-agnostic, we offer a few different tools for\n",
    "instrumentation.\n",
    "* TruCustomApp gives you the most power to instrument a custom LLM app, and\n",
    "  provides the `instrument` method.\n",
    "* TruBasicApp is a simple interface to capture the input and output of a basic\n",
    "  LLM app.\n",
    "* TruChain instruments LangChain apps. [Read\n",
    "  more](langchain).\n",
    "* TruLlama instruments LlamaIndex apps. [Read\n",
    "  more](llama_index).\n",
    "* TruRails instruments NVIDIA Nemo Guardrails apps. [Read more](nemo).\n",
    "\n",
    "In any framework you can track (and evaluate) the inputs, outputs and\n",
    "instrumented internals, along with a wide variety of usage metrics and metadata,\n",
    "detailed below:\n",
    "\n",
    "### Usage Metrics\n",
    "* Number of requests (n_requests)\n",
    "* Number of successful ones (n_successful_requests)\n",
    "* Number of class scores retrieved (n_classes)\n",
    "* Total tokens processed (n_tokens)\n",
    "* In streaming mode, number of chunks produced (n_stream_chunks)\n",
    "* Number of prompt tokens supplied (n_prompt_tokens)\n",
    "* Number of completion tokens generated (n_completion_tokens)\n",
    "* Cost in USD (cost)\n",
    "\n",
    "Read more about Usage Tracking in [Cost API Reference][trulens.core.schema.base.Cost].\n",
    "\n",
    "### App Metadata\n",
    "* App ID (app_id) - user supplied string or automatically generated hash\n",
    "* Tags (tags) - user supplied string\n",
    "* Model metadata - user supplied json\n",
    "\n",
    "### Record Metadata\n",
    "* Record ID (record_id) - automatically generated, track individual application\n",
    "  calls\n",
    "* Timestamp (ts) - automatically tracked, the timestamp of the application call\n",
    "* Latency (latency) - the difference between the application call start and end\n",
    "  time."
   ]
  },
  {
   "cell_type": "markdown",
   "metadata": {},
   "source": [
    "## Instrumenting LLM applications\n",
    "\n",
    "Evaluating LLM applications often requires access to the internals of an app,\n",
    "such as retrieved context. To gain access to these internals, TruLens provides\n",
    "the `instrument` method. In cases where you have access to the classes and\n",
    "methods required, you can add the `@instrument` decorator to any method you wish\n",
    "to instrument. See a usage example below:\n",
    "\n",
    "### Using the `@instrument` decorator\n",
    "\n",
    "```python\n",
    "from trulens.core.app.custom import instrument\n",
    "\n",
    "class RAG_from_scratch:\n",
    "    @instrument\n",
    "    def retrieve(self, query: str) -> list:\n",
    "        \"\"\"\n",
    "        Retrieve relevant text from vector store.\n",
    "        \"\"\"\n",
    "\n",
    "    @instrument\n",
    "    def generate_completion(self, query: str, context_str: list) -> str:\n",
    "        \"\"\"\n",
    "        Generate answer from context.\n",
    "        \"\"\"\n",
    "\n",
    "    @instrument\n",
    "    def query(self, query: str) -> str:\n",
    "        \"\"\"\n",
    "        Retrieve relevant text given a query, and then generate an answer from the context.\n",
    "        \"\"\"\n",
    "\n",
    "```\n",
    "\n",
    "In cases you do not have access to a class to make the necessary decorations for\n",
    "tracking, you can instead use one of the static methods of instrument, for\n",
    "example, the alternative for making sure the custom retriever gets instrumented\n",
    "is via `instrument.method`. See a usage example below:\n",
    "\n",
    "### Using the `instrument.method`\n",
    "\n",
    "```python\n",
    "from trulens.core.app.custom import instrument\n",
    "from somepackage.from custom_retriever import CustomRetriever\n",
    "\n",
    "instrument.method(CustomRetriever, \"retrieve_chunks\")\n",
    "\n",
    "# ... rest of the custom class follows ...\n",
    "```\n",
    "\n",
    "Read more about instrumenting custom class applications in the [API\n",
    "Reference][trulens.core.TruCustomApp]"
   ]
  },
  {
   "attachments": {},
   "cell_type": "markdown",
   "metadata": {},
   "source": [
    "## Tracking input-output applications\n",
    "\n",
    "For basic tracking of inputs and outputs, `TruBasicApp` can be used for instrumentation.\n",
    "\n",
    "Suppose you have a generic text-to-text application as follows:"
   ]
  },
  {
   "cell_type": "code",
   "execution_count": null,
   "metadata": {},
   "outputs": [],
   "source": [
    "def custom_application(prompt: str) -> str:\n",
    "    return \"a response\""
   ]
  },
  {
   "attachments": {},
   "cell_type": "markdown",
   "metadata": {},
   "source": [
    "After creating the application, TruBasicApp allows you to instrument it in one line of code:"
   ]
  },
  {
   "cell_type": "code",
   "execution_count": null,
   "metadata": {},
   "outputs": [],
   "source": [
    "from trulens.core import TruBasicApp\n",
    "\n",
    "basic_app_recorder = TruBasicApp(\n",
    "    custom_application, app_id=\"Custom Application v1\"\n",
    ")"
   ]
  },
  {
   "attachments": {},
   "cell_type": "markdown",
   "metadata": {},
   "source": [
    "Then, you can operate the application like normal:"
   ]
  },
  {
   "cell_type": "code",
   "execution_count": null,
   "metadata": {},
   "outputs": [],
   "source": [
    "with basic_app_recorder as recording:\n",
    "    basic_app_recorder.app(\"What is the phone number for HR?\")"
   ]
  },
  {
   "attachments": {},
   "cell_type": "markdown",
   "metadata": {},
   "source": [
    "Read more about TruBasicApp in the [API reference](../api/app/trubasicapp) or check\n",
    "out the [text2text quickstart](../text2text_quickstart)."
   ]
  },
  {
   "attachments": {},
   "cell_type": "markdown",
   "metadata": {},
   "source": [
    "If instead, you're looking to use TruLens with a more complex custom\n",
    "application, you can use TruCustom.\n",
    "\n",
    "For more information, please read more about TruCustom in the [API\n",
    "Reference][trulens.core.app.custom.TruCustomApp]"
   ]
  },
  {
   "cell_type": "markdown",
   "metadata": {},
   "source": [
    "For frameworks with deep integrations, TruLens can expose additional internals\n",
    "of the application for tracking. See TruChain and TruLlama for more details."
   ]
  }
 ],
 "metadata": {
  "kernelspec": {
   "display_name": "Python 3.11.3 64-bit ('saas_ga')",
   "language": "python",
   "name": "python3"
  },
  "language_info": {
   "codemirror_mode": {
    "name": "ipython",
    "version": 3
   },
   "file_extension": ".py",
   "mimetype": "text/x-python",
   "name": "python",
   "nbconvert_exporter": "python",
   "pygments_lexer": "ipython3"
  },
  "vscode": {
   "interpreter": {
    "hash": "9c18147cca92ce3cf104f5cbe1f8090c1871fa0fa706f72173a849fae969970c"
   }
  }
 },
 "nbformat": 4,
 "nbformat_minor": 2
}
