{
 "cells": [
  {
   "cell_type": "code",
   "execution_count": null,
   "id": "94c7f069",
   "metadata": {},
   "outputs": [],
   "source": [
    "!pip install -U trulens-eval\n",
    "!npm install localtunnel -q\n",
    "!pip install -q streamlit==1.13.0"
   ]
  }
 ],
 "metadata": {
  "kernelspec": {
   "display_name": "Python 3 (ipykernel)",
   "language": "python",
   "name": "python3"
  },
  "language_info": {
   "codemirror_mode": {
    "name": "ipython",
    "version": 3
   },
   "file_extension": ".py",
   "mimetype": "text/x-python",
   "name": "python",
   "nbconvert_exporter": "python",
   "pygments_lexer": "ipython3",
   "version": "3.11.3"
  }
 },
 "nbformat": 4,
 "nbformat_minor": 5
}
