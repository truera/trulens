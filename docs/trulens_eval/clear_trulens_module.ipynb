{
 "cells": [
  {
   "cell_type": "markdown",
   "metadata": {},
   "source": [
    "# Clear trulens modules\n",
    "\n",
    "This section is needed to clear the 'trulens' modules from the sys.modules dictionary.\n",
    "It ensures that any 'trulens' modules are loaded properly and alleviates potential state issues across notebooks."
   ]
  },
  {
   "cell_type": "code",
   "execution_count": null,
   "metadata": {},
   "outputs": [],
   "source": [
    "import sys\n",
    "\n",
    "for module in list(sys.modules.keys()):\n",
    "    if module.startswith('trulens'):\n",
    "        del sys.modules[module]"
   ]
  }
 ],
 "metadata": {
  "language_info": {
   "name": "python"
  }
 },
 "nbformat": 4,
 "nbformat_minor": 2
}
