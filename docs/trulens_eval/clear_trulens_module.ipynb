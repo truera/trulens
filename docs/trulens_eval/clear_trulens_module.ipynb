{
 "cells": [
  {
   "cell_type": "code",
   "execution_count": null,
   "metadata": {},
   "outputs": [],
   "source": [
    "import sys\n",
    "\n",
    "for module in list(sys.modules.keys()):\n",
    "    if module.startswith('trulens'):\n",
    "        del sys.modules[module]"
   ]
  }
 ],
 "metadata": {
  "language_info": {
   "name": "python"
  }
 },
 "nbformat": 4,
 "nbformat_minor": 2
}
