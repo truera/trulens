{
 "cells": [
  {
   "cell_type": "markdown",
   "metadata": {},
   "source": [
    "# Overview\n",
    "\n",
    "TruLens provides a number of different instrumentation frameworks to allow you to inspect and evaluate the internals of your application and its associated records. In any framework you can track a wide variety of usage metrics and metadata, detailed below, along with the inputs and outputs of the application. For frameworks with deep integrations, TruLens can expose additional internals of the application for tracking.\n",
    "\n",
    "## What can you track?\n",
    "\n",
    "### **Usage Metrics**\n",
    "* Number of requests (n_requests)\n",
    "* Number of successful ones (n_successful_requests)\n",
    "* Number of class scores retrieved (n_classes)\n",
    "* Total tokens processed (n_tokens)\n",
    "* In streaming mode, number of chunks produced (n_stream_chunks)\n",
    "* Number of prompt tokens supplied (n_prompt_tokens)\n",
    "* Number of completion tokens generated (n_completion_tokens)\n",
    "* Cost in USD (cost)\n",
    "\n",
    "### **App Metadata**\n",
    "* App ID (app_id) - user supplied string or automatically generated hash\n",
    "* Tags (tags) - user supplied string\n",
    "* Model metadata - user supplied json\n",
    "\n",
    "### **Record Metadata**\n",
    "* Record ID (record_id) - automatically generated, track individual application calls\n",
    "* Timestamp (ts) - automatcially tracked, the timestamp of the application call\n",
    "* Latency (latency) - the difference between the application call start and end time."
   ]
  },
  {
   "cell_type": "markdown",
   "metadata": {},
   "source": [
    "## Tracking custom applications\n",
    "\n",
    "Outside of integrations, TruLens supports the instrumentation of any text-to-text application, including custom ones.\n",
    "\n",
    "The way to track this type of application is through TruBasicApp.\n",
    "\n",
    "Suppose you have a generic text-to-text application as follows:"
   ]
  },
  {
   "cell_type": "code",
   "execution_count": null,
   "metadata": {},
   "outputs": [],
   "source": [
    "def custom_application(prompt: str) -> str:\n",
    "    return \"a response\""
   ]
  },
  {
   "cell_type": "markdown",
   "metadata": {},
   "source": [
    "After creating the application, TruBasicApp allows you to instrument it in one line of code:"
   ]
  },
  {
   "cell_type": "code",
   "execution_count": null,
   "metadata": {},
   "outputs": [],
   "source": [
    "from trulens_eval import TruBasicApp\n",
    "basic_app = TruBasicApp(custom_application, app_id=\"Custom Application v1\")"
   ]
  },
  {
   "cell_type": "markdown",
   "metadata": {},
   "source": [
    "Then, you can operate the application like normal:"
   ]
  },
  {
   "cell_type": "code",
   "execution_count": null,
   "metadata": {},
   "outputs": [],
   "source": [
    "basic_app.call_with_record(\"What is the phone number for HR?\")"
   ]
  },
  {
   "cell_type": "markdown",
   "metadata": {},
   "source": [
    "Read more about TruBasicApp in the [API reference](../api/trubasicapp) or check out the [non-framework quickstart](../no_framework_quickstart)."
   ]
  }
 ],
 "metadata": {
  "kernelspec": {
   "display_name": "Python 3.11.3 64-bit ('saas_ga')",
   "language": "python",
   "name": "python3"
  },
  "language_info": {
   "name": "python",
   "version": "3.11.3"
  },
  "orig_nbformat": 4,
  "vscode": {
   "interpreter": {
    "hash": "9c18147cca92ce3cf104f5cbe1f8090c1871fa0fa706f72173a849fae969970c"
   }
  }
 },
 "nbformat": 4,
 "nbformat_minor": 2
}
