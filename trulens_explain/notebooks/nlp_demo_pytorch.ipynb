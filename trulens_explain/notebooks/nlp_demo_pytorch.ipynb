{
 "cells": [
  {
   "cell_type": "code",
   "execution_count": 15,
   "metadata": {},
   "outputs": [
    {
     "name": "stdout",
     "output_type": "stream",
     "text": [
      "The autoreload extension is already loaded. To reload it, use:\n",
      "  %reload_ext autoreload\n"
     ]
    }
   ],
   "source": [
    "%load_ext autoreload\n",
    "%autoreload 2"
   ]
  },
  {
   "cell_type": "code",
   "execution_count": 16,
   "metadata": {},
   "outputs": [
    {
     "name": "stdout",
     "output_type": "stream",
     "text": [
      "huggingface/tokenizers: The current process just got forked, after parallelism has already been used. Disabling parallelism to avoid deadlocks...\n",
      "To disable this warning, you can either:\n",
      "\t- Avoid using `tokenizers` before the fork if possible\n",
      "\t- Explicitly set the environment variable TOKENIZERS_PARALLELISM=(true | false)\n",
      "Requirement already satisfied: torch in /home/piotrm/anaconda3/envs/python37_pytorch_cuda/lib/python3.7/site-packages (1.10.0+cu113)\n",
      "Requirement already satisfied: typing-extensions in /home/piotrm/anaconda3/envs/python37_pytorch_cuda/lib/python3.7/site-packages (from torch) (4.1.1)\n",
      "huggingface/tokenizers: The current process just got forked, after parallelism has already been used. Disabling parallelism to avoid deadlocks...\n",
      "To disable this warning, you can either:\n",
      "\t- Avoid using `tokenizers` before the fork if possible\n",
      "\t- Explicitly set the environment variable TOKENIZERS_PARALLELISM=(true | false)\n",
      "Requirement already satisfied: transformers in /home/piotrm/anaconda3/envs/python37_pytorch_cuda/lib/python3.7/site-packages (4.17.0)\n",
      "Requirement already satisfied: tokenizers!=0.11.3,>=0.11.1 in /home/piotrm/anaconda3/envs/python37_pytorch_cuda/lib/python3.7/site-packages (from transformers) (0.11.6)\n",
      "Requirement already satisfied: numpy>=1.17 in /home/piotrm/anaconda3/envs/python37_pytorch_cuda/lib/python3.7/site-packages (from transformers) (1.21.5)\n",
      "Requirement already satisfied: requests in /home/piotrm/anaconda3/envs/python37_pytorch_cuda/lib/python3.7/site-packages (from transformers) (2.27.1)\n",
      "Requirement already satisfied: packaging>=20.0 in /home/piotrm/anaconda3/envs/python37_pytorch_cuda/lib/python3.7/site-packages (from transformers) (21.3)\n",
      "Requirement already satisfied: regex!=2019.12.17 in /home/piotrm/anaconda3/envs/python37_pytorch_cuda/lib/python3.7/site-packages (from transformers) (2022.3.15)\n",
      "Requirement already satisfied: sacremoses in /home/piotrm/anaconda3/envs/python37_pytorch_cuda/lib/python3.7/site-packages (from transformers) (0.0.49)\n",
      "Requirement already satisfied: tqdm>=4.27 in /home/piotrm/anaconda3/envs/python37_pytorch_cuda/lib/python3.7/site-packages (from transformers) (4.63.0)\n",
      "Requirement already satisfied: filelock in /home/piotrm/anaconda3/envs/python37_pytorch_cuda/lib/python3.7/site-packages (from transformers) (3.6.0)\n",
      "Requirement already satisfied: huggingface-hub<1.0,>=0.1.0 in /home/piotrm/anaconda3/envs/python37_pytorch_cuda/lib/python3.7/site-packages (from transformers) (0.4.0)\n",
      "Requirement already satisfied: importlib-metadata in /home/piotrm/anaconda3/envs/python37_pytorch_cuda/lib/python3.7/site-packages (from transformers) (4.11.3)\n",
      "Requirement already satisfied: pyyaml>=5.1 in /home/piotrm/anaconda3/envs/python37_pytorch_cuda/lib/python3.7/site-packages (from transformers) (6.0)\n",
      "Requirement already satisfied: typing-extensions>=3.7.4.3 in /home/piotrm/anaconda3/envs/python37_pytorch_cuda/lib/python3.7/site-packages (from huggingface-hub<1.0,>=0.1.0->transformers) (4.1.1)\n",
      "Requirement already satisfied: pyparsing!=3.0.5,>=2.0.2 in /home/piotrm/anaconda3/envs/python37_pytorch_cuda/lib/python3.7/site-packages (from packaging>=20.0->transformers) (3.0.7)\n",
      "Requirement already satisfied: zipp>=0.5 in /home/piotrm/anaconda3/envs/python37_pytorch_cuda/lib/python3.7/site-packages (from importlib-metadata->transformers) (3.7.0)\n",
      "Requirement already satisfied: urllib3<1.27,>=1.21.1 in /home/piotrm/anaconda3/envs/python37_pytorch_cuda/lib/python3.7/site-packages (from requests->transformers) (1.26.9)\n",
      "Requirement already satisfied: idna<4,>=2.5 in /home/piotrm/anaconda3/envs/python37_pytorch_cuda/lib/python3.7/site-packages (from requests->transformers) (3.3)\n",
      "Requirement already satisfied: certifi>=2017.4.17 in /home/piotrm/anaconda3/envs/python37_pytorch_cuda/lib/python3.7/site-packages (from requests->transformers) (2021.10.8)\n",
      "Requirement already satisfied: charset-normalizer~=2.0.0 in /home/piotrm/anaconda3/envs/python37_pytorch_cuda/lib/python3.7/site-packages (from requests->transformers) (2.0.12)\n",
      "Requirement already satisfied: click in /home/piotrm/anaconda3/envs/python37_pytorch_cuda/lib/python3.7/site-packages (from sacremoses->transformers) (8.0.4)\n",
      "Requirement already satisfied: six in /home/piotrm/anaconda3/envs/python37_pytorch_cuda/lib/python3.7/site-packages (from sacremoses->transformers) (1.16.0)\n",
      "Requirement already satisfied: joblib in /home/piotrm/anaconda3/envs/python37_pytorch_cuda/lib/python3.7/site-packages (from sacremoses->transformers) (1.1.0)\n",
      "huggingface/tokenizers: The current process just got forked, after parallelism has already been used. Disabling parallelism to avoid deadlocks...\n",
      "To disable this warning, you can either:\n",
      "\t- Avoid using `tokenizers` before the fork if possible\n",
      "\t- Explicitly set the environment variable TOKENIZERS_PARALLELISM=(true | false)\n",
      "Collecting git+https://github.com/truera/trulens.git\n",
      "  Cloning https://github.com/truera/trulens.git to /tmp/pip-req-build-5u7y1dks\n",
      "  Running command git clone -q https://github.com/truera/trulens.git /tmp/pip-req-build-5u7y1dks\n",
      "  Resolved https://github.com/truera/trulens.git to commit d8c105c5018654490aaf958091122ab06d63aec8\n"
     ]
    }
   ],
   "source": [
    "import sys\n",
    "\n",
    "# Use this if running this notebook from within its place in the truera repository.\n",
    "sys.path.insert(0, \"..\")\n",
    "\n",
    "# Install transformers / huggingface.\n",
    "!{sys.executable} -m pip install torch\n",
    "!{sys.executable} -m pip install transformers\n",
    "\n",
    "# Or otherwise install trulens.\n",
    "!{sys.executable} -m pip install \"git+https://github.com/truera/trulens.git#subdirectory=trulens_explain\"\n",
    "\n",
    "from IPython.display import display\n",
    "import torch"
   ]
  },
  {
   "cell_type": "markdown",
   "metadata": {},
   "source": [
    "# Twitter Sentiment Model\n",
    "\n",
    "[Huggingface](https://huggingface.co/models) offers a variety of pre-trained NLP models to explore. We exemplify in this notebook a [transformer-based twitter sentiment classification model](https://huggingface.co/cardiffnlp/twitter-roberta-base-sentiment). Before getting started, familiarize yourself with the general Truera API as demonstrated in the [intro notebook using pytorch](intro_demo_pytorch.ipynb)."
   ]
  },
  {
   "cell_type": "code",
   "execution_count": 17,
   "metadata": {},
   "outputs": [],
   "source": [
    "from transformers import AutoModelForSequenceClassification\n",
    "from transformers import AutoTokenizer\n",
    "\n",
    "# Wrap all of the necessary components.\n",
    "class TwitterSentiment:\n",
    "    MODEL = f\"cardiffnlp/twitter-roberta-base-sentiment\"\n",
    "\n",
    "    device = 'cpu'\n",
    "    # Can also use cuda if available:\n",
    "    # device = 'cuda:0'\n",
    "\n",
    "    model = AutoModelForSequenceClassification.from_pretrained(MODEL).to(device)\n",
    "    tokenizer = AutoTokenizer.from_pretrained(MODEL)\n",
    "    labels = ['negative', 'neutral', 'positive']\n",
    "\n",
    "    NEGATIVE = labels.index('negative')\n",
    "    NEUTRAL = labels.index('neutral')\n",
    "    POSITIVE = labels.index('positive')\n",
    "\n",
    "task = TwitterSentiment()"
   ]
  },
  {
   "cell_type": "markdown",
   "metadata": {},
   "source": [
    "This model quantifies tweets (or really any text you give it) according to its sentiment: positive, negative, or neutral. Lets try it out on some examples."
   ]
  },
  {
   "cell_type": "code",
   "execution_count": 18,
   "metadata": {},
   "outputs": [
    {
     "name": "stdout",
     "output_type": "stream",
     "text": [
      "{'input_ids': tensor([[   0,  100,  437,   98, 1372,  328,    2,    1,    1,    1,    1,    1,\n",
      "            1],\n",
      "        [   0,  100,  437,   98, 5074,  328,    2,    1,    1,    1,    1,    1,\n",
      "            1],\n",
      "        [   0,  100, 1395, 1137,  549,   38,  197,   28, 1372,   50, 5074,  328,\n",
      "            2],\n",
      "        [   0, 1794,  298,    2,    1,    1,    1,    1,    1,    1,    1,    1,\n",
      "            1]]), 'attention_mask': tensor([[1, 1, 1, 1, 1, 1, 1, 0, 0, 0, 0, 0, 0],\n",
      "        [1, 1, 1, 1, 1, 1, 1, 0, 0, 0, 0, 0, 0],\n",
      "        [1, 1, 1, 1, 1, 1, 1, 1, 1, 1, 1, 1, 1],\n",
      "        [1, 1, 1, 1, 0, 0, 0, 0, 0, 0, 0, 0, 0]])}\n",
      "['<s>', 'I', \"'m\", ' so', ' happy', '!', '</s>', '<pad>', '<pad>', '<pad>', '<pad>', '<pad>', '<pad>', '<s>', 'I', \"'m\", ' so', ' sad', '!', '</s>', '<pad>', '<pad>', '<pad>', '<pad>', '<pad>', '<pad>', '<s>', 'I', ' cannot', ' tell', ' whether', ' I', ' should', ' be', ' happy', ' or', ' sad', '!', '</s>', '<s>', 'me', 'h', '</s>', '<pad>', '<pad>', '<pad>', '<pad>', '<pad>', '<pad>', '<pad>', '<pad>', '<pad>']\n"
     ]
    }
   ],
   "source": [
    "sentences = [\"I'm so happy!\", \"I'm so sad!\", \"I cannot tell whether I should be happy or sad!\", \"meh\"]\n",
    "\n",
    "# Input sentences need to be tokenized first.\n",
    "\n",
    "inputs = task.tokenizer(sentences, padding=True, return_tensors=\"pt\").to(task.device) # pt refers to pytorch tensor\n",
    "\n",
    "# The tokenizer gives us vocabulary indexes for each input token (in this case,\n",
    "# words and some word parts like the \"'m\" part of \"I'm\" are tokens).\n",
    "\n",
    "print(inputs)\n",
    "\n",
    "# Decode helps inspecting the tokenization produced:\n",
    "\n",
    "print(task.tokenizer.batch_decode(torch.flatten(inputs['input_ids'])))\n",
    "# Normally decode would give us a single string for each sentence but we would\n",
    "# not be able to see some of the non-word tokens there. Flattening first gives\n",
    "# us a string for each input_id."
   ]
  },
  {
   "cell_type": "markdown",
   "metadata": {},
   "source": [
    "Evaluating huggingface models is straight-forward if we use the structure produced by the tokenizer."
   ]
  },
  {
   "cell_type": "code",
   "execution_count": 19,
   "metadata": {},
   "outputs": [
    {
     "name": "stdout",
     "output_type": "stream",
     "text": [
      "SequenceClassifierOutput(loss=None, logits=tensor([[-2.3217, -0.8764,  4.0706],\n",
      "        [ 2.5737, -0.4016, -2.1465],\n",
      "        [ 0.5973,  0.3778, -0.7691],\n",
      "        [-0.2267,  0.6011, -0.2009]], grad_fn=<AddmmBackward0>), hidden_states=None, attentions=None)\n",
      "[-2.3217378 -0.8763628  4.0705967] positive I'm so happy!\n",
      "[ 2.5736785  -0.40158105 -2.1465425 ] negative I'm so sad!\n",
      "[ 0.59733623  0.37779403 -0.7691068 ] negative I cannot tell whether I should be happy or sad!\n",
      "[-0.22674142  0.601109   -0.20089385] neutral meh\n"
     ]
    }
   ],
   "source": [
    "outputs = task.model(**inputs)\n",
    "\n",
    "print(outputs)\n",
    "\n",
    "# From logits we can extract the most likely class for each sentence and its readable label.\n",
    "\n",
    "predictions = [task.labels[i] for i in outputs.logits.argmax(axis=1)]\n",
    "\n",
    "for sentence, logits, prediction in zip(sentences, outputs.logits, predictions):\n",
    "    print(logits.to('cpu').detach().numpy(), prediction, sentence)"
   ]
  },
  {
   "cell_type": "markdown",
   "metadata": {},
   "source": [
    "# Model Wrapper\n",
    "\n",
    "As in the prior notebooks, we need to wrap the pytorch model with the appropriate Trulens functionality. Here we specify the maximum input size (in terms of tokens) each tweet may have."
   ]
  },
  {
   "cell_type": "code",
   "execution_count": 20,
   "metadata": {},
   "outputs": [
    {
     "name": "stderr",
     "output_type": "stream",
     "text": [
      "INFO: Detected pytorch backend for <class 'transformers.models.roberta.modeling_roberta.RobertaForSequenceClassification'>.\n",
      "INFO: Using backend Backend.PYTORCH.\n",
      "INFO: If this seems incorrect, you can force the correct backend by passing the `backend` parameter directly into your get_model_wrapper call.\n",
      "DEBUG: Input dtype was not passed in. Defaulting to `torch.float32`.\n"
     ]
    }
   ],
   "source": [
    "from trulens.nn.models import get_model_wrapper\n",
    "from trulens.nn.quantities import ClassQoI\n",
    "from trulens.nn.attribution import IntegratedGradients\n",
    "from trulens.nn.attribution import Cut, OutputCut\n",
    "from trulens.utils.typing import ModelInputs\n",
    "\n",
    "task.wrapper = get_model_wrapper(task.model, device=task.device)"
   ]
  },
  {
   "cell_type": "markdown",
   "metadata": {
    "nbpresent": {
     "id": "4ed9c783-b745-4c6a-b674-d8b6935dd62d"
    }
   },
   "source": [
    "# Attributions\n",
    "\n",
    "Applying integrated gradents to the sentiment model is similar as in the prior notebooks except special considerations need to be made for the cuts used as the targets of the attribution (i.e. what do we want to assign importance to). As you may have noted above, the model takes as input integer indexes associated with tokens. As we cannot take gradient with respect to these, we use an alternative: the embedding representation of those same inputs. To instantiate trulens with this regard, we need to find inspect the layer names inside our model:"
   ]
  },
  {
   "cell_type": "code",
   "execution_count": 21,
   "metadata": {},
   "outputs": [
    {
     "name": "stdout",
     "output_type": "stream",
     "text": [
      "'roberta_embeddings_word_embeddings':\tEmbedding(50265, 768, padding_idx=1)\n",
      "'roberta_embeddings_position_embeddings':\tEmbedding(514, 768, padding_idx=1)\n",
      "'roberta_embeddings_token_type_embeddings':\tEmbedding(1, 768)\n",
      "'roberta_embeddings_LayerNorm':\tLayerNorm((768,), eps=1e-05, elementwise_affine=True)\n",
      "'roberta_embeddings_dropout':\tDropout(p=0.1, inplace=False)\n",
      "'roberta_encoder_layer_0_attention_self_query':\tLinear(in_features=768, out_features=768, bias=True)\n",
      "'roberta_encoder_layer_0_attention_self_key':\tLinear(in_features=768, out_features=768, bias=True)\n",
      "'roberta_encoder_layer_0_attention_self_value':\tLinear(in_features=768, out_features=768, bias=True)\n",
      "'roberta_encoder_layer_0_attention_self_dropout':\tDropout(p=0.1, inplace=False)\n",
      "'roberta_encoder_layer_0_attention_output_dense':\tLinear(in_features=768, out_features=768, bias=True)\n",
      "'roberta_encoder_layer_0_attention_output_LayerNorm':\tLayerNorm((768,), eps=1e-05, elementwise_affine=True)\n",
      "'roberta_encoder_layer_0_attention_output_dropout':\tDropout(p=0.1, inplace=False)\n",
      "'roberta_encoder_layer_0_intermediate_dense':\tLinear(in_features=768, out_features=3072, bias=True)\n",
      "'roberta_encoder_layer_0_intermediate_intermediate_act_fn':\tGELUActivation()\n",
      "'roberta_encoder_layer_0_output_dense':\tLinear(in_features=3072, out_features=768, bias=True)\n",
      "'roberta_encoder_layer_0_output_LayerNorm':\tLayerNorm((768,), eps=1e-05, elementwise_affine=True)\n",
      "'roberta_encoder_layer_0_output_dropout':\tDropout(p=0.1, inplace=False)\n",
      "'roberta_encoder_layer_1_attention_self_query':\tLinear(in_features=768, out_features=768, bias=True)\n",
      "'roberta_encoder_layer_1_attention_self_key':\tLinear(in_features=768, out_features=768, bias=True)\n",
      "'roberta_encoder_layer_1_attention_self_value':\tLinear(in_features=768, out_features=768, bias=True)\n",
      "'roberta_encoder_layer_1_attention_self_dropout':\tDropout(p=0.1, inplace=False)\n",
      "'roberta_encoder_layer_1_attention_output_dense':\tLinear(in_features=768, out_features=768, bias=True)\n",
      "'roberta_encoder_layer_1_attention_output_LayerNorm':\tLayerNorm((768,), eps=1e-05, elementwise_affine=True)\n",
      "'roberta_encoder_layer_1_attention_output_dropout':\tDropout(p=0.1, inplace=False)\n",
      "'roberta_encoder_layer_1_intermediate_dense':\tLinear(in_features=768, out_features=3072, bias=True)\n",
      "'roberta_encoder_layer_1_intermediate_intermediate_act_fn':\tGELUActivation()\n",
      "'roberta_encoder_layer_1_output_dense':\tLinear(in_features=3072, out_features=768, bias=True)\n",
      "'roberta_encoder_layer_1_output_LayerNorm':\tLayerNorm((768,), eps=1e-05, elementwise_affine=True)\n",
      "'roberta_encoder_layer_1_output_dropout':\tDropout(p=0.1, inplace=False)\n",
      "'roberta_encoder_layer_2_attention_self_query':\tLinear(in_features=768, out_features=768, bias=True)\n",
      "'roberta_encoder_layer_2_attention_self_key':\tLinear(in_features=768, out_features=768, bias=True)\n",
      "'roberta_encoder_layer_2_attention_self_value':\tLinear(in_features=768, out_features=768, bias=True)\n",
      "'roberta_encoder_layer_2_attention_self_dropout':\tDropout(p=0.1, inplace=False)\n",
      "'roberta_encoder_layer_2_attention_output_dense':\tLinear(in_features=768, out_features=768, bias=True)\n",
      "'roberta_encoder_layer_2_attention_output_LayerNorm':\tLayerNorm((768,), eps=1e-05, elementwise_affine=True)\n",
      "'roberta_encoder_layer_2_attention_output_dropout':\tDropout(p=0.1, inplace=False)\n",
      "'roberta_encoder_layer_2_intermediate_dense':\tLinear(in_features=768, out_features=3072, bias=True)\n",
      "'roberta_encoder_layer_2_intermediate_intermediate_act_fn':\tGELUActivation()\n",
      "'roberta_encoder_layer_2_output_dense':\tLinear(in_features=3072, out_features=768, bias=True)\n",
      "'roberta_encoder_layer_2_output_LayerNorm':\tLayerNorm((768,), eps=1e-05, elementwise_affine=True)\n",
      "'roberta_encoder_layer_2_output_dropout':\tDropout(p=0.1, inplace=False)\n",
      "'roberta_encoder_layer_3_attention_self_query':\tLinear(in_features=768, out_features=768, bias=True)\n",
      "'roberta_encoder_layer_3_attention_self_key':\tLinear(in_features=768, out_features=768, bias=True)\n",
      "'roberta_encoder_layer_3_attention_self_value':\tLinear(in_features=768, out_features=768, bias=True)\n",
      "'roberta_encoder_layer_3_attention_self_dropout':\tDropout(p=0.1, inplace=False)\n",
      "'roberta_encoder_layer_3_attention_output_dense':\tLinear(in_features=768, out_features=768, bias=True)\n",
      "'roberta_encoder_layer_3_attention_output_LayerNorm':\tLayerNorm((768,), eps=1e-05, elementwise_affine=True)\n",
      "'roberta_encoder_layer_3_attention_output_dropout':\tDropout(p=0.1, inplace=False)\n",
      "'roberta_encoder_layer_3_intermediate_dense':\tLinear(in_features=768, out_features=3072, bias=True)\n",
      "'roberta_encoder_layer_3_intermediate_intermediate_act_fn':\tGELUActivation()\n",
      "'roberta_encoder_layer_3_output_dense':\tLinear(in_features=3072, out_features=768, bias=True)\n",
      "'roberta_encoder_layer_3_output_LayerNorm':\tLayerNorm((768,), eps=1e-05, elementwise_affine=True)\n",
      "'roberta_encoder_layer_3_output_dropout':\tDropout(p=0.1, inplace=False)\n",
      "'roberta_encoder_layer_4_attention_self_query':\tLinear(in_features=768, out_features=768, bias=True)\n",
      "'roberta_encoder_layer_4_attention_self_key':\tLinear(in_features=768, out_features=768, bias=True)\n",
      "'roberta_encoder_layer_4_attention_self_value':\tLinear(in_features=768, out_features=768, bias=True)\n",
      "'roberta_encoder_layer_4_attention_self_dropout':\tDropout(p=0.1, inplace=False)\n",
      "'roberta_encoder_layer_4_attention_output_dense':\tLinear(in_features=768, out_features=768, bias=True)\n",
      "'roberta_encoder_layer_4_attention_output_LayerNorm':\tLayerNorm((768,), eps=1e-05, elementwise_affine=True)\n",
      "'roberta_encoder_layer_4_attention_output_dropout':\tDropout(p=0.1, inplace=False)\n",
      "'roberta_encoder_layer_4_intermediate_dense':\tLinear(in_features=768, out_features=3072, bias=True)\n",
      "'roberta_encoder_layer_4_intermediate_intermediate_act_fn':\tGELUActivation()\n",
      "'roberta_encoder_layer_4_output_dense':\tLinear(in_features=3072, out_features=768, bias=True)\n",
      "'roberta_encoder_layer_4_output_LayerNorm':\tLayerNorm((768,), eps=1e-05, elementwise_affine=True)\n",
      "'roberta_encoder_layer_4_output_dropout':\tDropout(p=0.1, inplace=False)\n",
      "'roberta_encoder_layer_5_attention_self_query':\tLinear(in_features=768, out_features=768, bias=True)\n",
      "'roberta_encoder_layer_5_attention_self_key':\tLinear(in_features=768, out_features=768, bias=True)\n",
      "'roberta_encoder_layer_5_attention_self_value':\tLinear(in_features=768, out_features=768, bias=True)\n",
      "'roberta_encoder_layer_5_attention_self_dropout':\tDropout(p=0.1, inplace=False)\n",
      "'roberta_encoder_layer_5_attention_output_dense':\tLinear(in_features=768, out_features=768, bias=True)\n",
      "'roberta_encoder_layer_5_attention_output_LayerNorm':\tLayerNorm((768,), eps=1e-05, elementwise_affine=True)\n",
      "'roberta_encoder_layer_5_attention_output_dropout':\tDropout(p=0.1, inplace=False)\n",
      "'roberta_encoder_layer_5_intermediate_dense':\tLinear(in_features=768, out_features=3072, bias=True)\n",
      "'roberta_encoder_layer_5_intermediate_intermediate_act_fn':\tGELUActivation()\n",
      "'roberta_encoder_layer_5_output_dense':\tLinear(in_features=3072, out_features=768, bias=True)\n",
      "'roberta_encoder_layer_5_output_LayerNorm':\tLayerNorm((768,), eps=1e-05, elementwise_affine=True)\n",
      "'roberta_encoder_layer_5_output_dropout':\tDropout(p=0.1, inplace=False)\n",
      "'roberta_encoder_layer_6_attention_self_query':\tLinear(in_features=768, out_features=768, bias=True)\n",
      "'roberta_encoder_layer_6_attention_self_key':\tLinear(in_features=768, out_features=768, bias=True)\n",
      "'roberta_encoder_layer_6_attention_self_value':\tLinear(in_features=768, out_features=768, bias=True)\n",
      "'roberta_encoder_layer_6_attention_self_dropout':\tDropout(p=0.1, inplace=False)\n",
      "'roberta_encoder_layer_6_attention_output_dense':\tLinear(in_features=768, out_features=768, bias=True)\n",
      "'roberta_encoder_layer_6_attention_output_LayerNorm':\tLayerNorm((768,), eps=1e-05, elementwise_affine=True)\n",
      "'roberta_encoder_layer_6_attention_output_dropout':\tDropout(p=0.1, inplace=False)\n",
      "'roberta_encoder_layer_6_intermediate_dense':\tLinear(in_features=768, out_features=3072, bias=True)\n",
      "'roberta_encoder_layer_6_intermediate_intermediate_act_fn':\tGELUActivation()\n",
      "'roberta_encoder_layer_6_output_dense':\tLinear(in_features=3072, out_features=768, bias=True)\n",
      "'roberta_encoder_layer_6_output_LayerNorm':\tLayerNorm((768,), eps=1e-05, elementwise_affine=True)\n",
      "'roberta_encoder_layer_6_output_dropout':\tDropout(p=0.1, inplace=False)\n",
      "'roberta_encoder_layer_7_attention_self_query':\tLinear(in_features=768, out_features=768, bias=True)\n",
      "'roberta_encoder_layer_7_attention_self_key':\tLinear(in_features=768, out_features=768, bias=True)\n",
      "'roberta_encoder_layer_7_attention_self_value':\tLinear(in_features=768, out_features=768, bias=True)\n",
      "'roberta_encoder_layer_7_attention_self_dropout':\tDropout(p=0.1, inplace=False)\n",
      "'roberta_encoder_layer_7_attention_output_dense':\tLinear(in_features=768, out_features=768, bias=True)\n",
      "'roberta_encoder_layer_7_attention_output_LayerNorm':\tLayerNorm((768,), eps=1e-05, elementwise_affine=True)\n",
      "'roberta_encoder_layer_7_attention_output_dropout':\tDropout(p=0.1, inplace=False)\n",
      "'roberta_encoder_layer_7_intermediate_dense':\tLinear(in_features=768, out_features=3072, bias=True)\n",
      "'roberta_encoder_layer_7_intermediate_intermediate_act_fn':\tGELUActivation()\n",
      "'roberta_encoder_layer_7_output_dense':\tLinear(in_features=3072, out_features=768, bias=True)\n",
      "'roberta_encoder_layer_7_output_LayerNorm':\tLayerNorm((768,), eps=1e-05, elementwise_affine=True)\n",
      "'roberta_encoder_layer_7_output_dropout':\tDropout(p=0.1, inplace=False)\n",
      "'roberta_encoder_layer_8_attention_self_query':\tLinear(in_features=768, out_features=768, bias=True)\n",
      "'roberta_encoder_layer_8_attention_self_key':\tLinear(in_features=768, out_features=768, bias=True)\n",
      "'roberta_encoder_layer_8_attention_self_value':\tLinear(in_features=768, out_features=768, bias=True)\n",
      "'roberta_encoder_layer_8_attention_self_dropout':\tDropout(p=0.1, inplace=False)\n",
      "'roberta_encoder_layer_8_attention_output_dense':\tLinear(in_features=768, out_features=768, bias=True)\n",
      "'roberta_encoder_layer_8_attention_output_LayerNorm':\tLayerNorm((768,), eps=1e-05, elementwise_affine=True)\n",
      "'roberta_encoder_layer_8_attention_output_dropout':\tDropout(p=0.1, inplace=False)\n",
      "'roberta_encoder_layer_8_intermediate_dense':\tLinear(in_features=768, out_features=3072, bias=True)\n",
      "'roberta_encoder_layer_8_intermediate_intermediate_act_fn':\tGELUActivation()\n",
      "'roberta_encoder_layer_8_output_dense':\tLinear(in_features=3072, out_features=768, bias=True)\n",
      "'roberta_encoder_layer_8_output_LayerNorm':\tLayerNorm((768,), eps=1e-05, elementwise_affine=True)\n",
      "'roberta_encoder_layer_8_output_dropout':\tDropout(p=0.1, inplace=False)\n",
      "'roberta_encoder_layer_9_attention_self_query':\tLinear(in_features=768, out_features=768, bias=True)\n",
      "'roberta_encoder_layer_9_attention_self_key':\tLinear(in_features=768, out_features=768, bias=True)\n",
      "'roberta_encoder_layer_9_attention_self_value':\tLinear(in_features=768, out_features=768, bias=True)\n",
      "'roberta_encoder_layer_9_attention_self_dropout':\tDropout(p=0.1, inplace=False)\n",
      "'roberta_encoder_layer_9_attention_output_dense':\tLinear(in_features=768, out_features=768, bias=True)\n",
      "'roberta_encoder_layer_9_attention_output_LayerNorm':\tLayerNorm((768,), eps=1e-05, elementwise_affine=True)\n",
      "'roberta_encoder_layer_9_attention_output_dropout':\tDropout(p=0.1, inplace=False)\n",
      "'roberta_encoder_layer_9_intermediate_dense':\tLinear(in_features=768, out_features=3072, bias=True)\n",
      "'roberta_encoder_layer_9_intermediate_intermediate_act_fn':\tGELUActivation()\n",
      "'roberta_encoder_layer_9_output_dense':\tLinear(in_features=3072, out_features=768, bias=True)\n",
      "'roberta_encoder_layer_9_output_LayerNorm':\tLayerNorm((768,), eps=1e-05, elementwise_affine=True)\n",
      "'roberta_encoder_layer_9_output_dropout':\tDropout(p=0.1, inplace=False)\n",
      "'roberta_encoder_layer_10_attention_self_query':\tLinear(in_features=768, out_features=768, bias=True)\n",
      "'roberta_encoder_layer_10_attention_self_key':\tLinear(in_features=768, out_features=768, bias=True)\n",
      "'roberta_encoder_layer_10_attention_self_value':\tLinear(in_features=768, out_features=768, bias=True)\n",
      "'roberta_encoder_layer_10_attention_self_dropout':\tDropout(p=0.1, inplace=False)\n",
      "'roberta_encoder_layer_10_attention_output_dense':\tLinear(in_features=768, out_features=768, bias=True)\n",
      "'roberta_encoder_layer_10_attention_output_LayerNorm':\tLayerNorm((768,), eps=1e-05, elementwise_affine=True)\n",
      "'roberta_encoder_layer_10_attention_output_dropout':\tDropout(p=0.1, inplace=False)\n",
      "'roberta_encoder_layer_10_intermediate_dense':\tLinear(in_features=768, out_features=3072, bias=True)\n",
      "'roberta_encoder_layer_10_intermediate_intermediate_act_fn':\tGELUActivation()\n",
      "'roberta_encoder_layer_10_output_dense':\tLinear(in_features=3072, out_features=768, bias=True)\n",
      "'roberta_encoder_layer_10_output_LayerNorm':\tLayerNorm((768,), eps=1e-05, elementwise_affine=True)\n",
      "'roberta_encoder_layer_10_output_dropout':\tDropout(p=0.1, inplace=False)\n",
      "'roberta_encoder_layer_11_attention_self_query':\tLinear(in_features=768, out_features=768, bias=True)\n",
      "'roberta_encoder_layer_11_attention_self_key':\tLinear(in_features=768, out_features=768, bias=True)\n",
      "'roberta_encoder_layer_11_attention_self_value':\tLinear(in_features=768, out_features=768, bias=True)\n",
      "'roberta_encoder_layer_11_attention_self_dropout':\tDropout(p=0.1, inplace=False)\n",
      "'roberta_encoder_layer_11_attention_output_dense':\tLinear(in_features=768, out_features=768, bias=True)\n",
      "'roberta_encoder_layer_11_attention_output_LayerNorm':\tLayerNorm((768,), eps=1e-05, elementwise_affine=True)\n",
      "'roberta_encoder_layer_11_attention_output_dropout':\tDropout(p=0.1, inplace=False)\n",
      "'roberta_encoder_layer_11_intermediate_dense':\tLinear(in_features=768, out_features=3072, bias=True)\n",
      "'roberta_encoder_layer_11_intermediate_intermediate_act_fn':\tGELUActivation()\n",
      "'roberta_encoder_layer_11_output_dense':\tLinear(in_features=3072, out_features=768, bias=True)\n",
      "'roberta_encoder_layer_11_output_LayerNorm':\tLayerNorm((768,), eps=1e-05, elementwise_affine=True)\n",
      "'roberta_encoder_layer_11_output_dropout':\tDropout(p=0.1, inplace=False)\n",
      "'classifier_dense':\tLinear(in_features=768, out_features=768, bias=True)\n",
      "'classifier_dropout':\tDropout(p=0.1, inplace=False)\n",
      "'classifier_out_proj':\tLinear(in_features=768, out_features=3, bias=True)\n"
     ]
    }
   ],
   "source": [
    "task.wrapper.print_layer_names()"
   ]
  },
  {
   "cell_type": "markdown",
   "metadata": {},
   "source": [
    "## Parameters\n",
    "\n",
    "Above, `roberta_embeddings_word_embeddings` is the layer that produces a continuous representation of each input token so we will use that layer as the one defining the **distribution of interest**. While most neural NLP models contain a token embedding, the layer name will differ.\n",
    "\n",
    "The second thing to note is the form of model outputs. Specifically, outputs are structures which contain a 'logits' attribute that stores the model scores.\n",
    "\n",
    "Putting these things together, we instantiate `IntegratedGradients` to attribute each embedding dimension to the maximum class (i.e. the predicted class)."
   ]
  },
  {
   "cell_type": "code",
   "execution_count": 22,
   "metadata": {},
   "outputs": [],
   "source": [
    "infl_max = IntegratedGradients(\n",
    "    model = task.wrapper,\n",
    "    doi_cut=Cut('roberta_embeddings_word_embeddings'),\n",
    "    qoi_cut=OutputCut(accessor=lambda o: o['logits'])\n",
    ")"
   ]
  },
  {
   "cell_type": "code",
   "execution_count": 23,
   "metadata": {},
   "outputs": [],
   "source": [
    "# Alternatively we can look at a particular class:\n",
    "\n",
    "infl_positive = IntegratedGradients(\n",
    "    model = task.wrapper,\n",
    "    doi_cut=Cut('roberta_embeddings_word_embeddings'),\n",
    "    qoi=ClassQoI(task.POSITIVE),\n",
    "    qoi_cut=OutputCut(accessor=lambda o: o['logits'])\n",
    ")"
   ]
  },
  {
   "cell_type": "markdown",
   "metadata": {},
   "source": [
    "Getting attributions uses the same call as model evaluation."
   ]
  },
  {
   "cell_type": "code",
   "execution_count": 24,
   "metadata": {},
   "outputs": [
    {
     "name": "stdout",
     "output_type": "stream",
     "text": [
      "<s>(0.057) I(0.202) 'm(0.220)  so(0.279)  happy(0.506) !(0.106) </s>(-0.078) <pad>(0.000) <pad>(0.000) <pad>(0.000) <pad>(0.000) <pad>(0.000) <pad>(0.000) \n",
      "<s>(0.022) I(0.039) 'm(-0.143)  so(0.168)  sad(-0.019) !(-0.149) </s>(-0.044) <pad>(0.000) <pad>(0.000) <pad>(0.000) <pad>(0.000) <pad>(0.000) <pad>(0.000) \n",
      "<s>(-0.028) I(0.002)  cannot(-0.237)  tell(-0.018)  whether(0.125)  I(-0.065)  should(0.021)  be(-0.048)  happy(-0.133)  or(-0.156)  sad(-0.452) !(-0.161) </s>(0.001) \n",
      "<s>(0.041) me(-0.259) h(-0.384) </s>(-0.089) <pad>(0.000) <pad>(0.000) <pad>(0.000) <pad>(0.000) <pad>(0.000) <pad>(0.000) <pad>(0.000) <pad>(0.000) <pad>(0.000) \n"
     ]
    }
   ],
   "source": [
    "attrs = infl_max.attributions(**inputs)\n",
    "\n",
    "for token_ids, token_attr in zip(inputs['input_ids'], attrs):\n",
    "    for token_id, token_attr in zip(token_ids, token_attr):\n",
    "        # Not that each `word_attr` has a magnitude for each of the embedding\n",
    "        # dimensions, of which there are many. We aggregate them for easier\n",
    "        # interpretation and display.\n",
    "        attr = token_attr.sum()\n",
    "\n",
    "        word = task.tokenizer.decode(token_id)\n",
    "\n",
    "        print(f\"{word}({attr:0.3f})\", end=' ')\n",
    "\n",
    "    print()"
   ]
  },
  {
   "cell_type": "markdown",
   "metadata": {},
   "source": [
    "A listing as above is not very readable so Trulens comes with some utilities to present token influences a bit more concisely. First we need to set up a few parameters to make use of it:"
   ]
  },
  {
   "cell_type": "code",
   "execution_count": 25,
   "metadata": {},
   "outputs": [
    {
     "name": "stdout",
     "output_type": "stream",
     "text": [
      "QOI = MAX PREDICTION\n"
     ]
    },
    {
     "data": {
      "text/html": [
       "<span style='padding: 2px; margin: 2px; background: gray; border-radius: 4px;'>positive:&nbsp;<span title='0.057' style='margin: 1px; padding: 1px; border-radius: 4px; background: black; color: rgb(247.68304707482457, 255.0, 247.68304707482457);'>&lt;s&gt;</span><span title='0.202' style='margin: 1px; padding: 1px; border-radius: 4px; background: black; color: rgb(229.27583634853363, 255.0, 229.27583634853363);'>I</span><span title='0.220' style='margin: 1px; padding: 1px; border-radius: 4px; background: black; color: rgb(226.89138069748878, 255.0, 226.89138069748878);'>&#x27;m</span>&nbsp;<span title='0.279' style='margin: 1px; padding: 1px; border-radius: 4px; background: black; color: rgb(219.364106208086, 255.0, 219.364106208086);'>so</span>&nbsp;<span title='0.506' style='margin: 1px; padding: 1px; border-radius: 4px; background: black; color: rgb(190.46714320778847, 255.0, 190.46714320778847);'>happy</span><span title='0.106' style='margin: 1px; padding: 1px; border-radius: 4px; background: black; color: rgb(241.44961930811405, 255.0, 241.44961930811405);'>!</span><span title='-0.078' style='margin: 1px; padding: 1px; border-radius: 4px; background: black; color: rgb(255.0, 245.11291533708572, 245.11291533708572);'>&lt;/s&gt;</span></span><br/><br/><span style='padding: 2px; margin: 2px; background: gray; border-radius: 4px;'>negative:&nbsp;<span title='0.022' style='margin: 1px; padding: 1px; border-radius: 4px; background: black; color: rgb(252.141924938187, 255.0, 252.141924938187);'>&lt;s&gt;</span><span title='0.039' style='margin: 1px; padding: 1px; border-radius: 4px; background: black; color: rgb(249.98223150148988, 255.0, 249.98223150148988);'>I</span><span title='-0.143' style='margin: 1px; padding: 1px; border-radius: 4px; background: black; color: rgb(255.0, 236.80223688483238, 236.80223688483238);'>&#x27;m</span>&nbsp;<span title='0.168' style='margin: 1px; padding: 1px; border-radius: 4px; background: black; color: rgb(233.54991160333157, 255.0, 233.54991160333157);'>so</span>&nbsp;<span title='-0.019' style='margin: 1px; padding: 1px; border-radius: 4px; background: black; color: rgb(255.0, 252.58222108706832, 252.58222108706832);'>sad</span><span title='-0.149' style='margin: 1px; padding: 1px; border-radius: 4px; background: black; color: rgb(255.0, 236.0615825280547, 236.0615825280547);'>!</span><span title='-0.044' style='margin: 1px; padding: 1px; border-radius: 4px; background: black; color: rgb(255.0, 249.4463519565761, 249.4463519565761);'>&lt;/s&gt;</span></span><br/><br/><span style='padding: 2px; margin: 2px; background: gray; border-radius: 4px;'>negative:&nbsp;<span title='-0.028' style='margin: 1px; padding: 1px; border-radius: 4px; background: black; color: rgb(255.0, 251.42857971601188, 251.42857971601188);'>&lt;s&gt;</span><span title='0.002' style='margin: 1px; padding: 1px; border-radius: 4px; background: black; color: rgb(254.74594183266163, 255.0, 254.74594183266163);'>I</span>&nbsp;<span title='-0.237' style='margin: 1px; padding: 1px; border-radius: 4px; background: black; color: rgb(255.0, 224.8368138447404, 224.8368138447404);'>cannot</span>&nbsp;<span title='-0.018' style='margin: 1px; padding: 1px; border-radius: 4px; background: black; color: rgb(255.0, 252.68398105166852, 252.68398105166852);'>tell</span>&nbsp;<span title='0.125' style='margin: 1px; padding: 1px; border-radius: 4px; background: black; color: rgb(239.07489873468876, 255.0, 239.07489873468876);'>whether</span>&nbsp;<span title='-0.065' style='margin: 1px; padding: 1px; border-radius: 4px; background: black; color: rgb(255.0, 246.72427777200937, 246.72427777200937);'>I</span>&nbsp;<span title='0.021' style='margin: 1px; padding: 1px; border-radius: 4px; background: black; color: rgb(252.37579193897545, 255.0, 252.37579193897545);'>should</span>&nbsp;<span title='-0.048' style='margin: 1px; padding: 1px; border-radius: 4px; background: black; color: rgb(255.0, 248.90295783989131, 248.90295783989131);'>be</span>&nbsp;<span title='-0.133' style='margin: 1px; padding: 1px; border-radius: 4px; background: black; color: rgb(255.0, 238.0878921970725, 238.0878921970725);'>happy</span>&nbsp;<span title='-0.156' style='margin: 1px; padding: 1px; border-radius: 4px; background: black; color: rgb(255.0, 235.14230735599995, 235.14230735599995);'>or</span>&nbsp;<span title='-0.452' style='margin: 1px; padding: 1px; border-radius: 4px; background: black; color: rgb(255.0, 197.39933162927628, 197.39933162927628);'>sad</span><span title='-0.161' style='margin: 1px; padding: 1px; border-radius: 4px; background: black; color: rgb(255.0, 234.45207819342613, 234.45207819342613);'>!</span><span title='0.001' style='margin: 1px; padding: 1px; border-radius: 4px; background: black; color: rgb(254.83282452682033, 255.0, 254.83282452682033);'>&lt;/s&gt;</span></span><br/><br/><span style='padding: 2px; margin: 2px; background: gray; border-radius: 4px;'>neutral:&nbsp;<span title='0.041' style='margin: 1px; padding: 1px; border-radius: 4px; background: black; color: rgb(249.78517217561603, 255.0, 249.78517217561603);'>&lt;s&gt;</span><span title='-0.259' style='margin: 1px; padding: 1px; border-radius: 4px; background: black; color: rgb(255.0, 222.01264768838882, 222.01264768838882);'>me</span><span title='-0.384' style='margin: 1px; padding: 1px; border-radius: 4px; background: black; color: rgb(255.0, 206.05345465242863, 206.05345465242863);'>h</span><span title='-0.089' style='margin: 1px; padding: 1px; border-radius: 4px; background: black; color: rgb(255.0, 243.63598303869367, 243.63598303869367);'>&lt;/s&gt;</span></span><br/><br/>"
      ],
      "text/plain": [
       "<IPython.core.display.HTML object>"
      ]
     },
     "metadata": {},
     "output_type": "display_data"
    },
    {
     "name": "stdout",
     "output_type": "stream",
     "text": [
      "QOI = POSITIVE\n"
     ]
    },
    {
     "data": {
      "text/html": [
       "<span style='padding: 2px; margin: 2px; background: gray; border-radius: 4px;'>positive:&nbsp;<span title='-0.019' style='margin: 1px; padding: 1px; border-radius: 4px; background: black; color: rgb(255.0, 252.56002980284393, 252.56002980284393);'>&lt;s&gt;</span><span title='0.184' style='margin: 1px; padding: 1px; border-radius: 4px; background: black; color: rgb(231.51043944060802, 255.0, 231.51043944060802);'>I</span><span title='0.505' style='margin: 1px; padding: 1px; border-radius: 4px; background: black; color: rgb(190.57948037981987, 255.0, 190.57948037981987);'>&#x27;m</span>&nbsp;<span title='1.305' style='margin: 1px; padding: 1px; border-radius: 4px; background: black; color: rgb(88.5709673166275, 255.0, 88.5709673166275);'>so</span>&nbsp;<span title='2.129' style='margin: 1px; padding: 1px; border-radius: 4px; background: black; color: rgb(-16.483758687973022, 255.0, -16.483758687973022);'>happy</span><span title='0.715' style='margin: 1px; padding: 1px; border-radius: 4px; background: black; color: rgb(163.87892872095108, 255.0, 163.87892872095108);'>!</span><span title='0.419' style='margin: 1px; padding: 1px; border-radius: 4px; background: black; color: rgb(201.60088777542114, 255.0, 201.60088777542114);'>&lt;/s&gt;</span></span><br/><br/><span style='padding: 2px; margin: 2px; background: gray; border-radius: 4px;'>negative:&nbsp;<span title='-0.097' style='margin: 1px; padding: 1px; border-radius: 4px; background: black; color: rgb(255.0, 242.5963692739606, 242.5963692739606);'>&lt;s&gt;</span><span title='-0.001' style='margin: 1px; padding: 1px; border-radius: 4px; background: black; color: rgb(255.0, 254.88419432658702, 254.88419432658702);'>I</span><span title='0.179' style='margin: 1px; padding: 1px; border-radius: 4px; background: black; color: rgb(232.19074543565512, 255.0, 232.19074543565512);'>&#x27;m</span>&nbsp;<span title='-0.264' style='margin: 1px; padding: 1px; border-radius: 4px; background: black; color: rgb(255.0, 221.29018485546112, 221.29018485546112);'>so</span>&nbsp;<span title='-0.763' style='margin: 1px; padding: 1px; border-radius: 4px; background: black; color: rgb(255.0, 157.69540652632713, 157.69540652632713);'>sad</span><span title='0.127' style='margin: 1px; padding: 1px; border-radius: 4px; background: black; color: rgb(238.81316877901554, 255.0, 238.81316877901554);'>!</span><span title='0.285' style='margin: 1px; padding: 1px; border-radius: 4px; background: black; color: rgb(218.69466572999954, 255.0, 218.69466572999954);'>&lt;/s&gt;</span></span><br/><br/><span style='padding: 2px; margin: 2px; background: gray; border-radius: 4px;'>negative:&nbsp;<span title='-0.031' style='margin: 1px; padding: 1px; border-radius: 4px; background: black; color: rgb(255.0, 251.08558542095125, 251.08558542095125);'>&lt;s&gt;</span><span title='-0.082' style='margin: 1px; padding: 1px; border-radius: 4px; background: black; color: rgb(255.0, 244.48287209495902, 244.48287209495902);'>I</span>&nbsp;<span title='-1.158' style='margin: 1px; padding: 1px; border-radius: 4px; background: black; color: rgb(255.0, 107.30368852615356, 107.30368852615356);'>cannot</span>&nbsp;<span title='-0.044' style='margin: 1px; padding: 1px; border-radius: 4px; background: black; color: rgb(255.0, 249.4150596857071, 249.4150596857071);'>tell</span>&nbsp;<span title='-0.706' style='margin: 1px; padding: 1px; border-radius: 4px; background: black; color: rgb(255.0, 164.9373771250248, 164.9373771250248);'>whether</span>&nbsp;<span title='0.095' style='margin: 1px; padding: 1px; border-radius: 4px; background: black; color: rgb(242.93751496821642, 255.0, 242.93751496821642);'>I</span>&nbsp;<span title='0.279' style='margin: 1px; padding: 1px; border-radius: 4px; background: black; color: rgb(219.40964676439762, 255.0, 219.40964676439762);'>should</span>&nbsp;<span title='0.391' style='margin: 1px; padding: 1px; border-radius: 4px; background: black; color: rgb(205.1455883681774, 255.0, 205.1455883681774);'>be</span>&nbsp;<span title='1.559' style='margin: 1px; padding: 1px; border-radius: 4px; background: black; color: rgb(56.23079627752304, 255.0, 56.23079627752304);'>happy</span>&nbsp;<span title='0.063' style='margin: 1px; padding: 1px; border-radius: 4px; background: black; color: rgb(246.92863270640373, 255.0, 246.92863270640373);'>or</span>&nbsp;<span title='-0.514' style='margin: 1px; padding: 1px; border-radius: 4px; background: black; color: rgb(255.0, 189.4447396695614, 189.4447396695614);'>sad</span><span title='0.309' style='margin: 1px; padding: 1px; border-radius: 4px; background: black; color: rgb(215.64184874296188, 255.0, 215.64184874296188);'>!</span><span title='-0.216' style='margin: 1px; padding: 1px; border-radius: 4px; background: black; color: rgb(255.0, 227.5144598633051, 227.5144598633051);'>&lt;/s&gt;</span></span><br/><br/><span style='padding: 2px; margin: 2px; background: gray; border-radius: 4px;'>neutral:&nbsp;<span title='-0.071' style='margin: 1px; padding: 1px; border-radius: 4px; background: black; color: rgb(255.0, 245.9774924442172, 245.9774924442172);'>&lt;s&gt;</span><span title='0.546' style='margin: 1px; padding: 1px; border-radius: 4px; background: black; color: rgb(185.40966019034386, 255.0, 185.40966019034386);'>me</span><span title='0.202' style='margin: 1px; padding: 1px; border-radius: 4px; background: black; color: rgb(229.2325433716178, 255.0, 229.2325433716178);'>h</span><span title='0.086' style='margin: 1px; padding: 1px; border-radius: 4px; background: black; color: rgb(244.06341260299087, 255.0, 244.06341260299087);'>&lt;/s&gt;</span></span><br/><br/>"
      ],
      "text/plain": [
       "<IPython.core.display.HTML object>"
      ]
     },
     "metadata": {},
     "output_type": "display_data"
    }
   ],
   "source": [
    "from trulens.visualizations import NLP\n",
    "\n",
    "V = NLP(\n",
    "    wrapper=task.wrapper,\n",
    "    labels=task.labels,\n",
    "    decode=lambda x: task.tokenizer.decode(x),\n",
    "    tokenize=lambda sentences: ModelInputs(kwargs=task.tokenizer(sentences, padding=True, return_tensors='pt')).map(lambda t: t.to(task.device)),\n",
    "    # huggingface models can take as input the keyword args as per produced by their tokenizers.\n",
    "\n",
    "    input_accessor=lambda x: x.kwargs['input_ids'],\n",
    "    # for huggingface models, input/token ids are under input_ids key in the input dictionary\n",
    "\n",
    "    output_accessor=lambda x: x['logits'],\n",
    "    # and logits under 'logits' key in the output dictionary\n",
    "\n",
    "    hidden_tokens=set([task.tokenizer.pad_token_id])\n",
    "    # do not display these tokens\n",
    ")\n",
    "\n",
    "print(\"QOI = MAX PREDICTION\")\n",
    "display(V.token_attribution(sentences, infl_max))\n",
    "\n",
    "print(\"QOI = POSITIVE\")\n",
    "display(V.token_attribution(sentences, infl_positive))"
   ]
  },
  {
   "cell_type": "markdown",
   "metadata": {},
   "source": [
    "# Baselines\n",
    "\n",
    "We see in the above results that special tokens such as the sentence end **&lt;/s&gt;** contributes are found to contribute a lot to the model outputs. While this may be useful in some contexts, we are more interested in the contributions of the actual words in these sentences. To focus on the words more, we need to adjust the **baseline** used in the integrated gradients computation. By default in the instantiation so far, the baseline for each token is a zero vector of the same shape as its embedding. By making the basaeline be identicaly to the explained instances on special tokens, we can rid their impact from our measurement. Trulens provides a utility for this purpose in terms of `token_baseline` which constructs for you the methods to compute the appropriate baseline. "
   ]
  },
  {
   "cell_type": "code",
   "execution_count": 26,
   "metadata": {},
   "outputs": [],
   "source": [
    "from trulens.utils.nlp import token_baseline\n",
    "\n",
    "inputs_baseline_ids, inputs_baseline_embeddings = token_baseline(\n",
    "    keep_tokens=set([task.tokenizer.cls_token_id, task.tokenizer.sep_token_id]),\n",
    "    # Which tokens to preserve.\n",
    "\n",
    "    replacement_token=task.tokenizer.pad_token_id,\n",
    "    # What to replace tokens with.\n",
    "\n",
    "    input_accessor=lambda x: x.kwargs['input_ids'],\n",
    "\n",
    "    ids_to_embeddings=task.model.get_input_embeddings()\n",
    "    # Callable to produce embeddings from token ids.\n",
    ")"
   ]
  },
  {
   "cell_type": "markdown",
   "metadata": {},
   "source": [
    "We can now inspect the baselines on some example sentences. The first method returned by `token_baseline` gives us token ids to inspect while the second gives us the embeddings of the baseline which we will pass to the attributions method."
   ]
  },
  {
   "cell_type": "code",
   "execution_count": 27,
   "metadata": {},
   "outputs": [
    {
     "name": "stdout",
     "output_type": "stream",
     "text": [
      "originals= [\"<s>I'm so happy!</s><pad><pad><pad><pad><pad><pad>\", \"<s>I'm so sad!</s><pad><pad><pad><pad><pad><pad>\", '<s>I cannot tell whether I should be happy or sad!</s>', '<s>meh</s><pad><pad><pad><pad><pad><pad><pad><pad><pad>']\n",
      "baselines= ['<s><pad><pad><pad><pad><pad></s><pad><pad><pad><pad><pad><pad>', '<s><pad><pad><pad><pad><pad></s><pad><pad><pad><pad><pad><pad>', '<s><pad><pad><pad><pad><pad><pad><pad><pad><pad><pad><pad></s>', '<s><pad><pad></s><pad><pad><pad><pad><pad><pad><pad><pad><pad>']\n"
     ]
    }
   ],
   "source": [
    "print(\"originals=\", task.tokenizer.batch_decode(inputs['input_ids']))\n",
    "\n",
    "baseline_word_ids = inputs_baseline_ids(model_inputs=ModelInputs(args=[], kwargs=inputs))\n",
    "print(\"baselines=\", task.tokenizer.batch_decode(baseline_word_ids))"
   ]
  },
  {
   "cell_type": "code",
   "execution_count": 28,
   "metadata": {},
   "outputs": [
    {
     "name": "stdout",
     "output_type": "stream",
     "text": [
      "QOI = POSITIVE WITH BASELINE\n"
     ]
    },
    {
     "data": {
      "text/html": [
       "<span style='padding: 2px; margin: 2px; background: gray; border-radius: 4px;'>positive:&nbsp;<span title='0.000' style='margin: 1px; padding: 1px; border-radius: 4px; background: black; color: rgb(255.0, 255.0, 255.0);'>&lt;s&gt;</span><span title='-0.297' style='margin: 1px; padding: 1px; border-radius: 4px; background: black; color: rgb(255.0, 217.12565392255783, 217.12565392255783);'>I</span><span title='0.708' style='margin: 1px; padding: 1px; border-radius: 4px; background: black; color: rgb(164.76285248994827, 255.0, 164.76285248994827);'>&#x27;m</span>&nbsp;<span title='1.267' style='margin: 1px; padding: 1px; border-radius: 4px; background: black; color: rgb(93.4041103720665, 255.0, 93.4041103720665);'>so</span>&nbsp;<span title='2.180' style='margin: 1px; padding: 1px; border-radius: 4px; background: black; color: rgb(-22.937393188476562, 255.0, -22.937393188476562);'>happy</span><span title='0.422' style='margin: 1px; padding: 1px; border-radius: 4px; background: black; color: rgb(201.15538828074932, 255.0, 201.15538828074932);'>!</span><span title='0.000' style='margin: 1px; padding: 1px; border-radius: 4px; background: black; color: rgb(255.0, 255.0, 255.0);'>&lt;/s&gt;</span></span><br/><br/><span style='padding: 2px; margin: 2px; background: gray; border-radius: 4px;'>negative:&nbsp;<span title='0.000' style='margin: 1px; padding: 1px; border-radius: 4px; background: black; color: rgb(255.0, 255.0, 255.0);'>&lt;s&gt;</span><span title='-0.033' style='margin: 1px; padding: 1px; border-radius: 4px; background: black; color: rgb(255.0, 250.80068288370967, 250.80068288370967);'>I</span><span title='-0.148' style='margin: 1px; padding: 1px; border-radius: 4px; background: black; color: rgb(255.0, 236.1368963867426, 236.1368963867426);'>&#x27;m</span>&nbsp;<span title='-0.616' style='margin: 1px; padding: 1px; border-radius: 4px; background: black; color: rgb(255.0, 176.46940112113953, 176.46940112113953);'>so</span>&nbsp;<span title='-0.755' style='margin: 1px; padding: 1px; border-radius: 4px; background: black; color: rgb(255.0, 158.7597218155861, 158.7597218155861);'>sad</span><span title='-0.418' style='margin: 1px; padding: 1px; border-radius: 4px; background: black; color: rgb(255.0, 201.6704848408699, 201.6704848408699);'>!</span><span title='0.000' style='margin: 1px; padding: 1px; border-radius: 4px; background: black; color: rgb(255.0, 255.0, 255.0);'>&lt;/s&gt;</span></span><br/><br/><span style='padding: 2px; margin: 2px; background: gray; border-radius: 4px;'>negative:&nbsp;<span title='0.000' style='margin: 1px; padding: 1px; border-radius: 4px; background: black; color: rgb(255.0, 255.0, 255.0);'>&lt;s&gt;</span><span title='-0.082' style='margin: 1px; padding: 1px; border-radius: 4px; background: black; color: rgb(255.0, 244.59380809217691, 244.59380809217691);'>I</span>&nbsp;<span title='-0.568' style='margin: 1px; padding: 1px; border-radius: 4px; background: black; color: rgb(255.0, 182.6339167356491, 182.6339167356491);'>cannot</span>&nbsp;<span title='-0.053' style='margin: 1px; padding: 1px; border-radius: 4px; background: black; color: rgb(255.0, 248.29621019773185, 248.29621019773185);'>tell</span>&nbsp;<span title='-0.543' style='margin: 1px; padding: 1px; border-radius: 4px; background: black; color: rgb(255.0, 185.82351118326187, 185.82351118326187);'>whether</span>&nbsp;<span title='0.318' style='margin: 1px; padding: 1px; border-radius: 4px; background: black; color: rgb(214.4155177474022, 255.0, 214.4155177474022);'>I</span>&nbsp;<span title='0.100' style='margin: 1px; padding: 1px; border-radius: 4px; background: black; color: rgb(242.24157756194472, 255.0, 242.24157756194472);'>should</span>&nbsp;<span title='0.359' style='margin: 1px; padding: 1px; border-radius: 4px; background: black; color: rgb(209.26762238144875, 255.0, 209.26762238144875);'>be</span>&nbsp;<span title='0.842' style='margin: 1px; padding: 1px; border-radius: 4px; background: black; color: rgb(147.66522154211998, 255.0, 147.66522154211998);'>happy</span>&nbsp;<span title='0.117' style='margin: 1px; padding: 1px; border-radius: 4px; background: black; color: rgb(240.13791164383292, 255.0, 240.13791164383292);'>or</span>&nbsp;<span title='-0.523' style='margin: 1px; padding: 1px; border-radius: 4px; background: black; color: rgb(255.0, 188.3174465596676, 188.3174465596676);'>sad</span><span title='-0.188' style='margin: 1px; padding: 1px; border-radius: 4px; background: black; color: rgb(255.0, 231.07558697462082, 231.07558697462082);'>!</span><span title='0.000' style='margin: 1px; padding: 1px; border-radius: 4px; background: black; color: rgb(255.0, 255.0, 255.0);'>&lt;/s&gt;</span></span><br/><br/><span style='padding: 2px; margin: 2px; background: gray; border-radius: 4px;'>neutral:&nbsp;<span title='0.000' style='margin: 1px; padding: 1px; border-radius: 4px; background: black; color: rgb(255.0, 255.0, 255.0);'>&lt;s&gt;</span><span title='0.372' style='margin: 1px; padding: 1px; border-radius: 4px; background: black; color: rgb(207.56098195910454, 255.0, 207.56098195910454);'>me</span><span title='-0.778' style='margin: 1px; padding: 1px; border-radius: 4px; background: black; color: rgb(255.0, 155.8505067229271, 155.8505067229271);'>h</span><span title='0.000' style='margin: 1px; padding: 1px; border-radius: 4px; background: black; color: rgb(255.0, 255.0, 255.0);'>&lt;/s&gt;</span></span><br/><br/>"
      ],
      "text/plain": [
       "<IPython.core.display.HTML object>"
      ]
     },
     "metadata": {},
     "output_type": "display_data"
    }
   ],
   "source": [
    "infl_positive_baseline = IntegratedGradients(\n",
    "    model = task.wrapper,\n",
    "    resolution=50,\n",
    "    baseline = inputs_baseline_embeddings,\n",
    "    doi_cut=Cut('roberta_embeddings_word_embeddings'),\n",
    "    qoi=ClassQoI(task.POSITIVE),\n",
    "    qoi_cut=OutputCut(accessor=lambda o: o['logits'])\n",
    ")\n",
    "\n",
    "print(\"QOI = POSITIVE WITH BASELINE\")\n",
    "display(V.token_attribution(sentences, infl_positive_baseline))"
   ]
  },
  {
   "cell_type": "markdown",
   "metadata": {},
   "source": [
    "As we see, the baseline eliminated the measurement of contribution of the special tokens."
   ]
  }
 ],
 "metadata": {
  "anaconda-cloud": {},
  "interpreter": {
   "hash": "51eb71198507ab2c2a4108a27eda9d9658549732e67153fc0e371d8439827db7"
  },
  "kernelspec": {
   "display_name": "Python 3 (ipykernel)",
   "language": "python",
   "name": "python3"
  },
  "language_info": {
   "codemirror_mode": {
    "name": "ipython",
    "version": 3
   },
   "file_extension": ".py",
   "mimetype": "text/x-python",
   "name": "python",
   "nbconvert_exporter": "python",
   "pygments_lexer": "ipython3",
   "version": "3.10.6"
  }
 },
 "nbformat": 4,
 "nbformat_minor": 2
}
