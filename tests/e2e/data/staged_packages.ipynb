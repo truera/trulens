{
 "cells": [
  {
   "cell_type": "markdown",
   "metadata": {},
   "source": [
    "# Use trulens packages from stage"
   ]
  },
  {
   "cell_type": "code",
   "execution_count": null,
   "metadata": {},
   "outputs": [],
   "source": [
    "# Imports.\n",
    "import shutil\n",
    "import sys\n",
    "\n",
    "from snowflake.snowpark.context import get_active_session\n",
    "\n",
    "# Parameters.\n",
    "TRULENS_PACKAGES = [\n",
    "    \"trulens-connectors-snowflake\",\n",
    "    \"trulens-core\",\n",
    "    \"trulens-feedback\",\n",
    "    \"trulens-otel-semconv\",\n",
    "    \"trulens-providers-cortex\",\n",
    "]\n",
    "STAGE_NAME = \"TRULENS_PACKAGES_STAGE\"\n",
    "\n",
    "\n",
    "# Helper functions.\n",
    "def clear_existing_trulens_modules() -> None:\n",
    "    for module_name in list(sys.modules.keys()):\n",
    "        if module_name.startswith(\"trulens\"):\n",
    "            del sys.modules[module_name]\n",
    "\n",
    "\n",
    "def use_package(\n",
    "    trulens_package: str,\n",
    "    zip_directory: str = \"/tmp/zip\",\n",
    "    expanded_directory: str = \"/tmp/expanded\",\n",
    ") -> None:\n",
    "    snowpark_session = get_active_session()\n",
    "    get_status = snowpark_session.file.get(\n",
    "        f\"@{STAGE_NAME}/{trulens_package}.zip\", zip_directory\n",
    "    )\n",
    "    if len(get_status) != 1:\n",
    "        raise ValueError(f\"Failed to download `{trulens_package}.zip`\")\n",
    "    shutil.unpack_archive(\n",
    "        f\"{zip_directory}/{trulens_package}.zip\", expanded_directory\n",
    "    )\n",
    "    sys.path.insert(0, expanded_directory)\n",
    "\n",
    "\n",
    "# Use trulens packages from stage.\n",
    "for trulens_package in TRULENS_PACKAGES:\n",
    "    use_package(trulens_package)"
   ]
  },
  {
   "cell_type": "markdown",
   "metadata": {},
   "source": [
    "# Test importing trulens packages"
   ]
  },
  {
   "cell_type": "code",
   "execution_count": null,
   "metadata": {},
   "outputs": [],
   "source": [
    "import trulens.connectors.snowflake\n",
    "\n",
    "print(trulens.connectors.snowflake.__version__)"
   ]
  },
  {
   "cell_type": "code",
   "execution_count": null,
   "metadata": {},
   "outputs": [],
   "source": [
    "import trulens.core\n",
    "\n",
    "print(trulens.core.__version__)"
   ]
  },
  {
   "cell_type": "code",
   "execution_count": null,
   "metadata": {},
   "outputs": [],
   "source": [
    "import trulens.feedback\n",
    "\n",
    "print(trulens.feedback.__version__)"
   ]
  },
  {
   "cell_type": "code",
   "execution_count": null,
   "metadata": {},
   "outputs": [],
   "source": [
    "import trulens.providers.cortex\n",
    "\n",
    "print(trulens.providers.cortex.__version__)"
   ]
  },
  {
   "cell_type": "code",
   "execution_count": null,
   "metadata": {},
   "outputs": [],
   "source": [
    "import trulens.otel.semconv\n",
    "\n",
    "print(trulens.otel.semconv.__version__)"
   ]
  },
  {
   "cell_type": "markdown",
   "metadata": {},
   "source": [
    "# Run a simple app"
   ]
  },
  {
   "cell_type": "code",
   "execution_count": null,
   "metadata": {},
   "outputs": [],
   "source": [
    "# Imports.\n",
    "import time\n",
    "\n",
    "import snowflake.snowpark as snowpark\n",
    "from trulens.apps.basic import TruBasicApp\n",
    "from trulens.connectors.snowflake import SnowflakeConnector\n",
    "from trulens.core import TruSession\n",
    "from trulens.core.feedback import Feedback\n",
    "from trulens.core.feedback import SnowflakeFeedback\n",
    "from trulens.providers.cortex import Cortex\n",
    "\n",
    "snowpark_session = get_active_session()\n",
    "\n",
    "\n",
    "# Helper functions.\n",
    "def wait_till_feedbacks_done(\n",
    "    snowpark_session: snowpark.Session,\n",
    "    num_expected_feedbacks: int,\n",
    "    timeout_in_seconds: int = 120,\n",
    ") -> None:\n",
    "    start_time = time.time()\n",
    "    while time.time() - start_time < timeout_in_seconds:\n",
    "        res = snowpark_session.sql(\n",
    "            \"SELECT STATUS FROM TRULENS_FEEDBACKS\"\n",
    "        ).collect()\n",
    "        if len(res) == num_expected_feedbacks and all([\n",
    "            curr.STATUS == \"done\" for curr in res\n",
    "        ]):\n",
    "            return\n",
    "        time.sleep(1)\n",
    "    raise ValueError(\"Feedback evaluation didn't complete in time!\")\n",
    "\n",
    "\n",
    "# Set up TruLens.\n",
    "connector = SnowflakeConnector(\n",
    "    snowpark_session=snowpark_session,\n",
    "    init_server_side=False,\n",
    "    database_check_revision=False,\n",
    ")\n",
    "tru_session = TruSession(connector=connector)\n",
    "\n",
    "# Set up feedback functions.\n",
    "relevance = Cortex(snowpark_session, retry_timeout=60).relevance\n",
    "f_regular = Feedback(relevance).on_input_output()\n",
    "f_snowflake = SnowflakeFeedback(relevance).on_input_output()\n",
    "feedbacks = [\n",
    "    f_regular,\n",
    "    f_snowflake,\n",
    "]\n",
    "\n",
    "# Set up app.\n",
    "tru_app = TruBasicApp(\n",
    "    text_to_text=lambda _: \"Tokyo is the capital of Japan.\",\n",
    "    feedbacks=feedbacks,\n",
    ")\n",
    "\n",
    "# Invoke app.\n",
    "with tru_app:\n",
    "    tru_app.main_call(\"What is the capital of Japan?\")\n",
    "\n",
    "# Wait.\n",
    "wait_till_feedbacks_done(snowpark_session, len(feedbacks))\n",
    "\n",
    "# Output result.\n",
    "records_and_feedback = tru_session.get_records_and_feedback()\n",
    "print(records_and_feedback[1])\n",
    "records_and_feedback[0].T"
   ]
  },
  {
   "cell_type": "markdown",
   "metadata": {},
   "source": [
    "# Finish with an obvious statement"
   ]
  },
  {
   "cell_type": "code",
   "execution_count": null,
   "metadata": {},
   "outputs": [],
   "source": [
    "print(\"Kojikun is the world's cutest baby!\")"
   ]
  }
 ],
 "metadata": {
  "kernelspec": {
   "display_name": "trulens_3_11",
   "language": "python",
   "name": "python3"
  },
  "language_info": {
   "codemirror_mode": {
    "name": "ipython",
    "version": 3
   },
   "file_extension": ".py",
   "mimetype": "text/x-python",
   "name": "python",
   "nbconvert_exporter": "python",
   "pygments_lexer": "ipython3"
  }
 },
 "nbformat": 4,
 "nbformat_minor": 2
}
