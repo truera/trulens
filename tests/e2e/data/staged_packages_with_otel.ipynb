{
 "cells": [
  {
   "cell_type": "markdown",
   "metadata": {},
   "source": [
    "# Use trulens packages from stage"
   ]
  },
  {
   "cell_type": "code",
   "execution_count": null,
   "metadata": {},
   "outputs": [],
   "source": [
    "# Imports.\n",
    "import shutil\n",
    "import sys\n",
    "\n",
    "from snowflake.snowpark.context import get_active_session\n",
    "\n",
    "# Parameters.\n",
    "TRULENS_PACKAGES = [\n",
    "    \"trulens-connectors-snowflake\",\n",
    "    \"trulens-core\",\n",
    "    \"trulens-feedback\",\n",
    "    \"trulens-otel-semconv\",\n",
    "    \"trulens-providers-cortex\",\n",
    "]\n",
    "STAGE_NAME = \"TRULENS_PACKAGES_STAGE\"\n",
    "\n",
    "\n",
    "# Helper functions.\n",
    "def clear_existing_trulens_modules() -> None:\n",
    "    for module_name in list(sys.modules.keys()):\n",
    "        if module_name.startswith(\"trulens\"):\n",
    "            del sys.modules[module_name]\n",
    "\n",
    "\n",
    "def use_package(\n",
    "    trulens_package: str,\n",
    "    zip_directory: str = \"/tmp/zip\",\n",
    "    expanded_directory: str = \"/tmp/expanded\",\n",
    ") -> None:\n",
    "    snowpark_session = get_active_session()\n",
    "    get_status = snowpark_session.file.get(\n",
    "        f\"@{STAGE_NAME}/{trulens_package}.zip\", zip_directory\n",
    "    )\n",
    "    if len(get_status) != 1:\n",
    "        raise ValueError(f\"Failed to download `{trulens_package}.zip`\")\n",
    "    shutil.unpack_archive(\n",
    "        f\"{zip_directory}/{trulens_package}.zip\", expanded_directory\n",
    "    )\n",
    "    sys.path.insert(0, expanded_directory)\n",
    "\n",
    "\n",
    "# Use trulens packages from stage.\n",
    "for trulens_package in TRULENS_PACKAGES:\n",
    "    use_package(trulens_package)"
   ]
  },
  {
   "cell_type": "markdown",
   "metadata": {},
   "source": [
    "# Run a simple app"
   ]
  },
  {
   "cell_type": "code",
   "execution_count": null,
   "metadata": {},
   "outputs": [],
   "source": [
    "# Enable OTEL flow.\n",
    "\n",
    "import os\n",
    "\n",
    "os.environ[\"TRULENS_OTEL_TRACING\"] = \"1\""
   ]
  },
  {
   "cell_type": "code",
   "execution_count": null,
   "metadata": {},
   "outputs": [],
   "source": [
    "# Imports.\n",
    "\n",
    "import logging\n",
    "import time\n",
    "from typing import Any, Sequence\n",
    "import uuid\n",
    "\n",
    "from trulens.apps.app import TruApp\n",
    "from trulens.connectors import snowflake as snowflake_connector\n",
    "from trulens.core.session import TruSession\n",
    "from trulens.otel.semconv.trace import SpanAttributes"
   ]
  },
  {
   "cell_type": "code",
   "execution_count": null,
   "metadata": {},
   "outputs": [],
   "source": [
    "# Set up.\n",
    "\n",
    "logger = logging.getLogger(__name__)\n",
    "snowpark_session = get_active_session()\n",
    "db_connector = snowflake_connector.SnowflakeConnector(\n",
    "    snowpark_session=snowpark_session\n",
    ")\n",
    "tru_session = TruSession(db_connector)"
   ]
  },
  {
   "cell_type": "code",
   "execution_count": null,
   "metadata": {},
   "outputs": [],
   "source": [
    "# Create app.\n",
    "\n",
    "APP_NAME = \"Greeter\"\n",
    "\n",
    "\n",
    "class MyApp:\n",
    "    def greet(self, name: str) -> str:\n",
    "        return f\"Hi {name}!\"\n",
    "\n",
    "\n",
    "app = MyApp()\n",
    "tru_recorder = TruApp(\n",
    "    app,\n",
    "    app_name=APP_NAME,\n",
    "    app_version=\"v1\",\n",
    "    main_method=app.greet,\n",
    ")"
   ]
  },
  {
   "cell_type": "code",
   "execution_count": null,
   "metadata": {},
   "outputs": [],
   "source": [
    "# Record and invoke.\n",
    "\n",
    "run_name = str(uuid.uuid4())\n",
    "tru_recorder.instrumented_invoke_main_method(\n",
    "    run_name=run_name,\n",
    "    input_id=\"42\",\n",
    "    main_method_args=(\"What is multi-headed attention?\",),\n",
    ")"
   ]
  },
  {
   "cell_type": "code",
   "execution_count": null,
   "metadata": {},
   "outputs": [],
   "source": [
    "# Flush exporter and wait for data to be made to stage.\n",
    "\n",
    "tru_session.force_flush()"
   ]
  },
  {
   "cell_type": "code",
   "execution_count": null,
   "metadata": {},
   "outputs": [],
   "source": [
    "# Check that the data is in the event table.\n",
    "\n",
    "\n",
    "def _wait_for_num_results(\n",
    "    q: str,\n",
    "    params: Sequence[Any],\n",
    "    expected_num_results: int,\n",
    "    num_retries: int = 30,\n",
    "    retry_cooldown_in_seconds: int = 10,\n",
    ") -> Sequence:\n",
    "    for _ in range(num_retries):\n",
    "        results = snowpark_session.sql(q, params=params).collect()\n",
    "        if len(results) == expected_num_results:\n",
    "            return results\n",
    "        logger.info(\n",
    "            f\"Got {len(results)} results, expecting {expected_num_results}\"\n",
    "        )\n",
    "        time.sleep(retry_cooldown_in_seconds)\n",
    "    raise ValueError(\n",
    "        f\"Did not get the expected number of results! Expected {expected_num_results} results, but last found: {len(results)}! The results:\\n{results}\"\n",
    "    )\n",
    "\n",
    "\n",
    "_wait_for_num_results(\n",
    "    f\"\"\"\n",
    "        SELECT\n",
    "            *\n",
    "        FROM\n",
    "            table(snowflake.local.GET_AI_OBSERVABILITY_EVENTS(\n",
    "                ?,\n",
    "                ?,\n",
    "                ?,\n",
    "                'EXTERNAL AGENT'\n",
    "            ))\n",
    "        WHERE\n",
    "            RECORD_TYPE = 'SPAN'\n",
    "            AND TIMESTAMP >= TO_TIMESTAMP_LTZ('2025-01-31 20:42:00')\n",
    "            AND RECORD_ATTRIBUTES['{SpanAttributes.RUN_NAME}'] = '{run_name}'\n",
    "        ORDER BY TIMESTAMP DESC\n",
    "        LIMIT 50\n",
    "    \"\"\",\n",
    "    [\n",
    "        snowpark_session.get_current_database()[1:-1],\n",
    "        snowpark_session.get_current_schema()[1:-1],\n",
    "        APP_NAME,\n",
    "    ],\n",
    "    1,  # TODO(otel): get this from the exporter or something?\n",
    ")"
   ]
  },
  {
   "cell_type": "markdown",
   "metadata": {},
   "source": [
    "# Finish with an obvious statement"
   ]
  },
  {
   "cell_type": "code",
   "execution_count": null,
   "metadata": {},
   "outputs": [],
   "source": [
    "print(\"Kojikun is the world's cutest baby!\")"
   ]
  }
 ],
 "metadata": {
  "kernelspec": {
   "display_name": "trulens_3_11",
   "language": "python",
   "name": "python3"
  },
  "language_info": {
   "codemirror_mode": {
    "name": "ipython",
    "version": 3
   },
   "file_extension": ".py",
   "mimetype": "text/x-python",
   "name": "python",
   "nbconvert_exporter": "python",
   "pygments_lexer": "ipython3"
  }
 },
 "nbformat": 4,
 "nbformat_minor": 2
}
