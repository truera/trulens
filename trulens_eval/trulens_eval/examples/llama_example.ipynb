{
 "cells": [
  {
   "cell_type": "code",
   "execution_count": 2,
   "metadata": {},
   "outputs": [],
   "source": [
    "%load_ext autoreload\n",
    "%autoreload 2\n",
    "from pathlib import Path\n",
    "import sys\n",
    "\n",
    "sys.path.append(str(Path().cwd().parent.parent.resolve()))"
   ]
  },
  {
   "cell_type": "code",
   "execution_count": 3,
   "metadata": {},
   "outputs": [
    {
     "name": "stderr",
     "output_type": "stream",
     "text": [
      "Token indices sequence length is longer than the specified maximum sequence length for this model (1808 > 1024). Running this sequence through the model will result in indexing errors\n"
     ]
    },
    {
     "name": "stdout",
     "output_type": "stream",
     "text": [
      "\n",
      "The author grew up writing essays, learning Italian, exploring Florence, painting people, working with computers, attending RISD, living in a rent-stabilized apartment, building an online store builder, editing Lisp expressions, publishing essays online, writing essays, painting still life, working on spam filters, cooking for groups, and buying a building in Cambridge.\n"
     ]
    }
   ],
   "source": [
    "from trulens_eval.keys import *\n",
    "\n",
    "# LLama Index starter example from: https://gpt-index.readthedocs.io/en/latest/getting_started/starter_example.html\n",
    "\n",
    "from llama_index import GPTVectorStoreIndex, SimpleDirectoryReader\n",
    "\n",
    "documents = SimpleDirectoryReader('llama_index/data').load_data()\n",
    "index = GPTVectorStoreIndex.from_documents(documents)\n",
    "\n",
    "query_engine = index.as_query_engine()\n",
    "response = query_engine.query(\"What did the author do growing up?\")\n",
    "\n",
    "print(response)"
   ]
  },
  {
   "cell_type": "code",
   "execution_count": 4,
   "metadata": {},
   "outputs": [
    {
     "data": {
      "text/plain": [
       "list"
      ]
     },
     "execution_count": 4,
     "metadata": {},
     "output_type": "execute_result"
    }
   ],
   "source": [
    "type(documents)"
   ]
  },
  {
   "cell_type": "code",
   "execution_count": 9,
   "metadata": {},
   "outputs": [
    {
     "data": {
      "text/plain": [
       "llama_index.query_engine.retriever_query_engine.RetrieverQueryEngine"
      ]
     },
     "execution_count": 9,
     "metadata": {},
     "output_type": "execute_result"
    }
   ],
   "source": [
    "type(query_engine)"
   ]
  },
  {
   "cell_type": "code",
   "execution_count": 10,
   "metadata": {},
   "outputs": [],
   "source": [
    "from trulens_eval.tru_chain import TruChain"
   ]
  },
  {
   "cell_type": "code",
   "execution_count": 11,
   "metadata": {},
   "outputs": [
    {
     "name": "stderr",
     "output_type": "stream",
     "text": [
      "`feedback_mode` is with_chain_thread but `tru` was not specified. Reverting to FeedbackMode.NONE .\n"
     ]
    },
    {
     "ename": "ValidationError",
     "evalue": "1 validation error for TruChain\nchain\n  value is not a valid dict (type=type_error.dict)",
     "output_type": "error",
     "traceback": [
      "\u001b[0;31m---------------------------------------------------------------------------\u001b[0m",
      "\u001b[0;31mValidationError\u001b[0m                           Traceback (most recent call last)",
      "\u001b[1;32m/Users/piotrm/repos/trulens/trulens_eval/trulens_eval/examples/llama_example.ipynb Cell 6\u001b[0m in \u001b[0;36m<cell line: 1>\u001b[0;34m()\u001b[0m\n\u001b[0;32m----> <a href='vscode-notebook-cell:/Users/piotrm/repos/trulens/trulens_eval/trulens_eval/examples/llama_example.ipynb#W6sZmlsZQ%3D%3D?line=0'>1</a>\u001b[0m tc \u001b[39m=\u001b[39m TruChain(chain\u001b[39m=\u001b[39;49mquery_engine)\n",
      "File \u001b[0;32m~/repos/trulens/trulens_eval/trulens_eval/tru_chain.py:169\u001b[0m, in \u001b[0;36mTruChain.__init__\u001b[0;34m(self, tru, feedbacks, feedback_mode, **kwargs)\u001b[0m\n\u001b[1;32m    166\u001b[0m kwargs[\u001b[39m'\u001b[39m\u001b[39mfeedbacks\u001b[39m\u001b[39m'\u001b[39m] \u001b[39m=\u001b[39m feedbacks\n\u001b[1;32m    167\u001b[0m kwargs[\u001b[39m'\u001b[39m\u001b[39mfeedback_mode\u001b[39m\u001b[39m'\u001b[39m] \u001b[39m=\u001b[39m feedback_mode\n\u001b[0;32m--> 169\u001b[0m \u001b[39msuper\u001b[39;49m()\u001b[39m.\u001b[39;49m\u001b[39m__init__\u001b[39;49m(\u001b[39m*\u001b[39;49m\u001b[39m*\u001b[39;49mkwargs)\n\u001b[1;32m    171\u001b[0m \u001b[39mif\u001b[39;00m tru \u001b[39mis\u001b[39;00m \u001b[39mnot\u001b[39;00m \u001b[39mNone\u001b[39;00m \u001b[39mand\u001b[39;00m feedback_mode \u001b[39m!=\u001b[39m FeedbackMode\u001b[39m.\u001b[39mNONE:\n\u001b[1;32m    172\u001b[0m     logger\u001b[39m.\u001b[39mdebug(\n\u001b[1;32m    173\u001b[0m         \u001b[39m\"\u001b[39m\u001b[39mInserting chain and feedback function definitions to db.\u001b[39m\u001b[39m\"\u001b[39m\n\u001b[1;32m    174\u001b[0m     )\n",
      "File \u001b[0;32m~/repos/trulens/trulens_eval/trulens_eval/schema.py:540\u001b[0m, in \u001b[0;36mModel.__init__\u001b[0;34m(self, chain_id, feedback_mode, feedback_definitions, recording, **kwargs)\u001b[0m\n\u001b[1;32m    531\u001b[0m \u001b[39mdef\u001b[39;00m \u001b[39m__init__\u001b[39m(\n\u001b[1;32m    532\u001b[0m     \u001b[39mself\u001b[39m,\n\u001b[1;32m    533\u001b[0m     chain_id: Optional[ChainID] \u001b[39m=\u001b[39m \u001b[39mNone\u001b[39;00m,\n\u001b[0;32m   (...)\u001b[0m\n\u001b[1;32m    537\u001b[0m     \u001b[39m*\u001b[39m\u001b[39m*\u001b[39mkwargs\n\u001b[1;32m    538\u001b[0m ):\n\u001b[0;32m--> 540\u001b[0m     \u001b[39msuper\u001b[39;49m()\u001b[39m.\u001b[39;49m\u001b[39m__init__\u001b[39;49m(\n\u001b[1;32m    541\u001b[0m         chain_id\u001b[39m=\u001b[39;49m\u001b[39m\"\u001b[39;49m\u001b[39mtemporary\u001b[39;49m\u001b[39m\"\u001b[39;49m,  \u001b[39m# temporary for validation\u001b[39;49;00m\n\u001b[1;32m    542\u001b[0m         feedback_mode\u001b[39m=\u001b[39;49mfeedback_mode,\n\u001b[1;32m    543\u001b[0m         feedback_definitions\u001b[39m=\u001b[39;49mfeedback_definitions,\n\u001b[1;32m    544\u001b[0m         recording\u001b[39m=\u001b[39;49mrecording,\n\u001b[1;32m    545\u001b[0m         \u001b[39m*\u001b[39;49m\u001b[39m*\u001b[39;49mkwargs\n\u001b[1;32m    546\u001b[0m     )\n\u001b[1;32m    548\u001b[0m     \u001b[39m# Create a chain_id from entire serializable structure, even stuff\u001b[39;00m\n\u001b[1;32m    549\u001b[0m     \u001b[39m# coming from subclass.\u001b[39;00m\n\u001b[1;32m    550\u001b[0m     \u001b[39mif\u001b[39;00m chain_id \u001b[39mis\u001b[39;00m \u001b[39mNone\u001b[39;00m:\n",
      "File \u001b[0;32m/opt/homebrew/Caskroom/miniconda/base/envs/py38_trulens/lib/python3.8/site-packages/pydantic/main.py:341\u001b[0m, in \u001b[0;36mpydantic.main.BaseModel.__init__\u001b[0;34m()\u001b[0m\n",
      "\u001b[0;31mValidationError\u001b[0m: 1 validation error for TruChain\nchain\n  value is not a valid dict (type=type_error.dict)"
     ]
    }
   ],
   "source": [
    "tc = TruChain(chain=query_engine)"
   ]
  },
  {
   "cell_type": "code",
   "execution_count": null,
   "metadata": {},
   "outputs": [],
   "source": []
  }
 ],
 "metadata": {
  "kernelspec": {
   "display_name": "py38_trulens",
   "language": "python",
   "name": "python3"
  },
  "language_info": {
   "codemirror_mode": {
    "name": "ipython",
    "version": 3
   },
   "file_extension": ".py",
   "mimetype": "text/x-python",
   "name": "python",
   "nbconvert_exporter": "python",
   "pygments_lexer": "ipython3",
   "version": "3.8.16"
  },
  "orig_nbformat": 4
 },
 "nbformat": 4,
 "nbformat_minor": 2
}
