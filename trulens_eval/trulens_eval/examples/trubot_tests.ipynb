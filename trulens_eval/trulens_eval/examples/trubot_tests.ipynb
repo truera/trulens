{
 "cells": [
  {
   "attachments": {},
   "cell_type": "markdown",
   "metadata": {},
   "source": [
    "# TruBot testing\n",
    "\n",
    "This notebook tests a conversation bot with vector-store context of TruEra website. "
   ]
  },
  {
   "cell_type": "code",
   "execution_count": 1,
   "metadata": {},
   "outputs": [
    {
     "data": {
      "text/plain": [
       "\"\\nimport logging\\n\\nroot = logging.getLogger()\\nroot.setLevel(logging.DEBUG)\\n\\nhandler = logging.StreamHandler(sys.stdout)\\nhandler.setLevel(logging.DEBUG)\\nformatter = logging.Formatter('%(asctime)s - %(name)s - %(levelname)s - %(message)s')\\nhandler.setFormatter(formatter)\\nroot.addHandler(handler)\\n\""
      ]
     },
     "execution_count": 1,
     "metadata": {},
     "output_type": "execute_result"
    }
   ],
   "source": [
    "%load_ext autoreload\n",
    "%autoreload 2\n",
    "from pathlib import Path\n",
    "import sys\n",
    "\n",
    "sys.path.append(str(Path().cwd().parent.parent.resolve()))\n",
    "\n",
    "# Uncomment to get more debugging printouts:\n",
    "\"\"\"\n",
    "import logging\n",
    "\n",
    "root = logging.getLogger()\n",
    "root.setLevel(logging.DEBUG)\n",
    "\n",
    "handler = logging.StreamHandler(sys.stdout)\n",
    "handler.setLevel(logging.DEBUG)\n",
    "formatter = logging.Formatter('%(asctime)s - %(name)s - %(levelname)s - %(message)s')\n",
    "handler.setFormatter(formatter)\n",
    "root.addHandler(handler)\n",
    "\"\"\""
   ]
  },
  {
   "cell_type": "code",
   "execution_count": 6,
   "metadata": {},
   "outputs": [
    {
     "name": "stderr",
     "output_type": "stream",
     "text": [
      "huggingface api: 0requests [00:00, ?requests/s]"
     ]
    }
   ],
   "source": [
    "from trulens_eval.keys import *\n",
    "from trulens_eval.examples.trubot import get_or_make_chain, get_answer\n",
    "from trulens_eval.util import TP\n",
    "from trulens_eval import Tru\n",
    "from trulens_eval.tru_feedback import Huggingface\n",
    "from trulens_eval.util import instrumented_classes, jsonify\n",
    "from trulens_eval.util import Obj, ObjSerial, Method, FunctionOrMethod, all_objects, Class\n",
    "import json\n",
    "import pydantic\n",
    "\n",
    "from pprint import PrettyPrinter\n",
    "pp = PrettyPrinter()\n",
    "\n",
    "Tru().reset_database()"
   ]
  },
  {
   "cell_type": "code",
   "execution_count": 7,
   "metadata": {},
   "outputs": [
    {
     "name": "stdout",
     "output_type": "stream",
     "text": [
      "'Starting a new conversation with 0/default.'\n",
      "✅ chain 0/default -> default.sqlite\n",
      "✅ feedback def. feedback_definition_hash_1682b60b001dddb30b8fd7a89c0d01d6 -> default.sqlite\n",
      "✅ feedback def. feedback_definition_hash_5719fa2b309e711b5341552068b65e94 -> default.sqlite\n",
      "✅ feedback def. feedback_definition_hash_4c88ee11aabb4808086d192aa4681202 -> default.sqlite\n"
     ]
    }
   ],
   "source": [
    "chain = get_or_make_chain(cid=None)"
   ]
  },
  {
   "cell_type": "code",
   "execution_count": 8,
   "metadata": {},
   "outputs": [
    {
     "name": "stdout",
     "output_type": "stream",
     "text": [
      "* []\n",
      "*.model ['chain']\n",
      "*.model.memory ['memory']\n",
      "*.model.memory.llm ['llm']\n",
      "*.model.memory.prompt ['prompt']\n",
      "*.model.memory.chat_memory ['chathistory']\n",
      "*.model.combine_docs_chain ['chain']\n",
      "*.model.combine_docs_chain.llm_chain ['chain']\n",
      "*.model.combine_docs_chain.llm_chain.prompt ['prompt']\n",
      "*.model.combine_docs_chain.llm_chain.llm ['llm']\n",
      "*.model.combine_docs_chain.document_prompt ['prompt']\n",
      "*.model.question_generator ['chain']\n",
      "*.model.question_generator.prompt ['prompt']\n",
      "*.model.question_generator.llm ['llm']\n",
      "*.model.retriever ['retriever']\n"
     ]
    }
   ],
   "source": [
    "# Enumerate instrumented components:\n",
    "\n",
    "from trulens_eval.utils.langchain import Is\n",
    "\n",
    "tests = [Is.chain, Is.vector_store, Is.llm, Is.prompt, Is.retriever, Is.memory, Is.chathistory]\n",
    "\n",
    "for q, ci, obj in instrumented_classes(jsonify(chain, instrument=chain.instrument)):\n",
    "\n",
    "    assert isinstance(ci, Class), f\"class_info was not a Class object, was {ci}, {type(ci)}.\"\n",
    "\n",
    "    print(q, list(Is.what(ci)))"
   ]
  },
  {
   "cell_type": "code",
   "execution_count": 9,
   "metadata": {},
   "outputs": [
    {
     "name": "stdout",
     "output_type": "stream",
     "text": [
      "Force stopping dashboard ...\n",
      "Starting dashboard ...\n",
      "Looking for things to do. Stop me with `tru.stop_evaluator()`."
     ]
    }
   ],
   "source": [
    "proc = Tru().start_dashboard(force=True, _dev=Path.cwd().parent.parent)\n",
    "thread = Tru().start_evaluator(restart=True)"
   ]
  },
  {
   "cell_type": "code",
   "execution_count": 11,
   "metadata": {},
   "outputs": [
    {
     "name": "stderr",
     "output_type": "stream",
     "text": [
      "[autoreload of trulens_eval.schema failed: Traceback (most recent call last):\n",
      "  File \"/opt/homebrew/Caskroom/miniconda/base/envs/py38_trulens/lib/python3.8/site-packages/IPython/extensions/autoreload.py\", line 257, in check\n",
      "    superreload(m, reload, self.old_objects)\n",
      "  File \"/opt/homebrew/Caskroom/miniconda/base/envs/py38_trulens/lib/python3.8/site-packages/IPython/extensions/autoreload.py\", line 480, in superreload\n",
      "    update_generic(old_obj, new_obj)\n",
      "  File \"/opt/homebrew/Caskroom/miniconda/base/envs/py38_trulens/lib/python3.8/site-packages/IPython/extensions/autoreload.py\", line 377, in update_generic\n",
      "    update(a, b)\n",
      "  File \"/opt/homebrew/Caskroom/miniconda/base/envs/py38_trulens/lib/python3.8/site-packages/IPython/extensions/autoreload.py\", line 345, in update_class\n",
      "    update_instances(old, new)\n",
      "  File \"/opt/homebrew/Caskroom/miniconda/base/envs/py38_trulens/lib/python3.8/site-packages/IPython/extensions/autoreload.py\", line 303, in update_instances\n",
      "    ref.__class__ = new\n",
      "  File \"pydantic/main.py\", line 357, in pydantic.main.BaseModel.__setattr__\n",
      "ValueError: \"RecordChainCallMethod\" object has no field \"__class__\"\n",
      "]\n",
      "[autoreload of trulens_eval.tru_model failed: Traceback (most recent call last):\n",
      "  File \"/opt/homebrew/Caskroom/miniconda/base/envs/py38_trulens/lib/python3.8/site-packages/IPython/extensions/autoreload.py\", line 257, in check\n",
      "    superreload(m, reload, self.old_objects)\n",
      "  File \"/opt/homebrew/Caskroom/miniconda/base/envs/py38_trulens/lib/python3.8/site-packages/IPython/extensions/autoreload.py\", line 455, in superreload\n",
      "    module = reload(module)\n",
      "  File \"/opt/homebrew/Caskroom/miniconda/base/envs/py38_trulens/lib/python3.8/importlib/__init__.py\", line 169, in reload\n",
      "    _bootstrap._exec(spec, module)\n",
      "  File \"<frozen importlib._bootstrap>\", line 604, in _exec\n",
      "  File \"<frozen importlib._bootstrap_external>\", line 843, in exec_module\n",
      "  File \"<frozen importlib._bootstrap>\", line 219, in _call_with_frames_removed\n",
      "  File \"/Users/piotrm/repos/trulens/trulens_eval/trulens_eval/tru_model.py\", line 25, in <module>\n",
      "    from trulens_eval.trulens_eval.schema import Perf\n",
      "ModuleNotFoundError: No module named 'trulens_eval.trulens_eval'\n",
      "]\n",
      "[autoreload of trulens_eval.tru_chain failed: Traceback (most recent call last):\n",
      "  File \"/opt/homebrew/Caskroom/miniconda/base/envs/py38_trulens/lib/python3.8/site-packages/IPython/extensions/autoreload.py\", line 257, in check\n",
      "    superreload(m, reload, self.old_objects)\n",
      "  File \"/opt/homebrew/Caskroom/miniconda/base/envs/py38_trulens/lib/python3.8/site-packages/IPython/extensions/autoreload.py\", line 480, in superreload\n",
      "    update_generic(old_obj, new_obj)\n",
      "  File \"/opt/homebrew/Caskroom/miniconda/base/envs/py38_trulens/lib/python3.8/site-packages/IPython/extensions/autoreload.py\", line 377, in update_generic\n",
      "    update(a, b)\n",
      "  File \"/opt/homebrew/Caskroom/miniconda/base/envs/py38_trulens/lib/python3.8/site-packages/IPython/extensions/autoreload.py\", line 345, in update_class\n",
      "    update_instances(old, new)\n",
      "  File \"/opt/homebrew/Caskroom/miniconda/base/envs/py38_trulens/lib/python3.8/site-packages/IPython/extensions/autoreload.py\", line 303, in update_instances\n",
      "    ref.__class__ = new\n",
      "  File \"pydantic/main.py\", line 357, in pydantic.main.BaseModel.__setattr__\n",
      "ValueError: \"TruChain\" object has no field \"__class__\"\n",
      "]\n"
     ]
    },
    {
     "name": "stdout",
     "output_type": "stream",
     "text": [
      "3 Kim jest Shayak?\n"
     ]
    },
    {
     "name": "stderr",
     "output_type": "stream",
     "text": []
    },
    {
     "name": "stdout",
     "output_type": "stream",
     "text": [
      "Looking for things to do. Stop me with `tru.stop_evaluator()`."
     ]
    },
    {
     "name": "stderr",
     "output_type": "stream",
     "text": []
    },
    {
     "ename": "TypeError",
     "evalue": "_post_record() takes 6 positional arguments but 8 were given",
     "output_type": "error",
     "traceback": [
      "\u001b[0;31m---------------------------------------------------------------------------\u001b[0m",
      "\u001b[0;31mTypeError\u001b[0m                                 Traceback (most recent call last)",
      "\u001b[1;32m/Users/piotrm/repos/trulens/trulens_eval/trulens_eval/examples/trubot_tests.ipynb Cell 7\u001b[0m in \u001b[0;36m<cell line: 19>\u001b[0;34m()\u001b[0m\n\u001b[1;32m     <a href='vscode-notebook-cell:/Users/piotrm/repos/trulens/trulens_eval/trulens_eval/examples/trubot_tests.ipynb#W6sZmlsZQ%3D%3D?line=15'>16</a>\u001b[0m     \u001b[39mfor\u001b[39;00m m \u001b[39min\u001b[39;00m messages:\n\u001b[1;32m     <a href='vscode-notebook-cell:/Users/piotrm/repos/trulens/trulens_eval/trulens_eval/examples/trubot_tests.ipynb#W6sZmlsZQ%3D%3D?line=16'>17</a>\u001b[0m         results\u001b[39m.\u001b[39mappend(TP()\u001b[39m.\u001b[39mpromise(test_bot, selector\u001b[39m=\u001b[39ms, question\u001b[39m=\u001b[39mm))\n\u001b[0;32m---> <a href='vscode-notebook-cell:/Users/piotrm/repos/trulens/trulens_eval/trulens_eval/examples/trubot_tests.ipynb#W6sZmlsZQ%3D%3D?line=18'>19</a>\u001b[0m TP()\u001b[39m.\u001b[39;49mfinish()\n",
      "File \u001b[0;32m~/repos/trulens/trulens_eval/trulens_eval/util.py:922\u001b[0m, in \u001b[0;36mTP.finish\u001b[0;34m(self, timeout)\u001b[0m\n\u001b[1;32m    920\u001b[0m prom \u001b[39m=\u001b[39m \u001b[39mself\u001b[39m\u001b[39m.\u001b[39mpromises\u001b[39m.\u001b[39mget()\n\u001b[1;32m    921\u001b[0m \u001b[39mtry\u001b[39;00m:\n\u001b[0;32m--> 922\u001b[0m     prom\u001b[39m.\u001b[39;49mget(timeout\u001b[39m=\u001b[39;49mtimeout)\n\u001b[1;32m    923\u001b[0m \u001b[39mexcept\u001b[39;00m \u001b[39mTimeoutError\u001b[39;00m:\n\u001b[1;32m    924\u001b[0m     timeouts\u001b[39m.\u001b[39mappend(prom)\n",
      "File \u001b[0;32m/opt/homebrew/Caskroom/miniconda/base/envs/py38_trulens/lib/python3.8/multiprocessing/pool.py:771\u001b[0m, in \u001b[0;36mApplyResult.get\u001b[0;34m(self, timeout)\u001b[0m\n\u001b[1;32m    769\u001b[0m     \u001b[39mreturn\u001b[39;00m \u001b[39mself\u001b[39m\u001b[39m.\u001b[39m_value\n\u001b[1;32m    770\u001b[0m \u001b[39melse\u001b[39;00m:\n\u001b[0;32m--> 771\u001b[0m     \u001b[39mraise\u001b[39;00m \u001b[39mself\u001b[39m\u001b[39m.\u001b[39m_value\n",
      "File \u001b[0;32m/opt/homebrew/Caskroom/miniconda/base/envs/py38_trulens/lib/python3.8/multiprocessing/pool.py:125\u001b[0m, in \u001b[0;36mworker\u001b[0;34m(inqueue, outqueue, initializer, initargs, maxtasks, wrap_exception)\u001b[0m\n\u001b[1;32m    123\u001b[0m job, i, func, args, kwds \u001b[39m=\u001b[39m task\n\u001b[1;32m    124\u001b[0m \u001b[39mtry\u001b[39;00m:\n\u001b[0;32m--> 125\u001b[0m     result \u001b[39m=\u001b[39m (\u001b[39mTrue\u001b[39;00m, func(\u001b[39m*\u001b[39;49margs, \u001b[39m*\u001b[39;49m\u001b[39m*\u001b[39;49mkwds))\n\u001b[1;32m    126\u001b[0m \u001b[39mexcept\u001b[39;00m \u001b[39mException\u001b[39;00m \u001b[39mas\u001b[39;00m e:\n\u001b[1;32m    127\u001b[0m     \u001b[39mif\u001b[39;00m wrap_exception \u001b[39mand\u001b[39;00m func \u001b[39mis\u001b[39;00m \u001b[39mnot\u001b[39;00m _helper_reraises_exception:\n",
      "File \u001b[0;32m~/repos/trulens/trulens_eval/trulens_eval/util.py:892\u001b[0m, in \u001b[0;36mTP._thread_target_wrapper\u001b[0;34m(stack, func, *args, **kwargs)\u001b[0m\n\u001b[1;32m    889\u001b[0m \u001b[39m# Keep this for looking up via get_local_in_call_stack .\u001b[39;00m\n\u001b[1;32m    890\u001b[0m pre_start_stack \u001b[39m=\u001b[39m stack\n\u001b[0;32m--> 892\u001b[0m \u001b[39mreturn\u001b[39;00m func(\u001b[39m*\u001b[39;49margs, \u001b[39m*\u001b[39;49m\u001b[39m*\u001b[39;49mkwargs)\n",
      "\u001b[1;32m/Users/piotrm/repos/trulens/trulens_eval/trulens_eval/examples/trubot_tests.ipynb Cell 7\u001b[0m in \u001b[0;36mtest_bot\u001b[0;34m(selector, question)\u001b[0m\n\u001b[1;32m      <a href='vscode-notebook-cell:/Users/piotrm/repos/trulens/trulens_eval/trulens_eval/examples/trubot_tests.ipynb#W6sZmlsZQ%3D%3D?line=7'>8</a>\u001b[0m \u001b[39mprint\u001b[39m(selector, question)\n\u001b[1;32m      <a href='vscode-notebook-cell:/Users/piotrm/repos/trulens/trulens_eval/trulens_eval/examples/trubot_tests.ipynb#W6sZmlsZQ%3D%3D?line=8'>9</a>\u001b[0m chain \u001b[39m=\u001b[39m get_or_make_chain(cid\u001b[39m=\u001b[39mquestion \u001b[39m+\u001b[39m \u001b[39mstr\u001b[39m(selector), selector\u001b[39m=\u001b[39mselector)\n\u001b[0;32m---> <a href='vscode-notebook-cell:/Users/piotrm/repos/trulens/trulens_eval/trulens_eval/examples/trubot_tests.ipynb#W6sZmlsZQ%3D%3D?line=9'>10</a>\u001b[0m answer \u001b[39m=\u001b[39m get_answer(chain\u001b[39m=\u001b[39;49mchain, question\u001b[39m=\u001b[39;49mquestion)\n\u001b[1;32m     <a href='vscode-notebook-cell:/Users/piotrm/repos/trulens/trulens_eval/trulens_eval/examples/trubot_tests.ipynb#W6sZmlsZQ%3D%3D?line=10'>11</a>\u001b[0m \u001b[39mreturn\u001b[39;00m answer\n",
      "File \u001b[0;32m~/repos/trulens/trulens_eval/trulens_eval/examples/trubot.py:205\u001b[0m, in \u001b[0;36mget_answer\u001b[0;34m(chain, question)\u001b[0m\n\u001b[1;32m    199\u001b[0m \u001b[39mdef\u001b[39;00m \u001b[39mget_answer\u001b[39m(chain: TruChain, question: \u001b[39mstr\u001b[39m) \u001b[39m-\u001b[39m\u001b[39m>\u001b[39m Tuple[\u001b[39mstr\u001b[39m, \u001b[39mstr\u001b[39m]:\n\u001b[1;32m    200\u001b[0m \u001b[39m    \u001b[39m\u001b[39m\"\"\"\u001b[39;00m\n\u001b[1;32m    201\u001b[0m \u001b[39m    Use the given `chain` to respond to `question`. Return the answer text and\u001b[39;00m\n\u001b[1;32m    202\u001b[0m \u001b[39m    sources elaboration text.\u001b[39;00m\n\u001b[1;32m    203\u001b[0m \u001b[39m    \"\"\"\u001b[39;00m\n\u001b[0;32m--> 205\u001b[0m     outs \u001b[39m=\u001b[39m chain(\u001b[39mdict\u001b[39;49m(question\u001b[39m=\u001b[39;49mquestion))\n\u001b[1;32m    207\u001b[0m     result \u001b[39m=\u001b[39m outs[\u001b[39m'\u001b[39m\u001b[39manswer\u001b[39m\u001b[39m'\u001b[39m]\n\u001b[1;32m    208\u001b[0m     sources \u001b[39m=\u001b[39m outs[\u001b[39m'\u001b[39m\u001b[39msource_documents\u001b[39m\u001b[39m'\u001b[39m]\n",
      "File \u001b[0;32m~/repos/trulens/trulens_eval/trulens_eval/tru_chain.py:214\u001b[0m, in \u001b[0;36mTruChain.__call__\u001b[0;34m(self, *args, **kwargs)\u001b[0m\n\u001b[1;32m    208\u001b[0m \u001b[39mdef\u001b[39;00m \u001b[39m__call__\u001b[39m(\u001b[39mself\u001b[39m, \u001b[39m*\u001b[39margs, \u001b[39m*\u001b[39m\u001b[39m*\u001b[39mkwargs) \u001b[39m-\u001b[39m\u001b[39m>\u001b[39m Dict[\u001b[39mstr\u001b[39m, Any]:\n\u001b[1;32m    209\u001b[0m \u001b[39m    \u001b[39m\u001b[39m\"\"\"\u001b[39;00m\n\u001b[1;32m    210\u001b[0m \u001b[39m    Wrapped call to self.model.__call__ with instrumentation. If you need to\u001b[39;00m\n\u001b[1;32m    211\u001b[0m \u001b[39m    get the record, use `call_with_record` instead. \u001b[39;00m\n\u001b[1;32m    212\u001b[0m \u001b[39m    \"\"\"\u001b[39;00m\n\u001b[0;32m--> 214\u001b[0m     ret, _ \u001b[39m=\u001b[39m \u001b[39mself\u001b[39;49m\u001b[39m.\u001b[39;49mcall_with_record(\u001b[39m*\u001b[39;49margs, \u001b[39m*\u001b[39;49m\u001b[39m*\u001b[39;49mkwargs)\n\u001b[1;32m    216\u001b[0m     \u001b[39mreturn\u001b[39;00m ret\n",
      "File \u001b[0;32m~/repos/trulens/trulens_eval/trulens_eval/tru_chain.py:203\u001b[0m, in \u001b[0;36mTruChain.call_with_record\u001b[0;34m(self, inputs, **kwargs)\u001b[0m\n\u001b[1;32m    200\u001b[0m \u001b[39mif\u001b[39;00m ret \u001b[39mis\u001b[39;00m \u001b[39mnot\u001b[39;00m \u001b[39mNone\u001b[39;00m:\n\u001b[1;32m    201\u001b[0m     ret_record_args[\u001b[39m'\u001b[39m\u001b[39mmain_output\u001b[39m\u001b[39m'\u001b[39m] \u001b[39m=\u001b[39m ret[output_key]\n\u001b[0;32m--> 203\u001b[0m ret_record \u001b[39m=\u001b[39m \u001b[39mself\u001b[39;49m\u001b[39m.\u001b[39;49m_post_record(ret_record_args, error, total_tokens, total_cost, start_time, end_time, record)\n\u001b[1;32m    205\u001b[0m \u001b[39mreturn\u001b[39;00m ret, ret_record\n",
      "\u001b[0;31mTypeError\u001b[0m: _post_record() takes 6 positional arguments but 8 were given"
     ]
    },
    {
     "name": "stdout",
     "output_type": "stream",
     "text": [
      "Looking for things to do. Stop me with `tru.stop_evaluator()`.Looking for things to do. Stop me with `tru.stop_evaluator()`.Looking for things to do. Stop me with `tru.stop_evaluator()`."
     ]
    }
   ],
   "source": [
    "selectors = [0,1,3,4]\n",
    "messages = [\"Who is Shayak?\", \"Wer ist Shayak?\", \"Kim jest Shayak?\", \"¿Quién es Shayak?\", \"Was ist QII?\", \"Co jest QII?\"]\n",
    "\n",
    "selectors = selectors[2:3]\n",
    "messages = messages[2:3]\n",
    "\n",
    "def test_bot(selector, question):\n",
    "    print(selector, question)\n",
    "    chain = get_or_make_chain(cid=question + str(selector), selector=selector)\n",
    "    answer = get_answer(chain=chain, question=question)\n",
    "    return answer\n",
    "\n",
    "results = []\n",
    "\n",
    "for s in selectors:\n",
    "    for m in messages:\n",
    "        results.append(TP().promise(test_bot, selector=s, question=m))\n",
    "\n",
    "TP().finish()"
   ]
  },
  {
   "cell_type": "code",
   "execution_count": null,
   "metadata": {},
   "outputs": [],
   "source": []
  }
 ],
 "metadata": {
  "kernelspec": {
   "display_name": "demo3",
   "language": "python",
   "name": "python3"
  },
  "language_info": {
   "codemirror_mode": {
    "name": "ipython",
    "version": 3
   },
   "file_extension": ".py",
   "mimetype": "text/x-python",
   "name": "python",
   "nbconvert_exporter": "python",
   "pygments_lexer": "ipython3",
   "version": "3.8.16"
  },
  "orig_nbformat": 4
 },
 "nbformat": 4,
 "nbformat_minor": 2
}
