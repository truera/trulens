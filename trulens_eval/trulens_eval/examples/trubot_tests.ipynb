{
 "cells": [
  {
   "attachments": {},
   "cell_type": "markdown",
   "metadata": {},
   "source": [
    "# TruBot testing"
   ]
  },
  {
   "cell_type": "code",
   "execution_count": 1,
   "metadata": {},
   "outputs": [],
   "source": [
    "%load_ext autoreload\n",
    "%autoreload 2\n",
    "from pathlib import Path\n",
    "import sys\n",
    "\n",
    "sys.path.append(str(Path().cwd().parent.parent.resolve()))"
   ]
  },
  {
   "cell_type": "code",
   "execution_count": 2,
   "metadata": {},
   "outputs": [
    {
     "name": "stderr",
     "output_type": "stream",
     "text": [
      "/opt/homebrew/Caskroom/miniconda/base/envs/py38_trulens/lib/python3.8/site-packages/tqdm/auto.py:21: TqdmWarning: IProgress not found. Please update jupyter and ipywidgets. See https://ipywidgets.readthedocs.io/en/stable/user_install.html\n",
      "  from .autonotebook import tqdm as notebook_tqdm\n"
     ]
    },
    {
     "name": "stdout",
     "output_type": "stream",
     "text": [
      "KEY SET: OPENAI_API_KEY\n",
      "KEY SET: PINECONE_API_KEY\n",
      "KEY SET: PINECONE_ENV\n",
      "KEY SET: HUGGINGFACE_API_KEY\n",
      "KEY SET: SLACK_TOKEN\n",
      "KEY SET: SLACK_SIGNING_SECRET\n",
      "KEY SET: COHERE_API_KEY\n"
     ]
    },
    {
     "name": "stderr",
     "output_type": "stream",
     "text": [
      "huggingface api: 0requests [00:00, ?requests/s]"
     ]
    }
   ],
   "source": [
    "from trulens_eval.keys import *\n",
    "from trulens_eval.slackbot import get_or_make_chain, get_answer\n",
    "from trulens_eval.util import TP\n",
    "from trulens_eval import Tru\n",
    "from trulens_eval.tru_feedback import Huggingface\n",
    "# Tru().reset_database()"
   ]
  },
  {
   "cell_type": "code",
   "execution_count": 3,
   "metadata": {},
   "outputs": [
    {
     "name": "stdout",
     "output_type": "stream",
     "text": [
      "Force stopping dashboard ...\n",
      "killing psutil.Process(pid=42338, name='python3.8', status='running', started='16:48:46')\n",
      "Starting dashboard ...\n",
      "Looking for things to do. Stop me with `tru.stop_evaluator()`."
     ]
    },
    {
     "name": "stdout",
     "output_type": "stream",
     "text": [
      "Finishing 0 task(s) done.\n"
     ]
    }
   ],
   "source": [
    "proc = Tru().start_dashboard(force=True, _dev=Path.cwd().parent.parent)\n",
    "thread = Tru().start_evaluator(restart=True)"
   ]
  },
  {
   "cell_type": "code",
   "execution_count": null,
   "metadata": {},
   "outputs": [
    {
     "name": "stderr",
     "output_type": "stream",
     "text": []
    },
    {
     "name": "stdout",
     "output_type": "stream",
     "text": [
      "Finishing 24 task(s) 0 Who is Shayak?\n",
      "'Starting a new conversation with 0/default.'\n",
      "0 Wer ist Shayak?\n",
      "'Starting a new conversation with 0/default.'\n",
      "0 Kim jest Shayak?\n",
      "'Starting a new conversation with 0/default.'\n",
      "0 ¿Quién es Shayak?\n",
      "'Starting a new conversation with 0/default.'\n",
      "0 Was ist QII?\n",
      "'Starting a new conversation with 0/default.'\n",
      "0 Co jest QII?\n",
      "'Starting a new conversation with 0/default.'\n",
      "1 Who is Shayak?\n",
      "'Starting a new conversation with 1/lang_prompt.'\n",
      "1 Wer ist Shayak?\n",
      "'Starting a new conversation with 1/lang_prompt.'\n",
      "1 Kim jest Shayak?\n",
      "'Starting a new conversation with 1/lang_prompt.'\n",
      "1 ¿Quién es Shayak?\n",
      "'Starting a new conversation with 1/lang_prompt.'\n",
      "1 Was ist QII?\n",
      "'Starting a new conversation with 1/lang_prompt.'\n",
      "1 Co jest QII?\n",
      "'Starting a new conversation with 1/lang_prompt.'\n",
      "✅ chain 0/default -> default.sqlite\n",
      "3 Who is Shayak?\n",
      "'Starting a new conversation with 3/filtered_context.'\n",
      "3 Wer ist Shayak?\n",
      "'Starting a new conversation with 3/filtered_context.'\n",
      "✅ chain 0/default -> default.sqlite\n",
      "✅ chain 0/default -> default.sqlite\n",
      "3 Kim jest Shayak?\n",
      "'Starting a new conversation with 3/filtered_context.'\n",
      "3 ¿Quién es Shayak?\n",
      "'Starting a new conversation with 3/filtered_context.'\n",
      "3 Was ist QII?\n",
      "'Starting a new conversation with 3/filtered_context.'\n",
      "3 Co jest QII?\n",
      "'Starting a new conversation with 3/filtered_context.'\n",
      "4 Who is Shayak?\n",
      "'Starting a new conversation with 4/filtered_context_and_lang_prompt.'\n",
      "✅ chain 1/lang_prompt -> default.sqlite\n",
      "4 Wer ist Shayak?\n",
      "'Starting a new conversation with 4/filtered_context_and_lang_prompt.'\n",
      "4 Kim jest Shayak?\n",
      "'Starting a new conversation with 4/filtered_context_and_lang_prompt.'\n",
      "✅ chain 0/default -> default.sqlite\n",
      "4 ¿Quién es Shayak?\n",
      "'Starting a new conversation with 4/filtered_context_and_lang_prompt.'\n",
      "4 Was ist QII?\n",
      "'Starting a new conversation with 4/filtered_context_and_lang_prompt.'\n",
      "4 Co jest QII?\n",
      "'Starting a new conversation with 4/filtered_context_and_lang_prompt.'\n",
      "✅ chain 3/filtered_context -> default.sqlite\n",
      "✅ chain 1/lang_prompt -> default.sqlite\n",
      "✅ chain 4/filtered_context_and_lang_prompt -> default.sqlite\n",
      "✅ feedback def. feedback_definition_hash_2f5b9a7a6e6f4b400be6b235ac719539 -> default.sqlite\n",
      "✅ feedback def. feedback_definition_hash_100864edc4083a9ce9c0f7ca2f52a9be -> default.sqlite\n",
      "✅ feedback def. feedback_definition_hash_f999c8322adf82dad162d2c04116a318 -> default.sqlite\n",
      "✅ chain 4/filtered_context_and_lang_prompt -> default.sqlite\n",
      "✅ feedback def. feedback_definition_hash_2f5b9a7a6e6f4b400be6b235ac719539 -> default.sqlite\n",
      "✅ chain 4/filtered_context_and_lang_prompt -> default.sqlite\n",
      "✅ feedback def. feedback_definition_hash_100864edc4083a9ce9c0f7ca2f52a9be -> default.sqlite\n",
      "✅ feedback def. feedback_definition_hash_f999c8322adf82dad162d2c04116a318 -> default.sqlite\n",
      "✅ chain 1/lang_prompt -> default.sqlite\n",
      "✅ chain 4/filtered_context_and_lang_prompt -> default.sqlite\n",
      "✅ chain 1/lang_prompt -> default.sqlite\n",
      "✅ feedback def. feedback_definition_hash_2f5b9a7a6e6f4b400be6b235ac719539 -> default.sqlite\n",
      "✅ chain 4/filtered_context_and_lang_prompt -> default.sqlite\n",
      "✅ feedback def. feedback_definition_hash_100864edc4083a9ce9c0f7ca2f52a9be -> default.sqlite\n",
      "✅ feedback def. feedback_definition_hash_2f5b9a7a6e6f4b400be6b235ac719539 -> default.sqlite\n",
      "✅ feedback def. feedback_definition_hash_100864edc4083a9ce9c0f7ca2f52a9be -> default.sqlite\n",
      "✅ feedback def. feedback_definition_hash_f999c8322adf82dad162d2c04116a318 -> default.sqlite\n",
      "✅ chain 3/filtered_context -> default.sqlite\n",
      "✅ feedback def. feedback_definition_hash_2f5b9a7a6e6f4b400be6b235ac719539 -> default.sqlite\n",
      "✅ feedback def. feedback_definition_hash_100864edc4083a9ce9c0f7ca2f52a9be -> default.sqlite\n",
      "✅ feedback def. feedback_definition_hash_f999c8322adf82dad162d2c04116a318 -> default.sqlite\n",
      "✅ chain 4/filtered_context_and_lang_prompt -> default.sqlite\n",
      "✅ feedback def. feedback_definition_hash_2f5b9a7a6e6f4b400be6b235ac719539 -> default.sqlite\n",
      "✅ feedback def. feedback_definition_hash_100864edc4083a9ce9c0f7ca2f52a9be -> default.sqlite\n",
      "✅ feedback def. feedback_definition_hash_f999c8322adf82dad162d2c04116a318 -> default.sqlite\n",
      "✅ feedback def. feedback_definition_hash_f999c8322adf82dad162d2c04116a318 -> default.sqlite\n",
      "✅ feedback def. feedback_definition_hash_2f5b9a7a6e6f4b400be6b235ac719539 -> default.sqlite\n",
      "✅ feedback def. feedback_definition_hash_100864edc4083a9ce9c0f7ca2f52a9be -> default.sqlite\n",
      "✅ feedback def. feedback_definition_hash_f999c8322adf82dad162d2c04116a318 -> default.sqlite\n",
      "✅ feedback def. feedback_definition_hash_2f5b9a7a6e6f4b400be6b235ac719539 -> default.sqlite\n",
      "✅ feedback def. feedback_definition_hash_100864edc4083a9ce9c0f7ca2f52a9be -> default.sqlite\n",
      "✅ feedback def. feedback_definition_hash_f999c8322adf82dad162d2c04116a318 -> default.sqlite\n",
      "✅ feedback def. feedback_definition_hash_2f5b9a7a6e6f4b400be6b235ac719539 -> default.sqlite\n",
      "✅ feedback def. feedback_definition_hash_100864edc4083a9ce9c0f7ca2f52a9be -> default.sqlite\n",
      "✅ feedback def. feedback_definition_hash_f999c8322adf82dad162d2c04116a318 -> default.sqlite\n",
      "✅ chain 1/lang_prompt -> default.sqlite\n",
      "✅ feedback def. feedback_definition_hash_2f5b9a7a6e6f4b400be6b235ac719539 -> default.sqlite\n",
      "✅ feedback def. feedback_definition_hash_100864edc4083a9ce9c0f7ca2f52a9be -> default.sqlite\n",
      "✅ feedback def. feedback_definition_hash_f999c8322adf82dad162d2c04116a318 -> default.sqlite\n",
      "✅ feedback def. feedback_definition_hash_2f5b9a7a6e6f4b400be6b235ac719539 -> default.sqlite\n",
      "✅ chain 3/filtered_context -> default.sqlite\n",
      "✅ feedback def. feedback_definition_hash_100864edc4083a9ce9c0f7ca2f52a9be -> default.sqlite\n",
      "✅ feedback def. feedback_definition_hash_f999c8322adf82dad162d2c04116a318 -> default.sqlite\n",
      "✅ chain 3/filtered_context -> default.sqlite\n",
      "✅ feedback def. feedback_definition_hash_2f5b9a7a6e6f4b400be6b235ac719539 -> default.sqlite\n",
      "✅ feedback def. feedback_definition_hash_2f5b9a7a6e6f4b400be6b235ac719539 -> default.sqlite\n",
      "✅ feedback def. feedback_definition_hash_100864edc4083a9ce9c0f7ca2f52a9be -> default.sqlite\n",
      "✅ feedback def. feedback_definition_hash_f999c8322adf82dad162d2c04116a318 -> default.sqlite\n",
      "✅ feedback def. feedback_definition_hash_100864edc4083a9ce9c0f7ca2f52a9be -> default.sqlite\n",
      "✅ feedback def. feedback_definition_hash_f999c8322adf82dad162d2c04116a318 -> default.sqlite\n",
      "✅ feedback def. feedback_definition_hash_2f5b9a7a6e6f4b400be6b235ac719539 -> default.sqlite\n",
      "✅ feedback def. feedback_definition_hash_100864edc4083a9ce9c0f7ca2f52a9be -> default.sqlite\n",
      "✅ feedback def. feedback_definition_hash_f999c8322adf82dad162d2c04116a318 -> default.sqlite\n",
      "✅ feedback def. feedback_definition_hash_2f5b9a7a6e6f4b400be6b235ac719539 -> default.sqlite\n",
      "✅ feedback def. feedback_definition_hash_100864edc4083a9ce9c0f7ca2f52a9be -> default.sqlite\n",
      "✅ feedback def. feedback_definition_hash_f999c8322adf82dad162d2c04116a318 -> default.sqlite\n",
      "✅ chain 3/filtered_context -> default.sqlite\n",
      "✅ feedback def. feedback_definition_hash_2f5b9a7a6e6f4b400be6b235ac719539 -> default.sqlite\n",
      "✅ feedback def. feedback_definition_hash_100864edc4083a9ce9c0f7ca2f52a9be -> default.sqlite\n",
      "✅ feedback def. feedback_definition_hash_f999c8322adf82dad162d2c04116a318 -> default.sqlite\n",
      "✅ chain 0/default -> default.sqlite\n",
      "✅ feedback def. feedback_definition_hash_2f5b9a7a6e6f4b400be6b235ac719539 -> default.sqlite\n",
      "✅ feedback def. feedback_definition_hash_100864edc4083a9ce9c0f7ca2f52a9be -> default.sqlite\n",
      "✅ feedback def. feedback_definition_hash_2f5b9a7a6e6f4b400be6b235ac719539 -> default.sqlite\n",
      "✅ feedback def. feedback_definition_hash_100864edc4083a9ce9c0f7ca2f52a9be -> default.sqlite\n",
      "✅ feedback def. feedback_definition_hash_f999c8322adf82dad162d2c04116a318 -> default.sqlite\n",
      "✅ feedback def. feedback_definition_hash_f999c8322adf82dad162d2c04116a318 -> default.sqlite\n",
      "✅ feedback def. feedback_definition_hash_2f5b9a7a6e6f4b400be6b235ac719539 -> default.sqlite\n",
      "✅ feedback def. feedback_definition_hash_100864edc4083a9ce9c0f7ca2f52a9be -> default.sqlite\n",
      "✅ feedback def. feedback_definition_hash_f999c8322adf82dad162d2c04116a318 -> default.sqlite\n",
      "✅ feedback def. feedback_definition_hash_2f5b9a7a6e6f4b400be6b235ac719539 -> default.sqlite\n",
      "✅ feedback def. feedback_definition_hash_100864edc4083a9ce9c0f7ca2f52a9be -> default.sqlite\n",
      "✅ feedback def. feedback_definition_hash_f999c8322adf82dad162d2c04116a318 -> default.sqlite\n",
      "✅ chain 3/filtered_context -> default.sqlite\n",
      "✅ feedback def. feedback_definition_hash_2f5b9a7a6e6f4b400be6b235ac719539 -> default.sqlite\n",
      "✅ feedback def. feedback_definition_hash_100864edc4083a9ce9c0f7ca2f52a9be -> default.sqlite\n",
      "✅ feedback def. feedback_definition_hash_f999c8322adf82dad162d2c04116a318 -> default.sqlite\n",
      "✅ chain 0/default -> default.sqlite\n",
      "✅ feedback def. feedback_definition_hash_2f5b9a7a6e6f4b400be6b235ac719539 -> default.sqlite\n",
      "✅ feedback def. feedback_definition_hash_100864edc4083a9ce9c0f7ca2f52a9be -> default.sqlite\n",
      "✅ feedback def. feedback_definition_hash_f999c8322adf82dad162d2c04116a318 -> default.sqlite\n",
      "✅ chain 1/lang_prompt -> default.sqlite\n",
      "✅ feedback def. feedback_definition_hash_2f5b9a7a6e6f4b400be6b235ac719539 -> default.sqlite\n",
      "✅ feedback def. feedback_definition_hash_100864edc4083a9ce9c0f7ca2f52a9be -> default.sqlite\n",
      "✅ feedback def. feedback_definition_hash_f999c8322adf82dad162d2c04116a318 -> default.sqlite\n",
      "✅ feedback def. feedback_definition_hash_2f5b9a7a6e6f4b400be6b235ac719539 -> default.sqlite\n",
      "✅ feedback def. feedback_definition_hash_100864edc4083a9ce9c0f7ca2f52a9be -> default.sqlite\n",
      "✅ feedback def. feedback_definition_hash_f999c8322adf82dad162d2c04116a318 -> default.sqlite\n",
      "\n",
      "  You can now view your Streamlit app in your browser.\n",
      "\n",
      "  Network URL: http://10.1.10.101:8501\n",
      "  External URL: http://24.4.121.118:8501\n",
      "\n"
     ]
    },
    {
     "name": "stderr",
     "output_type": "stream",
     "text": []
    },
    {
     "name": "stdout",
     "output_type": "stream",
     "text": [
      "KEY SET: OPENAI_API_KEY\n",
      "KEY SET: PINECONE_API_KEY\n",
      "KEY SET: PINECONE_ENV\n",
      "KEY SET: HUGGINGFACE_API_KEY\n",
      "KEY SET: SLACK_TOKEN\n",
      "KEY SET: SLACK_SIGNING_SECRET\n",
      "KEY SET: COHERE_API_KEY\n"
     ]
    },
    {
     "name": "stderr",
     "output_type": "stream",
     "text": []
    },
    {
     "name": "stdout",
     "output_type": "stream",
     "text": [
      "Looking for things to do. Stop me with `tru.stop_evaluator()`.Finishing 29 task(s) "
     ]
    },
    {
     "name": "stderr",
     "output_type": "stream",
     "text": []
    },
    {
     "name": "stdout",
     "output_type": "stream",
     "text": [
      "✅ record record_hash_908fa5bb68fb9ed85a140ed443d0a088 from 1/lang_prompt -> default.sqlite\n",
      "⚡ feedback feedback_result_hash_f46be563f4052288484cfad9ec3e77d9 on record_hash_908fa5bb68fb9ed85a140ed443d0a088 -> default.sqlite\n",
      "⚡ feedback feedback_result_hash_e74265315e4d4fc3462bb6cb8cb199af on record_hash_908fa5bb68fb9ed85a140ed443d0a088 -> default.sqlite\n",
      "⚡ feedback feedback_result_hash_f87dc4652e6acaffa9258982661f2417 on record_hash_908fa5bb68fb9ed85a140ed443d0a088 -> default.sqlite\n"
     ]
    },
    {
     "name": "stderr",
     "output_type": "stream",
     "text": []
    },
    {
     "name": "stdout",
     "output_type": "stream",
     "text": [
      "✅ record record_hash_c62aceb141ce01945614bbc0de1e79f6 from 0/default -> default.sqlite\n",
      "⚡ feedback feedback_result_hash_5772182e8816e072a928e6c4db573262 on record_hash_c62aceb141ce01945614bbc0de1e79f6 -> default.sqlite\n",
      "⚡ feedback feedback_result_hash_65a5e794bfc84a742e7fb268985a139d on record_hash_c62aceb141ce01945614bbc0de1e79f6 -> default.sqlite\n",
      "⚡ feedback feedback_result_hash_d799714457c5ef6e17a8180296d5afb8 on record_hash_c62aceb141ce01945614bbc0de1e79f6 -> default.sqlite\n",
      "!."
     ]
    },
    {
     "name": "stderr",
     "output_type": "stream",
     "text": []
    },
    {
     "name": "stdout",
     "output_type": "stream",
     "text": [
      "✅ record record_hash_6612c3e5d8d2af1f30f946fc44be5eb1 from 1/lang_prompt -> default.sqlite\n",
      "⚡ feedback feedback_result_hash_024730cbef0f26cb7131d64b02fe2735 on record_hash_6612c3e5d8d2af1f30f946fc44be5eb1 -> default.sqlite\n",
      "⚡ feedback feedback_result_hash_9ab9a63f95b6c1c7843ada77e9cbd219 on record_hash_6612c3e5d8d2af1f30f946fc44be5eb1 -> default.sqlite\n",
      "⚡ feedback feedback_result_hash_1ebf4dc09a01db6754f59e471cbcac81 on record_hash_6612c3e5d8d2af1f30f946fc44be5eb1 -> default.sqlite\n",
      ".✅ record record_hash_a0047ea47cd4f423ba999a515f30e2a1 from 0/default -> default.sqlite\n",
      "⚡ feedback feedback_result_hash_ea6a02d3a453162d07c7832ce4ad839a on record_hash_a0047ea47cd4f423ba999a515f30e2a1 -> default.sqlite\n",
      "⚡ feedback feedback_result_hash_439d23c15d1d9bea18b82b6ce7c57e2d on record_hash_a0047ea47cd4f423ba999a515f30e2a1 -> default.sqlite\n",
      "⚡ feedback feedback_result_hash_06f09964bc9ab645b27f67782bd34d2d on record_hash_a0047ea47cd4f423ba999a515f30e2a1 -> default.sqlite\n",
      "✅ record record_hash_5c0f7a4e09682184f2a17144aeb94a79 from 1/lang_prompt -> default.sqlite\n",
      "⚡ feedback feedback_result_hash_adf42135aded0c59f05d69c0972e09b3 on record_hash_5c0f7a4e09682184f2a17144aeb94a79 -> default.sqlite\n",
      "⚡ feedback feedback_result_hash_b769f3a0d3e7431ff3c51722e65ae587 on record_hash_5c0f7a4e09682184f2a17144aeb94a79 -> default.sqlite\n",
      "⚡ feedback feedback_result_hash_e6115dd5661a4dda7086a4f2d55c5e00 on record_hash_5c0f7a4e09682184f2a17144aeb94a79 -> default.sqlite\n"
     ]
    },
    {
     "name": "stderr",
     "output_type": "stream",
     "text": []
    },
    {
     "name": "stdout",
     "output_type": "stream",
     "text": [
      "✅ record record_hash_9dc6ec5f29cb66e1e27c527bdf50c29d from 1/lang_prompt -> default.sqlite\n",
      "⚡ feedback feedback_result_hash_a876ad482f2f642a8f86c9366f52a307 on record_hash_9dc6ec5f29cb66e1e27c527bdf50c29d -> default.sqlite\n",
      "⚡ feedback feedback_result_hash_74118a820bce76964eafba4f34d90fbc on record_hash_9dc6ec5f29cb66e1e27c527bdf50c29d -> default.sqlite\n",
      "⚡ feedback feedback_result_hash_061c3338a19376dadff152b86ef80c7a on record_hash_9dc6ec5f29cb66e1e27c527bdf50c29d -> default.sqlite\n"
     ]
    },
    {
     "name": "stderr",
     "output_type": "stream",
     "text": []
    },
    {
     "name": "stdout",
     "output_type": "stream",
     "text": [
      ".✅ record record_hash_adfd8e1b09bc7073d4d4c04ab4e178ba from 0/default -> default.sqlite\n",
      "⚡ feedback feedback_result_hash_de437f194fc69b0a6097b84225375d84 on record_hash_adfd8e1b09bc7073d4d4c04ab4e178ba -> default.sqlite\n",
      "⚡ feedback feedback_result_hash_4f80c2d5013d769e93835f0db2a8f132 on record_hash_adfd8e1b09bc7073d4d4c04ab4e178ba -> default.sqlite\n",
      "⚡ feedback feedback_result_hash_a2c654571a1c7125826e59ccdcec7491 on record_hash_adfd8e1b09bc7073d4d4c04ab4e178ba -> default.sqlite\n"
     ]
    },
    {
     "name": "stderr",
     "output_type": "stream",
     "text": []
    },
    {
     "name": "stdout",
     "output_type": "stream",
     "text": [
      "..✅ record record_hash_680b76e607bf61f9fe3e09e8021b5caa from 0/default -> default.sqlite\n",
      "⚡ feedback feedback_result_hash_21a17f005368b4e9b71705d71e5c52b9 on record_hash_680b76e607bf61f9fe3e09e8021b5caa -> default.sqlite\n",
      "⚡ feedback feedback_result_hash_cc31f14d43fb021b58ebf21044646aa7 on record_hash_680b76e607bf61f9fe3e09e8021b5caa -> default.sqlite\n",
      "⚡ feedback feedback_result_hash_db39e4502444085a80659c6e4d503396 on record_hash_680b76e607bf61f9fe3e09e8021b5caa -> default.sqlite\n"
     ]
    },
    {
     "name": "stderr",
     "output_type": "stream",
     "text": []
    },
    {
     "name": "stdout",
     "output_type": "stream",
     "text": [
      "✅ record record_hash_5a56eb892ad16d929c94476fb9412cc5 from 0/default -> default.sqlite\n",
      "⚡ feedback feedback_result_hash_da084837e4de2f4d78986e304b600c3c on record_hash_5a56eb892ad16d929c94476fb9412cc5 -> default.sqlite\n",
      "⚡ feedback feedback_result_hash_5939ec6b94463e1b640f91dc1ee25c65 on record_hash_5a56eb892ad16d929c94476fb9412cc5 -> default.sqlite\n",
      "⚡ feedback feedback_result_hash_da90a8e81495ba6a90ca6e28b16a8354 on record_hash_5a56eb892ad16d929c94476fb9412cc5 -> default.sqlite\n",
      "..✅ record record_hash_650433efbfbab93cb00e2143d00413a3 from 0/default -> default.sqlite\n",
      "⚡ feedback feedback_result_hash_6278e8d318a2044788f97859a77da9ae on record_hash_650433efbfbab93cb00e2143d00413a3 -> default.sqlite\n",
      "⚡ feedback feedback_result_hash_8ca1e72dfb17117d668f4c532837a1aa on record_hash_650433efbfbab93cb00e2143d00413a3 -> default.sqlite\n",
      "⚡ feedback feedback_result_hash_b6d311a3ef49045b2c442ced0877676a on record_hash_650433efbfbab93cb00e2143d00413a3 -> default.sqlite\n"
     ]
    },
    {
     "name": "stderr",
     "output_type": "stream",
     "text": []
    },
    {
     "name": "stdout",
     "output_type": "stream",
     "text": [
      "...✅ record record_hash_83baf767e0a68f99ab92f39a239ee370 from 1/lang_prompt -> default.sqlite\n",
      "⚡ feedback feedback_result_hash_b835edb782742957e1defe1494993742 on record_hash_83baf767e0a68f99ab92f39a239ee370 -> default.sqlite\n",
      "⚡ feedback feedback_result_hash_5b410d8d52fc0e6b2aab871ab657d3c5 on record_hash_83baf767e0a68f99ab92f39a239ee370 -> default.sqlite\n",
      "⚡ feedback feedback_result_hash_117537b8a5fc028bb9a16fba118ffe37 on record_hash_83baf767e0a68f99ab92f39a239ee370 -> default.sqlite\n"
     ]
    },
    {
     "name": "stderr",
     "output_type": "stream",
     "text": []
    },
    {
     "name": "stdout",
     "output_type": "stream",
     "text": [
      ".✅ record record_hash_489691b27d5a479239ec729d46c2d426 from 1/lang_prompt -> default.sqlite\n",
      "⚡ feedback feedback_result_hash_2feca1d67d7f178e463c19d64dc5f33d on record_hash_489691b27d5a479239ec729d46c2d426 -> default.sqlite\n",
      "⚡ feedback feedback_result_hash_4cdcd37d57d9fc95c966c7b1c3550215 on record_hash_489691b27d5a479239ec729d46c2d426 -> default.sqlite\n",
      "⚡ feedback feedback_result_hash_991d69f70c9218179c543a4279c8c48f on record_hash_489691b27d5a479239ec729d46c2d426 -> default.sqlite\n"
     ]
    },
    {
     "name": "stderr",
     "output_type": "stream",
     "text": [
      "/Users/piotrm/repos/trulens/trulens_eval/trulens_eval/tru_db.py:609: FutureWarning: The default dtype for empty Series will be 'object' instead of 'float64' in a future version. Specify a dtype explicitly to silence this warning.\n",
      "  s = pd.Series(row.results_json)\n",
      "/Users/piotrm/repos/trulens/trulens_eval/trulens_eval/tru_db.py:609: FutureWarning: The default dtype for empty Series will be 'object' instead of 'float64' in a future version. Specify a dtype explicitly to silence this warning.\n",
      "  s = pd.Series(row.results_json)\n",
      "/Users/piotrm/repos/trulens/trulens_eval/trulens_eval/tru_db.py:609: FutureWarning: The default dtype for empty Series will be 'object' instead of 'float64' in a future version. Specify a dtype explicitly to silence this warning.\n",
      "  s = pd.Series(row.results_json)\n",
      "/Users/piotrm/repos/trulens/trulens_eval/trulens_eval/tru_db.py:609: FutureWarning: The default dtype for empty Series will be 'object' instead of 'float64' in a future version. Specify a dtype explicitly to silence this warning.\n",
      "  s = pd.Series(row.results_json)\n",
      "/Users/piotrm/repos/trulens/trulens_eval/trulens_eval/tru_db.py:609: FutureWarning: The default dtype for empty Series will be 'object' instead of 'float64' in a future version. Specify a dtype explicitly to silence this warning.\n",
      "  s = pd.Series(row.results_json)\n",
      "/Users/piotrm/repos/trulens/trulens_eval/trulens_eval/tru_db.py:609: FutureWarning: The default dtype for empty Series will be 'object' instead of 'float64' in a future version. Specify a dtype explicitly to silence this warning.\n",
      "  s = pd.Series(row.results_json)\n",
      "/Users/piotrm/repos/trulens/trulens_eval/trulens_eval/tru_db.py:609: FutureWarning: The default dtype for empty Series will be 'object' instead of 'float64' in a future version. Specify a dtype explicitly to silence this warning.\n",
      "  s = pd.Series(row.results_json)\n",
      "/Users/piotrm/repos/trulens/trulens_eval/trulens_eval/tru_db.py:609: FutureWarning: The default dtype for empty Series will be 'object' instead of 'float64' in a future version. Specify a dtype explicitly to silence this warning.\n",
      "  s = pd.Series(row.results_json)\n",
      "/Users/piotrm/repos/trulens/trulens_eval/trulens_eval/tru_db.py:609: FutureWarning: The default dtype for empty Series will be 'object' instead of 'float64' in a future version. Specify a dtype explicitly to silence this warning.\n",
      "  s = pd.Series(row.results_json)\n",
      "/Users/piotrm/repos/trulens/trulens_eval/trulens_eval/tru_db.py:609: FutureWarning: The default dtype for empty Series will be 'object' instead of 'float64' in a future version. Specify a dtype explicitly to silence this warning.\n",
      "  s = pd.Series(row.results_json)\n",
      "/Users/piotrm/repos/trulens/trulens_eval/trulens_eval/tru_db.py:609: FutureWarning: The default dtype for empty Series will be 'object' instead of 'float64' in a future version. Specify a dtype explicitly to silence this warning.\n",
      "  s = pd.Series(row.results_json)\n",
      "/Users/piotrm/repos/trulens/trulens_eval/trulens_eval/tru_db.py:609: FutureWarning: The default dtype for empty Series will be 'object' instead of 'float64' in a future version. Specify a dtype explicitly to silence this warning.\n",
      "  s = pd.Series(row.results_json)\n",
      "openai api: 0requests [00:00, ?requests/s]\n",
      "huggingface api: 0requests [00:00, ?requests/s]\u001b[A\n",
      "\n",
      "cohere api: 0requests [00:00, ?requests/s]\u001b[A\u001b[A2023-06-02 17:37:16.908 Serialization of dataframe to Arrow table was unsuccessful due to: (\"Could not convert <FeedbackResultStatus.NONE: 'none'> with type FeedbackResultStatus: did not recognize Python value type when inferring an Arrow data type\", 'Conversion failed for column status with type object'). Applying automatic fixes for column types to make the dataframe Arrow-compatible.\n"
     ]
    },
    {
     "name": "stdout",
     "output_type": "stream",
     "text": [
      "!"
     ]
    },
    {
     "name": "stderr",
     "output_type": "stream",
     "text": [
      "2023-06-02 17:37:27.351 Serialization of dataframe to Arrow table was unsuccessful due to: (\"Could not convert <FeedbackResultStatus.NONE: 'none'> with type FeedbackResultStatus: did not recognize Python value type when inferring an Arrow data type\", 'Conversion failed for column status with type object'). Applying automatic fixes for column types to make the dataframe Arrow-compatible.\n",
      "/Users/piotrm/repos/trulens/trulens_eval/trulens_eval/tru_db.py:609: FutureWarning: The default dtype for empty Series will be 'object' instead of 'float64' in a future version. Specify a dtype explicitly to silence this warning.\n",
      "  s = pd.Series(row.results_json)\n",
      "/Users/piotrm/repos/trulens/trulens_eval/trulens_eval/tru_db.py:609: FutureWarning: The default dtype for empty Series will be 'object' instead of 'float64' in a future version. Specify a dtype explicitly to silence this warning.\n",
      "  s = pd.Series(row.results_json)\n",
      "/Users/piotrm/repos/trulens/trulens_eval/trulens_eval/tru_db.py:609: FutureWarning: The default dtype for empty Series will be 'object' instead of 'float64' in a future version. Specify a dtype explicitly to silence this warning.\n",
      "  s = pd.Series(row.results_json)\n",
      "/Users/piotrm/repos/trulens/trulens_eval/trulens_eval/tru_db.py:609: FutureWarning: The default dtype for empty Series will be 'object' instead of 'float64' in a future version. Specify a dtype explicitly to silence this warning.\n",
      "  s = pd.Series(row.results_json)\n",
      "/Users/piotrm/repos/trulens/trulens_eval/trulens_eval/tru_db.py:609: FutureWarning: The default dtype for empty Series will be 'object' instead of 'float64' in a future version. Specify a dtype explicitly to silence this warning.\n",
      "  s = pd.Series(row.results_json)\n",
      "/Users/piotrm/repos/trulens/trulens_eval/trulens_eval/tru_db.py:609: FutureWarning: The default dtype for empty Series will be 'object' instead of 'float64' in a future version. Specify a dtype explicitly to silence this warning.\n",
      "  s = pd.Series(row.results_json)\n",
      "/Users/piotrm/repos/trulens/trulens_eval/trulens_eval/tru_db.py:609: FutureWarning: The default dtype for empty Series will be 'object' instead of 'float64' in a future version. Specify a dtype explicitly to silence this warning.\n",
      "  s = pd.Series(row.results_json)\n",
      "/Users/piotrm/repos/trulens/trulens_eval/trulens_eval/tru_db.py:609: FutureWarning: The default dtype for empty Series will be 'object' instead of 'float64' in a future version. Specify a dtype explicitly to silence this warning.\n",
      "  s = pd.Series(row.results_json)\n",
      "/Users/piotrm/repos/trulens/trulens_eval/trulens_eval/tru_db.py:609: FutureWarning: The default dtype for empty Series will be 'object' instead of 'float64' in a future version. Specify a dtype explicitly to silence this warning.\n",
      "  s = pd.Series(row.results_json)\n",
      "/Users/piotrm/repos/trulens/trulens_eval/trulens_eval/tru_db.py:609: FutureWarning: The default dtype for empty Series will be 'object' instead of 'float64' in a future version. Specify a dtype explicitly to silence this warning.\n",
      "  s = pd.Series(row.results_json)\n",
      "/Users/piotrm/repos/trulens/trulens_eval/trulens_eval/tru_db.py:609: FutureWarning: The default dtype for empty Series will be 'object' instead of 'float64' in a future version. Specify a dtype explicitly to silence this warning.\n",
      "  s = pd.Series(row.results_json)\n",
      "/Users/piotrm/repos/trulens/trulens_eval/trulens_eval/tru_db.py:609: FutureWarning: The default dtype for empty Series will be 'object' instead of 'float64' in a future version. Specify a dtype explicitly to silence this warning.\n",
      "  s = pd.Series(row.results_json)\n"
     ]
    },
    {
     "name": "stdout",
     "output_type": "stream",
     "text": [
      "!"
     ]
    },
    {
     "name": "stderr",
     "output_type": "stream",
     "text": [
      "/Users/piotrm/repos/trulens/trulens_eval/trulens_eval/tru_db.py:609: FutureWarning: The default dtype for empty Series will be 'object' instead of 'float64' in a future version. Specify a dtype explicitly to silence this warning.\n",
      "  s = pd.Series(row.results_json)\n",
      "/Users/piotrm/repos/trulens/trulens_eval/trulens_eval/tru_db.py:609: FutureWarning: The default dtype for empty Series will be 'object' instead of 'float64' in a future version. Specify a dtype explicitly to silence this warning.\n",
      "  s = pd.Series(row.results_json)\n",
      "/Users/piotrm/repos/trulens/trulens_eval/trulens_eval/tru_db.py:609: FutureWarning: The default dtype for empty Series will be 'object' instead of 'float64' in a future version. Specify a dtype explicitly to silence this warning.\n",
      "  s = pd.Series(row.results_json)\n",
      "/Users/piotrm/repos/trulens/trulens_eval/trulens_eval/tru_db.py:609: FutureWarning: The default dtype for empty Series will be 'object' instead of 'float64' in a future version. Specify a dtype explicitly to silence this warning.\n",
      "  s = pd.Series(row.results_json)\n",
      "/Users/piotrm/repos/trulens/trulens_eval/trulens_eval/tru_db.py:609: FutureWarning: The default dtype for empty Series will be 'object' instead of 'float64' in a future version. Specify a dtype explicitly to silence this warning.\n",
      "  s = pd.Series(row.results_json)\n",
      "/Users/piotrm/repos/trulens/trulens_eval/trulens_eval/tru_db.py:609: FutureWarning: The default dtype for empty Series will be 'object' instead of 'float64' in a future version. Specify a dtype explicitly to silence this warning.\n",
      "  s = pd.Series(row.results_json)\n",
      "/Users/piotrm/repos/trulens/trulens_eval/trulens_eval/tru_db.py:609: FutureWarning: The default dtype for empty Series will be 'object' instead of 'float64' in a future version. Specify a dtype explicitly to silence this warning.\n",
      "  s = pd.Series(row.results_json)\n",
      "/Users/piotrm/repos/trulens/trulens_eval/trulens_eval/tru_db.py:609: FutureWarning: The default dtype for empty Series will be 'object' instead of 'float64' in a future version. Specify a dtype explicitly to silence this warning.\n",
      "  s = pd.Series(row.results_json)\n",
      "/Users/piotrm/repos/trulens/trulens_eval/trulens_eval/tru_db.py:609: FutureWarning: The default dtype for empty Series will be 'object' instead of 'float64' in a future version. Specify a dtype explicitly to silence this warning.\n",
      "  s = pd.Series(row.results_json)\n",
      "/Users/piotrm/repos/trulens/trulens_eval/trulens_eval/tru_db.py:609: FutureWarning: The default dtype for empty Series will be 'object' instead of 'float64' in a future version. Specify a dtype explicitly to silence this warning.\n",
      "  s = pd.Series(row.results_json)\n",
      "/Users/piotrm/repos/trulens/trulens_eval/trulens_eval/tru_db.py:609: FutureWarning: The default dtype for empty Series will be 'object' instead of 'float64' in a future version. Specify a dtype explicitly to silence this warning.\n",
      "  s = pd.Series(row.results_json)\n",
      "/Users/piotrm/repos/trulens/trulens_eval/trulens_eval/tru_db.py:609: FutureWarning: The default dtype for empty Series will be 'object' instead of 'float64' in a future version. Specify a dtype explicitly to silence this warning.\n",
      "  s = pd.Series(row.results_json)\n",
      "/Users/piotrm/repos/trulens/trulens_eval/trulens_eval/tru_db.py:609: FutureWarning: The default dtype for empty Series will be 'object' instead of 'float64' in a future version. Specify a dtype explicitly to silence this warning.\n",
      "  s = pd.Series(row.results_json)\n",
      "/Users/piotrm/repos/trulens/trulens_eval/trulens_eval/tru_db.py:609: FutureWarning: The default dtype for empty Series will be 'object' instead of 'float64' in a future version. Specify a dtype explicitly to silence this warning.\n",
      "  s = pd.Series(row.results_json)\n",
      "/Users/piotrm/repos/trulens/trulens_eval/trulens_eval/tru_db.py:609: FutureWarning: The default dtype for empty Series will be 'object' instead of 'float64' in a future version. Specify a dtype explicitly to silence this warning.\n",
      "  s = pd.Series(row.results_json)\n",
      "/Users/piotrm/repos/trulens/trulens_eval/trulens_eval/tru_db.py:609: FutureWarning: The default dtype for empty Series will be 'object' instead of 'float64' in a future version. Specify a dtype explicitly to silence this warning.\n",
      "  s = pd.Series(row.results_json)\n",
      "/Users/piotrm/repos/trulens/trulens_eval/trulens_eval/tru_db.py:609: FutureWarning: The default dtype for empty Series will be 'object' instead of 'float64' in a future version. Specify a dtype explicitly to silence this warning.\n",
      "  s = pd.Series(row.results_json)\n",
      "/Users/piotrm/repos/trulens/trulens_eval/trulens_eval/tru_db.py:609: FutureWarning: The default dtype for empty Series will be 'object' instead of 'float64' in a future version. Specify a dtype explicitly to silence this warning.\n",
      "  s = pd.Series(row.results_json)\n",
      "/Users/piotrm/repos/trulens/trulens_eval/trulens_eval/tru_db.py:609: FutureWarning: The default dtype for empty Series will be 'object' instead of 'float64' in a future version. Specify a dtype explicitly to silence this warning.\n",
      "  s = pd.Series(row.results_json)\n",
      "/Users/piotrm/repos/trulens/trulens_eval/trulens_eval/tru_db.py:609: FutureWarning: The default dtype for empty Series will be 'object' instead of 'float64' in a future version. Specify a dtype explicitly to silence this warning.\n",
      "  s = pd.Series(row.results_json)\n",
      "/Users/piotrm/repos/trulens/trulens_eval/trulens_eval/tru_db.py:609: FutureWarning: The default dtype for empty Series will be 'object' instead of 'float64' in a future version. Specify a dtype explicitly to silence this warning.\n",
      "  s = pd.Series(row.results_json)\n",
      "/Users/piotrm/repos/trulens/trulens_eval/trulens_eval/tru_db.py:609: FutureWarning: The default dtype for empty Series will be 'object' instead of 'float64' in a future version. Specify a dtype explicitly to silence this warning.\n",
      "  s = pd.Series(row.results_json)\n",
      "/Users/piotrm/repos/trulens/trulens_eval/trulens_eval/tru_db.py:609: FutureWarning: The default dtype for empty Series will be 'object' instead of 'float64' in a future version. Specify a dtype explicitly to silence this warning.\n",
      "  s = pd.Series(row.results_json)\n",
      "/Users/piotrm/repos/trulens/trulens_eval/trulens_eval/tru_db.py:609: FutureWarning: The default dtype for empty Series will be 'object' instead of 'float64' in a future version. Specify a dtype explicitly to silence this warning.\n",
      "  s = pd.Series(row.results_json)\n"
     ]
    },
    {
     "name": "stdout",
     "output_type": "stream",
     "text": [
      "!"
     ]
    },
    {
     "name": "stderr",
     "output_type": "stream",
     "text": [
      "2023-06-02 17:37:41.589 Serialization of dataframe to Arrow table was unsuccessful due to: (\"Could not convert <FeedbackResultStatus.NONE: 'none'> with type FeedbackResultStatus: did not recognize Python value type when inferring an Arrow data type\", 'Conversion failed for column status with type object'). Applying automatic fixes for column types to make the dataframe Arrow-compatible.\n"
     ]
    },
    {
     "name": "stdout",
     "output_type": "stream",
     "text": [
      "✅ record record_hash_0f0d388ccd4fd1b52f594131f783d4e7 from 3/filtered_context -> default.sqlite\n",
      "⚡ feedback feedback_result_hash_44e2b183590969ecf6f81a848ffc162f on record_hash_0f0d388ccd4fd1b52f594131f783d4e7 -> default.sqlite\n",
      "⚡ feedback feedback_result_hash_69874d4f546f26956f036951d5b6f843 on record_hash_0f0d388ccd4fd1b52f594131f783d4e7 -> default.sqlite\n",
      "⚡ feedback feedback_result_hash_f558f8bf3842da754a6c6d4562d2e514 on record_hash_0f0d388ccd4fd1b52f594131f783d4e7 -> default.sqlite\n"
     ]
    },
    {
     "name": "stderr",
     "output_type": "stream",
     "text": []
    },
    {
     "name": "stdout",
     "output_type": "stream",
     "text": [
      "✅ record record_hash_5dc44042489014aeeec3cbfbabec8992 from 4/filtered_context_and_lang_prompt -> default.sqlite\n",
      "⚡ feedback feedback_result_hash_e557813e4d2c13e0dcc1f24bfee1c88a on record_hash_5dc44042489014aeeec3cbfbabec8992 -> default.sqlite\n",
      "⚡ feedback feedback_result_hash_6d45eb59e64597c470134c5306c7098b on record_hash_5dc44042489014aeeec3cbfbabec8992 -> default.sqlite\n",
      "⚡ feedback feedback_result_hash_ebe3b419759e97a773e95e2a0fae0bf7 on record_hash_5dc44042489014aeeec3cbfbabec8992 -> default.sqlite\n",
      ".✅ record record_hash_d96d484128d426f72d3f011e53facbb1 from 3/filtered_context -> default.sqlite\n",
      "⚡ feedback feedback_result_hash_639356d2de1a3484e6a4a1354f822f08 on record_hash_d96d484128d426f72d3f011e53facbb1 -> default.sqlite\n",
      "⚡ feedback feedback_result_hash_e63b40c7cf1a3f178b1f4605de65b0b6 on record_hash_d96d484128d426f72d3f011e53facbb1 -> default.sqlite\n",
      "⚡ feedback feedback_result_hash_7baa710c051b7e51caf3e18cc8c5acfd on record_hash_d96d484128d426f72d3f011e53facbb1 -> default.sqlite\n"
     ]
    },
    {
     "name": "stderr",
     "output_type": "stream",
     "text": []
    },
    {
     "name": "stdout",
     "output_type": "stream",
     "text": [
      "..✅ record record_hash_bb5e59f82912fa0d995d2c229a6e0738 from 3/filtered_context -> default.sqlite\n",
      "⚡ feedback feedback_result_hash_d822ba04a08b5076a51181729f599e37 on record_hash_bb5e59f82912fa0d995d2c229a6e0738 -> default.sqlite\n",
      "⚡ feedback feedback_result_hash_737714ffaf1c082c04d228184efdb99d on record_hash_bb5e59f82912fa0d995d2c229a6e0738 -> default.sqlite\n",
      "⚡ feedback feedback_result_hash_aed0fe75d953f3e79c2d3877593a0749 on record_hash_bb5e59f82912fa0d995d2c229a6e0738 -> default.sqlite\n",
      "✅ record record_hash_dacd451d1b95a03e1736f405103a3e23 from 4/filtered_context_and_lang_prompt -> default.sqlite\n",
      "⚡ feedback feedback_result_hash_0470584b7d1d6dd24f29e2f3ecd23268 on record_hash_dacd451d1b95a03e1736f405103a3e23 -> default.sqlite\n",
      "⚡ feedback feedback_result_hash_93f082b116614a9ed0eb640ed00ea5f6 on record_hash_dacd451d1b95a03e1736f405103a3e23 -> default.sqlite\n",
      "⚡ feedback feedback_result_hash_80f7bda1d22d651c951e50a0f7b371c4 on record_hash_dacd451d1b95a03e1736f405103a3e23 -> default.sqlite\n",
      "✅ record record_hash_aa8ca50bd7fb9f9cb1de2b0f28f36869 from 4/filtered_context_and_lang_prompt -> default.sqlite\n",
      "⚡ feedback feedback_result_hash_a79da539723798ac5ce3cab892602f38 on record_hash_aa8ca50bd7fb9f9cb1de2b0f28f36869 -> default.sqlite\n",
      "⚡ feedback feedback_result_hash_851fbb3cfecc0337c95c9aed3e2133c5 on record_hash_aa8ca50bd7fb9f9cb1de2b0f28f36869 -> default.sqlite\n",
      "⚡ feedback feedback_result_hash_3c18245d4d7b321085ab922ea02a3fdc on record_hash_aa8ca50bd7fb9f9cb1de2b0f28f36869 -> default.sqlite\n",
      ".✅ record record_hash_1fbe31866b6ca9f3071aa7c52dc0fbbc from 4/filtered_context_and_lang_prompt -> default.sqlite\n",
      "⚡ feedback feedback_result_hash_a663a75ff3810b2cf58ff4136ecb10a2 on record_hash_1fbe31866b6ca9f3071aa7c52dc0fbbc -> default.sqlite\n",
      "⚡ feedback feedback_result_hash_07795b55c72ebca91bac1c0feeb5413e on record_hash_1fbe31866b6ca9f3071aa7c52dc0fbbc -> default.sqlite\n",
      "⚡ feedback feedback_result_hash_845bc208eb39d5d085305eaa032dc779 on record_hash_1fbe31866b6ca9f3071aa7c52dc0fbbc -> default.sqlite\n",
      ".✅ record record_hash_1bc4c21e8de7fffd6c956a35c4ea6124 from 4/filtered_context_and_lang_prompt -> default.sqlite\n",
      "⚡ feedback feedback_result_hash_44916d6eaf33abaf0e3aceaf363411c1 on record_hash_1bc4c21e8de7fffd6c956a35c4ea6124 -> default.sqlite\n",
      "⚡ feedback feedback_result_hash_1de652036bee002fc88e8ca9a5a1f034 on record_hash_1bc4c21e8de7fffd6c956a35c4ea6124 -> default.sqlite\n",
      "⚡ feedback feedback_result_hash_48d13e245a69cdeafe6576f38e7b439d on record_hash_1bc4c21e8de7fffd6c956a35c4ea6124 -> default.sqlite\n",
      "✅ record record_hash_5a4e27c3d49c059a5e7bc75e6e3c9e43 from 3/filtered_context -> default.sqlite\n",
      "⚡ feedback feedback_result_hash_d68d9c01449f78b6f5ee83efd4a3fd3c on record_hash_5a4e27c3d49c059a5e7bc75e6e3c9e43 -> default.sqlite\n",
      "⚡ feedback feedback_result_hash_966dec764ce6989e0bdb08301f654a27 on record_hash_5a4e27c3d49c059a5e7bc75e6e3c9e43 -> default.sqlite\n",
      "⚡ feedback feedback_result_hash_397462e7542b632d6cacd288f0c807d1 on record_hash_5a4e27c3d49c059a5e7bc75e6e3c9e43 -> default.sqlite\n",
      "........................................................................✅ record record_hash_f53eac9e15fee95e717ca90303e4cbe8 from 3/filtered_context -> default.sqlite\n",
      "⚡ feedback feedback_result_hash_2db384930974ce51a791b1938b7775f6 on record_hash_f53eac9e15fee95e717ca90303e4cbe8 -> default.sqlite\n",
      "⚡ feedback feedback_result_hash_64451b127bcc4f3856ad9c7bb1ba6833 on record_hash_f53eac9e15fee95e717ca90303e4cbe8 -> default.sqlite\n",
      "⚡ feedback feedback_result_hash_374a26d24260de9fb2e1b1bf96fd9d64 on record_hash_f53eac9e15fee95e717ca90303e4cbe8 -> default.sqlite\n",
      ".done.\n"
     ]
    },
    {
     "data": {
      "text/plain": [
       "0"
      ]
     },
     "execution_count": 4,
     "metadata": {},
     "output_type": "execute_result"
    },
    {
     "name": "stdout",
     "output_type": "stream",
     "text": [
      "✅ record record_hash_4b76b81354214435b2783321a0db8a6e from 3/filtered_context -> default.sqlite\n",
      "⚡ feedback feedback_result_hash_a2ec97ad683a1d767e6e99d38afeb564 on record_hash_4b76b81354214435b2783321a0db8a6e -> default.sqlite\n",
      "⚡ feedback feedback_result_hash_508c3ece4ddc65939b1dd44c8b64ffeb on record_hash_4b76b81354214435b2783321a0db8a6e -> default.sqlite\n",
      "⚡ feedback feedback_result_hash_713ac1f733341f5d06bfff26f21fc133 on record_hash_4b76b81354214435b2783321a0db8a6e -> default.sqlite\n",
      "..✅ record record_hash_5816d7f92a628c7c1e60201b03bf1981 from 4/filtered_context_and_lang_prompt -> default.sqlite\n",
      "⚡ feedback feedback_result_hash_017362b6ef2b4ac1331e7f32e14b9461 on record_hash_5816d7f92a628c7c1e60201b03bf1981 -> default.sqlite\n",
      "⚡ feedback feedback_result_hash_8a5ce248fb4eda99711d72a70e714600 on record_hash_5816d7f92a628c7c1e60201b03bf1981 -> default.sqlite\n",
      "⚡ feedback feedback_result_hash_816ca4df4d1668e56cc051a99169e431 on record_hash_5816d7f92a628c7c1e60201b03bf1981 -> default.sqlite\n",
      ".some tasks timed out.\n"
     ]
    },
    {
     "name": "stderr",
     "output_type": "stream",
     "text": [
      "                                               \n",
      "                                               \n",
      "                                                   \n",
      "                                                   \n",
      "                                                   \n",
      "                                                   \n",
      "                                                   \n",
      "                                                   \n",
      "                                                   \n",
      "                                                   \n",
      "                                                   \n",
      "                                                   \n",
      "                                                   \n",
      "                                                   \n",
      "                                                    \n",
      "                                                    \n",
      "                                                    \n",
      "                                                    \n",
      "                                                    \n",
      "                                                    \n",
      "                                                    \r"
     ]
    },
    {
     "name": "stdout",
     "output_type": "stream",
     "text": [
      "Looking for things to do. Stop me with `tru.stop_evaluator()`.Starting run for row 0.\n",
      "Starting run for row 1.\n",
      "⚡ feedback feedback_result_hash_f46be563f4052288484cfad9ec3e77d9 on record_hash_908fa5bb68fb9ed85a140ed443d0a088 -> default.sqlite\n",
      "⚡ feedback feedback_result_hash_e74265315e4d4fc3462bb6cb8cb199af on record_hash_908fa5bb68fb9ed85a140ed443d0a088 -> default.sqlite\n",
      "Starting run for row 2.\n",
      "⚡ feedback feedback_result_hash_f87dc4652e6acaffa9258982661f2417 on record_hash_908fa5bb68fb9ed85a140ed443d0a088 -> default.sqlite\n",
      "Starting run for row 3.\n",
      "Starting run for row 4.\n",
      "⚡ feedback feedback_result_hash_5772182e8816e072a928e6c4db573262 on record_hash_c62aceb141ce01945614bbc0de1e79f6 -> default.sqlite\n",
      "⚡ feedback feedback_result_hash_65a5e794bfc84a742e7fb268985a139d on record_hash_c62aceb141ce01945614bbc0de1e79f6 -> default.sqlite\n",
      "Starting run for row 5.\n",
      "⚡ feedback feedback_result_hash_d799714457c5ef6e17a8180296d5afb8 on record_hash_c62aceb141ce01945614bbc0de1e79f6 -> default.sqlite\n",
      "Starting run for row 6.\n",
      "Starting run for row 7.\n",
      "⚡ feedback feedback_result_hash_024730cbef0f26cb7131d64b02fe2735 on record_hash_6612c3e5d8d2af1f30f946fc44be5eb1 -> default.sqlite\n",
      "⚡ feedback feedback_result_hash_9ab9a63f95b6c1c7843ada77e9cbd219 on record_hash_6612c3e5d8d2af1f30f946fc44be5eb1 -> default.sqlite\n",
      "Starting run for row 8.\n",
      "⚡ feedback feedback_result_hash_1ebf4dc09a01db6754f59e471cbcac81 on record_hash_6612c3e5d8d2af1f30f946fc44be5eb1 -> default.sqlite\n",
      "Starting run for row 9.\n",
      "⚡ feedback feedback_result_hash_ea6a02d3a453162d07c7832ce4ad839a on record_hash_a0047ea47cd4f423ba999a515f30e2a1 -> default.sqlite\n",
      "Starting run for row 10.\n",
      "⚡ feedback feedback_result_hash_439d23c15d1d9bea18b82b6ce7c57e2d on record_hash_a0047ea47cd4f423ba999a515f30e2a1 -> default.sqlite\n",
      "Starting run for row 11.\n",
      "Starting run for row 12.\n",
      "⚡ feedback feedback_result_hash_06f09964bc9ab645b27f67782bd34d2d on record_hash_a0047ea47cd4f423ba999a515f30e2a1 -> default.sqlite\n",
      "⚡ feedback feedback_result_hash_adf42135aded0c59f05d69c0972e09b3 on record_hash_5c0f7a4e09682184f2a17144aeb94a79 -> default.sqlite\n",
      "Starting run for row 13.\n",
      "⚡ feedback feedback_result_hash_b769f3a0d3e7431ff3c51722e65ae587 on record_hash_5c0f7a4e09682184f2a17144aeb94a79 -> default.sqlite\n",
      "Starting run for row 14.\n",
      "⚡ feedback feedback_result_hash_e6115dd5661a4dda7086a4f2d55c5e00 on record_hash_5c0f7a4e09682184f2a17144aeb94a79 -> default.sqlite\n",
      "Starting run for row 15.\n",
      "⚡ feedback feedback_result_hash_a876ad482f2f642a8f86c9366f52a307 on record_hash_9dc6ec5f29cb66e1e27c527bdf50c29d -> default.sqlite\n",
      "Starting run for row 16.\n",
      "⚡ feedback feedback_result_hash_74118a820bce76964eafba4f34d90fbc on record_hash_9dc6ec5f29cb66e1e27c527bdf50c29d -> default.sqlite\n",
      "Starting run for row 17.\n",
      "⚡ feedback feedback_result_hash_061c3338a19376dadff152b86ef80c7a on record_hash_9dc6ec5f29cb66e1e27c527bdf50c29d -> default.sqlite\n",
      "Starting run for row 18.\n",
      "⚡ feedback feedback_result_hash_de437f194fc69b0a6097b84225375d84 on record_hash_adfd8e1b09bc7073d4d4c04ab4e178ba -> default.sqlite\n",
      "Starting run for row 19.\n"
     ]
    },
    {
     "name": "stderr",
     "output_type": "stream",
     "text": [
      "\n",
      "                                                    \n",
      "                                                    \n",
      "                                                    \n",
      "                                                    \n",
      "                                                    \n",
      "                                                    \n",
      "                                                    \n",
      "                                                    \n",
      "                                                    \n",
      "                                                    \n",
      "                                                    \n",
      "                                                    \n",
      "                                                    \n",
      "                                                    \n",
      "                                                    \n",
      "                                                    \n",
      "                                                    \n",
      "                                                    \n",
      "                                                    \n",
      "                                                    \n",
      "                                                    \n",
      "                                                    \n",
      "                                                    \n",
      "                                                    \n",
      "                                                    \n",
      "                                                    \n",
      "                                                    \n",
      "                                                    \n",
      "                                                    \n",
      "                                                    \n",
      "                                                    \n",
      "                                                    \n",
      "                                                    \n",
      "                                                    \n",
      "                                                    \n",
      "                                                    \n",
      "                                                    \n",
      "                                                    \n",
      "                                                    \n",
      "                                                    \n",
      "                                                    \n",
      "                                                    "
     ]
    },
    {
     "name": "stdout",
     "output_type": "stream",
     "text": [
      "Starting run for row 20.\n",
      "⚡ feedback feedback_result_hash_4f80c2d5013d769e93835f0db2a8f132 on record_hash_adfd8e1b09bc7073d4d4c04ab4e178ba -> default.sqlite\n",
      "⚡ feedback feedback_result_hash_a2c654571a1c7125826e59ccdcec7491 on record_hash_adfd8e1b09bc7073d4d4c04ab4e178ba -> default.sqlite\n",
      "Starting run for row 21.\n",
      "⚡ feedback feedback_result_hash_21a17f005368b4e9b71705d71e5c52b9 on record_hash_680b76e607bf61f9fe3e09e8021b5caa -> default.sqlite\n",
      "Starting run for row 22.\n",
      "⚡ feedback feedback_result_hash_cc31f14d43fb021b58ebf21044646aa7 on record_hash_680b76e607bf61f9fe3e09e8021b5caa -> default.sqlite\n",
      "Starting run for row 23.\n",
      "Starting run for row 24.\n",
      "⚡ feedback feedback_result_hash_db39e4502444085a80659c6e4d503396 on record_hash_680b76e607bf61f9fe3e09e8021b5caa -> default.sqlite\n",
      "⚡ feedback feedback_result_hash_da084837e4de2f4d78986e304b600c3c on record_hash_5a56eb892ad16d929c94476fb9412cc5 -> default.sqlite\n",
      "Starting run for row 25.\n",
      "⚡ feedback feedback_result_hash_5939ec6b94463e1b640f91dc1ee25c65 on record_hash_5a56eb892ad16d929c94476fb9412cc5 -> default.sqlite\n",
      "Starting run for row 26.\n",
      "⚡ feedback feedback_result_hash_da90a8e81495ba6a90ca6e28b16a8354 on record_hash_5a56eb892ad16d929c94476fb9412cc5 -> default.sqlite\n",
      "Starting run for row 27.\n",
      "⚡ feedback feedback_result_hash_6278e8d318a2044788f97859a77da9ae on record_hash_650433efbfbab93cb00e2143d00413a3 -> default.sqlite\n",
      "Starting run for row 28.\n",
      "⚡ feedback feedback_result_hash_8ca1e72dfb17117d668f4c532837a1aa on record_hash_650433efbfbab93cb00e2143d00413a3 -> default.sqlite\n",
      "Starting run for row 29.\n",
      "⚡ feedback feedback_result_hash_b6d311a3ef49045b2c442ced0877676a on record_hash_650433efbfbab93cb00e2143d00413a3 -> default.sqlite\n",
      "Starting run for row 30.\n",
      "⚡ feedback feedback_result_hash_b835edb782742957e1defe1494993742 on record_hash_83baf767e0a68f99ab92f39a239ee370 -> default.sqlite\n",
      "Starting run for row 31.\n",
      "⚡ feedback feedback_result_hash_5b410d8d52fc0e6b2aab871ab657d3c5 on record_hash_83baf767e0a68f99ab92f39a239ee370 -> default.sqlite\n",
      "Starting run for row 32.\n",
      "⚡ feedback feedback_result_hash_117537b8a5fc028bb9a16fba118ffe37 on record_hash_83baf767e0a68f99ab92f39a239ee370 -> default.sqlite\n",
      "Starting run for row 33.\n",
      "⚡ feedback feedback_result_hash_2feca1d67d7f178e463c19d64dc5f33d on record_hash_489691b27d5a479239ec729d46c2d426 -> default.sqlite\n",
      "Starting run for row 34.\n",
      "⚡ feedback feedback_result_hash_4cdcd37d57d9fc95c966c7b1c3550215 on record_hash_489691b27d5a479239ec729d46c2d426 -> default.sqlite\n",
      "Starting run for row 35.\n",
      "Starting run for row 36.\n",
      "⚡ feedback feedback_result_hash_991d69f70c9218179c543a4279c8c48f on record_hash_489691b27d5a479239ec729d46c2d426 -> default.sqlite\n",
      "⚡ feedback feedback_result_hash_44e2b183590969ecf6f81a848ffc162f on record_hash_0f0d388ccd4fd1b52f594131f783d4e7 -> default.sqlite\n",
      "Starting run for row 37.\n",
      "Starting run for row 38.\n",
      "⚡ feedback feedback_result_hash_69874d4f546f26956f036951d5b6f843 on record_hash_0f0d388ccd4fd1b52f594131f783d4e7 -> default.sqlite\n",
      "⚡ feedback feedback_result_hash_f558f8bf3842da754a6c6d4562d2e514 on record_hash_0f0d388ccd4fd1b52f594131f783d4e7 -> default.sqlite\n",
      "Starting run for row 39.\n",
      "⚡ feedback feedback_result_hash_e557813e4d2c13e0dcc1f24bfee1c88a on record_hash_5dc44042489014aeeec3cbfbabec8992 -> default.sqlite\n",
      "Starting run for row 40.\n",
      "Starting run for row 41.\n",
      "⚡ feedback feedback_result_hash_6d45eb59e64597c470134c5306c7098b on record_hash_5dc44042489014aeeec3cbfbabec8992 -> default.sqlite\n",
      "⚡ feedback feedback_result_hash_ebe3b419759e97a773e95e2a0fae0bf7 on record_hash_5dc44042489014aeeec3cbfbabec8992 -> default.sqlite\n",
      "Starting run for row 42.\n",
      "⚡ feedback feedback_result_hash_639356d2de1a3484e6a4a1354f822f08 on record_hash_d96d484128d426f72d3f011e53facbb1 -> default.sqlite\n",
      "Starting run for row 43.\n",
      "Starting run for row 44.\n",
      "⚡ feedback feedback_result_hash_e63b40c7cf1a3f178b1f4605de65b0b6 on record_hash_d96d484128d426f72d3f011e53facbb1 -> default.sqlite\n",
      "⚡ feedback feedback_result_hash_7baa710c051b7e51caf3e18cc8c5acfd on record_hash_d96d484128d426f72d3f011e53facbb1 -> default.sqlite\n",
      "Starting run for row 45.\n",
      "⚡ feedback feedback_result_hash_d822ba04a08b5076a51181729f599e37 on record_hash_bb5e59f82912fa0d995d2c229a6e0738 -> default.sqlite\n",
      "Starting run for row 46.\n",
      "Starting run for row 47.\n",
      "⚡ feedback feedback_result_hash_737714ffaf1c082c04d228184efdb99d on record_hash_bb5e59f82912fa0d995d2c229a6e0738 -> default.sqlite\n",
      "⚡ feedback feedback_result_hash_aed0fe75d953f3e79c2d3877593a0749 on record_hash_bb5e59f82912fa0d995d2c229a6e0738 -> default.sqlite\n",
      "Starting run for row 48.\n",
      "⚡ feedback feedback_result_hash_0470584b7d1d6dd24f29e2f3ecd23268 on record_hash_dacd451d1b95a03e1736f405103a3e23 -> default.sqlite\n",
      "Starting run for row 49.\n",
      "⚡ feedback feedback_result_hash_93f082b116614a9ed0eb640ed00ea5f6 on record_hash_dacd451d1b95a03e1736f405103a3e23 -> default.sqlite\n",
      "Starting run for row 50.\n",
      "⚡ feedback feedback_result_hash_80f7bda1d22d651c951e50a0f7b371c4 on record_hash_dacd451d1b95a03e1736f405103a3e23 -> default.sqlite\n",
      "Starting run for row 51.\n",
      "⚡ feedback feedback_result_hash_a79da539723798ac5ce3cab892602f38 on record_hash_aa8ca50bd7fb9f9cb1de2b0f28f36869 -> default.sqlite\n",
      "Starting run for row 52.\n",
      "⚡ feedback feedback_result_hash_851fbb3cfecc0337c95c9aed3e2133c5 on record_hash_aa8ca50bd7fb9f9cb1de2b0f28f36869 -> default.sqlite\n",
      "Starting run for row 53.\n",
      "⚡ feedback feedback_result_hash_3c18245d4d7b321085ab922ea02a3fdc on record_hash_aa8ca50bd7fb9f9cb1de2b0f28f36869 -> default.sqlite\n",
      "Starting run for row 54.\n",
      "Starting run for row 55.\n",
      "⚡ feedback feedback_result_hash_a663a75ff3810b2cf58ff4136ecb10a2 on record_hash_1fbe31866b6ca9f3071aa7c52dc0fbbc -> default.sqlite\n",
      "⚡ feedback feedback_result_hash_07795b55c72ebca91bac1c0feeb5413e on record_hash_1fbe31866b6ca9f3071aa7c52dc0fbbc -> default.sqlite\n",
      "Starting run for row 56.\n",
      "⚡ feedback feedback_result_hash_845bc208eb39d5d085305eaa032dc779 on record_hash_1fbe31866b6ca9f3071aa7c52dc0fbbc -> default.sqlite\n",
      "Starting run for row 57.\n",
      "⚡ feedback feedback_result_hash_44916d6eaf33abaf0e3aceaf363411c1 on record_hash_1bc4c21e8de7fffd6c956a35c4ea6124 -> default.sqlite\n",
      "Starting run for row 58.\n",
      "⚡ feedback feedback_result_hash_1de652036bee002fc88e8ca9a5a1f034 on record_hash_1bc4c21e8de7fffd6c956a35c4ea6124 -> default.sqlite\n",
      "Starting run for row 59.\n",
      "⚡ feedback feedback_result_hash_48d13e245a69cdeafe6576f38e7b439d on record_hash_1bc4c21e8de7fffd6c956a35c4ea6124 -> default.sqlite\n",
      "Starting run for row 60.\n",
      "⚡ feedback feedback_result_hash_d68d9c01449f78b6f5ee83efd4a3fd3c on record_hash_5a4e27c3d49c059a5e7bc75e6e3c9e43 -> default.sqlite\n",
      "Starting run for row 61.\n"
     ]
    },
    {
     "name": "stderr",
     "output_type": "stream",
     "text": [
      "                                                    \n",
      "                                                    \n",
      "                                                    \n",
      "                                                    \n",
      "                                                    \n",
      "                                                    \n",
      "                                                    \n",
      "                                                    \n",
      "                                                    \n",
      "huggingface api: 11requests [01:32, 58.25s/requests]"
     ]
    },
    {
     "name": "stdout",
     "output_type": "stream",
     "text": [
      "⚡ feedback feedback_result_hash_966dec764ce6989e0bdb08301f654a27 on record_hash_5a4e27c3d49c059a5e7bc75e6e3c9e43 -> default.sqlite\n",
      "Starting run for row 62.\n",
      "⚡ feedback feedback_result_hash_397462e7542b632d6cacd288f0c807d1 on record_hash_5a4e27c3d49c059a5e7bc75e6e3c9e43 -> default.sqlite\n",
      "Starting run for row 63.\n",
      "⚡ feedback feedback_result_hash_2db384930974ce51a791b1938b7775f6 on record_hash_f53eac9e15fee95e717ca90303e4cbe8 -> default.sqlite\n",
      "Starting run for row 64.\n",
      "⚡ feedback feedback_result_hash_64451b127bcc4f3856ad9c7bb1ba6833 on record_hash_f53eac9e15fee95e717ca90303e4cbe8 -> default.sqlite\n",
      "Starting run for row 65.\n",
      "⚡ feedback feedback_result_hash_374a26d24260de9fb2e1b1bf96fd9d64 on record_hash_f53eac9e15fee95e717ca90303e4cbe8 -> default.sqlite\n",
      "Starting run for row 66.\n",
      "Starting run for row 67.\n",
      "⚡ feedback feedback_result_hash_a2ec97ad683a1d767e6e99d38afeb564 on record_hash_4b76b81354214435b2783321a0db8a6e -> default.sqlite\n",
      "⚡ feedback feedback_result_hash_508c3ece4ddc65939b1dd44c8b64ffeb on record_hash_4b76b81354214435b2783321a0db8a6e -> default.sqlite\n",
      "Starting run for row 68.\n",
      "⚡ feedback feedback_result_hash_713ac1f733341f5d06bfff26f21fc133 on record_hash_4b76b81354214435b2783321a0db8a6e -> default.sqlite\n",
      "Starting run for row 69.\n",
      "Starting run for row 70.\n",
      "⚡ feedback feedback_result_hash_017362b6ef2b4ac1331e7f32e14b9461 on record_hash_5816d7f92a628c7c1e60201b03bf1981 -> default.sqlite\n",
      "⚡ feedback feedback_result_hash_8a5ce248fb4eda99711d72a70e714600 on record_hash_5816d7f92a628c7c1e60201b03bf1981 -> default.sqlite\n",
      "Starting run for row 71.\n",
      "Finishing 124 task(s) ....⚡ feedback feedback_result_hash_816ca4df4d1668e56cc051a99169e431 on record_hash_5816d7f92a628c7c1e60201b03bf1981 -> default.sqlite\n"
     ]
    },
    {
     "name": "stderr",
     "output_type": "stream",
     "text": [
      "ERROR:root:Waiting for {'error': 'Model papluca/xlm-roberta-base-language-detection is currently loading', 'estimated_time': 20.0} (20.0) second(s).\n",
      "ERROR:root:Waiting for {'error': 'Model papluca/xlm-roberta-base-language-detection is currently loading', 'estimated_time': 20.0} (20.0) second(s).\n",
      "ERROR:root:Waiting for {'error': 'Model papluca/xlm-roberta-base-language-detection is currently loading', 'estimated_time': 20.0} (20.0) second(s).\n",
      "ERROR:root:Waiting for {'error': 'Model papluca/xlm-roberta-base-language-detection is currently loading', 'estimated_time': 20.0} (20.0) second(s).\n",
      "ERROR:root:Waiting for {'error': 'Model papluca/xlm-roberta-base-language-detection is currently loading', 'estimated_time': 20.0} (20.0) second(s).\n"
     ]
    },
    {
     "name": "stdout",
     "output_type": "stream",
     "text": [
      "⚡ feedback feedback_result_hash_9ab9a63f95b6c1c7843ada77e9cbd219 on record_hash_6612c3e5d8d2af1f30f946fc44be5eb1 -> default.sqlite\n",
      "⚡ feedback feedback_result_hash_65a5e794bfc84a742e7fb268985a139d on record_hash_c62aceb141ce01945614bbc0de1e79f6 -> default.sqlite\n"
     ]
    },
    {
     "name": "stderr",
     "output_type": "stream",
     "text": [
      "ERROR:root:Waiting for {'error': 'Model papluca/xlm-roberta-base-language-detection is currently loading', 'estimated_time': 20.0} (20.0) second(s).\n",
      "ERROR:root:Waiting for {'error': 'Model papluca/xlm-roberta-base-language-detection is currently loading', 'estimated_time': 20.0} (20.0) second(s).\n",
      "ERROR:root:Waiting for {'error': 'Model papluca/xlm-roberta-base-language-detection is currently loading', 'estimated_time': 20.0} (20.0) second(s).\n",
      "ERROR:root:Waiting for {'error': 'Model papluca/xlm-roberta-base-language-detection is currently loading', 'estimated_time': 20.0} (20.0) second(s).\n",
      "ERROR:root:Waiting for {'error': 'Model papluca/xlm-roberta-base-language-detection is currently loading', 'estimated_time': 20.0} (20.0) second(s).\n",
      "huggingface api: 12requests [01:33,  9.34s/requests]"
     ]
    },
    {
     "name": "stdout",
     "output_type": "stream",
     "text": [
      "⚡ feedback feedback_result_hash_e74265315e4d4fc3462bb6cb8cb199af on record_hash_908fa5bb68fb9ed85a140ed443d0a088 -> default.sqlite\n",
      "⚡ feedback feedback_result_hash_b769f3a0d3e7431ff3c51722e65ae587 on record_hash_5c0f7a4e09682184f2a17144aeb94a79 -> default.sqlite\n"
     ]
    },
    {
     "name": "stderr",
     "output_type": "stream",
     "text": [
      "ERROR:root:Waiting for {'error': 'Model papluca/xlm-roberta-base-language-detection is currently loading', 'estimated_time': 20.0} (20.0) second(s).\n"
     ]
    },
    {
     "name": "stdout",
     "output_type": "stream",
     "text": [
      "⚡ feedback feedback_result_hash_439d23c15d1d9bea18b82b6ce7c57e2d on record_hash_a0047ea47cd4f423ba999a515f30e2a1 -> default.sqlite\n",
      "⚡ feedback feedback_result_hash_74118a820bce76964eafba4f34d90fbc on record_hash_9dc6ec5f29cb66e1e27c527bdf50c29d -> default.sqlite\n"
     ]
    },
    {
     "name": "stderr",
     "output_type": "stream",
     "text": [
      "huggingface api: 13requests [01:34,  8.45s/requests]ERROR:root:Waiting for {'error': 'Model papluca/xlm-roberta-base-language-detection is currently loading', 'estimated_time': 20.0} (20.0) second(s).\n"
     ]
    },
    {
     "name": "stdout",
     "output_type": "stream",
     "text": [
      "⚡ feedback feedback_result_hash_4f80c2d5013d769e93835f0db2a8f132 on record_hash_adfd8e1b09bc7073d4d4c04ab4e178ba -> default.sqlite\n"
     ]
    },
    {
     "name": "stderr",
     "output_type": "stream",
     "text": [
      "2023-06-02 17:38:08.889 Serialization of dataframe to Arrow table was unsuccessful due to: (\"Could not convert <FeedbackResultStatus.RUNNING: 'running'> with type FeedbackResultStatus: did not recognize Python value type when inferring an Arrow data type\", 'Conversion failed for column status with type object'). Applying automatic fixes for column types to make the dataframe Arrow-compatible.\n",
      "huggingface api: 14requests [01:35,  7.46s/requests]/Users/piotrm/repos/trulens/trulens_eval/trulens_eval/tru_db.py:609: FutureWarning: The default dtype for empty Series will be 'object' instead of 'float64' in a future version. Specify a dtype explicitly to silence this warning.\n",
      "  s = pd.Series(row.results_json)\n",
      "/Users/piotrm/repos/trulens/trulens_eval/trulens_eval/tru_db.py:609: FutureWarning: The default dtype for empty Series will be 'object' instead of 'float64' in a future version. Specify a dtype explicitly to silence this warning.\n",
      "  s = pd.Series(row.results_json)\n",
      "/Users/piotrm/repos/trulens/trulens_eval/trulens_eval/tru_db.py:609: FutureWarning: The default dtype for empty Series will be 'object' instead of 'float64' in a future version. Specify a dtype explicitly to silence this warning.\n",
      "  s = pd.Series(row.results_json)\n",
      "/Users/piotrm/repos/trulens/trulens_eval/trulens_eval/tru_db.py:609: FutureWarning: The default dtype for empty Series will be 'object' instead of 'float64' in a future version. Specify a dtype explicitly to silence this warning.\n",
      "  s = pd.Series(row.results_json)\n",
      "/Users/piotrm/repos/trulens/trulens_eval/trulens_eval/tru_db.py:609: FutureWarning: The default dtype for empty Series will be 'object' instead of 'float64' in a future version. Specify a dtype explicitly to silence this warning.\n",
      "  s = pd.Series(row.results_json)\n",
      "/Users/piotrm/repos/trulens/trulens_eval/trulens_eval/tru_db.py:609: FutureWarning: The default dtype for empty Series will be 'object' instead of 'float64' in a future version. Specify a dtype explicitly to silence this warning.\n",
      "  s = pd.Series(row.results_json)\n",
      "/Users/piotrm/repos/trulens/trulens_eval/trulens_eval/tru_db.py:609: FutureWarning: The default dtype for empty Series will be 'object' instead of 'float64' in a future version. Specify a dtype explicitly to silence this warning.\n",
      "  s = pd.Series(row.results_json)\n",
      "/Users/piotrm/repos/trulens/trulens_eval/trulens_eval/tru_db.py:609: FutureWarning: The default dtype for empty Series will be 'object' instead of 'float64' in a future version. Specify a dtype explicitly to silence this warning.\n",
      "  s = pd.Series(row.results_json)\n",
      "/Users/piotrm/repos/trulens/trulens_eval/trulens_eval/tru_db.py:609: FutureWarning: The default dtype for empty Series will be 'object' instead of 'float64' in a future version. Specify a dtype explicitly to silence this warning.\n",
      "  s = pd.Series(row.results_json)\n",
      "/Users/piotrm/repos/trulens/trulens_eval/trulens_eval/tru_db.py:609: FutureWarning: The default dtype for empty Series will be 'object' instead of 'float64' in a future version. Specify a dtype explicitly to silence this warning.\n",
      "  s = pd.Series(row.results_json)\n",
      "/Users/piotrm/repos/trulens/trulens_eval/trulens_eval/tru_db.py:609: FutureWarning: The default dtype for empty Series will be 'object' instead of 'float64' in a future version. Specify a dtype explicitly to silence this warning.\n",
      "  s = pd.Series(row.results_json)\n",
      "/Users/piotrm/repos/trulens/trulens_eval/trulens_eval/tru_db.py:609: FutureWarning: The default dtype for empty Series will be 'object' instead of 'float64' in a future version. Specify a dtype explicitly to silence this warning.\n",
      "  s = pd.Series(row.results_json)\n",
      "/Users/piotrm/repos/trulens/trulens_eval/trulens_eval/tru_db.py:609: FutureWarning: The default dtype for empty Series will be 'object' instead of 'float64' in a future version. Specify a dtype explicitly to silence this warning.\n",
      "  s = pd.Series(row.results_json)\n",
      "/Users/piotrm/repos/trulens/trulens_eval/trulens_eval/tru_db.py:609: FutureWarning: The default dtype for empty Series will be 'object' instead of 'float64' in a future version. Specify a dtype explicitly to silence this warning.\n",
      "  s = pd.Series(row.results_json)\n",
      "/Users/piotrm/repos/trulens/trulens_eval/trulens_eval/tru_db.py:609: FutureWarning: The default dtype for empty Series will be 'object' instead of 'float64' in a future version. Specify a dtype explicitly to silence this warning.\n",
      "  s = pd.Series(row.results_json)\n",
      "/Users/piotrm/repos/trulens/trulens_eval/trulens_eval/tru_db.py:609: FutureWarning: The default dtype for empty Series will be 'object' instead of 'float64' in a future version. Specify a dtype explicitly to silence this warning.\n",
      "  s = pd.Series(row.results_json)\n",
      "/Users/piotrm/repos/trulens/trulens_eval/trulens_eval/tru_db.py:609: FutureWarning: The default dtype for empty Series will be 'object' instead of 'float64' in a future version. Specify a dtype explicitly to silence this warning.\n",
      "  s = pd.Series(row.results_json)\n",
      "ERROR:root:Waiting for {'error': 'Model papluca/xlm-roberta-base-language-detection is currently loading', 'estimated_time': 20.0} (20.0) second(s).\n",
      "huggingface api: 16requests [01:37,  5.42s/requests]"
     ]
    },
    {
     "name": "stdout",
     "output_type": "stream",
     "text": [
      "⚡ feedback feedback_result_hash_21a17f005368b4e9b71705d71e5c52b9 on record_hash_680b76e607bf61f9fe3e09e8021b5caa -> default.sqlite\n",
      "⚡ feedback feedback_result_hash_cc31f14d43fb021b58ebf21044646aa7 on record_hash_680b76e607bf61f9fe3e09e8021b5caa -> default.sqlite\n"
     ]
    },
    {
     "name": "stderr",
     "output_type": "stream",
     "text": [
      "huggingface api: 17requests [01:38,  4.50s/requests]ERROR:root:Waiting for {'error': 'Model papluca/xlm-roberta-base-language-detection is currently loading', 'estimated_time': 20.0} (20.0) second(s).\n"
     ]
    },
    {
     "name": "stdout",
     "output_type": "stream",
     "text": [
      "⚡ feedback feedback_result_hash_5939ec6b94463e1b640f91dc1ee25c65 on record_hash_5a56eb892ad16d929c94476fb9412cc5 -> default.sqlite\n"
     ]
    },
    {
     "name": "stderr",
     "output_type": "stream",
     "text": [
      "huggingface api: 18requests [01:39,  3.69s/requests]ERROR:root:Waiting for {'error': 'Model papluca/xlm-roberta-base-language-detection is currently loading', 'estimated_time': 20.0} (20.0) second(s).\n",
      "/Users/piotrm/repos/trulens/trulens_eval/trulens_eval/tru_db.py:609: FutureWarning: The default dtype for empty Series will be 'object' instead of 'float64' in a future version. Specify a dtype explicitly to silence this warning.\n",
      "  s = pd.Series(row.results_json)\n",
      "/Users/piotrm/repos/trulens/trulens_eval/trulens_eval/tru_db.py:609: FutureWarning: The default dtype for empty Series will be 'object' instead of 'float64' in a future version. Specify a dtype explicitly to silence this warning.\n",
      "  s = pd.Series(row.results_json)\n",
      "/Users/piotrm/repos/trulens/trulens_eval/trulens_eval/tru_db.py:609: FutureWarning: The default dtype for empty Series will be 'object' instead of 'float64' in a future version. Specify a dtype explicitly to silence this warning.\n",
      "  s = pd.Series(row.results_json)\n",
      "/Users/piotrm/repos/trulens/trulens_eval/trulens_eval/tru_db.py:609: FutureWarning: The default dtype for empty Series will be 'object' instead of 'float64' in a future version. Specify a dtype explicitly to silence this warning.\n",
      "  s = pd.Series(row.results_json)\n",
      "/Users/piotrm/repos/trulens/trulens_eval/trulens_eval/tru_db.py:609: FutureWarning: The default dtype for empty Series will be 'object' instead of 'float64' in a future version. Specify a dtype explicitly to silence this warning.\n",
      "  s = pd.Series(row.results_json)\n",
      "/Users/piotrm/repos/trulens/trulens_eval/trulens_eval/tru_db.py:609: FutureWarning: The default dtype for empty Series will be 'object' instead of 'float64' in a future version. Specify a dtype explicitly to silence this warning.\n",
      "  s = pd.Series(row.results_json)\n",
      "/Users/piotrm/repos/trulens/trulens_eval/trulens_eval/tru_db.py:609: FutureWarning: The default dtype for empty Series will be 'object' instead of 'float64' in a future version. Specify a dtype explicitly to silence this warning.\n",
      "  s = pd.Series(row.results_json)\n",
      "/Users/piotrm/repos/trulens/trulens_eval/trulens_eval/tru_db.py:609: FutureWarning: The default dtype for empty Series will be 'object' instead of 'float64' in a future version. Specify a dtype explicitly to silence this warning.\n",
      "  s = pd.Series(row.results_json)\n",
      "/Users/piotrm/repos/trulens/trulens_eval/trulens_eval/tru_db.py:609: FutureWarning: The default dtype for empty Series will be 'object' instead of 'float64' in a future version. Specify a dtype explicitly to silence this warning.\n",
      "  s = pd.Series(row.results_json)\n",
      "/Users/piotrm/repos/trulens/trulens_eval/trulens_eval/tru_db.py:609: FutureWarning: The default dtype for empty Series will be 'object' instead of 'float64' in a future version. Specify a dtype explicitly to silence this warning.\n",
      "  s = pd.Series(row.results_json)\n",
      "/Users/piotrm/repos/trulens/trulens_eval/trulens_eval/tru_db.py:609: FutureWarning: The default dtype for empty Series will be 'object' instead of 'float64' in a future version. Specify a dtype explicitly to silence this warning.\n",
      "  s = pd.Series(row.results_json)\n",
      "/Users/piotrm/repos/trulens/trulens_eval/trulens_eval/tru_db.py:609: FutureWarning: The default dtype for empty Series will be 'object' instead of 'float64' in a future version. Specify a dtype explicitly to silence this warning.\n",
      "  s = pd.Series(row.results_json)\n",
      "/Users/piotrm/repos/trulens/trulens_eval/trulens_eval/tru_db.py:609: FutureWarning: The default dtype for empty Series will be 'object' instead of 'float64' in a future version. Specify a dtype explicitly to silence this warning.\n",
      "  s = pd.Series(row.results_json)\n",
      "/Users/piotrm/repos/trulens/trulens_eval/trulens_eval/tru_db.py:609: FutureWarning: The default dtype for empty Series will be 'object' instead of 'float64' in a future version. Specify a dtype explicitly to silence this warning.\n",
      "  s = pd.Series(row.results_json)\n",
      "/Users/piotrm/repos/trulens/trulens_eval/trulens_eval/tru_db.py:609: FutureWarning: The default dtype for empty Series will be 'object' instead of 'float64' in a future version. Specify a dtype explicitly to silence this warning.\n",
      "  s = pd.Series(row.results_json)\n",
      "huggingface api: 19requests [01:40,  3.03s/requests]ERROR:root:Waiting for {'error': 'Model papluca/xlm-roberta-base-language-detection is currently loading', 'estimated_time': 20.0} (20.0) second(s).\n"
     ]
    },
    {
     "name": "stdout",
     "output_type": "stream",
     "text": [
      "⚡ feedback feedback_result_hash_8ca1e72dfb17117d668f4c532837a1aa on record_hash_650433efbfbab93cb00e2143d00413a3 -> default.sqlite\n"
     ]
    },
    {
     "name": "stderr",
     "output_type": "stream",
     "text": [
      "huggingface api: 20requests [01:41,  2.50s/requests]ERROR:root:Waiting for {'error': 'Model papluca/xlm-roberta-base-language-detection is currently loading', 'estimated_time': 20.0} (20.0) second(s).\n",
      "huggingface api: 21requests [01:42,  2.09s/requests]"
     ]
    },
    {
     "name": "stdout",
     "output_type": "stream",
     "text": [
      "!."
     ]
    },
    {
     "name": "stderr",
     "output_type": "stream",
     "text": [
      "ERROR:root:Waiting for {'error': 'Model papluca/xlm-roberta-base-language-detection is currently loading', 'estimated_time': 20.0} (20.0) second(s).\n",
      "huggingface api: 22requests [01:43,  1.79s/requests]"
     ]
    },
    {
     "name": "stdout",
     "output_type": "stream",
     "text": [
      "⚡ feedback feedback_result_hash_5b410d8d52fc0e6b2aab871ab657d3c5 on record_hash_83baf767e0a68f99ab92f39a239ee370 -> default.sqlite\n"
     ]
    },
    {
     "name": "stderr",
     "output_type": "stream",
     "text": [
      "ERROR:root:Waiting for {'error': 'Model papluca/xlm-roberta-base-language-detection is currently loading', 'estimated_time': 20.0} (20.0) second(s).\n",
      "huggingface api: 23requests [01:44,  1.56s/requests]ERROR:root:Waiting for {'error': 'Model papluca/xlm-roberta-base-language-detection is currently loading', 'estimated_time': 20.0} (20.0) second(s).\n"
     ]
    },
    {
     "name": "stdout",
     "output_type": "stream",
     "text": [
      "⚡ feedback feedback_result_hash_4cdcd37d57d9fc95c966c7b1c3550215 on record_hash_489691b27d5a479239ec729d46c2d426 -> default.sqlite\n"
     ]
    },
    {
     "name": "stderr",
     "output_type": "stream",
     "text": [
      "huggingface api: 24requests [01:45,  1.40s/requests]ERROR:root:Waiting for {'error': 'Model papluca/xlm-roberta-base-language-detection is currently loading', 'estimated_time': 20.0} (20.0) second(s).\n",
      "/Users/piotrm/repos/trulens/trulens_eval/trulens_eval/tru_db.py:609: FutureWarning: The default dtype for empty Series will be 'object' instead of 'float64' in a future version. Specify a dtype explicitly to silence this warning.\n",
      "  s = pd.Series(row.results_json)\n",
      "/Users/piotrm/repos/trulens/trulens_eval/trulens_eval/tru_db.py:609: FutureWarning: The default dtype for empty Series will be 'object' instead of 'float64' in a future version. Specify a dtype explicitly to silence this warning.\n",
      "  s = pd.Series(row.results_json)\n",
      "/Users/piotrm/repos/trulens/trulens_eval/trulens_eval/tru_db.py:609: FutureWarning: The default dtype for empty Series will be 'object' instead of 'float64' in a future version. Specify a dtype explicitly to silence this warning.\n",
      "  s = pd.Series(row.results_json)\n",
      "/Users/piotrm/repos/trulens/trulens_eval/trulens_eval/tru_db.py:609: FutureWarning: The default dtype for empty Series will be 'object' instead of 'float64' in a future version. Specify a dtype explicitly to silence this warning.\n",
      "  s = pd.Series(row.results_json)\n",
      "/Users/piotrm/repos/trulens/trulens_eval/trulens_eval/tru_db.py:609: FutureWarning: The default dtype for empty Series will be 'object' instead of 'float64' in a future version. Specify a dtype explicitly to silence this warning.\n",
      "  s = pd.Series(row.results_json)\n",
      "/Users/piotrm/repos/trulens/trulens_eval/trulens_eval/tru_db.py:609: FutureWarning: The default dtype for empty Series will be 'object' instead of 'float64' in a future version. Specify a dtype explicitly to silence this warning.\n",
      "  s = pd.Series(row.results_json)\n",
      "/Users/piotrm/repos/trulens/trulens_eval/trulens_eval/tru_db.py:609: FutureWarning: The default dtype for empty Series will be 'object' instead of 'float64' in a future version. Specify a dtype explicitly to silence this warning.\n",
      "  s = pd.Series(row.results_json)\n",
      "/Users/piotrm/repos/trulens/trulens_eval/trulens_eval/tru_db.py:609: FutureWarning: The default dtype for empty Series will be 'object' instead of 'float64' in a future version. Specify a dtype explicitly to silence this warning.\n",
      "  s = pd.Series(row.results_json)\n",
      "/Users/piotrm/repos/trulens/trulens_eval/trulens_eval/tru_db.py:609: FutureWarning: The default dtype for empty Series will be 'object' instead of 'float64' in a future version. Specify a dtype explicitly to silence this warning.\n",
      "  s = pd.Series(row.results_json)\n",
      "/Users/piotrm/repos/trulens/trulens_eval/trulens_eval/tru_db.py:609: FutureWarning: The default dtype for empty Series will be 'object' instead of 'float64' in a future version. Specify a dtype explicitly to silence this warning.\n",
      "  s = pd.Series(row.results_json)\n",
      "/Users/piotrm/repos/trulens/trulens_eval/trulens_eval/tru_db.py:609: FutureWarning: The default dtype for empty Series will be 'object' instead of 'float64' in a future version. Specify a dtype explicitly to silence this warning.\n",
      "  s = pd.Series(row.results_json)\n",
      "/Users/piotrm/repos/trulens/trulens_eval/trulens_eval/tru_db.py:609: FutureWarning: The default dtype for empty Series will be 'object' instead of 'float64' in a future version. Specify a dtype explicitly to silence this warning.\n",
      "  s = pd.Series(row.results_json)\n",
      "huggingface api: 25requests [01:46,  1.29s/requests]ERROR:root:Waiting for {'error': 'Model papluca/xlm-roberta-base-language-detection is currently loading', 'estimated_time': 20.0} (20.0) second(s).\n",
      "2023-06-02 17:38:20.769 Serialization of dataframe to Arrow table was unsuccessful due to: (\"Could not convert <FeedbackResultStatus.RUNNING: 'running'> with type FeedbackResultStatus: did not recognize Python value type when inferring an Arrow data type\", 'Conversion failed for column status with type object'). Applying automatic fixes for column types to make the dataframe Arrow-compatible.\n"
     ]
    },
    {
     "name": "stdout",
     "output_type": "stream",
     "text": [
      "⚡ feedback feedback_result_hash_69874d4f546f26956f036951d5b6f843 on record_hash_0f0d388ccd4fd1b52f594131f783d4e7 -> default.sqlite\n"
     ]
    },
    {
     "name": "stderr",
     "output_type": "stream",
     "text": [
      "huggingface api: 26requests [01:47,  1.20s/requests]ERROR:root:Waiting for {'error': 'Model papluca/xlm-roberta-base-language-detection is currently loading', 'estimated_time': 20.0} (20.0) second(s).\n",
      "huggingface api: 27requests [01:48,  1.14s/requests]"
     ]
    },
    {
     "name": "stdout",
     "output_type": "stream",
     "text": [
      "⚡ feedback feedback_result_hash_6d45eb59e64597c470134c5306c7098b on record_hash_5dc44042489014aeeec3cbfbabec8992 -> default.sqlite\n"
     ]
    },
    {
     "name": "stderr",
     "output_type": "stream",
     "text": [
      "huggingface api: 28requests [01:49,  1.10s/requests]ERROR:root:Waiting for {'error': 'Model papluca/xlm-roberta-base-language-detection is currently loading', 'estimated_time': 20.0} (20.0) second(s).\n",
      "huggingface api: 29requests [01:50,  1.07s/requests]ERROR:root:Waiting for {'error': 'Model papluca/xlm-roberta-base-language-detection is currently loading', 'estimated_time': 20.0} (20.0) second(s).\n",
      "huggingface api: 30requests [01:51,  1.05s/requests]"
     ]
    },
    {
     "name": "stdout",
     "output_type": "stream",
     "text": [
      "⚡ feedback feedback_result_hash_e63b40c7cf1a3f178b1f4605de65b0b6 on record_hash_d96d484128d426f72d3f011e53facbb1 -> default.sqlite\n"
     ]
    },
    {
     "name": "stderr",
     "output_type": "stream",
     "text": [
      "ERROR:root:Waiting for {'error': 'Model papluca/xlm-roberta-base-language-detection is currently loading', 'estimated_time': 20.0} (20.0) second(s).\n"
     ]
    },
    {
     "name": "stdout",
     "output_type": "stream",
     "text": [
      "⚡ feedback feedback_result_hash_7baa710c051b7e51caf3e18cc8c5acfd on record_hash_d96d484128d426f72d3f011e53facbb1 -> default.sqlite\n"
     ]
    },
    {
     "name": "stderr",
     "output_type": "stream",
     "text": [
      "huggingface api: 31requests [01:52,  1.04s/requests]ERROR:root:Waiting for {'error': 'Model papluca/xlm-roberta-base-language-detection is currently loading', 'estimated_time': 20.0} (20.0) second(s).\n"
     ]
    },
    {
     "name": "stdout",
     "output_type": "stream",
     "text": [
      "!.⚡ feedback feedback_result_hash_737714ffaf1c082c04d228184efdb99d on record_hash_bb5e59f82912fa0d995d2c229a6e0738 -> default.sqlite\n"
     ]
    },
    {
     "name": "stderr",
     "output_type": "stream",
     "text": [
      "huggingface api: 33requests [01:54,  1.02s/requests]"
     ]
    },
    {
     "name": "stdout",
     "output_type": "stream",
     "text": [
      "⚡ feedback feedback_result_hash_93f082b116614a9ed0eb640ed00ea5f6 on record_hash_dacd451d1b95a03e1736f405103a3e23 -> default.sqlite\n"
     ]
    },
    {
     "name": "stderr",
     "output_type": "stream",
     "text": [
      "huggingface api: 34requests [01:55,  1.02s/requests]"
     ]
    },
    {
     "name": "stdout",
     "output_type": "stream",
     "text": [
      "⚡ feedback feedback_result_hash_0470584b7d1d6dd24f29e2f3ecd23268 on record_hash_dacd451d1b95a03e1736f405103a3e23 -> default.sqlite\n",
      "⚡ feedback feedback_result_hash_80f7bda1d22d651c951e50a0f7b371c4 on record_hash_dacd451d1b95a03e1736f405103a3e23 -> default.sqlite\n"
     ]
    },
    {
     "name": "stderr",
     "output_type": "stream",
     "text": [
      "huggingface api: 35requests [01:56,  1.01s/requests]"
     ]
    },
    {
     "name": "stdout",
     "output_type": "stream",
     "text": [
      "⚡ feedback feedback_result_hash_851fbb3cfecc0337c95c9aed3e2133c5 on record_hash_aa8ca50bd7fb9f9cb1de2b0f28f36869 -> default.sqlite\n"
     ]
    },
    {
     "name": "stderr",
     "output_type": "stream",
     "text": [
      "huggingface api: 36requests [01:57,  1.01s/requests]"
     ]
    },
    {
     "name": "stdout",
     "output_type": "stream",
     "text": [
      "⚡ feedback feedback_result_hash_a79da539723798ac5ce3cab892602f38 on record_hash_aa8ca50bd7fb9f9cb1de2b0f28f36869 -> default.sqlite\n"
     ]
    },
    {
     "name": "stderr",
     "output_type": "stream",
     "text": [
      "huggingface api: 38requests [01:59,  1.01s/requests]"
     ]
    },
    {
     "name": "stdout",
     "output_type": "stream",
     "text": [
      "⚡ feedback feedback_result_hash_07795b55c72ebca91bac1c0feeb5413e on record_hash_1fbe31866b6ca9f3071aa7c52dc0fbbc -> default.sqlite\n"
     ]
    },
    {
     "name": "stderr",
     "output_type": "stream",
     "text": []
    },
    {
     "name": "stdout",
     "output_type": "stream",
     "text": [
      "⚡ feedback feedback_result_hash_a663a75ff3810b2cf58ff4136ecb10a2 on record_hash_1fbe31866b6ca9f3071aa7c52dc0fbbc -> default.sqlite\n"
     ]
    },
    {
     "name": "stderr",
     "output_type": "stream",
     "text": [
      "huggingface api: 39requests [02:00,  1.01s/requests]"
     ]
    },
    {
     "name": "stdout",
     "output_type": "stream",
     "text": [
      "⚡ feedback feedback_result_hash_1de652036bee002fc88e8ca9a5a1f034 on record_hash_1bc4c21e8de7fffd6c956a35c4ea6124 -> default.sqlite\n"
     ]
    },
    {
     "name": "stderr",
     "output_type": "stream",
     "text": [
      "huggingface api: 40requests [02:01,  1.01s/requests]"
     ]
    },
    {
     "name": "stdout",
     "output_type": "stream",
     "text": [
      "⚡ feedback feedback_result_hash_44916d6eaf33abaf0e3aceaf363411c1 on record_hash_1bc4c21e8de7fffd6c956a35c4ea6124 -> default.sqlite\n"
     ]
    },
    {
     "name": "stderr",
     "output_type": "stream",
     "text": [
      "huggingface api: 41requests [02:02,  1.01s/requests]ERROR:root:openai request failed <class 'openai.error.RateLimitError'>=That model is currently overloaded with other requests. You can retry your request, or contact us through our help center at help.openai.com if the error persists. (Please include the request ID 25c330c5885484c9fdb311253b9f6d1e in your message.). Retries=3.\n"
     ]
    },
    {
     "name": "stdout",
     "output_type": "stream",
     "text": [
      "!⚡ feedback feedback_result_hash_966dec764ce6989e0bdb08301f654a27 on record_hash_5a4e27c3d49c059a5e7bc75e6e3c9e43 -> default.sqlite\n"
     ]
    },
    {
     "name": "stderr",
     "output_type": "stream",
     "text": [
      "huggingface api: 42requests [02:03,  1.00s/requests]"
     ]
    },
    {
     "name": "stdout",
     "output_type": "stream",
     "text": [
      "⚡ feedback feedback_result_hash_d68d9c01449f78b6f5ee83efd4a3fd3c on record_hash_5a4e27c3d49c059a5e7bc75e6e3c9e43 -> default.sqlite\n"
     ]
    },
    {
     "name": "stderr",
     "output_type": "stream",
     "text": [
      "huggingface api: 43requests [02:04,  1.00s/requests]"
     ]
    },
    {
     "name": "stdout",
     "output_type": "stream",
     "text": [
      "⚡ feedback feedback_result_hash_64451b127bcc4f3856ad9c7bb1ba6833 on record_hash_f53eac9e15fee95e717ca90303e4cbe8 -> default.sqlite\n"
     ]
    },
    {
     "name": "stderr",
     "output_type": "stream",
     "text": [
      "huggingface api: 44requests [02:05,  1.00s/requests]"
     ]
    },
    {
     "name": "stdout",
     "output_type": "stream",
     "text": [
      "⚡ feedback feedback_result_hash_2db384930974ce51a791b1938b7775f6 on record_hash_f53eac9e15fee95e717ca90303e4cbe8 -> default.sqlite\n"
     ]
    },
    {
     "name": "stderr",
     "output_type": "stream",
     "text": [
      "huggingface api: 45requests [02:06,  1.00s/requests]"
     ]
    },
    {
     "name": "stdout",
     "output_type": "stream",
     "text": [
      "⚡ feedback feedback_result_hash_508c3ece4ddc65939b1dd44c8b64ffeb on record_hash_4b76b81354214435b2783321a0db8a6e -> default.sqlite\n"
     ]
    },
    {
     "name": "stderr",
     "output_type": "stream",
     "text": [
      "huggingface api: 46requests [02:07,  1.00s/requests]"
     ]
    },
    {
     "name": "stdout",
     "output_type": "stream",
     "text": [
      "⚡ feedback feedback_result_hash_a2ec97ad683a1d767e6e99d38afeb564 on record_hash_4b76b81354214435b2783321a0db8a6e -> default.sqlite\n"
     ]
    },
    {
     "name": "stderr",
     "output_type": "stream",
     "text": [
      "huggingface api: 48requests [02:09,  1.00s/requests]"
     ]
    },
    {
     "name": "stdout",
     "output_type": "stream",
     "text": [
      "⚡ feedback feedback_result_hash_8a5ce248fb4eda99711d72a70e714600 on record_hash_5816d7f92a628c7c1e60201b03bf1981 -> default.sqlite\n",
      "⚡ feedback feedback_result_hash_017362b6ef2b4ac1331e7f32e14b9461 on record_hash_5816d7f92a628c7c1e60201b03bf1981 -> default.sqlite\n"
     ]
    },
    {
     "name": "stderr",
     "output_type": "stream",
     "text": [
      "huggingface api: 51requests [02:12,  1.01s/requests]"
     ]
    },
    {
     "name": "stdout",
     "output_type": "stream",
     "text": [
      "!⚡ feedback feedback_result_hash_024730cbef0f26cb7131d64b02fe2735 on record_hash_6612c3e5d8d2af1f30f946fc44be5eb1 -> default.sqlite\n",
      "⚡ feedback feedback_result_hash_1ebf4dc09a01db6754f59e471cbcac81 on record_hash_6612c3e5d8d2af1f30f946fc44be5eb1 -> default.sqlite\n"
     ]
    },
    {
     "name": "stderr",
     "output_type": "stream",
     "text": [
      "huggingface api: 52requests [02:13,  1.01s/requests]"
     ]
    },
    {
     "name": "stdout",
     "output_type": "stream",
     "text": [
      "⚡ feedback feedback_result_hash_f46be563f4052288484cfad9ec3e77d9 on record_hash_908fa5bb68fb9ed85a140ed443d0a088 -> default.sqlite\n",
      "⚡ feedback feedback_result_hash_e6115dd5661a4dda7086a4f2d55c5e00 on record_hash_5c0f7a4e09682184f2a17144aeb94a79 -> default.sqlite\n"
     ]
    },
    {
     "name": "stderr",
     "output_type": "stream",
     "text": [
      "huggingface api: 54requests [02:15,  1.01s/requests]"
     ]
    },
    {
     "name": "stdout",
     "output_type": "stream",
     "text": [
      "⚡ feedback feedback_result_hash_a2c654571a1c7125826e59ccdcec7491 on record_hash_adfd8e1b09bc7073d4d4c04ab4e178ba -> default.sqlite\n"
     ]
    },
    {
     "name": "stderr",
     "output_type": "stream",
     "text": [
      "huggingface api: 56requests [02:17,  1.00s/requests]"
     ]
    },
    {
     "name": "stdout",
     "output_type": "stream",
     "text": [
      "...⚡ feedback feedback_result_hash_5772182e8816e072a928e6c4db573262 on record_hash_c62aceb141ce01945614bbc0de1e79f6 -> default.sqlite\n"
     ]
    },
    {
     "name": "stderr",
     "output_type": "stream",
     "text": [
      "huggingface api: 57requests [02:18,  1.00s/requests]"
     ]
    },
    {
     "name": "stdout",
     "output_type": "stream",
     "text": [
      "⚡ feedback feedback_result_hash_adf42135aded0c59f05d69c0972e09b3 on record_hash_5c0f7a4e09682184f2a17144aeb94a79 -> default.sqlite\n",
      "⚡ feedback feedback_result_hash_b6d311a3ef49045b2c442ced0877676a on record_hash_650433efbfbab93cb00e2143d00413a3 -> default.sqlite\n"
     ]
    },
    {
     "name": "stderr",
     "output_type": "stream",
     "text": [
      "huggingface api: 58requests [02:19,  1.00s/requests]"
     ]
    },
    {
     "name": "stdout",
     "output_type": "stream",
     "text": [
      "⚡ feedback feedback_result_hash_ea6a02d3a453162d07c7832ce4ad839a on record_hash_a0047ea47cd4f423ba999a515f30e2a1 -> default.sqlite\n"
     ]
    },
    {
     "name": "stderr",
     "output_type": "stream",
     "text": [
      "huggingface api: 59requests [02:20,  1.00s/requests]"
     ]
    },
    {
     "name": "stdout",
     "output_type": "stream",
     "text": [
      "⚡ feedback feedback_result_hash_a876ad482f2f642a8f86c9366f52a307 on record_hash_9dc6ec5f29cb66e1e27c527bdf50c29d -> default.sqlite\n"
     ]
    },
    {
     "name": "stderr",
     "output_type": "stream",
     "text": [
      "huggingface api: 60requests [02:21,  1.00s/requests]"
     ]
    },
    {
     "name": "stdout",
     "output_type": "stream",
     "text": [
      "⚡ feedback feedback_result_hash_f558f8bf3842da754a6c6d4562d2e514 on record_hash_0f0d388ccd4fd1b52f594131f783d4e7 -> default.sqlite\n"
     ]
    },
    {
     "name": "stderr",
     "output_type": "stream",
     "text": [
      "huggingface api: 61requests [02:22,  1.00s/requests]"
     ]
    },
    {
     "name": "stdout",
     "output_type": "stream",
     "text": [
      "⚡ feedback feedback_result_hash_de437f194fc69b0a6097b84225375d84 on record_hash_adfd8e1b09bc7073d4d4c04ab4e178ba -> default.sqlite\n"
     ]
    },
    {
     "name": "stderr",
     "output_type": "stream",
     "text": [
      "huggingface api: 62requests [02:23,  1.00s/requests]"
     ]
    },
    {
     "name": "stdout",
     "output_type": "stream",
     "text": [
      "⚡ feedback feedback_result_hash_ebe3b419759e97a773e95e2a0fae0bf7 on record_hash_5dc44042489014aeeec3cbfbabec8992 -> default.sqlite\n",
      "⚡ feedback feedback_result_hash_aed0fe75d953f3e79c2d3877593a0749 on record_hash_bb5e59f82912fa0d995d2c229a6e0738 -> default.sqlite\n"
     ]
    },
    {
     "name": "stderr",
     "output_type": "stream",
     "text": [
      "huggingface api: 63requests [02:24,  1.00s/requests]"
     ]
    },
    {
     "name": "stdout",
     "output_type": "stream",
     "text": [
      "⚡ feedback feedback_result_hash_da084837e4de2f4d78986e304b600c3c on record_hash_5a56eb892ad16d929c94476fb9412cc5 -> default.sqlite\n",
      "⚡ feedback feedback_result_hash_3c18245d4d7b321085ab922ea02a3fdc on record_hash_aa8ca50bd7fb9f9cb1de2b0f28f36869 -> default.sqlite\n"
     ]
    },
    {
     "name": "stderr",
     "output_type": "stream",
     "text": [
      "huggingface api: 64requests [02:25,  1.00s/requests]"
     ]
    },
    {
     "name": "stdout",
     "output_type": "stream",
     "text": [
      "⚡ feedback feedback_result_hash_845bc208eb39d5d085305eaa032dc779 on record_hash_1fbe31866b6ca9f3071aa7c52dc0fbbc -> default.sqlite\n"
     ]
    },
    {
     "name": "stderr",
     "output_type": "stream",
     "text": [
      "huggingface api: 65requests [02:26,  1.00s/requests]"
     ]
    },
    {
     "name": "stdout",
     "output_type": "stream",
     "text": [
      "⚡ feedback feedback_result_hash_6278e8d318a2044788f97859a77da9ae on record_hash_650433efbfbab93cb00e2143d00413a3 -> default.sqlite\n"
     ]
    },
    {
     "name": "stderr",
     "output_type": "stream",
     "text": [
      "huggingface api: 66requests [02:27,  1.00s/requests]"
     ]
    },
    {
     "name": "stdout",
     "output_type": "stream",
     "text": [
      "!.........⚡ feedback feedback_result_hash_397462e7542b632d6cacd288f0c807d1 on record_hash_5a4e27c3d49c059a5e7bc75e6e3c9e43 -> default.sqlite\n"
     ]
    },
    {
     "name": "stderr",
     "output_type": "stream",
     "text": [
      "huggingface api: 67requests [02:28,  1.01s/requests]"
     ]
    },
    {
     "name": "stdout",
     "output_type": "stream",
     "text": [
      "⚡ feedback feedback_result_hash_b835edb782742957e1defe1494993742 on record_hash_83baf767e0a68f99ab92f39a239ee370 -> default.sqlite\n"
     ]
    },
    {
     "name": "stderr",
     "output_type": "stream",
     "text": [
      "huggingface api: 68requests [02:29,  1.00s/requests]"
     ]
    },
    {
     "name": "stdout",
     "output_type": "stream",
     "text": [
      "⚡ feedback feedback_result_hash_374a26d24260de9fb2e1b1bf96fd9d64 on record_hash_f53eac9e15fee95e717ca90303e4cbe8 -> default.sqlite\n"
     ]
    },
    {
     "name": "stderr",
     "output_type": "stream",
     "text": [
      "2023-06-02 17:39:04.244 Serialization of dataframe to Arrow table was unsuccessful due to: (\"Could not convert <FeedbackResultStatus.RUNNING: 'running'> with type FeedbackResultStatus: did not recognize Python value type when inferring an Arrow data type\", 'Conversion failed for column status with type object'). Applying automatic fixes for column types to make the dataframe Arrow-compatible.\n",
      "huggingface api: 69requests [02:30,  1.00s/requests]"
     ]
    },
    {
     "name": "stdout",
     "output_type": "stream",
     "text": [
      "⚡ feedback feedback_result_hash_2feca1d67d7f178e463c19d64dc5f33d on record_hash_489691b27d5a479239ec729d46c2d426 -> default.sqlite\n",
      "⚡ feedback feedback_result_hash_713ac1f733341f5d06bfff26f21fc133 on record_hash_4b76b81354214435b2783321a0db8a6e -> default.sqlite\n"
     ]
    },
    {
     "name": "stderr",
     "output_type": "stream",
     "text": [
      "huggingface api: 70requests [02:31,  1.00s/requests]"
     ]
    },
    {
     "name": "stdout",
     "output_type": "stream",
     "text": [
      "⚡ feedback feedback_result_hash_816ca4df4d1668e56cc051a99169e431 on record_hash_5816d7f92a628c7c1e60201b03bf1981 -> default.sqlite\n"
     ]
    },
    {
     "name": "stderr",
     "output_type": "stream",
     "text": [
      "huggingface api: 71requests [02:32,  1.00s/requests]"
     ]
    },
    {
     "name": "stdout",
     "output_type": "stream",
     "text": [
      "⚡ feedback feedback_result_hash_44e2b183590969ecf6f81a848ffc162f on record_hash_0f0d388ccd4fd1b52f594131f783d4e7 -> default.sqlite\n"
     ]
    },
    {
     "name": "stderr",
     "output_type": "stream",
     "text": [
      "huggingface api: 72requests [02:33,  1.00s/requests]"
     ]
    },
    {
     "name": "stdout",
     "output_type": "stream",
     "text": [
      "⚡ feedback feedback_result_hash_e557813e4d2c13e0dcc1f24bfee1c88a on record_hash_5dc44042489014aeeec3cbfbabec8992 -> default.sqlite\n"
     ]
    },
    {
     "name": "stderr",
     "output_type": "stream",
     "text": [
      "huggingface api: 74requests [02:35,  1.00s/requests]"
     ]
    },
    {
     "name": "stdout",
     "output_type": "stream",
     "text": [
      "⚡ feedback feedback_result_hash_639356d2de1a3484e6a4a1354f822f08 on record_hash_d96d484128d426f72d3f011e53facbb1 -> default.sqlite\n"
     ]
    },
    {
     "name": "stderr",
     "output_type": "stream",
     "text": [
      "huggingface api: 75requests [02:36,  1.00s/requests]"
     ]
    },
    {
     "name": "stdout",
     "output_type": "stream",
     "text": [
      "⚡ feedback feedback_result_hash_d822ba04a08b5076a51181729f599e37 on record_hash_bb5e59f82912fa0d995d2c229a6e0738 -> default.sqlite\n"
     ]
    },
    {
     "name": "stderr",
     "output_type": "stream",
     "text": []
    },
    {
     "name": "stdout",
     "output_type": "stream",
     "text": [
      "!........."
     ]
    },
    {
     "name": "stderr",
     "output_type": "stream",
     "text": []
    },
    {
     "name": "stdout",
     "output_type": "stream",
     "text": [
      "⚡ feedback feedback_result_hash_48d13e245a69cdeafe6576f38e7b439d on record_hash_1bc4c21e8de7fffd6c956a35c4ea6124 -> default.sqlite\n"
     ]
    },
    {
     "name": "stderr",
     "output_type": "stream",
     "text": []
    },
    {
     "name": "stdout",
     "output_type": "stream",
     "text": [
      "⚡ feedback feedback_result_hash_f87dc4652e6acaffa9258982661f2417 on record_hash_908fa5bb68fb9ed85a140ed443d0a088 -> default.sqlite\n"
     ]
    },
    {
     "name": "stderr",
     "output_type": "stream",
     "text": []
    },
    {
     "name": "stdout",
     "output_type": "stream",
     "text": [
      "⚡ feedback feedback_result_hash_d799714457c5ef6e17a8180296d5afb8 on record_hash_c62aceb141ce01945614bbc0de1e79f6 -> default.sqlite\n"
     ]
    },
    {
     "name": "stderr",
     "output_type": "stream",
     "text": []
    },
    {
     "name": "stdout",
     "output_type": "stream",
     "text": [
      "⚡ feedback feedback_result_hash_061c3338a19376dadff152b86ef80c7a on record_hash_9dc6ec5f29cb66e1e27c527bdf50c29d -> default.sqlite\n",
      ".........."
     ]
    },
    {
     "name": "stderr",
     "output_type": "stream",
     "text": [
      "2023-06-02 17:39:18.549 Serialization of dataframe to Arrow table was unsuccessful due to: (\"Could not convert <FeedbackResultStatus.RUNNING: 'running'> with type FeedbackResultStatus: did not recognize Python value type when inferring an Arrow data type\", 'Conversion failed for column status with type object'). Applying automatic fixes for column types to make the dataframe Arrow-compatible.\n"
     ]
    },
    {
     "name": "stdout",
     "output_type": "stream",
     "text": [
      "⚡ feedback feedback_result_hash_db39e4502444085a80659c6e4d503396 on record_hash_680b76e607bf61f9fe3e09e8021b5caa -> default.sqlite\n",
      "....."
     ]
    },
    {
     "name": "stderr",
     "output_type": "stream",
     "text": []
    },
    {
     "name": "stdout",
     "output_type": "stream",
     "text": [
      "⚡ feedback feedback_result_hash_da90a8e81495ba6a90ca6e28b16a8354 on record_hash_5a56eb892ad16d929c94476fb9412cc5 -> default.sqlite\n",
      ".........."
     ]
    },
    {
     "name": "stderr",
     "output_type": "stream",
     "text": []
    },
    {
     "name": "stdout",
     "output_type": "stream",
     "text": [
      "⚡ feedback feedback_result_hash_117537b8a5fc028bb9a16fba118ffe37 on record_hash_83baf767e0a68f99ab92f39a239ee370 -> default.sqlite\n",
      "....."
     ]
    },
    {
     "name": "stderr",
     "output_type": "stream",
     "text": []
    },
    {
     "name": "stdout",
     "output_type": "stream",
     "text": [
      "⚡ feedback feedback_result_hash_991d69f70c9218179c543a4279c8c48f on record_hash_489691b27d5a479239ec729d46c2d426 -> default.sqlite\n",
      ".............................................................some tasks timed out.\n"
     ]
    },
    {
     "name": "stderr",
     "output_type": "stream",
     "text": []
    },
    {
     "name": "stdout",
     "output_type": "stream",
     "text": [
      "⚡ feedback feedback_result_hash_06f09964bc9ab645b27f67782bd34d2d on record_hash_a0047ea47cd4f423ba999a515f30e2a1 -> default.sqlite\n",
      "Looking for things to do. Stop me with `tru.stop_evaluator()`.Finishing 6 task(s) ......done.\n",
      "Looking for things to do. Stop me with `tru.stop_evaluator()`.Finishing 0 task(s) done.\n",
      "Looking for things to do. Stop me with `tru.stop_evaluator()`.Finishing 0 task(s) done.\n",
      "Looking for things to do. Stop me with `tru.stop_evaluator()`.Finishing 0 task(s) done.\n"
     ]
    }
   ],
   "source": [
    "selectors = [0,1,3,4]\n",
    "messages = [\"Who is Shayak?\", \"Wer ist Shayak?\", \"Kim jest Shayak?\", \"¿Quién es Shayak?\", \"Was ist QII?\", \"Co jest QII?\"]\n",
    "\n",
    "# selectors = selectors[0:1]\n",
    "# messages = messages[0:1]\n",
    "\n",
    "def test_bot(selector, question):\n",
    "    print(selector, question)\n",
    "    chain = get_or_make_chain(cid=question + str(selector), selector=selector)\n",
    "    answer = get_answer(chain=chain, question=question)\n",
    "    return answer\n",
    "\n",
    "results = []\n",
    "\n",
    "for s in selectors:\n",
    "    for m in messages:\n",
    "        results.append(TP().promise(test_bot, selector=s, question=m))\n",
    "\n",
    "TP().finish()"
   ]
  },
  {
   "cell_type": "markdown",
   "metadata": {},
   "source": [
    "# Local Model Testing"
   ]
  },
  {
   "cell_type": "code",
   "execution_count": null,
   "metadata": {},
   "outputs": [],
   "source": [
    "from langchain import ConversationChain, HuggingFacePipeline\n",
    "from transformers import LlamaTokenizer, LlamaForCausalLM, pipeline\n",
    "\n",
    "tokenizer = LlamaTokenizer.from_pretrained(\"chavinlo/alpaca-native\")\n",
    "\n",
    "base_model = LlamaForCausalLM.from_pretrained(\"chavinlo/alpaca-native\", device_map='auto')\n",
    "\n",
    "# Convert the model's parameters to a higher precision data type\n",
    "base_model = base_model.float()\n",
    "\n",
    "pipe = pipeline(\n",
    "    \"text-generation\",\n",
    "    model=base_model, \n",
    "    tokenizer=tokenizer, \n",
    "    max_length=256,\n",
    "    temperature=0.6,\n",
    "    top_p=0.95,\n",
    "    repetition_penalty=1.2\n",
    ")\n",
    "\n",
    "local_llm = HuggingFacePipeline(pipeline=pipe)\n",
    "\n",
    "# We are going to set the memory to go back 4 turns\n",
    "# window_memory = ConversationBufferWindowMemory(k=4)"
   ]
  },
  {
   "cell_type": "code",
   "execution_count": null,
   "metadata": {},
   "outputs": [],
   "source": [
    "conversation = ConversationChain(\n",
    "    llm=local_llm, \n",
    "    verbose=True\n",
    ")"
   ]
  },
  {
   "cell_type": "code",
   "execution_count": null,
   "metadata": {},
   "outputs": [],
   "source": [
    "# Setup some feedback functions.\n",
    "\n",
    "from trulens_eval import tru_feedback\n",
    "from trulens_eval.tru_db import Record\n",
    "import numpy as np\n",
    "\n",
    "hugs = tru_feedback.Huggingface()\n",
    "openai = tru_feedback.OpenAI()\n",
    "\n",
    "# Toxicity (of the response):\n",
    "f_toxic = tru_feedback.Feedback(hugs.not_toxic).on_response()\n",
    "\n",
    "# Language match (between prompt and response):\n",
    "f_lang_match = tru_feedback.Feedback(hugs.language_match).on(\n",
    "    text1=\"prompt\", text2=\"response\"\n",
    ")\n",
    "\n",
    "# Question to answer relevance:\n",
    "f_relevance = tru_feedback.Feedback(openai.relevance).on(\n",
    "    prompt=\"input\", response=\"output\"\n",
    ")\n",
    "\n",
    "# Question to context piece relevance:\n",
    "#f_qs_relevance = tru_feedback.Feedback(openai.qs_relevance).on(\n",
    "#    question=\"input\",\n",
    "#    statement=Record.chain.combine_docs_chain._call.args.inputs.input_documents\n",
    "#).on_multiple(\n",
    "#    multiarg=\"statement\", each_query=Record.page_content, agg=np.min\n",
    "#)\n",
    "\n",
    "feedbacks=[\n",
    "    # f_toxic, \n",
    "    f_lang_match, \n",
    "    # f_relevance, \n",
    "    # f_qs_relevance\n",
    "]"
   ]
  },
  {
   "cell_type": "code",
   "execution_count": null,
   "metadata": {},
   "outputs": [],
   "source": [
    "tc = Tru().Chain(conversation, chain_id=\"llama-7b-hf-convo\", feedbacks=feedbacks)"
   ]
  },
  {
   "cell_type": "code",
   "execution_count": null,
   "metadata": {},
   "outputs": [],
   "source": [
    "res, record = tc.call_with_record(\"What is the meaning of life?\")"
   ]
  },
  {
   "cell_type": "code",
   "execution_count": null,
   "metadata": {},
   "outputs": [],
   "source": [
    "res, record = tc.call_with_record(\"Who is Nora?\")"
   ]
  },
  {
   "attachments": {},
   "cell_type": "markdown",
   "metadata": {},
   "source": []
  }
 ],
 "metadata": {
  "kernelspec": {
   "display_name": "demo3",
   "language": "python",
   "name": "python3"
  },
  "language_info": {
   "codemirror_mode": {
    "name": "ipython",
    "version": 3
   },
   "file_extension": ".py",
   "mimetype": "text/x-python",
   "name": "python",
   "nbconvert_exporter": "python",
   "pygments_lexer": "ipython3",
   "version": "3.8.16"
  },
  "orig_nbformat": 4
 },
 "nbformat": 4,
 "nbformat_minor": 2
}
