{
 "cells": [
  {
   "attachments": {},
   "cell_type": "markdown",
   "metadata": {},
   "source": [
    "# TruBot testing"
   ]
  },
  {
   "cell_type": "code",
   "execution_count": 1,
   "metadata": {},
   "outputs": [],
   "source": [
    "%load_ext autoreload\n",
    "%autoreload 2\n",
    "from pathlib import Path\n",
    "import sys\n",
    "\n",
    "sys.path.append(str(Path().cwd().parent.parent.resolve()))"
   ]
  },
  {
   "cell_type": "code",
   "execution_count": 2,
   "metadata": {},
   "outputs": [
    {
     "name": "stdout",
     "output_type": "stream",
     "text": [
      "KEY SET: OPENAI_API_KEY\n",
      "KEY SET: PINECONE_API_KEY\n",
      "KEY SET: PINECONE_ENV\n",
      "KEY SET: HUGGINGFACE_API_KEY\n",
      "KEY SET: SLACK_TOKEN\n",
      "KEY SET: SLACK_SIGNING_SECRET\n",
      "KEY SET: COHERE_API_KEY\n"
     ]
    },
    {
     "data": {
      "application/vnd.jupyter.widget-view+json": {
       "model_id": "371795fc2bb94d449a9ccf91502f38af",
       "version_major": 2,
       "version_minor": 0
      },
      "text/plain": [
       "huggingface api: 0requests [00:00, ?requests/s]"
      ]
     },
     "metadata": {},
     "output_type": "display_data"
    },
    {
     "data": {
      "application/vnd.jupyter.widget-view+json": {
       "model_id": "02e76420f9784953b592125b66c4f1bd",
       "version_major": 2,
       "version_minor": 0
      },
      "text/plain": [
       "openai api: 0requests [00:00, ?requests/s]"
      ]
     },
     "metadata": {},
     "output_type": "display_data"
    }
   ],
   "source": [
    "from trulens_eval.keys import *\n",
    "from trulens_eval.slackbot import get_or_make_chain, get_answer\n",
    "from trulens_eval.util import TP\n",
    "from trulens_eval import Tru\n",
    "from trulens_eval.tru_feedback import Huggingface"
   ]
  },
  {
   "cell_type": "code",
   "execution_count": 4,
   "metadata": {},
   "outputs": [
    {
     "data": {
      "text/plain": [
       "<subprocess.Popen at 0x7f1fe91d7340>"
      ]
     },
     "execution_count": 4,
     "metadata": {},
     "output_type": "execute_result"
    },
    {
     "name": "stdout",
     "output_type": "stream",
     "text": [
      "\n",
      "  You can now view your Streamlit app in your browser.\n",
      "\n",
      "  Network URL: http://192.168.1.70:8501\n",
      "  External URL: http://73.222.135.127:8501\n",
      "\n",
      "KEY SET: OPENAI_API_KEY\n",
      "KEY SET: PINECONE_API_KEY\n",
      "KEY SET: PINECONE_ENV\n",
      "KEY SET: HUGGINGFACE_API_KEY\n",
      "KEY SET: SLACK_TOKEN\n",
      "KEY SET: SLACK_SIGNING_SECRET\n",
      "KEY SET: COHERE_API_KEY\n"
     ]
    },
    {
     "name": "stderr",
     "output_type": "stream",
     "text": [
      "openai api: 0requests [00:00, ?requests/s]\n",
      "huggingface api: 0requests [00:00, ?requests/s]\u001b[A\n",
      "\n",
      "cohere api: 0requests [00:00, ?requests/s]\u001b[A\u001b[A2023-06-01 17:32:56.425 Uncaught app exception\n",
      "Traceback (most recent call last):\n",
      "  File \"/home/piotrm/anaconda3/envs/py38_trulens_eval/lib/python3.8/site-packages/streamlit/runtime/scriptrunner/script_runner.py\", line 565, in _run_script\n",
      "    exec(code, module.__dict__)\n",
      "  File \"/home/piotrm/repos/trulens/trulens_eval/trulens_eval/pages/Progress.py\", line 43, in <module>\n",
      "    feedbacks = lms.get_feedback(status=[-1, 0, 1])\n",
      "  File \"/home/piotrm/repos/trulens/trulens_eval/trulens_eval/tru_db.py\", line 545, in get_feedback\n",
      "    c.execute(query, vars)\n",
      "sqlite3.OperationalError: no such column: f.error\n"
     ]
    }
   ],
   "source": [
    "Tru().start_dashboard(_dev=Path.cwd().parent.parent)\n",
    "# Tru().stop_dashboard()"
   ]
  },
  {
   "cell_type": "code",
   "execution_count": null,
   "metadata": {},
   "outputs": [],
   "source": [
    "Tru().db._clear_tables()"
   ]
  },
  {
   "cell_type": "code",
   "execution_count": null,
   "metadata": {},
   "outputs": [],
   "source": [
    "conn, c = Tru().db._connect()"
   ]
  },
  {
   "cell_type": "code",
   "execution_count": null,
   "metadata": {},
   "outputs": [],
   "source": [
    "c.execute(\"select * from records\")"
   ]
  },
  {
   "cell_type": "code",
   "execution_count": null,
   "metadata": {},
   "outputs": [],
   "source": [
    "for row in c.fetchall():\n",
    "    print(row)"
   ]
  },
  {
   "cell_type": "code",
   "execution_count": null,
   "metadata": {},
   "outputs": [],
   "source": [
    "row[4]"
   ]
  },
  {
   "cell_type": "code",
   "execution_count": null,
   "metadata": {},
   "outputs": [],
   "source": [
    "thread = Tru().start_evaluator()\n",
    "# Tru().stop_evaluator()\n",
    "# Tru().reset_database()"
   ]
  },
  {
   "cell_type": "code",
   "execution_count": null,
   "metadata": {},
   "outputs": [],
   "source": [
    "tc = get_or_make_chain(cid=None, selector=0)"
   ]
  },
  {
   "cell_type": "code",
   "execution_count": null,
   "metadata": {},
   "outputs": [],
   "source": [
    "tc.dict()"
   ]
  },
  {
   "cell_type": "code",
   "execution_count": 3,
   "metadata": {},
   "outputs": [
    {
     "name": "stdout",
     "output_type": "stream",
     "text": [
      "Finishing 1 task(s) 0 Who is Shayak?\n",
      "'Starting a new conversation with 0/default.'\n",
      "✅ chain 0/default -> default.sqlite\n",
      "✅ feedback def. feedback_definition_hash_025a043cd82d505769e565d5c68254af -> default.sqlite\n",
      "✅ feedback def. feedback_definition_hash_8b0a16444ef8795e169e19c618918b71 -> default.sqlite\n",
      "✅ feedback def. feedback_definition_hash_a9267df735153b749853787f81f434e6 -> default.sqlite\n",
      "inputs= {'question': 'Who is Shayak?', 'chat_history': 'Human: Who is Shayak?\\nAI:  Shayak is a computer scientist who obtained his PhD in Computer Science from Carnegie Mellon University and BTech in Computer Science from the Indian Institute of Technology, Delhi. He has been building systems and leading research to make machine learning and big data systems more explainable, privacy compliant, and fair for the past 10 years. He is also a member of the Bank of England’s AI Public-Private Forum and the OECD Global Partnership on AI.'}\n",
      "creating record with\n",
      "{'main_input': 'Who is Shayak?', 'main_output': ' Shayak is a computer scientist who obtained his PhD in Computer Science from Carnegie Mellon University and BTech in Computer Science from the Indian Institute of Technology, Delhi. He has been building systems and leading research to make machine learning and big data systems more explainable, privacy compliant, and fair for the past 10 years. He is also a member of the Bank of England’s AI Public-Private Forum and the OECD Global Partnership on AI.', 'main_error': 'None', 'calls': [RecordChainCall(chain_stack=(RecordChainCallMethod(path=JSONPath()._chain, method=MethodIdent(module_name='langchain.chains.conversational_retrieval.base', class_name='ConversationalRetrievalChain', method_name='_call')), RecordChainCallMethod(path=JSONPath()._chain.retriever, method=MethodIdent(module_name='langchain.vectorstores.base', class_name='VectorStoreRetriever', method_name='get_relevant_documents'))), args={'query': 'Who is Shayak?'}, rets=[Document(page_content='When Shayak started building production grade machine learning models for algorithmic trading 10 years ago, he realized the need for putting the ‘science’ back in ‘data science’. Since then, he has been building systems and leading research to make machine learning and big data systems more explainable, privacy compliant, and fair. Shayak’s research at Carnegie Mellon University introduced a number of pioneering breakthroughs to the field of explainable AI. Shayak obtained his PhD in Computer Science from Carnegie Mellon University and BTech in Computer Science from the Indian Institute of Technology, Delhi.', metadata={'source': 'https://truera.com/ai-quality-research'}), Document(page_content='When Shayak started building production grade machine learning models for algorithmic trading 10 years ago, he realized the need for putting the ‘science’ back in ‘data science’. Since then, he has been building systems and leading research to make machine learning and big data systems more explainable, privacy compliant, and fair. Shayak’s research at Carnegie Mellon University introduced a number of pioneering breakthroughs to the field of explainable AI. Shayak obtained his PhD in Computer Science from Carnegie Mellon University and BTech in Computer Science from the Indian Institute of Technology, Delhi.', metadata={'source': 'https://truera.com/ai-quality-leader'}), Document(page_content='Most recently, Shameek was Group Chief Data Officer at Standard Chartered Bank, where he helped the bank explore and adopt AI in multiple areas (e.g., credit, financial crime compliance, customer analytics, surveillance), and shaped the bank’s internal approach to responsible AI', metadata={'source': 'https://marketing.truera.com/webinar-eu-ai-law'}), Document(page_content='Shameek has spent most of his career in driving responsible adoption of data analytics/ AI in the financial services industry. Most recently, Shameek was Group Chief Data Officer at Standard Chartered Bank, where he helped the bank explore and adopt AI in multiple areas and shaped the bank’s internal approach to responsible AI. He plays an active role in the future of AI as a member of the Bank of England’s AI Public-Private Forum and the OECD Global Partnership on AI.', metadata={'source': 'https://marketing.truera.com/trustworthy-ai-podcast'})], error=None, start_time=datetime.datetime(2023, 6, 1, 17, 32, 35, 580326), end_time=datetime.datetime(2023, 6, 1, 17, 32, 36, 358462), pid=1827876, tid=1827959), RecordChainCall(chain_stack=(RecordChainCallMethod(path=JSONPath()._chain, method=MethodIdent(module_name='langchain.chains.conversational_retrieval.base', class_name='ConversationalRetrievalChain', method_name='_call')), RecordChainCallMethod(path=JSONPath()._chain.combine_docs_chain, method=MethodIdent(module_name='langchain.chains.combine_documents.stuff', class_name='StuffDocumentsChain', method_name='_call')), RecordChainCallMethod(path=JSONPath()._chain.question_generator, method=MethodIdent(module_name='langchain.chains.llm', class_name='LLMChain', method_name='_call'))), args={'inputs': {'question': 'Who is Shayak?', 'context': 'When Shayak started building production grade machine learning models for algorithmic trading 10 years ago, he realized the need for putting the ‘science’ back in ‘data science’. Since then, he has been building systems and leading research to make machine learning and big data systems more explainable, privacy compliant, and fair. Shayak’s research at Carnegie Mellon University introduced a number of pioneering breakthroughs to the field of explainable AI. Shayak obtained his PhD in Computer Science from Carnegie Mellon University and BTech in Computer Science from the Indian Institute of Technology, Delhi.\\n\\nWhen Shayak started building production grade machine learning models for algorithmic trading 10 years ago, he realized the need for putting the ‘science’ back in ‘data science’. Since then, he has been building systems and leading research to make machine learning and big data systems more explainable, privacy compliant, and fair. Shayak’s research at Carnegie Mellon University introduced a number of pioneering breakthroughs to the field of explainable AI. Shayak obtained his PhD in Computer Science from Carnegie Mellon University and BTech in Computer Science from the Indian Institute of Technology, Delhi.\\n\\nMost recently, Shameek was Group Chief Data Officer at Standard Chartered Bank, where he helped the bank explore and adopt AI in multiple areas (e.g., credit, financial crime compliance, customer analytics, surveillance), and shaped the bank’s internal approach to responsible AI\\n\\nShameek has spent most of his career in driving responsible adoption of data analytics/ AI in the financial services industry. Most recently, Shameek was Group Chief Data Officer at Standard Chartered Bank, where he helped the bank explore and adopt AI in multiple areas and shaped the bank’s internal approach to responsible AI. He plays an active role in the future of AI as a member of the Bank of England’s AI Public-Private Forum and the OECD Global Partnership on AI.'}}, rets={'text': ' Shayak is a computer scientist who obtained his PhD in Computer Science from Carnegie Mellon University and BTech in Computer Science from the Indian Institute of Technology, Delhi. He has been building systems and leading research to make machine learning and big data systems more explainable, privacy compliant, and fair for the past 10 years. He is also a member of the Bank of England’s AI Public-Private Forum and the OECD Global Partnership on AI.'}, error=None, start_time=datetime.datetime(2023, 6, 1, 17, 32, 36, 451163), end_time=datetime.datetime(2023, 6, 1, 17, 32, 45, 176014), pid=1827876, tid=1827959), RecordChainCall(chain_stack=(RecordChainCallMethod(path=JSONPath()._chain, method=MethodIdent(module_name='langchain.chains.conversational_retrieval.base', class_name='ConversationalRetrievalChain', method_name='_call')), RecordChainCallMethod(path=JSONPath()._chain.combine_docs_chain, method=MethodIdent(module_name='langchain.chains.combine_documents.stuff', class_name='StuffDocumentsChain', method_name='_call'))), args={'inputs': {'input_documents': [{'page_content': 'When Shayak started building production grade machine learning models for algorithmic trading 10 years ago, he realized the need for putting the ‘science’ back in ‘data science’. Since then, he has been building systems and leading research to make machine learning and big data systems more explainable, privacy compliant, and fair. Shayak’s research at Carnegie Mellon University introduced a number of pioneering breakthroughs to the field of explainable AI. Shayak obtained his PhD in Computer Science from Carnegie Mellon University and BTech in Computer Science from the Indian Institute of Technology, Delhi.', 'metadata': {'source': 'https://truera.com/ai-quality-research'}}, {'page_content': 'When Shayak started building production grade machine learning models for algorithmic trading 10 years ago, he realized the need for putting the ‘science’ back in ‘data science’. Since then, he has been building systems and leading research to make machine learning and big data systems more explainable, privacy compliant, and fair. Shayak’s research at Carnegie Mellon University introduced a number of pioneering breakthroughs to the field of explainable AI. Shayak obtained his PhD in Computer Science from Carnegie Mellon University and BTech in Computer Science from the Indian Institute of Technology, Delhi.', 'metadata': {'source': 'https://truera.com/ai-quality-leader'}}, {'page_content': 'Most recently, Shameek was Group Chief Data Officer at Standard Chartered Bank, where he helped the bank explore and adopt AI in multiple areas (e.g., credit, financial crime compliance, customer analytics, surveillance), and shaped the bank’s internal approach to responsible AI', 'metadata': {'source': 'https://marketing.truera.com/webinar-eu-ai-law'}}, {'page_content': 'Shameek has spent most of his career in driving responsible adoption of data analytics/ AI in the financial services industry. Most recently, Shameek was Group Chief Data Officer at Standard Chartered Bank, where he helped the bank explore and adopt AI in multiple areas and shaped the bank’s internal approach to responsible AI. He plays an active role in the future of AI as a member of the Bank of England’s AI Public-Private Forum and the OECD Global Partnership on AI.', 'metadata': {'source': 'https://marketing.truera.com/trustworthy-ai-podcast'}}], 'question': 'Who is Shayak?', 'chat_history': ''}}, rets={'output_text': ' Shayak is a computer scientist who obtained his PhD in Computer Science from Carnegie Mellon University and BTech in Computer Science from the Indian Institute of Technology, Delhi. He has been building systems and leading research to make machine learning and big data systems more explainable, privacy compliant, and fair for the past 10 years. He is also a member of the Bank of England’s AI Public-Private Forum and the OECD Global Partnership on AI.'}, error=None, start_time=datetime.datetime(2023, 6, 1, 17, 32, 36, 445323), end_time=datetime.datetime(2023, 6, 1, 17, 32, 45, 176170), pid=1827876, tid=1827959), RecordChainCall(chain_stack=(RecordChainCallMethod(path=JSONPath()._chain, method=MethodIdent(module_name='langchain.chains.conversational_retrieval.base', class_name='ConversationalRetrievalChain', method_name='_call')),), args={'inputs': {'question': 'Who is Shayak?', 'chat_history': ''}}, rets={'answer': ' Shayak is a computer scientist who obtained his PhD in Computer Science from Carnegie Mellon University and BTech in Computer Science from the Indian Institute of Technology, Delhi. He has been building systems and leading research to make machine learning and big data systems more explainable, privacy compliant, and fair for the past 10 years. He is also a member of the Bank of England’s AI Public-Private Forum and the OECD Global Partnership on AI.', 'source_documents': [Document(page_content='When Shayak started building production grade machine learning models for algorithmic trading 10 years ago, he realized the need for putting the ‘science’ back in ‘data science’. Since then, he has been building systems and leading research to make machine learning and big data systems more explainable, privacy compliant, and fair. Shayak’s research at Carnegie Mellon University introduced a number of pioneering breakthroughs to the field of explainable AI. Shayak obtained his PhD in Computer Science from Carnegie Mellon University and BTech in Computer Science from the Indian Institute of Technology, Delhi.', metadata={'source': 'https://truera.com/ai-quality-research'}), Document(page_content='When Shayak started building production grade machine learning models for algorithmic trading 10 years ago, he realized the need for putting the ‘science’ back in ‘data science’. Since then, he has been building systems and leading research to make machine learning and big data systems more explainable, privacy compliant, and fair. Shayak’s research at Carnegie Mellon University introduced a number of pioneering breakthroughs to the field of explainable AI. Shayak obtained his PhD in Computer Science from Carnegie Mellon University and BTech in Computer Science from the Indian Institute of Technology, Delhi.', metadata={'source': 'https://truera.com/ai-quality-leader'}), Document(page_content='Most recently, Shameek was Group Chief Data Officer at Standard Chartered Bank, where he helped the bank explore and adopt AI in multiple areas (e.g., credit, financial crime compliance, customer analytics, surveillance), and shaped the bank’s internal approach to responsible AI', metadata={'source': 'https://marketing.truera.com/webinar-eu-ai-law'}), Document(page_content='Shameek has spent most of his career in driving responsible adoption of data analytics/ AI in the financial services industry. Most recently, Shameek was Group Chief Data Officer at Standard Chartered Bank, where he helped the bank explore and adopt AI in multiple areas and shaped the bank’s internal approach to responsible AI. He plays an active role in the future of AI as a member of the Bank of England’s AI Public-Private Forum and the OECD Global Partnership on AI.', metadata={'source': 'https://marketing.truera.com/trustworthy-ai-podcast'})]}, error=None, start_time=datetime.datetime(2023, 6, 1, 17, 32, 35, 574823), end_time=datetime.datetime(2023, 6, 1, 17, 32, 45, 176388), pid=1827876, tid=1827959)], 'cost': Cost(n_tokens=545, cost=0.010900000000000002), 'chain_id': '0/default'}\n",
      ".✅ record record_hash_becd9df1d75d834b304bca7ef76f607c from 0/default -> default.sqlite\n",
      "⚡ feedback None on record_hash_becd9df1d75d834b304bca7ef76f607c -> default.sqlite\n",
      "⚡ feedback None on record_hash_becd9df1d75d834b304bca7ef76f607c -> default.sqlite\n",
      "⚡ feedback None on record_hash_becd9df1d75d834b304bca7ef76f607c -> default.sqlite\n",
      ".done.\n"
     ]
    },
    {
     "data": {
      "text/plain": [
       "0"
      ]
     },
     "execution_count": 3,
     "metadata": {},
     "output_type": "execute_result"
    }
   ],
   "source": [
    "selectors = [0,1,3,4]\n",
    "messages = [\"Who is Shayak?\", \"Wer ist Shayak?\", \"Kim jest Shayak?\", \"¿Quién es Shayak?\", \"Was ist QII?\", \"Co jest QII?\"]\n",
    "\n",
    "selectors = selectors[0:1]\n",
    "messages = messages[0:1]\n",
    "\n",
    "def test_bot(selector, question):\n",
    "    print(selector, question)\n",
    "    chain = get_or_make_chain(cid=question + str(selector), selector=selector)\n",
    "    answer = get_answer(chain=chain, question=question)\n",
    "    return answer\n",
    "\n",
    "results = []\n",
    "\n",
    "for s in selectors:\n",
    "    for m in messages:\n",
    "        results.append(TP().promise(test_bot, selector=s, question=m))\n",
    "\n",
    "TP().finish()"
   ]
  },
  {
   "cell_type": "markdown",
   "metadata": {},
   "source": [
    "# Local Model Testing"
   ]
  },
  {
   "cell_type": "code",
   "execution_count": null,
   "metadata": {},
   "outputs": [],
   "source": [
    "from langchain import ConversationChain, HuggingFacePipeline\n",
    "from transformers import LlamaTokenizer, LlamaForCausalLM, pipeline\n",
    "\n",
    "tokenizer = LlamaTokenizer.from_pretrained(\"chavinlo/alpaca-native\")\n",
    "\n",
    "base_model = LlamaForCausalLM.from_pretrained(\"chavinlo/alpaca-native\", device_map='auto')\n",
    "\n",
    "# Convert the model's parameters to a higher precision data type\n",
    "base_model = base_model.float()\n",
    "\n",
    "pipe = pipeline(\n",
    "    \"text-generation\",\n",
    "    model=base_model, \n",
    "    tokenizer=tokenizer, \n",
    "    max_length=256,\n",
    "    temperature=0.6,\n",
    "    top_p=0.95,\n",
    "    repetition_penalty=1.2\n",
    ")\n",
    "\n",
    "local_llm = HuggingFacePipeline(pipeline=pipe)\n",
    "\n",
    "# We are going to set the memory to go back 4 turns\n",
    "# window_memory = ConversationBufferWindowMemory(k=4)"
   ]
  },
  {
   "cell_type": "code",
   "execution_count": null,
   "metadata": {},
   "outputs": [],
   "source": [
    "conversation = ConversationChain(\n",
    "    llm=local_llm, \n",
    "    verbose=True\n",
    ")"
   ]
  },
  {
   "cell_type": "code",
   "execution_count": null,
   "metadata": {},
   "outputs": [],
   "source": [
    "# Setup some feedback functions.\n",
    "\n",
    "from trulens_eval import tru_feedback\n",
    "from trulens_eval.tru_db import Record\n",
    "import numpy as np\n",
    "\n",
    "hugs = tru_feedback.Huggingface()\n",
    "openai = tru_feedback.OpenAI()\n",
    "\n",
    "# Toxicity (of the response):\n",
    "f_toxic = tru_feedback.Feedback(hugs.not_toxic).on_response()\n",
    "\n",
    "# Language match (between prompt and response):\n",
    "f_lang_match = tru_feedback.Feedback(hugs.language_match).on(\n",
    "    text1=\"prompt\", text2=\"response\"\n",
    ")\n",
    "\n",
    "# Question to answer relevance:\n",
    "f_relevance = tru_feedback.Feedback(openai.relevance).on(\n",
    "    prompt=\"input\", response=\"output\"\n",
    ")\n",
    "\n",
    "# Question to context piece relevance:\n",
    "#f_qs_relevance = tru_feedback.Feedback(openai.qs_relevance).on(\n",
    "#    question=\"input\",\n",
    "#    statement=Record.chain.combine_docs_chain._call.args.inputs.input_documents\n",
    "#).on_multiple(\n",
    "#    multiarg=\"statement\", each_query=Record.page_content, agg=np.min\n",
    "#)\n",
    "\n",
    "feedbacks=[\n",
    "    # f_toxic, \n",
    "    f_lang_match, \n",
    "    # f_relevance, \n",
    "    # f_qs_relevance\n",
    "]"
   ]
  },
  {
   "cell_type": "code",
   "execution_count": null,
   "metadata": {},
   "outputs": [],
   "source": [
    "tc = Tru().Chain(conversation, chain_id=\"llama-7b-hf-convo\", feedbacks=feedbacks)"
   ]
  },
  {
   "cell_type": "code",
   "execution_count": null,
   "metadata": {},
   "outputs": [],
   "source": [
    "res, record = tc.call_with_record(\"What is the meaning of life?\")"
   ]
  },
  {
   "cell_type": "code",
   "execution_count": null,
   "metadata": {},
   "outputs": [],
   "source": [
    "res, record = tc.call_with_record(\"Who is Nora?\")"
   ]
  },
  {
   "attachments": {},
   "cell_type": "markdown",
   "metadata": {},
   "source": []
  }
 ],
 "metadata": {
  "kernelspec": {
   "display_name": "demo3",
   "language": "python",
   "name": "python3"
  },
  "language_info": {
   "codemirror_mode": {
    "name": "ipython",
    "version": 3
   },
   "file_extension": ".py",
   "mimetype": "text/x-python",
   "name": "python",
   "nbconvert_exporter": "python",
   "pygments_lexer": "ipython3",
   "version": "3.8.16"
  },
  "orig_nbformat": 4
 },
 "nbformat": 4,
 "nbformat_minor": 2
}
