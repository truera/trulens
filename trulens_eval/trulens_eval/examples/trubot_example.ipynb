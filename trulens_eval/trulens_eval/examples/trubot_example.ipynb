{
 "cells": [
  {
   "attachments": {},
   "cell_type": "markdown",
   "metadata": {},
   "source": [
    "# TruBot\n",
    "\n",
    "Example setup and monitoring of a conversational bot with context made up of the TruEra website."
   ]
  },
  {
   "cell_type": "code",
   "execution_count": 1,
   "metadata": {},
   "outputs": [
    {
     "data": {
      "text/plain": [
       "\"\\nimport logging\\nroot = logging.getLogger()\\nroot.setLevel(logging.DEBUG)\\n\\nhandler = logging.StreamHandler(sys.stdout)\\nhandler.setLevel(logging.DEBUG)\\nformatter = logging.Formatter('%(asctime)s - %(name)s - %(levelname)s - %(message)s')\\nhandler.setFormatter(formatter)\\nroot.addHandler(handler)\\n\""
      ]
     },
     "execution_count": 1,
     "metadata": {},
     "output_type": "execute_result"
    }
   ],
   "source": [
    "%load_ext autoreload\n",
    "%autoreload 2\n",
    "from pathlib import Path\n",
    "import sys\n",
    "\n",
    "# If running from repo, can use this:\n",
    "sys.path.append(str(Path().cwd().parent.parent.resolve()))\n",
    "\n",
    "# Uncomment for more debugging printouts.\n",
    "\"\"\"\n",
    "import logging\n",
    "root = logging.getLogger()\n",
    "root.setLevel(logging.DEBUG)\n",
    "\n",
    "handler = logging.StreamHandler(sys.stdout)\n",
    "handler.setLevel(logging.DEBUG)\n",
    "formatter = logging.Formatter('%(asctime)s - %(name)s - %(levelname)s - %(message)s')\n",
    "handler.setFormatter(formatter)\n",
    "root.addHandler(handler)\n",
    "\"\"\""
   ]
  },
  {
   "cell_type": "code",
   "execution_count": 2,
   "metadata": {},
   "outputs": [
    {
     "name": "stdout",
     "output_type": "stream",
     "text": [
      "KEY SET: OPENAI_API_KEY\n",
      "KEY SET: PINECONE_API_KEY\n",
      "KEY SET: PINECONE_ENV\n",
      "KEY SET: HUGGINGFACE_API_KEY\n",
      "KEY SET: SLACK_TOKEN\n",
      "KEY SET: SLACK_SIGNING_SECRET\n",
      "KEY SET: COHERE_API_KEY\n"
     ]
    },
    {
     "name": "stderr",
     "output_type": "stream",
     "text": [
      "/opt/homebrew/Caskroom/miniconda/base/envs/py38_trulens/lib/python3.8/site-packages/tqdm/auto.py:21: TqdmWarning: IProgress not found. Please update jupyter and ipywidgets. See https://ipywidgets.readthedocs.io/en/stable/user_install.html\n",
      "  from .autonotebook import tqdm as notebook_tqdm\n"
     ]
    }
   ],
   "source": [
    "from pprint import PrettyPrinter\n",
    "from typing import Sequence\n",
    "\n",
    "from IPython.display import JSON\n",
    "# imports from langchain to build app\n",
    "from langchain.chains import ConversationalRetrievalChain\n",
    "from langchain.chains import LLMChain\n",
    "from langchain.embeddings.openai import OpenAIEmbeddings\n",
    "from langchain.llms import OpenAI\n",
    "from langchain.memory import ConversationSummaryBufferMemory\n",
    "from langchain.prompts.chat import ChatPromptTemplate\n",
    "from langchain.prompts.chat import HumanMessagePromptTemplate\n",
    "from langchain.prompts.chat import PromptTemplate\n",
    "from langchain.vectorstores import DocArrayHnswSearch\n",
    "import numpy as np\n",
    "\n",
    "# Imports main tools:\n",
    "from trulens_eval import Feedback\n",
    "from trulens_eval import Huggingface\n",
    "from trulens_eval import Query\n",
    "from trulens_eval import Tru\n",
    "from trulens_eval import tru_feedback\n",
    "from trulens_eval import TruChain\n",
    "from trulens_eval.keys import *\n",
    "from trulens_eval.schema import Query\n",
    "from trulens_eval.tru_db import Record\n",
    "from trulens_eval.tru_feedback import Feedback\n",
    "from trulens_eval.tru_feedback import Huggingface\n",
    "from trulens_eval.util import Step\n",
    "from trulens_eval.utils.langchain import WithFeedbackFilterDocuments\n",
    "\n",
    "# if using Pinecone vectordb:\n",
    "# from langchain.vectorstores import Pinecone\n",
    "# import pinecone\n",
    "\n",
    "tru = Tru()\n",
    "pp = PrettyPrinter()\n",
    "\n",
    "tru.reset_database()"
   ]
  },
  {
   "cell_type": "code",
   "execution_count": 3,
   "metadata": {},
   "outputs": [
    {
     "name": "stderr",
     "output_type": "stream",
     "text": [
      "huggingface api: 0requests [00:00, ?requests/s]"
     ]
    }
   ],
   "source": [
    "model_name = \"gpt-3.5-turbo\"\n",
    "chain_id = \"TruBot\"\n",
    "\n",
    "# Pinecone configuration if using pinecone.\n",
    "# pinecone.init(\n",
    "#    api_key=PINECONE_API_KEY,  # find at app.pinecone.io\n",
    "#    environment=PINECONE_ENV  # next to api key in console\n",
    "#)\n",
    "#docsearch = Pinecone.from_existing_index(\n",
    "#    index_name=\"llmdemo\", embedding=embedding\n",
    "#)\n",
    "\n",
    "# LLM for completing prompts, and other tasks.\n",
    "llm = OpenAI(temperature=0, max_tokens=256)\n",
    "\n",
    "# Construct feedback functions.\n",
    "\n",
    "hugs = tru_feedback.Huggingface()\n",
    "openai = tru_feedback.OpenAI()\n",
    "\n",
    "# Language match between question/answer.\n",
    "f_lang_match = Feedback(hugs.language_match).on(\n",
    "    text1=Query.RecordInput, text2=Query.RecordOutput\n",
    ")\n",
    "\n",
    "# Question/answer relevance between overall question and answer.\n",
    "f_qa_relevance = Feedback(openai.relevance).on(\n",
    "    prompt=Query.RecordInput, response=Query.RecordOutput\n",
    ")\n",
    "\n",
    "# Question/statement relevance between question and each context chunk.\n",
    "f_qs_relevance = tru_feedback.Feedback(openai.qs_relevance).on(\n",
    "    question=Query.RecordInput,\n",
    "    statement=Query.Record.model.combine_docs_chain._call.args.inputs.\n",
    "    input_documents[:].page_content\n",
    ").aggregate(np.min)\n",
    "\n",
    "def new_conversation(\n",
    "    lang_prompt_fix: bool = False,\n",
    "    context_prompt_fix: bool = False,\n",
    "    context_filter_fix: bool = False,\n",
    "    feedbacks: Sequence[Feedback] = None\n",
    "):\n",
    "    \"\"\"\n",
    "    Create a chain for a new conversation (blank memory). Set flags to enable\n",
    "    adjustments to prompts or add context filtering.\n",
    "    \"\"\"\n",
    "    \n",
    "    assert not(lang_prompt_fix and context_prompt_fix), \"Cannot use both prompt fixes at the same time.\"\n",
    "\n",
    "    # Embedding needed for Pinecone vector db.\n",
    "    embedding = OpenAIEmbeddings(model='text-embedding-ada-002')  # 1536 dims\n",
    "\n",
    "    # Conversation memory.\n",
    "    memory = ConversationSummaryBufferMemory(\n",
    "        max_token_limit=650,\n",
    "        llm=llm,\n",
    "        memory_key=\"chat_history\",\n",
    "        output_key='answer'\n",
    "    )\n",
    "\n",
    "    # Pinecone alternative. Requires precomputed 'hnswlib_truera' folder.\n",
    "    docsearch = DocArrayHnswSearch.from_params(\n",
    "        embedding=embedding,\n",
    "        work_dir='hnswlib_trubot',\n",
    "        n_dim=1536,\n",
    "        max_elements=1024\n",
    "    )\n",
    "    retriever = docsearch.as_retriever()\n",
    "\n",
    "    # Better contexts fix, filter contexts with relevance:\n",
    "    if context_filter_fix: \n",
    "        retriever = WithFeedbackFilterDocuments.of_retriever(\n",
    "            retriever=retriever, feedback=f_qs_relevance, threshold = 0.5\n",
    "        )\n",
    "\n",
    "    # Conversational chain puts it all together.\n",
    "    chain = ConversationalRetrievalChain.from_llm(\n",
    "        llm=llm,\n",
    "        retriever=retriever,\n",
    "        return_source_documents=True,\n",
    "        memory=memory,\n",
    "        get_chat_history=lambda a: a,\n",
    "        max_tokens_limit=4096\n",
    "    )\n",
    "\n",
    "    # Need to copy these otherwise various chains will feature templates that\n",
    "    # point to the same objects.\n",
    "    chain.combine_docs_chain.llm_chain.prompt = \\\n",
    "        chain.combine_docs_chain.llm_chain.prompt.copy()\n",
    "    chain.combine_docs_chain.document_prompt = \\\n",
    "        chain.combine_docs_chain.document_prompt.copy()\n",
    "\n",
    "    # Language mismatch fix:\n",
    "    if lang_prompt_fix:\n",
    "        chain.combine_docs_chain.llm_chain.prompt.template = \\\n",
    "            \"Use the following pieces of context to answer the question at the end \" \\\n",
    "            \"in the same language as the question. If you don't know the answer, \" \\\n",
    "            \"just say that you don't know, don't try to make up an answer.\\n\\n\" \\\n",
    "            \"{context}\\n\\n\" \\\n",
    "            \"Question: {question}\\n\" \\\n",
    "            \"Helpful Answer: \"\n",
    "\n",
    "    # Poor contexts fix using prompts:\n",
    "    elif context_prompt_fix:\n",
    "        chain.combine_docs_chain.llm_chain.prompt.template = \\\n",
    "            \"Use only the relevant contexts to answer the question at the end \" \\\n",
    "            \". Some pieces of context may not be relevant. If you don't know the answer, \" \\\n",
    "            \"just say that you don't know, don't try to make up an answer.\\n\\n\" \\\n",
    "            \"Contexts: \\n{context}\\n\\n\" \\\n",
    "            \"Question: {question}\\n\" \\\n",
    "            \"Helpful Answer: \"\n",
    "        chain.combine_docs_chain.document_prompt.template = \"\\tContext: {page_content}\"\n",
    "\n",
    "    # Trulens instrumentation.\n",
    "    tc = Tru().Chain(chain=chain, feedbacks=feedbacks, verbose=True)\n",
    "\n",
    "    return tc"
   ]
  },
  {
   "cell_type": "code",
   "execution_count": 4,
   "metadata": {},
   "outputs": [
    {
     "name": "stdout",
     "output_type": "stream",
     "text": [
      "✅ chain chain_hash_dc4dc7ebd5cb44df31e1757f0b7f6c17 -> default.sqlite\n"
     ]
    }
   ],
   "source": [
    "# Instantiate a chain\n",
    "\n",
    "tc = new_conversation(\n",
    "    #feedbacks=[f_lang_match], # any feedbacks specified here will be executed automatically\n",
    "    context_filter_fix=True\n",
    ")"
   ]
  },
  {
   "cell_type": "code",
   "execution_count": 5,
   "metadata": {},
   "outputs": [],
   "source": [
    "# tc.dict()"
   ]
  },
  {
   "cell_type": "code",
   "execution_count": 6,
   "metadata": {},
   "outputs": [
    {
     "name": "stderr",
     "output_type": "stream",
     "text": []
    },
    {
     "name": "stdout",
     "output_type": "stream",
     "text": [
      "✅ record record_hash_06081d1caa00b748a55f247c2e69db7a from chain_hash_dc4dc7ebd5cb44df31e1757f0b7f6c17 -> default.sqlite\n"
     ]
    }
   ],
   "source": [
    "# Call the chain\n",
    "\n",
    "res, record = tc.call_with_record(\"Who is Shayak?\")"
   ]
  },
  {
   "cell_type": "code",
   "execution_count": 7,
   "metadata": {},
   "outputs": [
    {
     "data": {
      "text/plain": [
       "{'record_id': 'record_hash_06081d1caa00b748a55f247c2e69db7a',\n",
       " 'chain_id': 'chain_hash_dc4dc7ebd5cb44df31e1757f0b7f6c17',\n",
       " 'cost': {'n_tokens': 389, 'cost': 0.0077800000000000005},\n",
       " 'perf': {'start_time': datetime.datetime(2023, 6, 10, 20, 0, 15, 328914),\n",
       "  'end_time': datetime.datetime(2023, 6, 10, 20, 0, 23, 847941)},\n",
       " 'ts': datetime.datetime(2023, 6, 10, 20, 0, 23, 848057),\n",
       " 'tags': '',\n",
       " 'main_input': 'Who is Shayak?',\n",
       " 'main_output': ' Shayak is a computer scientist who obtained his PhD in Computer Science from Carnegie Mellon University and BTech in Computer Science from the Indian Institute of Technology, Delhi. He has been building production grade machine learning models for algorithmic trading for 10 years and has been leading research to make machine learning and big data systems more explainable, privacy compliant, and fair. His research at Carnegie Mellon University introduced a number of pioneering breakthroughs to the field of explainable AI.',\n",
       " 'main_error': 'None',\n",
       " 'calls': [{'chain_stack': ({'path': {'path': ({'item_or_attribute': 'model'},)},\n",
       "     'method': {'obj': {'cls': {'name': 'ConversationalRetrievalChain',\n",
       "        'module': {'package_name': 'langchain.chains.conversational_retrieval',\n",
       "         'module_name': 'langchain.chains.conversational_retrieval.base'},\n",
       "        'bases': None},\n",
       "       'id': 11124437392},\n",
       "      'name': '_call'}},\n",
       "    {'path': {'path': ({'item_or_attribute': 'model'},\n",
       "       {'item_or_attribute': 'retriever'})},\n",
       "     'method': {'obj': {'cls': {'name': 'WithFeedbackFilterDocuments',\n",
       "        'module': {'package_name': 'trulens_eval.utils',\n",
       "         'module_name': 'trulens_eval.utils.langchain'},\n",
       "        'bases': None},\n",
       "       'id': 11124352256},\n",
       "      'name': 'get_relevant_documents'}},\n",
       "    {'path': {'path': ({'item_or_attribute': 'model'},\n",
       "       {'item_or_attribute': 'retriever'})},\n",
       "     'method': {'obj': {'cls': {'name': 'WithFeedbackFilterDocuments',\n",
       "        'module': {'package_name': 'trulens_eval.utils',\n",
       "         'module_name': 'trulens_eval.utils.langchain'},\n",
       "        'bases': None},\n",
       "       'id': 11124352256},\n",
       "      'name': 'get_relevant_documents'}}),\n",
       "   'args': {'query': 'Who is Shayak?'},\n",
       "   'rets': [{'page_content': 'When Shayak started building production grade machine learning models for algorithmic trading 10 years ago, he realized the need for putting the ‘science’ back in ‘data science’. Since then, he has been building systems and leading research to make machine learning and big data systems more explainable, privacy compliant, and fair. Shayak’s research at Carnegie Mellon University introduced a number of pioneering breakthroughs to the field of explainable AI. Shayak obtained his PhD in Computer Science from Carnegie Mellon University and BTech in Computer Science from the Indian Institute of Technology, Delhi.',\n",
       "     'metadata': {'source': 'https://truera.com/ai-quality-leader/'}},\n",
       "    {'page_content': 'When Shayak started building production grade machine learning models for algorithmic trading 10 years ago, he realized the need for putting the ‘science’ back in ‘data science’. Since then, he has been building systems and leading research to make machine learning and big data systems more explainable, privacy compliant, and fair. Shayak’s research at Carnegie Mellon University introduced a number of pioneering breakthroughs to the field of explainable AI. Shayak obtained his PhD in Computer Science from Carnegie Mellon University and BTech in Computer Science from the Indian Institute of Technology, Delhi.',\n",
       "     'metadata': {'source': 'https://truera.com/ai-quality-research/'}},\n",
       "    {'page_content': 'Anupam is passionate about enabling responsible adoption of artificial intelligence. As a Professor of Electrical & Computer Engineering and Computer Science at Carnegie Mellon University for over a decade, he has led groundbreaking research in the areas of AI explainability and governance as well as privacy and data protection. Anupam obtained PhD and MS degrees from Stanford University and a BTech from the Indian Institute of Technology, Kharagpur, all in Computer Science.\\n\\nLinkedin\\n\\nShayak Sen',\n",
       "     'metadata': {'source': 'https://truera.com/ai-quality-leader/'}},\n",
       "    {'page_content': 'Most recently, Shameek was Group Chief Data Officer at Standard Chartered Bank, where he helped the bank explore and adopt AI in multiple areas (e.g., credit, financial crime compliance, customer analytics, surveillance), and shaped the bank’s internal approach to responsible AI',\n",
       "     'metadata': {'source': 'https://marketing.truera.com/webinar-eu-ai-law'}}],\n",
       "   'error': None,\n",
       "   'perf': {'start_time': datetime.datetime(2023, 6, 10, 20, 0, 15, 768854),\n",
       "    'end_time': datetime.datetime(2023, 6, 10, 20, 0, 16, 579528)},\n",
       "   'pid': 34345,\n",
       "   'tid': 3089498},\n",
       "  {'chain_stack': ({'path': {'path': ({'item_or_attribute': 'model'},)},\n",
       "     'method': {'obj': {'cls': {'name': 'ConversationalRetrievalChain',\n",
       "        'module': {'package_name': 'langchain.chains.conversational_retrieval',\n",
       "         'module_name': 'langchain.chains.conversational_retrieval.base'},\n",
       "        'bases': None},\n",
       "       'id': 11124437392},\n",
       "      'name': '_call'}},\n",
       "    {'path': {'path': ({'item_or_attribute': 'model'},\n",
       "       {'item_or_attribute': 'retriever'})},\n",
       "     'method': {'obj': {'cls': {'name': 'WithFeedbackFilterDocuments',\n",
       "        'module': {'package_name': 'trulens_eval.utils',\n",
       "         'module_name': 'trulens_eval.utils.langchain'},\n",
       "        'bases': None},\n",
       "       'id': 11124352256},\n",
       "      'name': 'get_relevant_documents'}}),\n",
       "   'args': {'query': 'Who is Shayak?'},\n",
       "   'rets': [{'page_content': 'When Shayak started building production grade machine learning models for algorithmic trading 10 years ago, he realized the need for putting the ‘science’ back in ‘data science’. Since then, he has been building systems and leading research to make machine learning and big data systems more explainable, privacy compliant, and fair. Shayak’s research at Carnegie Mellon University introduced a number of pioneering breakthroughs to the field of explainable AI. Shayak obtained his PhD in Computer Science from Carnegie Mellon University and BTech in Computer Science from the Indian Institute of Technology, Delhi.',\n",
       "     'metadata': {'source': 'https://truera.com/ai-quality-leader/'}},\n",
       "    {'page_content': 'When Shayak started building production grade machine learning models for algorithmic trading 10 years ago, he realized the need for putting the ‘science’ back in ‘data science’. Since then, he has been building systems and leading research to make machine learning and big data systems more explainable, privacy compliant, and fair. Shayak’s research at Carnegie Mellon University introduced a number of pioneering breakthroughs to the field of explainable AI. Shayak obtained his PhD in Computer Science from Carnegie Mellon University and BTech in Computer Science from the Indian Institute of Technology, Delhi.',\n",
       "     'metadata': {'source': 'https://truera.com/ai-quality-research/'}}],\n",
       "   'error': None,\n",
       "   'perf': {'start_time': datetime.datetime(2023, 6, 10, 20, 0, 15, 753315),\n",
       "    'end_time': datetime.datetime(2023, 6, 10, 20, 0, 20, 208559)},\n",
       "   'pid': 34345,\n",
       "   'tid': 3089498},\n",
       "  {'chain_stack': ({'path': {'path': ({'item_or_attribute': 'model'},)},\n",
       "     'method': {'obj': {'cls': {'name': 'ConversationalRetrievalChain',\n",
       "        'module': {'package_name': 'langchain.chains.conversational_retrieval',\n",
       "         'module_name': 'langchain.chains.conversational_retrieval.base'},\n",
       "        'bases': None},\n",
       "       'id': 11124437392},\n",
       "      'name': '_call'}},\n",
       "    {'path': {'path': ({'item_or_attribute': 'model'},\n",
       "       {'item_or_attribute': 'combine_docs_chain'})},\n",
       "     'method': {'obj': {'cls': {'name': 'StuffDocumentsChain',\n",
       "        'module': {'package_name': 'langchain.chains.combine_documents',\n",
       "         'module_name': 'langchain.chains.combine_documents.stuff'},\n",
       "        'bases': None},\n",
       "       'id': 11124358592},\n",
       "      'name': '_call'}},\n",
       "    {'path': {'path': ({'item_or_attribute': 'model'},\n",
       "       {'item_or_attribute': 'combine_docs_chain'},\n",
       "       {'item_or_attribute': 'llm_chain'})},\n",
       "     'method': {'obj': {'cls': {'name': 'LLMChain',\n",
       "        'module': {'package_name': 'langchain.chains',\n",
       "         'module_name': 'langchain.chains.llm'},\n",
       "        'bases': None},\n",
       "       'id': 11124358064},\n",
       "      'name': '_call'}}),\n",
       "   'args': {'inputs': {'question': 'Who is Shayak?',\n",
       "     'context': 'When Shayak started building production grade machine learning models for algorithmic trading 10 years ago, he realized the need for putting the ‘science’ back in ‘data science’. Since then, he has been building systems and leading research to make machine learning and big data systems more explainable, privacy compliant, and fair. Shayak’s research at Carnegie Mellon University introduced a number of pioneering breakthroughs to the field of explainable AI. Shayak obtained his PhD in Computer Science from Carnegie Mellon University and BTech in Computer Science from the Indian Institute of Technology, Delhi.\\n\\nWhen Shayak started building production grade machine learning models for algorithmic trading 10 years ago, he realized the need for putting the ‘science’ back in ‘data science’. Since then, he has been building systems and leading research to make machine learning and big data systems more explainable, privacy compliant, and fair. Shayak’s research at Carnegie Mellon University introduced a number of pioneering breakthroughs to the field of explainable AI. Shayak obtained his PhD in Computer Science from Carnegie Mellon University and BTech in Computer Science from the Indian Institute of Technology, Delhi.'}},\n",
       "   'rets': {'text': ' Shayak is a computer scientist who obtained his PhD in Computer Science from Carnegie Mellon University and BTech in Computer Science from the Indian Institute of Technology, Delhi. He has been building production grade machine learning models for algorithmic trading for 10 years and has been leading research to make machine learning and big data systems more explainable, privacy compliant, and fair. His research at Carnegie Mellon University introduced a number of pioneering breakthroughs to the field of explainable AI.'},\n",
       "   'error': None,\n",
       "   'perf': {'start_time': datetime.datetime(2023, 6, 10, 20, 0, 20, 317842),\n",
       "    'end_time': datetime.datetime(2023, 6, 10, 20, 0, 23, 846786)},\n",
       "   'pid': 34345,\n",
       "   'tid': 3089498},\n",
       "  {'chain_stack': ({'path': {'path': ({'item_or_attribute': 'model'},)},\n",
       "     'method': {'obj': {'cls': {'name': 'ConversationalRetrievalChain',\n",
       "        'module': {'package_name': 'langchain.chains.conversational_retrieval',\n",
       "         'module_name': 'langchain.chains.conversational_retrieval.base'},\n",
       "        'bases': None},\n",
       "       'id': 11124437392},\n",
       "      'name': '_call'}},\n",
       "    {'path': {'path': ({'item_or_attribute': 'model'},\n",
       "       {'item_or_attribute': 'combine_docs_chain'})},\n",
       "     'method': {'obj': {'cls': {'name': 'StuffDocumentsChain',\n",
       "        'module': {'package_name': 'langchain.chains.combine_documents',\n",
       "         'module_name': 'langchain.chains.combine_documents.stuff'},\n",
       "        'bases': None},\n",
       "       'id': 11124358592},\n",
       "      'name': '_call'}}),\n",
       "   'args': {'inputs': {'input_documents': [{'page_content': 'When Shayak started building production grade machine learning models for algorithmic trading 10 years ago, he realized the need for putting the ‘science’ back in ‘data science’. Since then, he has been building systems and leading research to make machine learning and big data systems more explainable, privacy compliant, and fair. Shayak’s research at Carnegie Mellon University introduced a number of pioneering breakthroughs to the field of explainable AI. Shayak obtained his PhD in Computer Science from Carnegie Mellon University and BTech in Computer Science from the Indian Institute of Technology, Delhi.',\n",
       "       'metadata': {'source': 'https://truera.com/ai-quality-leader/'}},\n",
       "      {'page_content': 'When Shayak started building production grade machine learning models for algorithmic trading 10 years ago, he realized the need for putting the ‘science’ back in ‘data science’. Since then, he has been building systems and leading research to make machine learning and big data systems more explainable, privacy compliant, and fair. Shayak’s research at Carnegie Mellon University introduced a number of pioneering breakthroughs to the field of explainable AI. Shayak obtained his PhD in Computer Science from Carnegie Mellon University and BTech in Computer Science from the Indian Institute of Technology, Delhi.',\n",
       "       'metadata': {'source': 'https://truera.com/ai-quality-research/'}}],\n",
       "     'question': 'Who is Shayak?',\n",
       "     'chat_history': ''}},\n",
       "   'rets': {'output_text': ' Shayak is a computer scientist who obtained his PhD in Computer Science from Carnegie Mellon University and BTech in Computer Science from the Indian Institute of Technology, Delhi. He has been building production grade machine learning models for algorithmic trading for 10 years and has been leading research to make machine learning and big data systems more explainable, privacy compliant, and fair. His research at Carnegie Mellon University introduced a number of pioneering breakthroughs to the field of explainable AI.'},\n",
       "   'error': None,\n",
       "   'perf': {'start_time': datetime.datetime(2023, 6, 10, 20, 0, 20, 302322),\n",
       "    'end_time': datetime.datetime(2023, 6, 10, 20, 0, 23, 847050)},\n",
       "   'pid': 34345,\n",
       "   'tid': 3089498},\n",
       "  {'chain_stack': ({'path': {'path': ({'item_or_attribute': 'model'},)},\n",
       "     'method': {'obj': {'cls': {'name': 'ConversationalRetrievalChain',\n",
       "        'module': {'package_name': 'langchain.chains.conversational_retrieval',\n",
       "         'module_name': 'langchain.chains.conversational_retrieval.base'},\n",
       "        'bases': None},\n",
       "       'id': 11124437392},\n",
       "      'name': '_call'}},),\n",
       "   'args': {'inputs': {'question': 'Who is Shayak?', 'chat_history': ''}},\n",
       "   'rets': {'answer': ' Shayak is a computer scientist who obtained his PhD in Computer Science from Carnegie Mellon University and BTech in Computer Science from the Indian Institute of Technology, Delhi. He has been building production grade machine learning models for algorithmic trading for 10 years and has been leading research to make machine learning and big data systems more explainable, privacy compliant, and fair. His research at Carnegie Mellon University introduced a number of pioneering breakthroughs to the field of explainable AI.',\n",
       "    'source_documents': [{'page_content': 'When Shayak started building production grade machine learning models for algorithmic trading 10 years ago, he realized the need for putting the ‘science’ back in ‘data science’. Since then, he has been building systems and leading research to make machine learning and big data systems more explainable, privacy compliant, and fair. Shayak’s research at Carnegie Mellon University introduced a number of pioneering breakthroughs to the field of explainable AI. Shayak obtained his PhD in Computer Science from Carnegie Mellon University and BTech in Computer Science from the Indian Institute of Technology, Delhi.',\n",
       "      'metadata': {'source': 'https://truera.com/ai-quality-leader/'}},\n",
       "     {'page_content': 'When Shayak started building production grade machine learning models for algorithmic trading 10 years ago, he realized the need for putting the ‘science’ back in ‘data science’. Since then, he has been building systems and leading research to make machine learning and big data systems more explainable, privacy compliant, and fair. Shayak’s research at Carnegie Mellon University introduced a number of pioneering breakthroughs to the field of explainable AI. Shayak obtained his PhD in Computer Science from Carnegie Mellon University and BTech in Computer Science from the Indian Institute of Technology, Delhi.',\n",
       "      'metadata': {'source': 'https://truera.com/ai-quality-research/'}}]},\n",
       "   'error': None,\n",
       "   'perf': {'start_time': datetime.datetime(2023, 6, 10, 20, 0, 15, 736936),\n",
       "    'end_time': datetime.datetime(2023, 6, 10, 20, 0, 23, 847343)},\n",
       "   'pid': 34345,\n",
       "   'tid': 3089498}]}"
      ]
     },
     "execution_count": 7,
     "metadata": {},
     "output_type": "execute_result"
    }
   ],
   "source": [
    "record.dict()"
   ]
  },
  {
   "cell_type": "code",
   "execution_count": 8,
   "metadata": {},
   "outputs": [
    {
     "name": "stderr",
     "output_type": "stream",
     "text": []
    }
   ],
   "source": [
    "# Evaluate a feedback function manually.\n",
    "\n",
    "fres = f_qs_relevance.run(chain=tc, record=record)"
   ]
  },
  {
   "cell_type": "code",
   "execution_count": 9,
   "metadata": {},
   "outputs": [
    {
     "name": "stdout",
     "output_type": "stream",
     "text": [
      "[{'args': {'question': 'Who is Shayak?',\n",
      "           'statement': 'When Shayak started building production grade machine '\n",
      "                        'learning models for algorithmic trading 10 years ago, '\n",
      "                        'he realized the need for putting the ‘science’ back '\n",
      "                        'in ‘data science’. Since then, he has been building '\n",
      "                        'systems and leading research to make machine learning '\n",
      "                        'and big data systems more explainable, privacy '\n",
      "                        'compliant, and fair. Shayak’s research at Carnegie '\n",
      "                        'Mellon University introduced a number of pioneering '\n",
      "                        'breakthroughs to the field of explainable AI. Shayak '\n",
      "                        'obtained his PhD in Computer Science from Carnegie '\n",
      "                        'Mellon University and BTech in Computer Science from '\n",
      "                        'the Indian Institute of Technology, Delhi.'},\n",
      "  'ret': 1.0},\n",
      " {'args': {'question': 'Who is Shayak?',\n",
      "           'statement': 'When Shayak started building production grade machine '\n",
      "                        'learning models for algorithmic trading 10 years ago, '\n",
      "                        'he realized the need for putting the ‘science’ back '\n",
      "                        'in ‘data science’. Since then, he has been building '\n",
      "                        'systems and leading research to make machine learning '\n",
      "                        'and big data systems more explainable, privacy '\n",
      "                        'compliant, and fair. Shayak’s research at Carnegie '\n",
      "                        'Mellon University introduced a number of pioneering '\n",
      "                        'breakthroughs to the field of explainable AI. Shayak '\n",
      "                        'obtained his PhD in Computer Science from Carnegie '\n",
      "                        'Mellon University and BTech in Computer Science from '\n",
      "                        'the Indian Institute of Technology, Delhi.'},\n",
      "  'ret': 1.0}]\n"
     ]
    }
   ],
   "source": [
    "from trulens_eval.util import json_str_of_obj\n",
    "from trulens_eval.util import jsonify\n",
    "\n",
    "pp.pprint(list(c.dict() for c in fres.calls))"
   ]
  },
  {
   "cell_type": "code",
   "execution_count": 10,
   "metadata": {},
   "outputs": [
    {
     "name": "stderr",
     "output_type": "stream",
     "text": []
    }
   ],
   "source": [
    "ress = tru.run_feedback_functions(record=record, feedback_functions=[f_qs_relevance])"
   ]
  },
  {
   "cell_type": "code",
   "execution_count": 11,
   "metadata": {},
   "outputs": [
    {
     "data": {
      "text/plain": [
       "{'feedback_result_id': 'feedback_result_hash_cce3c029211f0f67025fdd20f102ad2c',\n",
       " 'record_id': 'record_hash_06081d1caa00b748a55f247c2e69db7a',\n",
       " 'chain_id': 'chain_hash_dc4dc7ebd5cb44df31e1757f0b7f6c17',\n",
       " 'feedback_definition_id': 'feedback_definition_hash_d7f11346030683ccf302a042362b5c0f',\n",
       " 'last_ts': datetime.datetime(2023, 6, 10, 20, 1, 2, 565799),\n",
       " 'status': <FeedbackResultStatus.DONE: 'done'>,\n",
       " 'cost': {'n_tokens': 0, 'cost': 0.0},\n",
       " 'tags': '',\n",
       " 'name': 'qs_relevance',\n",
       " 'calls': [{'args': {'question': 'Who is Shayak?',\n",
       "    'statement': 'When Shayak started building production grade machine learning models for algorithmic trading 10 years ago, he realized the need for putting the ‘science’ back in ‘data science’. Since then, he has been building systems and leading research to make machine learning and big data systems more explainable, privacy compliant, and fair. Shayak’s research at Carnegie Mellon University introduced a number of pioneering breakthroughs to the field of explainable AI. Shayak obtained his PhD in Computer Science from Carnegie Mellon University and BTech in Computer Science from the Indian Institute of Technology, Delhi.'},\n",
       "   'ret': 1.0},\n",
       "  {'args': {'question': 'Who is Shayak?',\n",
       "    'statement': 'When Shayak started building production grade machine learning models for algorithmic trading 10 years ago, he realized the need for putting the ‘science’ back in ‘data science’. Since then, he has been building systems and leading research to make machine learning and big data systems more explainable, privacy compliant, and fair. Shayak’s research at Carnegie Mellon University introduced a number of pioneering breakthroughs to the field of explainable AI. Shayak obtained his PhD in Computer Science from Carnegie Mellon University and BTech in Computer Science from the Indian Institute of Technology, Delhi.'},\n",
       "   'ret': 1.0}],\n",
       " 'result': 1.0,\n",
       " 'error': None}"
      ]
     },
     "metadata": {},
     "output_type": "display_data"
    }
   ],
   "source": [
    "for res in ress:\n",
    "    display(res.dict())"
   ]
  },
  {
   "cell_type": "code",
   "execution_count": null,
   "metadata": {},
   "outputs": [],
   "source": []
  }
 ],
 "metadata": {
  "kernelspec": {
   "display_name": "demo3",
   "language": "python",
   "name": "python3"
  },
  "language_info": {
   "codemirror_mode": {
    "name": "ipython",
    "version": 3
   },
   "file_extension": ".py",
   "mimetype": "text/x-python",
   "name": "python",
   "nbconvert_exporter": "python",
   "pygments_lexer": "ipython3",
   "version": "3.8.16"
  },
  "orig_nbformat": 4
 },
 "nbformat": 4,
 "nbformat_minor": 2
}
