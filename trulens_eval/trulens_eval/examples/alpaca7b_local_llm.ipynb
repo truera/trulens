{
  "cells": [
    {
      "cell_type": "markdown",
      "metadata": {},
      "source": [
        "# Local LLM (Alpaca7B) with TruLens\n",
        "\n",
        "In this example, we'll load Alpaca7B from huggingface and run inferences locally, and use langchain as our framework to hold the different parts of our application (conversation memory, the llm, prompt templates, etc.). We'll use prompt templates to prime the model to be a gardening expert and ask questions about gardening that rely on past prompts.\n",
        "\n",
        "We will also track the quality of this model using TruLens. As we get further in the conversation, we may run into issues which we can identify and debug."
      ]
    },
    {
      "cell_type": "code",
      "execution_count": null,
      "metadata": {},
      "outputs": [],
      "source": [
        "'''\n",
        "!pip3 install torch\n",
        "!pip -q install git+https://github.com/huggingface/transformers # need to install from github\n",
        "!pip install -q datasets loralib sentencepiece \n",
        "!pip -q install bitsandbytes accelerate\n",
        "!pip -q install langchain\n",
        "!pip install xformers\n",
        "!pip install trulens-eval\n",
        "'''"
      ]
    },
    {
      "cell_type": "code",
      "execution_count": 2,
      "metadata": {},
      "outputs": [],
      "source": [
        "from transformers import LlamaTokenizer, LlamaForCausalLM, GenerationConfig, pipeline\n",
        "from langchain.llms import HuggingFacePipeline\n",
        "from langchain import PromptTemplate, LLMChain\n",
        "import openai\n",
        "import torch\n",
        "from trulens_eval.tru import Tru\n",
        "from trulens_eval import tru_chain\n",
        "from trulens_eval.tru_feedback import Feedback\n",
        "from trulens_eval.tru_feedback import OpenAI as Feedback_OpenAI\n",
        "tru = Tru()"
      ]
    },
    {
      "cell_type": "markdown",
      "metadata": {},
      "source": [
        "## Create Feedback Function\n",
        "\n",
        "The first thing we should do is define the qualities of our model we care about. In this case, we primarily care if the statement returned by the LLM is relevant to the user's query. We'll use OpenAI to set up a feedback function for query-statement relevance. Make sure to add your own openai API key!"
      ]
    },
    {
      "cell_type": "code",
      "execution_count": 3,
      "metadata": {},
      "outputs": [
        {
          "data": {
            "application/vnd.jupyter.widget-view+json": {
              "model_id": "9a88c3a63f34458090ed28c894493c4e",
              "version_major": 2,
              "version_minor": 0
            },
            "text/plain": [
              "openai api: 0requests [00:00, ?requests/s]"
            ]
          },
          "metadata": {},
          "output_type": "display_data"
        }
      ],
      "source": [
        "import os\n",
        "os.environ[\"OPENAI_API_KEY\"] = \"...\"\n",
        "feedback_openai = Feedback_OpenAI()\n",
        "qs_relevance = Feedback(feedback_openai.qs_relevance).on(question='input', statement = 'response')"
      ]
    },
    {
      "cell_type": "markdown",
      "metadata": {
        "id": "UhauDrynY0cj"
      },
      "source": [
        "## Loading Alpaca7B\n",
        "\n",
        "Here we're loading a Alpaca7B using HuggingFacePipeline's from_model_id. Alpaca7B has similar performance to OpenAI's text-davinci-003, but can be run locally on your own machine."
      ]
    },
    {
      "cell_type": "code",
      "execution_count": 18,
      "metadata": {
        "colab": {
          "base_uri": "https://localhost:8080/",
          "height": 81
        },
        "id": "jllBMgfD-IpL",
        "outputId": "5e55a354-ef8d-42e8-f814-c15a04b8582f"
      },
      "outputs": [
        {
          "data": {
            "application/vnd.jupyter.widget-view+json": {
              "model_id": "be1998b31d2546c7831051f104ab5c6c",
              "version_major": 2,
              "version_minor": 0
            },
            "text/plain": [
              "Loading checkpoint shards:   0%|          | 0/3 [00:00<?, ?it/s]"
            ]
          },
          "metadata": {},
          "output_type": "display_data"
        }
      ],
      "source": [
        "from langchain import HuggingFacePipeline\n",
        "\n",
        "local_llm = HuggingFacePipeline.from_model_id(model_id=\"chavinlo/alpaca-native\",\n",
        "    task=\"text-generation\",\n",
        "    model_kwargs={\"temperature\":0.6, \"top_p\":0.95, \"max_length\":256})"
      ]
    },
    {
      "cell_type": "markdown",
      "metadata": {
        "id": "hb5iT0OMqISl"
      },
      "source": [
        "## Setting up a Chat with memory\n",
        "\n",
        "It's also important for our AI assistant to have memory of the things we tell it. That way it can give information that is most relevant to our location, conditions, etc. and feels more like we are talking to a human.\n",
        "\n",
        "First we'll set up our AI assistant to remember up to 4 turns in our conversation using ConversationBufferWindowMemory.\n",
        "\n",
        "Then we'll update our prompt template to prime it as a gardening expert.\n",
        "\n",
        "Last, we'll wrap it with truchain. You'll notice that this results in our first logs of the chain itself along with the feedback definition."
      ]
    },
    {
      "cell_type": "code",
      "execution_count": 5,
      "metadata": {
        "id": "seS9A42Em8Hf"
      },
      "outputs": [
        {
          "name": "stdout",
          "output_type": "stream",
          "text": [
            "✅ chain GardeningAIwithMemory_v1 -> default.sqlite\n",
            "✅ feedback def. feedback_hash_8ecafff2a89d22bff8ce000bee0ff73d -> default.sqlite\n"
          ]
        }
      ],
      "source": [
        "from langchain.chains import ConversationChain\n",
        "from langchain.chains.conversation.memory import ConversationBufferWindowMemory\n",
        "\n",
        "# set the window memory to go back 4 turns\n",
        "window_memory = ConversationBufferWindowMemory(k=4)\n",
        "\n",
        "# create the conversation chain with the given window memory\n",
        "conversation = ConversationChain(\n",
        "    llm=local_llm, \n",
        "    verbose=True, \n",
        "    memory=window_memory\n",
        ")\n",
        "\n",
        "# update the conversation prompt template to prime it as a gardening expert\n",
        "conversation.prompt.template = '''The following is a friendly conversation between a human and an AI gardening expert. The AI is an expert on gardening and gives recommendations specific to location and conditions. If the AI does not know the answer to a question, it truthfully says it does not know. \n",
        "\n",
        "Current conversation:\n",
        "{history}\n",
        "Human: {input}\n",
        "AI:'''\n",
        "\n",
        "# wrap with truchain to instrument it\n",
        "tc_conversation = tru_chain.TruChain(conversation, chain_id='GardeningAIwithMemory_v1', tru = tru, feedbacks=[qs_relevance])"
      ]
    },
    {
      "cell_type": "markdown",
      "metadata": {},
      "source": [
        "Now that we've set up our chain, we can make the first call and ask our AI gardening assistant a question!\n",
        "\n",
        "While this takes a bit of time to run on our local machine, it's nonetheless pretty impressive that we can run such a high quality LLM locally."
      ]
    },
    {
      "cell_type": "code",
      "execution_count": 6,
      "metadata": {
        "id": "yBcJQ6_Vn97h"
      },
      "outputs": [
        {
          "name": "stdout",
          "output_type": "stream",
          "text": [
            "\n",
            "\n",
            "\u001b[1m> Entering new ConversationChain chain...\u001b[0m\n"
          ]
        },
        {
          "name": "stderr",
          "output_type": "stream",
          "text": [
            "/Users/jreini/opt/anaconda3/envs/torch/lib/python3.11/site-packages/transformers/generation/utils.py:1255: UserWarning: You have modified the pretrained model configuration to control generation. This is a deprecated strategy to control generation and will be removed soon, in a future version. Please use a generation configuration file (see https://huggingface.co/docs/transformers/main_classes/text_generation)\n",
            "  warnings.warn(\n",
            "/Users/jreini/opt/anaconda3/envs/torch/lib/python3.11/site-packages/transformers/generation/utils.py:1349: UserWarning: Using `max_length`'s default (256) to control the generation length. This behaviour is deprecated and will be removed from the config in v5 of Transformers -- we recommend using `max_new_tokens` to control the maximum length of the generation.\n",
            "  warnings.warn(\n"
          ]
        },
        {
          "name": "stdout",
          "output_type": "stream",
          "text": [
            "\n",
            "\u001b[1m> Finished chain.\u001b[0m\n"
          ]
        },
        {
          "data": {
            "text/plain": [
              "{'input': 'I live in the pacific northwest, what can I plant in my outside garden?',\n",
              " 'history': '',\n",
              " 'response': ' You can plant a variety of things in your outdoor garden in the Pacific Northwest. Some good choices include perennials such as hostas, daylilies, and astilbes; shrubs such as rhododendrons, salal, and mahonia; and annuals such as marigolds, petunias, and impatiens. You can also grow herbs such as rosemary, thyme, and sage.'}"
            ]
          },
          "metadata": {},
          "output_type": "display_data"
        }
      ],
      "source": [
        "# make the first call to our AI gardening assistant!\n",
        "response, record = tc_conversation.call_with_record(\"I live in the pacific northwest, what can I plant in my outside garden?\")\n",
        "display(response)"
      ]
    },
    {
      "cell_type": "code",
      "execution_count": 7,
      "metadata": {
        "id": "2Konke2xn-Av"
      },
      "outputs": [
        {
          "name": "stdout",
          "output_type": "stream",
          "text": [
            "✅ record record_hash_b1a69ab6163994fc3e3d4dc74665b8ce from GardeningAIwithMemory_v1 -> default.sqlite\n",
            "\n",
            "\n",
            "\u001b[1m> Entering new ConversationChain chain...\u001b[0m\n",
            "✅ feedback feedback_hash_8ecafff2a89d22bff8ce000bee0ff73d on record_hash_b1a69ab6163994fc3e3d4dc74665b8ce -> default.sqlite\n",
            "\n",
            "\u001b[1m> Finished chain.\u001b[0m\n"
          ]
        },
        {
          "data": {
            "text/plain": [
              "{'input': 'What kind of birds am I most likely to see?',\n",
              " 'history': 'Human: I live in the pacific northwest, what can I plant in my outside garden?\\nAI:  You can plant a variety of things in your outdoor garden in the Pacific Northwest. Some good choices include perennials such as hostas, daylilies, and astilbes; shrubs such as rhododendrons, salal, and mahonia; and annuals such as marigolds, petunias, and impatiens. You can also grow herbs such as rosemary, thyme, and sage.',\n",
              " 'response': ' You are likely to see a variety of birds in your outdoor garden, such as robins, blue jays, cardinals, hummingbirds, and sparrows.'}"
            ]
          },
          "metadata": {},
          "output_type": "display_data"
        },
        {
          "name": "stdout",
          "output_type": "stream",
          "text": [
            "✅ record record_hash_59bfc72a0d32cae370b3510ea12c41a1 from GardeningAIwithMemory_v1 -> default.sqlite\n"
          ]
        }
      ],
      "source": [
        "# continue the conversation!\n",
        "response, record = tc_conversation.call_with_record(\"What kind of birds am I most likely to see?\")\n",
        "display(response)"
      ]
    },
    {
      "cell_type": "code",
      "execution_count": 8,
      "metadata": {},
      "outputs": [
        {
          "name": "stdout",
          "output_type": "stream",
          "text": [
            "\n",
            "\n",
            "\u001b[1m> Entering new ConversationChain chain...\u001b[0m\n",
            "✅ feedback feedback_hash_8ecafff2a89d22bff8ce000bee0ff73d on record_hash_59bfc72a0d32cae370b3510ea12c41a1 -> default.sqlite\n"
          ]
        },
        {
          "name": "stderr",
          "output_type": "stream",
          "text": [
            "Input length of input_ids is 271, but `max_length` is set to 256. This can lead to unexpected behavior. You should consider increasing `max_new_tokens`.\n"
          ]
        },
        {
          "name": "stdout",
          "output_type": "stream",
          "text": [
            "\n",
            "\u001b[1m> Finished chain.\u001b[0m\n"
          ]
        },
        {
          "data": {
            "text/plain": [
              "{'input': 'Thanks! Blue Jays would be awesome, what kind of bird feeder should I get to attract them?',\n",
              " 'history': 'Human: I live in the pacific northwest, what can I plant in my outside garden?\\nAI:  You can plant a variety of things in your outdoor garden in the Pacific Northwest. Some good choices include perennials such as hostas, daylilies, and astilbes; shrubs such as rhododendrons, salal, and mahonia; and annuals such as marigolds, petunias, and impatiens. You can also grow herbs such as rosemary, thyme, and sage.\\nHuman: What kind of birds am I most likely to see?\\nAI:  You are likely to see a variety of birds in your outdoor garden, such as robins, blue jays, cardinals, hummingbirds, and sparrows.',\n",
              " 'response': ' '}"
            ]
          },
          "metadata": {},
          "output_type": "display_data"
        }
      ],
      "source": [
        "# keep it up!\n",
        "response, record = tc_conversation.call_with_record(\"Thanks! Blue Jays would be awesome, what kind of bird feeder should I get to attract them?\")\n",
        "display(response)"
      ]
    },
    {
      "cell_type": "markdown",
      "metadata": {},
      "source": [
        "Oh, looks like something is going wrong and our LLM stopped responding usefully. Let's run the trulens dashboard to explore what the issue might be."
      ]
    },
    {
      "cell_type": "code",
      "execution_count": 9,
      "metadata": {},
      "outputs": [
        {
          "name": "stdout",
          "output_type": "stream",
          "text": [
            "✅ record record_hash_2716543b3abc6c1b3c822011f8c5e65d from GardeningAIwithMemory_v1 -> default.sqlite\n",
            "huggingface/tokenizers: The current process just got forked, after parallelism has already been used. Disabling parallelism to avoid deadlocks...\n",
            "To disable this warning, you can either:\n",
            "\t- Avoid using `tokenizers` before the fork if possible\n",
            "\t- Explicitly set the environment variable TOKENIZERS_PARALLELISM=(true | false)\n"
          ]
        },
        {
          "data": {
            "text/plain": [
              "<Popen: returncode: None args: ['streamlit', 'run', '--server.headless=True'...>"
            ]
          },
          "execution_count": 9,
          "metadata": {},
          "output_type": "execute_result"
        }
      ],
      "source": [
        "tru.run_dashboard()"
      ]
    },
    {
      "cell_type": "markdown",
      "metadata": {},
      "source": [
        "Exploring the dashboard, we found that quality degraded on the third call to the LLM. We've also hypothesized that there may be a conflict between our max token limit of the LLM and the 4 turn window memory."
      ]
    },
    {
      "cell_type": "code",
      "execution_count": 21,
      "metadata": {},
      "outputs": [
        {
          "name": "stdout",
          "output_type": "stream",
          "text": [
            "✅ chain GardeningAIwithMemory_v2 -> default.sqlite\n",
            "✅ feedback def. feedback_hash_8ecafff2a89d22bff8ce000bee0ff73d -> default.sqlite\n"
          ]
        }
      ],
      "source": [
        "from langchain import HuggingFacePipeline\n",
        "\n",
        "local_llm = HuggingFacePipeline.from_model_id(model_id=\"chavinlo/alpaca-native\",\n",
        "    task=\"text-generation\",\n",
        "    model_kwargs={\"temperature\":0.6, \"top_p\":0.95, \"max_length\":400})\n",
        "\n",
        "from langchain.memory import ConversationTokenBufferMemory\n",
        "\n",
        "# Instead of window memory, let's use token memory to match the model token limit\n",
        "token_memory = ConversationTokenBufferMemory(llm = local_llm, max_token_limit=400)\n",
        "\n",
        "conversation = ConversationChain(\n",
        "    llm=local_llm, \n",
        "    verbose=True, \n",
        "    memory=token_memory\n",
        ")\n",
        "\n",
        "# wrap with truchain to instrument your chain\n",
        "tc_conversation = tru_chain.TruChain(conversation, chain_id='GardeningAIwithMemory_v2', tru = tru, feedbacks=[qs_relevance])"
      ]
    },
    {
      "cell_type": "code",
      "execution_count": 22,
      "metadata": {},
      "outputs": [
        {
          "name": "stdout",
          "output_type": "stream",
          "text": [
            "\n",
            "\n",
            "\u001b[1m> Entering new ConversationChain chain...\u001b[0m\n",
            "\n",
            "\u001b[1m> Finished chain.\u001b[0m\n"
          ]
        },
        {
          "data": {
            "text/plain": [
              "{'input': 'What kind of pests I should worry about?',\n",
              " 'history': '',\n",
              " 'response': ' You should be aware of a variety of pests, such as ants, bees, wasps, flies, mosquitoes, and spiders. Depending on the region you live in, you may also need to protect your home from termites, rodents, or other pests.'}"
            ]
          },
          "metadata": {},
          "output_type": "display_data"
        },
        {
          "name": "stdout",
          "output_type": "stream",
          "text": [
            "✅ record record_hash_1e7b2ec56c41237b0fc22c674647b183 from GardeningAIwithMemory_v2 -> default.sqlite"
          ]
        }
      ],
      "source": [
        "response, record = tc_conversation.call_with_record(\"What kind of pests I should worry about?\")\n",
        "display(response)"
      ]
    },
    {
      "cell_type": "code",
      "execution_count": 23,
      "metadata": {},
      "outputs": [
        {
          "name": "stdout",
          "output_type": "stream",
          "text": [
            "\n",
            "\n",
            "\n",
            "\u001b[1m> Entering new ConversationChain chain...\u001b[0m\n",
            "✅ feedback feedback_hash_8ecafff2a89d22bff8ce000bee0ff73d on record_hash_1e7b2ec56c41237b0fc22c674647b183 -> default.sqlite\n",
            "\n",
            "\u001b[1m> Finished chain.\u001b[0m\n"
          ]
        },
        {
          "data": {
            "text/plain": [
              "{'input': 'What kind of flowers will grow best in the northeast US?',\n",
              " 'history': 'Human: What kind of pests I should worry about?\\nAI:  You should be aware of a variety of pests, such as ants, bees, wasps, flies, mosquitoes, and spiders. Depending on the region you live in, you may also need to protect your home from termites, rodents, or other pests.',\n",
              " 'response': '  Some of the best flowers to grow in the northeast US are daisies, petunias, pansies, lavender, and hostas.'}"
            ]
          },
          "metadata": {},
          "output_type": "display_data"
        }
      ],
      "source": [
        "response, record = tc_conversation.call_with_record(\"What kind of flowers will grow best in the northeast US?\")\n",
        "display(response)"
      ]
    },
    {
      "cell_type": "code",
      "execution_count": 24,
      "metadata": {},
      "outputs": [
        {
          "name": "stdout",
          "output_type": "stream",
          "text": [
            "\n",
            "\n",
            "\u001b[1m> Entering new ConversationChain chain...\u001b[0m\n",
            "✅ feedback feedback_hash_8ecafff2a89d22bff8ce000bee0ff73d on record_hash_dc6187f4595134490dd675fadfa6a33e -> default.sqlite\n",
            "\n",
            "\u001b[1m> Finished chain.\u001b[0m\n"
          ]
        },
        {
          "data": {
            "text/plain": [
              "{'input': 'What is the typical soil make-up in gardens in my area?',\n",
              " 'history': 'Human: What kind of pests I should worry about?\\nAI:  You should be aware of a variety of pests, such as ants, bees, wasps, flies, mosquitoes, and spiders. Depending on the region you live in, you may also need to protect your home from termites, rodents, or other pests.\\nHuman: What kind of flowers will grow best in the northeast US?\\nAI:   Some of the best flowers to grow in the northeast US are daisies, petunias, pansies, lavender, and hostas.',\n",
              " 'response': '  The typical soil make-up in gardens in your area is mostly clay with a few layers of topsoil. It is important to amend the soil with compost and other organic materials to ensure healthy plant growth.'}"
            ]
          },
          "metadata": {},
          "output_type": "display_data"
        },
        {
          "name": "stdout",
          "output_type": "stream",
          "text": [
            "✅ record record_hash_225ab49b5e731c4795b3a4ff9d406cb6 from GardeningAIwithMemory_v2 -> default.sqlite\n"
          ]
        }
      ],
      "source": [
        "response, record = tc_conversation.call_with_record(\"What is the typical soil make-up in gardens in my area?\")\n",
        "display(response)"
      ]
    },
    {
      "cell_type": "code",
      "execution_count": 25,
      "metadata": {},
      "outputs": [
        {
          "name": "stdout",
          "output_type": "stream",
          "text": [
            "\n",
            "\n",
            "\u001b[1m> Entering new ConversationChain chain...\u001b[0m\n",
            "\n",
            "\u001b[1m> Finished chain.\u001b[0m\n"
          ]
        },
        {
          "data": {
            "text/plain": [
              "{'input': \"I'd like to grow a large tree in my backyard. Any recommendations that work well with the soil?\",\n",
              " 'history': 'Human: What kind of pests I should worry about?\\nAI:  You should be aware of a variety of pests, such as ants, bees, wasps, flies, mosquitoes, and spiders. Depending on the region you live in, you may also need to protect your home from termites, rodents, or other pests.\\nHuman: What kind of flowers will grow best in the northeast US?\\nAI:   Some of the best flowers to grow in the northeast US are daisies, petunias, pansies, lavender, and hostas.\\nHuman: What is the typical soil make-up in gardens in my area?\\nAI:   The typical soil make-up in gardens in your area is mostly clay with a few layers of topsoil. It is important to amend the soil with compost and other organic materials to ensure healthy plant growth.',\n",
              " 'response': '  Yes, some of the best trees to grow in clay soil are oaks, maples, and pines. These trees have deep roots that can help to improve the soil structure and drainage. You can also add organic compost to the soil to help the tree get established and provide nutrients.'}"
            ]
          },
          "metadata": {},
          "output_type": "display_data"
        },
        {
          "name": "stdout",
          "output_type": "stream",
          "text": [
            "✅ record record_hash_d662eee14839a487e0a2f74a02150ec6 from GardeningAIwithMemory_v2 -> default.sqlite\n"
          ]
        },
        {
          "name": "stdout",
          "output_type": "stream",
          "text": [
            "✅ feedback feedback_hash_8ecafff2a89d22bff8ce000bee0ff73d on record_hash_d662eee14839a487e0a2f74a02150ec6 -> default.sqlite\n"
          ]
        }
      ],
      "source": [
        "response, record = tc_conversation.call_with_record(\"I'd like to grow a large tree in my backyard. Any recommendations that work well with the soil?\")\n",
        "display(response)"
      ]
    },
    {
      "cell_type": "code",
      "execution_count": 27,
      "metadata": {},
      "outputs": [
        {
          "name": "stdout",
          "output_type": "stream",
          "text": [
            "\n",
            "\n",
            "\u001b[1m> Entering new ConversationChain chain...\u001b[0m\n",
            "\n",
            "\u001b[1m> Finished chain.\u001b[0m\n"
          ]
        },
        {
          "data": {
            "text/plain": [
              "{'input': 'What other garden improvements should I make to complement these tree recommendations?',\n",
              " 'history': \"Human: What kind of pests I should worry about?\\nAI:  You should be aware of a variety of pests, such as ants, bees, wasps, flies, mosquitoes, and spiders. Depending on the region you live in, you may also need to protect your home from termites, rodents, or other pests.\\nHuman: What kind of flowers will grow best in the northeast US?\\nAI:   Some of the best flowers to grow in the northeast US are daisies, petunias, pansies, lavender, and hostas.\\nHuman: What is the typical soil make-up in gardens in my area?\\nAI:   The typical soil make-up in gardens in your area is mostly clay with a few layers of topsoil. It is important to amend the soil with compost and other organic materials to ensure healthy plant growth.\\nHuman: I'd like to grow a large tree in my backyard. Any recommendations that work well with the soil?\\nAI:   Yes, some of the best trees to grow in clay soil are oaks, maples, and pines. These trees have deep roots that can help to improve the soil structure and drainage. You can also add organic compost to the soil to help the tree get established and provide nutrients.\",\n",
              " 'response': '  To complement the tree recommendations, you should also consider adding a layer of mulch to help'}"
            ]
          },
          "metadata": {},
          "output_type": "display_data"
        },
        {
          "name": "stdout",
          "output_type": "stream",
          "text": [
            "✅ record record_hash_d0f0658a2694da1f07ead591ba6464a8 from GardeningAIwithMemory_v2 -> default.sqlite\n",
            "✅ feedback feedback_hash_8ecafff2a89d22bff8ce000bee0ff73d on record_hash_d0f0658a2694da1f07ead591ba6464a8 -> default.sqlite\n"
          ]
        }
      ],
      "source": [
        "response, record = tc_conversation.call_with_record(\"What other garden improvements should I make to complement these tree recommendations?\")\n",
        "display(response)"
      ]
    },
    {
      "cell_type": "markdown",
      "metadata": {},
      "source": [
        "Our AI assistant now no longer runs out of tokens in memory. Wahoo!"
      ]
    }
  ],
  "metadata": {
    "accelerator": "TPU",
    "colab": {
      "machine_shape": "hm",
      "provenance": []
    },
    "gpuClass": "premium",
    "kernelspec": {
      "display_name": "Python 3.11.3 ('torch')",
      "language": "python",
      "name": "python3"
    },
    "language_info": {
      "codemirror_mode": {
        "name": "ipython",
        "version": 3
      },
      "file_extension": ".py",
      "mimetype": "text/x-python",
      "name": "python",
      "nbconvert_exporter": "python",
      "pygments_lexer": "ipython3",
      "version": "3.11.3"
    },
    "vscode": {
      "interpreter": {
        "hash": "d5737f6101ac92451320b0e41890107145710b89f85909f3780d702e7818f973"
      }
    }
  },
  "nbformat": 4,
  "nbformat_minor": 0
}
