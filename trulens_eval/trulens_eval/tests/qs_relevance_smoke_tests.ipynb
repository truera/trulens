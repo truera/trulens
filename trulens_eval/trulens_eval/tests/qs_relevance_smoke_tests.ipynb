{
 "cells": [
  {
   "cell_type": "markdown",
   "metadata": {},
   "source": [
    "## QS Relevance Feedback Requirements\n",
    "1. Relevance requires adherence to the entire query.\n",
    "2. Context that provides no answer can still be relevant.\n",
    "3. Feedback mechanism should differentiate between seeming and actual relevance.\n",
    "4. Relevant but inconclusive statements should get increasingly high scores as they are more helpful for answering the query."
   ]
  },
  {
   "cell_type": "code",
   "execution_count": null,
   "metadata": {},
   "outputs": [],
   "source": [
    "import os\n",
    "os.environ[\"OPENAI_API_KEY\"] = \"...\""
   ]
  },
  {
   "cell_type": "code",
   "execution_count": null,
   "metadata": {},
   "outputs": [],
   "source": [
    "# Imports main tools:\n",
    "from trulens_eval.feedback import OpenAI\n",
    "openai = OpenAI()\n",
    "relevance = openai.qs_relevance"
   ]
  },
  {
   "cell_type": "markdown",
   "metadata": {},
   "source": [
    "## Relevance requires adherence to the entire query."
   ]
  },
  {
   "cell_type": "code",
   "execution_count": null,
   "metadata": {},
   "outputs": [],
   "source": [
    "score = relevance(\"Name some famous dental floss brands\",\"Oral-B is an American brand of oral hygiene products, including toothpastes, toothbrushes, electric toothbrushes, and mouthwashes. The brand has been in business since the invention of the Hutson toothbrush in 1950 and in Redwood City, California.\")\n",
    "assert score >= 0.2, f\"Score of {score} < 0.2. Statement is relevant to at least some of query.\""
   ]
  },
  {
   "cell_type": "code",
   "execution_count": null,
   "metadata": {},
   "outputs": [],
   "source": [
    "score = relevance(\"Name some famous dental floss brands?\",\"Some key companies operating in the dental floss market include Procter & Gamble; Colgate-Palmolive Company; Johnson & Johnson Services, Inc.; Prestige Consumer Healthcare, Inc.; Dr. Fresh, LLC; Lion Corporation; Church & Dwight Co., Inc.; Shantou Oral Health Co. Ltd; Water Pik, Inc.; and The Humble Co.\")\n",
    "assert score >= 0.5, f\"Score of {score} < 0.5. Statement is relevant to most of query.\"\n",
    "assert score <= 0.8, f\"Score of {score} > 0.8. Statement is not relevant to all of query.\""
   ]
  },
  {
   "cell_type": "code",
   "execution_count": null,
   "metadata": {},
   "outputs": [],
   "source": [
    "score = relevance(\"How does the social structure of a lion pride impact the genetic diversity and long-term survival of the species?\",\"A typical pride of lions consists of about six related females, their dependent offspring, and a “coalition” of 2–3 resident males that joined the pride from elsewhere. The pride is a “fission-fusion” society and pridemates are seldom found together, except for mothers that have pooled their offspring into a “crèche.”\")\n",
    "assert score >= 0.5, f\"Score of {score} < 0.5. Statement is relevant to most of query.\"\n",
    "assert score <= 0.8, f\"Score of {score} > 0.8. Statement is not relevant to all of query.\""
   ]
  },
  {
   "cell_type": "markdown",
   "metadata": {},
   "source": [
    "## Context that provides no answer can still be relevant."
   ]
  },
  {
   "cell_type": "code",
   "execution_count": null,
   "metadata": {},
   "outputs": [],
   "source": [
    "score = relevance(\"How many countries are there in the world?\", \"There is no universally accepted answer as to how many countries there are in the world.\")\n",
    "assert score >= 0.5, f\"Score of {score} < 0.5. Relevant context without definitive answer did not get a score of >= 0.5\""
   ]
  },
  {
   "cell_type": "code",
   "execution_count": null,
   "metadata": {},
   "outputs": [],
   "source": [
    "score = relevance(\"What is the meaning of life?\", \"No one can tell the actual definition of the meaning of life. For some, it is all about happiness, building a family, and leading life as it is. For some, it is about accumulating wealth, whereas, for some, it is all about love.\")\n",
    "assert score >= 0.5, f\"Score of {score} < 0.5. Relevant context without definitive answer did not get a score of >= 0.5\""
   ]
  },
  {
   "cell_type": "code",
   "execution_count": null,
   "metadata": {},
   "outputs": [],
   "source": [
    "score = relevance(\"What came first, the chicken or the egg?\", \"Some scientists say that eggs are much older than chickens, and that eggs were layed by dinosaurs. Others say that the formulation of egg shells relies on a protein found only in a chicken's ovaries.\")\n",
    "assert score >= 0.5, f\"Score of {score} < 0.5. Relevant context without definitive answer did not get a score of >= 0.5\""
   ]
  },
  {
   "cell_type": "markdown",
   "metadata": {},
   "source": [
    "## Feedback score should differentiate between seeming and actual relevance."
   ]
  },
  {
   "cell_type": "code",
   "execution_count": null,
   "metadata": {},
   "outputs": [],
   "source": [
    "seemingly_relevant_score = relevance(\"Who won the superbowl in 2009?\", \"The Pheonix Suns won the Superbowl in 2009\")\n",
    "relevant_score = relevance(\"Who won the superbowl in 2009?\", \"The Pittsburgh Steelers won the Superbowl in 2009\")\n",
    "assert seemingly_relevant_score < relevant_score, f\"Failed to differentiate seeming and actual relevance.\""
   ]
  },
  {
   "cell_type": "code",
   "execution_count": null,
   "metadata": {},
   "outputs": [],
   "source": [
    "seemingly_relevant_score = relevance(\"What is a cephalopod?\", \"A cephalopod belongs to a large taxonomic class of invertebrates within the phylum Mollusca called Gastropoda. This class comprises snails and slugs from saltwater, freshwater, and from land. There are many thousands of species of sea snails and slugs, as well as freshwater snails, freshwater limpets, and land snails and slugs.\")\n",
    "relevant_score = relevance(\"What is a cephalopod?\", \"A cephalopod is any member of the molluscan class Cephalopoda such as a squid, octopus, cuttlefish, or nautilus. These exclusively marine animals are characterized by bilateral body symmetry, a prominent head, and a set of arms or tentacles (muscular hydrostats) modified from the primitive molluscan foot. Fishers sometimes call cephalopods 'inkfish referring to their common ability to squirt ink.\")\n",
    "assert seemingly_relevant_score < relevant_score, f\"Failed to differentiate seeming and actual relevance.\""
   ]
  },
  {
   "cell_type": "markdown",
   "metadata": {},
   "source": [
    "## Relevant but inconclusive statements should get increasingly high scores as they are more helpful for answering the query."
   ]
  },
  {
   "cell_type": "code",
   "execution_count": null,
   "metadata": {},
   "outputs": [],
   "source": [
    "score_low = relevance(\"Who won the superbowl in 2009?\",\"Santonio Holmes made a brilliant catch for the Steelers.\")\n",
    "score_medium = relevance(\"Who won the superbowl in 2009?\",\"Santonio Holmes made a brilliant catch for the Steelers in the superbowl.\")\n",
    "score_high = relevance(\"Who won the superbowl in 2009?\",\"Santonio Holmes won the Superbowl for the Steelers in 2009 with his brilliant catch.\")\n",
    "assert (score_low < score_medium) & (score_medium < score_high), \"Score did not increase with more relevant details.\""
   ]
  },
  {
   "cell_type": "code",
   "execution_count": null,
   "metadata": {},
   "outputs": [],
   "source": [
    "score_low = relevance(\"What is a cephalopod?\",\"Squids are a member of the molluscan class\")\n",
    "score_medium = relevance(\"What is a cephalopod?\",\"Squids are a member of the molluscan class characterized by bilateral body symmetry, a prominent head, and a set of arms or tentacles (muscular hydrostats) modified from the primitive molluscan foot.\")\n",
    "score_high = relevance(\"What is a cephalopod?\",\"A cephalopod is any member of the molluscan class such as squid, octopus or cuttlefish. These exclusively marine animals are characterized by bilateral body symmetry, a prominent head, and a set of arms or tentacles (muscular hydrostats) modified from the primitive molluscan foot.\")\n",
    "assert (score_low < score_medium) & (score_medium < score_high), \"Score did not increase with more relevant details.\""
   ]
  }
 ],
 "metadata": {
  "kernelspec": {
   "display_name": "Python 3.11.3 ('pinecone_example')",
   "language": "python",
   "name": "python3"
  },
  "language_info": {
   "codemirror_mode": {
    "name": "ipython",
    "version": 3
   },
   "file_extension": ".py",
   "mimetype": "text/x-python",
   "name": "python",
   "nbconvert_exporter": "python",
   "pygments_lexer": "ipython3",
   "version": "3.11.3"
  },
  "orig_nbformat": 4,
  "vscode": {
   "interpreter": {
    "hash": "c68aa9cfa264c12f07062d08edcac5e8f20877de71ce1cea15160e4e8ae95e66"
   }
  }
 },
 "nbformat": 4,
 "nbformat_minor": 2
}
