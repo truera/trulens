{
 "cells": [
  {
   "cell_type": "markdown",
   "metadata": {},
   "source": [
    "## QS Relevance Feedback Requirements\n",
    "1. Relevance requires adherence to the entire query.\n",
    "2. Context that provides no answer can still be relevant.\n",
    "3. Feedback mechanism should differentiate between seeming and actual relevance.\n",
    "4. Relevant but inconclusive statements should get increasingly high scores as they are more helpful for answering the query."
   ]
  },
  {
   "cell_type": "code",
   "execution_count": 1,
   "metadata": {},
   "outputs": [],
   "source": [
    "import os\n",
    "os.environ[\"OPENAI_API_KEY\"] = \"...\""
   ]
  },
  {
   "cell_type": "code",
   "execution_count": 2,
   "metadata": {},
   "outputs": [],
   "source": [
    "# Imports main tools:\n",
    "from trulens_eval.feedback import OpenAI\n",
    "openai = OpenAI()\n",
    "relevance = openai.qs_relevance"
   ]
  },
  {
   "cell_type": "markdown",
   "metadata": {},
   "source": [
    "## Relevance requires adherence to the entire query."
   ]
  },
  {
   "cell_type": "code",
   "execution_count": 3,
   "metadata": {},
   "outputs": [],
   "source": [
    "def test_low_adherence_short():\n",
    "    score = relevance(\"How many stomachs does a cow have?\",\"Cows' diet relies primarily on grazing.\")\n",
    "    assert score >= 0.2, f\"Score of {score} < 0.2. Statement is relevant to at least some of query.\""
   ]
  },
  {
   "cell_type": "code",
   "execution_count": 4,
   "metadata": {},
   "outputs": [],
   "source": [
    "def test_low_adherence_medium():\n",
    "    score = relevance(\"\"\"Name some famous dental floss brands\",\"Oral-B is an American brand of oral hygiene products, \n",
    "        including toothpastes, toothbrushes, electric toothbrushes, and mouthwashes. \n",
    "        The brand has been in business since the invention of the Hutson toothbrush in 1950 and in Redwood City, California.\"\"\")\n",
    "    assert score >= 0.2, f\"Score of {score} < 0.2. Statement is relevant to at least some of query.\""
   ]
  },
  {
   "cell_type": "code",
   "execution_count": null,
   "metadata": {},
   "outputs": [],
   "source": [
    "def test_low_adherence_long():\n",
    "    score = relevance(\"Name some famous dental floss brands\",\"\"\"BlockingIOErrorTypes of floss and alternative options. Dental floss is regarded as the gold standard — it’s been around the longest compared to other plaque-removing products, Hewlett said. \n",
    "    Moursi also added that most flossing research studies have been conducted with dental floss, so there’s a lot of data showing its effectiveness. But floss is not one-size-fits-all, \n",
    "    he noted. Since using dental floss is difficult for some, there are other effective tools like interdental cleaners. Below, we broke down \n",
    "    the differences among several different options. Dental floss When people think of dental floss, it’s usually the threaded variety that comes on a spool. \n",
    "    But there’s also dental tape, which Hewlett described as a wider and flatter type of floss. He said it's particularly useful for \n",
    "    people with larger spaces between their teeth since it covers more surface area. Both forms of floss come in unflavored or flavored varieties, \n",
    "    but choosing a flavored option has no impact on how well it cleans your teeth, Hewlett said. Flosses also come waxed and unwaxed — \n",
    "    while a wax coating can make floss pass between teeth more easily, Hewitt said, both waxed and unwaxed are equally effective when used properly. \n",
    "    Floss picks Floss picks are similarly effective when compared to thread floss, experts said. The picks look like a wand and have a small piece \n",
    "    of floss at the forked end, so you can grip the handle while using the tool. Experts said floss picks are generally easy to use, especially if\n",
    "    you’re flossing a child’s teeth. Water flossers Water flossers are powered devices that shoot pressurized water at the spaces between teeth, \n",
    "    targeting debris to disrupt and flush out plaque. While there is evidence to support their ability to remove plaque from teeth, Moursi\n",
    "    said for water flossers to do their job, “you have to hold it in just the right place, at just the right angle and for just the right\n",
    "    amount of time,” which can be challenging. Anyone can use water flossers, but experts said they’re the most beneficial for people who\n",
    "    have difficulty using thread floss or floss threaders, as well as those with certain dental work like braces, bridges and crowns. \n",
    "    Interdental brushes Dental work like braces, bridges and crowns can block floss from slipping between teeth, making flossing challenging.\n",
    "    Interdental brushes — which look like little spoolie brushes — can pass through the spaces between teeth and under any dental work,\n",
    "    allowing you to remove plaque. The brushes have bristles on one end and a handle to grip on the other. To use, you point the brush at\n",
    "    the gum line between teeth and push it through, moving the bristles around the space to remove plaque, said Hewlett. \n",
    "    The brushes come in various shapes and sizes to fit the spaces between your teeth.\"\"\")\n",
    "    assert score >= 0.2, f\"Score of {score} < 0.2. Statement is relevant to at least some of query.\""
   ]
  },
  {
   "cell_type": "code",
   "execution_count": 5,
   "metadata": {},
   "outputs": [],
   "source": [
    "def test_majority_adherence_short():\n",
    "    score = relevance(\"Name some famous dental floss brands?\",\"Some key companies operating in the dental floss market include Colgate and Water Pik.\")\n",
    "    assert score >= 0.5, f\"Score of {score} < 0.5. Statement is relevant to most of query.\"\n",
    "    assert score <= 0.8, f\"Score of {score} > 0.8. Statement is not relevant to all of query.\""
   ]
  },
  {
   "cell_type": "code",
   "execution_count": 6,
   "metadata": {},
   "outputs": [],
   "source": [
    "def test_majority_adherence_medium():\n",
    "    score = relevance(\"How does the social structure of a lion pride impact the genetic diversity and long-term survival of the species?\",\"\"\"A typical pride of lions consists of about six related females, their dependent offspring, and a “coalition” \n",
    "    of 2–3 resident males that joined the pride from elsewhere. The pride is a “fission-fusion” society and\n",
    "    pridemates are seldom found together, except for mothers that have pooled their offspring into a “crèche.”\"\"\")\n",
    "    assert score >= 0.5, f\"Score of {score} < 0.5. Statement is relevant to most of query.\"\n",
    "    assert score <= 0.8, f\"Score of {score} > 0.8. Statement is not relevant to all of query.\""
   ]
  },
  {
   "cell_type": "code",
   "execution_count": null,
   "metadata": {},
   "outputs": [],
   "source": [
    "def test_majority_adherence_long():\n",
    "    #TODO\n",
    "    pass"
   ]
  },
  {
   "cell_type": "code",
   "execution_count": null,
   "metadata": {},
   "outputs": [],
   "source": [
    "def test_complete_adherence_short():\n",
    "    #TODO\n",
    "    pass"
   ]
  },
  {
   "cell_type": "code",
   "execution_count": null,
   "metadata": {},
   "outputs": [],
   "source": [
    "def test_complete_adherence_medium():\n",
    "    #TODO\n",
    "    pass"
   ]
  },
  {
   "cell_type": "code",
   "execution_count": null,
   "metadata": {},
   "outputs": [],
   "source": [
    "def test_complete_adherence_long():\n",
    "    #TODO\n",
    "    pass"
   ]
  },
  {
   "cell_type": "markdown",
   "metadata": {},
   "source": [
    "## Context that provides no answer can still be relevant."
   ]
  },
  {
   "cell_type": "code",
   "execution_count": 7,
   "metadata": {},
   "outputs": [],
   "source": [
    "def test_nonanswer_short():\n",
    "    score = relevance(\"How many countries are there in the world?\", \"There is no universally accepted answer to how many countries there are in the world.\")\n",
    "    assert score >= 0.5, f\"Score of {score} < 0.5. Relevant context without definitive answer did not get a score of >= 0.5\""
   ]
  },
  {
   "cell_type": "code",
   "execution_count": 8,
   "metadata": {},
   "outputs": [],
   "source": [
    "def test_nonanswer_med():\n",
    "    score = relevance(\"\"\"What is the meaning of life?\", \"No one can tell the actual definition of the meaning of life.\n",
    "    For some, it is all about happiness, building a family, and leading life as it is. For some, it is about accumulating wealth, whereas,\n",
    "    for some, it is all about love.\"\"\")\n",
    "    assert score >= 0.5, f\"Score of {score} < 0.5. Relevant context without definitive answer did not get a score of >= 0.5\""
   ]
  },
  {
   "cell_type": "code",
   "execution_count": 9,
   "metadata": {},
   "outputs": [],
   "source": [
    "def test_nonanswer_long():\n",
    "    score = relevance(\"What came first, the chicken or the egg?\",\"\"\"Eggs come from chickens and chickens come from eggs: that’s the basis of this ancient riddle. But eggs – which are just female sex cells – evolved more than a billion years ago, whereas chickens have been around for just 10,000 years. So the riddle is easily solved…or is it?\n",
    "\n",
    "Taken at face value, there is no doubt that the egg came before the chicken. We tend to think of eggs as the shelled orbs laid by birds from which their chicks hatch – unless we eat them first. But all sexually reproducing species make eggs (the specialised female sex cells). That’s 99.99 per cent of all eukaryotic life – meaning organisms that have cells with a nucleus, so all animals and plants, and everything but the simplest life forms.\n",
    "\n",
    "We don’t know for sure when sex evolved but it could have been as much as 2 billion years ago, and certainly more than 1 billion. Even the specialised sort of eggs laid by birds, with their tough outer membrane, evolved more than 300 million years ago.\n",
    "\n",
    "As for chickens, they came into being much later. They are domesticated animals, so evolved as the result of humans purposefully selecting the least aggressive wild birds and letting them breed. This seems to have happened in several places independently, starting around 10,000 years ago.\n",
    "\n",
    "The wild ancestor of chickens is generally agreed to be a tropical bird still living in the forests of Southeast Asia called the red junglefowl –  with other junglefowl species possibly adding to the genetic mix. From these origins, humans have carried chickens around the world over the past two millennia or more.\n",
    "\n",
    "So, eggs dramatically predate chickens. But to be fair to the spirit of the riddle, we should also consider whether a chicken’s egg predates a chicken. As humans consistently chose the tamest red junglefowls and bred them together, the genetic makeup of the resulting birds will have shifted. At some stage during this domestication process the red junglefowl (Gallus gallus) evolved into a new subspecies, Gallus gallus domesticus, AKA the chicken.\n",
    "\n",
    "In practice, it is impossible to pinpoint the moment when this happened. But in theory, at some point two junglefowl bred and their offspring was genetically different enough from the species of its parents to be classified as a chicken. This chicken would have developed within a junglefowl egg and only produced the very first chicken’s egg on reaching maturity. Looked at this way, the chicken came first.\n",
    "\n",
    "\"\"\"\n",
    ")\n",
    "    assert score >= 0.5, f\"Score of {score} < 0.5. Relevant context without definitive answer did not get a score of >= 0.5\""
   ]
  },
  {
   "cell_type": "markdown",
   "metadata": {},
   "source": [
    "## Feedback score should differentiate between seeming and actual relevance."
   ]
  },
  {
   "cell_type": "code",
   "execution_count": 10,
   "metadata": {},
   "outputs": [],
   "source": [
    "def test_seeming_relevance_short():\n",
    "    seemingly_relevant_score = relevance(\"Who won the superbowl in 2009?\", \"The Pheonix Suns won the Superbowl in 2009\")\n",
    "    relevant_score = relevance(\"Who won the superbowl in 2009?\", \"The Pittsburgh Steelers won the Superbowl in 2009\")\n",
    "    assert seemingly_relevant_score < relevant_score, f\"Failed to differentiate seeming and actual relevance.\""
   ]
  },
  {
   "cell_type": "code",
   "execution_count": 11,
   "metadata": {},
   "outputs": [],
   "source": [
    "def test_seeming_relevance_medium():\n",
    "    seemingly_relevant_score = relevance(\"What is a cephalopod?\", \"\"\"A cephalopod belongs to a large taxonomic class of \n",
    "    invertebrates within the phylum Mollusca called Gastropoda. This class comprises snails and slugs from saltwater, freshwater, \n",
    "    and from land. There are many thousands of species of sea snails and slugs, as well as freshwater snails, freshwater limpets, \n",
    "    and land snails and slugs.\"\"\")\n",
    "    relevant_score = relevance(\"What is a cephalopod?\", \"A cephalopod is any member of the molluscan class Cephalopoda such as a squid, octopus, cuttlefish, or nautilus. These exclusively marine animals are characterized by bilateral body symmetry, a prominent head, and a set of arms or tentacles (muscular hydrostats) modified from the primitive molluscan foot. Fishers sometimes call cephalopods 'inkfish referring to their common ability to squirt ink.\")\n",
    "    assert seemingly_relevant_score < relevant_score, f\"Failed to differentiate seeming and actual relevance.\""
   ]
  },
  {
   "cell_type": "code",
   "execution_count": null,
   "metadata": {},
   "outputs": [],
   "source": [
    "def test_seening_relevance_long():\n",
    "    #TODO\n",
    "    pass"
   ]
  },
  {
   "cell_type": "markdown",
   "metadata": {},
   "source": [
    "## Relevant but inconclusive statements should get increasingly high scores as they are more helpful for answering the query."
   ]
  },
  {
   "cell_type": "code",
   "execution_count": 12,
   "metadata": {},
   "outputs": [],
   "source": [
    "def test_increasing_relevance_short():\n",
    "    score_low = relevance(\"Who won the superbowl in 2009?\",\"Santonio Holmes made a brilliant catch for the Steelers.\")\n",
    "    score_medium = relevance(\"Who won the superbowl in 2009?\",\"Santonio Holmes made a brilliant catch for the Steelers in the superbowl.\")\n",
    "    score_high = relevance(\"Who won the superbowl in 2009?\",\"Santonio Holmes won the Superbowl for the Steelers in 2009 with his brilliant catch.\")\n",
    "    assert (score_low < score_medium) & (score_medium < score_high), \"Score did not increase with more relevant details.\""
   ]
  },
  {
   "cell_type": "code",
   "execution_count": 13,
   "metadata": {},
   "outputs": [],
   "source": [
    "def test_increasing_relevance_medium():\n",
    "    score_low = relevance(\"What is a cephalopod?\",\"Squids are a member of the molluscan class\")\n",
    "    score_medium = relevance(\"What is a cephalopod?\",\"Squids are a member of the molluscan class characterized by bilateral body symmetry, a prominent head, and a set of arms or tentacles (muscular hydrostats) modified from the primitive molluscan foot.\")\n",
    "    score_high = relevance(\"What is a cephalopod?\",\"A cephalopod is any member of the molluscan class such as squid, octopus or cuttlefish. These exclusively marine animals are characterized by bilateral body symmetry, a prominent head, and a set of arms or tentacles (muscular hydrostats) modified from the primitive molluscan foot.\")\n",
    "    assert (score_low < score_medium) & (score_medium < score_high), \"Score did not increase with more relevant details.\""
   ]
  },
  {
   "cell_type": "code",
   "execution_count": null,
   "metadata": {},
   "outputs": [],
   "source": [
    "def test_increasing_relevance_long():\n",
    "    #TODO\n",
    "    pass"
   ]
  },
  {
   "cell_type": "markdown",
   "metadata": {},
   "source": [
    "## Run smoke tests"
   ]
  },
  {
   "cell_type": "code",
   "execution_count": null,
   "metadata": {},
   "outputs": [],
   "source": [
    "def run_smoke_tests():\n",
    "    smoke_tests = [test_addition, test_subtraction, test_multiplication, test_division]\n",
    "    for i, test in enumerate(smoke_tests):\n",
    "        try:\n",
    "            test()\n",
    "            print(f\"Test {i+1}/{len(smoke_tests)} passed.\")\n",
    "        except AssertionError as e:\n",
    "            print(f\"Test {i+1}/{len(smoke_tests)} failed: {e}\")\n",
    "\n",
    "run_smoke_tests()"
   ]
  }
 ],
 "metadata": {
  "kernelspec": {
   "display_name": "Python 3.11.4 ('agent_example')",
   "language": "python",
   "name": "python3"
  },
  "language_info": {
   "codemirror_mode": {
    "name": "ipython",
    "version": 3
   },
   "file_extension": ".py",
   "mimetype": "text/x-python",
   "name": "python",
   "nbconvert_exporter": "python",
   "pygments_lexer": "ipython3",
   "version": "3.11.4"
  },
  "orig_nbformat": 4,
  "vscode": {
   "interpreter": {
    "hash": "9404565ab2271c01f32a5ebf202ce74a5a811d6909f1828a5ff1298ed34c2b97"
   }
  }
 },
 "nbformat": 4,
 "nbformat_minor": 2
}
