{
 "cells": [
  {
   "cell_type": "code",
   "execution_count": 1,
   "metadata": {},
   "outputs": [],
   "source": [
    "# pip install -q scikit-learn litellm"
   ]
  },
  {
   "cell_type": "code",
   "execution_count": 2,
   "metadata": {},
   "outputs": [
    {
     "name": "stdout",
     "output_type": "stream",
     "text": [
      "🦑 Tru initialized with db url sqlite:///default.sqlite .\n",
      "🛑 Secret keys may be written to the database. See the `database_redact_keys` option of `Tru` to prevent this.\n"
     ]
    }
   ],
   "source": [
    "# Import groundedness feedback function\n",
    "from trulens_eval import Tru\n",
    "from test_cases import generate_ms_marco_context_relevance_benchmark\n",
    "from benchmark_frameworks.eval_as_recommendation import score_passages, compute_ndcg, compute_ece, recall_at_k, precision_at_k\n",
    "Tru().reset_database()\n",
    "\n",
    "benchmark_data = []\n",
    "for i in range(1, 6):\n",
    "    dataset_path = f\"./datasets/ms_marco/ms_marco_train_v2.1_{i}.json\"\n",
    "    benchmark_data.extend(list(generate_ms_marco_context_relevance_benchmark(dataset_path)))\n"
   ]
  },
  {
   "cell_type": "code",
   "execution_count": 3,
   "metadata": {},
   "outputs": [],
   "source": [
    "import os\n",
    "os.environ[\"OPENAI_API_KEY\"] = \"...\"\n",
    "os.environ[\"HUGGINGFACE_API_KEY\"] = \"...\"\n",
    "os.environ[\"ANTHROPIC_API_KEY\"] = \"...\"\n",
    "os.environ[\"TOGETHERAI_API_KEY\"] = \"...\""
   ]
  },
  {
   "cell_type": "code",
   "execution_count": 4,
   "metadata": {},
   "outputs": [
    {
     "name": "stdout",
     "output_type": "stream",
     "text": [
      "305\n"
     ]
    }
   ],
   "source": [
    "import pandas as pd\n",
    "import numpy as np\n",
    "df = pd.DataFrame(benchmark_data)\n",
    "\n",
    "print(len(df.groupby(\"query_id\").count()))"
   ]
  },
  {
   "cell_type": "code",
   "execution_count": 5,
   "metadata": {},
   "outputs": [
    {
     "data": {
      "text/html": [
       "<div>\n",
       "<style scoped>\n",
       "    .dataframe tbody tr th:only-of-type {\n",
       "        vertical-align: middle;\n",
       "    }\n",
       "\n",
       "    .dataframe tbody tr th {\n",
       "        vertical-align: top;\n",
       "    }\n",
       "\n",
       "    .dataframe thead th {\n",
       "        text-align: right;\n",
       "    }\n",
       "</style>\n",
       "<table border=\"1\" class=\"dataframe\">\n",
       "  <thead>\n",
       "    <tr style=\"text-align: right;\">\n",
       "      <th></th>\n",
       "      <th>query_id</th>\n",
       "      <th>query</th>\n",
       "      <th>passage</th>\n",
       "      <th>is_selected</th>\n",
       "      <th>relevant_idx</th>\n",
       "    </tr>\n",
       "  </thead>\n",
       "  <tbody>\n",
       "    <tr>\n",
       "      <th>0</th>\n",
       "      <td>1185869</td>\n",
       "      <td>)what was the immediate impact of the success ...</td>\n",
       "      <td>The presence of communication amid scientific ...</td>\n",
       "      <td>1</td>\n",
       "      <td>0</td>\n",
       "    </tr>\n",
       "    <tr>\n",
       "      <th>1</th>\n",
       "      <td>1185869</td>\n",
       "      <td>)what was the immediate impact of the success ...</td>\n",
       "      <td>The Manhattan Project and its atomic bomb help...</td>\n",
       "      <td>0</td>\n",
       "      <td>0</td>\n",
       "    </tr>\n",
       "    <tr>\n",
       "      <th>2</th>\n",
       "      <td>1185869</td>\n",
       "      <td>)what was the immediate impact of the success ...</td>\n",
       "      <td>Essay on The Manhattan Project - The Manhattan...</td>\n",
       "      <td>0</td>\n",
       "      <td>0</td>\n",
       "    </tr>\n",
       "    <tr>\n",
       "      <th>3</th>\n",
       "      <td>1185869</td>\n",
       "      <td>)what was the immediate impact of the success ...</td>\n",
       "      <td>The Manhattan Project was the name for a proje...</td>\n",
       "      <td>0</td>\n",
       "      <td>0</td>\n",
       "    </tr>\n",
       "    <tr>\n",
       "      <th>4</th>\n",
       "      <td>1185869</td>\n",
       "      <td>)what was the immediate impact of the success ...</td>\n",
       "      <td>versions of each volume as well as complementa...</td>\n",
       "      <td>0</td>\n",
       "      <td>0</td>\n",
       "    </tr>\n",
       "    <tr>\n",
       "      <th>...</th>\n",
       "      <td>...</td>\n",
       "      <td>...</td>\n",
       "      <td>...</td>\n",
       "      <td>...</td>\n",
       "      <td>...</td>\n",
       "    </tr>\n",
       "    <tr>\n",
       "      <th>3032</th>\n",
       "      <td>565901</td>\n",
       "      <td>what are some things you can do to keep your d...</td>\n",
       "      <td>Eating the right foods not only makes it easie...</td>\n",
       "      <td>0</td>\n",
       "      <td>9</td>\n",
       "    </tr>\n",
       "    <tr>\n",
       "      <th>3033</th>\n",
       "      <td>565901</td>\n",
       "      <td>what are some things you can do to keep your d...</td>\n",
       "      <td>Eat a healthy diet. Photo Credit Tay Jnr/Digit...</td>\n",
       "      <td>0</td>\n",
       "      <td>9</td>\n",
       "    </tr>\n",
       "    <tr>\n",
       "      <th>3034</th>\n",
       "      <td>565901</td>\n",
       "      <td>what are some things you can do to keep your d...</td>\n",
       "      <td>Share. Your digestive system is where it all b...</td>\n",
       "      <td>0</td>\n",
       "      <td>9</td>\n",
       "    </tr>\n",
       "    <tr>\n",
       "      <th>3035</th>\n",
       "      <td>565901</td>\n",
       "      <td>what are some things you can do to keep your d...</td>\n",
       "      <td>Start Slideshow. For some of us, digestive dis...</td>\n",
       "      <td>0</td>\n",
       "      <td>9</td>\n",
       "    </tr>\n",
       "    <tr>\n",
       "      <th>3036</th>\n",
       "      <td>565901</td>\n",
       "      <td>what are some things you can do to keep your d...</td>\n",
       "      <td>Practicing yoga is an excellent way to keep yo...</td>\n",
       "      <td>0</td>\n",
       "      <td>9</td>\n",
       "    </tr>\n",
       "  </tbody>\n",
       "</table>\n",
       "<p>1525 rows × 5 columns</p>\n",
       "</div>"
      ],
      "text/plain": [
       "      query_id                                              query  \\\n",
       "0      1185869  )what was the immediate impact of the success ...   \n",
       "1      1185869  )what was the immediate impact of the success ...   \n",
       "2      1185869  )what was the immediate impact of the success ...   \n",
       "3      1185869  )what was the immediate impact of the success ...   \n",
       "4      1185869  )what was the immediate impact of the success ...   \n",
       "...        ...                                                ...   \n",
       "3032    565901  what are some things you can do to keep your d...   \n",
       "3033    565901  what are some things you can do to keep your d...   \n",
       "3034    565901  what are some things you can do to keep your d...   \n",
       "3035    565901  what are some things you can do to keep your d...   \n",
       "3036    565901  what are some things you can do to keep your d...   \n",
       "\n",
       "                                                passage  is_selected  \\\n",
       "0     The presence of communication amid scientific ...            1   \n",
       "1     The Manhattan Project and its atomic bomb help...            0   \n",
       "2     Essay on The Manhattan Project - The Manhattan...            0   \n",
       "3     The Manhattan Project was the name for a proje...            0   \n",
       "4     versions of each volume as well as complementa...            0   \n",
       "...                                                 ...          ...   \n",
       "3032  Eating the right foods not only makes it easie...            0   \n",
       "3033  Eat a healthy diet. Photo Credit Tay Jnr/Digit...            0   \n",
       "3034  Share. Your digestive system is where it all b...            0   \n",
       "3035  Start Slideshow. For some of us, digestive dis...            0   \n",
       "3036  Practicing yoga is an excellent way to keep yo...            0   \n",
       "\n",
       "      relevant_idx  \n",
       "0                0  \n",
       "1                0  \n",
       "2                0  \n",
       "3                0  \n",
       "4                0  \n",
       "...            ...  \n",
       "3032             9  \n",
       "3033             9  \n",
       "3034             9  \n",
       "3035             9  \n",
       "3036             9  \n",
       "\n",
       "[1525 rows x 5 columns]"
      ]
     },
     "execution_count": 5,
     "metadata": {},
     "output_type": "execute_result"
    }
   ],
   "source": [
    "df.groupby(\"query_id\").head()"
   ]
  },
  {
   "cell_type": "markdown",
   "metadata": {},
   "source": [
    "#### Define feedback functions for contexnt relevance to be evaluated"
   ]
  },
  {
   "cell_type": "markdown",
   "metadata": {},
   "source": [
    "### Visualization"
   ]
  },
  {
   "cell_type": "markdown",
   "metadata": {},
   "source": [
    "### Temperature Scaling "
   ]
  },
  {
   "cell_type": "code",
   "execution_count": 11,
   "metadata": {},
   "outputs": [],
   "source": [
    "from trulens_eval.feedback import OpenAI, LiteLLM\n",
    "\n",
    "temperatures = [0, 0.3, 0.7, 1]\n",
    "# GPT 3.5\n",
    "turbo = OpenAI(model_engine=\"gpt-3.5-turbo\")\n",
    "\n",
    "def wrapped_relevance_turbo_t(input, output, temperature):\n",
    "    return turbo.context_relevance_confidence_verb_2s_top1(input, output, temperature)\n",
    " \n",
    "# # GPT 4 turbo\n",
    "gpt4 = OpenAI(model_engine=\"gpt-4-1106-preview\")\n",
    "\n",
    "def wrapped_relevance_gpt4_t(input, output, temperature):\n",
    "    return  gpt4.context_relevance_confidence_verb_2s_top1(input, output, temperature)\n",
    "\n",
    "claude_1 = LiteLLM(model_engine=\"claude-instant-1\")\n",
    "def wrapped_relevance_claude1_t(input, output, temperature):\n",
    "     claude_1.context_relevance_confidence_verb_2s_top1(input, output, temperature)\n",
    "\n",
    "claude_2 = LiteLLM(model_engine=\"claude-2\")\n",
    "def wrapped_relevance_claude2_t(input, output, temperature):\n",
    "    claude_2.context_relevance_confidence_verb_2s_top1(input, output, temperature)\n",
    "\n",
    "feedback_functions = {\n",
    "    'GPT-3.5-Turbo': wrapped_relevance_turbo_t,\n",
    "    'GPT-4-Turbo': wrapped_relevance_gpt4_t,\n",
    "    # 'Claude-1': wrapped_relevance_claude1_t,\n",
    "    # 'Claude-2': wrapped_relevance_claude2_t,\n",
    "}\n",
    "\n",
    "backoffs_by_functions = {\n",
    "    'GPT-3.5-Turbo': 0,\n",
    "    'GPT-4-Turbo': 0.5,\n",
    "    # 'Claude-1': 1.5,\n",
    "    # 'Claude-2': 1.5,\n",
    "}"
   ]
  },
  {
   "cell_type": "code",
   "execution_count": null,
   "metadata": {},
   "outputs": [],
   "source": [
    "for temp in temperatures:\n",
    "    # Running the benchmark\n",
    "    results = []\n",
    "\n",
    "    intermediate_results = []\n",
    "    for name, func in feedback_functions.items():\n",
    "        try:\n",
    "            scores, true_relevance = score_passages(df, name, func, backoffs_by_functions[name] if name in backoffs_by_functions else 0.5, n=1, temperature=temp)\n",
    "            ece_value = compute_ece(scores, true_relevance)\n",
    "            \n",
    "            results.append((name, ece_value, ))\n",
    "            print(f\"Finished running feedback function name {name}\")\n",
    "        \n",
    "            print(\"Saving results...\")\n",
    "            tmp_results_df = pd.DataFrame(results, columns=[f'Model-t-{temp}',  'ECE'])\n",
    "\n",
    "            tmp_results_df.to_csv(f\"results_verbalized_ece_t_{temp}.csv\")\n",
    "            print(tmp_results_df)\n",
    "            intermediate_results.append(tmp_results_df)\n",
    "        except Exception as e:\n",
    "            print(f\"Failed to run benchmark for feedback function name {name} due to {e}\")\n",
    "    # Convert results to DataFrame for display\n",
    "    results_df = pd.DataFrame(results, columns=[f'Model-t-{temp}', 'ECE',])\n"
   ]
  },
  {
   "cell_type": "code",
   "execution_count": 1,
   "metadata": {},
   "outputs": [
    {
     "ename": "NameError",
     "evalue": "name 'results_df' is not defined",
     "output_type": "error",
     "traceback": [
      "\u001b[0;31m---------------------------------------------------------------------------\u001b[0m",
      "\u001b[0;31mNameError\u001b[0m                                 Traceback (most recent call last)",
      "Cell \u001b[0;32mIn[1], line 1\u001b[0m\n\u001b[0;32m----> 1\u001b[0m results_df\u001b[38;5;241m.\u001b[39mto_csv(\u001b[38;5;124m\"\u001b[39m\u001b[38;5;124mresults_verbalized_ece_temp_scaling.csv\u001b[39m\u001b[38;5;124m\"\u001b[39m)\n",
      "\u001b[0;31mNameError\u001b[0m: name 'results_df' is not defined"
     ]
    }
   ],
   "source": [
    "results_df.to_csv(\"results_verbalized_ece_temp_scaling.csv\")"
   ]
  },
  {
   "cell_type": "code",
   "execution_count": 10,
   "metadata": {},
   "outputs": [],
   "source": [
    "\n",
    "\n",
    "results_df_1 = pd.read_csv(\"results_temp_scaling_gpt-3.5.csv\")\n",
    "results_df_2 = pd.read_csv(\"results_temp_scaling_gpt-4.csv\")\n",
    "\n"
   ]
  },
  {
   "cell_type": "code",
   "execution_count": 11,
   "metadata": {},
   "outputs": [
    {
     "data": {
      "text/html": [
       "<div>\n",
       "<style scoped>\n",
       "    .dataframe tbody tr th:only-of-type {\n",
       "        vertical-align: middle;\n",
       "    }\n",
       "\n",
       "    .dataframe tbody tr th {\n",
       "        vertical-align: top;\n",
       "    }\n",
       "\n",
       "    .dataframe thead th {\n",
       "        text-align: right;\n",
       "    }\n",
       "</style>\n",
       "<table border=\"1\" class=\"dataframe\">\n",
       "  <thead>\n",
       "    <tr style=\"text-align: right;\">\n",
       "      <th></th>\n",
       "      <th>Scaling: Temperature</th>\n",
       "      <th>Model</th>\n",
       "      <th>ECE</th>\n",
       "    </tr>\n",
       "  </thead>\n",
       "  <tbody>\n",
       "    <tr>\n",
       "      <th>0</th>\n",
       "      <td>0.0</td>\n",
       "      <td>GPT-3.5-Turbo</td>\n",
       "      <td>0.492735</td>\n",
       "    </tr>\n",
       "    <tr>\n",
       "      <th>1</th>\n",
       "      <td>0.3</td>\n",
       "      <td>GPT-3.5-Turbo</td>\n",
       "      <td>0.477844</td>\n",
       "    </tr>\n",
       "    <tr>\n",
       "      <th>2</th>\n",
       "      <td>0.7</td>\n",
       "      <td>GPT-3.5-Turbo</td>\n",
       "      <td>0.467127</td>\n",
       "    </tr>\n",
       "    <tr>\n",
       "      <th>3</th>\n",
       "      <td>1.0</td>\n",
       "      <td>GPT-3.5-Turbo</td>\n",
       "      <td>0.465417</td>\n",
       "    </tr>\n",
       "  </tbody>\n",
       "</table>\n",
       "</div>"
      ],
      "text/plain": [
       "   Scaling: Temperature          Model       ECE\n",
       "0                   0.0  GPT-3.5-Turbo  0.492735\n",
       "1                   0.3  GPT-3.5-Turbo  0.477844\n",
       "2                   0.7  GPT-3.5-Turbo  0.467127\n",
       "3                   1.0  GPT-3.5-Turbo  0.465417"
      ]
     },
     "execution_count": 11,
     "metadata": {},
     "output_type": "execute_result"
    }
   ],
   "source": [
    "results_df_1\n"
   ]
  },
  {
   "cell_type": "markdown",
   "metadata": {},
   "source": []
  },
  {
   "cell_type": "code",
   "execution_count": 12,
   "metadata": {},
   "outputs": [
    {
     "data": {
      "text/html": [
       "<div>\n",
       "<style scoped>\n",
       "    .dataframe tbody tr th:only-of-type {\n",
       "        vertical-align: middle;\n",
       "    }\n",
       "\n",
       "    .dataframe tbody tr th {\n",
       "        vertical-align: top;\n",
       "    }\n",
       "\n",
       "    .dataframe thead th {\n",
       "        text-align: right;\n",
       "    }\n",
       "</style>\n",
       "<table border=\"1\" class=\"dataframe\">\n",
       "  <thead>\n",
       "    <tr style=\"text-align: right;\">\n",
       "      <th></th>\n",
       "      <th>Scaling: Temperature</th>\n",
       "      <th>Model</th>\n",
       "      <th>ECE</th>\n",
       "    </tr>\n",
       "  </thead>\n",
       "  <tbody>\n",
       "    <tr>\n",
       "      <th>0</th>\n",
       "      <td>0.0</td>\n",
       "      <td>GPT-4-Turbo</td>\n",
       "      <td>0.741519</td>\n",
       "    </tr>\n",
       "    <tr>\n",
       "      <th>1</th>\n",
       "      <td>0.3</td>\n",
       "      <td>GPT-4-Turbo</td>\n",
       "      <td>0.742373</td>\n",
       "    </tr>\n",
       "    <tr>\n",
       "      <th>2</th>\n",
       "      <td>0.7</td>\n",
       "      <td>GPT-4-Turbo</td>\n",
       "      <td>0.737771</td>\n",
       "    </tr>\n",
       "    <tr>\n",
       "      <th>3</th>\n",
       "      <td>1.0</td>\n",
       "      <td>GPT-4-Turbo</td>\n",
       "      <td>0.732807</td>\n",
       "    </tr>\n",
       "  </tbody>\n",
       "</table>\n",
       "</div>"
      ],
      "text/plain": [
       "   Scaling: Temperature        Model       ECE\n",
       "0                   0.0  GPT-4-Turbo  0.741519\n",
       "1                   0.3  GPT-4-Turbo  0.742373\n",
       "2                   0.7  GPT-4-Turbo  0.737771\n",
       "3                   1.0  GPT-4-Turbo  0.732807"
      ]
     },
     "execution_count": 12,
     "metadata": {},
     "output_type": "execute_result"
    }
   ],
   "source": [
    "results_df_2"
   ]
  },
  {
   "cell_type": "code",
   "execution_count": null,
   "metadata": {},
   "outputs": [],
   "source": [
    "import matplotlib.pyplot as plt\n",
    "\n",
    "# Make sure results_df is defined and contains the necessary columns\n",
    "# Also, ensure that K is defined\n",
    "\n",
    "plt.figure(figsize=(12, 10))\n",
    "\n",
    "# Graph for nDCG, Recall@K, and Precision@K\n",
    "plt.subplot(2, 1, 1)  # First subplot\n",
    "ax1 = results_df.plot(x='Model', y=['nDCG', f'Recall@{K}', 'Precision@1'], kind='bar', ax=plt.gca())\n",
    "plt.title('Feedback Function Performance (Higher is Better)')\n",
    "plt.ylabel('Score')\n",
    "plt.xticks(rotation=45)\n",
    "plt.legend(loc='upper left')\n",
    "\n",
    "# Graph for ECE\n",
    "plt.subplot(2, 1, 2)  # Second subplot\n",
    "ax2 = results_df.plot(x='Model', y=['ECE'], kind='bar', ax=plt.gca(), color='orange')\n",
    "plt.title('Feedback Function Calibration (Lower is Better)')\n",
    "plt.ylabel('ECE')\n",
    "plt.xticks(rotation=45)\n",
    "\n",
    "plt.tight_layout()\n",
    "plt.show()\n"
   ]
  }
 ],
 "metadata": {
  "kernelspec": {
   "display_name": "trulens",
   "language": "python",
   "name": "python3"
  },
  "language_info": {
   "codemirror_mode": {
    "name": "ipython",
    "version": 3
   },
   "file_extension": ".py",
   "mimetype": "text/x-python",
   "name": "python",
   "nbconvert_exporter": "python",
   "pygments_lexer": "ipython3",
   "version": "3.11.5"
  }
 },
 "nbformat": 4,
 "nbformat_minor": 2
}
