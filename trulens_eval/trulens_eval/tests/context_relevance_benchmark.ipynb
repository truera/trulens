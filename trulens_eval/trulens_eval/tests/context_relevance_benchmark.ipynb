{
 "cells": [
  {
   "cell_type": "code",
   "execution_count": null,
   "metadata": {},
   "outputs": [],
   "source": [
    "# pip install -q scikit-learn litellm"
   ]
  },
  {
   "cell_type": "code",
   "execution_count": 1,
   "metadata": {},
   "outputs": [
    {
     "name": "stdout",
     "output_type": "stream",
     "text": [
      "🦑 Tru initialized with db url sqlite:///default.sqlite .\n",
      "🛑 Secret keys may be written to the database. See the `database_redact_keys` option of `Tru` to prevent this.\n"
     ]
    }
   ],
   "source": [
    "# Import groundedness feedback function\n",
    "from trulens_eval.feedback import GroundTruthAgreement, Groundedness\n",
    "from trulens_eval import TruBasicApp, Feedback, Tru, LiteLLM\n",
    "from test_cases import generate_ms_marco_context_relevance_benchmark\n",
    "from benchmark_frameworks.eval_as_recommendation import score_passages, compute_ndcg, compute_ece, precision_at_k\n",
    "Tru().reset_database()\n",
    "\n",
    "\n",
    "dataset_path = \"./datasets/ms_marco_train.json\"\n",
    "benchmark_data = list(generate_ms_marco_context_relevance_benchmark(dataset_path))\n"
   ]
  },
  {
   "cell_type": "code",
   "execution_count": 2,
   "metadata": {},
   "outputs": [],
   "source": [
    "import os\n",
    "os.environ[\"OPENAI_API_KEY\"] = \"...\"\n",
    "os.environ[\"HUGGINGFACE_API_KEY\"] = \"...\"\n",
    "os.environ[\"ANTHROPIC_API_KEY\"] = \"...\"\n",
    "os.environ[\"TOGETHERAI_API_KEY\"] = \"...\""
   ]
  },
  {
   "cell_type": "markdown",
   "metadata": {},
   "source": [
    "#### Define feedback functions for contexnt relevance to be evaluated"
   ]
  },
  {
   "cell_type": "code",
   "execution_count": 3,
   "metadata": {},
   "outputs": [],
   "source": [
    "from trulens_eval.feedback import OpenAI, LiteLLM\n",
    "\n",
    "import openai\n",
    "import random\n",
    "\n",
    "# GPT 3.5\n",
    "turbo = OpenAI(model_engine=\"gpt-3.5-turbo\")\n",
    "\n",
    "def wrapped_relevance_turbo(input, output):\n",
    "    # return random value between 0 and 1\n",
    "    return random.uniform(0, 1)\n",
    "\n",
    "    # return turbo.qs_relevance(input, output)\n",
    "\n",
    "# # GPT 4\n",
    "gpt4 = OpenAI(model_engine=\"gpt-4\")\n",
    "\n",
    "def wrapped_relevance_gpt4(input, output):\n",
    "    return random.uniform(0, 1)\n",
    "#     return gpt4.qs_relevance(input, output)\n",
    "\n",
    "\n",
    "# Anthropic\n",
    "claude_1 = LiteLLM(model_engine=\"claude-instant-1\")\n",
    "def wrapped_relevance_claude1(input, output):\n",
    "    return random.uniform(0, 1)\n",
    "    # return claude_1.qs_relevance(input, output)\n",
    "\n",
    "claude_2 = LiteLLM(model_engine=\"claude-2\")\n",
    "def wrapped_relevance_claude2(input, output):\n",
    "    return random.uniform(0, 1)\n",
    "    # return claude_2.qs_relevance(input, output)\n",
    "\n",
    "# # Meta\n",
    "llama_2_13b = LiteLLM(model_engine=\"together_ai/togethercomputer/Llama-2-7B-32K-Instruct\")\n",
    "def wrapped_relevance_llama2(input, output):\n",
    "    return random.uniform(0, 1)\n",
    "    # return llama_2_13b.qs_relevance(input, output)"
   ]
  },
  {
   "cell_type": "code",
   "execution_count": 6,
   "metadata": {},
   "outputs": [],
   "source": [
    "import pandas as pd\n",
    "import numpy as np\n",
    "import matplotlib\n",
    "df = pd.DataFrame(benchmark_data)"
   ]
  },
  {
   "cell_type": "code",
   "execution_count": 7,
   "metadata": {},
   "outputs": [],
   "source": [
    "# Define a list of your feedback functions\n",
    "feedback_functions = {\n",
    "    'GPT-3.5-Turbo': wrapped_relevance_turbo,\n",
    "    'GPT-4': wrapped_relevance_gpt4,\n",
    "    'Claude-1': wrapped_relevance_claude1,\n",
    "    'Claude-2': wrapped_relevance_claude2,\n",
    "    'Llama-2': wrapped_relevance_llama2\n",
    "}\n",
    "\n",
    "# Running the benchmark\n",
    "results = []\n",
    "\n",
    "K = 3 # for precision@K\n",
    "\n",
    "for name, func in feedback_functions.items():\n",
    "    scores, true_relevance = score_passages(df, func)\n",
    "    ndcg_value = compute_ndcg(scores, true_relevance)\n",
    "    ece_value = compute_ece(scores, true_relevance)\n",
    "    precision_k = np.mean([precision_at_k(sc, tr, K) for tr, sc in zip(scores, true_relevance)])\n",
    "\n",
    "    results.append((name, ndcg_value, ece_value, precision_k))\n",
    "\n",
    "# Convert results to DataFrame for display\n",
    "results_df = pd.DataFrame(results, columns=['Model', 'nDCG', f'Precision@{K}', 'ECE'])\n"
   ]
  },
  {
   "cell_type": "code",
   "execution_count": 8,
   "metadata": {},
   "outputs": [
    {
     "data": {
      "text/html": [
       "<div>\n",
       "<style scoped>\n",
       "    .dataframe tbody tr th:only-of-type {\n",
       "        vertical-align: middle;\n",
       "    }\n",
       "\n",
       "    .dataframe tbody tr th {\n",
       "        vertical-align: top;\n",
       "    }\n",
       "\n",
       "    .dataframe thead th {\n",
       "        text-align: right;\n",
       "    }\n",
       "</style>\n",
       "<table border=\"1\" class=\"dataframe\">\n",
       "  <thead>\n",
       "    <tr style=\"text-align: right;\">\n",
       "      <th></th>\n",
       "      <th>Model</th>\n",
       "      <th>nDCG</th>\n",
       "      <th>Precision@3</th>\n",
       "      <th>ECE</th>\n",
       "    </tr>\n",
       "  </thead>\n",
       "  <tbody>\n",
       "    <tr>\n",
       "      <th>0</th>\n",
       "      <td>GPT-3.5-Turbo</td>\n",
       "      <td>0.560089</td>\n",
       "      <td>0.334870</td>\n",
       "      <td>0.175000</td>\n",
       "    </tr>\n",
       "    <tr>\n",
       "      <th>1</th>\n",
       "      <td>GPT-4</td>\n",
       "      <td>0.500738</td>\n",
       "      <td>0.355418</td>\n",
       "      <td>0.150000</td>\n",
       "    </tr>\n",
       "    <tr>\n",
       "      <th>2</th>\n",
       "      <td>Claude-1</td>\n",
       "      <td>0.444720</td>\n",
       "      <td>0.339366</td>\n",
       "      <td>0.100000</td>\n",
       "    </tr>\n",
       "    <tr>\n",
       "      <th>3</th>\n",
       "      <td>Claude-2</td>\n",
       "      <td>0.476120</td>\n",
       "      <td>0.385940</td>\n",
       "      <td>0.125000</td>\n",
       "    </tr>\n",
       "    <tr>\n",
       "      <th>4</th>\n",
       "      <td>Llama-2</td>\n",
       "      <td>0.455046</td>\n",
       "      <td>0.371282</td>\n",
       "      <td>0.116667</td>\n",
       "    </tr>\n",
       "  </tbody>\n",
       "</table>\n",
       "</div>"
      ],
      "text/plain": [
       "           Model      nDCG  Precision@3       ECE\n",
       "0  GPT-3.5-Turbo  0.560089     0.334870  0.175000\n",
       "1          GPT-4  0.500738     0.355418  0.150000\n",
       "2       Claude-1  0.444720     0.339366  0.100000\n",
       "3       Claude-2  0.476120     0.385940  0.125000\n",
       "4        Llama-2  0.455046     0.371282  0.116667"
      ]
     },
     "execution_count": 8,
     "metadata": {},
     "output_type": "execute_result"
    }
   ],
   "source": [
    "results_df"
   ]
  },
  {
   "cell_type": "markdown",
   "metadata": {},
   "source": [
    "### Visualization"
   ]
  },
  {
   "cell_type": "code",
   "execution_count": 10,
   "metadata": {},
   "outputs": [
    {
     "data": {
      "image/png": "[encoded data removed]",
      "text/plain": [
       "<Figure size 1000x600 with 1 Axes>"
      ]
     },
     "metadata": {},
     "output_type": "display_data"
    }
   ],
   "source": [
    "\n",
    "import matplotlib.pyplot as plt\n",
    "\n",
    "plt.figure(figsize=(10, 6))\n",
    "ax = results_df.plot(x='Model', y=['nDCG', 'ECE', f'Precision@{K}'], kind='bar', ax=plt.gca())\n",
    "plt.title('Model Performance Comparison')\n",
    "plt.ylabel('Score')\n",
    "plt.xticks(rotation=45)\n",
    "plt.show()\n",
    "\n",
    "\n"
   ]
  },
  {
   "cell_type": "code",
   "execution_count": null,
   "metadata": {},
   "outputs": [],
   "source": []
  }
 ],
 "metadata": {
  "kernelspec": {
   "display_name": "trulens",
   "language": "python",
   "name": "python3"
  },
  "language_info": {
   "codemirror_mode": {
    "name": "ipython",
    "version": 3
   },
   "file_extension": ".py",
   "mimetype": "text/x-python",
   "name": "python",
   "nbconvert_exporter": "python",
   "pygments_lexer": "ipython3",
   "version": "3.11.5"
  }
 },
 "nbformat": 4,
 "nbformat_minor": 2
}
