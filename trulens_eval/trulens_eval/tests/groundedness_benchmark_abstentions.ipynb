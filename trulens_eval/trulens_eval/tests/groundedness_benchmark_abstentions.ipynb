{
 "cells": [
  {
   "cell_type": "markdown",
   "metadata": {},
   "source": [
    "# 📓 Groundedness Evaluations for Abstention Handling\n",
    "\n",
    "In many ways, feedbacks can be thought of as LLM apps themselves. Given text, they return some result. Thinking in this way, we can use TruLens to evaluate and track our feedback quality. We can even do this for different models or prompting schemes (such as chain-of-thought reasoning).\n",
    "\n",
    "This notebook follows an evaluation of a set of test cases generated from human annotated datasets. In particular, we generate test cases from [SummEval](https://arxiv.org/abs/2007.12626).\n",
    "\n",
    "SummEval is one of the datasets dedicated to automated evaluations on summarization tasks, which are closely related to the groundedness evaluation in RAG with the retrieved context (i.e. the source) and response (i.e. the summary). It contains human annotation of numerical score (**1** to **5**) comprised of scoring from 3 human expert annotators and 5 croweded-sourced annotators. There are 16 models being used for generation in total for 100 paragraphs in the test set, so there are a total of 16,000 machine-generated summaries. Each paragraph also has several human-written summaries for comparative analysis. \n",
    "\n",
    "For evaluating groundedness feedback functions, we compute the annotated \"consistency\" scores, a measure of whether the summarized response is factually consisntent with the source texts and hence can be used as a proxy to evaluate groundedness in our RAG triad, and normalized to **0** to **1** score as our **expected_score** and to match the output of feedback functions.\n",
    "\n",
    "## Abstention Background\n",
    "\n",
    "In this particular set of evaluations, we are focused on the handling of abstentions. Uncertainty-based abstention in LLMs has been shown to improve safety and reduce hallucination ([Tomani](https://arxiv.org/abs/2404.10960)). For groundedness evaluations, we want to ensure these are handled in a manner that is consistent with human preferences; in other words, calibrated.\n",
    "\n",
    "Abstentions can be broken down into two distinct groups, distinguished by whether the question is answerable given the context. In other words, whether the abstention is **justified**. We take an opinionated stance that abstentions for unanswerable questions are justified and therefore, **grounded**. Alternatively, abstentions for questions answerable by the context are therefore not grounded.\n",
    "\n",
    "## Experimental Setup\n",
    "\n",
    "For this set of experiments, we take the same test cases used for groundedness evaluations with a few key changes:\n",
    "1. We randomly sample approximately 50% of the test cases and replace the response with an abstention. We'll refer to this as the abstention set. The rest will be head as control.\n",
    "2. In the abstention set, we will take a random sample of approximately 50% of cases and truncate to remove all but the first sentence in the query, removing a majority of the context. This splits the absention set into **answerable** and **unanswerable** abstentions.\n",
    "\n",
    "From here, we have two tests sets to test against.\n",
    "1. The expected score for all abstentions is 1.\n",
    "2. The expected score for answerable abstentions will be set to 0, and then the expected score for unanswerable abstentions will be set to 1.\n",
    "\n",
    "We will then compute the MAE of our groundedness evaluator against the expected score for each test set. Results will be displayed for the following subgroups:\n",
    "- Abstentions v. Control\n",
    "- Answerable Abstentions v. Unanswerable Abstentions\n",
    "\n",
    "We will also show results for the test cases with high and low human-annotated consistency to ensure that this treatment is consistent across expected scores.\n",
    "\n",
    "\n",
    "## Improving Groundedness\n",
    "\n",
    "To improve the groundedness feedback function against these tests, we consider the following changes:\n",
    "- Abstentions are excluded from statements to evaluate; empty strings are considered grounded.\n",
    "- The answerability in abstention cases is assessed; unanswerable abstentions score high, answerable abstentions score low."
   ]
  },
  {
   "cell_type": "code",
   "execution_count": 1,
   "metadata": {},
   "outputs": [
    {
     "name": "stderr",
     "output_type": "stream",
     "text": [
      "/opt/anaconda3/envs/snowday/lib/python3.11/site-packages/_distutils_hack/__init__.py:26: UserWarning: Setuptools is replacing distutils.\n",
      "  warnings.warn(\"Setuptools is replacing distutils.\")\n"
     ]
    },
    {
     "name": "stdout",
     "output_type": "stream",
     "text": [
      "🦑 Tru initialized with db url sqlite:///default.sqlite .\n",
      "🛑 Secret keys may be written to the database. See the `database_redact_keys` option of `Tru` to prevent this.\n"
     ]
    }
   ],
   "source": [
    "# Import groundedness feedback function\n",
    "from trulens_eval.feedback import GroundTruthAgreement\n",
    "from trulens_eval import TruBasicApp, Feedback, Tru, Select\n",
    "from test_cases import generate_summeval_groundedness_golden_set\n",
    "tru = Tru()\n",
    "tru.reset_database()\n",
    "\n",
    "# generator for groundedness golden set\n",
    "test_cases_gen = generate_summeval_groundedness_golden_set(\"./datasets/summeval/summeval_test_100.json\")"
   ]
  },
  {
   "cell_type": "code",
   "execution_count": 2,
   "metadata": {},
   "outputs": [],
   "source": [
    "import random\n",
    "\n",
    "# Specify the number of test cases we want to run the smoke test on\n",
    "groundedness_golden_set_abstentions = []\n",
    "for i in range(500):\n",
    "    groundedness_golden_set_abstentions.append(next(test_cases_gen))\n",
    "\n",
    "# Randomly sample 50% of the test cases and replace the response with a random abstention\n",
    "# Split into answerable and unanswerable set\n",
    "abstention_set = []\n",
    "control_set = []\n",
    "for item in groundedness_golden_set_abstentions:\n",
    "    if random.random() < 0.5:\n",
    "        abstention_set.append(item)\n",
    "    else:\n",
    "        control_set.append(item)\n",
    "\n",
    "for item in abstention_set:\n",
    "    item['response'] = random.choice([\n",
    "        \"I don't know\",\n",
    "        \"I don't have the information available to answer this question\",\n",
    "        \"I'm unsure of the answer given the provided context\",\n",
    "        \"I'm not certain\",\n",
    "        \"I can't say for sure\",\n",
    "        \"I'm not familiar with that\",\n",
    "        \"I'm not knowledgeable about this topic\",\n",
    "        \"I'm not the right person to ask\",\n",
    "        \"I'm unable to provide a definitive answer\",\n",
    "        \"I'm sorry, I can't help with that\"\n",
    "    ])\n",
    "    item['group'] = 'Abstention'\n",
    "    item['expected_score_exclusions'] = 1.0\n",
    "\n",
    "# Set the group for the remaining cases as 'Control'\n",
    "for item in groundedness_golden_set_abstentions:\n",
    "    if 'group' not in item:\n",
    "        item['group'] = 'Control'\n",
    "        item['expected_score_abstentions_score_high'] = item['expected_score']\n",
    "\n",
    "# Split into answerable and unanswerable set\n",
    "unanswerable_abstentions = []\n",
    "answerable_abstentions = []\n",
    "for item in abstention_set:\n",
    "    if random.random() < 0.5:\n",
    "        unanswerable_abstentions.append(item)\n",
    "    else:\n",
    "        answerable_abstentions.append(item)\n",
    "\n",
    "# Set group, truncate query, and set expected score for unanswerable abstentions\n",
    "for item in unanswerable_abstentions:\n",
    "    item['group'] = 'Unanswerable Abstention'\n",
    "    item['expected_score'] = 1.0\n",
    "    split_result = item['query'].split('.', 1)\n",
    "    if len(split_result) > 1:\n",
    "        item['query'] = split_result[0]\n",
    "    else:\n",
    "        unanswerable_abstentions.remove(item)\n",
    "    \n",
    "\n",
    "# Set the answerable set group and expected score\n",
    "for item in answerable_abstentions:\n",
    "    item['group'] = 'Answerable Abstention'\n",
    "    item['expected_score'] = 0.0\n",
    "    \n",
    "# create a set that includes all abstentions and the control set\n",
    "groundedness_golden_set_abstensions_consider_answerability = control_set + answerable_abstentions + unanswerable_abstentions\n",
    "\n",
    "# create an alternative set where the expected_score is set high for all abstentions\n",
    "groundedness_golden_set_abstentions_expected_high = []\n",
    "for item in groundedness_golden_set_abstensions_consider_answerability:\n",
    "    new_item = item.copy()\n",
    "    new_item['expected_score'] = new_item['expected_score_abstentions_score_high']\n",
    "    new_item.pop('expected_score_abstentions_score_high')\n",
    "    groundedness_golden_set_abstentions_expected_high.append(new_item)\n",
    "\n"
   ]
  },
  {
   "cell_type": "code",
   "execution_count": 3,
   "metadata": {
    "vscode": {
     "languageId": "ruby"
    }
   },
   "outputs": [
    {
     "name": "stdout",
     "output_type": "stream",
     "text": [
      "\n",
      " Reward all abstentions equally\n",
      "group\n",
      "Control                    256\n",
      "Unanswerable Abstention    126\n",
      "Answerable Abstention      118\n",
      "Name: count, dtype: int64\n",
      "                         expected_score  human_score\n",
      "group                                               \n",
      "Control                        0.925625     4.701823\n",
      "Answerable Abstention          0.000000     4.485876\n",
      "Unanswerable Abstention        1.000000     4.505291\n",
      "\n",
      " Consider answerability of abstentions\n",
      "group\n",
      "Control                    256\n",
      "Unanswerable Abstention    126\n",
      "Answerable Abstention      118\n",
      "Name: count, dtype: int64\n",
      "                         expected_score  human_score\n",
      "group                                               \n",
      "Control                        0.925625     4.701823\n",
      "Answerable Abstention          1.000000     4.485876\n",
      "Unanswerable Abstention        1.000000     4.505291\n"
     ]
    }
   ],
   "source": [
    "import pandas as pd\n",
    "\n",
    "# Reward all abstentions equally\n",
    "print(\"\\n Reward all abstentions equally\")\n",
    "\n",
    "## Count the data by group (Control, Answerable Abstention, Unanswerable Abstention)\n",
    "df = pd.DataFrame(groundedness_golden_set_abstensions_consider_answerability)\n",
    "group_counts = df['group'].value_counts()\n",
    "print(group_counts)\n",
    "\n",
    "## Calculate average values for expected_score and human_score by group\n",
    "group_avg = df.groupby('group').agg({'expected_score': 'mean', 'human_score': 'mean'})\n",
    "group_avg = group_avg.reindex(['Control', 'Answerable Abstention', 'Unanswerable Abstention'])\n",
    "print(group_avg)\n",
    "\n",
    "# Consider answerability of abstentions\n",
    "print(\"\\n Consider answerability of abstentions\")\n",
    "\n",
    "df = pd.DataFrame(groundedness_golden_set_abstentions_expected_high)\n",
    "group_counts = df['group'].value_counts()\n",
    "print(group_counts)\n",
    "\n",
    "## Calculate average values for expected_score and human_score by group\n",
    "group_avg = df.groupby('group').agg({'expected_score': 'mean', 'human_score': 'mean'})\n",
    "group_avg = group_avg.reindex(['Control', 'Answerable Abstention', 'Unanswerable Abstention'])\n",
    "print(group_avg)"
   ]
  },
  {
   "cell_type": "code",
   "execution_count": 4,
   "metadata": {},
   "outputs": [
    {
     "name": "stdout",
     "output_type": "stream",
     "text": [
      "Control items:\n",
      "{'query': '(CNN)Donald Sterling\\'s racist remarks cost him an NBA team last year. But now it\\'s his former female companion who has lost big. A Los Angeles judge has ordered V. Stiviano to pay back more than $2.6 million in gifts after Sterling\\'s wife sued her. In the lawsuit, Rochelle \"Shelly\" Sterling accused Stiviano of targeting extremely wealthy older men. She claimed Donald Sterling used the couple\\'s money to buy Stiviano a Ferrari, two Bentleys and a Range Rover, and that he helped her get a $1.8 million duplex. Who is V. Stiviano? Stiviano countered that there was nothing wrong with Donald Sterling giving her gifts and that she never took advantage of the former Los Angeles Clippers owner, who made much of his fortune in real estate. Shelly Sterling was thrilled with the court decision Tuesday, her lawyer told CNN affiliate KABC. \"This is a victory for the Sterling family in recovering the $2,630,000 that Donald lavished on a conniving mistress,\" attorney Pierce O\\'Donnell said in a statement. \"It also sets a precedent that the injured spouse can recover damages from the recipient of these ill-begotten gifts.\" Stiviano\\'s gifts from Donald Sterling didn\\'t just include uber-expensive items like luxury cars. According to the Los Angeles Times, the list also includes a $391 Easter bunny costume, a $299 two-speed blender and a $12 lace thong. Donald Sterling\\'s downfall came after an audio recording surfaced of the octogenarian arguing with Stiviano. In the tape, Sterling chastises Stiviano for posting pictures on social media of her posing with African-Americans, including basketball legend Magic Johnson. \"In your lousy f**ing Instagrams, you don\\'t have to have yourself with -- walking with black people,\" Sterling said in the audio first posted by TMZ. He also tells Stiviano not to bring Johnson to Clippers games and not to post photos with the Hall of Famer so Sterling\\'s friends can see. \"Admire him, bring him here, feed him, f**k him, but don\\'t put (Magic) on an Instagram for the world to have to see so they have to call me,\" Sterling said. NBA Commissioner Adam Silver banned Sterling from the league, fined him $2.5 million and pushed through a charge to terminate all of his ownership rights in the franchise. Fact check: Donald Sterling\\'s claims vs. reality CNN\\'s Dottie Evans contributed to this report.', 'response': \"donald sterling accused stiviano of targeting extremely wealthy older men . she claimed donald sterling used the couple 's money to buy stiviano a ferrari , two bentleys and a range rover . stiviano countered that there was nothing wrong with donald sterling giving her gifts .\", 'expected_score': 0.33, 'human_score': 2.3333333333333335, 'group': 'Control', 'expected_score_exclusions': 0.33}\n",
      "{'query': '(CNN)Donald Sterling\\'s racist remarks cost him an NBA team last year. But now it\\'s his former female companion who has lost big. A Los Angeles judge has ordered V. Stiviano to pay back more than $2.6 million in gifts after Sterling\\'s wife sued her. In the lawsuit, Rochelle \"Shelly\" Sterling accused Stiviano of targeting extremely wealthy older men. She claimed Donald Sterling used the couple\\'s money to buy Stiviano a Ferrari, two Bentleys and a Range Rover, and that he helped her get a $1.8 million duplex. Who is V. Stiviano? Stiviano countered that there was nothing wrong with Donald Sterling giving her gifts and that she never took advantage of the former Los Angeles Clippers owner, who made much of his fortune in real estate. Shelly Sterling was thrilled with the court decision Tuesday, her lawyer told CNN affiliate KABC. \"This is a victory for the Sterling family in recovering the $2,630,000 that Donald lavished on a conniving mistress,\" attorney Pierce O\\'Donnell said in a statement. \"It also sets a precedent that the injured spouse can recover damages from the recipient of these ill-begotten gifts.\" Stiviano\\'s gifts from Donald Sterling didn\\'t just include uber-expensive items like luxury cars. According to the Los Angeles Times, the list also includes a $391 Easter bunny costume, a $299 two-speed blender and a $12 lace thong. Donald Sterling\\'s downfall came after an audio recording surfaced of the octogenarian arguing with Stiviano. In the tape, Sterling chastises Stiviano for posting pictures on social media of her posing with African-Americans, including basketball legend Magic Johnson. \"In your lousy f**ing Instagrams, you don\\'t have to have yourself with -- walking with black people,\" Sterling said in the audio first posted by TMZ. He also tells Stiviano not to bring Johnson to Clippers games and not to post photos with the Hall of Famer so Sterling\\'s friends can see. \"Admire him, bring him here, feed him, f**k him, but don\\'t put (Magic) on an Instagram for the world to have to see so they have to call me,\" Sterling said. NBA Commissioner Adam Silver banned Sterling from the league, fined him $2.5 million and pushed through a charge to terminate all of his ownership rights in the franchise. Fact check: Donald Sterling\\'s claims vs. reality CNN\\'s Dottie Evans contributed to this report.', 'response': \"a los angeles judge has ordered v. stiviano to pay back more than $ 2.6 million in gifts after sterling 's wife sued her . -lrb- cnn -rrb- donald sterling 's racist remarks cost him an nba team last year . but now it 's his former female companion who has lost big . who is v. stiviano ? .\", 'expected_score': 0.92, 'human_score': 4.666666666666667, 'group': 'Control', 'expected_score_exclusions': 0.92}\n",
      "{'query': '(CNN)Donald Sterling\\'s racist remarks cost him an NBA team last year. But now it\\'s his former female companion who has lost big. A Los Angeles judge has ordered V. Stiviano to pay back more than $2.6 million in gifts after Sterling\\'s wife sued her. In the lawsuit, Rochelle \"Shelly\" Sterling accused Stiviano of targeting extremely wealthy older men. She claimed Donald Sterling used the couple\\'s money to buy Stiviano a Ferrari, two Bentleys and a Range Rover, and that he helped her get a $1.8 million duplex. Who is V. Stiviano? Stiviano countered that there was nothing wrong with Donald Sterling giving her gifts and that she never took advantage of the former Los Angeles Clippers owner, who made much of his fortune in real estate. Shelly Sterling was thrilled with the court decision Tuesday, her lawyer told CNN affiliate KABC. \"This is a victory for the Sterling family in recovering the $2,630,000 that Donald lavished on a conniving mistress,\" attorney Pierce O\\'Donnell said in a statement. \"It also sets a precedent that the injured spouse can recover damages from the recipient of these ill-begotten gifts.\" Stiviano\\'s gifts from Donald Sterling didn\\'t just include uber-expensive items like luxury cars. According to the Los Angeles Times, the list also includes a $391 Easter bunny costume, a $299 two-speed blender and a $12 lace thong. Donald Sterling\\'s downfall came after an audio recording surfaced of the octogenarian arguing with Stiviano. In the tape, Sterling chastises Stiviano for posting pictures on social media of her posing with African-Americans, including basketball legend Magic Johnson. \"In your lousy f**ing Instagrams, you don\\'t have to have yourself with -- walking with black people,\" Sterling said in the audio first posted by TMZ. He also tells Stiviano not to bring Johnson to Clippers games and not to post photos with the Hall of Famer so Sterling\\'s friends can see. \"Admire him, bring him here, feed him, f**k him, but don\\'t put (Magic) on an Instagram for the world to have to see so they have to call me,\" Sterling said. NBA Commissioner Adam Silver banned Sterling from the league, fined him $2.5 million and pushed through a charge to terminate all of his ownership rights in the franchise. Fact check: Donald Sterling\\'s claims vs. reality CNN\\'s Dottie Evans contributed to this report.', 'response': \"donald sterling 's wife sued stiviano of targeting extremely wealthy older men . she claimed donald sterling used the couple 's money to buy stiviano a ferrari , bentleys and a range rover . stiviano 's gifts from donald sterling did n't just include uber-expensive items like luxury cars .\", 'expected_score': 1.0, 'human_score': 5.0, 'group': 'Control', 'expected_score_exclusions': 1.0}\n",
      "\n",
      "Answerable Abstention items:\n",
      "{'query': '(CNN)Donald Sterling\\'s racist remarks cost him an NBA team last year. But now it\\'s his former female companion who has lost big. A Los Angeles judge has ordered V. Stiviano to pay back more than $2.6 million in gifts after Sterling\\'s wife sued her. In the lawsuit, Rochelle \"Shelly\" Sterling accused Stiviano of targeting extremely wealthy older men. She claimed Donald Sterling used the couple\\'s money to buy Stiviano a Ferrari, two Bentleys and a Range Rover, and that he helped her get a $1.8 million duplex. Who is V. Stiviano? Stiviano countered that there was nothing wrong with Donald Sterling giving her gifts and that she never took advantage of the former Los Angeles Clippers owner, who made much of his fortune in real estate. Shelly Sterling was thrilled with the court decision Tuesday, her lawyer told CNN affiliate KABC. \"This is a victory for the Sterling family in recovering the $2,630,000 that Donald lavished on a conniving mistress,\" attorney Pierce O\\'Donnell said in a statement. \"It also sets a precedent that the injured spouse can recover damages from the recipient of these ill-begotten gifts.\" Stiviano\\'s gifts from Donald Sterling didn\\'t just include uber-expensive items like luxury cars. According to the Los Angeles Times, the list also includes a $391 Easter bunny costume, a $299 two-speed blender and a $12 lace thong. Donald Sterling\\'s downfall came after an audio recording surfaced of the octogenarian arguing with Stiviano. In the tape, Sterling chastises Stiviano for posting pictures on social media of her posing with African-Americans, including basketball legend Magic Johnson. \"In your lousy f**ing Instagrams, you don\\'t have to have yourself with -- walking with black people,\" Sterling said in the audio first posted by TMZ. He also tells Stiviano not to bring Johnson to Clippers games and not to post photos with the Hall of Famer so Sterling\\'s friends can see. \"Admire him, bring him here, feed him, f**k him, but don\\'t put (Magic) on an Instagram for the world to have to see so they have to call me,\" Sterling said. NBA Commissioner Adam Silver banned Sterling from the league, fined him $2.5 million and pushed through a charge to terminate all of his ownership rights in the franchise. Fact check: Donald Sterling\\'s claims vs. reality CNN\\'s Dottie Evans contributed to this report.', 'response': \"I'm unsure of the answer given the provided context\", 'expected_score': 0.0, 'human_score': 1.0, 'group': 'Answerable Abstention', 'expected_score_exclusions': 1.0}\n",
      "{'query': '(CNN)Donald Sterling\\'s racist remarks cost him an NBA team last year. But now it\\'s his former female companion who has lost big. A Los Angeles judge has ordered V. Stiviano to pay back more than $2.6 million in gifts after Sterling\\'s wife sued her. In the lawsuit, Rochelle \"Shelly\" Sterling accused Stiviano of targeting extremely wealthy older men. She claimed Donald Sterling used the couple\\'s money to buy Stiviano a Ferrari, two Bentleys and a Range Rover, and that he helped her get a $1.8 million duplex. Who is V. Stiviano? Stiviano countered that there was nothing wrong with Donald Sterling giving her gifts and that she never took advantage of the former Los Angeles Clippers owner, who made much of his fortune in real estate. Shelly Sterling was thrilled with the court decision Tuesday, her lawyer told CNN affiliate KABC. \"This is a victory for the Sterling family in recovering the $2,630,000 that Donald lavished on a conniving mistress,\" attorney Pierce O\\'Donnell said in a statement. \"It also sets a precedent that the injured spouse can recover damages from the recipient of these ill-begotten gifts.\" Stiviano\\'s gifts from Donald Sterling didn\\'t just include uber-expensive items like luxury cars. According to the Los Angeles Times, the list also includes a $391 Easter bunny costume, a $299 two-speed blender and a $12 lace thong. Donald Sterling\\'s downfall came after an audio recording surfaced of the octogenarian arguing with Stiviano. In the tape, Sterling chastises Stiviano for posting pictures on social media of her posing with African-Americans, including basketball legend Magic Johnson. \"In your lousy f**ing Instagrams, you don\\'t have to have yourself with -- walking with black people,\" Sterling said in the audio first posted by TMZ. He also tells Stiviano not to bring Johnson to Clippers games and not to post photos with the Hall of Famer so Sterling\\'s friends can see. \"Admire him, bring him here, feed him, f**k him, but don\\'t put (Magic) on an Instagram for the world to have to see so they have to call me,\" Sterling said. NBA Commissioner Adam Silver banned Sterling from the league, fined him $2.5 million and pushed through a charge to terminate all of his ownership rights in the franchise. Fact check: Donald Sterling\\'s claims vs. reality CNN\\'s Dottie Evans contributed to this report.', 'response': \"I'm not familiar with that\", 'expected_score': 0.0, 'human_score': 5.0, 'group': 'Answerable Abstention', 'expected_score_exclusions': 1.0}\n",
      "{'query': '(CNN)Donald Sterling\\'s racist remarks cost him an NBA team last year. But now it\\'s his former female companion who has lost big. A Los Angeles judge has ordered V. Stiviano to pay back more than $2.6 million in gifts after Sterling\\'s wife sued her. In the lawsuit, Rochelle \"Shelly\" Sterling accused Stiviano of targeting extremely wealthy older men. She claimed Donald Sterling used the couple\\'s money to buy Stiviano a Ferrari, two Bentleys and a Range Rover, and that he helped her get a $1.8 million duplex. Who is V. Stiviano? Stiviano countered that there was nothing wrong with Donald Sterling giving her gifts and that she never took advantage of the former Los Angeles Clippers owner, who made much of his fortune in real estate. Shelly Sterling was thrilled with the court decision Tuesday, her lawyer told CNN affiliate KABC. \"This is a victory for the Sterling family in recovering the $2,630,000 that Donald lavished on a conniving mistress,\" attorney Pierce O\\'Donnell said in a statement. \"It also sets a precedent that the injured spouse can recover damages from the recipient of these ill-begotten gifts.\" Stiviano\\'s gifts from Donald Sterling didn\\'t just include uber-expensive items like luxury cars. According to the Los Angeles Times, the list also includes a $391 Easter bunny costume, a $299 two-speed blender and a $12 lace thong. Donald Sterling\\'s downfall came after an audio recording surfaced of the octogenarian arguing with Stiviano. In the tape, Sterling chastises Stiviano for posting pictures on social media of her posing with African-Americans, including basketball legend Magic Johnson. \"In your lousy f**ing Instagrams, you don\\'t have to have yourself with -- walking with black people,\" Sterling said in the audio first posted by TMZ. He also tells Stiviano not to bring Johnson to Clippers games and not to post photos with the Hall of Famer so Sterling\\'s friends can see. \"Admire him, bring him here, feed him, f**k him, but don\\'t put (Magic) on an Instagram for the world to have to see so they have to call me,\" Sterling said. NBA Commissioner Adam Silver banned Sterling from the league, fined him $2.5 million and pushed through a charge to terminate all of his ownership rights in the franchise. Fact check: Donald Sterling\\'s claims vs. reality CNN\\'s Dottie Evans contributed to this report.', 'response': \"I don't have the information available to answer this question\", 'expected_score': 0.0, 'human_score': 5.0, 'group': 'Answerable Abstention', 'expected_score_exclusions': 1.0}\n",
      "\n",
      "Unanswerable Abstention items:\n",
      "{'query': \"(CNN)Donald Sterling's racist remarks cost him an NBA team last year\", 'response': \"I don't have the information available to answer this question\", 'expected_score': 1.0, 'human_score': 5.0, 'group': 'Unanswerable Abstention', 'expected_score_exclusions': 1.0}\n",
      "{'query': \"(CNN)Donald Sterling's racist remarks cost him an NBA team last year\", 'response': \"I can't say for sure\", 'expected_score': 1.0, 'human_score': 1.3333333333333333, 'group': 'Unanswerable Abstention', 'expected_score_exclusions': 1.0}\n",
      "{'query': '(CNN)A North Pacific gray whale has earned a spot in the record books after completing the longest migration of a mammal ever recorded', 'response': \"I'm unable to provide a definitive answer\", 'expected_score': 1.0, 'human_score': 1.3333333333333333, 'group': 'Unanswerable Abstention', 'expected_score_exclusions': 1.0}\n"
     ]
    }
   ],
   "source": [
    "control_items = [item for item in groundedness_golden_set_abstentions if item['group'] == 'Control'][:3]\n",
    "answerable_abstention_items = [item for item in groundedness_golden_set_abstentions if item['group'] == 'Answerable Abstention'][:3]\n",
    "unanswerable_abstention_items = [item for item in groundedness_golden_set_abstentions if item['group'] == 'Unanswerable Abstention'][:3]\n",
    "\n",
    "print(\"Control items:\")\n",
    "for item in control_items:\n",
    "    print(item)\n",
    "\n",
    "print(\"\\nAnswerable Abstention items:\")\n",
    "for item in answerable_abstention_items:\n",
    "    print(item)\n",
    "\n",
    "print(\"\\nUnanswerable Abstention items:\")\n",
    "for item in unanswerable_abstention_items:\n",
    "    print(item)"
   ]
  },
  {
   "cell_type": "markdown",
   "metadata": {},
   "source": [
    "### Benchmarking GPT4o"
   ]
  },
  {
   "cell_type": "code",
   "execution_count": 6,
   "metadata": {},
   "outputs": [
    {
     "data": {
      "text/plain": [
       "True"
      ]
     },
     "execution_count": 6,
     "metadata": {},
     "output_type": "execute_result"
    }
   ],
   "source": [
    "from dotenv import load_dotenv\n",
    "\n",
    "load_dotenv()"
   ]
  },
  {
   "cell_type": "code",
   "execution_count": 8,
   "metadata": {},
   "outputs": [
    {
     "name": "stdout",
     "output_type": "stream",
     "text": [
      "✅ In Groundedness OpenAI GPT-4o, input source will be set to __record__.main_input or `Select.RecordInput` .\n",
      "✅ In Groundedness OpenAI GPT-4o, input statement will be set to __record__.main_output or `Select.RecordOutput` .\n",
      "✅ In Mean Absolute Error (consider answerability), input prompt will be set to __record__.calls[0].args.args[0] .\n",
      "✅ In Mean Absolute Error (consider answerability), input response will be set to __record__.calls[0].args.args[1] .\n",
      "✅ In Mean Absolute Error (consider answerability), input score will be set to __record__.main_output or `Select.RecordOutput` .\n",
      "✅ In Mean Absolute Error (all abstensions score high), input prompt will be set to __record__.calls[0].args.args[0] .\n",
      "✅ In Mean Absolute Error (all abstensions score high), input response will be set to __record__.calls[0].args.args[1] .\n",
      "✅ In Mean Absolute Error (all abstensions score high), input score will be set to __record__.main_output or `Select.RecordOutput` .\n"
     ]
    }
   ],
   "source": [
    "\n",
    "from trulens_eval.feedback.provider import OpenAI\n",
    "\n",
    "openai_provider = OpenAI(model_engine=\"gpt-4o\")\n",
    "f_groundedness_openai_gpt4o = Feedback(openai_provider.groundedness_measure_with_cot_reasons, name = \"Groundedness OpenAI GPT-4o\").on_input_output()\n",
    "def wrapped_groundedness_openai_gpt4o(input, output) -> float:\n",
    "    return f_groundedness_openai_gpt4o(input, output)[0]\n",
    "\n",
    "\n",
    "# Create a Feedback object using the numeric_difference method of the ground_truth object\n",
    "ground_truth_consider_answerability = GroundTruthAgreement(groundedness_golden_set_abstensions_consider_answerability)\n",
    "# Call the numeric_difference method with app and record and aggregate to get the mean absolute error\n",
    "f_mae_consider_answerability = Feedback(ground_truth_consider_answerability.mae, name = \"Mean Absolute Error (consider answerability)\", higher_is_better=False).on(Select.Record.calls[0].args.args[0]).on(Select.Record.calls[0].args.args[1]).on_output()\n",
    "\n",
    "# Create a Feedback object using the numeric_difference method of the ground_truth object\n",
    "ground_truth_abstensions_score_high = GroundTruthAgreement(groundedness_golden_set_abstentions_expected_high)\n",
    "# Call the numeric_difference method with app and record and aggregate to get the mean absolute error\n",
    "f_mae_abstensions_score_high = Feedback(ground_truth_abstensions_score_high.mae, name = \"Mean Absolute Error (all abstensions score high)\", higher_is_better=False).on(Select.Record.calls[0].args.args[0]).on(Select.Record.calls[0].args.args[1]).on_output()\n",
    "\n",
    "\n"
   ]
  },
  {
   "cell_type": "code",
   "execution_count": 9,
   "metadata": {},
   "outputs": [],
   "source": [
    "tru.reset_database()"
   ]
  },
  {
   "cell_type": "code",
   "execution_count": 10,
   "metadata": {},
   "outputs": [],
   "source": [
    "tru_wrapped_groundedness_gpt4o = TruBasicApp(wrapped_groundedness_openai_gpt4o, app_id=\"groundedness GPT-4o-instruct\",\n",
    "                                             feedbacks=[f_mae_consider_answerability, f_mae_abstensions_score_high])\n",
    "for i in range(len(groundedness_golden_set_abstentions)):\n",
    "    source = groundedness_golden_set_abstentions[i][\"query\"]\n",
    "    response = groundedness_golden_set_abstentions[i][\"response\"]\n",
    "    group = groundedness_golden_set_abstentions[i][\"group\"]\n",
    "   \n",
    "    with tru_wrapped_groundedness_gpt4o as recording:\n",
    "        try:\n",
    "            recording.record_metadata = dict(group = group)\n",
    "            tru_wrapped_groundedness_gpt4o.app(source, response)\n",
    "            \n",
    "        except Exception as e:\n",
    "            print(e)\n"
   ]
  },
  {
   "cell_type": "code",
   "execution_count": 10,
   "metadata": {},
   "outputs": [
    {
     "name": "stdout",
     "output_type": "stream",
     "text": [
      "Starting dashboard ...\n",
      "Config file already exists. Skipping writing process.\n",
      "Credentials file already exists. Skipping writing process.\n"
     ]
    },
    {
     "data": {
      "application/vnd.jupyter.widget-view+json": {
       "model_id": "6930f20a04c847a88e9b4e0456aafe8b",
       "version_major": 2,
       "version_minor": 0
      },
      "text/plain": [
       "Accordion(children=(VBox(children=(VBox(children=(Label(value='STDOUT'), Output())), VBox(children=(Label(valu…"
      ]
     },
     "metadata": {},
     "output_type": "display_data"
    },
    {
     "name": "stdout",
     "output_type": "stream",
     "text": [
      "Dashboard started at http://192.168.1.181:57285 .\n"
     ]
    },
    {
     "data": {
      "text/plain": [
       "<Popen: returncode: None args: ['streamlit', 'run', '--server.headless=True'...>"
      ]
     },
     "execution_count": 10,
     "metadata": {},
     "output_type": "execute_result"
    }
   ],
   "source": [
    "tru.run_dashboard()"
   ]
  },
  {
   "cell_type": "code",
   "execution_count": 11,
   "metadata": {},
   "outputs": [],
   "source": [
    "from typing import Optional, List\n",
    "from trulens_eval.schema import types as mod_types_schema\n",
    "\n",
    "import json\n",
    "\n",
    "def get_leaderboard_grouped_by_metadata(\n",
    "        record_metadata_key: str = None,\n",
    "        app_ids: Optional[List[mod_types_schema.AppID]] = None,\n",
    "        \n",
    "    ) -> pd.DataFrame:\n",
    "    \"\"\"Get a leaderboard for the given apps grouped by record metadata\n",
    "\n",
    "    Args:\n",
    "        app_ids: A list of app ids to filter records by. If empty or not given, all\n",
    "            apps will be included in leaderboard.\n",
    "        record_metadata_key: A key included in record metadata that you want to group results by.\n",
    "\n",
    "    Returns:\n",
    "        Dataframe of apps with their feedback results aggregated and grouped by the specified record metadata key.\n",
    "    \"\"\"\n",
    "\n",
    "    if app_ids is None:\n",
    "        app_ids = []\n",
    "\n",
    "    df, feedback_cols = tru.get_records_and_feedback(app_ids)\n",
    "\n",
    "    df['meta'] = [json.loads(df[\"record_json\"][i])[\"meta\"] for i in range(len(df))]\n",
    "\n",
    "    df[str(record_metadata_key)] = [item.get(record_metadata_key, \"No metadata for specified key\") for item in df['meta']]\n",
    "\n",
    "    col_agg_list = feedback_cols + ['latency', 'total_cost']\n",
    "\n",
    "    leaderboard = df.groupby(['app_id',str(record_metadata_key)])[col_agg_list].mean().sort_values(\n",
    "            by=feedback_cols, ascending=False\n",
    "    )\n",
    "\n",
    "    return leaderboard"
   ]
  },
  {
   "cell_type": "code",
   "execution_count": 12,
   "metadata": {},
   "outputs": [
    {
     "data": {
      "text/html": [
       "<div>\n",
       "<style scoped>\n",
       "    .dataframe tbody tr th:only-of-type {\n",
       "        vertical-align: middle;\n",
       "    }\n",
       "\n",
       "    .dataframe tbody tr th {\n",
       "        vertical-align: top;\n",
       "    }\n",
       "\n",
       "    .dataframe thead th {\n",
       "        text-align: right;\n",
       "    }\n",
       "</style>\n",
       "<table border=\"1\" class=\"dataframe\">\n",
       "  <thead>\n",
       "    <tr style=\"text-align: right;\">\n",
       "      <th></th>\n",
       "      <th></th>\n",
       "      <th>Mean Absolute Error (consider answerability)</th>\n",
       "      <th>Mean Absolute Error (all abstensions score high)</th>\n",
       "      <th>latency</th>\n",
       "      <th>total_cost</th>\n",
       "    </tr>\n",
       "    <tr>\n",
       "      <th>app_id</th>\n",
       "      <th>group</th>\n",
       "      <th></th>\n",
       "      <th></th>\n",
       "      <th></th>\n",
       "      <th></th>\n",
       "    </tr>\n",
       "  </thead>\n",
       "  <tbody>\n",
       "    <tr>\n",
       "      <th rowspan=\"3\" valign=\"top\">groundedness GPT-4o-instruct</th>\n",
       "      <th>Unanswerable Abstention</th>\n",
       "      <td>1.000000</td>\n",
       "      <td>1.000000</td>\n",
       "      <td>0.285714</td>\n",
       "      <td>0.001287</td>\n",
       "    </tr>\n",
       "    <tr>\n",
       "      <th>Control</th>\n",
       "      <td>0.052189</td>\n",
       "      <td>0.052189</td>\n",
       "      <td>2.492188</td>\n",
       "      <td>0.025812</td>\n",
       "    </tr>\n",
       "    <tr>\n",
       "      <th>Answerable Abstention</th>\n",
       "      <td>NaN</td>\n",
       "      <td>0.974576</td>\n",
       "      <td>0.288136</td>\n",
       "      <td>0.003354</td>\n",
       "    </tr>\n",
       "  </tbody>\n",
       "</table>\n",
       "</div>"
      ],
      "text/plain": [
       "                                                      Mean Absolute Error (consider answerability)  \\\n",
       "app_id                       group                                                                   \n",
       "groundedness GPT-4o-instruct Unanswerable Abstention                                      1.000000   \n",
       "                             Control                                                      0.052189   \n",
       "                             Answerable Abstention                                             NaN   \n",
       "\n",
       "                                                      Mean Absolute Error (all abstensions score high)  \\\n",
       "app_id                       group                                                                       \n",
       "groundedness GPT-4o-instruct Unanswerable Abstention                                          1.000000   \n",
       "                             Control                                                          0.052189   \n",
       "                             Answerable Abstention                                            0.974576   \n",
       "\n",
       "                                                       latency  total_cost  \n",
       "app_id                       group                                          \n",
       "groundedness GPT-4o-instruct Unanswerable Abstention  0.285714    0.001287  \n",
       "                             Control                  2.492188    0.025812  \n",
       "                             Answerable Abstention    0.288136    0.003354  "
      ]
     },
     "execution_count": 12,
     "metadata": {},
     "output_type": "execute_result"
    }
   ],
   "source": [
    "get_leaderboard_grouped_by_metadata(record_metadata_key = \"group\")"
   ]
  }
 ],
 "metadata": {
  "kernelspec": {
   "display_name": "Python 3 (ipykernel)",
   "language": "python",
   "name": "python3"
  },
  "language_info": {
   "codemirror_mode": {
    "name": "ipython",
    "version": 3
   },
   "file_extension": ".py",
   "mimetype": "text/x-python",
   "name": "python",
   "nbconvert_exporter": "python",
   "pygments_lexer": "ipython3",
   "version": "3.11.9"
  }
 },
 "nbformat": 4,
 "nbformat_minor": 2
}
