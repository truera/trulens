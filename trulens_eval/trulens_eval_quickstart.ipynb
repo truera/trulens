{
 "cells": [
  {
   "cell_type": "markdown",
   "metadata": {},
   "source": [
    "# TruLens for LLMs: Quickstart\n",
    "\n",
    "In this quickstart you will create a simple LLM Chain and learn how to log it and get feedback on an LLM response.\n",
    "\n",
    "Note: If you haven't already, make sure to set up your local .env file with your OpenAI and Huggingface Keys. Your .env file should be in the same directory that you run this notebook. If you need help, take a look at the [.env.example](https://github.com/truera/trulens_private/blob/e8b11c4689e644687d2eafe09d90d8d7774b581c/trulens_eval/trulens_eval/.env.example#L4)"
   ]
  },
  {
   "cell_type": "markdown",
   "metadata": {},
   "source": [
    "## Import from LangChain and TruLens"
   ]
  },
  {
   "cell_type": "code",
   "execution_count": 1,
   "metadata": {},
   "outputs": [
    {
     "name": "stdout",
     "output_type": "stream",
     "text": [
      "KEY SET: OPENAI_API_KEY\n",
      "KEY SET: PINECONE_API_KEY\n",
      "KEY SET: PINECONE_ENV\n",
      "KEY SET: HUGGINGFACE_API_KEY\n",
      "KEY SET: SLACK_TOKEN\n",
      "KEY SET: SLACK_SIGNING_SECRET\n",
      "KEY SET: COHERE_API_KEY\n"
     ]
    }
   ],
   "source": [
    "from IPython.display import JSON\n",
    "\n",
    "# imports from trulens to log and get feedback on chain\n",
    "from trulens_eval.keys import *\n",
    "from trulens_eval import TruChain, Feedback, OpenAI, Huggingface, db, tru\n",
    "\n",
    "# imports from langchain to build app\n",
    "from langchain.chains import LLMChain\n",
    "from langchain.chat_models import ChatOpenAI\n",
    "from langchain.prompts.chat import ChatPromptTemplate, PromptTemplate\n",
    "from langchain.prompts.chat import HumanMessagePromptTemplate"
   ]
  },
  {
   "cell_type": "markdown",
   "metadata": {},
   "source": [
    "## Create Simple LLM Application\n",
    "\n",
    "This example uses a LangChain framework and OpenAI LLM"
   ]
  },
  {
   "cell_type": "code",
   "execution_count": 2,
   "metadata": {},
   "outputs": [],
   "source": [
    "full_prompt = HumanMessagePromptTemplate(\n",
    "    prompt=PromptTemplate(\n",
    "        template=\n",
    "        \"Provide a helpful response with relevant background information for the following: {prompt}\",\n",
    "        input_variables=[\"prompt\"],\n",
    "    )\n",
    ")\n",
    "\n",
    "chat_prompt_template = ChatPromptTemplate.from_messages([full_prompt])\n",
    "\n",
    "chat = ChatOpenAI(model_name='gpt-3.5-turbo', temperature=0.9)\n",
    "\n",
    "chain = LLMChain(llm=chat, prompt=chat_prompt_template, verbose=True)"
   ]
  },
  {
   "cell_type": "markdown",
   "metadata": {},
   "source": [
    "## Send your first request to your new app, asking how to adopt a dog in spanish"
   ]
  },
  {
   "cell_type": "code",
   "execution_count": 3,
   "metadata": {},
   "outputs": [
    {
     "name": "stdout",
     "output_type": "stream",
     "text": [
      "\n",
      "\n",
      "\u001b[1m> Entering new LLMChain chain...\u001b[0m\n",
      "Prompt after formatting:\n",
      "\u001b[32;1m\u001b[1;3mHuman: Provide a helpful response with relevant background information for the following: Como adopto un perro?\u001b[0m\n",
      "\n",
      "\u001b[1m> Finished chain.\u001b[0m\n"
     ]
    },
    {
     "data": {
      "text/plain": [
       "{'prompt': 'Como adopto un perro?',\n",
       " 'text': '¡Adoptar un perro es una gran responsabilidad y una decisión importante! Si estás interesado en adoptar un perro, lo primero que debes hacer es investigar los refugios y organizaciones de rescate de animales en tu área. Estos lugares suelen tener perros de diferentes edades, tamaños y personalidades, por lo que es posible que puedas encontrar el compañero perfecto para ti.\\n\\nAntes de adoptar, asegúrate de tener en cuenta tus necesidades y estilo de vida para encontrar un perro que se adapte bien a tu hogar. También debes estar preparado para proporcionarle a tu nuevo compañero todo lo que necesita, incluyendo alimentos de calidad, atención médica regular y suficiente ejercicio y estimulación mental.\\n\\nCuando encuentres un perro que te guste, tendrás que completar un proceso de solicitud y evaluación de adopción. Este proceso puede variar dependiendo del refugio u organización, pero por lo general incluye una entrevista, una verificación de antecedentes y una visita domiciliaria para asegurarse de que tu hogar es un lugar seguro y adecuado para un perro.\\n\\n¡Buena suerte con tu búsqueda de un nuevo amigo peludo!'}"
      ]
     },
     "metadata": {},
     "output_type": "display_data"
    }
   ],
   "source": [
    "prompt_input = 'Como adopto un perro?'\n",
    "gpt3_response = chain(prompt_input)\n",
    "\n",
    "display(gpt3_response)"
   ]
  },
  {
   "attachments": {},
   "cell_type": "markdown",
   "metadata": {},
   "source": [
    "# Instrument chain for logging with TruLens"
   ]
  },
  {
   "cell_type": "code",
   "execution_count": 4,
   "metadata": {},
   "outputs": [
    {
     "name": "stderr",
     "output_type": "stream",
     "text": [
      "WARNING:root:`feedback_mode` is not None but `db` was not specified. Reverting to None, no feedback will be evaluated or logged.\n"
     ]
    }
   ],
   "source": [
    "truchain: TruChain = TruChain(chain, chain_id='Chain1_ChatApplication')"
   ]
  },
  {
   "cell_type": "code",
   "execution_count": 5,
   "metadata": {},
   "outputs": [
    {
     "name": "stdout",
     "output_type": "stream",
     "text": [
      "\n",
      "\n",
      "\u001b[1m> Entering new LLMChain chain...\u001b[0m\n",
      "Prompt after formatting:\n",
      "\u001b[32;1m\u001b[1;3mHuman: Provide a helpful response with relevant background information for the following: Como adopto un perro?\u001b[0m\n",
      "\n",
      "\u001b[1m> Finished chain.\u001b[0m\n"
     ]
    },
    {
     "data": {
      "text/plain": [
       "{'prompt': 'Como adopto un perro?',\n",
       " 'text': 'Adoptar un perro es un proceso emocionante y gratificante que puede tomar algo de tiempo y preparación. Aquí hay algunos pasos que puedes seguir para adoptar un perro:\\n\\n1. Investiga las diferentes organizaciones de rescate y refugios de animales en tu área. Estos lugares pueden tener una variedad de perros disponibles para la adopción, desde cachorros hasta perros mayores.\\n\\n2. Considera qué tipo de perro sería adecuado para ti y para tu estilo de vida. ¿Quieres un perro activo o uno que sea más tranquilo? ¿Tienes espacio suficiente en tu hogar para un perro grande o prefieres uno más pequeño?\\n\\n3. Llena la solicitud de adopción proporcionada por la organización de rescate o refugio. Esta solicitud te permitirá proporcionar información sobre tu hogar, estilo de vida y experiencia con perros.\\n\\n4. Visita el refugio o la organización de rescate para conocer a los perros disponibles para la adopción. Pregunta acerca de sus necesidades de cuidado y sobre su historial de salud.\\n\\n5. Si encuentras un perro que crees que sería una buena adición a tu hogar, pide tener una sesión de interacción con él. Esto te permitirá evaluar la personalidad y el temperamento del perro y asegurarte de que sea un buen partido para ti.\\n\\n6. Si la organización de rescate o refugio aprueba tu solicitud de adopción y decides adoptar al perro, deberás completar un contrato de adopción y pagar una tarifa de adopción. Esto generalmente incluye el costo de las vacunas y la esterilización o castración del perro.\\n\\nRecuerda que adoptar un perro es una gran responsabilidad y requiere tiempo, paciencia y amor. Si tienes preguntas adicionales, no dudes en consultar con el personal de la organización de rescate o refugio en el que desees adoptar un perro.'}"
      ]
     },
     "metadata": {},
     "output_type": "display_data"
    }
   ],
   "source": [
    "# Instrumented chain can operate like the original:\n",
    "\n",
    "gpt3_response = truchain(prompt_input)\n",
    "\n",
    "display(gpt3_response)"
   ]
  },
  {
   "cell_type": "code",
   "execution_count": 6,
   "metadata": {},
   "outputs": [
    {
     "name": "stdout",
     "output_type": "stream",
     "text": [
      "\n",
      "\n",
      "\u001b[1m> Entering new LLMChain chain...\u001b[0m\n",
      "Prompt after formatting:\n",
      "\u001b[32;1m\u001b[1;3mHuman: Provide a helpful response with relevant background information for the following: Como adopto un perro?\u001b[0m\n",
      "\n",
      "\u001b[1m> Finished chain.\u001b[0m\n"
     ]
    },
    {
     "data": {
      "application/json": {
       "_cost": {
        "total_cost": 0.000698,
        "total_tokens": 349
       },
       "chain": {
        "_call": {
         "args": {
          "inputs": {
           "prompt": "Como adopto un perro?"
          }
         },
         "chain_stack": [
          [
           "chain"
          ]
         ],
         "end_time": "2023-05-22 15:19:15.931627",
         "pid": 553777,
         "rets": {
          "text": "Para adoptar un perro, hay varias opciones disponibles. Primero, puede buscar en refugios locales de animales o en organizaciones de rescate de perros para encontrar un perro que se adapte a sus necesidades y estilo de vida. También puede buscar en sitios web de adopción de mascotas, como Petfinder, que conecta a los adoptantes potenciales con perros en refugios y organizaciones de rescate en su área.\n\nAntes de adoptar un perro, es importante considerar factores como su estilo de vida, presupuesto y horario para garantizar que puede brindar al perro el cuidado y la atención adecuados. También debe estar dispuesto a comprometerse a proporcionar un hogar amoroso y permanente al perro adoptado.\n\nUna vez que haya encontrado un perro que le guste, deberá completar un proceso de solicitud de adopción que puede incluir una entrevista, verificación de antecedentes y visitas a domicilio. Una vez aprobada su solicitud, se deberá firmar un contrato de adopción y pagar una tarifa de adopción que generalmente cubre el costo de la vacunación y esterilización del perro.\n\nAdoptar un perro es una gran responsabilidad, pero también puede ser una experiencia muy gratificante. No solo le dará a un perro una segunda oportunidad en la vida, sino que también agregará un nuevo miembro amoroso a su hogar."
         },
         "start_time": "2023-05-22 15:18:49.007481",
         "tid": 553777
        }
       },
       "chain_id": "Chain1_ChatApplication"
      },
      "text/plain": [
       "<IPython.core.display.JSON object>"
      ]
     },
     "execution_count": 6,
     "metadata": {
      "application/json": {
       "expanded": false,
       "root": "root"
      }
     },
     "output_type": "execute_result"
    }
   ],
   "source": [
    "# But can also produce a log or \"record\" of the execution of the chain:\n",
    "\n",
    "gpt3_response, record = truchain.call_with_record(prompt_input)\n",
    "\n",
    "JSON(record)"
   ]
  },
  {
   "cell_type": "code",
   "execution_count": 7,
   "metadata": {},
   "outputs": [],
   "source": [
    "# We can log the records but first we need to log the chain itself:\n",
    "\n",
    "tru.add_chain(chain_json=truchain.json)"
   ]
  },
  {
   "cell_type": "code",
   "execution_count": 8,
   "metadata": {},
   "outputs": [],
   "source": [
    "# Now the record:\n",
    "\n",
    "record_id = tru.add_record(\n",
    "    prompt=prompt_input, # prompt input\n",
    "    response=gpt3_response['text'], # LLM response\n",
    "    record_json=record # record is returned by the TruChain wrapper\n",
    ")"
   ]
  },
  {
   "cell_type": "code",
   "execution_count": 9,
   "metadata": {},
   "outputs": [
    {
     "name": "stdout",
     "output_type": "stream",
     "text": [
      "*** Creating new Endpoint singleton instance for name = huggingface ***\n",
      "*** Creating huggingface endpoint ***\n"
     ]
    },
    {
     "data": {
      "application/vnd.jupyter.widget-view+json": {
       "model_id": "1407a77f6f104e3680c5969726a7487d",
       "version_major": 2,
       "version_minor": 0
      },
      "text/plain": [
       "huggingface api: 0requests [00:00, ?requests/s]"
      ]
     },
     "metadata": {},
     "output_type": "display_data"
    },
    {
     "name": "stdout",
     "output_type": "stream",
     "text": [
      "*** Creating new TP singleton instance for name = None ***\n"
     ]
    }
   ],
   "source": [
    "# Initialize Huggingface-based feedback function collection class:\n",
    "hugs = Huggingface()\n",
    "\n",
    "# Define a language match feedback function using HuggingFace.\n",
    "f_lang_match = Feedback(hugs.language_match).on(\n",
    "    text1=\"prompt\", text2=\"response\"\n",
    ")"
   ]
  },
  {
   "cell_type": "code",
   "execution_count": 10,
   "metadata": {},
   "outputs": [],
   "source": [
    "# This might take a moment if the public api needs to load the language model\n",
    "# used in the feedback function:\n",
    "feedback_result = f_lang_match.run_on_record(\n",
    "    chain_json=truchain.json, record_json=record\n",
    ")"
   ]
  },
  {
   "cell_type": "code",
   "execution_count": 11,
   "metadata": {},
   "outputs": [
    {
     "data": {
      "application/json": {
       "_success": true,
       "feedback_id": "feedback_hash_26c84c76d907d808c36028e024af63c0",
       "language_match": 0.005192771084693959,
       "record_id": "record_hash_3d3ce2e1eab00fceebd54330d2944074"
      },
      "text/plain": [
       "<IPython.core.display.JSON object>"
      ]
     },
     "execution_count": 11,
     "metadata": {
      "application/json": {
       "expanded": false,
       "root": "root"
      }
     },
     "output_type": "execute_result"
    }
   ],
   "source": [
    "JSON(feedback_result)"
   ]
  },
  {
   "cell_type": "code",
   "execution_count": 12,
   "metadata": {},
   "outputs": [],
   "source": [
    "# Alternatively, run a collection of feedback functions:\n",
    "\n",
    "feedback_results = tru.run_feedback_functions(\n",
    "    record_json=record,\n",
    "    feedback_functions=[f_lang_match]\n",
    ")"
   ]
  },
  {
   "cell_type": "code",
   "execution_count": 13,
   "metadata": {},
   "outputs": [
    {
     "data": {
      "text/plain": [
       "[{'_success': True,\n",
       "  'feedback_id': 'feedback_hash_26c84c76d907d808c36028e024af63c0',\n",
       "  'record_id': 'record_hash_3d3ce2e1eab00fceebd54330d2944074',\n",
       "  'language_match': 0.005192771084693959}]"
      ]
     },
     "metadata": {},
     "output_type": "display_data"
    }
   ],
   "source": [
    "display(feedback_results)"
   ]
  },
  {
   "cell_type": "code",
   "execution_count": 14,
   "metadata": {},
   "outputs": [],
   "source": [
    "# These can be logged:\n",
    "\n",
    "for result in feedback_results:\n",
    "    tru.add_feedback(result)"
   ]
  },
  {
   "cell_type": "markdown",
   "metadata": {},
   "source": [
    "## Run the TruLens dashboard to explore the quality of your LLM chain"
   ]
  },
  {
   "cell_type": "code",
   "execution_count": 15,
   "metadata": {},
   "outputs": [],
   "source": [
    "tru.run_dashboard() # open a local streamlit app to explore"
   ]
  },
  {
   "attachments": {},
   "cell_type": "markdown",
   "metadata": {},
   "source": [
    "## Automatic Logging\n",
    "\n",
    "The above logging and feedback function evaluation steps can be done by TruChain."
   ]
  },
  {
   "cell_type": "code",
   "execution_count": 16,
   "metadata": {},
   "outputs": [
    {
     "name": "stdout",
     "output_type": "stream",
     "text": [
      "Inserting chain and feedback function definitions to db.\n"
     ]
    }
   ],
   "source": [
    "truchain: TruChain = TruChain(\n",
    "    chain,\n",
    "    chain_id='Chain1_ChatApplication',\n",
    "    feedbacks=[f_lang_match],\n",
    "    db=db\n",
    ")\n",
    "\n",
    "# Note: providing `db: TruDB` causes the above constructor to log the wrapped chain in the database specified.\n",
    "\n",
    "# Note: any `feedbacks` specified here will be evaluated and logged whenever the chain is used."
   ]
  },
  {
   "cell_type": "code",
   "execution_count": 17,
   "metadata": {},
   "outputs": [
    {
     "name": "stdout",
     "output_type": "stream",
     "text": [
      "\n",
      "\n",
      "\u001b[1m> Entering new LLMChain chain...\u001b[0m\n",
      "Prompt after formatting:\n",
      "\u001b[32;1m\u001b[1;3mHuman: Provide a helpful response with relevant background information for the following: This will be automatically logged.\u001b[0m\n",
      "\n",
      "      👋 Welcome to Streamlit!\n",
      "\n",
      "      If you’d like to receive helpful onboarding emails, news, offers, promotions,\n",
      "      and the occasional swag, please enter your email address below. Otherwise,\n",
      "      leave this field blank.\n",
      "\n",
      "      Email:  \n",
      "\u001b[1m> Finished chain.\u001b[0m\n",
      "Running feedback functions now.\n"
     ]
    },
    {
     "data": {
      "text/plain": [
       "{'prompt': 'This will be automatically logged.',\n",
       " 'text': 'When someone says \"this will be automatically logged,\" it means that a system or software is tracking the activity or event. This is common in many industries where it is necessary to maintain a record of all actions and events for legal, regulatory, or internal purposes. For example, in cybersecurity, all network and system traffic is automatically logged to track any potential security breaches or attacks. Similarly, in healthcare, patient records are automatically logged to ensure compliance with regulations and to provide accurate medical records. Consequently, it is important to be aware that your actions are being recorded and monitored in certain settings.'}"
      ]
     },
     "execution_count": 17,
     "metadata": {},
     "output_type": "execute_result"
    }
   ],
   "source": [
    "truchain(\"This will be automatically logged.\")"
   ]
  },
  {
   "attachments": {},
   "cell_type": "markdown",
   "metadata": {},
   "source": [
    "## Out-of-band Feedback evaluation\n",
    "\n",
    "In the above example, the feedback function evaluation is done in the same process as the chain evaluation. The alternative approach is the use the provided persistent evaluator started via `tru.start_deferred_feedback_evaluator`. Then specify the `feedback_mode` for `TruChain` as `deferred` to let the evaluator handle the feedback functions.\n",
    "\n",
    "For demonstration purposes, we start the evaluator here but it can be started in another process."
   ]
  },
  {
   "cell_type": "code",
   "execution_count": 18,
   "metadata": {},
   "outputs": [
    {
     "name": "stdout",
     "output_type": "stream",
     "text": [
      "Inserting chain and feedback function definitions to db.\n"
     ]
    }
   ],
   "source": [
    "truchain: TruChain = TruChain(\n",
    "    chain,\n",
    "    chain_id='Chain1_ChatApplication',\n",
    "    feedbacks=[f_lang_match],\n",
    "    db=db,\n",
    "    feedback_mode=\"deferred\"\n",
    ")"
   ]
  },
  {
   "cell_type": "code",
   "execution_count": 19,
   "metadata": {},
   "outputs": [],
   "source": [
    "tru.start_deferred_feedback_evaluator()"
   ]
  },
  {
   "cell_type": "code",
   "execution_count": 20,
   "metadata": {},
   "outputs": [
    {
     "name": "stdout",
     "output_type": "stream",
     "text": [
      "\n",
      "\n",
      "\u001b[1m> Entering new LLMChain chain...\u001b[0m\n",
      "Prompt after formatting:\n",
      "\u001b[32;1m\u001b[1;3mHuman: Provide a helpful response with relevant background information for the following: This will be logged by deferred evaluator.\u001b[0m\n",
      "\n",
      "\u001b[1m> Finished chain.\u001b[0m\n",
      "Inserting feedback for future evaluation feedback_hash_26c84c76d907d808c36028e024af63c0\n"
     ]
    },
    {
     "data": {
      "text/plain": [
       "{'prompt': 'This will be logged by deferred evaluator.',\n",
       " 'text': 'Deferred evaluation is a programming technique that defers the evaluation of an expression until its value is actually needed. This technique helps to improve performance and optimize memory usage. \\n\\nWhen a statement is logged by deferred evaluator, it means that the evaluation of that statement will be postponed until a later time. This is useful in situations where the statement is time-consuming or resource-intensive, and executing it immediately would negatively impact the performance of the application. \\n\\nThe deferred evaluator will keep track of the statement and execute it at an appropriate time, ensuring that the application runs smoothly and efficiently. This technique is commonly used in functional programming languages and frameworks like Haskell and ReactiveX.'}"
      ]
     },
     "execution_count": 20,
     "metadata": {},
     "output_type": "execute_result"
    },
    {
     "name": "stdout",
     "output_type": "stream",
     "text": [
      "Starting run for row 2.\n"
     ]
    }
   ],
   "source": [
    "truchain(\"This will be logged by deferred evaluator.\")"
   ]
  },
  {
   "attachments": {},
   "cell_type": "markdown",
   "metadata": {},
   "source": [
    "Feedback functions evaluated in the deferred manner can be seen in the \"Progress\" page of the TruLens dashboard."
   ]
  },
  {
   "cell_type": "markdown",
   "metadata": {},
   "source": []
  }
 ],
 "metadata": {
  "kernelspec": {
   "display_name": "Python 3.8.16 ('trulens')",
   "language": "python",
   "name": "python3"
  },
  "language_info": {
   "codemirror_mode": {
    "name": "ipython",
    "version": 3
   },
   "file_extension": ".py",
   "mimetype": "text/x-python",
   "name": "python",
   "nbconvert_exporter": "python",
   "pygments_lexer": "ipython3",
   "version": "3.10.6"
  },
  "orig_nbformat": 4,
  "vscode": {
   "interpreter": {
    "hash": "c633204c92f433e69d41413efde9db4a539ce972d10326abcceb024ad118839e"
   }
  }
 },
 "nbformat": 4,
 "nbformat_minor": 2
}
