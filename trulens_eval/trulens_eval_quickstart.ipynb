{
 "cells": [
  {
   "cell_type": "code",
   "execution_count": 1,
   "metadata": {},
   "outputs": [],
   "source": [
    "%load_ext autoreload\n",
    "%autoreload 2"
   ]
  },
  {
   "cell_type": "markdown",
   "metadata": {},
   "source": [
    "# TruLens for LLMs: Quickstart\n",
    "\n",
    "In this quickstart you will create a simple LLM Chain and learn how to log it and get feedback on an LLM response.\n",
    "\n",
    "Note: If you haven't already, make sure to set up your local .env file with your OpenAI and Huggingface Keys. Your .env file should be in the same directory that you run this notebook. If you need help, take a look at the [.env.example](https://github.com/truera/trulens_private/blob/e8b11c4689e644687d2eafe09d90d8d7774b581c/trulens_eval/trulens_eval/.env.example#L4)"
   ]
  },
  {
   "cell_type": "markdown",
   "metadata": {},
   "source": [
    "## Import from LangChain and TruLens"
   ]
  },
  {
   "cell_type": "code",
   "execution_count": 2,
   "metadata": {},
   "outputs": [
    {
     "name": "stdout",
     "output_type": "stream",
     "text": [
      "KEY SET: OPENAI_API_KEY\n",
      "KEY SET: PINECONE_API_KEY\n",
      "KEY SET: PINECONE_ENV\n",
      "KEY SET: HUGGINGFACE_API_KEY\n",
      "KEY SET: SLACK_TOKEN\n",
      "KEY SET: SLACK_SIGNING_SECRET\n",
      "KEY SET: COHERE_API_KEY\n"
     ]
    }
   ],
   "source": [
    "from IPython.display import JSON\n",
    "\n",
    "# imports from langchain to build app\n",
    "from langchain.chains import LLMChain\n",
    "from langchain.chat_models import ChatOpenAI\n",
    "from langchain.prompts.chat import ChatPromptTemplate, PromptTemplate\n",
    "from langchain.prompts.chat import HumanMessagePromptTemplate\n",
    "\n",
    "# imports from trulens to log and get feedback on chain\n",
    "from trulens_eval import TruChain, Feedback, OpenAI, Huggingface, db, tru\n",
    "# from trulens_eval import tru_chain\n",
    "# from trulens_eval.tru_chain import TruChain\n",
    "# from trulens_eval.tru_feedback import Feedback, Huggingface, OpenAI\n",
    "from trulens_eval.keys import *"
   ]
  },
  {
   "cell_type": "markdown",
   "metadata": {},
   "source": [
    "## Create Simple LLM Application\n",
    "\n",
    "This example uses a LangChain framework and OpenAI LLM"
   ]
  },
  {
   "cell_type": "code",
   "execution_count": 3,
   "metadata": {},
   "outputs": [],
   "source": [
    "full_prompt = HumanMessagePromptTemplate(\n",
    "    prompt=PromptTemplate(\n",
    "        template=\n",
    "        \"Provide a helpful response with relevant background information for the following: {prompt}\",\n",
    "        input_variables=[\"prompt\"],\n",
    "    )\n",
    ")\n",
    "\n",
    "chat_prompt_template = ChatPromptTemplate.from_messages([full_prompt])\n",
    "\n",
    "chat = ChatOpenAI(model_name='gpt-3.5-turbo', temperature=0.9)\n",
    "\n",
    "chain = LLMChain(llm=chat, prompt=chat_prompt_template, verbose=True)"
   ]
  },
  {
   "cell_type": "markdown",
   "metadata": {},
   "source": [
    "## Send your first request to your new app, asking how to adopt a dog in spanish"
   ]
  },
  {
   "cell_type": "code",
   "execution_count": 4,
   "metadata": {},
   "outputs": [
    {
     "name": "stdout",
     "output_type": "stream",
     "text": [
      "\n",
      "\n",
      "\u001b[1m> Entering new LLMChain chain...\u001b[0m\n",
      "Prompt after formatting:\n",
      "\u001b[32;1m\u001b[1;3mHuman: Provide a helpful response with relevant background information for the following: Como adopto un perro?\u001b[0m\n",
      "\n",
      "\u001b[1m> Finished chain.\u001b[0m\n"
     ]
    },
    {
     "data": {
      "text/plain": [
       "{'prompt': 'Como adopto un perro?',\n",
       " 'text': 'Adoptar un perro es una gran responsabilidad y requiere una cuidadosa consideración antes de tomar cualquier decisión. Hay varias opciones para adoptar un perro, incluyendo refugios de animales, organizaciones de rescate de perros y criadores de perros responsables. Antes de adoptar, es importante investigar y elegir una fuente confiable para evitar problemas de comportamiento o de salud en el futuro.\\n\\nUna vez que hayas decidido adoptar, puedes visitar los refugios de animales o contactar con organizaciones de rescate para conocer a los perros disponibles para adopción. Los trabajadores del refugio o los voluntarios de la organización pueden ayudarte a encontrar un perro que se adapte a tu estilo de vida y personalidad. También te pueden proporcionar información sobre los requisitos de adopción, como la necesidad de un hogar seguro y adecuado para el perro.\\n\\nEs importante tener en cuenta que la adopción de un perro involucra una inversión de tiempo y recursos. Además de proporcionar al perro un hogar amoroso, necesitarás dedicar tiempo a su entrenamiento, cuidado y atención médica. Si estás dispuesto a asumir esta responsabilidad, adoptar un perro puede ser una experiencia muy gratificante y enriquecedora para ti y tu familia.'}"
      ]
     },
     "metadata": {},
     "output_type": "display_data"
    }
   ],
   "source": [
    "prompt_input = 'Como adopto un perro?'\n",
    "gpt3_response = chain(prompt_input)\n",
    "\n",
    "display(gpt3_response)"
   ]
  },
  {
   "attachments": {},
   "cell_type": "markdown",
   "metadata": {},
   "source": [
    "# Instrument chain for logging with TruLens"
   ]
  },
  {
   "cell_type": "code",
   "execution_count": 5,
   "metadata": {},
   "outputs": [],
   "source": [
    "truchain: TruChain = TruChain(chain, chain_id='Chain1_ChatApplication')"
   ]
  },
  {
   "cell_type": "code",
   "execution_count": 6,
   "metadata": {},
   "outputs": [
    {
     "name": "stdout",
     "output_type": "stream",
     "text": [
      "\n",
      "\n",
      "\u001b[1m> Entering new LLMChain chain...\u001b[0m\n",
      "Prompt after formatting:\n",
      "\u001b[32;1m\u001b[1;3mHuman: Provide a helpful response with relevant background information for the following: Como adopto un perro?\u001b[0m\n",
      "\n",
      "\u001b[1m> Finished chain.\u001b[0m\n",
      "*** Creating new TP singleton instance for name = None ***\n"
     ]
    },
    {
     "data": {
      "text/plain": [
       "{'prompt': 'Como adopto un perro?',\n",
       " 'text': '¡Adoptar un perro es una excelente manera de agregar un nuevo miembro a tu familia y ayudar a un animal que necesita un hogar amoroso! \\n\\nPara adoptar un perro, hay varios pasos que puedes tomar. Primero, investiga refugios y organizaciones de rescate en tu área. Por lo general, tendrán una lista de perros disponibles para la adopción en su sitio web. \\n\\nVisita el refugio o la organización de rescate y pasa tiempo interactuando con los perros que parezcan ser buenos candidatos para tu hogar. Pregúntale al personal del refugio sobre el temperamento y las necesidades de cada perro para asegurarte de que sea compatible con tu estilo de vida.\\n\\nUna vez que hayas encontrado el perro adecuado, completarás una solicitud de adopción y se realizará una verificación de antecedentes para asegurarse de que eres un buen candidato para ser dueño del perro. Si todo va bien, podrás llevar al perro a casa y comenzar a disfrutar de la vida juntos.\\n\\nRecuerda que adoptar un perro es un compromiso importante que debe considerarse cuidadosamente. Asegúrate de tener el tiempo, los recursos y el amor para brindar a tu nuevo amigo peludo una vida feliz y saludable.'}"
      ]
     },
     "metadata": {},
     "output_type": "display_data"
    }
   ],
   "source": [
    "# Instrumented chain can operate like the original:\n",
    "\n",
    "gpt3_response = truchain(prompt_input)\n",
    "\n",
    "display(gpt3_response)"
   ]
  },
  {
   "cell_type": "code",
   "execution_count": 7,
   "metadata": {},
   "outputs": [
    {
     "name": "stdout",
     "output_type": "stream",
     "text": [
      "\n",
      "\n",
      "\u001b[1m> Entering new LLMChain chain...\u001b[0m\n",
      "Prompt after formatting:\n",
      "\u001b[32;1m\u001b[1;3mHuman: Provide a helpful response with relevant background information for the following: Como adopto un perro?\u001b[0m\n",
      "\n",
      "\u001b[1m> Finished chain.\u001b[0m\n"
     ]
    },
    {
     "data": {
      "application/json": {
       "_cost": {
        "total_cost": 0.000582,
        "total_tokens": 291
       },
       "chain": {
        "_call": {
         "args": {
          "inputs": {
           "prompt": "Como adopto un perro?"
          }
         },
         "chain_stack": [
          [
           "chain"
          ]
         ],
         "end_time": "2023-05-22 13:14:29.835998",
         "pid": 545959,
         "rets": {
          "text": "Adoptar un perro es una gran responsabilidad, pero también puede ser una experiencia muy gratificante. Hay varias maneras de adoptar un perro, pero la forma más común es a través de un refugio o una organización de rescate de animales.\n\nAntes de adoptar un perro, es importante considerar algunas cosas, como la cantidad de tiempo y recursos que tienes para dedicarle al cuidado del perro, tu estilo de vida y presupuesto. También es importante tener en cuenta el tamaño y la raza del perro que deseas adoptar, ya que algunos requieren más espacio y ejercicio que otros.\n\nUna vez que hayas decidido adoptar un perro y hayas hecho tu investigación, puedes comenzar buscando refugios y organizaciones de rescate cerca de tu área. Es posible que debas llenar una solicitud y pasar por un proceso de entrevista antes de poder adoptar un perro. También es posible que debas pagar una tarifa de adopción y firmar un contrato de adopción.\n\nRecuerda que adoptar un perro es una gran responsabilidad, pero también es una forma maravillosa de dar un hogar amoroso y seguro a un animal necesitado."
         },
         "start_time": "2023-05-22 13:14:05.189236",
         "tid": 545959
        }
       },
       "chain_id": "Chain1_ChatApplication"
      },
      "text/plain": [
       "<IPython.core.display.JSON object>"
      ]
     },
     "execution_count": 7,
     "metadata": {
      "application/json": {
       "expanded": false,
       "root": "root"
      }
     },
     "output_type": "execute_result"
    }
   ],
   "source": [
    "# But can also produce a log or \"record\" of the execution of the chain:\n",
    "\n",
    "gpt3_response, record = truchain.call_with_record(prompt_input)\n",
    "\n",
    "JSON(record)"
   ]
  },
  {
   "cell_type": "code",
   "execution_count": 8,
   "metadata": {},
   "outputs": [],
   "source": [
    "# We can log the records but first we need to log the chain itself:\n",
    "\n",
    "tru.add_chain(chain_json=truchain.json)"
   ]
  },
  {
   "cell_type": "code",
   "execution_count": 9,
   "metadata": {},
   "outputs": [],
   "source": [
    "# Now the record:\n",
    "\n",
    "record_id = tru.add_record(\n",
    "    prompt=prompt_input, # prompt input\n",
    "    response=gpt3_response['text'], # LLM response\n",
    "    record_json=record # record is returned by the TruChain wrapper\n",
    ")"
   ]
  },
  {
   "cell_type": "code",
   "execution_count": 10,
   "metadata": {},
   "outputs": [
    {
     "name": "stdout",
     "output_type": "stream",
     "text": [
      "*** Creating new Endpoint singleton instance for name = huggingface ***\n",
      "*** Creating huggingface endpoint ***\n"
     ]
    },
    {
     "data": {
      "application/vnd.jupyter.widget-view+json": {
       "model_id": "9358d65f83214b67b3fab7bb7400493a",
       "version_major": 2,
       "version_minor": 0
      },
      "text/plain": [
       "huggingface api: 0requests [00:00, ?requests/s]"
      ]
     },
     "metadata": {},
     "output_type": "display_data"
    },
    {
     "name": "stdout",
     "output_type": "stream",
     "text": [
      "WARNING: Waiting for {'error': 'Model papluca/xlm-roberta-base-language-detection is currently loading', 'estimated_time': 20.0} (20.0) second(s).\n",
      "WARNING: Waiting for {'error': 'Model papluca/xlm-roberta-base-language-detection is currently loading', 'estimated_time': 20.0} (20.0) second(s).\n",
      "WARNING: Waiting for {'error': 'Model papluca/xlm-roberta-base-language-detection is currently loading', 'estimated_time': 20.0} (20.0) second(s).\n",
      "WARNING: Waiting for {'error': 'Model papluca/xlm-roberta-base-language-detection is currently loading', 'estimated_time': 20.0} (20.0) second(s).\n"
     ]
    }
   ],
   "source": [
    "# Initialize Huggingface-based feedback function collection class:\n",
    "hugs = Huggingface()\n",
    "\n",
    "# Define a language match feedback function using HuggingFace.\n",
    "f_lang_match = Feedback(hugs.language_match).on(text1=\"prompt\", text2=\"response\")\n",
    "\n",
    "# from trulens_eval import tru_db\n",
    "# db = tru_db.LocalSQLite(\"someotherfile.sql.db\")\n",
    "\n",
    "# wrap with truchain\n",
    "# tc = tru_chain.TruChain(\n",
    "#     chain, db=db, feedbacks=[f_lang_match]\n",
    "#)\n",
    "\n",
    "# This might take a moment if the public api needs to load the language model used in the feedback function:\n",
    "feedback_result = f_lang_match.run_on_record(chain_json=truchain.json, record_json=record)"
   ]
  },
  {
   "cell_type": "code",
   "execution_count": 11,
   "metadata": {},
   "outputs": [
    {
     "data": {
      "text/plain": [
       "{'_success': True, 'language_match': 0.00496305342312553}"
      ]
     },
     "execution_count": 11,
     "metadata": {},
     "output_type": "execute_result"
    }
   ],
   "source": [
    "feedback_result"
   ]
  },
  {
   "cell_type": "code",
   "execution_count": null,
   "metadata": {},
   "outputs": [],
   "source": []
  },
  {
   "cell_type": "code",
   "execution_count": null,
   "metadata": {},
   "outputs": [],
   "source": [
    "JSON(truchain.json)"
   ]
  },
  {
   "cell_type": "markdown",
   "metadata": {},
   "source": [
    "## Log data and feedback"
   ]
  },
  {
   "cell_type": "code",
   "execution_count": null,
   "metadata": {},
   "outputs": [],
   "source": [
    "record_id = tru.add_data(\n",
    "        chain_id='Chain1_ChatApplication', #name your chain\n",
    "        prompt=prompt_input, # prompt input\n",
    "        response=gpt3_response['text'], # LLM response\n",
    "        record=record, # record is returned by the TruChain wrapper\n",
    "        tags='dev' #add a tag\n",
    "    )\n",
    "\n",
    "\n",
    "# initialize Huggingface class for feedback function generation\n",
    "hugs = Huggingface()\n",
    "\n",
    "# Generate a language match feedback function using HuggingFace\n",
    "f_lang_match = Feedback(hugs.language_match).on(text1=\"prompt\", text2=\"response\")\n",
    "\n",
    "# Run feedack functions\n",
    "feedback = tru.run_feedback_functions(\n",
    "        chain=chain, # the unwrapped chain\n",
    "        record=record, # record is returned by the TruChain wrapper\n",
    "        feedback_functions=[f_lang_match] # a list of feedback functions to apply\n",
    "    )\n",
    "\n",
    "tru.add_feedback(record_id, feedback) # log the feedback by providing the record id"
   ]
  },
  {
   "cell_type": "markdown",
   "metadata": {},
   "source": [
    "## Run the TruLens dashboard to explore the quality of your LLM chain"
   ]
  },
  {
   "cell_type": "code",
   "execution_count": null,
   "metadata": {},
   "outputs": [],
   "source": [
    "tru.run_dashboard() # open a local streamlit app to explore"
   ]
  }
 ],
 "metadata": {
  "kernelspec": {
   "display_name": "Python 3.8.16 ('trulens')",
   "language": "python",
   "name": "python3"
  },
  "language_info": {
   "codemirror_mode": {
    "name": "ipython",
    "version": 3
   },
   "file_extension": ".py",
   "mimetype": "text/x-python",
   "name": "python",
   "nbconvert_exporter": "python",
   "pygments_lexer": "ipython3",
   "version": "3.10.6"
  },
  "orig_nbformat": 4,
  "vscode": {
   "interpreter": {
    "hash": "c633204c92f433e69d41413efde9db4a539ce972d10326abcceb024ad118839e"
   }
  }
 },
 "nbformat": 4,
 "nbformat_minor": 2
}
