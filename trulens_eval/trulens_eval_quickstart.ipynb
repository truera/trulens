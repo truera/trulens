{
 "cells": [
  {
   "cell_type": "markdown",
   "metadata": {},
   "source": [
    "# TruLens for LLMs: Quickstart\n",
    "\n",
    "In this quickstart you will create a simple LLM Chain and learn how to log it and get feedback on an LLM response.\n",
    "\n",
    "Note: If you haven't already, make sure to set up your local .env file with your OpenAI and Huggingface Keys. Your .env file should be in the same directory that you run this notebook. If you need help, take a look at the [.env.example](https://github.com/truera/trulens_private/blob/e8b11c4689e644687d2eafe09d90d8d7774b581c/trulens_eval/trulens_eval/.env.example#L4)"
   ]
  },
  {
   "cell_type": "markdown",
   "metadata": {},
   "source": [
    "## Import from LangChain and TruLens"
   ]
  },
  {
   "cell_type": "code",
   "execution_count": 1,
   "metadata": {},
   "outputs": [
    {
     "name": "stdout",
     "output_type": "stream",
     "text": [
      "KEY SET: OPENAI_API_KEY\n",
      "KEY SET: PINECONE_API_KEY\n",
      "KEY SET: PINECONE_ENV\n",
      "KEY SET: HUGGINGFACE_API_KEY\n",
      "KEY SET: SLACK_TOKEN\n",
      "KEY SET: SLACK_SIGNING_SECRET\n",
      "KEY SET: COHERE_API_KEY\n"
     ]
    }
   ],
   "source": [
    "from IPython.display import JSON\n",
    "\n",
    "# imports from trulens to log and get feedback on chain\n",
    "from trulens_eval.keys import *\n",
    "from trulens_eval import TruChain, Feedback, OpenAI, Huggingface, db, tru\n",
    "\n",
    "# imports from langchain to build app\n",
    "from langchain.chains import LLMChain\n",
    "from langchain.chat_models import ChatOpenAI\n",
    "from langchain.prompts.chat import ChatPromptTemplate, PromptTemplate\n",
    "from langchain.prompts.chat import HumanMessagePromptTemplate"
   ]
  },
  {
   "cell_type": "markdown",
   "metadata": {},
   "source": [
    "## Create Simple LLM Application\n",
    "\n",
    "This example uses a LangChain framework and OpenAI LLM"
   ]
  },
  {
   "cell_type": "code",
   "execution_count": 2,
   "metadata": {},
   "outputs": [],
   "source": [
    "full_prompt = HumanMessagePromptTemplate(\n",
    "    prompt=PromptTemplate(\n",
    "        template=\n",
    "        \"Provide a helpful response with relevant background information for the following: {prompt}\",\n",
    "        input_variables=[\"prompt\"],\n",
    "    )\n",
    ")\n",
    "\n",
    "chat_prompt_template = ChatPromptTemplate.from_messages([full_prompt])\n",
    "\n",
    "chat = ChatOpenAI(model_name='gpt-3.5-turbo', temperature=0.9)\n",
    "\n",
    "chain = LLMChain(llm=chat, prompt=chat_prompt_template, verbose=True)"
   ]
  },
  {
   "cell_type": "markdown",
   "metadata": {},
   "source": [
    "## Send your first request to your new app, asking how to adopt a dog in spanish"
   ]
  },
  {
   "cell_type": "code",
   "execution_count": 3,
   "metadata": {},
   "outputs": [],
   "source": [
    "prompt_input = 'Como adopto un perro?'"
   ]
  },
  {
   "cell_type": "code",
   "execution_count": 4,
   "metadata": {},
   "outputs": [
    {
     "name": "stdout",
     "output_type": "stream",
     "text": [
      "\n",
      "\n",
      "\u001b[1m> Entering new LLMChain chain...\u001b[0m\n",
      "Prompt after formatting:\n",
      "\u001b[32;1m\u001b[1;3mHuman: Provide a helpful response with relevant background information for the following: Como adopto un perro?\u001b[0m\n",
      "\n",
      "\u001b[1m> Finished chain.\u001b[0m\n"
     ]
    },
    {
     "data": {
      "text/plain": [
       "{'prompt': 'Como adopto un perro?',\n",
       " 'text': 'Para adoptar un perro, hay varias opciones disponibles. Puedes buscar en refugios de animales cercanos o en organizaciones de rescate de animales. Muchas de estas organizaciones tienen perfiles en línea de perros disponibles para la adopción y también programan eventos de adopción en persona.\\n\\nAntes de adoptar un perro, es importante tomar en cuenta algunas cosas: el tamaño y tipo de perro que se ajusta a tu estilo de vida, si tienes suficiente espacio, si tienes los recursos para cuidar al perro y si estás dispuesto a darle el tiempo y esfuerzo necesarios para cuidarlo adecuadamente.\\n\\nUna vez que hayas seleccionado un perro, se requerirá llenar una solicitud de adopción y generalmente se realizará una entrevista antes de que se te permita llevar al perro a casa.\\n\\nNo olvides que adoptar a un perro es una gran responsabilidad y que es importante asegurarse de que es la decisión correcta para ti y para el perro.'}"
      ]
     },
     "metadata": {},
     "output_type": "display_data"
    }
   ],
   "source": [
    "gpt3_response = chain(prompt_input)\n",
    "\n",
    "display(gpt3_response)"
   ]
  },
  {
   "attachments": {},
   "cell_type": "markdown",
   "metadata": {},
   "source": [
    "# Instrument chain for logging with TruLens"
   ]
  },
  {
   "cell_type": "code",
   "execution_count": 5,
   "metadata": {},
   "outputs": [
    {
     "name": "stderr",
     "output_type": "stream",
     "text": [
      "WARNING:root:`feedback_mode` is withchain but `db` was not specified. Reverting to None, feedback will be evaluated or logged automatically but this can still be done manually.\n"
     ]
    }
   ],
   "source": [
    "truchain: TruChain = TruChain(chain, chain_id='Chain1_ChatApplication')"
   ]
  },
  {
   "cell_type": "code",
   "execution_count": 6,
   "metadata": {},
   "outputs": [
    {
     "name": "stdout",
     "output_type": "stream",
     "text": [
      "\n",
      "\n",
      "\u001b[1m> Entering new LLMChain chain...\u001b[0m\n",
      "Prompt after formatting:\n",
      "\u001b[32;1m\u001b[1;3mHuman: Provide a helpful response with relevant background information for the following: Como adopto un perro?\u001b[0m\n",
      "\n",
      "\u001b[1m> Finished chain.\u001b[0m\n"
     ]
    },
    {
     "data": {
      "text/plain": [
       "{'prompt': 'Como adopto un perro?',\n",
       " 'text': 'Si estás interesado en adoptar un perro, hay varias opciones disponibles. Una buen lugar para comenzar es visitando refugios y organizaciones de rescate en tu área. Estos lugares suelen tener perros de todas las edades y razas que necesitan un hogar amoroso. También hay sitios web y aplicaciones de adopción de mascotas que pueden conectarte con perros que necesitan un hogar. \\n\\nAntes de adoptar un perro, es importante que consideres si tienes el tiempo, espacio y recursos para cuidar adecuadamente de tu mascota. También es esencial que familiarices con la raza de perro que te interesa para asegurarte de que sea adecuada para tus necesidades y estilo de vida. \\n\\nEn el proceso de adopción, es probable que se te solicite llenar una solicitud y ser sometido a una entrevista. Es posible que también se te pida que proporciones referencias y que te sometas a una verificación de antecedentes. Esto es común en los lugares de adopción de mascotas, ya que quieren asegurarse de que los perros sean adoptados por familias responsables y amorosas. \\n\\nUna vez que hayas cumplido con todos los requisitos de adopción, podrás elegir y llevar a casa a tu nuevo perro. Es importante dedicar tiempo y esfuerzo para hacer que la transición sea lo más suave posible para tu perro nuevo. Asegúrate de proporcionarle todo lo que necesita, incluyendo alimento de calidad, ejercicio adecuado, entrenamiento y mucho amor y cariño.'}"
      ]
     },
     "metadata": {},
     "output_type": "display_data"
    }
   ],
   "source": [
    "# Instrumented chain can operate like the original:\n",
    "\n",
    "gpt3_response = truchain(prompt_input)\n",
    "\n",
    "display(gpt3_response)"
   ]
  },
  {
   "cell_type": "code",
   "execution_count": 7,
   "metadata": {},
   "outputs": [
    {
     "name": "stdout",
     "output_type": "stream",
     "text": [
      "\n",
      "\n",
      "\u001b[1m> Entering new LLMChain chain...\u001b[0m\n",
      "Prompt after formatting:\n",
      "\u001b[32;1m\u001b[1;3mHuman: Provide a helpful response with relevant background information for the following: Como adopto un perro?\u001b[0m\n",
      "\n",
      "\u001b[1m> Finished chain.\u001b[0m\n"
     ]
    },
    {
     "data": {
      "application/json": {
       "_cost": {
        "total_cost": 0.000652,
        "total_tokens": 326
       },
       "chain": {
        "_call": {
         "args": {
          "inputs": {
           "prompt": "Como adopto un perro?"
          }
         },
         "chain_stack": [
          [
           "chain"
          ]
         ],
         "end_time": "2023-05-22 16:45:48.370326",
         "pid": 797059,
         "rets": {
          "text": "Adoptar un perro puede ser una experiencia muy gratificante, tanto para el adoptante como para el animal. Antes de adoptar, es importante considerar varios factores, como la edad, la raza, el tamaño, el nivel de actividad y el temperamento del perro en cuestión, así como el espacio y el tiempo que tienes disponible para dedicarle.\n\nUna buena opción para adoptar un perro es acudir a un refugio de animales o a una organización sin fines de lucro que se dedique a la adopción de animales. Allí podrás encontrar una gran variedad de perros de diferentes edades, tamaños y razas, que están en busca de un hogar amoroso.\n\nPara adoptar un perro, deberás completar un formulario de solicitud, proporcionar referencias y, en algunos casos, someterte a una entrevista y una visita domiciliaria. Además, deberás pagar una tarifa de adopción, que cubre los costos de esterilización, vacunación y otros cuidados veterinarios necesarios para el perro.\n\nRecuerda que adoptar un perro es una responsabilidad a largo plazo y que requiere un compromiso serio. Asegúrate de estar preparado para brindarle al nuevo miembro de la familia todo el amor, cuidado y atención que necesita."
         },
         "start_time": "2023-05-22 16:45:22.325560",
         "tid": 797059
        }
       },
       "chain_id": "Chain1_ChatApplication"
      },
      "text/plain": [
       "<IPython.core.display.JSON object>"
      ]
     },
     "execution_count": 7,
     "metadata": {
      "application/json": {
       "expanded": false,
       "root": "root"
      }
     },
     "output_type": "execute_result"
    }
   ],
   "source": [
    "# But can also produce a log or \"record\" of the execution of the chain:\n",
    "\n",
    "gpt3_response, record = truchain.call_with_record(prompt_input)\n",
    "\n",
    "JSON(record)"
   ]
  },
  {
   "cell_type": "code",
   "execution_count": 8,
   "metadata": {},
   "outputs": [],
   "source": [
    "# We can log the records but first we need to log the chain itself:\n",
    "\n",
    "tru.add_chain(chain_json=truchain.json)"
   ]
  },
  {
   "cell_type": "code",
   "execution_count": 9,
   "metadata": {},
   "outputs": [
    {
     "data": {
      "text/plain": [
       "'record_hash_723b5673553f3a40aa8164ae8bbdb5f0'"
      ]
     },
     "execution_count": 9,
     "metadata": {},
     "output_type": "execute_result"
    }
   ],
   "source": [
    "# Now the record:\n",
    "\n",
    "tru.add_record(\n",
    "    prompt=prompt_input, # prompt input\n",
    "    response=gpt3_response['text'], # LLM response\n",
    "    record_json=record # record is returned by the TruChain wrapper\n",
    ")\n",
    "\n",
    "# Note that the `add_record` call automatically sets the `record_id` field of the\n",
    "# `record_json` to the returned record id. Retrieving it from the output of `add_record` is not \n",
    "# necessary."
   ]
  },
  {
   "cell_type": "code",
   "execution_count": 10,
   "metadata": {},
   "outputs": [
    {
     "name": "stdout",
     "output_type": "stream",
     "text": [
      "*** Creating new Endpoint singleton instance for name = huggingface ***\n",
      "*** Creating huggingface endpoint ***\n"
     ]
    },
    {
     "data": {
      "application/vnd.jupyter.widget-view+json": {
       "model_id": "71a478ed1fa74474bd6eeed083de3243",
       "version_major": 2,
       "version_minor": 0
      },
      "text/plain": [
       "huggingface api: 0requests [00:00, ?requests/s]"
      ]
     },
     "metadata": {},
     "output_type": "display_data"
    },
    {
     "name": "stdout",
     "output_type": "stream",
     "text": [
      "*** Creating new TP singleton instance for name = None ***\n"
     ]
    }
   ],
   "source": [
    "# Initialize Huggingface-based feedback function collection class:\n",
    "hugs = Huggingface()\n",
    "\n",
    "# Define a language match feedback function using HuggingFace.\n",
    "f_lang_match = Feedback(hugs.language_match).on(\n",
    "    text1=\"prompt\", text2=\"response\"\n",
    ")"
   ]
  },
  {
   "cell_type": "code",
   "execution_count": 11,
   "metadata": {},
   "outputs": [],
   "source": [
    "# This might take a moment if the public api needs to load the language model\n",
    "# used in the feedback function:\n",
    "feedback_result = f_lang_match.run_on_record(\n",
    "    chain_json=truchain.json, record_json=record\n",
    ")"
   ]
  },
  {
   "cell_type": "code",
   "execution_count": 12,
   "metadata": {},
   "outputs": [
    {
     "data": {
      "application/json": {
       "_success": true,
       "feedback_id": "feedback_hash_26c84c76d907d808c36028e024af63c0",
       "language_match": 0.005036122314777458,
       "record_id": "record_hash_723b5673553f3a40aa8164ae8bbdb5f0"
      },
      "text/plain": [
       "<IPython.core.display.JSON object>"
      ]
     },
     "execution_count": 12,
     "metadata": {
      "application/json": {
       "expanded": false,
       "root": "root"
      }
     },
     "output_type": "execute_result"
    }
   ],
   "source": [
    "JSON(feedback_result)"
   ]
  },
  {
   "cell_type": "code",
   "execution_count": 13,
   "metadata": {},
   "outputs": [],
   "source": [
    "# Alternatively, run a collection of feedback functions:\n",
    "\n",
    "feedback_results = tru.run_feedback_functions(\n",
    "    record_json=record,\n",
    "    feedback_functions=[f_lang_match]\n",
    ")"
   ]
  },
  {
   "cell_type": "code",
   "execution_count": 14,
   "metadata": {},
   "outputs": [
    {
     "data": {
      "text/plain": [
       "[{'_success': True,\n",
       "  'feedback_id': 'feedback_hash_26c84c76d907d808c36028e024af63c0',\n",
       "  'record_id': 'record_hash_723b5673553f3a40aa8164ae8bbdb5f0',\n",
       "  'language_match': 0.005036122314777458}]"
      ]
     },
     "metadata": {},
     "output_type": "display_data"
    }
   ],
   "source": [
    "display(feedback_results)"
   ]
  },
  {
   "cell_type": "code",
   "execution_count": 15,
   "metadata": {},
   "outputs": [],
   "source": [
    "# These can be logged:\n",
    "\n",
    "tru.add_feedbacks(feedback_results)"
   ]
  },
  {
   "cell_type": "markdown",
   "metadata": {},
   "source": [
    "## Run the TruLens dashboard to explore the quality of your LLM chain"
   ]
  },
  {
   "cell_type": "code",
   "execution_count": null,
   "metadata": {},
   "outputs": [],
   "source": [
    "tru.run_dashboard() # open a local streamlit app to explore"
   ]
  },
  {
   "attachments": {},
   "cell_type": "markdown",
   "metadata": {},
   "source": [
    "## Automatic Logging\n",
    "\n",
    "The above logging and feedback function evaluation steps can be done by TruChain."
   ]
  },
  {
   "cell_type": "code",
   "execution_count": null,
   "metadata": {},
   "outputs": [],
   "source": [
    "truchain: TruChain = TruChain(\n",
    "    chain,\n",
    "    chain_id='Chain1_ChatApplication',\n",
    "    feedbacks=[f_lang_match],\n",
    "    db=db\n",
    ")\n",
    "\n",
    "# Note: providing `db: TruDB` causes the above constructor to log the wrapped chain in the database specified.\n",
    "\n",
    "# Note: any `feedbacks` specified here will be evaluated and logged whenever the chain is used."
   ]
  },
  {
   "cell_type": "code",
   "execution_count": null,
   "metadata": {},
   "outputs": [],
   "source": [
    "truchain(\"This will be automatically logged.\")"
   ]
  },
  {
   "attachments": {},
   "cell_type": "markdown",
   "metadata": {},
   "source": [
    "## Out-of-band Feedback evaluation\n",
    "\n",
    "In the above example, the feedback function evaluation is done in the same process as the chain evaluation. The alternative approach is the use the provided persistent evaluator started via `tru.start_deferred_feedback_evaluator`. Then specify the `feedback_mode` for `TruChain` as `deferred` to let the evaluator handle the feedback functions.\n",
    "\n",
    "For demonstration purposes, we start the evaluator here but it can be started in another process."
   ]
  },
  {
   "cell_type": "code",
   "execution_count": null,
   "metadata": {},
   "outputs": [],
   "source": [
    "truchain: TruChain = TruChain(\n",
    "    chain,\n",
    "    chain_id='Chain1_ChatApplication',\n",
    "    feedbacks=[f_lang_match],\n",
    "    db=db,\n",
    "    feedback_mode=\"deferred\"\n",
    ")"
   ]
  },
  {
   "cell_type": "code",
   "execution_count": null,
   "metadata": {},
   "outputs": [],
   "source": [
    "tru.start_deferred_feedback_evaluator()"
   ]
  },
  {
   "cell_type": "code",
   "execution_count": null,
   "metadata": {},
   "outputs": [],
   "source": [
    "truchain(\"This will be logged by deferred evaluator.\")"
   ]
  },
  {
   "attachments": {},
   "cell_type": "markdown",
   "metadata": {},
   "source": [
    "Feedback functions evaluated in the deferred manner can be seen in the \"Progress\" page of the TruLens dashboard."
   ]
  },
  {
   "cell_type": "markdown",
   "metadata": {},
   "source": []
  }
 ],
 "metadata": {
  "kernelspec": {
   "display_name": "Python 3.8.16 ('trulens')",
   "language": "python",
   "name": "python3"
  },
  "language_info": {
   "codemirror_mode": {
    "name": "ipython",
    "version": 3
   },
   "file_extension": ".py",
   "mimetype": "text/x-python",
   "name": "python",
   "nbconvert_exporter": "python",
   "pygments_lexer": "ipython3",
   "version": "3.10.6"
  },
  "orig_nbformat": 4,
  "vscode": {
   "interpreter": {
    "hash": "c633204c92f433e69d41413efde9db4a539ce972d10326abcceb024ad118839e"
   }
  }
 },
 "nbformat": 4,
 "nbformat_minor": 2
}
