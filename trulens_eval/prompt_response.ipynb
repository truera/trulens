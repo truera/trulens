{
 "cells": [
  {
   "cell_type": "code",
   "execution_count": null,
   "metadata": {},
   "outputs": [],
   "source": [
    "from keys import *\n",
    "import benchmark\n",
    "import pandas as pd\n",
    "import openai\n",
    "openai.api_key = OPENAI_API_KEY\n",
    "\n",
    "import feedback"
   ]
  },
  {
   "cell_type": "code",
   "execution_count": null,
   "metadata": {},
   "outputs": [],
   "source": [
    "from datasets import load_dataset\n",
    "dataset = load_dataset(\"databricks/databricks-dolly-15k\")\n",
    "raw_df=pd.DataFrame(dataset)[1:10]\n",
    "prompts = pd.DataFrame(raw_df['train'].apply(func=lambda x: x['instruction']))\n",
    "prompts.rename(columns={'train':'prompt'}, inplace=True)\n",
    "\n",
    "responses = pd.DataFrame(raw_df['train'].apply(func=lambda x: x['response']))\n",
    "responses.rename(columns={'train':'response'}, inplace=True)\n",
    "\n",
    "labels = pd.DataFrame(raw_df['train'].apply(func=lambda x: 1))\n",
    "labels.rename(columns={'train':'label'}, inplace=True)\n",
    "\n",
    "data = pd.concat([prompts, responses, labels], axis=1)"
   ]
  },
  {
   "cell_type": "code",
   "execution_count": null,
   "metadata": {},
   "outputs": [],
   "source": [
    "data"
   ]
  },
  {
   "cell_type": "code",
   "execution_count": null,
   "metadata": {},
   "outputs": [],
   "source": [
    "'prompt' in data"
   ]
  },
  {
   "cell_type": "code",
   "execution_count": null,
   "metadata": {},
   "outputs": [],
   "source": [
    "factagreement_benchmarked = benchmark.benchmark_on_data(data, 'factagreement', evaluation_choice=\"response\", provider=\"openai\", model_engine=\"gpt-3.5-turbo\")"
   ]
  }
 ],
 "metadata": {
  "kernelspec": {
   "display_name": "3_10",
   "language": "python",
   "name": "myenv"
  },
  "language_info": {
   "codemirror_mode": {
    "name": "ipython",
    "version": 3
   },
   "file_extension": ".py",
   "mimetype": "text/x-python",
   "name": "python",
   "nbconvert_exporter": "python",
   "pygments_lexer": "ipython3",
   "version": "3.10.6"
  },
  "vscode": {
   "interpreter": {
    "hash": "d21f7c0bcad57942e36e4792dcf2729b091974a5bb8779ce77766f08b1284f72"
   }
  }
 },
 "nbformat": 4,
 "nbformat_minor": 2
}
