{
 "cells": [
  {
   "cell_type": "markdown",
   "metadata": {},
   "source": [
    "# Notebook Companion: Iterating on NeMo Guardrails apps with TruLens\n",
    "\n",
    "This notebook demonstrates how to instrument _NeMo Guardrails_ apps to monitor\n",
    "their invocations and run feedback functions on their final or intermediate\n",
    "results. The reverse integration, of using trulens within rails apps, is shown\n",
    "in the other notebook in this folder."
   ]
  },
  {
   "cell_type": "code",
   "execution_count": null,
   "metadata": {},
   "outputs": [],
   "source": [
    "# Install NeMo Guardrails and trulens_eval if not already installed.\n",
    "#! pip install nemoguardrails trulens_eval"
   ]
  },
  {
   "cell_type": "markdown",
   "metadata": {},
   "source": [
    "### Setup keys and trulens_eval"
   ]
  },
  {
   "cell_type": "code",
   "execution_count": null,
   "metadata": {},
   "outputs": [],
   "source": [
    "# This notebook uses openai and huggingface providers which need some keys set.\n",
    "# You can set them here:\n",
    "\n",
    "import time\n",
    "\n",
    "from trulens_eval.keys import check_or_set_keys\n",
    "check_or_set_keys(\n",
    "    OPENAI_API_KEY=\"sk-...\",\n",
    "    HUGGINGFACE_API_KEY=\"hf_...\"\n",
    ")\n",
    "\n",
    "# Load trulens, reset the database:\n",
    "from trulens_eval import Tru\n",
    "tru = Tru()\n",
    "tru.reset_database()"
   ]
  },
  {
   "cell_type": "markdown",
   "metadata": {},
   "source": [
    "## Rails app setup\n",
    "\n",
    "The files created below define a configuration of a rails app adapted from\n",
    "various examples in the NeMo-Guardrails repository. There is nothing unusual\n",
    "about the app beyond the knowledge base here being the trulens_eval\n",
    "documentation. This means you should be able to ask the resulting bot questions\n",
    "regarding trulens instead of the fictional company handbook as was the case in\n",
    "the originating example."
   ]
  },
  {
   "cell_type": "code",
   "execution_count": null,
   "metadata": {},
   "outputs": [],
   "source": [
    "%%writefile config.yaml\n",
    "# Adapted from NeMo-Guardrails/nemoguardrails/examples/bots/abc/config.yml\n",
    "instructions:\n",
    "  - type: general\n",
    "    content: |\n",
    "      Below is a conversation between a user and a bot called the trulens nemo guardrails Bot.\n",
    "      The bot is designed to answer questions about the trulens_eval and nemo guardrails python library.\n",
    "      The bot is knowledgeable about python.\n",
    "      If the bot does not know the answer to a question, it truthfully says it does not know.\n",
    "\n",
    "input:\n",
    "  flows:\n",
    "    - check blocked terms\n",
    "    - self check input\n",
    "\n",
    "output:\n",
    "  flows:\n",
    "    - check blocked terms\n",
    "    - self check output\n",
    "\n",
    "sample_conversation: |\n",
    "  user \"Hi there. Can you help me with some questions I have about trulens and nemo guardrails?\"\n",
    "    express greeting and ask for assistance\n",
    "  bot express greeting and confirm and offer assistance\n",
    "    \"Hi there! I'm here to help answer any questions you may have about trulens and nemo guardrails. What would you like to know?\"\n",
    "\n",
    "models:\n",
    "  - type: main\n",
    "    engine: openai\n",
    "    model: gpt-4o\n",
    "\n",
    "user_capabilities:\n",
    "  - \"how can nemo guardrails keep a conversational system on topic, safe and secure?\"\n",
    "  - \"how can trulens be used to evaluate an llm application for groundedness\"\n",
    "  - \"what's the best way to measure the effectiveness of a retrieval system with trulens\"\n",
    "  - \"What can you help me with?\"\n",
    "  - \"tell me what you can do\"\n",
    "  - \"tell me about you\"\n",
    "  - \"how can AI conversational systems improve user experience?\"\n",
    "  - \"what are the best practices for implementing trulens in a project?\"\n",
    "  - \"can you explain how nemo guardrails ensure data privacy?\"\n",
    "  - \"what are the limitations of AI conversational systems?\"\n",
    "\n",
    "bot_capabilities:\n",
    "  - \"I am an AI bot that helps answer questions about trulens_eval, nemo guardrails, and general AI conversational systems. I can provide insights on how to implement these technologies effectively and safely.\"\n",
    "\n",
    "conversation_flow:\n",
    "  - user: ask capabilities\n",
    "  - check blocked terms\n",
    "  - bot: explain usage and capabilities"
   ]
  },
  {
   "cell_type": "code",
   "execution_count": null,
   "metadata": {},
   "outputs": [],
   "source": [
    "%%writefile config.co\n",
    "# Adapted from NeMo-Guardrails/tests/test_configs/with_kb_openai_embeddings/config.co\n",
    "define user ask capabilities\n",
    "  \"how can nemo guardrails be used to do X?\"\n",
    "  \"why is trulens useful for doing Y?\"\n",
    "  \"What can you help me with?\"\n",
    "  \"tell me what you can do\"\n",
    "  \"tell me about you\"\n",
    "  \"how can AI conversational systems improve user experience?\"\n",
    "  \"what are the best practices for implementing trulens in a project?\"\n",
    "  \"can you explain how nemo guardrails ensure data privacy?\"\n",
    "  \"what are the limitations of AI conversational systems?\"\n",
    "  \n",
    "define flow\n",
    "  user ask capabilities\n",
    "  bot explain usage and capabilities\n",
    "\n",
    "define subflow self check output\n",
    "  $allowed = execute self_check_output\n",
    "\n",
    "define subflow self check input\n",
    "  $allowed = execute self_check_input\n",
    "\n",
    "  if not $allowed\n",
    "    bot refuse to respond\n",
    "    stop"
   ]
  },
  {
   "cell_type": "markdown",
   "metadata": {},
   "source": [
    "## Rails app instantiation\n",
    "\n",
    "The instantiation of the app does not differ from the steps presented in NeMo."
   ]
  },
  {
   "cell_type": "code",
   "execution_count": null,
   "metadata": {},
   "outputs": [],
   "source": [
    "from nemoguardrails import LLMRails, RailsConfig\n",
    "\n",
    "config = RailsConfig.from_path(\".\")\n",
    "rails = LLMRails(config)"
   ]
  },
  {
   "cell_type": "code",
   "execution_count": null,
   "metadata": {},
   "outputs": [],
   "source": [
    "assert rails.kb is not None,\"Knowledge base not loaded. You might be using the wrong nemo release or branch.\""
   ]
  },
  {
   "cell_type": "markdown",
   "metadata": {},
   "source": [
    "## Feedback functions setup\n",
    "\n",
    "Lets consider some feedback functions. We will define two types: a simple\n",
    "language match that checks whether output of the app is in the same language as\n",
    "the input. The second is a set of three for evaluating context retrieval. The\n",
    "setup for these is similar to that for other app types such as langchain except\n",
    "we provide a utility `RAG_triad` to create the three context retrieval functions\n",
    "for you instead of having to create them seperately."
   ]
  },
  {
   "cell_type": "code",
   "execution_count": null,
   "metadata": {},
   "outputs": [],
   "source": [
    "from pprint import pprint\n",
    "\n",
    "from trulens_eval import Select\n",
    "from trulens_eval.feedback import Feedback\n",
    "from trulens_eval.feedback.feedback import rag_triad\n",
    "from trulens_eval.feedback.provider import Huggingface\n",
    "from trulens_eval.feedback.provider import OpenAI\n",
    "from trulens_eval.tru_rails import TruRails\n",
    "\n",
    "# Initialize provider classes\n",
    "openai = OpenAI()\n",
    "hugs = Huggingface()\n",
    "\n",
    "# select context to be used in feedback. the location of context is app specific.\n",
    "from trulens_eval.app import App\n",
    "\n",
    "context = App.select_context(rails)\n",
    "question = Select.RecordInput\n",
    "answer = Select.RecordOutput\n",
    "\n",
    "f_language_match = Feedback(hugs.language_match, if_exists=answer, name = \"Language Match\").on(question).on(answer)\n",
    "\n",
    "fs_triad = rag_triad(\n",
    "    provider=openai,\n",
    "    question=question, answer=answer, context=context\n",
    ")\n",
    "\n",
    "# Overview of the 4 feedback functions defined.\n",
    "pprint(f_language_match)\n",
    "pprint(fs_triad)"
   ]
  },
  {
   "cell_type": "markdown",
   "metadata": {},
   "source": [
    "## `TruRails` recorder instantiation\n",
    "\n",
    "Tru recorder construction is identical to other app types."
   ]
  },
  {
   "cell_type": "code",
   "execution_count": null,
   "metadata": {},
   "outputs": [],
   "source": [
    "tru_rails = TruRails(\n",
    "    rails,\n",
    "    app_id = \"Rails Application\", # optional\n",
    "    feedbacks=[f_language_match, *fs_triad.values()] # optional\n",
    ")"
   ]
  },
  {
   "cell_type": "markdown",
   "metadata": {},
   "source": [
    "## Logged app invocation\n",
    "\n",
    "Using `tru_rails` as a context manager means the invocations of the rail app\n",
    "will be logged and feedback will be evaluated on the results."
   ]
  },
  {
   "cell_type": "code",
   "execution_count": null,
   "metadata": {},
   "outputs": [],
   "source": [
    "test_set = [\n",
    "    \"How are feedback functions implemented\",\n",
    "    \"How can NVIDIA Nemo be used to create a safe conversational system?\",\n",
    "    \"¿Cómo se puede utilizar NVIDIA Nemo para crear un sistema conversacional seguro?\",\n",
    "    \"Can I use AzureOpenAI to define a trulens feedback provider?\",\n",
    "    \"Answer in spanish, can I use AzureOpenAI to define a trulens feedback provider?\"\n",
    "]"
   ]
  },
  {
   "cell_type": "code",
   "execution_count": null,
   "metadata": {},
   "outputs": [],
   "source": [
    "with tru_rails as recorder:\n",
    "    for test_prompt in test_set:\n",
    "        res = rails.generate(messages=[{\n",
    "            \"role\": \"user\",\n",
    "            \"content\": test_prompt\n",
    "        }])\n",
    "        print(res['content'])\n",
    "        time.sleep(3)"
   ]
  },
  {
   "cell_type": "markdown",
   "metadata": {},
   "source": [
    "## Dashboard\n",
    "\n",
    "You should be able to view the above invocation in the dashboard. It can be\n",
    "started with the following code."
   ]
  },
  {
   "cell_type": "code",
   "execution_count": null,
   "metadata": {},
   "outputs": [],
   "source": [
    "tru.run_dashboard()"
   ]
  },
  {
   "cell_type": "markdown",
   "metadata": {},
   "source": [
    "## Improving the app\n",
    "\n",
    "We noticed several issues with the app. The most important one is that the bot\n",
    "does not follow the instructions given in the conversation. It does not respond\n",
    "in the same language as the user, and it does not use the available context to\n",
    "answer the core intent of the question.\n",
    "\n",
    "Here we'll expand our config.yaml to fix the issues."
   ]
  },
  {
   "cell_type": "code",
   "execution_count": null,
   "metadata": {},
   "outputs": [],
   "source": [
    "%%writefile config.yaml\n",
    "# Adapted from NeMo-Guardrails/nemoguardrails/examples/bots/abc/config.yml\n",
    "instructions:\n",
    "  - type: general\n",
    "    content: |\n",
    "      Below is a conversation between a user and a bot called the trulens nemo guardrails Bot.\n",
    "      The bot is designed to answer questions about the trulens_eval and nemo guardrails python library.\n",
    "      The bot is knowledgeable about python.\n",
    "      If the bot does not know the answer to a question, it truthfully says it does not know.\n",
    "      The bot only responds with information on the technology mentioned in the question\n",
    "      The bot uses all available context to answer the core intent of the question\n",
    "      The bot follows the complete instructions given, including to respond in a particular language\n",
    "      The bot always answering the question in the same language it is asked, unless requested otherwise\n",
    "\n",
    "input:\n",
    "  flows:\n",
    "    - check blocked terms\n",
    "    - self check input\n",
    "\n",
    "output:\n",
    "  flows:\n",
    "    - check blocked terms\n",
    "    - self check output\n",
    "\n",
    "sample_conversation: |\n",
    "  user \"Hi there. Can you help me with some questions I have about trulens and nemo guardrails?\"\n",
    "    express greeting and ask for assistance\n",
    "  bot express greeting and confirm and offer assistance\n",
    "    \"Hi there! I'm here to help answer any questions you may have about trulens and nemo guardrails. What would you like to know?\"\n",
    "\n",
    "models:\n",
    "  - type: main\n",
    "    engine: openai\n",
    "    model: gpt-4o\n",
    "\n",
    "user_capabilities:\n",
    "  - \"how can nemo guardrails keep a conversational system on topic, safe and secure?\"\n",
    "  - \"how can trulens be used to evaluate an llm application for groundedness\"\n",
    "  - \"what's the best way to measure the effectiveness of a retrieval system with trulens\"\n",
    "  - \"What can you help me with?\"\n",
    "  - \"tell me what you can do\"\n",
    "  - \"tell me about you\"\n",
    "  - \"how can AI conversational systems improve user experience?\"\n",
    "  - \"what are the best practices for implementing trulens in a project?\"\n",
    "  - \"can you explain how nemo guardrails ensure data privacy?\"\n",
    "  - \"what are the limitations of AI conversational systems?\"\n",
    "\n",
    "bot_capabilities:\n",
    "  - \"I am an AI bot that helps answer questions about trulens_eval, nemo guardrails, and general AI conversational systems. I can provide insights on how to implement these technologies effectively and safely.\"\n",
    "\n",
    "conversation_flow:\n",
    "  - user: ask capabilities\n",
    "  - check blocked terms\n",
    "  - bot: explain usage and capabilities"
   ]
  },
  {
   "cell_type": "markdown",
   "metadata": {},
   "source": [
    "Now we can re-instantiate the rails app and the trulens recorder with a new app_id."
   ]
  },
  {
   "cell_type": "code",
   "execution_count": null,
   "metadata": {},
   "outputs": [],
   "source": [
    "from nemoguardrails import LLMRails, RailsConfig\n",
    "\n",
    "config = RailsConfig.from_path(\".\")\n",
    "rails = LLMRails(config)"
   ]
  },
  {
   "cell_type": "code",
   "execution_count": null,
   "metadata": {},
   "outputs": [],
   "source": [
    "tru_rails = TruRails(\n",
    "    rails,\n",
    "    app_id = \"Rails Application - v2\", # optional\n",
    "    feedbacks=[f_language_match, *fs_triad.values()] # optional\n",
    ")"
   ]
  },
  {
   "cell_type": "code",
   "execution_count": null,
   "metadata": {},
   "outputs": [],
   "source": [
    "with tru_rails as recorder:\n",
    "    for test_prompt in test_set:\n",
    "        res = rails.generate(messages=[{\n",
    "            \"role\": \"user\",\n",
    "            \"content\": test_prompt\n",
    "        }])\n",
    "        print(res['content'])\n",
    "        time.sleep(3)"
   ]
  },
  {
   "cell_type": "markdown",
   "metadata": {},
   "source": [
    "## Taking actions based on feedback results\n",
    "\n",
    "An additional way to improve our app is to take guardrails actions based on the feedback results.\n",
    "\n",
    "To do so, we first need to register our feedback functions as Feedback Actions."
   ]
  },
  {
   "cell_type": "code",
   "execution_count": null,
   "metadata": {},
   "outputs": [],
   "source": [
    "from nemoguardrails.actions.actions import action\n",
    "\n",
    "@action(name=\"language_match\")\n",
    "async def language_match(text1: str, text2: str):\n",
    "    # Print out some info for demostration purposes:\n",
    "    print(\"Checking language match with:\", text1, text2)\n",
    "    res = f_language_match.run(text1=text1, text2=text2).result\n",
    "    print(f\"Result = {res}\")\n",
    "    return res\n",
    "\n",
    "@action(name=\"context_relevance\")\n",
    "async def context_relevance(question: str, context: str):\n",
    "    print(\"Checking context relevance between:\", question, context)\n",
    "    res = fs_triad['context_relevance'].run(question=question, context=context).result\n",
    "    print(f\"Result = {res}\")\n",
    "    return res\n",
    "\n",
    "@action(name=\"answer_relevance\")\n",
    "async def answer_relevance(prompt: str, response: str):\n",
    "    print(\"Checking answer relevance between:\", prompt, response)\n",
    "    res = fs_triad['relevance'].run(prompt=prompt, response=response).result\n",
    "    print(f\"Result = {res}\")\n",
    "    return res\n",
    "\n",
    "@action(name=\"groundedness\")\n",
    "async def groundedness(source:str, statement:str):\n",
    "    print(\"Checking groundedness for:\", statement)\n",
    "    res = fs_triad['groundedness'].run(source=source, statement=statement).result\n",
    "    print(f\"Result = {res}\")\n",
    "    return res\n",
    "\n"
   ]
  },
  {
   "cell_type": "markdown",
   "metadata": {},
   "source": [
    "Now, we can update our configuration files with new flows to execute and check the results of our feedback functions."
   ]
  },
  {
   "cell_type": "code",
   "execution_count": null,
   "metadata": {},
   "outputs": [],
   "source": [
    "from trulens_eval.utils.notebook_utils import writefileinterpolated"
   ]
  },
  {
   "cell_type": "code",
   "execution_count": null,
   "metadata": {},
   "outputs": [],
   "source": [
    "%%writefileinterpolated config.yaml\n",
    "# Adapted from NeMo-Guardrails/nemoguardrails/examples/bots/abc/config.yml\n",
    "\n",
    "instructions:\n",
    "  - type: general\n",
    "    content: |\n",
    "      Below is a conversation between a user and a bot called the trulens nemo guardrails Bot.\n",
    "      The bot is designed to answer questions about the trulens_eval and nemo guardrails python library.\n",
    "      The bot is knowledgeable about python.\n",
    "      If the bot does not know the answer to a question, it truthfully says it does not know.\n",
    "      The bot only responds with information on the technology mentioned in the question\n",
    "      The bot uses all available context to answer the core intent of the question\n",
    "      The bot follows the complete instructions given, including to respond in a particular language\n",
    "      The bot always answering the question in the same language it is asked, unless requested otherwise\n",
    "\n",
    "\n",
    "sample_conversation: |\n",
    "  user \"Hi there. Can you help me with some questions I have about trulens and nemo guardrails?\"\n",
    "    express greeting and ask for assistance\n",
    "  bot express greeting and confirm and offer assistance\n",
    "    \"Hi there! I'm here to help answer any questions you may have about trulens and nemo guardrails. What would you like to know?\"\n",
    "\n",
    "models:\n",
    "  - type: main\n",
    "    engine: openai\n",
    "    model: gpt-4o\n",
    "\n",
    "rails:\n",
    "  output:\n",
    "    flows:\n",
    "      - check language match\n",
    "      - check groundedness\n",
    "      - check context relevance\n",
    "      - check answer relevance"
   ]
  },
  {
   "cell_type": "code",
   "execution_count": null,
   "metadata": {},
   "outputs": [],
   "source": [
    "%%writefile config.co\n",
    "# Adapted from NeMo-Guardrails/tests/test_configs/with_kb_openai_embeddings/config.co\n",
    "\n",
    "define bot inform language mismatch\n",
    "  \"Sorry, I may not be able to answer in your language.\"\n",
    "\n",
    "define bot inform triad failure\n",
    "  \"I may have made a mistake interpreting your question or my knowledge base. Please try rephrasing your question.\"\n",
    "\n",
    "define flow\n",
    "  user ask capabilities\n",
    "  bot explain usage and capabilities\n",
    "\n",
    "define subflow check language match\n",
    "  $esult = execute language_match(\n",
    "    text1=$last_user_message,\n",
    "    text2=$bot_message\n",
    "  )  \n",
    "  if $result < 0.8\n",
    "    bot inform language mismatch\n",
    "\n",
    "define parallel subflow check rag triad groundedness\n",
    "  $result = execute groundedness(\n",
    "    source=$relevant_chunks_sep,\n",
    "    statement=$bot_message\n",
    "  )\n",
    "  if $result < 0.7\n",
    "    bot inform triad failure\n",
    "\n",
    "define parallel subflow check rag triad answer_relevance\n",
    "  $result = execute answer_relevance(\n",
    "    prompt=$retrieved_for,\n",
    "    response=$bot_message\n",
    "  )\n",
    "  if $result < 0.7\n",
    "    bot inform triad failure\n",
    "\n",
    "define parallel subflow check rag triad context_relevance\n",
    "  $result = execute context_relevance(\n",
    "    question=$retrieved_for,\n",
    "    context=$relevant_chunks_sep\n",
    "  )\n",
    "  if $result < 0.7\n",
    "    bot inform triad failure"
   ]
  },
  {
   "cell_type": "markdown",
   "metadata": {},
   "source": [
    "## Reconfigure our rails application and TruLens recorder"
   ]
  },
  {
   "cell_type": "code",
   "execution_count": null,
   "metadata": {},
   "outputs": [],
   "source": [
    "from nemoguardrails import LLMRails, RailsConfig\n",
    "\n",
    "config = RailsConfig.from_path(\".\")\n",
    "rails = LLMRails(config)"
   ]
  },
  {
   "cell_type": "code",
   "execution_count": null,
   "metadata": {},
   "outputs": [],
   "source": [
    "rails.register_action(FeedbackActions.feedback_action)"
   ]
  },
  {
   "cell_type": "code",
   "execution_count": null,
   "metadata": {},
   "outputs": [],
   "source": [
    "from trulens_eval import TruRails\n",
    "\n",
    "tru_rails = TruRails(rails,\n",
    "                     app_id = \"Rails Application - v3\", # optional\n",
    "    feedbacks=[f_language_match, *fs_triad.values()] # optional\n",
    ")"
   ]
  },
  {
   "cell_type": "code",
   "execution_count": null,
   "metadata": {},
   "outputs": [],
   "source": [
    "with tru_rails as recorder:\n",
    "    for test_prompt in test_set:\n",
    "        res = rails.generate(messages=[{\n",
    "            \"role\": \"user\",\n",
    "            \"content\": test_prompt\n",
    "        }])\n",
    "        print(res['content'])\n",
    "        time.sleep(3)"
   ]
  },
  {
   "cell_type": "markdown",
   "metadata": {},
   "source": [
    "The improvements to our rails app are viewable both in the notebook (below) and through the TruLens dashboard launched earlier in the notebook!"
   ]
  },
  {
   "cell_type": "code",
   "execution_count": null,
   "metadata": {},
   "outputs": [],
   "source": [
    "tru.get_leaderboard()"
   ]
  }
 ],
 "metadata": {
  "kernelspec": {
   "display_name": "py311_trulens",
   "language": "python",
   "name": "python3"
  },
  "language_info": {
   "codemirror_mode": {
    "name": "ipython",
    "version": 3
   },
   "file_extension": ".py",
   "mimetype": "text/x-python",
   "name": "python",
   "nbconvert_exporter": "python",
   "pygments_lexer": "ipython3",
   "version": "3.10.14"
  }
 },
 "nbformat": 4,
 "nbformat_minor": 2
}
