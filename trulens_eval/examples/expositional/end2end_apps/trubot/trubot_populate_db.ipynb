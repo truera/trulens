{
 "cells": [
  {
   "attachments": {},
   "cell_type": "markdown",
   "metadata": {},
   "source": [
    "# TruBot Populate DB\n",
    "\n",
    "This notebook tests a conversation bot with vector-store context of TruEra website. The database is reset and several pre-defined queries are made to test the four chain variants."
   ]
  },
  {
   "cell_type": "code",
   "execution_count": null,
   "metadata": {},
   "outputs": [],
   "source": [
    "# Execute this cell if running from github repo.\n",
    "\n",
    "%load_ext autoreload\n",
    "%autoreload 2\n",
    "from pathlib import Path\n",
    "import sys\n",
    "\n",
    "sys.path.append(str(Path().cwd().parent.parent.parent.parent.resolve()))"
   ]
  },
  {
   "cell_type": "code",
   "execution_count": null,
   "metadata": {},
   "outputs": [],
   "source": [
    "from trulens_eval.keys import check_or_set_keys\n",
    "\n",
    "check_or_set_keys(\n",
    "    OPENAI_API_KEY=\"to fill in\",\n",
    "    HUGGINGFACE_API_KEY=\"to fill in\",\n",
    "    PINECONE_API_KEY=\"to fill in\",\n",
    "    PINECONE_ENV=\"to fill in\",\n",
    "    LAMINI_API_KEY=\"to fill in\"\n",
    ")\n",
    "\n",
    "import os\n",
    "import lamini\n",
    "lamini.api_key = os.environ[\"LAMINI_API_KEY\"]"
   ]
  },
  {
   "cell_type": "code",
   "execution_count": null,
   "metadata": {},
   "outputs": [],
   "source": [
    "from trulens_eval.utils.threading import TP\n",
    "from trulens_eval import Tru\n",
    "\n",
    "from pprint import PrettyPrinter\n",
    "pp = PrettyPrinter()\n",
    "\n",
    "# Reset the database if needed:\n",
    "Tru().reset_database()"
   ]
  },
  {
   "cell_type": "code",
   "execution_count": null,
   "metadata": {},
   "outputs": [],
   "source": [
    "from examples.expositional.end2end_apps.trubot.trubot import get_or_make_app, get_answer\n",
    "from trulens_eval.feedback.provider.lamini import Lamini\n",
    "from trulens_eval.utils.pace import Pace\n",
    "\n",
    "p = Lamini(pace=Pace(seconds_per_period=5, marks_per_second=0.5))"
   ]
  },
  {
   "cell_type": "code",
   "execution_count": null,
   "metadata": {},
   "outputs": [],
   "source": [
    "proc = Tru().start_dashboard(force=True, _dev=Path.cwd().parent.parent.parent.parent)"
   ]
  },
  {
   "cell_type": "code",
   "execution_count": null,
   "metadata": {},
   "outputs": [],
   "source": [
    "from trulens_eval.schema import FeedbackMode\n",
    "\n",
    "selectors = [0,1,3,4]\n",
    "messages = [\"Who is Shayak?\", \"Wer ist Shayak?\", \"Kim jest Shayak?\", \"¿Quién es Shayak?\", \"Was ist QII?\", \"Co jest QII?\"]\n",
    "\n",
    "# Comment this out to run all chain variants and all test queries:\n",
    "selectors = selectors[3:4]\n",
    "messages = messages[0:1]\n",
    "\n",
    "def test_bot(selector, question):\n",
    "    print(selector, question)\n",
    "    app = get_or_make_app(\n",
    "        cid=question + str(selector),\n",
    "        selector=selector,\n",
    "        feedback_mode=FeedbackMode.DEFERRED,\n",
    "        llmprovider=Lamini()\n",
    "    )\n",
    "    answer = get_answer(app=app, question=question)\n",
    "    return answer\n",
    "\n",
    "results = []\n",
    "\n",
    "for s in selectors:\n",
    "    for m in messages:\n",
    "        results.append(test_bot(selector=s, question=m))\n"
   ]
  },
  {
   "cell_type": "code",
   "execution_count": null,
   "metadata": {},
   "outputs": [],
   "source": [
    "thread = Tru().start_evaluator(restart=True)"
   ]
  },
  {
   "cell_type": "markdown",
   "metadata": {},
   "source": []
  }
 ],
 "metadata": {
  "kernelspec": {
   "display_name": "demo3",
   "language": "python",
   "name": "python3"
  },
  "language_info": {
   "codemirror_mode": {
    "name": "ipython",
    "version": 3
   },
   "file_extension": ".py",
   "mimetype": "text/x-python",
   "name": "python",
   "nbconvert_exporter": "python",
   "pygments_lexer": "ipython3",
   "version": "3.11.6"
  },
  "orig_nbformat": 4
 },
 "nbformat": 4,
 "nbformat_minor": 2
}
