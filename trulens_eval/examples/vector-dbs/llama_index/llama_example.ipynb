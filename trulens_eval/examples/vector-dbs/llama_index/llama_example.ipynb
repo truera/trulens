{
 "cells": [
  {
   "cell_type": "code",
   "execution_count": 1,
   "metadata": {},
   "outputs": [
    {
     "data": {
      "text/plain": [
       "\"\\nimport logging\\n\\nroot = logging.getLogger()\\nroot.setLevel(logging.DEBUG)\\n\\nhandler = logging.StreamHandler(sys.stdout)\\nhandler.setLevel(logging.DEBUG)\\nformatter = logging.Formatter('%(asctime)s - %(name)s - %(levelname)s - %(message)s')\\nhandler.setFormatter(formatter)\\nroot.addHandler(handler)\\n\""
      ]
     },
     "execution_count": 1,
     "metadata": {},
     "output_type": "execute_result"
    }
   ],
   "source": [
    "%load_ext autoreload\n",
    "%autoreload 2\n",
    "from pathlib import Path\n",
    "import sys\n",
    "\n",
    "sys.path.append(str(Path().cwd().parent.parent.parent.resolve()))\n",
    "\n",
    "from pprint import PrettyPrinter\n",
    "pp = PrettyPrinter()\n",
    "\n",
    "# Uncomment to get more debugging printouts:\n",
    "\"\"\"\n",
    "import logging\n",
    "\n",
    "root = logging.getLogger()\n",
    "root.setLevel(logging.DEBUG)\n",
    "\n",
    "handler = logging.StreamHandler(sys.stdout)\n",
    "handler.setLevel(logging.DEBUG)\n",
    "formatter = logging.Formatter('%(asctime)s - %(name)s - %(levelname)s - %(message)s')\n",
    "handler.setFormatter(formatter)\n",
    "root.addHandler(handler)\n",
    "\"\"\""
   ]
  },
  {
   "cell_type": "code",
   "execution_count": 2,
   "metadata": {},
   "outputs": [
    {
     "name": "stdout",
     "output_type": "stream",
     "text": [
      "Using /Users/piotrm/Dropbox/repos/github/trulens/trulens_eval/examples/.env\n",
      "KEY SET: OPENAI_API_KEY\n",
      "KEY SET: PINECONE_API_KEY\n",
      "KEY SET: PINECONE_ENV\n",
      "KEY SET: HUGGINGFACE_API_KEY\n",
      "KEY SET: SLACK_TOKEN\n",
      "KEY SET: SLACK_SIGNING_SECRET\n",
      "KEY SET: COHERE_API_KEY\n"
     ]
    }
   ],
   "source": [
    "from trulens_eval.keys import *"
   ]
  },
  {
   "cell_type": "code",
   "execution_count": 4,
   "metadata": {},
   "outputs": [],
   "source": [
    "from llama_index import GPTVectorStoreIndex, SimpleDirectoryReader\n",
    "\n",
    "documents = SimpleDirectoryReader('data').load_data()\n",
    "index = GPTVectorStoreIndex.from_documents(documents)\n",
    "\n",
    "query_engine = index.as_query_engine()\n",
    "# response = query_engine.query(\"What did the author do growing up?\")\n",
    "# print(response)"
   ]
  },
  {
   "cell_type": "code",
   "execution_count": 5,
   "metadata": {},
   "outputs": [
    {
     "ename": "TypeError",
     "evalue": "__init__() missing 1 required keyword-only argument: 'callback_class'",
     "output_type": "error",
     "traceback": [
      "\u001b[0;31m---------------------------------------------------------------------------\u001b[0m",
      "\u001b[0;31mTypeError\u001b[0m                                 Traceback (most recent call last)",
      "\u001b[1;32m/Users/piotrm/Dropbox/repos/github/trulens/trulens_eval/examples/vector-dbs/llama_index/llama_example.ipynb Cell 4\u001b[0m in \u001b[0;36m<cell line: 8>\u001b[0;34m()\u001b[0m\n\u001b[1;32m      <a href='vscode-notebook-cell:/Users/piotrm/Dropbox/repos/github/trulens/trulens_eval/examples/vector-dbs/llama_index/llama_example.ipynb#W2sZmlsZQ%3D%3D?line=3'>4</a>\u001b[0m \u001b[39mfrom\u001b[39;00m \u001b[39mtrulens_eval\u001b[39;00m \u001b[39mimport\u001b[39;00m feedback, Feedback, Query, Tru\n\u001b[1;32m      <a href='vscode-notebook-cell:/Users/piotrm/Dropbox/repos/github/trulens/trulens_eval/examples/vector-dbs/llama_index/llama_example.ipynb#W2sZmlsZQ%3D%3D?line=5'>6</a>\u001b[0m \u001b[39m# Construct feedback functions.\u001b[39;00m\n\u001b[0;32m----> <a href='vscode-notebook-cell:/Users/piotrm/Dropbox/repos/github/trulens/trulens_eval/examples/vector-dbs/llama_index/llama_example.ipynb#W2sZmlsZQ%3D%3D?line=7'>8</a>\u001b[0m hugs \u001b[39m=\u001b[39m feedback\u001b[39m.\u001b[39;49mHuggingface()\n\u001b[1;32m      <a href='vscode-notebook-cell:/Users/piotrm/Dropbox/repos/github/trulens/trulens_eval/examples/vector-dbs/llama_index/llama_example.ipynb#W2sZmlsZQ%3D%3D?line=8'>9</a>\u001b[0m openai \u001b[39m=\u001b[39m feedback\u001b[39m.\u001b[39mOpenAI()\n\u001b[1;32m     <a href='vscode-notebook-cell:/Users/piotrm/Dropbox/repos/github/trulens/trulens_eval/examples/vector-dbs/llama_index/llama_example.ipynb#W2sZmlsZQ%3D%3D?line=10'>11</a>\u001b[0m \u001b[39m# Language match between question/answer.\u001b[39;00m\n",
      "File \u001b[0;32m~/Dropbox/repos/github/trulens/trulens_eval/trulens_eval/feedback.py:761\u001b[0m, in \u001b[0;36mHuggingface.__init__\u001b[0;34m(self)\u001b[0m\n\u001b[1;32m    754\u001b[0m \u001b[39m\u001b[39m\u001b[39m\"\"\"\u001b[39;00m\n\u001b[1;32m    755\u001b[0m \u001b[39mA set of Huggingface Feedback Functions. Utilizes huggingface\u001b[39;00m\n\u001b[1;32m    756\u001b[0m \u001b[39mapi-inference.\u001b[39;00m\n\u001b[1;32m    757\u001b[0m \u001b[39m\"\"\"\u001b[39;00m\n\u001b[1;32m    759\u001b[0m \u001b[39msuper\u001b[39m()\u001b[39m.\u001b[39m\u001b[39m__init__\u001b[39m()  \u001b[39m# need to include pydantic.BaseModel.__init__\u001b[39;00m\n\u001b[0;32m--> 761\u001b[0m \u001b[39mself\u001b[39m\u001b[39m.\u001b[39mendpoint \u001b[39m=\u001b[39m Endpoint(\n\u001b[1;32m    762\u001b[0m     name\u001b[39m=\u001b[39;49m\u001b[39m\"\u001b[39;49m\u001b[39mhuggingface\u001b[39;49m\u001b[39m\"\u001b[39;49m, post_headers\u001b[39m=\u001b[39;49mget_huggingface_headers()\n\u001b[1;32m    763\u001b[0m )\n",
      "\u001b[0;31mTypeError\u001b[0m: __init__() missing 1 required keyword-only argument: 'callback_class'"
     ]
    }
   ],
   "source": [
    "# For aggregation,\n",
    "import numpy as np\n",
    "\n",
    "from trulens_eval import feedback, Feedback, Query, Tru\n",
    "\n",
    "# Construct feedback functions.\n",
    "\n",
    "hugs = feedback.Huggingface()\n",
    "openai = feedback.OpenAI()\n",
    "\n",
    "# Language match between question/answer.\n",
    "f_lang_match = Feedback(hugs.language_match).on(\n",
    "    text1=Query.RecordInput, text2=Query.RecordOutput\n",
    ")\n",
    "\n",
    "# Question/answer relevance between overall question and answer.\n",
    "f_qa_relevance = Feedback(openai.relevance).on(\n",
    "    prompt=Query.RecordInput, response=Query.RecordOutput\n",
    ")\n",
    "\n",
    "# Question/statement relevance between question and each context chunk.\n",
    "f_qs_relevance = feedback.Feedback(openai.qs_relevance).on(\n",
    "    question=Query.RecordInput,\n",
    "    statement=Query.Record.model.retriever.retrieve.rets[:].node.text\n",
    ").aggregate(np.min)\n",
    "\n",
    "feedbacks = [\n",
    "#    f_lang_match, \n",
    "#    f_qa_relevance, \n",
    "#    f_qs_relevance\n",
    "]"
   ]
  },
  {
   "cell_type": "code",
   "execution_count": null,
   "metadata": {},
   "outputs": [],
   "source": [
    "l = Tru().Llama(engine=query_engine, feedbacks=feedbacks, chain_id=\"default\")"
   ]
  },
  {
   "cell_type": "code",
   "execution_count": null,
   "metadata": {},
   "outputs": [],
   "source": [
    "list(l.instrumented())"
   ]
  },
  {
   "cell_type": "code",
   "execution_count": null,
   "metadata": {},
   "outputs": [],
   "source": [
    "res, record = l.query_with_record(\"Who is Shayak?\")"
   ]
  },
  {
   "cell_type": "code",
   "execution_count": null,
   "metadata": {},
   "outputs": [],
   "source": [
    "proc = Tru().start_dashboard(force=True, _dev=Path.cwd().parent)\n",
    "# thread = Tru().start_evaluator(restart=True)"
   ]
  }
 ],
 "metadata": {
  "kernelspec": {
   "display_name": "py38_trulens",
   "language": "python",
   "name": "python3"
  },
  "language_info": {
   "codemirror_mode": {
    "name": "ipython",
    "version": 3
   },
   "file_extension": ".py",
   "mimetype": "text/x-python",
   "name": "python",
   "nbconvert_exporter": "python",
   "pygments_lexer": "ipython3",
   "version": "3.8.16"
  },
  "orig_nbformat": 4
 },
 "nbformat": 4,
 "nbformat_minor": 2
}
