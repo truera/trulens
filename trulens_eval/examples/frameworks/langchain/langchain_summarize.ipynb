{
 "cells": [
  {
   "cell_type": "code",
   "execution_count": null,
   "metadata": {},
   "outputs": [],
   "source": [
    "%load_ext autoreload\n",
    "%autoreload 2\n",
    "from pathlib import Path\n",
    "import sys\n",
    "\n",
    "# If running from github repo, can use this:\n",
    "sys.path.append(str(Path().cwd().parent.resolve()))\n",
    "\n",
    "# Uncomment for more debugging printouts.\n",
    "\"\"\"\n",
    "import logging\n",
    "root = logging.getLogger()\n",
    "root.setLevel(logging.DEBUG)\n",
    "\n",
    "handler = logging.StreamHandler(sys.stdout)\n",
    "handler.setLevel(logging.DEBUG)\n",
    "formatter = logging.Formatter('%(asctime)s - %(name)s - %(levelname)s - %(message)s')\n",
    "handler.setFormatter(formatter)\n",
    "root.addHandler(handler)\n",
    "\"\"\"\n",
    "None"
   ]
  },
  {
   "cell_type": "code",
   "execution_count": null,
   "metadata": {},
   "outputs": [],
   "source": [
    "from trulens_eval.keys import check_keys\n",
    "\n",
    "check_keys(\n",
    "    \"OPENAI_API_KEY\",\n",
    "    \"HUGGINGFACE_API_KEY\"\n",
    ")"
   ]
  },
  {
   "cell_type": "code",
   "execution_count": null,
   "metadata": {},
   "outputs": [],
   "source": [
    "from langchain.llms import OpenAI\n",
    "from langchain.chains.summarize import load_summarize_chain\n",
    "from langchain.text_splitter import RecursiveCharacterTextSplitter\n",
    "from trulens_eval import TruChain, Feedback, Tru, Query, FeedbackMode\n",
    "from trulens_eval import OpenAI as OAI\n",
    "\n",
    "Tru().start_dashboard(_dev=Path().cwd().parent.resolve(), force=True)"
   ]
  },
  {
   "cell_type": "code",
   "execution_count": null,
   "metadata": {},
   "outputs": [],
   "source": [
    "open_ai = OAI()\n",
    "\n",
    "# Define a language match feedback function using HuggingFace.\n",
    "mod_not_hate = Feedback(open_ai.moderation_not_hate).on(text=Query.RecordInput[:].page_content)\n",
    "\n",
    "def wrap_chain_trulens(chain):\n",
    "    return TruChain(\n",
    "        chain,\n",
    "        app_id='ChainOAI',\n",
    "        feedbacks=[mod_not_hate],\n",
    "        feedback_mode=FeedbackMode.WITH_APP # calls to TruChain will block until feedback is done evaluating\n",
    "    )\n",
    "\n",
    "def get_summary_model(text):\n",
    "    \"\"\"\n",
    "    Produce summary chain, given input text.\n",
    "    \"\"\"\n",
    "\n",
    "    llm = OpenAI(\n",
    "        temperature=0,\n",
    "        openai_api_key=\"\"\n",
    "    )\n",
    "    text_splitter = RecursiveCharacterTextSplitter(\n",
    "        separators=[\"\\n\\n\", \"\\n\", \" \"], chunk_size=8000, chunk_overlap=350\n",
    "    )\n",
    "    docs = text_splitter.create_documents([text])\n",
    "    print(f\"You now have {len(docs)} docs instead of 1 piece of text.\")\n",
    "\n",
    "    return docs, load_summarize_chain(llm=llm, chain_type='map_reduce')"
   ]
  },
  {
   "cell_type": "code",
   "execution_count": null,
   "metadata": {},
   "outputs": [],
   "source": [
    "from datasets import load_dataset\n",
    "billsum = load_dataset(\"billsum\", split=\"ca_test\")\n",
    "text = billsum['text'][0]\n",
    "\n",
    "docs, chain = get_summary_model(text)\n",
    "output, record = wrap_chain_trulens(chain).call_with_record(docs)"
   ]
  }
 ],
 "metadata": {
  "kernelspec": {
   "display_name": "py38_trulens",
   "language": "python",
   "name": "python3"
  },
  "language_info": {
   "codemirror_mode": {
    "name": "ipython",
    "version": 3
   },
   "file_extension": ".py",
   "mimetype": "text/x-python",
   "name": "python",
   "nbconvert_exporter": "python",
   "pygments_lexer": "ipython3",
   "version": "3.8.16"
  },
  "orig_nbformat": 4
 },
 "nbformat": 4,
 "nbformat_minor": 2
}
