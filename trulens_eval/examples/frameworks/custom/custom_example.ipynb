{
 "cells": [
  {
   "cell_type": "markdown",
   "metadata": {},
   "source": [
    "# Custom Class Example\n",
    "\n",
    "This example uses several other python files in the same folder."
   ]
  },
  {
   "cell_type": "code",
   "execution_count": null,
   "metadata": {},
   "outputs": [],
   "source": [
    "%load_ext autoreload\n",
    "%autoreload 2\n",
    "from pathlib import Path\n",
    "import sys\n",
    "\n",
    "# If running from github repo, can use this:\n",
    "sys.path.append(str(Path().cwd().parent.parent.parent.resolve()))"
   ]
  },
  {
   "cell_type": "code",
   "execution_count": null,
   "metadata": {},
   "outputs": [],
   "source": [
    "from examples.frameworks.custom.custom_app import CustomApp # our custom app\n",
    "\n",
    "from trulens_eval.tru_custom_app import TruCustomApp\n",
    "\n",
    "from trulens_eval import Tru\n",
    "# Tru object manages the database of apps, records, and feedbacks; and the\n",
    "# dashboard to display these.\n",
    "tru = Tru()\n",
    "\n",
    "tru.reset_database()"
   ]
  },
  {
   "cell_type": "code",
   "execution_count": null,
   "metadata": {},
   "outputs": [],
   "source": [
    "# Create custom app:\n",
    "ca = CustomApp()\n",
    "\n",
    "# Create trulens wrapper:\n",
    "ta = TruCustomApp(\n",
    "    ca,\n",
    "    app_id=\"customapp\",\n",
    "    # Optional alternative to decorators:\n",
    "    #methods_to_instrument={\n",
    "    #    ca.respond_to_query: Select.Query(), # paths relative to \"app\"\n",
    "    #    ca.retrieve_chunks: Select.Query(),\n",
    "    #    ca.retriever.retrieve_chunks: Select.Query().retriever\n",
    "    #},\n",
    "    ## Add extra data to show up as app serialization. See tru_custom_app.py documentation.\n",
    "    #app_extra_json=dict(\n",
    "    #    name=\"This is my custom app. Anything provided to app_extra_json will be merged into the serialization of app\",\n",
    "    #)\n",
    ")\n"
   ]
  },
  {
   "cell_type": "code",
   "execution_count": null,
   "metadata": {},
   "outputs": [],
   "source": [
    "# Show instrumented components and methods.\n",
    "\n",
    "ta.print_instrumented()"
   ]
  },
  {
   "cell_type": "code",
   "execution_count": null,
   "metadata": {},
   "outputs": [],
   "source": [
    "# Normal usage:\n",
    "# ca.respond_to_query(\"What is the capital of Indonesia?\")\n",
    "\n",
    "# Instrumented usage:\n",
    "response, record = ta.with_record(\n",
    "    ca.respond_to_query, input=\"What is the capital of Indonesia?\"\n",
    ")\n"
   ]
  },
  {
   "cell_type": "code",
   "execution_count": null,
   "metadata": {},
   "outputs": [],
   "source": [
    "# Show the app output:\n",
    "\n",
    "response"
   ]
  },
  {
   "cell_type": "code",
   "execution_count": null,
   "metadata": {},
   "outputs": [],
   "source": [
    "# Show the instrumentation record.\n",
    "\n",
    "record.dict()"
   ]
  },
  {
   "cell_type": "code",
   "execution_count": null,
   "metadata": {},
   "outputs": [],
   "source": [
    "# Start the dasshboard. If you running from github repo, you will need to adjust\n",
    "# the path the dashboard streamlit app starts in by providing the _dev argument.\n",
    "tru.start_dashboard(\n",
    "    force=True, _dev=Path().cwd().parent.parent.parent.resolve()\n",
    ")"
   ]
  },
  {
   "cell_type": "code",
   "execution_count": null,
   "metadata": {},
   "outputs": [],
   "source": []
  }
 ],
 "metadata": {
  "kernelspec": {
   "display_name": "py38_trulens",
   "language": "python",
   "name": "python3"
  },
  "language_info": {
   "codemirror_mode": {
    "name": "ipython",
    "version": 3
   },
   "file_extension": ".py",
   "mimetype": "text/x-python",
   "name": "python",
   "nbconvert_exporter": "python",
   "pygments_lexer": "ipython3",
   "version": "3.8.16"
  },
  "orig_nbformat": 4
 },
 "nbformat": 4,
 "nbformat_minor": 2
}
