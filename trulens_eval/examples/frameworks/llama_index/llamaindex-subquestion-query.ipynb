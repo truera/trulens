{
 "cells": [
  {
   "cell_type": "code",
   "execution_count": 1,
   "metadata": {},
   "outputs": [],
   "source": [
    "import os\n",
    "os.environ[\"OPENAI_API_KEY\"] = \"...\"\n",
    "os.environ[\"HUGGINGFACE_API_KEY\"] = \"...\""
   ]
  },
  {
   "cell_type": "markdown",
   "metadata": {},
   "source": [
    "### Impact of Embeddings on Quality with Sub Question Query\n",
    "\n",
    "In this tutorial, we load longer text (Fellowship of the Ring) and utilize Llama-Index Sub Question Query to evlauate a complex question around Frodo's character evolution.\n",
    "\n",
    "In addition, we will iterate through different embeddings and chunk sizes and use TruLens to select the best one."
   ]
  },
  {
   "cell_type": "code",
   "execution_count": 2,
   "metadata": {},
   "outputs": [],
   "source": [
    "# NOTE: This is ONLY necessary in jupyter notebook.\n",
    "# Details: Jupyter runs an event-loop behind the scenes. \n",
    "#          This results in nested event-loops when we start an event-loop to make async queries.\n",
    "#          This is normally not allowed, we use nest_asyncio to allow it for convenience.  \n",
    "import nest_asyncio\n",
    "nest_asyncio.apply()"
   ]
  },
  {
   "cell_type": "code",
   "execution_count": 3,
   "metadata": {},
   "outputs": [],
   "source": [
    "# Import main tools for building app\n",
    "from llama_index import VectorStoreIndex, SimpleDirectoryReader, ServiceContext, ResponseSynthesizer\n",
    "from llama_index.indices.document_summary import DocumentSummaryIndexRetriever\n",
    "from llama_index.tools import QueryEngineTool, ToolMetadata\n",
    "from llama_index.query_engine import SubQuestionQueryEngine, RetrieverQueryEngine\n",
    "\n",
    "# load data\n",
    "alice = SimpleDirectoryReader(input_dir=\"./data/alice\").load_data()"
   ]
  },
  {
   "cell_type": "code",
   "execution_count": 4,
   "metadata": {},
   "outputs": [
    {
     "name": "stderr",
     "output_type": "stream",
     "text": [
      "No .env found in /Users/jreini/Desktop/development/trulens/trulens_eval/examples/frameworks/llama_index or its parents. You may need to specify secret keys in another manner.\n"
     ]
    },
    {
     "name": "stdout",
     "output_type": "stream",
     "text": [
      "✅ In model_agreement, input prompt will be set to *.__record__.main_input or `Select.RecordInput` .\n",
      "✅ In model_agreement, input response will be set to *.__record__.main_output or `Select.RecordOutput` .\n"
     ]
    }
   ],
   "source": [
    "# Imports main tools for eval\n",
    "from trulens_eval import TruLlama, Feedback, Tru, feedback\n",
    "tru = Tru()\n",
    "\n",
    "#hugs = feedback.Huggingface()\n",
    "openai = feedback.OpenAI()\n",
    "\n",
    "# Question/answer relevance between overall question and answer.\n",
    "model_agreement = Feedback(openai.model_agreement).on_input_output()"
   ]
  },
  {
   "cell_type": "code",
   "execution_count": 7,
   "metadata": {},
   "outputs": [
    {
     "name": "stdout",
     "output_type": "stream",
     "text": [
      "✅ app VectorStoreIndex_text-embedding-ada-001 -> default.sqlite\n",
      "✅ feedback def. feedback_definition_hash_514dbce4eb825a25632cdb0626e7200c -> default.sqlite\n",
      "✅ record record_hash_e3b485d9b03230306bd988ab6e20a5c8 from VectorStoreIndex_text-embedding-ada-001 -> default.sqlite\n",
      "✅ app SubQuestionQueryEngine_text-embedding-ada-001 -> default.sqlite\n",
      "✅ feedback def. feedback_definition_hash_514dbce4eb825a25632cdb0626e7200c -> default.sqlite\n",
      "DEBUG\n",
      " \n",
      "You will continually start seeing responses to the prompt:\n",
      "\n",
      "Describe Alice's growth from meeting the White Rabbit to challenging the Queen of Hearts?\n",
      "\n",
      "The right answer is:\n",
      "\n",
      "\n",
      "Alice's growth from meeting the White Rabbit to challenging the Queen of Hearts is marked by her increasing confidence and independence. When she first meets the White Rabbit, she is timid and unsure of herself, asking for help and not sure of her identity. As she progresses through the story, she begins to take charge of her own destiny, questioning the Queen and standing up for herself. By the end of the story, she is able to challenge the Queen and stand up for what she believes in.\n",
      "\n",
      "Answer only with an integer from 1 to 10 based on how close the responses are to the right answer.\n",
      "\n",
      "MODEL ANSWER\n",
      "Alice's growth from meeting the White Rabbit to challenging the Queen of Hearts can be seen in her increasing confidence, curiosity, and assertiveness. \n",
      "\n",
      "When Alice first encounters the White Rabbit, she is initially hesitant and unsure of herself. However, her curiosity gets the better of her, and she follows the rabbit down the rabbit hole. As she navigates through Wonderland, Alice encounters various strange and challenging situations that test her resilience and problem-solving skills.\n",
      "\n",
      "Throughout her journey, Alice becomes more confident in her abilities and starts to assert herself. She engages in conversations with various characters, such as the Cheshire Cat and the Mad Hatter, challenging their logic and questioning the absurdity of Wonderland. Alice's growth is also evident in her ability to adapt to the unpredictable nature of Wonderland and think on her feet to overcome obstacles.\n",
      "\n",
      "By the time Alice reaches the Queen of Hearts, she has developed a strong sense of self and is no longer easily intimidated. She stands up to the Queen's unjust and irrational rules, questioning her authority and demanding fairness. This transformation showcases Alice's growth from a timid and uncertain girl to a bold and assertive young woman.\n",
      "✅ feedback feedback_result_hash_91bddf937a8304c427f44c9d2bcdb8fd on record_hash_e3b485d9b03230306bd988ab6e20a5c8 -> default.sqlite\n",
      "Generated 2 sub questions.\n",
      "\u001b[36;1m\u001b[1;3m[Alice in Wonderland] Q: What happens when Alice meets the White Rabbit?\n",
      "\u001b[0m\u001b[36;1m\u001b[1;3m[Alice in Wonderland] A: \n",
      "When Alice meets the White Rabbit, she is so curious that she follows it down a rabbit-hole. She falls down a very deep well and finds herself surrounded by cupboards and book-shelves. She takes down a jar labeled \"Orange Marmalade\" but it is empty. She continues to fall until she wonders how many miles she has fallen and if she is near the center of the earth.\n",
      "\u001b[0m\u001b[33;1m\u001b[1;3m[Alice in Wonderland] Q: How does Alice challenge the Queen of Hearts?\n",
      "\u001b[0m\u001b[33;1m\u001b[1;3m[Alice in Wonderland] A: \n",
      "Alice challenges the Queen of Hearts by refusing to allow the three gardeners to be beheaded and by standing up to the Queen when she demands to know Alice's name. Alice also questions the Queen's authority by asking why people would have to lie down on their faces during a procession.\n",
      "\u001b[0m✅ record record_hash_8e628d779d900333afcff24ad07c98e2 from SubQuestionQueryEngine_text-embedding-ada-001 -> default.sqlite\n",
      "✅ app VectorStoreIndex_text-embedding-ada-002 -> default.sqlite\n",
      "✅ feedback def. feedback_definition_hash_514dbce4eb825a25632cdb0626e7200c -> default.sqlite\n",
      "✅ record record_hash_1ecc73a52125454c313edc41e015a79d from VectorStoreIndex_text-embedding-ada-002 -> default.sqlite\n",
      "✅ app SubQuestionQueryEngine_text-embedding-ada-002 -> default.sqlite\n",
      "✅ feedback def. feedback_definition_hash_514dbce4eb825a25632cdb0626e7200c -> default.sqlite\n",
      "DEBUG\n",
      " \n",
      "You will continually start seeing responses to the prompt:\n",
      "\n",
      "Describe Alice's growth from meeting the White Rabbit to challenging the Queen of Hearts?\n",
      "\n",
      "The right answer is:\n",
      "\n",
      "\n",
      "Alice's growth from meeting the White Rabbit to challenging the Queen of Hearts is marked by her increasing confidence and courage. When she meets the White Rabbit, she is curious and follows it down the rabbit-hole, but she is still timid and unsure of herself. However, as she continues to explore the world she finds herself in, she begins to gain more confidence and courage. By the time she meets the Queen of Hearts, she is brave enough to stand up to her and challenge her authority. She is no longer timid and afraid, but instead is willing to stand up for what she believes in and fight for what is right.\n",
      "\n",
      "Answer only with an integer from 1 to 10 based on how close the responses are to the right answer.\n",
      "\n",
      "MODEL ANSWER\n",
      "Alice's growth from meeting the White Rabbit to challenging the Queen of Hearts in Lewis Carroll's \"Alice's Adventures in Wonderland\" can be described as a journey of self-discovery and personal development. \n",
      "\n",
      "Initially, when Alice encounters the White Rabbit and follows him down the rabbit hole, she is portrayed as a curious and imaginative young girl. She finds herself in a strange and nonsensical world where she constantly questions the rules and logic of Wonderland.\n",
      "\n",
      "As Alice navigates through various encounters and conversations with peculiar characters like the Cheshire Cat, the Mad Hatter, and the Caterpillar, she begins to challenge her own assumptions and beliefs. She learns to think critically and question authority, as she realizes that the rules of Wonderland are arbitrary and often absurd.\n",
      "\n",
      "Throughout her adventures, Alice faces numerous obstacles and undergoes various transformations. She grows in confidence and assertiveness, gradually shedding her initial timidness. This is evident when she confronts the Queen of Hearts during the croquet game, boldly questioning the fairness of the proceedings and refusing to be intimidated by the Queen's threats.\n",
      "\n",
      "By the time Alice reaches the trial scene, where she is accused of stealing the Queen's tarts, she has developed a strong sense of justice and fairness. She confidently defends herself and challenges the irrationality of the Queen's court, ultimately rejecting the authority of the Queen and her unjust rules.\n",
      "\n",
      "In summary, Alice's growth from meeting the White Rabbit to challenging the Queen of Hearts can be seen as a transformation from a curious and imaginative girl to a confident and independent thinker who questions authority and stands up for what she believes is right.\n",
      "✅ feedback feedback_result_hash_e0490f74ce86ee46ecc4f87fd7e87dfe on record_hash_8e628d779d900333afcff24ad07c98e2 -> default.sqlite\n",
      "Generated 2 sub questions.\n",
      "\u001b[36;1m\u001b[1;3m[Alice in Wonderland] Q: What happens when Alice meets the White Rabbit?\n",
      "\u001b[0mDEBUG\n",
      " \n",
      "You will continually start seeing responses to the prompt:\n",
      "\n",
      "Describe Alice's growth from meeting the White Rabbit to challenging the Queen of Hearts?\n",
      "\n",
      "The right answer is:\n",
      "\n",
      "\n",
      "Alice's growth from meeting the White Rabbit to challenging the Queen of Hearts is marked by her increasing confidence and independence. When she first meets the White Rabbit, she is timid and unsure of herself, asking for help and not sure of her identity. As she progresses through the story, she begins to take charge of her own destiny, questioning the Queen and standing up for herself. By the end of the story, she is able to challenge the Queen and stand up for what she believes in.\n",
      "\n",
      "Answer only with an integer from 1 to 10 based on how close the responses are to the right answer.\n",
      "\n",
      "MODEL ANSWER\n",
      "Alice's growth from meeting the White Rabbit to challenging the Queen of Hearts can be seen in her increasing confidence, curiosity, and assertiveness. \n",
      "\n",
      "When Alice first encounters the White Rabbit, she is initially hesitant and unsure of herself. However, her curiosity gets the better of her, and she follows the rabbit down the rabbit hole. As she navigates through Wonderland, Alice encounters various strange and challenging situations that test her resilience and problem-solving skills.\n",
      "\n",
      "Throughout her journey, Alice becomes more confident in her abilities and starts to assert herself. She engages in conversations with various characters, such as the Cheshire Cat and the Mad Hatter, and challenges their nonsensical logic. Alice's growth is also evident in her ability to adapt to the absurd and unpredictable nature of Wonderland, as she learns to think creatively and adapt to the ever-changing circumstances.\n",
      "\n",
      "By the time Alice reaches the Queen of Hearts, she has developed a strong sense of self and is no longer easily intimidated. She stands up to the Queen's unjust and irrational rules, questioning her authority and demanding fairness. This transformation showcases Alice's growth from a timid and uncertain girl to a confident and assertive young woman.\n",
      "✅ feedback feedback_result_hash_a8d5314aef1d39292d58836d84c8186d on record_hash_1ecc73a52125454c313edc41e015a79d -> default.sqlite\n",
      "\u001b[36;1m\u001b[1;3m[Alice in Wonderland] A: \n",
      "When Alice meets the White Rabbit, she is so curious that she follows it down a rabbit-hole. She falls down a very deep well and finds herself surrounded by cupboards and book-shelves. She takes down a jar from one of the shelves, but it is empty. She continues to fall until she wonders how many miles she has fallen. She eventually lands at the center of the earth and meets the Cheshire Cat.\n",
      "\u001b[0m\u001b[33;1m\u001b[1;3m[Alice in Wonderland] Q: How does Alice challenge the Queen of Hearts?\n",
      "\u001b[0m\u001b[33;1m\u001b[1;3m[Alice in Wonderland] A: \n",
      "Alice does not challenge the Queen of Hearts. She is too timid and instead watches the gardeners paint the roses. When the Queen arrives, Alice watches as the gardeners throw themselves flat on their faces.\n",
      "\u001b[0m"
     ]
    }
   ],
   "source": [
    "# iterate through embeddings and chunk sizes, evaluating each response's agreement with chatgpt using TruLens\n",
    "embeddings = ['text-embedding-ada-001','text-embedding-ada-002']\n",
    "query_engine_types = ['VectorStoreIndex','SubQuestionQueryEngine']\n",
    "\n",
    "service_context=512\n",
    "\n",
    "for embedding in(embeddings):\n",
    "    for query_engine_type in query_engine_types:\n",
    "\n",
    "            # build index and query engine\n",
    "            index = VectorStoreIndex.from_documents(alice)\n",
    "\n",
    "            # create embedding-based query engine from index\n",
    "            query_engine = index.as_query_engine(embed_model=embedding)\n",
    "\n",
    "            if query_engine_type == 'SubQuestionQueryEngine':\n",
    "                service_context = ServiceContext.from_defaults(chunk_size=512)\n",
    "                # setup base query engine as tool\n",
    "                query_engine_tools = [\n",
    "                    QueryEngineTool(\n",
    "                        query_engine=query_engine,\n",
    "                        metadata=ToolMetadata(name='Alice in Wonderland', description='THE MILLENNIUM FULCRUM EDITION 3.0')\n",
    "                    )\n",
    "                ]\n",
    "                query_engine = SubQuestionQueryEngine.from_defaults(query_engine_tools=query_engine_tools, service_context=service_context)\n",
    "            else:\n",
    "                pass         \n",
    "\n",
    "            tc = TruLlama(app_id = f'{query_engine_type}_{embedding}', app = query_engine, feedbacks = [model_agreement])\n",
    "\n",
    "            response = tc.query(\"Describe Alice's growth from meeting the White Rabbit to challenging the Queen of Hearts?\")"
   ]
  },
  {
   "cell_type": "code",
   "execution_count": 8,
   "metadata": {},
   "outputs": [
    {
     "name": "stdout",
     "output_type": "stream",
     "text": [
      "✅ record record_hash_3f639fc1b2ffae1c1feeba6cd768090c from SubQuestionQueryEngine_text-embedding-ada-002 -> default.sqlite\n",
      "Starting dashboard ...\n"
     ]
    },
    {
     "data": {
      "application/vnd.jupyter.widget-view+json": {
       "model_id": "c037e24b245b4e16a81268af0e53911d",
       "version_major": 2,
       "version_minor": 0
      },
      "text/plain": [
       "Accordion(children=(VBox(children=(VBox(children=(Label(value='STDOUT'), Output())), VBox(children=(Label(valu…"
      ]
     },
     "metadata": {},
     "output_type": "display_data"
    },
    {
     "name": "stdout",
     "output_type": "stream",
     "text": [
      "Dashboard started at http://192.168.50.34:8502 .\n"
     ]
    },
    {
     "data": {
      "text/plain": [
       "<Popen: returncode: None args: ['streamlit', 'run', '--server.headless=True'...>"
      ]
     },
     "execution_count": 8,
     "metadata": {},
     "output_type": "execute_result"
    }
   ],
   "source": [
    "tru.run_dashboard()"
   ]
  }
 ],
 "metadata": {
  "kernelspec": {
   "display_name": "Python 3.11.3 ('llama')",
   "language": "python",
   "name": "python3"
  },
  "language_info": {
   "codemirror_mode": {
    "name": "ipython",
    "version": 3
   },
   "file_extension": ".py",
   "mimetype": "text/x-python",
   "name": "python",
   "nbconvert_exporter": "python",
   "pygments_lexer": "ipython3",
   "version": "3.11.3"
  },
  "orig_nbformat": 4,
  "vscode": {
   "interpreter": {
    "hash": "35cee81fa8c6b4ce6d52f7ca43c2031bd5c0e6fdb35bec5c5fb661d54c0961db"
   }
  }
 },
 "nbformat": 4,
 "nbformat_minor": 2
}
