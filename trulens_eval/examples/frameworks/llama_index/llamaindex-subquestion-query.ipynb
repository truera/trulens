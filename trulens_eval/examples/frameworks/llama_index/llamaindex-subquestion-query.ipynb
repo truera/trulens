{
 "cells": [
  {
   "attachments": {},
   "cell_type": "markdown",
   "metadata": {},
   "source": [
    "### Impact of Embeddings on Quality with Sub Question Query\n",
    "\n",
    "In this tutorial, we load longer text (Alice in Wonderland) and utilize Llama-Index Sub Question Query to evlauate a complex questions on the book.\n",
    "\n",
    "In addition, we will iterate through different embeddings and chunk sizes and use TruLens to select the best one.\n",
    "\n",
    "[![Open In Colab](https://colab.research.google.com/assets/colab-badge.svg)](https://colab.research.google.com/github/truera/trulens/blob/main/trulens_eval/examples/frameworks/llama_index/llamaindex-subquestion-query.ipynb)"
   ]
  },
  {
   "cell_type": "code",
   "execution_count": null,
   "metadata": {},
   "outputs": [],
   "source": [
    "# NOTE: This is ONLY necessary in jupyter notebook.\n",
    "# Details: Jupyter runs an event-loop behind the scenes. \n",
    "#          This results in nested event-loops when we start an event-loop to make async queries.\n",
    "#          This is normally not allowed, we use nest_asyncio to allow it for convenience.  \n",
    "import nest_asyncio\n",
    "nest_asyncio.apply()"
   ]
  },
  {
   "cell_type": "code",
   "execution_count": null,
   "metadata": {},
   "outputs": [],
   "source": [
    "import os\n",
    "os.environ[\"OPENAI_API_KEY\"] = \"...\"\n",
    "os.environ[\"HUGGINGFACE_API_KEY\"] = \"...\""
   ]
  },
  {
   "cell_type": "code",
   "execution_count": null,
   "metadata": {},
   "outputs": [],
   "source": [
    "# Import main tools for building app\n",
    "from llama_index import VectorStoreIndex, SimpleWebPageReader, ServiceContext\n",
    "from llama_index.tools import QueryEngineTool, ToolMetadata\n",
    "from llama_index.query_engine import SubQuestionQueryEngine\n",
    "\n",
    "# load data\n",
    "\n",
    "\n",
    "documents = SimpleWebPageReader(html_to_text=True).load_data(\n",
    "    [\"https://www.gutenberg.org/files/11/11-h/11-h.htm\"]\n",
    ")"
   ]
  },
  {
   "cell_type": "code",
   "execution_count": null,
   "metadata": {},
   "outputs": [],
   "source": [
    "# Imports main tools for eval\n",
    "from trulens_eval import TruLlama, Feedback, Tru, feedback\n",
    "tru = Tru()\n",
    "\n",
    "#hugs = feedback.Huggingface()\n",
    "openai = feedback.OpenAI()\n",
    "\n",
    "# Question/answer relevance between overall question and answer.\n",
    "model_agreement = Feedback(openai.model_agreement).on_input_output()"
   ]
  },
  {
   "cell_type": "code",
   "execution_count": null,
   "metadata": {},
   "outputs": [],
   "source": [
    "tru.run_dashboard()"
   ]
  },
  {
   "cell_type": "code",
   "execution_count": null,
   "metadata": {},
   "outputs": [],
   "source": [
    "# iterate through embeddings and chunk sizes, evaluating each response's agreement with chatgpt using TruLens\n",
    "embeddings = ['text-embedding-ada-001','text-embedding-ada-002']\n",
    "query_engine_types = ['VectorStoreIndex','SubQuestionQueryEngine']\n",
    "\n",
    "service_context=512\n",
    "\n",
    "for embedding in(embeddings):\n",
    "    for query_engine_type in query_engine_types:\n",
    "\n",
    "            # build index and query engine\n",
    "            index = VectorStoreIndex.from_documents(documents)\n",
    "\n",
    "            # create embedding-based query engine from index\n",
    "            query_engine = index.as_query_engine(embed_model=embedding)\n",
    "\n",
    "            if query_engine_type == 'SubQuestionQueryEngine':\n",
    "                service_context = ServiceContext.from_defaults(chunk_size=512)\n",
    "                # setup base query engine as tool\n",
    "                query_engine_tools = [\n",
    "                    QueryEngineTool(\n",
    "                        query_engine=query_engine,\n",
    "                        metadata=ToolMetadata(name='Alice in Wonderland', description='THE MILLENNIUM FULCRUM EDITION 3.0')\n",
    "                    )\n",
    "                ]\n",
    "                query_engine = SubQuestionQueryEngine.from_defaults(query_engine_tools=query_engine_tools, service_context=service_context)\n",
    "            else:\n",
    "                pass         \n",
    "\n",
    "            tc = TruLlama(app_id = f'{query_engine_type}_{embedding}', app = query_engine, feedbacks = [model_agreement])\n",
    "\n",
    "            response = tc.query(\"Describe Alice's growth from meeting the White Rabbit to challenging the Queen of Hearts?\")\n",
    "            response = tc.query(\"Relate aspects of enchantment to the nostalgia that Alice experiences in Wonderland. Why is Alice both fascinated and frustrated by her encounters below-ground?\")\n",
    "            response = tc.query(\"Describe the White Rabbit's function in Alice.\")\n",
    "            response = tc.query(\"Describe some of the ways that Carroll achieves humor at Alice's expense.\")\n",
    "            response = tc.query(\"Compare the Duchess' lullaby to the 'You Are Old, Father William' verse\")\n",
    "            response = tc.query(\"Compare the sentiment of the Mouse's long tale, the Mock Turtle's story and the Lobster-Quadrille.\")\n",
    "            response = tc.query(\"Summarize the role of the mad hatter in Alice's journey\")\n",
    "            response = tc.query(\"How does the Mad Hatter influence the arc of the story throughout?\")\n"
   ]
  }
 ],
 "metadata": {
  "kernelspec": {
   "display_name": "Python 3.11.4 ('agents')",
   "language": "python",
   "name": "python3"
  },
  "language_info": {
   "codemirror_mode": {
    "name": "ipython",
    "version": 3
   },
   "file_extension": ".py",
   "mimetype": "text/x-python",
   "name": "python",
   "nbconvert_exporter": "python",
   "pygments_lexer": "ipython3",
   "version": "3.11.4"
  },
  "orig_nbformat": 4,
  "vscode": {
   "interpreter": {
    "hash": "7d153714b979d5e6d08dd8ec90712dd93bff2c9b6c1f0c118169738af3430cd4"
   }
  }
 },
 "nbformat": 4,
 "nbformat_minor": 2
}
