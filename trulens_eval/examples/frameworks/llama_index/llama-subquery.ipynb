{
 "cells": [
  {
   "cell_type": "code",
   "execution_count": 1,
   "metadata": {},
   "outputs": [],
   "source": [
    "import os\n",
    "os.environ[\"OPENAI_API_KEY\"] = \"...\"\n",
    "os.environ[\"HUGGINGFACE_API_KEY\"] = \"...\""
   ]
  },
  {
   "cell_type": "markdown",
   "metadata": {},
   "source": [
    "### Impact of Embeddings on Quality with Sub Question Query\n",
    "\n",
    "In this tutorial, we load longer text (Fellowship of the Ring) and utilize Llama-Index Sub Question Query to evlauate a complex question around Frodo's character evolution.\n",
    "\n",
    "In addition, we will iterate through different embeddings and chunk sizes and use TruLens to select the best one."
   ]
  },
  {
   "cell_type": "code",
   "execution_count": 2,
   "metadata": {},
   "outputs": [],
   "source": [
    "# NOTE: This is ONLY necessary in jupyter notebook.\n",
    "# Details: Jupyter runs an event-loop behind the scenes. \n",
    "#          This results in nested event-loops when we start an event-loop to make async queries.\n",
    "#          This is normally not allowed, we use nest_asyncio to allow it for convenience.  \n",
    "import nest_asyncio\n",
    "nest_asyncio.apply()"
   ]
  },
  {
   "cell_type": "code",
   "execution_count": 3,
   "metadata": {},
   "outputs": [],
   "source": [
    "# Import main tools for build app\n",
    "from llama_index import VectorStoreIndex, SimpleDirectoryReader, ServiceContext\n",
    "from llama_index.tools import QueryEngineTool, ToolMetadata\n",
    "from llama_index.query_engine import SubQuestionQueryEngine\n",
    "\n",
    "# load data\n",
    "lotr = SimpleDirectoryReader(input_dir=\"data/lotr\").load_data()"
   ]
  },
  {
   "cell_type": "code",
   "execution_count": 4,
   "metadata": {},
   "outputs": [
    {
     "name": "stderr",
     "output_type": "stream",
     "text": [
      "No .env found in /Users/jreini/Desktop/development/trulens/trulens_eval/examples/frameworks/llama_index or its parents. You may need to specify secret keys in another manner.\n"
     ]
    }
   ],
   "source": [
    "# Imports main tools for eval\n",
    "from trulens_eval import TruLlama, Feedback, Tru, feedback\n",
    "tru = Tru()\n",
    "\n",
    "#hugs = feedback.Huggingface()\n",
    "openai = feedback.OpenAI()"
   ]
  },
  {
   "cell_type": "code",
   "execution_count": 5,
   "metadata": {},
   "outputs": [
    {
     "name": "stdout",
     "output_type": "stream",
     "text": [
      "✅ In model_agreement, input prompt will be set to *.__record__.main_input or `Select.RecordInput` .\n",
      "✅ In model_agreement, input response will be set to *.__record__.main_output or `Select.RecordOutput` .\n",
      "✅ app subquery_engine_text-embedding-ada-001_chunksize_20 -> default.sqlite\n",
      "✅ feedback def. feedback_definition_hash_48818e5c65e8c38bac0635894efaa278 -> default.sqlite\n",
      "Generated 3 sub questions.\n",
      "\u001b[36;1m\u001b[1;3m[Lord of the Rings] Q: What is Frodo Baggins' initial state at the beginning of his time at the shire?\n",
      "\u001b[0m\u001b[36;1m\u001b[1;3m[Lord of the Rings] A: \n",
      "Frodo Baggins is initially in a state of shock and confusion. He has just been attacked by the men of Carn Dûm and is now standing in the middle of a barrow-top, wearing thin white rags and crowned and belted with pale gold. He is surrounded by his friends, who are also in a state of shock and confusion.\n",
      "\u001b[0m\u001b[33;1m\u001b[1;3m[Lord of the Rings] Q: What events occur in Frodo Baggins' journey from the beginning of his time at the shire to throwing the one ring in Mount Doom?\n",
      "\u001b[0m\u001b[33;1m\u001b[1;3m[Lord of the Rings] A: \n",
      "Frodo Baggins begins his journey by leaving the Shire with his friends, Sam, Merry, and Pippin. They travel to Rivendell, where they meet with the Council of Elrond and learn of the One Ring and its power. After the Council, the Fellowship of the Ring is formed and they set out on their quest to destroy the One Ring. They travel through the Mines of Moria, where they are attacked by orcs and Balrog. They then travel to Lothlorien, where they receive gifts from Galadriel. From there, they travel to Amon Hen, where Boromir is killed and Frodo and Sam continue on their own. They travel through the Dead Marshes and then to the Black Gate of Mordor, where they are saved by the eagles. They then travel to Ithilien, where they meet Faramir and are taken to Minas Tirith. After the Battle of the Pelennor Fields, Frodo and Sam continue on their journey to Mount Doom, where Frodo finally throws the One Ring into the fire and destroys it.\n",
      "\u001b[0m\u001b[38;5;200m\u001b[1;3m[Lord of the Rings] Q: How does Frodo Baggins' character change from the beginning of his time at the shire to throwing the one ring in Mount Doom?\n",
      "\u001b[0m\u001b[38;5;200m\u001b[1;3m[Lord of the Rings] A: \n",
      "At the beginning of his time in the Shire, Frodo is a naive and carefree hobbit who is unaware of the danger of the One Ring. He is content with his life in the Shire and is not looking for adventure. However, as he learns more about the One Ring and its power, he begins to understand the gravity of the situation and the importance of his mission. He gradually becomes more courageous and determined, and eventually makes the ultimate sacrifice of throwing the One Ring into Mount Doom, thus destroying it and saving Middle-earth from the Dark Lord Sauron.\n",
      "\u001b[0m✅ record record_hash_f3addf582a264f051994c89aa1fe3e62 from subquery_engine_text-embedding-ada-001_chunksize_20 -> default.sqlite\n",
      "DEBUG\n",
      " \n",
      "You will continually start seeing responses to the prompt:\n",
      "\n",
      "Describe Frodo Baggins growth from the beginning of his time at the shire to throwing the one ring in Mount Doom.\n",
      "\n",
      "The right answer is:\n",
      "\n",
      "\n",
      "Frodo Baggins begins his journey as a naive and carefree hobbit, unaware of the danger of the One Ring. As he embarks on his quest, he gradually grows in courage and determination, learning more about the power of the One Ring and the importance of his mission. He faces many obstacles and dangers along the way, but ultimately makes the ultimate sacrifice of throwing the One Ring into Mount Doom, thus destroying it and saving Middle-earth from the Dark Lord Sauron. Through his journey, Frodo Baggins has grown from a naive hobbit to a brave and courageous hero.\n",
      "\n",
      "Answer only with an integer from 1 to 10 based on how close the responses are to the right answer.\n",
      "\n",
      "MODEL ANSWER\n",
      "Frodo Baggins, a hobbit from the Shire, embarked on a remarkable journey that led to his growth and transformation. At the beginning of his adventure, Frodo was a humble and unassuming hobbit, living a peaceful life in the Shire. However, when he was entrusted with the task of destroying the One Ring, his character underwent significant development.\n",
      "\n",
      "Throughout his journey, Frodo displayed immense courage, resilience, and selflessness. He faced numerous challenges and dangers, including encounters with the Nazgûl, the treacherous paths of the Misty Mountains, and the corrupting influence of the Ring itself. Despite these obstacles, Frodo remained steadfast in his mission.\n",
      "\n",
      "Frodo's growth can be seen in his ability to resist the allure of the Ring, which had a corrupting effect on all who possessed it. He demonstrated remarkable strength of will, resisting its power and resisting the temptation to use it for his own gain. This inner struggle took a toll on Frodo, both physically and mentally, as the Ring's burden weighed heavily on him.\n",
      "\n",
      "Frodo's journey also allowed him to form deep bonds of friendship and loyalty with his companions, Samwise Gamgee and the Fellowship of the Ring. Sam, in particular, played a crucial role in supporting Frodo throughout their perilous journey, providing unwavering loyalty and encouragement.\n",
      "\n",
      "Ultimately, Frodo's growth culminated in his momentous act of throwing the One Ring into the fiery depths of Mount Doom, thereby destroying it and saving Middle-earth from the clutches of evil. This act required immense strength, sacrifice, and determination, as Frodo had to overcome the Ring's influence and resist its power until the very end.\n",
      "\n",
      "Frodo's journey from a simple hobbit to a heroic figure showcases his personal growth, resilience, and the indomitable spirit that allowed him to fulfill his mission and save Middle-earth from darkness.\n",
      "✅ feedback feedback_result_hash_9393ee27bbd31d67af3473ac23aee37e on record_hash_f3addf582a264f051994c89aa1fe3e62 -> default.sqlite\n",
      "✅ In model_agreement, input prompt will be set to *.__record__.main_input or `Select.RecordInput` .\n",
      "✅ In model_agreement, input response will be set to *.__record__.main_output or `Select.RecordOutput` .\n",
      "✅ app subquery_engine_text-embedding-ada-001_chunksize_32 -> default.sqlite\n",
      "✅ feedback def. feedback_definition_hash_48818e5c65e8c38bac0635894efaa278 -> default.sqlite\n",
      "Generated 3 sub questions.\n",
      "\u001b[36;1m\u001b[1;3m[Lord of the Rings] Q: What is Frodo Baggins' initial state at the beginning of his time at the shire?\n",
      "\u001b[0m\u001b[36;1m\u001b[1;3m[Lord of the Rings] A: \n",
      "Frodo Baggins is initially in a state of shock and confusion. He has just been attacked by the men of Carn Dûm and is now standing in the middle of a barrow-top, wearing thin white rags and crowned and belted with pale gold. He is surrounded by his friends, who are also in a state of shock and confusion.\n",
      "\u001b[0m\u001b[33;1m\u001b[1;3m[Lord of the Rings] Q: What events occur in Frodo Baggins' journey from the beginning of his time at the shire to throwing the one ring in Mount Doom?\n",
      "\u001b[0m\u001b[33;1m\u001b[1;3m[Lord of the Rings] A: \n",
      "Frodo Baggins begins his journey by leaving the Shire with his friends, Sam, Merry, and Pippin. They travel to Rivendell, where they meet with the Council of Elrond and learn of the One Ring and its power. After the Council, the Fellowship of the Ring is formed and they set out on their quest to destroy the One Ring. They travel through the Mines of Moria, where they are attacked by orcs and Balrog. They then travel to Lothlorien, where they receive gifts from Galadriel. From there, they travel to Amon Hen, where Boromir is killed and Frodo and Sam continue on their own. They travel through the Dead Marshes and then to the Black Gate of Mordor, where they are saved by the eagles. They then travel to Ithilien, where they meet Faramir and are taken to Minas Tirith. After the Battle of the Pelennor Fields, Frodo and Sam continue on their journey to Mount Doom, where Frodo finally throws the One Ring into the fire and destroys it.\n",
      "\u001b[0m\u001b[38;5;200m\u001b[1;3m[Lord of the Rings] Q: How does Frodo Baggins' character change from the beginning of his time at the shire to throwing the one ring in Mount Doom?\n",
      "\u001b[0m\u001b[38;5;200m\u001b[1;3m[Lord of the Rings] A: \n",
      "At the beginning of his time in the Shire, Frodo is a naive and carefree hobbit who is unaware of the danger posed by the One Ring. He is content with his life in the Shire and is not particularly interested in the wider world. However, as he embarks on his quest to destroy the One Ring, Frodo's character undergoes a dramatic transformation. He becomes more mature, courageous, and determined, and is willing to sacrifice himself for the greater good. He also develops a greater understanding of the power of the Ring and the evil of Sauron. By the end of his journey, Frodo is a changed hobbit, having experienced great hardship and loss, but also having gained a greater appreciation of the world and its people. He is also willing to take the ultimate risk and throw the One Ring into the fires of Mount Doom, thus destroying it and saving Middle-earth.\n",
      "\u001b[0m✅ record record_hash_dfc6087c3e9c32d848b3fcb82c40636b from subquery_engine_text-embedding-ada-001_chunksize_32 -> default.sqlite\n",
      "DEBUG\n",
      " \n",
      "You will continually start seeing responses to the prompt:\n",
      "\n",
      "Describe Frodo Baggins growth from the beginning of his time at the shire to throwing the one ring in Mount Doom.\n",
      "\n",
      "The right answer is:\n",
      "\n",
      "\n",
      "Frodo Baggins undergoes a significant transformation from the beginning of his time at the Shire to throwing the One Ring into the fires of Mount Doom. At the start of his journey, he is a naive and carefree hobbit, unaware of the danger posed by the One Ring. As he embarks on his quest, he matures and develops a greater understanding of the power of the Ring and the evil of Sauron. He also becomes more courageous and determined, willing to sacrifice himself for the greater good. By the end of his journey, Frodo is a changed hobbit, having experienced great hardship and loss, but also having gained a greater appreciation of the world and its people. He is also willing to take the ultimate risk and throw the One Ring into the fires of Mount Doom, thus destroying it and saving Middle-earth.\n",
      "\n",
      "Answer only with an integer from 1 to 10 based on how close the responses are to the right answer.\n",
      "\n",
      "MODEL ANSWER\n",
      "Frodo Baggins, a hobbit from the Shire, embarked on a remarkable journey that led to his growth and transformation. At the beginning of his adventure, Frodo was a humble and unassuming hobbit, living a peaceful life in the Shire. However, when he was entrusted with the task of destroying the One Ring, his character underwent significant development.\n",
      "\n",
      "Throughout his journey, Frodo displayed immense courage, resilience, and selflessness. He faced numerous challenges and dangers, including encounters with the Nazgûl, the treacherous paths of the Misty Mountains, and the corrupting influence of the Ring itself. Despite these obstacles, Frodo remained steadfast in his mission.\n",
      "\n",
      "Frodo's growth can be seen in his ability to resist the allure of the Ring, which had a corrupting effect on all who possessed it. He demonstrated remarkable strength of will, resisting its power and resisting the temptation to use it for his own gain. This inner struggle took a toll on Frodo, both physically and mentally, as the Ring's burden weighed heavily on him.\n",
      "\n",
      "Frodo's journey also allowed him to form deep bonds of friendship and loyalty with his companions, Samwise Gamgee and the Fellowship of the Ring. Sam, in particular, played a crucial role in supporting Frodo throughout their perilous journey, providing unwavering loyalty and encouragement.\n",
      "\n",
      "Ultimately, Frodo's growth culminated in his momentous act of throwing the One Ring into the fiery depths of Mount Doom, thus destroying it and saving Middle-earth from the clutches of evil. This act required immense strength, sacrifice, and determination, as Frodo had to overcome the Ring's influence and resist its power until the very end.\n",
      "\n",
      "Frodo's journey from a simple hobbit to a heroic figure showcases his personal growth, resilience, and the indomitable spirit that allowed him to fulfill his mission and save Middle-earth from darkness.\n",
      "✅ feedback feedback_result_hash_3723ccb00b9f010b7cee13d0d6a84bdd on record_hash_dfc6087c3e9c32d848b3fcb82c40636b -> default.sqlite\n",
      "✅ In model_agreement, input prompt will be set to *.__record__.main_input or `Select.RecordInput` .\n",
      "✅ In model_agreement, input response will be set to *.__record__.main_output or `Select.RecordOutput` .\n",
      "✅ app subquery_engine_text-embedding-ada-002_chunksize_20 -> default.sqlite\n",
      "✅ feedback def. feedback_definition_hash_48818e5c65e8c38bac0635894efaa278 -> default.sqlite\n",
      "Generated 3 sub questions.\n",
      "\u001b[36;1m\u001b[1;3m[Lord of the Rings] Q: What is Frodo's initial state when he leaves the shire\n",
      "\u001b[0m\u001b[36;1m\u001b[1;3m[Lord of the Rings] A: \n",
      "Frodo is initially filled with fear and anxiety about the perils that lie ahead of him on his journey. He is also filled with uncertainty about the future, both good and bad, and is struggling to come to terms with the fact that he must leave his friends and the comfort of the Shire.\n",
      "\u001b[0m\u001b[33;1m\u001b[1;3m[Lord of the Rings] Q: What events occur during Frodo's journey that shape his growth\n",
      "\u001b[0m\u001b[33;1m\u001b[1;3m[Lord of the Rings] A: \n",
      "During Frodo's journey, he meets many people and creatures that shape his growth. He meets elves, dwarves, and orcs, and hears stories of the Dark Tower and the Land of Mordor. He also meets Boromir, who encourages him to take up the burden of the Ring and trust in the strength and truth of Men. He also meets Sam Gamgee, who helps him on his journey and becomes a loyal friend. Finally, he meets the Tree-men, or giants, beyond the North Moors, which furthers his understanding of the world outside the Shire. All of these events help Frodo to grow and mature, and to understand the importance of his quest.\n",
      "\u001b[0m\u001b[38;5;200m\u001b[1;3m[Lord of the Rings] Q: What is Frodo's state when he throws the one ring in Mount Doom\n",
      "\u001b[0m\u001b[38;5;200m\u001b[1;3m[Lord of the Rings] A: \n",
      "Frodo is in a state of terror and grief when he throws the One Ring into Mount Doom. He is overwhelmed by the memory of Boromir's mad face and burning eyes, and is filled with dread at the thought of the power of the Ring and the consequences of its misuse. He is also filled with a sense of relief and freedom as he finally casts the Ring away and breaks its power.\n",
      "\u001b[0m✅ record record_hash_84698256dfb756b3c8f9eadb8982f175 from subquery_engine_text-embedding-ada-002_chunksize_20 -> default.sqlite\n",
      "DEBUG\n",
      " \n",
      "You will continually start seeing responses to the prompt:\n",
      "\n",
      "Describe Frodo Baggins growth from the beginning of his time at the shire to throwing the one ring in Mount Doom.\n",
      "\n",
      "The right answer is:\n",
      "\n",
      "\n",
      "Frodo Baggins undergoes a significant transformation over the course of his journey. At the beginning of his time in the Shire, he is filled with fear and anxiety about the unknown dangers that lie ahead. He is uncertain about the future and struggles to come to terms with the fact that he must leave his friends and the comfort of the Shire. As he meets new people and creatures, he begins to understand the importance of his quest and the power of the Ring. He also learns to trust in the strength and truth of Men, and to rely on the loyalty of his friend Sam Gamgee. By the time he reaches Mount Doom, Frodo is filled with terror and grief, but also with a sense of relief and freedom as he finally casts the Ring away and breaks its power. Through his journey, Frodo has grown from a scared and uncertain hobbit to a brave and determined hero.\n",
      "\n",
      "Answer only with an integer from 1 to 10 based on how close the responses are to the right answer.\n",
      "\n",
      "MODEL ANSWER\n",
      "Frodo Baggins, a hobbit from the Shire, embarked on a remarkable journey that led to his growth and transformation. At the beginning of his adventure, Frodo was a humble and unassuming hobbit, living a peaceful life in the Shire. However, when he was entrusted with the task of destroying the One Ring, his character underwent significant development.\n",
      "\n",
      "Throughout his journey, Frodo displayed immense courage, resilience, and selflessness. He faced numerous challenges and dangers, including encounters with the Nazgûl, the treacherous paths of the Misty Mountains, and the corrupting influence of the Ring itself. Despite these obstacles, Frodo remained steadfast in his mission.\n",
      "\n",
      "Frodo's growth can be seen in his ability to resist the allure of the Ring, which had a corrupting effect on all who possessed it. He demonstrated remarkable strength of will, resisting its power and resisting the temptation to use it for his own gain. This inner struggle took a toll on Frodo, both physically and mentally, as the Ring's burden weighed heavily upon him.\n",
      "\n",
      "Frodo's journey also allowed him to form deep bonds of friendship and loyalty with his companions, Samwise Gamgee and the Fellowship of the Ring. Sam, in particular, played a crucial role in supporting Frodo throughout their perilous journey, providing unwavering loyalty and encouragement.\n",
      "\n",
      "Ultimately, Frodo's growth culminated in his momentous act of throwing the One Ring into the fiery depths of Mount Doom, thereby destroying it and saving Middle-earth from the clutches of evil. This act required immense strength, sacrifice, and determination, as Frodo had to overcome the Ring's influence and resist its power until the very end.\n",
      "\n",
      "Frodo's journey from a simple hobbit to a heroic figure showcases his personal growth, resilience, and the indomitable spirit that allowed him to fulfill his mission and save Middle-earth from darkness.\n",
      "✅ feedback feedback_result_hash_63523b04833c3673c8aea2064f66e968 on record_hash_84698256dfb756b3c8f9eadb8982f175 -> default.sqlite\n",
      "✅ In model_agreement, input prompt will be set to *.__record__.main_input or `Select.RecordInput` .\n",
      "✅ In model_agreement, input response will be set to *.__record__.main_output or `Select.RecordOutput` .\n",
      "✅ app subquery_engine_text-embedding-ada-002_chunksize_32 -> default.sqlite\n",
      "✅ feedback def. feedback_definition_hash_48818e5c65e8c38bac0635894efaa278 -> default.sqlite\n",
      "Generated 4 sub questions.\n",
      "\u001b[36;1m\u001b[1;3m[Lord of the Rings] Q: What is Frodo's initial state when he leaves the shire?\n",
      "\u001b[0m\u001b[36;1m\u001b[1;3m[Lord of the Rings] A: \n",
      "Frodo is initially filled with fear and anxiety about the perils that lie ahead of him on his journey. He is also filled with uncertainty about the future, good or ill, and is struggling to come to terms with the fact that he must leave his friends and the comfort of the Shire.\n",
      "\u001b[0m\u001b[33;1m\u001b[1;3m[Lord of the Rings] Q: What events occur during Frodo's journey?\n",
      "\u001b[0m\u001b[33;1m\u001b[1;3m[Lord of the Rings] A: \n",
      "Frodo and Sam set off on the last stage of the Quest together. They paddle away from the shore in a boat, and the River bears them swiftly away. They pass the cliffs of Tol Brandir and the great falls, and with Sam's help, they manage to cross the current at the southward end of the island and drive the boat eastward towards the far shore. They land on the southern slopes of Amon Lhaw, draw the boat out, and hide it behind a boulder. Shouldering their burdens, they set off, seeking a path that will bring them over the grey hills of the Emyn Muil, and down into the Land of Shadow.\n",
      "\u001b[0m\u001b[38;5;200m\u001b[1;3m[Lord of the Rings] Q: How does Frodo's character change over the course of his journey?\n",
      "\u001b[0m\u001b[38;5;200m\u001b[1;3m[Lord of the Rings] A: \n",
      "Frodo's character changes over the course of his journey from a timid and uncertain hobbit to a brave and determined leader. He begins to take risks and make difficult decisions, and he learns to trust in himself and his companions. He also learns to accept the burden of his quest and the responsibility that comes with it. He develops a greater understanding of the world around him and the dangers it holds, and he learns to rely on his own strength and courage.\n",
      "\u001b[0m\u001b[32;1m\u001b[1;3m[Lord of the Rings] Q: What is Frodo's state when he throws the one ring in Mount Doom?\n",
      "\u001b[0m\u001b[32;1m\u001b[1;3m[Lord of the Rings] A: \n",
      "Frodo is in a state of relief and joy when he throws the One Ring into Mount Doom. He has finally completed his quest and is free from the burden of the Ring. He is also relieved that the Ring has been destroyed and that Sauron's power has been broken.\n",
      "\u001b[0m"
     ]
    }
   ],
   "source": [
    "# iterate through embeddings and chunk sizes, evaluating each response's agreement with chatgpt using TruLens\n",
    "chunk_sizes = [20, 32]\n",
    "embeddings = ['text-embedding-ada-001','text-embedding-ada-002']\n",
    "for embedding in(embeddings):\n",
    "    for chunk_size in chunk_sizes:\n",
    "        # initialize service context (set chunk size)\n",
    "        service_context = ServiceContext.from_defaults(chunk_size=chunk_size)\n",
    "\n",
    "        # build index and query engine\n",
    "        query_engine = VectorStoreIndex.from_documents(lotr).as_query_engine(embed_model=embedding)\n",
    "\n",
    "        # setup base query engine as tool\n",
    "        query_engine_tools = [\n",
    "            QueryEngineTool(\n",
    "                query_engine=query_engine, \n",
    "                metadata=ToolMetadata(name='Lord of the Rings', description='Fellowship of the Ring')\n",
    "            )\n",
    "        ]\n",
    "\n",
    "        query_engine = SubQuestionQueryEngine.from_defaults(query_engine_tools=query_engine_tools, service_context=service_context)\n",
    "\n",
    "        # Question/answer relevance between overall question and answer.\n",
    "        model_agreement = Feedback(openai.model_agreement).on_input_output()\n",
    "\n",
    "        tc = TruLlama(app_id = f'subquery_engine_{embedding}_chunksize_{chunk_size}', app = query_engine, feedbacks = [model_agreement])\n",
    "\n",
    "        response = tc.query('Describe Frodo Baggins growth from the beginning of his time at the shire to throwing the one ring in Mount Doom.')"
   ]
  },
  {
   "cell_type": "code",
   "execution_count": 6,
   "metadata": {},
   "outputs": [
    {
     "name": "stdout",
     "output_type": "stream",
     "text": [
      "Starting dashboard ...\n"
     ]
    },
    {
     "data": {
      "application/vnd.jupyter.widget-view+json": {
       "model_id": "249ff248a98b46cdacacb5c3278fe19a",
       "version_major": 2,
       "version_minor": 0
      },
      "text/plain": [
       "Accordion(children=(VBox(children=(VBox(children=(Label(value='STDOUT'), Output())), VBox(children=(Label(valu…"
      ]
     },
     "metadata": {},
     "output_type": "display_data"
    },
    {
     "name": "stdout",
     "output_type": "stream",
     "text": [
      "Dashboard started at http://192.168.50.34:8502 .\n"
     ]
    },
    {
     "data": {
      "text/plain": [
       "<Popen: returncode: None args: ['streamlit', 'run', '--server.headless=True'...>"
      ]
     },
     "execution_count": 6,
     "metadata": {},
     "output_type": "execute_result"
    }
   ],
   "source": [
    "tru.run_dashboard()"
   ]
  },
  {
   "cell_type": "markdown",
   "metadata": {},
   "source": [
    "From our knowledge of Lord of the Rings, we know that Frodo is in fact aware of the danger of the One Ring, highlighting the issue with using ChatGPT alone for complex queries. We should then use model_agreement *not* as a measure of correctness, but rather agreement with an incorrect ChatGPT answer.\n",
    "\n",
    "Assessing the four chain iterations using the TruLens leaderboard, we can see that *subquery_engine_text-embedding-ada-002_chunksize_20* has the lowest model agreement with ChatGPT (in other words, likely the best answer), along with the lowest cost, token usage and latency."
   ]
  },
  {
   "cell_type": "markdown",
   "metadata": {},
   "source": [
    "![subquery_leaderboard](subquery_leaderboard.png)"
   ]
  },
  {
   "cell_type": "markdown",
   "metadata": {},
   "source": [
    "This example highlights the benefit of using llama-index for document-augmnented retrieval + the ability to break down complex queries into subquestions, along with the importance of using TruLens for evaluation to help us select a good embedding and an appropriate chunk size."
   ]
  }
 ],
 "metadata": {
  "kernelspec": {
   "display_name": "Python 3.11.3 ('llama')",
   "language": "python",
   "name": "python3"
  },
  "language_info": {
   "codemirror_mode": {
    "name": "ipython",
    "version": 3
   },
   "file_extension": ".py",
   "mimetype": "text/x-python",
   "name": "python",
   "nbconvert_exporter": "python",
   "pygments_lexer": "ipython3",
   "version": "3.11.3"
  },
  "orig_nbformat": 4,
  "vscode": {
   "interpreter": {
    "hash": "35cee81fa8c6b4ce6d52f7ca43c2031bd5c0e6fdb35bec5c5fb661d54c0961db"
   }
  }
 },
 "nbformat": 4,
 "nbformat_minor": 2
}
