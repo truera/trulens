{
 "cells": [
  {
   "attachments": {},
   "cell_type": "markdown",
   "metadata": {},
   "source": [
    "# Query Planning in Llama-Index\n",
    "\n",
    "Query planning is a useful tool to leverage the ability of LLMs to structure the user inputs into multiple different queries, either sequentially or in parallel before answering the questions. This method improvers the response by allowing the question to be decomposed into smaller, more answerable questions.\n",
    "\n",
    "Sub-question queries are one such method. Sub-question queries decompose the user input into multiple different sub-questions. This is great for answering complex questions that require knowledge from different documents.\n",
    "\n",
    "Relatedly, there are a great deal of configurations for this style of application that must be selected. In this example, we'll iterate through several of these choices and evaluate each with TruLens.\n",
    "\n",
    "[![Open In Colab](https://colab.research.google.com/assets/colab-badge.svg)](https://colab.research.google.com/github/truera/trulens/blob/main/trulens_eval/examples/frameworks/llama_index/llama_index_queryplanning.ipynb)"
   ]
  },
  {
   "cell_type": "markdown",
   "metadata": {},
   "source": [
    "### Import from Llama-Index and TruLens"
   ]
  },
  {
   "cell_type": "code",
   "execution_count": 2,
   "metadata": {},
   "outputs": [],
   "source": [
    "#! pip install trulens_eval==0.7.0 llama_index==0.7.11"
   ]
  },
  {
   "cell_type": "code",
   "execution_count": 1,
   "metadata": {},
   "outputs": [],
   "source": [
    "from llama_index import VectorStoreIndex, SimpleWebPageReader, ServiceContext\n",
    "from llama_index.tools import QueryEngineTool, ToolMetadata\n",
    "from llama_index.query_engine import SubQuestionQueryEngine\n",
    "\n",
    "from trulens_eval import TruLlama, Feedback, Tru, feedback\n",
    "tru = Tru()"
   ]
  },
  {
   "cell_type": "code",
   "execution_count": 3,
   "metadata": {},
   "outputs": [],
   "source": [
    "# NOTE: This is ONLY necessary in jupyter notebook.\n",
    "# Details: Jupyter runs an event-loop behind the scenes. \n",
    "#          This results in nested event-loops when we start an event-loop to make async queries.\n",
    "#          This is normally not allowed, we use nest_asyncio to allow it for convenience.  \n",
    "import nest_asyncio\n",
    "nest_asyncio.apply()"
   ]
  },
  {
   "cell_type": "markdown",
   "metadata": {},
   "source": [
    "### Set keys\n",
    "\n",
    "For this example we need an OpenAI key"
   ]
  },
  {
   "cell_type": "code",
   "execution_count": 4,
   "metadata": {},
   "outputs": [],
   "source": [
    "import os\n",
    "os.environ[\"OPENAI_API_KEY\"] = \"...\""
   ]
  },
  {
   "cell_type": "markdown",
   "metadata": {},
   "source": [
    "### Set up evaluation\n",
    "\n",
    "Here we'll use agreement with GPT-4 as our evaluation metric."
   ]
  },
  {
   "cell_type": "code",
   "execution_count": 5,
   "metadata": {},
   "outputs": [
    {
     "name": "stdout",
     "output_type": "stream",
     "text": [
      "✅ In model_agreement, input prompt will be set to *.__record__.main_input or `Select.RecordInput` .\n",
      "✅ In model_agreement, input response will be set to *.__record__.main_output or `Select.RecordOutput` .\n"
     ]
    }
   ],
   "source": [
    "openai = feedback.OpenAI()\n",
    "model_agreement = Feedback(openai.model_agreement).on_input_output()"
   ]
  },
  {
   "cell_type": "markdown",
   "metadata": {},
   "source": [
    "### Run the dashboard\n",
    "\n",
    "By starting the dashboard ahead of time, we can watch as the evaluations get logged. This is especially useful for longer-running applications."
   ]
  },
  {
   "cell_type": "code",
   "execution_count": 6,
   "metadata": {},
   "outputs": [
    {
     "name": "stdout",
     "output_type": "stream",
     "text": [
      "Starting dashboard ...\n"
     ]
    },
    {
     "data": {
      "application/vnd.jupyter.widget-view+json": {
       "model_id": "750d7cb4a7d04110991ae8803a7867f0",
       "version_major": 2,
       "version_minor": 0
      },
      "text/plain": [
       "Accordion(children=(VBox(children=(VBox(children=(Label(value='STDOUT'), Output())), VBox(children=(Label(valu…"
      ]
     },
     "metadata": {},
     "output_type": "display_data"
    },
    {
     "name": "stdout",
     "output_type": "stream",
     "text": [
      "Dashboard started at http://192.168.4.23:8507 .\n"
     ]
    },
    {
     "data": {
      "text/plain": [
       "<Popen: returncode: None args: ['streamlit', 'run', '--server.headless=True'...>"
      ]
     },
     "execution_count": 6,
     "metadata": {},
     "output_type": "execute_result"
    }
   ],
   "source": [
    "tru.run_dashboard()"
   ]
  },
  {
   "cell_type": "code",
   "execution_count": 7,
   "metadata": {},
   "outputs": [
    {
     "name": "stdout",
     "output_type": "stream",
     "text": [
      "✅ app VectorStoreIndex_text-embedding-ada-001 -> default.sqlite\n",
      "✅ feedback def. feedback_definition_hash_4c65c970e87d77a632b18a19706b1f9c -> default.sqlite\n"
     ]
    },
    {
     "name": "stderr",
     "output_type": "stream",
     "text": [
      "model_agreement has been deprecated. Use GroundTruthAgreement(ground_truth) instead.\n"
     ]
    },
    {
     "name": "stdout",
     "output_type": "stream",
     "text": [
      "✅ record record_hash_e553aa0c2f2eea8e2de53fca088939f4 from VectorStoreIndex_text-embedding-ada-001 -> default.sqlite\n"
     ]
    },
    {
     "name": "stderr",
     "output_type": "stream",
     "text": [
      "model_agreement has been deprecated. Use GroundTruthAgreement(ground_truth) instead.\n"
     ]
    },
    {
     "name": "stdout",
     "output_type": "stream",
     "text": [
      "✅ record record_hash_ca8a027e19e194a966c03131b3cddeb6 from VectorStoreIndex_text-embedding-ada-001 -> default.sqlite\n"
     ]
    },
    {
     "name": "stderr",
     "output_type": "stream",
     "text": [
      "model_agreement has been deprecated. Use GroundTruthAgreement(ground_truth) instead.\n"
     ]
    },
    {
     "name": "stdout",
     "output_type": "stream",
     "text": [
      "✅ record record_hash_2f597ae33d0c3ed735d2178f000eb36a from VectorStoreIndex_text-embedding-ada-001 -> default.sqlite\n",
      "✅ feedback feedback_result_hash_1b3c5d743bd8f6a8accd4cd0a79aaa98 on record_hash_e553aa0c2f2eea8e2de53fca088939f4 -> default.sqlite\n",
      "✅ feedback feedback_result_hash_adfafd074556502e43e7152d70c099e2 on record_hash_2f597ae33d0c3ed735d2178f000eb36a -> default.sqlite\n"
     ]
    },
    {
     "name": "stderr",
     "output_type": "stream",
     "text": [
      "model_agreement has been deprecated. Use GroundTruthAgreement(ground_truth) instead.\n"
     ]
    },
    {
     "name": "stdout",
     "output_type": "stream",
     "text": [
      "✅ record record_hash_d1b13cc91f8253fa12098f27b5a0ae08 from VectorStoreIndex_text-embedding-ada-001 -> default.sqlite\n",
      "✅ feedback feedback_result_hash_71bd9c36a4132a678d073792fc457156 on record_hash_ca8a027e19e194a966c03131b3cddeb6 -> default.sqlite\n"
     ]
    },
    {
     "name": "stderr",
     "output_type": "stream",
     "text": [
      "model_agreement has been deprecated. Use GroundTruthAgreement(ground_truth) instead.\n"
     ]
    },
    {
     "name": "stdout",
     "output_type": "stream",
     "text": [
      "✅ record record_hash_58955cec968545f969ad50bb2015eba5 from VectorStoreIndex_text-embedding-ada-001 -> default.sqlite\n"
     ]
    },
    {
     "name": "stderr",
     "output_type": "stream",
     "text": [
      "model_agreement has been deprecated. Use GroundTruthAgreement(ground_truth) instead.\n"
     ]
    },
    {
     "name": "stdout",
     "output_type": "stream",
     "text": [
      "✅ record record_hash_9ce32af5dbaf28220550664c6bc21b3e from VectorStoreIndex_text-embedding-ada-001 -> default.sqlite\n",
      "✅ feedback feedback_result_hash_a0c11f2db2cbb22e5e1efb6eb2868c7a on record_hash_d1b13cc91f8253fa12098f27b5a0ae08 -> default.sqlite\n",
      "✅ feedback feedback_result_hash_1335a1f31c5389c92d7c738fefbebf77 on record_hash_58955cec968545f969ad50bb2015eba5 -> default.sqlite\n"
     ]
    },
    {
     "name": "stderr",
     "output_type": "stream",
     "text": [
      "model_agreement has been deprecated. Use GroundTruthAgreement(ground_truth) instead.\n"
     ]
    },
    {
     "name": "stdout",
     "output_type": "stream",
     "text": [
      "✅ record record_hash_f86c2b6bfb336c6de00f16a7420622db from VectorStoreIndex_text-embedding-ada-001 -> default.sqlite\n",
      "✅ feedback feedback_result_hash_f78686e9ead2f67a96127cd9556eef67 on record_hash_9ce32af5dbaf28220550664c6bc21b3e -> default.sqlite\n"
     ]
    },
    {
     "name": "stderr",
     "output_type": "stream",
     "text": [
      "model_agreement has been deprecated. Use GroundTruthAgreement(ground_truth) instead.\n"
     ]
    },
    {
     "name": "stdout",
     "output_type": "stream",
     "text": [
      "✅ record record_hash_f408f0a621d62e3467c3aabd6afa1ffa from VectorStoreIndex_text-embedding-ada-001 -> default.sqlite\n",
      "✅ feedback feedback_result_hash_f9e03c96fd7a01adca507209cca55d15 on record_hash_f86c2b6bfb336c6de00f16a7420622db -> default.sqlite\n",
      "✅ app SubQuestionQueryEngine_text-embedding-ada-001 -> default.sqlite\n",
      "✅ feedback def. feedback_definition_hash_4c65c970e87d77a632b18a19706b1f9c -> default.sqlite\n",
      "Generated 2 sub questions.\n",
      "\u001b[36;1m\u001b[1;3m[Alice in Wonderland] Q: What happens when Alice meets the White Rabbit?\n",
      "\u001b[0m\u001b[33;1m\u001b[1;3m[Alice in Wonderland] Q: How does Alice challenge the Queen of Hearts?\n",
      "\u001b[0m\u001b[33;1m\u001b[1;3m[Alice in Wonderland] A: \n",
      "Alice challenges the Queen of Hearts by speaking up and saying \"Nonsense!\" when the Queen orders her to be beheaded. Alice also speaks up and says \"It's no business of mine\" when the Queen asks her who the three gardeners are. Finally, Alice protects the three gardeners from being beheaded by putting them in a flower pot.\n",
      "\u001b[0m✅ feedback feedback_result_hash_249efa9c3a1c10b757fd2c9b88f3a82b on record_hash_f408f0a621d62e3467c3aabd6afa1ffa -> default.sqlite\n",
      "\u001b[36;1m\u001b[1;3m[Alice in Wonderland] A: \n",
      "When Alice meets the White Rabbit, she follows it down a long, low hall that is lit up by a row of lamps hanging from the roof. She finds that all the doors are locked, so she sadly walks down the middle of the hall. Suddenly, she finds a little three-legged table with a tiny golden key on it. She tries the key in the locks of the doors, but it does not fit. On her second time round, she finds a low curtain and a little door behind it. The key fits the lock, and Alice opens the door to find a small passage that leads to a beautiful garden. However, she is too large to fit through the doorway. She then finds a bottle on the table with a label that says \"DRINK ME,\" so she tastes it and finds it to be a mixture of different flavors. After drinking it, she shrinks to a size that allows her to fit through the doorway. She then hears a voice outside and realizes it is the Rabbit looking for her. The Rabbit tries to open the door, but Alice's elbow is pressed against it, so it fails. The Rabbit then decides to try and get in through the window, but Alice stops it by making a snatch in the air. She hears the Rabbit and another voice, which turns out to be Pat, discussing how to get in. Eventually, Pat is sent down the chimney.\n",
      "\u001b[0m"
     ]
    },
    {
     "name": "stderr",
     "output_type": "stream",
     "text": [
      "model_agreement has been deprecated. Use GroundTruthAgreement(ground_truth) instead.\n"
     ]
    },
    {
     "name": "stdout",
     "output_type": "stream",
     "text": [
      "✅ record record_hash_338d18695bbc56ca404a8e5d30a8e3c5 from SubQuestionQueryEngine_text-embedding-ada-001 -> default.sqlite\n",
      "Generated 4 sub questions.\n",
      "\u001b[36;1m\u001b[1;3m[Alice in Wonderland] Q: What aspects of enchantment are present in Alice in Wonderland?\n",
      "\u001b[0m\u001b[33;1m\u001b[1;3m[Alice in Wonderland] Q: What nostalgia does Alice experience in Wonderland?\n",
      "\u001b[0m\u001b[38;5;200m\u001b[1;3m[Alice in Wonderland] Q: Why is Alice fascinated by her encounters below-ground?\n",
      "\u001b[0m\u001b[32;1m\u001b[1;3m[Alice in Wonderland] Q: Why is Alice frustrated by her encounters below-ground?\n",
      "\u001b[0m\u001b[32;1m\u001b[1;3m[Alice in Wonderland] A: \n",
      "Alice is frustrated by her encounters below-ground because she is unable to get out of the window, she is unable to find out where she is, and she is constantly being interrupted by the Rabbit and other characters. She is also frustrated by the fact that she is falling through the air and is unable to control her descent.\n",
      "\u001b[0m\u001b[33;1m\u001b[1;3m[Alice in Wonderland] A: \n",
      "Alice experiences nostalgia for her childhood in Wonderland. She remembers the strange creatures of her little sister's dream, the White Rabbit, the Mouse, the March Hare and his friends, the Queen, the pig-baby, the Gryphon, the Lizard, and the Mock Turtle. She also imagines how her little sister will grow up and keep the simple and loving heart of her childhood, and how she will tell her own children stories of Wonderland.\n",
      "\u001b[0m\u001b[38;5;200m\u001b[1;3m[Alice in Wonderland] A: \n",
      "Alice is fascinated by her encounters below-ground because she is discovering a world that is completely different from the one she is used to. She finds herself in a dark hall filled with locked doors, a small passage leading to a beautiful garden, and a mysterious little table with a golden key and a bottle with the words \"DRINK ME\" printed on it. She is intrigued by the strange and unexpected things she finds, and is eager to explore and learn more about this new and mysterious world.\n",
      "\u001b[0m✅ feedback feedback_result_hash_13492ea08b5bce833005bde0bfa20a3d on record_hash_338d18695bbc56ca404a8e5d30a8e3c5 -> default.sqlite\n",
      "\u001b[36;1m\u001b[1;3m[Alice in Wonderland] A: \n",
      "Alice in Wonderland is full of enchanting elements, such as talking animals, magical creatures, and fantastical settings. Alice encounters a talking White Rabbit, a Caterpillar smoking a hookah, a Cheshire Cat that can disappear and reappear at will, a Mad Hatter and March Hare hosting a tea party, a Queen of Hearts who orders executions, and a Mock Turtle who tells stories. Alice also finds herself in a variety of strange and wonderful places, such as a garden full of bright flowers and cool fountains, a dark hall with locked doors, and a tiny passage leading to a beautiful garden. All of these elements combine to create a world of enchantment and mystery that captivates readers of all ages.\n",
      "\u001b[0m"
     ]
    },
    {
     "name": "stderr",
     "output_type": "stream",
     "text": [
      "model_agreement has been deprecated. Use GroundTruthAgreement(ground_truth) instead.\n"
     ]
    },
    {
     "name": "stdout",
     "output_type": "stream",
     "text": [
      "✅ record record_hash_9da2121dfbaf3645ab28556fc2d2b6fb from SubQuestionQueryEngine_text-embedding-ada-001 -> default.sqlite\n",
      "Generated 1 sub questions.\n",
      "\u001b[36;1m\u001b[1;3m[Alice in Wonderland] Q: What is the White Rabbit's function in Alice in Wonderland?\n",
      "\u001b[0m\u001b[36;1m\u001b[1;3m[Alice in Wonderland] A: \n",
      "The White Rabbit is a character in Lewis Carroll's Alice's Adventures in Wonderland. He is a harried, flustered creature who is always running late. He serves as a guide to Alice, leading her down the rabbit hole and into Wonderland. He also serves as a source of comic relief, often getting flustered and confused.\n",
      "\u001b[0m"
     ]
    },
    {
     "name": "stderr",
     "output_type": "stream",
     "text": [
      "model_agreement has been deprecated. Use GroundTruthAgreement(ground_truth) instead.\n"
     ]
    },
    {
     "name": "stdout",
     "output_type": "stream",
     "text": [
      "✅ record record_hash_56c4361ad316da8262def5ea59e58bcf from SubQuestionQueryEngine_text-embedding-ada-001 -> default.sqlite\n",
      "Generated 2 sub questions.\n",
      "\u001b[36;1m\u001b[1;3m[Alice in Wonderland] Q: What are some examples of humor in Alice in Wonderland\n",
      "\u001b[0m\u001b[33;1m\u001b[1;3m[Alice in Wonderland] Q: How does Carroll use humor to make fun of Alice\n",
      "\u001b[0m✅ feedback feedback_result_hash_4afb151fbafdea6fe0397effda5fc309 on record_hash_56c4361ad316da8262def5ea59e58bcf -> default.sqlite\n",
      "\u001b[33;1m\u001b[1;3m[Alice in Wonderland] A: \n",
      "Carroll uses humor to make fun of Alice by having her react to the absurd situations she finds herself in with confusion and disbelief. For example, when Alice is talking to the Footman, he makes a nonsensical suggestion that she could knock on the door if she were inside, and Alice responds with disbelief and frustration. Similarly, when Alice meets the Duchess and the Cheshire Cat, she is taken aback by their strange behavior and remarks. Carroll also uses Alice's naivete to make fun of her, as she often misunderstands the conversations and situations she finds herself in.\n",
      "\u001b[0m✅ feedback feedback_result_hash_2f67fa27c4319902f3e65f6b374d21e4 on record_hash_9da2121dfbaf3645ab28556fc2d2b6fb -> default.sqlite\n",
      "\u001b[36;1m\u001b[1;3m[Alice in Wonderland] A: \n",
      "Some examples of humor in Alice in Wonderland include: \n",
      "- The Hatter's rudeness when Alice expresses confusion about the conversation \n",
      "- The gardeners painting the white roses red to avoid getting their heads cut off \n",
      "- Alice's comment that the tea-party was the \"stupidest\" she had ever been to \n",
      "- The Queen's Croquet-Ground where Alice finds the gardeners painting the roses \n",
      "- The dialogue between the gardeners, especially when Five and Seven argue \n",
      "- Alice's comment that she wished she could \"shut up like a telescope\" \n",
      "- Alice's description of the drink she finds in the bottle as having a \"mixed flavour of cherry-tart, custard, pine-apple, roast turkey, toffee, and hot buttered toast\" \n",
      "- The Rabbit's comment that it was getting late as it ran away from Alice.\n",
      "\u001b[0m"
     ]
    },
    {
     "name": "stderr",
     "output_type": "stream",
     "text": [
      "model_agreement has been deprecated. Use GroundTruthAgreement(ground_truth) instead.\n"
     ]
    },
    {
     "name": "stdout",
     "output_type": "stream",
     "text": [
      "✅ record record_hash_88dcbdc926e2b8df94105b250622deba from SubQuestionQueryEngine_text-embedding-ada-001 -> default.sqlite\n",
      "Generated 2 sub questions.\n",
      "\u001b[36;1m\u001b[1;3m[Alice in Wonderland] Q: What is the Duchess' lullaby in Alice in Wonderland\n",
      "\u001b[0m\u001b[33;1m\u001b[1;3m[Alice in Wonderland] Q: What is the 'You Are Old, Father William' verse in Alice in Wonderland\n",
      "\u001b[0m\u001b[36;1m\u001b[1;3m[Alice in Wonderland] A: \n",
      "The Duchess' lullaby is:\n",
      "\n",
      "\"Speak roughly to your little boy,  \n",
      "Â Â Â Â And beat him when he sneezes:  \n",
      "He only does it to annoy,  \n",
      "Â Â Â Â Because he knows it teases.\"\n",
      "\n",
      "CHORUS.  \n",
      "(In which the cook and the baby joined):\n",
      "\n",
      "\"Wow! wow! wow!\"\n",
      "\n",
      "While the Duchess sang the second verse of the song, she kept tossing the baby\n",
      "violently up and down, and the poor little thing howled so, that Alice could\n",
      "hardly hear the words:--\n",
      "\n",
      "\"I speak severely to my boy,  \n",
      "Â Â Â Â I beat him when he sneezes;  \n",
      "For he can thoroughly enjoy  \n",
      "Â Â Â Â The pepper when he pleases!\"\n",
      "\n",
      "CHORUS.\n",
      "\n",
      "\"Wow! wow! wow!\"\n",
      "\u001b[0m✅ feedback feedback_result_hash_d16e1e50930fca9c0d0314b395074cf6 on record_hash_88dcbdc926e2b8df94105b250622deba -> default.sqlite\n",
      "\u001b[33;1m\u001b[1;3m[Alice in Wonderland] A: \n",
      "\"You are old, Father William,\" the young man said,  \n",
      "Â Â Â Â \"And your hair has become very white;  \n",
      "And yet you incessantly stand on your head--  \n",
      "Â Â Â Â Do you think, at your age, it is right?\"  \n",
      "  \n",
      "\"In my youth,\" Father William replied to his son,  \n",
      "Â Â Â Â \"I feared it might injure the brain;  \n",
      "But, now that I'm perfectly sure I have none,  \n",
      "Â Â Â Â Why, I do it again and again.\"  \n",
      "  \n",
      "\"You are old,\" said the youth, \"as I mentioned before,  \n",
      "Â Â Â Â And have grown most uncommonly fat;  \n",
      "Yet you turned a back-somersault in at the door--  \n",
      "Â Â Â Â Pray, what is the reason of that?\"  \n",
      "  \n",
      "\"In my youth,\" said the sage, as he shook his grey locks,  \n",
      "Â Â Â Â \"I kept all my limbs very supple  \n",
      "By the use of this ointment--one shilling the box--  \n",
      "Â Â Â Â Allow me to sell you a couple?\"  \n",
      "  \n",
      "\"You are old,\" said the youth, \"and your jaws are too weak  \n",
      "Â Â Â Â For anything tougher than suet;  \n",
      "Yet you finished the goose, with the bones and the beak--  \n",
      "Â Â Â Â Pray, how did you manage to do it?\"  \n",
      "  \n",
      "\"In my youth,\" said his father, \"I took to the law,  \n",
      "Â Â Â Â And argued each case with my wife;  \n",
      "And the muscular strength, which it gave to my jaw,  \n",
      "Â Â Â Â Has lasted the rest of my life.\"  \n",
      "  \n",
      "\"You are old,\" said the youth, \"one would hardly suppose  \n",
      "Â Â Â Â That your eye was as steady as ever;  \n",
      "Yet you balanced an eel on the end of your nose--  \n",
      "Â Â Â Â What made you so awfully clever?\"\n",
      "\u001b[0m"
     ]
    },
    {
     "name": "stderr",
     "output_type": "stream",
     "text": [
      "model_agreement has been deprecated. Use GroundTruthAgreement(ground_truth) instead.\n"
     ]
    },
    {
     "name": "stdout",
     "output_type": "stream",
     "text": [
      "✅ record record_hash_506c0677a598a792d749830d6956864b from SubQuestionQueryEngine_text-embedding-ada-001 -> default.sqlite\n",
      "Generated 3 sub questions.\n",
      "\u001b[36;1m\u001b[1;3m[Alice in Wonderland] Q: What is the sentiment of the Mouse's long tale?\n",
      "\u001b[0m\u001b[33;1m\u001b[1;3m[Alice in Wonderland] Q: What is the sentiment of the Mock Turtle's story?\n",
      "\u001b[0m\u001b[38;5;200m\u001b[1;3m[Alice in Wonderland] Q: What is the sentiment of the Lobster-Quadrille?\n",
      "\u001b[0m\u001b[36;1m\u001b[1;3m[Alice in Wonderland] A: \n",
      "The sentiment of the Mouse's long tale is one of anger and indignation.\n",
      "\u001b[0m\u001b[33;1m\u001b[1;3m[Alice in Wonderland] A: \n",
      "The sentiment of the Mock Turtle's story is one of sadness and regret. The Mock Turtle is clearly upset about his past, and his story is filled with sorrow and longing.\n",
      "\u001b[0m\u001b[38;5;200m\u001b[1;3m[Alice in Wonderland] A: \n",
      "The sentiment of the Lobster-Quadrille is one of excitement and enthusiasm. The Mock Turtle and the Gryphon both seem to be very excited about the dance and eager to show Alice how it is done.\n",
      "\u001b[0m✅ feedback feedback_result_hash_54f072c2d4e88dad0893444e484e39e3 on record_hash_506c0677a598a792d749830d6956864b -> default.sqlite\n",
      "✅ record record_hash_bd861363ae03d7dc7ac38f160a6801a2 from SubQuestionQueryEngine_text-embedding-ada-001 -> default.sqlite\n"
     ]
    },
    {
     "name": "stderr",
     "output_type": "stream",
     "text": [
      "model_agreement has been deprecated. Use GroundTruthAgreement(ground_truth) instead.\n"
     ]
    },
    {
     "name": "stdout",
     "output_type": "stream",
     "text": [
      "Generated 1 sub questions.\n",
      "\u001b[36;1m\u001b[1;3m[Alice in Wonderland] Q: What is the role of the mad hatter in Alice's journey?\n",
      "\u001b[0m\u001b[36;1m\u001b[1;3m[Alice in Wonderland] A: \n",
      "The Mad Hatter plays an important role in Alice's journey. He is a source of advice and guidance, offering Alice hints and tips on how to navigate her way through the strange world she finds herself in. He also provides comic relief, with his nonsensical conversations and his tendency to get into arguments with the March Hare. Finally, he serves as a reminder of the importance of keeping good terms with Time, as Alice learns from his story of how he and Time quarrelled.\n",
      "\u001b[0m"
     ]
    },
    {
     "name": "stderr",
     "output_type": "stream",
     "text": [
      "model_agreement has been deprecated. Use GroundTruthAgreement(ground_truth) instead.\n"
     ]
    },
    {
     "name": "stdout",
     "output_type": "stream",
     "text": [
      "✅ record record_hash_6d10a7a82cae7f46f0b20352692ac528 from SubQuestionQueryEngine_text-embedding-ada-001 -> default.sqlite\n",
      "✅ feedback feedback_result_hash_8e1e5d3d9417d08169055a10f49ee773 on record_hash_6d10a7a82cae7f46f0b20352692ac528 -> default.sqlite\n"
     ]
    },
    {
     "name": "stderr",
     "output_type": "stream",
     "text": [
      "1-10 rating regex failed to match on: 'The sentiment of the Mouse's long tale is one of sadness and melancholy, the sentiment of the Mock Turtle's story is one of nostalgia and longing, and the sentiment of the Lobster-Quadrille is one of whimsy and humor. These three stories have different sentiments, with the Mouse's tale being the most negative, the Mock Turtle's story being more bittersweet, and the Lobster-Quadrille being the most positive.'\n"
     ]
    },
    {
     "name": "stdout",
     "output_type": "stream",
     "text": [
      "✅ feedback feedback_result_hash_3e9a7421aa6518ef2682eeddb405c64f on record_hash_bd861363ae03d7dc7ac38f160a6801a2 -> default.sqlite\n",
      "Generated 3 sub questions.\n",
      "\u001b[36;1m\u001b[1;3m[Alice in Wonderland] Q: What is the Mad Hatter's role in Alice in Wonderland\n",
      "\u001b[0m\u001b[33;1m\u001b[1;3m[Alice in Wonderland] Q: How does the Mad Hatter's role change throughout the story\n",
      "\u001b[0m\u001b[38;5;200m\u001b[1;3m[Alice in Wonderland] Q: How does the Mad Hatter influence the arc of the story\n",
      "\u001b[0m\u001b[38;5;200m\u001b[1;3m[Alice in Wonderland] A: \n",
      "The Mad Hatter influences the arc of the story by providing comic relief and introducing Alice to the concept of time manipulation. He also encourages Alice to tell a story, which leads to the Dormouse telling a story. This helps to move the plot forward and keep the reader engaged.\n",
      "\u001b[0m\u001b[36;1m\u001b[1;3m[Alice in Wonderland] A: \n",
      "The Mad Hatter is a character in Alice in Wonderland who hosts a tea party with the March Hare and the Dormouse. He is known for his nonsensical riddles and conversations, and his tendency to make personal remarks. He is also known for his eccentric behavior and his tendency to appear and vanish suddenly.\n",
      "\u001b[0m\u001b[33;1m\u001b[1;3m[Alice in Wonderland] A: \n",
      "The Mad Hatter's role changes throughout the story from a source of amusement and confusion to a source of wisdom and insight. Initially, he is portrayed as a silly character who speaks in riddles and makes nonsensical statements. However, as the story progresses, he begins to offer advice and provide insight into the situation. He is the one who suggests that Alice tell a story, and he is the one who offers a solution to Alice's problem of having to beat time when she learns music. He also provides insight into the Queen's behavior and explains why she is so angry with him. Finally, he is the one who suggests that Alice and the others change the subject, and he is the one who offers a solution to the problem of the tea-things being used up.\n",
      "\u001b[0m"
     ]
    },
    {
     "name": "stderr",
     "output_type": "stream",
     "text": [
      "model_agreement has been deprecated. Use GroundTruthAgreement(ground_truth) instead.\n"
     ]
    },
    {
     "name": "stdout",
     "output_type": "stream",
     "text": [
      "✅ record record_hash_f80b6f9ef12431aded0eb916ec9a68b8 from SubQuestionQueryEngine_text-embedding-ada-001 -> default.sqlite\n",
      "✅ app VectorStoreIndex_text-embedding-ada-002 -> default.sqlite\n",
      "✅ feedback def. feedback_definition_hash_4c65c970e87d77a632b18a19706b1f9c -> default.sqlite\n"
     ]
    },
    {
     "name": "stderr",
     "output_type": "stream",
     "text": [
      "model_agreement has been deprecated. Use GroundTruthAgreement(ground_truth) instead.\n"
     ]
    },
    {
     "name": "stdout",
     "output_type": "stream",
     "text": [
      "✅ record record_hash_f3badde1e4ab157728fca82130931d2f from VectorStoreIndex_text-embedding-ada-002 -> default.sqlite\n"
     ]
    },
    {
     "name": "stderr",
     "output_type": "stream",
     "text": [
      "model_agreement has been deprecated. Use GroundTruthAgreement(ground_truth) instead.\n"
     ]
    },
    {
     "name": "stdout",
     "output_type": "stream",
     "text": [
      "✅ feedback feedback_result_hash_0e3e5c91f4b65dcc1670524c42c462d3 on record_hash_f80b6f9ef12431aded0eb916ec9a68b8 -> default.sqlite\n",
      "✅ record record_hash_9361f9009a5e15dc6965c7d9a2441c50 from VectorStoreIndex_text-embedding-ada-002 -> default.sqlite\n"
     ]
    },
    {
     "name": "stderr",
     "output_type": "stream",
     "text": [
      "model_agreement has been deprecated. Use GroundTruthAgreement(ground_truth) instead.\n"
     ]
    },
    {
     "name": "stdout",
     "output_type": "stream",
     "text": [
      "✅ record record_hash_ab801ce3b22ca3f3a693ad9e29b3b14c from VectorStoreIndex_text-embedding-ada-002 -> default.sqlite\n",
      "✅ feedback feedback_result_hash_83ba71a6f336bb623cec2401e90a329c on record_hash_f3badde1e4ab157728fca82130931d2f -> default.sqlite\n",
      "✅ feedback feedback_result_hash_0750dffb1a1a190ff49f439718f22363 on record_hash_ab801ce3b22ca3f3a693ad9e29b3b14c -> default.sqlite\n"
     ]
    },
    {
     "name": "stderr",
     "output_type": "stream",
     "text": [
      "model_agreement has been deprecated. Use GroundTruthAgreement(ground_truth) instead.\n"
     ]
    },
    {
     "name": "stdout",
     "output_type": "stream",
     "text": [
      "✅ record record_hash_f0c39163a33ac9bdf2e1bab4aa21d81d from VectorStoreIndex_text-embedding-ada-002 -> default.sqlite\n"
     ]
    },
    {
     "name": "stderr",
     "output_type": "stream",
     "text": [
      "model_agreement has been deprecated. Use GroundTruthAgreement(ground_truth) instead.\n"
     ]
    },
    {
     "name": "stdout",
     "output_type": "stream",
     "text": [
      "✅ record record_hash_2b673c254507abc330fc79a5d8eb9bd8 from VectorStoreIndex_text-embedding-ada-002 -> default.sqlite\n",
      "✅ feedback feedback_result_hash_33cfed4d599332e4d03ff79efb25573b on record_hash_9361f9009a5e15dc6965c7d9a2441c50 -> default.sqlite\n"
     ]
    },
    {
     "name": "stderr",
     "output_type": "stream",
     "text": [
      "model_agreement has been deprecated. Use GroundTruthAgreement(ground_truth) instead.\n"
     ]
    },
    {
     "name": "stdout",
     "output_type": "stream",
     "text": [
      "✅ record record_hash_b42bef4d352d3c65f392b8464b5eb2a8 from VectorStoreIndex_text-embedding-ada-002 -> default.sqlite\n",
      "✅ feedback feedback_result_hash_692423a1fe90db96d8e3305e97d44078 on record_hash_b42bef4d352d3c65f392b8464b5eb2a8 -> default.sqlite\n",
      "✅ feedback feedback_result_hash_742c8c48957ae9b01adbeffad1133604 on record_hash_f0c39163a33ac9bdf2e1bab4aa21d81d -> default.sqlite\n"
     ]
    },
    {
     "name": "stderr",
     "output_type": "stream",
     "text": [
      "model_agreement has been deprecated. Use GroundTruthAgreement(ground_truth) instead.\n"
     ]
    },
    {
     "name": "stdout",
     "output_type": "stream",
     "text": [
      "✅ record record_hash_1b80aa2269d62b0c11120441b340bf9c from VectorStoreIndex_text-embedding-ada-002 -> default.sqlite\n",
      "✅ feedback feedback_result_hash_bd0ec0cec30129859c1aec79ae00e582 on record_hash_2b673c254507abc330fc79a5d8eb9bd8 -> default.sqlite\n"
     ]
    },
    {
     "name": "stderr",
     "output_type": "stream",
     "text": [
      "model_agreement has been deprecated. Use GroundTruthAgreement(ground_truth) instead.\n"
     ]
    },
    {
     "name": "stdout",
     "output_type": "stream",
     "text": [
      "✅ record record_hash_cb1f95579025f8960c01753e9050d823 from VectorStoreIndex_text-embedding-ada-002 -> default.sqlite\n",
      "✅ feedback feedback_result_hash_ea8d42b3df4fbb2a8b8e905372c178f7 on record_hash_1b80aa2269d62b0c11120441b340bf9c -> default.sqlite\n",
      "✅ app SubQuestionQueryEngine_text-embedding-ada-002 -> default.sqlite\n",
      "✅ feedback def. feedback_definition_hash_4c65c970e87d77a632b18a19706b1f9c -> default.sqlite\n",
      "Generated 2 sub questions.\n",
      "\u001b[36;1m\u001b[1;3m[Alice in Wonderland] Q: What happens when Alice meets the White Rabbit?\n",
      "\u001b[0m\u001b[33;1m\u001b[1;3m[Alice in Wonderland] Q: How does Alice challenge the Queen of Hearts?\n",
      "\u001b[0m\u001b[33;1m\u001b[1;3m[Alice in Wonderland] A: \n",
      "Alice challenges the Queen of Hearts by speaking up and saying \"Nonsense!\" when the Queen orders her to be beheaded. Alice also speaks up and says \"It's no business of mine\" when the Queen asks her who the three gardeners are. Finally, Alice protects the three gardeners from being beheaded by putting them in a flower pot.\n",
      "\u001b[0m\u001b[36;1m\u001b[1;3m[Alice in Wonderland] A: \n",
      "When Alice meets the White Rabbit, she follows it down a long, low hall that is lit up by a row of lamps hanging from the roof. She finds that all the doors are locked, so she sadly walks down the middle of the hall. Suddenly, she finds a little three-legged table with a tiny golden key on it. She tries the key in the locks of the doors, but it does not fit. On her second time round, she finds a low curtain and a little door behind it. The key fits the lock, and Alice opens the door to find a small passage that leads to a beautiful garden.\n",
      "\u001b[0m✅ feedback feedback_result_hash_fd24716ec1990e216830ae3c21ede798 on record_hash_cb1f95579025f8960c01753e9050d823 -> default.sqlite\n"
     ]
    },
    {
     "name": "stderr",
     "output_type": "stream",
     "text": [
      "model_agreement has been deprecated. Use GroundTruthAgreement(ground_truth) instead.\n"
     ]
    },
    {
     "name": "stdout",
     "output_type": "stream",
     "text": [
      "✅ record record_hash_aa1bb771aba47ca9f9f2331429231ed6 from SubQuestionQueryEngine_text-embedding-ada-002 -> default.sqlite\n",
      "Generated 4 sub questions.\n",
      "\u001b[36;1m\u001b[1;3m[Alice in Wonderland] Q: What aspects of enchantment are present in Alice in Wonderland?\n",
      "\u001b[0m\u001b[33;1m\u001b[1;3m[Alice in Wonderland] Q: What nostalgia does Alice experience in Wonderland?\n",
      "\u001b[0m\u001b[38;5;200m\u001b[1;3m[Alice in Wonderland] Q: Why is Alice fascinated by her encounters below-ground?\n",
      "\u001b[0m\u001b[32;1m\u001b[1;3m[Alice in Wonderland] Q: Why is Alice frustrated by her encounters below-ground?\n",
      "\u001b[0m\u001b[32;1m\u001b[1;3m[Alice in Wonderland] A: \n",
      "Alice is frustrated by her encounters below-ground because she is unable to get out of the window, she is unable to find out where she is, and she is constantly being interrupted by the Rabbit and other characters. She is also frustrated by the fact that she is falling through the air and is unable to control her descent.\n",
      "\u001b[0m\u001b[33;1m\u001b[1;3m[Alice in Wonderland] A: \n",
      "Alice experiences nostalgia for her childhood in Wonderland. She remembers the strange creatures of her little sister's dream, the White Rabbit, the Mouse, the March Hare and his friends, the Queen, the pig-baby, the Gryphon, the Lizard, and the Mock Turtle. She also imagines how her little sister will grow up and keep the simple and loving heart of her childhood, and how she will tell stories of Wonderland to other children.\n",
      "\u001b[0m\u001b[38;5;200m\u001b[1;3m[Alice in Wonderland] A: \n",
      "Alice is fascinated by her encounters below-ground because she is discovering a world that is completely different from the one she is used to. She finds strange objects, such as a jar labelled \"ORANGE MARMALADE\" that is empty, and she is able to explore a garden that she can only see from a distance. She also meets interesting characters, such as the White Rabbit, and she is able to use her knowledge from her lessons in the schoolroom to make sense of her surroundings.\n",
      "\u001b[0m\u001b[36;1m\u001b[1;3m[Alice in Wonderland] A: \n",
      "Alice in Wonderland is full of enchanting elements, such as talking animals, magical creatures, and fantastical settings. Alice encounters a talking White Rabbit, a Caterpillar smoking a hookah, a Cheshire Cat that can disappear and reappear at will, a Mad Hatter and March Hare hosting a tea party, a Queen of Hearts who orders executions, and a Mock Turtle who tells stories. Alice also finds herself in a variety of strange and wonderful places, such as a garden full of bright flowers and cool fountains, a dark hall with locked doors, and a tiny passage leading to a beautiful garden. All of these elements combine to create a world of enchantment and mystery that captivates readers of all ages.\n",
      "\u001b[0m✅ feedback feedback_result_hash_db848c9065cf0425d8b8aa71cf27e961 on record_hash_aa1bb771aba47ca9f9f2331429231ed6 -> default.sqlite\n"
     ]
    },
    {
     "name": "stderr",
     "output_type": "stream",
     "text": [
      "model_agreement has been deprecated. Use GroundTruthAgreement(ground_truth) instead.\n"
     ]
    },
    {
     "name": "stdout",
     "output_type": "stream",
     "text": [
      "✅ record record_hash_00c951fdb0b6fcff136237e91d5d0e44 from SubQuestionQueryEngine_text-embedding-ada-002 -> default.sqlite\n",
      "Generated 1 sub questions.\n",
      "\u001b[36;1m\u001b[1;3m[Alice in Wonderland] Q: What is the White Rabbit's function in Alice in Wonderland?\n",
      "\u001b[0m\u001b[36;1m\u001b[1;3m[Alice in Wonderland] A: \n",
      "The White Rabbit is a character in Lewis Carroll's Alice's Adventures in Wonderland. He is a harried, flustered creature who is always running late. He serves as a guide to Alice, leading her down the rabbit hole and into Wonderland. He also serves as a source of comic relief, often getting flustered and confused.\n",
      "\u001b[0m"
     ]
    },
    {
     "name": "stderr",
     "output_type": "stream",
     "text": [
      "model_agreement has been deprecated. Use GroundTruthAgreement(ground_truth) instead.\n"
     ]
    },
    {
     "name": "stdout",
     "output_type": "stream",
     "text": [
      "✅ record record_hash_f7a1e3f0f7f39e9a88a235b97b90c2cb from SubQuestionQueryEngine_text-embedding-ada-002 -> default.sqlite\n",
      "Generated 2 sub questions.\n",
      "\u001b[36;1m\u001b[1;3m[Alice in Wonderland] Q: What are some examples of humor in Alice in Wonderland\n",
      "\u001b[0m\u001b[33;1m\u001b[1;3m[Alice in Wonderland] Q: How does Carroll use humor to make fun of Alice\n",
      "\u001b[0m✅ feedback feedback_result_hash_179e7d80bbb601f5462acbd1aa623706 on record_hash_f7a1e3f0f7f39e9a88a235b97b90c2cb -> default.sqlite\n",
      "\u001b[36;1m\u001b[1;3m[Alice in Wonderland] A: \n",
      "Some examples of humor in Alice in Wonderland include: \n",
      "- The Hatter's rudeness when Alice expresses confusion about the conversation \n",
      "- The gardeners painting the white roses red to avoid getting their heads cut off \n",
      "- Alice's comment that the tea-party was the \"stupidest\" she had ever been to \n",
      "- The dialogue between the gardeners, with Five and Seven blaming each other for the mistake \n",
      "- Alice's comment that she wished she could \"shut up like a telescope\" \n",
      "- The description of the drink Alice finds as having a \"mixed flavour of cherry-tart, custard, pine-apple, roast turkey, toffee, and hot buttered toast\"\n",
      "\u001b[0m\u001b[33;1m\u001b[1;3m[Alice in Wonderland] A: \n",
      "Carroll uses humor to make fun of Alice by having her react to the absurd situations she finds herself in with confusion and disbelief. For example, when Alice is talking to the Footman, he makes a nonsensical suggestion that she could knock on the door if she were inside, and Alice responds with disbelief and frustration. Similarly, when Alice meets the Duchess and the Cheshire Cat, she is taken aback by their strange behavior and remarks. Carroll also uses Alice's naivete to make fun of her, as she often misunderstands the conversations and situations she finds herself in.\n",
      "\u001b[0m✅ feedback feedback_result_hash_90a77540402db3a31b0354ca48bcb2fc on record_hash_00c951fdb0b6fcff136237e91d5d0e44 -> default.sqlite\n"
     ]
    },
    {
     "name": "stderr",
     "output_type": "stream",
     "text": [
      "model_agreement has been deprecated. Use GroundTruthAgreement(ground_truth) instead.\n"
     ]
    },
    {
     "name": "stdout",
     "output_type": "stream",
     "text": [
      "✅ record record_hash_21b457821d310e7194e016dba6e56af1 from SubQuestionQueryEngine_text-embedding-ada-002 -> default.sqlite\n",
      "Generated 2 sub questions.\n",
      "\u001b[36;1m\u001b[1;3m[Alice in Wonderland] Q: What is the Duchess' lullaby in Alice in Wonderland\n",
      "\u001b[0m\u001b[33;1m\u001b[1;3m[Alice in Wonderland] Q: What is the 'You Are Old, Father William' verse in Alice in Wonderland\n",
      "\u001b[0m\u001b[36;1m\u001b[1;3m[Alice in Wonderland] A: \n",
      "The Duchess' lullaby is:\n",
      "\n",
      "\"Speak roughly to your little boy,  \n",
      "Â Â Â Â And beat him when he sneezes:  \n",
      "He only does it to annoy,  \n",
      "Â Â Â Â Because he knows it teases.\"\n",
      "\n",
      "CHORUS.  \n",
      "(In which the cook and the baby joined):\n",
      "\n",
      "\"Wow! wow! wow!\"\n",
      "\n",
      "While the Duchess sang the second verse of the song, she kept tossing the baby\n",
      "violently up and down, and the poor little thing howled so, that Alice could\n",
      "hardly hear the words:--\n",
      "\n",
      "\"I speak severely to my boy,  \n",
      "Â Â Â Â I beat him when he sneezes;  \n",
      "For he can thoroughly enjoy  \n",
      "Â Â Â Â The pepper when he pleases!\"\n",
      "\n",
      "CHORUS.\n",
      "\n",
      "\"Wow! wow! wow!\"\n",
      "\u001b[0m✅ feedback feedback_result_hash_f5a9bce2cf2c7b9c794f60bd99a9f518 on record_hash_21b457821d310e7194e016dba6e56af1 -> default.sqlite\n",
      "\u001b[33;1m\u001b[1;3m[Alice in Wonderland] A: \n",
      "\"You are old, Father William,\" the young man said,  \n",
      "Â Â Â Â \"And your hair has become very white;  \n",
      "And yet you incessantly stand on your head--  \n",
      "Â Â Â Â Do you think, at your age, it is right?\"  \n",
      "  \n",
      "\"In my youth,\" Father William replied to his son,  \n",
      "Â Â Â Â \"I feared it might injure the brain;  \n",
      "But, now that I'm perfectly sure I have none,  \n",
      "Â Â Â Â Why, I do it again and again.\"  \n",
      "  \n",
      "\"You are old,\" said the youth, \"as I mentioned before,  \n",
      "Â Â Â Â And have grown most uncommonly fat;  \n",
      "Yet you turned a back-somersault in at the door--  \n",
      "Â Â Â Â Pray, what is the reason of that?\"  \n",
      "  \n",
      "\"In my youth,\" said the sage, as he shook his grey locks,  \n",
      "Â Â Â Â \"I kept all my limbs very supple  \n",
      "By the use of this ointment--one shilling the box--  \n",
      "Â Â Â Â Allow me to sell you a couple?\"  \n",
      "  \n",
      "\"You are old,\" said the youth, \"and your jaws are too weak  \n",
      "Â Â Â Â For anything tougher than suet;  \n",
      "Yet you finished the goose, with the bones and the beak--  \n",
      "Â Â Â Â Pray, how did you manage to do it?\"  \n",
      "  \n",
      "\"In my youth,\" said his father, \"I took to the law,  \n",
      "Â Â Â Â And argued each case with my wife;  \n",
      "And the muscular strength, which it gave to my jaw,  \n",
      "Â Â Â Â Has lasted the rest of my life.\"  \n",
      "  \n",
      "\"You are old,\" said the youth, \"one would hardly suppose  \n",
      "Â Â Â Â That your eye was as steady as ever;  \n",
      "Yet you balanced an eel on the end of your nose--  \n",
      "Â Â Â Â What made you so awfully clever?\"\n",
      "\u001b[0m"
     ]
    },
    {
     "name": "stderr",
     "output_type": "stream",
     "text": [
      "model_agreement has been deprecated. Use GroundTruthAgreement(ground_truth) instead.\n"
     ]
    },
    {
     "name": "stdout",
     "output_type": "stream",
     "text": [
      "✅ record record_hash_d624d204972c32789dc6f989f2d8a07d from SubQuestionQueryEngine_text-embedding-ada-002 -> default.sqlite\n",
      "Generated 3 sub questions.\n",
      "\u001b[36;1m\u001b[1;3m[Alice in Wonderland] Q: What is the sentiment of the Mouse's long tale?\n",
      "\u001b[0m\u001b[33;1m\u001b[1;3m[Alice in Wonderland] Q: What is the sentiment of the Mock Turtle's story?\n",
      "\u001b[0m\u001b[38;5;200m\u001b[1;3m[Alice in Wonderland] Q: What is the sentiment of the Lobster-Quadrille?\n",
      "\u001b[0m\u001b[36;1m\u001b[1;3m[Alice in Wonderland] A: \n",
      "The sentiment of the Mouse's long tale is one of anger and indignation.\n",
      "\u001b[0m\u001b[38;5;200m\u001b[1;3m[Alice in Wonderland] A: \n",
      "The sentiment of the Lobster-Quadrille is one of excitement and enthusiasm. The Mock Turtle and the Gryphon both seem to be very excited about the dance and eager to show Alice how it is done.\n",
      "\u001b[0m\u001b[33;1m\u001b[1;3m[Alice in Wonderland] A: \n",
      "The sentiment of the Mock Turtle's story is one of sadness and regret. The Mock Turtle is clearly upset about his past, and his story is filled with sorrowful memories. He expresses his regret at not being able to afford the education he wanted, and his sadness at not being able to show Alice what he learned.\n",
      "\u001b[0m✅ feedback feedback_result_hash_6bb72f51599a6b645a89b9a050bc477f on record_hash_d624d204972c32789dc6f989f2d8a07d -> default.sqlite\n"
     ]
    },
    {
     "name": "stderr",
     "output_type": "stream",
     "text": [
      "model_agreement has been deprecated. Use GroundTruthAgreement(ground_truth) instead.\n"
     ]
    },
    {
     "name": "stdout",
     "output_type": "stream",
     "text": [
      "✅ record record_hash_6b12a569cfba912b744e5846b288b462 from SubQuestionQueryEngine_text-embedding-ada-002 -> default.sqlite\n",
      "Generated 1 sub questions.\n",
      "\u001b[36;1m\u001b[1;3m[Alice in Wonderland] Q: What is the role of the mad hatter in Alice's journey?\n",
      "\u001b[0m✅ feedback feedback_result_hash_dca05fb8dc839fe62f98a82c72f741dd on record_hash_6b12a569cfba912b744e5846b288b462 -> default.sqlite\n",
      "\u001b[36;1m\u001b[1;3m[Alice in Wonderland] A: \n",
      "The Mad Hatter plays an important role in Alice's journey. He is a source of advice and guidance, offering Alice hints and tips on how to navigate her way through the strange world she finds herself in. He also provides comic relief, with his nonsensical conversations and his tendency to get into arguments with the March Hare. Finally, he serves as a reminder of the importance of keeping good terms with Time, as Alice learns from his story of how he quarrelled with Time and was unable to get him to do anything he asked.\n",
      "\u001b[0m"
     ]
    },
    {
     "name": "stderr",
     "output_type": "stream",
     "text": [
      "model_agreement has been deprecated. Use GroundTruthAgreement(ground_truth) instead.\n"
     ]
    },
    {
     "name": "stdout",
     "output_type": "stream",
     "text": [
      "✅ record record_hash_56fcc8e1fb34512b565a718b021252c5 from SubQuestionQueryEngine_text-embedding-ada-002 -> default.sqlite\n",
      "Generated 3 sub questions.\n",
      "\u001b[36;1m\u001b[1;3m[Alice in Wonderland] Q: What is the Mad Hatter's role in Alice in Wonderland\n",
      "\u001b[0m✅ feedback feedback_result_hash_f400a1c7840b1294644381a116f00cf8 on record_hash_56fcc8e1fb34512b565a718b021252c5 -> default.sqlite\n",
      "\u001b[33;1m\u001b[1;3m[Alice in Wonderland] Q: How does the Mad Hatter's role change throughout the story\n",
      "\u001b[0m\u001b[38;5;200m\u001b[1;3m[Alice in Wonderland] Q: How does the Mad Hatter influence the arc of the story\n",
      "\u001b[0m\u001b[38;5;200m\u001b[1;3m[Alice in Wonderland] A: \n",
      "The Mad Hatter influences the arc of the story by providing comic relief and introducing Alice to the concept of time manipulation. He also encourages Alice to tell a story, which leads to the Dormouse telling a story. This helps to move the plot forward and keep the reader engaged.\n",
      "\u001b[0m\u001b[36;1m\u001b[1;3m[Alice in Wonderland] A: \n",
      "The Mad Hatter is a character in Alice in Wonderland who hosts a tea party with the March Hare and the Dormouse. He is known for his nonsensical riddles and conversations, and his tendency to make personal remarks. He is also known for his eccentric behavior and his tendency to disappear and reappear suddenly.\n",
      "\u001b[0m\u001b[33;1m\u001b[1;3m[Alice in Wonderland] A: \n",
      "The Mad Hatter's role changes throughout the story from a source of amusement and confusion to a source of wisdom and guidance. Initially, the Hatter is portrayed as a silly character who speaks in riddles and tells nonsensical stories. However, as the story progresses, the Hatter begins to offer Alice advice and guidance, such as when he suggests that she keep good terms with Time and when he advises her to tell a story to the March Hare and Dormouse. By the end of the story, the Hatter is seen as a wise and helpful character who is able to provide Alice with the answers she needs.\n",
      "\u001b[0m"
     ]
    },
    {
     "name": "stderr",
     "output_type": "stream",
     "text": [
      "model_agreement has been deprecated. Use GroundTruthAgreement(ground_truth) instead.\n"
     ]
    },
    {
     "name": "stdout",
     "output_type": "stream",
     "text": [
      "✅ record record_hash_ce30a14299554db335080f8ae3e14e13 from SubQuestionQueryEngine_text-embedding-ada-002 -> default.sqlite\n",
      "✅ feedback feedback_result_hash_957bcc94b0e7ac248f1b5dc8611b242a on record_hash_ce30a14299554db335080f8ae3e14e13 -> default.sqlite\n"
     ]
    }
   ],
   "source": [
    "# load data\n",
    "documents = SimpleWebPageReader(html_to_text=True).load_data(\n",
    "    [\"https://www.gutenberg.org/files/11/11-h/11-h.htm\"]\n",
    ")\n",
    "\n",
    "# iterate through embeddings and chunk sizes, evaluating each response's agreement with chatgpt using TruLens\n",
    "embeddings = ['text-embedding-ada-001','text-embedding-ada-002']\n",
    "query_engine_types = ['VectorStoreIndex','SubQuestionQueryEngine']\n",
    "\n",
    "service_context=512\n",
    "\n",
    "for embedding in(embeddings):\n",
    "    for query_engine_type in query_engine_types:\n",
    "\n",
    "            # build index and query engine\n",
    "            index = VectorStoreIndex.from_documents(documents)\n",
    "\n",
    "            # create embedding-based query engine from index\n",
    "            query_engine = index.as_query_engine(embed_model=embedding)\n",
    "\n",
    "            if query_engine_type == 'SubQuestionQueryEngine':\n",
    "                service_context = ServiceContext.from_defaults(chunk_size=512)\n",
    "                # setup base query engine as tool\n",
    "                query_engine_tools = [\n",
    "                    QueryEngineTool(\n",
    "                        query_engine=query_engine,\n",
    "                        metadata=ToolMetadata(name='Alice in Wonderland', description='THE MILLENNIUM FULCRUM EDITION 3.0')\n",
    "                    )\n",
    "                ]\n",
    "                query_engine = SubQuestionQueryEngine.from_defaults(query_engine_tools=query_engine_tools, service_context=service_context)\n",
    "            else:\n",
    "                pass         \n",
    "\n",
    "            tc = TruLlama(app_id = f'{query_engine_type}_{embedding}', app = query_engine, feedbacks = [model_agreement])\n",
    "\n",
    "            response = tc.query(\"Describe Alice's growth from meeting the White Rabbit to challenging the Queen of Hearts?\")\n",
    "            response = tc.query(\"Relate aspects of enchantment to the nostalgia that Alice experiences in Wonderland. Why is Alice both fascinated and frustrated by her encounters below-ground?\")\n",
    "            response = tc.query(\"Describe the White Rabbit's function in Alice.\")\n",
    "            response = tc.query(\"Describe some of the ways that Carroll achieves humor at Alice's expense.\")\n",
    "            response = tc.query(\"Compare the Duchess' lullaby to the 'You Are Old, Father William' verse\")\n",
    "            response = tc.query(\"Compare the sentiment of the Mouse's long tale, the Mock Turtle's story and the Lobster-Quadrille.\")\n",
    "            response = tc.query(\"Summarize the role of the mad hatter in Alice's journey\")\n",
    "            response = tc.query(\"How does the Mad Hatter influence the arc of the story throughout?\")\n"
   ]
  }
 ],
 "metadata": {
  "kernelspec": {
   "display_name": "Python 3.11.4 ('agents')",
   "language": "python",
   "name": "python3"
  },
  "language_info": {
   "codemirror_mode": {
    "name": "ipython",
    "version": 3
   },
   "file_extension": ".py",
   "mimetype": "text/x-python",
   "name": "python",
   "nbconvert_exporter": "python",
   "pygments_lexer": "ipython3",
   "version": "3.11.4"
  },
  "orig_nbformat": 4,
  "vscode": {
   "interpreter": {
    "hash": "7d153714b979d5e6d08dd8ec90712dd93bff2c9b6c1f0c118169738af3430cd4"
   }
  }
 },
 "nbformat": 4,
 "nbformat_minor": 2
}
