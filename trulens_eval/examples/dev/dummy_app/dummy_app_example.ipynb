{
 "cells": [
  {
   "cell_type": "markdown",
   "metadata": {},
   "source": [
    "# 📓 DummyApp\n",
    "\n",
    "The files in this folder code a custom app that resembles an LLM app with\n",
    "seperate classes for common app components. None of these components make\n",
    "network calls but pretend to otherwise operate like real components.\n",
    "\n",
    "__WARNING__: This example must be run from the git repository as it imports\n",
    "files that are not included in a PIP distribution."
   ]
  },
  {
   "cell_type": "code",
   "execution_count": 1,
   "metadata": {},
   "outputs": [],
   "source": [
    "from pathlib import Path\n",
    "import sys\n",
    "\n",
    "repo_path = Path().cwd().parent.parent.parent.resolve()\n",
    "\n",
    "# If using trulens from the repository, add the parent directory to the path:\n",
    "sys.path.append(str(repo_path))"
   ]
  },
  {
   "cell_type": "code",
   "execution_count": 2,
   "metadata": {},
   "outputs": [
    {
     "name": "stdout",
     "output_type": "stream",
     "text": [
      "🦑 Tru initialized with db url sqlite:///default.sqlite .\n",
      "🛑 Secret keys may be written to the database. See the `database_redact_keys` option of `Tru` to prevent this.\n"
     ]
    }
   ],
   "source": [
    "from examples.dev.dummy_app.app import DummyApp\n",
    "from examples.dev.dummy_app.agent import DummyAgent\n",
    "\n",
    "from trulens_eval import Tru\n",
    "from trulens_eval.tru_custom_app import TruCustomApp\n",
    "\n",
    "tru = Tru()\n",
    "tru.reset_database()"
   ]
  },
  {
   "cell_type": "code",
   "execution_count": 3,
   "metadata": {},
   "outputs": [],
   "source": [
    "# Create custom app:\n",
    "ca = DummyApp()\n",
    "\n",
    "# Create trulens wrapper:\n",
    "ta = TruCustomApp(\n",
    "    ca,\n",
    "    app_id=\"customapp\",\n",
    ")"
   ]
  },
  {
   "cell_type": "code",
   "execution_count": 4,
   "metadata": {},
   "outputs": [
    {
     "name": "stdout",
     "output_type": "stream",
     "text": [
      "Components:\n",
      "\tTruCustomApp (Other) at 0x348ed5f40 with path __app__\n",
      "\tDummyApp (Custom) at 0x348f89b80 with path __app__.app\n",
      "\tDummyAgent (Custom) at 0x348f8a330 with path __app__.app.agents[0]\n",
      "\tDummyApp (Custom) at 0x348f89fa0 with path __app__.app.agents[0].app\n",
      "\tDummyLLM (Custom) at 0x348f8a120 with path __app__.app.agents[0].app.llm\n",
      "\tDummyMemory (Custom) at 0x348f8a090 with path __app__.app.agents[0].app.memory\n",
      "\tDummyReranker (Custom) at 0x348f8a300 with path __app__.app.agents[0].app.reranker\n",
      "\tDummyRetriever (Custom) at 0x348f8a0f0 with path __app__.app.agents[0].app.retriever\n",
      "\tDummyTemplate (Custom) at 0x348f8a1b0 with path __app__.app.agents[0].app.template\n",
      "\tDummyStackTool (Custom) at 0x348f8a180 with path __app__.app.agents[0].app.tools[0]\n",
      "\tDummyTool (Custom) at 0x348f8a1e0 with path __app__.app.agents[0].app.tools[1]\n",
      "\tDummyTool (Custom) at 0x348f8a2a0 with path __app__.app.agents[0].app.tools[2]\n",
      "\tDummyAgent (Custom) at 0x348f8a690 with path __app__.app.agents[1]\n",
      "\tDummyApp (Custom) at 0x348f8a390 with path __app__.app.agents[1].app\n",
      "\tDummyLLM (Custom) at 0x348f8a450 with path __app__.app.agents[1].app.llm\n",
      "\tDummyMemory (Custom) at 0x348f8a3c0 with path __app__.app.agents[1].app.memory\n",
      "\tDummyReranker (Custom) at 0x348f8a660 with path __app__.app.agents[1].app.reranker\n",
      "\tDummyRetriever (Custom) at 0x348f8a420 with path __app__.app.agents[1].app.retriever\n",
      "\tDummyTemplate (Custom) at 0x348f8a4e0 with path __app__.app.agents[1].app.template\n",
      "\tDummyStackTool (Custom) at 0x348f8a4b0 with path __app__.app.agents[1].app.tools[0]\n",
      "\tDummyTool (Custom) at 0x348f8a510 with path __app__.app.agents[1].app.tools[1]\n",
      "\tDummyTool (Custom) at 0x348f8a630 with path __app__.app.agents[1].app.tools[2]\n",
      "\tDummyLLM (Custom) at 0x348f89e80 with path __app__.app.llm\n",
      "\tDummyMemory (Custom) at 0x348f89d60 with path __app__.app.memory\n",
      "\tDummyReranker (Custom) at 0x348f8a060 with path __app__.app.reranker\n",
      "\tDummyRetriever (Custom) at 0x348f89dc0 with path __app__.app.retriever\n",
      "\tDummyTemplate (Custom) at 0x348f89f10 with path __app__.app.template\n",
      "\tDummyStackTool (Custom) at 0x348f89ee0 with path __app__.app.tools[0]\n",
      "\tDummyTool (Custom) at 0x348f89f40 with path __app__.app.tools[1]\n",
      "\tDummyTool (Custom) at 0x348f8a000 with path __app__.app.tools[2]\n",
      "\n",
      "Methods:\n",
      "Object at 0x348f89d60:\n",
      "\t<function DummyMemory.remember at 0x348c25da0> with path __app__.app.memory\n",
      "\t<function DummyMemory.aremember at 0x348c25e40> with path __app__.app.memory\n",
      "Object at 0x348f89dc0:\n",
      "\t<function DummyRetriever.retrieve_chunks at 0x348c26340> with path __app__.app.retriever\n",
      "\t<function DummyRetriever.aretrieve_chunks at 0x348c263e0> with path __app__.app.retriever\n",
      "Object at 0x348f89e80:\n",
      "\t<function DummyLLM.stream at 0x348c25940> with path __app__.app.llm\n",
      "\t<function DummyLLM.astream at 0x348c259e0> with path __app__.app.llm\n",
      "\t<function DummyLLM.generate at 0x348c25a80> with path __app__.app.llm\n",
      "\t<function DummyLLM.agenerate at 0x348c25b20> with path __app__.app.llm\n",
      "Object at 0x348f89f10:\n",
      "\t<function DummyTemplate.fill at 0x348c26840> with path __app__.app.template\n",
      "Object at 0x348f8a060:\n",
      "\t<function DummyReranker.rerank at 0x348c260c0> with path __app__.app.reranker\n",
      "\t<function DummyReranker.arerank at 0x348c26160> with path __app__.app.reranker\n",
      "Object at 0x348f89b80:\n",
      "\t<function DummyApp.process_chunk_by_tool at 0x348c268e0> with path __app__.app\n",
      "\t<function DummyApp.aprocess_chunk_by_tool at 0x348c26ca0> with path __app__.app\n",
      "\t<function DummyApp.get_context at 0x348c26d40> with path __app__.app\n",
      "\t<function DummyApp.aget_context at 0x348c26de0> with path __app__.app\n",
      "\t<function DummyApp.respond_to_query at 0x348c26e80> with path __app__.app\n",
      "\t<function DummyApp.arespond_to_query at 0x348c26f20> with path __app__.app\n",
      "\t<function DummyApp.stream_respond_to_query at 0x348c26fc0> with path __app__.app\n",
      "\t<function DummyApp.astream_respond_to_query at 0x348c27060> with path __app__.app\n",
      "Object at 0x348f8a090:\n",
      "\t<function DummyMemory.remember at 0x348c25da0> with path __app__.app.agents[0].app.memory\n",
      "\t<function DummyMemory.aremember at 0x348c25e40> with path __app__.app.agents[0].app.memory\n",
      "Object at 0x348f8a0f0:\n",
      "\t<function DummyRetriever.retrieve_chunks at 0x348c26340> with path __app__.app.agents[0].app.retriever\n",
      "\t<function DummyRetriever.aretrieve_chunks at 0x348c263e0> with path __app__.app.agents[0].app.retriever\n",
      "Object at 0x348f8a120:\n",
      "\t<function DummyLLM.stream at 0x348c25940> with path __app__.app.agents[0].app.llm\n",
      "\t<function DummyLLM.astream at 0x348c259e0> with path __app__.app.agents[0].app.llm\n",
      "\t<function DummyLLM.generate at 0x348c25a80> with path __app__.app.agents[0].app.llm\n",
      "\t<function DummyLLM.agenerate at 0x348c25b20> with path __app__.app.agents[0].app.llm\n",
      "Object at 0x348f8a1b0:\n",
      "\t<function DummyTemplate.fill at 0x348c26840> with path __app__.app.agents[0].app.template\n",
      "Object at 0x348f8a300:\n",
      "\t<function DummyReranker.rerank at 0x348c260c0> with path __app__.app.agents[0].app.reranker\n",
      "\t<function DummyReranker.arerank at 0x348c26160> with path __app__.app.agents[0].app.reranker\n",
      "Object at 0x348f89fa0:\n",
      "\t<function DummyApp.process_chunk_by_tool at 0x348c268e0> with path __app__.app.agents[0].app\n",
      "\t<function DummyApp.aprocess_chunk_by_tool at 0x348c26ca0> with path __app__.app.agents[0].app\n",
      "\t<function DummyApp.get_context at 0x348c26d40> with path __app__.app.agents[0].app\n",
      "\t<function DummyApp.aget_context at 0x348c26de0> with path __app__.app.agents[0].app\n",
      "\t<function DummyApp.respond_to_query at 0x348c26e80> with path __app__.app.agents[0].app\n",
      "\t<function DummyApp.arespond_to_query at 0x348c26f20> with path __app__.app.agents[0].app\n",
      "\t<function DummyApp.stream_respond_to_query at 0x348c26fc0> with path __app__.app.agents[0].app\n",
      "\t<function DummyApp.astream_respond_to_query at 0x348c27060> with path __app__.app.agents[0].app\n",
      "Object at 0x348f8a180:\n",
      "\t<function DummyTool.invoke at 0x348c26980> with path __app__.app.agents[0].app.tools[0]\n",
      "\t<function DummyTool.ainvoke at 0x348c26ac0> with path __app__.app.agents[0].app.tools[0]\n",
      "Object at 0x348f8a1e0:\n",
      "\t<function DummyTool.invoke at 0x348c26980> with path __app__.app.agents[0].app.tools[1]\n",
      "\t<function DummyTool.ainvoke at 0x348c26ac0> with path __app__.app.agents[0].app.tools[1]\n",
      "Object at 0x348f8a2a0:\n",
      "\t<function DummyTool.invoke at 0x348c26980> with path __app__.app.agents[0].app.tools[2]\n",
      "\t<function DummyTool.ainvoke at 0x348c26ac0> with path __app__.app.agents[0].app.tools[2]\n",
      "Object at 0x348f8a330:\n",
      "\t<function DummyAgent.invoke at 0x348c25120> with path __app__.app.agents[0]\n",
      "\t<function DummyAgent.ainvoke at 0x348c251c0> with path __app__.app.agents[0]\n",
      "Object at 0x348f8a3c0:\n",
      "\t<function DummyMemory.remember at 0x348c25da0> with path __app__.app.agents[1].app.memory\n",
      "\t<function DummyMemory.aremember at 0x348c25e40> with path __app__.app.agents[1].app.memory\n",
      "Object at 0x348f8a420:\n",
      "\t<function DummyRetriever.retrieve_chunks at 0x348c26340> with path __app__.app.agents[1].app.retriever\n",
      "\t<function DummyRetriever.aretrieve_chunks at 0x348c263e0> with path __app__.app.agents[1].app.retriever\n",
      "Object at 0x348f8a450:\n",
      "\t<function DummyLLM.stream at 0x348c25940> with path __app__.app.agents[1].app.llm\n",
      "\t<function DummyLLM.astream at 0x348c259e0> with path __app__.app.agents[1].app.llm\n",
      "\t<function DummyLLM.generate at 0x348c25a80> with path __app__.app.agents[1].app.llm\n",
      "\t<function DummyLLM.agenerate at 0x348c25b20> with path __app__.app.agents[1].app.llm\n",
      "Object at 0x348f8a4e0:\n",
      "\t<function DummyTemplate.fill at 0x348c26840> with path __app__.app.agents[1].app.template\n",
      "Object at 0x348f8a660:\n",
      "\t<function DummyReranker.rerank at 0x348c260c0> with path __app__.app.agents[1].app.reranker\n",
      "\t<function DummyReranker.arerank at 0x348c26160> with path __app__.app.agents[1].app.reranker\n",
      "Object at 0x348f8a390:\n",
      "\t<function DummyApp.process_chunk_by_tool at 0x348c268e0> with path __app__.app.agents[1].app\n",
      "\t<function DummyApp.aprocess_chunk_by_tool at 0x348c26ca0> with path __app__.app.agents[1].app\n",
      "\t<function DummyApp.get_context at 0x348c26d40> with path __app__.app.agents[1].app\n",
      "\t<function DummyApp.aget_context at 0x348c26de0> with path __app__.app.agents[1].app\n",
      "\t<function DummyApp.respond_to_query at 0x348c26e80> with path __app__.app.agents[1].app\n",
      "\t<function DummyApp.arespond_to_query at 0x348c26f20> with path __app__.app.agents[1].app\n",
      "\t<function DummyApp.stream_respond_to_query at 0x348c26fc0> with path __app__.app.agents[1].app\n",
      "\t<function DummyApp.astream_respond_to_query at 0x348c27060> with path __app__.app.agents[1].app\n",
      "Object at 0x348f8a4b0:\n",
      "\t<function DummyTool.invoke at 0x348c26980> with path __app__.app.agents[1].app.tools[0]\n",
      "\t<function DummyTool.ainvoke at 0x348c26ac0> with path __app__.app.agents[1].app.tools[0]\n",
      "Object at 0x348f8a510:\n",
      "\t<function DummyTool.invoke at 0x348c26980> with path __app__.app.agents[1].app.tools[1]\n",
      "\t<function DummyTool.ainvoke at 0x348c26ac0> with path __app__.app.agents[1].app.tools[1]\n",
      "Object at 0x348f8a630:\n",
      "\t<function DummyTool.invoke at 0x348c26980> with path __app__.app.agents[1].app.tools[2]\n",
      "\t<function DummyTool.ainvoke at 0x348c26ac0> with path __app__.app.agents[1].app.tools[2]\n",
      "Object at 0x348f8a690:\n",
      "\t<function DummyAgent.invoke at 0x348c25120> with path __app__.app.agents[1]\n",
      "\t<function DummyAgent.ainvoke at 0x348c251c0> with path __app__.app.agents[1]\n",
      "Object at 0x348f89ee0:\n",
      "\t<function DummyTool.invoke at 0x348c26980> with path __app__.app.tools[0]\n",
      "\t<function DummyTool.ainvoke at 0x348c26ac0> with path __app__.app.tools[0]\n",
      "Object at 0x348f89f40:\n",
      "\t<function DummyTool.invoke at 0x348c26980> with path __app__.app.tools[1]\n",
      "\t<function DummyTool.ainvoke at 0x348c26ac0> with path __app__.app.tools[1]\n",
      "Object at 0x348f8a000:\n",
      "\t<function DummyTool.invoke at 0x348c26980> with path __app__.app.tools[2]\n",
      "\t<function DummyTool.ainvoke at 0x348c26ac0> with path __app__.app.tools[2]\n"
     ]
    }
   ],
   "source": [
    "# Show instrumented components and methods.\n",
    "\n",
    "ta.print_instrumented()"
   ]
  },
  {
   "cell_type": "code",
   "execution_count": 5,
   "metadata": {},
   "outputs": [],
   "source": [
    "# Normal usage (without tracing):\n",
    "ca.respond_to_query(query=\"What is the capital of Indonesia?\")\n",
    "\n",
    "# Instrumented usage:\n",
    "with ta as recorder:\n",
    "    response = ca.respond_to_query(query=\"What is the capital of Indonesia?\")\n",
    "\n",
    "record = recorder.get()"
   ]
  },
  {
   "cell_type": "code",
   "execution_count": 6,
   "metadata": {},
   "outputs": [],
   "source": [
    "# Show the app output:\n",
    "\n",
    "# response"
   ]
  },
  {
   "cell_type": "code",
   "execution_count": 7,
   "metadata": {},
   "outputs": [],
   "source": [
    "# Show the instrumentation record.\n",
    "\n",
    "# record.model_dump()"
   ]
  },
  {
   "cell_type": "code",
   "execution_count": 8,
   "metadata": {},
   "outputs": [
    {
     "name": "stdout",
     "output_type": "stream",
     "text": [
      "Force stopping dashboard ...\n",
      "Starting dashboard ...\n",
      "Config file already exists. Skipping writing process.\n",
      "Credentials file already exists. Skipping writing process.\n"
     ]
    },
    {
     "data": {
      "application/vnd.jupyter.widget-view+json": {
       "model_id": "0eedad7898be472cb78af1197556b871",
       "version_major": 2,
       "version_minor": 0
      },
      "text/plain": [
       "Accordion(children=(VBox(children=(VBox(children=(Label(value='STDOUT'), Output())), VBox(children=(Label(valu…"
      ]
     },
     "metadata": {},
     "output_type": "display_data"
    },
    {
     "name": "stdout",
     "output_type": "stream",
     "text": [
      "Dashboard started at http://172.17.98.166:61571 .\n"
     ]
    },
    {
     "data": {
      "text/plain": [
       "<Popen: returncode: None args: ['streamlit', 'run', '--server.headless=True'...>"
      ]
     },
     "execution_count": 8,
     "metadata": {},
     "output_type": "execute_result"
    }
   ],
   "source": [
    "# Start the dasshboard. If you running from github repo, include the _dev arg below:\n",
    "tru.start_dashboard(_dev=repo_path, force=True)"
   ]
  },
  {
   "cell_type": "markdown",
   "metadata": {},
   "source": [
    "# DummyApp options\n",
    "\n",
    "The custom app used above has some configuration options or call variants with\n",
    "differing behaviours:\n",
    "\n",
    "- Number of agents and number of tools is configurable via `DummyApp` class\n",
    "  params/attributes `num_agents` and `num_tools`.\n",
    "\n",
    "- Simulated delay and memory usage controlled by `Dummy` class `delay` and\n",
    "  `alloc` attributes. All other components subtype `Dummy` hence also implement\n",
    "  simulated delays and allocations.\n",
    "\n",
    "- Non-determinism control via the `Dummy` class `seed` attribute. Randomness in\n",
    "  some components can be somewhat controlled by this attribute. The control is\n",
    "  presently incomplete as threading and async usage (described below) is not\n",
    "  controlled by `seed`.\n",
    "\n",
    "- Async methods. These begin with the letter \"a\" followed by the sync method\n",
    "  name.\n",
    "\n",
    "- Streaming methods. The main method to app and the generation methods to the\n",
    "  llm component each have streaming versions (`stream_respond_to_query` and\n",
    "  `stream`). These produce iterables over strings instead of single strings. The\n",
    "  async variants add a prefix \"a\" to these and produce asynchronous iterables.\n",
    "\n",
    "- Use of parallelism for processing retrieved chunks. This uses either threads\n",
    "  or async depending on which method variant is called. This is controlled by\n",
    "  the `DummyApp` class `use_parallel` flag.\n",
    "\n",
    "- Nested use of custom app inside a custom app component. This is controlled by\n",
    "  the `DummyAgent` class `use_app` flag.\n",
    "\n",
    "- Use of trulens_eval to record the invocation of the above nested model. This\n",
    "  is controlled by the `DummyAgent` class `use_recorder` flag.\n",
    "\n"
   ]
  },
  {
   "cell_type": "code",
   "execution_count": 9,
   "metadata": {},
   "outputs": [
    {
     "name": "stdout",
     "output_type": "stream",
     "text": [
      "custom_app (use_parralel=False use_app=False use_recorder=False)\n",
      "  sync\n",
      "    non-streaming\n",
      "      untraced\t This is my response to a prompt of length 195 with a model derp with temperature 0.5.\n",
      "      traced\t This is my response to a prompt of length 195 with a model derp with temperature 0.5.\n",
      "    streaming\n",
      "      untraced\t This is my response to a prompt of length 195 with a model derp with temperature 0.5. \n",
      "      traced\t \n",
      "custom_app (use_parralel=False use_app=True use_recorder=False)\n",
      "  sync\n",
      "    non-streaming\n",
      "      untraced\t This is my response to a prompt of length 195 with a model derp with temperature 0.5.\n",
      "      traced\t This is my response to a prompt of length 195 with a model derp with temperature 0.5.\n",
      "    streaming\n",
      "      untraced\t This is my response to a prompt of length 195 with a model derp with temperature 0.5. \n",
      "      traced\t \n",
      "custom_app (use_parralel=True use_app=False use_recorder=False)\n",
      "  sync\n",
      "    non-streaming\n",
      "      untraced\t This is my response to a prompt of length 195 with a model derp with temperature 0.5.\n",
      "      traced\t This is my response to a prompt of length 195 with a model derp with temperature 0.5.\n",
      "    streaming\n",
      "      untraced\t This is my response to a prompt of length 195 with a model derp with temperature 0.5. \n",
      "      traced\t \n",
      "custom_app (use_parralel=True use_app=True use_recorder=False)\n",
      "  sync\n",
      "    non-streaming\n",
      "      untraced\t This is my response to a prompt of length 195 with a model derp with temperature 0.5.\n",
      "      traced\t This is my response to a prompt of length 195 with a model derp with temperature 0.5.\n",
      "    streaming\n",
      "      untraced\t This is my response to a prompt of length 195 with a model derp with temperature 0.5. \n",
      "      traced\t \n"
     ]
    }
   ],
   "source": [
    "# This cell executes the app in the various configuration options describe\n",
    "# above. The final app output should be identical in all cases.\n",
    "\n",
    "for use_parallel in [False, True]:\n",
    "    for use_app in [False, True]:\n",
    "        for use_recorder in [\n",
    "            False\n",
    "        ]:  # , True]: # currently not working with nested recorder\n",
    "            app_id = f\"custom_app (use_parralel={use_parallel} use_app={use_app} use_recorder={use_recorder})\"\n",
    "            print(app_id)\n",
    "\n",
    "            # Create custom app:\n",
    "            ca = DummyApp(\n",
    "                use_parallel=use_parallel,\n",
    "                comp_kwargs={\n",
    "                    DummyAgent: {\n",
    "                        \"use_app\": use_app,\n",
    "                        \"use_recorder\": use_recorder,\n",
    "                    }\n",
    "                },\n",
    "            )\n",
    "\n",
    "            # Create trulens wrapper:\n",
    "            ta = TruCustomApp(\n",
    "                ca,\n",
    "                app_id=app_id,\n",
    "            )\n",
    "\n",
    "            # Sync usage\n",
    "            print(\"  sync\")\n",
    "            print(\"    non-streaming\")\n",
    "            print(\n",
    "                \"      untraced\\t\",\n",
    "                ca.respond_to_query(query=\"What is the capital of Indonesia?\"),\n",
    "            )\n",
    "            with ta as recorder:\n",
    "                print(\n",
    "                    \"      traced\\t\",\n",
    "                    ca.respond_to_query(\n",
    "                        query=\"What is the capital of Indonesia?\"\n",
    "                    ),\n",
    "                )\n",
    "\n",
    "            # Sync streaming usage\n",
    "            print(\"    streaming\")\n",
    "            print(\"      untraced\\t \", end=\"\")\n",
    "            for chunk in ca.stream_respond_to_query(\n",
    "                query=\"What is the capital of Indonesia?\"\n",
    "            ):\n",
    "                print(chunk, end=\"\")\n",
    "            print()\n",
    "            with ta as recorder:\n",
    "                print(\"      traced\\t \", end=\"\")\n",
    "                for chunk in ca.stream_respond_to_query(\n",
    "                    query=\"What is the capital of Indonesia?\"\n",
    "                ):\n",
    "                    print(chunk, end=\"\")\n",
    "                print()\n",
    "\n",
    "            # TOFIX: Async usage\n",
    "            # res1 = await ca.arespond_to_query(query=\"What is the capital of Indonesia?\")\n",
    "            # with ta as recorder:\n",
    "            #    resp2 = await ca.arespond_to_query(query=\"What is the capital of Indonesia?\")\n",
    "\n",
    "            # TOFIX: Async streaming usage..."
   ]
  },
  {
   "cell_type": "code",
   "execution_count": null,
   "metadata": {},
   "outputs": [],
   "source": []
  }
 ],
 "metadata": {
  "kernelspec": {
   "display_name": "py38_trulens",
   "language": "python",
   "name": "python3"
  },
  "language_info": {
   "codemirror_mode": {
    "name": "ipython",
    "version": 3
   },
   "file_extension": ".py",
   "mimetype": "text/x-python",
   "name": "python",
   "nbconvert_exporter": "python",
   "pygments_lexer": "ipython3",
   "version": "3.12.0"
  },
  "orig_nbformat": 4
 },
 "nbformat": 4,
 "nbformat_minor": 2
}
