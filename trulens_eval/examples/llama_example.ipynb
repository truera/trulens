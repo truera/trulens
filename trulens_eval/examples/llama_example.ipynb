{
 "cells": [
  {
   "cell_type": "code",
   "execution_count": 1,
   "metadata": {},
   "outputs": [
    {
     "data": {
      "text/plain": [
       "\"\\nimport logging\\n\\nroot = logging.getLogger()\\nroot.setLevel(logging.DEBUG)\\n\\nhandler = logging.StreamHandler(sys.stdout)\\nhandler.setLevel(logging.DEBUG)\\nformatter = logging.Formatter('%(asctime)s - %(name)s - %(levelname)s - %(message)s')\\nhandler.setFormatter(formatter)\\nroot.addHandler(handler)\\n\""
      ]
     },
     "execution_count": 1,
     "metadata": {},
     "output_type": "execute_result"
    }
   ],
   "source": [
    "%load_ext autoreload\n",
    "%autoreload 2\n",
    "from pathlib import Path\n",
    "import sys\n",
    "\n",
    "sys.path.append(str(Path().cwd().parent.resolve()))\n",
    "\n",
    "from pprint import PrettyPrinter\n",
    "pp = PrettyPrinter()\n",
    "\n",
    "# Uncomment to get more debugging printouts:\n",
    "\"\"\"\n",
    "import logging\n",
    "\n",
    "root = logging.getLogger()\n",
    "root.setLevel(logging.DEBUG)\n",
    "\n",
    "handler = logging.StreamHandler(sys.stdout)\n",
    "handler.setLevel(logging.DEBUG)\n",
    "formatter = logging.Formatter('%(asctime)s - %(name)s - %(levelname)s - %(message)s')\n",
    "handler.setFormatter(formatter)\n",
    "root.addHandler(handler)\n",
    "\"\"\""
   ]
  },
  {
   "cell_type": "code",
   "execution_count": 2,
   "metadata": {},
   "outputs": [
    {
     "name": "stdout",
     "output_type": "stream",
     "text": [
      "wrapping <class 'openai.api_resources.chat_completion.ChatCompletion'>\n",
      "wrapping <class 'openai.api_resources.completion.Completion'>\n",
      "wrapping <class 'openai.api_resources.customer.Customer'>\n",
      "wrapping <class 'openai.api_resources.deployment.Deployment'>\n",
      "wrapping <class 'openai.api_resources.edit.Edit'>\n",
      "wrapping <class 'openai.api_resources.embedding.Embedding'>\n",
      "wrapping <class 'openai.api_resources.file.File'>\n",
      "wrapping <class 'openai.api_resources.fine_tune.FineTune'>\n",
      "wrapping <class 'openai.api_resources.image.Image'>\n",
      "wrapping <class 'openai.api_resources.moderation.Moderation'>\n"
     ]
    }
   ],
   "source": [
    "import openai\n",
    "def wrap(func):\n",
    "    def wrapper(*args, **kwargs):\n",
    "        print(\"wrapping request=\")\n",
    "        pp.pprint(args)\n",
    "        pp.pprint(kwargs)\n",
    "        rets = func(*args, **kwargs)\n",
    "        print(\"rets=\")\n",
    "        pp.pprint(rets)\n",
    "        return rets\n",
    "    return wrapper\n",
    "\n",
    "for k in dir(openai):\n",
    "    obj = getattr(openai, k)\n",
    "    if hasattr(obj, \"create\"):\n",
    "        print(f\"wrapping {obj}\")\n",
    "        f = getattr(obj, \"create\")\n",
    "        w = wrap(f)\n",
    "        setattr(obj, \"create\", w)"
   ]
  },
  {
   "cell_type": "code",
   "execution_count": 3,
   "metadata": {},
   "outputs": [
    {
     "name": "stdout",
     "output_type": "stream",
     "text": [
      "KEY SET: OPENAI_API_KEY\n",
      "KEY SET: PINECONE_API_KEY\n",
      "KEY SET: PINECONE_ENV\n",
      "KEY SET: HUGGINGFACE_API_KEY\n",
      "KEY SET: SLACK_TOKEN\n",
      "KEY SET: SLACK_SIGNING_SECRET\n",
      "KEY SET: COHERE_API_KEY\n"
     ]
    }
   ],
   "source": [
    "from trulens_eval.keys import *"
   ]
  },
  {
   "cell_type": "code",
   "execution_count": 4,
   "metadata": {},
   "outputs": [
    {
     "data": {
      "application/vnd.jupyter.widget-view+json": {
       "model_id": "83c01cf235334cbb990fb9dcd2e61035",
       "version_major": 2,
       "version_minor": 0
      },
      "text/plain": [
       "openai api: 0requests [00:00, ?requests/s]"
      ]
     },
     "metadata": {},
     "output_type": "display_data"
    },
    {
     "name": "stdout",
     "output_type": "stream",
     "text": [
      "wrapping request=\n",
      "()\n",
      "{'messages': [{'content': 'You are a RELEVANCE classifier; providing the '\n",
      "                          'relevance of the given STATEMENT to the given '\n",
      "                          'QUESTION.\\n'\n",
      "                          'Respond only as a number from 1 to 10 where 1 is '\n",
      "                          'the least relevant and 10 is the most relevant.\\n'\n",
      "                          'Never elaborate.\\n'\n",
      "                          '\\n'\n",
      "                          'QUESTION: Who is Piotr?\\n'\n",
      "                          '\\n'\n",
      "                          'STATEMENT: Piotr is a person.\\n'\n",
      "                          '\\n'\n",
      "                          'RELEVANCE: ',\n",
      "               'role': 'system'}],\n",
      " 'model': 'gpt-3.5-turbo',\n",
      " 'temperature': 0.0}\n",
      "rets=\n",
      "{'choices': [{'finish_reason': 'stop',\n",
      "              'index': 0,\n",
      "              'message': {'content': '10',\n",
      "                          'role': 'assistant'}}],\n",
      " 'created': 1686942304,\n",
      " 'id': 'chatcmpl-7S92m7fGOpQGrBCgOkZ0kwelXfM5y',\n",
      " 'model': 'gpt-3.5-turbo-0301',\n",
      " 'object': 'chat.completion',\n",
      " 'usage': {'completion_tokens': 1,\n",
      "           'prompt_tokens': 81,\n",
      "           'total_tokens': 82}}\n"
     ]
    },
    {
     "data": {
      "text/plain": [
       "1.0"
      ]
     },
     "execution_count": 4,
     "metadata": {},
     "output_type": "execute_result"
    }
   ],
   "source": [
    "from trulens_eval import feedback\n",
    "provider_openai = feedback.OpenAI()\n",
    "provider_openai.qs_relevance(\"Who is Piotr?\", \"Piotr is a person.\")"
   ]
  },
  {
   "cell_type": "code",
   "execution_count": null,
   "metadata": {},
   "outputs": [],
   "source": []
  },
  {
   "cell_type": "code",
   "execution_count": null,
   "metadata": {},
   "outputs": [],
   "source": [
    "Tru().reset_database()"
   ]
  },
  {
   "cell_type": "code",
   "execution_count": null,
   "metadata": {},
   "outputs": [],
   "source": [
    "from llama_index import GPTVectorStoreIndex, SimpleDirectoryReader\n",
    "\n",
    "documents = SimpleDirectoryReader('llama_index/data').load_data()\n",
    "index = GPTVectorStoreIndex.from_documents(documents)\n",
    "\n",
    "query_engine = index.as_query_engine()\n",
    "# response = query_engine.query(\"What did the author do growing up?\")\n",
    "# print(response)"
   ]
  },
  {
   "cell_type": "code",
   "execution_count": null,
   "metadata": {},
   "outputs": [],
   "source": [
    "# For aggregation,\n",
    "import numpy as np\n",
    "\n",
    "from trulens_eval import feedback, Feedback, Query, Tru\n",
    "\n",
    "# Construct feedback functions.\n",
    "\n",
    "hugs = feedback.Huggingface()\n",
    "openai = feedback.OpenAI()\n",
    "\n",
    "# Language match between question/answer.\n",
    "f_lang_match = Feedback(hugs.language_match).on(\n",
    "    text1=Query.RecordInput, text2=Query.RecordOutput\n",
    ")\n",
    "\n",
    "# Question/answer relevance between overall question and answer.\n",
    "f_qa_relevance = Feedback(openai.relevance).on(\n",
    "    prompt=Query.RecordInput, response=Query.RecordOutput\n",
    ")\n",
    "\n",
    "# Question/statement relevance between question and each context chunk.\n",
    "f_qs_relevance = feedback.Feedback(openai.qs_relevance).on(\n",
    "    question=Query.RecordInput,\n",
    "    statement=Query.Record.model.retriever.retrieve.rets[:].node.text\n",
    ").aggregate(np.min)\n",
    "\n",
    "feedbacks = [\n",
    "#    f_lang_match, \n",
    "#    f_qa_relevance, \n",
    "#    f_qs_relevance\n",
    "]"
   ]
  },
  {
   "cell_type": "code",
   "execution_count": null,
   "metadata": {},
   "outputs": [],
   "source": []
  },
  {
   "cell_type": "code",
   "execution_count": null,
   "metadata": {},
   "outputs": [],
   "source": []
  },
  {
   "cell_type": "code",
   "execution_count": null,
   "metadata": {},
   "outputs": [],
   "source": [
    "l = Tru().Llama(engine=query_engine, feedbacks=feedbacks, chain_id=\"default\")"
   ]
  },
  {
   "cell_type": "code",
   "execution_count": null,
   "metadata": {},
   "outputs": [],
   "source": [
    "list(l.instrumented())"
   ]
  },
  {
   "cell_type": "code",
   "execution_count": null,
   "metadata": {},
   "outputs": [],
   "source": [
    "res, record = l.query_with_record(\"Who is Shayak?\")"
   ]
  },
  {
   "cell_type": "code",
   "execution_count": null,
   "metadata": {},
   "outputs": [],
   "source": [
    "proc = Tru().start_dashboard(force=True, _dev=Path.cwd().parent)\n",
    "# thread = Tru().start_evaluator(restart=True)"
   ]
  },
  {
   "cell_type": "code",
   "execution_count": null,
   "metadata": {},
   "outputs": [],
   "source": [
    "import llama_index\n",
    "dir(llama_index.llm_predictor)"
   ]
  },
  {
   "cell_type": "code",
   "execution_count": null,
   "metadata": {},
   "outputs": [],
   "source": [
    "type(l.app._response_synthesizer._response_builder)"
   ]
  },
  {
   "cell_type": "code",
   "execution_count": null,
   "metadata": {},
   "outputs": [],
   "source": []
  }
 ],
 "metadata": {
  "kernelspec": {
   "display_name": "py38_trulens",
   "language": "python",
   "name": "python3"
  },
  "language_info": {
   "codemirror_mode": {
    "name": "ipython",
    "version": 3
   },
   "file_extension": ".py",
   "mimetype": "text/x-python",
   "name": "python",
   "nbconvert_exporter": "python",
   "pygments_lexer": "ipython3",
   "version": "3.8.16"
  },
  "orig_nbformat": 4
 },
 "nbformat": 4,
 "nbformat_minor": 2
}
