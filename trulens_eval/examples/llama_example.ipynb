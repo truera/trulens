{
 "cells": [
  {
   "cell_type": "code",
   "execution_count": 1,
   "metadata": {},
   "outputs": [
    {
     "data": {
      "text/plain": [
       "\"\\nimport logging\\n\\nroot = logging.getLogger()\\nroot.setLevel(logging.DEBUG)\\n\\nhandler = logging.StreamHandler(sys.stdout)\\nhandler.setLevel(logging.DEBUG)\\nformatter = logging.Formatter('%(asctime)s - %(name)s - %(levelname)s - %(message)s')\\nhandler.setFormatter(formatter)\\nroot.addHandler(handler)\\n\""
      ]
     },
     "execution_count": 1,
     "metadata": {},
     "output_type": "execute_result"
    }
   ],
   "source": [
    "%load_ext autoreload\n",
    "%autoreload 2\n",
    "from pathlib import Path\n",
    "import sys\n",
    "\n",
    "sys.path.append(str(Path().cwd().parent.resolve()))\n",
    "\n",
    "from pprint import PrettyPrinter\n",
    "pp = PrettyPrinter()\n",
    "\n",
    "# Uncomment to get more debugging printouts:\n",
    "\"\"\"\n",
    "import logging\n",
    "\n",
    "root = logging.getLogger()\n",
    "root.setLevel(logging.DEBUG)\n",
    "\n",
    "handler = logging.StreamHandler(sys.stdout)\n",
    "handler.setLevel(logging.DEBUG)\n",
    "formatter = logging.Formatter('%(asctime)s - %(name)s - %(levelname)s - %(message)s')\n",
    "handler.setFormatter(formatter)\n",
    "root.addHandler(handler)\n",
    "\"\"\""
   ]
  },
  {
   "cell_type": "code",
   "execution_count": 2,
   "metadata": {},
   "outputs": [
    {
     "name": "stdout",
     "output_type": "stream",
     "text": [
      "Help on function wrap_request in module __main__:\n",
      "\n",
      "wrap_request(self, *args, **kwargs)\n",
      "\n"
     ]
    }
   ],
   "source": [
    "import openai\n",
    "def wrap_request(self, *args, **kwargs):\n",
    "    print(\"wrapping request=\")\n",
    "    pp.pprint(args)\n",
    "    pp.pprint(kwargs)\n",
    "    rets = openai.Completion.request(self, *args, **kwargs)\n",
    "    print(\"rets=\")\n",
    "    pp.pprint(rets)\n",
    "    return rets\n",
    "\n",
    "openai.Completion.request = wrap_request\n",
    "\n",
    "help(openai.Completion.request)"
   ]
  },
  {
   "cell_type": "code",
   "execution_count": 3,
   "metadata": {},
   "outputs": [
    {
     "name": "stdout",
     "output_type": "stream",
     "text": [
      "KEY SET: OPENAI_API_KEY\n",
      "KEY SET: PINECONE_API_KEY\n",
      "KEY SET: PINECONE_ENV\n",
      "KEY SET: HUGGINGFACE_API_KEY\n",
      "KEY SET: SLACK_TOKEN\n",
      "KEY SET: SLACK_SIGNING_SECRET\n",
      "KEY SET: COHERE_API_KEY\n"
     ]
    }
   ],
   "source": [
    "from trulens_eval.keys import *"
   ]
  },
  {
   "cell_type": "code",
   "execution_count": null,
   "metadata": {},
   "outputs": [],
   "source": []
  },
  {
   "cell_type": "code",
   "execution_count": null,
   "metadata": {},
   "outputs": [],
   "source": []
  },
  {
   "cell_type": "code",
   "execution_count": 4,
   "metadata": {},
   "outputs": [],
   "source": [
    "from llama_index import GPTVectorStoreIndex, SimpleDirectoryReader\n",
    "\n",
    "documents = SimpleDirectoryReader('llama_index/data').load_data()\n",
    "index = GPTVectorStoreIndex.from_documents(documents)\n",
    "\n",
    "query_engine = index.as_query_engine()\n",
    "# response = query_engine.query(\"What did the author do growing up?\")\n",
    "# print(response)"
   ]
  },
  {
   "cell_type": "code",
   "execution_count": 5,
   "metadata": {},
   "outputs": [
    {
     "name": "stdout",
     "output_type": "stream",
     "text": [
      "huggingface/tokenizers: The current process just got forked, after parallelism has already been used. Disabling parallelism to avoid deadlocks...\n",
      "To disable this warning, you can either:\n",
      "\t- Avoid using `tokenizers` before the fork if possible\n",
      "\t- Explicitly set the environment variable TOKENIZERS_PARALLELISM=(true | false)\n"
     ]
    },
    {
     "data": {
      "application/vnd.jupyter.widget-view+json": {
       "model_id": "93629772fa0b4a909dbe7318ab657f11",
       "version_major": 2,
       "version_minor": 0
      },
      "text/plain": [
       "huggingface api: 0requests [00:00, ?requests/s]"
      ]
     },
     "metadata": {},
     "output_type": "display_data"
    },
    {
     "data": {
      "application/vnd.jupyter.widget-view+json": {
       "model_id": "5ecfeb0bd1b1498d8ad28a0e967ec07f",
       "version_major": 2,
       "version_minor": 0
      },
      "text/plain": [
       "openai api: 0requests [00:00, ?requests/s]"
      ]
     },
     "metadata": {},
     "output_type": "display_data"
    }
   ],
   "source": [
    "# For aggregation,\n",
    "import numpy as np\n",
    "\n",
    "from trulens_eval import feedback, Feedback, Query, Tru\n",
    "\n",
    "# Construct feedback functions.\n",
    "\n",
    "hugs = feedback.Huggingface()\n",
    "openai = feedback.OpenAI()\n",
    "\n",
    "# Language match between question/answer.\n",
    "f_lang_match = Feedback(hugs.language_match).on(\n",
    "    text1=Query.RecordInput, text2=Query.RecordOutput\n",
    ")\n",
    "\n",
    "# Question/answer relevance between overall question and answer.\n",
    "f_qa_relevance = Feedback(openai.relevance).on(\n",
    "    prompt=Query.RecordInput, response=Query.RecordOutput\n",
    ")\n",
    "\n",
    "# Question/statement relevance between question and each context chunk.\n",
    "f_qs_relevance = feedback.Feedback(openai.qs_relevance).on(\n",
    "    question=Query.RecordInput,\n",
    "    statement=Query.Record.model.retriever.retrieve.rets[:].node.text\n",
    ").aggregate(np.min)\n",
    "\n",
    "feedbacks = [\n",
    "#    f_lang_match, \n",
    "#    f_qa_relevance, \n",
    "#    f_qs_relevance\n",
    "]"
   ]
  },
  {
   "cell_type": "code",
   "execution_count": 6,
   "metadata": {},
   "outputs": [
    {
     "name": "stdout",
     "output_type": "stream",
     "text": [
      "✅ app app_hash_fd4bc0b7a6be4243930b26606ad25b6f -> default.sqlite\n"
     ]
    }
   ],
   "source": [
    "l = Tru().Llama(engine=query_engine, feedbacks=feedbacks, chain_id=\"default\")"
   ]
  },
  {
   "cell_type": "code",
   "execution_count": 7,
   "metadata": {},
   "outputs": [
    {
     "data": {
      "text/plain": [
       "[(JSONPath().app, <trulens_eval.utils.llama.Other at 0x1546128b0>),\n",
       " (JSONPath().app._response_synthesizer,\n",
       "  <trulens_eval.utils.llama.Other at 0x15460bfa0>),\n",
       " (JSONPath().app._response_synthesizer._response_builder,\n",
       "  <trulens_eval.utils.llama.Other at 0x1547af0a0>),\n",
       " (JSONPath().app._response_synthesizer._response_builder._refine_template,\n",
       "  <trulens_eval.utils.llama.Prompt at 0x1547afdc0>),\n",
       " (JSONPath().app._response_synthesizer._response_builder._refine_template.prompt,\n",
       "  <trulens_eval.utils.langchain.Prompt at 0x1547d1580>),\n",
       " (JSONPath().app._response_synthesizer._response_builder.service_context,\n",
       "  <trulens_eval.utils.llama.Other at 0x1547d1220>),\n",
       " (JSONPath().app._response_synthesizer._response_builder.service_context.embed_model,\n",
       "  <trulens_eval.utils.llama.Other at 0x1547d14f0>),\n",
       " (JSONPath().app._response_synthesizer._response_builder.service_context.llm_predictor,\n",
       "  <trulens_eval.utils.llama.Other at 0x1547d1c10>),\n",
       " (JSONPath().app._response_synthesizer._response_builder.service_context.llm_predictor.llm,\n",
       "  <trulens_eval.utils.langchain.LLM at 0x1547db190>),\n",
       " (JSONPath().app._response_synthesizer._response_builder.service_context.node_parser,\n",
       "  <trulens_eval.utils.llama.Other at 0x1547d1ee0>),\n",
       " (JSONPath().app._response_synthesizer._response_builder.service_context.prompt_helper,\n",
       "  <trulens_eval.utils.llama.Other at 0x1547d1b50>),\n",
       " (JSONPath().app._response_synthesizer._response_builder.text_qa_template,\n",
       "  <trulens_eval.utils.llama.Prompt at 0x1547db5b0>),\n",
       " (JSONPath().app._response_synthesizer._response_builder.text_qa_template.prompt,\n",
       "  <trulens_eval.utils.langchain.Prompt at 0x1547dbb50>),\n",
       " (JSONPath().app.retriever, <trulens_eval.utils.llama.Other at 0x1547db9a0>),\n",
       " (JSONPath().app.retriever._index,\n",
       "  <trulens_eval.utils.llama.Other at 0x1547e7070>),\n",
       " (JSONPath().app.retriever._index.service_context,\n",
       "  <trulens_eval.utils.llama.Other at 0x1547db940>),\n",
       " (JSONPath().app.retriever._index.service_context.embed_model,\n",
       "  <trulens_eval.utils.llama.Other at 0x1547e73d0>),\n",
       " (JSONPath().app.retriever._index.service_context.llm_predictor,\n",
       "  <trulens_eval.utils.llama.Other at 0x1547e7790>),\n",
       " (JSONPath().app.retriever._index.service_context.llm_predictor.llm,\n",
       "  <trulens_eval.utils.langchain.LLM at 0x1547e7cd0>),\n",
       " (JSONPath().app.retriever._index.service_context.node_parser,\n",
       "  <trulens_eval.utils.llama.Other at 0x1547e7a60>),\n",
       " (JSONPath().app.retriever._index.service_context.prompt_helper,\n",
       "  <trulens_eval.utils.llama.Other at 0x1547e76d0>),\n",
       " (JSONPath().app.retriever._index.vector_store,\n",
       "  <trulens_eval.utils.llama.Other at 0x1547f0370>),\n",
       " (JSONPath().app.retriever._service_context,\n",
       "  <trulens_eval.utils.llama.Other at 0x1547f01c0>),\n",
       " (JSONPath().app.retriever._service_context.embed_model,\n",
       "  <trulens_eval.utils.llama.Other at 0x1547f06d0>),\n",
       " (JSONPath().app.retriever._service_context.llm_predictor,\n",
       "  <trulens_eval.utils.llama.Other at 0x1547f0a90>),\n",
       " (JSONPath().app.retriever._service_context.llm_predictor.llm,\n",
       "  <trulens_eval.utils.langchain.LLM at 0x1547f0fd0>),\n",
       " (JSONPath().app.retriever._service_context.node_parser,\n",
       "  <trulens_eval.utils.llama.Other at 0x1547f0d60>),\n",
       " (JSONPath().app.retriever._service_context.prompt_helper,\n",
       "  <trulens_eval.utils.llama.Other at 0x1547f09d0>),\n",
       " (JSONPath().app.retriever._vector_store,\n",
       "  <trulens_eval.utils.llama.Other at 0x1547f9670>)]"
      ]
     },
     "execution_count": 7,
     "metadata": {},
     "output_type": "execute_result"
    }
   ],
   "source": [
    "list(l.instrumented())"
   ]
  },
  {
   "cell_type": "code",
   "execution_count": 8,
   "metadata": {},
   "outputs": [
    {
     "name": "stderr",
     "output_type": "stream",
     "text": [
      "Token indices sequence length is longer than the specified maximum sequence length for this model (1818 > 1024). Running this sequence through the model will result in indexing errors\n"
     ]
    },
    {
     "name": "stdout",
     "output_type": "stream",
     "text": [
      "✅ record record_hash_bc51cb49c6f48294717659eb66396bbe from app_hash_fd4bc0b7a6be4243930b26606ad25b6f -> default.sqlite\n"
     ]
    }
   ],
   "source": [
    "res, record = l.query_with_record(\"Who is Shayak?\")"
   ]
  },
  {
   "cell_type": "code",
   "execution_count": null,
   "metadata": {},
   "outputs": [],
   "source": [
    "proc = Tru().start_dashboard(force=True, _dev=Path.cwd().parent)\n",
    "# thread = Tru().start_evaluator(restart=True)"
   ]
  },
  {
   "cell_type": "code",
   "execution_count": null,
   "metadata": {},
   "outputs": [],
   "source": [
    "import llama_index\n",
    "dir(llama_index.llm_predictor)"
   ]
  },
  {
   "cell_type": "code",
   "execution_count": null,
   "metadata": {},
   "outputs": [],
   "source": [
    "type(l.app._response_synthesizer._response_builder)"
   ]
  },
  {
   "cell_type": "code",
   "execution_count": null,
   "metadata": {},
   "outputs": [],
   "source": []
  }
 ],
 "metadata": {
  "kernelspec": {
   "display_name": "py38_trulens",
   "language": "python",
   "name": "python3"
  },
  "language_info": {
   "codemirror_mode": {
    "name": "ipython",
    "version": 3
   },
   "file_extension": ".py",
   "mimetype": "text/x-python",
   "name": "python",
   "nbconvert_exporter": "python",
   "pygments_lexer": "ipython3",
   "version": "3.8.16"
  },
  "orig_nbformat": 4
 },
 "nbformat": 4,
 "nbformat_minor": 2
}
