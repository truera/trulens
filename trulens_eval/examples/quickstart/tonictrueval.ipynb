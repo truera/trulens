{
 "cells": [
  {
   "cell_type": "markdown",
   "metadata": {},
   "source": [
    "# Welcome to Tonic Tru Eval !\n",
    "\n",
    "here, we'll basically use some custom library for huggingface to use the evaluation from huggingface and some endpoints from huggingface and make a dashboard.\n",
    "\n",
    "# Download TruEval Branch\n",
    "this only works if you download tru eval here:\n",
    "https://github.com/Josephrp/trulens \n",
    "\n"
   ]
  },
  {
   "cell_type": "code",
   "execution_count": null,
   "metadata": {},
   "outputs": [],
   "source": [
    "!pip install git+https://github.com/Josephrp/trulens.git\n",
    "!pip install openai\n",
    "!pip install gradio-client"
   ]
  },
  {
   "cell_type": "markdown",
   "metadata": {},
   "source": [
    "# Importing Necessary Libraries\n",
    "Here we import all the necessary libraries and modules required for our application.\n"
   ]
  },
  {
   "cell_type": "code",
   "execution_count": null,
   "metadata": {},
   "outputs": [],
   "source": [
    "import os\n",
    "import openai\n",
    "from trulens_eval.feedback.provider.hugs import FalconChatBot, GradioTextApp \n",
    "from IPython.display import JSON\n",
    "from trulens_eval import TruBasicApp, Feedback, Tru, OpenAI\n",
    "from gradio_client import Client\n"
   ]
  },
  {
   "cell_type": "markdown",
   "metadata": {},
   "source": [
    "# Setting Up Environment Variables\n",
    "Set the API keys for OpenAI, Hugging Face, and Replicate as environment variables.\n"
   ]
  },
  {
   "cell_type": "code",
   "execution_count": null,
   "metadata": {},
   "outputs": [],
   "source": [
    "# Set environment variables for API keys\n",
    "os.environ[\"OPENAI_API_KEY\"] = \"...\"\n",
    "os.environ[\"HUGGINGFACE_API_KEY\"] = \"...\"\n",
    "os.environ[\"REPLICATE_API_TOKEN\"] = \"...\"\n",
    "openai.api_key = os.environ[\"OPENAI_API_KEY\"]\n"
   ]
  },
  {
   "cell_type": "markdown",
   "metadata": {},
   "source": [
    "# Define Feedback Functions and Initialize Feedback Providers\n",
    "Here we define various feedback functions and initialize the feedback providers for our application."
   ]
  },
  {
   "cell_type": "code",
   "execution_count": null,
   "metadata": {},
   "outputs": [],
   "source": [
    "hugs = Huggingface()\n",
    "openai_provider = OpenAI()\n",
    "f_sentiment = Feedback(hugs.positive_sentiment, feedback_mode=FeedbackMode.DEFERRED).on_output()\n",
    "f_relevance = Feedback(openai_provider.relevance, feedback_mode=FeedbackMode.DEFERRED).on_input_output()\n",
    "f_conciseness = Feedback(openai_provider.conciseness, feedback_mode=FeedbackMode.DEFERRED).on_output()\n",
    "f_stereotypes = Feedback(openai_provider.stereotypes, feedback_mode=FeedbackMode.DEFERRED).on_input_output()\n",
    "feedbacks = [f_sentiment, f_relevance, f_conciseness, f_stereotypes]\n"
   ]
  },
  {
   "cell_type": "markdown",
   "metadata": {},
   "source": [
    "# Defining GPT-3.5 Turbo and GPT-4 Functions\n",
    "These functions will be used to interact with the GPT-3.5 Turbo and GPT-4 models.\n"
   ]
  },
  {
   "cell_type": "code",
   "execution_count": null,
   "metadata": {},
   "outputs": [],
   "source": [
    "def gpt35_turbo(prompt):\n",
    "    return openai.ChatCompletion.create(\n",
    "        model=\"gpt-3.5-turbo\",\n",
    "        messages=[\n",
    "            {\"role\": \"system\", \"content\": \"You are a question and answer bot. Answer upbeat.\"},\n",
    "            {\"role\": \"user\", \"content\": prompt}\n",
    "        ]\n",
    "    )[\"choices\"][0][\"message\"][\"content\"]\n",
    "\n",
    "def gpt4(prompt):\n",
    "    return openai.ChatCompletion.create(\n",
    "        model=\"gpt-4\",\n",
    "        messages=[\n",
    "            {\"role\": \"system\", \"content\": \"You are a question and answer bot. Answer upbeat.\"},\n",
    "            {\"role\": \"user\", \"content\": prompt}\n",
    "        ]\n",
    "    )[\"choices\"][0][\"message\"][\"content\"]\n",
    "\n"
   ]
  },
  {
   "cell_type": "markdown",
   "metadata": {},
   "source": [
    "# Initialize Recorders for GPT-3.5 and GPT-4\n",
    "We are initializing recorders for both GPT-3.5 Turbo and GPT-4 models with the defined feedbacks.\n"
   ]
  },
  {
   "cell_type": "code",
   "execution_count": null,
   "metadata": {},
   "outputs": [],
   "source": [
    "\n",
    "# Initialize recorders for GPT-3.5 and GPT-4\n",
    "gpt35_turbo_recorder = TruBasicApp(gpt35_turbo, app_id=\"gpt-3.5-turbo\", feedbacks=feedbacks)\n",
    "gpt4_recorder = TruBasicApp(gpt4, app_id=\"gpt-4\", feedbacks=feedbacks)\n"
   ]
  },
  {
   "cell_type": "markdown",
   "metadata": {},
   "source": [
    "# Initialize FalconChatBot and GradioTextApp\n",
    "Setting up FalconChatBot and GradioTextApp with their respective URLs and prediction functions.\n"
   ]
  },
  {
   "cell_type": "code",
   "execution_count": null,
   "metadata": {},
   "outputs": [],
   "source": [
    "# Initialize FalconChatBot and GradioTextApp\n",
    "falcon_chat_bot = FalconChatBot(\"https://your-gradio-api-url.hf.space/\", \"/custom_predict\")\n",
    "gradio_text_app = GradioTextApp(\"https://your-gradio-api-url.hf.space/\", \"/custom_predict\")\n",
    "\n",
    "# FalconChatBot\n",
    "falcon_chat_bot = FalconChatBot(\"https://your-gradio-api-url.hf.space/\", \"/custom_predict\")\n",
    "def falcon_chat_bot_predict(prompt):\n",
    "    return falcon_chat_bot.predict(prompt, \"You are a question and answer bot. Answer upbeat.\", 50, 0.7, 0.9, 1.2)\n",
    "\n",
    "# SimpleTextApp\n",
    "gradio_text_app = GradioTextApp(\"https://your-gradio-api-url.hf.space/\", \"/custom_predict\")\n",
    "def gradio_text_app_predict(prompt):\n",
    "    return gradio_text_app.predict(prompt)\n"
   ]
  },
  {
   "cell_type": "markdown",
   "metadata": {},
   "source": [
    "# Create Recorders for FalconChatBot and GradioTextApp\n",
    "Here we create recorders for both FalconChatBot and GradioTextApp.\n"
   ]
  },
  {
   "cell_type": "code",
   "execution_count": null,
   "metadata": {},
   "outputs": [],
   "source": [
    "falcon_chat_bot_recorder = TruBasicApp(falcon_chat_bot_predict, app_id=\"falcon_chat_bot\", feedbacks=feedbacks)\n",
    "gradio_text_app_recorder = TruBasicApp(gradio_text_app_predict, app_id=\"gradio_text_app\", feedbacks=feedbacks)\n"
   ]
  },
  {
   "cell_type": "markdown",
   "metadata": {},
   "source": [
    "# Define Prompts\n",
    "List of prompts that will be used for the models.\n"
   ]
  },
  {
   "cell_type": "code",
   "execution_count": null,
   "metadata": {},
   "outputs": [],
   "source": [
    "prompts = [\n",
    "    # ... [List of prompts]\n",
    "]\n"
   ]
  },
  {
   "cell_type": "markdown",
   "metadata": {},
   "source": [
    "# Recording Loop for Each Model\n",
    "Executing the recording loop for each model with the defined prompts.\n"
   ]
  },
  {
   "cell_type": "code",
   "execution_count": null,
   "metadata": {},
   "outputs": [],
   "source": [
    "\n",
    "# Recording loop for each model\n",
    "with gpt35_turbo_recorder as recording:\n",
    "    for prompt in prompts:\n",
    "        print(prompt)\n",
    "        gpt35_turbo_recorder.app(prompt)\n",
    "\n",
    "with gpt4_recorder as recording:\n",
    "    for prompt in prompts:\n",
    "        print(prompt)\n",
    "        gpt4_recorder.app(prompt)\n",
    "\n",
    "with falcon_chat_bot_recorder as recording:\n",
    "    for prompt in prompts:\n",
    "        print(prompt)\n",
    "        falcon_chat_bot_recorder.app(prompt)\n",
    "\n",
    "with gradio_text_app_recorder as recording:\n",
    "    for prompt in prompts:\n",
    "        print(prompt)\n",
    "        gradio_text_app_recorder.app(prompt)\n"
   ]
  },
  {
   "cell_type": "markdown",
   "metadata": {},
   "source": [
    "# Exploring Results in a Dashboard or Notebook\n"
   ]
  },
  {
   "cell_type": "code",
   "execution_count": null,
   "metadata": {},
   "outputs": [],
   "source": [
    "# Explore in a Dashboard\n",
    "tru.run_dashboard()  # open a local streamlit app to explore\n",
    "\n",
    "# tru.stop_dashboard()  # stop if needed\n",
    "\n",
    "# Or view results directly in your notebook\n",
    "tru.get_records_and_feedback(app_ids=[])[0]  # pass an empty list of app_ids to get all\n"
   ]
  },
  {
   "cell_type": "code",
   "execution_count": null,
   "metadata": {},
   "outputs": [],
   "source": [
    "\n",
    "import os\n",
    "import openai\n",
    "from trulens_eval.feedback.provider.hugs import FalconChatBot, GradioTextApp \n",
    "from IPython.display import JSON\n",
    "from trulens_eval import TruBasicApp, Feedback, Tru, OpenAI\n",
    "from gradio_client import Client\n",
    "\n",
    "# Set environment variables for API keys\n",
    "os.environ[\"OPENAI_API_KEY\"] = \"...\"\n",
    "os.environ[\"HUGGINGFACE_API_KEY\"] = \"...\"\n",
    "os.environ[\"REPLICATE_API_TOKEN\"] = \"...\"\n",
    "openai.api_key = os.environ[\"OPENAI_API_KEY\"]\n",
    "\n",
    "# Define feedback functions and initialize feedback providers\n",
    "hugs = Huggingface()\n",
    "openai_provider = OpenAI()\n",
    "f_sentiment = Feedback(hugs.positive_sentiment, feedback_mode=FeedbackMode.DEFERRED).on_output()\n",
    "f_relevance = Feedback(openai_provider.relevance, feedback_mode=FeedbackMode.DEFERRED).on_input_output()\n",
    "f_conciseness = Feedback(openai_provider.conciseness, feedback_mode=FeedbackMode.DEFERRED).on_output()\n",
    "f_stereotypes = Feedback(openai_provider.stereotypes, feedback_mode=FeedbackMode.DEFERRED).on_input_output()\n",
    "feedbacks = [f_sentiment, f_relevance, f_conciseness, f_stereotypes]\n",
    "\n",
    "def gpt35_turbo(prompt):\n",
    "    return openai.ChatCompletion.create(\n",
    "        model=\"gpt-3.5-turbo\",\n",
    "        messages=[\n",
    "            {\"role\": \"system\", \"content\": \"You are a question and answer bot. Answer upbeat.\"},\n",
    "            {\"role\": \"user\", \"content\": prompt}\n",
    "        ]\n",
    "    )[\"choices\"][0][\"message\"][\"content\"]\n",
    "\n",
    "def gpt4(prompt):\n",
    "    return openai.ChatCompletion.create(\n",
    "        model=\"gpt-4\",\n",
    "        messages=[\n",
    "            {\"role\": \"system\", \"content\": \"You are a question and answer bot. Answer upbeat.\"},\n",
    "            {\"role\": \"user\", \"content\": prompt}\n",
    "        ]\n",
    "    )[\"choices\"][0][\"message\"][\"content\"]\n",
    "\n",
    "# Initialize recorders for GPT-3.5 and GPT-4\n",
    "gpt35_turbo_recorder = TruBasicApp(gpt35_turbo, app_id=\"gpt-3.5-turbo\", feedbacks=feedbacks)\n",
    "gpt4_recorder = TruBasicApp(gpt4, app_id=\"gpt-4\", feedbacks=feedbacks)\n",
    "\n",
    "# Initialize FalconChatBot and GradioTextApp\n",
    "falcon_chat_bot = FalconChatBot(\"https://your-gradio-api-url.hf.space/\", \"/custom_predict\")\n",
    "gradio_text_app = GradioTextApp(\"https://your-gradio-api-url.hf.space/\", \"/custom_predict\")\n",
    "\n",
    "# FalconChatBot\n",
    "falcon_chat_bot = FalconChatBot(\"https://your-gradio-api-url.hf.space/\", \"/custom_predict\")\n",
    "def falcon_chat_bot_predict(prompt):\n",
    "    return falcon_chat_bot.predict(prompt, \"You are a question and answer bot. Answer upbeat.\", 50, 0.7, 0.9, 1.2)\n",
    "\n",
    "# SimpleTextApp\n",
    "gradio_text_app = GradioTextApp(\"https://your-gradio-api-url.hf.space/\", \"/custom_predict\")\n",
    "def gradio_text_app_predict(prompt):\n",
    "    return gradio_text_app.predict(prompt)\n",
    "\n",
    "\n",
    "# Create recorders for FalconChatBot and GradioTextApp\n",
    "falcon_chat_bot_recorder = TruBasicApp(falcon_chat_bot_predict, app_id=\"falcon_chat_bot\", feedbacks=feedbacks)\n",
    "gradio_text_app_recorder = TruBasicApp(gradio_text_app_predict, app_id=\"gradio_text_app\", feedbacks=feedbacks)\n",
    "\n",
    "# Define prompts\n",
    "prompts = [\n",
    "    # ... [List of prompts]\n",
    "]\n",
    "\n",
    "# Recording loop for each model\n",
    "with gpt35_turbo_recorder as recording:\n",
    "    for prompt in prompts:\n",
    "        print(prompt)\n",
    "        gpt35_turbo_recorder.app(prompt)\n",
    "\n",
    "with gpt4_recorder as recording:\n",
    "    for prompt in prompts:\n",
    "        print(prompt)\n",
    "        gpt4_recorder.app(prompt)\n",
    "\n",
    "with falcon_chat_bot_recorder as recording:\n",
    "    for prompt in prompts:\n",
    "        print(prompt)\n",
    "        falcon_chat_bot_recorder.app(prompt)\n",
    "\n",
    "with gradio_text_app_recorder as recording:\n",
    "    for prompt in prompts:\n",
    "        print(prompt)\n",
    "        gradio_text_app_recorder.app(prompt)\n",
    "\n",
    "# Explore in a Dashboard\n",
    "tru.run_dashboard()  # open a local streamlit app to explore\n",
    "\n",
    "# tru.stop_dashboard()  # stop if needed\n",
    "\n",
    "# Or view results directly in your notebook\n",
    "tru.get_records_and_feedback(app_ids=[])[0]  # pass an empty list of app_ids to get all\n"
   ]
  },
  {
   "cell_type": "markdown",
   "metadata": {},
   "source": []
  },
  {
   "cell_type": "code",
   "execution_count": null,
   "metadata": {},
   "outputs": [],
   "source": []
  }
 ],
 "metadata": {
  "language_info": {
   "name": "python"
  }
 },
 "nbformat": 4,
 "nbformat_minor": 2
}
