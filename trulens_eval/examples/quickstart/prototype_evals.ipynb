{
 "cells": [
  {
   "attachments": {},
   "cell_type": "markdown",
   "metadata": {},
   "source": [
    "# Prototype Evals\n",
    "This notebook shows the use of the dummy feedback function provider which\n",
    "behaves like the huggingface provider except it does not actually perform any\n",
    "network calls and just produces constant results. It can be used to prototype\n",
    "feedback function wiring for your apps before invoking potentially slow (to\n",
    "run/to load) feedback functions.\n",
    "\n",
    "[![Open In Colab](https://colab.research.google.com/assets/colab-badge.svg)](https://colab.research.google.com/github/truera/trulens/blob/main/trulens_eval/examples/quickstart/prototype_evals.ipynb)"
   ]
  },
  {
   "attachments": {},
   "cell_type": "markdown",
   "metadata": {},
   "source": [
    "## Setup\n",
    "\n",
    "### Install dependencies\n",
    "Let's install some of the dependencies for this notebook if we don't have them already"
   ]
  },
  {
   "cell_type": "code",
   "execution_count": null,
   "metadata": {},
   "outputs": [],
   "source": [
    "#! pip install trulens-eval==0.15.3"
   ]
  },
  {
   "cell_type": "code",
   "execution_count": null,
   "metadata": {},
   "outputs": [],
   "source": [
    "import threading\n",
    "\n",
    "from examples.frameworks.custom.custom_app import CustomApp\n",
    "\n",
    "from trulens_eval import Feedback\n",
    "from trulens_eval import Tru\n",
    "from trulens_eval.feedback.provider.hugs import Dummy\n",
    "from trulens_eval.tru_custom_app import TruCustomApp\n",
    "from trulens_eval.utils.threading import TP\n",
    "\n",
    "tru = Tru()\n",
    "\n",
    "tru.reset_database()\n",
    "\n",
    "tru.start_dashboard()"
   ]
  },
  {
   "cell_type": "code",
   "execution_count": null,
   "metadata": {},
   "outputs": [],
   "source": [
    "# hugs = Huggingface()\n",
    "hugs = Dummy()\n",
    "\n",
    "f_positive_sentiment = Feedback(hugs.positive_sentiment).on_output()"
   ]
  },
  {
   "cell_type": "code",
   "execution_count": null,
   "metadata": {},
   "outputs": [],
   "source": [
    "# Create custom app:\n",
    "ca = CustomApp()\n",
    "\n",
    "# Create trulens wrapper:\n",
    "ta = TruCustomApp(\n",
    "    ca,\n",
    "    app_id=\"customapp\",\n",
    "    # feedback_mode=FeedbackMode.WITH_APP\n",
    "    feedbacks=[f_positive_sentiment]\n",
    ")"
   ]
  },
  {
   "cell_type": "code",
   "execution_count": null,
   "metadata": {},
   "outputs": [],
   "source": [
    "with ta:\n",
    "    for i, q in enumerate([\"hello there\"] * 100):\n",
    "        # Track number of requests, number of threads, and number of promises to fulfull\n",
    "        print(f\"\\rrequest {i} \", end=\"\")\n",
    "        print(f\"thread count={threading.active_count()}, promises={TP().promises.qsize()}\", end=\"\")\n",
    "\n",
    "        res = ca.respond_to_query(input=q)"
   ]
  }
 ],
 "metadata": {
  "kernelspec": {
   "display_name": "py38_trulens",
   "language": "python",
   "name": "python3"
  },
  "language_info": {
   "codemirror_mode": {
    "name": "ipython",
    "version": 3
   },
   "file_extension": ".py",
   "mimetype": "text/x-python",
   "name": "python",
   "nbconvert_exporter": "python",
   "pygments_lexer": "ipython3",
   "version": "3.8.16"
  },
  "orig_nbformat": 4
 },
 "nbformat": 4,
 "nbformat_minor": 2
}
