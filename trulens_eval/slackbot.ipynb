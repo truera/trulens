{
 "cells": [
  {
   "attachments": {},
   "cell_type": "markdown",
   "metadata": {},
   "source": [
    "# Slackbot-related work"
   ]
  },
  {
   "cell_type": "code",
   "execution_count": 1,
   "metadata": {},
   "outputs": [],
   "source": [
    "%load_ext autoreload\n",
    "%autoreload 2"
   ]
  },
  {
   "cell_type": "code",
   "execution_count": 2,
   "metadata": {},
   "outputs": [
    {
     "name": "stdout",
     "output_type": "stream",
     "text": [
      "KEY SET: OPENAI_API_KEY\n",
      "KEY SET: PINECONE_API_KEY\n",
      "KEY SET: PINECONE_ENV\n",
      "KEY SET: HUGGINGFACE_API_KEY\n",
      "KEY SET: SLACK_TOKEN\n",
      "KEY SET: SLACK_SIGNING_SECRET\n",
      "KEY SET: COHERE_API_KEY\n"
     ]
    }
   ],
   "source": [
    "from trulens_eval.tru_db import Record, TruDB, LocalSQLite, Chain, Query\n",
    "from trulens_eval import tru\n",
    "from trulens_eval.util import TP\n",
    "from trulens_eval import tru_feedback\n",
    "from IPython.display import JSON\n",
    "from ipywidgets import widgets\n",
    "import json"
   ]
  },
  {
   "cell_type": "code",
   "execution_count": 3,
   "metadata": {},
   "outputs": [
    {
     "data": {
      "text/plain": [
       "('_record',)"
      ]
     },
     "execution_count": 3,
     "metadata": {},
     "output_type": "execute_result"
    }
   ],
   "source": [
    "Record._path"
   ]
  },
  {
   "cell_type": "code",
   "execution_count": 23,
   "metadata": {},
   "outputs": [
    {
     "data": {
      "text/plain": [
       "[('record_hash_209b40db6b757f1b55274e299d66cdba',\n",
       "  'TruBot_relevance',\n",
       "  'Who is Piotr?',\n",
       "  \" Piotr Mardziel holds Bachelor's and Master's degrees from the Worcester Polytechnic Institute and a PhD in computer science from University of Maryland, College Park. He has conducted post-doctoral research at Carnegie Mellon University, as well as taught classes in trustworthy machine learning at Stanford University and machine learning privacy and security at Carnegie Mellon University.\",\n",
       "  '{\"chain\": {\"question_generator\": {\"_call\": [{\"args\": {\"inputs\": {\"question\": \"Who is Piotr?\", \"chat_history\": \"Human: Who is Piotr?\\\\nAI:  Piotr Mardziel is a research and engineering professional who works on transparency and accountability in machine learning with applications to security, privacy, and fairness. He holds Bachelor\\\\u2019s and Master\\\\u2019s degrees from the Worcester Polytechnic Institute and a PhD in computer science from University of Maryland, College Park. He has conducted post-doctoral research at Carnegie Mellon University, as well as taught classes in trustworthy machine learning at Stanford University and machine learning privacy and security at Carnegie Mellon University.\"}}, \"start_time\": \"2023-05-21 22:29:40.137191\", \"end_time\": \"2023-05-21 22:29:41.107907\", \"pid\": 511351, \"tid\": 511351, \"chain_stack\": [[\"chain\"], [\"chain\", \"question_generator\"]], \"rets\": {\"text\": \" What are Piotr Mardziel\\'s qualifications?\"}}, {\"args\": {\"inputs\": {\"question\": \" What are Piotr Mardziel\\'s qualifications?\", \"context\": \"\\\\tContext: Piotr Mardziel works on transparency and accountability in machine learning with applications to security, privacy, and fairness. He holds Bachelor\\\\u2019s and Master\\\\u2019s degrees from the Worcester Polytechnic Institute and a PhD in computer science from University of Maryland, College Park. He has conducted post-doctoral research at Carnegie Mellon University, as well as taught classes in trustworthy machine learning at Stanford University and machine learning privacy and security at Carnegie Mellon University.\\\\n\\\\n\\\\tContext: David is a research engineer with expertise in machine learning, algorithmic game theory, fair division, and auction theory. He holds a Bachelor\\'s degree with honors in Mathematics and Computer Science from the University of British Columbia and a PhD in Computer Science from Carnegie Mellon University. Prior to TruEra, David was an engineer at Google and Amazon.\\\\n\\\\nLinkedin\\\\n\\\\nPiotr Mardziel\\\\n\\\\nResearch and Engineering\\\\n\\\\n\\\\tContext: Sales (Field Data Science)\\\\n\\\\nUChicago, Capital One\\\\n\\\\nKlas Leino\\\\n\\\\nEngineering\\\\n\\\\nCarnegie Mellon University\\\\n\\\\nMantas Lilis\\\\n\\\\nUX\\\\n\\\\nMozilla, AR.js Studio, Copenhagen Institute of Interaction Design\\\\n\\\\nRich Lin\\\\n\\\\nEngineering\\\\n\\\\nStanford, Apple, Google\\\\n\\\\nPiotr Mardziel\\\\n\\\\nEngineering\\\\n\\\\nUniversity of Maryland, Carnegie Mellon University\\\\n\\\\nLofred Madzou\\\\n\\\\nStrategy\\\\n\\\\nWorld Economic Forum, University of Oxford\\\\n\\\\nYuvnesh Modi\\\\n\\\\nProduct Management\\\\n\\\\nHarvard, IIT Kharagpur, Box, Blue River (acq. John Deere)\\\\n\\\\nLarry Orimoloye\\\\n\\\\n\\\\tContext: In episode #8, Oliver Maspfuhl provides us a European perspective on a range of topics - from the new draft AI regulation proposed last year, to the state of AI adoption in Europe, and how organizations are building practical mechanisms to make AI trustworthy. Oliver also shares his advice for data scientists who are weighing a career in financial services against other options, and provides his predictions on the impact of AI in the next few years.\\\\nAbout the speaker \\\\nOliver Maspfuhl is Chapter Lead Data Scientist in the central Big Data & Advanced Analytics unit of Commerzbank AG, focusing on developing Trustworthy AI applications for making banking a data-driven business, mostly in Risk Management and Financial Crime Prevention.\"}}, \"start_time\": \"2023-05-21 22:29:41.571977\", \"end_time\": \"2023-05-21 22:29:45.172355\", \"pid\": 511351, \"tid\": 511351, \"chain_stack\": [[\"chain\"], [\"chain\", \"combine_docs_chain\"], [\"chain\", \"question_generator\"]], \"rets\": {\"text\": \" Piotr Mardziel holds Bachelor\\'s and Master\\'s degrees from the Worcester Polytechnic Institute and a PhD in computer science from University of Maryland, College Park. He has conducted post-doctoral research at Carnegie Mellon University, as well as taught classes in trustworthy machine learning at Stanford University and machine learning privacy and security at Carnegie Mellon University.\"}}]}, \"combine_docs_chain\": {\"_call\": {\"args\": {\"inputs\": {\"input_documents\": [{\"page_content\": \"Piotr Mardziel works on transparency and accountability in machine learning with applications to security, privacy, and fairness. He holds Bachelor\\\\u2019s and Master\\\\u2019s degrees from the Worcester Polytechnic Institute and a PhD in computer science from University of Maryland, College Park. He has conducted post-doctoral research at Carnegie Mellon University, as well as taught classes in trustworthy machine learning at Stanford University and machine learning privacy and security at Carnegie Mellon University.\", \"metadata\": {\"source\": \"https://truera.com/ai-quality-research\"}}, {\"page_content\": \"David is a research engineer with expertise in machine learning, algorithmic game theory, fair division, and auction theory. He holds a Bachelor\\'s degree with honors in Mathematics and Computer Science from the University of British Columbia and a PhD in Computer Science from Carnegie Mellon University. Prior to TruEra, David was an engineer at Google and Amazon.\\\\n\\\\nLinkedin\\\\n\\\\nPiotr Mardziel\\\\n\\\\nResearch and Engineering\", \"metadata\": {\"source\": \"https://truera.com/ai-quality-research\"}}, {\"page_content\": \"Sales (Field Data Science)\\\\n\\\\nUChicago, Capital One\\\\n\\\\nKlas Leino\\\\n\\\\nEngineering\\\\n\\\\nCarnegie Mellon University\\\\n\\\\nMantas Lilis\\\\n\\\\nUX\\\\n\\\\nMozilla, AR.js Studio, Copenhagen Institute of Interaction Design\\\\n\\\\nRich Lin\\\\n\\\\nEngineering\\\\n\\\\nStanford, Apple, Google\\\\n\\\\nPiotr Mardziel\\\\n\\\\nEngineering\\\\n\\\\nUniversity of Maryland, Carnegie Mellon University\\\\n\\\\nLofred Madzou\\\\n\\\\nStrategy\\\\n\\\\nWorld Economic Forum, University of Oxford\\\\n\\\\nYuvnesh Modi\\\\n\\\\nProduct Management\\\\n\\\\nHarvard, IIT Kharagpur, Box, Blue River (acq. John Deere)\\\\n\\\\nLarry Orimoloye\", \"metadata\": {\"source\": \"https://truera.com/ai-quality-leader\"}}, {\"page_content\": \"In episode #8, Oliver Maspfuhl provides us a European perspective on a range of topics - from the new draft AI regulation proposed last year, to the state of AI adoption in Europe, and how organizations are building practical mechanisms to make AI trustworthy. Oliver also shares his advice for data scientists who are weighing a career in financial services against other options, and provides his predictions on the impact of AI in the next few years.\\\\nAbout the speaker \\\\nOliver Maspfuhl is Chapter Lead Data Scientist in the central Big Data & Advanced Analytics unit of Commerzbank AG, focusing on developing Trustworthy AI applications for making banking a data-driven business, mostly in Risk Management and Financial Crime Prevention.\", \"metadata\": {\"source\": \"https://marketing.truera.com/trustworthy-ai-podcast\"}}], \"question\": \" What are Piotr Mardziel\\'s qualifications?\", \"chat_history\": \"Human: Who is Piotr?\\\\nAI:  Piotr Mardziel is a research and engineering professional who works on transparency and accountability in machine learning with applications to security, privacy, and fairness. He holds Bachelor\\\\u2019s and Master\\\\u2019s degrees from the Worcester Polytechnic Institute and a PhD in computer science from University of Maryland, College Park. He has conducted post-doctoral research at Carnegie Mellon University, as well as taught classes in trustworthy machine learning at Stanford University and machine learning privacy and security at Carnegie Mellon University.\"}}, \"start_time\": \"2023-05-21 22:29:41.565038\", \"end_time\": \"2023-05-21 22:29:45.172443\", \"pid\": 511351, \"tid\": 511351, \"chain_stack\": [[\"chain\"], [\"chain\", \"combine_docs_chain\"]], \"rets\": {\"output_text\": \" Piotr Mardziel holds Bachelor\\'s and Master\\'s degrees from the Worcester Polytechnic Institute and a PhD in computer science from University of Maryland, College Park. He has conducted post-doctoral research at Carnegie Mellon University, as well as taught classes in trustworthy machine learning at Stanford University and machine learning privacy and security at Carnegie Mellon University.\"}}}, \"_call\": {\"args\": {\"inputs\": {\"question\": \"Who is Piotr?\", \"chat_history\": \"Human: Who is Piotr?\\\\nAI:  Piotr Mardziel is a research and engineering professional who works on transparency and accountability in machine learning with applications to security, privacy, and fairness. He holds Bachelor\\\\u2019s and Master\\\\u2019s degrees from the Worcester Polytechnic Institute and a PhD in computer science from University of Maryland, College Park. He has conducted post-doctoral research at Carnegie Mellon University, as well as taught classes in trustworthy machine learning at Stanford University and machine learning privacy and security at Carnegie Mellon University.\"}}, \"start_time\": \"2023-05-21 22:29:40.130267\", \"end_time\": \"2023-05-21 22:29:45.172548\", \"pid\": 511351, \"tid\": 511351, \"chain_stack\": [[\"chain\"]], \"rets\": {\"answer\": \" Piotr Mardziel holds Bachelor\\'s and Master\\'s degrees from the Worcester Polytechnic Institute and a PhD in computer science from University of Maryland, College Park. He has conducted post-doctoral research at Carnegie Mellon University, as well as taught classes in trustworthy machine learning at Stanford University and machine learning privacy and security at Carnegie Mellon University.\", \"source_documents\": [\"{\\\\\"page_content\\\\\": \\\\\"Piotr Mardziel works on transparency and accountability in machine learning with applications to security, privacy, and fairness. He holds Bachelor\\\\\\\\u2019s and Master\\\\\\\\u2019s degrees from the Worcester Polytechnic Institute and a PhD in computer science from University of Maryland, College Park. He has conducted post-doctoral research at Carnegie Mellon University, as well as taught classes in trustworthy machine learning at Stanford University and machine learning privacy and security at Carnegie Mellon University.\\\\\", \\\\\"metadata\\\\\": {\\\\\"source\\\\\": \\\\\"https://truera.com/ai-quality-research\\\\\"}}\", \"{\\\\\"page_content\\\\\": \\\\\"David is a research engineer with expertise in machine learning, algorithmic game theory, fair division, and auction theory. He holds a Bachelor\\'s degree with honors in Mathematics and Computer Science from the University of British Columbia and a PhD in Computer Science from Carnegie Mellon University. Prior to TruEra, David was an engineer at Google and Amazon.\\\\\\\\n\\\\\\\\nLinkedin\\\\\\\\n\\\\\\\\nPiotr Mardziel\\\\\\\\n\\\\\\\\nResearch and Engineering\\\\\", \\\\\"metadata\\\\\": {\\\\\"source\\\\\": \\\\\"https://truera.com/ai-quality-research\\\\\"}}\", \"{\\\\\"page_content\\\\\": \\\\\"Sales (Field Data Science)\\\\\\\\n\\\\\\\\nUChicago, Capital One\\\\\\\\n\\\\\\\\nKlas Leino\\\\\\\\n\\\\\\\\nEngineering\\\\\\\\n\\\\\\\\nCarnegie Mellon University\\\\\\\\n\\\\\\\\nMantas Lilis\\\\\\\\n\\\\\\\\nUX\\\\\\\\n\\\\\\\\nMozilla, AR.js Studio, Copenhagen Institute of Interaction Design\\\\\\\\n\\\\\\\\nRich Lin\\\\\\\\n\\\\\\\\nEngineering\\\\\\\\n\\\\\\\\nStanford, Apple, Google\\\\\\\\n\\\\\\\\nPiotr Mardziel\\\\\\\\n\\\\\\\\nEngineering\\\\\\\\n\\\\\\\\nUniversity of Maryland, Carnegie Mellon University\\\\\\\\n\\\\\\\\nLofred Madzou\\\\\\\\n\\\\\\\\nStrategy\\\\\\\\n\\\\\\\\nWorld Economic Forum, University of Oxford\\\\\\\\n\\\\\\\\nYuvnesh Modi\\\\\\\\n\\\\\\\\nProduct Management\\\\\\\\n\\\\\\\\nHarvard, IIT Kharagpur, Box, Blue River (acq. John Deere)\\\\\\\\n\\\\\\\\nLarry Orimoloye\\\\\", \\\\\"metadata\\\\\": {\\\\\"source\\\\\": \\\\\"https://truera.com/ai-quality-leader\\\\\"}}\", \"{\\\\\"page_content\\\\\": \\\\\"In episode #8, Oliver Maspfuhl provides us a European perspective on a range of topics - from the new draft AI regulation proposed last year, to the state of AI adoption in Europe, and how organizations are building practical mechanisms to make AI trustworthy. Oliver also shares his advice for data scientists who are weighing a career in financial services against other options, and provides his predictions on the impact of AI in the next few years.\\\\\\\\nAbout the speaker \\\\\\\\nOliver Maspfuhl is Chapter Lead Data Scientist in the central Big Data & Advanced Analytics unit of Commerzbank AG, focusing on developing Trustworthy AI applications for making banking a data-driven business, mostly in Risk Management and Financial Crime Prevention.\\\\\", \\\\\"metadata\\\\\": {\\\\\"source\\\\\": \\\\\"https://marketing.truera.com/trustworthy-ai-podcast\\\\\"}}\"]}}}, \"_cost\": {\"total_tokens\": 814, \"total_cost\": 0.01628}, \"chain_id\": \"TruBot_relevance\", \"record_id\": \"record_hash_209b40db6b757f1b55274e299d66cdba\"}',\n",
       "  'dev',\n",
       "  '2023-05-21 22:29:45.179035',\n",
       "  814,\n",
       "  0.01628)]"
      ]
     },
     "execution_count": 23,
     "metadata": {},
     "output_type": "execute_result"
    }
   ],
   "source": [
    "conn, c = tru.lms._connect()\n",
    "c.execute(\"select * from records\")\n",
    "rows = c.fetchall()\n",
    "tru.lms._close(conn)\n",
    "rows"
   ]
  },
  {
   "cell_type": "code",
   "execution_count": 25,
   "metadata": {},
   "outputs": [
    {
     "data": {
      "text/plain": [
       "[('feedback_hash_c479553ae6ae61dc58f9b9c1d609ca40',\n",
       "  '{\"selectors\": {\"text\": \"response\"}, \"imp_method_name\": \"not_toxic\", \"provider\": {\"class\": \"Huggingface\"}, \"feedback_id\": \"feedback_hash_c479553ae6ae61dc58f9b9c1d609ca40\"}'),\n",
       " ('feedback_hash_26c84c76d907d808c36028e024af63c0',\n",
       "  '{\"selectors\": {\"text1\": \"prompt\", \"text2\": \"response\"}, \"imp_method_name\": \"language_match\", \"provider\": {\"class\": \"Huggingface\"}, \"feedback_id\": \"feedback_hash_26c84c76d907d808c36028e024af63c0\"}'),\n",
       " ('feedback_hash_90b443be1347d732ededd19cd3968c72',\n",
       "  '{\"selectors\": {\"prompt\": \"input\", \"response\": \"output\"}, \"imp_method_name\": \"relevance\", \"provider\": {\"class\": \"OpenAI\", \"model_engine\": \"gpt-3.5-turbo\"}, \"feedback_id\": \"feedback_hash_90b443be1347d732ededd19cd3968c72\"}'),\n",
       " ('feedback_hash_b9475c84f84aee5e117ba7ec7aab7e25',\n",
       "  '{\"selectors\": {\"question\": \"input\", \"statement\": [\"_record\", \"chain\", \"combine_docs_chain\", \"_call\", \"args\", \"inputs\", \"input_documents\"]}, \"imp_method_name\": \"qs_relevance\", \"provider\": {\"class\": \"OpenAI\", \"model_engine\": \"gpt-3.5-turbo\"}, \"feedback_id\": \"feedback_hash_b9475c84f84aee5e117ba7ec7aab7e25\"}')]"
      ]
     },
     "execution_count": 25,
     "metadata": {},
     "output_type": "execute_result"
    }
   ],
   "source": [
    "conn, c = tru.lms._connect()\n",
    "c.execute(\"select * from feedback_defs\")\n",
    "rows = c.fetchall()\n",
    "tru.lms._close(conn)\n",
    "rows"
   ]
  },
  {
   "cell_type": "code",
   "execution_count": null,
   "metadata": {},
   "outputs": [],
   "source": []
  },
  {
   "cell_type": "code",
   "execution_count": 6,
   "metadata": {},
   "outputs": [],
   "source": [
    "from trulens_eval.provider_apis import Endpoint"
   ]
  },
  {
   "cell_type": "code",
   "execution_count": 7,
   "metadata": {},
   "outputs": [],
   "source": [
    "from langchain.callbacks import get_openai_callback\n",
    "from langchain.chains import ConversationalRetrievalChain\n",
    "from langchain.embeddings.openai import OpenAIEmbeddings\n",
    "from langchain.llms.base import BaseLLM\n",
    "from langchain.llms import OpenAI\n",
    "from langchain.memory import ConversationSummaryBufferMemory\n",
    "from langchain.vectorstores import Pinecone\n",
    "import pinecone\n",
    "\n",
    "from trulens_eval import tru\n",
    "from trulens_eval import tru_chain\n",
    "from trulens_eval.keys import *\n",
    "from trulens_eval.keys import PINECONE_API_KEY\n",
    "from trulens_eval.keys import PINECONE_ENV\n",
    "\n",
    "# Set up GPT-3 model\n",
    "model_name = \"gpt-3.5-turbo\"\n",
    "\n",
    "chain_id = \"TruBot_relevance\"\n",
    "\n",
    "# Pinecone configuration.\n",
    "pinecone.init(\n",
    "    api_key=PINECONE_API_KEY,  # find at app.pinecone.io\n",
    "    environment=PINECONE_ENV  # next to api key in console\n",
    ")\n",
    "\n",
    "identity = lambda h: h\n",
    "\n",
    "# Embedding needed for Pinecone vector db.\n",
    "embedding = OpenAIEmbeddings(model='text-embedding-ada-002')  # 1536 dims\n",
    "docsearch = Pinecone.from_existing_index(\n",
    "    index_name=\"llmdemo\", embedding=embedding\n",
    ")\n",
    "retriever = docsearch.as_retriever()\n",
    "\n",
    "# LLM for completing prompts, and other tasks.\n",
    "llm = OpenAI(temperature=0, max_tokens=128)\n",
    "\n",
    "# Conversation memory.\n",
    "memory = ConversationSummaryBufferMemory(\n",
    "    max_token_limit=650,\n",
    "    llm=llm,\n",
    "    memory_key=\"chat_history\",\n",
    "    output_key='answer'\n",
    ")\n",
    "\n",
    "# Conversational chain puts it all together.\n",
    "chain = ConversationalRetrievalChain.from_llm(\n",
    "    llm=llm,\n",
    "    retriever=retriever,\n",
    "    return_source_documents=True,\n",
    "    memory=memory,\n",
    "    get_chat_history=identity,\n",
    "    max_tokens_limit=4096\n",
    ")\n",
    "\n",
    "\"\"\"\n",
    "# Language mismatch fix:\n",
    "chain.combine_docs_chain.llm_chain.prompt.template = \\\n",
    "    \"Use the following pieces of context to answer the question at the end \" \\\n",
    "    \"in the same language as the question. If you don't know the answer, \" \\\n",
    "    \"just say that you don't know, don't try to make up an answer.\\n\\n\" \\\n",
    "    \"{context}\\n\\n\" \\\n",
    "    \"Question: {question}\\n\" \\\n",
    "    \"Helpful Answer: \"\n",
    "\"\"\"\n",
    "\n",
    "# Contexts fix\n",
    "chain.combine_docs_chain.llm_chain.prompt.template = \\\n",
    "    \"Use only the relevant contexts to answer the question at the end \" \\\n",
    "    \". Some pieces of context may not be relevant. If you don't know the answer, \" \\\n",
    "    \"just say that you don't know, don't try to make up an answer.\\n\\n\" \\\n",
    "    \"Contexts: \\n{context}\\n\\n\" \\\n",
    "    \"Question: {question}\\n\" \\\n",
    "    \"Helpful Answer: \"\n",
    "\n",
    "chain.combine_docs_chain.document_prompt.template=\"\\tContext: {page_content}\"\n",
    "\n",
    "# Trulens instrumentation."
   ]
  },
  {
   "cell_type": "code",
   "execution_count": 8,
   "metadata": {},
   "outputs": [
    {
     "data": {
      "application/vnd.jupyter.widget-view+json": {
       "model_id": "684706dae76c4df29cad29941adf80b7",
       "version_major": 2,
       "version_minor": 0
      },
      "text/plain": [
       "huggingface: 0request [00:00, ?request/s]"
      ]
     },
     "metadata": {},
     "output_type": "display_data"
    },
    {
     "data": {
      "application/vnd.jupyter.widget-view+json": {
       "model_id": "a813f9b12af342c990757aad481a7873",
       "version_major": 2,
       "version_minor": 0
      },
      "text/plain": [
       "openai: 0request [00:00, ?request/s]"
      ]
     },
     "metadata": {},
     "output_type": "display_data"
    }
   ],
   "source": [
    "hugs = tru_feedback.Huggingface()\n",
    "openai = tru_feedback.OpenAI()\n",
    "\n",
    "f_toxic = tru_feedback.Feedback(hugs.not_toxic).on_response()\n",
    "f_lang_match = tru_feedback.Feedback(hugs.language_match).on(text1=\"prompt\", text2=\"response\")\n",
    "f_relevance = tru_feedback.Feedback(openai.relevance).on(prompt=\"input\", response=\"output\")\n",
    "f_qs_relevance = tru_feedback.Feedback(openai.qs_relevance) \\\n",
    "    .on(question=\"input\", statement=Record.chain.combine_docs_chain._call.args.inputs.input_documents) \\\n",
    "    .on_multiple(multiarg=\"statement\", each_query=Query().page_content)\n",
    "\n",
    "# feedbacks = tru.run_feedback_functions(chain=tc, record=record, feedback_functions=[f_qs_relevance, f_toxic, f_lang_match, f_relevance])"
   ]
  },
  {
   "cell_type": "code",
   "execution_count": 17,
   "metadata": {},
   "outputs": [
    {
     "name": "stderr",
     "output_type": "stream",
     "text": [
      "WARNING:root:Will not be able to serialize object of type <class 'langchain.chains.conversational_retrieval.base.ConversationalRetrievalChain'> because it has memory.\n",
      "WARNING:root:Will not be able to serialize object of type <class 'langchain.chains.conversational_retrieval.base.BaseConversationalRetrievalChain'> because it has memory.\n",
      "WARNING:root:Will not be able to serialize object of type <class 'langchain.chains.base.Chain'> because it has memory.\n"
     ]
    }
   ],
   "source": [
    "tc = tru_chain.TruChain(\n",
    "    chain,\n",
    "    chain_id=chain_id,\n",
    "    feedbacks=[f_toxic, f_lang_match, f_relevance, f_qs_relevance],\n",
    "    db=tru.lms\n",
    ")"
   ]
  },
  {
   "cell_type": "code",
   "execution_count": 28,
   "metadata": {},
   "outputs": [
    {
     "name": "stdout",
     "output_type": "stream",
     "text": [
      "started async call\n"
     ]
    },
    {
     "name": "stdout",
     "output_type": "stream",
     "text": [
      "inserting feedback for future evaluation feedback_hash_c479553ae6ae61dc58f9b9c1d609ca40\n",
      "inserting feedback for future evaluation feedback_hash_26c84c76d907d808c36028e024af63c0\n",
      "inserting feedback for future evaluation feedback_hash_90b443be1347d732ededd19cd3968c72\n",
      "inserting feedback for future evaluation feedback_hash_b9475c84f84aee5e117ba7ec7aab7e25\n",
      "finished async call\n"
     ]
    }
   ],
   "source": [
    "res, record = tc.call_with_record(\"What is TruEra?\")"
   ]
  },
  {
   "cell_type": "code",
   "execution_count": null,
   "metadata": {},
   "outputs": [],
   "source": [
    "display(record)"
   ]
  },
  {
   "cell_type": "code",
   "execution_count": null,
   "metadata": {},
   "outputs": [],
   "source": [
    "tc.json"
   ]
  },
  {
   "cell_type": "code",
   "execution_count": null,
   "metadata": {},
   "outputs": [],
   "source": [
    "from trulens_eval.tru_feedback import Feedback"
   ]
  },
  {
   "cell_type": "code",
   "execution_count": null,
   "metadata": {},
   "outputs": [],
   "source": [
    "obj = f_qs_relevance.json\n",
    "display(obj)\n",
    "#display(Feedback.of_json(obj).to_json())\n"
   ]
  },
  {
   "cell_type": "code",
   "execution_count": null,
   "metadata": {},
   "outputs": [],
   "source": []
  },
  {
   "cell_type": "code",
   "execution_count": null,
   "metadata": {},
   "outputs": [],
   "source": []
  },
  {
   "cell_type": "code",
   "execution_count": null,
   "metadata": {},
   "outputs": [],
   "source": [
    "# from tinydb import Query\n",
    "from trulens_eval.tru_db import Query, Record"
   ]
  },
  {
   "cell_type": "markdown",
   "metadata": {},
   "source": []
  },
  {
   "cell_type": "code",
   "execution_count": null,
   "metadata": {},
   "outputs": [],
   "source": [
    "dir(Record)"
   ]
  },
  {
   "cell_type": "code",
   "execution_count": null,
   "metadata": {},
   "outputs": [],
   "source": [
    "feedbacks"
   ]
  },
  {
   "cell_type": "code",
   "execution_count": null,
   "metadata": {},
   "outputs": [],
   "source": [
    "for doc in TruDB.project(query=Record.chain.combine_docs_chain._call.args.inputs.input_documents, obj=record):\n",
    "    print(doc)\n",
    "    content = TruDB.project(query=Record.page_content, obj=doc)\n",
    "    print(content)"
   ]
  },
  {
   "cell_type": "code",
   "execution_count": null,
   "metadata": {},
   "outputs": [],
   "source": [
    "feedbacks"
   ]
  },
  {
   "cell_type": "code",
   "execution_count": null,
   "metadata": {},
   "outputs": [],
   "source": [
    "# e = Endpoint(name=\"openai\", rpm=120)\n",
    "# print(e.pace.qsize())"
   ]
  },
  {
   "cell_type": "code",
   "execution_count": null,
   "metadata": {},
   "outputs": [],
   "source": [
    "tru.endpoint_openai.tqdm.display()\n",
    "i = 0\n",
    "while True:\n",
    "    # print(e.pace.qsize())\n",
    "    tru.endpoint_openai.pace_me()\n",
    "    # print(i)\n",
    "    i+=1"
   ]
  },
  {
   "cell_type": "code",
   "execution_count": null,
   "metadata": {},
   "outputs": [],
   "source": []
  },
  {
   "cell_type": "code",
   "execution_count": null,
   "metadata": {},
   "outputs": [],
   "source": [
    "# tru_feedback.huggingface_language_match(prompt=\"Hello there?\", response=\"How are you?\")"
   ]
  },
  {
   "cell_type": "code",
   "execution_count": null,
   "metadata": {},
   "outputs": [],
   "source": [
    "# db = LocalTinyDB(\"slackbot.json\")\n",
    "#tru.init_db(\"slackbot.sql\")\n",
    "#db = LocalSQLite(\"slackbot.sql.db\")\n",
    "db = LocalSQLite()"
   ]
  },
  {
   "cell_type": "code",
   "execution_count": null,
   "metadata": {},
   "outputs": [],
   "source": [
    "df, dff = db.get_records_and_feedback(chain_ids=[])"
   ]
  },
  {
   "cell_type": "code",
   "execution_count": null,
   "metadata": {},
   "outputs": [],
   "source": [
    "df"
   ]
  },
  {
   "cell_type": "code",
   "execution_count": null,
   "metadata": {},
   "outputs": [],
   "source": [
    "from pprint import PrettyPrinter\n",
    "pp = PrettyPrinter(compact=True)\n",
    "\n",
    "for i, row in df.iterrows():\n",
    "    \n",
    "    display(widgets.HTML(f\"<b>Question:</b> {row.input}\"))\n",
    "    \n",
    "    display(widgets.HTML(f\"<b>Answer:</b> {row.output}\"))\n",
    "    \n",
    "    details = json.loads(eval(row.details))\n",
    "\n",
    "    display(widgets.HTML(str(details['chain']['combine_docs_chain']['llm_chain']['prompt']['template'])))\n",
    "    \n",
    "    for doc in details['chain']['combine_docs_chain']['_call']['args']['inputs']['input_documents']:\n",
    "        display(widgets.HTML(f\"\"\"\n",
    "        <div style=\"border: 1px solid black; padding: 5px;\">\n",
    "        <b>Context chunk</b>: {doc['page_content']}\n",
    "        \"\"\"))\n",
    "\n",
    "        \"\"\"<br/>\n",
    "\n",
    "        <b>source</b>: {doc['metadata']['source']}\n",
    "        </div>\"\"\"\n",
    "\n",
    "    print()\n"
   ]
  },
  {
   "cell_type": "code",
   "execution_count": null,
   "metadata": {},
   "outputs": [],
   "source": [
    "df = db.select(\n",
    "    Record,\n",
    "    Record.record_id,\n",
    "    Record.chain_id,\n",
    "    Record.chain._call.args.inputs.question,\n",
    "    Record.chain._call.rets.answer)"
   ]
  },
  {
   "cell_type": "code",
   "execution_count": null,
   "metadata": {},
   "outputs": [],
   "source": [
    "df"
   ]
  },
  {
   "cell_type": "code",
   "execution_count": null,
   "metadata": {},
   "outputs": [],
   "source": [
    "for row_id, row in df.iterrows():\n",
    "    record_id = row.record_id\n",
    "    chain_id = row.chain_id\n",
    "\n",
    "    main_question = row['Record.chain._call.args.inputs.question']\n",
    "    main_answer = row['Record.chain._call.rets.answer']\n",
    "\n",
    "    print(chain_id, record_id, main_question)\n",
    "    \"\"\"\n",
    "    \n",
    "    print(question, answer)\n",
    "\n",
    "    # Run feedback function and get value\n",
    "\n",
    "    feedback = tru.run_feedback_function(\n",
    "        main_question, main_answer, [\n",
    "            tru_feedback.get_not_hate_function(\n",
    "                evaluation_choice='prompt',\n",
    "                provider='openai',\n",
    "                model_engine='moderation'\n",
    "            ),\n",
    "            tru_feedback.get_sentimentpositive_function(\n",
    "                evaluation_choice='response',\n",
    "                provider='openai',\n",
    "                model_engine='gpt-3.5-turbo'\n",
    "            ),\n",
    "            tru_feedback.get_relevance_function(\n",
    "                evaluation_choice='both',\n",
    "                provider='openai',\n",
    "                model_engine='gpt-3.5-turbo'\n",
    "            )\n",
    "        ]\n",
    "    )\n",
    "    print(f\"will insert overall feedback for chain {chain_id}, record {record_id}\")\n",
    "    db.insert_feedback(record_id=record_id, chain_id=chain_id, feedback=feedback)\n",
    "    \"\"\"\n",
    "    \n",
    "    # display(JSON(row.Record))\n",
    "    # print(row.Record['chain'])\n",
    "\n",
    "    model_name = \"gpt-3.5-turbo\"\n",
    "\n",
    "    \"\"\"\n",
    "    for page in TruDB.project(query=Record.chain.combine_docs_chain._call.args.inputs.input_documents, obj=row.Record):\n",
    "        answer = page['page_content']\n",
    "        feedback = tru.run_feedback_function(\n",
    "            main_question,\n",
    "            answer,\n",
    "\t        [\n",
    "            tru_feedback.get_qs_relevance_function(\n",
    "                evaluation_choice='prompt',\n",
    "                provider='openai',\n",
    "                model_engine=model_name\n",
    "            )]\n",
    "        )\n",
    "        db.insert_feedback(record_id=record_id, chain_id=chain_id, feedback=feedback)\n",
    "\n",
    "    \"\"\"\n",
    "\n",
    "    feedback = tru.run_feedback_function(\n",
    "        main_question, main_answer, [\n",
    "            tru_feedback.get_language_match_function(\n",
    "                provider='huggingface'\n",
    "            )\n",
    "        ]\n",
    "    )\n",
    "    print(f\"will insert language match feedback for chain {chain_id}, record {record_id}\")\n",
    "    db.insert_feedback(record_id=record_id, chain_id=chain_id, feedback=feedback)\n",
    "\n",
    "    # feedback = tru.run_feedback_function(\n",
    "\n",
    "    #for leaf in TruDB.leafs(row.Record):\n",
    "    #    print(leaf)\n"
   ]
  },
  {
   "cell_type": "code",
   "execution_count": null,
   "metadata": {},
   "outputs": [],
   "source": [
    "row.record_id"
   ]
  },
  {
   "cell_type": "code",
   "execution_count": null,
   "metadata": {},
   "outputs": [],
   "source": [
    "feedback = {'openai_hate_function': 1.849137515819166e-05,\n",
    " 'openai_sentimentpositive_feedback_function': 1,\n",
    " 'openai_relevance_function': 10}"
   ]
  },
  {
   "cell_type": "code",
   "execution_count": null,
   "metadata": {},
   "outputs": [],
   "source": [
    "db.insert_feedback(2, feedback)"
   ]
  },
  {
   "cell_type": "code",
   "execution_count": null,
   "metadata": {},
   "outputs": [],
   "source": [
    "db.select(Record, table=db.feedbacks)"
   ]
  },
  {
   "cell_type": "code",
   "execution_count": null,
   "metadata": {},
   "outputs": [],
   "source": [
    "model_name = \"gpt-3.5-turbo\"\n",
    "feedback = tru.run_feedback_function(\n",
    "    \"Who is Piotr?\",\n",
    "    \"Piotr Mardziel works on transparency and accountability in machine learning with applications to security, privacy, and fairness. He holds Bachelor’s and Master’s degrees from the Worcester Polytechnic Institute and a PhD in computer science from University of Maryland, College Park. He has conducted post-doctoral research at Carnegie Mellon University, as well as taught classes in trustworthy machine learning at Stanford University and machine learning privacy and security at Carnegie Mellon University.\",\n",
    "\t [\n",
    "        tru_feedback.get_qs_relevance_function(\n",
    "            evaluation_choice='prompt',\n",
    "            provider='openai',\n",
    "            model_engine=model_name\n",
    "        )])"
   ]
  },
  {
   "cell_type": "code",
   "execution_count": null,
   "metadata": {},
   "outputs": [],
   "source": [
    "feedback"
   ]
  },
  {
   "attachments": {},
   "cell_type": "markdown",
   "metadata": {},
   "source": []
  }
 ],
 "metadata": {
  "kernelspec": {
   "display_name": "demo3",
   "language": "python",
   "name": "python3"
  },
  "language_info": {
   "codemirror_mode": {
    "name": "ipython",
    "version": 3
   },
   "file_extension": ".py",
   "mimetype": "text/x-python",
   "name": "python",
   "nbconvert_exporter": "python",
   "pygments_lexer": "ipython3",
   "version": "3.10.6"
  },
  "orig_nbformat": 4
 },
 "nbformat": 4,
 "nbformat_minor": 2
}
