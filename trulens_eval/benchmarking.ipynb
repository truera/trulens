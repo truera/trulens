{
 "cells": [
  {
   "cell_type": "code",
   "execution_count": null,
   "metadata": {},
   "outputs": [],
   "source": [
    "from keys import *\n",
    "import benchmark\n",
    "import pandas as pd\n",
    "import openai\n",
    "openai.api_key = OPENAI_API_KEY\n",
    "\n",
    "import feedback"
   ]
  },
  {
   "cell_type": "code",
   "execution_count": null,
   "metadata": {},
   "outputs": [],
   "source": [
    "imdb = benchmark.load_data('imdb (binary sentiment)')\n",
    "imdb25 = benchmark.sample_data(imdb, 25)"
   ]
  },
  {
   "cell_type": "code",
   "execution_count": null,
   "metadata": {},
   "outputs": [],
   "source": [
    "positive_sentiment_benchmarked = benchmark.rate_limited_benchmark_on_data(imdb25, 'sentiment-positive', rate_limit = 10, evaluation_choice=\"response\", provider=\"openai\", model_engine=\"gpt-3.5-turbo\")"
   ]
  }
 ],
 "metadata": {
  "kernelspec": {
   "display_name": "Python 3.9.16 ('tru_llm')",
   "language": "python",
   "name": "python3"
  },
  "language_info": {
   "codemirror_mode": {
    "name": "ipython",
    "version": 3
   },
   "file_extension": ".py",
   "mimetype": "text/x-python",
   "name": "python",
   "nbconvert_exporter": "python",
   "pygments_lexer": "ipython3",
   "version": "3.9.16"
  },
  "orig_nbformat": 4,
  "vscode": {
   "interpreter": {
    "hash": "d21f7c0bcad57942e36e4792dcf2729b091974a5bb8779ce77766f08b1284f72"
   }
  }
 },
 "nbformat": 4,
 "nbformat_minor": 2
}
