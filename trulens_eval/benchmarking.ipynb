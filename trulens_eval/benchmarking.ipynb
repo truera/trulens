{
 "cells": [
  {
   "cell_type": "code",
   "execution_count": 1,
   "metadata": {},
   "outputs": [
    {
     "name": "stdout",
     "output_type": "stream",
     "text": [
      "got OPENAI_API_KEY\n",
      "got COHERE_API_KEY\n",
      "got KAGGLE_USERNAME\n",
      "got KAGGLE_KEY\n",
      "got HUGGINGFACE_API_KEY\n",
      "got HUGGINGFACE_HEADERS\n"
     ]
    },
    {
     "name": "stderr",
     "output_type": "stream",
     "text": [
      "/Users/jreini/opt/anaconda3/envs/tru_llm/lib/python3.9/site-packages/tqdm/auto.py:21: TqdmWarning: IProgress not found. Please update jupyter and ipywidgets. See https://ipywidgets.readthedocs.io/en/stable/user_install.html\n",
      "  from .autonotebook import tqdm as notebook_tqdm\n"
     ]
    }
   ],
   "source": [
    "from keys import *\n",
    "import benchmark\n",
    "import pandas as pd\n",
    "import openai\n",
    "openai.api_key = OPENAI_API_KEY\n",
    "\n",
    "import feedback"
   ]
  },
  {
   "cell_type": "code",
   "execution_count": 2,
   "metadata": {},
   "outputs": [
    {
     "name": "stderr",
     "output_type": "stream",
     "text": [
      "Found cached dataset imdb (/Users/jreini/.cache/huggingface/datasets/imdb/plain_text/1.0.0/d613c88cf8fa3bab83b4ded3713f1f74830d1100e171db75bbddb80b3345c9c0)\n",
      "100%|██████████| 3/3 [00:00<00:00, 105.44it/s]\n"
     ]
    }
   ],
   "source": [
    "imdb = benchmark.load_data('imdb (binary sentiment)')\n",
    "imdb25 = benchmark.sample_data(imdb, 25)"
   ]
  },
  {
   "cell_type": "code",
   "execution_count": 3,
   "metadata": {},
   "outputs": [],
   "source": [
    "positive_sentiment_benchmarked = benchmark.rate_limited_benchmark_on_data(imdb25, 'sentiment-positive', rate_limit = 10, evaluation_choice=\"response\", provider=\"openai\", model_engine=\"gpt-3.5-turbo\")"
   ]
  }
 ],
 "metadata": {
  "kernelspec": {
   "display_name": "Python 3.9.16 ('tru_llm')",
   "language": "python",
   "name": "python3"
  },
  "language_info": {
   "codemirror_mode": {
    "name": "ipython",
    "version": 3
   },
   "file_extension": ".py",
   "mimetype": "text/x-python",
   "name": "python",
   "nbconvert_exporter": "python",
   "pygments_lexer": "ipython3",
   "version": "3.9.16"
  },
  "orig_nbformat": 4,
  "vscode": {
   "interpreter": {
    "hash": "d21f7c0bcad57942e36e4792dcf2729b091974a5bb8779ce77766f08b1284f72"
   }
  }
 },
 "nbformat": 4,
 "nbformat_minor": 2
}
