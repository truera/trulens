{
 "cells": [
  {
   "cell_type": "markdown",
   "id": "d0c7a6d4",
   "metadata": {},
   "source": [
    "# Google Vertex\n",
    "\n",
    "In this quickstart you will learn how to run evaluation functions using models from google Vertex.\n",
    "\n",
    "[![Open In Colab](https://colab.research.google.com/assets/colab-badge.svg)]()"
   ]
  },
  {
   "cell_type": "code",
   "execution_count": null,
   "id": "0a9c8ad2",
   "metadata": {},
   "outputs": [],
   "source": [
    "# !pip install trulens trulens-providers-google"
   ]
  },
  {
   "cell_type": "code",
   "execution_count": null,
   "id": "a264db63",
   "metadata": {},
   "outputs": [],
   "source": [
    "from google import genai\n",
    "\n",
    "PROJECT_ID = \"gemini-experiments-467318\"  # 👈 Replace with your real project ID if different\n",
    "LOCATION = \"us-central1\"\n",
    "\n",
    "vertex_client = genai.Client(\n",
    "    vertexai=True, project=PROJECT_ID, location=LOCATION\n",
    ")"
   ]
  },
  {
   "cell_type": "code",
   "execution_count": null,
   "id": "e3a79f2f",
   "metadata": {},
   "outputs": [],
   "source": [
    "response = vertex_client.models.generate_content(\n",
    "    model=\"gemini-2.0-flash\",\n",
    "    contents=\"Tell me about trulens in a few words\",\n",
    ")\n",
    "print(response.text)"
   ]
  },
  {
   "cell_type": "markdown",
   "id": "d1383517",
   "metadata": {},
   "source": [
    "### Create Simple LLM Application"
   ]
  },
  {
   "cell_type": "code",
   "execution_count": null,
   "id": "129fe4e9",
   "metadata": {},
   "outputs": [],
   "source": [
    "from trulens.apps.app import instrument\n",
    "from trulens.core import TruSession\n",
    "\n",
    "\n",
    "session = TruSession()\n",
    "session.reset_database()"
   ]
  },
  {
   "cell_type": "code",
   "execution_count": null,
   "id": "919dab0a",
   "metadata": {},
   "outputs": [],
   "source": [
    "class PromptProcessor:\n",
    "    @instrument\n",
    "    def generate_completion(self, user_prompt:str) -> str:\n",
    "        \"\"\"\n",
    "        Generate answer from context.\n",
    "        \"\"\"\n",
    "        prompt = f\"\"\"Provide a helpful response with relevant background information for the following: {user_prompt}\"\"\"\n",
    "\n",
    "        resp = vertex_client.models.generate_content(\n",
    "            model=\"gemini-2.0-flash\",\n",
    "            contents=prompt,\n",
    "        )\n",
    "\n",
    "        return resp.text\n",
    "\n",
    "\n",
    "simple_application = PromptProcessor()"
   ]
  },
  {
   "cell_type": "markdown",
   "id": "3415cdfc",
   "metadata": {},
   "source": [
    "## Initialize Feedback Function(s)"
   ]
  },
  {
   "cell_type": "code",
   "execution_count": null,
   "id": "d5e88a9e",
   "metadata": {},
   "outputs": [],
   "source": [
    "from trulens.core import Feedback\n",
    "from trulens.providers.google import Google\n",
    "\n",
    "google_vertex_client = Google(vertexai=True, project=PROJECT_ID, location=LOCATION)\n",
    "relevance = Feedback(google_vertex_client.relevance).on_input_output()\n",
    "# By default this will check relevance on the main app input and main app\n",
    "# output."
   ]
  },
  {
   "cell_type": "markdown",
   "id": "172c8f27",
   "metadata": {},
   "source": [
    "## Construct the app\n",
    "\n",
    "Wrap the custom application with `TruApp`, add list of feedbacks for eval"
   ]
  },
  {
   "cell_type": "code",
   "execution_count": null,
   "id": "8face0d9",
   "metadata": {},
   "outputs": [],
   "source": [
    "from trulens.apps.app import TruApp\n",
    "\n",
    "tru_app = TruApp(\n",
    "    simple_application,\n",
    "    app_name=\"RAG\",\n",
    "    app_version=\"v1\",\n",
    "    feedbacks=[\n",
    "        relevance\n",
    "    ],\n",
    ")"
   ]
  },
  {
   "cell_type": "markdown",
   "id": "f735e1b1",
   "metadata": {},
   "source": [
    "## Run the app\n",
    "\n",
    "Use `tru_app` as a context manager for the custom PromptProcessor app."
   ]
  },
  {
   "cell_type": "code",
   "execution_count": null,
   "id": "bb6f08b2",
   "metadata": {},
   "outputs": [],
   "source": [
    "with tru_app as recording:\n",
    "    resp = simple_application.generate_completion(\"What is a good name for a store that sells colorful socks?\")"
   ]
  },
  {
   "cell_type": "code",
   "execution_count": null,
   "id": "70f26ea9",
   "metadata": {},
   "outputs": [],
   "source": [
    "print(resp)"
   ]
  },
  {
   "cell_type": "markdown",
   "id": "6cd3f6d0",
   "metadata": {},
   "source": [
    "## Explore in a Dashboard"
   ]
  },
  {
   "cell_type": "code",
   "execution_count": null,
   "id": "5abbecae",
   "metadata": {},
   "outputs": [],
   "source": [
    "from trulens.dashboard import run_dashboard\n",
    "\n",
    "run_dashboard(session)"
   ]
  }
 ],
 "metadata": {
  "kernelspec": {
   "display_name": "temp",
   "language": "python",
   "name": "python3"
  },
  "language_info": {
   "codemirror_mode": {
    "name": "ipython",
    "version": 3
   },
   "file_extension": ".py",
   "mimetype": "text/x-python",
   "name": "python",
   "nbconvert_exporter": "python",
   "pygments_lexer": "ipython3"
  }
 },
 "nbformat": 4,
 "nbformat_minor": 5
}
