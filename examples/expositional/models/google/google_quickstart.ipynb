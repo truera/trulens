{
 "cells": [
  {
   "cell_type": "markdown",
   "id": "af53c38e",
   "metadata": {},
   "source": [
    "# Google Quickstart\n",
    "\n",
    "In this quickstart, you will learn to build and evaluate a RAG (Retrieval-Augmented Generation) application using Google's powerful Gemini models, with a focus on getting started quickly in Google AI Studio.\n",
    "\n",
    "Building and evaluating RAG applications with Google Gemini gives you access to a suite of state-of-the-art, multi-modal models.\n",
    "\n",
    "In this example, we will use Gemini models for embedding, generation, and as the LLM judge to power TruLens feedback functions. You can start building immediately in Google AI Studio with just a Google account.\n",
    "\n",
    "[![Open In Colab](https://colab.research.google.com/assets/colab-badge.svg)]()"
   ]
  },
  {
   "cell_type": "code",
   "execution_count": null,
   "id": "a9b93d7c",
   "metadata": {},
   "outputs": [],
   "source": [
    "# !pip install trulens trulens-providers-google chromadb"
   ]
  },
  {
   "cell_type": "code",
   "execution_count": null,
   "id": "02ff8d00",
   "metadata": {},
   "outputs": [],
   "source": [
    "import os\n",
    "\n",
    "os.environ[\"GOOGLE_API_KEY\"] = \"sk-...\""
   ]
  },
  {
   "cell_type": "markdown",
   "id": "89958787",
   "metadata": {},
   "source": [
    "## Get Data\n",
    "\n",
    "In this case, we'll just initialize some simple text in the notebook."
   ]
  },
  {
   "cell_type": "code",
   "execution_count": null,
   "id": "12b98ee5",
   "metadata": {},
   "outputs": [],
   "source": [
    "university_info = \"\"\"\n",
    "The University of Washington, founded in 1861 in Seattle, is a public research university\n",
    "with over 45,000 students across three campuses in Seattle, Tacoma, and Bothell.\n",
    "As the flagship institution of the six public universities in Washington state,\n",
    "UW encompasses over 500 buildings and 20 million square feet of space,\n",
    "including one of the largest library systems in the world.\n",
    "\"\"\""
   ]
  },
  {
   "cell_type": "code",
   "execution_count": null,
   "id": "a50c2a7c",
   "metadata": {},
   "outputs": [],
   "source": [
    "import chromadb\n",
    "\n",
    "chroma_client = chromadb.Client()\n",
    "vector_store = chroma_client.get_or_create_collection(name=\"Universities\")"
   ]
  },
  {
   "cell_type": "code",
   "execution_count": null,
   "id": "ecaca966",
   "metadata": {},
   "outputs": [],
   "source": [
    "from google import genai\n",
    "\n",
    "\n",
    "google_client = genai.Client()\n",
    "\n",
    "document_embeddings = google_client.models.embed_content(model=\"gemini-embedding-001\",\n",
    "        contents= university_info).embeddings"
   ]
  },
  {
   "cell_type": "code",
   "execution_count": null,
   "id": "ec7bd8e8",
   "metadata": {},
   "outputs": [],
   "source": [
    "vector_store.add(\n",
    "    \"uni_info\", documents=university_info, embeddings=document_embeddings[0].values\n",
    ")"
   ]
  },
  {
   "cell_type": "markdown",
   "id": "e1cb63fb",
   "metadata": {},
   "source": [
    "## Build RAG from scratch\n",
    "\n",
    "Build a custom RAG from scratch, and add TruLens custom instrumentation."
   ]
  },
  {
   "cell_type": "code",
   "execution_count": null,
   "id": "7d93e390",
   "metadata": {},
   "outputs": [],
   "source": [
    "from trulens.apps.app import instrument\n",
    "from trulens.core import TruSession\n",
    "\n",
    "\n",
    "session = TruSession()\n",
    "session.reset_database()"
   ]
  },
  {
   "cell_type": "code",
   "execution_count": null,
   "id": "bb9cca7d",
   "metadata": {},
   "outputs": [],
   "source": [
    "class RAG_from_scratch:\n",
    "    @instrument\n",
    "    def retrieve(self, query: str) -> list:\n",
    "        \"\"\"\n",
    "        Retrieve relevant text from vector store.\n",
    "        \"\"\"\n",
    "        results = vector_store.query(\n",
    "            query_embeddings=google_client.models.embed_content(\n",
    "                model=\"gemini-embedding-001\", contents=query\n",
    "            )\n",
    "            .embeddings[0]\n",
    "            .values,\n",
    "            n_results=2,\n",
    "        )\n",
    "        return results[\"documents\"]\n",
    "\n",
    "    @instrument\n",
    "    def generate_completion(self, query: str, context_str: list) -> str:\n",
    "        \"\"\"\n",
    "        Generate answer from context.\n",
    "        \"\"\"\n",
    "        prompt = f\"\"\"\n",
    "         We have provided context information below. \n",
    "            {context_str}\n",
    "            Given this information, please answer the question: {query}\n",
    "        \"\"\"\n",
    "        resp = google_client.models.generate_content(\n",
    "            model=\"gemini-2.5-flash\", contents=prompt\n",
    "        )\n",
    "\n",
    "        return resp.text if resp else \"\"\n",
    "\n",
    "    @instrument\n",
    "    def query(self, query: str) -> str:\n",
    "        context_str = self.retrieve(query)\n",
    "        completion = self.generate_completion(query, context_str)\n",
    "        return completion\n",
    "\n",
    "\n",
    "rag = RAG_from_scratch()"
   ]
  },
  {
   "cell_type": "markdown",
   "id": "a0f04f0d",
   "metadata": {},
   "source": [
    "## Set up feedback functions.\n",
    "\n",
    "Here we'll use groundedness, answer relevance and context relevance to detect hallucination."
   ]
  },
  {
   "cell_type": "code",
   "execution_count": null,
   "id": "ea61331d",
   "metadata": {},
   "outputs": [],
   "source": [
    "import numpy as np\n",
    "from trulens.core import Feedback\n",
    "from trulens.core import Select\n",
    "from trulens.providers.google import Google\n",
    "\n",
    "provider = Google()\n",
    "\n",
    "# Define a groundedness feedback function\n",
    "f_groundedness = (\n",
    "    Feedback(\n",
    "        provider.groundedness_measure_with_cot_reasons, name=\"Groundedness\"\n",
    "    )\n",
    "    .on(Select.RecordCalls.retrieve.rets.collect())\n",
    "    .on_output()\n",
    ")\n",
    "\n",
    "# Question/answer relevance between overall question and answer.\n",
    "f_answer_relevance = (\n",
    "    Feedback(provider.relevance_with_cot_reasons, name=\"Answer Relevance\")\n",
    "    .on(Select.RecordCalls.retrieve.args.query)\n",
    "    .on_output()\n",
    ")\n",
    "\n",
    "# Question/statement relevance between question and each context chunk.\n",
    "f_context_relevance = (\n",
    "    Feedback(\n",
    "        provider.context_relevance_with_cot_reasons, name=\"Context Relevance\"\n",
    "    )\n",
    "    .on(Select.RecordCalls.retrieve.args.query)\n",
    "    .on(Select.RecordCalls.retrieve.rets.collect())\n",
    "    .aggregate(np.mean)\n",
    ")\n",
    "                      \n",
    "f_coherence = Feedback(\n",
    "    provider.coherence_with_cot_reasons, name=\"coherence\"\n",
    ").on_output()"
   ]
  },
  {
   "cell_type": "markdown",
   "id": "9ca4759c",
   "metadata": {},
   "source": [
    "## Construct the app\n",
    "\n",
    "Wrap the custom RAG with `TruApp`, add list of feedbacks for eval"
   ]
  },
  {
   "cell_type": "code",
   "execution_count": null,
   "id": "6ace8078",
   "metadata": {},
   "outputs": [],
   "source": [
    "from trulens.apps.app import TruApp\n",
    "\n",
    "tru_rag = TruApp(\n",
    "    rag,\n",
    "    app_name=\"RAG\",\n",
    "    app_version=\"v1\",\n",
    "    feedbacks=[\n",
    "        f_groundedness,\n",
    "        f_answer_relevance,\n",
    "        f_context_relevance,\n",
    "        f_coherence,\n",
    "    ],\n",
    ")"
   ]
  },
  {
   "cell_type": "markdown",
   "id": "77d07b31",
   "metadata": {},
   "source": [
    "## Run the app\n",
    "\n",
    "Use `tru_rag` as a context manager for the custom RAG-from-scratch app."
   ]
  },
  {
   "cell_type": "code",
   "execution_count": null,
   "id": "c6dcb3dd",
   "metadata": {},
   "outputs": [],
   "source": [
    "with tru_rag as recording:\n",
    "    resp = rag.query(\"When is University of Washington founded?\")"
   ]
  },
  {
   "cell_type": "code",
   "execution_count": null,
   "id": "a43b9a7e",
   "metadata": {},
   "outputs": [],
   "source": [
    "resp"
   ]
  },
  {
   "cell_type": "code",
   "execution_count": null,
   "id": "fc55de48",
   "metadata": {},
   "outputs": [],
   "source": [
    "session.get_leaderboard(app_ids=[])"
   ]
  },
  {
   "cell_type": "code",
   "execution_count": null,
   "id": "d94fa7f1",
   "metadata": {},
   "outputs": [],
   "source": [
    "from trulens.dashboard import run_dashboard\n",
    "\n",
    "run_dashboard(session)"
   ]
  }
 ],
 "metadata": {
  "kernelspec": {
   "display_name": "temp",
   "language": "python",
   "name": "python3"
  },
  "language_info": {
   "codemirror_mode": {
    "name": "ipython",
    "version": 3
   },
   "file_extension": ".py",
   "mimetype": "text/x-python",
   "name": "python",
   "nbconvert_exporter": "python",
   "pygments_lexer": "ipython3"
  }
 },
 "nbformat": 4,
 "nbformat_minor": 5
}
