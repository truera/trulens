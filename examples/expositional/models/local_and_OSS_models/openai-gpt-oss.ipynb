{
 "cells": [
  {
   "cell_type": "markdown",
   "id": "39d1dfc6",
   "metadata": {},
   "source": [
    "# OpenAI OSS Models as Judge with TruLens\n",
    "\n",
    "Evaluation is a key component for using TruLens, useful for assessing the quality of AI apps and increasingly AI agents.\n",
    "\n",
    "This presents a competing set of requirements for many developers looking to build and assess the quality of agents.\n",
    "\n",
    "1. We need powerful, reliable LLMs to assess the performance of increasingly complex tasks.\n",
    "2. The models used for evaluation should not be cost prohibitive (as the token requirements are large).\n",
    "3. In many situations, the models themselves need to be runnable on local hardware (rather than via an API)\n",
    "\n",
    "To meet these requirements, we often have to choose between large, proprietary models and smaller, open ones.\n",
    "\n",
    "OpenAI's release of GPT-OSS models (20B and 120B) are an important advancement to adress these competing requirements offering highly performant reasoning at a competitive price, runnable on local hardware.\n",
    "\n",
    "TruLens offers day-0 support of these models, allowing you to evaluate your AI agents with powerful OSS models like the GPT-OSS series.\n",
    "\n",
    "[![Open In Colab](https://colab.research.google.com/assets/colab-badge.svg)](https://colab.research.google.com/github/truera/trulens/blob/main/examples/expositional/models/local_and_OSS_models/openai-gpt-oss.ipynb)"
   ]
  },
  {
   "cell_type": "markdown",
   "id": "ca7a2838",
   "metadata": {},
   "source": [
    "## Consider a challenging groundedness evaluation"
   ]
  },
  {
   "cell_type": "code",
   "execution_count": null,
   "id": "7ae64df3",
   "metadata": {},
   "outputs": [],
   "source": [
    "source_text = \"\"\"\n",
    "Clinical decision support (CDS) software that provides recommendations based on AI algorithms may be \n",
    "considered a medical device if it is intended to inform clinical management. \n",
    "However, for such software to be exempt from regulation, it must allow healthcare professionals to \n",
    "independently review the basis of its recommendations. The FDA does not endorse any software that acts \n",
    "as a substitute for clinical judgment or is used as the sole basis for treatment decisions.\n",
    "\"\"\""
   ]
  },
  {
   "cell_type": "code",
   "execution_count": null,
   "id": "59fd69a3",
   "metadata": {},
   "outputs": [],
   "source": [
    "claim_hallucination = \"The FDA’s 2023 guidance explicitly states that AI-generated diagnoses may be used as a sole basis for treatment decisions in clinical settings.\"\n",
    "\n",
    "claim_grounded = \"According to the FDA, clinical decision support software must enable healthcare professionals to independently review how recommendations are made, in order to be exempt from regulation.\""
   ]
  },
  {
   "cell_type": "markdown",
   "id": "80e782be",
   "metadata": {},
   "source": [
    "## Evaluate using the TruLens _LiteLLM_ provider & _Ollama_\n",
    "\n",
    "To use, first you need to [download ollama](https://ollama.com/download).\n",
    "\n",
    "Then, run `ollama run gpt-oss`.\n",
    "\n",
    "Once the model is pulled, you can use it in TruLens!"
   ]
  },
  {
   "cell_type": "code",
   "execution_count": null,
   "id": "77f83b0f",
   "metadata": {},
   "outputs": [],
   "source": [
    "from trulens.providers.litellm import LiteLLM\n",
    "\n",
    "ollama_provider = LiteLLM(\n",
    "    model_engine=\"ollama/gpt-oss\", api_base=\"http://localhost:11434\"\n",
    ")"
   ]
  },
  {
   "cell_type": "code",
   "execution_count": null,
   "id": "d40cdc10",
   "metadata": {},
   "outputs": [],
   "source": [
    "ollama_provider.groundedness_measure_with_cot_reasons(source_text, claim_hallucination)"
   ]
  },
  {
   "cell_type": "code",
   "execution_count": null,
   "id": "1f415c21",
   "metadata": {},
   "outputs": [],
   "source": [
    "ollama_provider.groundedness_measure_with_cot_reasons(source_text, claim_grounded)"
   ]
  }
 ],
 "metadata": {
  "kernelspec": {
   "display_name": "dlai_course",
   "language": "python",
   "name": "python3"
  },
  "language_info": {
   "codemirror_mode": {
    "name": "ipython",
    "version": 3
   },
   "file_extension": ".py",
   "mimetype": "text/x-python",
   "name": "python",
   "nbconvert_exporter": "python",
   "pygments_lexer": "ipython3"
  }
 },
 "nbformat": 4,
 "nbformat_minor": 5
}
