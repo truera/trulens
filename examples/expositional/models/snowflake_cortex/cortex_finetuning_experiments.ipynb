{
 "cells": [
  {
   "cell_type": "markdown",
   "metadata": {},
   "source": [
    "# Cortex Finetuning Experiments\n",
    "\n",
    "This notebook takes you through evaluating a series of "
   ]
  },
  {
   "cell_type": "code",
   "execution_count": null,
   "metadata": {},
   "outputs": [],
   "source": [
    "from snowflake.snowpark import Session\n",
    "\n",
    "connection_params = {\n",
    "    \"account\": \"...\",\n",
    "    \"user\": \"...\",\n",
    "    \"password\": \"...\",\n",
    "    \"role\": \"...\",\n",
    "    \"database\": \"...\",\n",
    "    \"schema\": \"...\",\n",
    "    \"warehouse\": \"...\",\n",
    "}\n",
    "\n",
    "# Create a Snowflake session\n",
    "session = Session.builder.configs(connection_params).create()"
   ]
  },
  {
   "cell_type": "code",
   "execution_count": null,
   "metadata": {},
   "outputs": [],
   "source": [
    "from trulens.core import TruSession\n",
    "\n",
    "session = TruSession()"
   ]
  },
  {
   "cell_type": "code",
   "execution_count": null,
   "metadata": {},
   "outputs": [],
   "source": [
    "from trulens.dashboard import run_dashboard\n",
    "\n",
    "run_dashboard(session)"
   ]
  },
  {
   "cell_type": "code",
   "execution_count": null,
   "metadata": {},
   "outputs": [],
   "source": [
    "from snowflake.cortex import Complete\n",
    "from trulens.apps.custom import instrument\n",
    "\n",
    "\n",
    "class Support_Ticket_Classifier:\n",
    "    @instrument\n",
    "    def classify_ticket(self, ticket):\n",
    "        instruction_prompt = \"\"\"\n",
    "        You are an agent that helps organize requests that come to our support team. \n",
    "\n",
    "        The request category is the reason why the customer reached out. These are the possible types of request categories:\n",
    "\n",
    "        Roaming fees\n",
    "        Slow data speed\n",
    "        Lost phone\n",
    "        Add new line\n",
    "        Closing account\n",
    "\n",
    "        Try doing it for this request and return only the request category only.\n",
    "        \n",
    "        \"\"\"\n",
    "        rendered_prompt = instruction_prompt + ticket\n",
    "        label = Complete(\"mistral-7b\", rendered_prompt)\n",
    "        return label"
   ]
  },
  {
   "cell_type": "code",
   "execution_count": null,
   "metadata": {},
   "outputs": [],
   "source": [
    "stc = Support_Ticket_Classifier()\n",
    "\n",
    "stc.classify_ticket(\"I am having trouble with my phone. It is not working properly.\")"
   ]
  },
  {
   "cell_type": "code",
   "execution_count": null,
   "metadata": {},
   "outputs": [],
   "source": [
    "from trulens.apps.custom import TruCustomApp\n",
    "\n",
    "tru_recorder_support_ticket_classifier_mistral_7b = TruCustomApp(\n",
    "    stc,\n",
    "    app_name=\"Support Ticket Classifier\",\n",
    "    app_version=\"mistral 7b\",\n",
    ")"
   ]
  },
  {
   "cell_type": "code",
   "execution_count": null,
   "metadata": {},
   "outputs": [],
   "source": [
    "with tru_recorder_support_ticket_classifier_mistral_7b:\n",
    "    stc.classify_ticket(\"I am having trouble with my phone. It is not working properly.\")"
   ]
  },
  {
   "cell_type": "code",
   "execution_count": null,
   "metadata": {},
   "outputs": [],
   "source": [
    "mistral_7b = \"mistral-7b\"\n",
    "mistral_large = \"mistral-large2\"\n",
    "support_tickets_finetuned_mistral_7b = \"SUPPORT_TICKETS_FINETUNED_MISTRAL_7B\"\n",
    "support_ticket_classifier_mistral_7b = Support_Ticket_Classifier(connection_params, session, mistral_7b)\n",
    "support_ticket_classifier_mistral_large = Support_Ticket_Classifier(connection_params, session, mistral_large)\n",
    "support_ticket_classifier_mistral_7b_finetuned = Support_Ticket_Classifier(connection_params, session, support_tickets_finetuned_mistral_7b)"
   ]
  },
  {
   "cell_type": "code",
   "execution_count": null,
   "metadata": {},
   "outputs": [],
   "source": [
    "support_tickets = [\"I would like to close my account as I am no longer using the services. Please confirm the necessary steps to complete this process. Can you guide me through closing my account? I have found another provider that better suits my needs. I wish to terminate my account due to relocation. Kindly assist me with the required steps.\",\n",
    "    \"I am writing to bring to your attention an issue with my recent cell phone bill. During my trip to Europe for two weeks, I noticed additional charges labeled as 'international fees' amounting to $130. These charges were not communicated to me. I request a detailed explanation and a refund. Thank you for addressing this matter promptly.\",\n",
    "    \"Hello, I would like to add my daughter to my plan. I need it activated by her birthday at the end of the week.\",\n",
    "    \"I am experiencing slow data speeds on my phone. I have attempted to restart my device and check for software updates, but the issue persists. Please provide guidance on resolving this problem. I heavily rely on my phone for work and require a swift solution. Thank you for your support.\",\n",
    "    \"I misplaced my phone while using the subway. Despite multiple attempts to call it, it appears to be turned off. I am concerned about my personal data and would like to know the steps for remotely locking and erasing the data on my phone. Please advise on how to proceed. Thank you for your assistance.\",\n",
    "    \"My bill is too high after my travel to Canada. I was not informed about additional fees for using my phone abroad. I request a detailed breakdown of these charges and a refund. I appreciate your prompt attention to this issue.\",\n",
    "    \"I am moving to france and need to end my plan. Please help me do so by the end of the month.\",\n",
    "    \"I am writing to bring to your attention an issue with my recent cell phone bill. During my trip to Europe for two weeks, I noticed additional charges labeled as 'international fees' amounting to $130. These charges were not communicated to me. I request a detailed explanation and a refund. Thank you for addressing this matter promptly.\",\n",
    "    \"Hello, I would like to add a new line to my existing cell phone plan. Kindly activate it within the next 9 days. If there are any further steps or information needed, please inform me. Thank you for your prompt assistance.\",\n",
    "    \"I am experiencing slow data speeds on my phone. I have attempted to restart my device and check for software updates, but the issue persists. Please provide guidance on resolving this problem. I heavily rely on my phone for work and require a swift solution. Thank you for your support.\",\n",
    "]"
   ]
  },
  {
   "cell_type": "code",
   "execution_count": null,
   "metadata": {},
   "outputs": [],
   "source": [
    "from trulens.core import Feedback\n",
    "from trulens.providers.openai import OpenAI\n",
    "\n",
    "provider = OpenAI(model_engine=\"gpt-4\")\n",
    "\n",
    "# Define a groundedness feedback function\n",
    "f_groundedness = (\n",
    "    Feedback(\n",
    "        provider.groundedness_measure_with_cot_reasons, name=\"Groundedness\"\n",
    "    )\n",
    "    .on_input_output()\n",
    ")\n",
    "# Question/answer relevance between overall question and answer.\n",
    "f_answer_relevance = (\n",
    "    Feedback(provider.relevance_with_cot_reasons, name=\"Answer Relevance\")\n",
    "    .on_input_output()\n",
    ")"
   ]
  },
  {
   "cell_type": "code",
   "execution_count": null,
   "metadata": {},
   "outputs": [],
   "source": [
    "from trulens.apps.custom import TruCustomApp\n",
    "\n",
    "tru_recorder_support_ticket_classifier_mistral_7b = TruCustomApp(\n",
    "    support_ticket_classifier_mistral_7b,\n",
    "    app_name=\"Support Ticket Classifier\",\n",
    "    app_version=\"mistral 7b\",\n",
    ")"
   ]
  },
  {
   "cell_type": "code",
   "execution_count": null,
   "metadata": {},
   "outputs": [],
   "source": [
    "tru_recorder_support_ticket_classifier_mistral_large = TruCustomApp(\n",
    "    support_ticket_classifier_mistral_large,\n",
    "    app_name=\"Support Ticket Classifier\",\n",
    "    app_version=\"mistral large\",\n",
    "    metadata={\"model\": \"llama3.1-405b\"},\n",
    ")"
   ]
  },
  {
   "cell_type": "code",
   "execution_count": null,
   "metadata": {},
   "outputs": [],
   "source": [
    "tru_recorder_support_ticket_classifier_mistral_7b_finetuned = TruCustomApp(\n",
    "    support_ticket_classifier_mistral_7b_finetuned,\n",
    "    app_name=\"Support Ticket Classifier\",\n",
    "    app_version=\"mistral 7b finetuned\",\n",
    "    metadata={\"model\": \"mistral-7b finetuned\"},\n",
    ")"
   ]
  },
  {
   "cell_type": "code",
   "execution_count": null,
   "metadata": {},
   "outputs": [],
   "source": [
    "for ticket in support_tickets:\n",
    "    print(f\"Ticket: {ticket}\")\n",
    "    with tru_recorder_support_ticket_classifier_mistral_7b as recording:\n",
    "        label_small = support_ticket_classifier_mistral_7b.classify_ticket(ticket)\n",
    "        print(f\"mistral 7b label: {label_small}\")"
   ]
  },
  {
   "cell_type": "code",
   "execution_count": null,
   "metadata": {},
   "outputs": [],
   "source": [
    "for ticket in support_tickets:\n",
    "    print(f\"Ticket: {ticket}\")\n",
    "    with tru_recorder_support_ticket_classifier_mistral_large:\n",
    "        label_large = support_ticket_classifier_mistral_large.classify_ticket(ticket)\n",
    "        print(f\"mistral large label: {label_large}\")"
   ]
  },
  {
   "cell_type": "code",
   "execution_count": null,
   "metadata": {},
   "outputs": [],
   "source": [
    "for ticket in support_tickets:\n",
    "    print(f\"Ticket: {ticket}\")\n",
    "    with tru_recorder_support_ticket_classifier_mistral_7b_finetuned:\n",
    "        label_finetuned = support_ticket_classifier_mistral_7b_finetuned.classify_ticket(ticket)\n",
    "        print(f\"mistral 7b finetuned label: {label_finetuned}\")"
   ]
  }
 ],
 "metadata": {
  "kernelspec": {
   "display_name": "streamlit_trulens_demo",
   "language": "python",
   "name": "python3"
  },
  "language_info": {
   "codemirror_mode": {
    "name": "ipython",
    "version": 3
   },
   "file_extension": ".py",
   "mimetype": "text/x-python",
   "name": "python",
   "nbconvert_exporter": "python",
   "pygments_lexer": "ipython3"
  }
 },
 "nbformat": 4,
 "nbformat_minor": 2
}
