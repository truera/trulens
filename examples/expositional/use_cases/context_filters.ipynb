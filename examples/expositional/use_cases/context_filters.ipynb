{
 "cells": [
  {
   "cell_type": "markdown",
   "metadata": {},
   "source": [
    "# 📓 Context Filters\n",
    "\n",
    "In this example you will learn how to use context filters, and experiment with different model sizes and deployment options for the guardrail including using SOTA large and smaller models from OpenAI; fast, small models running on Groq and a locally deployed model using Ollama.\n",
    "\n",
    "[![Open In Colab](https://colab.research.google.com/assets/colab-badge.svg)](https://colab.research.google.com/github/truera/trulens/blob/main/examples/expositional/use_cases/context_filters.ipynb)"
   ]
  },
  {
   "cell_type": "code",
   "execution_count": null,
   "metadata": {},
   "outputs": [],
   "source": [
    "# !pip install trulens trulens-providers-openai trulens-providers-litellm chromadb openai groq ollama"
   ]
  },
  {
   "cell_type": "code",
   "execution_count": null,
   "metadata": {},
   "outputs": [],
   "source": [
    "import os\n",
    "\n",
    "os.environ[\"OPENAI_API_KEY\"] = \"sk-proj-...\"\n",
    "os.environ[\"GROQ_API_KEY\"] = \"gsk_...\""
   ]
  },
  {
   "cell_type": "markdown",
   "metadata": {},
   "source": [
    "## Get Data\n",
    "\n",
    "In this case, we'll just initialize some simple text in the notebook."
   ]
  },
  {
   "cell_type": "code",
   "execution_count": null,
   "metadata": {},
   "outputs": [],
   "source": [
    "context_chunk_1 = (\n",
    "    \"The automotive supplier's production process involves several stages: raw material procurement, component manufacturing, assembly, and quality control. \"\n",
    "    \"Raw materials are sourced from certified suppliers and undergo rigorous testing. \"\n",
    "    \"Component manufacturing includes precision machining and automated assembly lines. \"\n",
    "    \"The final assembly integrates all components, followed by stringent quality control checks using advanced inspection technologies.\"\n",
    ")\n",
    "\n",
    "context_chunk_2 = (\n",
    "    \"Our just-in-time (JIT) inventory system minimizes inventory costs while ensuring components are available exactly when needed. \"\n",
    "    \"This system relies on real-time inventory tracking and close coordination with suppliers. \"\n",
    "    \"Disruptions in the supply chain, such as delays in raw material delivery, can significantly impact production schedules and increase costs.\"\n",
    ")\n",
    "\n",
    "context_chunk_3 = (\n",
    "    \"The global supply chain requires navigating various trade policies, tariffs, and geopolitical events. \"\n",
    "    \"We collaborate with logistics partners to ensure timely and cost-effective delivery of components. \"\n",
    "    \"Our supply chain team continuously monitors global events, such as trade disputes and natural disasters, to mitigate potential disruptions.\"\n",
    ")\n",
    "\n",
    "context_chunk_4 = (\n",
    "    \"Sustainability is a core value at our company. \"\n",
    "    \"We source materials responsibly, minimize waste, and improve energy efficiency. \"\n",
    "    \"Our initiatives include using recycled materials, implementing energy-efficient manufacturing processes, and developing eco-friendly products. \"\n",
    "    \"We track our environmental impact through annual audits of indicators including material sourcing and waste production.\"\n",
    ")\n",
    "\n",
    "context_chunk_5 = (\n",
    "    \"Technology is crucial in our operations. \"\n",
    "    \"We use advanced automation, artificial intelligence, and data analytics to optimize production processes, improve product quality, and reduce costs. \"\n",
    "    \"Blockchain technology is being explored to enhance transparency and traceability in our supply chain, ensuring authenticity and reducing fraud.\"\n",
    ")\n",
    "\n",
    "context_chunk_6 = (\n",
    "    \"The COVID-19 pandemic highlighted the importance of supply chain resilience. \"\n",
    "    \"Measures implemented include diversifying our supplier base, increasing inventory levels of critical components, and investing in digital supply chain solutions. \"\n",
    "    \"These steps help us quickly adapt to disruptions and maintain continuous production.\"\n",
    ")\n",
    "\n",
    "context_chunk_7 = (\n",
    "    \"Strong supplier relationships are essential to our success. \"\n",
    "    \"We collaborate closely with suppliers to ensure a steady flow of high-quality components. \"\n",
    "    \"Supplier performance is regularly evaluated on the KPIs: on-time delivery rate, quality, and cost. \"\n",
    "    \"The KPIs are evaluated on a weekly, monthly and quarterly basis. \"\n",
    "    \"Effective communication and collaboration are key to maintaining these relationships.\"\n",
    ")\n",
    "\n",
    "context_chunk_8 = (\n",
    "    \"Cybersecurity is a top priority for our company. \"\n",
    "    \"As operations become more connected and reliant on digital technologies, the risk of cyberattacks increases. \"\n",
    "    \"We have implemented robust cybersecurity measures, including firewalls, encryption, and continuous monitoring, to protect our systems and data from potential threats.\"\n",
    ")\n"
   ]
  },
  {
   "cell_type": "markdown",
   "metadata": {},
   "source": [
    "## Create Vector Store\n",
    "\n",
    "Create a chromadb vector store in memory."
   ]
  },
  {
   "cell_type": "code",
   "execution_count": null,
   "metadata": {},
   "outputs": [],
   "source": [
    "import chromadb\n",
    "from chromadb.utils.embedding_functions import OpenAIEmbeddingFunction\n",
    "\n",
    "embedding_function = OpenAIEmbeddingFunction(\n",
    "    api_key=os.environ.get(\"OPENAI_API_KEY\"),\n",
    "    model_name=\"text-embedding-ada-002\",\n",
    ")\n",
    "\n",
    "\n",
    "chroma_client = chromadb.Client()\n",
    "vector_store = chroma_client.get_or_create_collection(\n",
    "    name=\"Architecture\", embedding_function=embedding_function\n",
    ")"
   ]
  },
  {
   "cell_type": "markdown",
   "metadata": {},
   "source": [
    "Populate the vector store."
   ]
  },
  {
   "cell_type": "code",
   "execution_count": null,
   "metadata": {},
   "outputs": [],
   "source": [
    "vector_store.add(\"context_1\", documents=context_chunk_1)\n",
    "vector_store.add(\"context_2\", documents=context_chunk_2)\n",
    "vector_store.add(\"context_3\", documents=context_chunk_3)\n",
    "vector_store.add(\"context_4\", documents=context_chunk_4)\n",
    "vector_store.add(\"context_5\", documents=context_chunk_5)\n",
    "vector_store.add(\"context_6\", documents=context_chunk_6)\n",
    "vector_store.add(\"context_7\", documents=context_chunk_7)\n",
    "vector_store.add(\"context_8\", documents=context_chunk_8)"
   ]
  },
  {
   "cell_type": "markdown",
   "metadata": {},
   "source": [
    "## Build RAG from scratch\n",
    "\n",
    "Build a custom RAG from scratch, and add TruLens custom instrumentation."
   ]
  },
  {
   "cell_type": "code",
   "execution_count": null,
   "metadata": {},
   "outputs": [],
   "source": [
    "from openai import OpenAI\n",
    "\n",
    "oai_client = OpenAI()"
   ]
  },
  {
   "cell_type": "code",
   "execution_count": null,
   "metadata": {},
   "outputs": [],
   "source": [
    "from openai import OpenAI\n",
    "\n",
    "oai_client = OpenAI()\n",
    "\n",
    "\n",
    "class RAG:\n",
    "    def retrieve(self, query: str) -> list:\n",
    "        \"\"\"\n",
    "        Retrieve relevant text from vector store.\n",
    "        \"\"\"\n",
    "        results = vector_store.query(query_texts=query, n_results=5)\n",
    "        # Flatten the list of lists into a single list\n",
    "        return [doc for sublist in results[\"documents\"] for doc in sublist]\n",
    "\n",
    "    def generate_completion(self, query: str, context_str: list) -> str:\n",
    "        \"\"\"\n",
    "        Generate answer from context.\n",
    "        \"\"\"\n",
    "        if len(context_str) == 0:\n",
    "            return \"Sorry, I couldn't find an answer to your question.\"\n",
    "\n",
    "        completion = (\n",
    "            oai_client.chat.completions.create(\n",
    "                model=\"gpt-4o-mini\",\n",
    "                temperature=0,\n",
    "                messages=[\n",
    "                    {\n",
    "                        \"role\": \"user\",\n",
    "                        \"content\": f\"We have provided context information below. \\n\"\n",
    "                        f\"---------------------\\n\"\n",
    "                        f\"{context_str}\"\n",
    "                        f\"\\n---------------------\\n\"\n",
    "                        f\"Then, given all of this information, please answer the question: {query}\",\n",
    "                    }\n",
    "                ],\n",
    "            )\n",
    "            .choices[0]\n",
    "            .message.content\n",
    "        )\n",
    "        if completion:\n",
    "            return completion\n",
    "        else:\n",
    "            return \"Did not find an answer.\"\n",
    "\n",
    "    def query(self, query: str) -> str:\n",
    "        context_str = self.retrieve(query=query)\n",
    "        completion = self.generate_completion(\n",
    "            query=query, context_str=context_str\n",
    "        )\n",
    "        return completion\n",
    "\n",
    "\n",
    "rag = RAG()"
   ]
  },
  {
   "cell_type": "markdown",
   "metadata": {},
   "source": [
    "## Run the app"
   ]
  },
  {
   "cell_type": "code",
   "execution_count": null,
   "metadata": {},
   "outputs": [],
   "source": [
    "from IPython.display import display\n",
    "\n",
    "response = rag.query(\"How often are environmental KPIs assessed?\")\n",
    "display(response)"
   ]
  },
  {
   "cell_type": "markdown",
   "metadata": {},
   "source": [
    "## Use guardrails\n",
    "\n",
    "In addition to making informed iteration, we can also directly use feedback results as guardrails at inference time. In particular, here we show how to use the context relevance score as a guardrail to filter out irrelevant context before it gets passed to the LLM. This both reduces hallucination and improves efficiency.\n",
    "\n",
    "To do so, we'll rebuild our RAG using the @context-filter decorator on the method we want to filter, and pass in the feedback function and threshold to use for guardrailing."
   ]
  },
  {
   "cell_type": "code",
   "execution_count": null,
   "metadata": {},
   "outputs": [],
   "source": [
    "from trulens.core.guardrails.base import context_filter\n",
    "\n",
    "from trulens.core import Feedback\n",
    "from trulens.providers.openai import OpenAI\n",
    "\n",
    "openai_4o_provider = OpenAI(model_engine=\"gpt-4o\")\n",
    "\n",
    "# Context relevance between question and each context chunk.\n",
    "f_context_relevance_gpt4o = Feedback(openai_4o_provider.context_relevance)\n",
    "\n",
    "class FilteredRAG(RAG):\n",
    "    @context_filter(\n",
    "        feedback=f_context_relevance_gpt4o,\n",
    "        threshold=0.4,\n",
    "        keyword_for_prompt=\"query\",\n",
    "    )\n",
    "    def retrieve(self, query: str) -> list:\n",
    "        \"\"\"\n",
    "        Retrieve relevant text from vector store.\n",
    "        \"\"\"\n",
    "        results = vector_store.query(query_texts=query, n_results=5)\n",
    "        if \"documents\" in results and results[\"documents\"]:\n",
    "            return [doc for sublist in results[\"documents\"] for doc in sublist]\n",
    "        else:\n",
    "            return []\n",
    "\n",
    "\n",
    "filtered_rag = FilteredRAG()"
   ]
  },
  {
   "cell_type": "markdown",
   "metadata": {},
   "source": [
    "## Run the app with context filters"
   ]
  },
  {
   "cell_type": "code",
   "execution_count": null,
   "metadata": {},
   "outputs": [],
   "source": [
    "filtered_rag.query(\"How often are environmental KPIs assessed?\")"
   ]
  },
  {
   "cell_type": "markdown",
   "metadata": {},
   "source": [
    "We can actually get better answers by providing only the most relevant information to the LLM."
   ]
  },
  {
   "cell_type": "markdown",
   "metadata": {},
   "source": [
    "## Try a smaller guardrail"
   ]
  },
  {
   "cell_type": "code",
   "execution_count": null,
   "metadata": {},
   "outputs": [],
   "source": [
    "openai_4omini_provider = OpenAI(model_engine=\"gpt-4o-mini\")\n",
    "f_context_relevance_gpt4omini = Feedback(openai_4omini_provider.context_relevance)\n",
    "\n",
    "class FilteredRAG(RAG):\n",
    "    @context_filter(\n",
    "        feedback=f_context_relevance_gpt4omini,\n",
    "        threshold=0.4,\n",
    "        keyword_for_prompt=\"query\",\n",
    "    )\n",
    "    def retrieve(self, query: str) -> list:\n",
    "        \"\"\"\n",
    "        Retrieve relevant text from vector store.\n",
    "        \"\"\"\n",
    "        results = vector_store.query(query_texts=query, n_results=5)\n",
    "        if \"documents\" in results and results[\"documents\"]:\n",
    "            return [doc for sublist in results[\"documents\"] for doc in sublist]\n",
    "        else:\n",
    "            return []\n",
    "\n",
    "\n",
    "filtered_rag = FilteredRAG()\n",
    "\n",
    "filtered_rag.query(\"How often are environmental KPIs assessed?\")"
   ]
  },
  {
   "cell_type": "markdown",
   "metadata": {},
   "source": [
    "## Howabout on Groq with Llama 3 - 8B?"
   ]
  },
  {
   "cell_type": "code",
   "execution_count": null,
   "metadata": {},
   "outputs": [],
   "source": [
    "from trulens.providers.litellm import LiteLLM\n",
    "groq_llama3_8b_provider = LiteLLM(\"groq/llama3-8b-8192\")\n",
    "\n",
    "f_context_relevance_groqllama3_8b = Feedback(groq_llama3_8b_provider.context_relevance)\n",
    "\n",
    "class FilteredRAG(RAG):\n",
    "    @context_filter(\n",
    "        feedback=f_context_relevance_groqllama3_8b,\n",
    "        threshold=0.75,\n",
    "        keyword_for_prompt=\"query\",\n",
    "    )\n",
    "    def retrieve(self, query: str) -> list:\n",
    "        \"\"\"\n",
    "        Retrieve relevant text from vector store.\n",
    "        \"\"\"\n",
    "        results = vector_store.query(query_texts=query, n_results=5)\n",
    "        if \"documents\" in results and results[\"documents\"]:\n",
    "            return [doc for sublist in results[\"documents\"] for doc in sublist]\n",
    "        else:\n",
    "            return []\n",
    "\n",
    "\n",
    "filtered_rag = FilteredRAG()\n",
    "\n",
    "filtered_rag.query(\"How often are environmental KPIs assessed?\")"
   ]
  },
  {
   "cell_type": "markdown",
   "metadata": {},
   "source": [
    "## Can we run the guardrails locally, say with ollama?\n",
    "\n",
    "Yes, but a bit slower then with Groq's infra 😞"
   ]
  },
  {
   "cell_type": "code",
   "execution_count": null,
   "metadata": {},
   "outputs": [],
   "source": [
    "from trulens.providers.litellm import LiteLLM\n",
    "ollama_provider = LiteLLM(\"ollama/llama3.1:8b\")\n",
    "\n",
    "f_context_relevance_ollama = Feedback(ollama_provider.context_relevance)\n",
    "\n",
    "class FilteredRAG(RAG):\n",
    "    @context_filter(\n",
    "        feedback=f_context_relevance_ollama,\n",
    "        threshold=0.5,\n",
    "        keyword_for_prompt=\"query\",\n",
    "    )\n",
    "    def retrieve(self, query: str) -> list:\n",
    "        \"\"\"\n",
    "        Retrieve relevant text from vector store.\n",
    "        \"\"\"\n",
    "        results = vector_store.query(query_texts=query, n_results=5)\n",
    "        if \"documents\" in results and results[\"documents\"]:\n",
    "            return [doc for sublist in results[\"documents\"] for doc in sublist]\n",
    "        else:\n",
    "            return []\n",
    "\n",
    "\n",
    "filtered_rag = FilteredRAG()\n",
    "\n",
    "filtered_rag.query(\"How often are environmental KPIs assessed?\")"
   ]
  }
 ],
 "metadata": {
  "kernelspec": {
   "display_name": "streamlit_trulens_demo",
   "language": "python",
   "name": "python3"
  },
  "language_info": {
   "codemirror_mode": {
    "name": "ipython",
    "version": 3
   },
   "file_extension": ".py",
   "mimetype": "text/x-python",
   "name": "python",
   "nbconvert_exporter": "python",
   "pygments_lexer": "ipython3"
  }
 },
 "nbformat": 4,
 "nbformat_minor": 2
}
