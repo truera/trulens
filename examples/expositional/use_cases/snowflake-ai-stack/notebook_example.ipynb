{
 "cells": [
  {
   "cell_type": "markdown",
   "metadata": {},
   "source": [
    "# Notebook Example\n",
    "Use a simple in-memory vector store for RAG with Arctic-Embed and Optimzed Inference"
   ]
  },
  {
   "cell_type": "code",
   "execution_count": null,
   "metadata": {},
   "outputs": [],
   "source": [
    "# Temp: Replace with some other LLM for feedback so these are not needed\n",
    "from dotenv import load_dotenv\n",
    "\n",
    "load_dotenv()\n"
   ]
  },
  {
   "cell_type": "code",
   "execution_count": null,
   "metadata": {},
   "outputs": [],
   "source": [
    "from src.observability import start_observability\n",
    "\n",
    "session = start_observability()\n",
    "\n",
    "session.reset_database()"
   ]
  },
  {
   "cell_type": "markdown",
   "metadata": {},
   "source": [
    "## Create and Load Vector Store"
   ]
  },
  {
   "cell_type": "code",
   "execution_count": null,
   "metadata": {},
   "outputs": [],
   "source": [
    "from langchain_community.document_loaders import WebBaseLoader\n",
    "\n",
    "loader = WebBaseLoader(\"https://www.trulens.org/\")\n",
    "docs = loader.load()"
   ]
  },
  {
   "cell_type": "code",
   "execution_count": null,
   "metadata": {},
   "outputs": [],
   "source": [
    "from src.vector_store import VectorStore\n",
    "\n",
    "vector_store = VectorStore()\n",
    "\n",
    "chunks = vector_store.split_documents(documents = docs)\n",
    "\n",
    "vector_store.add_chunks(chunks)"
   ]
  },
  {
   "cell_type": "markdown",
   "metadata": {},
   "source": [
    "## Set LLM"
   ]
  },
  {
   "cell_type": "code",
   "execution_count": null,
   "metadata": {},
   "outputs": [],
   "source": [
    "from src.generation import ChatModel\n",
    "\n",
    "chat_model = ChatModel(generation_model_name=\"meta-llama/Llama-3.2-3B-Instruct\") # TODO: Replace with arctic-training optimized model"
   ]
  },
  {
   "cell_type": "markdown",
   "metadata": {},
   "source": [
    "## Create Evals, Register App"
   ]
  },
  {
   "cell_type": "code",
   "execution_count": null,
   "metadata": {},
   "outputs": [],
   "source": [
    "from src.observability import create_evals\n",
    "from trulens.providers.litellm import LiteLLM\n",
    "\n",
    "provider = LiteLLM(\"mistral/open-mistral-7b\") # TODO: Replace with arctic-training optimized model\n",
    "\n",
    "evals = create_evals(provider = provider)"
   ]
  },
  {
   "cell_type": "code",
   "execution_count": null,
   "metadata": {},
   "outputs": [],
   "source": [
    "from src.rag import Rag\n",
    "from trulens.apps.app import TruApp\n",
    "\n",
    "rag = Rag(chat_model=chat_model, vector_store=vector_store)\n",
    "\n",
    "tru_rag = TruApp(\n",
    "    rag,\n",
    "    app_name=\"RAG\",\n",
    "    app_version=\"snowflake-oss\",\n",
    "    feedbacks = evals\n",
    ")"
   ]
  },
  {
   "cell_type": "markdown",
   "metadata": {},
   "source": [
    "## Generate an Answer\n",
    "\n",
    "Next, we define a query and use the retrieval function to find relevant documents."
   ]
  },
  {
   "cell_type": "code",
   "execution_count": null,
   "metadata": {},
   "outputs": [],
   "source": [
    "with tru_rag:\n",
    "    llm_response = rag.retrieve_and_generate(\"What evaluations should be used to assess the quality of a RAG system?\")"
   ]
  },
  {
   "cell_type": "markdown",
   "metadata": {},
   "source": [
    "## Display"
   ]
  },
  {
   "cell_type": "code",
   "execution_count": null,
   "metadata": {},
   "outputs": [],
   "source": [
    "from IPython.display import HTML, display\n",
    "\n",
    "html_content = f\"<div style='white-space: pre-wrap; border: 1px solid #ccc; padding: 10px; background-color: white; color: black; font-size: 16px;'>{llm_response}</div>\"\n",
    "display(HTML(html_content))"
   ]
  },
  {
   "cell_type": "code",
   "execution_count": null,
   "metadata": {},
   "outputs": [],
   "source": [
    "from trulens.dashboard import run_dashboard\n",
    "\n",
    "run_dashboard()"
   ]
  }
 ],
 "metadata": {
  "kernelspec": {
   "display_name": "oss_rag_stack",
   "language": "python",
   "name": "python3"
  },
  "language_info": {
   "codemirror_mode": {
    "name": "ipython",
    "version": 3
   },
   "file_extension": ".py",
   "mimetype": "text/x-python",
   "name": "python",
   "nbconvert_exporter": "python",
   "pygments_lexer": "ipython3"
  }
 },
 "nbformat": 4,
 "nbformat_minor": 4
}
