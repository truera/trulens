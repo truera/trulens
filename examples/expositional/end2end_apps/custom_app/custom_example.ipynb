{
 "cells": [
  {
   "cell_type": "markdown",
   "metadata": {},
   "source": [
    "# Custom Class Example\n",
    "\n",
    "This example uses several other python files in the same folder."
   ]
  },
  {
   "cell_type": "code",
   "execution_count": null,
   "metadata": {},
   "outputs": [],
   "source": [
    "from trulens.core import Tru\n",
    "from trulens.core import TruCustomApp\n",
    "\n",
    "from examples.expositional.end2end_apps.custom_app.custom_app import (\n",
    "    CustomApp,  # our custom app\n",
    ")\n",
    "\n",
    "# Tru object manages the database of apps, records, and feedbacks; and the\n",
    "# dashboard to display these.\n",
    "tru = Tru()\n",
    "\n",
    "tru.reset_database()"
   ]
  },
  {
   "cell_type": "code",
   "execution_count": null,
   "metadata": {},
   "outputs": [],
   "source": [
    "# Create custom app:\n",
    "ca = CustomApp()\n",
    "\n",
    "# Create trulens wrapper:\n",
    "ta = TruCustomApp(\n",
    "    ca,\n",
    "    app_id=\"customapp\",\n",
    "    # Optional alternative to decorators:\n",
    "    # methods_to_instrument={\n",
    "    #    ca.respond_to_query: Select.Query(), # paths relative to \"app\"\n",
    "    #    ca.retrieve_chunks: Select.Query(),\n",
    "    #    ca.retriever.retrieve_chunks: Select.Query().retriever\n",
    "    # },\n",
    "    ## Add extra data to show up as app serialization. See tru_custom_app.py documentation.\n",
    "    # app_extra_json=dict(\n",
    "    #    name=\"This is my custom app. Anything provided to app_extra_json will be merged into the serialization of app\",\n",
    "    # )\n",
    ")"
   ]
  },
  {
   "cell_type": "code",
   "execution_count": null,
   "metadata": {},
   "outputs": [],
   "source": [
    "# Show instrumented components and methods.\n",
    "\n",
    "ta.print_instrumented()"
   ]
  },
  {
   "cell_type": "code",
   "execution_count": null,
   "metadata": {},
   "outputs": [],
   "source": [
    "# Normal usage:\n",
    "# ca.respond_to_query(\"What is the capital of Indonesia?\")\n",
    "\n",
    "# Instrumented usage:\n",
    "response, record = ta.with_record(\n",
    "    ca.respond_to_query, input=\"What is the capital of Indonesia?\"\n",
    ")"
   ]
  },
  {
   "cell_type": "code",
   "execution_count": null,
   "metadata": {},
   "outputs": [],
   "source": [
    "# Show the app output:\n",
    "\n",
    "response"
   ]
  },
  {
   "cell_type": "code",
   "execution_count": null,
   "metadata": {},
   "outputs": [],
   "source": [
    "# Show the instrumentation record.\n",
    "\n",
    "record.dict()"
   ]
  },
  {
   "cell_type": "code",
   "execution_count": null,
   "metadata": {},
   "outputs": [],
   "source": [
    "# Start the dasshboard. If you running from github repo, you will need to adjust\n",
    "# the path the dashboard streamlit app starts in by providing the _dev argument.\n",
    "from trulens.dashboard import run_dashboard\n",
    "\n",
    "run_dashboard(tru)"
   ]
  }
 ],
 "metadata": {
  "kernelspec": {
   "display_name": "py38_trulens",
   "language": "python",
   "name": "python3"
  },
  "language_info": {
   "codemirror_mode": {
    "name": "ipython",
    "version": 3
   },
   "file_extension": ".py",
   "mimetype": "text/x-python",
   "name": "python",
   "nbconvert_exporter": "python",
   "pygments_lexer": "ipython3"
  }
 },
 "nbformat": 4,
 "nbformat_minor": 2
}
