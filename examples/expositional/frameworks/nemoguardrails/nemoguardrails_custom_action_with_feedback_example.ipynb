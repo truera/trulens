{
 "cells": [
  {
   "cell_type": "markdown",
   "metadata": {},
   "source": [
    "# Feedback functions in _NeMo Guardrails_ apps\n",
    "\n",
    "This notebook demonstrates how to use feedback functions from within rails apps.\n",
    "The integration in the other direction, monitoring rails apps using trulens, is\n",
    "shown in the `nemoguardrails_trurails_example.ipynb` notebook.\n",
    "\n",
    "We feature two examples of how to integrate feedback in rails apps. This\n",
    "notebook goes over the simpler of the two. The more complex but ultimately more\n",
    "concise usage of feedback in rails is shown in `nemoguardrails_feedback_action_example.ipynb`."
   ]
  },
  {
   "cell_type": "code",
   "execution_count": null,
   "metadata": {},
   "outputs": [],
   "source": [
    "# Install NeMo Guardrails if not already installed.\n",
    "# !pip install trulens trulens-instrument-nemo trulens-providers-openai nemoguardrails"
   ]
  },
  {
   "cell_type": "markdown",
   "metadata": {},
   "source": [
    "### Setup keys and trulens"
   ]
  },
  {
   "cell_type": "code",
   "execution_count": null,
   "metadata": {},
   "outputs": [],
   "source": [
    "# This notebook uses openai and huggingface providers which need some keys set.\n",
    "# You can set them here:\n",
    "\n",
    "# Load trulens, reset the database:\n",
    "from trulens.core import Tru\n",
    "from trulens.core.utils.keys import check_or_set_keys\n",
    "\n",
    "check_or_set_keys(OPENAI_API_KEY=\"to fill in\", HUGGINGFACE_API_KEY=\"to fill in\")\n",
    "\n",
    "\n",
    "tru = Tru()\n",
    "tru.reset_database()"
   ]
  },
  {
   "cell_type": "markdown",
   "metadata": {},
   "source": [
    "## Feedback functions setup\n",
    "\n",
    "Lets consider some feedback functions. We will define two types: a simple\n",
    "language match that checks whether output of the app is in the same language as\n",
    "the input. The second is a set of three for evaluating context retrieval."
   ]
  },
  {
   "cell_type": "code",
   "execution_count": null,
   "metadata": {},
   "outputs": [],
   "source": [
    "from pprint import pprint\n",
    "\n",
    "from trulens.core import Feedback\n",
    "from trulens.feedback.feedback import rag_triad\n",
    "from trulens.providers.huggingface import Huggingface\n",
    "from trulens.providers.openai import OpenAI\n",
    "\n",
    "# Initialize provider classes\n",
    "openai = OpenAI()\n",
    "hugs = Huggingface()\n",
    "\n",
    "# Note that we do not specify the selectors (where the inputs to the feedback\n",
    "# functions come from). This is because we will not be using selectors in these examples.\n",
    "f_language_match = Feedback(hugs.language_match)\n",
    "\n",
    "fs_triad = rag_triad(provider=openai)\n",
    "\n",
    "# Overview of the 4 feedback functions defined.\n",
    "pprint(f_language_match)\n",
    "pprint(fs_triad)"
   ]
  },
  {
   "cell_type": "markdown",
   "metadata": {},
   "source": [
    "### Using Feedback functions without selectors\n",
    "\n",
    "To make feedback functions available to rails apps without selectors, we can use\n",
    "the `run` method and provide explicit inputs:"
   ]
  },
  {
   "cell_type": "code",
   "execution_count": null,
   "metadata": {},
   "outputs": [],
   "source": [
    "f_language_match.run(text1=\"Como estas?\", text2=\"I'm doing well, thank you.\")"
   ]
  },
  {
   "cell_type": "markdown",
   "metadata": {},
   "source": [
    "## Rails app setup\n",
    "\n",
    "The files created below define a configuration of a rails app adapted from\n",
    "various examples in the NeMo-Guardrails repository. There is nothing unusual\n",
    "about the app beyond the knowledge base here being the TruLens\n",
    "documentation. This means you should be able to ask the resulting bot questions\n",
    "regarding trulens instead of the fictional company handbook as was the case in\n",
    "the originating example."
   ]
  },
  {
   "cell_type": "markdown",
   "metadata": {},
   "source": [
    "Note that new additions to output rail flows in the configuration below. These are setup to run our feedback functions but their definition will come in following colang file."
   ]
  },
  {
   "cell_type": "code",
   "execution_count": null,
   "metadata": {},
   "outputs": [],
   "source": [
    "%%writefile config.yaml\n",
    "# Adapted from NeMo-Guardrails/nemoguardrails/examples/bots/abc/config.yml\n",
    "instructions:\n",
    "  - type: general\n",
    "    content: |\n",
    "      Below is a conversation between a user and a bot called the trulens Bot.\n",
    "      The bot is designed to answer questions about the trulens python library.\n",
    "      The bot is knowledgeable about python.\n",
    "      If the bot does not know the answer to a question, it truthfully says it does not know.\n",
    "\n",
    "sample_conversation: |\n",
    "  user \"Hi there. Can you help me with some questions I have about trulens?\"\n",
    "    express greeting and ask for assistance\n",
    "  bot express greeting and confirm and offer assistance\n",
    "    \"Hi there! I'm here to help answer any questions you may have about the trulens. What would you like to know?\"\n",
    "\n",
    "models:\n",
    "  - type: main\n",
    "    engine: openai\n",
    "    model: gpt-3.5-turbo-instruct\n",
    "\n",
    "rails:\n",
    "  output:\n",
    "    flows:\n",
    "      - check language match\n",
    "      # triad defined separately so hopefully they can be executed in parallel\n",
    "      - check rag triad groundedness\n",
    "      - check rag triad relevance\n",
    "      - check rag triad context_relevance"
   ]
  },
  {
   "cell_type": "markdown",
   "metadata": {},
   "source": [
    "### Output flows with feedback\n",
    "\n",
    "Next we define output flows that include checks using all 4 feedback functions\n",
    "we defined above. We will create one custom action for each. We start with\n",
    "language match and use trulens utilities for the other 3 further in this notebook.\n",
    "\n",
    "***NOTE: In the second example notebook we use a single generic action instead but\n",
    "that will require additional setup.***"
   ]
  },
  {
   "cell_type": "code",
   "execution_count": null,
   "metadata": {},
   "outputs": [],
   "source": [
    "from nemoguardrails.actions.actions import action\n",
    "\n",
    "\n",
    "@action(name=\"language_match\")\n",
    "async def language_match(text1: str, text2: str):\n",
    "    # Print out some info for demonstration purposes:\n",
    "    print(\"Checking language match with:\", text1, text2)\n",
    "    res = f_language_match.run(text1=text1, text2=text2).result\n",
    "    print(f\"Result = {res}\")\n",
    "    return res"
   ]
  },
  {
   "cell_type": "markdown",
   "metadata": {},
   "source": [
    "#### Action invocation\n",
    "\n",
    "We can now define output flows that execute the custom actions which in turn\n",
    "evaluate feedback functions. These are the four \"subflow\"s in the colang below.\n",
    "\n",
    "***NOTE: We will create custom actions for the rag triad in a cell further in\n",
    "this notebook. For now, we get their names and signatures.***"
   ]
  },
  {
   "cell_type": "code",
   "execution_count": null,
   "metadata": {},
   "outputs": [],
   "source": [
    "for f in [f_language_match, *fs_triad.values()]:\n",
    "    print(f.name, f.sig)"
   ]
  },
  {
   "cell_type": "code",
   "execution_count": null,
   "metadata": {},
   "outputs": [],
   "source": [
    "%%writefileinterpolated config.co\n",
    "# Adapted from NeMo-Guardrails/tests/test_configs/with_kb_openai_embeddings/config.co\n",
    "define user ask capabilities\n",
    "  \"What can you do?\"\n",
    "  \"What can you help me with?\"\n",
    "  \"tell me what you can do\"\n",
    "  \"tell me about you\"\n",
    "\n",
    "define bot inform language mismatch\n",
    "  \"I may not be able to answer in your language.\"\n",
    "\n",
    "define bot inform triad failure\n",
    "  \"I may may have made a mistake interpreting your question or my knowledge base.\"\n",
    "\n",
    "define flow\n",
    "  user ask trulens\n",
    "  bot inform trulens\n",
    "\n",
    "define subflow check language match\n",
    "  $result = execute language_match(\\\n",
    "    text1=$last_user_message,\\\n",
    "    text2=$bot_message\\\n",
    "  )  \n",
    "  if $result < 0.8\n",
    "    bot inform language mismatch\n",
    "    stop\n",
    "\n",
    "define subflow check rag triad groundedness\n",
    "  $result = execute groundedness_measure_with_cot_reasons(\\\n",
    "    source=$relevant_chunks_sep,\\\n",
    "    statement=$bot_message\\\n",
    "  )\n",
    "  if $result < 0.7\n",
    "    bot inform triad failure\n",
    "    stop\n",
    "\n",
    "define subflow check rag triad relevance\n",
    "  $result = execute relevance(\\\n",
    "    prompt=$retrieved_for,\\\n",
    "    response=$relevant_chunks_sep\\\n",
    "  )\n",
    "  if $result < 0.7\n",
    "    bot inform triad failure\n",
    "    stop\n",
    "\n",
    "define subflow check rag triad context_relevance\n",
    "  $result = execute context_relevance(\\\n",
    "    question=$retrieved_for,\\\n",
    "    statement=$bot_message\\\n",
    "  )\n",
    "  if $result < 0.7\n",
    "    bot inform triad failure\n",
    "    stop\n"
   ]
  },
  {
   "cell_type": "markdown",
   "metadata": {},
   "source": [
    "## Rails app instantiation\n",
    "\n",
    "The instantiation of the app does not differ from the steps presented in NeMo."
   ]
  },
  {
   "cell_type": "code",
   "execution_count": null,
   "metadata": {},
   "outputs": [],
   "source": [
    "from nemoguardrails import LLMRails\n",
    "from nemoguardrails import RailsConfig\n",
    "\n",
    "config = RailsConfig.from_path(\".\")\n",
    "rails = LLMRails(config)"
   ]
  },
  {
   "cell_type": "markdown",
   "metadata": {},
   "source": [
    "## Register feedback actions with rails app\n",
    "\n",
    "We need to register each custom action with the rails app. We already created\n",
    "one above and use a trulens utility to create and register the other three for\n",
    "the rag triad."
   ]
  },
  {
   "cell_type": "code",
   "execution_count": null,
   "metadata": {},
   "outputs": [],
   "source": [
    "from trulens.instrument.nemo.tru_rails import FeedbackActions\n",
    "\n",
    "# Register the custom action we created above.\n",
    "rails.register_action(action=language_match)\n",
    "\n",
    "# Create custom actions for the rag triad. A utility for creating custom actions\n",
    "# that do nothing but call a feedback function is provided in trulens\n",
    "# (FeedbackActions.action_of_feedback). Lets create custom actions for the rag\n",
    "# triad feedback functions and register them:\n",
    "\n",
    "\n",
    "for f in fs_triad.values():\n",
    "    print(f\"registering custom action for feedback function {f.name}\")\n",
    "    # verbose causes the action to print out the inputs it receives when invoked.\n",
    "    rails.register_action(FeedbackActions.action_of_feedback(f, verbose=True))"
   ]
  },
  {
   "cell_type": "markdown",
   "metadata": {},
   "source": [
    "## Optional `TruRails` recorder instantiation\n",
    "\n",
    "Though not required, we can also use a trulens recorder to monitor our app."
   ]
  },
  {
   "cell_type": "code",
   "execution_count": null,
   "metadata": {},
   "outputs": [],
   "source": [
    "from trulens.instrument.nemo import TruRails\n",
    "\n",
    "tru_rails = TruRails(rails)"
   ]
  },
  {
   "cell_type": "markdown",
   "metadata": {},
   "source": [
    "## Language match test invocation\n",
    "\n",
    "Lets try to make the app respond in a different language than the question to\n",
    "try to get the language match flow to abort the output. Note that the verbose\n",
    "flag in the feedback action we setup in the colang above makes it print out the\n",
    "inputs and output of the function."
   ]
  },
  {
   "cell_type": "code",
   "execution_count": null,
   "metadata": {},
   "outputs": [],
   "source": [
    "# This may fail the language match:\n",
    "with tru_rails as recorder:\n",
    "    response = rails.generate(\n",
    "        messages=[\n",
    "            {\n",
    "                \"role\": \"user\",\n",
    "                \"content\": \"Please answer in Spanish: what does trulens do?\",\n",
    "            }\n",
    "        ]\n",
    "    )\n",
    "\n",
    "print(response[\"content\"])"
   ]
  },
  {
   "cell_type": "code",
   "execution_count": null,
   "metadata": {},
   "outputs": [],
   "source": [
    "# Note that the feedbacks involved in the flow are NOT record feedbacks hence\n",
    "# not available in the usual place:\n",
    "\n",
    "record = recorder.get()\n",
    "print(record.feedback_results)"
   ]
  },
  {
   "cell_type": "code",
   "execution_count": null,
   "metadata": {},
   "outputs": [],
   "source": [
    "# This should be ok though sometimes answers in English and the RAG triad may\n",
    "# fail after language match passes.\n",
    "\n",
    "with tru_rails as recorder:\n",
    "    response = rails.generate(\n",
    "        messages=[\n",
    "            {\n",
    "                \"role\": \"user\",\n",
    "                \"content\": \"Por favor responda en español: ¿qué hace trulens?\",\n",
    "            }\n",
    "        ]\n",
    "    )\n",
    "\n",
    "print(response[\"content\"])"
   ]
  },
  {
   "cell_type": "markdown",
   "metadata": {},
   "source": [
    "## RAG triad Test\n",
    "\n",
    "Lets check to make sure all 3 RAG feedback functions will run and hopefully\n",
    "pass. Note that the \"stop\" in their flow definitions means that if any one of\n",
    "them fails, no subsequent ones will be tested."
   ]
  },
  {
   "cell_type": "code",
   "execution_count": null,
   "metadata": {},
   "outputs": [],
   "source": [
    "# Should invoke retrieval:\n",
    "\n",
    "with tru_rails as recorder:\n",
    "    response = rails.generate(\n",
    "        messages=[\n",
    "            {\n",
    "                \"role\": \"user\",\n",
    "                \"content\": \"Does trulens support AzureOpenAI as a provider?\",\n",
    "            }\n",
    "        ]\n",
    "    )\n",
    "\n",
    "print(response[\"content\"])"
   ]
  }
 ],
 "metadata": {
  "kernelspec": {
   "display_name": "py311_trulens",
   "language": "python",
   "name": "python3"
  },
  "language_info": {
   "codemirror_mode": {
    "name": "ipython",
    "version": 3
   },
   "file_extension": ".py",
   "mimetype": "text/x-python",
   "name": "python",
   "nbconvert_exporter": "python",
   "pygments_lexer": "ipython3"
  }
 },
 "nbformat": 4,
 "nbformat_minor": 2
}
