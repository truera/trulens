{
 "cells": [
  {
   "cell_type": "markdown",
   "metadata": {},
   "source": [
    "# Feedback functions in _NeMo Guardrails_ apps\n",
    "\n",
    "This notebook demonstrates how to use feedback functions from within rails apps.\n",
    "The integration in the other direction, monitoring rails apps using trulens, is\n",
    "shown in the `nemoguardrails_trurails_example.ipynb` notebook.\n",
    "\n",
    "We feature two examples of how to integrate feedback in rails apps. This\n",
    "notebook goes over the more complex but ultimately more concise of the two. The\n",
    "simpler example is shown in `nemoguardrails_custom_action_feedback_example.ipynb`."
   ]
  },
  {
   "cell_type": "code",
   "execution_count": null,
   "metadata": {},
   "outputs": [],
   "source": [
    "# Install NeMo Guardrails if not already installed.\n",
    "# !pip install trulens trulens-apps-nemo trulens-providers-openai trulens-providers-huggingface nemoguardrails"
   ]
  },
  {
   "cell_type": "markdown",
   "metadata": {},
   "source": [
    "### Setup keys and trulens"
   ]
  },
  {
   "cell_type": "code",
   "execution_count": null,
   "metadata": {},
   "outputs": [],
   "source": [
    "# This notebook uses openai and huggingface providers which need some keys set.\n",
    "# You can set them here:\n",
    "\n",
    "from trulens.core import TruSession\n",
    "from trulens.core.utils.keys import check_or_set_keys\n",
    "\n",
    "check_or_set_keys(OPENAI_API_KEY=\"to fill in\", HUGGINGFACE_API_KEY=\"to fill in\")\n",
    "\n",
    "# Load trulens, reset the database:\n",
    "\n",
    "session = TruSession()\n",
    "session.reset_database()"
   ]
  },
  {
   "cell_type": "markdown",
   "metadata": {},
   "source": [
    "## Feedback functions setup\n",
    "\n",
    "Lets consider some feedback functions. We will define two types: a simple\n",
    "language match that checks whether output of the app is in the same language as\n",
    "the input. The second is a set of three for evaluating context retrieval. The\n",
    "setup for these is similar to that for other app types such as langchain except\n",
    "we provide a utility `RAG_triad` to create the three context retrieval functions\n",
    "for you instead of having to create them separately."
   ]
  },
  {
   "cell_type": "code",
   "execution_count": null,
   "metadata": {},
   "outputs": [],
   "source": [
    "from pprint import pprint\n",
    "\n",
    "from trulens.core import Feedback\n",
    "from trulens.feedback.feedback import rag_triad\n",
    "from trulens.providers.huggingface import Huggingface\n",
    "from trulens.providers.openai import OpenAI\n",
    "\n",
    "# Initialize provider classes\n",
    "openai = OpenAI()\n",
    "hugs = Huggingface()\n",
    "\n",
    "# Note that we do not specify the selectors (where the inputs to the feedback\n",
    "# functions come from):\n",
    "f_language_match = Feedback(hugs.language_match)\n",
    "\n",
    "fs_triad = rag_triad(provider=openai)\n",
    "\n",
    "# Overview of the 4 feedback functions defined.\n",
    "pprint(f_language_match)\n",
    "pprint(fs_triad)"
   ]
  },
  {
   "cell_type": "markdown",
   "metadata": {},
   "source": [
    "### Feedback functions registration\n",
    "\n",
    "To make feedback functions available to rails apps, we need to first register them the `FeedbackActions` class."
   ]
  },
  {
   "cell_type": "code",
   "execution_count": null,
   "metadata": {},
   "outputs": [],
   "source": [
    "from trulens.tru_rails import FeedbackActions\n",
    "\n",
    "FeedbackActions.register_feedback_functions(**fs_triad)\n",
    "FeedbackActions.register_feedback_functions(f_language_match)"
   ]
  },
  {
   "cell_type": "markdown",
   "metadata": {},
   "source": [
    "## Rails app setup\n",
    "\n",
    "The files created below define a configuration of a rails app adapted from\n",
    "various examples in the NeMo-Guardrails repository. There is nothing unusual\n",
    "about the app beyond the knowledge base here being the TruLens\n",
    "documentation. This means you should be able to ask the resulting bot questions\n",
    "regarding trulens instead of the fictional company handbook as was the case in\n",
    "the originating example."
   ]
  },
  {
   "cell_type": "markdown",
   "metadata": {},
   "source": [
    "Note that new additions to output rail flows in the configuration below. These are setup to run our feedback functions but their definition will come in following colang file."
   ]
  },
  {
   "cell_type": "code",
   "execution_count": null,
   "metadata": {},
   "outputs": [],
   "source": [
    "from trulens.dashboard.notebook_utils import writefileinterpolated"
   ]
  },
  {
   "cell_type": "code",
   "execution_count": null,
   "metadata": {},
   "outputs": [],
   "source": [
    "%%writefileinterpolated config.yaml\n",
    "# Adapted from NeMo-Guardrails/nemoguardrails/examples/bots/abc/config.yml\n",
    "instructions:\n",
    "  - type: general\n",
    "    content: |\n",
    "      Below is a conversation between a user and a bot called the trulens Bot.\n",
    "      The bot is designed to answer questions about the trulens python library.\n",
    "      The bot is knowledgeable about python.\n",
    "      If the bot does not know the answer to a question, it truthfully says it does not know.\n",
    "\n",
    "sample_conversation: |\n",
    "  user \"Hi there. Can you help me with some questions I have about trulens?\"\n",
    "    express greeting and ask for assistance\n",
    "  bot express greeting and confirm and offer assistance\n",
    "    \"Hi there! I'm here to help answer any questions you may have about the trulens. What would you like to know?\"\n",
    "\n",
    "models:\n",
    "  - type: main\n",
    "    engine: openai\n",
    "    model: gpt-3.5-turbo-instruct\n",
    "\n",
    "rails:\n",
    "  output:\n",
    "    flows:\n",
    "      - check language match\n",
    "      # triad defined separately so hopefully they can be executed in parallel\n",
    "      - check rag triad groundedness\n",
    "      - check rag triad relevance\n",
    "      - check rag triad context_relevance"
   ]
  },
  {
   "cell_type": "markdown",
   "metadata": {},
   "source": [
    "### Output flows with feedback\n",
    "\n",
    "Next we define output flows that include checks using all 4 feedback functions we registered above. We will need to specify to the Feedback action the sources of feedback function arguments. The selectors for those can be specified manually or by way of utility container `RailsActionSelect`. The data structure from which selectors pick our feedback inputs contains all of the arguments of NeMo GuardRails custom action methods:\n",
    "\n",
    "```python\n",
    "    async def feedback(\n",
    "        events: Optional[List[Dict]] = None, \n",
    "        context: Optional[Dict] = None,\n",
    "        llm: Optional[BaseLanguageModel] = None,\n",
    "        config: Optional[RailsConfig] = None,\n",
    "        ...\n",
    "    )\n",
    "        ...\n",
    "        source_data = dict(\n",
    "            action=dict(\n",
    "                events=events,\n",
    "                context=context,\n",
    "                llm=llm,\n",
    "                config=config\n",
    "            )\n",
    "        )\n",
    "```"
   ]
  },
  {
   "cell_type": "code",
   "execution_count": null,
   "metadata": {},
   "outputs": [],
   "source": [
    "from trulens.apps.nemo import RailsActionSelect\n",
    "\n",
    "# Will need to refer to these selectors/lenses to define triade checks. We can\n",
    "# use these shorthands to make things a bit easier. If you are writing\n",
    "# non-temporary config files, you can print these lenses to help with the\n",
    "# selectors:\n",
    "\n",
    "question_lens = RailsActionSelect.LastUserMessage\n",
    "answer_lens = RailsActionSelect.BotMessage  # not LastBotMessage as the flow is evaluated before LastBotMessage is available\n",
    "contexts_lens = RailsActionSelect.RetrievalContexts\n",
    "\n",
    "# Inspect the values of the shorthands:\n",
    "print(list(map(str, [question_lens, answer_lens, contexts_lens])))"
   ]
  },
  {
   "cell_type": "markdown",
   "metadata": {},
   "source": [
    "#### Action invocation\n",
    "\n",
    "We can now define output flows that evaluate feedback functions. These are the four \"subflow\"s in the colang below."
   ]
  },
  {
   "cell_type": "code",
   "execution_count": null,
   "metadata": {},
   "outputs": [],
   "source": [
    "%%writefileinterpolated config.co\n",
    "# Adapted from NeMo-Guardrails/tests/test_configs/with_kb_openai_embeddings/config.co\n",
    "define user ask capabilities\n",
    "  \"What can you do?\"\n",
    "  \"What can you help me with?\"\n",
    "  \"tell me what you can do\"\n",
    "  \"tell me about you\"\n",
    "\n",
    "define bot inform language mismatch\n",
    "  \"I may not be able to answer in your language.\"\n",
    "\n",
    "define bot inform triad failure\n",
    "  \"I may may have made a mistake interpreting your question or my knowledge base.\"\n",
    "\n",
    "define flow\n",
    "  user ask trulens\n",
    "  bot inform trulens\n",
    "\n",
    "define parallel subflow check language match\n",
    "  $result = execute feedback(\\\n",
    "    function=\"language_match\",\\\n",
    "    selectors={{\\\n",
    "      \"text1\":\"{question_lens}\",\\\n",
    "      \"text2\":\"{answer_lens}\"\\\n",
    "    }},\\\n",
    "    verbose=True\\\n",
    "  )\n",
    "  if $result < 0.8\n",
    "    bot inform language mismatch\n",
    "    stop\n",
    "\n",
    "define parallel subflow check rag triad groundedness\n",
    "  $result = execute feedback(\\\n",
    "    function=\"groundedness_measure_with_cot_reasons\",\\\n",
    "    selectors={{\\\n",
    "      \"statement\":\"{answer_lens}\",\\\n",
    "      \"source\":\"{contexts_lens}\"\\\n",
    "    }},\\\n",
    "    verbose=True\\\n",
    "  )\n",
    "  if $result < 0.7\n",
    "    bot inform triad failure\n",
    "    stop\n",
    "\n",
    "define parallel subflow check rag triad relevance\n",
    "  $result = execute feedback(\\\n",
    "    function=\"relevance\",\\\n",
    "    selectors={{\\\n",
    "      \"prompt\":\"{question_lens}\",\\\n",
    "      \"response\":\"{contexts_lens}\"\\\n",
    "    }},\\\n",
    "    verbose=True\\\n",
    "  )\n",
    "  if $result < 0.7\n",
    "    bot inform triad failure\n",
    "    stop\n",
    "\n",
    "define parallel subflow check rag triad context_relevance\n",
    "  $result = execute feedback(\\\n",
    "    function=\"context_relevance\",\\\n",
    "    selectors={{\\\n",
    "      \"question\":\"{question_lens}\",\\\n",
    "      \"statement\":\"{answer_lens}\"\\\n",
    "    }},\\\n",
    "    verbose=True\\\n",
    "  )\n",
    "  if $result < 0.7\n",
    "    bot inform triad failure\n",
    "    stop\n"
   ]
  },
  {
   "cell_type": "markdown",
   "metadata": {},
   "source": [
    "## Rails app instantiation\n",
    "\n",
    "The instantiation of the app does not differ from the steps presented in NeMo."
   ]
  },
  {
   "cell_type": "code",
   "execution_count": null,
   "metadata": {},
   "outputs": [],
   "source": [
    "from nemoguardrails import LLMRails\n",
    "from nemoguardrails import RailsConfig\n",
    "\n",
    "config = RailsConfig.from_path(\".\")\n",
    "rails = LLMRails(config)"
   ]
  },
  {
   "cell_type": "markdown",
   "metadata": {},
   "source": [
    "### Feedback action registration\n",
    "\n",
    "We need to register the method `FeedbackActions.feedback_action` as an action to be able to make use of it inside the flows we defined above."
   ]
  },
  {
   "cell_type": "code",
   "execution_count": null,
   "metadata": {},
   "outputs": [],
   "source": [
    "rails.register_action(FeedbackActions.feedback_action)"
   ]
  },
  {
   "cell_type": "markdown",
   "metadata": {},
   "source": [
    "## Optional `TruRails` recorder instantiation\n",
    "\n",
    "Though not required, we can also use a trulens recorder to monitor our app."
   ]
  },
  {
   "cell_type": "code",
   "execution_count": null,
   "metadata": {},
   "outputs": [],
   "source": [
    "from trulens.apps.nemo import TruRails\n",
    "\n",
    "tru_rails = TruRails(rails)"
   ]
  },
  {
   "cell_type": "markdown",
   "metadata": {},
   "source": [
    "## Language match test invocation\n",
    "\n",
    "Lets try to make the app respond in a different language than the question to\n",
    "try to get the language match flow to abort the output. Note that the verbose\n",
    "flag in the feedback action we setup in the colang above makes it print out the\n",
    "inputs and output of the function."
   ]
  },
  {
   "cell_type": "code",
   "execution_count": null,
   "metadata": {},
   "outputs": [],
   "source": [
    "# This may fail the language match:\n",
    "with tru_rails as recorder:\n",
    "    response = await rails.generate_async(\n",
    "        messages=[\n",
    "            {\n",
    "                \"role\": \"user\",\n",
    "                \"content\": \"Please answer in Spanish: what does trulens do?\",\n",
    "            }\n",
    "        ]\n",
    "    )\n",
    "\n",
    "print(response[\"content\"])"
   ]
  },
  {
   "cell_type": "code",
   "execution_count": null,
   "metadata": {},
   "outputs": [],
   "source": [
    "# Note that the feedbacks involved in the flow are NOT record feedbacks hence\n",
    "# not available in the usual place:\n",
    "\n",
    "record = recorder.get()\n",
    "print(record.feedback_results)"
   ]
  },
  {
   "cell_type": "code",
   "execution_count": null,
   "metadata": {},
   "outputs": [],
   "source": [
    "# This should be ok though sometimes answers in English and the RAG triad may\n",
    "# fail after language match passes.\n",
    "\n",
    "with tru_rails as recorder:\n",
    "    response = rails.generate(\n",
    "        messages=[\n",
    "            {\n",
    "                \"role\": \"user\",\n",
    "                \"content\": \"Por favor responda en español: ¿qué hace trulens?\",\n",
    "            }\n",
    "        ]\n",
    "    )\n",
    "\n",
    "print(response[\"content\"])"
   ]
  },
  {
   "cell_type": "markdown",
   "metadata": {},
   "source": [
    "## RAG triad Test\n",
    "\n",
    "Lets check to make sure all 3 RAG feedback functions will run and hopefully\n",
    "pass. Note that the \"stop\" in their flow definitions means that if any one of\n",
    "them fails, no subsequent ones will be tested."
   ]
  },
  {
   "cell_type": "code",
   "execution_count": null,
   "metadata": {},
   "outputs": [],
   "source": [
    "# Should invoke retrieval:\n",
    "\n",
    "with tru_rails as recorder:\n",
    "    response = rails.generate(\n",
    "        messages=[\n",
    "            {\n",
    "                \"role\": \"user\",\n",
    "                \"content\": \"Does trulens support AzureOpenAI as a provider?\",\n",
    "            }\n",
    "        ]\n",
    "    )\n",
    "\n",
    "print(response[\"content\"])"
   ]
  }
 ],
 "metadata": {
  "kernelspec": {
   "display_name": "py311_trulens",
   "language": "python",
   "name": "python3"
  },
  "language_info": {
   "codemirror_mode": {
    "name": "ipython",
    "version": 3
   },
   "file_extension": ".py",
   "mimetype": "text/x-python",
   "name": "python",
   "nbconvert_exporter": "python",
   "pygments_lexer": "ipython3"
  }
 },
 "nbformat": 4,
 "nbformat_minor": 2
}
