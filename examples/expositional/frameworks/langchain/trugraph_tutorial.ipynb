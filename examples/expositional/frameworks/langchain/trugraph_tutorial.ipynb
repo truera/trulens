{
 "cells": [
  {
   "cell_type": "markdown",
   "metadata": {},
   "source": [
    "# TruGraph Tutorial: Instrumenting LangGraph Applications\n",
    "\n",
    "This notebook demonstrates how to use TruGraph to instrument LangGraph applications for evaluation and monitoring.\n",
    "\n",
    "## Overview\n",
    "\n",
    "TruGraph provides:\n",
    "- **Automatic detection** of LangGraph applications\n",
    "- **Combined instrumentation** of both LangChain and LangGraph components\n",
    "- **Multi-agent evaluation** capabilities\n",
    "- **Automatic @task instrumentation** with intelligent attribute extraction\n",
    "\n",
    "## Installation\n",
    "\n",
    "First, make sure you have the required packages installed:\n"
   ]
  },
  {
   "cell_type": "code",
   "execution_count": null,
   "metadata": {},
   "outputs": [],
   "source": [
    "# Install required packages\n",
    "#!pip install trulens-apps-langgraph langgraph langchain-core langchain-openai langchain-community\n"
   ]
  },
  {
   "cell_type": "markdown",
   "metadata": {},
   "source": [
    "## Basic Setup\n",
    "\n",
    "Let's start by checking if LangGraph is available and importing the necessary components:\n"
   ]
  },
  {
   "cell_type": "code",
   "execution_count": null,
   "metadata": {},
   "outputs": [],
   "source": [
    "# Check if LangGraph is available\n",
    "try:\n",
    "    from langgraph.graph import StateGraph, MessagesState, END\n",
    "    from langchain_core.messages import HumanMessage, AIMessage\n",
    "    from trulens.apps.langgraph import TruGraph\n",
    "    from trulens.core.session import TruSession\n",
    "    print(\"✅ LangGraph and TruGraph are available!\")\n",
    "    LANGGRAPH_AVAILABLE = True\n",
    "except ImportError as e:\n",
    "    print(f\"❌ LangGraph not available: {e}\")\n",
    "    LANGGRAPH_AVAILABLE = False\n"
   ]
  },
  {
   "cell_type": "markdown",
   "metadata": {},
   "source": [
    "## Example 1: Simple Multi-Agent Workflow\n",
    "\n",
    "Let's create a basic multi-agent workflow with a researcher and writer:\n"
   ]
  },
  {
   "cell_type": "code",
   "execution_count": null,
   "metadata": {},
   "outputs": [],
   "source": [
    "if LANGGRAPH_AVAILABLE:\n",
    "    # Define agent functions\n",
    "    def research_agent(state):\n",
    "        \"\"\"Agent that performs research on a topic.\"\"\"\n",
    "        messages = state.get(\"messages\", [])\n",
    "        if messages:\n",
    "            last_message = messages[-1]\n",
    "            if hasattr(last_message, \"content\"):\n",
    "                query = last_message.content\n",
    "            else:\n",
    "                query = str(last_message)\n",
    "            \n",
    "            # Simulate research (in a real app, this would call external APIs)\n",
    "            research_results = f\"Research findings for '{query}': This is a comprehensive analysis of the topic.\"\n",
    "            return {\"messages\": [AIMessage(content=research_results)]}\n",
    "        \n",
    "        return {\"messages\": [AIMessage(content=\"No research query provided\")]}\n",
    "    \n",
    "    def writer_agent(state):\n",
    "        \"\"\"Agent that writes articles based on research.\"\"\"\n",
    "        messages = state.get(\"messages\", [])\n",
    "        if messages:\n",
    "            last_message = messages[-1]\n",
    "            if hasattr(last_message, \"content\"):\n",
    "                research_content = last_message.content\n",
    "            else:\n",
    "                research_content = str(last_message)\n",
    "            \n",
    "            # Simulate article writing\n",
    "            article = f\"Article: Based on the research - {research_content[:100]}...\"\n",
    "            return {\"messages\": [AIMessage(content=article)]}\n",
    "        \n",
    "        return {\"messages\": [AIMessage(content=\"No research content provided\")]}\n",
    "    \n",
    "    # Create the workflow\n",
    "    workflow = StateGraph(MessagesState)\n",
    "    workflow.add_node(\"researcher\", research_agent)\n",
    "    workflow.add_node(\"writer\", writer_agent)\n",
    "    workflow.add_edge(\"researcher\", \"writer\")\n",
    "    workflow.add_edge(\"writer\", END)\n",
    "    workflow.set_entry_point(\"researcher\")\n",
    "    \n",
    "    # Compile the graph\n",
    "    graph = workflow.compile()\n",
    "    \n",
    "    print(\"✅ Multi-agent workflow created successfully!\")\n",
    "    print(f\"Graph type: {type(graph)}\")\n",
    "    print(f\"Graph module: {graph.__module__}\")\n",
    "else:\n",
    "    print(\"❌ Skipping workflow creation - LangGraph not available\")\n"
   ]
  },
  {
   "cell_type": "markdown",
   "metadata": {},
   "source": [
    "## Example 2: Test Auto-Detection\n",
    "\n",
    "Let's test whether TruSession can automatically detect our LangGraph application:\n"
   ]
  },
  {
   "cell_type": "markdown",
   "metadata": {},
   "source": [
    "## Automatic @task Detection\n",
    "\n",
    "One of the key features of TruGraph is its ability to automatically detect and instrument functions decorated with LangGraph's `@task` decorator. This means you can use standard LangGraph patterns without any additional instrumentation code.\n",
    "\n",
    "### How it works:\n",
    "\n",
    "1. **Automatic Detection**: TruGraph automatically scans for functions decorated with `@task`\n",
    "2. **Smart Attribute Extraction**: It intelligently extracts information from function arguments:\n",
    "   - Handles `BaseChatModel` and `BaseModel` objects\n",
    "   - Extracts data from dataclasses and Pydantic models\n",
    "   - Skips non-serializable objects like LLM pools\n",
    "   - Captures return values and exceptions\n",
    "3. **Seamless Integration**: No additional decorators or code changes required\n",
    "\n",
    "### Example Usage:\n",
    "\n",
    "```python\n",
    "from langgraph.func import task\n",
    "\n",
    "@task  # This is automatically detected and instrumented by TruGraph\n",
    "def my_agent_function(state, config):\n",
    "    # Your agent logic here\n",
    "    return updated_state\n",
    "```\n",
    "\n",
    "The instrumentation happens automatically when you create a TruGraph instance - no manual setup required!\n"
   ]
  },
  {
   "cell_type": "code",
   "execution_count": null,
   "metadata": {},
   "outputs": [],
   "source": [
    "if LANGGRAPH_AVAILABLE:\n",
    "    # Test the detection\n",
    "    session = TruSession()\n",
    "    \n",
    "    print(\"🔍 Testing LangGraph Detection:\")\n",
    "    print(f\"  Module check: {graph.__module__.startswith('langgraph')}\")\n",
    "    print(f\"  Type check: {session._is_langgraph_app(graph)}\")\n",
    "    print(f\"  Has graph attr: {hasattr(graph, 'graph')}\")\n",
    "    print(f\"  Has invoke method: {hasattr(graph, 'invoke')}\")\n",
    "    \n",
    "    # Test automatic detection\n",
    "    print(\"\\n🎯 Testing Automatic Detection:\")\n",
    "    tru_app = session.App(graph, app_name=\"AutoDetectionTest\")\n",
    "    \n",
    "    print(f\"  Created type: {type(tru_app)}\")\n",
    "    print(f\"  Is TruGraph: {isinstance(tru_app, TruGraph)}\")\n",
    "    print(f\"  App name: {tru_app.app_name}\")\n",
    "    \n",
    "    if isinstance(tru_app, TruGraph):\n",
    "        print(\"✅ SUCCESS: Auto-detection worked!\")\n",
    "        \n",
    "        # Test basic functionality\n",
    "        test_input = {\"messages\": [HumanMessage(content=\"What is AI?\")]}\n",
    "        result = tru_app.app.invoke(test_input)\n",
    "        print(f\"  Test result: {result['messages'][-1].content[:50]}...\")\n",
    "        \n",
    "    else:\n",
    "        print(\"❌ FAILED: Auto-detection didn't work\")\n",
    "        \n",
    "    print(\"\\n🎉 TruGraph Tutorial Complete!\")\n",
    "    print(\"For more examples, check the TruLens documentation at https://trulens.org/\")\n",
    "else:\n",
    "    print(\"❌ Skipping detection test - LangGraph not available\")\n"
   ]
  }
 ],
 "metadata": {
  "kernelspec": {
   "display_name": "trugraph",
   "language": "python",
   "name": "python3"
  },
  "language_info": {
   "codemirror_mode": {
    "name": "ipython",
    "version": 3
   },
   "file_extension": ".py",
   "mimetype": "text/x-python",
   "name": "python",
   "nbconvert_exporter": "python",
   "pygments_lexer": "ipython3"
  }
 },
 "nbformat": 4,
 "nbformat_minor": 2
}
