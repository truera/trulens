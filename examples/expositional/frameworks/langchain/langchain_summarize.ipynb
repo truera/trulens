{
 "cells": [
  {
   "attachments": {},
   "cell_type": "markdown",
   "metadata": {},
   "source": [
    "## Summarization\n",
    "\n",
    "In this example, you will learn how to create a summarization app and evaluate + track it in TruLens\n",
    "\n",
    "[![Open In Colab](https://colab.research.google.com/assets/colab-badge.svg)](https://colab.research.google.com/github/truera/trulens/blob/main/examples/expositional/frameworks/langchain/langchain_summarize.ipynb)"
   ]
  },
  {
   "attachments": {},
   "cell_type": "markdown",
   "metadata": {},
   "source": [
    "### Import libraries"
   ]
  },
  {
   "cell_type": "code",
   "execution_count": null,
   "metadata": {},
   "outputs": [],
   "source": [
    "# !pip install --pre trulens trulens-instrument-langchain trulens-providers-openai langchain==0.0.283 langchain_community"
   ]
  },
  {
   "cell_type": "code",
   "execution_count": null,
   "metadata": {},
   "outputs": [],
   "source": [
    "from langchain.chains.summarize import load_summarize_chain\n",
    "from langchain.text_splitter import RecursiveCharacterTextSplitter\n",
    "from trulens.instrument.langchain import Feedback\n",
    "from trulens.instrument.langchain import FeedbackMode\n",
    "from trulens.instrument.langchain import Query\n",
    "from trulens.instrument.langchain import Tru\n",
    "from trulens.instrument.langchain import TruChain\n",
    "from trulens.providers.openai import OpenAI\n",
    "\n",
    "tru = Tru()"
   ]
  },
  {
   "attachments": {},
   "cell_type": "markdown",
   "metadata": {},
   "source": [
    "### Set API Keys\n",
    "\n",
    "For this example, we need API keys for the Huggingface and OpenAI"
   ]
  },
  {
   "cell_type": "code",
   "execution_count": null,
   "metadata": {},
   "outputs": [],
   "source": [
    "import os\n",
    "\n",
    "os.environ[\"OPENAI_API_KEY\"] = \"...\"\n",
    "os.environ[\"HUGGINGFACE_API_KEY\"] = \"...\""
   ]
  },
  {
   "cell_type": "code",
   "execution_count": null,
   "metadata": {},
   "outputs": [],
   "source": [
    "provider = OpenAI()\n",
    "\n",
    "# Define a moderation feedback function using HuggingFace.\n",
    "mod_not_hate = Feedback(provider.moderation_not_hate).on(\n",
    "    text=Query.RecordInput[:].page_content\n",
    ")\n",
    "\n",
    "\n",
    "def wrap_chain_trulens(chain):\n",
    "    return TruChain(\n",
    "        chain,\n",
    "        app_id=\"ChainOAI\",\n",
    "        feedbacks=[mod_not_hate],\n",
    "        feedback_mode=FeedbackMode.WITH_APP,  # calls to TruChain will block until feedback is done evaluating\n",
    "    )\n",
    "\n",
    "\n",
    "def get_summary_model(text):\n",
    "    \"\"\"\n",
    "    Produce summary chain, given input text.\n",
    "    \"\"\"\n",
    "\n",
    "    llm = OpenAI(temperature=0, openai_api_key=\"\")\n",
    "    text_splitter = RecursiveCharacterTextSplitter(\n",
    "        separators=[\"\\n\\n\", \"\\n\", \" \"], chunk_size=8000, chunk_overlap=350\n",
    "    )\n",
    "    docs = text_splitter.create_documents([text])\n",
    "    print(f\"You now have {len(docs)} docs instead of 1 piece of text.\")\n",
    "\n",
    "    return docs, load_summarize_chain(llm=llm, chain_type=\"map_reduce\")"
   ]
  },
  {
   "cell_type": "code",
   "execution_count": null,
   "metadata": {},
   "outputs": [],
   "source": [
    "from datasets import load_dataset\n",
    "\n",
    "billsum = load_dataset(\"billsum\", split=\"ca_test\")\n",
    "text = billsum[\"text\"][0]\n",
    "\n",
    "docs, chain = get_summary_model(text)\n",
    "\n",
    "# use wrapped chain as context manager\n",
    "with wrap_chain_trulens(chain) as recording:\n",
    "    chain(docs)"
   ]
  },
  {
   "attachments": {},
   "cell_type": "markdown",
   "metadata": {},
   "source": [
    "### Run the TruLens dashboard"
   ]
  },
  {
   "cell_type": "code",
   "execution_count": null,
   "metadata": {},
   "outputs": [],
   "source": [
    "from trulens.dashboard import run_dashboard\n",
    "\n",
    "run_dashboard(tru)"
   ]
  }
 ],
 "metadata": {
  "kernelspec": {
   "display_name": "Python 3.11.4 ('agents')",
   "language": "python",
   "name": "python3"
  },
  "language_info": {
   "codemirror_mode": {
    "name": "ipython",
    "version": 3
   },
   "file_extension": ".py",
   "mimetype": "text/x-python",
   "name": "python",
   "nbconvert_exporter": "python",
   "pygments_lexer": "ipython3"
  },
  "vscode": {
   "interpreter": {
    "hash": "7d153714b979d5e6d08dd8ec90712dd93bff2c9b6c1f0c118169738af3430cd4"
   }
  }
 },
 "nbformat": 4,
 "nbformat_minor": 2
}
