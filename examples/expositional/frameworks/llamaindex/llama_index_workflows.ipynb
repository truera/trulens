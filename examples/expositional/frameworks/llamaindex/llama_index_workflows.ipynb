{
 "cells": [
  {
   "cell_type": "markdown",
   "id": "505e3e9a",
   "metadata": {},
   "source": [
    "# Llama-Index Workflows\n",
    "\n",
    "LlamaIndex Workflows are a framework for orchestrating and chaining together complex systems of steps and events, commonly used for building AI agents, research assistants, document processing pipelines and more.\n",
    "\n",
    "TruLens supports tracing for LlamaIndex workflows, allowing you to understand exactly what happens in the agent execution flow."
   ]
  },
  {
   "cell_type": "markdown",
   "id": "8f7d3900",
   "metadata": {},
   "source": [
    "## Set Keys"
   ]
  },
  {
   "cell_type": "code",
   "execution_count": null,
   "id": "f1d19beb",
   "metadata": {},
   "outputs": [],
   "source": [
    "import os\n",
    "\n",
    "os.environ[\"OPENAI_API_KEY\"] = \"sk-proj-...\""
   ]
  },
  {
   "cell_type": "markdown",
   "id": "96ecc8ad",
   "metadata": {},
   "source": [
    "## Create a Workflow"
   ]
  },
  {
   "cell_type": "code",
   "execution_count": null,
   "id": "77a1a4fe",
   "metadata": {},
   "outputs": [],
   "source": [
    "from workflows import Workflow, step\n",
    "from workflows.events import (\n",
    "    Event,\n",
    "    StartEvent,\n",
    "    StopEvent,\n",
    ")\n",
    "from llama_index.llms.openai import OpenAI\n",
    "\n",
    "class JokeEvent(Event):\n",
    "    joke: str\n",
    "\n",
    "class JokeFlow(Workflow):\n",
    "    llm = OpenAI()\n",
    "\n",
    "    @step\n",
    "    async def generate_joke(self, ev: StartEvent) -> JokeEvent:\n",
    "        topic = ev.topic\n",
    "\n",
    "        prompt = f\"Write your best joke about {topic}.\"\n",
    "        response = await self.llm.acomplete(prompt)\n",
    "        return JokeEvent(joke=str(response))\n",
    "\n",
    "    @step\n",
    "    async def critique_joke(self, ev: JokeEvent) -> StopEvent:\n",
    "        joke = ev.joke\n",
    "\n",
    "        prompt = f\"Give a thorough analysis and critique of the following joke: {joke}\"\n",
    "        response = await self.llm.acomplete(prompt)\n",
    "        return StopEvent(result=str(response))"
   ]
  },
  {
   "cell_type": "markdown",
   "id": "566ba4e3",
   "metadata": {},
   "source": [
    "## Start a TruLens session for logging"
   ]
  },
  {
   "cell_type": "code",
   "execution_count": null,
   "id": "2ef25f77",
   "metadata": {},
   "outputs": [],
   "source": [
    "from trulens.core.session import TruSession\n",
    "\n",
    "session = TruSession()"
   ]
  },
  {
   "cell_type": "markdown",
   "id": "d8cb03e6",
   "metadata": {},
   "source": [
    "## Register the workflow"
   ]
  },
  {
   "cell_type": "code",
   "execution_count": null,
   "id": "1e218a4f",
   "metadata": {},
   "outputs": [],
   "source": [
    "from trulens.apps.llamaindex import TruLlamaWorkflow\n",
    "\n",
    "w = JokeFlow(timeout=60, verbose=False)\n",
    "\n",
    "tru_workflow_recorder = TruLlamaWorkflow(\n",
    "    w,\n",
    "    app_name=\"Jokeflow\",\n",
    "    app_version=\"base\",\n",
    "    main_method=w.run,\n",
    ")"
   ]
  },
  {
   "cell_type": "markdown",
   "id": "92935796",
   "metadata": {},
   "source": [
    "## Record workflow usage"
   ]
  },
  {
   "cell_type": "code",
   "execution_count": null,
   "id": "db68a211",
   "metadata": {},
   "outputs": [],
   "source": [
    "with tru_workflow_recorder as recording:\n",
    "    result = await w.run(topic=\"pirates\")\n",
    "    print(str(result))"
   ]
  },
  {
   "cell_type": "markdown",
   "id": "1c771155",
   "metadata": {},
   "source": [
    "## View in the dashboard"
   ]
  },
  {
   "cell_type": "code",
   "execution_count": null,
   "id": "72329520",
   "metadata": {},
   "outputs": [],
   "source": [
    "from trulens.dashboard import run_dashboard\n",
    "\n",
    "run_dashboard()"
   ]
  }
 ],
 "metadata": {
  "kernelspec": {
   "display_name": "trulens_test",
   "language": "python",
   "name": "python3"
  },
  "language_info": {
   "codemirror_mode": {
    "name": "ipython",
    "version": 3
   },
   "file_extension": ".py",
   "mimetype": "text/x-python",
   "name": "python",
   "nbconvert_exporter": "python",
   "pygments_lexer": "ipython3"
  }
 },
 "nbformat": 4,
 "nbformat_minor": 5
}
