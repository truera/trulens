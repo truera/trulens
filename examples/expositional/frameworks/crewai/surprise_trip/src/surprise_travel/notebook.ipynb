{
 "cells": [
  {
   "cell_type": "code",
   "execution_count": null,
   "metadata": {},
   "outputs": [],
   "source": [
    "# Install fixes to crewai and crewai_tools:\n",
    "# ! pip uninstall -y crewai crewai_tools\n",
    "# ! pip install git+https://github.com/piotrm0/crewAI@piotrm/wraps\n",
    "# ! pip install git+https://github.com/piotrm0/crewAI-tools@piotrm/base_tool \n",
    "# ! pip list | grep crew"
   ]
  },
  {
   "cell_type": "code",
   "execution_count": null,
   "metadata": {},
   "outputs": [],
   "source": [
    "from pathlib import Path\n",
    "import sys\n",
    "sys.path.append(str(Path.cwd().parent))\n",
    "\n",
    "from dotenv import load_dotenv\n",
    "load_dotenv()\n",
    "\n",
    "# If you have these in your env, they seem to be picked up by litellm for\n",
    "# requests which should not use them and thus cause problems.\n",
    "import os\n",
    "del os.environ['AWS_ACCESS_KEY_ID']\n",
    "del os.environ['AWS_SECRET_ACCESS_KEY']"
   ]
  },
  {
   "cell_type": "code",
   "execution_count": null,
   "metadata": {},
   "outputs": [],
   "source": [
    "import trulens.core.utils.threading # to patch Thread and ThreadPoolExecutor\n",
    "from trulens.core.session import TruSession\n",
    "from trulens.apps.custom import TruCustomApp\n",
    "\n",
    "session = TruSession()\n",
    "session.experimental_enable_feature(\"otel_tracing\")\n",
    "\n",
    "session.reset_database()\n",
    "session.start_dashboard(force=True, port=8080)"
   ]
  },
  {
   "cell_type": "code",
   "execution_count": null,
   "metadata": {},
   "outputs": [],
   "source": [
    "from surprise_travel.crew import SurpriseTravelCrew\n",
    "\n",
    "surprise_travel_crew = SurpriseTravelCrew()\n",
    "surprise_travel_crew.crew = surprise_travel_crew.create_crew()\n",
    "\n",
    "tru_suprise_travel_crew = TruCustomApp(\n",
    "    surprise_travel_crew,\n",
    "    app_name=\"SurpriseTravelCrew\",\n",
    "    app_version=\"1.0.0\",\n",
    "    feedbacks=[],\n",
    ")"
   ]
  },
  {
   "cell_type": "code",
   "execution_count": null,
   "metadata": {},
   "outputs": [],
   "source": [
    "inputs = {\n",
    "    \"origin\": \"São Paulo, GRU\",\n",
    "    \"destination\": \"New York, JFK\",\n",
    "    \"age\": 31,\n",
    "    \"hotel_location\": \"Brooklyn\",\n",
    "    \"flight_information\": \"GOL 1234, leaving at June 30th, 2024, 10:00\",\n",
    "    \"trip_duration\": \"3 days\",\n",
    "}"
   ]
  },
  {
   "cell_type": "code",
   "execution_count": null,
   "metadata": {},
   "outputs": [],
   "source": [
    "# run without trulens:\n",
    "# result = surprise_travel_crew.crew.kickoff(inputs=inputs)"
   ]
  },
  {
   "cell_type": "code",
   "execution_count": null,
   "metadata": {},
   "outputs": [],
   "source": [
    "with tru_suprise_travel_crew as recorder:\n",
    "    result = surprise_travel_crew.crew.kickoff(inputs=inputs)"
   ]
  },
  {
   "cell_type": "code",
   "execution_count": null,
   "metadata": {},
   "outputs": [],
   "source": [
    "for record in recorder.records:\n",
    "    print(record.record_id)\n",
    "    print(record)"
   ]
  }
 ],
 "metadata": {
  "kernelspec": {
   "display_name": "trulens-9bG3yHQd-py3.11",
   "language": "python",
   "name": "python3"
  },
  "language_info": {
   "codemirror_mode": {
    "name": "ipython",
    "version": 3
   },
   "file_extension": ".py",
   "mimetype": "text/x-python",
   "name": "python",
   "nbconvert_exporter": "python",
   "pygments_lexer": "ipython3"
  }
 },
 "nbformat": 4,
 "nbformat_minor": 2
}
