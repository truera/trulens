{
 "cells": [
  {
   "cell_type": "markdown",
   "metadata": {},
   "source": [
    "# 📓 DummyApp\n",
    "\n",
    "The files in this folder code a custom app that resembles an LLM app with\n",
    "separate classes for common app components. None of these components make\n",
    "network calls but pretend to otherwise operate like real components.\n",
    "\n",
    "__WARNING__: This example must be run from the git repository as it imports\n",
    "files that are not included in a PIP distribution."
   ]
  },
  {
   "cell_type": "code",
   "execution_count": null,
   "metadata": {},
   "outputs": [],
   "source": [
    "from pathlib import Path\n",
    "import sys\n",
    "\n",
    "repo_path = Path().cwd().parent.parent.parent.resolve()\n",
    "\n",
    "# If using trulens from the repository, add the parent directory to the path:\n",
    "sys.path.append(str(repo_path))"
   ]
  },
  {
   "cell_type": "code",
   "execution_count": null,
   "metadata": {},
   "outputs": [],
   "source": [
    "from trulens.apps.custom import TruCustomApp\n",
    "from trulens.core import TruSession\n",
    "\n",
    "from examples.dev.dummy_app.agent import DummyAgent\n",
    "from examples.dev.dummy_app.app import DummyApp\n",
    "\n",
    "session = TruSession()\n",
    "session.reset_database()"
   ]
  },
  {
   "cell_type": "code",
   "execution_count": null,
   "metadata": {},
   "outputs": [],
   "source": [
    "# Create custom app:\n",
    "ca = DummyApp()\n",
    "\n",
    "# Create trulens wrapper:\n",
    "ta = TruCustomApp(\n",
    "    ca,\n",
    "    app_name=\"customapp\",\n",
    ")"
   ]
  },
  {
   "cell_type": "code",
   "execution_count": null,
   "metadata": {},
   "outputs": [],
   "source": [
    "# Show instrumented components and methods.\n",
    "\n",
    "ta.print_instrumented()"
   ]
  },
  {
   "cell_type": "code",
   "execution_count": null,
   "metadata": {},
   "outputs": [],
   "source": [
    "# Normal usage (without tracing):\n",
    "ca.respond_to_query(query=\"What is the capital of Indonesia?\")\n",
    "\n",
    "# Instrumented usage:\n",
    "with ta as recorder:\n",
    "    response = ca.respond_to_query(query=\"What is the capital of Indonesia?\")\n",
    "\n",
    "record = recorder.get()"
   ]
  },
  {
   "cell_type": "code",
   "execution_count": null,
   "metadata": {},
   "outputs": [],
   "source": [
    "# Show the app output:\n",
    "\n",
    "# response"
   ]
  },
  {
   "cell_type": "code",
   "execution_count": null,
   "metadata": {},
   "outputs": [],
   "source": [
    "# Show the instrumentation record.\n",
    "\n",
    "# record.model_dump()"
   ]
  },
  {
   "cell_type": "code",
   "execution_count": null,
   "metadata": {},
   "outputs": [],
   "source": [
    "# Start the dasshboard.\n",
    "from trulens.dashboard import run_dashboard\n",
    "\n",
    "run_dashboard(_dev=repo_path, force=True)"
   ]
  },
  {
   "cell_type": "markdown",
   "metadata": {},
   "source": [
    "# DummyApp options\n",
    "\n",
    "The custom app used above has some configuration options or call variants with\n",
    "differing behaviours:\n",
    "\n",
    "- Number of agents and number of tools is configurable via `DummyApp` class\n",
    "  params/attributes `num_agents` and `num_tools`.\n",
    "\n",
    "- Simulated delay and memory usage controlled by `Dummy` class `delay` and\n",
    "  `alloc` attributes. All other components subtype `Dummy` hence also implement\n",
    "  simulated delays and allocations.\n",
    "\n",
    "- Non-determinism control via the `Dummy` class `seed` attribute. Randomness in\n",
    "  some components can be somewhat controlled by this attribute. The control is\n",
    "  presently incomplete as threading and async usage (described below) is not\n",
    "  controlled by `seed`.\n",
    "\n",
    "- Async methods. These begin with the letter \"a\" followed by the sync method\n",
    "  name.\n",
    "\n",
    "- Streaming methods. The main method to app and the generation methods to the\n",
    "  llm component each have streaming versions (`stream_respond_to_query` and\n",
    "  `stream`). These produce iterables over strings instead of single strings. The\n",
    "  async variants add a prefix \"a\" to these and produce asynchronous iterables.\n",
    "\n",
    "- Use of parallelism for processing retrieved chunks. This uses either threads\n",
    "  or async depending on which method variant is called. This is controlled by\n",
    "  the `DummyApp` class `use_parallel` flag.\n",
    "\n",
    "- Nested use of custom app inside a custom app component. This is controlled by\n",
    "  the `DummyAgent` class `use_app` flag.\n",
    "\n",
    "- Use of trulens_eval to record the invocation of the above nested model. This\n",
    "  is controlled by the `DummyAgent` class `use_recorder` flag.\n",
    "\n"
   ]
  },
  {
   "cell_type": "code",
   "execution_count": null,
   "metadata": {},
   "outputs": [],
   "source": [
    "# This cell executes the app in the various configuration options describe\n",
    "# above. The final app output should be identical in all cases.\n",
    "\n",
    "for use_parallel in [False, True]:\n",
    "    for use_app in [False, True]:\n",
    "        for use_recorder in [\n",
    "            False\n",
    "        ]:  # , True]: # currently not working with nested recorder\n",
    "            app_version = f\"(use_parralel={use_parallel} use_app={use_app} use_recorder={use_recorder})\"\n",
    "\n",
    "            # Create custom app:\n",
    "            ca = DummyApp(\n",
    "                use_parallel=use_parallel,\n",
    "                comp_kwargs={\n",
    "                    DummyAgent: {\n",
    "                        \"use_app\": use_app,\n",
    "                        \"use_recorder\": use_recorder,\n",
    "                    }\n",
    "                },\n",
    "            )\n",
    "\n",
    "            # Create trulens wrapper:\n",
    "            ta = TruCustomApp(\n",
    "                ca,\n",
    "                app_name=\"customapp\",\n",
    "                app_version=app_version,\n",
    "            )\n",
    "\n",
    "            # Sync usage\n",
    "            print(\"  sync\")\n",
    "            print(\"    non-streaming\")\n",
    "            print(\n",
    "                \"      untraced\\t\",\n",
    "                ca.respond_to_query(query=\"What is the capital of Indonesia?\"),\n",
    "            )\n",
    "            with ta as recorder:\n",
    "                print(\n",
    "                    \"      traced\\t\",\n",
    "                    ca.respond_to_query(\n",
    "                        query=\"What is the capital of Indonesia?\"\n",
    "                    ),\n",
    "                )\n",
    "\n",
    "            # Sync streaming usage\n",
    "            print(\"    streaming\")\n",
    "            print(\"      untraced\\t \", end=\"\")\n",
    "            for chunk in ca.stream_respond_to_query(\n",
    "                query=\"What is the capital of Indonesia?\"\n",
    "            ):\n",
    "                print(chunk, end=\"\")\n",
    "            print()\n",
    "            with ta as recorder:\n",
    "                print(\"      traced\\t \", end=\"\")\n",
    "                for chunk in ca.stream_respond_to_query(\n",
    "                    query=\"What is the capital of Indonesia?\"\n",
    "                ):\n",
    "                    print(chunk, end=\"\")\n",
    "                print()\n",
    "\n",
    "            # TOFIX: Async usage\n",
    "            # res1 = await ca.arespond_to_query(query=\"What is the capital of Indonesia?\")\n",
    "            # with ta as recorder:\n",
    "            #    resp2 = await ca.arespond_to_query(query=\"What is the capital of Indonesia?\")\n",
    "\n",
    "            # TOFIX: Async streaming usage..."
   ]
  }
 ],
 "metadata": {
  "kernelspec": {
   "display_name": "py38_trulens",
   "language": "python",
   "name": "python3"
  },
  "language_info": {
   "codemirror_mode": {
    "name": "ipython",
    "version": 3
   },
   "file_extension": ".py",
   "mimetype": "text/x-python",
   "name": "python",
   "nbconvert_exporter": "python",
   "pygments_lexer": "ipython3"
  }
 },
 "nbformat": 4,
 "nbformat_minor": 2
}
