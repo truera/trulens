{
 "cells": [
  {
   "cell_type": "markdown",
   "metadata": {},
   "source": [
    "# Populate apps to show filtering"
   ]
  },
  {
   "cell_type": "code",
   "execution_count": null,
   "metadata": {},
   "outputs": [],
   "source": [
    "from pathlib import Path\n",
    "import sys\n",
    "\n",
    "repo_path = Path().cwd().parent.parent.parent.resolve()\n",
    "\n",
    "# If using trulens from the repository, add the parent directory to the path:\n",
    "sys.path.append(str(repo_path))"
   ]
  },
  {
   "cell_type": "code",
   "execution_count": null,
   "metadata": {},
   "outputs": [],
   "source": [
    "from trulens.core import TruSession\n",
    "from trulens.core.app.custom import TruCustomApp\n",
    "\n",
    "from examples.dev.dummy_app.app import DummyApp\n",
    "\n",
    "session = TruSession()\n",
    "session.reset_database()"
   ]
  },
  {
   "cell_type": "code",
   "execution_count": null,
   "metadata": {},
   "outputs": [],
   "source": [
    "from trulens.dashboard import run_dashboard\n",
    "\n",
    "run_dashboard(session=session)"
   ]
  },
  {
   "cell_type": "code",
   "execution_count": null,
   "metadata": {},
   "outputs": [],
   "source": [
    "# Create custom app:\n",
    "ca1 = DummyApp()\n",
    "\n",
    "# Create trulens wrapper:\n",
    "ta1 = TruCustomApp(\n",
    "    ca1,\n",
    "    app_version=\"1\",\n",
    "    app_name=\"customapp\",\n",
    "    metadata={\"top_k\": 5, \"retriever\": \"semantic\"},\n",
    "    tags=\"prototype\",\n",
    ")\n",
    "\n",
    "with ta1 as recording:\n",
    "    ca1.respond_to_query(\"how are you?\")"
   ]
  },
  {
   "cell_type": "code",
   "execution_count": null,
   "metadata": {},
   "outputs": [],
   "source": [
    "# Create custom app:\n",
    "ca2 = DummyApp()\n",
    "\n",
    "# Create trulens wrapper:\n",
    "ta2 = TruCustomApp(\n",
    "    ca2,\n",
    "    app_version=\"2\",\n",
    "    app_name=\"customapp\",\n",
    "    metadata={\"top_k\": 2, \"retriever\": \"semantic\"},\n",
    "    tags=\"prototype\",\n",
    ")\n",
    "\n",
    "with ta2 as recording:\n",
    "    ca2.respond_to_query(\"how are you?\")"
   ]
  },
  {
   "cell_type": "code",
   "execution_count": null,
   "metadata": {},
   "outputs": [],
   "source": [
    "# Create custom app:\n",
    "ca3 = DummyApp()\n",
    "\n",
    "# Create trulens wrapper:\n",
    "ta3 = TruCustomApp(\n",
    "    ca3,\n",
    "    app_name=\"customapp\",\n",
    "    app_version=\"3\",\n",
    "    metadata={\"top_k\": 2, \"retriever\": \"hybrid\"},\n",
    "    tags=\"prototype\",\n",
    ")\n",
    "\n",
    "with ta3 as recording:\n",
    "    ca3.respond_to_query(\"how are you?\")"
   ]
  },
  {
   "cell_type": "code",
   "execution_count": null,
   "metadata": {},
   "outputs": [],
   "source": [
    "# Create custom app:\n",
    "ca4 = DummyApp()\n",
    "\n",
    "# Create trulens wrapper:\n",
    "ta4 = TruCustomApp(\n",
    "    ca4,\n",
    "    app_name=\"customapp\",\n",
    "    app_version=\"4\",\n",
    "    metadata={\"top_k\": 5, \"retriever\": \"semantic\"},\n",
    "    tags=\"prototype\",\n",
    ")\n",
    "\n",
    "with ta4 as recording:\n",
    "    ca4.respond_to_query(\"how are you?\")"
   ]
  }
 ],
 "metadata": {
  "kernelspec": {
   "display_name": "snowday",
   "language": "python",
   "name": "python3"
  },
  "language_info": {
   "codemirror_mode": {
    "name": "ipython",
    "version": 3
   },
   "file_extension": ".py",
   "mimetype": "text/x-python",
   "name": "python",
   "nbconvert_exporter": "python",
   "pygments_lexer": "ipython3"
  }
 },
 "nbformat": 4,
 "nbformat_minor": 2
}
