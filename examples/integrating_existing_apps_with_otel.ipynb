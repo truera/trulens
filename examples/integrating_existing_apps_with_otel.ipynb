{
 "cells": [
  {
   "cell_type": "markdown",
   "metadata": {},
   "source": [
    "This notebook demonstrates how to integrate an existing LLM app with OTel tracing into TruLens. That is, we get both of:\n",
    "1. Our TruLens spans will now work with the original OTel environment.\n",
    "2. The spans from the original OTel environment will now be augmented to work with TruLens."
   ]
  },
  {
   "cell_type": "markdown",
   "metadata": {},
   "source": [
    "# App before TruLens"
   ]
  },
  {
   "cell_type": "code",
   "execution_count": null,
   "metadata": {},
   "outputs": [],
   "source": [
    "# Create a (simple) LLM app that already has some OTel tracing in it.\n",
    "\n",
    "import numpy as np\n",
    "\n",
    "\n",
    "class MyApp:\n",
    "    def orchestrator(self, prompt: str) -> float:\n",
    "        if self.should_finish():\n",
    "            with tracer.start_as_current_span(\"worked hard\") as span:\n",
    "                span.set_attribute(\"prompt\", prompt)\n",
    "            return self.get_final_score(prompt)\n",
    "        res = self.do_research(prompt)\n",
    "        return self.orchestrator(res)\n",
    "\n",
    "    def should_finish(self) -> bool:\n",
    "        return np.random.random() < 0.25\n",
    "\n",
    "    def get_final_score(self, prompt: str) -> float:\n",
    "        return np.random.random()\n",
    "\n",
    "    def do_research(self, prompt: str) -> str:\n",
    "        return prompt + \"\\ndoing hard work...\""
   ]
  },
  {
   "cell_type": "code",
   "execution_count": null,
   "metadata": {},
   "outputs": [],
   "source": [
    "# Set up OTel tracing.\n",
    "\n",
    "from opentelemetry import trace\n",
    "from opentelemetry.sdk.trace import TracerProvider\n",
    "from opentelemetry.sdk.trace.export import ConsoleSpanExporter\n",
    "from opentelemetry.sdk.trace.export import SimpleSpanProcessor\n",
    "\n",
    "tracer_provider = TracerProvider()\n",
    "exporter = ConsoleSpanExporter(\n",
    "    formatter=lambda span: f\"span name: {span.name}\\n\\tattributes: {span.attributes}\\n\\n\"\n",
    ")\n",
    "span_processor = SimpleSpanProcessor(exporter)\n",
    "tracer_provider.add_span_processor(span_processor)\n",
    "trace.set_tracer_provider(tracer_provider)\n",
    "tracer = tracer_provider.get_tracer(__name__)"
   ]
  },
  {
   "cell_type": "code",
   "execution_count": null,
   "metadata": {},
   "outputs": [],
   "source": [
    "# Call app.\n",
    "\n",
    "import time\n",
    "\n",
    "app = MyApp()\n",
    "app.orchestrator(\"Hello, world!\")\n",
    "\n",
    "tracer_provider.force_flush()\n",
    "\n",
    "# Allow time to flush and print OTel spans to stdout.\n",
    "time.sleep(1)"
   ]
  },
  {
   "cell_type": "markdown",
   "metadata": {},
   "source": [
    "# Integration into TruLens"
   ]
  },
  {
   "cell_type": "code",
   "execution_count": null,
   "metadata": {},
   "outputs": [],
   "source": [
    "# Ensure before any TruLens packages are imported this environment variable is\n",
    "# set.\n",
    "\n",
    "import os\n",
    "\n",
    "os.environ[\"TRULENS_OTEL_TRACING\"] = \"1\""
   ]
  },
  {
   "cell_type": "code",
   "execution_count": null,
   "metadata": {},
   "outputs": [],
   "source": [
    "# Add TruLens instrumentation to the app. The only difference here is that we\n",
    "# have added `@instrument` decorators. In reality, you would not do this, but\n",
    "# just add the `@instrument` decorators to the MyApp class above.\n",
    "\n",
    "\n",
    "from trulens.core.otel.instrument import instrument\n",
    "\n",
    "\n",
    "class MyAppWithTruLensInstrumentation:\n",
    "    @instrument()\n",
    "    def orchestrator(self, prompt: str) -> float:\n",
    "        if self.should_finish():\n",
    "            with tracer.start_as_current_span(\"worked hard\") as span:\n",
    "                span.set_attribute(\"prompt\", prompt)\n",
    "            return self.get_final_score(prompt)\n",
    "        res = self.do_research(prompt)\n",
    "        return self.orchestrator(res)\n",
    "\n",
    "    @instrument()\n",
    "    def should_finish(self) -> bool:\n",
    "        return np.random.random() < 0.25\n",
    "\n",
    "    @instrument()\n",
    "    def get_final_score(self, prompt: str) -> float:\n",
    "        return np.random.random()\n",
    "\n",
    "    @instrument()\n",
    "    def do_research(self, prompt: str) -> str:\n",
    "        return prompt + \"\\ndoing hard work...\""
   ]
  },
  {
   "cell_type": "code",
   "execution_count": null,
   "metadata": {},
   "outputs": [],
   "source": [
    "# Create the TruSession and TruApp.\n",
    "\n",
    "from trulens.apps.app import TruApp\n",
    "from trulens.core import TruSession\n",
    "\n",
    "tru_session = TruSession()  # By default, this will use a local SQLite database.\n",
    "tru_session.reset_database()\n",
    "\n",
    "app_with_trulens_instrumentation = MyAppWithTruLensInstrumentation()\n",
    "tru_app = TruApp(\n",
    "    app=app_with_trulens_instrumentation,\n",
    "    app_name=\"My App\",\n",
    "    app_version=\"1.0.0\",\n",
    ")"
   ]
  },
  {
   "cell_type": "code",
   "execution_count": null,
   "metadata": {},
   "outputs": [],
   "source": [
    "# Invoke app this time with TruLens. Notice that the original non-TruLens OTel\n",
    "# exporter now sees TruLens spans.\n",
    "\n",
    "import time\n",
    "\n",
    "with tru_app:\n",
    "    app_with_trulens_instrumentation.orchestrator(\"Hello, TruLens!\")\n",
    "\n",
    "tru_session.force_flush()\n",
    "\n",
    "# Allow time to flush and print OTel spans to stdout.\n",
    "time.sleep(1)"
   ]
  },
  {
   "cell_type": "code",
   "execution_count": null,
   "metadata": {},
   "outputs": [],
   "source": [
    "# View the TruLens spans in the database (and note the original \"worked hard\"\n",
    "# non-TruLens span is still there).\n",
    "\n",
    "import pandas as pd\n",
    "import sqlalchemy as sa\n",
    "\n",
    "db = tru_session.connector.db\n",
    "with db.session.begin() as db_session:\n",
    "    q = sa.select(db.orm.Event).order_by(db.orm.Event.start_timestamp)\n",
    "    df = pd.read_sql(q, db_session.bind)\n",
    "df[\"name\"] = df[\"record\"].apply(lambda x: x[\"name\"])\n",
    "df[\"attributes\"] = df[\"record_attributes\"]\n",
    "df = df[[\"name\", \"attributes\"]]\n",
    "df"
   ]
  }
 ],
 "metadata": {
  "kernelspec": {
   "display_name": "trulens_3_11",
   "language": "python",
   "name": "python3"
  },
  "language_info": {
   "codemirror_mode": {
    "name": "ipython",
    "version": 3
   },
   "file_extension": ".py",
   "mimetype": "text/x-python",
   "name": "python",
   "nbconvert_exporter": "python",
   "pygments_lexer": "ipython3"
  }
 },
 "nbformat": 4,
 "nbformat_minor": 2
}
