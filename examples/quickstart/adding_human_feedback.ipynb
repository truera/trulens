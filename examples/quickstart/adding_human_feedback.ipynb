{
 "cells": [
  {
   "cell_type": "markdown",
   "metadata": {},
   "source": [
    "# 📓 Logging Human Feedback\n",
    "In many situations, it can be useful to log human feedback from your users about your LLM app's performance. Combining human feedback along with automated feedback can help you drill down on subsets of your app that underperform, and uncover new failure modes. This example will walk you through a simple example of recording human feedback with TruLens.\n",
    "\n",
    "[![Open In Colab](https://colab.research.google.com/assets/colab-badge.svg)](https://colab.research.google.com/github/truera/trulens/blob/main/examples/adding_human_feedback.ipynb)\n",
    "\n",
    "# Create app"
   ]
  },
  {
   "cell_type": "code",
   "execution_count": null,
   "metadata": {},
   "outputs": [],
   "source": [
    "# Create a simple (fake) app.\n",
    "\n",
    "from trulens.apps.app import TruApp\n",
    "from trulens.core.otel.instrument import instrument\n",
    "from trulens.core.session import TruSession\n",
    "\n",
    "tru_session = TruSession()\n",
    "tru_session.reset_database()\n",
    "\n",
    "\n",
    "class MyApp:\n",
    "    @instrument()\n",
    "    def completion(self, prompt: str) -> str:\n",
    "        return \"I don't actually do anything, I'm just a placeholder!\"\n",
    "\n",
    "\n",
    "app = MyApp()\n",
    "tru_app = TruApp(app, app_name=\"MyApp\", app_version=\"v1\")"
   ]
  },
  {
   "cell_type": "code",
   "execution_count": null,
   "metadata": {},
   "outputs": [],
   "source": [
    "# Invoke the app.\n",
    "\n",
    "with tru_app as recording:\n",
    "    app.completion(\"Give me 10 names for a colorful sock company\")\n",
    "\n",
    "# Get the record to add the feedback to.\n",
    "record = recording.get()"
   ]
  },
  {
   "cell_type": "markdown",
   "metadata": {},
   "source": [
    "# Create a mechanism for recording human feedback\n",
    "\n",
    "Be sure to click an emoji in the record to record human_feedback to log."
   ]
  },
  {
   "cell_type": "code",
   "execution_count": null,
   "metadata": {},
   "outputs": [],
   "source": [
    "from ipywidgets import Button\n",
    "from ipywidgets import HBox\n",
    "from ipywidgets import Label\n",
    "from ipywidgets import VBox\n",
    "from trulens.core.session import TruSession\n",
    "\n",
    "thumbs_up_button = Button(description=\"👍\")\n",
    "thumbs_down_button = Button(description=\"👎\")\n",
    "\n",
    "\n",
    "def update_feedback(human_feedback: float) -> None:\n",
    "    # add the human feedback to a particular app and record\n",
    "    tru_session.add_feedback_result(\n",
    "        record=record,\n",
    "        feedback_name=\"Human Feedback\",\n",
    "        feedback_result=human_feedback,\n",
    "        higher_is_better=True,\n",
    "    )\n",
    "    tru_session.force_flush()\n",
    "\n",
    "\n",
    "def on_thumbs_up_button_clicked(b):\n",
    "    update_feedback(human_feedback=1)\n",
    "    print(\"👍\")\n",
    "\n",
    "\n",
    "def on_thumbs_down_button_clicked(b):\n",
    "    update_feedback(human_feedback=0)\n",
    "    print(\"👎\")\n",
    "\n",
    "\n",
    "thumbs_up_button.on_click(on_thumbs_up_button_clicked)\n",
    "thumbs_down_button.on_click(on_thumbs_down_button_clicked)\n",
    "\n",
    "VBox([\n",
    "    Label(record.main_input),\n",
    "    Label(record.main_output),\n",
    "    HBox([thumbs_up_button, thumbs_down_button]),\n",
    "])"
   ]
  },
  {
   "cell_type": "code",
   "execution_count": null,
   "metadata": {},
   "outputs": [],
   "source": [
    "# After clicking on a thumbs up or down button, the leaderboard will update.\n",
    "\n",
    "tru_session.get_leaderboard(app_ids=[tru_app.app_id])"
   ]
  }
 ],
 "metadata": {
  "kernelspec": {
   "display_name": "trulens_test",
   "language": "python",
   "name": "python3"
  },
  "language_info": {
   "codemirror_mode": {
    "name": "ipython",
    "version": 3
   },
   "file_extension": ".py",
   "mimetype": "text/x-python",
   "name": "python",
   "nbconvert_exporter": "python",
   "pygments_lexer": "ipython3"
  }
 },
 "nbformat": 4,
 "nbformat_minor": 2
}
