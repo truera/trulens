{
 "cells": [
  {
   "cell_type": "code",
   "execution_count": null,
   "metadata": {},
   "outputs": [],
   "source": [
    "# !pip install opentelemetry-api\n",
    "# !pip install opentelemetry-sdk"
   ]
  },
  {
   "cell_type": "code",
   "execution_count": null,
   "metadata": {},
   "outputs": [],
   "source": [
    "from pathlib import Path\n",
    "import sys\n",
    "\n",
    "# Add base dir to path to be able to access test folder.\n",
    "base_dir = Path().cwd().parent.parent.resolve()\n",
    "if str(base_dir) not in sys.path:\n",
    "    print(f\"Adding {base_dir} to sys.path\")\n",
    "    sys.path.append(str(base_dir))"
   ]
  },
  {
   "cell_type": "code",
   "execution_count": null,
   "metadata": {},
   "outputs": [],
   "source": [
    "from opentelemetry import trace\n",
    "from opentelemetry.sdk.resources import Resource\n",
    "from opentelemetry.sdk.trace import TracerProvider\n",
    "from opentelemetry.sdk.trace.export import BatchSpanProcessor\n",
    "from opentelemetry.sdk.trace.export import ConsoleSpanExporter\n",
    "\n",
    "SERVICE_NAME = \"trulens\"\n",
    "\n",
    "\n",
    "def init():\n",
    "    # Use Resource.create() instead of constructor directly\n",
    "    resource = Resource.create({\"service.name\": SERVICE_NAME})\n",
    "\n",
    "    trace.set_tracer_provider(TracerProvider(resource=resource))\n",
    "    trace.get_tracer_provider().add_span_processor(\n",
    "        BatchSpanProcessor(ConsoleSpanExporter())\n",
    "    )\n",
    "\n",
    "\n",
    "init()"
   ]
  },
  {
   "cell_type": "code",
   "execution_count": null,
   "metadata": {},
   "outputs": [],
   "source": [
    "from typing import Callable\n",
    "\n",
    "from trulens.apps.custom import instrument\n",
    "\n",
    "SERVICE_NAME = \"trulens\"\n",
    "\n",
    "\n",
    "def decorator(func: Callable):\n",
    "    tracer = trace.get_tracer(SERVICE_NAME)\n",
    "\n",
    "    def wrapper(*args, **kwargs):\n",
    "        print(\"start wrap\")\n",
    "\n",
    "        with tracer.start_as_current_span(\"custom\"):\n",
    "            result = func(*args, **kwargs)\n",
    "            span = trace.get_current_span()\n",
    "            print(\"---span---\")\n",
    "            print(span.get_span_context())\n",
    "            span.set_attribute(\"result\", result)\n",
    "            span.set_status(trace.Status(trace.StatusCode.OK))\n",
    "            return result\n",
    "\n",
    "    return wrapper"
   ]
  },
  {
   "cell_type": "code",
   "execution_count": null,
   "metadata": {},
   "outputs": [],
   "source": [
    "from examples.dev.dummy_app.dummy import Dummy\n",
    "\n",
    "\n",
    "class TestApp(Dummy):\n",
    "    def __init__(self):\n",
    "        super().__init__()\n",
    "\n",
    "    @decorator\n",
    "    @instrument\n",
    "    def respond_to_query(self, query: str) -> str:\n",
    "        return f\"answer: {self.nested(query)}\"\n",
    "\n",
    "    @decorator\n",
    "    @instrument\n",
    "    def nested(self, query: str) -> str:\n",
    "        return f\"nested: {query}\""
   ]
  },
  {
   "cell_type": "code",
   "execution_count": null,
   "metadata": {},
   "outputs": [],
   "source": [
    "from trulens.core.session import TruSession\n",
    "\n",
    "SERVICE_NAME = \"trulens\""
   ]
  },
  {
   "cell_type": "code",
   "execution_count": null,
   "metadata": {},
   "outputs": [],
   "source": [
    "session = TruSession()"
   ]
  }
 ],
 "metadata": {
  "kernelspec": {
   "display_name": "trulens",
   "language": "python",
   "name": "python3"
  },
  "language_info": {
   "codemirror_mode": {
    "name": "ipython",
    "version": 3
   },
   "file_extension": ".py",
   "mimetype": "text/x-python",
   "name": "python",
   "nbconvert_exporter": "python",
   "pygments_lexer": "ipython3"
  }
 },
 "nbformat": 4,
 "nbformat_minor": 2
}
