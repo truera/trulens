{
 "cells": [
  {
   "cell_type": "code",
   "execution_count": null,
   "metadata": {},
   "outputs": [],
   "source": [
    "from pathlib import Path\n",
    "import sys\n",
    "\n",
    "# Add base dir to path to be able to access test folder.\n",
    "base_dir = Path().cwd().parent.parent.resolve()\n",
    "if str(base_dir) not in sys.path:\n",
    "    print(f\"Adding {base_dir} to sys.path\")\n",
    "    sys.path.append(str(base_dir))"
   ]
  },
  {
   "cell_type": "code",
   "execution_count": null,
   "metadata": {},
   "outputs": [],
   "source": [
    "import logging\n",
    "\n",
    "root = logging.getLogger()\n",
    "root.setLevel(logging.DEBUG)\n",
    "handler = logging.StreamHandler(sys.stdout)\n",
    "handler.setLevel(logging.DEBUG)\n",
    "formatter = logging.Formatter(\n",
    "    \"%(asctime)s - %(name)s - %(levelname)s - %(message)s\"\n",
    ")\n",
    "handler.addFilter(logging.Filter(\"trulens\"))\n",
    "handler.setFormatter(formatter)\n",
    "root.addHandler(handler)"
   ]
  },
  {
   "cell_type": "code",
   "execution_count": null,
   "metadata": {},
   "outputs": [],
   "source": [
    "from trulens.experimental.otel_tracing.core.instrument import instrument\n",
    "from trulens.otel.semconv.trace import SpanAttributes\n",
    "\n",
    "\n",
    "class TestApp:\n",
    "    @instrument(span_type=SpanAttributes.SpanType.MAIN)\n",
    "    def respond_to_query(self, query: str) -> str:\n",
    "        return f\"answer: {self.nested(query)}\"\n",
    "\n",
    "    @instrument(attributes={\"nested_attr1\": \"value1\"})\n",
    "    def nested(self, query: str) -> str:\n",
    "        return f\"nested: {self.nested2(query)}\"\n",
    "\n",
    "    @instrument(\n",
    "        attributes=lambda ret, exception, *args, **kwargs: {\n",
    "            \"nested2_ret\": ret,\n",
    "            \"nested2_args[0]\": args[0],\n",
    "        }\n",
    "    )\n",
    "    def nested2(self, query: str) -> str:\n",
    "        nested_result = \"\"\n",
    "\n",
    "        try:\n",
    "            nested_result = self.nested3(query)\n",
    "        except Exception:\n",
    "            pass\n",
    "\n",
    "        return f\"nested2: {nested_result}\"\n",
    "\n",
    "    @instrument(\n",
    "        attributes=lambda ret, exception, *args, **kwargs: {\n",
    "            \"nested3_ex\": exception.args if exception else None,\n",
    "            \"nested3_ret\": ret,\n",
    "            \"selector_name\": \"special\",\n",
    "            \"cows\": \"moo\",\n",
    "        }\n",
    "    )\n",
    "    def nested3(self, query: str) -> str:\n",
    "        if query == \"throw\":\n",
    "            raise ValueError(\"nested3 exception\")\n",
    "        return \"nested3\""
   ]
  },
  {
   "cell_type": "code",
   "execution_count": null,
   "metadata": {},
   "outputs": [],
   "source": [
    "import os\n",
    "\n",
    "import dotenv\n",
    "from trulens.connectors.snowflake import SnowflakeConnector\n",
    "from trulens.core.session import TruSession\n",
    "from trulens.experimental.otel_tracing.core.exporter import (\n",
    "    TruLensSnowflakeSpanExporter,\n",
    ")\n",
    "\n",
    "dotenv.load_dotenv()\n",
    "\n",
    "connection_params = {\n",
    "    \"account\": os.environ[\"SNOWFLAKE_ACCOUNT\"],\n",
    "    \"user\": os.environ[\"SNOWFLAKE_USER\"],\n",
    "    \"password\": os.environ[\"SNOWFLAKE_USER_PASSWORD\"],\n",
    "    \"role\": os.environ.get(\"SNOWFLAKE_ROLE\", \"ENGINEER\"),\n",
    "    \"database\": os.environ.get(\"SNOWFLAKE_DATABASE\"),\n",
    "    \"schema\": os.environ.get(\"SNOWFLAKE_SCHEMA\"),\n",
    "    \"warehouse\": os.environ.get(\"SNOWFLAKE_WAREHOUSE\"),\n",
    "}\n",
    "\n",
    "connector = SnowflakeConnector(\n",
    "    **connection_params,\n",
    ")\n",
    "\n",
    "exporter = TruLensSnowflakeSpanExporter(connector=connector)\n",
    "\n",
    "# Note that the connector for the session can be different from the connector for the exporter.\n",
    "session = TruSession(_experimental_otel_exporter=exporter)"
   ]
  },
  {
   "cell_type": "code",
   "execution_count": null,
   "metadata": {},
   "outputs": [],
   "source": [
    "from trulens.apps.custom import TruCustomApp\n",
    "\n",
    "test_app = TestApp()\n",
    "custom_app = TruCustomApp(\n",
    "    test_app,\n",
    "    app_name=\"database.schema.app\",\n",
    "    app_version=\"1.0.0\",\n",
    "    session=session,\n",
    ")\n",
    "\n",
    "with custom_app as recording:\n",
    "    test_app.respond_to_query(\"test\")\n",
    "\n",
    "with custom_app as recording:\n",
    "    test_app.respond_to_query(\"throw\")"
   ]
  }
 ],
 "metadata": {
  "kernelspec": {
   "display_name": "trulens",
   "language": "python",
   "name": "python3"
  },
  "language_info": {
   "codemirror_mode": {
    "name": "ipython",
    "version": 3
   },
   "file_extension": ".py",
   "mimetype": "text/x-python",
   "name": "python",
   "nbconvert_exporter": "python",
   "pygments_lexer": "ipython3"
  }
 },
 "nbformat": 4,
 "nbformat_minor": 2
}
