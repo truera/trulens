{
 "cells": [
  {
   "cell_type": "code",
   "execution_count": null,
   "metadata": {},
   "outputs": [],
   "source": [
    "# !pip install opentelemetry-api\n",
    "# !pip install opentelemetry-sdk"
   ]
  },
  {
   "cell_type": "code",
   "execution_count": null,
   "metadata": {},
   "outputs": [],
   "source": [
    "from pathlib import Path\n",
    "import sys\n",
    "\n",
    "# Add base dir to path to be able to access test folder.\n",
    "base_dir = Path().cwd().parent.parent.resolve()\n",
    "if str(base_dir) not in sys.path:\n",
    "    print(f\"Adding {base_dir} to sys.path\")\n",
    "    sys.path.append(str(base_dir))"
   ]
  },
  {
   "cell_type": "code",
   "execution_count": null,
   "metadata": {},
   "outputs": [],
   "source": [
    "from typing import Callable\n",
    "\n",
    "from opentelemetry import trace\n",
    "from trulens.apps.custom import instrument\n",
    "from trulens.experimental.otel_tracing.core.init import TRULENS_SERVICE_NAME\n",
    "\n",
    "\n",
    "def decorator(func: Callable):\n",
    "    tracer = trace.get_tracer(TRULENS_SERVICE_NAME)\n",
    "\n",
    "    def wrapper(*args, **kwargs):\n",
    "        print(\"start wrap\")\n",
    "\n",
    "        with tracer.start_as_current_span(\"custom\"):\n",
    "            result = func(*args, **kwargs)\n",
    "            span = trace.get_current_span()\n",
    "            print(\"---span---\")\n",
    "            print(span.get_span_context())\n",
    "            span.set_attribute(\"result\", result)\n",
    "            span.set_status(trace.Status(trace.StatusCode.OK))\n",
    "            return result\n",
    "\n",
    "    return wrapper"
   ]
  },
  {
   "cell_type": "code",
   "execution_count": null,
   "metadata": {},
   "outputs": [],
   "source": [
    "from examples.dev.dummy_app.dummy import Dummy\n",
    "\n",
    "\n",
    "class TestApp(Dummy):\n",
    "    def __init__(self):\n",
    "        super().__init__()\n",
    "\n",
    "    @decorator\n",
    "    @instrument\n",
    "    def respond_to_query(self, query: str) -> str:\n",
    "        return f\"answer: {self.nested(query)}\"\n",
    "\n",
    "    @decorator\n",
    "    @instrument\n",
    "    def nested(self, query: str) -> str:\n",
    "        return f\"nested: {query}\""
   ]
  },
  {
   "cell_type": "code",
   "execution_count": null,
   "metadata": {},
   "outputs": [],
   "source": [
    "from trulens.core.session import TruSession\n",
    "from trulens.experimental.otel_tracing.core.init import init\n",
    "\n",
    "session = TruSession()\n",
    "init(session)"
   ]
  },
  {
   "cell_type": "code",
   "execution_count": null,
   "metadata": {},
   "outputs": [],
   "source": [
    "test_app = TestApp()\n",
    "\n",
    "test_app.respond_to_query(\"test\")"
   ]
  }
 ],
 "metadata": {
  "kernelspec": {
   "display_name": "trulens",
   "language": "python",
   "name": "python3"
  },
  "language_info": {
   "codemirror_mode": {
    "name": "ipython",
    "version": 3
   },
   "file_extension": ".py",
   "mimetype": "text/x-python",
   "name": "python",
   "nbconvert_exporter": "python",
   "pygments_lexer": "ipython3"
  }
 },
 "nbformat": 4,
 "nbformat_minor": 2
}
