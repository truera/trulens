{
 "cells": [
  {
   "cell_type": "code",
   "execution_count": null,
   "metadata": {},
   "outputs": [],
   "source": [
    "import os\n",
    "\n",
    "from trulens.connectors.snowflake import SnowflakeConnector\n",
    "\n",
    "os.environ[\"TRULENS_OTEL_TRACING\"] = \"1\"\n",
    "connection_params = {  # creds for QA6\n",
    "    \"account\": \"mlplatformtest.qa6.us-west-2.aws\",\n",
    "    \"user\": \"dhuang\",\n",
    "    \"password\": \"nun-DJQ0fea1fun4rqv\",\n",
    "    \"database\": \"DHUANG_TEST\",\n",
    "    \"warehouse\": \"DHUANG\",\n",
    "    \"role\": \"ENGINEER\",\n",
    "    \"schema\": \"E2E\",\n",
    "}\n",
    "\n",
    "sf_connector = SnowflakeConnector(**connection_params)"
   ]
  },
  {
   "cell_type": "code",
   "execution_count": null,
   "metadata": {},
   "outputs": [],
   "source": [
    "from trulens.apps.app import TruApp\n",
    "from trulens.core.otel.instrument import instrument\n",
    "from trulens.otel.semconv.trace import SpanAttributes\n",
    "\n",
    "\n",
    "class TestApp:\n",
    "    @instrument(span_type=SpanAttributes.SpanType.RECORD_ROOT)\n",
    "    def respond_to_query(self, query: str) -> str:\n",
    "        return f\"answer: {self.nested(query)}\"\n",
    "\n",
    "    @instrument(attributes={\"nested_attr1\": \"value1\"})\n",
    "    def nested(self, query: str) -> str:\n",
    "        return f\"nested: {self.nested2(query)}\"\n",
    "\n",
    "    @instrument(\n",
    "        attributes=lambda ret, exception, *args, **kwargs: {\n",
    "            \"nested2_ret\": ret,\n",
    "            \"nested2_args[1]\": args[1],\n",
    "        }\n",
    "    )\n",
    "    def nested2(self, query: str) -> str:\n",
    "        nested_result = \"\"\n",
    "\n",
    "        try:\n",
    "            nested_result = self.nested3(query)\n",
    "        except Exception:\n",
    "            pass\n",
    "\n",
    "        return f\"nested2: {nested_result}\"\n",
    "\n",
    "    @instrument(\n",
    "        attributes=lambda ret, exception, *args, **kwargs: {\n",
    "            \"nested3_ex\": exception.args if exception else None,\n",
    "            \"nested3_ret\": ret,\n",
    "            \"selector_name\": \"special\",\n",
    "            \"cows\": \"moo\",\n",
    "        }\n",
    "    )\n",
    "    def nested3(self, query: str) -> str:\n",
    "        if query == \"throw\":\n",
    "            raise ValueError(\"nested3 exception\")\n",
    "        return \"nested3\"\n",
    "\n",
    "\n",
    "app = TestApp()"
   ]
  },
  {
   "cell_type": "code",
   "execution_count": null,
   "metadata": {},
   "outputs": [],
   "source": [
    "TruApp(\n",
    "    app,\n",
    "    app_name=\"custom_app\",\n",
    "    app_version=\"v1\",\n",
    "    object_type=\"RANDOM_UNSUPPORTED\",\n",
    ")\n",
    "\n",
    "TruApp(\n",
    "    app,\n",
    "    app_name=\"custom_app\",\n",
    "    app_version=\"v1\",\n",
    ")\n",
    "\n",
    "TruApp(\n",
    "    app,\n",
    "    app_name=\"custom_app\",\n",
    "    app_version=\"v1\",\n",
    "    main_method=app.respond_to_query,\n",
    ")\n",
    "# these should all throw exceptions"
   ]
  },
  {
   "cell_type": "code",
   "execution_count": null,
   "metadata": {},
   "outputs": [],
   "source": [
    "tru_recorder = TruApp(\n",
    "    app,\n",
    "    app_name=\"custom_app\",\n",
    "    app_version=\"v1\",\n",
    "    connector=sf_connector,\n",
    "    main_method=app.respond_to_query,\n",
    "    # object_type default to \"EXTERNAL AGENT\" when snowflake connector is used\n",
    ")\n",
    "\n",
    "print(tru_recorder.snowflake_object_type)  # EXTERNAL AGENT\n",
    "print(tru_recorder.snowflake_object_name)  # CUSTOM_APP\n",
    "print(tru_recorder.snowflake_object_version)\n",
    "\n",
    "version_df = tru_recorder.snowflake_app_dao.list_agent_versions(\"custom_app\")\n",
    "version_df"
   ]
  },
  {
   "cell_type": "code",
   "execution_count": null,
   "metadata": {},
   "outputs": [],
   "source": [
    "tru_recorder.snowflake_app_dao.list_agents()"
   ]
  },
  {
   "cell_type": "code",
   "execution_count": null,
   "metadata": {},
   "outputs": [],
   "source": [
    "# tru_recorder.delete_snowflake_app()\n",
    "\n",
    "tru_recorder.snowflake_app_dao.list_agents()"
   ]
  },
  {
   "cell_type": "code",
   "execution_count": null,
   "metadata": {},
   "outputs": [],
   "source": [
    "tru_recorder_v1 = TruApp(\n",
    "    app,\n",
    "    app_name=\"custom_app_multi_ver\",\n",
    "    app_version=\"v1\",\n",
    "    connector=sf_connector,\n",
    "    main_method=app.respond_to_query,\n",
    ")\n",
    "\n",
    "assert tru_recorder_v1.snowflake_app_dao.check_agent_exists(\n",
    "    \"custom_app_multi_ver\"\n",
    ")\n",
    "\n",
    "# Create app version 2.\n",
    "tru_recorder_v2 = TruApp(\n",
    "    app,\n",
    "    app_name=\"custom_app_multi_ver\",\n",
    "    app_version=\"v2\",\n",
    "    connector=sf_connector,\n",
    "    main_method=app.respond_to_query,\n",
    ")\n",
    "\n",
    "assert tru_recorder_v2.snowflake_app_dao is not None\n",
    "\n",
    "assert tru_recorder_v2.snowflake_app_dao.check_agent_exists(\n",
    "    \"custom_app_multi_ver\"\n",
    ")\n",
    "\n",
    "versions_df_1 = tru_recorder_v1.snowflake_app_dao.list_agent_versions(\n",
    "    \"custom_app_multi_ver\"\n",
    ")\n",
    "\n",
    "versions_df_2 = tru_recorder_v2.snowflake_app_dao.list_agent_versions(\n",
    "    \"custom_app_multi_ver\"\n",
    ")"
   ]
  },
  {
   "cell_type": "markdown",
   "metadata": {},
   "source": [
    "## Add runs to agent"
   ]
  },
  {
   "cell_type": "code",
   "execution_count": null,
   "metadata": {},
   "outputs": [],
   "source": [
    "from trulens.core.run import Run\n",
    "from trulens.core.run import RunConfig\n",
    "\n",
    "run_config = RunConfig(\n",
    "    run_name=\"test_run_xyz\",\n",
    "    description=\"desc\",\n",
    "    dataset_name=\"TEST_TABEL\",\n",
    "    label=\"label\",\n",
    "    dataset_col_spec={\"col1\": \"int\", \"col2\": \"string\"},\n",
    ")  # type: ignore\n",
    "new_run: Run = tru_recorder.add_run(run_config=run_config)\n",
    "\n",
    "run: Run = tru_recorder.get_run(\"test_run_10\")\n",
    "\n",
    "# so forth\n",
    "\n",
    "print(run)\n",
    "print(new_run)"
   ]
  },
  {
   "cell_type": "code",
   "execution_count": null,
   "metadata": {},
   "outputs": [],
   "source": [
    "run.run_name"
   ]
  },
  {
   "cell_type": "code",
   "execution_count": null,
   "metadata": {},
   "outputs": [],
   "source": [
    "run_config_2 = RunConfig(\n",
    "    run_name=\"test_run_2\",\n",
    "    description=\"desc_2\",\n",
    "    dataset_name=\"db.schema.table\",\n",
    "    dataset_col_spec={\"col1\": \"int\", \"col2\": \"string\"},\n",
    ")\n",
    "run_2 = tru_recorder.add_run(run_config=run_config_2)\n",
    "\n",
    "runs = tru_recorder.list_runs()"
   ]
  },
  {
   "cell_type": "code",
   "execution_count": null,
   "metadata": {},
   "outputs": [],
   "source": [
    "# run_2.delete()\n",
    "runs = tru_recorder.list_runs()"
   ]
  },
  {
   "cell_type": "code",
   "execution_count": null,
   "metadata": {},
   "outputs": [],
   "source": [
    "runs"
   ]
  }
 ],
 "metadata": {
  "kernelspec": {
   "display_name": "trulens",
   "language": "python",
   "name": "python3"
  },
  "language_info": {
   "codemirror_mode": {
    "name": "ipython",
    "version": 3
   },
   "file_extension": ".py",
   "mimetype": "text/x-python",
   "name": "python",
   "nbconvert_exporter": "python",
   "pygments_lexer": "ipython3"
  }
 },
 "nbformat": 4,
 "nbformat_minor": 2
}
