{
 "cells": [
  {
   "cell_type": "code",
   "execution_count": null,
   "metadata": {},
   "outputs": [],
   "source": [
    "import os\n",
    "from pathlib import Path\n",
    "import sys\n",
    "\n",
    "import dotenv\n",
    "from llama_index.core import Settings\n",
    "from llama_index.core import SimpleDirectoryReader\n",
    "from llama_index.core import VectorStoreIndex\n",
    "from llama_index.llms.openai import OpenAI\n",
    "from trulens.apps.llamaindex import TruLlama\n",
    "from trulens.core.session import TruSession\n",
    "\n",
    "dotenv.load_dotenv()\n",
    "\n",
    "repo = Path.cwd().parent.parent\n",
    "if str(repo) not in sys.path:\n",
    "    sys.path.append(str(repo))\n",
    "\n",
    "if not (Path(\"data\") / \"paul_graham_essay.txt\").exists():\n",
    "    os.system(\n",
    "        \"wget https://raw.githubusercontent.com/run-llama/llama_index/main/docs/docs/examples/data/paul_graham/paul_graham_essay.txt -P data/\"\n",
    "    )\n",
    "\n",
    "message = \"What did the author do growing up?\"\n",
    "\n",
    "Settings.llm = OpenAI(model=\"gpt-3.5-turbo\", temperature=0.0)\n",
    "Settings.num_output = 64\n",
    "\n",
    "documents = SimpleDirectoryReader(\"data\").load_data()\n",
    "index = VectorStoreIndex.from_documents(documents)\n",
    "\n",
    "session = TruSession()\n",
    "session.reset_database()\n",
    "session.run_dashboard()"
   ]
  },
  {
   "cell_type": "markdown",
   "metadata": {},
   "source": [
    "\n",
    "\n",
    "\n",
    "\n",
    "\n",
    "\n",
    "## Synchronous"
   ]
  },
  {
   "cell_type": "code",
   "execution_count": null,
   "metadata": {},
   "outputs": [],
   "source": [
    "engine = index.as_query_engine(streaming=False)\n",
    "recorder = TruLlama(engine, app_name=\"llama_index\", app_version=\"sync\")\n",
    "with recorder as recording:\n",
    "    response = engine.query(message)\n",
    "\n",
    "record = recording.get()\n",
    "\n",
    "print(response)\n",
    "print(record.main_output)\n",
    "print(record)\n",
    "print(record.cost)"
   ]
  },
  {
   "cell_type": "markdown",
   "metadata": {},
   "source": [
    "## Asynchronous"
   ]
  },
  {
   "cell_type": "code",
   "execution_count": null,
   "metadata": {},
   "outputs": [],
   "source": [
    "engine = index.as_query_engine(streaming=False)\n",
    "recorder = TruLlama(engine, app_name=\"llama_index\", app_version=\"async\")\n",
    "async with recorder as recording:\n",
    "    response = await engine.aquery(message)\n",
    "\n",
    "record = recording.get()\n",
    "\n",
    "print(response)\n",
    "print(record.main_output)\n",
    "print(record)\n",
    "print(record.cost)"
   ]
  },
  {
   "cell_type": "markdown",
   "metadata": {},
   "source": [
    "## Stream"
   ]
  },
  {
   "cell_type": "code",
   "execution_count": null,
   "metadata": {},
   "outputs": [],
   "source": [
    "engine = index.as_query_engine(streaming=True)\n",
    "recorder = TruLlama(engine, app_name=\"llama_index\", app_version=\"sync stream\")\n",
    "with recorder as recording:\n",
    "    stream = engine.query(message)\n",
    "    response = stream.get_response()\n",
    "\n",
    "record = recording.get()\n",
    "\n",
    "print(response)\n",
    "print(record.main_output)\n",
    "print(record)\n",
    "print(record.cost)"
   ]
  },
  {
   "cell_type": "markdown",
   "metadata": {},
   "source": [
    "## Asynchronous Stream"
   ]
  },
  {
   "cell_type": "code",
   "execution_count": null,
   "metadata": {},
   "outputs": [],
   "source": [
    "engine = index.as_query_engine(streaming=True)\n",
    "recorder = TruLlama(engine, app_name=\"llama_index\", app_version=\"async stream\")\n",
    "async with recorder as recording:\n",
    "    stream = await engine.aquery(message)\n",
    "    response = await stream.get_response()\n",
    "\n",
    "record = recording.get()\n",
    "\n",
    "print(response)\n",
    "print(record.main_output)\n",
    "print(record)\n",
    "print(record.cost)"
   ]
  }
 ],
 "metadata": {
  "kernelspec": {
   "display_name": "trulens-Hw0Dq8Lu-py3.11",
   "language": "python",
   "name": "python3"
  },
  "language_info": {
   "codemirror_mode": {
    "name": "ipython",
    "version": 3
   },
   "file_extension": ".py",
   "mimetype": "text/x-python",
   "name": "python",
   "nbconvert_exporter": "python",
   "pygments_lexer": "ipython3"
  }
 },
 "nbformat": 4,
 "nbformat_minor": 2
}
