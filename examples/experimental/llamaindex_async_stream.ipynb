{
 "cells": [
  {
   "cell_type": "code",
   "execution_count": null,
   "metadata": {},
   "outputs": [],
   "source": [
    "import asyncio\n",
    "import gc\n",
    "import os\n",
    "from pathlib import Path\n",
    "import sys\n",
    "import weakref\n",
    "\n",
    "import dotenv\n",
    "from llama_index.core import Settings\n",
    "from llama_index.core import SimpleDirectoryReader\n",
    "from llama_index.core import VectorStoreIndex\n",
    "from llama_index.llms.openai import OpenAI\n",
    "from trulens.apps.llamaindex import TruLlama\n",
    "\n",
    "dotenv.load_dotenv()\n",
    "\n",
    "repo = Path.cwd().parent.parent\n",
    "if str(repo) not in sys.path:\n",
    "    sys.path.append(str(repo))\n",
    "\n",
    "if not (Path(\"data\") / \"paul_graham_essay.txt\").exists():\n",
    "    os.system(\n",
    "        \"wget https://raw.githubusercontent.com/run-llama/llama_index/main/docs/docs/examples/data/paul_graham/paul_graham_essay.txt -P data/\"\n",
    "    )\n",
    "\n",
    "message = \"What did the author do growing up?\"\n",
    "\n",
    "Settings.llm = OpenAI(model=\"gpt-3.5-turbo\", temperature=0.0)\n",
    "Settings.num_output = 64\n",
    "\n",
    "documents = SimpleDirectoryReader(\"data\").load_data()\n",
    "index = VectorStoreIndex.from_documents(documents)\n",
    "\n",
    "# session = TruSession()\n",
    "# session.reset_database()\n",
    "# run_dashboard()"
   ]
  },
  {
   "cell_type": "markdown",
   "metadata": {},
   "source": [
    "## Synchronous"
   ]
  },
  {
   "cell_type": "code",
   "execution_count": null,
   "metadata": {},
   "outputs": [],
   "source": [
    "engine = index.as_query_engine(streaming=False)\n",
    "recorder = TruLlama(engine, app_name=\"llama_index\", app_version=\"sync\")\n",
    "with recorder as recording:\n",
    "    response = engine.query(message)\n",
    "\n",
    "record = recording.get()\n",
    "\n",
    "print(response)\n",
    "print(record.main_output)\n",
    "print(record)\n",
    "print(record.cost)"
   ]
  },
  {
   "cell_type": "markdown",
   "metadata": {},
   "source": [
    "## Asynchronous"
   ]
  },
  {
   "cell_type": "code",
   "execution_count": null,
   "metadata": {},
   "outputs": [],
   "source": [
    "engine = index.as_query_engine(streaming=False)\n",
    "recorder = TruLlama(engine, app_name=\"llama_index\", app_version=\"async\")\n",
    "async with recorder.record() as recording:\n",
    "    response = await engine.aquery(message)\n",
    "\n",
    "record = recording.get()\n",
    "\n",
    "print(response)\n",
    "print(record.main_output)\n",
    "print(record)\n",
    "print(record.cost)"
   ]
  },
  {
   "cell_type": "markdown",
   "metadata": {},
   "source": [
    "## Stream"
   ]
  },
  {
   "cell_type": "code",
   "execution_count": null,
   "metadata": {},
   "outputs": [],
   "source": [
    "engine = index.as_query_engine(streaming=True)\n",
    "recorder = TruLlama(engine, app_name=\"llama_index\", app_version=\"sync stream\")\n",
    "with recorder as recording:\n",
    "    stream = engine.query(message)\n",
    "    response = stream.get_response()\n",
    "\n",
    "record = recording.get()\n",
    "\n",
    "print(response)\n",
    "print(record.main_output)\n",
    "print(record)\n",
    "print(record.cost)"
   ]
  },
  {
   "cell_type": "markdown",
   "metadata": {},
   "source": [
    "## Asynchronous Stream"
   ]
  },
  {
   "cell_type": "code",
   "execution_count": null,
   "metadata": {},
   "outputs": [],
   "source": [
    "engine = index.as_query_engine(streaming=True)\n",
    "recorder = TruLlama(engine, app_name=\"llama_index\", app_version=\"async stream\")\n",
    "async with recorder as recording:\n",
    "    stream = await engine.aquery(message)\n",
    "    print(type(stream))\n",
    "    response = await stream.get_response()\n",
    "\n",
    "record = recording.get()\n",
    "\n",
    "print(response)\n",
    "print(record.main_output)\n",
    "print(record)\n",
    "print(record.cost)"
   ]
  },
  {
   "cell_type": "code",
   "execution_count": null,
   "metadata": {},
   "outputs": [],
   "source": [
    "from tests.utils import find_path\n",
    "from tests.utils import print_lens\n",
    "\n",
    "\n",
    "async def test_gc():\n",
    "    \"\"\"\n",
    "    engine = index.as_query_engine(streaming=False)\n",
    "    recorder = TruLlama(engine, app_name=\"llama_index\", app_version=\"sync\")\n",
    "    with recorder as recording:\n",
    "        response = engine.query(message)\n",
    "    record = recording.get()\n",
    "    \"\"\"\n",
    "\n",
    "    \"\"\"\n",
    "    engine = index.as_query_engine(streaming=False)\n",
    "    recorder = TruLlama(engine, app_name=\"llama_index\", app_version=\"async\")\n",
    "    async with recorder.record() as recording:\n",
    "        response = await engine.aquery(message)\n",
    "        await asyncio.sleep(1)\n",
    "\n",
    "    await asyncio.sleep(1)\n",
    "    record = recording.get()\n",
    "    \"\"\"\n",
    "\n",
    "    engine = index.as_query_engine(streaming=True)\n",
    "    recorder = TruLlama(\n",
    "        engine, app_name=\"llama_index\", app_version=\"sync stream\"\n",
    "    )\n",
    "    with recorder as recording:\n",
    "        response = engine.query(message).get_response()\n",
    "    record = recording.get()\n",
    "\n",
    "    # print(response)\n",
    "    # print(record.main_output)\n",
    "    # print(record)\n",
    "    # print(record.cost)\n",
    "\n",
    "    recorder_ref = weakref.ref(recorder)\n",
    "\n",
    "    del engine\n",
    "    del response\n",
    "    del record\n",
    "    del recorder\n",
    "    del recording\n",
    "\n",
    "    gc.collect()\n",
    "\n",
    "    await asyncio.sleep(1)\n",
    "\n",
    "    # recorder = recorder_ref()\n",
    "    if recorder_ref() is not None:\n",
    "        print(\"recorder is still alive\")\n",
    "\n",
    "        \"\"\"\n",
    "        for ref in gc.get_referrers(recorder):\n",
    "            print(\"  \", type(ref).__name__, str(ref)[0:128])\n",
    "            for rref in gc.get_referrers(ref):\n",
    "                print(\"    \", type(rref).__name__, str(rref)[0:128])\n",
    "        \"\"\"\n",
    "\n",
    "        # del recorder\n",
    "\n",
    "        print_lens(find_path(id(globals()), id(recorder_ref())))"
   ]
  },
  {
   "cell_type": "code",
   "execution_count": null,
   "metadata": {},
   "outputs": [],
   "source": [
    "await test_gc()"
   ]
  },
  {
   "cell_type": "code",
   "execution_count": null,
   "metadata": {},
   "outputs": [],
   "source": [
    "from weakref import proxy\n",
    "\n",
    "from trulens.core.session import TruSession\n",
    "\n",
    "session = TruSession()\n",
    "prox = proxy(session)"
   ]
  },
  {
   "cell_type": "code",
   "execution_count": null,
   "metadata": {},
   "outputs": [],
   "source": [
    "prox"
   ]
  },
  {
   "cell_type": "code",
   "execution_count": null,
   "metadata": {},
   "outputs": [],
   "source": [
    "prox.__repr__.__self__"
   ]
  },
  {
   "cell_type": "code",
   "execution_count": null,
   "metadata": {},
   "outputs": [],
   "source": [
    "dir(prox)"
   ]
  }
 ],
 "metadata": {
  "kernelspec": {
   "display_name": "trulens-Hw0Dq8Lu-py3.11",
   "language": "python",
   "name": "python3"
  },
  "language_info": {
   "codemirror_mode": {
    "name": "ipython",
    "version": 3
   },
   "file_extension": ".py",
   "mimetype": "text/x-python",
   "name": "python",
   "nbconvert_exporter": "python",
   "pygments_lexer": "ipython3"
  }
 },
 "nbformat": 4,
 "nbformat_minor": 2
}
