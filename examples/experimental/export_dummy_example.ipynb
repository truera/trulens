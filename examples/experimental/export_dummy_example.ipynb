{
 "cells": [
  {
   "cell_type": "markdown",
   "metadata": {},
   "source": [
    "# Tracing Custom Dummy App with OTEL Spans using _TruLens_\n",
    "\n",
    "This notebook demonstrates the \"otel-tracing\" experimental feature in _TruLens_.\n",
    "This enables the collection of _OpenTelemetry_ spans during app evaluation. Data\n",
    "that is collected by _TruLens_ is recorded as spans.\n",
    "\n",
    "- OTEL exporters demonstrated in this notebook are:\n",
    "\n",
    "  - Console exporter (prints exported spans in the console or stream). We\n",
    "    configure this exporter to write spans to a variable `stream`.\n",
    "\n",
    "  - _Zipkin_ exporter. Setup below includes `docker` commands to download and\n",
    "    start a _Zipkin_ collector for demonstration purposes. To open the UI for\n",
    "    this exporter, open _Docker Desktop_, click on the triple dots under\n",
    "    \"Actions\" for the zipkin container and select \"Open with browser\"."
   ]
  },
  {
   "cell_type": "code",
   "execution_count": null,
   "metadata": {},
   "outputs": [],
   "source": [
    "# Install OTEL deps:\n",
    "# ! pip install opentelemetry-api opentelemetry-sdk opentelemetry-exporter-otlp\n",
    "\n",
    "# Install zipkin python package:\n",
    "# ! pip install opentelemetry-exporter-zipkin-proto-http\n",
    "\n",
    "# Start the zipkin docker container:\n",
    "# ! docker run --rm -d -p 9411:9411 --name zipkin openzipkin/zipkin\n",
    "\n",
    "# Stop the zipkin docker container:\n",
    "# ! docker stop $(docker ps -a -q --filter ancestor=openzipkin/zipkin)"
   ]
  },
  {
   "cell_type": "code",
   "execution_count": null,
   "metadata": {},
   "outputs": [],
   "source": [
    "# ruff: noqa: F401\n",
    "\n",
    "from io import StringIO\n",
    "import json\n",
    "from pathlib import Path\n",
    "import re\n",
    "import sys\n",
    "\n",
    "import dotenv\n",
    "from opentelemetry import trace\n",
    "\n",
    "# zipkip exporter\n",
    "from opentelemetry.exporter.zipkin.json import ZipkinExporter\n",
    "\n",
    "# console exporter\n",
    "from opentelemetry.sdk.trace.export import ConsoleSpanExporter\n",
    "from trulens.apps.custom import TruCustomApp\n",
    "from trulens.core import Feedback\n",
    "from trulens.core import Select\n",
    "from trulens.core.session import TruSession\n",
    "from trulens.experimental.otel_tracing.core.trace import TracerProvider\n",
    "from trulens.feedback.dummy.provider import DummyProvider\n",
    "\n",
    "# Add base dir to path to be able to access test folder.\n",
    "base_dir = Path().cwd().parent.parent.resolve()\n",
    "if str(base_dir) not in sys.path:\n",
    "    print(f\"Adding {base_dir} to sys.path\")\n",
    "    sys.path.append(str(base_dir))\n",
    "\n",
    "\n",
    "dotenv.load_dotenv()"
   ]
  },
  {
   "cell_type": "code",
   "execution_count": null,
   "metadata": {},
   "outputs": [],
   "source": [
    "# Sets the global default tracer provider to be the trulens one.\n",
    "trace.set_tracer_provider(TracerProvider())\n",
    "\n",
    "# Creates a tracer for custom spans below.\n",
    "tracer = trace.get_tracer(__name__)"
   ]
  },
  {
   "cell_type": "code",
   "execution_count": null,
   "metadata": {},
   "outputs": [],
   "source": [
    "# Setup console/file/string exporter\n",
    "# stream = StringIO()\n",
    "# Will print A LOT to stdout unless we set a different stream.\n",
    "# exporter = ConsoleSpanExporter(out=stream)\n",
    "\n",
    "# Setup zipkin exporter\n",
    "exporter = ZipkinExporter(endpoint=\"http://localhost:9411/api/v2/spans\")\n",
    "\n",
    "# Setup session with exporter.\n",
    "session = TruSession(_experimental_otel_exporter=exporter)\n",
    "\n",
    "# If not using the exporter, manually enable the otel experimental feature:\n",
    "# session = TruSession()\n",
    "# session.experimental_enable_feature(\"otel_tracing\")\n",
    "\n",
    "session.reset_database()\n",
    "session.start_dashboard()"
   ]
  },
  {
   "cell_type": "code",
   "execution_count": null,
   "metadata": {},
   "outputs": [],
   "source": [
    "from examples.dev.dummy_app.app import DummyApp\n",
    "\n",
    "# Create dummy endpoint for a dummy feedback function:\n",
    "dummy_provider = DummyProvider()\n",
    "dummy_feedback = Feedback(dummy_provider.sentiment).on(\n",
    "    text=Select.RecordSpans.trulens.call.generate.attributes[\n",
    "        \"trulens.bindings\"\n",
    "    ].prompt\n",
    ")\n",
    "# Parts of the selector are:\n",
    "#\n",
    "# - Select.RecordSpans - Select spans dictionary, organized by span name.\n",
    "#\n",
    "# - trulens.call.generate - Span name. TruLens call spans are of the form\n",
    "#   \"trulens.call.<method_name>\".\n",
    "#\n",
    "# - attributes - Span attributes\n",
    "#\n",
    "# - [\"trulens.bindings\"] - Attributes specific to TruLens spans. Call spans include\n",
    "#   method call arguments in \"trulens.bindings\".\n",
    "#\n",
    "# - prompt - The prompt argument to the method call named.\n",
    "\n",
    "# Create custom app:\n",
    "ca = DummyApp()\n",
    "\n",
    "# Create trulens wrapper:\n",
    "ta = TruCustomApp(\n",
    "    ca,\n",
    "    app_id=\"customapp\",\n",
    "    feedbacks=[dummy_feedback],\n",
    ")\n",
    "\n",
    "ca.respond_to_query(\"hello\")"
   ]
  },
  {
   "cell_type": "code",
   "execution_count": null,
   "metadata": {},
   "outputs": [],
   "source": [
    "# Normal trulens recording context manager:\n",
    "with ta as recorder:\n",
    "    # Another custom span.\n",
    "    with tracer.start_as_current_span(\"custom inner span\") as inner_span:\n",
    "        inner_span.set_attribute(\"custom\", \"value\")\n",
    "\n",
    "        # Normal instrumented call:\n",
    "        print(ca.respond_to_query(\"hello\"))\n",
    "\n",
    "record = recorder.get()"
   ]
  },
  {
   "cell_type": "code",
   "execution_count": null,
   "metadata": {},
   "outputs": [],
   "source": [
    "# Check the feedback results. Note that this feedback function is from a dummy\n",
    "# provider which does not have true sentiment analysis.\n",
    "\n",
    "record.feedback_results[0].result()"
   ]
  },
  {
   "cell_type": "code",
   "execution_count": null,
   "metadata": {},
   "outputs": [],
   "source": [
    "# Check trulens instrumented calls as spans:\n",
    "\n",
    "record.get(Select.RecordSpans)"
   ]
  },
  {
   "cell_type": "code",
   "execution_count": null,
   "metadata": {},
   "outputs": [],
   "source": [
    "# All of the spans listed above should be visible in the chosen exporter.\n",
    "#\n",
    "# The ConsoleSpanExporter writes json dumps of each span. Lets read those back\n",
    "# here to inspect them:\n",
    "\n",
    "match_root_json = re.compile(r\"(?:(^|\\n))\\{.+?\\n\\}\", re.DOTALL)\n",
    "\n",
    "if \"stream\" in locals():\n",
    "    dumps = match_root_json.finditer(stream.getvalue())  # noqa: F821\n",
    "\n",
    "    for dump in dumps:\n",
    "        span = json.loads(dump.group())\n",
    "\n",
    "        print(span[\"name\"])"
   ]
  }
 ],
 "metadata": {
  "kernelspec": {
   "display_name": "trulens-9bG3yHQd-py3.11",
   "language": "python",
   "name": "python3"
  },
  "language_info": {
   "codemirror_mode": {
    "name": "ipython",
    "version": 3
   },
   "file_extension": ".py",
   "mimetype": "text/x-python",
   "name": "python",
   "nbconvert_exporter": "python",
   "pygments_lexer": "ipython3"
  }
 },
 "nbformat": 4,
 "nbformat_minor": 2
}
