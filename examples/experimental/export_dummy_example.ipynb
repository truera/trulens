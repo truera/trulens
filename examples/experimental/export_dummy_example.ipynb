{
 "cells": [
  {
   "cell_type": "code",
   "execution_count": null,
   "metadata": {},
   "outputs": [],
   "source": [
    "# import os\n",
    "\n",
    "# This is needed due to zipkin issues related to protobuf.\n",
    "# os.environ[\"PROTOCOL_BUFFERS_PYTHON_IMPLEMENTATION\"] = \"python\"\n",
    "\n",
    "from pathlib import Path\n",
    "import sys\n",
    "\n",
    "import dotenv\n",
    "\n",
    "# Add base dir to path to be able to access test folder.\n",
    "base_dir = Path().cwd().parent.parent.resolve()\n",
    "if str(base_dir) not in sys.path:\n",
    "    print(f\"Adding {base_dir} to sys.path\")\n",
    "    sys.path.append(str(base_dir))\n",
    "\n",
    "\n",
    "dotenv.load_dotenv()\n",
    "\n",
    "# Deps\n",
    "# ! pip install opentelemetry-api opentelemetry-sdk opentelemetry-exporter-otlp\n",
    "\n",
    "# Install zipkin python package:\n",
    "# ! pip install opentelemetry-exporter-zipkin-proto-http\n",
    "# Or other exporters\n",
    "! pip install opentelemetry-exporter-prometheus\n",
    "\n",
    "# Start the zipkin docker container:\n",
    "# ! docker run --rm -d -p 9411:9411 --name zipkin openzipkin/zipkin\n",
    "\n",
    "# Stop the zipkin docker container:\n",
    "# ! docker stop $(docker ps -a -q --filter ancestor=openzipkin/zipkin)"
   ]
  },
  {
   "cell_type": "code",
   "execution_count": null,
   "metadata": {},
   "outputs": [],
   "source": [
    "from opentelemetry.exporter.zipkin.json import ZipkinExporter\n",
    "from trulens.apps.custom import TruCustomApp\n",
    "from trulens.core.session import TruSession\n",
    "from trulens.feedback.dummy.endpoint import DummyEndpoint\n",
    "\n",
    "from examples.dev.dummy_app.app import DummyApp\n",
    "\n",
    "tru = TruSession(\n",
    "    _experimental_otel_exporter=ZipkinExporter(\n",
    "        endpoint=\"http://localhost:9411/api/v2/spans\"\n",
    "    )\n",
    ")\n",
    "\n",
    "\n",
    "TruSession().experimental_enable_feature(\"otel_tracing\")\n",
    "\n",
    "# Need to create dummy endpont for the instrumentation of the DummyAPI to\n",
    "# happen.\n",
    "\n",
    "DummyEndpoint()\n",
    "\n",
    "\n",
    "# tru.reset_database()\n",
    "# run_dashboard(force=True, port=8080)"
   ]
  },
  {
   "cell_type": "code",
   "execution_count": null,
   "metadata": {},
   "outputs": [],
   "source": [
    "# Create custom app:\n",
    "ca = DummyApp()\n",
    "\n",
    "# Create trulens wrapper:\n",
    "ta = TruCustomApp(\n",
    "    ca,\n",
    "    app_id=\"customapp\",\n",
    ")"
   ]
  },
  {
   "cell_type": "code",
   "execution_count": null,
   "metadata": {},
   "outputs": [],
   "source": [
    "# Nested context managers.\n",
    "with ta as recorder1:\n",
    "    ca.llm.generate(\"this is the outer memory remember\")\n",
    "    with ta as recorder2:\n",
    "        ca.memory.remember(\"this is the inner memory remember\")\n",
    "        ca.respond_to_query(\"hello\")"
   ]
  },
  {
   "cell_type": "code",
   "execution_count": null,
   "metadata": {},
   "outputs": [],
   "source": [
    "from trulens.experimental.otel_tracing.core.trace import get_tracer"
   ]
  },
  {
   "cell_type": "code",
   "execution_count": null,
   "metadata": {},
   "outputs": [],
   "source": [
    "get_tracer().spans"
   ]
  },
  {
   "cell_type": "code",
   "execution_count": null,
   "metadata": {},
   "outputs": [],
   "source": [
    "print(recorder1.records[2])"
   ]
  }
 ],
 "metadata": {
  "kernelspec": {
   "display_name": "trulens-9bG3yHQd-py3.11",
   "language": "python",
   "name": "python3"
  },
  "language_info": {
   "codemirror_mode": {
    "name": "ipython",
    "version": 3
   },
   "file_extension": ".py",
   "mimetype": "text/x-python",
   "name": "python",
   "nbconvert_exporter": "python",
   "pygments_lexer": "ipython3"
  }
 },
 "nbformat": 4,
 "nbformat_minor": 2
}
