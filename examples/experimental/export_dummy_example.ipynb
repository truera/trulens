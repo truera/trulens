{
 "cells": [
  {
   "cell_type": "markdown",
   "metadata": {},
   "source": [
    "# Tracing Custom Dummy App with OTEL Spans using _TruLens_\n",
    "\n",
    "This notebook demonstrates the \"otel_tracing\" experimental feature in _TruLens_.\n",
    "This enables the collection of _OpenTelemetry_ spans during app evaluation. Data\n",
    "that is collected by _TruLens_ is recorded as spans.\n",
    "\n",
    "- OTEL exporters demonstrated in this notebook are:\n",
    "\n",
    "  - Console exporter (prints exported spans in the console or stream).\n",
    "\n",
    "  - In-memory exporter. This stores spans in python list you can access in this\n",
    "    notebook.\n",
    "\n",
    "  - _Zipkin_ exporter. Setup below includes `docker` commands to download and\n",
    "    start a _Zipkin_ collector for demonstration purposes. To open the UI for\n",
    "    this exporter, open _Docker Desktop_, click on the triple dots under\n",
    "    \"Actions\" for the zipkin container and select \"Open with browser\"."
   ]
  },
  {
   "cell_type": "code",
   "execution_count": null,
   "metadata": {},
   "outputs": [],
   "source": [
    "# Install OTEL deps:\n",
    "# ! pip install opentelemetry-api opentelemetry-sdk opentelemetry-exporter-otlp\n",
    "\n",
    "# Install zipkin python package:\n",
    "# ! pip install opentelemetry-exporter-zipkin-proto-http\n",
    "\n",
    "# Start the zipkin docker container:\n",
    "# ! docker run --rm -d -p 9411:9411 --name zipkin openzipkin/zipkin\n",
    "\n",
    "# Stop the zipkin docker container:\n",
    "# ! docker stop $(docker ps -a -q --filter ancestor=openzipkin/zipkin)"
   ]
  },
  {
   "cell_type": "code",
   "execution_count": null,
   "metadata": {},
   "outputs": [],
   "source": [
    "# ruff: noqa: F401\n",
    "\n",
    "from pathlib import Path\n",
    "import sys\n",
    "\n",
    "import dotenv\n",
    "from opentelemetry import trace\n",
    "from opentelemetry.exporter.zipkin.json import ZipkinExporter  # zipkin exporter\n",
    "from opentelemetry.sdk.trace.export import (\n",
    "    ConsoleSpanExporter,  # console exporter\n",
    ")\n",
    "from opentelemetry.sdk.trace.export.in_memory_span_exporter import (\n",
    "    InMemorySpanExporter,  # in-memory exporter\n",
    ")\n",
    "from trulens.apps.custom import TruCustomApp\n",
    "from trulens.core import Feedback\n",
    "from trulens.core import Select\n",
    "from trulens.core.session import TruSession\n",
    "from trulens.experimental.otel_tracing.core.trace import sem\n",
    "from trulens.experimental.otel_tracing.core.trace.trace import (\n",
    "    trulens_tracer_provider,\n",
    ")\n",
    "from trulens.feedback.dummy.provider import DummyProvider\n",
    "from trulens.otel.semconv.trace import SpanAttributes\n",
    "\n",
    "# Add base dir to path to be able to access test folder.\n",
    "base_dir = Path().cwd().parent.parent.resolve()\n",
    "if str(base_dir) not in sys.path:\n",
    "    print(f\"Adding {base_dir} to sys.path\")\n",
    "    sys.path.append(str(base_dir))\n",
    "\n",
    "\n",
    "dotenv.load_dotenv()"
   ]
  },
  {
   "cell_type": "code",
   "execution_count": null,
   "metadata": {},
   "outputs": [],
   "source": [
    "# Sets the global default tracer provider to be the trulens one.\n",
    "trace.set_tracer_provider(trulens_tracer_provider())\n",
    "\n",
    "# Creates a tracer for custom spans below.\n",
    "tracer = trace.get_tracer(__name__)"
   ]
  },
  {
   "cell_type": "code",
   "execution_count": null,
   "metadata": {},
   "outputs": [],
   "source": [
    "# Setup in-memory span exporter.\n",
    "exporter = InMemorySpanExporter()\n",
    "\n",
    "# Setup console/file/string exporter\n",
    "# stream = StringIO()\n",
    "\n",
    "# Will print A LOT to stdout unless we set a different stream.\n",
    "# exporter = ConsoleSpanExporter(out=stream)\n",
    "\n",
    "# Setup zipkin exporter\n",
    "# exporter = ZipkinExporter(endpoint=\"http://localhost:9411/api/v2/spans\")\n",
    "\n",
    "# Create a TruLens session.\n",
    "session = TruSession()\n",
    "\n",
    "session.reset_database()  # reset the database first as enabling otel_tracing creates another table which we don't want to be deleted by reset_database.\n",
    "\n",
    "# To export spans to an external OTEL SpanExporter tool, set it here:\n",
    "session.experimental_otel_exporter = exporter\n",
    "\n",
    "# (Optional) Enable otel_tracing. Note that this is not required if you set the\n",
    "# exporter above. If you would like to trace using spans without an exporter,\n",
    "# this step is required.\n",
    "session.experimental_enable_feature(\"otel_tracing\")\n",
    "\n",
    "# session.start_dashboard()"
   ]
  },
  {
   "cell_type": "code",
   "execution_count": null,
   "metadata": {},
   "outputs": [],
   "source": [
    "from examples.dev.dummy_app.app import DummyApp\n",
    "\n",
    "# Create dummy endpoint for a dummy feedback function:\n",
    "dummy_provider = DummyProvider()\n",
    "dummy_feedback = Feedback(dummy_provider.sentiment).on(\n",
    "    text=Select.RecordSpans.trulens.call.generate.bound_arguments.prompt\n",
    ")\n",
    "# Parts of the selector are:\n",
    "#\n",
    "# - Select.RecordSpans - Select spans dictionary, organized by span name.\n",
    "#\n",
    "# - trulens.call.generate - Span name. TruLens call spans are of the form\n",
    "#   \"trulens.call.<method_name>\".\n",
    "#\n",
    "# - attributes - Span attributes\n",
    "#\n",
    "# - [\"trulens.bound_arguments\"] - Attributes specific to TruLens spans. Call spans\n",
    "#   include method call arguments in \"trulens.bound_arguments\". Other attributes are\n",
    "#   \"trulens.ret\" for the call span's return value and \"trulens.error\" for the\n",
    "#   call span's error if it raised an exception instead of returning.\n",
    "#\n",
    "# - prompt - The prompt argument to the method call named.\n",
    "\n",
    "# Create custom app:\n",
    "ca = DummyApp()\n",
    "\n",
    "# Create trulens wrapper:\n",
    "ta1 = TruCustomApp(\n",
    "    ca,\n",
    "    app_name=\"customapp1\",\n",
    "    feedbacks=[dummy_feedback],\n",
    ")\n",
    "\n",
    "ta2 = TruCustomApp(\n",
    "    ca,\n",
    "    app_name=\"customapp2\",\n",
    "    #    feedbacks=[dummy_feedback],\n",
    ")"
   ]
  },
  {
   "cell_type": "code",
   "execution_count": null,
   "metadata": {},
   "outputs": [],
   "source": [
    "# Normal trulens recording context manager:\n",
    "\n",
    "# print(trace.get_current_span())\n",
    "\n",
    "with ta1 as recorder:\n",
    "    # (optional) Custom span.\n",
    "    with tracer.start_as_current_span(\"custom inner span\") as inner_span:\n",
    "        print(\"inner_span=\", inner_span)\n",
    "\n",
    "        # (optional) Set custom span attributes.\n",
    "        inner_span.set_attribute(\"custom\", \"value1\")\n",
    "\n",
    "        # Normal instrumented call:\n",
    "        print(ca.respond_to_query(query=\"hello\"))\n",
    "\n",
    "        with ta2 as recorder2:\n",
    "            # Second custom span.\n",
    "            with tracer.start_as_current_span(\n",
    "                \"custom inner span 2\"\n",
    "            ) as inner_span2:\n",
    "                print(\"inner_span2=\", inner_span)\n",
    "                inner_span2.set_attribute(\"custom\", \"value2\")\n",
    "\n",
    "                # Second instrumented call.\n",
    "                print(ca.respond_to_query(query=\"hi\"))\n",
    "\n",
    "            # A third instrumented call.\n",
    "            print(ca.respond_to_query(query=\"goodbye\"))\n",
    "\n",
    "record, *rest = recorder.records"
   ]
  },
  {
   "cell_type": "code",
   "execution_count": null,
   "metadata": {},
   "outputs": [],
   "source": [
    "# Check the feedback results. Note that this feedback function is from a dummy\n",
    "# provider which does not have true sentiment analysis.\n",
    "\n",
    "print(record.feedback_results[0].result())"
   ]
  },
  {
   "cell_type": "code",
   "execution_count": null,
   "metadata": {},
   "outputs": [],
   "source": [
    "record.experimental_otel_spans[1]"
   ]
  },
  {
   "cell_type": "code",
   "execution_count": null,
   "metadata": {},
   "outputs": [],
   "source": [
    "record.experimental_otel_spans"
   ]
  },
  {
   "cell_type": "code",
   "execution_count": null,
   "metadata": {},
   "outputs": [],
   "source": [
    "record.experimental_otel_spans[0].attributes"
   ]
  },
  {
   "cell_type": "code",
   "execution_count": null,
   "metadata": {},
   "outputs": [],
   "source": [
    "# Check trulens instrumented calls as spans:\n",
    "\n",
    "span = record.get(Select.RecordSpans.trulens.call.respond_to_query[0])"
   ]
  },
  {
   "cell_type": "code",
   "execution_count": null,
   "metadata": {},
   "outputs": [],
   "source": [
    "# Raw representation of attributes in the span:\n",
    "\n",
    "span._attributes"
   ]
  },
  {
   "cell_type": "code",
   "execution_count": null,
   "metadata": {},
   "outputs": [],
   "source": [
    "# Serialized versions of attributes:\n",
    "\n",
    "span.attributes"
   ]
  },
  {
   "cell_type": "code",
   "execution_count": null,
   "metadata": {},
   "outputs": [],
   "source": [
    "# Some of the same data is also accessible directly from the span instance:\n",
    "\n",
    "# These are the explicitly defined pydantic model fields.\n",
    "for key, value in span.model_fields.items():\n",
    "    print(f\"(explicit) {key}: {getattr(span, key)}\")\n",
    "\n",
    "# These are computed properties defined to mirror their value in the attribute dict:\n",
    "for key, value in span.model_computed_fields.items():\n",
    "    print(f\"(computed) {key}: {getattr(span, key)}\")"
   ]
  },
  {
   "cell_type": "code",
   "execution_count": null,
   "metadata": {},
   "outputs": [],
   "source": [
    "# Span type can be accessed by either the span_types attributes of enums or\n",
    "# python class hierarchy:\n",
    "\n",
    "print(span.span_types)\n",
    "print(type(span).__bases__)"
   ]
  },
  {
   "cell_type": "code",
   "execution_count": null,
   "metadata": {},
   "outputs": [],
   "source": [
    "# Use span_types for checking span category:\n",
    "\n",
    "print(SpanAttributes.SpanType.CALL in span.span_types)\n",
    "print(SpanAttributes.SpanType.UNKNOWN in span.span_types)"
   ]
  },
  {
   "cell_type": "code",
   "execution_count": null,
   "metadata": {},
   "outputs": [],
   "source": [
    "# Use isinstance instead:\n",
    "\n",
    "print(isinstance(span, sem.Call))\n",
    "print(isinstance(span, sem.Unknown))"
   ]
  },
  {
   "cell_type": "code",
   "execution_count": null,
   "metadata": {},
   "outputs": [],
   "source": [
    "# All of the spans listed above should be visible in the chosen exporter.\n",
    "\n",
    "# The InMemorySpanExporter stores the spans in memory. Lets read them back here\n",
    "# to inspect them:\n",
    "\n",
    "from trulens.experimental.otel_tracing.core.trace import context as core_context\n",
    "from trulens.experimental.otel_tracing.core.trace import otel as core_otel\n",
    "\n",
    "if \"exporter\" in locals():\n",
    "    print(f\"Spans exported to {exporter}:\")\n",
    "\n",
    "    if isinstance(exporter, InMemorySpanExporter):\n",
    "        spans = exporter.get_finished_spans()\n",
    "\n",
    "        for span in spans:\n",
    "            # Using of_contextlike here to print ids more readably.\n",
    "            print(\n",
    "                core_context.SpanContext.of_contextlike(span.context),\n",
    "                \"->\",\n",
    "                core_context.SpanContext.of_contextlike(span.parent),\n",
    "                span.name,\n",
    "            )\n",
    "\n",
    "    elif isinstance(exporter, ZipkinExporter):\n",
    "        print(\n",
    "            \"The spans should be visible in the zipkin dashboard at http://localhost:9411/zipkin/\"\n",
    "        )"
   ]
  },
  {
   "cell_type": "code",
   "execution_count": null,
   "metadata": {},
   "outputs": [],
   "source": [
    "# Get the spans back from the new spans table.\n",
    "\n",
    "db = session.connector.db\n",
    "\n",
    "for span in db.get_spans():\n",
    "    print(span)\n",
    "    if isinstance(span, sem.RecordRoot):\n",
    "        print(\"\\tThis is the root of record:\", span.record_id)\n",
    "        print(\"\\tRecord is for app:\", span.app_id)\n",
    "    if isinstance(span, sem.Record):\n",
    "        print(\"\\tBelongs to records:\", list(span.record_ids.values()))"
   ]
  },
  {
   "cell_type": "code",
   "execution_count": null,
   "metadata": {},
   "outputs": [],
   "source": [
    "# Get the trace roots only:\n",
    "\n",
    "from trulens.otel.semconv.trace import SpanAttributes\n",
    "\n",
    "db = session.connector.db\n",
    "\n",
    "for span in db.get_spans(\n",
    "    where=db.Span.span_types.contains(SpanAttributes.SpanType.RECORD_ROOT)\n",
    "):\n",
    "    # Root spans identify the record_id they are recording and the app to which\n",
    "    # that record belongs:\n",
    "    print(span, span.record_id, span.app_id, span.app_name, span.app_version)\n",
    "\n",
    "    # Root spans have these fields that were previously in Record:\n",
    "    print(\"\\tmain_input:\", repr(span.main_input))\n",
    "    print(\"\\tmain_output:\", repr(span.main_output))\n",
    "    print(\"\\tmain_error:\", repr(span.main_error))\n",
    "    print(\"\\ttotal_cost:\", span.total_cost)\n",
    "\n",
    "    # Get the spans for a specific record:\n",
    "    for child_span in db.get_spans(\n",
    "        where=db.Span.record_ids.contains(span.record_id)\n",
    "    ):\n",
    "        print(\"\\t\", child_span)"
   ]
  }
 ],
 "metadata": {
  "kernelspec": {
   "display_name": "trulens-9bG3yHQd-py3.8",
   "language": "python",
   "name": "python3"
  },
  "language_info": {
   "codemirror_mode": {
    "name": "ipython",
    "version": 3
   },
   "file_extension": ".py",
   "mimetype": "text/x-python",
   "name": "python",
   "nbconvert_exporter": "python",
   "pygments_lexer": "ipython3"
  }
 },
 "nbformat": 4,
 "nbformat_minor": 2
}
