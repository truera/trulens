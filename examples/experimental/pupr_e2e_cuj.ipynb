{
 "cells": [
  {
   "cell_type": "code",
   "execution_count": null,
   "metadata": {},
   "outputs": [],
   "source": [
    "%load_ext autoreload\n",
    "%autoreload 2"
   ]
  },
  {
   "cell_type": "code",
   "execution_count": null,
   "metadata": {},
   "outputs": [],
   "source": [
    "# Ensure we use OTEL tracing.\n",
    "\n",
    "import os\n",
    "\n",
    "os.environ[\"TRULENS_OTEL_TRACING\"] = \"1\""
   ]
  },
  {
   "cell_type": "code",
   "execution_count": null,
   "metadata": {},
   "outputs": [],
   "source": [
    "# Set up python resolution paths.\n",
    "\n",
    "from pathlib import Path\n",
    "import sys\n",
    "\n",
    "# Add base dir to path to be able to access test folder.\n",
    "base_dir = Path().cwd().parent.parent.resolve()\n",
    "if str(base_dir) not in sys.path:\n",
    "    print(f\"Adding {base_dir} to sys.path\")\n",
    "    sys.path.append(str(base_dir))"
   ]
  },
  {
   "cell_type": "code",
   "execution_count": null,
   "metadata": {},
   "outputs": [],
   "source": [
    "# Set up logging.\n",
    "\n",
    "import logging\n",
    "\n",
    "root = logging.getLogger()\n",
    "root.setLevel(logging.DEBUG)\n",
    "handler = logging.StreamHandler(sys.stdout)\n",
    "handler.setLevel(logging.DEBUG)\n",
    "formatter = logging.Formatter(\n",
    "    \"%(asctime)s - %(name)s - %(levelname)s - %(message)s\"\n",
    ")\n",
    "handler.addFilter(logging.Filter(\"trulens\"))\n",
    "handler.setFormatter(formatter)\n",
    "root.addHandler(handler)"
   ]
  },
  {
   "cell_type": "code",
   "execution_count": null,
   "metadata": {},
   "outputs": [],
   "source": [
    "# Create snowpark session.\n",
    "import os\n",
    "\n",
    "from dotenv import load_dotenv\n",
    "from snowflake.snowpark import Session\n",
    "from trulens.connectors.snowflake import SnowflakeConnector\n",
    "\n",
    "load_dotenv()\n",
    "\n",
    "snowflake_connection_parameters = {\n",
    "    \"account\": os.environ[\"SNOWFLAKE_ACCOUNT\"],\n",
    "    \"user\": os.environ[\"SNOWFLAKE_USER\"],\n",
    "    \"password\": os.environ[\"SNOWFLAKE_USER_PASSWORD\"],\n",
    "    \"database\": os.environ[\"SNOWFLAKE_DATABASE\"],\n",
    "    \"schema\": os.environ[\"SNOWFLAKE_SCHEMA\"],\n",
    "    \"role\": os.environ[\"SNOWFLAKE_ROLE\"],\n",
    "    \"warehouse\": os.environ[\"SNOWFLAKE_WAREHOUSE\"],\n",
    "}\n",
    "\n",
    "snowpark_session = Session.builder.configs(\n",
    "    snowflake_connection_parameters\n",
    ").create()\n",
    "\n",
    "sf_connector = SnowflakeConnector(snowpark_session=snowpark_session)"
   ]
  },
  {
   "cell_type": "code",
   "execution_count": null,
   "metadata": {},
   "outputs": [],
   "source": [
    "# Create TruSession.\n",
    "\n",
    "from trulens.core.session import TruSession\n",
    "\n",
    "tru_session = TruSession(connector=sf_connector)"
   ]
  },
  {
   "cell_type": "markdown",
   "metadata": {},
   "source": [
    "# Create Test App"
   ]
  },
  {
   "cell_type": "markdown",
   "metadata": {},
   "source": [
    "## Create vector store"
   ]
  },
  {
   "cell_type": "code",
   "execution_count": null,
   "metadata": {},
   "outputs": [],
   "source": [
    "from trulens.benchmark.benchmark_frameworks.dataset.beir_loader import (\n",
    "    TruBEIRDataLoader,\n",
    ")\n",
    "\n",
    "n_samples = 10\n",
    "beir_data_loader = TruBEIRDataLoader(data_folder=\"./\", dataset_name=\"hotpotqa\")\n",
    "hotpotqa = beir_data_loader.load_dataset_to_df(download=True)\n",
    "hotpotqa = hotpotqa.sample(n=n_samples, random_state=42)"
   ]
  },
  {
   "cell_type": "code",
   "execution_count": null,
   "metadata": {},
   "outputs": [],
   "source": [
    "all_contexts = list(\n",
    "    set(\n",
    "        context[\"text\"]\n",
    "        for _, row in hotpotqa.iterrows()\n",
    "        for context in row[\"expected_chunks\"]\n",
    "    )\n",
    ")"
   ]
  },
  {
   "cell_type": "code",
   "execution_count": null,
   "metadata": {},
   "outputs": [],
   "source": [
    "from sentence_transformers import SentenceTransformer\n",
    "\n",
    "embed_model = SentenceTransformer(\n",
    "    \"Snowflake/snowflake-arctic-embed-m\", trust_remote_code=True\n",
    ")"
   ]
  },
  {
   "cell_type": "code",
   "execution_count": null,
   "metadata": {},
   "outputs": [],
   "source": [
    "ctx_embeddings = embed_model.encode(all_contexts)\n",
    "ctx_embeddings.shape"
   ]
  },
  {
   "cell_type": "code",
   "execution_count": null,
   "metadata": {},
   "outputs": [],
   "source": [
    "import chromadb\n",
    "\n",
    "chroma_client = chromadb.Client()\n",
    "vector_store = chroma_client.get_or_create_collection(name=\"hotpotqa_contexts\")\n",
    "\n",
    "vector_store.upsert(\n",
    "    [str(i) for i in range(len(all_contexts))],\n",
    "    documents=all_contexts,\n",
    "    embeddings=ctx_embeddings,\n",
    ")"
   ]
  },
  {
   "cell_type": "code",
   "execution_count": null,
   "metadata": {},
   "outputs": [],
   "source": [
    "from snowflake.cortex import complete\n",
    "from trulens.core.otel.instrument import instrument\n",
    "from trulens.otel.semconv.trace import SpanAttributes\n",
    "\n",
    "\n",
    "class TestApp:\n",
    "    # TODO Not technically the right way to pass ground truth output, but using it as a workaround for this bug bash.\n",
    "    def __init__(self, generation_model: str, vector_store):\n",
    "        self.vector_store = vector_store\n",
    "        self.generation_model = generation_model\n",
    "\n",
    "    @instrument()\n",
    "    def query(self, query: str) -> str:\n",
    "        retrieved_contexts = self.get_contexts(query)\n",
    "        return self.generation(query, retrieved_contexts)\n",
    "\n",
    "    @instrument(\n",
    "        span_type=SpanAttributes.SpanType.RETRIEVAL,\n",
    "        attributes=lambda ret, exception, *args, **kwargs: {\n",
    "            SpanAttributes.RETRIEVAL.QUERY_TEXT: args[1],\n",
    "            SpanAttributes.RETRIEVAL.NUM_CONTEXTS: len(ret),\n",
    "            SpanAttributes.RETRIEVAL.RETRIEVED_CONTEXTS: ret,\n",
    "        },\n",
    "    )\n",
    "    def get_contexts(self, query: str, n_results: int = 3) -> list[str]:\n",
    "        try:\n",
    "            response = self.vector_store.query(\n",
    "                query_embeddings=embed_model.encode(\n",
    "                    [query], prompt_name=\"query\"\n",
    "                ),\n",
    "                n_results=n_results,\n",
    "            )\n",
    "            return response[\"documents\"][0]\n",
    "        except Exception:\n",
    "            return []\n",
    "\n",
    "    @instrument(\n",
    "        span_type=SpanAttributes.SpanType.GENERATION,\n",
    "    )\n",
    "    def generation(self, query: str, contexts: list[str]) -> str:\n",
    "        prompt_template = \"Generate a response to the following question: \\n\\n{}\\n\\nContext: \\n\\n{}\"\n",
    "        prompt = prompt_template.format(query, \"\\n\".join(contexts))\n",
    "        resp = complete(self.generation_model, prompt, session=snowpark_session)\n",
    "        assert isinstance(resp, str)\n",
    "        return resp"
   ]
  },
  {
   "cell_type": "code",
   "execution_count": null,
   "metadata": {},
   "outputs": [],
   "source": [
    "# Create TruLens instrumented app from custom app.\n",
    "\n",
    "from datetime import datetime\n",
    "\n",
    "from trulens.apps.app import TruApp\n",
    "\n",
    "APP_NAME = f\"{os.getlogin()} pupr e2e {datetime.now().strftime('%Y%m%d%H%M%S')}\".upper()\n",
    "APP_VERSION = \"V3\"\n",
    "\n",
    "test_app = TestApp(generation_model=\"llama3.1-70b\", vector_store=vector_store)\n",
    "tru_app = TruApp(\n",
    "    test_app,\n",
    "    app_name=APP_NAME,\n",
    "    app_version=APP_VERSION,\n",
    "    connector=sf_connector,\n",
    "    main_method=test_app.query,\n",
    ")"
   ]
  },
  {
   "cell_type": "code",
   "execution_count": null,
   "metadata": {},
   "outputs": [],
   "source": [
    "print(tru_app.snowflake_object_type)  # EXTERNAL AGENT\n",
    "print(tru_app.snowflake_object_name)  # APP_NAME\n",
    "print(tru_app.snowflake_object_version)  # APP_VERSION\n",
    "\n",
    "version_df = tru_app.snowflake_app_dao.list_agent_versions(APP_NAME)\n",
    "print(version_df)"
   ]
  },
  {
   "cell_type": "markdown",
   "metadata": {},
   "source": [
    "## Add runs to agent"
   ]
  },
  {
   "cell_type": "code",
   "execution_count": null,
   "metadata": {},
   "outputs": [],
   "source": [
    "from trulens.core.run import Run\n",
    "from trulens.core.run import RunConfig\n",
    "\n",
    "run_name = \"test_run_0220\".upper()\n",
    "\n",
    "run_config = RunConfig(\n",
    "    run_name=run_name,\n",
    "    description=\"desc\",\n",
    "    dataset_name=\"My test dataframe name\",\n",
    "    source_type=\"DATAFRAME\",\n",
    "    label=\"label\",\n",
    "    dataset_spec={\n",
    "        \"input\": \"query\",\n",
    "        \"ground_truth_output\": \"expected_response\",\n",
    "    },\n",
    ")  # type: ignore\n",
    "\n",
    "run: Run = tru_app.add_run(run_config=run_config)"
   ]
  },
  {
   "cell_type": "code",
   "execution_count": null,
   "metadata": {},
   "outputs": [],
   "source": [
    "run = tru_app.get_run(run_name=run_name)"
   ]
  },
  {
   "cell_type": "code",
   "execution_count": null,
   "metadata": {},
   "outputs": [],
   "source": [
    "run.describe()"
   ]
  },
  {
   "cell_type": "code",
   "execution_count": null,
   "metadata": {},
   "outputs": [],
   "source": [
    "tru_app.list_runs()"
   ]
  },
  {
   "cell_type": "markdown",
   "metadata": {},
   "source": [
    "### Start the Run (a pandas DataFrame or rows in user's table.) to invoke user's app directly and start ingestion\n",
    "\n",
    "#### here we will be using a user provided test dataframe"
   ]
  },
  {
   "cell_type": "code",
   "execution_count": null,
   "metadata": {},
   "outputs": [],
   "source": [
    "input_df = hotpotqa[[\"query\", \"expected_response\"]]\n",
    "input_df"
   ]
  },
  {
   "cell_type": "code",
   "execution_count": null,
   "metadata": {},
   "outputs": [],
   "source": [
    "run.start(input_df=input_df)"
   ]
  },
  {
   "cell_type": "code",
   "execution_count": null,
   "metadata": {},
   "outputs": [],
   "source": [
    "# Read the event table.\n",
    "\n",
    "import time\n",
    "\n",
    "\n",
    "def wait_for_nonzero_results(\n",
    "    num_retries: int = 20, retry_cooldown_in_seconds: int = 5\n",
    "):\n",
    "    q = \"\"\"\n",
    "        SELECT\n",
    "            *\n",
    "        FROM\n",
    "            table(snowflake.local.GET_AI_OBSERVABILITY_EVENTS(\n",
    "                ?,\n",
    "                ?,\n",
    "                ?,\n",
    "                'EXTERNAL AGENT'\n",
    "            ))\n",
    "        WHERE\n",
    "            RECORD_ATTRIBUTES:\"snow.ai.observability.run.name\" = ?\n",
    "        \"\"\"\n",
    "    for _ in range(num_retries):\n",
    "        ret = snowpark_session.sql(\n",
    "            q,\n",
    "            params=[\n",
    "                snowpark_session.get_current_database()[1:-1],\n",
    "                snowpark_session.get_current_schema()[1:-1],\n",
    "                APP_NAME,\n",
    "                run_name,\n",
    "            ],\n",
    "        ).to_pandas()\n",
    "        if len(ret) > 0:\n",
    "            return ret\n",
    "        time.sleep(retry_cooldown_in_seconds)\n",
    "    raise ValueError(\"No results found!\")\n",
    "\n",
    "\n",
    "res = wait_for_nonzero_results()\n",
    "res"
   ]
  },
  {
   "cell_type": "code",
   "execution_count": null,
   "metadata": {},
   "outputs": [],
   "source": [
    "res.iloc[-1][\"RECORD_ATTRIBUTES\"]"
   ]
  },
  {
   "cell_type": "code",
   "execution_count": null,
   "metadata": {},
   "outputs": [],
   "source": [
    "run.compute_metrics([\n",
    "    \"coherence\",\n",
    "    \"answer_relevance\",\n",
    "    \"context_relevance\",\n",
    "    \"groundedness\",\n",
    "])"
   ]
  }
 ],
 "metadata": {
  "kernelspec": {
   "display_name": "pkg_311",
   "language": "python",
   "name": "python3"
  },
  "language_info": {
   "codemirror_mode": {
    "name": "ipython",
    "version": 3
   },
   "file_extension": ".py",
   "mimetype": "text/x-python",
   "name": "python",
   "nbconvert_exporter": "python",
   "pygments_lexer": "ipython3"
  }
 },
 "nbformat": 4,
 "nbformat_minor": 2
}
