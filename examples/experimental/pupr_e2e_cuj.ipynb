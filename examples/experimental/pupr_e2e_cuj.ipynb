{
 "cells": [
  {
   "cell_type": "code",
   "execution_count": null,
   "metadata": {},
   "outputs": [],
   "source": [
    "# Ensure we use OTEL tracing.\n",
    "\n",
    "import os\n",
    "\n",
    "os.environ[\"TRULENS_OTEL_TRACING\"] = \"1\""
   ]
  },
  {
   "cell_type": "code",
   "execution_count": null,
   "metadata": {},
   "outputs": [],
   "source": [
    "# Set up python resolution paths.\n",
    "\n",
    "from pathlib import Path\n",
    "import sys\n",
    "\n",
    "# Add base dir to path to be able to access test folder.\n",
    "base_dir = Path().cwd().parent.parent.resolve()\n",
    "if str(base_dir) not in sys.path:\n",
    "    print(f\"Adding {base_dir} to sys.path\")\n",
    "    sys.path.append(str(base_dir))"
   ]
  },
  {
   "cell_type": "code",
   "execution_count": null,
   "metadata": {},
   "outputs": [],
   "source": [
    "# Set up logging.\n",
    "\n",
    "import logging\n",
    "\n",
    "root = logging.getLogger()\n",
    "root.setLevel(logging.DEBUG)\n",
    "handler = logging.StreamHandler(sys.stdout)\n",
    "handler.setLevel(logging.DEBUG)\n",
    "formatter = logging.Formatter(\n",
    "    \"%(asctime)s - %(name)s - %(levelname)s - %(message)s\"\n",
    ")\n",
    "handler.addFilter(logging.Filter(\"trulens\"))\n",
    "handler.setFormatter(formatter)\n",
    "root.addHandler(handler)"
   ]
  },
  {
   "cell_type": "code",
   "execution_count": null,
   "metadata": {},
   "outputs": [],
   "source": [
    "# Create snowpark session.\n",
    "from snowflake.snowpark import Session\n",
    "from trulens.connectors.snowflake import SnowflakeConnector\n",
    "\n",
    "snowflake_connection_parameters = {\n",
    "    \"account\": os.environ[\"SNOWFLAKE_ACCOUNT\"],\n",
    "    \"user\": os.environ[\"SNOWFLAKE_USER\"],\n",
    "    \"password\": os.environ[\"SNOWFLAKE_USER_PASSWORD\"],\n",
    "    \"database\": os.environ[\"SNOWFLAKE_DATABASE\"],\n",
    "    \"schema\": os.environ[\"SNOWFLAKE_SCHEMA\"],\n",
    "    \"role\": os.environ[\"SNOWFLAKE_ROLE\"],\n",
    "    \"warehouse\": os.environ[\"SNOWFLAKE_WAREHOUSE\"],\n",
    "    \"host\": \"mlplatformtest.qa6.us-west-2.aws.snowflakecomputing.com\",\n",
    "}\n",
    "\n",
    "\n",
    "sf_connector = SnowflakeConnector(**snowflake_connection_parameters)"
   ]
  },
  {
   "cell_type": "code",
   "execution_count": null,
   "metadata": {},
   "outputs": [],
   "source": [
    "snowpark_session = Session.builder.configs(\n",
    "    snowflake_connection_parameters\n",
    ").create()"
   ]
  },
  {
   "cell_type": "code",
   "execution_count": null,
   "metadata": {},
   "outputs": [],
   "source": [
    "# Create TruSession.\n",
    "\n",
    "from trulens.connectors.snowflake import SnowflakeConnector\n",
    "from trulens.core.session import TruSession\n",
    "\n",
    "tru_session = TruSession(connector=sf_connector)"
   ]
  },
  {
   "cell_type": "code",
   "execution_count": null,
   "metadata": {},
   "outputs": [],
   "source": [
    "# Define app.\n",
    "\n",
    "from trulens.core.otel.instrument import instrument\n",
    "\n",
    "\n",
    "class TestApp:\n",
    "    def respond_to_query(self, query: str) -> str:\n",
    "        return f\"answer: {self.nested(query)}\"\n",
    "\n",
    "    @instrument(attributes={\"nested_attr1\": \"value1\"})\n",
    "    def nested(self, query: str) -> str:\n",
    "        return f\"nested: {self.nested2(query)}\"\n",
    "\n",
    "    @instrument(\n",
    "        attributes=lambda ret, exception, *args, **kwargs: {\n",
    "            \"nested2_ret\": ret,\n",
    "            \"nested2_args[1]\": args[1],\n",
    "        }\n",
    "    )\n",
    "    def nested2(self, query: str) -> str:\n",
    "        nested_result = \"\"\n",
    "\n",
    "        try:\n",
    "            nested_result = self.nested3(query)\n",
    "        except Exception:\n",
    "            pass\n",
    "\n",
    "        return f\"nested2: {nested_result}\"\n",
    "\n",
    "    @instrument(\n",
    "        attributes=lambda ret, exception, *args, **kwargs: {\n",
    "            \"nested3_ex\": exception.args if exception else None,\n",
    "            \"nested3_ret\": ret,\n",
    "            \"selector_name\": \"special\",\n",
    "            \"cows\": \"moo\",\n",
    "        }\n",
    "    )\n",
    "    def nested3(self, query: str) -> str:\n",
    "        if query == \"throw\":\n",
    "            raise ValueError(\"nested3 exception\")\n",
    "        return \"nested3\""
   ]
  },
  {
   "cell_type": "code",
   "execution_count": null,
   "metadata": {},
   "outputs": [],
   "source": [
    "# Create TruLens instrumented app from custom app.\n",
    "\n",
    "\n",
    "from trulens.apps.app import TruApp\n",
    "\n",
    "APP_NAME = f\"{os.getlogin()}_test_app\"\n",
    "APP_VERSION = \"v1\"\n",
    "\n",
    "test_app = TestApp()\n",
    "tru_app = TruApp(\n",
    "    test_app,\n",
    "    app_name=APP_NAME,\n",
    "    app_version=APP_VERSION,\n",
    "    connector=sf_connector,\n",
    "    main_method=test_app.respond_to_query,\n",
    ")"
   ]
  },
  {
   "cell_type": "code",
   "execution_count": null,
   "metadata": {},
   "outputs": [],
   "source": [
    "print(tru_app.snowflake_object_type)  # EXTERNAL AGENT\n",
    "print(tru_app.snowflake_object_name)  # APP_NAME\n",
    "print(tru_app.snowflake_object_version)  # APP_VERSION\n",
    "\n",
    "version_df = tru_app.snowflake_app_dao.list_agent_versions(APP_NAME)\n",
    "print(version_df)"
   ]
  },
  {
   "cell_type": "markdown",
   "metadata": {},
   "source": [
    "## Add runs to agent"
   ]
  },
  {
   "cell_type": "code",
   "execution_count": null,
   "metadata": {},
   "outputs": [],
   "source": [
    "from trulens.core.run import Run\n",
    "from trulens.core.run import RunConfig\n",
    "\n",
    "run_config = RunConfig(\n",
    "    run_name=\"test_run_1\",\n",
    "    description=\"desc\",\n",
    "    dataset_name=\"TEST_TABLE\",  # needs to be valid table name in SNOWFLAKE_SCHEMA at the moment\n",
    "    label=\"label\",\n",
    "    dataset_col_spec={\n",
    "        \"input\": \"custom_input\",\n",
    "    },\n",
    ")  # type: ignore\n",
    "\n",
    "run: Run = tru_app.add_run(run_config=run_config)"
   ]
  },
  {
   "cell_type": "code",
   "execution_count": null,
   "metadata": {},
   "outputs": [],
   "source": [
    "# should only work after the bug on \"EXTERNAL_AGENT\" vs \"EXTERNAL AGENT\" on Run DPO side is fixed\n",
    "# run.describe()"
   ]
  },
  {
   "cell_type": "code",
   "execution_count": null,
   "metadata": {},
   "outputs": [],
   "source": [
    "tru_app.list_runs()"
   ]
  },
  {
   "cell_type": "code",
   "execution_count": null,
   "metadata": {},
   "outputs": [],
   "source": [
    "# Run app directly (a few separate ways).\n",
    "\n",
    "tru_app.instrumented_invoke_main_method(\n",
    "    run_name=\"test_run\",\n",
    "    input_id=\"456\",\n",
    "    main_method_args=(\"test\",),\n",
    ")\n",
    "\n",
    "with tru_app.run(\"test run 2\"):\n",
    "    with tru_app.input(\"789\"):\n",
    "        test_app.respond_to_query(\"789\")\n",
    "\n",
    "with tru_app:\n",
    "    test_app.respond_to_query(\"throw\")\n",
    "\n",
    "# Without flushing, the spans are not guaranteed to be sent.\n",
    "tru_session.force_flush()"
   ]
  },
  {
   "cell_type": "markdown",
   "metadata": {},
   "source": [
    "### Start the Run (a pandas DataFrame or rows in user's table.) to invoke user's app directly and start ingestion"
   ]
  },
  {
   "cell_type": "code",
   "execution_count": null,
   "metadata": {},
   "outputs": [],
   "source": [
    "import pandas as pd\n",
    "\n",
    "user_input_data_df = pd.DataFrame({\n",
    "    \"custom_input\": [\"a\", \"b\"],\n",
    "})\n",
    "\n",
    "run.start()"
   ]
  },
  {
   "cell_type": "code",
   "execution_count": null,
   "metadata": {},
   "outputs": [],
   "source": [
    "# from trulens.core.app import App\n",
    "\n",
    "\n",
    "# def run_on_df(\n",
    "#     tru_app: App,\n",
    "#     run_name: str,\n",
    "#     inputs: pd.DataFrame,\n",
    "#     input_id_column: str,\n",
    "#     input_column: str,\n",
    "# ):\n",
    "#     with tru_app.run(run_name):\n",
    "#         for _, row in inputs.iterrows():\n",
    "#             with tru_app.input(row[input_id_column]):\n",
    "#                 main_method = getattr(test_app, tru_app.main_method_name)\n",
    "#                 main_method(row[input_column])\n",
    "#     tru_app.session.force_flush()\n",
    "\n",
    "\n",
    "# run_on_df(\n",
    "#     tru_app,\n",
    "#     \"df_run\",\n",
    "#     pd.DataFrame({\"input_id\": [1, 2], \"input\": [\"a\", \"b\"]}),\n",
    "#     \"input_id\",\n",
    "#     \"input\",\n",
    "# )"
   ]
  },
  {
   "cell_type": "code",
   "execution_count": null,
   "metadata": {},
   "outputs": [],
   "source": [
    "# Read the event table.\n",
    "\n",
    "import time\n",
    "\n",
    "\n",
    "def wait_for_nonzero_results(\n",
    "    num_retries: int = 20, retry_cooldown_in_seconds: int = 5\n",
    "):\n",
    "    q = \"\"\"\n",
    "        SELECT\n",
    "            *\n",
    "        FROM\n",
    "            table(snowflake.local.GET_AI_OBSERVABILITY_EVENTS(\n",
    "                ?,\n",
    "                ?,\n",
    "                ?,\n",
    "                'EXTERNAL AGENT'\n",
    "            ))\n",
    "        \"\"\"\n",
    "    for _ in range(num_retries):\n",
    "        ret = snowpark_session.sql(\n",
    "            q,\n",
    "            params=[\n",
    "                snowpark_session.get_current_database()[1:-1],\n",
    "                snowpark_session.get_current_schema()[1:-1],\n",
    "                APP_NAME,\n",
    "            ],\n",
    "        ).to_pandas()\n",
    "        if len(ret) > 0:\n",
    "            return ret\n",
    "        time.sleep(retry_cooldown_in_seconds)\n",
    "    raise ValueError(\"No results found!\")\n",
    "\n",
    "\n",
    "res = wait_for_nonzero_results()\n",
    "res"
   ]
  },
  {
   "cell_type": "code",
   "execution_count": null,
   "metadata": {},
   "outputs": [],
   "source": [
    "res.iloc[5][\"RECORD\"]"
   ]
  }
 ],
 "metadata": {
  "kernelspec": {
   "display_name": "trulens",
   "language": "python",
   "name": "python3"
  },
  "language_info": {
   "codemirror_mode": {
    "name": "ipython",
    "version": 3
   },
   "file_extension": ".py",
   "mimetype": "text/x-python",
   "name": "python",
   "nbconvert_exporter": "python",
   "pygments_lexer": "ipython3"
  }
 },
 "nbformat": 4,
 "nbformat_minor": 2
}
