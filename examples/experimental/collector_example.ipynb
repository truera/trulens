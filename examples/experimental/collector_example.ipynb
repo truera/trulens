{
 "cells": [
  {
   "cell_type": "code",
   "execution_count": null,
   "metadata": {},
   "outputs": [],
   "source": [
    "! pip install opentelemetry-exporter-otlp\n",
    "! pip install \"fastapi[standard]\""
   ]
  },
  {
   "cell_type": "markdown",
   "metadata": {},
   "source": [
    "# TruLens OTLP Collector Usage"
   ]
  },
  {
   "cell_type": "code",
   "execution_count": null,
   "metadata": {},
   "outputs": [],
   "source": [
    "import json\n",
    "\n",
    "from opentelemetry import trace\n",
    "from opentelemetry.exporter.otlp.proto.http.trace_exporter import (\n",
    "    OTLPSpanExporter,\n",
    ")\n",
    "from opentelemetry.propagate import inject\n",
    "from opentelemetry.sdk.trace import TracerProvider\n",
    "from opentelemetry.sdk.trace.export import BatchSpanProcessor\n",
    "import requests\n",
    "from trulens.experimental.otel_tracing.core.otel import Collector\n",
    "\n",
    "tracer = trace.get_tracer(__name__)\n",
    "\n",
    "tracer_provider = TracerProvider()\n",
    "trace.set_tracer_provider(tracer_provider)\n",
    "span_processor = BatchSpanProcessor(\n",
    "    OTLPSpanExporter(endpoint=\"http://localhost:5000\")\n",
    ")\n",
    "tracer_provider.add_span_processor(span_processor)\n",
    "\n",
    "with tracer.start_as_current_span(\"request\") as span:\n",
    "    headers = {}\n",
    "    inject(headers)\n",
    "\n",
    "print(headers)\n",
    "\n",
    "c = Collector()\n",
    "c.start()"
   ]
  },
  {
   "cell_type": "code",
   "execution_count": null,
   "metadata": {},
   "outputs": [],
   "source": [
    "res = requests.post(\"http://localhost:5000/\", json=json.dumps({\"key\": \"value\"}))\n",
    "res.content"
   ]
  },
  {
   "cell_type": "code",
   "execution_count": null,
   "metadata": {},
   "outputs": [],
   "source": [
    "from opentelemetry.exporter import otlp"
   ]
  },
  {
   "cell_type": "code",
   "execution_count": null,
   "metadata": {},
   "outputs": [],
   "source": [
    "dir(otlp.proto.grpc)"
   ]
  }
 ],
 "metadata": {
  "kernelspec": {
   "display_name": "trulens-9bG3yHQd-py3.11",
   "language": "python",
   "name": "python3"
  },
  "language_info": {
   "codemirror_mode": {
    "name": "ipython",
    "version": 3
   },
   "file_extension": ".py",
   "mimetype": "text/x-python",
   "name": "python",
   "nbconvert_exporter": "python",
   "pygments_lexer": "ipython3"
  }
 },
 "nbformat": 4,
 "nbformat_minor": 2
}
