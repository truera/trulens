{
 "cells": [
  {
   "cell_type": "markdown",
   "metadata": {},
   "source": [
    "# Dummy Provider Example and High Volume Robustness Testing\n",
    "\n",
    "This notebook has two purposes: \n",
    "\n",
    "- Demonstrate the dummy feedback function provider which behaves like the\n",
    "  huggingface provider except it does not actually perform any network calls and\n",
    "  just produces constant results. It can be used to prototype feedback function\n",
    "  wiring for your apps before invoking potentially slow (to run/to load)\n",
    "  feedback functions.\n",
    "\n",
    "- Test out high-volume record and feedback computation. To this end, we use the\n",
    "  custom app which is dummy in a sense that it produces useless answers without\n",
    "  making any API calls but otherwise behaves similarly to real apps, and the\n",
    "  dummy feedback function provider."
   ]
  },
  {
   "cell_type": "code",
   "execution_count": null,
   "metadata": {},
   "outputs": [],
   "source": [
    "import asyncio\n",
    "import concurrent\n",
    "from pathlib import Path\n",
    "import sys\n",
    "\n",
    "from tqdm.auto import tqdm\n",
    "\n",
    "# Add base dir to path to be able to access test folder.\n",
    "base_dir = Path().cwd().parent.parent.resolve()\n",
    "if str(base_dir) not in sys.path:\n",
    "    print(f\"Adding {base_dir} to sys.path\")\n",
    "    sys.path.append(str(base_dir))"
   ]
  },
  {
   "cell_type": "code",
   "execution_count": null,
   "metadata": {},
   "outputs": [],
   "source": [
    "from trulens.core import TruSession\n",
    "\n",
    "TruSession().reset_database()"
   ]
  },
  {
   "cell_type": "code",
   "execution_count": null,
   "metadata": {},
   "outputs": [],
   "source": [
    "from trulens.core import Feedback\n",
    "from trulens.core import TruSession\n",
    "from trulens.core.utils.threading import TP\n",
    "from trulens.dashboard.run import run_dashboard\n",
    "from trulens.feedback.dummy.provider import DummyProvider as DummyLLM\n",
    "from trulens.providers.huggingface.provider import Dummy as DummyHugs\n",
    "\n",
    "from examples.dev.dummy_app.app import DummyApp\n",
    "\n",
    "tp = TP()\n",
    "\n",
    "provider_hugs = DummyHugs(\n",
    "    loading_prob=0.0,\n",
    "    freeze_prob=0.0,  # we expect requests to have their own timeouts so freeze should never happen\n",
    "    error_prob=0.0,\n",
    "    overloaded_prob=0.0,\n",
    "    rpm=10000,\n",
    "    alloc=0,  # how much fake data to allocate during requests\n",
    "    delay=0.5,\n",
    ")\n",
    "\n",
    "provider_llm = DummyLLM(\n",
    "    loading_prob=0.0,\n",
    "    freeze_prob=0.0,  # we expect requests to have their own timeouts so freeze should never happen\n",
    "    error_prob=0.0,\n",
    "    overloaded_prob=0.0,\n",
    "    rpm=10000,\n",
    "    alloc=0,  # how much fake data to allocate during requests\n",
    "    delay=0.5,\n",
    ")\n",
    "\n",
    "session = TruSession()\n",
    "\n",
    "session.reset_database()\n",
    "\n",
    "run_dashboard(session, force=True, _dev=base_dir)"
   ]
  },
  {
   "cell_type": "code",
   "execution_count": null,
   "metadata": {},
   "outputs": [],
   "source": [
    "f_dummy1 = Feedback(provider_hugs.language_match).on_input_output()\n",
    "\n",
    "f_dummy2 = Feedback(provider_hugs.positive_sentiment).on_output()\n",
    "\n",
    "f_dummy3 = Feedback(provider_llm.sentiment).on_input()"
   ]
  },
  {
   "cell_type": "markdown",
   "metadata": {},
   "source": [
    "# Simple Invocation"
   ]
  },
  {
   "cell_type": "code",
   "execution_count": null,
   "metadata": {},
   "outputs": [],
   "source": [
    "# Create custom app:\n",
    "ca = DummyApp(delay=0.0, alloc=0)\n",
    "\n",
    "# Create trulens wrapper:\n",
    "ta = session.App(\n",
    "    ca,\n",
    "    app_name=\"DummyApp\",\n",
    "    app_version=\"simple invoke\",\n",
    "    feedbacks=[f_dummy1, f_dummy2, f_dummy3],\n",
    ")\n",
    "\n",
    "with ta as recorder:\n",
    "    res = ca.respond_to_query(\"hello there\")\n",
    "    print(res)\n",
    "\n",
    "for result in recorder.get().feedback_results_as_completed:\n",
    "    print(result)"
   ]
  },
  {
   "cell_type": "markdown",
   "metadata": {},
   "source": [
    "# Sequential App Invocation"
   ]
  },
  {
   "cell_type": "code",
   "execution_count": null,
   "metadata": {},
   "outputs": [],
   "source": [
    "ca = DummyApp(delay=0.0, alloc=0, use_parallel=True)\n",
    "\n",
    "ta = session.App(\n",
    "    ca,\n",
    "    app_name=\"DummyApp\",\n",
    "    app_version=\"sequential invoke\",\n",
    ")\n",
    "\n",
    "for i in tqdm(range(10), desc=\"invoking app\"):\n",
    "    with ta as recorder:\n",
    "        ca.respond_to_query(f\"hello {i}\")\n",
    "\n",
    "    rec = recorder.get()\n",
    "    assert rec is not None"
   ]
  },
  {
   "cell_type": "markdown",
   "metadata": {},
   "source": [
    "# Parallel Feedback Evaluation"
   ]
  },
  {
   "cell_type": "code",
   "execution_count": null,
   "metadata": {},
   "outputs": [],
   "source": [
    "futures = []\n",
    "num_tests = 100\n",
    "good = 0\n",
    "bad = 0\n",
    "\n",
    "\n",
    "def test_feedback(msg):\n",
    "    return msg, provider_hugs.positive_sentiment(msg)\n",
    "\n",
    "\n",
    "for i in tqdm(range(num_tests), desc=\"starting feedback task\"):\n",
    "    futures.append(tp.submit(test_feedback, msg=\"good\"))\n",
    "\n",
    "prog = tqdm(concurrent.futures.as_completed(futures), total=num_tests)\n",
    "\n",
    "for f in prog:\n",
    "    try:\n",
    "        res = f.result()\n",
    "        good += 1\n",
    "\n",
    "        assert res[0] == \"good\"\n",
    "\n",
    "        prog.set_description_str(f\"{good} / {bad}\")\n",
    "    except Exception:\n",
    "        bad += 1\n",
    "        prog.set_description_str(f\"{good} / {bad}\")"
   ]
  },
  {
   "cell_type": "markdown",
   "metadata": {},
   "source": [
    "# Parallel Feedback Evaluation with Deferred Mode"
   ]
  },
  {
   "cell_type": "code",
   "execution_count": null,
   "metadata": {},
   "outputs": [],
   "source": [
    "session.start_evaluator(restart=True)"
   ]
  },
  {
   "cell_type": "code",
   "execution_count": null,
   "metadata": {},
   "outputs": [],
   "source": [
    "ca = DummyApp(delay=0.0, alloc=0, use_parallel=True)\n",
    "\n",
    "ta = session.App(\n",
    "    ca,\n",
    "    app_name=\"DummyApp\",\n",
    "    app_version=\"sequential invoke with deferred feedback\",\n",
    "    feedbacks=[f_dummy1, f_dummy2],\n",
    "    feedback_mode=\"deferred\",\n",
    ")\n",
    "\n",
    "for i in tqdm(range(100), desc=\"invoking app\"):\n",
    "    with ta as recorder:\n",
    "        ca.respond_to_query(f\"hello {i}\")\n",
    "\n",
    "    rec = recorder.get()\n",
    "    assert rec is not None"
   ]
  },
  {
   "cell_type": "markdown",
   "metadata": {},
   "source": [
    "# Parallel App Invocation using Threads"
   ]
  },
  {
   "cell_type": "code",
   "execution_count": null,
   "metadata": {},
   "outputs": [],
   "source": [
    "from threading import Thread  # must be imported after trulens\n",
    "\n",
    "# Create custom app:\n",
    "ca = DummyApp(delay=0.0, alloc=0, use_parallel=True)\n",
    "\n",
    "# Create trulens wrapper:\n",
    "ta = session.App(\n",
    "    ca,\n",
    "    app_name=\"DummyApp\",\n",
    "    app_version=\"threaded parallel invoke\",\n",
    "    feedbacks=[f_dummy1, f_dummy2],\n",
    ")\n",
    "\n",
    "\n",
    "def run_query(q):\n",
    "    with ta as recorder:\n",
    "        ca.respond_to_query(q)\n",
    "\n",
    "    rec = recorder.get()\n",
    "    assert rec is not None\n",
    "\n",
    "    results = list(rec.feedback_results)\n",
    "\n",
    "    ret = f\"run_query {q}, has {len(results)} feedbacks\"\n",
    "    print(ret)\n",
    "\n",
    "    return ret\n",
    "\n",
    "\n",
    "threads = []\n",
    "\n",
    "for i in tqdm(range(10), desc=\"starting app task\"):\n",
    "    t = Thread(target=run_query, args=(f\"hello {i}\",))\n",
    "    t.start()\n",
    "    threads.append(t)\n",
    "\n",
    "for t in tqdm(threads, desc=\"waiting for recording threads to finish\"):\n",
    "    t.join()\n",
    "\n",
    "for record in tqdm(\n",
    "    ta.wait_for_feedback_results(), desc=\"waiting for feedbacks to finish\"\n",
    "):\n",
    "    print(\n",
    "        f\"record {record.record_id} has {len(record.feedback_results)} feedbacks\"\n",
    "    )"
   ]
  },
  {
   "cell_type": "markdown",
   "metadata": {},
   "source": [
    "# Parallel App Invocation using Tasks"
   ]
  },
  {
   "cell_type": "code",
   "execution_count": null,
   "metadata": {},
   "outputs": [],
   "source": [
    "# Create custom app:\n",
    "ca = DummyApp(\n",
    "    delay=1.0,\n",
    "    alloc=0,\n",
    "    use_parallel=True,  # need to enable this for DummyApp to use tasks internally\n",
    ")\n",
    "\n",
    "# Create trulens wrapper:\n",
    "ta = session.App(\n",
    "    ca,\n",
    "    app_name=\"customapp\",\n",
    "    app_version=\"async parallel invoke\",\n",
    "    feedbacks=[f_dummy1, f_dummy2],\n",
    ")\n",
    "\n",
    "\n",
    "async def arun_query(q):\n",
    "    print(f\"starting {q}\")\n",
    "    async with ta as recorder:\n",
    "        await ca.arespond_to_query(q)\n",
    "\n",
    "    rec = recorder.get()\n",
    "    assert rec is not None\n",
    "\n",
    "    ret = f\"run_query {q}, has {len(rec.feedback_results)} feedbacks\"\n",
    "    print(ret)\n",
    "\n",
    "    return ret\n",
    "\n",
    "\n",
    "loop = asyncio.get_event_loop()\n",
    "tasks = []\n",
    "\n",
    "for i in tqdm(range(10), desc=\"starting app task\"):\n",
    "    t = loop.create_task(arun_query(f\"hello {i}\"))\n",
    "    tasks.append(t)\n",
    "\n",
    "for t in tqdm(\n",
    "    asyncio.as_completed(tasks), desc=\"awaiting task\", total=len(tasks)\n",
    "):  # have to use sync loop if python < 3.13\n",
    "    await t\n",
    "\n",
    "for record in tqdm(\n",
    "    ta.wait_for_feedback_results(), desc=\"waiting for feedbacks to finish\"\n",
    "):\n",
    "    print(\n",
    "        f\"record {record.record_id} has {len(record.feedback_results)} feedbacks\"\n",
    "    )"
   ]
  }
 ],
 "metadata": {
  "kernelspec": {
   "display_name": "trulens-9bG3yHQd-py3.9",
   "language": "python",
   "name": "python3"
  },
  "language_info": {
   "codemirror_mode": {
    "name": "ipython",
    "version": 3
   },
   "file_extension": ".py",
   "mimetype": "text/x-python",
   "name": "python",
   "nbconvert_exporter": "python",
   "pygments_lexer": "ipython3"
  }
 },
 "nbformat": 4,
 "nbformat_minor": 2
}
