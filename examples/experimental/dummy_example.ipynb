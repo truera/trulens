{
 "cells": [
  {
   "cell_type": "markdown",
   "metadata": {},
   "source": [
    "# Dummy Provider Example and High Volume Robustness Testing\n",
    "\n",
    "This notebook has two purposes: \n",
    "\n",
    "- Demonstrate the dummy feedback function provider which behaves like the\n",
    "  huggingface provider except it does not actually perform any network calls and\n",
    "  just produces constant results. It can be used to prototype feedback function\n",
    "  wiring for your apps before invoking potentially slow (to run/to load)\n",
    "  feedback functions.\n",
    "\n",
    "- Test out high-volume record and feedback computation. To this end, we use the\n",
    "  custom app which is dummy in a sense that it produces useless answers without\n",
    "  making any API calls but otherwise behaves similarly to real apps, and the\n",
    "  dummy feedback function provider."
   ]
  },
  {
   "cell_type": "code",
   "execution_count": null,
   "metadata": {},
   "outputs": [],
   "source": [
    "%load_ext autoreload\n",
    "%autoreload 2\n",
    "from pathlib import Path\n",
    "import sys\n",
    "\n",
    "# If running from github repo, can use this:\n",
    "sys.path.append(str(Path().cwd().parent.parent.resolve()))"
   ]
  },
  {
   "cell_type": "code",
   "execution_count": null,
   "metadata": {},
   "outputs": [],
   "source": [
    "from concurrent.futures import as_completed\n",
    "\n",
    "from tqdm.auto import tqdm\n",
    "from trulens.core import Feedback\n",
    "from trulens.core import Tru\n",
    "from trulens.core import TruCustomApp\n",
    "from trulens.core.utils.threading import TP\n",
    "from trulens.dashboard import run_dashboard\n",
    "from trulens.providers.huggingface.provider import Dummy\n",
    "\n",
    "from examples.dev.dummy_app.app import DummyApp\n",
    "\n",
    "tp = TP()\n",
    "\n",
    "d_error = Dummy(\n",
    "    loading_prob=0.0,\n",
    "    freeze_prob=0.0,  # we expect requests to have their own timeouts so freeze should never happen\n",
    "    error_prob=1.0,\n",
    "    overloaded_prob=0.0,\n",
    "    rpm=1000,\n",
    "    alloc=0,  # how much fake data to allocate during requests\n",
    "    delay=10.0,\n",
    ")\n",
    "\n",
    "d_noerror = Dummy(\n",
    "    loading_prob=0.0,\n",
    "    freeze_prob=0.0,  # we expect requests to have their own timeouts so freeze should never happen\n",
    "    error_prob=0.0,\n",
    "    overloaded_prob=0.0,\n",
    "    rpm=1000,\n",
    "    alloc=0,  # how much fake data to allocate during requests\n",
    "    delay=10.0,\n",
    ")\n",
    "\n",
    "tru = Tru()\n",
    "\n",
    "# tru.reset_database()\n",
    "\n",
    "run_dashboard(tru, force=True, _dev=Path().cwd().parent.parent.resolve())"
   ]
  },
  {
   "cell_type": "code",
   "execution_count": null,
   "metadata": {},
   "outputs": [],
   "source": [
    "tru.get_records_and_feedback(limit=10)[0]"
   ]
  },
  {
   "cell_type": "code",
   "execution_count": null,
   "metadata": {},
   "outputs": [],
   "source": [
    "f_dummy1 = Feedback(d_error.language_match).on_input_output()\n",
    "\n",
    "f_dummy2 = Feedback(\n",
    "    d_noerror.positive_sentiment, name=\"output sentiment\"\n",
    ").on_output()\n",
    "\n",
    "# Create custom app:\n",
    "ca = DummyApp(delay=0.0, alloc=0)\n",
    "\n",
    "# Create trulens wrapper:\n",
    "ta = TruCustomApp(\n",
    "    ca,\n",
    "    app_id=\"customapp\",\n",
    "    feedbacks=[f_dummy1, f_dummy2],\n",
    "    #    feedback_mode=FeedbackMode.DEFERRED\n",
    ")"
   ]
  },
  {
   "cell_type": "code",
   "execution_count": null,
   "metadata": {},
   "outputs": [],
   "source": [
    "with ta as recorder:\n",
    "    res = ca.respond_to_query(\"hello there\")\n",
    "res"
   ]
  },
  {
   "cell_type": "code",
   "execution_count": null,
   "metadata": {},
   "outputs": [],
   "source": [
    "ta.wait_for_feedback_results(feedback_timeout=5)"
   ]
  },
  {
   "cell_type": "code",
   "execution_count": null,
   "metadata": {},
   "outputs": [],
   "source": [
    "# Sequential app invocation.\n",
    "\n",
    "if True:\n",
    "    for i in tqdm(range(2), desc=\"invoking app\"):\n",
    "        with ta as recorder:\n",
    "            ca.respond_to_query(f\"hello {i}\")\n",
    "\n",
    "        rec = recorder.get()\n",
    "        assert rec is not None"
   ]
  },
  {
   "cell_type": "code",
   "execution_count": null,
   "metadata": {},
   "outputs": [],
   "source": [
    "# ta.wait_for_feedback_results()"
   ]
  },
  {
   "cell_type": "code",
   "execution_count": null,
   "metadata": {},
   "outputs": [],
   "source": [
    "# Control retries in deferred evaluator.\n",
    "# tru.RETRY_FAILED_SECONDS = 60\n",
    "# tru.RETRY_RUNNING_SECONDS = 5\n",
    "tru.start_evaluator(restart=True)"
   ]
  },
  {
   "cell_type": "code",
   "execution_count": null,
   "metadata": {},
   "outputs": [],
   "source": [
    "# Parallel feedback evaluation.\n",
    "\n",
    "futures = []\n",
    "num_tests = 10000\n",
    "good = 0\n",
    "bad = 0\n",
    "\n",
    "\n",
    "def test_feedback(msg):\n",
    "    return msg, d_error.positive_sentiment(msg)\n",
    "\n",
    "\n",
    "for i in tqdm(range(num_tests), desc=\"starting feedback task\"):\n",
    "    futures.append(tp.submit(test_feedback, msg=\"good\"))\n",
    "\n",
    "prog = tqdm(as_completed(futures), total=num_tests)\n",
    "\n",
    "for f in prog:\n",
    "    try:\n",
    "        res = f.result()\n",
    "        good += 1\n",
    "\n",
    "        assert res[0] == \"good\"\n",
    "\n",
    "        prog.set_description_str(f\"{good} / {bad}\")\n",
    "    except Exception:\n",
    "        bad += 1\n",
    "        prog.set_description_str(f\"{good} / {bad}\")"
   ]
  },
  {
   "cell_type": "code",
   "execution_count": null,
   "metadata": {},
   "outputs": [],
   "source": [
    "# Parallel app invocation.\n",
    "\n",
    "\n",
    "def run_query(q):\n",
    "    with ta as recorder:\n",
    "        ca.respond_to_query(q)\n",
    "\n",
    "    rec = recorder.get()\n",
    "    assert rec is not None\n",
    "\n",
    "    return f\"run_query {q} result\"\n",
    "\n",
    "\n",
    "for i in tqdm(range(100), desc=\"starting app task\"):\n",
    "    print(tp.completed_tasks, end=\"\\r\")\n",
    "    tp.submit(run_query, q=f\"hello {i}\")"
   ]
  }
 ],
 "metadata": {
  "kernelspec": {
   "display_name": "py38_trulens",
   "language": "python",
   "name": "python3"
  },
  "language_info": {
   "codemirror_mode": {
    "name": "ipython",
    "version": 3
   },
   "file_extension": ".py",
   "mimetype": "text/x-python",
   "name": "python",
   "nbconvert_exporter": "python",
   "pygments_lexer": "ipython3"
  }
 },
 "nbformat": 4,
 "nbformat_minor": 2
}
