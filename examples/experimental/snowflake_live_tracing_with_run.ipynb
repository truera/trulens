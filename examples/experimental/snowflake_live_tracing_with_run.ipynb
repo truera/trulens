{
 "cells": [
  {
   "cell_type": "code",
   "execution_count": null,
   "metadata": {},
   "outputs": [],
   "source": [
    "# !pip install trulens trulens-providers-openai chromadb openai"
   ]
  },
  {
   "cell_type": "code",
   "execution_count": null,
   "metadata": {},
   "outputs": [],
   "source": [
    "# Ensure we use OTEL tracing.\n",
    "\n",
    "import os\n",
    "\n",
    "os.environ[\"TRULENS_OTEL_TRACING\"] = \"1\""
   ]
  },
  {
   "cell_type": "code",
   "execution_count": null,
   "metadata": {},
   "outputs": [],
   "source": [
    "# Set up python resolution paths.\n",
    "\n",
    "from pathlib import Path\n",
    "import sys\n",
    "\n",
    "# Add base dir to path to be able to access test folder.\n",
    "base_dir = Path().cwd().parent.parent.resolve()\n",
    "if str(base_dir) not in sys.path:\n",
    "    print(f\"Adding {base_dir} to sys.path\")\n",
    "    sys.path.append(str(base_dir))"
   ]
  },
  {
   "cell_type": "code",
   "execution_count": null,
   "metadata": {},
   "outputs": [],
   "source": [
    "# Set up logging.\n",
    "\n",
    "import logging\n",
    "\n",
    "root = logging.getLogger()\n",
    "root.setLevel(logging.DEBUG)\n",
    "handler = logging.StreamHandler(sys.stdout)\n",
    "handler.setLevel(logging.DEBUG)\n",
    "formatter = logging.Formatter(\n",
    "    \"%(asctime)s - %(name)s - %(levelname)s - %(message)s\"\n",
    ")\n",
    "handler.addFilter(logging.Filter(\"trulens\"))\n",
    "handler.setFormatter(formatter)\n",
    "root.addHandler(handler)"
   ]
  },
  {
   "cell_type": "code",
   "execution_count": null,
   "metadata": {},
   "outputs": [],
   "source": [
    "# os.environ[\"SNOWFLAKE_ACCOUNT\"] = \"...\"\n",
    "# os.environ[\"SNOWFLAKE_USER\"] = \"...\"\n",
    "# os.environ[\"SNOWFLAKE_USER_PASSWORD\"] = \"...\"\n",
    "# os.environ[\"SNOWFLAKE_DATABASE\"] = \"...\"\n",
    "# os.environ[\"SNOWFLAKE_SCHEMA\"] = \"...\"\n",
    "# os.environ[\"SNOWFLAKE_WAREHOUSE\"] = \"...\"\n",
    "# os.environ[\"SNOWFLAKE_ROLE\"] = \"...\""
   ]
  },
  {
   "cell_type": "code",
   "execution_count": null,
   "metadata": {},
   "outputs": [],
   "source": [
    "# Create snowpark session.\n",
    "import os\n",
    "\n",
    "from snowflake.snowpark import Session\n",
    "from trulens.connectors.snowflake import SnowflakeConnector\n",
    "\n",
    "snowflake_connection_parameters = {\n",
    "    \"account\": os.environ[\"SNOWFLAKE_ACCOUNT\"],\n",
    "    \"user\": os.environ[\"SNOWFLAKE_USER\"],\n",
    "    \"password\": os.environ[\"SNOWFLAKE_USER_PASSWORD\"],\n",
    "    \"database\": os.environ[\"SNOWFLAKE_DATABASE\"],\n",
    "    \"schema\": os.environ[\"SNOWFLAKE_SCHEMA\"],\n",
    "    \"role\": os.environ[\"SNOWFLAKE_ROLE\"],\n",
    "    \"warehouse\": os.environ[\"SNOWFLAKE_WAREHOUSE\"],\n",
    "}\n",
    "snowpark_session = Session.builder.configs(\n",
    "    snowflake_connection_parameters\n",
    ").create()\n",
    "\n",
    "# TruSession is no longer required as long as snowflake connector exists\n",
    "sf_connector = SnowflakeConnector(snowpark_session=snowpark_session)"
   ]
  },
  {
   "cell_type": "code",
   "execution_count": null,
   "metadata": {},
   "outputs": [],
   "source": [
    "# Define app.\n",
    "from trulens.core.otel.instrument import instrument\n",
    "from trulens.otel.semconv.trace import SpanAttributes\n",
    "\n",
    "\n",
    "class TestApp:\n",
    "    def query(self, input_entry) -> str:\n",
    "        query = input_entry[\"query\"] if \"query\" in input_entry else input_entry\n",
    "        retrieved_contexts = self.get_contexts(query)\n",
    "        return self.generation(query, retrieved_contexts)\n",
    "\n",
    "    @instrument(\n",
    "        span_type=SpanAttributes.SpanType.RETRIEVAL,\n",
    "        attributes={\n",
    "            SpanAttributes.RETRIEVAL.QUERY_TEXT: \"query\",\n",
    "            SpanAttributes.RETRIEVAL.RETRIEVED_CONTEXTS: \"return\",\n",
    "        },\n",
    "    )\n",
    "    def get_contexts(self, query: str) -> list[str]:\n",
    "        # Flatten the list of lists into a single list\n",
    "        return [\"a\", \"b\", \"c\", \"d\"]\n",
    "\n",
    "    @instrument(\n",
    "        span_type=SpanAttributes.SpanType.GENERATION,\n",
    "    )\n",
    "    def generation(self, query: str, contexts: list[str]) -> str:\n",
    "        if len(contexts) == 0:\n",
    "            return \"Sorry, I couldn't find an answer to your question.\"\n",
    "        completion = \"This is a test completion.\"\n",
    "        if completion:\n",
    "            return completion\n",
    "        else:\n",
    "            return \"Did not find an answer.\""
   ]
  },
  {
   "cell_type": "code",
   "execution_count": null,
   "metadata": {},
   "outputs": [],
   "source": [
    "# Create TruLens instrumented app from custom app.\n",
    "\n",
    "import os\n",
    "import uuid\n",
    "\n",
    "from trulens.apps.app import TruApp\n",
    "from trulens.core.app import trace_with_run\n",
    "\n",
    "APP_NAME = f\"{os.getlogin()} test live tracing run {uuid.uuid4()}\"\n",
    "APP_VERSION = \"V1\"\n",
    "\n",
    "# Conditional tracing setup - set to False to disable tracing\n",
    "\n",
    "test_app = TestApp()\n",
    "\n",
    "tru_app = TruApp(\n",
    "    test_app,\n",
    "    app_name=APP_NAME,\n",
    "    app_version=APP_VERSION,\n",
    "    connector=sf_connector,\n",
    "    main_method=test_app.query,\n",
    ")"
   ]
  },
  {
   "cell_type": "markdown",
   "metadata": {},
   "source": [
    "### Start the Run (a pandas DataFrame or rows in user's table.) to invoke user's app directly and start ingestion\n",
    "\n",
    "#### here we will be using a user provided test dataframe"
   ]
  },
  {
   "cell_type": "code",
   "execution_count": null,
   "metadata": {},
   "outputs": [],
   "source": [
    "test_queries = [\n",
    "    \"What is the capital city of New Zealand?\",\n",
    "    \"What is the largest institution of higher education in Washington state?\",\n",
    "    \"What wave of coffee culture is Starbucks seen to represent in the New Zealand?\",\n",
    "    \"What year was Washington State University founded?\",\n",
    "    \"Which university has a strong focus on veterinary medicine and agriculture?\",\n",
    "    \"Which landmark in Seattle was built for the 1962 World’s Fair?\",\n",
    "]"
   ]
  },
  {
   "cell_type": "code",
   "execution_count": null,
   "metadata": {},
   "outputs": [],
   "source": [
    "run_name = f\"test_live_tracing_run_{uuid.uuid4()}\"\n",
    "\n",
    "\n",
    "# The decorator works seamlessly whether tru_app is a TruApp instance or None\n",
    "# If app is None (tracing disabled), the decorator will pass through to the original function\n",
    "@trace_with_run(app=tru_app, run_name=run_name)\n",
    "def run_queries_with_test_app(test_data):\n",
    "    for query in test_data:\n",
    "        test_app.query(query)\n",
    "\n",
    "\n",
    "run_queries_with_test_app(test_queries)"
   ]
  },
  {
   "cell_type": "code",
   "execution_count": null,
   "metadata": {},
   "outputs": [],
   "source": [
    "run = tru_app.get_run(run_name=run_name)\n",
    "run.describe()"
   ]
  },
  {
   "cell_type": "markdown",
   "metadata": {},
   "source": [
    "#### We can also map arbitrary part of the input to the input attribute of the Record Root span, so that users can extract fields they want to be displayed as main input in the run view when using trace_with_run decorator. \n",
    "\n",
    "This is useful in the case where the app is passing in complex objects or dictionaries as inputs, while the users might be only interested in showing certain fields as main input in UI for readability. "
   ]
  },
  {
   "cell_type": "code",
   "execution_count": null,
   "metadata": {},
   "outputs": [],
   "source": [
    "run_name = f\"test_live_tracing_run_{uuid.uuid4()}\"\n",
    "\n",
    "test_input_set = [\n",
    "    {\n",
    "        \"user_id\": \"123\",\n",
    "        \"query\": \"What is the capital city of New Zealand?\",\n",
    "    },\n",
    "    {\n",
    "        \"user_id\": \"234\",\n",
    "        \"query\": \"What is the largest institution of higher education in Washington state?\",\n",
    "    },\n",
    "]\n",
    "\n",
    "\n",
    "# this will extract a dictionary of query as input to record root span\n",
    "def extract_query_key_as_input(args, kwargs):\n",
    "    \"\"\"Extract only query from input data\"\"\"\n",
    "    data = args[0]\n",
    "\n",
    "    if isinstance(data, list):\n",
    "        return [\n",
    "            {\n",
    "                \"query\": item.get(\"query\"),\n",
    "            }\n",
    "            for item in data\n",
    "            if isinstance(item, dict)\n",
    "        ]\n",
    "    elif isinstance(data, dict):\n",
    "        return {\n",
    "            \"query\": data.get(\"query\"),\n",
    "        }\n",
    "    else:\n",
    "        return str(data)\n",
    "\n",
    "\n",
    "@trace_with_run(\n",
    "    app=tru_app, run_name=run_name, input_selector=extract_query_key_as_input\n",
    ")\n",
    "def run_queries_with_test_app_using_input_selector(test_data):\n",
    "    for query_item in test_data:\n",
    "        test_app.query(query_item)  # Extract the actual query string"
   ]
  },
  {
   "cell_type": "code",
   "execution_count": null,
   "metadata": {},
   "outputs": [],
   "source": [
    "run_queries_with_test_app_using_input_selector(test_input_set)"
   ]
  }
 ],
 "metadata": {
  "kernelspec": {
   "display_name": "trulens",
   "language": "python",
   "name": "python3"
  },
  "language_info": {
   "codemirror_mode": {
    "name": "ipython",
    "version": 3
   },
   "file_extension": ".py",
   "mimetype": "text/x-python",
   "name": "python",
   "nbconvert_exporter": "python",
   "pygments_lexer": "ipython3"
  }
 },
 "nbformat": 4,
 "nbformat_minor": 2
}
