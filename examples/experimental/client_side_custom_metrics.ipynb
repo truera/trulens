{
 "cells": [
  {
   "cell_type": "markdown",
   "metadata": {},
   "source": [
    "# 📊 Client-Side Custom Metrics with TruLens\n",
    "\n",
    "This notebook demonstrates how to create and use client-side custom metrics with TruLens SDK and export computed metrics (eval spans) to Snowflake with batch evaluation runs. Client-side custom metrics allow you to define your own evaluation functions that run locally on the client instead of on the server (Snowflake).\n",
    "\n",
    "## Key Features\n",
    "\n",
    "- **Custom Metric**: We can implement a client side custom metric with arbitrary python code\n",
    "- **MetricConfig**: Explicit configuration for mapping metric parameters to span attributes\n",
    "- **Flexible Selectors**: Map metric parameters to span attributes using selectors\n",
    "- **Client-Side Computation**: Metrics are computed locally and results uploaded as OTel spans"
   ]
  },
  {
   "cell_type": "code",
   "execution_count": null,
   "metadata": {},
   "outputs": [],
   "source": [
    "import os\n",
    "\n",
    "from dotenv import load_dotenv\n",
    "from trulens.apps.app import TruApp\n",
    "from trulens.core.feedback.custom_metric import MetricConfig\n",
    "from trulens.core.feedback.selector import Selector\n",
    "from trulens.core.otel.instrument import instrument\n",
    "from trulens.core.run import RunConfig\n",
    "from trulens.otel.semconv.trace import SpanAttributes\n",
    "\n",
    "load_dotenv()\n",
    "\n",
    "\n",
    "class Text2SQLApp:\n",
    "    @instrument(\n",
    "        span_type=SpanAttributes.SpanType.RECORD_ROOT,\n",
    "        attributes={\n",
    "            SpanAttributes.RECORD_ROOT.INPUT: \"query\",\n",
    "            SpanAttributes.RECORD_ROOT.OUTPUT: \"return\",\n",
    "        },\n",
    "    )\n",
    "    def generate_sql(self, query: str) -> str:\n",
    "        \"\"\"Generate SQL from natural language query.\"\"\"\n",
    "        if \"users\" in query.lower():\n",
    "            return \"SELECT * FROM users\"\n",
    "        elif \"orders\" in query.lower():\n",
    "            return \"SELECT * FROM orders\"\n",
    "        else:\n",
    "            return \"SELECT 1\""
   ]
  },
  {
   "cell_type": "markdown",
   "metadata": {},
   "source": [
    "### Fill out Snowflake account credentails"
   ]
  },
  {
   "cell_type": "code",
   "execution_count": null,
   "metadata": {},
   "outputs": [],
   "source": [
    "os.environ[\"SNOWFLAKE_ACCOUNT\"] = \"...\"\n",
    "os.environ[\"SNOWFLAKE_USER\"] = \"...\"\n",
    "os.environ[\"SNOWFLAKE_USER_PASSWORD\"] = \"...\"\n",
    "os.environ[\"SNOWFLAKE_DATABASE\"] = \"...\"\n",
    "os.environ[\"SNOWFLAKE_SCHEMA\"] = \"...\"\n",
    "os.environ[\"SNOWFLAKE_WAREHOUSE\"] = \"...\"\n",
    "os.environ[\"SNOWFLAKE_ROLE\"] = \"...\""
   ]
  },
  {
   "cell_type": "markdown",
   "metadata": {},
   "source": [
    "## Define custom metrics with plain python functions"
   ]
  },
  {
   "cell_type": "code",
   "execution_count": null,
   "metadata": {},
   "outputs": [],
   "source": [
    "def text2sql_quality(query: str, sql: str) -> float:\n",
    "    \"\"\"\n",
    "    Custom metric to evaluate text-to-SQL quality.\n",
    "\n",
    "    Args:\n",
    "        query: The natural language query\n",
    "        sql: The generated SQL query\n",
    "\n",
    "    Returns:\n",
    "        Quality score between 0 and 1\n",
    "    \"\"\"\n",
    "    # Simple heuristic - check if SQL contains expected keywords\n",
    "    if \"SELECT\" in sql.upper() and len(query) > 10:\n",
    "        return 0.9\n",
    "    elif \"SELECT\" in sql.upper():\n",
    "        return 0.7\n",
    "    else:\n",
    "        return 0.3\n",
    "\n",
    "\n",
    "def custom_accuracy(query: str) -> float:\n",
    "    \"\"\"\n",
    "    Custom accuracy metric based on query length.\n",
    "\n",
    "    Args:\n",
    "        query: The input query\n",
    "\n",
    "    Returns:\n",
    "        Accuracy score between 0 and 1\n",
    "    \"\"\"\n",
    "    return max(len(query) / 100.0, 1.0)"
   ]
  },
  {
   "cell_type": "markdown",
   "metadata": {},
   "source": [
    "## Create MetricConfig Objects with selector\n",
    "\n",
    "Evaluation configurations map OTel span attributes to metric function parameters. This effectively tells our custom metric what OTel spans to look for (query from) in the Snowflake event table, where spans emitted from the app should be uploaded to and ingested into.  \n",
    "\n",
    "\n",
    "Notice we define 2 configs using the same metric implementation `text2sql_quality`, but with different names so that it can be used in multiple places in the app flow."
   ]
  },
  {
   "cell_type": "code",
   "execution_count": null,
   "metadata": {},
   "outputs": [],
   "source": [
    "text2sql_config = MetricConfig(\n",
    "    metric_name=\"text2sql_evaluation_v1\",  # Unique semantic identifier\n",
    "    metric_implementation=text2sql_quality,\n",
    "    metric_type=\"text2sql\",  # Implementation identifier\n",
    "    computation_type=\"client\",\n",
    "    description=\"Evaluates text-to-SQL conversion quality\",\n",
    "    selectors={\n",
    "        \"query\": Selector(  # Parameter name in the function\n",
    "            span_type=SpanAttributes.SpanType.RECORD_ROOT,\n",
    "            span_attribute=SpanAttributes.RECORD_ROOT.INPUT,\n",
    "        ),\n",
    "        \"sql\": Selector(  # Parameter name in the function\n",
    "            span_type=SpanAttributes.SpanType.RECORD_ROOT,\n",
    "            span_attribute=SpanAttributes.RECORD_ROOT.OUTPUT,\n",
    "        ),\n",
    "    },\n",
    ")\n",
    "\n",
    "accuracy_config = MetricConfig(\n",
    "    metric_name=\"query_length_accuracy_v1\",  # Unique semantic identifier\n",
    "    metric_implementation=custom_accuracy,\n",
    "    metric_type=\"accuracy\",  # Implementation identifier\n",
    "    computation_type=\"client\",\n",
    "    description=\"Custom accuracy based on query length\",\n",
    "    selectors={\n",
    "        \"query\": Selector(\n",
    "            span_type=SpanAttributes.SpanType.RECORD_ROOT,\n",
    "            span_attribute=SpanAttributes.RECORD_ROOT.INPUT,\n",
    "        ),\n",
    "    },\n",
    ")\n",
    "\n",
    "\n",
    "# Example: Using the same implementation with different configurations\n",
    "text2sql_config_v2 = MetricConfig(\n",
    "    metric_name=\"text2sql_evaluation_strict\",  # Different semantic identifier\n",
    "    metric_implementation=text2sql_quality,  # Same implementation\n",
    "    metric_type=\"text2sql\",  # Same implementation identifier\n",
    "    computation_type=\"client\",\n",
    "    description=\"Strict text-to-SQL evaluation with different thresholds\",\n",
    "    selectors={\n",
    "        \"query\": Selector(\n",
    "            span_type=SpanAttributes.SpanType.RECORD_ROOT,\n",
    "            span_attribute=SpanAttributes.RECORD_ROOT.INPUT,\n",
    "        ),\n",
    "        \"sql\": Selector(\n",
    "            span_type=SpanAttributes.SpanType.RECORD_ROOT,\n",
    "            span_attribute=SpanAttributes.RECORD_ROOT.OUTPUT,\n",
    "        ),\n",
    "    },\n",
    ")"
   ]
  },
  {
   "cell_type": "code",
   "execution_count": null,
   "metadata": {},
   "outputs": [],
   "source": [
    "# Create snowpark session.\n",
    "import os\n",
    "\n",
    "from snowflake.snowpark import Session\n",
    "from trulens.connectors.snowflake import SnowflakeConnector\n",
    "\n",
    "snowflake_connection_parameters = {\n",
    "    \"account\": os.environ[\"SNOWFLAKE_ACCOUNT\"],\n",
    "    \"user\": os.environ[\"SNOWFLAKE_USER\"],\n",
    "    \"password\": os.environ[\"SNOWFLAKE_USER_PASSWORD\"],\n",
    "    \"database\": os.environ[\"SNOWFLAKE_DATABASE\"],\n",
    "    \"schema\": os.environ[\"SNOWFLAKE_SCHEMA\"],\n",
    "    \"role\": os.environ[\"SNOWFLAKE_ROLE\"],\n",
    "    \"warehouse\": os.environ[\"SNOWFLAKE_WAREHOUSE\"],\n",
    "}\n",
    "snowpark_session = Session.builder.configs(\n",
    "    snowflake_connection_parameters\n",
    ").create()\n",
    "\n",
    "# TruSession is no longer required as long as snowflake connector exists\n",
    "sf_connector = SnowflakeConnector(snowpark_session=snowpark_session)"
   ]
  },
  {
   "cell_type": "code",
   "execution_count": null,
   "metadata": {},
   "outputs": [],
   "source": [
    "# Create TruLens instrumented app from custom app.\n",
    "import uuid\n",
    "\n",
    "APP_NAME = f\"{os.getlogin()} custom metrics client-side flow {uuid.uuid4()}\"\n",
    "APP_VERSION = \"V1\"\n",
    "\n",
    "app = Text2SQLApp()\n",
    "tru_app = TruApp(\n",
    "    app,\n",
    "    app_name=\"Text2SQLApp\",\n",
    "    app_version=\"v1\",\n",
    "    main_method=app.generate_sql,\n",
    "    connector=sf_connector,\n",
    ")\n",
    "\n",
    "metrics_to_compute = [\n",
    "    # Server-side metrics (strings)\n",
    "    \"answer_relevance\",\n",
    "    # Client-side metrics (MetricConfig objects)\n",
    "    text2sql_config,\n",
    "    accuracy_config,\n",
    "    text2sql_config_v2,  # Same implementation, different configuration\n",
    "]"
   ]
  },
  {
   "cell_type": "code",
   "execution_count": null,
   "metadata": {},
   "outputs": [],
   "source": [
    "import pandas as pd\n",
    "\n",
    "test_data_entries = {\"query\": [\"select * from users\", \"select * from orders\"]}\n",
    "\n",
    "\n",
    "user_input_data_df = pd.DataFrame(test_data_entries)"
   ]
  },
  {
   "cell_type": "code",
   "execution_count": null,
   "metadata": {},
   "outputs": [],
   "source": [
    "import uuid\n",
    "\n",
    "from trulens.core.run import Run\n",
    "\n",
    "run_name = f\"test_run_for_custom_metrics_{uuid.uuid4()}\"\n",
    "\n",
    "run_config = RunConfig(\n",
    "    run_name=run_name,\n",
    "    dataset_name=\"dummy_test_rag_set\",\n",
    "    source_type=\"DATAFRAME\",\n",
    "    dataset_spec={\"RECORD_ROOT.INPUT\": \"query\"},\n",
    ")\n",
    "\n",
    "run: Run = tru_app.add_run(run_config=run_config)"
   ]
  },
  {
   "cell_type": "code",
   "execution_count": null,
   "metadata": {},
   "outputs": [],
   "source": [
    "run.start(input_df=user_input_data_df)"
   ]
  },
  {
   "cell_type": "markdown",
   "metadata": {},
   "source": [
    "### Compute out-of-box metric (answer_relevance) and 2 custom metrics using Snowflake batch evaluation flow"
   ]
  },
  {
   "cell_type": "code",
   "execution_count": null,
   "metadata": {},
   "outputs": [],
   "source": [
    "import time\n",
    "\n",
    "while run.get_status() != \"INVOCATION_COMPLETED\":\n",
    "    time.sleep(3)\n",
    "\n",
    "run.compute_metrics(metrics_to_compute)"
   ]
  },
  {
   "cell_type": "code",
   "execution_count": null,
   "metadata": {},
   "outputs": [],
   "source": [
    "run.get_status()"
   ]
  }
 ],
 "metadata": {
  "kernelspec": {
   "display_name": "trulens",
   "language": "python",
   "name": "python3"
  },
  "language_info": {
   "codemirror_mode": {
    "name": "ipython",
    "version": 3
   },
   "file_extension": ".py",
   "mimetype": "text/x-python",
   "name": "python",
   "nbconvert_exporter": "python",
   "pygments_lexer": "ipython3"
  }
 },
 "nbformat": 4,
 "nbformat_minor": 2
}
