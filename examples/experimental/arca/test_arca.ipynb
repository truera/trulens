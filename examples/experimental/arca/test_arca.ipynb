{
 "cells": [
  {
   "cell_type": "markdown",
   "id": "a07c5795",
   "metadata": {},
   "source": [
    "# Testing and optimizing Cortex Agents with TruLens\n",
    "\n",
    "This notebook explores a selection of experiments for agent optimization. Code is experimental and may not be reliable. Proceed with caution.\n",
    "\n",
    "References:\n",
    "- Snowflake Documentation:\n",
    "    - [Cortex Agents](https://docs.snowflake.com/en/user-guide/snowflake-cortex/cortex-agents)\n",
    "    - [Configure and interact with Agents](https://docs.snowflake.com/en/user-guide/snowflake-cortex/cortex-agents-manage)\n",
    "    - [Monitor Cortex Agent requests](https://docs.snowflake.com/en/user-guide/snowflake-cortex/cortex-agents-monitor)\n",
    "    - [Cortex Agents tutorials](https://docs.snowflake.com/en/user-guide/snowflake-cortex/cortex-agents-tutorials)\n",
    "    - Cortex Agents REST API:\n",
    "        - [Agent Object](https://docs.snowflake.com/en/user-guide/snowflake-cortex/cortex-agents-rest-api)\n",
    "        - [Agent Run](https://docs.snowflake.com/en/user-guide/snowflake-cortex/cortex-agents-run)\n"
   ]
  },
  {
   "cell_type": "markdown",
   "id": "3cc1e10a",
   "metadata": {},
   "source": [
    "## Building Agents on Snowflake via the Cortex Agents REST API\n",
    "\n",
    "There are two primary methods to build an agent:"
   ]
  },
  {
   "cell_type": "markdown",
   "id": "a5e7759d",
   "metadata": {},
   "source": []
  }
 ],
 "metadata": {
  "language_info": {
   "name": "python"
  }
 },
 "nbformat": 4,
 "nbformat_minor": 5
}
