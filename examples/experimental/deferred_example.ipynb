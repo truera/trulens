{
 "cells": [
  {
   "cell_type": "markdown",
   "metadata": {},
   "source": [
    "# Deferred Feedback Evaluation\n",
    "\n",
    "Running feedback in \"deferred\" mode allows them to be computed by a separate process or even computer as long as it has access to the same database as the `TruSession` object. In this notebook we demonstrate how to set this up."
   ]
  },
  {
   "cell_type": "code",
   "execution_count": null,
   "metadata": {},
   "outputs": [],
   "source": [
    "from pathlib import Path\n",
    "import sys\n",
    "\n",
    "# Add base dir to path to be able to access test folder.\n",
    "base_dir = Path().cwd().parent.parent.resolve()\n",
    "if str(base_dir) not in sys.path:\n",
    "    print(f\"Adding {base_dir} to sys.path\")\n",
    "    sys.path.append(str(base_dir))"
   ]
  },
  {
   "cell_type": "code",
   "execution_count": null,
   "metadata": {},
   "outputs": [],
   "source": [
    "import numpy as np\n",
    "from trulens.apps.custom import TruCustomApp\n",
    "from trulens.core import Feedback\n",
    "from trulens.core import Select\n",
    "from trulens.core import TruSession\n",
    "from trulens.core.schema import FeedbackMode\n",
    "from trulens.core.utils.threading import TP\n",
    "from trulens.dashboard import run_dashboard\n",
    "from trulens.providers.huggingface.provider import Dummy\n",
    "\n",
    "from examples.dev.dummy_app.app import DummyApp\n",
    "\n",
    "tp = TP()\n",
    "\n",
    "d = Dummy(\n",
    "    loading_prob=0.0,\n",
    "    freeze_prob=0.0,\n",
    "    error_prob=0.0,\n",
    "    overloaded_prob=0.0,\n",
    "    rpm=6000,\n",
    ")\n",
    "\n",
    "session = TruSession()\n",
    "\n",
    "session.reset_database()\n",
    "\n",
    "run_dashboard(session, force=True)"
   ]
  },
  {
   "cell_type": "code",
   "execution_count": null,
   "metadata": {},
   "outputs": [],
   "source": [
    "# Set up some feedback functions based on the dummy provider as well as the\n",
    "# example dummy app.\n",
    "\n",
    "f_dummy_min = (\n",
    "    Feedback(\n",
    "        d.positive_sentiment,\n",
    "        name=\"min aggregate\",\n",
    "    )\n",
    "    .on(text=Select.Record.main_output[::20])\n",
    "    .aggregate(np.min)\n",
    ")\n",
    "\n",
    "f_dummy_max = (\n",
    "    Feedback(d.positive_sentiment, name=\"max aggregate\")\n",
    "    .on(text=Select.Record.main_output[::20])\n",
    "    .aggregate(np.max)\n",
    ")\n",
    "\n",
    "\n",
    "# Create custom app:\n",
    "ca = DummyApp()"
   ]
  },
  {
   "cell_type": "code",
   "execution_count": null,
   "metadata": {},
   "outputs": [],
   "source": [
    "# Create trulens wrapper with the previously defined feedback functions,\n",
    "# specifying `feedback_mode`.\n",
    "\n",
    "ta = TruCustomApp(\n",
    "    ca,\n",
    "    app_name=\"customapp\",\n",
    "    feedbacks=[f_dummy_min, f_dummy_max],\n",
    "    feedback_mode=FeedbackMode.DEFERRED,  # deferred feedback mode\n",
    ")"
   ]
  },
  {
   "cell_type": "code",
   "execution_count": null,
   "metadata": {},
   "outputs": [],
   "source": [
    "# Run the app. This will not produce any feedbacks but will add them to the\n",
    "# database for the deferred evaluator to run them later.\n",
    "\n",
    "with ta as recorder:\n",
    "    ca.respond_to_query(\"hello\")"
   ]
  },
  {
   "cell_type": "code",
   "execution_count": null,
   "metadata": {},
   "outputs": [],
   "source": [
    "# Start the deferred feedback evaluator. This is a non-blocking call. If you are\n",
    "# running this in a separate process, make sure you don't exit.\n",
    "session.start_evaluator(restart=True)"
   ]
  }
 ],
 "metadata": {
  "kernelspec": {
   "display_name": "py38_trulens",
   "language": "python",
   "name": "python3"
  },
  "language_info": {
   "codemirror_mode": {
    "name": "ipython",
    "version": 3
   },
   "file_extension": ".py",
   "mimetype": "text/x-python",
   "name": "python",
   "nbconvert_exporter": "python",
   "pygments_lexer": "ipython3"
  }
 },
 "nbformat": 4,
 "nbformat_minor": 2
}
