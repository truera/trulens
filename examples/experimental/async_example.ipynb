{
 "cells": [
  {
   "cell_type": "code",
   "execution_count": null,
   "metadata": {},
   "outputs": [],
   "source": [
    "import dotenv\n",
    "from langchain.prompts import PromptTemplate\n",
    "from langchain_core.output_parsers import StrOutputParser\n",
    "from langchain_openai.chat_models.base import ChatOpenAI\n",
    "from trulens.apps.langchain import TruChain\n",
    "\n",
    "dotenv.load_dotenv()\n",
    "\n",
    "# Create simple QA chain.\n",
    "prompt = PromptTemplate.from_template(\n",
    "    \"\"\"Honestly answer this question: {question}.\"\"\"\n",
    ")\n",
    "\n",
    "message = \"What is 1+2?\""
   ]
  },
  {
   "cell_type": "code",
   "execution_count": null,
   "metadata": {},
   "outputs": [],
   "source": [
    "# Get sync results.\n",
    "llm = ChatOpenAI(temperature=0.0)\n",
    "chain = prompt | llm | StrOutputParser()\n",
    "tc = TruChain(chain)\n",
    "sync_res, sync_record = tc.with_record(\n",
    "    tc.app.invoke, input=dict(question=message)\n",
    ")\n",
    "\n",
    "print(sync_res)\n",
    "print(sync_record)"
   ]
  },
  {
   "cell_type": "code",
   "execution_count": null,
   "metadata": {},
   "outputs": [],
   "source": [
    "# Get async results.\n",
    "llm = ChatOpenAI(temperature=0.0)\n",
    "chain = prompt | llm | StrOutputParser()\n",
    "tc = TruChain(chain)\n",
    "async_res, async_record = await tc.awith_record(\n",
    "    tc.app.ainvoke, input=dict(question=message)\n",
    ")\n",
    "\n",
    "print(async_res)\n",
    "print(async_record)"
   ]
  }
 ],
 "metadata": {
  "kernelspec": {
   "display_name": "trulens-Hw0Dq8Lu-py3.11",
   "language": "python",
   "name": "python3"
  },
  "language_info": {
   "codemirror_mode": {
    "name": "ipython",
    "version": 3
   },
   "file_extension": ".py",
   "mimetype": "text/x-python",
   "name": "python",
   "nbconvert_exporter": "python",
   "pygments_lexer": "ipython3"
  }
 },
 "nbformat": 4,
 "nbformat_minor": 2
}
