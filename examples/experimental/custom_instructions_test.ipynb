{
 "cells": [
  {
   "cell_type": "code",
   "execution_count": null,
   "id": "05d7f8c6",
   "metadata": {},
   "outputs": [],
   "source": [
    "from dotenv import load_dotenv\n",
    "from snowflake.snowpark import Session\n",
    "\n",
    "load_dotenv()\n",
    "\n",
    "# Create Snowpark Session\n",
    "snowflake_connection_parameters = {\n",
    "    \"account\": \"<ACCOUNT>\",\n",
    "    \"user\": \"<USER>\",\n",
    "    \"authenticator\": \"externalbrowser\",\n",
    "}\n",
    "snowpark_session = Session.builder.configs(\n",
    "    snowflake_connection_parameters\n",
    ").create()"
   ]
  },
  {
   "cell_type": "code",
   "execution_count": null,
   "id": "34d658f9",
   "metadata": {},
   "outputs": [],
   "source": [
    "from trulens.providers.cortex import Cortex\n",
    "\n",
    "cortex_provider = Cortex(\n",
    "    model_engine=\"claude-4-sonnet\", snowpark_session=snowpark_session\n",
    ")"
   ]
  },
  {
   "cell_type": "code",
   "execution_count": null,
   "id": "f2deff3c",
   "metadata": {},
   "outputs": [],
   "source": [
    "# Create feedback functions\n",
    "\n",
    "cortex_feedback_functions = {\n",
    "    \"Logical Consistency\": cortex_provider.logical_consistency_with_cot_reasons,\n",
    "    \"Execution Efficiency\": cortex_provider.execution_efficiency_with_cot_reasons,\n",
    "    \"Plan Adherence\": cortex_provider.plan_adherence_with_cot_reasons,\n",
    "    \"Plan Quality\": cortex_provider.plan_quality_with_cot_reasons,\n",
    "}\n",
    "\n",
    "for name in cortex_feedback_functions:\n",
    "    print(f\"- {name}\")"
   ]
  },
  {
   "cell_type": "code",
   "execution_count": null,
   "id": "fcb210da",
   "metadata": {},
   "outputs": [],
   "source": [
    "trace = \"\"\"1. User asked what are the three primary colors, 2. Agent first searched up colors of the rainbow, 3. Agent then searched up the three primary colors, 4. Agent then returned the three primary colors\"\"\""
   ]
  },
  {
   "cell_type": "markdown",
   "id": "cef34e83",
   "metadata": {},
   "source": [
    "## Cortex Provider (Claude-4-sonnet)"
   ]
  },
  {
   "cell_type": "code",
   "execution_count": null,
   "id": "1e23a589",
   "metadata": {},
   "outputs": [],
   "source": [
    "# Out of box execution efficiency feedback\n",
    "execution_efficiency_feedback = (\n",
    "    cortex_provider.execution_efficiency_with_cot_reasons(trace)\n",
    ")\n",
    "print(execution_efficiency_feedback)"
   ]
  },
  {
   "cell_type": "code",
   "execution_count": null,
   "id": "49366150",
   "metadata": {},
   "outputs": [],
   "source": [
    "# Out of box execution efficiency feedback with additional custom instruction\n",
    "custom_execution_trace_feedback = (\n",
    "    cortex_provider.execution_efficiency_with_cot_reasons(\n",
    "        trace, custom_instructions=\"Ignore the second step in the trace.\"\n",
    "    )\n",
    ")\n",
    "print(custom_execution_trace_feedback)"
   ]
  },
  {
   "cell_type": "code",
   "execution_count": null,
   "id": "0eed6a92",
   "metadata": {},
   "outputs": [],
   "source": [
    "# Override execution efficiency feedback criteria and add additional custom instruction\n",
    "criteria_override_execution_efficiency_feedback = (\n",
    "    cortex_provider.execution_efficiency_with_cot_reasons(\n",
    "        trace,\n",
    "        criteria=\"Judge how detailed the trace is.\",\n",
    "        custom_instructions=\"Ignore the second step in the trace.\",\n",
    "    )\n",
    ")\n",
    "print(criteria_override_execution_efficiency_feedback)"
   ]
  }
 ],
 "metadata": {
  "kernelspec": {
   "display_name": "trulens",
   "language": "python",
   "name": "python3"
  },
  "language_info": {
   "codemirror_mode": {
    "name": "ipython",
    "version": 3
   },
   "file_extension": ".py",
   "mimetype": "text/x-python",
   "name": "python",
   "nbconvert_exporter": "python",
   "pygments_lexer": "ipython3"
  }
 },
 "nbformat": 4,
 "nbformat_minor": 5
}
