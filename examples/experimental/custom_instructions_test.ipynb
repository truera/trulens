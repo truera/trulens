{
 "cells": [
  {
   "cell_type": "markdown",
   "id": "bfb98a0e",
   "metadata": {},
   "source": [
    "## How to Use Custom Instructions with Trulens Feedback Functions\n",
    "\n",
    "All Trulens feedback functions are customizable: 1. you can use the out-of-box feedback function, 2. use \"criteria\" to override the LLM-judge's evaluation criteria, and 3. use \"custom_instructions\" to add additional instructions (specific to your data) as context for the LLM-judge. "
   ]
  },
  {
   "cell_type": "markdown",
   "id": "68f300a4",
   "metadata": {},
   "source": [
    "## Set Up Environment"
   ]
  },
  {
   "cell_type": "code",
   "execution_count": null,
   "id": "1e507eee",
   "metadata": {},
   "outputs": [],
   "source": [
    "import os\n",
    "\n",
    "# from snowflake.snowpark import Session\n",
    "# from trulens.connectors.snowflake import SnowflakeConnector\n",
    "\n",
    "# Set to 1 to track tracing\n",
    "os.environ[\"TRULENS_OTEL_TRACING\"] = \"1\"\n",
    "\n",
    "# os.environ[\"SNOWFLAKE_ACCOUNT\"] = \"...\"\n",
    "# os.environ[\"SNOWFLAKE_USER\"] = \"...\"\n",
    "# os.environ[\"SNOWFLAKE_USER_PASSWORD\"] = \"...\"\n",
    "# os.environ[\"SNOWFLAKE_DATABASE\"] = \"...\"\n",
    "# os.environ[\"SNOWFLAKE_SCHEMA\"] = \"...\"\n",
    "# os.environ[\"SNOWFLAKE_WAREHOUSE\"] = \"...\"\n",
    "# os.environ[\"SNOWFLAKE_ROLE\"] = \"...\"\n",
    "\n",
    "# snowflake_connection_parameters = {\n",
    "#     \"account\": os.environ[\"SNOWFLAKE_ACCOUNT\"],\n",
    "#     \"user\": os.environ[\"SNOWFLAKE_USER\"],\n",
    "#     \"password\": os.environ[\"SNOWFLAKE_USER_PASSWORD\"],\n",
    "#     \"database\": os.environ[\"SNOWFLAKE_DATABASE\"],\n",
    "#     \"schema\": os.environ[\"SNOWFLAKE_SCHEMA\"],\n",
    "#     \"role\": os.environ[\"SNOWFLAKE_ROLE\"],\n",
    "#     \"warehouse\": os.environ[\"SNOWFLAKE_WAREHOUSE\"],\n",
    "# }\n",
    "# snowpark_session = Session.builder.configs(\n",
    "#     snowflake_connection_parameters\n",
    "# ).create()\n",
    "\n",
    "# # TruSession is no longer required as long as snowflake connector exists\n",
    "# sf_connector = SnowflakeConnector(snowpark_session=snowpark_session)"
   ]
  },
  {
   "cell_type": "code",
   "execution_count": null,
   "id": "05d7f8c6",
   "metadata": {},
   "outputs": [],
   "source": [
    "import os\n",
    "\n",
    "from dotenv import load_dotenv\n",
    "from snowflake.snowpark import Session\n",
    "\n",
    "load_dotenv()\n",
    "\n",
    "os.environ[\"TRULENS_OTEL_TRACING\"] = \"1\"\n",
    "\n",
    "# # Set up the OpenAI API key.\n",
    "# if \"OPENAI_API_KEY\" not in os.environ:\n",
    "#     # Set your OpenAI API key as an environment variable or .env file.\n",
    "#     # Alternatively, you can set it directly in the code here:\n",
    "#     os.environ[\"OPENAI_API_KEY\"] = \"sk-proj-...\"\n",
    "\n",
    "# Create Snowpark Session\n",
    "snowflake_connection_parameters = {\n",
    "    \"account\": \"SNOWHOUSE\",\n",
    "    \"user\": \"ajia\",\n",
    "    \"authenticator\": \"externalbrowser\",\n",
    "}\n",
    "snowpark_session = Session.builder.configs(\n",
    "    snowflake_connection_parameters\n",
    ").create()"
   ]
  },
  {
   "cell_type": "code",
   "execution_count": null,
   "id": "34d658f9",
   "metadata": {},
   "outputs": [],
   "source": [
    "from trulens.providers.cortex import Cortex\n",
    "\n",
    "provider = Cortex(\n",
    "    model_engine=\"claude-4-sonnet\", snowpark_session=snowpark_session\n",
    ")"
   ]
  },
  {
   "cell_type": "code",
   "execution_count": null,
   "id": "b33f29a8",
   "metadata": {},
   "outputs": [],
   "source": [
    "from trulens.core import TruSession\n",
    "\n",
    "session = TruSession()\n",
    "session.reset_database()"
   ]
  },
  {
   "cell_type": "markdown",
   "id": "2402d043",
   "metadata": {},
   "source": [
    "## Create Toy Trace Class"
   ]
  },
  {
   "cell_type": "code",
   "execution_count": null,
   "id": "16617943",
   "metadata": {},
   "outputs": [],
   "source": [
    "from trulens.core.otel.instrument import instrument\n",
    "\n",
    "\n",
    "class ToyTrace:\n",
    "    def __init__(self, trace):\n",
    "        self.trace = trace\n",
    "\n",
    "    @instrument()\n",
    "    def query(self, query: str) -> str:\n",
    "        return self.trace"
   ]
  },
  {
   "cell_type": "markdown",
   "id": "f98aa903",
   "metadata": {},
   "source": [
    "## Create Feedback Functions"
   ]
  },
  {
   "cell_type": "code",
   "execution_count": null,
   "id": "2e984552",
   "metadata": {},
   "outputs": [],
   "source": [
    "from trulens.core import Feedback\n",
    "from trulens.core.feedback.selector import Selector\n",
    "\n",
    "# Define out of the box execution efficiency feedback function\n",
    "f_execution_efficiency = Feedback(\n",
    "    provider.execution_efficiency_with_cot_reasons, name=\"Execution Efficiency\"\n",
    ").on({\"trace\": Selector(trace_level=True)})\n",
    "\n",
    "# Define execution efficiency feedback function with additional custom instructions\n",
    "f_execution_efficiency_custom_instructions = Feedback(\n",
    "    provider.execution_efficiency_with_cot_reasons,\n",
    "    name=\"Execution Efficiency with custom instructions\",\n",
    "    custom_instructions=\"CRITICAL: Ignore the second step in the trace!\",\n",
    ").on({\"trace\": Selector(trace_level=True)})\n",
    "\n",
    "# Define execution efficiency feedback function with criteria override\n",
    "f_execution_efficiency_criteria_override = Feedback(\n",
    "    provider.execution_efficiency_with_cot_reasons,\n",
    "    name=\"Execution Efficiency with criteria override\",\n",
    "    criteria=\"Judge how detailed the trace is.\",\n",
    ").on({\"trace\": Selector(trace_level=True)})\n",
    "\n",
    "# Define execution efficiency feedback function with criteria override and custom instructions\n",
    "f_execution_efficiency_criteria_override_custom_instructions = Feedback(\n",
    "    provider.execution_efficiency_with_cot_reasons,\n",
    "    name=\"Execution Efficiency with criteria override and custom instructions\",\n",
    "    criteria=\"Judge how detailed the trace is.\",\n",
    "    custom_instructions=\"CRITICAL: Ignore the second step in the trace!\",\n",
    ").on({\"trace\": Selector(trace_level=True)})"
   ]
  },
  {
   "cell_type": "code",
   "execution_count": null,
   "id": "ec12ebcd",
   "metadata": {},
   "outputs": [],
   "source": [
    "print(f_execution_efficiency.name)  # Should print: \"Execution Efficiency\"\n",
    "print(\n",
    "    f_execution_efficiency.supplied_name\n",
    ")  # Should print: \"Execution Efficiency\"\n",
    "print(f_execution_efficiency.imp.__name__)  # Should print the function name"
   ]
  },
  {
   "cell_type": "markdown",
   "id": "785c2c85",
   "metadata": {},
   "source": [
    "## Construct the App"
   ]
  },
  {
   "cell_type": "code",
   "execution_count": null,
   "id": "46887af5",
   "metadata": {},
   "outputs": [],
   "source": [
    "from trulens.apps.app import TruApp\n",
    "\n",
    "trace = ToyTrace(\n",
    "    trace=\"1. User asked what are the three primary colors, 2. Agent first searched up colors of the rainbow, 3. Agent then searched up the three primary colors, 4. Agent then returned the three primary colors\"\n",
    ")\n",
    "\n",
    "tru_trace = TruApp(\n",
    "    trace,\n",
    "    app_name=\"OTEL-TRACE\",\n",
    "    app_version=\"4.1-mini\",\n",
    "    feedbacks=[\n",
    "        f_execution_efficiency,\n",
    "        f_execution_efficiency_custom_instructions,\n",
    "        f_execution_efficiency_criteria_override,\n",
    "        f_execution_efficiency_criteria_override_custom_instructions,\n",
    "    ],\n",
    ")"
   ]
  },
  {
   "cell_type": "markdown",
   "id": "d36fbca7",
   "metadata": {},
   "source": [
    "## Run the App"
   ]
  },
  {
   "cell_type": "code",
   "execution_count": null,
   "id": "c930d7e8",
   "metadata": {},
   "outputs": [],
   "source": [
    "with tru_trace as recording:\n",
    "    trace.query(\"What are the 3 primary colors?\")"
   ]
  },
  {
   "cell_type": "markdown",
   "id": "aed2f4a0",
   "metadata": {},
   "source": [
    "## Check Results"
   ]
  },
  {
   "cell_type": "code",
   "execution_count": null,
   "id": "013bc812",
   "metadata": {},
   "outputs": [],
   "source": [
    "session.get_leaderboard()"
   ]
  },
  {
   "cell_type": "code",
   "execution_count": null,
   "id": "2a09c495",
   "metadata": {},
   "outputs": [],
   "source": [
    "from trulens.dashboard import run_dashboard\n",
    "\n",
    "run_dashboard(session)"
   ]
  },
  {
   "cell_type": "code",
   "execution_count": null,
   "id": "2ec3e536",
   "metadata": {},
   "outputs": [],
   "source": [
    "recording.retrieve_feedback_results()"
   ]
  },
  {
   "cell_type": "markdown",
   "id": "cfbad829",
   "metadata": {},
   "source": [
    "![Results](../../results.png)"
   ]
  }
 ],
 "metadata": {
  "kernelspec": {
   "display_name": "trulens",
   "language": "python",
   "name": "python3"
  },
  "language_info": {
   "codemirror_mode": {
    "name": "ipython",
    "version": 3
   },
   "file_extension": ".py",
   "mimetype": "text/x-python",
   "name": "python",
   "nbconvert_exporter": "python",
   "pygments_lexer": "ipython3"
  }
 },
 "nbformat": 4,
 "nbformat_minor": 5
}
