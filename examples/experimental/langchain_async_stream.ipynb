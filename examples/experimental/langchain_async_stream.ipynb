{
 "cells": [
  {
   "cell_type": "code",
   "execution_count": null,
   "metadata": {},
   "outputs": [],
   "source": [
    "import dotenv\n",
    "from langchain.prompts import PromptTemplate\n",
    "from langchain_core.output_parsers import StrOutputParser\n",
    "from langchain_openai.chat_models.base import ChatOpenAI\n",
    "from trulens.apps.langchain import TruChain\n",
    "\n",
    "dotenv.load_dotenv()\n",
    "\n",
    "# Create simple QA chain.\n",
    "prompt = PromptTemplate.from_template(\n",
    "    \"\"\"Honestly answer this question: {question}.\"\"\"\n",
    ")\n",
    "\n",
    "message = \"What is 1+2?\""
   ]
  },
  {
   "cell_type": "markdown",
   "metadata": {},
   "source": [
    "## Synchronous"
   ]
  },
  {
   "cell_type": "code",
   "execution_count": null,
   "metadata": {},
   "outputs": [],
   "source": [
    "# Get sync results.\n",
    "llm = ChatOpenAI(temperature=0.0)\n",
    "chain = prompt | llm | StrOutputParser()\n",
    "tc = TruChain(chain)\n",
    "with tc as recorder:\n",
    "    result = tc.app.invoke(input=dict(question=message))\n",
    "record = recorder.get()\n",
    "\n",
    "print(result)\n",
    "print(record.main_output)\n",
    "print(record)\n",
    "print(record.cost)"
   ]
  },
  {
   "cell_type": "markdown",
   "metadata": {},
   "source": [
    "## Asynchronous"
   ]
  },
  {
   "cell_type": "code",
   "execution_count": null,
   "metadata": {},
   "outputs": [],
   "source": [
    "llm = ChatOpenAI(temperature=0.0)\n",
    "chain = prompt | llm | StrOutputParser()\n",
    "tc = TruChain(chain)\n",
    "async with tc as recorder:\n",
    "    result = await tc.app.ainvoke(input=dict(question=message))\n",
    "record = recorder.get()\n",
    "\n",
    "print(result)\n",
    "print(record.main_output)\n",
    "print(record)\n",
    "print(record.cost)"
   ]
  },
  {
   "cell_type": "markdown",
   "metadata": {},
   "source": [
    "## Stream"
   ]
  },
  {
   "cell_type": "code",
   "execution_count": null,
   "metadata": {},
   "outputs": [],
   "source": [
    "llm = ChatOpenAI(temperature=0.0, streaming=True)\n",
    "agent = prompt | llm | StrOutputParser()\n",
    "agent_recorder = TruChain(agent)\n",
    "\n",
    "result = \"\"\n",
    "with agent_recorder as recording:\n",
    "    for chunk in agent.stream(input=dict(question=message)):\n",
    "        result += chunk\n",
    "\n",
    "record = recording.get()\n",
    "\n",
    "print(result)\n",
    "print(record.main_output)\n",
    "print(record)\n",
    "print(record.cost)"
   ]
  },
  {
   "cell_type": "markdown",
   "metadata": {},
   "source": [
    "## Asynchronous Stream"
   ]
  },
  {
   "cell_type": "code",
   "execution_count": null,
   "metadata": {},
   "outputs": [],
   "source": [
    "llm = ChatOpenAI(temperature=0.0, streaming=True)\n",
    "agent = prompt | llm | StrOutputParser()\n",
    "agent_recorder = TruChain(agent)\n",
    "\n",
    "result = \"\"\n",
    "async with agent_recorder as recording:\n",
    "    async for chunk in agent.astream(input=dict(question=message)):\n",
    "        result += chunk\n",
    "\n",
    "record = recording.get()\n",
    "\n",
    "print(result)\n",
    "print(record.main_output)\n",
    "print(record)\n",
    "print(record.cost)"
   ]
  }
 ],
 "metadata": {
  "kernelspec": {
   "display_name": "trulens-Hw0Dq8Lu-py3.11",
   "language": "python",
   "name": "python3"
  },
  "language_info": {
   "codemirror_mode": {
    "name": "ipython",
    "version": 3
   },
   "file_extension": ".py",
   "mimetype": "text/x-python",
   "name": "python",
   "nbconvert_exporter": "python",
   "pygments_lexer": "ipython3"
  }
 },
 "nbformat": 4,
 "nbformat_minor": 2
}
