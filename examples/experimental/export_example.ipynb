{
 "cells": [
  {
   "cell_type": "markdown",
   "metadata": {},
   "source": [
    "# Trace Exporting Example"
   ]
  },
  {
   "cell_type": "code",
   "execution_count": null,
   "metadata": {},
   "outputs": [],
   "source": [
    "import os\n",
    "\n",
    "# This is needed due to zipkin issues related to protobuf.\n",
    "os.environ[\"PROTOCOL_BUFFERS_PYTHON_IMPLEMENTATION\"] = \"python\"\n",
    "\n",
    "# This is needed because examples don't get installed with packages.\n",
    "import sys\n",
    "\n",
    "if \"../..\" not in sys.path:\n",
    "    sys.path.append(\"../..\")\n",
    "\n",
    "# Install zipkin python package:\n",
    "# ! pip install opentelemetry-exporter-zipkin-proto-http\n",
    "\n",
    "# Start the zipkin docker container:\n",
    "# ! docker run --rm -d -p 9411:9411 --name zipkin openzipkin/zipkin\n",
    "\n",
    "# Stop the zipkin docker container:\n",
    "# ! docker stop $(docker ps -a -q --filter ancestor=openzipkin/zipkin)"
   ]
  },
  {
   "cell_type": "code",
   "execution_count": null,
   "metadata": {},
   "outputs": [],
   "source": [
    "from trulens.core.app.custom import TruCustomApp\n",
    "from trulens.core.tru import Tru\n",
    "from trulens.dashboard import run_dashboard\n",
    "from trulens.feedback.dummy.endpoint import DummyEndpoint\n",
    "\n",
    "from examples.dev.dummy_app.app import DummyApp\n",
    "\n",
    "Tru().enable_feature(\"otel_tracing\")\n",
    "\n",
    "# Need to create dummy endpont for the instrumentation of the DummyAPI to\n",
    "# happen.\n",
    "\n",
    "DummyEndpoint()\n",
    "\n",
    "tru = Tru(\n",
    "    # _experimental_otel_exporter=ZipkinExporter(\n",
    "    #    endpoint=\"http://localhost:9411/api/v2/spans\"\n",
    "    # )\n",
    ")\n",
    "\n",
    "tru.reset_database()\n",
    "\n",
    "run_dashboard(force=True, port=8080)"
   ]
  },
  {
   "cell_type": "code",
   "execution_count": null,
   "metadata": {},
   "outputs": [],
   "source": [
    "# Create custom app:\n",
    "ca = DummyApp()\n",
    "\n",
    "# Create trulens wrapper:\n",
    "ta = TruCustomApp(\n",
    "    ca,\n",
    "    app_id=\"customapp\",\n",
    ")"
   ]
  },
  {
   "cell_type": "code",
   "execution_count": null,
   "metadata": {},
   "outputs": [],
   "source": [
    "# Nested context managers.\n",
    "with ta as recorder1:\n",
    "    ca.llm.generate(\"this is the outer memory remember\")\n",
    "    with ta as recorder2:\n",
    "        ca.memory.remember(\"this is the inner memory remember\")\n",
    "        ca.respond_to_query(\"hello\")"
   ]
  },
  {
   "cell_type": "code",
   "execution_count": null,
   "metadata": {},
   "outputs": [],
   "source": [
    "from trulens.core.trace import get_tracer"
   ]
  },
  {
   "cell_type": "code",
   "execution_count": null,
   "metadata": {},
   "outputs": [],
   "source": [
    "get_tracer().spans"
   ]
  },
  {
   "cell_type": "code",
   "execution_count": null,
   "metadata": {},
   "outputs": [],
   "source": [
    "recorder1.records"
   ]
  }
 ],
 "metadata": {
  "kernelspec": {
   "display_name": "py312",
   "language": "python",
   "name": "python3"
  },
  "language_info": {
   "codemirror_mode": {
    "name": "ipython",
    "version": 3
   },
   "file_extension": ".py",
   "mimetype": "text/x-python",
   "name": "python",
   "nbconvert_exporter": "python",
   "pygments_lexer": "ipython3"
  }
 },
 "nbformat": 4,
 "nbformat_minor": 2
}
