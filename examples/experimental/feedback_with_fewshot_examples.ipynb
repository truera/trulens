{
 "cells": [
  {
   "cell_type": "markdown",
   "metadata": {},
   "source": [
    "# Feedback with Fewshot Examples\n",
    "\n",
    "Currently scoped to relevance and context relevance.\n",
    "\n",
    "To use, create a list of tuples with examples of the feedback function performance (i.e. human labels), and then pass the list to the Feedback constructor.\n",
    "\n",
    "Then, the feedback function will be guided by your examples when it generates a score."
   ]
  },
  {
   "cell_type": "markdown",
   "metadata": {},
   "source": [
    "## Here's a base example to prove the value\n",
    "\n",
    "Consider you are building a chatbot to answer questions for early entrpreneurs. You want to place a particular emphasis on providing mentorship.\n",
    "\n",
    "However as we see below, the out-of-the-box relevance function doesn't recognize this as a relevant response."
   ]
  },
  {
   "cell_type": "code",
   "execution_count": null,
   "metadata": {},
   "outputs": [],
   "source": [
    "from trulens.core import Feedback\n",
    "from trulens.providers.openai import OpenAI\n",
    "\n",
    "provider = OpenAI(model_engine=\"gpt-4o\")\n",
    "\n",
    "f_answer_relevance = Feedback(provider.relevance, name=\"Answer Relevance\")"
   ]
  },
  {
   "cell_type": "code",
   "execution_count": null,
   "metadata": {},
   "outputs": [],
   "source": [
    "f_answer_relevance(\n",
    "    \"What are the key considerations when starting a small business?\",\n",
    "    \"Find a mentor who can guide you through the early stages and help you navigate common challenges.\",\n",
    ")"
   ]
  },
  {
   "cell_type": "markdown",
   "metadata": {},
   "source": [
    "To guide the feedback function to produce aligned answers, we can add a single example showing that an answer based on mentorship should be scored highly."
   ]
  },
  {
   "cell_type": "code",
   "execution_count": null,
   "metadata": {},
   "outputs": [],
   "source": [
    "fewshot_relevance_examples_list = [\n",
    "    (\n",
    "        {\n",
    "            \"query\": \"What are the key considerations when starting a small business?\",\n",
    "            \"response\": \"You should focus on building relationships with mentors and industry leaders. Networking can provide insights, open doors to opportunities, and help you avoid common pitfalls.\",\n",
    "        },\n",
    "        3,\n",
    "    ),\n",
    "]"
   ]
  },
  {
   "cell_type": "code",
   "execution_count": null,
   "metadata": {},
   "outputs": [],
   "source": [
    "f_answer_relevance_with_examples = Feedback(\n",
    "    provider.relevance,\n",
    "    name=\"Answer Relevance\",\n",
    "    examples=fewshot_relevance_examples_list,\n",
    ")"
   ]
  },
  {
   "cell_type": "code",
   "execution_count": null,
   "metadata": {},
   "outputs": [],
   "source": [
    "f_answer_relevance_with_examples(\n",
    "    \"What are the key considerations when starting a small business?\",\n",
    "    \"Find a mentor who can guide you through the early stages and help you navigate common challenges.\",\n",
    ")"
   ]
  },
  {
   "cell_type": "markdown",
   "metadata": {},
   "source": [
    "Now, even with a single example the feedback function recognizes this response as relevant.\n",
    "\n",
    "We can also add more examples, shown  below:"
   ]
  },
  {
   "cell_type": "code",
   "execution_count": null,
   "metadata": {},
   "outputs": [],
   "source": [
    "fewshot_relevance_examples_list = [\n",
    "    (\n",
    "        {\n",
    "            \"query\": \"What are the key considerations when starting a small business?\",\n",
    "            \"response\": \"You should focus on building relationships with mentors and industry leaders. Networking can provide insights, open doors to opportunities, and help you avoid common pitfalls.\",\n",
    "        },\n",
    "        3,\n",
    "    ),\n",
    "    (\n",
    "        {\n",
    "            \"query\": \"How can I improve my business's online presence?\",\n",
    "            \"response\": \"Invest in a professional website and utilize social media platforms to engage with your audience. Consistent branding and regular updates can help build a strong online presence.\",\n",
    "        },\n",
    "        3,\n",
    "    ),\n",
    "    (\n",
    "        {\n",
    "            \"query\": \"What are some effective marketing strategies for small businesses?\",\n",
    "            \"response\": \"Put flashy banners on your website and spam your customers with emails.\",\n",
    "        },\n",
    "        0,\n",
    "    ),\n",
    "]"
   ]
  },
  {
   "cell_type": "code",
   "execution_count": null,
   "metadata": {},
   "outputs": [],
   "source": [
    "f_answer_relevance_with_examples = Feedback(\n",
    "    provider.relevance,\n",
    "    name=\"Answer Relevance\",\n",
    "    examples=fewshot_relevance_examples_list,\n",
    ")"
   ]
  },
  {
   "cell_type": "code",
   "execution_count": null,
   "metadata": {},
   "outputs": [],
   "source": [
    "f_answer_relevance_with_examples(\n",
    "    \"What are the key considerations when starting a small business?\",\n",
    "    \"Find a mentor who can guide you through the early stages and help you navigate common challenges.\",\n",
    ")"
   ]
  }
 ],
 "metadata": {
  "kernelspec": {
   "display_name": "streamlit_trulens_demo",
   "language": "python",
   "name": "python3"
  },
  "language_info": {
   "codemirror_mode": {
    "name": "ipython",
    "version": 3
   },
   "file_extension": ".py",
   "mimetype": "text/x-python",
   "name": "python",
   "nbconvert_exporter": "python",
   "pygments_lexer": "ipython3"
  }
 },
 "nbformat": 4,
 "nbformat_minor": 2
}
