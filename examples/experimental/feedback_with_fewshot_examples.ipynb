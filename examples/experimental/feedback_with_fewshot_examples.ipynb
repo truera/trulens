{
 "cells": [
  {
   "cell_type": "markdown",
   "metadata": {},
   "source": [
    "# Feedback with Fewshot Examples"
   ]
  },
  {
   "cell_type": "code",
   "execution_count": null,
   "metadata": {},
   "outputs": [],
   "source": [
    "from trulens.core import Feedback\n",
    "from trulens.providers.openai import OpenAI\n",
    "\n",
    "provider = OpenAI(model_engine=\"gpt-4o\")\n",
    "\n",
    "f_answer_relevance = Feedback(provider.relevance, name=\"Answer Relevance\")"
   ]
  },
  {
   "cell_type": "code",
   "execution_count": null,
   "metadata": {},
   "outputs": [],
   "source": [
    "f_answer_relevance(\n",
    "    \"What are the key considerations when starting a small business?\",\n",
    "    \"Find a mentor who can guide you through the early stages and help you navigate common challenges.\",\n",
    ")"
   ]
  },
  {
   "cell_type": "code",
   "execution_count": null,
   "metadata": {},
   "outputs": [],
   "source": [
    "fewshot_relevance_examples_list = [\n",
    "    (\n",
    "        \"What are the key considerations when starting a small business?\",\n",
    "        \"Get enough sleep and manage your stress effectively to maintain focus and decision-making clarity.\",\n",
    "        3,\n",
    "    ),\n",
    "    (\n",
    "        \"What are the key considerations when starting a small business?\",\n",
    "        \"You should focus on building relationships with mentors and industry leaders. Networking can provide insights, open doors to opportunities, and help you avoid common pitfalls.\",\n",
    "        3,\n",
    "    ),\n",
    "    (\n",
    "        \"What are the key considerations when starting a small business?\",\n",
    "        \"Securing funding is crucial. Explore options like small business loans, venture capital, or bootstrapping, and ensure your finances are well-documented.\",\n",
    "        2,\n",
    "    ),\n",
    "    (\n",
    "        \"What are the key considerations when starting a small business?\",\n",
    "        \"Having a great logo and branding can make your business stand out and attract customers.\",\n",
    "        1,\n",
    "    ),\n",
    "    (\n",
    "        \"What are the key considerations when starting a small business?\",\n",
    "        \"Start by designing an app that looks visually appealing.\",\n",
    "        0,\n",
    "    ),\n",
    "]"
   ]
  },
  {
   "cell_type": "code",
   "execution_count": null,
   "metadata": {},
   "outputs": [],
   "source": [
    "f_answer_relevance_with_examples = Feedback(\n",
    "    provider.relevance,\n",
    "    name=\"Answer Relevance\",\n",
    "    examples=fewshot_relevance_examples_list,\n",
    ")"
   ]
  },
  {
   "cell_type": "code",
   "execution_count": null,
   "metadata": {},
   "outputs": [],
   "source": [
    "f_answer_relevance_with_examples.examples"
   ]
  },
  {
   "cell_type": "code",
   "execution_count": null,
   "metadata": {},
   "outputs": [],
   "source": [
    "f_answer_relevance_with_examples(\n",
    "    \"What are the key considerations when starting a small business?\",\n",
    "    \"Find a mentor who can guide you through the early stages and help you navigate common challenges.\",\n",
    ")"
   ]
  }
 ],
 "metadata": {
  "kernelspec": {
   "display_name": "streamlit_trulens_demo",
   "language": "python",
   "name": "python3"
  },
  "language_info": {
   "codemirror_mode": {
    "name": "ipython",
    "version": 3
   },
   "file_extension": ".py",
   "mimetype": "text/x-python",
   "name": "python",
   "nbconvert_exporter": "python",
   "pygments_lexer": "ipython3"
  }
 },
 "nbformat": 4,
 "nbformat_minor": 2
}
