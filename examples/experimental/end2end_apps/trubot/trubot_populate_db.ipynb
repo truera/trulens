{
 "cells": [
  {
   "attachments": {},
   "cell_type": "markdown",
   "metadata": {},
   "source": [
    "# TruBot Populate DB\n",
    "\n",
    "This notebook tests a conversation bot with vector-store context of TruEra website. The database is reset and several pre-defined queries are made to test the four chain variants."
   ]
  },
  {
   "cell_type": "code",
   "execution_count": null,
   "metadata": {},
   "outputs": [],
   "source": [
    "# Execute this cell if running from github repo.\n",
    "\n",
    "%load_ext autoreload\n",
    "%autoreload 2\n",
    "from pathlib import Path\n",
    "import sys\n",
    "\n",
    "sys.path.append(str(Path().cwd().parent.parent.parent.parent.resolve()))"
   ]
  },
  {
   "cell_type": "code",
   "execution_count": null,
   "metadata": {},
   "outputs": [],
   "source": [
    "from trulens.core.utils.keys import check_or_set_keys\n",
    "\n",
    "check_or_set_keys(\n",
    "    OPENAI_API_KEY=\"to fill in\",\n",
    "    HUGGINGFACE_API_KEY=\"to fill in\",\n",
    "    PINECONE_API_KEY=\"to fill in\",\n",
    "    PINECONE_ENV=\"to fill in\",\n",
    ")"
   ]
  },
  {
   "cell_type": "code",
   "execution_count": null,
   "metadata": {},
   "outputs": [],
   "source": [
    "from pprint import PrettyPrinter\n",
    "\n",
    "from trulens.core import TruSession\n",
    "from trulens.core.utils.threading import TP\n",
    "\n",
    "pp = PrettyPrinter()\n",
    "\n",
    "# Reset the database if needed:\n",
    "session = TruSession()\n",
    "session.reset_database()"
   ]
  },
  {
   "cell_type": "code",
   "execution_count": null,
   "metadata": {},
   "outputs": [],
   "source": [
    "from examples.expositional.end2end_apps.trubot.trubot import get_answer\n",
    "from examples.expositional.end2end_apps.trubot.trubot import get_or_make_app\n",
    "\n",
    "app = get_or_make_app(cid=None, selector=3)"
   ]
  },
  {
   "cell_type": "code",
   "execution_count": null,
   "metadata": {},
   "outputs": [],
   "source": [
    "# List the app components that got instrumented along with their categories.\n",
    "\n",
    "app.print_instrumented()"
   ]
  },
  {
   "cell_type": "code",
   "execution_count": null,
   "metadata": {},
   "outputs": [],
   "source": [
    "from trulens.dashboard import run_dashboard\n",
    "\n",
    "run_dashboard(session, force=True, _dev=Path.cwd().parent.parent.parent.parent)"
   ]
  },
  {
   "cell_type": "code",
   "execution_count": null,
   "metadata": {},
   "outputs": [],
   "source": [
    "from trulens.core.schema import FeedbackMode\n",
    "\n",
    "selectors = [0, 1, 3, 4]\n",
    "messages = [\n",
    "    \"Who is Shayak?\",\n",
    "    \"Wer ist Shayak?\",\n",
    "    \"Kim jest Shayak?\",\n",
    "    \"¿Quién es Shayak?\",\n",
    "    \"Was ist QII?\",\n",
    "    \"Co jest QII?\",\n",
    "]\n",
    "\n",
    "# Comment this out to run all chain variants and all test queries:\n",
    "selectors = selectors[0:1]\n",
    "messages = messages[0:1]\n",
    "\n",
    "\n",
    "def test_bot(selector, question):\n",
    "    print(selector, question)\n",
    "    app = get_or_make_app(\n",
    "        cid=question + str(selector),\n",
    "        selector=selector,\n",
    "        feedback_mode=FeedbackMode.DEFERRED,\n",
    "    )\n",
    "    answer = get_answer(app=app, question=question)\n",
    "    return answer\n",
    "\n",
    "\n",
    "results = []\n",
    "\n",
    "for s in selectors:\n",
    "    for m in messages:\n",
    "        results.append(TP().submit(test_bot, selector=s, question=m))"
   ]
  },
  {
   "cell_type": "code",
   "execution_count": null,
   "metadata": {},
   "outputs": [],
   "source": [
    "thread = TruSession().start_evaluator(restart=True)"
   ]
  }
 ],
 "metadata": {
  "kernelspec": {
   "display_name": "demo3",
   "language": "python",
   "name": "python3"
  },
  "language_info": {
   "codemirror_mode": {
    "name": "ipython",
    "version": 3
   },
   "file_extension": ".py",
   "mimetype": "text/x-python",
   "name": "python",
   "nbconvert_exporter": "python",
   "pygments_lexer": "ipython3"
  }
 },
 "nbformat": 4,
 "nbformat_minor": 2
}
